{
 "cells": [
  {
   "cell_type": "code",
   "execution_count": 1,
   "metadata": {},
   "outputs": [
    {
     "data": {
      "text/html": [
       "<style>.container { width:100% !important; }</style>"
      ],
      "text/plain": [
       "<IPython.core.display.HTML object>"
      ]
     },
     "metadata": {},
     "output_type": "display_data"
    }
   ],
   "source": [
    "from IPython.core.display import display, HTML\n",
    "display(HTML(\"<style>.container { width:100% !important; }</style>\"))"
   ]
  },
  {
   "cell_type": "markdown",
   "metadata": {},
   "source": [
    "#### This notebook was created to (a) assign lineage to each isolate via SNP-barcoding and (b) *re-filter* out SNPs with minor allele < 1 isolates"
   ]
  },
  {
   "cell_type": "code",
   "execution_count": 2,
   "metadata": {},
   "outputs": [],
   "source": [
    "import vcf\n",
    "\n",
    "%matplotlib inline\n",
    "import os\n",
    "import pandas as pd\n",
    "import numpy as np\n",
    "import matplotlib.pyplot as plt\n",
    "import matplotlib as mpl\n",
    "import matplotlib.ticker as ticker\n",
    "from itertools import compress\n",
    "from pylab import MaxNLocator\n",
    "import seaborn as sns; sns.set()\n",
    "from matplotlib.colors import LogNorm\n",
    "from matplotlib import gridspec\n",
    "import ast\n",
    "import itertools\n",
    "import seaborn as sns\n",
    "from sklearn.preprocessing import StandardScaler\n",
    "\n",
    "import fastcluster\n",
    "from sklearn import cluster, datasets\n",
    "import scipy.cluster.hierarchy as hier\n",
    "from sklearn.cluster import KMeans\n",
    "import time\n",
    "import sys\n",
    "import pickle\n",
    "\n",
    "import Bio\n",
    "from Bio.Alphabet import IUPAC\n",
    "from Bio.Blast.Applications import NcbiblastnCommandline\n",
    "from Bio.Blast import NCBIXML\n",
    "from Bio.Seq import Seq\n",
    "from Bio.SeqRecord import SeqRecord\n",
    "from Bio.SeqFeature import SeqFeature, FeatureLocation\n",
    "from Bio import pairwise2\n",
    "from Bio import SeqIO\n",
    "from Bio.Graphics import GenomeDiagram\n",
    "from Bio.SeqUtils import GC\n",
    "\n",
    "from Bio.Align.Applications import MuscleCommandline\n",
    "from StringIO import StringIO\n",
    "from Bio import AlignIO\n",
    "from Bio.Align import AlignInfo\n",
    "from Bio.Seq import MutableSeq\n",
    "import itertools\n",
    "import gzip\n",
    "\n",
    "import networkx as nx\n",
    "import scipy\n",
    "import random"
   ]
  },
  {
   "cell_type": "markdown",
   "metadata": {},
   "source": [
    "####################################################################################################################################################################################"
   ]
  },
  {
   "cell_type": "markdown",
   "metadata": {},
   "source": [
    "## [1] Load SNP genotype matrix and Annotation Files"
   ]
  },
  {
   "cell_type": "markdown",
   "metadata": {},
   "source": [
    "####################################################################################################################################################################################"
   ]
  },
  {
   "cell_type": "code",
   "execution_count": 3,
   "metadata": {},
   "outputs": [],
   "source": [
    "#load isolate annotation file (columns of Genotype Matrix)\n",
    "isolate_annotation_DF = pd.read_pickle('/n/data1/hms/dbmi/farhat/Roger/inhost_TB_dynamics_project/rolling_DB_scrape/Genotypes_Filtered/genotypes_isolate_annotation.pkl')\n",
    "\n",
    "#load SNP annotation file (rows of Genotype Matrix) with gene annotation information\n",
    "SNP_annotation_DF = pd.read_pickle('/n/data1/hms/dbmi/farhat/Roger/inhost_TB_dynamics_project/rolling_DB_scrape/Genotypes_Filtered/genotypes_SNP_annotation_with_gene_info.pkl')\n",
    "\n",
    "#load Genotypes Matrix\n",
    "genotypes_array =  np.load('/n/data1/hms/dbmi/farhat/Roger/inhost_TB_dynamics_project/rolling_DB_scrape/Genotypes_Filtered/genotypes_matrix.npy')"
   ]
  },
  {
   "cell_type": "markdown",
   "metadata": {},
   "source": [
    "Columns of Genotype Matrix"
   ]
  },
  {
   "cell_type": "code",
   "execution_count": 4,
   "metadata": {},
   "outputs": [
    {
     "data": {
      "text/plain": [
       "0    SAMEA3558733\n",
       "1    SAMN03648641\n",
       "2    SAMN03647419\n",
       "3    SAMEA3671418\n",
       "4    SAMN07659096\n",
       "dtype: object"
      ]
     },
     "execution_count": 4,
     "metadata": {},
     "output_type": "execute_result"
    }
   ],
   "source": [
    "isolate_annotation_DF.head()"
   ]
  },
  {
   "cell_type": "code",
   "execution_count": 5,
   "metadata": {},
   "outputs": [
    {
     "data": {
      "text/plain": [
       "(32355,)"
      ]
     },
     "execution_count": 5,
     "metadata": {},
     "output_type": "execute_result"
    }
   ],
   "source": [
    "np.shape(isolate_annotation_DF)"
   ]
  },
  {
   "cell_type": "markdown",
   "metadata": {},
   "source": [
    "Rows of Genotype Matrix"
   ]
  },
  {
   "cell_type": "code",
   "execution_count": 6,
   "metadata": {},
   "outputs": [
    {
     "data": {
      "text/html": [
       "<div>\n",
       "<style>\n",
       "    .dataframe thead tr:only-child th {\n",
       "        text-align: right;\n",
       "    }\n",
       "\n",
       "    .dataframe thead th {\n",
       "        text-align: left;\n",
       "    }\n",
       "\n",
       "    .dataframe tbody tr th {\n",
       "        vertical-align: top;\n",
       "    }\n",
       "</style>\n",
       "<table border=\"1\" class=\"dataframe\">\n",
       "  <thead>\n",
       "    <tr style=\"text-align: right;\">\n",
       "      <th></th>\n",
       "      <th>pos</th>\n",
       "      <th>ref</th>\n",
       "      <th>alt</th>\n",
       "      <th>gene_id</th>\n",
       "      <th>gene_pos</th>\n",
       "      <th>gene_category</th>\n",
       "      <th>gene_name</th>\n",
       "    </tr>\n",
       "  </thead>\n",
       "  <tbody>\n",
       "    <tr>\n",
       "      <th>0</th>\n",
       "      <td>29</td>\n",
       "      <td>C</td>\n",
       "      <td>[G]</td>\n",
       "      <td>[Rv0001]</td>\n",
       "      <td>[28]</td>\n",
       "      <td>[Essential]</td>\n",
       "      <td>[dnaA]</td>\n",
       "    </tr>\n",
       "    <tr>\n",
       "      <th>1</th>\n",
       "      <td>31</td>\n",
       "      <td>A</td>\n",
       "      <td>[C, G]</td>\n",
       "      <td>[Rv0001]</td>\n",
       "      <td>[30]</td>\n",
       "      <td>[Essential]</td>\n",
       "      <td>[dnaA]</td>\n",
       "    </tr>\n",
       "    <tr>\n",
       "      <th>2</th>\n",
       "      <td>48</td>\n",
       "      <td>C</td>\n",
       "      <td>[T]</td>\n",
       "      <td>[Rv0001]</td>\n",
       "      <td>[47]</td>\n",
       "      <td>[Essential]</td>\n",
       "      <td>[dnaA]</td>\n",
       "    </tr>\n",
       "    <tr>\n",
       "      <th>3</th>\n",
       "      <td>64</td>\n",
       "      <td>G</td>\n",
       "      <td>[C]</td>\n",
       "      <td>[Rv0001]</td>\n",
       "      <td>[63]</td>\n",
       "      <td>[Essential]</td>\n",
       "      <td>[dnaA]</td>\n",
       "    </tr>\n",
       "    <tr>\n",
       "      <th>4</th>\n",
       "      <td>71</td>\n",
       "      <td>C</td>\n",
       "      <td>[T]</td>\n",
       "      <td>[Rv0001]</td>\n",
       "      <td>[70]</td>\n",
       "      <td>[Essential]</td>\n",
       "      <td>[dnaA]</td>\n",
       "    </tr>\n",
       "  </tbody>\n",
       "</table>\n",
       "</div>"
      ],
      "text/plain": [
       "   pos ref     alt   gene_id gene_pos gene_category gene_name\n",
       "0   29   C     [G]  [Rv0001]     [28]   [Essential]    [dnaA]\n",
       "1   31   A  [C, G]  [Rv0001]     [30]   [Essential]    [dnaA]\n",
       "2   48   C     [T]  [Rv0001]     [47]   [Essential]    [dnaA]\n",
       "3   64   G     [C]  [Rv0001]     [63]   [Essential]    [dnaA]\n",
       "4   71   C     [T]  [Rv0001]     [70]   [Essential]    [dnaA]"
      ]
     },
     "execution_count": 6,
     "metadata": {},
     "output_type": "execute_result"
    }
   ],
   "source": [
    "SNP_annotation_DF.head()"
   ]
  },
  {
   "cell_type": "code",
   "execution_count": 7,
   "metadata": {},
   "outputs": [
    {
     "data": {
      "text/plain": [
       "(139797, 7)"
      ]
     },
     "execution_count": 7,
     "metadata": {},
     "output_type": "execute_result"
    }
   ],
   "source": [
    "np.shape(SNP_annotation_DF)"
   ]
  },
  {
   "cell_type": "markdown",
   "metadata": {},
   "source": [
    "Genotype Matrix"
   ]
  },
  {
   "cell_type": "code",
   "execution_count": 8,
   "metadata": {
    "scrolled": true
   },
   "outputs": [
    {
     "data": {
      "text/plain": [
       "array([[1, 9, 1, ..., 1, 1, 1],\n",
       "       [0, 0, 0, ..., 0, 0, 0],\n",
       "       [1, 1, 1, ..., 1, 1, 1],\n",
       "       ...,\n",
       "       [2, 9, 2, ..., 2, 2, 2],\n",
       "       [2, 9, 2, ..., 2, 2, 2],\n",
       "       [1, 9, 1, ..., 1, 1, 1]])"
      ]
     },
     "execution_count": 8,
     "metadata": {},
     "output_type": "execute_result"
    }
   ],
   "source": [
    "genotypes_array"
   ]
  },
  {
   "cell_type": "code",
   "execution_count": 9,
   "metadata": {},
   "outputs": [
    {
     "data": {
      "text/plain": [
       "(139797, 32355)"
      ]
     },
     "execution_count": 9,
     "metadata": {},
     "output_type": "execute_result"
    }
   ],
   "source": [
    "np.shape(genotypes_array)"
   ]
  },
  {
   "cell_type": "markdown",
   "metadata": {},
   "source": [
    "####################################################################################################################################################################################"
   ]
  },
  {
   "cell_type": "markdown",
   "metadata": {},
   "source": [
    "## [2] Import  62-SNP barcode"
   ]
  },
  {
   "cell_type": "markdown",
   "metadata": {},
   "source": [
    "####################################################################################################################################################################################"
   ]
  },
  {
   "cell_type": "markdown",
   "metadata": {},
   "source": [
    "#### Import 62-SNP barcode from Coll et. al. 2014"
   ]
  },
  {
   "cell_type": "code",
   "execution_count": 10,
   "metadata": {},
   "outputs": [],
   "source": [
    "all_barcode_diagnostic_SNPs = pd.read_csv('/n/data1/hms/dbmi/farhat/Roger/homoplasy_project/CSV_files/62_SNP_barcode_from_Coll_et_al.csv')\n",
    "\n",
    "#fix encoding issue\n",
    "all_barcode_diagnostic_SNPs.Position = all_barcode_diagnostic_SNPs.Position.str.strip().str.replace('\\xc2\\xa0','') #Position column\n",
    "all_barcode_diagnostic_SNPs.loc[: , 'Allele Change'] = all_barcode_diagnostic_SNPs.loc[: , 'Allele Change'].str.strip().str.replace('\\xc2\\xa0','') #Allele Change column\n",
    "all_barcode_diagnostic_SNPs.lineage = all_barcode_diagnostic_SNPs.lineage.str.strip().str.replace('\\xc2\\xa0','') #lineage column\n",
    "\n",
    "#reset index\n",
    "all_barcode_diagnostic_SNPs.reset_index(inplace = True , drop = True)"
   ]
  },
  {
   "cell_type": "code",
   "execution_count": 11,
   "metadata": {},
   "outputs": [
    {
     "data": {
      "text/html": [
       "<div>\n",
       "<style>\n",
       "    .dataframe thead tr:only-child th {\n",
       "        text-align: right;\n",
       "    }\n",
       "\n",
       "    .dataframe thead th {\n",
       "        text-align: left;\n",
       "    }\n",
       "\n",
       "    .dataframe tbody tr th {\n",
       "        vertical-align: top;\n",
       "    }\n",
       "</style>\n",
       "<table border=\"1\" class=\"dataframe\">\n",
       "  <thead>\n",
       "    <tr style=\"text-align: right;\">\n",
       "      <th></th>\n",
       "      <th>Global lineage</th>\n",
       "      <th>lineage</th>\n",
       "      <th>Position</th>\n",
       "      <th>Gene coord</th>\n",
       "      <th>Allele Change</th>\n",
       "      <th>Codon number</th>\n",
       "      <th>Codon change</th>\n",
       "      <th>Amino acid change</th>\n",
       "      <th>Locus Id</th>\n",
       "    </tr>\n",
       "  </thead>\n",
       "  <tbody>\n",
       "    <tr>\n",
       "      <th>0</th>\n",
       "      <td>1</td>\n",
       "      <td>lineage1</td>\n",
       "      <td>615938</td>\n",
       "      <td>1104</td>\n",
       "      <td>G/A</td>\n",
       "      <td>368</td>\n",
       "      <td>GAG/GAA</td>\n",
       "      <td>E/E</td>\n",
       "      <td>Rv0524</td>\n",
       "    </tr>\n",
       "    <tr>\n",
       "      <th>1</th>\n",
       "      <td>1</td>\n",
       "      <td>lineage1.1</td>\n",
       "      <td>4404247</td>\n",
       "      <td>1056</td>\n",
       "      <td>G/A</td>\n",
       "      <td>352</td>\n",
       "      <td>CTG/CTA</td>\n",
       "      <td>L/L</td>\n",
       "      <td>Rv3915</td>\n",
       "    </tr>\n",
       "    <tr>\n",
       "      <th>2</th>\n",
       "      <td>1</td>\n",
       "      <td>lineage1.1.1</td>\n",
       "      <td>3021283</td>\n",
       "      <td>711</td>\n",
       "      <td>G/A</td>\n",
       "      <td>237</td>\n",
       "      <td>CGG/CGA</td>\n",
       "      <td>R/R</td>\n",
       "      <td>Rv2707</td>\n",
       "    </tr>\n",
       "    <tr>\n",
       "      <th>3</th>\n",
       "      <td>1</td>\n",
       "      <td>lineage1.1.1.1</td>\n",
       "      <td>3216553</td>\n",
       "      <td>339</td>\n",
       "      <td>G/A</td>\n",
       "      <td>113</td>\n",
       "      <td>GTC/GTT</td>\n",
       "      <td>V/V</td>\n",
       "      <td>Rv2907c</td>\n",
       "    </tr>\n",
       "    <tr>\n",
       "      <th>4</th>\n",
       "      <td>1</td>\n",
       "      <td>lineage1.1.2</td>\n",
       "      <td>2622402</td>\n",
       "      <td>51</td>\n",
       "      <td>G/A</td>\n",
       "      <td>17</td>\n",
       "      <td>GCC/GCT</td>\n",
       "      <td>A/A</td>\n",
       "      <td>Rv2343c</td>\n",
       "    </tr>\n",
       "  </tbody>\n",
       "</table>\n",
       "</div>"
      ],
      "text/plain": [
       "  Global lineage         lineage Position Gene coord Allele Change  \\\n",
       "0              1        lineage1   615938      1104            G/A   \n",
       "1              1      lineage1.1  4404247      1056            G/A   \n",
       "2              1    lineage1.1.1  3021283       711            G/A   \n",
       "3              1  lineage1.1.1.1  3216553       339            G/A   \n",
       "4              1    lineage1.1.2  2622402        51            G/A   \n",
       "\n",
       "  Codon number Codon change Amino acid change  Locus Id  \n",
       "0         368      GAG/GAA               E/E    Rv0524   \n",
       "1         352      CTG/CTA               L/L    Rv3915   \n",
       "2         237      CGG/CGA               R/R    Rv2707   \n",
       "3         113      GTC/GTT               V/V   Rv2907c   \n",
       "4          17      GCC/GCT               A/A   Rv2343c   "
      ]
     },
     "execution_count": 11,
     "metadata": {},
     "output_type": "execute_result"
    }
   ],
   "source": [
    "all_barcode_diagnostic_SNPs.head()"
   ]
  },
  {
   "cell_type": "code",
   "execution_count": 12,
   "metadata": {},
   "outputs": [
    {
     "data": {
      "text/plain": [
       "(62, 9)"
      ]
     },
     "execution_count": 12,
     "metadata": {},
     "output_type": "execute_result"
    }
   ],
   "source": [
    "np.shape(all_barcode_diagnostic_SNPs)"
   ]
  },
  {
   "cell_type": "markdown",
   "metadata": {},
   "source": [
    "#### Subset DataFrame to SNPs that we have present in our Genotypes Matrix"
   ]
  },
  {
   "cell_type": "code",
   "execution_count": 13,
   "metadata": {},
   "outputs": [],
   "source": [
    "barcode_SNPs_in_Genotypes_Matrix = []\n",
    "\n",
    "#iterate through each of 62 SNPs and find which ones are present in our dataset\n",
    "for SNP_i in all_barcode_diagnostic_SNPs.index:\n",
    "    \n",
    "    if int( all_barcode_diagnostic_SNPs.loc[SNP_i , 'Position'] ) in list(SNP_annotation_DF.pos):\n",
    "        \n",
    "        barcode_SNPs_in_Genotypes_Matrix.append(SNP_i)\n",
    "\n",
    "#subset to SNPs that we have in Genotypes Matrix\n",
    "barcode_diagnostic_SNPs = all_barcode_diagnostic_SNPs.loc[barcode_SNPs_in_Genotypes_Matrix , :]     \n",
    "\n",
    "#convert Position column to 'int'\n",
    "barcode_diagnostic_SNPs.Position = barcode_diagnostic_SNPs.Position.apply(int)"
   ]
  },
  {
   "cell_type": "code",
   "execution_count": 14,
   "metadata": {},
   "outputs": [
    {
     "data": {
      "text/html": [
       "<div>\n",
       "<style>\n",
       "    .dataframe thead tr:only-child th {\n",
       "        text-align: right;\n",
       "    }\n",
       "\n",
       "    .dataframe thead th {\n",
       "        text-align: left;\n",
       "    }\n",
       "\n",
       "    .dataframe tbody tr th {\n",
       "        vertical-align: top;\n",
       "    }\n",
       "</style>\n",
       "<table border=\"1\" class=\"dataframe\">\n",
       "  <thead>\n",
       "    <tr style=\"text-align: right;\">\n",
       "      <th></th>\n",
       "      <th>Global lineage</th>\n",
       "      <th>lineage</th>\n",
       "      <th>Position</th>\n",
       "      <th>Gene coord</th>\n",
       "      <th>Allele Change</th>\n",
       "      <th>Codon number</th>\n",
       "      <th>Codon change</th>\n",
       "      <th>Amino acid change</th>\n",
       "      <th>Locus Id</th>\n",
       "    </tr>\n",
       "  </thead>\n",
       "  <tbody>\n",
       "    <tr>\n",
       "      <th>0</th>\n",
       "      <td>1</td>\n",
       "      <td>lineage1</td>\n",
       "      <td>615938</td>\n",
       "      <td>1104</td>\n",
       "      <td>G/A</td>\n",
       "      <td>368</td>\n",
       "      <td>GAG/GAA</td>\n",
       "      <td>E/E</td>\n",
       "      <td>Rv0524</td>\n",
       "    </tr>\n",
       "    <tr>\n",
       "      <th>1</th>\n",
       "      <td>1</td>\n",
       "      <td>lineage1.1</td>\n",
       "      <td>4404247</td>\n",
       "      <td>1056</td>\n",
       "      <td>G/A</td>\n",
       "      <td>352</td>\n",
       "      <td>CTG/CTA</td>\n",
       "      <td>L/L</td>\n",
       "      <td>Rv3915</td>\n",
       "    </tr>\n",
       "    <tr>\n",
       "      <th>2</th>\n",
       "      <td>1</td>\n",
       "      <td>lineage1.1.1</td>\n",
       "      <td>3021283</td>\n",
       "      <td>711</td>\n",
       "      <td>G/A</td>\n",
       "      <td>237</td>\n",
       "      <td>CGG/CGA</td>\n",
       "      <td>R/R</td>\n",
       "      <td>Rv2707</td>\n",
       "    </tr>\n",
       "    <tr>\n",
       "      <th>3</th>\n",
       "      <td>1</td>\n",
       "      <td>lineage1.1.1.1</td>\n",
       "      <td>3216553</td>\n",
       "      <td>339</td>\n",
       "      <td>G/A</td>\n",
       "      <td>113</td>\n",
       "      <td>GTC/GTT</td>\n",
       "      <td>V/V</td>\n",
       "      <td>Rv2907c</td>\n",
       "    </tr>\n",
       "    <tr>\n",
       "      <th>4</th>\n",
       "      <td>1</td>\n",
       "      <td>lineage1.1.2</td>\n",
       "      <td>2622402</td>\n",
       "      <td>51</td>\n",
       "      <td>G/A</td>\n",
       "      <td>17</td>\n",
       "      <td>GCC/GCT</td>\n",
       "      <td>A/A</td>\n",
       "      <td>Rv2343c</td>\n",
       "    </tr>\n",
       "  </tbody>\n",
       "</table>\n",
       "</div>"
      ],
      "text/plain": [
       "  Global lineage         lineage  Position Gene coord Allele Change  \\\n",
       "0              1        lineage1    615938      1104            G/A   \n",
       "1              1      lineage1.1   4404247      1056            G/A   \n",
       "2              1    lineage1.1.1   3021283       711            G/A   \n",
       "3              1  lineage1.1.1.1   3216553       339            G/A   \n",
       "4              1    lineage1.1.2   2622402        51            G/A   \n",
       "\n",
       "  Codon number Codon change Amino acid change  Locus Id  \n",
       "0         368      GAG/GAA               E/E    Rv0524   \n",
       "1         352      CTG/CTA               L/L    Rv3915   \n",
       "2         237      CGG/CGA               R/R    Rv2707   \n",
       "3         113      GTC/GTT               V/V   Rv2907c   \n",
       "4          17      GCC/GCT               A/A   Rv2343c   "
      ]
     },
     "execution_count": 14,
     "metadata": {},
     "output_type": "execute_result"
    }
   ],
   "source": [
    "barcode_diagnostic_SNPs.head()"
   ]
  },
  {
   "cell_type": "markdown",
   "metadata": {},
   "source": [
    "The original 62 SNP barcode (a subset of 413 diagnostic SNPs) outlined in Coll et. al. 2014 corresponds to 62 branches, we have 62 of 62 SNPs in our Genotypes Matrix."
   ]
  },
  {
   "cell_type": "code",
   "execution_count": 15,
   "metadata": {},
   "outputs": [
    {
     "data": {
      "text/plain": [
       "(62, 9)"
      ]
     },
     "execution_count": 15,
     "metadata": {},
     "output_type": "execute_result"
    }
   ],
   "source": [
    "np.shape(barcode_diagnostic_SNPs)"
   ]
  },
  {
   "cell_type": "markdown",
   "metadata": {},
   "source": [
    "#### Format DataFrame with 62 lineage-defining SNPs"
   ]
  },
  {
   "cell_type": "code",
   "execution_count": 16,
   "metadata": {},
   "outputs": [],
   "source": [
    "barcode_SNP_annot = barcode_diagnostic_SNPs.loc[: , ['lineage' , 'Position' , 'Allele Change' , 'Gene coord' , 'Locus Id'] ]\n",
    "\n",
    "#create Reference & Alternate allele columns from Allele Change column\n",
    "barcode_SNP_annot['ref'] = [ref_alt_alleles.split('/')[0] for ref_alt_alleles in list( barcode_SNP_annot.loc[: , 'Allele Change'] ) ]\n",
    "barcode_SNP_annot['alt'] = [ref_alt_alleles.split('/')[1] for ref_alt_alleles in list( barcode_SNP_annot.loc[: , 'Allele Change'] ) ]\n",
    "\n",
    "#drop unnecessary Allele Change column\n",
    "barcode_SNP_annot = barcode_SNP_annot.loc[: , ['lineage' , 'Position' , 'ref' , 'alt' , 'Gene coord' , 'Locus Id'] ]\n",
    "\n",
    "#rename reference position column\n",
    "barcode_SNP_annot = barcode_SNP_annot.rename(index=str, columns={\"Position\": \"pos\"})"
   ]
  },
  {
   "cell_type": "code",
   "execution_count": 17,
   "metadata": {},
   "outputs": [
    {
     "data": {
      "text/plain": [
       "(62, 6)"
      ]
     },
     "execution_count": 17,
     "metadata": {},
     "output_type": "execute_result"
    }
   ],
   "source": [
    "np.shape(barcode_SNP_annot)"
   ]
  },
  {
   "cell_type": "code",
   "execution_count": 18,
   "metadata": {},
   "outputs": [
    {
     "data": {
      "text/html": [
       "<div>\n",
       "<style>\n",
       "    .dataframe thead tr:only-child th {\n",
       "        text-align: right;\n",
       "    }\n",
       "\n",
       "    .dataframe thead th {\n",
       "        text-align: left;\n",
       "    }\n",
       "\n",
       "    .dataframe tbody tr th {\n",
       "        vertical-align: top;\n",
       "    }\n",
       "</style>\n",
       "<table border=\"1\" class=\"dataframe\">\n",
       "  <thead>\n",
       "    <tr style=\"text-align: right;\">\n",
       "      <th></th>\n",
       "      <th>lineage</th>\n",
       "      <th>pos</th>\n",
       "      <th>ref</th>\n",
       "      <th>alt</th>\n",
       "      <th>Gene coord</th>\n",
       "      <th>Locus Id</th>\n",
       "    </tr>\n",
       "  </thead>\n",
       "  <tbody>\n",
       "    <tr>\n",
       "      <th>0</th>\n",
       "      <td>lineage1</td>\n",
       "      <td>615938</td>\n",
       "      <td>G</td>\n",
       "      <td>A</td>\n",
       "      <td>1104</td>\n",
       "      <td>Rv0524</td>\n",
       "    </tr>\n",
       "    <tr>\n",
       "      <th>1</th>\n",
       "      <td>lineage1.1</td>\n",
       "      <td>4404247</td>\n",
       "      <td>G</td>\n",
       "      <td>A</td>\n",
       "      <td>1056</td>\n",
       "      <td>Rv3915</td>\n",
       "    </tr>\n",
       "    <tr>\n",
       "      <th>2</th>\n",
       "      <td>lineage1.1.1</td>\n",
       "      <td>3021283</td>\n",
       "      <td>G</td>\n",
       "      <td>A</td>\n",
       "      <td>711</td>\n",
       "      <td>Rv2707</td>\n",
       "    </tr>\n",
       "    <tr>\n",
       "      <th>3</th>\n",
       "      <td>lineage1.1.1.1</td>\n",
       "      <td>3216553</td>\n",
       "      <td>G</td>\n",
       "      <td>A</td>\n",
       "      <td>339</td>\n",
       "      <td>Rv2907c</td>\n",
       "    </tr>\n",
       "    <tr>\n",
       "      <th>4</th>\n",
       "      <td>lineage1.1.2</td>\n",
       "      <td>2622402</td>\n",
       "      <td>G</td>\n",
       "      <td>A</td>\n",
       "      <td>51</td>\n",
       "      <td>Rv2343c</td>\n",
       "    </tr>\n",
       "  </tbody>\n",
       "</table>\n",
       "</div>"
      ],
      "text/plain": [
       "          lineage      pos ref alt Gene coord  Locus Id\n",
       "0        lineage1   615938   G   A      1104    Rv0524 \n",
       "1      lineage1.1  4404247   G   A      1056    Rv3915 \n",
       "2    lineage1.1.1  3021283   G   A       711    Rv2707 \n",
       "3  lineage1.1.1.1  3216553   G   A       339   Rv2907c \n",
       "4    lineage1.1.2  2622402   G   A        51   Rv2343c "
      ]
     },
     "execution_count": 18,
     "metadata": {},
     "output_type": "execute_result"
    }
   ],
   "source": [
    "barcode_SNP_annot.head()"
   ]
  },
  {
   "cell_type": "markdown",
   "metadata": {},
   "source": [
    "Get rid of the word 'lineage'"
   ]
  },
  {
   "cell_type": "code",
   "execution_count": 19,
   "metadata": {},
   "outputs": [],
   "source": [
    "barcode_SNP_annot.lineage = [lineage.split('lineage')[1] for lineage in list( barcode_SNP_annot.lineage ) ]"
   ]
  },
  {
   "cell_type": "code",
   "execution_count": 20,
   "metadata": {},
   "outputs": [
    {
     "data": {
      "text/html": [
       "<div>\n",
       "<style>\n",
       "    .dataframe thead tr:only-child th {\n",
       "        text-align: right;\n",
       "    }\n",
       "\n",
       "    .dataframe thead th {\n",
       "        text-align: left;\n",
       "    }\n",
       "\n",
       "    .dataframe tbody tr th {\n",
       "        vertical-align: top;\n",
       "    }\n",
       "</style>\n",
       "<table border=\"1\" class=\"dataframe\">\n",
       "  <thead>\n",
       "    <tr style=\"text-align: right;\">\n",
       "      <th></th>\n",
       "      <th>lineage</th>\n",
       "      <th>pos</th>\n",
       "      <th>ref</th>\n",
       "      <th>alt</th>\n",
       "      <th>Gene coord</th>\n",
       "      <th>Locus Id</th>\n",
       "    </tr>\n",
       "  </thead>\n",
       "  <tbody>\n",
       "    <tr>\n",
       "      <th>0</th>\n",
       "      <td>1</td>\n",
       "      <td>615938</td>\n",
       "      <td>G</td>\n",
       "      <td>A</td>\n",
       "      <td>1104</td>\n",
       "      <td>Rv0524</td>\n",
       "    </tr>\n",
       "    <tr>\n",
       "      <th>1</th>\n",
       "      <td>1.1</td>\n",
       "      <td>4404247</td>\n",
       "      <td>G</td>\n",
       "      <td>A</td>\n",
       "      <td>1056</td>\n",
       "      <td>Rv3915</td>\n",
       "    </tr>\n",
       "    <tr>\n",
       "      <th>2</th>\n",
       "      <td>1.1.1</td>\n",
       "      <td>3021283</td>\n",
       "      <td>G</td>\n",
       "      <td>A</td>\n",
       "      <td>711</td>\n",
       "      <td>Rv2707</td>\n",
       "    </tr>\n",
       "    <tr>\n",
       "      <th>3</th>\n",
       "      <td>1.1.1.1</td>\n",
       "      <td>3216553</td>\n",
       "      <td>G</td>\n",
       "      <td>A</td>\n",
       "      <td>339</td>\n",
       "      <td>Rv2907c</td>\n",
       "    </tr>\n",
       "    <tr>\n",
       "      <th>4</th>\n",
       "      <td>1.1.2</td>\n",
       "      <td>2622402</td>\n",
       "      <td>G</td>\n",
       "      <td>A</td>\n",
       "      <td>51</td>\n",
       "      <td>Rv2343c</td>\n",
       "    </tr>\n",
       "  </tbody>\n",
       "</table>\n",
       "</div>"
      ],
      "text/plain": [
       "   lineage      pos ref alt Gene coord  Locus Id\n",
       "0        1   615938   G   A      1104    Rv0524 \n",
       "1      1.1  4404247   G   A      1056    Rv3915 \n",
       "2    1.1.1  3021283   G   A       711    Rv2707 \n",
       "3  1.1.1.1  3216553   G   A       339   Rv2907c \n",
       "4    1.1.2  2622402   G   A        51   Rv2343c "
      ]
     },
     "execution_count": 20,
     "metadata": {},
     "output_type": "execute_result"
    }
   ],
   "source": [
    "barcode_SNP_annot.head()"
   ]
  },
  {
   "cell_type": "markdown",
   "metadata": {},
   "source": [
    "#### Create a column that contains the diagnostic allele and another that contains the base code for the diagnostic allele"
   ]
  },
  {
   "cell_type": "markdown",
   "metadata": {},
   "source": [
    "__Note__: The diagnostic allele is the Reference Allele (not the Alternate Allele) for these two SNPs"
   ]
  },
  {
   "cell_type": "code",
   "execution_count": 21,
   "metadata": {},
   "outputs": [
    {
     "data": {
      "text/html": [
       "<div>\n",
       "<style>\n",
       "    .dataframe thead tr:only-child th {\n",
       "        text-align: right;\n",
       "    }\n",
       "\n",
       "    .dataframe thead th {\n",
       "        text-align: left;\n",
       "    }\n",
       "\n",
       "    .dataframe tbody tr th {\n",
       "        vertical-align: top;\n",
       "    }\n",
       "</style>\n",
       "<table border=\"1\" class=\"dataframe\">\n",
       "  <thead>\n",
       "    <tr style=\"text-align: right;\">\n",
       "      <th></th>\n",
       "      <th>lineage</th>\n",
       "      <th>pos</th>\n",
       "      <th>ref</th>\n",
       "      <th>alt</th>\n",
       "      <th>Gene coord</th>\n",
       "      <th>Locus Id</th>\n",
       "    </tr>\n",
       "  </thead>\n",
       "  <tbody>\n",
       "    <tr>\n",
       "      <th>20</th>\n",
       "      <td>4**</td>\n",
       "      <td>931123</td>\n",
       "      <td>T</td>\n",
       "      <td>C</td>\n",
       "      <td>171</td>\n",
       "      <td>Rv0835</td>\n",
       "    </tr>\n",
       "  </tbody>\n",
       "</table>\n",
       "</div>"
      ],
      "text/plain": [
       "   lineage     pos ref alt Gene coord Locus Id\n",
       "20     4**  931123   T   C       171   Rv0835 "
      ]
     },
     "execution_count": 21,
     "metadata": {},
     "output_type": "execute_result"
    }
   ],
   "source": [
    "barcode_SNP_annot[barcode_SNP_annot.pos == 931123]"
   ]
  },
  {
   "cell_type": "code",
   "execution_count": 22,
   "metadata": {},
   "outputs": [],
   "source": [
    "barcode_SNP_annot.loc['20' , 'lineage'] = '4'"
   ]
  },
  {
   "cell_type": "code",
   "execution_count": 23,
   "metadata": {},
   "outputs": [
    {
     "data": {
      "text/html": [
       "<div>\n",
       "<style>\n",
       "    .dataframe thead tr:only-child th {\n",
       "        text-align: right;\n",
       "    }\n",
       "\n",
       "    .dataframe thead th {\n",
       "        text-align: left;\n",
       "    }\n",
       "\n",
       "    .dataframe tbody tr th {\n",
       "        vertical-align: top;\n",
       "    }\n",
       "</style>\n",
       "<table border=\"1\" class=\"dataframe\">\n",
       "  <thead>\n",
       "    <tr style=\"text-align: right;\">\n",
       "      <th></th>\n",
       "      <th>lineage</th>\n",
       "      <th>pos</th>\n",
       "      <th>ref</th>\n",
       "      <th>alt</th>\n",
       "      <th>Gene coord</th>\n",
       "      <th>Locus Id</th>\n",
       "    </tr>\n",
       "  </thead>\n",
       "  <tbody>\n",
       "    <tr>\n",
       "      <th>56</th>\n",
       "      <td>4.9**</td>\n",
       "      <td>1759252</td>\n",
       "      <td>G</td>\n",
       "      <td>T</td>\n",
       "      <td>1572</td>\n",
       "      <td>Rv1552</td>\n",
       "    </tr>\n",
       "  </tbody>\n",
       "</table>\n",
       "</div>"
      ],
      "text/plain": [
       "   lineage      pos ref alt Gene coord Locus Id\n",
       "56   4.9**  1759252   G   T      1572   Rv1552 "
      ]
     },
     "execution_count": 23,
     "metadata": {},
     "output_type": "execute_result"
    }
   ],
   "source": [
    "barcode_SNP_annot[barcode_SNP_annot.pos == 1759252]"
   ]
  },
  {
   "cell_type": "code",
   "execution_count": 24,
   "metadata": {},
   "outputs": [],
   "source": [
    "barcode_SNP_annot.loc['56' , 'lineage'] = '4.9'"
   ]
  },
  {
   "cell_type": "code",
   "execution_count": 25,
   "metadata": {},
   "outputs": [],
   "source": [
    "#create dictionary for each base - code map\n",
    "base_to_code_map = {'A':0 , 'C':1 , 'G':2 , 'T':3}\n",
    "diag_allele = []\n",
    "diag_allele_code = []\n",
    "\n",
    "for diagnostic_SNP_i in barcode_SNP_annot.index:\n",
    "    \n",
    "    #default that the alternate allele is the diagnostic allele, except for two SNPs in which the diagnostic allele is the reference allele\n",
    "    if barcode_SNP_annot.loc[diagnostic_SNP_i,:].pos in [931123 , 1759252]:\n",
    "        \n",
    "        diagnostic_SNP_i_allele = barcode_SNP_annot.loc[diagnostic_SNP_i,:].ref\n",
    "        \n",
    "    else:\n",
    "        \n",
    "        diagnostic_SNP_i_allele = barcode_SNP_annot.loc[diagnostic_SNP_i,:].alt\n",
    "        \n",
    "        \n",
    "    diag_allele.append(diagnostic_SNP_i_allele)\n",
    "    diag_allele_code.append(base_to_code_map[diagnostic_SNP_i_allele])\n",
    "    \n",
    "#append columns to barcode SNP DF\n",
    "barcode_SNP_annot['diag_allele'] = diag_allele\n",
    "barcode_SNP_annot['diag_allele_code'] = diag_allele_code"
   ]
  },
  {
   "cell_type": "code",
   "execution_count": 26,
   "metadata": {},
   "outputs": [
    {
     "data": {
      "text/html": [
       "<div>\n",
       "<style>\n",
       "    .dataframe thead tr:only-child th {\n",
       "        text-align: right;\n",
       "    }\n",
       "\n",
       "    .dataframe thead th {\n",
       "        text-align: left;\n",
       "    }\n",
       "\n",
       "    .dataframe tbody tr th {\n",
       "        vertical-align: top;\n",
       "    }\n",
       "</style>\n",
       "<table border=\"1\" class=\"dataframe\">\n",
       "  <thead>\n",
       "    <tr style=\"text-align: right;\">\n",
       "      <th></th>\n",
       "      <th>lineage</th>\n",
       "      <th>pos</th>\n",
       "      <th>ref</th>\n",
       "      <th>alt</th>\n",
       "      <th>Gene coord</th>\n",
       "      <th>Locus Id</th>\n",
       "      <th>diag_allele</th>\n",
       "      <th>diag_allele_code</th>\n",
       "    </tr>\n",
       "  </thead>\n",
       "  <tbody>\n",
       "    <tr>\n",
       "      <th>57</th>\n",
       "      <td>5</td>\n",
       "      <td>1799921</td>\n",
       "      <td>C</td>\n",
       "      <td>A</td>\n",
       "      <td>339</td>\n",
       "      <td>Rv1599</td>\n",
       "      <td>A</td>\n",
       "      <td>0</td>\n",
       "    </tr>\n",
       "    <tr>\n",
       "      <th>58</th>\n",
       "      <td>6</td>\n",
       "      <td>1816587</td>\n",
       "      <td>C</td>\n",
       "      <td>G</td>\n",
       "      <td>399</td>\n",
       "      <td>Rv1617</td>\n",
       "      <td>G</td>\n",
       "      <td>2</td>\n",
       "    </tr>\n",
       "    <tr>\n",
       "      <th>59</th>\n",
       "      <td>7</td>\n",
       "      <td>1137518</td>\n",
       "      <td>G</td>\n",
       "      <td>A</td>\n",
       "      <td>543</td>\n",
       "      <td>Rv1018c</td>\n",
       "      <td>A</td>\n",
       "      <td>0</td>\n",
       "    </tr>\n",
       "    <tr>\n",
       "      <th>60</th>\n",
       "      <td>BOV</td>\n",
       "      <td>2831482</td>\n",
       "      <td>A</td>\n",
       "      <td>G</td>\n",
       "      <td>1110</td>\n",
       "      <td>Rv2515c</td>\n",
       "      <td>G</td>\n",
       "      <td>2</td>\n",
       "    </tr>\n",
       "    <tr>\n",
       "      <th>61</th>\n",
       "      <td>BOV_AFRI</td>\n",
       "      <td>1882180</td>\n",
       "      <td>C</td>\n",
       "      <td>T</td>\n",
       "      <td>477</td>\n",
       "      <td>Rv1662</td>\n",
       "      <td>T</td>\n",
       "      <td>3</td>\n",
       "    </tr>\n",
       "  </tbody>\n",
       "</table>\n",
       "</div>"
      ],
      "text/plain": [
       "     lineage      pos ref alt Gene coord  Locus Id diag_allele  \\\n",
       "57         5  1799921   C   A       339    Rv1599            A   \n",
       "58         6  1816587   C   G       399    Rv1617            G   \n",
       "59         7  1137518   G   A       543   Rv1018c            A   \n",
       "60       BOV  2831482   A   G      1110   Rv2515c            G   \n",
       "61  BOV_AFRI  1882180   C   T       477    Rv1662            T   \n",
       "\n",
       "    diag_allele_code  \n",
       "57                 0  \n",
       "58                 2  \n",
       "59                 0  \n",
       "60                 2  \n",
       "61                 3  "
      ]
     },
     "execution_count": 26,
     "metadata": {},
     "output_type": "execute_result"
    }
   ],
   "source": [
    "barcode_SNP_annot.tail()"
   ]
  },
  {
   "cell_type": "markdown",
   "metadata": {},
   "source": [
    "####################################################################################################################################################################################"
   ]
  },
  {
   "cell_type": "markdown",
   "metadata": {},
   "source": [
    "## [3] Assign Isolates to Lineage and Sub-lineages based off of SNP barcode"
   ]
  },
  {
   "cell_type": "markdown",
   "metadata": {},
   "source": [
    "####################################################################################################################################################################################"
   ]
  },
  {
   "cell_type": "markdown",
   "metadata": {},
   "source": [
    "#### Subset Genotypes matrix to SNP barcode SNPs"
   ]
  },
  {
   "cell_type": "code",
   "execution_count": 27,
   "metadata": {},
   "outputs": [],
   "source": [
    "#subset SNP annotation to the annotation for just the SNP barcode\n",
    "barcode_SNPs_filter = [SNP_i in list(barcode_SNP_annot.pos) for SNP_i in SNP_annotation_DF.pos]\n",
    "barcode_SNPs_in_genotypes_matrix = SNP_annotation_DF[barcode_SNPs_filter]"
   ]
  },
  {
   "cell_type": "code",
   "execution_count": 28,
   "metadata": {},
   "outputs": [
    {
     "data": {
      "text/html": [
       "<div>\n",
       "<style>\n",
       "    .dataframe thead tr:only-child th {\n",
       "        text-align: right;\n",
       "    }\n",
       "\n",
       "    .dataframe thead th {\n",
       "        text-align: left;\n",
       "    }\n",
       "\n",
       "    .dataframe tbody tr th {\n",
       "        vertical-align: top;\n",
       "    }\n",
       "</style>\n",
       "<table border=\"1\" class=\"dataframe\">\n",
       "  <thead>\n",
       "    <tr style=\"text-align: right;\">\n",
       "      <th></th>\n",
       "      <th>pos</th>\n",
       "      <th>ref</th>\n",
       "      <th>alt</th>\n",
       "      <th>gene_id</th>\n",
       "      <th>gene_pos</th>\n",
       "      <th>gene_category</th>\n",
       "      <th>gene_name</th>\n",
       "    </tr>\n",
       "  </thead>\n",
       "  <tbody>\n",
       "    <tr>\n",
       "      <th>3408</th>\n",
       "      <td>62657</td>\n",
       "      <td>G</td>\n",
       "      <td>[A]</td>\n",
       "      <td>[Rv0058]</td>\n",
       "      <td>[2261]</td>\n",
       "      <td>[Essential]</td>\n",
       "      <td>[dnaB]</td>\n",
       "    </tr>\n",
       "    <tr>\n",
       "      <th>5347</th>\n",
       "      <td>107794</td>\n",
       "      <td>C</td>\n",
       "      <td>[T]</td>\n",
       "      <td>[Rv0098]</td>\n",
       "      <td>[194]</td>\n",
       "      <td>[Essential]</td>\n",
       "      <td>[fcoT]</td>\n",
       "    </tr>\n",
       "    <tr>\n",
       "      <th>14350</th>\n",
       "      <td>346693</td>\n",
       "      <td>G</td>\n",
       "      <td>[T]</td>\n",
       "      <td>[Rv0284]</td>\n",
       "      <td>[1058]</td>\n",
       "      <td>[Essential]</td>\n",
       "      <td>[eccC3]</td>\n",
       "    </tr>\n",
       "    <tr>\n",
       "      <th>14656</th>\n",
       "      <td>355181</td>\n",
       "      <td>G</td>\n",
       "      <td>[A]</td>\n",
       "      <td>[Rv0291]</td>\n",
       "      <td>[683]</td>\n",
       "      <td>[Antigen]</td>\n",
       "      <td>[mycP3]</td>\n",
       "    </tr>\n",
       "    <tr>\n",
       "      <th>16286</th>\n",
       "      <td>403364</td>\n",
       "      <td>G</td>\n",
       "      <td>[A, C]</td>\n",
       "      <td>[Rv0338c]</td>\n",
       "      <td>[171]</td>\n",
       "      <td>[Essential]</td>\n",
       "      <td>[Rv0338c]</td>\n",
       "    </tr>\n",
       "  </tbody>\n",
       "</table>\n",
       "</div>"
      ],
      "text/plain": [
       "          pos ref     alt    gene_id gene_pos gene_category  gene_name\n",
       "3408    62657   G     [A]   [Rv0058]   [2261]   [Essential]     [dnaB]\n",
       "5347   107794   C     [T]   [Rv0098]    [194]   [Essential]     [fcoT]\n",
       "14350  346693   G     [T]   [Rv0284]   [1058]   [Essential]    [eccC3]\n",
       "14656  355181   G     [A]   [Rv0291]    [683]     [Antigen]    [mycP3]\n",
       "16286  403364   G  [A, C]  [Rv0338c]    [171]   [Essential]  [Rv0338c]"
      ]
     },
     "execution_count": 28,
     "metadata": {},
     "output_type": "execute_result"
    }
   ],
   "source": [
    "barcode_SNPs_in_genotypes_matrix.head()"
   ]
  },
  {
   "cell_type": "code",
   "execution_count": 29,
   "metadata": {},
   "outputs": [
    {
     "data": {
      "text/plain": [
       "(62, 7)"
      ]
     },
     "execution_count": 29,
     "metadata": {},
     "output_type": "execute_result"
    }
   ],
   "source": [
    "np.shape( barcode_SNPs_in_genotypes_matrix )"
   ]
  },
  {
   "cell_type": "markdown",
   "metadata": {},
   "source": [
    "#### Merge lineage/sub-lineage, diagnostic allele and diagnostic allele codes (from the barcode SNP annotation above) information with barcode SNPs annotation"
   ]
  },
  {
   "cell_type": "code",
   "execution_count": 30,
   "metadata": {},
   "outputs": [],
   "source": [
    "barcode_SNPs_in_genotypes_matrix = barcode_SNPs_in_genotypes_matrix.merge(barcode_SNP_annot.loc[: , ['diag_allele' , 'diag_allele_code' , 'lineage' , 'pos']] , how = 'inner' , on = 'pos')"
   ]
  },
  {
   "cell_type": "code",
   "execution_count": 31,
   "metadata": {},
   "outputs": [
    {
     "data": {
      "text/html": [
       "<div>\n",
       "<style>\n",
       "    .dataframe thead tr:only-child th {\n",
       "        text-align: right;\n",
       "    }\n",
       "\n",
       "    .dataframe thead th {\n",
       "        text-align: left;\n",
       "    }\n",
       "\n",
       "    .dataframe tbody tr th {\n",
       "        vertical-align: top;\n",
       "    }\n",
       "</style>\n",
       "<table border=\"1\" class=\"dataframe\">\n",
       "  <thead>\n",
       "    <tr style=\"text-align: right;\">\n",
       "      <th></th>\n",
       "      <th>pos</th>\n",
       "      <th>ref</th>\n",
       "      <th>alt</th>\n",
       "      <th>gene_id</th>\n",
       "      <th>gene_pos</th>\n",
       "      <th>gene_category</th>\n",
       "      <th>gene_name</th>\n",
       "      <th>diag_allele</th>\n",
       "      <th>diag_allele_code</th>\n",
       "      <th>lineage</th>\n",
       "    </tr>\n",
       "  </thead>\n",
       "  <tbody>\n",
       "    <tr>\n",
       "      <th>0</th>\n",
       "      <td>62657</td>\n",
       "      <td>G</td>\n",
       "      <td>[A]</td>\n",
       "      <td>[Rv0058]</td>\n",
       "      <td>[2261]</td>\n",
       "      <td>[Essential]</td>\n",
       "      <td>[dnaB]</td>\n",
       "      <td>A</td>\n",
       "      <td>0</td>\n",
       "      <td>4.1</td>\n",
       "    </tr>\n",
       "    <tr>\n",
       "      <th>1</th>\n",
       "      <td>107794</td>\n",
       "      <td>C</td>\n",
       "      <td>[T]</td>\n",
       "      <td>[Rv0098]</td>\n",
       "      <td>[194]</td>\n",
       "      <td>[Essential]</td>\n",
       "      <td>[fcoT]</td>\n",
       "      <td>T</td>\n",
       "      <td>3</td>\n",
       "      <td>4.1.2.1</td>\n",
       "    </tr>\n",
       "    <tr>\n",
       "      <th>2</th>\n",
       "      <td>346693</td>\n",
       "      <td>G</td>\n",
       "      <td>[T]</td>\n",
       "      <td>[Rv0284]</td>\n",
       "      <td>[1058]</td>\n",
       "      <td>[Essential]</td>\n",
       "      <td>[eccC3]</td>\n",
       "      <td>T</td>\n",
       "      <td>3</td>\n",
       "      <td>2.2.2</td>\n",
       "    </tr>\n",
       "    <tr>\n",
       "      <th>3</th>\n",
       "      <td>355181</td>\n",
       "      <td>G</td>\n",
       "      <td>[A]</td>\n",
       "      <td>[Rv0291]</td>\n",
       "      <td>[683]</td>\n",
       "      <td>[Antigen]</td>\n",
       "      <td>[mycP3]</td>\n",
       "      <td>A</td>\n",
       "      <td>0</td>\n",
       "      <td>4.4.1.1</td>\n",
       "    </tr>\n",
       "    <tr>\n",
       "      <th>4</th>\n",
       "      <td>403364</td>\n",
       "      <td>G</td>\n",
       "      <td>[A, C]</td>\n",
       "      <td>[Rv0338c]</td>\n",
       "      <td>[171]</td>\n",
       "      <td>[Essential]</td>\n",
       "      <td>[Rv0338c]</td>\n",
       "      <td>A</td>\n",
       "      <td>0</td>\n",
       "      <td>4.3.3</td>\n",
       "    </tr>\n",
       "  </tbody>\n",
       "</table>\n",
       "</div>"
      ],
      "text/plain": [
       "      pos ref     alt    gene_id gene_pos gene_category  gene_name  \\\n",
       "0   62657   G     [A]   [Rv0058]   [2261]   [Essential]     [dnaB]   \n",
       "1  107794   C     [T]   [Rv0098]    [194]   [Essential]     [fcoT]   \n",
       "2  346693   G     [T]   [Rv0284]   [1058]   [Essential]    [eccC3]   \n",
       "3  355181   G     [A]   [Rv0291]    [683]     [Antigen]    [mycP3]   \n",
       "4  403364   G  [A, C]  [Rv0338c]    [171]   [Essential]  [Rv0338c]   \n",
       "\n",
       "  diag_allele  diag_allele_code  lineage  \n",
       "0           A                 0      4.1  \n",
       "1           T                 3  4.1.2.1  \n",
       "2           T                 3    2.2.2  \n",
       "3           A                 0  4.4.1.1  \n",
       "4           A                 0    4.3.3  "
      ]
     },
     "execution_count": 31,
     "metadata": {},
     "output_type": "execute_result"
    }
   ],
   "source": [
    "barcode_SNPs_in_genotypes_matrix.head()"
   ]
  },
  {
   "cell_type": "markdown",
   "metadata": {},
   "source": [
    "#### Subset Genotypes Matrix to barcode SNPs"
   ]
  },
  {
   "cell_type": "code",
   "execution_count": 32,
   "metadata": {},
   "outputs": [],
   "source": [
    "genotypes_array_barcode_SNPs = genotypes_array[ np.array(barcode_SNPs_filter) , :]"
   ]
  },
  {
   "cell_type": "code",
   "execution_count": 33,
   "metadata": {
    "scrolled": true
   },
   "outputs": [
    {
     "data": {
      "text/plain": [
       "(62, 32355)"
      ]
     },
     "execution_count": 33,
     "metadata": {},
     "output_type": "execute_result"
    }
   ],
   "source": [
    "np.shape(genotypes_array_barcode_SNPs)"
   ]
  },
  {
   "cell_type": "code",
   "execution_count": 34,
   "metadata": {},
   "outputs": [
    {
     "data": {
      "text/plain": [
       "array([[2, 2, 2, ..., 2, 9, 2],\n",
       "       [1, 1, 1, ..., 1, 1, 1],\n",
       "       [2, 2, 2, ..., 2, 2, 2],\n",
       "       ...,\n",
       "       [2, 2, 2, ..., 2, 2, 2],\n",
       "       [2, 2, 2, ..., 2, 2, 2],\n",
       "       [2, 2, 2, ..., 2, 2, 2]])"
      ]
     },
     "execution_count": 34,
     "metadata": {},
     "output_type": "execute_result"
    }
   ],
   "source": [
    "genotypes_array_barcode_SNPs"
   ]
  },
  {
   "cell_type": "markdown",
   "metadata": {},
   "source": [
    "### Iterate through each isolate and assign a lineage/sub-lineage based off of the most specific lineage call made for that isolate"
   ]
  },
  {
   "cell_type": "code",
   "execution_count": 35,
   "metadata": {},
   "outputs": [],
   "source": [
    "#create DataFrame to store the lineage call for each isolate\n",
    "lineage_calls_for_isolates_DF = pd.DataFrame(index = isolate_annotation_DF.index , columns = ['lineage_1' , 'lineage_2' , 'lineage_3' , 'lineage_4' , 'lineage_5'])\n",
    "\n",
    "for isolate_i in list(isolate_annotation_DF.index):\n",
    "\n",
    "    genotypes_for_isolate = genotypes_array_barcode_SNPs[: , isolate_i]\n",
    "\n",
    "    #find Lineage(s) types by the isolate (match the genotypes for the isolate to the diagnostic alleles from the SNP barcode and get lineages for matching alleles)\n",
    "    lineage_calls = list( barcode_SNPs_in_genotypes_matrix[genotypes_for_isolate == barcode_SNPs_in_genotypes_matrix.diag_allele_code.values].lineage )\n",
    "    \n",
    "    #sort by length of element...global lineage first, then sublineage, then sub-sub-lineage\n",
    "    lineage_calls = sorted(lineage_calls , key=len)\n",
    "    \n",
    "    #keep the 'most specific' lineage call if one exists\n",
    "    if len(lineage_calls) > 0:\n",
    "        \n",
    "        most_specific_lineage_call = lineage_calls[-1]\n",
    "    \n",
    "        #iterate through the lineage & sublineages for most specific lineage call and fill in DF\n",
    "\n",
    "        #check Bovis\n",
    "        if most_specific_lineage_call == 'BOV': \n",
    "            lineage_calls_for_isolates_DF.iloc[isolate_i , 0] = 'BOV'\n",
    "\n",
    "        #check Bovis-Africa\n",
    "        elif most_specific_lineage_call == 'BOV_AFRI': \n",
    "            lineage_calls_for_isolates_DF.iloc[isolate_i , 1] = 'BOV_AFRI'\n",
    "\n",
    "            #check to see if global lineage was also called\n",
    "            try: \n",
    "                lineage_calls_for_isolates_DF.iloc[isolate_i , 0] = lineage_calls[-2]\n",
    "                \n",
    "            except IndexError: #BOV_AFRI sublineage was called but Global Lineage was not\n",
    "                continue\n",
    "    \n",
    "        #any other lineage call can be split into the global lineage & sub-lineages\n",
    "        else:\n",
    "            most_specific_lineage_call_split = most_specific_lineage_call.split('.')\n",
    "\n",
    "            #iterate through lineage & sub-lineages and fill in DF\n",
    "            column_i = 0\n",
    "            for lineage_call in most_specific_lineage_call_split:\n",
    "                lineage_calls_for_isolates_DF.iloc[isolate_i , column_i] = lineage_call\n",
    "                column_i += 1"
   ]
  },
  {
   "cell_type": "code",
   "execution_count": 36,
   "metadata": {
    "scrolled": false
   },
   "outputs": [
    {
     "data": {
      "text/html": [
       "<div>\n",
       "<style>\n",
       "    .dataframe thead tr:only-child th {\n",
       "        text-align: right;\n",
       "    }\n",
       "\n",
       "    .dataframe thead th {\n",
       "        text-align: left;\n",
       "    }\n",
       "\n",
       "    .dataframe tbody tr th {\n",
       "        vertical-align: top;\n",
       "    }\n",
       "</style>\n",
       "<table border=\"1\" class=\"dataframe\">\n",
       "  <thead>\n",
       "    <tr style=\"text-align: right;\">\n",
       "      <th></th>\n",
       "      <th>lineage_1</th>\n",
       "      <th>lineage_2</th>\n",
       "      <th>lineage_3</th>\n",
       "      <th>lineage_4</th>\n",
       "      <th>lineage_5</th>\n",
       "    </tr>\n",
       "  </thead>\n",
       "  <tbody>\n",
       "    <tr>\n",
       "      <th>0</th>\n",
       "      <td>4</td>\n",
       "      <td>3</td>\n",
       "      <td>4</td>\n",
       "      <td>2</td>\n",
       "      <td>NaN</td>\n",
       "    </tr>\n",
       "    <tr>\n",
       "      <th>1</th>\n",
       "      <td>4</td>\n",
       "      <td>4</td>\n",
       "      <td>1</td>\n",
       "      <td>1</td>\n",
       "      <td>NaN</td>\n",
       "    </tr>\n",
       "    <tr>\n",
       "      <th>2</th>\n",
       "      <td>3</td>\n",
       "      <td>1</td>\n",
       "      <td>1</td>\n",
       "      <td>NaN</td>\n",
       "      <td>NaN</td>\n",
       "    </tr>\n",
       "    <tr>\n",
       "      <th>3</th>\n",
       "      <td>4</td>\n",
       "      <td>3</td>\n",
       "      <td>2</td>\n",
       "      <td>NaN</td>\n",
       "      <td>NaN</td>\n",
       "    </tr>\n",
       "    <tr>\n",
       "      <th>4</th>\n",
       "      <td>1</td>\n",
       "      <td>1</td>\n",
       "      <td>3</td>\n",
       "      <td>NaN</td>\n",
       "      <td>NaN</td>\n",
       "    </tr>\n",
       "  </tbody>\n",
       "</table>\n",
       "</div>"
      ],
      "text/plain": [
       "  lineage_1 lineage_2 lineage_3 lineage_4 lineage_5\n",
       "0         4         3         4         2       NaN\n",
       "1         4         4         1         1       NaN\n",
       "2         3         1         1       NaN       NaN\n",
       "3         4         3         2       NaN       NaN\n",
       "4         1         1         3       NaN       NaN"
      ]
     },
     "execution_count": 36,
     "metadata": {},
     "output_type": "execute_result"
    }
   ],
   "source": [
    "lineage_calls_for_isolates_DF.head()"
   ]
  },
  {
   "cell_type": "markdown",
   "metadata": {},
   "source": [
    "How many Isolates did not have a high-confidence lineage call (no lineage_1/global lineage designation)?"
   ]
  },
  {
   "cell_type": "code",
   "execution_count": 37,
   "metadata": {},
   "outputs": [],
   "source": [
    "isolate_without_lineage_calls = 0\n",
    "\n",
    "for isolate_i in lineage_calls_for_isolates_DF.index:\n",
    "    \n",
    "    #if the first column is NaN, then we don't have any lineage calls for this isolate*\n",
    "    ## (*possible to have a sub-lineage 'BOV_AFRI' with no global lineage but we're dropping these)\n",
    "    if lineage_calls_for_isolates_DF.loc[isolate_i , 'lineage_1'] is np.nan:\n",
    "        \n",
    "        isolate_without_lineage_calls += 1"
   ]
  },
  {
   "cell_type": "code",
   "execution_count": 38,
   "metadata": {},
   "outputs": [
    {
     "name": "stdout",
     "output_type": "stream",
     "text": [
      "322\n"
     ]
    }
   ],
   "source": [
    "print isolate_without_lineage_calls"
   ]
  },
  {
   "cell_type": "markdown",
   "metadata": {},
   "source": [
    "These isolates probably failed to get categorized at the global lineage level because the (global) lineage-defining SNP/Base Call did not meet the Alternate Allele calling filters (BQ, MQ, indel, depth, etc.)"
   ]
  },
  {
   "cell_type": "markdown",
   "metadata": {},
   "source": [
    "#### Append Isolate Annotation Series to Lineage/Sub-lineage assignments"
   ]
  },
  {
   "cell_type": "code",
   "execution_count": 39,
   "metadata": {},
   "outputs": [],
   "source": [
    "lineage_calls_for_isolates_DF['isolate_ID'] = list( isolate_annotation_DF )\n",
    "isolate_annotation_DF = lineage_calls_for_isolates_DF.copy()"
   ]
  },
  {
   "cell_type": "code",
   "execution_count": 40,
   "metadata": {},
   "outputs": [
    {
     "data": {
      "text/html": [
       "<div>\n",
       "<style>\n",
       "    .dataframe thead tr:only-child th {\n",
       "        text-align: right;\n",
       "    }\n",
       "\n",
       "    .dataframe thead th {\n",
       "        text-align: left;\n",
       "    }\n",
       "\n",
       "    .dataframe tbody tr th {\n",
       "        vertical-align: top;\n",
       "    }\n",
       "</style>\n",
       "<table border=\"1\" class=\"dataframe\">\n",
       "  <thead>\n",
       "    <tr style=\"text-align: right;\">\n",
       "      <th></th>\n",
       "      <th>lineage_1</th>\n",
       "      <th>lineage_2</th>\n",
       "      <th>lineage_3</th>\n",
       "      <th>lineage_4</th>\n",
       "      <th>lineage_5</th>\n",
       "      <th>isolate_ID</th>\n",
       "    </tr>\n",
       "  </thead>\n",
       "  <tbody>\n",
       "    <tr>\n",
       "      <th>0</th>\n",
       "      <td>4</td>\n",
       "      <td>3</td>\n",
       "      <td>4</td>\n",
       "      <td>2</td>\n",
       "      <td>NaN</td>\n",
       "      <td>SAMEA3558733</td>\n",
       "    </tr>\n",
       "    <tr>\n",
       "      <th>1</th>\n",
       "      <td>4</td>\n",
       "      <td>4</td>\n",
       "      <td>1</td>\n",
       "      <td>1</td>\n",
       "      <td>NaN</td>\n",
       "      <td>SAMN03648641</td>\n",
       "    </tr>\n",
       "    <tr>\n",
       "      <th>2</th>\n",
       "      <td>3</td>\n",
       "      <td>1</td>\n",
       "      <td>1</td>\n",
       "      <td>NaN</td>\n",
       "      <td>NaN</td>\n",
       "      <td>SAMN03647419</td>\n",
       "    </tr>\n",
       "    <tr>\n",
       "      <th>3</th>\n",
       "      <td>4</td>\n",
       "      <td>3</td>\n",
       "      <td>2</td>\n",
       "      <td>NaN</td>\n",
       "      <td>NaN</td>\n",
       "      <td>SAMEA3671418</td>\n",
       "    </tr>\n",
       "    <tr>\n",
       "      <th>4</th>\n",
       "      <td>1</td>\n",
       "      <td>1</td>\n",
       "      <td>3</td>\n",
       "      <td>NaN</td>\n",
       "      <td>NaN</td>\n",
       "      <td>SAMN07659096</td>\n",
       "    </tr>\n",
       "  </tbody>\n",
       "</table>\n",
       "</div>"
      ],
      "text/plain": [
       "  lineage_1 lineage_2 lineage_3 lineage_4 lineage_5    isolate_ID\n",
       "0         4         3         4         2       NaN  SAMEA3558733\n",
       "1         4         4         1         1       NaN  SAMN03648641\n",
       "2         3         1         1       NaN       NaN  SAMN03647419\n",
       "3         4         3         2       NaN       NaN  SAMEA3671418\n",
       "4         1         1         3       NaN       NaN  SAMN07659096"
      ]
     },
     "execution_count": 40,
     "metadata": {},
     "output_type": "execute_result"
    }
   ],
   "source": [
    "isolate_annotation_DF.head()"
   ]
  },
  {
   "cell_type": "code",
   "execution_count": 41,
   "metadata": {},
   "outputs": [
    {
     "data": {
      "text/plain": [
       "(32355, 6)"
      ]
     },
     "execution_count": 41,
     "metadata": {},
     "output_type": "execute_result"
    }
   ],
   "source": [
    "np.shape(isolate_annotation_DF)"
   ]
  },
  {
   "cell_type": "markdown",
   "metadata": {},
   "source": [
    "####################################################################################################################################################################################"
   ]
  },
  {
   "cell_type": "markdown",
   "metadata": {},
   "source": [
    "## [4] *FILTER*: Drop Isolates without a Global Lineage Call or that had more than 1 Global Lineage Call"
   ]
  },
  {
   "cell_type": "markdown",
   "metadata": {},
   "source": [
    "####################################################################################################################################################################################"
   ]
  },
  {
   "cell_type": "markdown",
   "metadata": {},
   "source": [
    "#### Only keep isolates with a single 'Global Lineage call' (many global lineages were actually inferred from more specific sub-lineage defining SNPs)"
   ]
  },
  {
   "cell_type": "markdown",
   "metadata": {},
   "source": [
    "Filter out isolates with no lineage calls"
   ]
  },
  {
   "cell_type": "code",
   "execution_count": 42,
   "metadata": {},
   "outputs": [],
   "source": [
    "#boolean list that is 'True' for all isolates no global lineage calls\n",
    "isolates_no_lineage_calls_filter = []\n",
    "\n",
    "for isolate_i in lineage_calls_for_isolates_DF.index:\n",
    "    \n",
    "    #if the first column is NaN, then we don't have any lineage calls for this isolate*\n",
    "    ## (*possible to have a sub-lineage 'BOV_AFRI' with no global lineage but we're dropping these)\n",
    "    if lineage_calls_for_isolates_DF.loc[isolate_i , 'lineage_1'] is np.nan:\n",
    "        \n",
    "        isolates_no_lineage_calls_filter.append(True)\n",
    "        \n",
    "    else:\n",
    "        \n",
    "        isolates_no_lineage_calls_filter.append(False)"
   ]
  },
  {
   "cell_type": "code",
   "execution_count": 43,
   "metadata": {},
   "outputs": [
    {
     "data": {
      "text/plain": [
       "322"
      ]
     },
     "execution_count": 43,
     "metadata": {},
     "output_type": "execute_result"
    }
   ],
   "source": [
    "np.sum(isolates_no_lineage_calls_filter) #drop these isolates"
   ]
  },
  {
   "cell_type": "code",
   "execution_count": 44,
   "metadata": {
    "scrolled": false
   },
   "outputs": [
    {
     "name": "stdout",
     "output_type": "stream",
     "text": [
      "      lineage_1 lineage_2 lineage_3 lineage_4 lineage_5      isolate_ID\n",
      "146         NaN       NaN       NaN       NaN       NaN    SAMN02419670\n",
      "503         NaN       NaN       NaN       NaN       NaN    SAMN06578971\n",
      "818         NaN       NaN       NaN       NaN       NaN    SAMN02403498\n",
      "981         NaN       NaN       NaN       NaN       NaN    SAMN07344639\n",
      "1082        NaN       NaN       NaN       NaN       NaN    SAMEA1016092\n",
      "1127        NaN       NaN       NaN       NaN       NaN    SAMEA3558231\n",
      "1153        NaN       NaN       NaN       NaN       NaN    SAMEA1119333\n",
      "1244        NaN       NaN       NaN       NaN       NaN    SAMN08379718\n",
      "1302        NaN       NaN       NaN       NaN       NaN    SAMEA3420861\n",
      "1356        NaN       NaN       NaN       NaN       NaN    SAMEA1903091\n",
      "1372        NaN       NaN       NaN       NaN       NaN    SAMN08629131\n",
      "1394        NaN       NaN       NaN       NaN       NaN    SAMEA1569344\n",
      "1418        NaN       NaN       NaN       NaN       NaN    SAMEA1556569\n",
      "1607        NaN       NaN       NaN       NaN       NaN    SAMEA1530753\n",
      "1655        NaN       NaN       NaN       NaN       NaN    SAMN02414903\n",
      "1831        NaN       NaN       NaN       NaN       NaN    SAMEA3558119\n",
      "1897        NaN  BOV_AFRI       NaN       NaN       NaN    SAMEA3392502\n",
      "1983        NaN       NaN       NaN       NaN       NaN    SAMEA1117602\n",
      "2083        NaN       NaN       NaN       NaN       NaN    SAMEA5662665\n",
      "2089        NaN       NaN       NaN       NaN       NaN    SAMD00016703\n",
      "2167        NaN       NaN       NaN       NaN       NaN    SAMN08708882\n",
      "2306        NaN       NaN       NaN       NaN       NaN    SAMEA3558124\n",
      "2524        NaN       NaN       NaN       NaN       NaN    SAMEA1406114\n",
      "2684        NaN       NaN       NaN       NaN       NaN    SAMN02231133\n",
      "2775        NaN       NaN       NaN       NaN       NaN    SAMEA1485490\n",
      "2917        NaN       NaN       NaN       NaN       NaN    SAMEA1117961\n",
      "2981        NaN  BOV_AFRI       NaN       NaN       NaN    SAMN09099651\n",
      "3299        NaN       NaN       NaN       NaN       NaN    SAMEA1118042\n",
      "3543        NaN       NaN       NaN       NaN       NaN    SAMEA1485313\n",
      "3617        NaN       NaN       NaN       NaN       NaN    SAMEA3437027\n",
      "3728        NaN       NaN       NaN       NaN       NaN    SAMN06210044\n",
      "3732        NaN       NaN       NaN       NaN       NaN    SAMN08892503\n",
      "3778        NaN       NaN       NaN       NaN       NaN    SAMEA2150164\n",
      "3846        NaN       NaN       NaN       NaN       NaN    SAMN09102415\n",
      "3858        NaN       NaN       NaN       NaN       NaN    SAMEA3558136\n",
      "4274        NaN  BOV_AFRI       NaN       NaN       NaN    SAMEA1119353\n",
      "4350        NaN       NaN       NaN       NaN       NaN    SAMN08379709\n",
      "4369        NaN       NaN       NaN       NaN       NaN    SAMEA3558128\n",
      "4526        NaN       NaN       NaN       NaN       NaN    SAMEA3558138\n",
      "4666        NaN       NaN       NaN       NaN       NaN    SAMN03648091\n",
      "4745        NaN       NaN       NaN       NaN       NaN    SAMEA1569194\n",
      "4881        NaN       NaN       NaN       NaN       NaN    SAMN07659718\n",
      "5009        NaN       NaN       NaN       NaN       NaN    SAMN08629019\n",
      "5083        NaN       NaN       NaN       NaN       NaN    SAMEA1569353\n",
      "5128        NaN       NaN       NaN       NaN       NaN    SAMEA3451228\n",
      "5130        NaN       NaN       NaN       NaN       NaN    SAMN06473181\n",
      "5434        NaN       NaN       NaN       NaN       NaN    SAMN08629293\n",
      "5608        NaN       NaN       NaN       NaN       NaN    SAMEA1016079\n",
      "5612        NaN       NaN       NaN       NaN       NaN    SAMEA3558121\n",
      "5622        NaN       NaN       NaN       NaN       NaN    SAMN08612992\n",
      "5767        NaN       NaN       NaN       NaN       NaN    SAMN02585926\n",
      "5878        NaN       NaN       NaN       NaN       NaN    SAMEA3558194\n",
      "5912        NaN       NaN       NaN       NaN       NaN    SAMN08708856\n",
      "6007        NaN       NaN       NaN       NaN       NaN    SAMN08795379\n",
      "6034        NaN       NaN       NaN       NaN       NaN    SAMEA3558579\n",
      "6053        NaN       NaN       NaN       NaN       NaN    SAMEA1016096\n",
      "6287        NaN       NaN       NaN       NaN       NaN    SAMN09100511\n",
      "6336        NaN       NaN       NaN       NaN       NaN    SAMEA3558159\n",
      "6380        NaN       NaN       NaN       NaN       NaN    SAMEA1404000\n",
      "6537        NaN       NaN       NaN       NaN       NaN    SAMN08215117\n",
      "6742        NaN       NaN       NaN       NaN       NaN    SAMEA1117824\n",
      "6922        NaN       NaN       NaN       NaN       NaN    SAMN08708177\n",
      "7116        NaN       NaN       NaN       NaN       NaN    SAMEA1707132\n",
      "7168        NaN       NaN       NaN       NaN       NaN    SAMN08629285\n",
      "7232        NaN       NaN       NaN       NaN       NaN    SAMEA2147861\n",
      "7362        NaN       NaN       NaN       NaN       NaN    SAMN08795005\n",
      "7488        NaN       NaN       NaN       NaN       NaN    SAMN08143538\n",
      "7523        NaN       NaN       NaN       NaN       NaN    SAMEA1556826\n",
      "7631        NaN       NaN       NaN       NaN       NaN    SAMEA1688485\n",
      "7691        NaN       NaN       NaN       NaN       NaN    SAMEA1403820\n",
      "7709        NaN       NaN       NaN       NaN       NaN    SAMEA1903067\n",
      "7750        NaN       NaN       NaN       NaN       NaN    SAMEA2081450\n",
      "7843        NaN       NaN       NaN       NaN       NaN    SAMEA3558214\n",
      "7848        NaN       NaN       NaN       NaN       NaN    SAMN02599084\n",
      "7935        NaN       NaN       NaN       NaN       NaN    SAMEA1119682\n",
      "7968        NaN       NaN       NaN       NaN       NaN    SAMN05576413\n",
      "7974        NaN       NaN       NaN       NaN       NaN        Peru4127\n",
      "7982        NaN       NaN       NaN       NaN       NaN    SAMN09651667\n",
      "8209        NaN       NaN       NaN       NaN       NaN    SAMN08379994\n",
      "8259        NaN       NaN       NaN       NaN       NaN    SAMN02585904\n",
      "8369        NaN       NaN       NaN       NaN       NaN    SAMEA3558131\n",
      "8406        NaN       NaN       NaN       NaN       NaN    SAMEA1406075\n",
      "8611        NaN       NaN       NaN       NaN       NaN    SAMEA3558117\n",
      "8667        NaN       NaN       NaN       NaN       NaN    SAMEA1403788\n",
      "8875        NaN       NaN       NaN       NaN       NaN    SAMN06579024\n",
      "9154        NaN       NaN       NaN       NaN       NaN    SAMEA1569343\n",
      "9176        NaN  BOV_AFRI       NaN       NaN       NaN    SAMEA4752944\n",
      "9201        NaN       NaN       NaN       NaN       NaN    SAMEA5569548\n",
      "9304        NaN       NaN       NaN       NaN       NaN    SAMN08379972\n",
      "9412        NaN       NaN       NaN       NaN       NaN    SAMN05575699\n",
      "9423        NaN       NaN       NaN       NaN       NaN    SAMN02403516\n",
      "9508        NaN       NaN       NaN       NaN       NaN    SAMN07344600\n",
      "9582        NaN       NaN       NaN       NaN       NaN    SAMEA3448753\n",
      "9629        NaN       NaN       NaN       NaN       NaN    SAMEA1015920\n",
      "9630        NaN       NaN       NaN       NaN       NaN    SAMEA1688475\n",
      "9712        NaN       NaN       NaN       NaN       NaN    SAMN07344659\n",
      "9855        NaN       NaN       NaN       NaN       NaN    SAMN07344618\n",
      "9954        NaN       NaN       NaN       NaN       NaN    SAMEA1403944\n",
      "10046       NaN       NaN       NaN       NaN       NaN    SAMEA3558116\n",
      "10065       NaN       NaN       NaN       NaN       NaN    SAMN03647380\n",
      "10082       NaN       NaN       NaN       NaN       NaN    SAMEA1119680\n",
      "10464       NaN       NaN       NaN       NaN       NaN    SAMEA3558195\n",
      "10526       NaN       NaN       NaN       NaN       NaN    SAMEA3374807\n",
      "10619       NaN       NaN       NaN       NaN       NaN    SAMEA1903084\n",
      "10653       NaN       NaN       NaN       NaN       NaN    SAMEA2709704\n",
      "10691       NaN       NaN       NaN       NaN       NaN    SAMN09756092\n",
      "10698       NaN       NaN       NaN       NaN       NaN    SAMEA3558150\n",
      "10728       NaN       NaN       NaN       NaN       NaN    SAMN08215420\n",
      "10748       NaN       NaN       NaN       NaN       NaN    SAMEA1707509\n",
      "10863       NaN       NaN       NaN       NaN       NaN    SAMN08612791\n",
      "10928       NaN       NaN       NaN       NaN       NaN    SAMEA3558170\n",
      "11074       NaN       NaN       NaN       NaN       NaN    SAMN08379886\n",
      "11192       NaN       NaN       NaN       NaN       NaN      M0003422-4\n",
      "11305       NaN       NaN       NaN       NaN       NaN    SAMN09399489\n",
      "11629       NaN       NaN       NaN       NaN       NaN    SAMN06578996\n",
      "11663       NaN  BOV_AFRI       NaN       NaN       NaN    SAMEA5606683\n",
      "11674       NaN       NaN       NaN       NaN       NaN    SAMN03647767\n",
      "11868       NaN       NaN       NaN       NaN       NaN    SAMEA1403947\n",
      "11997       NaN       NaN       NaN       NaN       NaN    SAMN07658886\n",
      "12014       NaN       NaN       NaN       NaN       NaN    SAMN07344627\n",
      "12091       NaN       NaN       NaN       NaN       NaN    SAMEA1707382\n",
      "12148       NaN       NaN       NaN       NaN       NaN    SAMN08708301\n",
      "12566       NaN       NaN       NaN       NaN       NaN    SAMEA3558114\n",
      "12576       NaN       NaN       NaN       NaN       NaN    SAMN08795330\n",
      "12719       NaN       NaN       NaN       NaN       NaN    SAMN08612731\n",
      "12744       NaN       NaN       NaN       NaN       NaN    SAMN08708438\n",
      "12906       NaN       NaN       NaN       NaN       NaN    SAMEA1485325\n",
      "12923       NaN       NaN       NaN       NaN       NaN    SAMN08629218\n",
      "13084       NaN       NaN       NaN       NaN       NaN    SAMEA1485517\n",
      "13150       NaN       NaN       NaN       NaN       NaN    SAMEA3558120\n",
      "13271       NaN       NaN       NaN       NaN       NaN    SAMEA3558127\n",
      "13400       NaN       NaN       NaN       NaN       NaN    SAMEA1485270\n",
      "13513       NaN       NaN       NaN       NaN       NaN    SAMN08815977\n",
      "13555       NaN       NaN       NaN       NaN       NaN    SAMN08795214\n",
      "13632       NaN       NaN       NaN       NaN       NaN    SAMN09102360\n",
      "13770       NaN       NaN       NaN       NaN       NaN    SAMEA3558624\n",
      "13921       NaN       NaN       NaN       NaN       NaN    SAMN09651704\n",
      "13959       NaN  BOV_AFRI       NaN       NaN       NaN    SAMEA4752943\n",
      "14007       NaN       NaN       NaN       NaN       NaN         01R0697\n",
      "14275       NaN       NaN       NaN       NaN       NaN    SAMN03648606\n",
      "14556       NaN       NaN       NaN       NaN       NaN    SAMN02585935\n",
      "14832       NaN       NaN       NaN       NaN       NaN    SAMEA1016141\n",
      "14838       NaN       NaN       NaN       NaN       NaN    SAMN08379732\n",
      "14843       NaN       NaN       NaN       NaN       NaN    SAMEA3558233\n",
      "14873       NaN       NaN       NaN       NaN       NaN    SAMN09914678\n",
      "14982       NaN       NaN       NaN       NaN       NaN    SAMEA3558148\n",
      "15010       NaN       NaN       NaN       NaN       NaN    SAMEA1707372\n",
      "15094       NaN       NaN       NaN       NaN       NaN    SAMEA3558175\n",
      "15125       NaN       NaN       NaN       NaN       NaN    SAMEA2534922\n",
      "15237       NaN       NaN       NaN       NaN       NaN    SAMEA1397500\n",
      "15313       NaN       NaN       NaN       NaN       NaN    SAMN08892544\n",
      "15375       NaN       NaN       NaN       NaN       NaN    SAMEA1485396\n",
      "15712       NaN       NaN       NaN       NaN       NaN    SAMEA1403889\n",
      "15714       NaN       NaN       NaN       NaN       NaN    SAMEA3558112\n",
      "15771       NaN       NaN       NaN       NaN       NaN    SAMN08708481\n",
      "15861       NaN       NaN       NaN       NaN       NaN    SAMEA1707200\n",
      "15934       NaN       NaN       NaN       NaN       NaN    SAMEA3444107\n",
      "15972       NaN       NaN       NaN       NaN       NaN    SAMN08709033\n",
      "16088       NaN       NaN       NaN       NaN       NaN    SAMEA1556739\n",
      "16731       NaN       NaN       NaN       NaN       NaN    SAMN04276667\n",
      "16804       NaN       NaN       NaN       NaN       NaN        Peru4101\n",
      "16891       NaN       NaN       NaN       NaN       NaN    SAMN07344712\n",
      "16951       NaN       NaN       NaN       NaN       NaN    SAMEA3558228\n",
      "16969       NaN       NaN       NaN       NaN       NaN    SAMN06579113\n",
      "16980       NaN       NaN       NaN       NaN       NaN    SAMEA3558110\n",
      "17039       NaN       NaN       NaN       NaN       NaN    SAMN08379983\n",
      "17246       NaN       NaN       NaN       NaN       NaN    SAMN06473156\n",
      "17430       NaN       NaN       NaN       NaN       NaN    SAMEA3558118\n",
      "17533       NaN       NaN       NaN       NaN       NaN    SAMEA1556882\n",
      "17689       NaN       NaN       NaN       NaN       NaN        Peru5103\n",
      "17719       NaN       NaN       NaN       NaN       NaN    SAMEA4791099\n",
      "17826       NaN       NaN       NaN       NaN       NaN    SAMN08708905\n",
      "17832       NaN       NaN       NaN       NaN       NaN    SAMEA1406063\n",
      "17900       NaN       NaN       NaN       NaN       NaN    SAMN08379742\n",
      "18021       NaN       NaN       NaN       NaN       NaN    SAMEA3558141\n",
      "18041       NaN       NaN       NaN       NaN       NaN    SAMEA1556579\n",
      "18082       NaN       NaN       NaN       NaN       NaN    SAMN05576406\n",
      "18252       NaN       NaN       NaN       NaN       NaN    SAMEA3558123\n",
      "18394       NaN       NaN       NaN       NaN       NaN    SAMN08612691\n",
      "18569       NaN       NaN       NaN       NaN       NaN    SAMEA1119578\n",
      "18598       NaN       NaN       NaN       NaN       NaN    SAMN05576395\n",
      "18715       NaN       NaN       NaN       NaN       NaN    SAMEA3558130\n",
      "18809       NaN       NaN       NaN       NaN       NaN    SAMEA1707248\n",
      "18812       NaN       NaN       NaN       NaN       NaN    SAMN08794932\n",
      "18938       NaN       NaN       NaN       NaN       NaN    SAMEA4441486\n",
      "19045       NaN       NaN       NaN       NaN       NaN    SAMN02585945\n",
      "19469       NaN       NaN       NaN       NaN       NaN    SAMN08379703\n",
      "19550       NaN       NaN       NaN       NaN       NaN    SAMN02231150\n",
      "19769       NaN       NaN       NaN       NaN       NaN    SAMN02419613\n",
      "19881       NaN       NaN       NaN       NaN       NaN    SAMEA1397516\n",
      "20062       NaN       NaN       NaN       NaN       NaN    SAMN02381002\n",
      "20275       NaN       NaN       NaN       NaN       NaN    SAMEA3558113\n",
      "20366       NaN       NaN       NaN       NaN       NaN    SAMN05576399\n",
      "20437       NaN       NaN       NaN       NaN       NaN    SAMN08379778\n",
      "20550       NaN       NaN       NaN       NaN       NaN    SAMEA1101610\n",
      "20602       NaN       NaN       NaN       NaN       NaN    SAMN03648337\n",
      "20621       NaN       NaN       NaN       NaN       NaN    SAMEA1317630\n",
      "20741       NaN       NaN       NaN       NaN       NaN    SAMEA3558176\n",
      "20769       NaN       NaN       NaN       NaN       NaN        Peru4037\n",
      "20774       NaN       NaN       NaN       NaN       NaN    SAMN09914668\n",
      "20820       NaN       NaN       NaN       NaN       NaN    SAMEA3558223\n",
      "20857       NaN       NaN       NaN       NaN       NaN    SAMN08795213\n",
      "20926       NaN       NaN       NaN       NaN       NaN    SAMN03647832\n",
      "21122       NaN       NaN       NaN       NaN       NaN    SAMN02585894\n",
      "21197       NaN       NaN       NaN       NaN       NaN    SAMEA3558192\n",
      "21229       NaN       NaN       NaN       NaN       NaN    SAMEA1485235\n",
      "21285       NaN       NaN       NaN       NaN       NaN    SAMEA1403994\n",
      "21381       NaN       NaN       NaN       NaN       NaN    SAMEA3414203\n",
      "21443       NaN       NaN       NaN       NaN       NaN    SAMN08709305\n",
      "21453       NaN  BOV_AFRI       NaN       NaN       NaN    SAMEA4798873\n",
      "21497       NaN       NaN       NaN       NaN       NaN    SAMN02380993\n",
      "21560       NaN       NaN       NaN       NaN       NaN    SAMEA1117601\n",
      "21581       NaN       NaN       NaN       NaN       NaN    SAMEA1707138\n",
      "21642       NaN       NaN       NaN       NaN       NaN    SAMN08379865\n",
      "21744       NaN       NaN       NaN       NaN       NaN  SAMEA104362086\n",
      "22283       NaN       NaN       NaN       NaN       NaN    SAMEA1397443\n",
      "22304       NaN       NaN       NaN       NaN       NaN    SAMN09914671\n",
      "22427       NaN       NaN       NaN       NaN       NaN        Peru4102\n",
      "22465       NaN       NaN       NaN       NaN       NaN    SAMEA2147661\n",
      "22567       NaN       NaN       NaN       NaN       NaN    SAMN02231125\n",
      "22979       NaN       NaN       NaN       NaN       NaN    SAMEA1406143\n",
      "22993       NaN       NaN       NaN       NaN       NaN    SAMN08892548\n",
      "23011       NaN       NaN       NaN       NaN       NaN        Peru4094\n",
      "23056       NaN       NaN       NaN       NaN       NaN    SAMEA3558125\n",
      "23185       NaN       NaN       NaN       NaN       NaN    SAMN08732144\n",
      "23296       NaN       NaN       NaN       NaN       NaN    SAMEA1556874\n",
      "23423       NaN       NaN       NaN       NaN       NaN    SAMEA1708480\n",
      "23526       NaN       NaN       NaN       NaN       NaN    SAMN05576405\n",
      "23528       NaN       NaN       NaN       NaN       NaN    SAMN07344704\n",
      "23535       NaN       NaN       NaN       NaN       NaN    SAMN08612749\n",
      "23546       NaN       NaN       NaN       NaN       NaN    SAMN08379979\n",
      "23706       NaN       NaN       NaN       NaN       NaN        Peru3025\n",
      "23757       NaN       NaN       NaN       NaN       NaN    SAMEA1707172\n",
      "24074       NaN       NaN       NaN       NaN       NaN    SAMEA5607308\n",
      "24100       NaN       NaN       NaN       NaN       NaN    SAMEA3558126\n",
      "24207       NaN       NaN       NaN       NaN       NaN    SAMEA5607304\n",
      "24251       NaN       NaN       NaN       NaN       NaN    SAMN02231112\n",
      "24263       NaN       NaN       NaN       NaN       NaN    SAMEA3558186\n",
      "24326       NaN       NaN       NaN       NaN       NaN    SAMN08379694\n",
      "24368       NaN       NaN       NaN       NaN       NaN    SAMN08612742\n",
      "24440       NaN  BOV_AFRI       NaN       NaN       NaN    SAMEA4752952\n",
      "24451       NaN       NaN       NaN       NaN       NaN    SAMEA3512769\n",
      "24477       NaN       NaN       NaN       NaN       NaN    SAMEA3558193\n",
      "24478       NaN       NaN       NaN       NaN       NaN    SAMEA1403674\n",
      "24606       NaN       NaN       NaN       NaN       NaN    SAMEA1406028\n",
      "24677       NaN       NaN       NaN       NaN       NaN    SAMEA3221069\n",
      "24928       NaN       NaN       NaN       NaN       NaN    SAMN03647357\n",
      "24964       NaN       NaN       NaN       NaN       NaN        Peru4036\n",
      "25039       NaN       NaN       NaN       NaN       NaN    SAMN02231116\n",
      "25077       NaN       NaN       NaN       NaN       NaN        Peru3021\n",
      "25498       NaN       NaN       NaN       NaN       NaN    SAMEA3558111\n",
      "25530       NaN       NaN       NaN       NaN       NaN    SAMEA3558134\n",
      "25550       NaN       NaN       NaN       NaN       NaN    SAMN12551419\n",
      "25675       NaN       NaN       NaN       NaN       NaN    SAMN08612764\n",
      "25733       NaN       NaN       NaN       NaN       NaN  SAMEA104362188\n",
      "25736       NaN       NaN       NaN       NaN       NaN    SAMN09651769\n",
      "25817       NaN       NaN       NaN       NaN       NaN    SAMEA3558122\n",
      "25900       NaN       NaN       NaN       NaN       NaN    SAMEA1688657\n",
      "26006       NaN       NaN       NaN       NaN       NaN    SAMEA3558173\n",
      "26121       NaN       NaN       NaN       NaN       NaN    SAMN08732520\n",
      "26350       NaN       NaN       NaN       NaN       NaN    SAMN04396897\n",
      "26384       NaN       NaN       NaN       NaN       NaN    SAMEA4798642\n",
      "26529       NaN       NaN       NaN       NaN       NaN    SAMN08379942\n",
      "26616       NaN       NaN       NaN       NaN       NaN    SAMN12551520\n",
      "26617       NaN       NaN       NaN       NaN       NaN    SAMN07236337\n",
      "26893       NaN       NaN       NaN       NaN       NaN    SAMEA3558129\n",
      "27405       NaN       NaN       NaN       NaN       NaN    SAMEA3558177\n",
      "27665       NaN       NaN       NaN       NaN       NaN    SAMEA1117738\n",
      "27738       NaN       NaN       NaN       NaN       NaN    SAMEA1877139\n",
      "27785       NaN       NaN       NaN       NaN       NaN    SAMN03648510\n",
      "27793       NaN       NaN       NaN       NaN       NaN    SAMEA1317662\n",
      "27962       NaN       NaN       NaN       NaN       NaN    SAMEA3558172\n",
      "28022       NaN       NaN       NaN       NaN       NaN    SAMN08626018\n",
      "28126       NaN       NaN       NaN       NaN       NaN    SAMEA1556602\n",
      "28132       NaN       NaN       NaN       NaN       NaN    SAMN06473193\n",
      "28390       NaN       NaN       NaN       NaN       NaN        Peru3988\n",
      "28504       NaN       NaN       NaN       NaN       NaN    SAMEA1465923\n",
      "28617       NaN       NaN       NaN       NaN       NaN    SAMEA1117756\n",
      "28716       NaN       NaN       NaN       NaN       NaN    SAMEA3558115\n",
      "28761       NaN       NaN       NaN       NaN       NaN    SAMEA3558137\n",
      "28867       NaN       NaN       NaN       NaN       NaN    SAMEA5662687\n",
      "28956       NaN       NaN       NaN       NaN       NaN    SAMN08612725\n",
      "29035       NaN  BOV_AFRI       NaN       NaN       NaN    SAMEA2533708\n",
      "29106       NaN       NaN       NaN       NaN       NaN    SAMN08629387\n",
      "29165       NaN       NaN       NaN       NaN       NaN    SAMEA3558206\n",
      "29408       NaN       NaN       NaN       NaN       NaN    SAMEA3558199\n",
      "29413       NaN       NaN       NaN       NaN       NaN        Peru4956\n",
      "29448       NaN       NaN       NaN       NaN       NaN    SAMEA1119233\n",
      "29592       NaN       NaN       NaN       NaN       NaN    SAMEA1102294\n",
      "29651       NaN       NaN       NaN       NaN       NaN    SAMEA1485390\n",
      "29784       NaN       NaN       NaN       NaN       NaN    SAMEA1015947\n",
      "29830       NaN       NaN       NaN       NaN       NaN    SAMEA3558109\n",
      "29890       NaN       NaN       NaN       NaN       NaN    SAMN02231103\n",
      "29973       NaN  BOV_AFRI       NaN       NaN       NaN    SAMEA5366642\n",
      "30122       NaN       NaN       NaN       NaN       NaN    SAMN09651740\n",
      "30239       NaN       NaN       NaN       NaN       NaN    SAMN06579079\n",
      "30425       NaN       NaN       NaN       NaN       NaN    SAMEA1406081\n",
      "30466       NaN  BOV_AFRI       NaN       NaN       NaN    SAMEA3558200\n",
      "30539       NaN       NaN       NaN       NaN       NaN        Peru4967\n",
      "30626       NaN       NaN       NaN       NaN       NaN    SAMEA3558232\n",
      "30766       NaN       NaN       NaN       NaN       NaN    SAMEA1397508\n",
      "30831       NaN       NaN       NaN       NaN       NaN    SAMEA1403724\n",
      "30854       NaN       NaN       NaN       NaN       NaN    SAMN04276678\n",
      "30904       NaN       NaN       NaN       NaN       NaN    SAMN02350444\n",
      "30929       NaN       NaN       NaN       NaN       NaN    SAMN03647443\n",
      "30999       NaN       NaN       NaN       NaN       NaN    SAMEA3374887\n",
      "31028       NaN       NaN       NaN       NaN       NaN    SAMN01828246\n",
      "31205       NaN       NaN       NaN       NaN       NaN    SAMN08629012\n",
      "31226       NaN       NaN       NaN       NaN       NaN    SAMEA3558592\n",
      "31317       NaN       NaN       NaN       NaN       NaN    SAMN03648751\n",
      "31354       NaN       NaN       NaN       NaN       NaN    SAMEA1707534\n",
      "31558       NaN       NaN       NaN       NaN       NaN    SAMN03648605\n",
      "31609       NaN       NaN       NaN       NaN       NaN    SAMEA1707750\n",
      "31753       NaN       NaN       NaN       NaN       NaN    SAMN08708985\n",
      "31977       NaN       NaN       NaN       NaN       NaN    SAMEA1101754\n",
      "32081       NaN       NaN       NaN       NaN       NaN    SAMEA3558218\n",
      "32101       NaN       NaN       NaN       NaN       NaN    SAMN06579045\n",
      "32145       NaN       NaN       NaN       NaN       NaN    SAMEA1569151\n",
      "32148       NaN       NaN       NaN       NaN       NaN    SAMN08629237\n",
      "32242       NaN       NaN       NaN       NaN       NaN    SAMN02584672\n",
      "32307       NaN       NaN       NaN       NaN       NaN    SAMN04396872\n",
      "32315       NaN       NaN       NaN       NaN       NaN    SAMN08892469\n"
     ]
    }
   ],
   "source": [
    "with pd.option_context('display.max_rows', None, 'display.max_columns', None):  # more options can be specified also\n",
    "    print(isolate_annotation_DF[isolates_no_lineage_calls_filter])"
   ]
  },
  {
   "cell_type": "markdown",
   "metadata": {},
   "source": [
    "Create a boolean filter of all isolates to retain (isolates that only had exactly 1 global lineage call)"
   ]
  },
  {
   "cell_type": "code",
   "execution_count": 45,
   "metadata": {},
   "outputs": [],
   "source": [
    "isolates_to_keep_filter = [ not no_lineage_SNP for no_lineage_SNP in isolates_no_lineage_calls_filter ]"
   ]
  },
  {
   "cell_type": "code",
   "execution_count": 46,
   "metadata": {},
   "outputs": [
    {
     "data": {
      "text/plain": [
       "32033"
      ]
     },
     "execution_count": 46,
     "metadata": {},
     "output_type": "execute_result"
    }
   ],
   "source": [
    "np.sum(isolates_to_keep_filter)"
   ]
  },
  {
   "cell_type": "code",
   "execution_count": 47,
   "metadata": {},
   "outputs": [],
   "source": [
    "#filter Isolate annotation DF\n",
    "isolate_annotation_DF = isolate_annotation_DF[isolates_to_keep_filter]\n",
    "\n",
    "#reindex Isolate annotation DF\n",
    "isolate_annotation_DF.reset_index(drop = True , inplace = True)\n",
    "\n",
    "#filter Genotype Matrix \n",
    "genotypes_array = genotypes_array[: , np.array(isolates_to_keep_filter) ]"
   ]
  },
  {
   "cell_type": "code",
   "execution_count": 48,
   "metadata": {},
   "outputs": [
    {
     "data": {
      "text/html": [
       "<div>\n",
       "<style>\n",
       "    .dataframe thead tr:only-child th {\n",
       "        text-align: right;\n",
       "    }\n",
       "\n",
       "    .dataframe thead th {\n",
       "        text-align: left;\n",
       "    }\n",
       "\n",
       "    .dataframe tbody tr th {\n",
       "        vertical-align: top;\n",
       "    }\n",
       "</style>\n",
       "<table border=\"1\" class=\"dataframe\">\n",
       "  <thead>\n",
       "    <tr style=\"text-align: right;\">\n",
       "      <th></th>\n",
       "      <th>lineage_1</th>\n",
       "      <th>lineage_2</th>\n",
       "      <th>lineage_3</th>\n",
       "      <th>lineage_4</th>\n",
       "      <th>lineage_5</th>\n",
       "      <th>isolate_ID</th>\n",
       "    </tr>\n",
       "  </thead>\n",
       "  <tbody>\n",
       "    <tr>\n",
       "      <th>0</th>\n",
       "      <td>4</td>\n",
       "      <td>3</td>\n",
       "      <td>4</td>\n",
       "      <td>2</td>\n",
       "      <td>NaN</td>\n",
       "      <td>SAMEA3558733</td>\n",
       "    </tr>\n",
       "    <tr>\n",
       "      <th>1</th>\n",
       "      <td>4</td>\n",
       "      <td>4</td>\n",
       "      <td>1</td>\n",
       "      <td>1</td>\n",
       "      <td>NaN</td>\n",
       "      <td>SAMN03648641</td>\n",
       "    </tr>\n",
       "    <tr>\n",
       "      <th>2</th>\n",
       "      <td>3</td>\n",
       "      <td>1</td>\n",
       "      <td>1</td>\n",
       "      <td>NaN</td>\n",
       "      <td>NaN</td>\n",
       "      <td>SAMN03647419</td>\n",
       "    </tr>\n",
       "    <tr>\n",
       "      <th>3</th>\n",
       "      <td>4</td>\n",
       "      <td>3</td>\n",
       "      <td>2</td>\n",
       "      <td>NaN</td>\n",
       "      <td>NaN</td>\n",
       "      <td>SAMEA3671418</td>\n",
       "    </tr>\n",
       "    <tr>\n",
       "      <th>4</th>\n",
       "      <td>1</td>\n",
       "      <td>1</td>\n",
       "      <td>3</td>\n",
       "      <td>NaN</td>\n",
       "      <td>NaN</td>\n",
       "      <td>SAMN07659096</td>\n",
       "    </tr>\n",
       "  </tbody>\n",
       "</table>\n",
       "</div>"
      ],
      "text/plain": [
       "  lineage_1 lineage_2 lineage_3 lineage_4 lineage_5    isolate_ID\n",
       "0         4         3         4         2       NaN  SAMEA3558733\n",
       "1         4         4         1         1       NaN  SAMN03648641\n",
       "2         3         1         1       NaN       NaN  SAMN03647419\n",
       "3         4         3         2       NaN       NaN  SAMEA3671418\n",
       "4         1         1         3       NaN       NaN  SAMN07659096"
      ]
     },
     "execution_count": 48,
     "metadata": {},
     "output_type": "execute_result"
    }
   ],
   "source": [
    "isolate_annotation_DF.head()"
   ]
  },
  {
   "cell_type": "code",
   "execution_count": 49,
   "metadata": {},
   "outputs": [
    {
     "data": {
      "text/plain": [
       "(32033, 6)"
      ]
     },
     "execution_count": 49,
     "metadata": {},
     "output_type": "execute_result"
    }
   ],
   "source": [
    "np.shape(isolate_annotation_DF)"
   ]
  },
  {
   "cell_type": "code",
   "execution_count": 50,
   "metadata": {},
   "outputs": [
    {
     "data": {
      "text/plain": [
       "(139797, 32033)"
      ]
     },
     "execution_count": 50,
     "metadata": {},
     "output_type": "execute_result"
    }
   ],
   "source": [
    "np.shape(genotypes_array)"
   ]
  },
  {
   "cell_type": "markdown",
   "metadata": {},
   "source": [
    "#### Number of isolates present in each global lineage"
   ]
  },
  {
   "cell_type": "code",
   "execution_count": 51,
   "metadata": {},
   "outputs": [],
   "source": [
    "from collections import Counter\n",
    "lineage_count = pd.Series(Counter(isolate_annotation_DF.lineage_1))"
   ]
  },
  {
   "cell_type": "code",
   "execution_count": 52,
   "metadata": {},
   "outputs": [
    {
     "data": {
      "text/plain": [
       "1       2802\n",
       "2       8072\n",
       "3       3354\n",
       "4      17420\n",
       "5        101\n",
       "6         97\n",
       "7         35\n",
       "BOV      152\n",
       "dtype: int64"
      ]
     },
     "execution_count": 52,
     "metadata": {},
     "output_type": "execute_result"
    }
   ],
   "source": [
    "lineage_count"
   ]
  },
  {
   "cell_type": "code",
   "execution_count": 53,
   "metadata": {},
   "outputs": [
    {
     "data": {
      "text/plain": [
       "32033"
      ]
     },
     "execution_count": 53,
     "metadata": {},
     "output_type": "execute_result"
    }
   ],
   "source": [
    "int( lineage_count.sum() )"
   ]
  },
  {
   "cell_type": "markdown",
   "metadata": {},
   "source": [
    "####################################################################################################################################################################################"
   ]
  },
  {
   "cell_type": "markdown",
   "metadata": {},
   "source": [
    "## [5] *FILTER*: Drop Isolates there were used in *Longitudinal* Pairs"
   ]
  },
  {
   "cell_type": "markdown",
   "metadata": {},
   "source": [
    "####################################################################################################################################################################################"
   ]
  },
  {
   "cell_type": "markdown",
   "metadata": {},
   "source": [
    "### Drop isolates belonging to any clinical isolates analyzed for in-host analysis (i.e. longitudinal isolates) in sample annotation"
   ]
  },
  {
   "cell_type": "markdown",
   "metadata": {},
   "source": [
    "Annotation for all isolates used in in-host analysis (N = 200 isolates)"
   ]
  },
  {
   "cell_type": "code",
   "execution_count": 54,
   "metadata": {},
   "outputs": [],
   "source": [
    "#sample annotation for all longitudinal isolates in study\n",
    "sample_annotation = pd.read_csv('/n/data1/hms/dbmi/farhat/Roger/inhost_TB_dynamics_project/CSV_files/sample_annotation_files/Longitudinal_fastq_path_names_and_JankyPipe_tags_filtered_final.csv' , sep  = ',').set_index('patient_id')\n",
    "isolate_IDs_within_host_analysis = list( sample_annotation.tag )"
   ]
  },
  {
   "cell_type": "code",
   "execution_count": 55,
   "metadata": {},
   "outputs": [
    {
     "data": {
      "text/plain": [
       "400"
      ]
     },
     "execution_count": 55,
     "metadata": {},
     "output_type": "execute_result"
    }
   ],
   "source": [
    "len(isolate_IDs_within_host_analysis)"
   ]
  },
  {
   "cell_type": "markdown",
   "metadata": {},
   "source": [
    "Create a boolean filter of all isolates to retain (isolates that were not used in in-host analysis)"
   ]
  },
  {
   "cell_type": "code",
   "execution_count": 56,
   "metadata": {},
   "outputs": [],
   "source": [
    "#bool FILTER for isolates to keep in scraping Luca's DB\n",
    "isolates_to_keep_filter = []\n",
    "\n",
    "for isolate_ID in list(isolate_annotation_DF.isolate_ID):\n",
    "    \n",
    "    if isolate_ID in isolate_IDs_within_host_analysis:\n",
    "        isolates_to_keep_filter.append(False)\n",
    "        \n",
    "    else:\n",
    "        isolates_to_keep_filter.append(True)"
   ]
  },
  {
   "cell_type": "code",
   "execution_count": 57,
   "metadata": {},
   "outputs": [
    {
     "data": {
      "text/plain": [
       "31933"
      ]
     },
     "execution_count": 57,
     "metadata": {},
     "output_type": "execute_result"
    }
   ],
   "source": [
    "np.sum( isolates_to_keep_filter ) #number of isolates that were NOT included in in-host analysis"
   ]
  },
  {
   "cell_type": "code",
   "execution_count": 58,
   "metadata": {},
   "outputs": [],
   "source": [
    "#filter Isolate annotation DF\n",
    "isolate_annotation_DF = isolate_annotation_DF[isolates_to_keep_filter]\n",
    "\n",
    "#reindex Isolate annotation DF\n",
    "isolate_annotation_DF.reset_index(drop = True , inplace = True)\n",
    "\n",
    "#filter Genotype Matrix \n",
    "genotypes_array = genotypes_array[: , np.array(isolates_to_keep_filter) ]"
   ]
  },
  {
   "cell_type": "code",
   "execution_count": 59,
   "metadata": {},
   "outputs": [
    {
     "data": {
      "text/html": [
       "<div>\n",
       "<style>\n",
       "    .dataframe thead tr:only-child th {\n",
       "        text-align: right;\n",
       "    }\n",
       "\n",
       "    .dataframe thead th {\n",
       "        text-align: left;\n",
       "    }\n",
       "\n",
       "    .dataframe tbody tr th {\n",
       "        vertical-align: top;\n",
       "    }\n",
       "</style>\n",
       "<table border=\"1\" class=\"dataframe\">\n",
       "  <thead>\n",
       "    <tr style=\"text-align: right;\">\n",
       "      <th></th>\n",
       "      <th>lineage_1</th>\n",
       "      <th>lineage_2</th>\n",
       "      <th>lineage_3</th>\n",
       "      <th>lineage_4</th>\n",
       "      <th>lineage_5</th>\n",
       "      <th>isolate_ID</th>\n",
       "    </tr>\n",
       "  </thead>\n",
       "  <tbody>\n",
       "    <tr>\n",
       "      <th>0</th>\n",
       "      <td>4</td>\n",
       "      <td>3</td>\n",
       "      <td>4</td>\n",
       "      <td>2</td>\n",
       "      <td>NaN</td>\n",
       "      <td>SAMEA3558733</td>\n",
       "    </tr>\n",
       "    <tr>\n",
       "      <th>1</th>\n",
       "      <td>4</td>\n",
       "      <td>4</td>\n",
       "      <td>1</td>\n",
       "      <td>1</td>\n",
       "      <td>NaN</td>\n",
       "      <td>SAMN03648641</td>\n",
       "    </tr>\n",
       "    <tr>\n",
       "      <th>2</th>\n",
       "      <td>3</td>\n",
       "      <td>1</td>\n",
       "      <td>1</td>\n",
       "      <td>NaN</td>\n",
       "      <td>NaN</td>\n",
       "      <td>SAMN03647419</td>\n",
       "    </tr>\n",
       "    <tr>\n",
       "      <th>3</th>\n",
       "      <td>4</td>\n",
       "      <td>3</td>\n",
       "      <td>2</td>\n",
       "      <td>NaN</td>\n",
       "      <td>NaN</td>\n",
       "      <td>SAMEA3671418</td>\n",
       "    </tr>\n",
       "    <tr>\n",
       "      <th>4</th>\n",
       "      <td>1</td>\n",
       "      <td>1</td>\n",
       "      <td>3</td>\n",
       "      <td>NaN</td>\n",
       "      <td>NaN</td>\n",
       "      <td>SAMN07659096</td>\n",
       "    </tr>\n",
       "  </tbody>\n",
       "</table>\n",
       "</div>"
      ],
      "text/plain": [
       "  lineage_1 lineage_2 lineage_3 lineage_4 lineage_5    isolate_ID\n",
       "0         4         3         4         2       NaN  SAMEA3558733\n",
       "1         4         4         1         1       NaN  SAMN03648641\n",
       "2         3         1         1       NaN       NaN  SAMN03647419\n",
       "3         4         3         2       NaN       NaN  SAMEA3671418\n",
       "4         1         1         3       NaN       NaN  SAMN07659096"
      ]
     },
     "execution_count": 59,
     "metadata": {},
     "output_type": "execute_result"
    }
   ],
   "source": [
    "isolate_annotation_DF.head()"
   ]
  },
  {
   "cell_type": "code",
   "execution_count": 60,
   "metadata": {},
   "outputs": [
    {
     "data": {
      "text/plain": [
       "(31933, 6)"
      ]
     },
     "execution_count": 60,
     "metadata": {},
     "output_type": "execute_result"
    }
   ],
   "source": [
    "np.shape(isolate_annotation_DF)"
   ]
  },
  {
   "cell_type": "code",
   "execution_count": 61,
   "metadata": {},
   "outputs": [
    {
     "data": {
      "text/plain": [
       "(139797, 31933)"
      ]
     },
     "execution_count": 61,
     "metadata": {},
     "output_type": "execute_result"
    }
   ],
   "source": [
    "np.shape(genotypes_array)"
   ]
  },
  {
   "cell_type": "markdown",
   "metadata": {},
   "source": [
    "#### Number of isolates present in each global lineage"
   ]
  },
  {
   "cell_type": "code",
   "execution_count": 62,
   "metadata": {},
   "outputs": [],
   "source": [
    "lineage_count = pd.Series(Counter(isolate_annotation_DF.lineage_1))"
   ]
  },
  {
   "cell_type": "code",
   "execution_count": 63,
   "metadata": {},
   "outputs": [
    {
     "data": {
      "text/plain": [
       "1       2802\n",
       "2       8064\n",
       "3       3352\n",
       "4      17330\n",
       "5        101\n",
       "6         97\n",
       "7         35\n",
       "BOV      152\n",
       "dtype: int64"
      ]
     },
     "execution_count": 63,
     "metadata": {},
     "output_type": "execute_result"
    }
   ],
   "source": [
    "lineage_count"
   ]
  },
  {
   "cell_type": "code",
   "execution_count": 64,
   "metadata": {},
   "outputs": [
    {
     "data": {
      "text/plain": [
       "31933"
      ]
     },
     "execution_count": 64,
     "metadata": {},
     "output_type": "execute_result"
    }
   ],
   "source": [
    "int( lineage_count.sum() )"
   ]
  },
  {
   "cell_type": "markdown",
   "metadata": {},
   "source": [
    "####################################################################################################################################################################################"
   ]
  },
  {
   "cell_type": "markdown",
   "metadata": {},
   "source": [
    "## [6] *FILTER*: Downsample Isolates in Lineage 2 and 4; Drop Isolates in Lineage BOV and 7"
   ]
  },
  {
   "cell_type": "markdown",
   "metadata": {},
   "source": [
    "####################################################################################################################################################################################"
   ]
  },
  {
   "cell_type": "markdown",
   "metadata": {},
   "source": [
    "### Drop isolates that were typed as Lineage *BOV* or Lineage *7*"
   ]
  },
  {
   "cell_type": "code",
   "execution_count": 65,
   "metadata": {},
   "outputs": [],
   "source": [
    "isolates_IDs_BOV_to_drop = list( isolate_annotation_DF[isolate_annotation_DF.lineage_1 == 'BOV'].isolate_ID )\n",
    "isolates_IDs_7_to_drop = list( isolate_annotation_DF[isolate_annotation_DF.lineage_1 == '7'].isolate_ID )"
   ]
  },
  {
   "cell_type": "code",
   "execution_count": 66,
   "metadata": {},
   "outputs": [
    {
     "data": {
      "text/plain": [
       "152"
      ]
     },
     "execution_count": 66,
     "metadata": {},
     "output_type": "execute_result"
    }
   ],
   "source": [
    "len(isolates_IDs_BOV_to_drop)"
   ]
  },
  {
   "cell_type": "code",
   "execution_count": 67,
   "metadata": {},
   "outputs": [
    {
     "data": {
      "text/plain": [
       "35"
      ]
     },
     "execution_count": 67,
     "metadata": {},
     "output_type": "execute_result"
    }
   ],
   "source": [
    "len(isolates_IDs_7_to_drop)"
   ]
  },
  {
   "cell_type": "markdown",
   "metadata": {},
   "source": [
    "### Downsample L2 isolates: Randomly choose $1,064 = 8,064 - 7,000$ isolates typed as Lineage 2 to *drop* without replacement"
   ]
  },
  {
   "cell_type": "code",
   "execution_count": 72,
   "metadata": {},
   "outputs": [],
   "source": [
    "isolate_IDs_2_all = list( isolate_annotation_DF[isolate_annotation_DF.lineage_1 == '2'].isolate_ID )"
   ]
  },
  {
   "cell_type": "code",
   "execution_count": 73,
   "metadata": {},
   "outputs": [
    {
     "data": {
      "text/plain": [
       "8064"
      ]
     },
     "execution_count": 73,
     "metadata": {},
     "output_type": "execute_result"
    }
   ],
   "source": [
    "len(isolate_IDs_2_all)"
   ]
  },
  {
   "cell_type": "code",
   "execution_count": 74,
   "metadata": {},
   "outputs": [],
   "source": [
    "isolates_IDs_2_to_drop = random.sample(isolate_IDs_2_all , 1064)"
   ]
  },
  {
   "cell_type": "code",
   "execution_count": 75,
   "metadata": {},
   "outputs": [
    {
     "data": {
      "text/plain": [
       "1064"
      ]
     },
     "execution_count": 75,
     "metadata": {},
     "output_type": "execute_result"
    }
   ],
   "source": [
    "len(isolates_IDs_2_to_drop)"
   ]
  },
  {
   "cell_type": "markdown",
   "metadata": {},
   "source": [
    "### Downsample L4 isolates: Randomly choose $10,330 = 17,330 - 7,000$ isolates typed as Lineage 4 to *drop* without replacement"
   ]
  },
  {
   "cell_type": "code",
   "execution_count": 76,
   "metadata": {},
   "outputs": [],
   "source": [
    "isolate_IDs_4_all = list( isolate_annotation_DF[isolate_annotation_DF.lineage_1 == '4'].isolate_ID )"
   ]
  },
  {
   "cell_type": "code",
   "execution_count": 77,
   "metadata": {},
   "outputs": [
    {
     "data": {
      "text/plain": [
       "17330"
      ]
     },
     "execution_count": 77,
     "metadata": {},
     "output_type": "execute_result"
    }
   ],
   "source": [
    "len(isolate_IDs_4_all)"
   ]
  },
  {
   "cell_type": "code",
   "execution_count": 78,
   "metadata": {},
   "outputs": [],
   "source": [
    "isolates_IDs_4_to_drop = random.sample(isolate_IDs_4_all , 10330)"
   ]
  },
  {
   "cell_type": "code",
   "execution_count": 79,
   "metadata": {},
   "outputs": [
    {
     "data": {
      "text/plain": [
       "10330"
      ]
     },
     "execution_count": 79,
     "metadata": {},
     "output_type": "execute_result"
    }
   ],
   "source": [
    "len(isolates_IDs_4_to_drop)"
   ]
  },
  {
   "cell_type": "markdown",
   "metadata": {},
   "source": [
    "### Create boolean filter for isolates to drop "
   ]
  },
  {
   "cell_type": "code",
   "execution_count": 80,
   "metadata": {},
   "outputs": [],
   "source": [
    "isolates_IDs_to_drop = isolates_IDs_BOV_to_drop + isolates_IDs_7_to_drop + isolates_IDs_2_to_drop + isolates_IDs_4_to_drop"
   ]
  },
  {
   "cell_type": "code",
   "execution_count": 81,
   "metadata": {},
   "outputs": [
    {
     "data": {
      "text/plain": [
       "11581"
      ]
     },
     "execution_count": 81,
     "metadata": {},
     "output_type": "execute_result"
    }
   ],
   "source": [
    "len(isolates_IDs_to_drop)"
   ]
  },
  {
   "cell_type": "markdown",
   "metadata": {},
   "source": [
    "Filter out isolates that were typed as *LBOV*, *L7*, or were randomly chosen to be dropped from *L2* and *L4*"
   ]
  },
  {
   "cell_type": "code",
   "execution_count": 82,
   "metadata": {},
   "outputs": [],
   "source": [
    "#boolean list that is 'True' for all isolates to drop\n",
    "isolates_to_drop_filter = []\n",
    "\n",
    "for isolate_ID in isolate_annotation_DF.isolate_ID:\n",
    "    \n",
    "    if isolate_ID in isolates_IDs_to_drop:\n",
    "        \n",
    "        isolates_to_drop_filter.append(True)\n",
    "        \n",
    "    else:\n",
    "        \n",
    "        isolates_to_drop_filter.append(False)"
   ]
  },
  {
   "cell_type": "code",
   "execution_count": 83,
   "metadata": {},
   "outputs": [
    {
     "data": {
      "text/plain": [
       "11581"
      ]
     },
     "execution_count": 83,
     "metadata": {},
     "output_type": "execute_result"
    }
   ],
   "source": [
    "sum(isolates_to_drop_filter)"
   ]
  },
  {
   "cell_type": "markdown",
   "metadata": {},
   "source": [
    "### Create boolean filter for isolates to keep"
   ]
  },
  {
   "cell_type": "code",
   "execution_count": 84,
   "metadata": {},
   "outputs": [],
   "source": [
    "isolates_to_keep_filter = [not isolate_to_drop for isolate_to_drop in isolates_to_drop_filter]"
   ]
  },
  {
   "cell_type": "code",
   "execution_count": 85,
   "metadata": {},
   "outputs": [
    {
     "data": {
      "text/plain": [
       "20352"
      ]
     },
     "execution_count": 85,
     "metadata": {},
     "output_type": "execute_result"
    }
   ],
   "source": [
    "np.sum(isolates_to_keep_filter)"
   ]
  },
  {
   "cell_type": "code",
   "execution_count": 86,
   "metadata": {},
   "outputs": [],
   "source": [
    "#filter Isolate annotation DF\n",
    "isolate_annotation_DF = isolate_annotation_DF[isolates_to_keep_filter]\n",
    "\n",
    "#reindex Isolate annotation DF\n",
    "isolate_annotation_DF.reset_index(drop = True , inplace = True)\n",
    "\n",
    "#filter Genotype Matrix \n",
    "genotypes_array = genotypes_array[: , np.array(isolates_to_keep_filter) ]"
   ]
  },
  {
   "cell_type": "code",
   "execution_count": 87,
   "metadata": {},
   "outputs": [
    {
     "data": {
      "text/html": [
       "<div>\n",
       "<style>\n",
       "    .dataframe thead tr:only-child th {\n",
       "        text-align: right;\n",
       "    }\n",
       "\n",
       "    .dataframe thead th {\n",
       "        text-align: left;\n",
       "    }\n",
       "\n",
       "    .dataframe tbody tr th {\n",
       "        vertical-align: top;\n",
       "    }\n",
       "</style>\n",
       "<table border=\"1\" class=\"dataframe\">\n",
       "  <thead>\n",
       "    <tr style=\"text-align: right;\">\n",
       "      <th></th>\n",
       "      <th>lineage_1</th>\n",
       "      <th>lineage_2</th>\n",
       "      <th>lineage_3</th>\n",
       "      <th>lineage_4</th>\n",
       "      <th>lineage_5</th>\n",
       "      <th>isolate_ID</th>\n",
       "    </tr>\n",
       "  </thead>\n",
       "  <tbody>\n",
       "    <tr>\n",
       "      <th>0</th>\n",
       "      <td>3</td>\n",
       "      <td>1</td>\n",
       "      <td>1</td>\n",
       "      <td>NaN</td>\n",
       "      <td>NaN</td>\n",
       "      <td>SAMN03647419</td>\n",
       "    </tr>\n",
       "    <tr>\n",
       "      <th>1</th>\n",
       "      <td>1</td>\n",
       "      <td>1</td>\n",
       "      <td>3</td>\n",
       "      <td>NaN</td>\n",
       "      <td>NaN</td>\n",
       "      <td>SAMN07659096</td>\n",
       "    </tr>\n",
       "    <tr>\n",
       "      <th>2</th>\n",
       "      <td>4</td>\n",
       "      <td>1</td>\n",
       "      <td>1</td>\n",
       "      <td>NaN</td>\n",
       "      <td>NaN</td>\n",
       "      <td>SAMEA1119683</td>\n",
       "    </tr>\n",
       "    <tr>\n",
       "      <th>3</th>\n",
       "      <td>2</td>\n",
       "      <td>2</td>\n",
       "      <td>1</td>\n",
       "      <td>NaN</td>\n",
       "      <td>NaN</td>\n",
       "      <td>SAMN05576173</td>\n",
       "    </tr>\n",
       "    <tr>\n",
       "      <th>4</th>\n",
       "      <td>2</td>\n",
       "      <td>2</td>\n",
       "      <td>1</td>\n",
       "      <td>NaN</td>\n",
       "      <td>NaN</td>\n",
       "      <td>SAMN08612836</td>\n",
       "    </tr>\n",
       "  </tbody>\n",
       "</table>\n",
       "</div>"
      ],
      "text/plain": [
       "  lineage_1 lineage_2 lineage_3 lineage_4 lineage_5    isolate_ID\n",
       "0         3         1         1       NaN       NaN  SAMN03647419\n",
       "1         1         1         3       NaN       NaN  SAMN07659096\n",
       "2         4         1         1       NaN       NaN  SAMEA1119683\n",
       "3         2         2         1       NaN       NaN  SAMN05576173\n",
       "4         2         2         1       NaN       NaN  SAMN08612836"
      ]
     },
     "execution_count": 87,
     "metadata": {},
     "output_type": "execute_result"
    }
   ],
   "source": [
    "isolate_annotation_DF.head()"
   ]
  },
  {
   "cell_type": "code",
   "execution_count": 88,
   "metadata": {},
   "outputs": [
    {
     "data": {
      "text/plain": [
       "(20352, 6)"
      ]
     },
     "execution_count": 88,
     "metadata": {},
     "output_type": "execute_result"
    }
   ],
   "source": [
    "np.shape(isolate_annotation_DF)"
   ]
  },
  {
   "cell_type": "code",
   "execution_count": 89,
   "metadata": {},
   "outputs": [
    {
     "data": {
      "text/plain": [
       "(139797, 20352)"
      ]
     },
     "execution_count": 89,
     "metadata": {},
     "output_type": "execute_result"
    }
   ],
   "source": [
    "np.shape(genotypes_array)"
   ]
  },
  {
   "cell_type": "markdown",
   "metadata": {},
   "source": [
    "#### Number of isolates present in each global lineage"
   ]
  },
  {
   "cell_type": "code",
   "execution_count": 90,
   "metadata": {},
   "outputs": [
    {
     "data": {
      "text/plain": [
       "1    2802\n",
       "2    7000\n",
       "3    3352\n",
       "4    7000\n",
       "5     101\n",
       "6      97\n",
       "dtype: int64"
      ]
     },
     "execution_count": 90,
     "metadata": {},
     "output_type": "execute_result"
    }
   ],
   "source": [
    "lineage_count = pd.Series(Counter(isolate_annotation_DF.lineage_1))\n",
    "lineage_count"
   ]
  },
  {
   "cell_type": "code",
   "execution_count": 91,
   "metadata": {},
   "outputs": [
    {
     "data": {
      "text/plain": [
       "20352"
      ]
     },
     "execution_count": 91,
     "metadata": {},
     "output_type": "execute_result"
    }
   ],
   "source": [
    "int( lineage_count.sum() )"
   ]
  },
  {
   "cell_type": "markdown",
   "metadata": {},
   "source": [
    "####################################################################################################################################################################################"
   ]
  },
  {
   "cell_type": "markdown",
   "metadata": {},
   "source": [
    "## [7] *FILTER*: Drop SNPs where *minor* allele(s) occurs in $< 1$ isolates"
   ]
  },
  {
   "cell_type": "markdown",
   "metadata": {},
   "source": [
    "####################################################################################################################################################################################"
   ]
  },
  {
   "cell_type": "markdown",
   "metadata": {},
   "source": [
    "Isolates were subset from the larger group of 32k isolates. So if there were SNPs in which the alternate allele was present in 6 isolates and all 6 were dropped, then there is no isolates with the alternate allele left in the *Genotypes Matrix*. Let's drop all SNPs in which the minor (reference or alternate) allele is present in less than 1 isolate.\n",
    "\n",
    "1. For each row of matrix (SNP) we will count the number of **0's**, **1's**, **2's** and **3's**.\n",
    "1. For each SNP we will take the max( number of 0's , number of 1's , number of 2's , number of 3's ) to get a count of the **major allele**\n",
    "1. For each SNP we will sum up the total number of isolates with a designated allele (not a 9), to get the count of **non-missing** calls\n",
    "1. We will then subtract the **count of major alleles** from the **number of non-missing calls** to get the number of isolates with the minor allele(s) for each SNP.\n",
    "1. We will discard all SNPs for which the minor allele(s) occurs in LESS THAN 1 isolate"
   ]
  },
  {
   "cell_type": "code",
   "execution_count": 92,
   "metadata": {},
   "outputs": [],
   "source": [
    "genotypes_matrix_SNP_0_count = list( np.sum( genotypes_array == 0 , axis = 1 ) ) #A\n",
    "genotypes_matrix_SNP_1_count = list( np.sum( genotypes_array == 1 , axis = 1 ) ) #C\n",
    "genotypes_matrix_SNP_2_count = list( np.sum( genotypes_array == 2 , axis = 1 ) ) #G\n",
    "genotypes_matrix_SNP_3_count = list( np.sum( genotypes_array == 3 , axis = 1 ) ) #T\n",
    "\n",
    "genotypes_matrix_SNP_non_missing_count = np.sum( genotypes_array != 9 , axis = 1 ) #Non-Missing Data\n",
    "genotypes_matrix_major_allele_count = np.array( [ max(zero_count , one_count , two_count , three_count) for zero_count , one_count , two_count , three_count in zip(genotypes_matrix_SNP_0_count , genotypes_matrix_SNP_1_count , genotypes_matrix_SNP_2_count , genotypes_matrix_SNP_3_count) ] )\n",
    "\n",
    "#Number of isolates with the minor allele(s) for each SNP\n",
    "genotypes_matrix_minor_alleles_count = genotypes_matrix_SNP_non_missing_count - genotypes_matrix_major_allele_count"
   ]
  },
  {
   "cell_type": "code",
   "execution_count": 93,
   "metadata": {},
   "outputs": [
    {
     "data": {
      "text/plain": [
       "array([  8,   7,   5, ..., 197,  17, 484])"
      ]
     },
     "execution_count": 93,
     "metadata": {},
     "output_type": "execute_result"
    }
   ],
   "source": [
    "genotypes_matrix_minor_alleles_count"
   ]
  },
  {
   "cell_type": "code",
   "execution_count": 94,
   "metadata": {},
   "outputs": [
    {
     "data": {
      "text/plain": [
       "139797"
      ]
     },
     "execution_count": 94,
     "metadata": {},
     "output_type": "execute_result"
    }
   ],
   "source": [
    "len(genotypes_matrix_minor_alleles_count)"
   ]
  },
  {
   "cell_type": "markdown",
   "metadata": {},
   "source": [
    "#### Number of SNPs that we're going to drop because the minor (alternate or reference) allele(s) is present in $< 1$ isolates."
   ]
  },
  {
   "cell_type": "code",
   "execution_count": 95,
   "metadata": {},
   "outputs": [
    {
     "data": {
      "text/plain": [
       "10899"
      ]
     },
     "execution_count": 95,
     "metadata": {},
     "output_type": "execute_result"
    }
   ],
   "source": [
    "np.sum( np.array( genotypes_matrix_minor_alleles_count ) < 1 )"
   ]
  },
  {
   "cell_type": "code",
   "execution_count": 96,
   "metadata": {},
   "outputs": [],
   "source": [
    "#boolean list that is 'True' for all SNPs where the minor allele is present in at least 1 isolate\n",
    "SNPs_to_keep_filter = list( np.array( genotypes_matrix_minor_alleles_count ) >= 1 )"
   ]
  },
  {
   "cell_type": "markdown",
   "metadata": {},
   "source": [
    "SNPs that had at least 1 isolate with minor allele"
   ]
  },
  {
   "cell_type": "code",
   "execution_count": 97,
   "metadata": {},
   "outputs": [
    {
     "data": {
      "text/plain": [
       "128898"
      ]
     },
     "execution_count": 97,
     "metadata": {},
     "output_type": "execute_result"
    }
   ],
   "source": [
    "np.sum(SNPs_to_keep_filter)"
   ]
  },
  {
   "cell_type": "code",
   "execution_count": 98,
   "metadata": {},
   "outputs": [],
   "source": [
    "#filter SNP annotation DF\n",
    "SNP_annotation_DF = SNP_annotation_DF[SNPs_to_keep_filter]\n",
    "\n",
    "#reindex SNP annotation DF\n",
    "SNP_annotation_DF.reset_index(drop = True , inplace = True)\n",
    "\n",
    "#filter Genotype Matrix \n",
    "genotypes_array = genotypes_array[np.array(SNPs_to_keep_filter) , : ]"
   ]
  },
  {
   "cell_type": "code",
   "execution_count": 99,
   "metadata": {},
   "outputs": [
    {
     "data": {
      "text/plain": [
       "(128898, 7)"
      ]
     },
     "execution_count": 99,
     "metadata": {},
     "output_type": "execute_result"
    }
   ],
   "source": [
    "np.shape(SNP_annotation_DF)"
   ]
  },
  {
   "cell_type": "code",
   "execution_count": 100,
   "metadata": {},
   "outputs": [
    {
     "data": {
      "text/plain": [
       "(128898, 20352)"
      ]
     },
     "execution_count": 100,
     "metadata": {},
     "output_type": "execute_result"
    }
   ],
   "source": [
    "np.shape(genotypes_array)"
   ]
  },
  {
   "cell_type": "markdown",
   "metadata": {},
   "source": [
    "####################################################################################################################################################################################"
   ]
  },
  {
   "cell_type": "markdown",
   "metadata": {},
   "source": [
    "## [8] Save annotation files and genotypes matrix"
   ]
  },
  {
   "cell_type": "markdown",
   "metadata": {},
   "source": [
    "####################################################################################################################################################################################"
   ]
  },
  {
   "cell_type": "markdown",
   "metadata": {},
   "source": [
    "### Now that we've assigned lineages and have *dropped* isolates and have *dropped* SNPs, we save the updated Genotypes Matrix and corresponding annotation files."
   ]
  },
  {
   "cell_type": "markdown",
   "metadata": {},
   "source": [
    "#### Isolate Annotation"
   ]
  },
  {
   "cell_type": "code",
   "execution_count": 101,
   "metadata": {},
   "outputs": [
    {
     "data": {
      "text/html": [
       "<div>\n",
       "<style>\n",
       "    .dataframe thead tr:only-child th {\n",
       "        text-align: right;\n",
       "    }\n",
       "\n",
       "    .dataframe thead th {\n",
       "        text-align: left;\n",
       "    }\n",
       "\n",
       "    .dataframe tbody tr th {\n",
       "        vertical-align: top;\n",
       "    }\n",
       "</style>\n",
       "<table border=\"1\" class=\"dataframe\">\n",
       "  <thead>\n",
       "    <tr style=\"text-align: right;\">\n",
       "      <th></th>\n",
       "      <th>lineage_1</th>\n",
       "      <th>lineage_2</th>\n",
       "      <th>lineage_3</th>\n",
       "      <th>lineage_4</th>\n",
       "      <th>lineage_5</th>\n",
       "      <th>isolate_ID</th>\n",
       "    </tr>\n",
       "  </thead>\n",
       "  <tbody>\n",
       "    <tr>\n",
       "      <th>0</th>\n",
       "      <td>3</td>\n",
       "      <td>1</td>\n",
       "      <td>1</td>\n",
       "      <td>NaN</td>\n",
       "      <td>NaN</td>\n",
       "      <td>SAMN03647419</td>\n",
       "    </tr>\n",
       "    <tr>\n",
       "      <th>1</th>\n",
       "      <td>1</td>\n",
       "      <td>1</td>\n",
       "      <td>3</td>\n",
       "      <td>NaN</td>\n",
       "      <td>NaN</td>\n",
       "      <td>SAMN07659096</td>\n",
       "    </tr>\n",
       "    <tr>\n",
       "      <th>2</th>\n",
       "      <td>4</td>\n",
       "      <td>1</td>\n",
       "      <td>1</td>\n",
       "      <td>NaN</td>\n",
       "      <td>NaN</td>\n",
       "      <td>SAMEA1119683</td>\n",
       "    </tr>\n",
       "    <tr>\n",
       "      <th>3</th>\n",
       "      <td>2</td>\n",
       "      <td>2</td>\n",
       "      <td>1</td>\n",
       "      <td>NaN</td>\n",
       "      <td>NaN</td>\n",
       "      <td>SAMN05576173</td>\n",
       "    </tr>\n",
       "    <tr>\n",
       "      <th>4</th>\n",
       "      <td>2</td>\n",
       "      <td>2</td>\n",
       "      <td>1</td>\n",
       "      <td>NaN</td>\n",
       "      <td>NaN</td>\n",
       "      <td>SAMN08612836</td>\n",
       "    </tr>\n",
       "  </tbody>\n",
       "</table>\n",
       "</div>"
      ],
      "text/plain": [
       "  lineage_1 lineage_2 lineage_3 lineage_4 lineage_5    isolate_ID\n",
       "0         3         1         1       NaN       NaN  SAMN03647419\n",
       "1         1         1         3       NaN       NaN  SAMN07659096\n",
       "2         4         1         1       NaN       NaN  SAMEA1119683\n",
       "3         2         2         1       NaN       NaN  SAMN05576173\n",
       "4         2         2         1       NaN       NaN  SAMN08612836"
      ]
     },
     "execution_count": 101,
     "metadata": {},
     "output_type": "execute_result"
    }
   ],
   "source": [
    "isolate_annotation_DF.head()"
   ]
  },
  {
   "cell_type": "code",
   "execution_count": 102,
   "metadata": {},
   "outputs": [
    {
     "data": {
      "text/plain": [
       "(20352, 6)"
      ]
     },
     "execution_count": 102,
     "metadata": {},
     "output_type": "execute_result"
    }
   ],
   "source": [
    "np.shape(isolate_annotation_DF)"
   ]
  },
  {
   "cell_type": "code",
   "execution_count": 103,
   "metadata": {},
   "outputs": [],
   "source": [
    "#save isolate annotation file (columns of Genotype Matrix)\n",
    "isolate_annotation_DF.to_pickle('/n/data1/hms/dbmi/farhat/Roger/inhost_TB_dynamics_project/genotypes_matrix_and_tSNE/Genotype_Filtered_2/genotypes_isolate_annotation.pkl')"
   ]
  },
  {
   "cell_type": "markdown",
   "metadata": {},
   "source": [
    "#### SNP Annotation"
   ]
  },
  {
   "cell_type": "code",
   "execution_count": 104,
   "metadata": {
    "scrolled": false
   },
   "outputs": [
    {
     "data": {
      "text/html": [
       "<div>\n",
       "<style>\n",
       "    .dataframe thead tr:only-child th {\n",
       "        text-align: right;\n",
       "    }\n",
       "\n",
       "    .dataframe thead th {\n",
       "        text-align: left;\n",
       "    }\n",
       "\n",
       "    .dataframe tbody tr th {\n",
       "        vertical-align: top;\n",
       "    }\n",
       "</style>\n",
       "<table border=\"1\" class=\"dataframe\">\n",
       "  <thead>\n",
       "    <tr style=\"text-align: right;\">\n",
       "      <th></th>\n",
       "      <th>pos</th>\n",
       "      <th>ref</th>\n",
       "      <th>alt</th>\n",
       "      <th>gene_id</th>\n",
       "      <th>gene_pos</th>\n",
       "      <th>gene_category</th>\n",
       "      <th>gene_name</th>\n",
       "    </tr>\n",
       "  </thead>\n",
       "  <tbody>\n",
       "    <tr>\n",
       "      <th>0</th>\n",
       "      <td>29</td>\n",
       "      <td>C</td>\n",
       "      <td>[G]</td>\n",
       "      <td>[Rv0001]</td>\n",
       "      <td>[28]</td>\n",
       "      <td>[Essential]</td>\n",
       "      <td>[dnaA]</td>\n",
       "    </tr>\n",
       "    <tr>\n",
       "      <th>1</th>\n",
       "      <td>31</td>\n",
       "      <td>A</td>\n",
       "      <td>[C, G]</td>\n",
       "      <td>[Rv0001]</td>\n",
       "      <td>[30]</td>\n",
       "      <td>[Essential]</td>\n",
       "      <td>[dnaA]</td>\n",
       "    </tr>\n",
       "    <tr>\n",
       "      <th>2</th>\n",
       "      <td>48</td>\n",
       "      <td>C</td>\n",
       "      <td>[T]</td>\n",
       "      <td>[Rv0001]</td>\n",
       "      <td>[47]</td>\n",
       "      <td>[Essential]</td>\n",
       "      <td>[dnaA]</td>\n",
       "    </tr>\n",
       "    <tr>\n",
       "      <th>3</th>\n",
       "      <td>64</td>\n",
       "      <td>G</td>\n",
       "      <td>[C]</td>\n",
       "      <td>[Rv0001]</td>\n",
       "      <td>[63]</td>\n",
       "      <td>[Essential]</td>\n",
       "      <td>[dnaA]</td>\n",
       "    </tr>\n",
       "    <tr>\n",
       "      <th>4</th>\n",
       "      <td>71</td>\n",
       "      <td>C</td>\n",
       "      <td>[T]</td>\n",
       "      <td>[Rv0001]</td>\n",
       "      <td>[70]</td>\n",
       "      <td>[Essential]</td>\n",
       "      <td>[dnaA]</td>\n",
       "    </tr>\n",
       "  </tbody>\n",
       "</table>\n",
       "</div>"
      ],
      "text/plain": [
       "   pos ref     alt   gene_id gene_pos gene_category gene_name\n",
       "0   29   C     [G]  [Rv0001]     [28]   [Essential]    [dnaA]\n",
       "1   31   A  [C, G]  [Rv0001]     [30]   [Essential]    [dnaA]\n",
       "2   48   C     [T]  [Rv0001]     [47]   [Essential]    [dnaA]\n",
       "3   64   G     [C]  [Rv0001]     [63]   [Essential]    [dnaA]\n",
       "4   71   C     [T]  [Rv0001]     [70]   [Essential]    [dnaA]"
      ]
     },
     "execution_count": 104,
     "metadata": {},
     "output_type": "execute_result"
    }
   ],
   "source": [
    "SNP_annotation_DF.head()"
   ]
  },
  {
   "cell_type": "code",
   "execution_count": 105,
   "metadata": {},
   "outputs": [
    {
     "data": {
      "text/plain": [
       "(128898, 7)"
      ]
     },
     "execution_count": 105,
     "metadata": {},
     "output_type": "execute_result"
    }
   ],
   "source": [
    "np.shape(SNP_annotation_DF)"
   ]
  },
  {
   "cell_type": "code",
   "execution_count": 106,
   "metadata": {},
   "outputs": [],
   "source": [
    "#save SNP annotation file (rows of Genotype Matrix)\n",
    "SNP_annotation_DF.to_pickle('/n/data1/hms/dbmi/farhat/Roger/inhost_TB_dynamics_project/genotypes_matrix_and_tSNE/Genotype_Filtered_2/genotypes_SNP_annotation.pkl')"
   ]
  },
  {
   "cell_type": "markdown",
   "metadata": {},
   "source": [
    "#### Genotype Matrix"
   ]
  },
  {
   "cell_type": "code",
   "execution_count": 107,
   "metadata": {},
   "outputs": [
    {
     "data": {
      "text/plain": [
       "array([[1, 1, 1, ..., 9, 1, 1],\n",
       "       [0, 0, 0, ..., 9, 0, 0],\n",
       "       [1, 1, 1, ..., 1, 1, 1],\n",
       "       ...,\n",
       "       [2, 2, 2, ..., 2, 2, 2],\n",
       "       [2, 2, 2, ..., 2, 2, 2],\n",
       "       [1, 1, 1, ..., 1, 1, 1]])"
      ]
     },
     "execution_count": 107,
     "metadata": {},
     "output_type": "execute_result"
    }
   ],
   "source": [
    "genotypes_array"
   ]
  },
  {
   "cell_type": "code",
   "execution_count": 108,
   "metadata": {},
   "outputs": [
    {
     "data": {
      "text/plain": [
       "(128898, 20352)"
      ]
     },
     "execution_count": 108,
     "metadata": {},
     "output_type": "execute_result"
    }
   ],
   "source": [
    "np.shape(genotypes_array)"
   ]
  },
  {
   "cell_type": "code",
   "execution_count": 109,
   "metadata": {},
   "outputs": [],
   "source": [
    "#save Genotypes Matrix\n",
    "np.save('/n/data1/hms/dbmi/farhat/Roger/inhost_TB_dynamics_project/genotypes_matrix_and_tSNE/Genotype_Filtered_2/genotypes_matrix' , genotypes_array , allow_pickle = True)"
   ]
  },
  {
   "cell_type": "markdown",
   "metadata": {},
   "source": [
    "####################################################################################################################################################################################"
   ]
  },
  {
   "cell_type": "markdown",
   "metadata": {},
   "source": [
    "## [9] Create DataFrame with the functional annotation for SNPs & corresponding Amino Acid Changes"
   ]
  },
  {
   "cell_type": "markdown",
   "metadata": {},
   "source": [
    "####################################################################################################################################################################################"
   ]
  },
  {
   "cell_type": "markdown",
   "metadata": {
    "collapsed": true
   },
   "source": [
    "#### This block of code will determine the functional consequence of each SNP in our genotypes array."
   ]
  },
  {
   "cell_type": "code",
   "execution_count": 110,
   "metadata": {},
   "outputs": [],
   "source": [
    "#load SNP annotation file (rows of Genotype Matrix)\n",
    "SNP_annotation_DF = pd.read_pickle('/n/data1/hms/dbmi/farhat/Roger/inhost_TB_dynamics_project/genotypes_matrix_and_tSNE/Genotype_Filtered_2/genotypes_SNP_annotation.pkl')"
   ]
  },
  {
   "cell_type": "code",
   "execution_count": 111,
   "metadata": {},
   "outputs": [
    {
     "data": {
      "text/html": [
       "<div>\n",
       "<style>\n",
       "    .dataframe thead tr:only-child th {\n",
       "        text-align: right;\n",
       "    }\n",
       "\n",
       "    .dataframe thead th {\n",
       "        text-align: left;\n",
       "    }\n",
       "\n",
       "    .dataframe tbody tr th {\n",
       "        vertical-align: top;\n",
       "    }\n",
       "</style>\n",
       "<table border=\"1\" class=\"dataframe\">\n",
       "  <thead>\n",
       "    <tr style=\"text-align: right;\">\n",
       "      <th></th>\n",
       "      <th>pos</th>\n",
       "      <th>ref</th>\n",
       "      <th>alt</th>\n",
       "      <th>gene_id</th>\n",
       "      <th>gene_pos</th>\n",
       "      <th>gene_category</th>\n",
       "      <th>gene_name</th>\n",
       "    </tr>\n",
       "  </thead>\n",
       "  <tbody>\n",
       "    <tr>\n",
       "      <th>0</th>\n",
       "      <td>29</td>\n",
       "      <td>C</td>\n",
       "      <td>[G]</td>\n",
       "      <td>[Rv0001]</td>\n",
       "      <td>[28]</td>\n",
       "      <td>[Essential]</td>\n",
       "      <td>[dnaA]</td>\n",
       "    </tr>\n",
       "    <tr>\n",
       "      <th>1</th>\n",
       "      <td>31</td>\n",
       "      <td>A</td>\n",
       "      <td>[C, G]</td>\n",
       "      <td>[Rv0001]</td>\n",
       "      <td>[30]</td>\n",
       "      <td>[Essential]</td>\n",
       "      <td>[dnaA]</td>\n",
       "    </tr>\n",
       "    <tr>\n",
       "      <th>2</th>\n",
       "      <td>48</td>\n",
       "      <td>C</td>\n",
       "      <td>[T]</td>\n",
       "      <td>[Rv0001]</td>\n",
       "      <td>[47]</td>\n",
       "      <td>[Essential]</td>\n",
       "      <td>[dnaA]</td>\n",
       "    </tr>\n",
       "    <tr>\n",
       "      <th>3</th>\n",
       "      <td>64</td>\n",
       "      <td>G</td>\n",
       "      <td>[C]</td>\n",
       "      <td>[Rv0001]</td>\n",
       "      <td>[63]</td>\n",
       "      <td>[Essential]</td>\n",
       "      <td>[dnaA]</td>\n",
       "    </tr>\n",
       "    <tr>\n",
       "      <th>4</th>\n",
       "      <td>71</td>\n",
       "      <td>C</td>\n",
       "      <td>[T]</td>\n",
       "      <td>[Rv0001]</td>\n",
       "      <td>[70]</td>\n",
       "      <td>[Essential]</td>\n",
       "      <td>[dnaA]</td>\n",
       "    </tr>\n",
       "  </tbody>\n",
       "</table>\n",
       "</div>"
      ],
      "text/plain": [
       "   pos ref     alt   gene_id gene_pos gene_category gene_name\n",
       "0   29   C     [G]  [Rv0001]     [28]   [Essential]    [dnaA]\n",
       "1   31   A  [C, G]  [Rv0001]     [30]   [Essential]    [dnaA]\n",
       "2   48   C     [T]  [Rv0001]     [47]   [Essential]    [dnaA]\n",
       "3   64   G     [C]  [Rv0001]     [63]   [Essential]    [dnaA]\n",
       "4   71   C     [T]  [Rv0001]     [70]   [Essential]    [dnaA]"
      ]
     },
     "execution_count": 111,
     "metadata": {},
     "output_type": "execute_result"
    }
   ],
   "source": [
    "SNP_annotation_DF.head()"
   ]
  },
  {
   "cell_type": "code",
   "execution_count": 112,
   "metadata": {},
   "outputs": [
    {
     "data": {
      "text/plain": [
       "(128898, 7)"
      ]
     },
     "execution_count": 112,
     "metadata": {},
     "output_type": "execute_result"
    }
   ],
   "source": [
    "np.shape(SNP_annotation_DF)"
   ]
  },
  {
   "cell_type": "markdown",
   "metadata": {},
   "source": [
    "#### Create a dataframe for each unique _reference_ allele - _alternate_ allele pairing (some SNPs are not biallelic and will require multiple rows)"
   ]
  },
  {
   "cell_type": "code",
   "execution_count": 113,
   "metadata": {},
   "outputs": [],
   "source": [
    "#lists that will store columns for DF\n",
    "SNP_index = []\n",
    "pos_list = []\n",
    "ref_list = []\n",
    "alt_list = []\n",
    "gene_category_list = []\n",
    "gene_name_list = []\n",
    "\n",
    "for SNP_i in SNP_annotation_DF.index:\n",
    "    \n",
    "    SNP_i_info = SNP_annotation_DF.loc[SNP_i , :]\n",
    "    \n",
    "    #iterate through all alternate alleles for this SNP; bi-allelic SNPs will have just 1\n",
    "    for SNP_i_alt_allele in SNP_i_info.alt:\n",
    "        \n",
    "        #create a unique SNP index (a key for a particular mutation), Reference Position + Alternate Allele\n",
    "        SNP_key = str(SNP_i_info.pos) + '_' + SNP_i_alt_allele\n",
    "        \n",
    "        #store information for this specific mutation\n",
    "        SNP_index.append(SNP_key)\n",
    "        pos_list.append(SNP_i_info.pos)\n",
    "        ref_list.append(SNP_i_info.ref)\n",
    "        alt_list.append(SNP_i_alt_allele)\n",
    "        gene_category_list.append(SNP_i_info.gene_category)\n",
    "        gene_name_list.append(SNP_i_info.gene_name)\n",
    "        \n",
    "#construct DF from lists\n",
    "SNP_functional_annotation_DF = pd.DataFrame(index = SNP_index)\n",
    "SNP_functional_annotation_DF['pos'] = pos_list\n",
    "SNP_functional_annotation_DF['ref'] = ref_list\n",
    "SNP_functional_annotation_DF['alt'] = alt_list\n",
    "SNP_functional_annotation_DF['gene_category'] = gene_category_list\n",
    "SNP_functional_annotation_DF['gene_name'] = gene_name_list        "
   ]
  },
  {
   "cell_type": "code",
   "execution_count": 114,
   "metadata": {},
   "outputs": [
    {
     "data": {
      "text/html": [
       "<div>\n",
       "<style>\n",
       "    .dataframe thead tr:only-child th {\n",
       "        text-align: right;\n",
       "    }\n",
       "\n",
       "    .dataframe thead th {\n",
       "        text-align: left;\n",
       "    }\n",
       "\n",
       "    .dataframe tbody tr th {\n",
       "        vertical-align: top;\n",
       "    }\n",
       "</style>\n",
       "<table border=\"1\" class=\"dataframe\">\n",
       "  <thead>\n",
       "    <tr style=\"text-align: right;\">\n",
       "      <th></th>\n",
       "      <th>pos</th>\n",
       "      <th>ref</th>\n",
       "      <th>alt</th>\n",
       "      <th>gene_category</th>\n",
       "      <th>gene_name</th>\n",
       "    </tr>\n",
       "  </thead>\n",
       "  <tbody>\n",
       "    <tr>\n",
       "      <th>29_G</th>\n",
       "      <td>29</td>\n",
       "      <td>C</td>\n",
       "      <td>G</td>\n",
       "      <td>[Essential]</td>\n",
       "      <td>[dnaA]</td>\n",
       "    </tr>\n",
       "    <tr>\n",
       "      <th>31_C</th>\n",
       "      <td>31</td>\n",
       "      <td>A</td>\n",
       "      <td>C</td>\n",
       "      <td>[Essential]</td>\n",
       "      <td>[dnaA]</td>\n",
       "    </tr>\n",
       "    <tr>\n",
       "      <th>31_G</th>\n",
       "      <td>31</td>\n",
       "      <td>A</td>\n",
       "      <td>G</td>\n",
       "      <td>[Essential]</td>\n",
       "      <td>[dnaA]</td>\n",
       "    </tr>\n",
       "    <tr>\n",
       "      <th>48_T</th>\n",
       "      <td>48</td>\n",
       "      <td>C</td>\n",
       "      <td>T</td>\n",
       "      <td>[Essential]</td>\n",
       "      <td>[dnaA]</td>\n",
       "    </tr>\n",
       "    <tr>\n",
       "      <th>64_C</th>\n",
       "      <td>64</td>\n",
       "      <td>G</td>\n",
       "      <td>C</td>\n",
       "      <td>[Essential]</td>\n",
       "      <td>[dnaA]</td>\n",
       "    </tr>\n",
       "  </tbody>\n",
       "</table>\n",
       "</div>"
      ],
      "text/plain": [
       "      pos ref alt gene_category gene_name\n",
       "29_G   29   C   G   [Essential]    [dnaA]\n",
       "31_C   31   A   C   [Essential]    [dnaA]\n",
       "31_G   31   A   G   [Essential]    [dnaA]\n",
       "48_T   48   C   T   [Essential]    [dnaA]\n",
       "64_C   64   G   C   [Essential]    [dnaA]"
      ]
     },
     "execution_count": 114,
     "metadata": {},
     "output_type": "execute_result"
    }
   ],
   "source": [
    "SNP_functional_annotation_DF.head()"
   ]
  },
  {
   "cell_type": "code",
   "execution_count": 115,
   "metadata": {},
   "outputs": [
    {
     "data": {
      "text/plain": [
       "(152836, 5)"
      ]
     },
     "execution_count": 115,
     "metadata": {},
     "output_type": "execute_result"
    }
   ],
   "source": [
    "np.shape(SNP_functional_annotation_DF)"
   ]
  },
  {
   "cell_type": "markdown",
   "metadata": {},
   "source": [
    "Convert **gene_category** and **gene_name** columns so that the elements are lists only when there is more than 1 label in a cell (when a Reference Position corresponds to two overlapping genes)"
   ]
  },
  {
   "cell_type": "code",
   "execution_count": 116,
   "metadata": {},
   "outputs": [],
   "source": [
    "gene_category_list = []\n",
    "gene_name_list = []\n",
    "\n",
    "for SNP_i in SNP_functional_annotation_DF.index:\n",
    "    \n",
    "    gene_category_SNP_i = SNP_functional_annotation_DF.loc[SNP_i , 'gene_category']\n",
    "    gene_name_SNP_i = SNP_functional_annotation_DF.loc[SNP_i , 'gene_name']\n",
    "    \n",
    "    if len(gene_category_SNP_i) == 1:\n",
    "        \n",
    "        gene_category_list.append(gene_category_SNP_i[0])\n",
    "        gene_name_list.append(gene_name_SNP_i[0])\n",
    "    \n",
    "    else:\n",
    "        \n",
    "        gene_category_list.append(gene_category_SNP_i)\n",
    "        gene_name_list.append(gene_name_SNP_i)\n",
    "        \n",
    "SNP_functional_annotation_DF['gene_category'] = gene_category_list\n",
    "SNP_functional_annotation_DF['gene_name'] = gene_name_list"
   ]
  },
  {
   "cell_type": "code",
   "execution_count": 117,
   "metadata": {
    "scrolled": true
   },
   "outputs": [
    {
     "data": {
      "text/html": [
       "<div>\n",
       "<style>\n",
       "    .dataframe thead tr:only-child th {\n",
       "        text-align: right;\n",
       "    }\n",
       "\n",
       "    .dataframe thead th {\n",
       "        text-align: left;\n",
       "    }\n",
       "\n",
       "    .dataframe tbody tr th {\n",
       "        vertical-align: top;\n",
       "    }\n",
       "</style>\n",
       "<table border=\"1\" class=\"dataframe\">\n",
       "  <thead>\n",
       "    <tr style=\"text-align: right;\">\n",
       "      <th></th>\n",
       "      <th>pos</th>\n",
       "      <th>ref</th>\n",
       "      <th>alt</th>\n",
       "      <th>gene_category</th>\n",
       "      <th>gene_name</th>\n",
       "    </tr>\n",
       "  </thead>\n",
       "  <tbody>\n",
       "    <tr>\n",
       "      <th>29_G</th>\n",
       "      <td>29</td>\n",
       "      <td>C</td>\n",
       "      <td>G</td>\n",
       "      <td>Essential</td>\n",
       "      <td>dnaA</td>\n",
       "    </tr>\n",
       "    <tr>\n",
       "      <th>31_C</th>\n",
       "      <td>31</td>\n",
       "      <td>A</td>\n",
       "      <td>C</td>\n",
       "      <td>Essential</td>\n",
       "      <td>dnaA</td>\n",
       "    </tr>\n",
       "    <tr>\n",
       "      <th>31_G</th>\n",
       "      <td>31</td>\n",
       "      <td>A</td>\n",
       "      <td>G</td>\n",
       "      <td>Essential</td>\n",
       "      <td>dnaA</td>\n",
       "    </tr>\n",
       "    <tr>\n",
       "      <th>48_T</th>\n",
       "      <td>48</td>\n",
       "      <td>C</td>\n",
       "      <td>T</td>\n",
       "      <td>Essential</td>\n",
       "      <td>dnaA</td>\n",
       "    </tr>\n",
       "    <tr>\n",
       "      <th>64_C</th>\n",
       "      <td>64</td>\n",
       "      <td>G</td>\n",
       "      <td>C</td>\n",
       "      <td>Essential</td>\n",
       "      <td>dnaA</td>\n",
       "    </tr>\n",
       "  </tbody>\n",
       "</table>\n",
       "</div>"
      ],
      "text/plain": [
       "      pos ref alt gene_category gene_name\n",
       "29_G   29   C   G     Essential      dnaA\n",
       "31_C   31   A   C     Essential      dnaA\n",
       "31_G   31   A   G     Essential      dnaA\n",
       "48_T   48   C   T     Essential      dnaA\n",
       "64_C   64   G   C     Essential      dnaA"
      ]
     },
     "execution_count": 117,
     "metadata": {},
     "output_type": "execute_result"
    }
   ],
   "source": [
    "SNP_functional_annotation_DF.head()"
   ]
  },
  {
   "cell_type": "code",
   "execution_count": 118,
   "metadata": {},
   "outputs": [
    {
     "data": {
      "text/plain": [
       "(152836, 5)"
      ]
     },
     "execution_count": 118,
     "metadata": {},
     "output_type": "execute_result"
    }
   ],
   "source": [
    "np.shape(SNP_functional_annotation_DF)"
   ]
  },
  {
   "cell_type": "markdown",
   "metadata": {},
   "source": [
    "### Cell to Annotate SNPs"
   ]
  },
  {
   "cell_type": "code",
   "execution_count": 119,
   "metadata": {},
   "outputs": [],
   "source": [
    "# Important Packages\n",
    "################################################################################################################################################################################################\n",
    "import os\n",
    "import pandas as pd\n",
    "import numpy as np\n",
    "import sys\n",
    "import pickle\n",
    "\n",
    "import Bio\n",
    "from Bio.Alphabet import IUPAC\n",
    "from Bio.Seq import Seq\n",
    "from Bio.SeqRecord import SeqRecord\n",
    "from Bio.SeqFeature import SeqFeature, FeatureLocation\n",
    "from Bio import SeqIO\n",
    "from StringIO import StringIO\n",
    "from Bio import AlignIO\n",
    "from Bio.Align import AlignInfo\n",
    "from Bio.Seq import MutableSeq\n",
    "################################################################################################################################################################################################\n",
    "\n",
    "\n",
    "# Relevant Information for H37Rv sequence SNP functional annotation\n",
    "################################################################################################################################################################################################\n",
    "####### Collect all DNA and Amino Acid sequences corresponding to genes on H37Rv #######\n",
    "#load reference genome and reference annotation\n",
    "reference_genome = '/n/data1/hms/dbmi/farhat/bin/work-horse/bin/h37rv.fasta'\n",
    "for reference_genome in SeqIO.parse(reference_genome, \"fasta\"):\n",
    "    reference_genome.seq.alphabet = IUPAC.unambiguous_dna\n",
    "\n",
    "reference_genome_annotation = pd.read_csv('/n/data1/hms/dbmi/farhat/Roger/inhost_TB_dynamics_project/H37Rv/h37rv_genome_summary.txt', '\\t').set_index('name')\n",
    "\n",
    "####### Function to translate coding DNA sequences ####### \n",
    "def translate(gene_id, sequence):\n",
    "\n",
    "    #find which strand the gene is located on and translate\n",
    "    strand = reference_genome_annotation.loc[gene_id, 'strand']\n",
    "    if strand == '+':\n",
    "        protein_sequence = sequence.translate(table=\"Bacterial\", cds=False)\n",
    "    elif strand == '-':\n",
    "        protein_sequence = sequence.reverse_complement().translate(table=\"Bacterial\", cds=False)\n",
    "\n",
    "    return protein_sequence\n",
    "\n",
    "####### Load in dictionaries for SNP annotation #######\n",
    "with open('/n/data1/hms/dbmi/farhat/Roger/homoplasy_project/pickled_files/dicts_for_SNP_annotation/H37Rv_gene_seq_records.pickle', 'rb') as handle:\n",
    "    ref_gene_sequences_records = pickle.load(handle)\n",
    "    \n",
    "with open('/n/data1/hms/dbmi/farhat/Roger/homoplasy_project/pickled_files/dicts_for_SNP_annotation/H37Rv_protein_seq_records.pickle', 'rb') as handle:\n",
    "    ref_protein_sequences_records = pickle.load(handle)\n",
    "    \n",
    "with open('/n/data1/hms/dbmi/farhat/Roger/homoplasy_project/pickled_files/dicts_for_SNP_annotation/H37Rv_coord_gene_mapping.pickle', 'rb') as handle:\n",
    "    ReferencePosition_Gene_mapping = pickle.load(handle)\n",
    "    \n",
    "####### get Gene Categories #######\n",
    "gene_categories = pd.read_csv('/n/data1/hms/dbmi/farhat/Roger/inhost_TB_dynamics_project/CSV_files/gene_categories/gene_categories.csv').set_index('name')\n",
    "gene_categories_dict = dict([gene_id , gene_category] for gene_id, gene_category in zip(list(gene_categories.gene_id) , list(gene_categories.Gene_Category)))\n",
    "\n",
    "####### get Gene Symbols #######\n",
    "gene_symbol_dict = dict([gene_id , gene_symbol] for gene_id, gene_symbol in zip(list(reference_genome_annotation.symbol.index) , list( reference_genome_annotation.symbol )))\n",
    "################################################################################################################################################################################################\n",
    "\n",
    "\n",
    "# Function to annotate Intergenic SNPs\n",
    "################################################################################################################################################################################################\n",
    "def find_flanking_genes_for_intergenic_region(intergenic_ref_pos): \n",
    "\n",
    "    #this function finds the genes flagging an intergenic region given a reference position\n",
    "\n",
    "    #find gene immediately in the 5' direction\n",
    "    for i in range(0 , 100000):\n",
    "\n",
    "        #move toward 5' direction\n",
    "        if ReferencePosition_Gene_mapping[intergenic_ref_pos - i] != []:\n",
    "\n",
    "            gene_to_left = ReferencePosition_Gene_mapping[intergenic_ref_pos - i][0]\n",
    "            break\n",
    "\n",
    "    #find gene immediately in the 3' direction       \n",
    "    for i in range(0 , 100000):\n",
    "\n",
    "        #move toward 3' direction\n",
    "        try:\n",
    "            if ReferencePosition_Gene_mapping[intergenic_ref_pos + i] != []:\n",
    "\n",
    "                gene_to_right = ReferencePosition_Gene_mapping[intergenic_ref_pos + i][0]\n",
    "                break\n",
    "        \n",
    "        #KeyError means we have hit the 'end' of the chromosome, the intergenic region at then end of H37Rv in 5' > 3' orientation \n",
    "        #since TB chromosome is circular the gene to the 'right' is Rv0001    \n",
    "        except KeyError:\n",
    "            \n",
    "            gene_to_right = 'Rv0001'\n",
    "            break\n",
    "    \n",
    "    return gene_to_left + '_' + gene_to_right\n",
    "################################################################################################################################################################################################\n",
    "\n",
    "\n",
    "# Function to determine whether SNPs are Synonymous or Non-Synonymous; Returns gene coordinate, codon position, AA changes, Gene Category & Symbol\n",
    "################################################################################################################################################################################################\n",
    "def SNP_annotate(ref_seq_position , alt_allele_i):\n",
    "    \n",
    "    '''\n",
    "    This function takes as input a reference position on H37Rv located within a \n",
    "    gene and an alternate allele and returns whether the base change \n",
    "    would correspond to a different Amino Acid sequence that results \n",
    "    from translating the DNA sequence into an AA sequence.\n",
    "    \n",
    "    '''\n",
    "    gene_intergenic_id_list = []\n",
    "    genomic_coord_list = []\n",
    "    gene_category_list = []\n",
    "    gene_symbol_list = []\n",
    "    Syn_NSyn_list = []\n",
    "    AA_change_list = []\n",
    "    \n",
    "    #get the Reference Allele from the complete H37Rv reference genome, indexing starts from 0\n",
    "    ref_allele_i = reference_genome.seq[int(ref_seq_position) - 1] \n",
    "    \n",
    "    #find the gene that SNP occurs on; check list corresponding to H37Rv coordinate to see if there are any genes associated with RefPosition\n",
    "    if len(ReferencePosition_Gene_mapping[ref_seq_position]) > 0:\n",
    "\n",
    "        #iterate through all genes that ReferencePosition is mapped to (i.e. SNP might correspond to 2 genes)\n",
    "        for gene_intergenic_id in ReferencePosition_Gene_mapping[ref_seq_position]:\n",
    "\n",
    "            #find genomic coordinate of SNP relative to gene (subtract 1 since reference seq starts counting at 1)\n",
    "            gene_relative_coord = (ref_seq_position - 1) - min( reference_genome_annotation.loc[gene_intergenic_id , 'chromStart'] , reference_genome_annotation.loc[gene_intergenic_id , 'chromEnd'] )\n",
    "            \n",
    "            #find the genomic coordinate (relative to the gene, in the 5' to 3' direction)\n",
    "            strand = reference_genome_annotation.loc[gene_intergenic_id, 'strand']\n",
    "            if strand == '+':\n",
    "                 genomic_5_to_3_coord = (ref_seq_position) - reference_genome_annotation.loc[gene_intergenic_id , 'chromStart']\n",
    "\n",
    "            elif strand == '-':\n",
    "                 genomic_5_to_3_coord = (reference_genome_annotation.loc[gene_intergenic_id , 'chromEnd']) - (ref_seq_position-1)\n",
    "                    \n",
    "            #find gene category (if one exists)\n",
    "            try:\n",
    "                gene_category_i = gene_categories_dict[gene_intergenic_id]\n",
    "            except KeyError:\n",
    "                gene_category_i = 'None'\n",
    "            \n",
    "            #find gene symbol (if one exists)\n",
    "            try:\n",
    "                gene_symbol_i = gene_symbol_dict[gene_intergenic_id]\n",
    "            except KeyError:\n",
    "                gene_symbol_i = 'None'\n",
    "            \n",
    "            #alternate allele is an actual base\n",
    "            if alt_allele_i in ['A','C','G','T']:\n",
    "\n",
    "                #translate into protein sequence with the SNP in place if not InDel or intergenic region\n",
    "                SNP_change = alt_allele_i\n",
    "\n",
    "                #ALTERNATE allele (is it Syn or NSyn?)\n",
    "                #get sequence from dictionary of sequences (and convert to mutable object)\n",
    "                test_gene_sequence = ref_gene_sequences_records[gene_intergenic_id].seq.tomutable()\n",
    "\n",
    "                #change reference gene sequence by the SNP in the query sequence\n",
    "                test_gene_sequence[int(gene_relative_coord)] = SNP_change\n",
    "\n",
    "                #convert back immutable object\n",
    "                test_gene_sequence = test_gene_sequence.toseq()\n",
    "\n",
    "                #translate sequence into amino acid seq\n",
    "                test_protein_sequence = translate(gene_intergenic_id , test_gene_sequence)\n",
    "\n",
    "                #store the H37Rv AA seq to compare against\n",
    "                H37Rv_AA_sequence = ref_protein_sequences_records[gene_intergenic_id].seq\n",
    "\n",
    "                #get the codon number where the SNP occurs within\n",
    "                ## take the genomic coordinate (relative to the gene, in the 5' to 3' direction), divide by 3, then take the ceiling of this number (will be fraction if SNP occurs in 1st or 2nd position on codon)\n",
    "                strand = reference_genome_annotation.loc[gene_intergenic_id, 'strand']\n",
    "                if strand == '+':\n",
    "                     genomic_5_to_3_coord = (ref_seq_position) - reference_genome_annotation.loc[gene_intergenic_id , 'chromStart']\n",
    "\n",
    "                elif strand == '-':\n",
    "                     genomic_5_to_3_coord = (reference_genome_annotation.loc[gene_intergenic_id , 'chromEnd']) - (ref_seq_position-1)\n",
    "\n",
    "                codon_coord = int(np.ceil( float( genomic_5_to_3_coord) / 3.0 ))\n",
    "\n",
    "                #compare to AA seq of original gene\n",
    "                if test_protein_sequence == H37Rv_AA_sequence:\n",
    "\n",
    "                    SNP_type = 'S'\n",
    "\n",
    "                    #get the AA before & after\n",
    "                    AA_change = H37Rv_AA_sequence[codon_coord-1] + str(codon_coord) + test_protein_sequence[codon_coord-1]\n",
    "\n",
    "                else:\n",
    "                    SNP_type = 'N'\n",
    "\n",
    "                    #get the AA before & after\n",
    "                    AA_change = H37Rv_AA_sequence[codon_coord-1] + str(codon_coord) + test_protein_sequence[codon_coord-1]\n",
    "                    \n",
    "            #alternate allele is a dummy (Base Call completely supports the Reference Allele)       \n",
    "            else:\n",
    "                \n",
    "                SNP_type = 'None'\n",
    "                AA_change = 'None'\n",
    "\n",
    "            #store relevant info in lists    \n",
    "            gene_intergenic_id_list.append(gene_intergenic_id)\n",
    "            genomic_coord_list.append(genomic_5_to_3_coord)\n",
    "            gene_category_list.append(gene_category_i)\n",
    "            gene_symbol_list.append(gene_symbol_i)\n",
    "            Syn_NSyn_list.append(SNP_type)\n",
    "            AA_change_list.append(AA_change)\n",
    "    \n",
    "    #if no gene in H37Rv corresponds to the Reference Position for SNP, then SNP must be intergenic\n",
    "    else:\n",
    "        \n",
    "        gene_intergenic_id = find_flanking_genes_for_intergenic_region(ref_seq_position)\n",
    "        genomic_5_to_3_coord = 'None'\n",
    "        gene_category_i = 'None'\n",
    "        gene_symbol_i = 'None'\n",
    "        SNP_type = 'I'\n",
    "        AA_change = 'None'\n",
    "        \n",
    "        #store relevant info in lists    \n",
    "        gene_intergenic_id_list.append(gene_intergenic_id)\n",
    "        genomic_coord_list.append(genomic_5_to_3_coord)\n",
    "        gene_category_list.append(gene_category_i)\n",
    "        gene_symbol_list.append(gene_symbol_i)\n",
    "        Syn_NSyn_list.append(SNP_type)\n",
    "        AA_change_list.append(AA_change)\n",
    "    \n",
    "    #if there is only a single gene associated with this SNP, just return the individual elememts\n",
    "    if len(gene_intergenic_id_list) == 1:\n",
    "        return [ref_allele_i , gene_intergenic_id , genomic_5_to_3_coord , gene_category_i , gene_symbol_i , SNP_type , AA_change]\n",
    "    \n",
    "    #else if there are two genes associated with this SNP, return elements for each SNP annotation in a list\n",
    "    elif len(gene_intergenic_id_list) > 1:\n",
    "        return [ref_allele_i , gene_intergenic_id_list , genomic_coord_list , gene_category_list , gene_symbol_list , Syn_NSyn_list , AA_change_list]\n",
    "################################################################################################################################################################################################"
   ]
  },
  {
   "cell_type": "markdown",
   "metadata": {},
   "source": [
    "#### Iterate through each unique Reference Allele - Alternate Allele pair and get relevant annotation"
   ]
  },
  {
   "cell_type": "code",
   "execution_count": 120,
   "metadata": {},
   "outputs": [
    {
     "name": "stderr",
     "output_type": "stream",
     "text": [
      "/home/rv76/anaconda2/lib/python2.7/site-packages/Bio/Seq.py:2715: BiopythonWarning: Partial codon, len(sequence) not a multiple of three. Explicitly trim the sequence or add trailing N before translation. This may become an error in future.\n",
      "  BiopythonWarning)\n"
     ]
    }
   ],
   "source": [
    "#create lists for each new column of the SNP functional annotation DF\n",
    "gene_intergenic_id_list = []\n",
    "gene_pos_list = []\n",
    "SNP_type_list = []\n",
    "AA_change_list = []\n",
    "\n",
    "for SNP_i in SNP_functional_annotation_DF.index:\n",
    "    \n",
    "    #get the reference position & alternate allele from index key\n",
    "    ref_pos_i , alt_allele_i = SNP_i.split('_')\n",
    "    \n",
    "    #get functional annotation for SNP\n",
    "    ref_allele_i , gene_intergenic_id_i , gene_pos_i , gene_category_i , gene_symbol_i , SNP_type_i , AA_change_i = SNP_annotate(int(ref_pos_i) , alt_allele_i)\n",
    "    \n",
    "    #store functional annotation info in lists\n",
    "    gene_intergenic_id_list.append(gene_intergenic_id_i)\n",
    "    gene_pos_list.append(gene_pos_i)\n",
    "    SNP_type_list.append(SNP_type_i)\n",
    "    AA_change_list.append(AA_change_i)\n",
    "    \n",
    "#append new columns to SNP functional annotation\n",
    "SNP_functional_annotation_DF['gene_id'] = gene_intergenic_id_list\n",
    "SNP_functional_annotation_DF['gene_pos'] = gene_pos_list\n",
    "SNP_functional_annotation_DF['SNP_type'] = SNP_type_list\n",
    "SNP_functional_annotation_DF['AA_change'] = AA_change_list"
   ]
  },
  {
   "cell_type": "code",
   "execution_count": 121,
   "metadata": {},
   "outputs": [
    {
     "data": {
      "text/plain": [
       "(152836, 9)"
      ]
     },
     "execution_count": 121,
     "metadata": {},
     "output_type": "execute_result"
    }
   ],
   "source": [
    "np.shape(SNP_functional_annotation_DF)"
   ]
  },
  {
   "cell_type": "code",
   "execution_count": 122,
   "metadata": {},
   "outputs": [
    {
     "data": {
      "text/html": [
       "<div>\n",
       "<style>\n",
       "    .dataframe thead tr:only-child th {\n",
       "        text-align: right;\n",
       "    }\n",
       "\n",
       "    .dataframe thead th {\n",
       "        text-align: left;\n",
       "    }\n",
       "\n",
       "    .dataframe tbody tr th {\n",
       "        vertical-align: top;\n",
       "    }\n",
       "</style>\n",
       "<table border=\"1\" class=\"dataframe\">\n",
       "  <thead>\n",
       "    <tr style=\"text-align: right;\">\n",
       "      <th></th>\n",
       "      <th>pos</th>\n",
       "      <th>ref</th>\n",
       "      <th>alt</th>\n",
       "      <th>gene_category</th>\n",
       "      <th>gene_name</th>\n",
       "      <th>gene_id</th>\n",
       "      <th>gene_pos</th>\n",
       "      <th>SNP_type</th>\n",
       "      <th>AA_change</th>\n",
       "    </tr>\n",
       "  </thead>\n",
       "  <tbody>\n",
       "    <tr>\n",
       "      <th>29_G</th>\n",
       "      <td>29</td>\n",
       "      <td>C</td>\n",
       "      <td>G</td>\n",
       "      <td>Essential</td>\n",
       "      <td>dnaA</td>\n",
       "      <td>Rv0001</td>\n",
       "      <td>29</td>\n",
       "      <td>N</td>\n",
       "      <td>T10S</td>\n",
       "    </tr>\n",
       "    <tr>\n",
       "      <th>31_C</th>\n",
       "      <td>31</td>\n",
       "      <td>A</td>\n",
       "      <td>C</td>\n",
       "      <td>Essential</td>\n",
       "      <td>dnaA</td>\n",
       "      <td>Rv0001</td>\n",
       "      <td>31</td>\n",
       "      <td>N</td>\n",
       "      <td>T11P</td>\n",
       "    </tr>\n",
       "    <tr>\n",
       "      <th>31_G</th>\n",
       "      <td>31</td>\n",
       "      <td>A</td>\n",
       "      <td>G</td>\n",
       "      <td>Essential</td>\n",
       "      <td>dnaA</td>\n",
       "      <td>Rv0001</td>\n",
       "      <td>31</td>\n",
       "      <td>N</td>\n",
       "      <td>T11A</td>\n",
       "    </tr>\n",
       "    <tr>\n",
       "      <th>48_T</th>\n",
       "      <td>48</td>\n",
       "      <td>C</td>\n",
       "      <td>T</td>\n",
       "      <td>Essential</td>\n",
       "      <td>dnaA</td>\n",
       "      <td>Rv0001</td>\n",
       "      <td>48</td>\n",
       "      <td>S</td>\n",
       "      <td>V16V</td>\n",
       "    </tr>\n",
       "    <tr>\n",
       "      <th>64_C</th>\n",
       "      <td>64</td>\n",
       "      <td>G</td>\n",
       "      <td>C</td>\n",
       "      <td>Essential</td>\n",
       "      <td>dnaA</td>\n",
       "      <td>Rv0001</td>\n",
       "      <td>64</td>\n",
       "      <td>N</td>\n",
       "      <td>G22R</td>\n",
       "    </tr>\n",
       "  </tbody>\n",
       "</table>\n",
       "</div>"
      ],
      "text/plain": [
       "      pos ref alt gene_category gene_name gene_id gene_pos SNP_type AA_change\n",
       "29_G   29   C   G     Essential      dnaA  Rv0001       29        N      T10S\n",
       "31_C   31   A   C     Essential      dnaA  Rv0001       31        N      T11P\n",
       "31_G   31   A   G     Essential      dnaA  Rv0001       31        N      T11A\n",
       "48_T   48   C   T     Essential      dnaA  Rv0001       48        S      V16V\n",
       "64_C   64   G   C     Essential      dnaA  Rv0001       64        N      G22R"
      ]
     },
     "execution_count": 122,
     "metadata": {},
     "output_type": "execute_result"
    }
   ],
   "source": [
    "SNP_functional_annotation_DF.head()"
   ]
  },
  {
   "cell_type": "markdown",
   "metadata": {},
   "source": [
    "#### Pickle functional SNP annotation for downstream analysis"
   ]
  },
  {
   "cell_type": "markdown",
   "metadata": {},
   "source": [
    "__Note__: \n",
    "\n",
    "The gene position/coordinate for the original SNP annotation file (whose rows map to the rows of the Genotypes Matrix) starts counting from 0 and starts counting from 5' > 3' regardless of which strand the gene is transcribed from, this is to accomodate the functional SNP annotation. \n",
    "\n",
    "The gene position/coordinate for the functional SNP annotation (above) starts counting from 1 and starts counting in the direction that the gene is transcribed which is more intuitive for reporting purposes."
   ]
  },
  {
   "cell_type": "code",
   "execution_count": 123,
   "metadata": {},
   "outputs": [],
   "source": [
    "SNP_functional_annotation_DF.to_pickle('/n/data1/hms/dbmi/farhat/Roger/inhost_TB_dynamics_project/genotypes_matrix_and_tSNE/Genotype_Filtered_2/genotypes_SNP_functional_annotation.pkl')"
   ]
  }
 ],
 "metadata": {
  "kernelspec": {
   "display_name": "Python 2",
   "language": "python",
   "name": "python2"
  },
  "language_info": {
   "codemirror_mode": {
    "name": "ipython",
    "version": 2
   },
   "file_extension": ".py",
   "mimetype": "text/x-python",
   "name": "python",
   "nbconvert_exporter": "python",
   "pygments_lexer": "ipython2",
   "version": "2.7.16"
  }
 },
 "nbformat": 4,
 "nbformat_minor": 2
}
