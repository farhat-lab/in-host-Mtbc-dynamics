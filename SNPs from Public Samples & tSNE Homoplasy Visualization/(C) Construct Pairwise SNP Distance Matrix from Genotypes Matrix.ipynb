{
 "cells": [
  {
   "cell_type": "code",
   "execution_count": 1,
   "metadata": {},
   "outputs": [
    {
     "data": {
      "text/html": [
       "<style>.container { width:100% !important; }</style>"
      ],
      "text/plain": [
       "<IPython.core.display.HTML object>"
      ]
     },
     "metadata": {},
     "output_type": "display_data"
    }
   ],
   "source": [
    "from IPython.core.display import display, HTML\n",
    "display(HTML(\"<style>.container { width:100% !important; }</style>\"))"
   ]
  },
  {
   "cell_type": "markdown",
   "metadata": {},
   "source": [
    "#### This notebook was created to (1) convert the genotypes matrix for all isolates into a pairwise SNP distance matrix"
   ]
  },
  {
   "cell_type": "code",
   "execution_count": 2,
   "metadata": {},
   "outputs": [],
   "source": [
    "import vcf\n",
    "\n",
    "%matplotlib inline\n",
    "import os\n",
    "import pandas as pd\n",
    "import numpy as np\n",
    "import matplotlib.pyplot as plt\n",
    "import matplotlib as mpl\n",
    "import matplotlib.ticker as ticker\n",
    "from itertools import compress\n",
    "from pylab import MaxNLocator\n",
    "import seaborn as sns; sns.set()\n",
    "from matplotlib.colors import LogNorm\n",
    "from matplotlib import gridspec\n",
    "import ast\n",
    "import itertools\n",
    "import seaborn as sns\n",
    "from sklearn.preprocessing import StandardScaler\n",
    "\n",
    "import fastcluster\n",
    "from sklearn import cluster, datasets\n",
    "import scipy.cluster.hierarchy as hier\n",
    "from sklearn.cluster import KMeans\n",
    "import time\n",
    "import sys\n",
    "\n",
    "import Bio\n",
    "from Bio.Alphabet import IUPAC\n",
    "from Bio.Blast.Applications import NcbiblastnCommandline\n",
    "from Bio.Blast import NCBIXML\n",
    "from Bio.Seq import Seq\n",
    "from Bio.SeqRecord import SeqRecord\n",
    "from Bio.SeqFeature import SeqFeature, FeatureLocation\n",
    "from Bio import pairwise2\n",
    "from Bio import SeqIO\n",
    "from Bio.Graphics import GenomeDiagram\n",
    "from Bio.SeqUtils import GC\n",
    "from Bio import Phylo\n",
    "\n",
    "from Bio.Align.Applications import MuscleCommandline\n",
    "from StringIO import StringIO\n",
    "from Bio import AlignIO\n",
    "from Bio.Align import AlignInfo\n",
    "from Bio.Seq import MutableSeq\n",
    "import itertools\n",
    "import gzip\n",
    "from scipy.sparse import csr_matrix\n",
    "\n",
    "import networkx as nx\n",
    "import scipy\n",
    "from collections import Counter\n",
    "from itertools import groupby\n",
    "from operator import itemgetter\n",
    "import numpy.ma as ma\n",
    "import time"
   ]
  },
  {
   "cell_type": "markdown",
   "metadata": {},
   "source": [
    "####################################################################################################################################################################################"
   ]
  },
  {
   "cell_type": "markdown",
   "metadata": {},
   "source": [
    "## [1] Create a script to construct the pairwise simililarity matrices (for A, C, G and T) and also the matrix that contains the number of non-NA sites called for each pair of isolates (NA)."
   ]
  },
  {
   "cell_type": "markdown",
   "metadata": {},
   "source": [
    "####################################################################################################################################################################################"
   ]
  },
  {
   "cell_type": "code",
   "execution_count": 4,
   "metadata": {},
   "outputs": [],
   "source": [
    "import numpy as np\n",
    "from scipy.sparse import csr_matrix\n",
    "import sys\n",
    "import timeit"
   ]
  },
  {
   "cell_type": "code",
   "execution_count": 5,
   "metadata": {},
   "outputs": [],
   "source": [
    "#INPUT - condition that turns Genotypes Array into a Boolean (one of five options) ['A' , 'C' , 'G' , 'T' , 'not_NaN']\n",
    "genotypes_bool_condition = 'G'"
   ]
  },
  {
   "cell_type": "markdown",
   "metadata": {},
   "source": [
    "### Check runtime of matrix multiplication to see if runtime < 3 days for the *least* sparse binary matrix"
   ]
  },
  {
   "cell_type": "code",
   "execution_count": 10,
   "metadata": {},
   "outputs": [],
   "source": [
    "#necessary setup to test matrix multiplication\n",
    "code_to_setup = \"\"\"\n",
    "import numpy as np\n",
    "from scipy.sparse import csr_matrix\n",
    "import sys\n",
    "import timeit\n",
    "\n",
    "#load Genotypes Matrix\n",
    "genotypes_array =  np.load('/n/data1/hms/dbmi/farhat/Roger/inhost_TB_dynamics_project/genotypes_matrix_and_tSNE/Genotype_Filtered_2/genotypes_matrix.npy')\n",
    "\n",
    "#subset to 200 isolates for runtime check, as number of isolates scale by 10x - Runtime scales by 100x\n",
    "genotypes_array = genotypes_array[: , 0:200]\n",
    "\n",
    "#convert genotypes to it's tranpose so that Rows:isolates , Columns:SNP sites to set up for matrix multiplication of (isolate pair i) <-> (isolate pair j)\n",
    "genotypes_array = genotypes_array.T\n",
    "\n",
    "#convert genotypes array into a boolean (then to a binary matrix) based off of condition ('not_NaN') that will result in the least sparse matrix\n",
    "Geno_bool = genotypes_array != 9\n",
    "\n",
    "#delete Genotypes Matrix from memory\n",
    "del genotypes_array\n",
    "    \n",
    "#convert boolean matrix into a binary matrix to prep for matrix multiplication\n",
    "Geno_bool = Geno_bool.astype(int)\n",
    "\n",
    "#convert binary matrix to a scipy sparse matrix to improve multiplication runtime\n",
    "Geno_bool = csr_matrix(Geno_bool)\n",
    "\n",
    "#store the transpose of this matrix as a scipy sparse matrix\n",
    "Geno_bool_T = csr_matrix(Geno_bool.transpose())\n",
    "\"\"\"\n",
    "\n",
    "#test runtime of matrix multiplication \n",
    "code_to_test = \"\"\"\n",
    "#compute similarity matrix by multiplying Genotypes binary matrix by it's transpose\n",
    "Sim_matrix = Geno_bool.dot(Geno_bool_T).toarray()\"\"\"\n",
    "\n",
    "#test the matrix multiplication 3 times and take the average\n",
    "avg_time_to_multiply = timeit.timeit(setup = code_to_setup , stmt = code_to_test, number = 3) / 3.0"
   ]
  },
  {
   "cell_type": "code",
   "execution_count": 9,
   "metadata": {},
   "outputs": [
    {
     "data": {
      "text/plain": [
       "12.32261864344279"
      ]
     },
     "execution_count": 9,
     "metadata": {},
     "output_type": "execute_result"
    }
   ],
   "source": [
    "avg_time_to_multiply"
   ]
  },
  {
   "cell_type": "markdown",
   "metadata": {},
   "source": [
    "### If runtime for this login-node is good, go through with matrix multiplication, otherwise abort"
   ]
  },
  {
   "cell_type": "code",
   "execution_count": null,
   "metadata": {},
   "outputs": [],
   "source": [
    "#avg time to multiply is stored in seconds, want to make sure that the matrix multiplication for 200 isolates <= 14 seconds\n",
    "if avg_time_to_multiply <= 14:\n",
    "    \n",
    "    #load Genotypes Matrix\n",
    "    genotypes_array =  np.load('/n/data1/hms/dbmi/farhat/Roger/inhost_TB_dynamics_project/genotypes_matrix_and_tSNE/Genotype_Filtered_2/genotypes_matrix.npy')\n",
    "\n",
    "    #convert genotypes to it's tranpose so that Rows:isolates , Columns:SNP sites to set up for matrix multiplication of (isolate pair i) <-> (isolate pair j)\n",
    "    genotypes_array = genotypes_array.T \n",
    "    \n",
    "    #convert genotypes array into a boolean (then to a binary matrix) based off of some condition\n",
    "    if genotypes_bool_condition == 'A':\n",
    "        Geno_bool = genotypes_array == 0\n",
    "\n",
    "    elif genotypes_bool_condition == 'C':\n",
    "        Geno_bool = genotypes_array == 1\n",
    "\n",
    "    elif genotypes_bool_condition == 'G':\n",
    "        Geno_bool = genotypes_array == 2\n",
    "\n",
    "    elif genotypes_bool_condition == 'T':\n",
    "        Geno_bool = genotypes_array == 3\n",
    "\n",
    "    elif genotypes_bool_condition == 'not_NaN':\n",
    "        Geno_bool = genotypes_array != 9\n",
    "        \n",
    "    #delete Genotypes Matrix from memory\n",
    "    del genotypes_array\n",
    "        \n",
    "    #convert boolean matrix into a binary matrix to prep for matrix multiplication\n",
    "    Geno_bool = Geno_bool.astype(int)\n",
    "\n",
    "    #convert binary matrix to a scipy sparse matrix to improve multiplication runtime\n",
    "    Geno_bool = csr_matrix(Geno_bool)\n",
    "\n",
    "    #store the transpose of this matrix as a scipy sparse matrix\n",
    "    Geno_bool_T = csr_matrix(Geno_bool.transpose())\n",
    "    \n",
    "    #compute similarity matrix by multiplying Genotypes binary matrix by it's transpose\n",
    "    Sim_matrix = Geno_bool.dot(Geno_bool_T).toarray()\n",
    "\n",
    "    #save similarity matrix constructed from multipltying binary genotypes matrix with its transpose\n",
    "    np.save('/n/data1/hms/dbmi/farhat/Roger/inhost_TB_dynamics_project/genotypes_matrix_and_tSNE/Genotype_Filtered_2/pairwise_distance_matrix/similarity_matrix_' + genotypes_bool_condition , Sim_matrix , allow_pickle = True)\n",
    "    \n",
    "else:\n",
    "    \n",
    "    print('aborted because runtime is too long for this node!')\n",
    "    print('Average time to multiply = ' + str(avg_time_to_multiply))"
   ]
  },
  {
   "cell_type": "markdown",
   "metadata": {},
   "source": [
    "####################################################################################################################################################################################"
   ]
  },
  {
   "cell_type": "markdown",
   "metadata": {},
   "source": [
    "## [2] Use script above to submit the computation of each similiarity matrix as a seperate job"
   ]
  },
  {
   "cell_type": "markdown",
   "metadata": {},
   "source": [
    "####################################################################################################################################################################################"
   ]
  },
  {
   "cell_type": "code",
   "execution_count": 3,
   "metadata": {},
   "outputs": [],
   "source": [
    "from slurmpy import Slurm\n",
    "import os"
   ]
  },
  {
   "cell_type": "markdown",
   "metadata": {},
   "source": [
    "#### Submit a job to compute each similarity matrix"
   ]
  },
  {
   "cell_type": "markdown",
   "metadata": {},
   "source": [
    "Possible Inputs: 'A', 'C', 'G', 'T', & 'not_NaN'"
   ]
  },
  {
   "cell_type": "code",
   "execution_count": 5,
   "metadata": {},
   "outputs": [
    {
     "name": "stderr",
     "output_type": "stream",
     "text": [
      "submitted: Submitted batch job 4144931\n",
      "submitted: Submitted batch job 4144933\n"
     ]
    },
    {
     "name": "stdout",
     "output_type": "stream",
     "text": [
      "Sim_A : 4144931\n",
      "Sim_C : 4144933\n",
      "Sim_G : 4144936\n",
      "Sim_T : 4144937\n"
     ]
    },
    {
     "name": "stderr",
     "output_type": "stream",
     "text": [
      "submitted: Submitted batch job 4144936\n",
      "submitted: Submitted batch job 4144937\n"
     ]
    }
   ],
   "source": [
    "for genotypes_bool_condition in ['A' , 'C' , 'G' , 'T']: #['A' , 'C' , 'G' , 'T' , 'not_NaN']:\n",
    "    \n",
    "    sim_matrix_mult_job = 'python /n/data1/hms/dbmi/farhat/Roger/inhost_TB_dynamics_project/python_scripts/similarity_matrix_computation_for_inhost_TB_dynamics.py ' + genotypes_bool_condition\n",
    "    \n",
    "    #directory where you want output + error files\n",
    "    os.chdir('/n/data1/hms/dbmi/farhat/Roger/inhost_TB_dynamics_project/genotypes_matrix_and_tSNE/Genotype_Filtered_2/pairwise_distance_matrix/similarity_matrix_computation_jobs/')\n",
    "\n",
    "    job_name = 'Sim_' + genotypes_bool_condition\n",
    "\n",
    "    s = Slurm(job_name , {'partition':'medium' , 'N':'1' , 't':'1-6:00:00' , 'mem':'160G' , 'mail-type':'ALL' , 'mail-user':'roger_vargas@g.harvard.edu'})\n",
    "\n",
    "    #submits the job\n",
    "    job_id = s.run(sim_matrix_mult_job)\n",
    "\n",
    "    print job_name  + ' : ' +  str(job_id)"
   ]
  },
  {
   "cell_type": "markdown",
   "metadata": {},
   "source": [
    "#### Runtime for matrix multiplications"
   ]
  },
  {
   "cell_type": "markdown",
   "metadata": {},
   "source": [
    "*Similarity Matrix for A* - Run time 04:51:44"
   ]
  },
  {
   "cell_type": "markdown",
   "metadata": {},
   "source": [
    "*Similarity Matrix for T* - Run time 04:24:41"
   ]
  },
  {
   "cell_type": "markdown",
   "metadata": {},
   "source": [
    "*Similarity Matrix for C* - Run time 14:21:01"
   ]
  },
  {
   "cell_type": "markdown",
   "metadata": {},
   "source": [
    "*Similarity Matrix for G* - Run time 13:22:03"
   ]
  },
  {
   "cell_type": "markdown",
   "metadata": {},
   "source": [
    "*Similarity Matrix for non NaN values* - Run time 2-04:21:47"
   ]
  },
  {
   "cell_type": "markdown",
   "metadata": {},
   "source": [
    "####################################################################################################################################################################################"
   ]
  },
  {
   "cell_type": "markdown",
   "metadata": {},
   "source": [
    "## [3] Create pairwise SNP distance matrix from genotypes matrix from Similarity Matrices"
   ]
  },
  {
   "cell_type": "markdown",
   "metadata": {},
   "source": [
    "####################################################################################################################################################################################"
   ]
  },
  {
   "cell_type": "code",
   "execution_count": 2,
   "metadata": {},
   "outputs": [],
   "source": [
    "import numpy as np"
   ]
  },
  {
   "cell_type": "markdown",
   "metadata": {},
   "source": [
    "#### Load in similiarity matrices for A, C, G, T & matrix that contains the number of pairwise *good calls* for each pair of isolates."
   ]
  },
  {
   "cell_type": "code",
   "execution_count": 3,
   "metadata": {},
   "outputs": [],
   "source": [
    "Sim_A_array = np.load('/n/data1/hms/dbmi/farhat/Roger/inhost_TB_dynamics_project/genotypes_matrix_and_tSNE/Genotype_Filtered_2/pairwise_distance_matrix/similarity_matrix_A.npy')\n",
    "Sim_C_array = np.load('/n/data1/hms/dbmi/farhat/Roger/inhost_TB_dynamics_project/genotypes_matrix_and_tSNE/Genotype_Filtered_2/pairwise_distance_matrix/similarity_matrix_C.npy')\n",
    "Sim_G_array = np.load('/n/data1/hms/dbmi/farhat/Roger/inhost_TB_dynamics_project/genotypes_matrix_and_tSNE/Genotype_Filtered_2/pairwise_distance_matrix/similarity_matrix_G.npy')\n",
    "Sim_T_array = np.load('/n/data1/hms/dbmi/farhat/Roger/inhost_TB_dynamics_project/genotypes_matrix_and_tSNE/Genotype_Filtered_2/pairwise_distance_matrix/similarity_matrix_T.npy')\n",
    "\n",
    "Sim_not_NaN = np.load('/n/data1/hms/dbmi/farhat/Roger/inhost_TB_dynamics_project/genotypes_matrix_and_tSNE/Genotype_Filtered_2/pairwise_distance_matrix/similarity_matrix_not_NaN.npy')"
   ]
  },
  {
   "cell_type": "markdown",
   "metadata": {},
   "source": [
    "#### Use matrices above to compute pairwise distance matrix"
   ]
  },
  {
   "cell_type": "code",
   "execution_count": 4,
   "metadata": {},
   "outputs": [],
   "source": [
    "#add similarity matrices for each allele to get a similarity matrix across all bases\n",
    "Sim_array = Sim_A_array + Sim_C_array + Sim_G_array + Sim_T_array\n",
    "\n",
    "#subtract similarity matrix from number of sites that had high quality base calls for both isolates to get number of SNPs that each pair of isolates differed by\n",
    "pairwise_SNP_dist = Sim_not_NaN - Sim_array"
   ]
  },
  {
   "cell_type": "code",
   "execution_count": 5,
   "metadata": {},
   "outputs": [
    {
     "data": {
      "text/plain": [
       "(20352, 20352)"
      ]
     },
     "execution_count": 5,
     "metadata": {},
     "output_type": "execute_result"
    }
   ],
   "source": [
    "np.shape(pairwise_SNP_dist)"
   ]
  },
  {
   "cell_type": "code",
   "execution_count": 6,
   "metadata": {},
   "outputs": [
    {
     "data": {
      "text/plain": [
       "array([[   0, 1708, 1048, ..., 1056,  990, 1092],\n",
       "       [1708,    0, 1619, ..., 1631, 1650, 1665],\n",
       "       [1048, 1619,    0, ...,  642, 1014,  687],\n",
       "       ...,\n",
       "       [1056, 1631,  642, ...,    0, 1025,  329],\n",
       "       [ 990, 1650, 1014, ..., 1025,    0, 1051],\n",
       "       [1092, 1665,  687, ...,  329, 1051,    0]])"
      ]
     },
     "execution_count": 6,
     "metadata": {},
     "output_type": "execute_result"
    }
   ],
   "source": [
    "pairwise_SNP_dist"
   ]
  },
  {
   "cell_type": "markdown",
   "metadata": {},
   "source": [
    "#### Save pairwise SNP distance matrix"
   ]
  },
  {
   "cell_type": "code",
   "execution_count": 7,
   "metadata": {},
   "outputs": [],
   "source": [
    "np.save('/n/data1/hms/dbmi/farhat/Roger/inhost_TB_dynamics_project/genotypes_matrix_and_tSNE/Genotype_Filtered_2/pairwise_distance_matrix/pairwise_SNP_distance_matrix' , pairwise_SNP_dist , allow_pickle = True)"
   ]
  }
 ],
 "metadata": {
  "kernelspec": {
   "display_name": "Python 2",
   "language": "python",
   "name": "python2"
  },
  "language_info": {
   "codemirror_mode": {
    "name": "ipython",
    "version": 2
   },
   "file_extension": ".py",
   "mimetype": "text/x-python",
   "name": "python",
   "nbconvert_exporter": "python",
   "pygments_lexer": "ipython2",
   "version": "2.7.16"
  }
 },
 "nbformat": 4,
 "nbformat_minor": 2
}
