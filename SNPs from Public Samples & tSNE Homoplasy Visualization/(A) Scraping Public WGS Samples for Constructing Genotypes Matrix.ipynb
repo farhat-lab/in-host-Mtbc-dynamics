{
 "cells": [
  {
   "cell_type": "code",
   "execution_count": 1,
   "metadata": {},
   "outputs": [
    {
     "data": {
      "text/html": [
       "<style>.container { width:100% !important; }</style>"
      ],
      "text/plain": [
       "<IPython.core.display.HTML object>"
      ]
     },
     "metadata": {},
     "output_type": "display_data"
    }
   ],
   "source": [
    "from IPython.core.display import display, HTML\n",
    "display(HTML(\"<style>.container { width:100% !important; }</style>\"))"
   ]
  },
  {
   "cell_type": "markdown",
   "metadata": {},
   "source": [
    "#### This notebook was created to find all of the High Quality SNV calls for all of the isolates in a DataBase with ~33k VCF files from processed FASTQ files that were downloaded from NCBI"
   ]
  },
  {
   "cell_type": "code",
   "execution_count": 2,
   "metadata": {},
   "outputs": [],
   "source": [
    "import vcf\n",
    "\n",
    "%matplotlib inline\n",
    "import os\n",
    "import pandas as pd\n",
    "import numpy as np\n",
    "import matplotlib.pyplot as plt\n",
    "import matplotlib as mpl\n",
    "import matplotlib.ticker as ticker\n",
    "from itertools import compress\n",
    "from pylab import MaxNLocator\n",
    "import seaborn as sns; sns.set()\n",
    "from matplotlib.colors import LogNorm\n",
    "from matplotlib import gridspec\n",
    "import ast\n",
    "import itertools\n",
    "import seaborn as sns\n",
    "from sklearn.preprocessing import StandardScaler\n",
    "\n",
    "import fastcluster\n",
    "from sklearn import cluster, datasets\n",
    "import scipy.cluster.hierarchy as hier\n",
    "from sklearn.cluster import KMeans\n",
    "import time\n",
    "import sys\n",
    "\n",
    "import Bio\n",
    "from Bio.Alphabet import IUPAC\n",
    "from Bio.Blast.Applications import NcbiblastnCommandline\n",
    "from Bio.Blast import NCBIXML\n",
    "from Bio.Seq import Seq\n",
    "from Bio.SeqRecord import SeqRecord\n",
    "from Bio.SeqFeature import SeqFeature, FeatureLocation\n",
    "from Bio import pairwise2\n",
    "from Bio import SeqIO\n",
    "from Bio.Graphics import GenomeDiagram\n",
    "from Bio.SeqUtils import GC\n",
    "\n",
    "from Bio.Align.Applications import MuscleCommandline\n",
    "from StringIO import StringIO\n",
    "from Bio import AlignIO\n",
    "from Bio.Align import AlignInfo\n",
    "from Bio.Seq import MutableSeq\n",
    "import itertools\n",
    "import gzip\n",
    "\n",
    "import networkx as nx\n",
    "import scipy\n",
    "import pickle"
   ]
  },
  {
   "cell_type": "markdown",
   "metadata": {},
   "source": [
    "####################################################################################################################################################################################"
   ]
  },
  {
   "cell_type": "markdown",
   "metadata": {},
   "source": [
    "## [1] This section of the notebook loads all of the Lineage Calls that were made on the isolates in rollingDB as well as the mean coverage / isolates for all of the isolates in rollingDB. "
   ]
  },
  {
   "cell_type": "markdown",
   "metadata": {},
   "source": [
    "####################################################################################################################################################################################"
   ]
  },
  {
   "cell_type": "markdown",
   "metadata": {},
   "source": [
    "#### We runs through the pilon-generated VCF for each isolate (N = 33,875) and scrapes the High Quality Single Nucleotide Variant calls made against H37Rv. The DataFrame containing these high quality SNV calls (with the Reference Position, Reference Allele and Alterante Allele) for each isolate is then stored in a directory containing all of the DFs for all isolates. "
   ]
  },
  {
   "cell_type": "markdown",
   "metadata": {},
   "source": [
    "#### Side-Note: Some isolate have ~20x coverage but we require 25 reads at a given position to make a SNP call"
   ]
  },
  {
   "cell_type": "markdown",
   "metadata": {},
   "source": [
    "### Scrape Luca's DB"
   ]
  },
  {
   "cell_type": "code",
   "execution_count": 3,
   "metadata": {},
   "outputs": [
    {
     "name": "stdout",
     "output_type": "stream",
     "text": [
      "0.0500090232801\n",
      "0.10001804656\n",
      "0.15002706984\n",
      "0.20003609312\n",
      "0.2500451164\n",
      "0.30005413968\n",
      "0.35006316296\n",
      "0.400072186241\n",
      "0.450081209521\n",
      "0.500090232801\n",
      "0.550099256081\n",
      "0.600108279361\n",
      "0.650117302641\n"
     ]
    }
   ],
   "source": [
    "#genomic data directory\n",
    "rolling_DB_dir = '/n/data1/hms/dbmi/farhat/rollingDB/genomic_data/'\n",
    "\n",
    "#get all folders (each folder corresponds to a different sequenced isolate)\n",
    "isolate_directories = os.listdir(rolling_DB_dir)\n",
    "\n",
    "#iterate through each sequenced isolate\n",
    "isolate_i = 0\n",
    "\n",
    "for isolate_ID in isolate_directories:\n",
    "\n",
    "    #directory that stores files for each sequenced isolate\n",
    "    directory_for_sequenced_isolate = rolling_DB_dir + isolate_ID\n",
    "\n",
    "    #check to see if megapipe successfully ran on sequenced isolate\n",
    "    try:\n",
    "        #existence of a PILON directory and corresponding VCF file\n",
    "        if ( 'pilon' in os.listdir(directory_for_sequenced_isolate) ):\n",
    "            \n",
    "            #existence of a REDUCED VCF and existence of FULL VCF file in relevent directories \n",
    "            if ( 'vcf' in list( itertools.chain.from_iterable( [filename.split('.') for filename in os.listdir(directory_for_sequenced_isolate + '/pilon/')] ) ) ) and ( isolate_ID + '_full' in list( itertools.chain.from_iterable( [filename.split('.') for filename in os.listdir(directory_for_sequenced_isolate + '/pilon/')] ) ) ):\n",
    "                \n",
    "                #we have a valid VCF file so megapipe ran successfully, let's keep the variant call information for this sequenced isolate\n",
    "                \n",
    "                #PILON-generated VCF DATA\n",
    "                ########################################################################################################################\n",
    "                \n",
    "                #dictionaries to construct DataFrame from later that hold information about each high-quality SNP found for a specific isolate from rollingDB\n",
    "                ref_dict = {} #reference allele\n",
    "                alt_dict = {} #alternate allele\n",
    "                alt_AF_dict = {} #frequency of alternate allele in population (0.90 - 1.0)\n",
    "                \n",
    "                #load in VCF file if one was found\n",
    "                vcf_reader = vcf.Reader( open(directory_for_sequenced_isolate + '/pilon/' + isolate_ID + '.vcf' , 'r') )\n",
    "\n",
    "                #iterate through each Variant Call \n",
    "                for record in vcf_reader:\n",
    "                    \n",
    "                    #check to see if the call is a PASS by Pilon\n",
    "                    if record.FILTER == []:\n",
    "\n",
    "                        #check to see if variant is SNP (length of Reference Allele is 1 base ; there's only 1 alternate allele ; length of alternate allele is 1 base)\n",
    "                        if (len(record.REF) == 1) and (len(record.ALT) == 1) and (len(str(record.ALT[0])) == 1):\n",
    "\n",
    "                            ##### Retrieve Relevant information for filtering quality of Base Call #####\n",
    "                            # Mean Base Quality @ locus\n",
    "                            BQ = record.INFO['BQ']\n",
    "                            # Mean Mapping Quality @ locus\n",
    "                            MQ = record.INFO['MQ']\n",
    "                            # Number of Reads w/ Deletion \n",
    "                            DC = record.INFO['DC']\n",
    "                            # Number of Reads w/ Insertion\n",
    "                            IC = record.INFO['IC']\n",
    "                            # Depth of Valid Reads in Pileup\n",
    "                            VD = record.INFO['DP']\n",
    "\n",
    "                            ### Filtering Criteria\n",
    "                            #---> Mean Base Quality > 20\n",
    "                            #---> Mean Mapping Quality > 30\n",
    "                            #---> No Reads Supporting Insertions\n",
    "                            #---> No Reads Supporting Deletions\n",
    "                            #---> Number of High Quality Reads >= 25\n",
    "                            if (BQ > 20) and (MQ > 30) and (DC == 0) and (IC == 0) and (VD >= 25): #SNP passed filtering criteria!\n",
    "\n",
    "                                # Filtering Criteria for mutant allele frequency calculation (range: 0.90 - 1.0)\n",
    "                                ref_allele = str( record.REF )\n",
    "                                alt_allele = str( record.ALT[0] )\n",
    "                                ref_pos = int( record.POS )\n",
    "                                \n",
    "                                # Calculate Alternate Allele Frequency\n",
    "                                ########################################################################\n",
    "                                #position-base dictionaries (order of output in Pilon)\n",
    "                                base_order = {0:'A' , 1:'C' , 2:'G', 3:'T'}\n",
    "                                base_order_r = {'A':0 , 'C':1 , 'G':2 , 'T':3}\n",
    "\n",
    "                                # Quality-Percentage - Percentage of As, Cs, Gs, Ts weighted by Q & MQ at locus\n",
    "                                QP = record.INFO['QP']\n",
    "\n",
    "                                if (sum(np.array(QP) == 0) == 3): #1 Allele supported by Reads (Alternate), store information for this Base Call (3 bases have NO reads supporting)\n",
    "\n",
    "                                    #create a Boolean list for the Bases that have at least 1% of support from reads\n",
    "                                    supported_bases_boolean = list( np.array( QP ) > 0 )\n",
    "\n",
    "                                    #positions of Bases [A,C,G,T] with at least 1% of support from reads\n",
    "                                    supported_bases_i = [i for i,x in enumerate(supported_bases_boolean) if x == True] #returns list of length \n",
    "                                    supported_base = base_order[supported_bases_i[0]]\n",
    "\n",
    "                                    #if the Reference Allele is supported\n",
    "                                    if supported_base == ref_allele:\n",
    "                                        alt_allele_frequency = 0.0 #no alternate allele\n",
    "\n",
    "                                    #if an Alternate Allele is supported:\n",
    "                                    if supported_base != ref_allele:\n",
    "                                        alt_allele_frequency = 1.0 #alternate allele\n",
    "\n",
    "                                elif (sum(np.array(QP) == 0) == 2): #2 Alleles supported, make sure 1 is the Reference & confirm the Alternate (2 bases have NO reads supporting)\n",
    "\n",
    "                                    #position of the Reference Allele in [A,C,G,T]\n",
    "                                    ref_allele_base_i = base_order_r[ref_allele] \n",
    "\n",
    "                                    #create a Boolean list for the Bases that have at least 1% of support from reads\n",
    "                                    supported_bases_boolean = list( np.array( QP ) > 0 )\n",
    "\n",
    "                                    #positions of Bases [A,C,G,T] with at least 1% of support from reads\n",
    "                                    supported_bases_i = [i for i,x in enumerate(supported_bases_boolean) if x == True] #returns list of length 2\n",
    "\n",
    "                                    #check that Reference Allele is supported by at least 1% of the reads\n",
    "                                    if ref_allele_base_i in supported_bases_i:\n",
    "\n",
    "                                        #find the Alternate Allele that was supported by at least 1% of the reads\n",
    "                                        for supported_base_i in supported_bases_i:\n",
    "\n",
    "                                            if supported_base_i != ref_allele_base_i: #then must be alternate allele\n",
    "\n",
    "                                                alt_allele = base_order[supported_base_i] #Alternate Allele\n",
    "                                                alt_allele_frequency = float(QP[supported_base_i]) / 100.0 #weighted percentage of reads supporting Alternate Allele\n",
    "                                                break\n",
    "                                ########################################################################\n",
    "                                \n",
    "                                # use only consensus SNPs (where alternate allele frequency >= 90%)\n",
    "                                if alt_allele_frequency >= 0.90:\n",
    "                                \n",
    "                                    # Store good-quality SNV in SNV dictionaries\n",
    "                                    ref_dict[ref_pos] = ref_allele\n",
    "                                    alt_dict[ref_pos] = alt_allele\n",
    "\n",
    "                #construct DataFrame from dictionaries\n",
    "                SNV_DF = pd.DataFrame( index = pd.Series( ref_dict.keys() ) )\n",
    "                SNV_DF['ref'] = pd.Series(ref_dict)\n",
    "                SNV_DF['alt'] = pd.Series(alt_dict)\n",
    "\n",
    "                #make reference-position a column and re-index, sort according to reference position\n",
    "                SNV_DF['pos'] = SNV_DF.index\n",
    "                SNV_DF.sort_values(by = 'pos' , ascending = True , inplace = True)\n",
    "                SNV_DF.reset_index(inplace = True , drop = True)\n",
    "\n",
    "                #pickle DataFrame holding High Quality SNVs from isolate\n",
    "                SNV_DF.to_pickle('/n/data1/hms/dbmi/farhat/Roger/inhost_TB_dynamics_project/rolling_DB_scrape/all_HighQuality_SNVs_found_in_rollingDB/' + isolate_ID + '_SNVs.pkl')\n",
    "                ########################################################################################################################\n",
    "                \n",
    "                #keep track of progress   \n",
    "                isolate_i += 1\n",
    "                if isolate_i % np.ceil(0.05*len(isolate_directories)) == 0:\n",
    "                    print float(isolate_i) / float(len(isolate_directories))\n",
    "        \n",
    "    except OSError: #hit some file that is not another directory with genomic data \n",
    "        continue"
   ]
  },
  {
   "cell_type": "markdown",
   "metadata": {},
   "source": [
    "####################################################################################################################################################################################"
   ]
  },
  {
   "cell_type": "markdown",
   "metadata": {},
   "source": [
    "## [2] This section of the notebook constructs a script that iterates over *subsets* of the HQ SNV DataFrames for each isolate and creates a 'catalogue' of all of the HQ SNVs found in rollingDB. All of the relevent information is stored in dictionaries before being transformed into a DataFrame with all of the unique SNVs (indexed by Reference Position) and the number of isolates that contain a SNV at that position."
   ]
  },
  {
   "cell_type": "markdown",
   "metadata": {},
   "source": [
    "####################################################################################################################################################################################"
   ]
  },
  {
   "cell_type": "code",
   "execution_count": null,
   "metadata": {
    "collapsed": true
   },
   "outputs": [],
   "source": [
    "import vcf\n",
    "import os\n",
    "import pandas as pd\n",
    "import numpy as np\n",
    "from pylab import MaxNLocator\n",
    "import ast\n",
    "import itertools\n",
    "import time\n",
    "import sys\n",
    "import itertools\n",
    "import gzip\n",
    "import scipy"
   ]
  },
  {
   "cell_type": "markdown",
   "metadata": {},
   "source": [
    "#### We are going to split this up into several jobs, each iterating through N isolates. Each job will produce a DF with all SNVs detected in any of the N isolates & corresponding alleles.  Once all jobs have finished, we will merge all DFs together to create one master DF of all SNVs detected in any of the 11,034 isolates in rollingDB"
   ]
  },
  {
   "cell_type": "code",
   "execution_count": 16,
   "metadata": {
    "collapsed": true
   },
   "outputs": [],
   "source": [
    "#INPUTS\n",
    "first_isolate_index = int(sys.argv[1]) #INPUT - first isolate index\n",
    "last_isolate_index = int(sys.argv[2]) #INPUT - last isolate index\n",
    "job_number = str(sys.argv[3]) #INPUT - job number"
   ]
  },
  {
   "cell_type": "code",
   "execution_count": 14,
   "metadata": {
    "collapsed": true
   },
   "outputs": [],
   "source": [
    "#list of pickles DataFrame files for SNVs for each isolate in rollingDB\n",
    "SNV_DF_list = os.listdir('/n/data1/hms/dbmi/farhat/Roger/inhost_TB_dynamics_project/rolling_DB_scrape/all_HighQuality_SNVs_found_in_rollingDB')\n",
    "\n",
    "#subset to only the pickled DFs for the isolates that will be searched for SNVs in this job\n",
    "SNV_DF_list = SNV_DF_list[first_isolate_index:last_isolate_index]"
   ]
  },
  {
   "cell_type": "code",
   "execution_count": 49,
   "metadata": {
    "collapsed": true
   },
   "outputs": [],
   "source": [
    "def store_SNV_info_from_SNV(SNV_DF_row):\n",
    "\n",
    "    ref_allele , alt_allele , ref_pos = list(SNV_DF_row)\n",
    "\n",
    "    #SNV is not documented at this Reference Position\n",
    "    if ref_pos not in ref_dict.keys():\n",
    "\n",
    "        #store a new row for SNV at this reference position; ref allele, alt allele 1, nan, nan, 1 isolate has polymorphism here (so far)\n",
    "        ref_dict[ref_pos] = ref_allele\n",
    "        alt1_dict[ref_pos] = alt_allele\n",
    "        alt2_dict[ref_pos] = np.nan\n",
    "        alt3_dict[ref_pos] = np.nan\n",
    "        num_isolates_dict[ref_pos] = 1\n",
    "\n",
    "    #a SNV is already documented at this Reference Position\n",
    "    else:\n",
    "\n",
    "        #check to see if specific allele is documented, if not add it\n",
    "        if alt_allele not in [alt1_dict[ref_pos] , alt2_dict[ref_pos] , alt3_dict[ref_pos]]:\n",
    "\n",
    "            #need to document presence of new allele in isolate pool (either going to be alt2 or alt3)\n",
    "            if ( type(alt2_dict[ref_pos])==float ) and ( np.isnan(alt2_dict[ref_pos]) ): #alt2 has not been found yet\n",
    "\n",
    "                alt2_dict[ref_pos] = alt_allele\n",
    "\n",
    "            elif ( type(alt3_dict[ref_pos])==float ) and ( np.isnan(alt3_dict[ref_pos]) ): #alt3 has not been found yet\n",
    "\n",
    "                alt3_dict[ref_pos] = alt_allele\n",
    "\n",
    "        #increment # of isolates that have a polymorphism here\n",
    "        num_isolates_dict[ref_pos] = num_isolates_dict[ref_pos] + 1"
   ]
  },
  {
   "cell_type": "code",
   "execution_count": null,
   "metadata": {
    "collapsed": true
   },
   "outputs": [],
   "source": [
    "#create dictionaries to store SNV info for each isolate\n",
    "ref_dict = {}\n",
    "alt1_dict = {}\n",
    "alt2_dict = {}\n",
    "alt3_dict = {}\n",
    "num_isolates_dict = {}\n",
    "\n",
    "#iterate through all DataFrames for each isolate in rollingDB\n",
    "for pickled_SNV_DF in SNV_DF_list:\n",
    "    \n",
    "    #load SNV DF for isolates from pickled object\n",
    "    SNV_DF = pd.read_pickle('/n/data1/hms/dbmi/farhat/Roger/inhost_TB_dynamics_project/rolling_DB_scrape/all_HighQuality_SNVs_found_in_rollingDB/' + pickled_SNV_DF)\n",
    "\n",
    "    #extract important info from SNV df\n",
    "    _ = SNV_DF.apply(lambda row: store_SNV_info_from_SNV(row) , axis = 1 )  "
   ]
  },
  {
   "cell_type": "code",
   "execution_count": 23,
   "metadata": {},
   "outputs": [],
   "source": [
    "#construct DataFrame from dictionaries\n",
    "SNV_DF = pd.DataFrame( index = pd.Series( ref_dict.keys() ) )\n",
    "SNV_DF['ref'] = pd.Series(ref_dict)\n",
    "SNV_DF['alt1'] = pd.Series(alt1_dict)\n",
    "SNV_DF['alt2'] = pd.Series(alt2_dict)\n",
    "SNV_DF['alt3'] = pd.Series(alt3_dict)\n",
    "SNV_DF['num_isolates'] = pd.Series(num_isolates_dict)\n",
    "\n",
    "#make reference-position a column and re-index\n",
    "SNV_DF['pos'] = SNV_DF.index\n",
    "\n",
    "#sort according to reference position\n",
    "SNV_DF.sort_values(by = 'pos' , ascending = True , inplace = True)\n",
    "\n",
    "SNV_DF.reset_index(inplace = True , drop = True)"
   ]
  },
  {
   "cell_type": "markdown",
   "metadata": {},
   "source": [
    "#### Output Pickle files for downstream analysis"
   ]
  },
  {
   "cell_type": "code",
   "execution_count": 24,
   "metadata": {
    "collapsed": true
   },
   "outputs": [],
   "source": [
    "SNV_DF.to_pickle( '/n/data1/hms/dbmi/farhat/Roger/inhost_TB_dynamics_project/rolling_DB_scrape/all_HighQuality_SNVs_found_in_rollingDB_catalogues/seperate_HQ_SNV_DFs/HighQuality_SNVs_found_in_rollingDB_catalogue_' + job_number + '.pkl' )"
   ]
  },
  {
   "cell_type": "markdown",
   "metadata": {
    "collapsed": true
   },
   "source": [
    "####################################################################################################################################################################################"
   ]
  },
  {
   "cell_type": "markdown",
   "metadata": {},
   "source": [
    "## [3] This section of the notebook launches the script that was created in the previous section of the notebook."
   ]
  },
  {
   "cell_type": "markdown",
   "metadata": {},
   "source": [
    "####################################################################################################################################################################################"
   ]
  },
  {
   "cell_type": "code",
   "execution_count": 4,
   "metadata": {},
   "outputs": [],
   "source": [
    "import os\n",
    "import pandas as pd\n",
    "from slurmpy import Slurm\n",
    "import numpy as np\n",
    "import itertools\n",
    "import shutil"
   ]
  },
  {
   "cell_type": "code",
   "execution_count": 5,
   "metadata": {},
   "outputs": [],
   "source": [
    "#list of all SNV DFs for each isolate that was run through MegaPipe in rollingDB\n",
    "SNV_DF_list = os.listdir('/n/data1/hms/dbmi/farhat/Roger/inhost_TB_dynamics_project/rolling_DB_scrape/all_HighQuality_SNVs_found_in_rollingDB')\n",
    "\n",
    "isolates_per_job = 500 #number of isolates each job will catalogue\n",
    "njobs = int( np.ceil( float( len( SNV_DF_list ) ) / float(isolates_per_job) ) ) #number of jobs required if we split for every 500 isolates"
   ]
  },
  {
   "cell_type": "code",
   "execution_count": 6,
   "metadata": {},
   "outputs": [
    {
     "name": "stdout",
     "output_type": "stream",
     "text": [
      "68\n"
     ]
    }
   ],
   "source": [
    "print njobs #number of jobs we will submit"
   ]
  },
  {
   "cell_type": "code",
   "execution_count": 7,
   "metadata": {
    "scrolled": true
   },
   "outputs": [
    {
     "name": "stderr",
     "output_type": "stream",
     "text": [
      "submitted: Submitted batch job 3299559\n",
      "submitted: Submitted batch job 3299560\n"
     ]
    },
    {
     "name": "stdout",
     "output_type": "stream",
     "text": [
      "SNV_1 : 3299559\n",
      "SNV_2 : 3299560\n"
     ]
    },
    {
     "name": "stderr",
     "output_type": "stream",
     "text": [
      "submitted: Submitted batch job 3299561\n"
     ]
    },
    {
     "name": "stdout",
     "output_type": "stream",
     "text": [
      "SNV_3 : 3299561\n"
     ]
    },
    {
     "name": "stderr",
     "output_type": "stream",
     "text": [
      "submitted: Submitted batch job 3299563\n"
     ]
    },
    {
     "name": "stdout",
     "output_type": "stream",
     "text": [
      "SNV_4 : 3299563\n"
     ]
    },
    {
     "name": "stderr",
     "output_type": "stream",
     "text": [
      "submitted: Submitted batch job 3299568\n",
      "submitted: Submitted batch job 3299578\n"
     ]
    },
    {
     "name": "stdout",
     "output_type": "stream",
     "text": [
      "SNV_5 : 3299568\n",
      "SNV_6 : 3299578\n"
     ]
    },
    {
     "name": "stderr",
     "output_type": "stream",
     "text": [
      "submitted: Submitted batch job 3299580\n"
     ]
    },
    {
     "name": "stdout",
     "output_type": "stream",
     "text": [
      "SNV_7 : 3299580\n"
     ]
    },
    {
     "name": "stderr",
     "output_type": "stream",
     "text": [
      "submitted: Submitted batch job 3299584\n",
      "submitted: Submitted batch job 3299592\n",
      "submitted: Submitted batch job 3299596\n"
     ]
    },
    {
     "name": "stdout",
     "output_type": "stream",
     "text": [
      "SNV_8 : 3299584\n",
      "SNV_9 : 3299592\n",
      "SNV_10 : 3299596\n"
     ]
    },
    {
     "name": "stderr",
     "output_type": "stream",
     "text": [
      "submitted: Submitted batch job 3299597\n"
     ]
    },
    {
     "name": "stdout",
     "output_type": "stream",
     "text": [
      "SNV_11 : 3299597\n"
     ]
    },
    {
     "name": "stderr",
     "output_type": "stream",
     "text": [
      "submitted: Submitted batch job 3299611\n",
      "submitted: Submitted batch job 3299613\n",
      "submitted: Submitted batch job 3299614\n",
      "submitted: Submitted batch job 3299615\n"
     ]
    },
    {
     "name": "stdout",
     "output_type": "stream",
     "text": [
      "SNV_12 : 3299611\n",
      "SNV_13 : 3299613\n",
      "SNV_14 : 3299614\n",
      "SNV_15 : 3299615\n"
     ]
    },
    {
     "name": "stderr",
     "output_type": "stream",
     "text": [
      "submitted: Submitted batch job 3299616\n",
      "submitted: Submitted batch job 3299617\n",
      "submitted: Submitted batch job 3299618\n",
      "submitted: Submitted batch job 3299619\n",
      "submitted: Submitted batch job 3299620\n"
     ]
    },
    {
     "name": "stdout",
     "output_type": "stream",
     "text": [
      "SNV_16 : 3299616\n",
      "SNV_17 : 3299617\n",
      "SNV_18 : 3299618\n",
      "SNV_19 : 3299619\n",
      "SNV_20 : 3299620\n"
     ]
    },
    {
     "name": "stderr",
     "output_type": "stream",
     "text": [
      "submitted: Submitted batch job 3299621\n",
      "submitted: Submitted batch job 3299623\n",
      "submitted: Submitted batch job 3299624\n",
      "submitted: Submitted batch job 3299626\n"
     ]
    },
    {
     "name": "stdout",
     "output_type": "stream",
     "text": [
      "SNV_21 : 3299621\n",
      "SNV_22 : 3299623\n",
      "SNV_23 : 3299624\n",
      "SNV_24 : 3299626\n"
     ]
    },
    {
     "name": "stderr",
     "output_type": "stream",
     "text": [
      "submitted: Submitted batch job 3299627\n",
      "submitted: Submitted batch job 3299628\n",
      "submitted: Submitted batch job 3299629\n",
      "submitted: Submitted batch job 3299630\n",
      "submitted: Submitted batch job 3299631\n"
     ]
    },
    {
     "name": "stdout",
     "output_type": "stream",
     "text": [
      "SNV_25 : 3299627\n",
      "SNV_26 : 3299628\n",
      "SNV_27 : 3299629\n",
      "SNV_28 : 3299630\n",
      "SNV_29 : 3299631\n"
     ]
    },
    {
     "name": "stderr",
     "output_type": "stream",
     "text": [
      "submitted: Submitted batch job 3299632\n",
      "submitted: Submitted batch job 3299633\n",
      "submitted: Submitted batch job 3299634\n",
      "submitted: Submitted batch job 3299635\n",
      "submitted: Submitted batch job 3299636\n"
     ]
    },
    {
     "name": "stdout",
     "output_type": "stream",
     "text": [
      "SNV_30 : 3299632\n",
      "SNV_31 : 3299633\n",
      "SNV_32 : 3299634\n",
      "SNV_33 : 3299635\n",
      "SNV_34 : 3299636\n"
     ]
    },
    {
     "name": "stderr",
     "output_type": "stream",
     "text": [
      "submitted: Submitted batch job 3299637\n",
      "submitted: Submitted batch job 3299638\n"
     ]
    },
    {
     "name": "stdout",
     "output_type": "stream",
     "text": [
      "SNV_35 : 3299637\n",
      "SNV_36 : 3299638\n"
     ]
    },
    {
     "name": "stderr",
     "output_type": "stream",
     "text": [
      "submitted: Submitted batch job 3299639\n"
     ]
    },
    {
     "name": "stdout",
     "output_type": "stream",
     "text": [
      "SNV_37 : 3299639\n"
     ]
    },
    {
     "name": "stderr",
     "output_type": "stream",
     "text": [
      "submitted: Submitted batch job 3299640\n",
      "submitted: Submitted batch job 3299641\n",
      "submitted: Submitted batch job 3299642\n",
      "submitted: Submitted batch job 3299643\n"
     ]
    },
    {
     "name": "stdout",
     "output_type": "stream",
     "text": [
      "SNV_38 : 3299640\n",
      "SNV_39 : 3299641\n",
      "SNV_40 : 3299642\n",
      "SNV_41 : 3299643\n"
     ]
    },
    {
     "name": "stderr",
     "output_type": "stream",
     "text": [
      "submitted: Submitted batch job 3299644\n",
      "submitted: Submitted batch job 3299652\n",
      "submitted: Submitted batch job 3299654\n"
     ]
    },
    {
     "name": "stdout",
     "output_type": "stream",
     "text": [
      "SNV_42 : 3299644\n",
      "SNV_43 : 3299652\n",
      "SNV_44 : 3299654\n"
     ]
    },
    {
     "name": "stderr",
     "output_type": "stream",
     "text": [
      "submitted: Submitted batch job 3299655\n",
      "submitted: Submitted batch job 3299656\n"
     ]
    },
    {
     "name": "stdout",
     "output_type": "stream",
     "text": [
      "SNV_45 : 3299655\n",
      "SNV_46 : 3299656\n"
     ]
    },
    {
     "name": "stderr",
     "output_type": "stream",
     "text": [
      "submitted: Submitted batch job 3299657\n",
      "submitted: Submitted batch job 3299661\n",
      "submitted: Submitted batch job 3299662\n"
     ]
    },
    {
     "name": "stdout",
     "output_type": "stream",
     "text": [
      "SNV_47 : 3299657\n",
      "SNV_48 : 3299661\n",
      "SNV_49 : 3299662\n"
     ]
    },
    {
     "name": "stderr",
     "output_type": "stream",
     "text": [
      "submitted: Submitted batch job 3299663\n",
      "submitted: Submitted batch job 3299664\n",
      "submitted: Submitted batch job 3299666\n",
      "submitted: Submitted batch job 3299667\n",
      "submitted: Submitted batch job 3299668\n"
     ]
    },
    {
     "name": "stdout",
     "output_type": "stream",
     "text": [
      "SNV_50 : 3299663\n",
      "SNV_51 : 3299664\n",
      "SNV_52 : 3299666\n",
      "SNV_53 : 3299667\n",
      "SNV_54 : 3299668\n"
     ]
    },
    {
     "name": "stderr",
     "output_type": "stream",
     "text": [
      "submitted: Submitted batch job 3299669\n",
      "submitted: Submitted batch job 3299670\n",
      "submitted: Submitted batch job 3299671\n",
      "submitted: Submitted batch job 3299672\n"
     ]
    },
    {
     "name": "stdout",
     "output_type": "stream",
     "text": [
      "SNV_55 : 3299669\n",
      "SNV_56 : 3299670\n",
      "SNV_57 : 3299671\n",
      "SNV_58 : 3299672\n"
     ]
    },
    {
     "name": "stderr",
     "output_type": "stream",
     "text": [
      "submitted: Submitted batch job 3299674\n",
      "submitted: Submitted batch job 3299676\n"
     ]
    },
    {
     "name": "stdout",
     "output_type": "stream",
     "text": [
      "SNV_59 : 3299674\n",
      "SNV_60 : 3299676\n"
     ]
    },
    {
     "name": "stderr",
     "output_type": "stream",
     "text": [
      "submitted: Submitted batch job 3299677\n",
      "submitted: Submitted batch job 3299678\n",
      "submitted: Submitted batch job 3299679\n",
      "submitted: Submitted batch job 3299680\n"
     ]
    },
    {
     "name": "stdout",
     "output_type": "stream",
     "text": [
      "SNV_61 : 3299677\n",
      "SNV_62 : 3299678\n",
      "SNV_63 : 3299679\n",
      "SNV_64 : 3299680\n"
     ]
    },
    {
     "name": "stderr",
     "output_type": "stream",
     "text": [
      "submitted: Submitted batch job 3299681\n",
      "submitted: Submitted batch job 3299682\n",
      "submitted: Submitted batch job 3299683\n"
     ]
    },
    {
     "name": "stdout",
     "output_type": "stream",
     "text": [
      "SNV_65 : 3299681\n",
      "SNV_66 : 3299682\n",
      "SNV_67 : 3299683\n",
      "SNV_68 : 3299684\n"
     ]
    },
    {
     "name": "stderr",
     "output_type": "stream",
     "text": [
      "submitted: Submitted batch job 3299684\n"
     ]
    }
   ],
   "source": [
    "first_isolate_index = 0\n",
    "max_isolate_index = int( len( SNV_DF_list ) )\n",
    "\n",
    "#run each job using a difference set of indices for isolates that we will catalogue SNVs from\n",
    "for job_number in np.arange(1 , njobs+1):\n",
    "\n",
    "    last_isolate_index = first_isolate_index + isolates_per_job\n",
    "    if last_isolate_index > max_isolate_index: #watch out for the last job\n",
    "        last_isolate_index = max_isolate_index\n",
    "    \n",
    "    rollingDB_SNV_cataloging_job = 'python /n/data1/hms/dbmi/farhat/Roger/inhost_TB_dynamics_project/python_scripts/rollingDB_HQ_SNV_catalogue_scrape.py ' + str(first_isolate_index) + ' ' + str(last_isolate_index) + ' ' + str(job_number)\n",
    "    \n",
    "    #directory where you want output + error files\n",
    "    os.chdir('/n/data1/hms/dbmi/farhat/Roger/inhost_TB_dynamics_project/rolling_DB_scrape/all_HighQuality_SNVs_found_in_rollingDB_catalogues/SNV_catalogue_scrape_jobs/')\n",
    "\n",
    "    job_name = 'SNV_' + str(job_number)\n",
    "\n",
    "    s = Slurm(job_name , {'partition':'short' , 'n':'1' , 't':'0-01:00:00' , 'mem-per-cpu':'4G' , 'mail-type':'FAIL' , 'mail-user':'roger_vargas@g.harvard.edu'})\n",
    "\n",
    "    #submits the job\n",
    "    job_id = s.run(rollingDB_SNV_cataloging_job)\n",
    "\n",
    "    print job_name  + ' : ' +  str(job_id)\n",
    "    \n",
    "    #setup isolate indices for next job\n",
    "    first_isolate_index = last_isolate_index"
   ]
  },
  {
   "cell_type": "markdown",
   "metadata": {},
   "source": [
    "####################################################################################################################################################################################"
   ]
  },
  {
   "cell_type": "markdown",
   "metadata": {},
   "source": [
    "## [4] The purpose of this section of the notebook is generate the master catalogue of (high-quality) SNV calls made in rollingDB by merging the catalogues of SNVs found in seperate batches of isolates."
   ]
  },
  {
   "cell_type": "markdown",
   "metadata": {},
   "source": [
    "####################################################################################################################################################################################"
   ]
  },
  {
   "cell_type": "code",
   "execution_count": 8,
   "metadata": {},
   "outputs": [],
   "source": [
    "import os\n",
    "import pandas as pd\n",
    "import numpy as np\n",
    "import ast\n",
    "import itertools\n",
    "import time\n",
    "import sys\n",
    "import itertools"
   ]
  },
  {
   "cell_type": "code",
   "execution_count": 9,
   "metadata": {},
   "outputs": [],
   "source": [
    "#INPUTS\n",
    "njobs = 68 #number of seperate SNV catalogues for subsets of isolates in rollingDB"
   ]
  },
  {
   "cell_type": "markdown",
   "metadata": {},
   "source": [
    "#### Load in SNV catalogue(s) (High Quality SNV calls across all isolates in RollingDB)"
   ]
  },
  {
   "cell_type": "markdown",
   "metadata": {},
   "source": [
    "We're going to iterate through each DataFrame (catalogue of SNVs detected within each batch of isolates) and create a master DF of all SNVs detected within all the isolates in rollingDB."
   ]
  },
  {
   "cell_type": "code",
   "execution_count": 10,
   "metadata": {},
   "outputs": [],
   "source": [
    "def convert_SNV_DF_rows_to_DICT_elments(row):\n",
    "    \n",
    "    '''\n",
    "    This function converts the row of a SNV catalogue DF to a\n",
    "    list with two elements: (1) The Reference Position of an SNV detected within a subset of isolates\n",
    "    and (2) another list containing the Reference Allele, all Alternate Alleles, and Number of Isolates\n",
    "    with an SNV at this Reference Position\n",
    "    '''\n",
    "    \n",
    "    #create set of alternate alleles present for this SNV\n",
    "    alt_alleles_SNV_i = set( [row['alt1'] , row['alt2'] , row['alt3']] )\n",
    "    #purge nan values\n",
    "    alt_alleles_SNV_i = {x for x in alt_alleles_SNV_i if x==x}\n",
    "        \n",
    "    return [ row['pos'] , [row['ref'] , alt_alleles_SNV_i , row['num_isolates']] ]\n",
    "\n",
    "def convert_SNV_DF_to_DICT(SNV_DF):\n",
    "    \n",
    "    '''\n",
    "    This function takes an SNV DF catalogue for a subset of isolates and converts it into \n",
    "    an SNV DICT catalogue using the function above by applying it to each row.\n",
    "    '''\n",
    "    \n",
    "    SNV_dict = SNV_DF.apply( convert_SNV_DF_rows_to_DICT_elments , axis = 1 )\n",
    "    return dict(list( SNV_dict.values ))"
   ]
  },
  {
   "cell_type": "markdown",
   "metadata": {},
   "source": [
    "#### Convert SNV catalogue(s) DFs to SNV catalogue DICTs and store SNP catalogue info across jobs"
   ]
  },
  {
   "cell_type": "code",
   "execution_count": 11,
   "metadata": {
    "scrolled": true
   },
   "outputs": [
    {
     "name": "stdout",
     "output_type": "stream",
     "text": [
      "1\n",
      "2\n",
      "3\n",
      "4\n",
      "5\n",
      "6\n",
      "7\n",
      "8\n",
      "9\n",
      "10\n",
      "11\n",
      "12\n",
      "13\n",
      "14\n",
      "15\n",
      "16\n",
      "17\n",
      "18\n",
      "19\n",
      "20\n",
      "21\n",
      "22\n",
      "23\n",
      "24\n",
      "25\n",
      "26\n",
      "27\n",
      "28\n",
      "29\n",
      "30\n",
      "31\n",
      "32\n",
      "33\n",
      "34\n",
      "35\n",
      "36\n",
      "37\n",
      "38\n",
      "39\n",
      "40\n",
      "41\n",
      "42\n",
      "43\n",
      "44\n",
      "45\n",
      "46\n",
      "47\n",
      "48\n",
      "49\n",
      "50\n",
      "51\n",
      "52\n",
      "53\n",
      "54\n",
      "55\n",
      "56\n",
      "57\n",
      "58\n",
      "59\n",
      "60\n",
      "61\n",
      "62\n",
      "63\n",
      "64\n",
      "65\n",
      "66\n",
      "67\n",
      "68\n"
     ]
    }
   ],
   "source": [
    "#master set of all reference positions detected within rollingDB (faster to query a set)\n",
    "SNV_set_Ref_Position = set([])\n",
    "\n",
    "#master dictionaries of all SNVs detected within rollingDB\n",
    "SNV_dict_Ref_Allele = {} #keys - reference position; values - ref_allele (string)\n",
    "SNV_dict_Alt_Allele = {} #keys - reference position; values - alt_alleles (set)\n",
    "SNV_dict_Num_Isolates = {} #keys - reference position; values - num_isolates (int)\n",
    "\n",
    "for job_num in np.arange(1 , njobs+1):\n",
    "    \n",
    "    #load the SNV DataFrame holding SNVs from the batch of isolates\n",
    "    SNV_DF_subset = pd.read_pickle( '/n/data1/hms/dbmi/farhat/Roger/inhost_TB_dynamics_project/rolling_DB_scrape/all_HighQuality_SNVs_found_in_rollingDB_catalogues/seperate_HQ_SNV_DFs/HighQuality_SNVs_found_in_rollingDB_catalogue_' + str(job_num) + '.pkl' )\n",
    "    \n",
    "    #convert SNV DataFrame to an SNV Dict\n",
    "    SNV_dict_subset = convert_SNV_DF_to_DICT(SNV_DF_subset)\n",
    "    \n",
    "    #iterate through each SNV in Dict\n",
    "    for ref_pos in SNV_dict_subset.keys():\n",
    "        \n",
    "        #update master SNV catalogue dict with SNV info\n",
    "        ref , alt_alleles_SNV_i , num_isolates = SNV_dict_subset[ref_pos]\n",
    "    \n",
    "        #[A] reference position not stored in master SNV dictionaries\n",
    "        ##if ref_pos not in SNV_dict_Ref_Allele.keys():\n",
    "        if ref_pos not in SNV_set_Ref_Position:\n",
    "            \n",
    "            SNV_set_Ref_Position.add(ref_pos)\n",
    "            \n",
    "            SNV_dict_Ref_Allele[ref_pos] = ref\n",
    "            SNV_dict_Alt_Allele[ref_pos] = alt_alleles_SNV_i\n",
    "            SNV_dict_Num_Isolates[ref_pos] = num_isolates\n",
    "        \n",
    "        #[B] reference position already stored in master SNV dictionaries\n",
    "        else:\n",
    "            \n",
    "            #update SNV info with new SNV info (ref_allele stays the same)\n",
    "            SNV_dict_Alt_Allele[ref_pos] = SNV_dict_Alt_Allele[ref_pos].union(alt_alleles_SNV_i) #store any new alleles detected\n",
    "            SNV_dict_Num_Isolates[ref_pos] = SNV_dict_Num_Isolates[ref_pos] + num_isolates #add number of isolates\n",
    "            \n",
    "    #keep track of progress\n",
    "    print job_num"
   ]
  },
  {
   "cell_type": "markdown",
   "metadata": {},
   "source": [
    "#### Convert master SNV dict to SNV df "
   ]
  },
  {
   "cell_type": "code",
   "execution_count": 12,
   "metadata": {},
   "outputs": [],
   "source": [
    "#convert dictionaries into pandas series objects\n",
    "SNV_series_Ref_Allele = pd.Series(SNV_dict_Ref_Allele , name = 'ref')\n",
    "SNV_series_Alt_Allele = pd.Series(SNV_dict_Alt_Allele , name = 'alt')\n",
    "SNV_series_Num_Isolates = pd.Series(SNV_dict_Num_Isolates , name = 'num_isolates')\n",
    "\n",
    "#construct DataFrame from Series objects\n",
    "SNV_DF = pd.DataFrame([SNV_series_Ref_Allele , SNV_series_Alt_Allele , SNV_series_Num_Isolates]).T\n",
    "\n",
    "#convert Alternate Allele(s) column to list\n",
    "SNV_DF['alt'] = SNV_DF.alt.apply(list)\n",
    "\n",
    "#create a column for reference position\n",
    "SNV_DF['pos'] = list(SNV_DF.index)\n",
    "\n",
    "#re-index DataFrame\n",
    "SNV_DF.reset_index(inplace = True , drop = True)\n",
    "\n",
    "#store master SNV DataFrame as a pickled object\n",
    "SNV_DF.to_pickle( '/n/data1/hms/dbmi/farhat/Roger/inhost_TB_dynamics_project/rolling_DB_scrape/all_HighQuality_SNVs_found_in_rollingDB_catalogues/all_HighQuality_SNVs_found_in_rollingDB_catalogue.pkl' )"
   ]
  },
  {
   "cell_type": "markdown",
   "metadata": {},
   "source": [
    "#### Use to load pickle"
   ]
  },
  {
   "cell_type": "code",
   "execution_count": 13,
   "metadata": {},
   "outputs": [],
   "source": [
    "SNV_DF = pd.read_pickle('/n/data1/hms/dbmi/farhat/Roger/inhost_TB_dynamics_project/rolling_DB_scrape/all_HighQuality_SNVs_found_in_rollingDB_catalogues/all_HighQuality_SNVs_found_in_rollingDB_catalogue.pkl')"
   ]
  },
  {
   "cell_type": "code",
   "execution_count": 14,
   "metadata": {},
   "outputs": [
    {
     "data": {
      "text/html": [
       "<div>\n",
       "<style>\n",
       "    .dataframe thead tr:only-child th {\n",
       "        text-align: right;\n",
       "    }\n",
       "\n",
       "    .dataframe thead th {\n",
       "        text-align: left;\n",
       "    }\n",
       "\n",
       "    .dataframe tbody tr th {\n",
       "        vertical-align: top;\n",
       "    }\n",
       "</style>\n",
       "<table border=\"1\" class=\"dataframe\">\n",
       "  <thead>\n",
       "    <tr style=\"text-align: right;\">\n",
       "      <th></th>\n",
       "      <th>ref</th>\n",
       "      <th>alt</th>\n",
       "      <th>num_isolates</th>\n",
       "      <th>pos</th>\n",
       "    </tr>\n",
       "  </thead>\n",
       "  <tbody>\n",
       "    <tr>\n",
       "      <th>0</th>\n",
       "      <td>A</td>\n",
       "      <td>[C]</td>\n",
       "      <td>2</td>\n",
       "      <td>8</td>\n",
       "    </tr>\n",
       "    <tr>\n",
       "      <th>1</th>\n",
       "      <td>G</td>\n",
       "      <td>[C]</td>\n",
       "      <td>1</td>\n",
       "      <td>10</td>\n",
       "    </tr>\n",
       "    <tr>\n",
       "      <th>2</th>\n",
       "      <td>A</td>\n",
       "      <td>[C]</td>\n",
       "      <td>8</td>\n",
       "      <td>11</td>\n",
       "    </tr>\n",
       "    <tr>\n",
       "      <th>3</th>\n",
       "      <td>G</td>\n",
       "      <td>[C]</td>\n",
       "      <td>1</td>\n",
       "      <td>16</td>\n",
       "    </tr>\n",
       "    <tr>\n",
       "      <th>4</th>\n",
       "      <td>G</td>\n",
       "      <td>[A]</td>\n",
       "      <td>1</td>\n",
       "      <td>23</td>\n",
       "    </tr>\n",
       "  </tbody>\n",
       "</table>\n",
       "</div>"
      ],
      "text/plain": [
       "  ref  alt num_isolates  pos\n",
       "0   A  [C]            2    8\n",
       "1   G  [C]            1   10\n",
       "2   A  [C]            8   11\n",
       "3   G  [C]            1   16\n",
       "4   G  [A]            1   23"
      ]
     },
     "execution_count": 14,
     "metadata": {},
     "output_type": "execute_result"
    }
   ],
   "source": [
    "SNV_DF.head()"
   ]
  },
  {
   "cell_type": "code",
   "execution_count": 15,
   "metadata": {},
   "outputs": [
    {
     "data": {
      "text/html": [
       "<div>\n",
       "<style>\n",
       "    .dataframe thead tr:only-child th {\n",
       "        text-align: right;\n",
       "    }\n",
       "\n",
       "    .dataframe thead th {\n",
       "        text-align: left;\n",
       "    }\n",
       "\n",
       "    .dataframe tbody tr th {\n",
       "        vertical-align: top;\n",
       "    }\n",
       "</style>\n",
       "<table border=\"1\" class=\"dataframe\">\n",
       "  <thead>\n",
       "    <tr style=\"text-align: right;\">\n",
       "      <th></th>\n",
       "      <th>ref</th>\n",
       "      <th>alt</th>\n",
       "      <th>num_isolates</th>\n",
       "      <th>pos</th>\n",
       "    </tr>\n",
       "  </thead>\n",
       "  <tbody>\n",
       "    <tr>\n",
       "      <th>878239</th>\n",
       "      <td>C</td>\n",
       "      <td>[G]</td>\n",
       "      <td>2</td>\n",
       "      <td>4411502</td>\n",
       "    </tr>\n",
       "    <tr>\n",
       "      <th>878240</th>\n",
       "      <td>C</td>\n",
       "      <td>[A]</td>\n",
       "      <td>1</td>\n",
       "      <td>4411511</td>\n",
       "    </tr>\n",
       "    <tr>\n",
       "      <th>878241</th>\n",
       "      <td>A</td>\n",
       "      <td>[G]</td>\n",
       "      <td>1</td>\n",
       "      <td>4411516</td>\n",
       "    </tr>\n",
       "    <tr>\n",
       "      <th>878242</th>\n",
       "      <td>C</td>\n",
       "      <td>[T]</td>\n",
       "      <td>4</td>\n",
       "      <td>4411518</td>\n",
       "    </tr>\n",
       "    <tr>\n",
       "      <th>878243</th>\n",
       "      <td>G</td>\n",
       "      <td>[A]</td>\n",
       "      <td>3</td>\n",
       "      <td>4411522</td>\n",
       "    </tr>\n",
       "  </tbody>\n",
       "</table>\n",
       "</div>"
      ],
      "text/plain": [
       "       ref  alt num_isolates      pos\n",
       "878239   C  [G]            2  4411502\n",
       "878240   C  [A]            1  4411511\n",
       "878241   A  [G]            1  4411516\n",
       "878242   C  [T]            4  4411518\n",
       "878243   G  [A]            3  4411522"
      ]
     },
     "execution_count": 15,
     "metadata": {},
     "output_type": "execute_result"
    }
   ],
   "source": [
    "SNV_DF.tail()"
   ]
  },
  {
   "cell_type": "code",
   "execution_count": 16,
   "metadata": {},
   "outputs": [
    {
     "data": {
      "text/plain": [
       "(878244, 4)"
      ]
     },
     "execution_count": 16,
     "metadata": {},
     "output_type": "execute_result"
    }
   ],
   "source": [
    "np.shape(SNV_DF)"
   ]
  },
  {
   "cell_type": "markdown",
   "metadata": {},
   "source": [
    "####################################################################################################################################################################################"
   ]
  },
  {
   "cell_type": "markdown",
   "metadata": {},
   "source": [
    "## [5] The purpose of this section of the notebook is to analyze the catalogue of (high-quality) SNV calls made in rollingDB. For population genetic analyses, we will retain only SNVs that are present in at least 2 isolates. We then construct a skeleton genotype DF (rows = Reference Position , columns = isolates) for all of the remaining SNVs."
   ]
  },
  {
   "cell_type": "markdown",
   "metadata": {},
   "source": [
    "####################################################################################################################################################################################"
   ]
  },
  {
   "cell_type": "markdown",
   "metadata": {},
   "source": [
    "### Construct a series for the isolate annotation"
   ]
  },
  {
   "cell_type": "code",
   "execution_count": 17,
   "metadata": {},
   "outputs": [],
   "source": [
    "HQ_SNV_per_isolate_files = os.listdir('/n/data1/hms/dbmi/farhat/Roger/inhost_TB_dynamics_project/rolling_DB_scrape/all_HighQuality_SNVs_found_in_rollingDB/')\n",
    "isolate_ids_list = [isolate_id.split('_SNV')[0] for isolate_id in HQ_SNV_per_isolate_files]\n",
    "isolate_id_series = pd.Series(isolate_ids_list)"
   ]
  },
  {
   "cell_type": "code",
   "execution_count": 18,
   "metadata": {},
   "outputs": [
    {
     "data": {
      "text/plain": [
       "0    SAMEA3558733\n",
       "1    SAMN05575260\n",
       "2    SAMN03648641\n",
       "3    SAMN03647419\n",
       "4    SAMEA3671418\n",
       "dtype: object"
      ]
     },
     "execution_count": 18,
     "metadata": {},
     "output_type": "execute_result"
    }
   ],
   "source": [
    "isolate_id_series.head() #index = column indices of genotype matrix, values isolate IDs"
   ]
  },
  {
   "cell_type": "code",
   "execution_count": 19,
   "metadata": {},
   "outputs": [
    {
     "data": {
      "text/plain": [
       "(33875,)"
      ]
     },
     "execution_count": 19,
     "metadata": {},
     "output_type": "execute_result"
    }
   ],
   "source": [
    "np.shape(isolate_id_series)"
   ]
  },
  {
   "cell_type": "markdown",
   "metadata": {},
   "source": [
    "#### Remove 2 bad isolates from isolate annotation"
   ]
  },
  {
   "cell_type": "markdown",
   "metadata": {},
   "source": [
    "**Remove:** Delete ID for isolate **IDR1400002533** since Full GZipped VCF looks corrupt and remove from list accordingly!"
   ]
  },
  {
   "cell_type": "code",
   "execution_count": 20,
   "metadata": {},
   "outputs": [],
   "source": [
    "isolate_id_series = isolate_id_series[isolate_id_series != 'IDR1400002533']"
   ]
  },
  {
   "cell_type": "markdown",
   "metadata": {},
   "source": [
    "**Remove:** Delete ID for **Peru4994** since F2 calculations keeps failing for this isolate (lineage-defining SNP depths df is empty) **Maybe don't need to remove this isolate?**"
   ]
  },
  {
   "cell_type": "code",
   "execution_count": 21,
   "metadata": {},
   "outputs": [],
   "source": [
    "isolate_id_series = isolate_id_series[isolate_id_series != 'Peru4994']"
   ]
  },
  {
   "cell_type": "code",
   "execution_count": 22,
   "metadata": {},
   "outputs": [],
   "source": [
    "isolate_id_series.reset_index(inplace = True, drop = True)"
   ]
  },
  {
   "cell_type": "code",
   "execution_count": 23,
   "metadata": {},
   "outputs": [
    {
     "data": {
      "text/plain": [
       "0    SAMEA3558733\n",
       "1    SAMN05575260\n",
       "2    SAMN03648641\n",
       "3    SAMN03647419\n",
       "4    SAMEA3671418\n",
       "dtype: object"
      ]
     },
     "execution_count": 23,
     "metadata": {},
     "output_type": "execute_result"
    }
   ],
   "source": [
    "isolate_id_series.head()"
   ]
  },
  {
   "cell_type": "code",
   "execution_count": 24,
   "metadata": {},
   "outputs": [
    {
     "data": {
      "text/plain": [
       "33873"
      ]
     },
     "execution_count": 24,
     "metadata": {},
     "output_type": "execute_result"
    }
   ],
   "source": [
    "len(isolate_id_series)"
   ]
  },
  {
   "cell_type": "code",
   "execution_count": 25,
   "metadata": {},
   "outputs": [],
   "source": [
    "isolate_id_series.to_pickle( '/n/data1/hms/dbmi/farhat/Roger/inhost_TB_dynamics_project/rolling_DB_scrape/Genotypes/genotypes_isolate_annotation.pkl' )"
   ]
  },
  {
   "cell_type": "markdown",
   "metadata": {},
   "source": [
    "### Load in catologue of SNVs detected within rollingDB"
   ]
  },
  {
   "cell_type": "code",
   "execution_count": 26,
   "metadata": {},
   "outputs": [],
   "source": [
    "#SNV data for all isoaltes in rollingDB \n",
    "SNV_DF = pd.read_pickle( '/n/data1/hms/dbmi/farhat/Roger/inhost_TB_dynamics_project/rolling_DB_scrape/all_HighQuality_SNVs_found_in_rollingDB_catalogues/all_HighQuality_SNVs_found_in_rollingDB_catalogue.pkl' )"
   ]
  },
  {
   "cell_type": "code",
   "execution_count": 27,
   "metadata": {
    "scrolled": false
   },
   "outputs": [
    {
     "data": {
      "text/html": [
       "<div>\n",
       "<style>\n",
       "    .dataframe thead tr:only-child th {\n",
       "        text-align: right;\n",
       "    }\n",
       "\n",
       "    .dataframe thead th {\n",
       "        text-align: left;\n",
       "    }\n",
       "\n",
       "    .dataframe tbody tr th {\n",
       "        vertical-align: top;\n",
       "    }\n",
       "</style>\n",
       "<table border=\"1\" class=\"dataframe\">\n",
       "  <thead>\n",
       "    <tr style=\"text-align: right;\">\n",
       "      <th></th>\n",
       "      <th>ref</th>\n",
       "      <th>alt</th>\n",
       "      <th>num_isolates</th>\n",
       "      <th>pos</th>\n",
       "    </tr>\n",
       "  </thead>\n",
       "  <tbody>\n",
       "    <tr>\n",
       "      <th>0</th>\n",
       "      <td>A</td>\n",
       "      <td>[C]</td>\n",
       "      <td>2</td>\n",
       "      <td>8</td>\n",
       "    </tr>\n",
       "    <tr>\n",
       "      <th>1</th>\n",
       "      <td>G</td>\n",
       "      <td>[C]</td>\n",
       "      <td>1</td>\n",
       "      <td>10</td>\n",
       "    </tr>\n",
       "    <tr>\n",
       "      <th>2</th>\n",
       "      <td>A</td>\n",
       "      <td>[C]</td>\n",
       "      <td>8</td>\n",
       "      <td>11</td>\n",
       "    </tr>\n",
       "    <tr>\n",
       "      <th>3</th>\n",
       "      <td>G</td>\n",
       "      <td>[C]</td>\n",
       "      <td>1</td>\n",
       "      <td>16</td>\n",
       "    </tr>\n",
       "    <tr>\n",
       "      <th>4</th>\n",
       "      <td>G</td>\n",
       "      <td>[A]</td>\n",
       "      <td>1</td>\n",
       "      <td>23</td>\n",
       "    </tr>\n",
       "  </tbody>\n",
       "</table>\n",
       "</div>"
      ],
      "text/plain": [
       "  ref  alt num_isolates  pos\n",
       "0   A  [C]            2    8\n",
       "1   G  [C]            1   10\n",
       "2   A  [C]            8   11\n",
       "3   G  [C]            1   16\n",
       "4   G  [A]            1   23"
      ]
     },
     "execution_count": 27,
     "metadata": {},
     "output_type": "execute_result"
    }
   ],
   "source": [
    "SNV_DF.head()"
   ]
  },
  {
   "cell_type": "code",
   "execution_count": 28,
   "metadata": {},
   "outputs": [
    {
     "data": {
      "text/plain": [
       "(878244, 4)"
      ]
     },
     "execution_count": 28,
     "metadata": {},
     "output_type": "execute_result"
    }
   ],
   "source": [
    "np.shape(SNV_DF)"
   ]
  },
  {
   "cell_type": "markdown",
   "metadata": {},
   "source": [
    "#### How many SNPs are not biallelic?"
   ]
  },
  {
   "cell_type": "code",
   "execution_count": 29,
   "metadata": {},
   "outputs": [
    {
     "data": {
      "text/plain": [
       "61918"
      ]
     },
     "execution_count": 29,
     "metadata": {},
     "output_type": "execute_result"
    }
   ],
   "source": [
    "#SNPs that are not biallelic will have more than 1 alternate allele\n",
    "np.sum( SNV_DF.alt.apply(len) > 1 )"
   ]
  },
  {
   "cell_type": "code",
   "execution_count": 30,
   "metadata": {
    "scrolled": false
   },
   "outputs": [
    {
     "data": {
      "text/html": [
       "<div>\n",
       "<style>\n",
       "    .dataframe thead tr:only-child th {\n",
       "        text-align: right;\n",
       "    }\n",
       "\n",
       "    .dataframe thead th {\n",
       "        text-align: left;\n",
       "    }\n",
       "\n",
       "    .dataframe tbody tr th {\n",
       "        vertical-align: top;\n",
       "    }\n",
       "</style>\n",
       "<table border=\"1\" class=\"dataframe\">\n",
       "  <thead>\n",
       "    <tr style=\"text-align: right;\">\n",
       "      <th></th>\n",
       "      <th>ref</th>\n",
       "      <th>alt</th>\n",
       "      <th>num_isolates</th>\n",
       "      <th>pos</th>\n",
       "    </tr>\n",
       "  </thead>\n",
       "  <tbody>\n",
       "    <tr>\n",
       "      <th>7</th>\n",
       "      <td>A</td>\n",
       "      <td>[C, G]</td>\n",
       "      <td>10</td>\n",
       "      <td>31</td>\n",
       "    </tr>\n",
       "    <tr>\n",
       "      <th>12</th>\n",
       "      <td>G</td>\n",
       "      <td>[A, T]</td>\n",
       "      <td>3</td>\n",
       "      <td>67</td>\n",
       "    </tr>\n",
       "    <tr>\n",
       "      <th>27</th>\n",
       "      <td>C</td>\n",
       "      <td>[A, T]</td>\n",
       "      <td>15</td>\n",
       "      <td>108</td>\n",
       "    </tr>\n",
       "    <tr>\n",
       "      <th>29</th>\n",
       "      <td>C</td>\n",
       "      <td>[A, T]</td>\n",
       "      <td>2</td>\n",
       "      <td>116</td>\n",
       "    </tr>\n",
       "    <tr>\n",
       "      <th>34</th>\n",
       "      <td>T</td>\n",
       "      <td>[C, G]</td>\n",
       "      <td>4</td>\n",
       "      <td>147</td>\n",
       "    </tr>\n",
       "    <tr>\n",
       "      <th>43</th>\n",
       "      <td>G</td>\n",
       "      <td>[A, C]</td>\n",
       "      <td>2</td>\n",
       "      <td>186</td>\n",
       "    </tr>\n",
       "    <tr>\n",
       "      <th>46</th>\n",
       "      <td>G</td>\n",
       "      <td>[C, T]</td>\n",
       "      <td>3</td>\n",
       "      <td>195</td>\n",
       "    </tr>\n",
       "    <tr>\n",
       "      <th>49</th>\n",
       "      <td>G</td>\n",
       "      <td>[A, C]</td>\n",
       "      <td>4</td>\n",
       "      <td>203</td>\n",
       "    </tr>\n",
       "    <tr>\n",
       "      <th>53</th>\n",
       "      <td>G</td>\n",
       "      <td>[A, C]</td>\n",
       "      <td>2</td>\n",
       "      <td>234</td>\n",
       "    </tr>\n",
       "    <tr>\n",
       "      <th>54</th>\n",
       "      <td>G</td>\n",
       "      <td>[A, T]</td>\n",
       "      <td>2</td>\n",
       "      <td>236</td>\n",
       "    </tr>\n",
       "  </tbody>\n",
       "</table>\n",
       "</div>"
      ],
      "text/plain": [
       "   ref     alt num_isolates  pos\n",
       "7    A  [C, G]           10   31\n",
       "12   G  [A, T]            3   67\n",
       "27   C  [A, T]           15  108\n",
       "29   C  [A, T]            2  116\n",
       "34   T  [C, G]            4  147\n",
       "43   G  [A, C]            2  186\n",
       "46   G  [C, T]            3  195\n",
       "49   G  [A, C]            4  203\n",
       "53   G  [A, C]            2  234\n",
       "54   G  [A, T]            2  236"
      ]
     },
     "execution_count": 30,
     "metadata": {},
     "output_type": "execute_result"
    }
   ],
   "source": [
    "SNV_DF[SNV_DF.alt.apply(len) > 1].head(n = 10)"
   ]
  },
  {
   "cell_type": "code",
   "execution_count": 31,
   "metadata": {},
   "outputs": [],
   "source": [
    "plt.style.use('ggplot')\n",
    "plt.rcParams['lines.linewidth']=3\n",
    "plt.rcParams['axes.facecolor']='1.0'\n",
    "plt.rcParams['xtick.color']='black'\n",
    "plt.rcParams['axes.grid']=True\n",
    "plt.rcParams['axes.edgecolor']='black'\n",
    "plt.rcParams['grid.color']= '1.0'\n",
    "plt.rcParams.update({'font.size': 12})"
   ]
  },
  {
   "cell_type": "code",
   "execution_count": 32,
   "metadata": {},
   "outputs": [
    {
     "data": {
      "image/png": "[encoded data removed]",
      "text/plain": [
       "<Figure size 540x378 with 1 Axes>"
      ]
     },
     "metadata": {},
     "output_type": "display_data"
    }
   ],
   "source": [
    "fig , ax = plt.subplots()\n",
    "\n",
    "n , bins , patches = plt.hist(SNV_DF.num_isolates.astype(float) , bins = 60 , color = 'k' , rwidth = 1.0 , edgecolor='white', linewidth=1.35)\n",
    "\n",
    "plt.title('Number of Isolates Each SNP is Found in', fontweight = 'bold' , fontsize = 12, color = 'k')\n",
    "plt.xlabel('Number of Isolates', fontweight = 'bold' , fontsize = 12, color = 'k')\n",
    "plt.ylabel('Number of SNPs', fontweight = 'bold' , fontsize = 12, color = 'k')\n",
    "\n",
    "ax.spines['right'].set_visible(False)\n",
    "ax.spines['top'].set_visible(False)\n",
    "\n",
    "ax.tick_params(labelcolor = 'k')\n",
    "ax.set_yscale(\"log\", nonposy='clip')\n",
    "\n",
    "fig = plt.gcf()\n",
    "fig.set_size_inches(7.5, 5.25)\n",
    "fig.tight_layout()\n",
    "\n",
    "plt.tick_params(axis='y', which='major', labelsize=12 , labelcolor = 'k')\n",
    "plt.tick_params(axis='x', which='major', labelsize=12 , labelcolor = 'k')\n",
    "\n",
    "#file_name = '/home/rv76/Farhat_Lab/Figures/Final_5/Scraping_rollingDB/Mean_Coverage_Distribution_across_all_isolates.pdf'\n",
    "#plt.savefig(file_name, bbox_inches='tight', dpi = 300 , transparent = True)\n",
    "\n",
    "plt.show()"
   ]
  },
  {
   "cell_type": "markdown",
   "metadata": {},
   "source": [
    "#### How many SNP sites have at least *1* isolate with an alternate allele?"
   ]
  },
  {
   "cell_type": "code",
   "execution_count": 33,
   "metadata": {},
   "outputs": [
    {
     "data": {
      "text/plain": [
       "(878244, 4)"
      ]
     },
     "execution_count": 33,
     "metadata": {},
     "output_type": "execute_result"
    }
   ],
   "source": [
    "np.shape(SNV_DF[SNV_DF.num_isolates >= 1])"
   ]
  },
  {
   "cell_type": "markdown",
   "metadata": {},
   "source": [
    "#### How many SNP sites have at least *2* isolates with an alternate allele?"
   ]
  },
  {
   "cell_type": "code",
   "execution_count": 34,
   "metadata": {},
   "outputs": [
    {
     "data": {
      "text/plain": [
       "(417738, 4)"
      ]
     },
     "execution_count": 34,
     "metadata": {},
     "output_type": "execute_result"
    }
   ],
   "source": [
    "np.shape(SNV_DF[SNV_DF.num_isolates >= 2])"
   ]
  },
  {
   "cell_type": "markdown",
   "metadata": {},
   "source": [
    "#### How many SNP sites have at least *3* isolates with an alternate allele?"
   ]
  },
  {
   "cell_type": "code",
   "execution_count": 35,
   "metadata": {},
   "outputs": [
    {
     "data": {
      "text/plain": [
       "(254265, 4)"
      ]
     },
     "execution_count": 35,
     "metadata": {},
     "output_type": "execute_result"
    }
   ],
   "source": [
    "np.shape(SNV_DF[SNV_DF.num_isolates >= 3])"
   ]
  },
  {
   "cell_type": "markdown",
   "metadata": {},
   "source": [
    "#### How many SNP sites have at least *4* isolates with an alternate allele?"
   ]
  },
  {
   "cell_type": "code",
   "execution_count": 36,
   "metadata": {},
   "outputs": [
    {
     "data": {
      "text/plain": [
       "(187622, 4)"
      ]
     },
     "execution_count": 36,
     "metadata": {},
     "output_type": "execute_result"
    }
   ],
   "source": [
    "np.shape(SNV_DF[SNV_DF.num_isolates >= 4])"
   ]
  },
  {
   "cell_type": "markdown",
   "metadata": {},
   "source": [
    "#### How many SNP sites have at least *5* isolates with an alternate allele?"
   ]
  },
  {
   "cell_type": "code",
   "execution_count": 37,
   "metadata": {},
   "outputs": [
    {
     "data": {
      "text/plain": [
       "(146874, 4)"
      ]
     },
     "execution_count": 37,
     "metadata": {},
     "output_type": "execute_result"
    }
   ],
   "source": [
    "np.shape(SNV_DF[SNV_DF.num_isolates >= 5])"
   ]
  },
  {
   "cell_type": "markdown",
   "metadata": {},
   "source": [
    "### Keep only SNVs in which the corresponding *Reference Position* has a SNV in $\\ge$ 5 isolates"
   ]
  },
  {
   "cell_type": "markdown",
   "metadata": {},
   "source": [
    "SNVs founds in only 1-4 isolate(s) are dropped"
   ]
  },
  {
   "cell_type": "code",
   "execution_count": 38,
   "metadata": {},
   "outputs": [],
   "source": [
    "SNV_DF = SNV_DF[SNV_DF.num_isolates >= 5]"
   ]
  },
  {
   "cell_type": "code",
   "execution_count": 39,
   "metadata": {},
   "outputs": [
    {
     "data": {
      "text/plain": [
       "(146874, 4)"
      ]
     },
     "execution_count": 39,
     "metadata": {},
     "output_type": "execute_result"
    }
   ],
   "source": [
    "np.shape(SNV_DF)"
   ]
  },
  {
   "cell_type": "code",
   "execution_count": 40,
   "metadata": {
    "scrolled": false
   },
   "outputs": [
    {
     "data": {
      "text/html": [
       "<div>\n",
       "<style>\n",
       "    .dataframe thead tr:only-child th {\n",
       "        text-align: right;\n",
       "    }\n",
       "\n",
       "    .dataframe thead th {\n",
       "        text-align: left;\n",
       "    }\n",
       "\n",
       "    .dataframe tbody tr th {\n",
       "        vertical-align: top;\n",
       "    }\n",
       "</style>\n",
       "<table border=\"1\" class=\"dataframe\">\n",
       "  <thead>\n",
       "    <tr style=\"text-align: right;\">\n",
       "      <th></th>\n",
       "      <th>ref</th>\n",
       "      <th>alt</th>\n",
       "      <th>num_isolates</th>\n",
       "      <th>pos</th>\n",
       "    </tr>\n",
       "  </thead>\n",
       "  <tbody>\n",
       "    <tr>\n",
       "      <th>2</th>\n",
       "      <td>A</td>\n",
       "      <td>[C]</td>\n",
       "      <td>8</td>\n",
       "      <td>11</td>\n",
       "    </tr>\n",
       "    <tr>\n",
       "      <th>6</th>\n",
       "      <td>C</td>\n",
       "      <td>[G]</td>\n",
       "      <td>19</td>\n",
       "      <td>29</td>\n",
       "    </tr>\n",
       "    <tr>\n",
       "      <th>7</th>\n",
       "      <td>A</td>\n",
       "      <td>[C, G]</td>\n",
       "      <td>10</td>\n",
       "      <td>31</td>\n",
       "    </tr>\n",
       "    <tr>\n",
       "      <th>10</th>\n",
       "      <td>C</td>\n",
       "      <td>[T]</td>\n",
       "      <td>5</td>\n",
       "      <td>48</td>\n",
       "    </tr>\n",
       "    <tr>\n",
       "      <th>11</th>\n",
       "      <td>G</td>\n",
       "      <td>[C]</td>\n",
       "      <td>5</td>\n",
       "      <td>64</td>\n",
       "    </tr>\n",
       "  </tbody>\n",
       "</table>\n",
       "</div>"
      ],
      "text/plain": [
       "   ref     alt num_isolates  pos\n",
       "2    A     [C]            8   11\n",
       "6    C     [G]           19   29\n",
       "7    A  [C, G]           10   31\n",
       "10   C     [T]            5   48\n",
       "11   G     [C]            5   64"
      ]
     },
     "execution_count": 40,
     "metadata": {},
     "output_type": "execute_result"
    }
   ],
   "source": [
    "SNV_DF.head()"
   ]
  },
  {
   "cell_type": "markdown",
   "metadata": {},
   "source": [
    "#### Re-Structure DataFrame to include only the Reference Position, Reference Allele and Alternate Allele(s)"
   ]
  },
  {
   "cell_type": "code",
   "execution_count": 41,
   "metadata": {},
   "outputs": [],
   "source": [
    "SNV_annotation_DF = pd.DataFrame(index = range( 0 , np.shape(SNV_DF)[0] ) ) #index for each SNV\n",
    "SNV_annotation_DF['pos'] = list(SNV_DF.pos) #H37Rv Reference Position\n",
    "SNV_annotation_DF['ref'] = list(SNV_DF.ref) #reference allele\n",
    "SNV_annotation_DF['alt'] = list(SNV_DF.alt) #alterante allele(s) list"
   ]
  },
  {
   "cell_type": "code",
   "execution_count": 42,
   "metadata": {},
   "outputs": [
    {
     "data": {
      "text/plain": [
       "(146874, 3)"
      ]
     },
     "execution_count": 42,
     "metadata": {},
     "output_type": "execute_result"
    }
   ],
   "source": [
    "np.shape(SNV_annotation_DF)"
   ]
  },
  {
   "cell_type": "code",
   "execution_count": 43,
   "metadata": {},
   "outputs": [
    {
     "data": {
      "text/html": [
       "<div>\n",
       "<style>\n",
       "    .dataframe thead tr:only-child th {\n",
       "        text-align: right;\n",
       "    }\n",
       "\n",
       "    .dataframe thead th {\n",
       "        text-align: left;\n",
       "    }\n",
       "\n",
       "    .dataframe tbody tr th {\n",
       "        vertical-align: top;\n",
       "    }\n",
       "</style>\n",
       "<table border=\"1\" class=\"dataframe\">\n",
       "  <thead>\n",
       "    <tr style=\"text-align: right;\">\n",
       "      <th></th>\n",
       "      <th>pos</th>\n",
       "      <th>ref</th>\n",
       "      <th>alt</th>\n",
       "    </tr>\n",
       "  </thead>\n",
       "  <tbody>\n",
       "    <tr>\n",
       "      <th>0</th>\n",
       "      <td>11</td>\n",
       "      <td>A</td>\n",
       "      <td>[C]</td>\n",
       "    </tr>\n",
       "    <tr>\n",
       "      <th>1</th>\n",
       "      <td>29</td>\n",
       "      <td>C</td>\n",
       "      <td>[G]</td>\n",
       "    </tr>\n",
       "    <tr>\n",
       "      <th>2</th>\n",
       "      <td>31</td>\n",
       "      <td>A</td>\n",
       "      <td>[C, G]</td>\n",
       "    </tr>\n",
       "    <tr>\n",
       "      <th>3</th>\n",
       "      <td>48</td>\n",
       "      <td>C</td>\n",
       "      <td>[T]</td>\n",
       "    </tr>\n",
       "    <tr>\n",
       "      <th>4</th>\n",
       "      <td>64</td>\n",
       "      <td>G</td>\n",
       "      <td>[C]</td>\n",
       "    </tr>\n",
       "  </tbody>\n",
       "</table>\n",
       "</div>"
      ],
      "text/plain": [
       "   pos ref     alt\n",
       "0   11   A     [C]\n",
       "1   29   C     [G]\n",
       "2   31   A  [C, G]\n",
       "3   48   C     [T]\n",
       "4   64   G     [C]"
      ]
     },
     "execution_count": 43,
     "metadata": {},
     "output_type": "execute_result"
    }
   ],
   "source": [
    "SNV_annotation_DF.head() #index = row indices of genotype matrix , 0 supports ref, 1 supports alt"
   ]
  },
  {
   "cell_type": "markdown",
   "metadata": {},
   "source": [
    "#### This is the DataFrame which we'll use to extract SNVs of interest when iterating over all of the VCF files in rollingDB"
   ]
  },
  {
   "cell_type": "markdown",
   "metadata": {},
   "source": [
    "Output Annotation for SNVs of interest in Genotypes folder"
   ]
  },
  {
   "cell_type": "code",
   "execution_count": 46,
   "metadata": {},
   "outputs": [],
   "source": [
    "SNV_annotation_DF.to_pickle('/n/data1/hms/dbmi/farhat/Roger/inhost_TB_dynamics_project/rolling_DB_scrape/Genotypes/genotypes_SNP_annotation.pkl')"
   ]
  },
  {
   "cell_type": "markdown",
   "metadata": {},
   "source": [
    "#### Create a text file with a single column of all Reference Positions that we're interested in based off of DF above. We will use this text file to subset the *full* VCF files to only the positions that Reference Positions that have a SNV in at least 2 isolates."
   ]
  },
  {
   "cell_type": "code",
   "execution_count": 47,
   "metadata": {},
   "outputs": [],
   "source": [
    "SNV_ref_positions = ['NC_000962.3\\t' + ref_pos for ref_pos in list( SNV_annotation_DF.pos.astype(str) ) ]\n",
    "\n",
    "#save each element as a new row in a text file\n",
    "with open('/n/data1/hms/dbmi/farhat/Roger/inhost_TB_dynamics_project/rolling_DB_scrape/Genotypes/ref_positions_to_select.txt', 'w') as f:\n",
    "    for item in SNV_ref_positions:\n",
    "        f.write(\"%s\\n\" % item)"
   ]
  },
  {
   "cell_type": "markdown",
   "metadata": {},
   "source": [
    "####################################################################################################################################################################################"
   ]
  },
  {
   "cell_type": "markdown",
   "metadata": {},
   "source": [
    "## [6] This section of the notebook submits jobs to subset Full VCFs to the 146,874 reference positions that have a SNV in $\\ge 5$ isolates in rollingDB."
   ]
  },
  {
   "cell_type": "markdown",
   "metadata": {},
   "source": [
    "####################################################################################################################################################################################"
   ]
  },
  {
   "cell_type": "code",
   "execution_count": 89,
   "metadata": {},
   "outputs": [],
   "source": [
    "import os\n",
    "import pandas as pd\n",
    "from slurmpy import Slurm\n",
    "import numpy as np\n",
    "import itertools\n",
    "import shutil"
   ]
  },
  {
   "cell_type": "markdown",
   "metadata": {},
   "source": [
    "Every isolate in the pool of **33,873** isolates in rollingDB had a reduced VCF file and a corresponding Full VCF file. We will subset each of these Full VCF files and create subset VCF files containing information for only the **146,874** reference positions that we're interested in."
   ]
  },
  {
   "cell_type": "code",
   "execution_count": 90,
   "metadata": {},
   "outputs": [],
   "source": [
    "isolate_id_series = pd.read_pickle( '/n/data1/hms/dbmi/farhat/Roger/inhost_TB_dynamics_project/rolling_DB_scrape/Genotypes/genotypes_isolate_annotation.pkl' )"
   ]
  },
  {
   "cell_type": "code",
   "execution_count": 91,
   "metadata": {},
   "outputs": [
    {
     "data": {
      "text/plain": [
       "0    SAMEA3558733\n",
       "1    SAMN05575260\n",
       "2    SAMN03648641\n",
       "3    SAMN03647419\n",
       "4    SAMEA3671418\n",
       "dtype: object"
      ]
     },
     "execution_count": 91,
     "metadata": {},
     "output_type": "execute_result"
    }
   ],
   "source": [
    "isolate_id_series.head()"
   ]
  },
  {
   "cell_type": "code",
   "execution_count": 92,
   "metadata": {
    "scrolled": true
   },
   "outputs": [
    {
     "data": {
      "text/plain": [
       "33873"
      ]
     },
     "execution_count": 92,
     "metadata": {},
     "output_type": "execute_result"
    }
   ],
   "source": [
    "len(isolate_id_series)"
   ]
  },
  {
   "cell_type": "markdown",
   "metadata": {},
   "source": [
    "#### Create directory for each isolate to store output for genotyping"
   ]
  },
  {
   "cell_type": "code",
   "execution_count": 93,
   "metadata": {},
   "outputs": [],
   "source": [
    "for tag in isolate_id_series.values:\n",
    "\n",
    "    #create directory to store subset VCF and genotypes for each isolate\n",
    "    isolate_genotype_dir = '/n/data1/hms/dbmi/farhat/Roger/inhost_TB_dynamics_project/rolling_DB_scrape/Genotypes/Genotypes_per_isolate/' + tag\n",
    "    if os.path.exists(isolate_genotype_dir):\n",
    "        shutil.rmtree(isolate_genotype_dir)\n",
    "        os.makedirs(isolate_genotype_dir)\n",
    "    elif not os.path.exists(isolate_genotype_dir):\n",
    "        os.makedirs(isolate_genotype_dir)"
   ]
  },
  {
   "cell_type": "markdown",
   "metadata": {},
   "source": [
    "#### Subset VCF to reference positions of interest for isolates that had Full VCF files "
   ]
  },
  {
   "cell_type": "markdown",
   "metadata": {},
   "source": [
    "Create BASH scripts to extract VCFs of N isolates per job"
   ]
  },
  {
   "cell_type": "code",
   "execution_count": 94,
   "metadata": {},
   "outputs": [],
   "source": [
    "N_isolates_per_job = 70\n",
    "\n",
    "njobs = int( np.ceil( float( len( isolate_id_series ) ) / float(N_isolates_per_job) ) ) #number of jobs required if we split for every N isolates"
   ]
  },
  {
   "cell_type": "code",
   "execution_count": 95,
   "metadata": {},
   "outputs": [
    {
     "name": "stdout",
     "output_type": "stream",
     "text": [
      "484\n"
     ]
    }
   ],
   "source": [
    "print njobs"
   ]
  },
  {
   "cell_type": "code",
   "execution_count": 96,
   "metadata": {},
   "outputs": [],
   "source": [
    "bash_scripts = []\n",
    "\n",
    "#genomic data directory\n",
    "rolling_DB_dir = '/n/data1/hms/dbmi/farhat/rollingDB/genomic_data/'\n",
    "\n",
    "#split jobs up into tasks of N\n",
    "for first_isolate_i_for_job in np.arange(0 , (njobs)*N_isolates_per_job , N_isolates_per_job):\n",
    "\n",
    "    last_isolate_i_for_job = first_isolate_i_for_job + N_isolates_per_job\n",
    "    \n",
    "    commands_list = []\n",
    "    commands_list.append( 'module load bcftools/1.9' ) #only need to load this once per job\n",
    "\n",
    "    for isolate_i in range(first_isolate_i_for_job , last_isolate_i_for_job): \n",
    "\n",
    "        try:\n",
    "            tag = isolate_id_series[isolate_i]\n",
    "            zipped_VCF = rolling_DB_dir + tag + '/pilon/' + tag + '_full.vcf.gz'\n",
    "            isolate_genotypes_dir = '/n/data1/hms/dbmi/farhat/Roger/inhost_TB_dynamics_project/rolling_DB_scrape/Genotypes/Genotypes_per_isolate/' + tag\n",
    "\n",
    "            commands_list.append( 'cd {}'.format(isolate_genotypes_dir) )\n",
    "            commands_list.append( 'time bcftools view {} -O b -o current.bcf'.format(zipped_VCF) )\n",
    "            commands_list.append( 'bcftools index current.bcf' )\n",
    "            commands_list.append( 'bcftools view current.bcf --regions-file /n/data1/hms/dbmi/farhat/Roger/inhost_TB_dynamics_project/rolling_DB_scrape/Genotypes/ref_positions_to_select.txt -o {0}_ref_positions_for_genotyping.vcf -O v'.format(tag) )\n",
    "            commands_list.append( 'rm current.bcf.csi current.bcf' )\n",
    "            \n",
    "        except KeyError: #applies only to the last job if it has < N isolates\n",
    "            continue\n",
    "        \n",
    "    bash_scripts.append(commands_list)"
   ]
  },
  {
   "cell_type": "markdown",
   "metadata": {},
   "source": [
    "#### Submit each job to O2"
   ]
  },
  {
   "cell_type": "code",
   "execution_count": 97,
   "metadata": {
    "scrolled": true
   },
   "outputs": [
    {
     "name": "stderr",
     "output_type": "stream",
     "text": [
      "submitted: Submitted batch job 3318878\n"
     ]
    },
    {
     "name": "stdout",
     "output_type": "stream",
     "text": [
      "VCF_1\n"
     ]
    },
    {
     "name": "stderr",
     "output_type": "stream",
     "text": [
      "submitted: Submitted batch job 3318879\n"
     ]
    },
    {
     "name": "stdout",
     "output_type": "stream",
     "text": [
      "VCF_2\n"
     ]
    },
    {
     "name": "stderr",
     "output_type": "stream",
     "text": [
      "submitted: Submitted batch job 3318880\n"
     ]
    },
    {
     "name": "stdout",
     "output_type": "stream",
     "text": [
      "VCF_3\n"
     ]
    },
    {
     "name": "stderr",
     "output_type": "stream",
     "text": [
      "submitted: Submitted batch job 3318881\n"
     ]
    },
    {
     "name": "stdout",
     "output_type": "stream",
     "text": [
      "VCF_4\n"
     ]
    },
    {
     "name": "stderr",
     "output_type": "stream",
     "text": [
      "submitted: Submitted batch job 3318882\n"
     ]
    },
    {
     "name": "stdout",
     "output_type": "stream",
     "text": [
      "VCF_5\n"
     ]
    },
    {
     "name": "stderr",
     "output_type": "stream",
     "text": [
      "submitted: Submitted batch job 3318883\n"
     ]
    },
    {
     "name": "stdout",
     "output_type": "stream",
     "text": [
      "VCF_6\n"
     ]
    },
    {
     "name": "stderr",
     "output_type": "stream",
     "text": [
      "submitted: Submitted batch job 3318884\n",
      "submitted: Submitted batch job 3318885\n"
     ]
    },
    {
     "name": "stdout",
     "output_type": "stream",
     "text": [
      "VCF_7\n",
      "VCF_8\n"
     ]
    },
    {
     "name": "stderr",
     "output_type": "stream",
     "text": [
      "submitted: Submitted batch job 3318886\n",
      "submitted: Submitted batch job 3318887\n"
     ]
    },
    {
     "name": "stdout",
     "output_type": "stream",
     "text": [
      "VCF_9\n",
      "VCF_10\n"
     ]
    },
    {
     "name": "stderr",
     "output_type": "stream",
     "text": [
      "submitted: Submitted batch job 3318888\n",
      "submitted: Submitted batch job 3318889\n",
      "submitted: Submitted batch job 3318890\n"
     ]
    },
    {
     "name": "stdout",
     "output_type": "stream",
     "text": [
      "VCF_11\n",
      "VCF_12\n",
      "VCF_13\n"
     ]
    },
    {
     "name": "stderr",
     "output_type": "stream",
     "text": [
      "submitted: Submitted batch job 3318891\n",
      "submitted: Submitted batch job 3318892\n"
     ]
    },
    {
     "name": "stdout",
     "output_type": "stream",
     "text": [
      "VCF_14\n",
      "VCF_15\n"
     ]
    },
    {
     "name": "stderr",
     "output_type": "stream",
     "text": [
      "submitted: Submitted batch job 3318893\n"
     ]
    },
    {
     "name": "stdout",
     "output_type": "stream",
     "text": [
      "VCF_16\n"
     ]
    },
    {
     "name": "stderr",
     "output_type": "stream",
     "text": [
      "submitted: Submitted batch job 3318894\n",
      "submitted: Submitted batch job 3318895\n"
     ]
    },
    {
     "name": "stdout",
     "output_type": "stream",
     "text": [
      "VCF_17\n",
      "VCF_18\n"
     ]
    },
    {
     "name": "stderr",
     "output_type": "stream",
     "text": [
      "submitted: Submitted batch job 3318896\n"
     ]
    },
    {
     "name": "stdout",
     "output_type": "stream",
     "text": [
      "VCF_19\n"
     ]
    },
    {
     "name": "stderr",
     "output_type": "stream",
     "text": [
      "submitted: Submitted batch job 3318897\n",
      "submitted: Submitted batch job 3318898\n"
     ]
    },
    {
     "name": "stdout",
     "output_type": "stream",
     "text": [
      "VCF_20\n",
      "VCF_21\n"
     ]
    },
    {
     "name": "stderr",
     "output_type": "stream",
     "text": [
      "submitted: Submitted batch job 3318899\n"
     ]
    },
    {
     "name": "stdout",
     "output_type": "stream",
     "text": [
      "VCF_22\n"
     ]
    },
    {
     "name": "stderr",
     "output_type": "stream",
     "text": [
      "submitted: Submitted batch job 3318900\n"
     ]
    },
    {
     "name": "stdout",
     "output_type": "stream",
     "text": [
      "VCF_23\n"
     ]
    },
    {
     "name": "stderr",
     "output_type": "stream",
     "text": [
      "submitted: Submitted batch job 3318901\n"
     ]
    },
    {
     "name": "stdout",
     "output_type": "stream",
     "text": [
      "VCF_24\n"
     ]
    },
    {
     "name": "stderr",
     "output_type": "stream",
     "text": [
      "submitted: Submitted batch job 3318902\n",
      "submitted: Submitted batch job 3318903\n"
     ]
    },
    {
     "name": "stdout",
     "output_type": "stream",
     "text": [
      "VCF_25\n",
      "VCF_26\n"
     ]
    },
    {
     "name": "stderr",
     "output_type": "stream",
     "text": [
      "submitted: Submitted batch job 3318904\n"
     ]
    },
    {
     "name": "stdout",
     "output_type": "stream",
     "text": [
      "VCF_27\n"
     ]
    },
    {
     "name": "stderr",
     "output_type": "stream",
     "text": [
      "submitted: Submitted batch job 3318905\n"
     ]
    },
    {
     "name": "stdout",
     "output_type": "stream",
     "text": [
      "VCF_28\n"
     ]
    },
    {
     "name": "stderr",
     "output_type": "stream",
     "text": [
      "submitted: Submitted batch job 3318906\n"
     ]
    },
    {
     "name": "stdout",
     "output_type": "stream",
     "text": [
      "VCF_29\n"
     ]
    },
    {
     "name": "stderr",
     "output_type": "stream",
     "text": [
      "submitted: Submitted batch job 3318907\n"
     ]
    },
    {
     "name": "stdout",
     "output_type": "stream",
     "text": [
      "VCF_30\n"
     ]
    },
    {
     "name": "stderr",
     "output_type": "stream",
     "text": [
      "submitted: Submitted batch job 3318909\n",
      "submitted: Submitted batch job 3318910\n"
     ]
    },
    {
     "name": "stdout",
     "output_type": "stream",
     "text": [
      "VCF_31\n",
      "VCF_32\n"
     ]
    },
    {
     "name": "stderr",
     "output_type": "stream",
     "text": [
      "submitted: Submitted batch job 3318911\n",
      "submitted: Submitted batch job 3318912\n"
     ]
    },
    {
     "name": "stdout",
     "output_type": "stream",
     "text": [
      "VCF_33\n",
      "VCF_34\n"
     ]
    },
    {
     "name": "stderr",
     "output_type": "stream",
     "text": [
      "submitted: Submitted batch job 3318913\n",
      "submitted: Submitted batch job 3318914\n"
     ]
    },
    {
     "name": "stdout",
     "output_type": "stream",
     "text": [
      "VCF_35\n",
      "VCF_36\n"
     ]
    },
    {
     "name": "stderr",
     "output_type": "stream",
     "text": [
      "submitted: Submitted batch job 3318915\n"
     ]
    },
    {
     "name": "stdout",
     "output_type": "stream",
     "text": [
      "VCF_37\n"
     ]
    },
    {
     "name": "stderr",
     "output_type": "stream",
     "text": [
      "submitted: Submitted batch job 3318916\n"
     ]
    },
    {
     "name": "stdout",
     "output_type": "stream",
     "text": [
      "VCF_38\n"
     ]
    },
    {
     "name": "stderr",
     "output_type": "stream",
     "text": [
      "submitted: Submitted batch job 3318917\n",
      "submitted: Submitted batch job 3318918\n"
     ]
    },
    {
     "name": "stdout",
     "output_type": "stream",
     "text": [
      "VCF_39\n",
      "VCF_40\n"
     ]
    },
    {
     "name": "stderr",
     "output_type": "stream",
     "text": [
      "submitted: Submitted batch job 3318919\n"
     ]
    },
    {
     "name": "stdout",
     "output_type": "stream",
     "text": [
      "VCF_41\n"
     ]
    },
    {
     "name": "stderr",
     "output_type": "stream",
     "text": [
      "submitted: Submitted batch job 3318920\n"
     ]
    },
    {
     "name": "stdout",
     "output_type": "stream",
     "text": [
      "VCF_42\n"
     ]
    },
    {
     "name": "stderr",
     "output_type": "stream",
     "text": [
      "submitted: Submitted batch job 3318921\n"
     ]
    },
    {
     "name": "stdout",
     "output_type": "stream",
     "text": [
      "VCF_43\n"
     ]
    },
    {
     "name": "stderr",
     "output_type": "stream",
     "text": [
      "submitted: Submitted batch job 3318922\n",
      "submitted: Submitted batch job 3318923\n"
     ]
    },
    {
     "name": "stdout",
     "output_type": "stream",
     "text": [
      "VCF_44\n",
      "VCF_45\n"
     ]
    },
    {
     "name": "stderr",
     "output_type": "stream",
     "text": [
      "submitted: Submitted batch job 3318924\n"
     ]
    },
    {
     "name": "stdout",
     "output_type": "stream",
     "text": [
      "VCF_46\n"
     ]
    },
    {
     "name": "stderr",
     "output_type": "stream",
     "text": [
      "submitted: Submitted batch job 3318925\n"
     ]
    },
    {
     "name": "stdout",
     "output_type": "stream",
     "text": [
      "VCF_47\n"
     ]
    },
    {
     "name": "stderr",
     "output_type": "stream",
     "text": [
      "submitted: Submitted batch job 3318926\n"
     ]
    },
    {
     "name": "stdout",
     "output_type": "stream",
     "text": [
      "VCF_48\n"
     ]
    },
    {
     "name": "stderr",
     "output_type": "stream",
     "text": [
      "submitted: Submitted batch job 3318927\n"
     ]
    },
    {
     "name": "stdout",
     "output_type": "stream",
     "text": [
      "VCF_49\n"
     ]
    },
    {
     "name": "stderr",
     "output_type": "stream",
     "text": [
      "submitted: Submitted batch job 3318928\n"
     ]
    },
    {
     "name": "stdout",
     "output_type": "stream",
     "text": [
      "VCF_50\n"
     ]
    },
    {
     "name": "stderr",
     "output_type": "stream",
     "text": [
      "submitted: Submitted batch job 3318929\n",
      "submitted: Submitted batch job 3318930\n"
     ]
    },
    {
     "name": "stdout",
     "output_type": "stream",
     "text": [
      "VCF_51\n",
      "VCF_52\n"
     ]
    },
    {
     "name": "stderr",
     "output_type": "stream",
     "text": [
      "submitted: Submitted batch job 3318931\n",
      "submitted: Submitted batch job 3318932\n",
      "submitted: Submitted batch job 3318933\n"
     ]
    },
    {
     "name": "stdout",
     "output_type": "stream",
     "text": [
      "VCF_53\n",
      "VCF_54\n",
      "VCF_55\n"
     ]
    },
    {
     "name": "stderr",
     "output_type": "stream",
     "text": [
      "submitted: Submitted batch job 3318934\n"
     ]
    },
    {
     "name": "stdout",
     "output_type": "stream",
     "text": [
      "VCF_56\n"
     ]
    },
    {
     "name": "stderr",
     "output_type": "stream",
     "text": [
      "submitted: Submitted batch job 3318935\n",
      "submitted: Submitted batch job 3318936\n"
     ]
    },
    {
     "name": "stdout",
     "output_type": "stream",
     "text": [
      "VCF_57\n",
      "VCF_58\n"
     ]
    },
    {
     "name": "stderr",
     "output_type": "stream",
     "text": [
      "submitted: Submitted batch job 3318937\n",
      "submitted: Submitted batch job 3318938\n"
     ]
    },
    {
     "name": "stdout",
     "output_type": "stream",
     "text": [
      "VCF_59\n",
      "VCF_60\n"
     ]
    },
    {
     "name": "stderr",
     "output_type": "stream",
     "text": [
      "submitted: Submitted batch job 3318939\n"
     ]
    },
    {
     "name": "stdout",
     "output_type": "stream",
     "text": [
      "VCF_61\n"
     ]
    },
    {
     "name": "stderr",
     "output_type": "stream",
     "text": [
      "submitted: Submitted batch job 3318940\n",
      "submitted: Submitted batch job 3318941\n",
      "submitted: Submitted batch job 3318942\n"
     ]
    },
    {
     "name": "stdout",
     "output_type": "stream",
     "text": [
      "VCF_62\n",
      "VCF_63\n",
      "VCF_64\n"
     ]
    },
    {
     "name": "stderr",
     "output_type": "stream",
     "text": [
      "submitted: Submitted batch job 3318943\n",
      "submitted: Submitted batch job 3318944\n",
      "submitted: Submitted batch job 3318945\n"
     ]
    },
    {
     "name": "stdout",
     "output_type": "stream",
     "text": [
      "VCF_65\n",
      "VCF_66\n",
      "VCF_67\n"
     ]
    },
    {
     "name": "stderr",
     "output_type": "stream",
     "text": [
      "submitted: Submitted batch job 3318946\n",
      "submitted: Submitted batch job 3318947\n",
      "submitted: Submitted batch job 3318948\n"
     ]
    },
    {
     "name": "stdout",
     "output_type": "stream",
     "text": [
      "VCF_68\n",
      "VCF_69\n",
      "VCF_70\n"
     ]
    },
    {
     "name": "stderr",
     "output_type": "stream",
     "text": [
      "submitted: Submitted batch job 3318949\n",
      "submitted: Submitted batch job 3318950\n",
      "submitted: Submitted batch job 3318951\n"
     ]
    },
    {
     "name": "stdout",
     "output_type": "stream",
     "text": [
      "VCF_71\n",
      "VCF_72\n",
      "VCF_73\n"
     ]
    },
    {
     "name": "stderr",
     "output_type": "stream",
     "text": [
      "submitted: Submitted batch job 3318952\n"
     ]
    },
    {
     "name": "stdout",
     "output_type": "stream",
     "text": [
      "VCF_74\n"
     ]
    },
    {
     "name": "stderr",
     "output_type": "stream",
     "text": [
      "submitted: Submitted batch job 3318953\n",
      "submitted: Submitted batch job 3318954\n"
     ]
    },
    {
     "name": "stdout",
     "output_type": "stream",
     "text": [
      "VCF_75\n",
      "VCF_76\n"
     ]
    },
    {
     "name": "stderr",
     "output_type": "stream",
     "text": [
      "submitted: Submitted batch job 3318955\n",
      "submitted: Submitted batch job 3318956\n",
      "submitted: Submitted batch job 3318957\n"
     ]
    },
    {
     "name": "stdout",
     "output_type": "stream",
     "text": [
      "VCF_77\n",
      "VCF_78\n",
      "VCF_79\n"
     ]
    },
    {
     "name": "stderr",
     "output_type": "stream",
     "text": [
      "submitted: Submitted batch job 3318958\n"
     ]
    },
    {
     "name": "stdout",
     "output_type": "stream",
     "text": [
      "VCF_80\n"
     ]
    },
    {
     "name": "stderr",
     "output_type": "stream",
     "text": [
      "submitted: Submitted batch job 3318959\n",
      "submitted: Submitted batch job 3318960\n",
      "submitted: Submitted batch job 3318961\n"
     ]
    },
    {
     "name": "stdout",
     "output_type": "stream",
     "text": [
      "VCF_81\n",
      "VCF_82\n",
      "VCF_83\n"
     ]
    },
    {
     "name": "stderr",
     "output_type": "stream",
     "text": [
      "submitted: Submitted batch job 3318962\n",
      "submitted: Submitted batch job 3318963\n",
      "submitted: Submitted batch job 3318964\n"
     ]
    },
    {
     "name": "stdout",
     "output_type": "stream",
     "text": [
      "VCF_84\n",
      "VCF_85\n",
      "VCF_86\n"
     ]
    },
    {
     "name": "stderr",
     "output_type": "stream",
     "text": [
      "submitted: Submitted batch job 3318965\n",
      "submitted: Submitted batch job 3318966\n",
      "submitted: Submitted batch job 3318967\n"
     ]
    },
    {
     "name": "stdout",
     "output_type": "stream",
     "text": [
      "VCF_87\n",
      "VCF_88\n",
      "VCF_89\n"
     ]
    },
    {
     "name": "stderr",
     "output_type": "stream",
     "text": [
      "submitted: Submitted batch job 3318968\n",
      "submitted: Submitted batch job 3318969\n",
      "submitted: Submitted batch job 3318970\n"
     ]
    },
    {
     "name": "stdout",
     "output_type": "stream",
     "text": [
      "VCF_90\n",
      "VCF_91\n",
      "VCF_92\n"
     ]
    },
    {
     "name": "stderr",
     "output_type": "stream",
     "text": [
      "submitted: Submitted batch job 3318971\n",
      "submitted: Submitted batch job 3318972\n"
     ]
    },
    {
     "name": "stdout",
     "output_type": "stream",
     "text": [
      "VCF_93\n",
      "VCF_94\n"
     ]
    },
    {
     "name": "stderr",
     "output_type": "stream",
     "text": [
      "submitted: Submitted batch job 3318973\n"
     ]
    },
    {
     "name": "stdout",
     "output_type": "stream",
     "text": [
      "VCF_95\n"
     ]
    },
    {
     "name": "stderr",
     "output_type": "stream",
     "text": [
      "submitted: Submitted batch job 3318974\n"
     ]
    },
    {
     "name": "stdout",
     "output_type": "stream",
     "text": [
      "VCF_96\n"
     ]
    },
    {
     "name": "stderr",
     "output_type": "stream",
     "text": [
      "submitted: Submitted batch job 3318975\n"
     ]
    },
    {
     "name": "stdout",
     "output_type": "stream",
     "text": [
      "VCF_97\n"
     ]
    },
    {
     "name": "stderr",
     "output_type": "stream",
     "text": [
      "submitted: Submitted batch job 3318976\n",
      "submitted: Submitted batch job 3318977\n"
     ]
    },
    {
     "name": "stdout",
     "output_type": "stream",
     "text": [
      "VCF_98\n",
      "VCF_99\n"
     ]
    },
    {
     "name": "stderr",
     "output_type": "stream",
     "text": [
      "submitted: Submitted batch job 3318978\n",
      "submitted: Submitted batch job 3318979\n",
      "submitted: Submitted batch job 3318980\n"
     ]
    },
    {
     "name": "stdout",
     "output_type": "stream",
     "text": [
      "VCF_100\n",
      "VCF_101\n",
      "VCF_102\n"
     ]
    },
    {
     "name": "stderr",
     "output_type": "stream",
     "text": [
      "submitted: Submitted batch job 3318981\n",
      "submitted: Submitted batch job 3318982\n",
      "submitted: Submitted batch job 3318983\n"
     ]
    },
    {
     "name": "stdout",
     "output_type": "stream",
     "text": [
      "VCF_103\n",
      "VCF_104\n",
      "VCF_105\n"
     ]
    },
    {
     "name": "stderr",
     "output_type": "stream",
     "text": [
      "submitted: Submitted batch job 3318984\n",
      "submitted: Submitted batch job 3318985\n",
      "submitted: Submitted batch job 3318986\n"
     ]
    },
    {
     "name": "stdout",
     "output_type": "stream",
     "text": [
      "VCF_106\n",
      "VCF_107\n",
      "VCF_108\n"
     ]
    },
    {
     "name": "stderr",
     "output_type": "stream",
     "text": [
      "submitted: Submitted batch job 3318987\n"
     ]
    },
    {
     "name": "stdout",
     "output_type": "stream",
     "text": [
      "VCF_109\n"
     ]
    },
    {
     "name": "stderr",
     "output_type": "stream",
     "text": [
      "submitted: Submitted batch job 3318988\n",
      "submitted: Submitted batch job 3318989\n"
     ]
    },
    {
     "name": "stdout",
     "output_type": "stream",
     "text": [
      "VCF_110\n",
      "VCF_111\n"
     ]
    },
    {
     "name": "stderr",
     "output_type": "stream",
     "text": [
      "submitted: Submitted batch job 3318990\n",
      "submitted: Submitted batch job 3318991\n"
     ]
    },
    {
     "name": "stdout",
     "output_type": "stream",
     "text": [
      "VCF_112\n",
      "VCF_113\n"
     ]
    },
    {
     "name": "stderr",
     "output_type": "stream",
     "text": [
      "submitted: Submitted batch job 3318992\n",
      "submitted: Submitted batch job 3318993\n",
      "submitted: Submitted batch job 3318994\n"
     ]
    },
    {
     "name": "stdout",
     "output_type": "stream",
     "text": [
      "VCF_114\n",
      "VCF_115\n",
      "VCF_116\n"
     ]
    },
    {
     "name": "stderr",
     "output_type": "stream",
     "text": [
      "submitted: Submitted batch job 3318995\n"
     ]
    },
    {
     "name": "stdout",
     "output_type": "stream",
     "text": [
      "VCF_117\n"
     ]
    },
    {
     "name": "stderr",
     "output_type": "stream",
     "text": [
      "submitted: Submitted batch job 3318996\n"
     ]
    },
    {
     "name": "stdout",
     "output_type": "stream",
     "text": [
      "VCF_118\n"
     ]
    },
    {
     "name": "stderr",
     "output_type": "stream",
     "text": [
      "submitted: Submitted batch job 3318997\n",
      "submitted: Submitted batch job 3318998\n",
      "submitted: Submitted batch job 3318999\n"
     ]
    },
    {
     "name": "stdout",
     "output_type": "stream",
     "text": [
      "VCF_119\n",
      "VCF_120\n",
      "VCF_121\n"
     ]
    },
    {
     "name": "stderr",
     "output_type": "stream",
     "text": [
      "submitted: Submitted batch job 3319000\n"
     ]
    },
    {
     "name": "stdout",
     "output_type": "stream",
     "text": [
      "VCF_122\n"
     ]
    },
    {
     "name": "stderr",
     "output_type": "stream",
     "text": [
      "submitted: Submitted batch job 3319001\n",
      "submitted: Submitted batch job 3319002\n",
      "submitted: Submitted batch job 3319003\n"
     ]
    },
    {
     "name": "stdout",
     "output_type": "stream",
     "text": [
      "VCF_123\n",
      "VCF_124\n",
      "VCF_125\n"
     ]
    },
    {
     "name": "stderr",
     "output_type": "stream",
     "text": [
      "submitted: Submitted batch job 3319004\n"
     ]
    },
    {
     "name": "stdout",
     "output_type": "stream",
     "text": [
      "VCF_126\n"
     ]
    },
    {
     "name": "stderr",
     "output_type": "stream",
     "text": [
      "submitted: Submitted batch job 3319005\n"
     ]
    },
    {
     "name": "stdout",
     "output_type": "stream",
     "text": [
      "VCF_127\n"
     ]
    },
    {
     "name": "stderr",
     "output_type": "stream",
     "text": [
      "submitted: Submitted batch job 3319006\n",
      "submitted: Submitted batch job 3319007\n",
      "submitted: Submitted batch job 3319008\n"
     ]
    },
    {
     "name": "stdout",
     "output_type": "stream",
     "text": [
      "VCF_128\n",
      "VCF_129\n",
      "VCF_130\n"
     ]
    },
    {
     "name": "stderr",
     "output_type": "stream",
     "text": [
      "submitted: Submitted batch job 3319009\n",
      "submitted: Submitted batch job 3319010\n"
     ]
    },
    {
     "name": "stdout",
     "output_type": "stream",
     "text": [
      "VCF_131\n",
      "VCF_132\n"
     ]
    },
    {
     "name": "stderr",
     "output_type": "stream",
     "text": [
      "submitted: Submitted batch job 3319011\n",
      "submitted: Submitted batch job 3319012\n"
     ]
    },
    {
     "name": "stdout",
     "output_type": "stream",
     "text": [
      "VCF_133\n",
      "VCF_134\n"
     ]
    },
    {
     "name": "stderr",
     "output_type": "stream",
     "text": [
      "submitted: Submitted batch job 3319013\n",
      "submitted: Submitted batch job 3319014\n",
      "submitted: Submitted batch job 3319015\n"
     ]
    },
    {
     "name": "stdout",
     "output_type": "stream",
     "text": [
      "VCF_135\n",
      "VCF_136\n",
      "VCF_137\n"
     ]
    },
    {
     "name": "stderr",
     "output_type": "stream",
     "text": [
      "submitted: Submitted batch job 3319016\n",
      "submitted: Submitted batch job 3319017\n",
      "submitted: Submitted batch job 3319018\n"
     ]
    },
    {
     "name": "stdout",
     "output_type": "stream",
     "text": [
      "VCF_138\n",
      "VCF_139\n",
      "VCF_140\n"
     ]
    },
    {
     "name": "stderr",
     "output_type": "stream",
     "text": [
      "submitted: Submitted batch job 3319019\n"
     ]
    },
    {
     "name": "stdout",
     "output_type": "stream",
     "text": [
      "VCF_141\n"
     ]
    },
    {
     "name": "stderr",
     "output_type": "stream",
     "text": [
      "submitted: Submitted batch job 3319020\n",
      "submitted: Submitted batch job 3319021\n",
      "submitted: Submitted batch job 3319022\n"
     ]
    },
    {
     "name": "stdout",
     "output_type": "stream",
     "text": [
      "VCF_142\n",
      "VCF_143\n",
      "VCF_144\n"
     ]
    },
    {
     "name": "stderr",
     "output_type": "stream",
     "text": [
      "submitted: Submitted batch job 3319023\n",
      "submitted: Submitted batch job 3319024\n"
     ]
    },
    {
     "name": "stdout",
     "output_type": "stream",
     "text": [
      "VCF_145\n",
      "VCF_146\n"
     ]
    },
    {
     "name": "stderr",
     "output_type": "stream",
     "text": [
      "submitted: Submitted batch job 3319025\n"
     ]
    },
    {
     "name": "stdout",
     "output_type": "stream",
     "text": [
      "VCF_147\n"
     ]
    },
    {
     "name": "stderr",
     "output_type": "stream",
     "text": [
      "submitted: Submitted batch job 3319026\n"
     ]
    },
    {
     "name": "stdout",
     "output_type": "stream",
     "text": [
      "VCF_148\n"
     ]
    },
    {
     "name": "stderr",
     "output_type": "stream",
     "text": [
      "submitted: Submitted batch job 3319027\n",
      "submitted: Submitted batch job 3319028\n"
     ]
    },
    {
     "name": "stdout",
     "output_type": "stream",
     "text": [
      "VCF_149\n",
      "VCF_150\n"
     ]
    },
    {
     "name": "stderr",
     "output_type": "stream",
     "text": [
      "submitted: Submitted batch job 3319029\n",
      "submitted: Submitted batch job 3319030\n"
     ]
    },
    {
     "name": "stdout",
     "output_type": "stream",
     "text": [
      "VCF_151\n",
      "VCF_152\n"
     ]
    },
    {
     "name": "stderr",
     "output_type": "stream",
     "text": [
      "submitted: Submitted batch job 3319031\n",
      "submitted: Submitted batch job 3319032\n",
      "submitted: Submitted batch job 3319033\n"
     ]
    },
    {
     "name": "stdout",
     "output_type": "stream",
     "text": [
      "VCF_153\n",
      "VCF_154\n",
      "VCF_155\n"
     ]
    },
    {
     "name": "stderr",
     "output_type": "stream",
     "text": [
      "submitted: Submitted batch job 3319034\n",
      "submitted: Submitted batch job 3319035\n"
     ]
    },
    {
     "name": "stdout",
     "output_type": "stream",
     "text": [
      "VCF_156\n",
      "VCF_157\n"
     ]
    },
    {
     "name": "stderr",
     "output_type": "stream",
     "text": [
      "submitted: Submitted batch job 3319036\n"
     ]
    },
    {
     "name": "stdout",
     "output_type": "stream",
     "text": [
      "VCF_158\n"
     ]
    },
    {
     "name": "stderr",
     "output_type": "stream",
     "text": [
      "submitted: Submitted batch job 3319037\n",
      "submitted: Submitted batch job 3319038\n"
     ]
    },
    {
     "name": "stdout",
     "output_type": "stream",
     "text": [
      "VCF_159\n",
      "VCF_160\n"
     ]
    },
    {
     "name": "stderr",
     "output_type": "stream",
     "text": [
      "submitted: Submitted batch job 3319039\n",
      "submitted: Submitted batch job 3319040\n"
     ]
    },
    {
     "name": "stdout",
     "output_type": "stream",
     "text": [
      "VCF_161\n",
      "VCF_162\n"
     ]
    },
    {
     "name": "stderr",
     "output_type": "stream",
     "text": [
      "submitted: Submitted batch job 3319041\n"
     ]
    },
    {
     "name": "stdout",
     "output_type": "stream",
     "text": [
      "VCF_163\n"
     ]
    },
    {
     "name": "stderr",
     "output_type": "stream",
     "text": [
      "submitted: Submitted batch job 3319042\n",
      "submitted: Submitted batch job 3319043\n"
     ]
    },
    {
     "name": "stdout",
     "output_type": "stream",
     "text": [
      "VCF_164\n",
      "VCF_165\n"
     ]
    },
    {
     "name": "stderr",
     "output_type": "stream",
     "text": [
      "submitted: Submitted batch job 3319044\n"
     ]
    },
    {
     "name": "stdout",
     "output_type": "stream",
     "text": [
      "VCF_166\n"
     ]
    },
    {
     "name": "stderr",
     "output_type": "stream",
     "text": [
      "submitted: Submitted batch job 3319045\n"
     ]
    },
    {
     "name": "stdout",
     "output_type": "stream",
     "text": [
      "VCF_167\n"
     ]
    },
    {
     "name": "stderr",
     "output_type": "stream",
     "text": [
      "submitted: Submitted batch job 3319046\n"
     ]
    },
    {
     "name": "stdout",
     "output_type": "stream",
     "text": [
      "VCF_168\n"
     ]
    },
    {
     "name": "stderr",
     "output_type": "stream",
     "text": [
      "submitted: Submitted batch job 3319047\n"
     ]
    },
    {
     "name": "stdout",
     "output_type": "stream",
     "text": [
      "VCF_169\n"
     ]
    },
    {
     "name": "stderr",
     "output_type": "stream",
     "text": [
      "submitted: Submitted batch job 3319048\n"
     ]
    },
    {
     "name": "stdout",
     "output_type": "stream",
     "text": [
      "VCF_170\n"
     ]
    },
    {
     "name": "stderr",
     "output_type": "stream",
     "text": [
      "submitted: Submitted batch job 3319049\n"
     ]
    },
    {
     "name": "stdout",
     "output_type": "stream",
     "text": [
      "VCF_171\n"
     ]
    },
    {
     "name": "stderr",
     "output_type": "stream",
     "text": [
      "submitted: Submitted batch job 3319050\n",
      "submitted: Submitted batch job 3319051\n"
     ]
    },
    {
     "name": "stdout",
     "output_type": "stream",
     "text": [
      "VCF_172\n",
      "VCF_173\n"
     ]
    },
    {
     "name": "stderr",
     "output_type": "stream",
     "text": [
      "submitted: Submitted batch job 3319052\n"
     ]
    },
    {
     "name": "stdout",
     "output_type": "stream",
     "text": [
      "VCF_174\n"
     ]
    },
    {
     "name": "stderr",
     "output_type": "stream",
     "text": [
      "submitted: Submitted batch job 3319053\n"
     ]
    },
    {
     "name": "stdout",
     "output_type": "stream",
     "text": [
      "VCF_175\n"
     ]
    },
    {
     "name": "stderr",
     "output_type": "stream",
     "text": [
      "submitted: Submitted batch job 3319054\n"
     ]
    },
    {
     "name": "stdout",
     "output_type": "stream",
     "text": [
      "VCF_176\n"
     ]
    },
    {
     "name": "stderr",
     "output_type": "stream",
     "text": [
      "submitted: Submitted batch job 3319055\n"
     ]
    },
    {
     "name": "stdout",
     "output_type": "stream",
     "text": [
      "VCF_177\n"
     ]
    },
    {
     "name": "stderr",
     "output_type": "stream",
     "text": [
      "submitted: Submitted batch job 3319056\n",
      "submitted: Submitted batch job 3319057\n"
     ]
    },
    {
     "name": "stdout",
     "output_type": "stream",
     "text": [
      "VCF_178\n",
      "VCF_179\n"
     ]
    },
    {
     "name": "stderr",
     "output_type": "stream",
     "text": [
      "submitted: Submitted batch job 3319058\n"
     ]
    },
    {
     "name": "stdout",
     "output_type": "stream",
     "text": [
      "VCF_180\n"
     ]
    },
    {
     "name": "stderr",
     "output_type": "stream",
     "text": [
      "submitted: Submitted batch job 3319059\n"
     ]
    },
    {
     "name": "stdout",
     "output_type": "stream",
     "text": [
      "VCF_181\n"
     ]
    },
    {
     "name": "stderr",
     "output_type": "stream",
     "text": [
      "submitted: Submitted batch job 3319060\n"
     ]
    },
    {
     "name": "stdout",
     "output_type": "stream",
     "text": [
      "VCF_182\n"
     ]
    },
    {
     "name": "stderr",
     "output_type": "stream",
     "text": [
      "submitted: Submitted batch job 3319061\n"
     ]
    },
    {
     "name": "stdout",
     "output_type": "stream",
     "text": [
      "VCF_183\n"
     ]
    },
    {
     "name": "stderr",
     "output_type": "stream",
     "text": [
      "submitted: Submitted batch job 3319062\n"
     ]
    },
    {
     "name": "stdout",
     "output_type": "stream",
     "text": [
      "VCF_184\n"
     ]
    },
    {
     "name": "stderr",
     "output_type": "stream",
     "text": [
      "submitted: Submitted batch job 3319063\n"
     ]
    },
    {
     "name": "stdout",
     "output_type": "stream",
     "text": [
      "VCF_185\n"
     ]
    },
    {
     "name": "stderr",
     "output_type": "stream",
     "text": [
      "submitted: Submitted batch job 3319064\n"
     ]
    },
    {
     "name": "stdout",
     "output_type": "stream",
     "text": [
      "VCF_186\n"
     ]
    },
    {
     "name": "stderr",
     "output_type": "stream",
     "text": [
      "submitted: Submitted batch job 3319065\n",
      "submitted: Submitted batch job 3319066\n"
     ]
    },
    {
     "name": "stdout",
     "output_type": "stream",
     "text": [
      "VCF_187\n",
      "VCF_188\n"
     ]
    },
    {
     "name": "stderr",
     "output_type": "stream",
     "text": [
      "submitted: Submitted batch job 3319067\n"
     ]
    },
    {
     "name": "stdout",
     "output_type": "stream",
     "text": [
      "VCF_189\n"
     ]
    },
    {
     "name": "stderr",
     "output_type": "stream",
     "text": [
      "submitted: Submitted batch job 3319068\n"
     ]
    },
    {
     "name": "stdout",
     "output_type": "stream",
     "text": [
      "VCF_190\n"
     ]
    },
    {
     "name": "stderr",
     "output_type": "stream",
     "text": [
      "submitted: Submitted batch job 3319069\n"
     ]
    },
    {
     "name": "stdout",
     "output_type": "stream",
     "text": [
      "VCF_191\n"
     ]
    },
    {
     "name": "stderr",
     "output_type": "stream",
     "text": [
      "submitted: Submitted batch job 3319070\n"
     ]
    },
    {
     "name": "stdout",
     "output_type": "stream",
     "text": [
      "VCF_192\n"
     ]
    },
    {
     "name": "stderr",
     "output_type": "stream",
     "text": [
      "submitted: Submitted batch job 3319071\n"
     ]
    },
    {
     "name": "stdout",
     "output_type": "stream",
     "text": [
      "VCF_193\n"
     ]
    },
    {
     "name": "stderr",
     "output_type": "stream",
     "text": [
      "submitted: Submitted batch job 3319072\n"
     ]
    },
    {
     "name": "stdout",
     "output_type": "stream",
     "text": [
      "VCF_194\n"
     ]
    },
    {
     "name": "stderr",
     "output_type": "stream",
     "text": [
      "submitted: Submitted batch job 3319073\n"
     ]
    },
    {
     "name": "stdout",
     "output_type": "stream",
     "text": [
      "VCF_195\n"
     ]
    },
    {
     "name": "stderr",
     "output_type": "stream",
     "text": [
      "submitted: Submitted batch job 3319074\n",
      "submitted: Submitted batch job 3319075\n"
     ]
    },
    {
     "name": "stdout",
     "output_type": "stream",
     "text": [
      "VCF_196\n",
      "VCF_197\n"
     ]
    },
    {
     "name": "stderr",
     "output_type": "stream",
     "text": [
      "submitted: Submitted batch job 3319076\n"
     ]
    },
    {
     "name": "stdout",
     "output_type": "stream",
     "text": [
      "VCF_198\n"
     ]
    },
    {
     "name": "stderr",
     "output_type": "stream",
     "text": [
      "submitted: Submitted batch job 3319077\n"
     ]
    },
    {
     "name": "stdout",
     "output_type": "stream",
     "text": [
      "VCF_199\n"
     ]
    },
    {
     "name": "stderr",
     "output_type": "stream",
     "text": [
      "submitted: Submitted batch job 3319078\n"
     ]
    },
    {
     "name": "stdout",
     "output_type": "stream",
     "text": [
      "VCF_200\n"
     ]
    },
    {
     "name": "stderr",
     "output_type": "stream",
     "text": [
      "submitted: Submitted batch job 3319079\n"
     ]
    },
    {
     "name": "stdout",
     "output_type": "stream",
     "text": [
      "VCF_201\n"
     ]
    },
    {
     "name": "stderr",
     "output_type": "stream",
     "text": [
      "submitted: Submitted batch job 3319080\n"
     ]
    },
    {
     "name": "stdout",
     "output_type": "stream",
     "text": [
      "VCF_202\n"
     ]
    },
    {
     "name": "stderr",
     "output_type": "stream",
     "text": [
      "submitted: Submitted batch job 3319081\n"
     ]
    },
    {
     "name": "stdout",
     "output_type": "stream",
     "text": [
      "VCF_203\n"
     ]
    },
    {
     "name": "stderr",
     "output_type": "stream",
     "text": [
      "submitted: Submitted batch job 3319082\n",
      "submitted: Submitted batch job 3319083\n"
     ]
    },
    {
     "name": "stdout",
     "output_type": "stream",
     "text": [
      "VCF_204\n",
      "VCF_205\n"
     ]
    },
    {
     "name": "stderr",
     "output_type": "stream",
     "text": [
      "submitted: Submitted batch job 3319084\n",
      "submitted: Submitted batch job 3319085\n"
     ]
    },
    {
     "name": "stdout",
     "output_type": "stream",
     "text": [
      "VCF_206\n",
      "VCF_207\n"
     ]
    },
    {
     "name": "stderr",
     "output_type": "stream",
     "text": [
      "submitted: Submitted batch job 3319086\n"
     ]
    },
    {
     "name": "stdout",
     "output_type": "stream",
     "text": [
      "VCF_208\n"
     ]
    },
    {
     "name": "stderr",
     "output_type": "stream",
     "text": [
      "submitted: Submitted batch job 3319087\n"
     ]
    },
    {
     "name": "stdout",
     "output_type": "stream",
     "text": [
      "VCF_209\n"
     ]
    },
    {
     "name": "stderr",
     "output_type": "stream",
     "text": [
      "submitted: Submitted batch job 3319088\n"
     ]
    },
    {
     "name": "stdout",
     "output_type": "stream",
     "text": [
      "VCF_210\n"
     ]
    },
    {
     "name": "stderr",
     "output_type": "stream",
     "text": [
      "submitted: Submitted batch job 3319089\n"
     ]
    },
    {
     "name": "stdout",
     "output_type": "stream",
     "text": [
      "VCF_211\n"
     ]
    },
    {
     "name": "stderr",
     "output_type": "stream",
     "text": [
      "submitted: Submitted batch job 3319090\n"
     ]
    },
    {
     "name": "stdout",
     "output_type": "stream",
     "text": [
      "VCF_212\n"
     ]
    },
    {
     "name": "stderr",
     "output_type": "stream",
     "text": [
      "submitted: Submitted batch job 3319091\n"
     ]
    },
    {
     "name": "stdout",
     "output_type": "stream",
     "text": [
      "VCF_213\n"
     ]
    },
    {
     "name": "stderr",
     "output_type": "stream",
     "text": [
      "submitted: Submitted batch job 3319092\n"
     ]
    },
    {
     "name": "stdout",
     "output_type": "stream",
     "text": [
      "VCF_214\n"
     ]
    },
    {
     "name": "stderr",
     "output_type": "stream",
     "text": [
      "submitted: Submitted batch job 3319093\n"
     ]
    },
    {
     "name": "stdout",
     "output_type": "stream",
     "text": [
      "VCF_215\n"
     ]
    },
    {
     "name": "stderr",
     "output_type": "stream",
     "text": [
      "submitted: Submitted batch job 3319094\n",
      "submitted: Submitted batch job 3319095\n"
     ]
    },
    {
     "name": "stdout",
     "output_type": "stream",
     "text": [
      "VCF_216\n",
      "VCF_217\n"
     ]
    },
    {
     "name": "stderr",
     "output_type": "stream",
     "text": [
      "submitted: Submitted batch job 3319096\n",
      "submitted: Submitted batch job 3319097\n",
      "submitted: Submitted batch job 3319098\n"
     ]
    },
    {
     "name": "stdout",
     "output_type": "stream",
     "text": [
      "VCF_218\n",
      "VCF_219\n",
      "VCF_220\n"
     ]
    },
    {
     "name": "stderr",
     "output_type": "stream",
     "text": [
      "submitted: Submitted batch job 3319099\n",
      "submitted: Submitted batch job 3319100\n"
     ]
    },
    {
     "name": "stdout",
     "output_type": "stream",
     "text": [
      "VCF_221\n",
      "VCF_222\n"
     ]
    },
    {
     "name": "stderr",
     "output_type": "stream",
     "text": [
      "submitted: Submitted batch job 3319101\n",
      "submitted: Submitted batch job 3319102\n"
     ]
    },
    {
     "name": "stdout",
     "output_type": "stream",
     "text": [
      "VCF_223\n",
      "VCF_224\n"
     ]
    },
    {
     "name": "stderr",
     "output_type": "stream",
     "text": [
      "submitted: Submitted batch job 3319103\n",
      "submitted: Submitted batch job 3319104\n",
      "submitted: Submitted batch job 3319105\n"
     ]
    },
    {
     "name": "stdout",
     "output_type": "stream",
     "text": [
      "VCF_225\n",
      "VCF_226\n",
      "VCF_227\n"
     ]
    },
    {
     "name": "stderr",
     "output_type": "stream",
     "text": [
      "submitted: Submitted batch job 3319106\n",
      "submitted: Submitted batch job 3319107\n"
     ]
    },
    {
     "name": "stdout",
     "output_type": "stream",
     "text": [
      "VCF_228\n",
      "VCF_229\n"
     ]
    },
    {
     "name": "stderr",
     "output_type": "stream",
     "text": [
      "submitted: Submitted batch job 3319108\n",
      "submitted: Submitted batch job 3319109\n",
      "submitted: Submitted batch job 3319110\n"
     ]
    },
    {
     "name": "stdout",
     "output_type": "stream",
     "text": [
      "VCF_230\n",
      "VCF_231\n",
      "VCF_232\n"
     ]
    },
    {
     "name": "stderr",
     "output_type": "stream",
     "text": [
      "submitted: Submitted batch job 3319111\n",
      "submitted: Submitted batch job 3319112\n"
     ]
    },
    {
     "name": "stdout",
     "output_type": "stream",
     "text": [
      "VCF_233\n",
      "VCF_234\n"
     ]
    },
    {
     "name": "stderr",
     "output_type": "stream",
     "text": [
      "submitted: Submitted batch job 3319113\n"
     ]
    },
    {
     "name": "stdout",
     "output_type": "stream",
     "text": [
      "VCF_235\n"
     ]
    },
    {
     "name": "stderr",
     "output_type": "stream",
     "text": [
      "submitted: Submitted batch job 3319114\n",
      "submitted: Submitted batch job 3319115\n",
      "submitted: Submitted batch job 3319116\n"
     ]
    },
    {
     "name": "stdout",
     "output_type": "stream",
     "text": [
      "VCF_236\n",
      "VCF_237\n",
      "VCF_238\n"
     ]
    },
    {
     "name": "stderr",
     "output_type": "stream",
     "text": [
      "submitted: Submitted batch job 3319117\n",
      "submitted: Submitted batch job 3319118\n",
      "submitted: Submitted batch job 3319119\n"
     ]
    },
    {
     "name": "stdout",
     "output_type": "stream",
     "text": [
      "VCF_239\n",
      "VCF_240\n",
      "VCF_241\n"
     ]
    },
    {
     "name": "stderr",
     "output_type": "stream",
     "text": [
      "submitted: Submitted batch job 3319120\n",
      "submitted: Submitted batch job 3319121\n",
      "submitted: Submitted batch job 3319122\n"
     ]
    },
    {
     "name": "stdout",
     "output_type": "stream",
     "text": [
      "VCF_242\n",
      "VCF_243\n",
      "VCF_244\n"
     ]
    },
    {
     "name": "stderr",
     "output_type": "stream",
     "text": [
      "submitted: Submitted batch job 3319123\n",
      "submitted: Submitted batch job 3319124\n",
      "submitted: Submitted batch job 3319125\n"
     ]
    },
    {
     "name": "stdout",
     "output_type": "stream",
     "text": [
      "VCF_245\n",
      "VCF_246\n",
      "VCF_247\n"
     ]
    },
    {
     "name": "stderr",
     "output_type": "stream",
     "text": [
      "submitted: Submitted batch job 3319126\n",
      "submitted: Submitted batch job 3319127\n",
      "submitted: Submitted batch job 3319128\n"
     ]
    },
    {
     "name": "stdout",
     "output_type": "stream",
     "text": [
      "VCF_248\n",
      "VCF_249\n",
      "VCF_250\n"
     ]
    },
    {
     "name": "stderr",
     "output_type": "stream",
     "text": [
      "submitted: Submitted batch job 3319129\n",
      "submitted: Submitted batch job 3319130\n",
      "submitted: Submitted batch job 3319131\n"
     ]
    },
    {
     "name": "stdout",
     "output_type": "stream",
     "text": [
      "VCF_251\n",
      "VCF_252\n",
      "VCF_253\n"
     ]
    },
    {
     "name": "stderr",
     "output_type": "stream",
     "text": [
      "submitted: Submitted batch job 3319132\n",
      "submitted: Submitted batch job 3319133\n",
      "submitted: Submitted batch job 3319134\n"
     ]
    },
    {
     "name": "stdout",
     "output_type": "stream",
     "text": [
      "VCF_254\n",
      "VCF_255\n",
      "VCF_256\n"
     ]
    },
    {
     "name": "stderr",
     "output_type": "stream",
     "text": [
      "submitted: Submitted batch job 3319135\n",
      "submitted: Submitted batch job 3319136\n",
      "submitted: Submitted batch job 3319137\n"
     ]
    },
    {
     "name": "stdout",
     "output_type": "stream",
     "text": [
      "VCF_257\n",
      "VCF_258\n",
      "VCF_259\n"
     ]
    },
    {
     "name": "stderr",
     "output_type": "stream",
     "text": [
      "submitted: Submitted batch job 3319138\n"
     ]
    },
    {
     "name": "stdout",
     "output_type": "stream",
     "text": [
      "VCF_260\n"
     ]
    },
    {
     "name": "stderr",
     "output_type": "stream",
     "text": [
      "submitted: Submitted batch job 3319139\n"
     ]
    },
    {
     "name": "stdout",
     "output_type": "stream",
     "text": [
      "VCF_261\n"
     ]
    },
    {
     "name": "stderr",
     "output_type": "stream",
     "text": [
      "submitted: Submitted batch job 3319140\n"
     ]
    },
    {
     "name": "stdout",
     "output_type": "stream",
     "text": [
      "VCF_262\n"
     ]
    },
    {
     "name": "stderr",
     "output_type": "stream",
     "text": [
      "submitted: Submitted batch job 3319141\n"
     ]
    },
    {
     "name": "stdout",
     "output_type": "stream",
     "text": [
      "VCF_263\n"
     ]
    },
    {
     "name": "stderr",
     "output_type": "stream",
     "text": [
      "submitted: Submitted batch job 3319142\n",
      "submitted: Submitted batch job 3319143\n",
      "submitted: Submitted batch job 3319144\n"
     ]
    },
    {
     "name": "stdout",
     "output_type": "stream",
     "text": [
      "VCF_264\n",
      "VCF_265\n",
      "VCF_266\n"
     ]
    },
    {
     "name": "stderr",
     "output_type": "stream",
     "text": [
      "submitted: Submitted batch job 3319145\n"
     ]
    },
    {
     "name": "stdout",
     "output_type": "stream",
     "text": [
      "VCF_267\n"
     ]
    },
    {
     "name": "stderr",
     "output_type": "stream",
     "text": [
      "submitted: Submitted batch job 3319146\n",
      "submitted: Submitted batch job 3319147\n",
      "submitted: Submitted batch job 3319148\n"
     ]
    },
    {
     "name": "stdout",
     "output_type": "stream",
     "text": [
      "VCF_268\n",
      "VCF_269\n",
      "VCF_270\n"
     ]
    },
    {
     "name": "stderr",
     "output_type": "stream",
     "text": [
      "submitted: Submitted batch job 3319149\n"
     ]
    },
    {
     "name": "stdout",
     "output_type": "stream",
     "text": [
      "VCF_271\n"
     ]
    },
    {
     "name": "stderr",
     "output_type": "stream",
     "text": [
      "submitted: Submitted batch job 3319150\n"
     ]
    },
    {
     "name": "stdout",
     "output_type": "stream",
     "text": [
      "VCF_272\n"
     ]
    },
    {
     "name": "stderr",
     "output_type": "stream",
     "text": [
      "submitted: Submitted batch job 3319151\n"
     ]
    },
    {
     "name": "stdout",
     "output_type": "stream",
     "text": [
      "VCF_273\n"
     ]
    },
    {
     "name": "stderr",
     "output_type": "stream",
     "text": [
      "submitted: Submitted batch job 3319152\n"
     ]
    },
    {
     "name": "stdout",
     "output_type": "stream",
     "text": [
      "VCF_274\n"
     ]
    },
    {
     "name": "stderr",
     "output_type": "stream",
     "text": [
      "submitted: Submitted batch job 3319154\n"
     ]
    },
    {
     "name": "stdout",
     "output_type": "stream",
     "text": [
      "VCF_275\n"
     ]
    },
    {
     "name": "stderr",
     "output_type": "stream",
     "text": [
      "submitted: Submitted batch job 3319164\n"
     ]
    },
    {
     "name": "stdout",
     "output_type": "stream",
     "text": [
      "VCF_276\n"
     ]
    },
    {
     "name": "stderr",
     "output_type": "stream",
     "text": [
      "submitted: Submitted batch job 3319165\n",
      "submitted: Submitted batch job 3319166\n",
      "submitted: Submitted batch job 3319167\n"
     ]
    },
    {
     "name": "stdout",
     "output_type": "stream",
     "text": [
      "VCF_277\n",
      "VCF_278\n",
      "VCF_279\n"
     ]
    },
    {
     "name": "stderr",
     "output_type": "stream",
     "text": [
      "submitted: Submitted batch job 3319168\n",
      "submitted: Submitted batch job 3319169\n",
      "submitted: Submitted batch job 3319170\n"
     ]
    },
    {
     "name": "stdout",
     "output_type": "stream",
     "text": [
      "VCF_280\n",
      "VCF_281\n",
      "VCF_282\n"
     ]
    },
    {
     "name": "stderr",
     "output_type": "stream",
     "text": [
      "submitted: Submitted batch job 3319171\n",
      "submitted: Submitted batch job 3319172\n"
     ]
    },
    {
     "name": "stdout",
     "output_type": "stream",
     "text": [
      "VCF_283\n",
      "VCF_284\n"
     ]
    },
    {
     "name": "stderr",
     "output_type": "stream",
     "text": [
      "submitted: Submitted batch job 3319173\n",
      "submitted: Submitted batch job 3319174\n",
      "submitted: Submitted batch job 3319175\n"
     ]
    },
    {
     "name": "stdout",
     "output_type": "stream",
     "text": [
      "VCF_285\n",
      "VCF_286\n",
      "VCF_287\n"
     ]
    },
    {
     "name": "stderr",
     "output_type": "stream",
     "text": [
      "submitted: Submitted batch job 3319176\n",
      "submitted: Submitted batch job 3319177\n",
      "submitted: Submitted batch job 3319178\n"
     ]
    },
    {
     "name": "stdout",
     "output_type": "stream",
     "text": [
      "VCF_288\n",
      "VCF_289\n",
      "VCF_290\n"
     ]
    },
    {
     "name": "stderr",
     "output_type": "stream",
     "text": [
      "submitted: Submitted batch job 3319179\n"
     ]
    },
    {
     "name": "stdout",
     "output_type": "stream",
     "text": [
      "VCF_291\n"
     ]
    },
    {
     "name": "stderr",
     "output_type": "stream",
     "text": [
      "submitted: Submitted batch job 3319180\n",
      "submitted: Submitted batch job 3319181\n",
      "submitted: Submitted batch job 3319182\n"
     ]
    },
    {
     "name": "stdout",
     "output_type": "stream",
     "text": [
      "VCF_292\n",
      "VCF_293\n",
      "VCF_294\n"
     ]
    },
    {
     "name": "stderr",
     "output_type": "stream",
     "text": [
      "submitted: Submitted batch job 3319183\n",
      "submitted: Submitted batch job 3319184\n",
      "submitted: Submitted batch job 3319185\n"
     ]
    },
    {
     "name": "stdout",
     "output_type": "stream",
     "text": [
      "VCF_295\n",
      "VCF_296\n",
      "VCF_297\n"
     ]
    },
    {
     "name": "stderr",
     "output_type": "stream",
     "text": [
      "submitted: Submitted batch job 3319186\n",
      "submitted: Submitted batch job 3319187\n"
     ]
    },
    {
     "name": "stdout",
     "output_type": "stream",
     "text": [
      "VCF_298\n",
      "VCF_299\n"
     ]
    },
    {
     "name": "stderr",
     "output_type": "stream",
     "text": [
      "submitted: Submitted batch job 3319188\n",
      "submitted: Submitted batch job 3319189\n",
      "submitted: Submitted batch job 3319190\n"
     ]
    },
    {
     "name": "stdout",
     "output_type": "stream",
     "text": [
      "VCF_300\n",
      "VCF_301\n",
      "VCF_302\n"
     ]
    },
    {
     "name": "stderr",
     "output_type": "stream",
     "text": [
      "submitted: Submitted batch job 3319191\n",
      "submitted: Submitted batch job 3319192\n",
      "submitted: Submitted batch job 3319193\n"
     ]
    },
    {
     "name": "stdout",
     "output_type": "stream",
     "text": [
      "VCF_303\n",
      "VCF_304\n",
      "VCF_305\n"
     ]
    },
    {
     "name": "stderr",
     "output_type": "stream",
     "text": [
      "submitted: Submitted batch job 3319194\n"
     ]
    },
    {
     "name": "stdout",
     "output_type": "stream",
     "text": [
      "VCF_306\n"
     ]
    },
    {
     "name": "stderr",
     "output_type": "stream",
     "text": [
      "submitted: Submitted batch job 3319195\n",
      "submitted: Submitted batch job 3319196\n"
     ]
    },
    {
     "name": "stdout",
     "output_type": "stream",
     "text": [
      "VCF_307\n",
      "VCF_308\n"
     ]
    },
    {
     "name": "stderr",
     "output_type": "stream",
     "text": [
      "submitted: Submitted batch job 3319197\n",
      "submitted: Submitted batch job 3319198\n"
     ]
    },
    {
     "name": "stdout",
     "output_type": "stream",
     "text": [
      "VCF_309\n",
      "VCF_310\n"
     ]
    },
    {
     "name": "stderr",
     "output_type": "stream",
     "text": [
      "submitted: Submitted batch job 3319199\n",
      "submitted: Submitted batch job 3319200\n"
     ]
    },
    {
     "name": "stdout",
     "output_type": "stream",
     "text": [
      "VCF_311\n",
      "VCF_312\n"
     ]
    },
    {
     "name": "stderr",
     "output_type": "stream",
     "text": [
      "submitted: Submitted batch job 3319201\n"
     ]
    },
    {
     "name": "stdout",
     "output_type": "stream",
     "text": [
      "VCF_313\n"
     ]
    },
    {
     "name": "stderr",
     "output_type": "stream",
     "text": [
      "submitted: Submitted batch job 3319202\n",
      "submitted: Submitted batch job 3319203\n"
     ]
    },
    {
     "name": "stdout",
     "output_type": "stream",
     "text": [
      "VCF_314\n",
      "VCF_315\n"
     ]
    },
    {
     "name": "stderr",
     "output_type": "stream",
     "text": [
      "submitted: Submitted batch job 3319204\n"
     ]
    },
    {
     "name": "stdout",
     "output_type": "stream",
     "text": [
      "VCF_316\n"
     ]
    },
    {
     "name": "stderr",
     "output_type": "stream",
     "text": [
      "submitted: Submitted batch job 3319205\n",
      "submitted: Submitted batch job 3319206\n"
     ]
    },
    {
     "name": "stdout",
     "output_type": "stream",
     "text": [
      "VCF_317\n",
      "VCF_318\n"
     ]
    },
    {
     "name": "stderr",
     "output_type": "stream",
     "text": [
      "submitted: Submitted batch job 3319207\n"
     ]
    },
    {
     "name": "stdout",
     "output_type": "stream",
     "text": [
      "VCF_319\n"
     ]
    },
    {
     "name": "stderr",
     "output_type": "stream",
     "text": [
      "submitted: Submitted batch job 3319208\n",
      "submitted: Submitted batch job 3319209\n"
     ]
    },
    {
     "name": "stdout",
     "output_type": "stream",
     "text": [
      "VCF_320\n",
      "VCF_321\n"
     ]
    },
    {
     "name": "stderr",
     "output_type": "stream",
     "text": [
      "submitted: Submitted batch job 3319210\n"
     ]
    },
    {
     "name": "stdout",
     "output_type": "stream",
     "text": [
      "VCF_322\n"
     ]
    },
    {
     "name": "stderr",
     "output_type": "stream",
     "text": [
      "submitted: Submitted batch job 3319211\n",
      "submitted: Submitted batch job 3319212\n"
     ]
    },
    {
     "name": "stdout",
     "output_type": "stream",
     "text": [
      "VCF_323\n",
      "VCF_324\n"
     ]
    },
    {
     "name": "stderr",
     "output_type": "stream",
     "text": [
      "submitted: Submitted batch job 3319213\n"
     ]
    },
    {
     "name": "stdout",
     "output_type": "stream",
     "text": [
      "VCF_325\n"
     ]
    },
    {
     "name": "stderr",
     "output_type": "stream",
     "text": [
      "submitted: Submitted batch job 3319214\n"
     ]
    },
    {
     "name": "stdout",
     "output_type": "stream",
     "text": [
      "VCF_326\n"
     ]
    },
    {
     "name": "stderr",
     "output_type": "stream",
     "text": [
      "submitted: Submitted batch job 3319215\n",
      "submitted: Submitted batch job 3319216\n"
     ]
    },
    {
     "name": "stdout",
     "output_type": "stream",
     "text": [
      "VCF_327\n",
      "VCF_328\n"
     ]
    },
    {
     "name": "stderr",
     "output_type": "stream",
     "text": [
      "submitted: Submitted batch job 3319217\n"
     ]
    },
    {
     "name": "stdout",
     "output_type": "stream",
     "text": [
      "VCF_329\n"
     ]
    },
    {
     "name": "stderr",
     "output_type": "stream",
     "text": [
      "submitted: Submitted batch job 3319218\n"
     ]
    },
    {
     "name": "stdout",
     "output_type": "stream",
     "text": [
      "VCF_330\n"
     ]
    },
    {
     "name": "stderr",
     "output_type": "stream",
     "text": [
      "submitted: Submitted batch job 3319219\n"
     ]
    },
    {
     "name": "stdout",
     "output_type": "stream",
     "text": [
      "VCF_331\n"
     ]
    },
    {
     "name": "stderr",
     "output_type": "stream",
     "text": [
      "submitted: Submitted batch job 3319220\n"
     ]
    },
    {
     "name": "stdout",
     "output_type": "stream",
     "text": [
      "VCF_332\n"
     ]
    },
    {
     "name": "stderr",
     "output_type": "stream",
     "text": [
      "submitted: Submitted batch job 3319221\n"
     ]
    },
    {
     "name": "stdout",
     "output_type": "stream",
     "text": [
      "VCF_333\n"
     ]
    },
    {
     "name": "stderr",
     "output_type": "stream",
     "text": [
      "submitted: Submitted batch job 3319222\n"
     ]
    },
    {
     "name": "stdout",
     "output_type": "stream",
     "text": [
      "VCF_334\n"
     ]
    },
    {
     "name": "stderr",
     "output_type": "stream",
     "text": [
      "submitted: Submitted batch job 3319223\n"
     ]
    },
    {
     "name": "stdout",
     "output_type": "stream",
     "text": [
      "VCF_335\n"
     ]
    },
    {
     "name": "stderr",
     "output_type": "stream",
     "text": [
      "submitted: Submitted batch job 3319224\n"
     ]
    },
    {
     "name": "stdout",
     "output_type": "stream",
     "text": [
      "VCF_336\n"
     ]
    },
    {
     "name": "stderr",
     "output_type": "stream",
     "text": [
      "submitted: Submitted batch job 3319225\n"
     ]
    },
    {
     "name": "stdout",
     "output_type": "stream",
     "text": [
      "VCF_337\n"
     ]
    },
    {
     "name": "stderr",
     "output_type": "stream",
     "text": [
      "submitted: Submitted batch job 3319226\n"
     ]
    },
    {
     "name": "stdout",
     "output_type": "stream",
     "text": [
      "VCF_338\n"
     ]
    },
    {
     "name": "stderr",
     "output_type": "stream",
     "text": [
      "submitted: Submitted batch job 3319227\n"
     ]
    },
    {
     "name": "stdout",
     "output_type": "stream",
     "text": [
      "VCF_339\n"
     ]
    },
    {
     "name": "stderr",
     "output_type": "stream",
     "text": [
      "submitted: Submitted batch job 3319228\n"
     ]
    },
    {
     "name": "stdout",
     "output_type": "stream",
     "text": [
      "VCF_340\n"
     ]
    },
    {
     "name": "stderr",
     "output_type": "stream",
     "text": [
      "submitted: Submitted batch job 3319229\n"
     ]
    },
    {
     "name": "stdout",
     "output_type": "stream",
     "text": [
      "VCF_341\n"
     ]
    },
    {
     "name": "stderr",
     "output_type": "stream",
     "text": [
      "submitted: Submitted batch job 3319230\n"
     ]
    },
    {
     "name": "stdout",
     "output_type": "stream",
     "text": [
      "VCF_342\n"
     ]
    },
    {
     "name": "stderr",
     "output_type": "stream",
     "text": [
      "submitted: Submitted batch job 3319231\n"
     ]
    },
    {
     "name": "stdout",
     "output_type": "stream",
     "text": [
      "VCF_343\n"
     ]
    },
    {
     "name": "stderr",
     "output_type": "stream",
     "text": [
      "submitted: Submitted batch job 3319232\n"
     ]
    },
    {
     "name": "stdout",
     "output_type": "stream",
     "text": [
      "VCF_344\n"
     ]
    },
    {
     "name": "stderr",
     "output_type": "stream",
     "text": [
      "submitted: Submitted batch job 3319233\n"
     ]
    },
    {
     "name": "stdout",
     "output_type": "stream",
     "text": [
      "VCF_345\n"
     ]
    },
    {
     "name": "stderr",
     "output_type": "stream",
     "text": [
      "submitted: Submitted batch job 3319234\n"
     ]
    },
    {
     "name": "stdout",
     "output_type": "stream",
     "text": [
      "VCF_346\n"
     ]
    },
    {
     "name": "stderr",
     "output_type": "stream",
     "text": [
      "submitted: Submitted batch job 3319235\n"
     ]
    },
    {
     "name": "stdout",
     "output_type": "stream",
     "text": [
      "VCF_347\n"
     ]
    },
    {
     "name": "stderr",
     "output_type": "stream",
     "text": [
      "submitted: Submitted batch job 3319236\n",
      "submitted: Submitted batch job 3319237\n",
      "submitted: Submitted batch job 3319238\n"
     ]
    },
    {
     "name": "stdout",
     "output_type": "stream",
     "text": [
      "VCF_348\n",
      "VCF_349\n",
      "VCF_350\n"
     ]
    },
    {
     "name": "stderr",
     "output_type": "stream",
     "text": [
      "submitted: Submitted batch job 3319239\n",
      "submitted: Submitted batch job 3319240\n"
     ]
    },
    {
     "name": "stdout",
     "output_type": "stream",
     "text": [
      "VCF_351\n",
      "VCF_352\n"
     ]
    },
    {
     "name": "stderr",
     "output_type": "stream",
     "text": [
      "submitted: Submitted batch job 3319241\n",
      "submitted: Submitted batch job 3319242\n",
      "submitted: Submitted batch job 3319243\n"
     ]
    },
    {
     "name": "stdout",
     "output_type": "stream",
     "text": [
      "VCF_353\n",
      "VCF_354\n",
      "VCF_355\n"
     ]
    },
    {
     "name": "stderr",
     "output_type": "stream",
     "text": [
      "submitted: Submitted batch job 3319244\n",
      "submitted: Submitted batch job 3319245\n",
      "submitted: Submitted batch job 3319246\n"
     ]
    },
    {
     "name": "stdout",
     "output_type": "stream",
     "text": [
      "VCF_356\n",
      "VCF_357\n",
      "VCF_358\n"
     ]
    },
    {
     "name": "stderr",
     "output_type": "stream",
     "text": [
      "submitted: Submitted batch job 3319247\n",
      "submitted: Submitted batch job 3319248\n",
      "submitted: Submitted batch job 3319249\n"
     ]
    },
    {
     "name": "stdout",
     "output_type": "stream",
     "text": [
      "VCF_359\n",
      "VCF_360\n",
      "VCF_361\n"
     ]
    },
    {
     "name": "stderr",
     "output_type": "stream",
     "text": [
      "submitted: Submitted batch job 3319250\n",
      "submitted: Submitted batch job 3319251\n",
      "submitted: Submitted batch job 3319252\n"
     ]
    },
    {
     "name": "stdout",
     "output_type": "stream",
     "text": [
      "VCF_362\n",
      "VCF_363\n",
      "VCF_364\n"
     ]
    },
    {
     "name": "stderr",
     "output_type": "stream",
     "text": [
      "submitted: Submitted batch job 3319253\n",
      "submitted: Submitted batch job 3319254\n",
      "submitted: Submitted batch job 3319255\n"
     ]
    },
    {
     "name": "stdout",
     "output_type": "stream",
     "text": [
      "VCF_365\n",
      "VCF_366\n",
      "VCF_367\n"
     ]
    },
    {
     "name": "stderr",
     "output_type": "stream",
     "text": [
      "submitted: Submitted batch job 3319256\n",
      "submitted: Submitted batch job 3319257\n"
     ]
    },
    {
     "name": "stdout",
     "output_type": "stream",
     "text": [
      "VCF_368\n",
      "VCF_369\n"
     ]
    },
    {
     "name": "stderr",
     "output_type": "stream",
     "text": [
      "submitted: Submitted batch job 3319258\n"
     ]
    },
    {
     "name": "stdout",
     "output_type": "stream",
     "text": [
      "VCF_370\n"
     ]
    },
    {
     "name": "stderr",
     "output_type": "stream",
     "text": [
      "submitted: Submitted batch job 3319259\n"
     ]
    },
    {
     "name": "stdout",
     "output_type": "stream",
     "text": [
      "VCF_371\n"
     ]
    },
    {
     "name": "stderr",
     "output_type": "stream",
     "text": [
      "submitted: Submitted batch job 3319260\n",
      "submitted: Submitted batch job 3319261\n",
      "submitted: Submitted batch job 3319262\n"
     ]
    },
    {
     "name": "stdout",
     "output_type": "stream",
     "text": [
      "VCF_372\n",
      "VCF_373\n",
      "VCF_374\n"
     ]
    },
    {
     "name": "stderr",
     "output_type": "stream",
     "text": [
      "submitted: Submitted batch job 3319263\n",
      "submitted: Submitted batch job 3319264\n",
      "submitted: Submitted batch job 3319265\n"
     ]
    },
    {
     "name": "stdout",
     "output_type": "stream",
     "text": [
      "VCF_375\n",
      "VCF_376\n",
      "VCF_377\n"
     ]
    },
    {
     "name": "stderr",
     "output_type": "stream",
     "text": [
      "submitted: Submitted batch job 3319266\n",
      "submitted: Submitted batch job 3319267\n"
     ]
    },
    {
     "name": "stdout",
     "output_type": "stream",
     "text": [
      "VCF_378\n",
      "VCF_379\n"
     ]
    },
    {
     "name": "stderr",
     "output_type": "stream",
     "text": [
      "submitted: Submitted batch job 3319268\n",
      "submitted: Submitted batch job 3319269\n",
      "submitted: Submitted batch job 3319270\n"
     ]
    },
    {
     "name": "stdout",
     "output_type": "stream",
     "text": [
      "VCF_380\n",
      "VCF_381\n",
      "VCF_382\n"
     ]
    },
    {
     "name": "stderr",
     "output_type": "stream",
     "text": [
      "submitted: Submitted batch job 3319271\n",
      "submitted: Submitted batch job 3319272\n",
      "submitted: Submitted batch job 3319273\n"
     ]
    },
    {
     "name": "stdout",
     "output_type": "stream",
     "text": [
      "VCF_383\n",
      "VCF_384\n",
      "VCF_385\n"
     ]
    },
    {
     "name": "stderr",
     "output_type": "stream",
     "text": [
      "submitted: Submitted batch job 3319274\n",
      "submitted: Submitted batch job 3319275\n"
     ]
    },
    {
     "name": "stdout",
     "output_type": "stream",
     "text": [
      "VCF_386\n",
      "VCF_387\n"
     ]
    },
    {
     "name": "stderr",
     "output_type": "stream",
     "text": [
      "submitted: Submitted batch job 3319276\n",
      "submitted: Submitted batch job 3319277\n",
      "submitted: Submitted batch job 3319278\n"
     ]
    },
    {
     "name": "stdout",
     "output_type": "stream",
     "text": [
      "VCF_388\n",
      "VCF_389\n",
      "VCF_390\n"
     ]
    },
    {
     "name": "stderr",
     "output_type": "stream",
     "text": [
      "submitted: Submitted batch job 3319279\n",
      "submitted: Submitted batch job 3319280\n",
      "submitted: Submitted batch job 3319281\n"
     ]
    },
    {
     "name": "stdout",
     "output_type": "stream",
     "text": [
      "VCF_391\n",
      "VCF_392\n",
      "VCF_393\n"
     ]
    },
    {
     "name": "stderr",
     "output_type": "stream",
     "text": [
      "submitted: Submitted batch job 3319282\n",
      "submitted: Submitted batch job 3319283\n"
     ]
    },
    {
     "name": "stdout",
     "output_type": "stream",
     "text": [
      "VCF_394\n",
      "VCF_395\n"
     ]
    },
    {
     "name": "stderr",
     "output_type": "stream",
     "text": [
      "submitted: Submitted batch job 3319284\n",
      "submitted: Submitted batch job 3319285\n",
      "submitted: Submitted batch job 3319286\n"
     ]
    },
    {
     "name": "stdout",
     "output_type": "stream",
     "text": [
      "VCF_396\n",
      "VCF_397\n",
      "VCF_398\n"
     ]
    },
    {
     "name": "stderr",
     "output_type": "stream",
     "text": [
      "submitted: Submitted batch job 3319287\n"
     ]
    },
    {
     "name": "stdout",
     "output_type": "stream",
     "text": [
      "VCF_399\n"
     ]
    },
    {
     "name": "stderr",
     "output_type": "stream",
     "text": [
      "submitted: Submitted batch job 3319288\n"
     ]
    },
    {
     "name": "stdout",
     "output_type": "stream",
     "text": [
      "VCF_400\n"
     ]
    },
    {
     "name": "stderr",
     "output_type": "stream",
     "text": [
      "submitted: Submitted batch job 3319289\n"
     ]
    },
    {
     "name": "stdout",
     "output_type": "stream",
     "text": [
      "VCF_401\n"
     ]
    },
    {
     "name": "stderr",
     "output_type": "stream",
     "text": [
      "submitted: Submitted batch job 3319290\n"
     ]
    },
    {
     "name": "stdout",
     "output_type": "stream",
     "text": [
      "VCF_402\n"
     ]
    },
    {
     "name": "stderr",
     "output_type": "stream",
     "text": [
      "submitted: Submitted batch job 3319291\n",
      "submitted: Submitted batch job 3319292\n",
      "submitted: Submitted batch job 3319293\n"
     ]
    },
    {
     "name": "stdout",
     "output_type": "stream",
     "text": [
      "VCF_403\n",
      "VCF_404\n",
      "VCF_405\n"
     ]
    },
    {
     "name": "stderr",
     "output_type": "stream",
     "text": [
      "submitted: Submitted batch job 3319294\n",
      "submitted: Submitted batch job 3319295\n",
      "submitted: Submitted batch job 3319296\n"
     ]
    },
    {
     "name": "stdout",
     "output_type": "stream",
     "text": [
      "VCF_406\n",
      "VCF_407\n",
      "VCF_408\n"
     ]
    },
    {
     "name": "stderr",
     "output_type": "stream",
     "text": [
      "submitted: Submitted batch job 3319297\n",
      "submitted: Submitted batch job 3319298\n"
     ]
    },
    {
     "name": "stdout",
     "output_type": "stream",
     "text": [
      "VCF_409\n",
      "VCF_410\n"
     ]
    },
    {
     "name": "stderr",
     "output_type": "stream",
     "text": [
      "submitted: Submitted batch job 3319299\n",
      "submitted: Submitted batch job 3319300\n",
      "submitted: Submitted batch job 3319301\n"
     ]
    },
    {
     "name": "stdout",
     "output_type": "stream",
     "text": [
      "VCF_411\n",
      "VCF_412\n",
      "VCF_413\n"
     ]
    },
    {
     "name": "stderr",
     "output_type": "stream",
     "text": [
      "submitted: Submitted batch job 3319302\n",
      "submitted: Submitted batch job 3319303\n",
      "submitted: Submitted batch job 3319304\n"
     ]
    },
    {
     "name": "stdout",
     "output_type": "stream",
     "text": [
      "VCF_414\n",
      "VCF_415\n",
      "VCF_416\n"
     ]
    },
    {
     "name": "stderr",
     "output_type": "stream",
     "text": [
      "submitted: Submitted batch job 3319305\n",
      "submitted: Submitted batch job 3319306\n"
     ]
    },
    {
     "name": "stdout",
     "output_type": "stream",
     "text": [
      "VCF_417\n",
      "VCF_418\n"
     ]
    },
    {
     "name": "stderr",
     "output_type": "stream",
     "text": [
      "submitted: Submitted batch job 3319308\n",
      "submitted: Submitted batch job 3319309\n"
     ]
    },
    {
     "name": "stdout",
     "output_type": "stream",
     "text": [
      "VCF_419\n",
      "VCF_420\n"
     ]
    },
    {
     "name": "stderr",
     "output_type": "stream",
     "text": [
      "submitted: Submitted batch job 3319310\n",
      "submitted: Submitted batch job 3319311\n"
     ]
    },
    {
     "name": "stdout",
     "output_type": "stream",
     "text": [
      "VCF_421\n",
      "VCF_422\n"
     ]
    },
    {
     "name": "stderr",
     "output_type": "stream",
     "text": [
      "submitted: Submitted batch job 3319312\n",
      "submitted: Submitted batch job 3319313\n",
      "submitted: Submitted batch job 3319314\n"
     ]
    },
    {
     "name": "stdout",
     "output_type": "stream",
     "text": [
      "VCF_423\n",
      "VCF_424\n",
      "VCF_425\n"
     ]
    },
    {
     "name": "stderr",
     "output_type": "stream",
     "text": [
      "submitted: Submitted batch job 3319315\n",
      "submitted: Submitted batch job 3319316\n",
      "submitted: Submitted batch job 3319317\n"
     ]
    },
    {
     "name": "stdout",
     "output_type": "stream",
     "text": [
      "VCF_426\n",
      "VCF_427\n",
      "VCF_428\n"
     ]
    },
    {
     "name": "stderr",
     "output_type": "stream",
     "text": [
      "submitted: Submitted batch job 3319318\n"
     ]
    },
    {
     "name": "stdout",
     "output_type": "stream",
     "text": [
      "VCF_429\n"
     ]
    },
    {
     "name": "stderr",
     "output_type": "stream",
     "text": [
      "submitted: Submitted batch job 3319319\n"
     ]
    },
    {
     "name": "stdout",
     "output_type": "stream",
     "text": [
      "VCF_430\n"
     ]
    },
    {
     "name": "stderr",
     "output_type": "stream",
     "text": [
      "submitted: Submitted batch job 3319320\n",
      "submitted: Submitted batch job 3319321\n"
     ]
    },
    {
     "name": "stdout",
     "output_type": "stream",
     "text": [
      "VCF_431\n",
      "VCF_432\n"
     ]
    },
    {
     "name": "stderr",
     "output_type": "stream",
     "text": [
      "submitted: Submitted batch job 3319322\n"
     ]
    },
    {
     "name": "stdout",
     "output_type": "stream",
     "text": [
      "VCF_433\n"
     ]
    },
    {
     "name": "stderr",
     "output_type": "stream",
     "text": [
      "submitted: Submitted batch job 3319323\n",
      "submitted: Submitted batch job 3319324\n",
      "submitted: Submitted batch job 3319325\n"
     ]
    },
    {
     "name": "stdout",
     "output_type": "stream",
     "text": [
      "VCF_434\n",
      "VCF_435\n",
      "VCF_436\n"
     ]
    },
    {
     "name": "stderr",
     "output_type": "stream",
     "text": [
      "submitted: Submitted batch job 3319326\n",
      "submitted: Submitted batch job 3319327\n",
      "submitted: Submitted batch job 3319328\n"
     ]
    },
    {
     "name": "stdout",
     "output_type": "stream",
     "text": [
      "VCF_437\n",
      "VCF_438\n",
      "VCF_439\n"
     ]
    },
    {
     "name": "stderr",
     "output_type": "stream",
     "text": [
      "submitted: Submitted batch job 3319329\n",
      "submitted: Submitted batch job 3319330\n",
      "submitted: Submitted batch job 3319331\n"
     ]
    },
    {
     "name": "stdout",
     "output_type": "stream",
     "text": [
      "VCF_440\n",
      "VCF_441\n",
      "VCF_442\n"
     ]
    },
    {
     "name": "stderr",
     "output_type": "stream",
     "text": [
      "submitted: Submitted batch job 3319332\n",
      "submitted: Submitted batch job 3319333\n",
      "submitted: Submitted batch job 3319334\n"
     ]
    },
    {
     "name": "stdout",
     "output_type": "stream",
     "text": [
      "VCF_443\n",
      "VCF_444\n",
      "VCF_445\n"
     ]
    },
    {
     "name": "stderr",
     "output_type": "stream",
     "text": [
      "submitted: Submitted batch job 3319335\n",
      "submitted: Submitted batch job 3319336\n"
     ]
    },
    {
     "name": "stdout",
     "output_type": "stream",
     "text": [
      "VCF_446\n",
      "VCF_447\n"
     ]
    },
    {
     "name": "stderr",
     "output_type": "stream",
     "text": [
      "submitted: Submitted batch job 3319337\n",
      "submitted: Submitted batch job 3319338\n",
      "submitted: Submitted batch job 3319339\n"
     ]
    },
    {
     "name": "stdout",
     "output_type": "stream",
     "text": [
      "VCF_448\n",
      "VCF_449\n",
      "VCF_450\n"
     ]
    },
    {
     "name": "stderr",
     "output_type": "stream",
     "text": [
      "submitted: Submitted batch job 3319340\n",
      "submitted: Submitted batch job 3319341\n",
      "submitted: Submitted batch job 3319342\n"
     ]
    },
    {
     "name": "stdout",
     "output_type": "stream",
     "text": [
      "VCF_451\n",
      "VCF_452\n",
      "VCF_453\n"
     ]
    },
    {
     "name": "stderr",
     "output_type": "stream",
     "text": [
      "submitted: Submitted batch job 3319343\n"
     ]
    },
    {
     "name": "stdout",
     "output_type": "stream",
     "text": [
      "VCF_454\n"
     ]
    },
    {
     "name": "stderr",
     "output_type": "stream",
     "text": [
      "submitted: Submitted batch job 3319344\n",
      "submitted: Submitted batch job 3319345\n",
      "submitted: Submitted batch job 3319346\n"
     ]
    },
    {
     "name": "stdout",
     "output_type": "stream",
     "text": [
      "VCF_455\n",
      "VCF_456\n",
      "VCF_457\n"
     ]
    },
    {
     "name": "stderr",
     "output_type": "stream",
     "text": [
      "submitted: Submitted batch job 3319347\n"
     ]
    },
    {
     "name": "stdout",
     "output_type": "stream",
     "text": [
      "VCF_458\n"
     ]
    },
    {
     "name": "stderr",
     "output_type": "stream",
     "text": [
      "submitted: Submitted batch job 3319348\n",
      "submitted: Submitted batch job 3319349\n"
     ]
    },
    {
     "name": "stdout",
     "output_type": "stream",
     "text": [
      "VCF_459\n",
      "VCF_460\n"
     ]
    },
    {
     "name": "stderr",
     "output_type": "stream",
     "text": [
      "submitted: Submitted batch job 3319350\n"
     ]
    },
    {
     "name": "stdout",
     "output_type": "stream",
     "text": [
      "VCF_461\n"
     ]
    },
    {
     "name": "stderr",
     "output_type": "stream",
     "text": [
      "submitted: Submitted batch job 3319351\n",
      "submitted: Submitted batch job 3319352\n",
      "submitted: Submitted batch job 3319353\n"
     ]
    },
    {
     "name": "stdout",
     "output_type": "stream",
     "text": [
      "VCF_462\n",
      "VCF_463\n",
      "VCF_464\n"
     ]
    },
    {
     "name": "stderr",
     "output_type": "stream",
     "text": [
      "submitted: Submitted batch job 3319354\n"
     ]
    },
    {
     "name": "stdout",
     "output_type": "stream",
     "text": [
      "VCF_465\n"
     ]
    },
    {
     "name": "stderr",
     "output_type": "stream",
     "text": [
      "submitted: Submitted batch job 3319355\n",
      "submitted: Submitted batch job 3319356\n",
      "submitted: Submitted batch job 3319357\n"
     ]
    },
    {
     "name": "stdout",
     "output_type": "stream",
     "text": [
      "VCF_466\n",
      "VCF_467\n",
      "VCF_468\n"
     ]
    },
    {
     "name": "stderr",
     "output_type": "stream",
     "text": [
      "submitted: Submitted batch job 3319358\n",
      "submitted: Submitted batch job 3319359\n"
     ]
    },
    {
     "name": "stdout",
     "output_type": "stream",
     "text": [
      "VCF_469\n",
      "VCF_470\n"
     ]
    },
    {
     "name": "stderr",
     "output_type": "stream",
     "text": [
      "submitted: Submitted batch job 3319360\n"
     ]
    },
    {
     "name": "stdout",
     "output_type": "stream",
     "text": [
      "VCF_471\n"
     ]
    },
    {
     "name": "stderr",
     "output_type": "stream",
     "text": [
      "submitted: Submitted batch job 3319361\n",
      "submitted: Submitted batch job 3319362\n"
     ]
    },
    {
     "name": "stdout",
     "output_type": "stream",
     "text": [
      "VCF_472\n",
      "VCF_473\n"
     ]
    },
    {
     "name": "stderr",
     "output_type": "stream",
     "text": [
      "submitted: Submitted batch job 3319363\n"
     ]
    },
    {
     "name": "stdout",
     "output_type": "stream",
     "text": [
      "VCF_474\n"
     ]
    },
    {
     "name": "stderr",
     "output_type": "stream",
     "text": [
      "submitted: Submitted batch job 3319364\n",
      "submitted: Submitted batch job 3319365\n"
     ]
    },
    {
     "name": "stdout",
     "output_type": "stream",
     "text": [
      "VCF_475\n",
      "VCF_476\n"
     ]
    },
    {
     "name": "stderr",
     "output_type": "stream",
     "text": [
      "submitted: Submitted batch job 3319366\n"
     ]
    },
    {
     "name": "stdout",
     "output_type": "stream",
     "text": [
      "VCF_477\n"
     ]
    },
    {
     "name": "stderr",
     "output_type": "stream",
     "text": [
      "submitted: Submitted batch job 3319367\n"
     ]
    },
    {
     "name": "stdout",
     "output_type": "stream",
     "text": [
      "VCF_478\n"
     ]
    },
    {
     "name": "stderr",
     "output_type": "stream",
     "text": [
      "submitted: Submitted batch job 3319368\n"
     ]
    },
    {
     "name": "stdout",
     "output_type": "stream",
     "text": [
      "VCF_479\n"
     ]
    },
    {
     "name": "stderr",
     "output_type": "stream",
     "text": [
      "submitted: Submitted batch job 3319369\n",
      "submitted: Submitted batch job 3319370\n"
     ]
    },
    {
     "name": "stdout",
     "output_type": "stream",
     "text": [
      "VCF_480\n",
      "VCF_481\n"
     ]
    },
    {
     "name": "stderr",
     "output_type": "stream",
     "text": [
      "submitted: Submitted batch job 3319371\n",
      "submitted: Submitted batch job 3319372\n"
     ]
    },
    {
     "name": "stdout",
     "output_type": "stream",
     "text": [
      "VCF_482\n",
      "VCF_483\n",
      "VCF_484\n"
     ]
    },
    {
     "name": "stderr",
     "output_type": "stream",
     "text": [
      "submitted: Submitted batch job 3319373\n"
     ]
    }
   ],
   "source": [
    "job_num = 1\n",
    "for job_i_commands_list in bash_scripts:\n",
    "    \n",
    "    #append all commands in a single string to be submitted as a job\n",
    "    VCF_extract_job = ''\n",
    "    for command_i in job_i_commands_list:\n",
    "        VCF_extract_job  = VCF_extract_job  + '\\n' + command_i\n",
    "    \n",
    "    #directory where you want output + error files\n",
    "    os.chdir('/n/data1/hms/dbmi/farhat/Roger/inhost_TB_dynamics_project/rolling_DB_scrape/Genotypes/O2_SLURM_logs/VCF_refpos_for_genotyping_extraction/')\n",
    "\n",
    "    job_name = 'VCF_' + str(job_num)\n",
    "\n",
    "    s = Slurm(job_name , {'partition':'short' , 'n':'1' , 't':'0-12:00:00' , 'mem-per-cpu':'2G' , 'mail-type':'FAIL' , 'mail-user':'roger_vargas@g.harvard.edu'})\n",
    "\n",
    "    #submits the job\n",
    "    job_id = s.run(VCF_extract_job)\n",
    "\n",
    "    print job_name\n",
    "    job_num += 1"
   ]
  },
  {
   "cell_type": "markdown",
   "metadata": {
    "collapsed": true
   },
   "source": [
    "####################################################################################################################################################################################"
   ]
  },
  {
   "cell_type": "markdown",
   "metadata": {},
   "source": [
    "### Run any remaining isolates through VCF subsetting procedure that don't have a corresponding subset VCF"
   ]
  },
  {
   "cell_type": "markdown",
   "metadata": {},
   "source": [
    "####################################################################################################################################################################################"
   ]
  },
  {
   "cell_type": "code",
   "execution_count": 34,
   "metadata": {},
   "outputs": [],
   "source": [
    "import os\n",
    "import pandas as pd\n",
    "from slurmpy import Slurm\n",
    "import numpy as np\n",
    "import itertools\n",
    "import shutil"
   ]
  },
  {
   "cell_type": "code",
   "execution_count": 35,
   "metadata": {},
   "outputs": [],
   "source": [
    "isolate_id_series = pd.read_pickle( '/n/data1/hms/dbmi/farhat/Roger/inhost_TB_dynamics_project/rolling_DB_scrape/Genotypes/genotypes_isolate_annotation.pkl' )"
   ]
  },
  {
   "cell_type": "markdown",
   "metadata": {
    "collapsed": true
   },
   "source": [
    "__Check Progress of Jobs:__ Isolates that need to have Full VCF >> Subset VCF for Reference Positions of Interest"
   ]
  },
  {
   "cell_type": "code",
   "execution_count": 36,
   "metadata": {},
   "outputs": [],
   "source": [
    "isolate_ids_to_run_VCF_extraction = []\n",
    "isolate_ids_completed = []\n",
    "\n",
    "for tag in isolate_id_series.values:\n",
    "\n",
    "    #create directory to store subset VCF and genotypes for each isolate\n",
    "    isolate_genotype_dir = '/n/data1/hms/dbmi/farhat/Roger/inhost_TB_dynamics_project/rolling_DB_scrape/Genotypes/Genotypes_per_isolate/' + tag\n",
    "    \n",
    "    #current.bcf file\n",
    "    current_bcf_path = isolate_genotype_dir + '/current.bcf'\n",
    "    \n",
    "    #current.bcf.csi file\n",
    "    current_bcf_csi_path = isolate_genotype_dir + '/current.bcf.csi'\n",
    "    \n",
    "    #subset VCF file\n",
    "    subset_VCF_path = isolate_genotype_dir + '/' + tag + '_ref_positions_for_genotyping.vcf'\n",
    "    \n",
    "    #check for the existence of a VCF file, if TRUE job has either started or completed\n",
    "    if os.path.exists(subset_VCF_path):\n",
    "        \n",
    "        #check to see if intermediary files exist, if they do then VCF subset task hasn't completed\n",
    "        if os.path.exists(current_bcf_path) or os.path.exists(current_bcf_csi_path):\n",
    "            \n",
    "            #remove files to start task over\n",
    "            ## os.remove(current_bcf_path)\n",
    "            ## os.remove(current_bcf_csi_path)\n",
    "            ## os.remove(subset_VCF_path)\n",
    "            \n",
    "            isolate_ids_to_run_VCF_extraction.append(tag)\n",
    "            \n",
    "        #VCF exists, intermediary files gone so task finished\n",
    "        else: \n",
    "            \n",
    "            isolate_ids_completed.append(tag)\n",
    "            \n",
    "    #VCF file doesn't exist, task never started\n",
    "    else:\n",
    "        \n",
    "        isolate_ids_to_run_VCF_extraction.append(tag)"
   ]
  },
  {
   "cell_type": "code",
   "execution_count": 37,
   "metadata": {},
   "outputs": [
    {
     "data": {
      "text/plain": [
       "33873"
      ]
     },
     "execution_count": 37,
     "metadata": {},
     "output_type": "execute_result"
    }
   ],
   "source": [
    "len(isolate_ids_completed)"
   ]
  },
  {
   "cell_type": "code",
   "execution_count": 38,
   "metadata": {},
   "outputs": [
    {
     "data": {
      "text/plain": [
       "0"
      ]
     },
     "execution_count": 38,
     "metadata": {},
     "output_type": "execute_result"
    }
   ],
   "source": [
    "len(isolate_ids_to_run_VCF_extraction)"
   ]
  },
  {
   "cell_type": "markdown",
   "metadata": {},
   "source": [
    "##### Subset VCF to reference positions of interest for isolates that had Full VCF files "
   ]
  },
  {
   "cell_type": "code",
   "execution_count": 13,
   "metadata": {},
   "outputs": [],
   "source": [
    "isolate_id_series = pd.Series(isolate_ids_to_run_VCF_extraction)"
   ]
  },
  {
   "cell_type": "markdown",
   "metadata": {},
   "source": [
    "Create BASH scripts to extract VCFs of N isolates per job"
   ]
  },
  {
   "cell_type": "code",
   "execution_count": 14,
   "metadata": {},
   "outputs": [],
   "source": [
    "N_isolates_per_job = 65\n",
    "\n",
    "njobs = int( np.ceil( float( len( isolate_id_series ) ) / float(N_isolates_per_job) ) ) #number of jobs required if we split for every N isolates"
   ]
  },
  {
   "cell_type": "code",
   "execution_count": 15,
   "metadata": {},
   "outputs": [
    {
     "name": "stdout",
     "output_type": "stream",
     "text": [
      "114\n"
     ]
    }
   ],
   "source": [
    "print njobs"
   ]
  },
  {
   "cell_type": "code",
   "execution_count": 16,
   "metadata": {},
   "outputs": [],
   "source": [
    "bash_scripts = []\n",
    "\n",
    "#genomic data directory\n",
    "rolling_DB_dir = '/n/data1/hms/dbmi/farhat/rollingDB/genomic_data/'\n",
    "\n",
    "#split jobs up into tasks of N\n",
    "for first_isolate_i_for_job in np.arange(0 , (njobs)*N_isolates_per_job , N_isolates_per_job):\n",
    "\n",
    "    last_isolate_i_for_job = first_isolate_i_for_job + N_isolates_per_job\n",
    "    \n",
    "    commands_list = []\n",
    "    commands_list.append( 'module load bcftools/1.9' ) #only need to load this once per job\n",
    "\n",
    "    for isolate_i in range(first_isolate_i_for_job , last_isolate_i_for_job): \n",
    "\n",
    "        try:\n",
    "            tag = isolate_id_series[isolate_i]\n",
    "            zipped_VCF = rolling_DB_dir + tag + '/pilon/' + tag + '_full.vcf.gz'\n",
    "            isolate_genotypes_dir = '/n/data1/hms/dbmi/farhat/Roger/inhost_TB_dynamics_project/rolling_DB_scrape/Genotypes/Genotypes_per_isolate/' + tag\n",
    "\n",
    "            commands_list.append( 'cd {}'.format(isolate_genotypes_dir) )\n",
    "            commands_list.append( 'time bcftools view {} -O b -o current.bcf'.format(zipped_VCF) )\n",
    "            commands_list.append( 'bcftools index current.bcf' )\n",
    "            commands_list.append( 'bcftools view current.bcf --regions-file /n/data1/hms/dbmi/farhat/Roger/inhost_TB_dynamics_project/rolling_DB_scrape/Genotypes/ref_positions_to_select.txt -o {0}_ref_positions_for_genotyping.vcf -O v'.format(tag) )\n",
    "            commands_list.append( 'rm current.bcf.csi current.bcf' )\n",
    "            \n",
    "        except KeyError: #applies only to the last job if it has < N isolates\n",
    "            continue\n",
    "        \n",
    "    bash_scripts.append(commands_list)"
   ]
  },
  {
   "cell_type": "markdown",
   "metadata": {},
   "source": [
    "#### Submit each job to O2"
   ]
  },
  {
   "cell_type": "code",
   "execution_count": 17,
   "metadata": {},
   "outputs": [
    {
     "name": "stderr",
     "output_type": "stream",
     "text": [
      "submitted: Submitted batch job 3589690\n",
      "submitted: Submitted batch job 3589692\n"
     ]
    },
    {
     "name": "stdout",
     "output_type": "stream",
     "text": [
      "VCF_1\n",
      "VCF_2\n"
     ]
    },
    {
     "name": "stderr",
     "output_type": "stream",
     "text": [
      "submitted: Submitted batch job 3589694\n",
      "submitted: Submitted batch job 3589695\n"
     ]
    },
    {
     "name": "stdout",
     "output_type": "stream",
     "text": [
      "VCF_3\n",
      "VCF_4\n"
     ]
    },
    {
     "name": "stderr",
     "output_type": "stream",
     "text": [
      "submitted: Submitted batch job 3589696\n",
      "submitted: Submitted batch job 3589697\n"
     ]
    },
    {
     "name": "stdout",
     "output_type": "stream",
     "text": [
      "VCF_5\n",
      "VCF_6\n"
     ]
    },
    {
     "name": "stderr",
     "output_type": "stream",
     "text": [
      "submitted: Submitted batch job 3589698\n",
      "submitted: Submitted batch job 3589701\n",
      "submitted: Submitted batch job 3589702\n"
     ]
    },
    {
     "name": "stdout",
     "output_type": "stream",
     "text": [
      "VCF_7\n",
      "VCF_8\n",
      "VCF_9\n"
     ]
    },
    {
     "name": "stderr",
     "output_type": "stream",
     "text": [
      "submitted: Submitted batch job 3589703\n"
     ]
    },
    {
     "name": "stdout",
     "output_type": "stream",
     "text": [
      "VCF_10\n"
     ]
    },
    {
     "name": "stderr",
     "output_type": "stream",
     "text": [
      "submitted: Submitted batch job 3589704\n",
      "submitted: Submitted batch job 3589706\n"
     ]
    },
    {
     "name": "stdout",
     "output_type": "stream",
     "text": [
      "VCF_11\n",
      "VCF_12\n"
     ]
    },
    {
     "name": "stderr",
     "output_type": "stream",
     "text": [
      "submitted: Submitted batch job 3589708\n",
      "submitted: Submitted batch job 3589710\n"
     ]
    },
    {
     "name": "stdout",
     "output_type": "stream",
     "text": [
      "VCF_13\n",
      "VCF_14\n"
     ]
    },
    {
     "name": "stderr",
     "output_type": "stream",
     "text": [
      "submitted: Submitted batch job 3589713\n",
      "submitted: Submitted batch job 3589715\n"
     ]
    },
    {
     "name": "stdout",
     "output_type": "stream",
     "text": [
      "VCF_15\n",
      "VCF_16\n"
     ]
    },
    {
     "name": "stderr",
     "output_type": "stream",
     "text": [
      "submitted: Submitted batch job 3589718\n"
     ]
    },
    {
     "name": "stdout",
     "output_type": "stream",
     "text": [
      "VCF_17\n"
     ]
    },
    {
     "name": "stderr",
     "output_type": "stream",
     "text": [
      "submitted: Submitted batch job 3589720\n"
     ]
    },
    {
     "name": "stdout",
     "output_type": "stream",
     "text": [
      "VCF_18\n"
     ]
    },
    {
     "name": "stderr",
     "output_type": "stream",
     "text": [
      "submitted: Submitted batch job 3589724\n",
      "submitted: Submitted batch job 3589725\n",
      "submitted: Submitted batch job 3589726\n"
     ]
    },
    {
     "name": "stdout",
     "output_type": "stream",
     "text": [
      "VCF_19\n",
      "VCF_20\n",
      "VCF_21\n"
     ]
    },
    {
     "name": "stderr",
     "output_type": "stream",
     "text": [
      "submitted: Submitted batch job 3589728\n",
      "submitted: Submitted batch job 3589731\n",
      "submitted: Submitted batch job 3589732\n"
     ]
    },
    {
     "name": "stdout",
     "output_type": "stream",
     "text": [
      "VCF_22\n",
      "VCF_23\n",
      "VCF_24\n"
     ]
    },
    {
     "name": "stderr",
     "output_type": "stream",
     "text": [
      "submitted: Submitted batch job 3589733\n",
      "submitted: Submitted batch job 3589734\n",
      "submitted: Submitted batch job 3589735\n"
     ]
    },
    {
     "name": "stdout",
     "output_type": "stream",
     "text": [
      "VCF_25\n",
      "VCF_26\n",
      "VCF_27\n"
     ]
    },
    {
     "name": "stderr",
     "output_type": "stream",
     "text": [
      "submitted: Submitted batch job 3589736\n",
      "submitted: Submitted batch job 3589737\n"
     ]
    },
    {
     "name": "stdout",
     "output_type": "stream",
     "text": [
      "VCF_28\n",
      "VCF_29\n"
     ]
    },
    {
     "name": "stderr",
     "output_type": "stream",
     "text": [
      "submitted: Submitted batch job 3589739\n",
      "submitted: Submitted batch job 3589741\n",
      "submitted: Submitted batch job 3589742\n"
     ]
    },
    {
     "name": "stdout",
     "output_type": "stream",
     "text": [
      "VCF_30\n",
      "VCF_31\n",
      "VCF_32\n"
     ]
    },
    {
     "name": "stderr",
     "output_type": "stream",
     "text": [
      "submitted: Submitted batch job 3589744\n",
      "submitted: Submitted batch job 3589745\n",
      "submitted: Submitted batch job 3589746\n"
     ]
    },
    {
     "name": "stdout",
     "output_type": "stream",
     "text": [
      "VCF_33\n",
      "VCF_34\n",
      "VCF_35\n"
     ]
    },
    {
     "name": "stderr",
     "output_type": "stream",
     "text": [
      "submitted: Submitted batch job 3589747\n",
      "submitted: Submitted batch job 3589748\n",
      "submitted: Submitted batch job 3589749\n",
      "submitted: Submitted batch job 3589751\n"
     ]
    },
    {
     "name": "stdout",
     "output_type": "stream",
     "text": [
      "VCF_36\n",
      "VCF_37\n",
      "VCF_38\n",
      "VCF_39\n"
     ]
    },
    {
     "name": "stderr",
     "output_type": "stream",
     "text": [
      "submitted: Submitted batch job 3589752\n"
     ]
    },
    {
     "name": "stdout",
     "output_type": "stream",
     "text": [
      "VCF_40\n"
     ]
    },
    {
     "name": "stderr",
     "output_type": "stream",
     "text": [
      "submitted: Submitted batch job 3589753\n",
      "submitted: Submitted batch job 3589756\n",
      "submitted: Submitted batch job 3589757\n"
     ]
    },
    {
     "name": "stdout",
     "output_type": "stream",
     "text": [
      "VCF_41\n",
      "VCF_42\n",
      "VCF_43\n"
     ]
    },
    {
     "name": "stderr",
     "output_type": "stream",
     "text": [
      "submitted: Submitted batch job 3589758\n",
      "submitted: Submitted batch job 3589760\n",
      "submitted: Submitted batch job 3589762\n"
     ]
    },
    {
     "name": "stdout",
     "output_type": "stream",
     "text": [
      "VCF_44\n",
      "VCF_45\n",
      "VCF_46\n"
     ]
    },
    {
     "name": "stderr",
     "output_type": "stream",
     "text": [
      "submitted: Submitted batch job 3589764\n",
      "submitted: Submitted batch job 3589766\n"
     ]
    },
    {
     "name": "stdout",
     "output_type": "stream",
     "text": [
      "VCF_47\n",
      "VCF_48\n"
     ]
    },
    {
     "name": "stderr",
     "output_type": "stream",
     "text": [
      "submitted: Submitted batch job 3589767\n",
      "submitted: Submitted batch job 3589769\n",
      "submitted: Submitted batch job 3589771\n"
     ]
    },
    {
     "name": "stdout",
     "output_type": "stream",
     "text": [
      "VCF_49\n",
      "VCF_50\n",
      "VCF_51\n"
     ]
    },
    {
     "name": "stderr",
     "output_type": "stream",
     "text": [
      "submitted: Submitted batch job 3589773\n",
      "submitted: Submitted batch job 3589775\n",
      "submitted: Submitted batch job 3589777\n",
      "submitted: Submitted batch job 3589778\n"
     ]
    },
    {
     "name": "stdout",
     "output_type": "stream",
     "text": [
      "VCF_52\n",
      "VCF_53\n",
      "VCF_54\n",
      "VCF_55\n"
     ]
    },
    {
     "name": "stderr",
     "output_type": "stream",
     "text": [
      "submitted: Submitted batch job 3589779\n",
      "submitted: Submitted batch job 3589780\n"
     ]
    },
    {
     "name": "stdout",
     "output_type": "stream",
     "text": [
      "VCF_56\n",
      "VCF_57\n"
     ]
    },
    {
     "name": "stderr",
     "output_type": "stream",
     "text": [
      "submitted: Submitted batch job 3589782\n"
     ]
    },
    {
     "name": "stdout",
     "output_type": "stream",
     "text": [
      "VCF_58\n"
     ]
    },
    {
     "name": "stderr",
     "output_type": "stream",
     "text": [
      "submitted: Submitted batch job 3589783\n",
      "submitted: Submitted batch job 3589786\n",
      "submitted: Submitted batch job 3589787\n"
     ]
    },
    {
     "name": "stdout",
     "output_type": "stream",
     "text": [
      "VCF_59\n",
      "VCF_60\n",
      "VCF_61\n"
     ]
    },
    {
     "name": "stderr",
     "output_type": "stream",
     "text": [
      "submitted: Submitted batch job 3589790\n",
      "submitted: Submitted batch job 3589793\n"
     ]
    },
    {
     "name": "stdout",
     "output_type": "stream",
     "text": [
      "VCF_62\n",
      "VCF_63\n"
     ]
    },
    {
     "name": "stderr",
     "output_type": "stream",
     "text": [
      "submitted: Submitted batch job 3589794\n",
      "submitted: Submitted batch job 3589795\n",
      "submitted: Submitted batch job 3589796\n"
     ]
    },
    {
     "name": "stdout",
     "output_type": "stream",
     "text": [
      "VCF_64\n",
      "VCF_65\n",
      "VCF_66\n"
     ]
    },
    {
     "name": "stderr",
     "output_type": "stream",
     "text": [
      "submitted: Submitted batch job 3589797\n",
      "submitted: Submitted batch job 3589798\n"
     ]
    },
    {
     "name": "stdout",
     "output_type": "stream",
     "text": [
      "VCF_67\n",
      "VCF_68\n"
     ]
    },
    {
     "name": "stderr",
     "output_type": "stream",
     "text": [
      "submitted: Submitted batch job 3589799\n",
      "submitted: Submitted batch job 3589802\n",
      "submitted: Submitted batch job 3589803\n"
     ]
    },
    {
     "name": "stdout",
     "output_type": "stream",
     "text": [
      "VCF_69\n",
      "VCF_70\n",
      "VCF_71\n"
     ]
    },
    {
     "name": "stderr",
     "output_type": "stream",
     "text": [
      "submitted: Submitted batch job 3589804\n",
      "submitted: Submitted batch job 3589805\n",
      "submitted: Submitted batch job 3589806\n",
      "submitted: Submitted batch job 3589808\n"
     ]
    },
    {
     "name": "stdout",
     "output_type": "stream",
     "text": [
      "VCF_72\n",
      "VCF_73\n",
      "VCF_74\n",
      "VCF_75\n"
     ]
    },
    {
     "name": "stderr",
     "output_type": "stream",
     "text": [
      "submitted: Submitted batch job 3589809\n",
      "submitted: Submitted batch job 3589810\n",
      "submitted: Submitted batch job 3589811\n",
      "submitted: Submitted batch job 3589812\n"
     ]
    },
    {
     "name": "stdout",
     "output_type": "stream",
     "text": [
      "VCF_76\n",
      "VCF_77\n",
      "VCF_78\n",
      "VCF_79\n"
     ]
    },
    {
     "name": "stderr",
     "output_type": "stream",
     "text": [
      "submitted: Submitted batch job 3589813\n",
      "submitted: Submitted batch job 3589814\n",
      "submitted: Submitted batch job 3589816\n"
     ]
    },
    {
     "name": "stdout",
     "output_type": "stream",
     "text": [
      "VCF_80\n",
      "VCF_81\n",
      "VCF_82\n"
     ]
    },
    {
     "name": "stderr",
     "output_type": "stream",
     "text": [
      "submitted: Submitted batch job 3589817\n",
      "submitted: Submitted batch job 3589820\n",
      "submitted: Submitted batch job 3589821\n"
     ]
    },
    {
     "name": "stdout",
     "output_type": "stream",
     "text": [
      "VCF_83\n",
      "VCF_84\n",
      "VCF_85\n"
     ]
    },
    {
     "name": "stderr",
     "output_type": "stream",
     "text": [
      "submitted: Submitted batch job 3589822\n",
      "submitted: Submitted batch job 3589823\n",
      "submitted: Submitted batch job 3589826\n"
     ]
    },
    {
     "name": "stdout",
     "output_type": "stream",
     "text": [
      "VCF_86\n",
      "VCF_87\n",
      "VCF_88\n"
     ]
    },
    {
     "name": "stderr",
     "output_type": "stream",
     "text": [
      "submitted: Submitted batch job 3589827\n"
     ]
    },
    {
     "name": "stdout",
     "output_type": "stream",
     "text": [
      "VCF_89\n"
     ]
    },
    {
     "name": "stderr",
     "output_type": "stream",
     "text": [
      "submitted: Submitted batch job 3589830\n"
     ]
    },
    {
     "name": "stdout",
     "output_type": "stream",
     "text": [
      "VCF_90\n"
     ]
    },
    {
     "name": "stderr",
     "output_type": "stream",
     "text": [
      "submitted: Submitted batch job 3589833\n",
      "submitted: Submitted batch job 3589834\n"
     ]
    },
    {
     "name": "stdout",
     "output_type": "stream",
     "text": [
      "VCF_91\n",
      "VCF_92\n"
     ]
    },
    {
     "name": "stderr",
     "output_type": "stream",
     "text": [
      "submitted: Submitted batch job 3589837\n",
      "submitted: Submitted batch job 3589838\n"
     ]
    },
    {
     "name": "stdout",
     "output_type": "stream",
     "text": [
      "VCF_93\n",
      "VCF_94\n"
     ]
    },
    {
     "name": "stderr",
     "output_type": "stream",
     "text": [
      "submitted: Submitted batch job 3589840\n"
     ]
    },
    {
     "name": "stdout",
     "output_type": "stream",
     "text": [
      "VCF_95\n"
     ]
    },
    {
     "name": "stderr",
     "output_type": "stream",
     "text": [
      "submitted: Submitted batch job 3589841\n"
     ]
    },
    {
     "name": "stdout",
     "output_type": "stream",
     "text": [
      "VCF_96\n"
     ]
    },
    {
     "name": "stderr",
     "output_type": "stream",
     "text": [
      "submitted: Submitted batch job 3589842\n"
     ]
    },
    {
     "name": "stdout",
     "output_type": "stream",
     "text": [
      "VCF_97\n"
     ]
    },
    {
     "name": "stderr",
     "output_type": "stream",
     "text": [
      "submitted: Submitted batch job 3589845\n",
      "submitted: Submitted batch job 3589848\n"
     ]
    },
    {
     "name": "stdout",
     "output_type": "stream",
     "text": [
      "VCF_98\n",
      "VCF_99\n"
     ]
    },
    {
     "name": "stderr",
     "output_type": "stream",
     "text": [
      "submitted: Submitted batch job 3589849\n",
      "submitted: Submitted batch job 3589850\n",
      "submitted: Submitted batch job 3589851\n"
     ]
    },
    {
     "name": "stdout",
     "output_type": "stream",
     "text": [
      "VCF_100\n",
      "VCF_101\n",
      "VCF_102\n"
     ]
    },
    {
     "name": "stderr",
     "output_type": "stream",
     "text": [
      "submitted: Submitted batch job 3589852\n",
      "submitted: Submitted batch job 3589853\n",
      "submitted: Submitted batch job 3589855\n"
     ]
    },
    {
     "name": "stdout",
     "output_type": "stream",
     "text": [
      "VCF_103\n",
      "VCF_104\n",
      "VCF_105\n"
     ]
    },
    {
     "name": "stderr",
     "output_type": "stream",
     "text": [
      "submitted: Submitted batch job 3589856\n",
      "submitted: Submitted batch job 3589857\n"
     ]
    },
    {
     "name": "stdout",
     "output_type": "stream",
     "text": [
      "VCF_106\n",
      "VCF_107\n"
     ]
    },
    {
     "name": "stderr",
     "output_type": "stream",
     "text": [
      "submitted: Submitted batch job 3589859\n"
     ]
    },
    {
     "name": "stdout",
     "output_type": "stream",
     "text": [
      "VCF_108\n"
     ]
    },
    {
     "name": "stderr",
     "output_type": "stream",
     "text": [
      "submitted: Submitted batch job 3589862\n",
      "submitted: Submitted batch job 3589863\n",
      "submitted: Submitted batch job 3589864\n",
      "submitted: Submitted batch job 3589865\n"
     ]
    },
    {
     "name": "stdout",
     "output_type": "stream",
     "text": [
      "VCF_109\n",
      "VCF_110\n",
      "VCF_111\n",
      "VCF_112\n",
      "VCF_113\n",
      "VCF_114\n"
     ]
    },
    {
     "name": "stderr",
     "output_type": "stream",
     "text": [
      "submitted: Submitted batch job 3589866\n",
      "submitted: Submitted batch job 3589867\n"
     ]
    }
   ],
   "source": [
    "job_num = 1\n",
    "for job_i_commands_list in bash_scripts:\n",
    "    \n",
    "    #append all commands in a single string to be submitted as a job\n",
    "    VCF_extract_job = ''\n",
    "    for command_i in job_i_commands_list:\n",
    "        VCF_extract_job  = VCF_extract_job  + '\\n' + command_i\n",
    "    \n",
    "    #directory where you want output + error files\n",
    "    os.chdir('/n/data1/hms/dbmi/farhat/Roger/inhost_TB_dynamics_project/rolling_DB_scrape/Genotypes/O2_SLURM_logs/VCF_refpos_for_genotyping_extraction/')\n",
    "\n",
    "    job_name = 'VCF_' + str(job_num)\n",
    "\n",
    "    s = Slurm(job_name , {'partition':'short' , 'n':'1' , 't':'0-12:00:00' , 'mem-per-cpu':'2G' , 'mail-type':'FAIL' , 'mail-user':'roger_vargas@g.harvard.edu'})\n",
    "\n",
    "    #submits the job\n",
    "    job_id = s.run(VCF_extract_job)\n",
    "\n",
    "    print job_name\n",
    "    job_num += 1"
   ]
  },
  {
   "cell_type": "markdown",
   "metadata": {},
   "source": [
    "####################################################################################################################################################################################"
   ]
  },
  {
   "cell_type": "markdown",
   "metadata": {},
   "source": [
    "## [7] This section of the notebook prepares the script that iterates over all of the VCF files in rollingDB and outputs a genotype vector."
   ]
  },
  {
   "cell_type": "markdown",
   "metadata": {},
   "source": [
    "####################################################################################################################################################################################"
   ]
  },
  {
   "cell_type": "code",
   "execution_count": 18,
   "metadata": {},
   "outputs": [],
   "source": [
    "import vcf\n",
    "import os\n",
    "import pandas as pd\n",
    "import numpy as np"
   ]
  },
  {
   "cell_type": "code",
   "execution_count": 19,
   "metadata": {},
   "outputs": [],
   "source": [
    "isolate_ID = 'Peru4988' #INPUT - isolate ID"
   ]
  },
  {
   "cell_type": "markdown",
   "metadata": {},
   "source": [
    "#### Load SNV-Index annotation (for indexing genotypes)"
   ]
  },
  {
   "cell_type": "code",
   "execution_count": 20,
   "metadata": {},
   "outputs": [],
   "source": [
    "SNV_annotation_DF = pd.read_pickle( '/n/data1/hms/dbmi/farhat/Roger/inhost_TB_dynamics_project/rolling_DB_scrape/Genotypes/genotypes_SNP_annotation.pkl' )"
   ]
  },
  {
   "cell_type": "code",
   "execution_count": 21,
   "metadata": {},
   "outputs": [
    {
     "data": {
      "text/html": [
       "<div>\n",
       "<style>\n",
       "    .dataframe thead tr:only-child th {\n",
       "        text-align: right;\n",
       "    }\n",
       "\n",
       "    .dataframe thead th {\n",
       "        text-align: left;\n",
       "    }\n",
       "\n",
       "    .dataframe tbody tr th {\n",
       "        vertical-align: top;\n",
       "    }\n",
       "</style>\n",
       "<table border=\"1\" class=\"dataframe\">\n",
       "  <thead>\n",
       "    <tr style=\"text-align: right;\">\n",
       "      <th></th>\n",
       "      <th>pos</th>\n",
       "      <th>ref</th>\n",
       "      <th>alt</th>\n",
       "    </tr>\n",
       "  </thead>\n",
       "  <tbody>\n",
       "    <tr>\n",
       "      <th>0</th>\n",
       "      <td>11</td>\n",
       "      <td>A</td>\n",
       "      <td>[C]</td>\n",
       "    </tr>\n",
       "    <tr>\n",
       "      <th>1</th>\n",
       "      <td>29</td>\n",
       "      <td>C</td>\n",
       "      <td>[G]</td>\n",
       "    </tr>\n",
       "    <tr>\n",
       "      <th>2</th>\n",
       "      <td>31</td>\n",
       "      <td>A</td>\n",
       "      <td>[C, G]</td>\n",
       "    </tr>\n",
       "    <tr>\n",
       "      <th>3</th>\n",
       "      <td>48</td>\n",
       "      <td>C</td>\n",
       "      <td>[T]</td>\n",
       "    </tr>\n",
       "    <tr>\n",
       "      <th>4</th>\n",
       "      <td>64</td>\n",
       "      <td>G</td>\n",
       "      <td>[C]</td>\n",
       "    </tr>\n",
       "  </tbody>\n",
       "</table>\n",
       "</div>"
      ],
      "text/plain": [
       "   pos ref     alt\n",
       "0   11   A     [C]\n",
       "1   29   C     [G]\n",
       "2   31   A  [C, G]\n",
       "3   48   C     [T]\n",
       "4   64   G     [C]"
      ]
     },
     "execution_count": 21,
     "metadata": {},
     "output_type": "execute_result"
    }
   ],
   "source": [
    "SNV_annotation_DF.head()"
   ]
  },
  {
   "cell_type": "markdown",
   "metadata": {},
   "source": [
    "#### Convert SNV annotation into dictionaries with keys = ROW indices of genotype array"
   ]
  },
  {
   "cell_type": "code",
   "execution_count": 22,
   "metadata": {},
   "outputs": [],
   "source": [
    "#keys: H37Rv Reference Position , values: Genotype Row Index\n",
    "ref_pos_dict = dict( zip( list(SNV_annotation_DF.pos) , list(SNV_annotation_DF.index) ) )"
   ]
  },
  {
   "cell_type": "markdown",
   "metadata": {},
   "source": [
    "#### Construct 'skeleton' Numpy Array that will store the supported base for all Reference Positions of interest for a single isolate in rollingDB\n",
    "\n",
    "- **0** for _A_\n",
    "- **1** for _C_\n",
    "- **2** for _G_\n",
    "- **3** for _T_\n",
    "- **9** for Bad Quality SNV calls"
   ]
  },
  {
   "cell_type": "code",
   "execution_count": 23,
   "metadata": {},
   "outputs": [],
   "source": [
    "#number of Reference Positions we're interested in (where High Quality SNV calls were made)\n",
    "number_of_SNVs = len(ref_pos_dict.keys()) "
   ]
  },
  {
   "cell_type": "code",
   "execution_count": 24,
   "metadata": {},
   "outputs": [
    {
     "data": {
      "text/plain": [
       "146874"
      ]
     },
     "execution_count": 24,
     "metadata": {},
     "output_type": "execute_result"
    }
   ],
   "source": [
    "number_of_SNVs"
   ]
  },
  {
   "cell_type": "markdown",
   "metadata": {},
   "source": [
    "#### In constructing the Genotype Vector, we're going to iterate through all Reference Positions of interest and find the supported base from the VCF file for each position"
   ]
  },
  {
   "cell_type": "code",
   "execution_count": 25,
   "metadata": {},
   "outputs": [],
   "source": [
    "#create an empty numpy array to store genotypes\n",
    "genotypes_array = np.full(number_of_SNVs , 9 , dtype = int)"
   ]
  },
  {
   "cell_type": "code",
   "execution_count": 26,
   "metadata": {},
   "outputs": [
    {
     "data": {
      "text/plain": [
       "array([9, 9, 9, ..., 9, 9, 9])"
      ]
     },
     "execution_count": 26,
     "metadata": {},
     "output_type": "execute_result"
    }
   ],
   "source": [
    "genotypes_array"
   ]
  },
  {
   "cell_type": "code",
   "execution_count": 27,
   "metadata": {},
   "outputs": [
    {
     "data": {
      "text/plain": [
       "(146874,)"
      ]
     },
     "execution_count": 27,
     "metadata": {},
     "output_type": "execute_result"
    }
   ],
   "source": [
    "np.shape(genotypes_array)"
   ]
  },
  {
   "cell_type": "markdown",
   "metadata": {},
   "source": [
    "### Iterate through the subset VCF file corresponding to the isolate in rollingDB and fill in genotypes vector"
   ]
  },
  {
   "cell_type": "code",
   "execution_count": 28,
   "metadata": {},
   "outputs": [],
   "source": [
    "#genomic data directory\n",
    "VCF_genotypes_dir = '/n/data1/hms/dbmi/farhat/Roger/inhost_TB_dynamics_project/rolling_DB_scrape/Genotypes/Genotypes_per_isolate/'\n",
    "\n",
    "#directory that stores files for each sequenced isolate\n",
    "directory_for_sequenced_isolate = VCF_genotypes_dir + isolate_ID + '/'\n",
    "\n",
    "#position-base dictionaries (order of output in Pilon)\n",
    "base_order = {0:'A' , 1:'C' , 2:'G', 3:'T'}\n",
    "base_order_r = {'A':0 , 'C':1 , 'G':2 , 'T':3}\n",
    "\n",
    "#load in VCF file if one was found\n",
    "vcf_reader = vcf.Reader( open(directory_for_sequenced_isolate + isolate_ID + '_ref_positions_for_genotyping.vcf' , 'r') )\n",
    "\n",
    "#iterate through each Variant Call \n",
    "for record in vcf_reader:\n",
    "    \n",
    "    #check to see if variant is SNP (length of Reference Allele is 1 base and there's only 1 alternate allele and length of alternate allele is 1 base is alternate allele exists)\n",
    "    if (len(record.REF) == 1) and (len(record.ALT) == 1) and ( (record.ALT[0] == None) or (len(str(record.ALT[0])) == 1) ):\n",
    "\n",
    "        #check to see if the call is a PASS by Pilon\n",
    "        if record.FILTER == []:\n",
    "\n",
    "            ##### Retrieve Relevant information for filtering quality of Base Call #####\n",
    "            # Mean Base Quality @ locus\n",
    "            BQ = record.INFO['BQ']\n",
    "            # Mean Mapping Quality @ locus\n",
    "            MQ = record.INFO['MQ']\n",
    "            # Number of Reads w/ Deletion \n",
    "            DC = record.INFO['DC']\n",
    "            # Number of Reads w/ Insertion\n",
    "            IC = record.INFO['IC']\n",
    "            # Depth of Valid Reads in Pileup\n",
    "            VD = record.INFO['DP']\n",
    "\n",
    "            ### Filtering Criteria\n",
    "            #---> Mean Base Quality > 20\n",
    "            #---> Mean Mapping Quality > 30\n",
    "            #---> No Reads Supporting Insertions\n",
    "            #---> No Reads Supporting Deletions\n",
    "            #---> Number of High Quality Reads >= 25\n",
    "            if (BQ > 20) and (MQ > 30) and (DC == 0) and (IC == 0) and (VD >= 25): \n",
    "\n",
    "                # Quality-Percentage - Percentage of As, Cs, Gs, Ts weighted by Q & MQ at locus\n",
    "                QP = record.INFO['QP']\n",
    "\n",
    "                if (sum(np.array(QP) >= 90) == 1): #1 Allele is supported by at least 90% of the reads, store information for this Base Call\n",
    "\n",
    "                    #create a Boolean list for the Bases that have at least 90% of support from reads\n",
    "                    supported_bases_boolean = list( np.array( QP ) >= 90 )\n",
    "\n",
    "                    #position of Base [A,C,G,T] with at least 90% of support from reads\n",
    "                    supported_bases_i = [i for i,x in enumerate(supported_bases_boolean) if x == True] #returns list of length \n",
    "                    supported_base = base_order[supported_bases_i[0]]\n",
    "\n",
    "                    #write an exception in case a SNV (with a reference position that we're not interested in) 'sneaks' past the subsetting and filtering\n",
    "                    try:\n",
    "                        #store a '0', '1', '2', or '3' in Genotype Vector (Reference Position Index) referencing the Base with at least 90% support from the reads\n",
    "                        genotypes_array[ref_pos_dict[record.POS]] = base_order_r[supported_base]\n",
    "                    except KeyError:\n",
    "                        pass"
   ]
  },
  {
   "cell_type": "markdown",
   "metadata": {},
   "source": [
    "Pickle Genotypes Array for downstream analysis"
   ]
  },
  {
   "cell_type": "code",
   "execution_count": 29,
   "metadata": {},
   "outputs": [
    {
     "data": {
      "text/plain": [
       "array([0, 1, 0, ..., 2, 2, 1])"
      ]
     },
     "execution_count": 29,
     "metadata": {},
     "output_type": "execute_result"
    }
   ],
   "source": [
    "genotypes_array"
   ]
  },
  {
   "cell_type": "code",
   "execution_count": 20,
   "metadata": {},
   "outputs": [],
   "source": [
    "np.save(directory_for_sequenced_isolate + '/' + isolate_ID + '_genotypes' , genotypes_array , allow_pickle = True)"
   ]
  },
  {
   "cell_type": "markdown",
   "metadata": {
    "collapsed": true
   },
   "source": [
    "####################################################################################################################################################################################"
   ]
  },
  {
   "cell_type": "markdown",
   "metadata": {},
   "source": [
    "## [8] This section of the notebook launches the script that was created in the previous section of the notebook and submits jobs for batches of isolates to make genotypes arrays for each isolate."
   ]
  },
  {
   "cell_type": "markdown",
   "metadata": {},
   "source": [
    "####################################################################################################################################################################################"
   ]
  },
  {
   "cell_type": "code",
   "execution_count": 39,
   "metadata": {},
   "outputs": [],
   "source": [
    "import os\n",
    "import pandas as pd\n",
    "from slurmpy import Slurm\n",
    "import numpy as np"
   ]
  },
  {
   "cell_type": "code",
   "execution_count": 40,
   "metadata": {},
   "outputs": [],
   "source": [
    "isolate_id_series = pd.read_pickle( '/n/data1/hms/dbmi/farhat/Roger/inhost_TB_dynamics_project/rolling_DB_scrape/Genotypes/genotypes_isolate_annotation.pkl' )"
   ]
  },
  {
   "cell_type": "code",
   "execution_count": 41,
   "metadata": {},
   "outputs": [
    {
     "data": {
      "text/plain": [
       "(33873,)"
      ]
     },
     "execution_count": 41,
     "metadata": {},
     "output_type": "execute_result"
    }
   ],
   "source": [
    "np.shape(isolate_id_series)"
   ]
  },
  {
   "cell_type": "markdown",
   "metadata": {},
   "source": [
    "#### Extract genotypes for each isolate from VCF file containing a subset of Reference Positions from the Full VCF files"
   ]
  },
  {
   "cell_type": "markdown",
   "metadata": {},
   "source": [
    "Create BASH scripts to extract genotypes of N isolates per job"
   ]
  },
  {
   "cell_type": "code",
   "execution_count": 42,
   "metadata": {},
   "outputs": [],
   "source": [
    "N_isolates_per_job = 720\n",
    "\n",
    "njobs = int( np.ceil( float( len( isolate_id_series ) ) / float(N_isolates_per_job) ) ) #number of jobs required if we split for every N isolates"
   ]
  },
  {
   "cell_type": "code",
   "execution_count": 43,
   "metadata": {},
   "outputs": [
    {
     "name": "stdout",
     "output_type": "stream",
     "text": [
      "48\n"
     ]
    }
   ],
   "source": [
    "print njobs"
   ]
  },
  {
   "cell_type": "code",
   "execution_count": 44,
   "metadata": {},
   "outputs": [],
   "source": [
    "bash_scripts = []\n",
    "\n",
    "#split jobs up into tasks of N\n",
    "for first_isolate_i_for_job in np.arange(0 , (njobs)*N_isolates_per_job , N_isolates_per_job):\n",
    "\n",
    "    last_isolate_i_for_job = first_isolate_i_for_job + N_isolates_per_job\n",
    "    \n",
    "    commands_list = []\n",
    "\n",
    "    for isolate_i in range(first_isolate_i_for_job , last_isolate_i_for_job): \n",
    "\n",
    "        try:\n",
    "            tag = isolate_id_series[isolate_i]\n",
    "\n",
    "            commands_list.append( 'python /n/data1/hms/dbmi/farhat/Roger/inhost_TB_dynamics_project/python_scripts/rollingDB_extract_HQ_SNV_genotypes.py {}'.format(tag) )\n",
    "            \n",
    "        except KeyError: #applies only to the last job if it has < N isolates\n",
    "            continue\n",
    "        \n",
    "    bash_scripts.append(commands_list)"
   ]
  },
  {
   "cell_type": "markdown",
   "metadata": {},
   "source": [
    "#### Submit each job to O2"
   ]
  },
  {
   "cell_type": "code",
   "execution_count": 45,
   "metadata": {
    "scrolled": true
   },
   "outputs": [
    {
     "name": "stderr",
     "output_type": "stream",
     "text": [
      "submitted: Submitted batch job 3793777\n",
      "submitted: Submitted batch job 3793778\n"
     ]
    },
    {
     "name": "stdout",
     "output_type": "stream",
     "text": [
      "Geno1 : 3793777\n",
      "Geno2 : 3793778\n"
     ]
    },
    {
     "name": "stderr",
     "output_type": "stream",
     "text": [
      "submitted: Submitted batch job 3793780\n",
      "submitted: Submitted batch job 3793781\n"
     ]
    },
    {
     "name": "stdout",
     "output_type": "stream",
     "text": [
      "Geno3 : 3793780\n",
      "Geno4 : 3793781\n"
     ]
    },
    {
     "name": "stderr",
     "output_type": "stream",
     "text": [
      "submitted: Submitted batch job 3793782\n",
      "submitted: Submitted batch job 3793783\n"
     ]
    },
    {
     "name": "stdout",
     "output_type": "stream",
     "text": [
      "Geno5 : 3793782\n",
      "Geno6 : 3793783\n"
     ]
    },
    {
     "name": "stderr",
     "output_type": "stream",
     "text": [
      "submitted: Submitted batch job 3793784\n",
      "submitted: Submitted batch job 3793785\n"
     ]
    },
    {
     "name": "stdout",
     "output_type": "stream",
     "text": [
      "Geno7 : 3793784\n",
      "Geno8 : 3793785\n"
     ]
    },
    {
     "name": "stderr",
     "output_type": "stream",
     "text": [
      "submitted: Submitted batch job 3793786\n"
     ]
    },
    {
     "name": "stdout",
     "output_type": "stream",
     "text": [
      "Geno9 : 3793786\n"
     ]
    },
    {
     "name": "stderr",
     "output_type": "stream",
     "text": [
      "submitted: Submitted batch job 3793789\n",
      "submitted: Submitted batch job 3793790\n"
     ]
    },
    {
     "name": "stdout",
     "output_type": "stream",
     "text": [
      "Geno10 : 3793789\n",
      "Geno11 : 3793790\n"
     ]
    },
    {
     "name": "stderr",
     "output_type": "stream",
     "text": [
      "submitted: Submitted batch job 3793791\n",
      "submitted: Submitted batch job 3793792\n"
     ]
    },
    {
     "name": "stdout",
     "output_type": "stream",
     "text": [
      "Geno12 : 3793791\n",
      "Geno13 : 3793792\n"
     ]
    },
    {
     "name": "stderr",
     "output_type": "stream",
     "text": [
      "submitted: Submitted batch job 3793793\n",
      "submitted: Submitted batch job 3793794\n"
     ]
    },
    {
     "name": "stdout",
     "output_type": "stream",
     "text": [
      "Geno14 : 3793793\n",
      "Geno15 : 3793794\n"
     ]
    },
    {
     "name": "stderr",
     "output_type": "stream",
     "text": [
      "submitted: Submitted batch job 3793796\n",
      "submitted: Submitted batch job 3793797\n"
     ]
    },
    {
     "name": "stdout",
     "output_type": "stream",
     "text": [
      "Geno16 : 3793796\n",
      "Geno17 : 3793797\n"
     ]
    },
    {
     "name": "stderr",
     "output_type": "stream",
     "text": [
      "submitted: Submitted batch job 3793799\n",
      "submitted: Submitted batch job 3793800\n"
     ]
    },
    {
     "name": "stdout",
     "output_type": "stream",
     "text": [
      "Geno18 : 3793799\n",
      "Geno19 : 3793800\n"
     ]
    },
    {
     "name": "stderr",
     "output_type": "stream",
     "text": [
      "submitted: Submitted batch job 3793801\n",
      "submitted: Submitted batch job 3793803\n"
     ]
    },
    {
     "name": "stdout",
     "output_type": "stream",
     "text": [
      "Geno20 : 3793801\n",
      "Geno21 : 3793803\n"
     ]
    },
    {
     "name": "stderr",
     "output_type": "stream",
     "text": [
      "submitted: Submitted batch job 3793804\n",
      "submitted: Submitted batch job 3793805\n"
     ]
    },
    {
     "name": "stdout",
     "output_type": "stream",
     "text": [
      "Geno22 : 3793804\n",
      "Geno23 : 3793805\n"
     ]
    },
    {
     "name": "stderr",
     "output_type": "stream",
     "text": [
      "submitted: Submitted batch job 3793807\n",
      "submitted: Submitted batch job 3793809\n"
     ]
    },
    {
     "name": "stdout",
     "output_type": "stream",
     "text": [
      "Geno24 : 3793807\n",
      "Geno25 : 3793809\n"
     ]
    },
    {
     "name": "stderr",
     "output_type": "stream",
     "text": [
      "submitted: Submitted batch job 3793810\n",
      "submitted: Submitted batch job 3793811\n"
     ]
    },
    {
     "name": "stdout",
     "output_type": "stream",
     "text": [
      "Geno26 : 3793810\n",
      "Geno27 : 3793811\n"
     ]
    },
    {
     "name": "stderr",
     "output_type": "stream",
     "text": [
      "submitted: Submitted batch job 3793812\n",
      "submitted: Submitted batch job 3793814\n"
     ]
    },
    {
     "name": "stdout",
     "output_type": "stream",
     "text": [
      "Geno28 : 3793812\n",
      "Geno29 : 3793814\n"
     ]
    },
    {
     "name": "stderr",
     "output_type": "stream",
     "text": [
      "submitted: Submitted batch job 3793815\n",
      "submitted: Submitted batch job 3793816\n"
     ]
    },
    {
     "name": "stdout",
     "output_type": "stream",
     "text": [
      "Geno30 : 3793815\n",
      "Geno31 : 3793816\n"
     ]
    },
    {
     "name": "stderr",
     "output_type": "stream",
     "text": [
      "submitted: Submitted batch job 3793817\n",
      "submitted: Submitted batch job 3793818\n"
     ]
    },
    {
     "name": "stdout",
     "output_type": "stream",
     "text": [
      "Geno32 : 3793817\n",
      "Geno33 : 3793818\n"
     ]
    },
    {
     "name": "stderr",
     "output_type": "stream",
     "text": [
      "submitted: Submitted batch job 3793819\n",
      "submitted: Submitted batch job 3793821\n"
     ]
    },
    {
     "name": "stdout",
     "output_type": "stream",
     "text": [
      "Geno34 : 3793819\n",
      "Geno35 : 3793821\n"
     ]
    },
    {
     "name": "stderr",
     "output_type": "stream",
     "text": [
      "submitted: Submitted batch job 3793822\n",
      "submitted: Submitted batch job 3793823\n"
     ]
    },
    {
     "name": "stdout",
     "output_type": "stream",
     "text": [
      "Geno36 : 3793822\n",
      "Geno37 : 3793823\n"
     ]
    },
    {
     "name": "stderr",
     "output_type": "stream",
     "text": [
      "submitted: Submitted batch job 3793824\n",
      "submitted: Submitted batch job 3793826\n"
     ]
    },
    {
     "name": "stdout",
     "output_type": "stream",
     "text": [
      "Geno38 : 3793824\n",
      "Geno39 : 3793826\n"
     ]
    },
    {
     "name": "stderr",
     "output_type": "stream",
     "text": [
      "submitted: Submitted batch job 3793827\n",
      "submitted: Submitted batch job 3793828\n"
     ]
    },
    {
     "name": "stdout",
     "output_type": "stream",
     "text": [
      "Geno40 : 3793827\n",
      "Geno41 : 3793828\n"
     ]
    },
    {
     "name": "stderr",
     "output_type": "stream",
     "text": [
      "submitted: Submitted batch job 3793829\n"
     ]
    },
    {
     "name": "stdout",
     "output_type": "stream",
     "text": [
      "Geno42 : 3793829\n"
     ]
    },
    {
     "name": "stderr",
     "output_type": "stream",
     "text": [
      "submitted: Submitted batch job 3793832\n",
      "submitted: Submitted batch job 3793833\n"
     ]
    },
    {
     "name": "stdout",
     "output_type": "stream",
     "text": [
      "Geno43 : 3793832\n",
      "Geno44 : 3793833\n"
     ]
    },
    {
     "name": "stderr",
     "output_type": "stream",
     "text": [
      "submitted: Submitted batch job 3793835\n",
      "submitted: Submitted batch job 3793836\n"
     ]
    },
    {
     "name": "stdout",
     "output_type": "stream",
     "text": [
      "Geno45 : 3793835\n",
      "Geno46 : 3793836\n",
      "Geno47 : 3793837\n",
      "Geno48 : 3793838\n"
     ]
    },
    {
     "name": "stderr",
     "output_type": "stream",
     "text": [
      "submitted: Submitted batch job 3793837\n",
      "submitted: Submitted batch job 3793838\n"
     ]
    }
   ],
   "source": [
    "job_num = 1\n",
    "for job_i_commands_list in bash_scripts:\n",
    "    \n",
    "    #append all commands in a single string to be submitted as a job\n",
    "    genotypes_extract_job = ''\n",
    "    for command_i in job_i_commands_list:\n",
    "        genotypes_extract_job  = genotypes_extract_job  + '\\n' + command_i\n",
    "    \n",
    "    #directory where you want output + error files\n",
    "    os.chdir('/n/data1/hms/dbmi/farhat/Roger/inhost_TB_dynamics_project/rolling_DB_scrape/Genotypes/O2_SLURM_logs/make_genotypes_arrays_from_VCF/')\n",
    "\n",
    "    job_name = 'Geno' + str(job_num)\n",
    "\n",
    "    s = Slurm(job_name , {'partition':'short' , 'n':'1' , 't':'0-6:00:00' , 'mem-per-cpu':'2G' , 'mail-type':'FAIL' , 'mail-user':'roger_vargas@g.harvard.edu'})\n",
    "\n",
    "    #submits the job\n",
    "    job_id = s.run(genotypes_extract_job)\n",
    "\n",
    "    print job_name  + ' : ' +  str(job_id)\n",
    "    job_num += 1"
   ]
  },
  {
   "cell_type": "markdown",
   "metadata": {},
   "source": [
    "####################################################################################################################################################################################"
   ]
  },
  {
   "cell_type": "markdown",
   "metadata": {},
   "source": [
    "## [9] Inspect the distribution of missing values after Genotype Matrix is constructed (from genotype vectors) and filter out SNPs & Isolates"
   ]
  },
  {
   "cell_type": "markdown",
   "metadata": {},
   "source": [
    "####################################################################################################################################################################################"
   ]
  },
  {
   "cell_type": "code",
   "execution_count": 1,
   "metadata": {},
   "outputs": [],
   "source": [
    "%matplotlib inline\n",
    "import os\n",
    "import pandas as pd\n",
    "import numpy as np\n",
    "import matplotlib.pyplot as plt\n",
    "import matplotlib as mpl\n",
    "import matplotlib.ticker as ticker\n",
    "from itertools import compress\n",
    "from matplotlib.colors import LogNorm\n",
    "from matplotlib import gridspec\n",
    "import pickle"
   ]
  },
  {
   "cell_type": "markdown",
   "metadata": {},
   "source": [
    "### Make sure all isolates have a corresponding _genotypes_ array"
   ]
  },
  {
   "cell_type": "code",
   "execution_count": 2,
   "metadata": {},
   "outputs": [],
   "source": [
    "isolate_id_series = pd.read_pickle( '/n/data1/hms/dbmi/farhat/Roger/inhost_TB_dynamics_project/rolling_DB_scrape/Genotypes/genotypes_isolate_annotation.pkl' )"
   ]
  },
  {
   "cell_type": "code",
   "execution_count": 3,
   "metadata": {},
   "outputs": [
    {
     "data": {
      "text/plain": [
       "(33873,)"
      ]
     },
     "execution_count": 3,
     "metadata": {},
     "output_type": "execute_result"
    }
   ],
   "source": [
    "np.shape(isolate_id_series)"
   ]
  },
  {
   "cell_type": "markdown",
   "metadata": {
    "collapsed": true
   },
   "source": [
    "__Check for Genotypes Arrays:__ Get isolate IDs that have a corresponding genotypes array"
   ]
  },
  {
   "cell_type": "code",
   "execution_count": 6,
   "metadata": {},
   "outputs": [],
   "source": [
    "isolate_ids_with_genotypes = []\n",
    "isolate_ids_without_genotypes = []\n",
    "\n",
    "for tag in isolate_id_series.values:\n",
    "\n",
    "    #create directory to store subset VCF and genotypes for each isolate\n",
    "    isolate_genotype_dir = '/n/data1/hms/dbmi/farhat/Roger/inhost_TB_dynamics_project/rolling_DB_scrape/Genotypes/Genotypes_per_isolate/' + tag\n",
    "    \n",
    "    #genotypes_array\n",
    "    genotypes_array_pickle_file = isolate_genotype_dir + '/' + tag + '_genotypes.npy'\n",
    "    \n",
    "    #check for the existence of a genotypes file for this isolate\n",
    "    if os.path.exists(genotypes_array_pickle_file):\n",
    "            \n",
    "        isolate_ids_with_genotypes.append(tag)\n",
    "            \n",
    "    else:\n",
    "        \n",
    "        isolate_ids_without_genotypes.append(tag)"
   ]
  },
  {
   "cell_type": "code",
   "execution_count": 7,
   "metadata": {},
   "outputs": [
    {
     "data": {
      "text/plain": [
       "33873"
      ]
     },
     "execution_count": 7,
     "metadata": {},
     "output_type": "execute_result"
    }
   ],
   "source": [
    "len(isolate_ids_with_genotypes)"
   ]
  },
  {
   "cell_type": "code",
   "execution_count": 8,
   "metadata": {},
   "outputs": [
    {
     "data": {
      "text/plain": [
       "0"
      ]
     },
     "execution_count": 8,
     "metadata": {},
     "output_type": "execute_result"
    }
   ],
   "source": [
    "len(isolate_ids_without_genotypes)"
   ]
  },
  {
   "cell_type": "code",
   "execution_count": 9,
   "metadata": {},
   "outputs": [],
   "source": [
    "del isolate_ids_with_genotypes #clear variable from memory"
   ]
  },
  {
   "cell_type": "markdown",
   "metadata": {},
   "source": [
    "### Concatenate genotypes arrays into a genotypes matrix for all isolates in rollingDB"
   ]
  },
  {
   "cell_type": "markdown",
   "metadata": {},
   "source": [
    "Store the __genotypes array__ for each isolate into a list"
   ]
  },
  {
   "cell_type": "code",
   "execution_count": 10,
   "metadata": {},
   "outputs": [
    {
     "name": "stdout",
     "output_type": "stream",
     "text": [
      "0.0\n",
      "0.0295220382015\n",
      "0.059044076403\n",
      "0.0885661146046\n",
      "0.118088152806\n",
      "0.147610191008\n",
      "0.177132229209\n",
      "0.206654267411\n",
      "0.236176305612\n",
      "0.265698343814\n",
      "0.295220382015\n",
      "0.324742420217\n",
      "0.354264458418\n",
      "0.38378649662\n",
      "0.413308534821\n",
      "0.442830573023\n",
      "0.472352611224\n",
      "0.501874649426\n",
      "0.531396687627\n",
      "0.560918725829\n",
      "0.59044076403\n",
      "0.619962802232\n",
      "0.649484840433\n",
      "0.679006878635\n",
      "0.708528916836\n",
      "0.738050955038\n",
      "0.767572993239\n",
      "0.797095031441\n",
      "0.826617069642\n",
      "0.856139107844\n",
      "0.885661146046\n",
      "0.915183184247\n",
      "0.944705222449\n",
      "0.97422726065\n"
     ]
    }
   ],
   "source": [
    "genotypes_directory = '/n/data1/hms/dbmi/farhat/Roger/inhost_TB_dynamics_project/rolling_DB_scrape/Genotypes/Genotypes_per_isolate/'\n",
    "genotype_arrays_per_isolate_list = []\n",
    "\n",
    "#iterate through the genotypes arrays for each isolate\n",
    "isolate_i = 0\n",
    "for isolate_ID in isolate_id_series:\n",
    "    \n",
    "    #load genotypes array\n",
    "    genotypes_array = np.load(genotypes_directory + isolate_ID + '/' + isolate_ID + '_genotypes.npy')\n",
    "    \n",
    "    #store genotypes array for this isolate in a list with all other genotypes arrays\n",
    "    genotype_arrays_per_isolate_list.append(genotypes_array)\n",
    "    \n",
    "    if isolate_i % 1000 == 0:\n",
    "        print float(isolate_i) / float(len(isolate_id_series))\n",
    "    isolate_i += 1"
   ]
  },
  {
   "cell_type": "markdown",
   "metadata": {},
   "source": [
    "Stack genotype arrays for all isolates to create one __genotypes matrix__ for all isolates "
   ]
  },
  {
   "cell_type": "code",
   "execution_count": 11,
   "metadata": {},
   "outputs": [],
   "source": [
    "genotypes_matrix = np.stack(genotype_arrays_per_isolate_list , axis = -1)"
   ]
  },
  {
   "cell_type": "code",
   "execution_count": 12,
   "metadata": {},
   "outputs": [
    {
     "data": {
      "text/plain": [
       "(146874, 33873)"
      ]
     },
     "execution_count": 12,
     "metadata": {},
     "output_type": "execute_result"
    }
   ],
   "source": [
    "np.shape(genotypes_matrix)"
   ]
  },
  {
   "cell_type": "code",
   "execution_count": 13,
   "metadata": {},
   "outputs": [
    {
     "data": {
      "text/plain": [
       "array([[0, 9, 9, ..., 0, 0, 0],\n",
       "       [1, 9, 9, ..., 1, 1, 1],\n",
       "       [0, 9, 0, ..., 0, 0, 0],\n",
       "       ...,\n",
       "       [2, 9, 9, ..., 2, 2, 2],\n",
       "       [2, 9, 9, ..., 2, 2, 2],\n",
       "       [1, 9, 9, ..., 1, 1, 1]])"
      ]
     },
     "execution_count": 13,
     "metadata": {},
     "output_type": "execute_result"
    }
   ],
   "source": [
    "genotypes_matrix"
   ]
  },
  {
   "cell_type": "markdown",
   "metadata": {},
   "source": [
    "Load __SNP annotation file__"
   ]
  },
  {
   "cell_type": "code",
   "execution_count": 2,
   "metadata": {},
   "outputs": [],
   "source": [
    "SNP_annotation_DF = pd.read_pickle('/n/data1/hms/dbmi/farhat/Roger/inhost_TB_dynamics_project/rolling_DB_scrape/Genotypes/genotypes_SNP_annotation.pkl')"
   ]
  },
  {
   "cell_type": "code",
   "execution_count": 3,
   "metadata": {},
   "outputs": [
    {
     "data": {
      "text/html": [
       "<div>\n",
       "<style>\n",
       "    .dataframe thead tr:only-child th {\n",
       "        text-align: right;\n",
       "    }\n",
       "\n",
       "    .dataframe thead th {\n",
       "        text-align: left;\n",
       "    }\n",
       "\n",
       "    .dataframe tbody tr th {\n",
       "        vertical-align: top;\n",
       "    }\n",
       "</style>\n",
       "<table border=\"1\" class=\"dataframe\">\n",
       "  <thead>\n",
       "    <tr style=\"text-align: right;\">\n",
       "      <th></th>\n",
       "      <th>pos</th>\n",
       "      <th>ref</th>\n",
       "      <th>alt</th>\n",
       "    </tr>\n",
       "  </thead>\n",
       "  <tbody>\n",
       "    <tr>\n",
       "      <th>0</th>\n",
       "      <td>11</td>\n",
       "      <td>A</td>\n",
       "      <td>[C]</td>\n",
       "    </tr>\n",
       "    <tr>\n",
       "      <th>1</th>\n",
       "      <td>29</td>\n",
       "      <td>C</td>\n",
       "      <td>[G]</td>\n",
       "    </tr>\n",
       "    <tr>\n",
       "      <th>2</th>\n",
       "      <td>31</td>\n",
       "      <td>A</td>\n",
       "      <td>[C, G]</td>\n",
       "    </tr>\n",
       "    <tr>\n",
       "      <th>3</th>\n",
       "      <td>48</td>\n",
       "      <td>C</td>\n",
       "      <td>[T]</td>\n",
       "    </tr>\n",
       "    <tr>\n",
       "      <th>4</th>\n",
       "      <td>64</td>\n",
       "      <td>G</td>\n",
       "      <td>[C]</td>\n",
       "    </tr>\n",
       "  </tbody>\n",
       "</table>\n",
       "</div>"
      ],
      "text/plain": [
       "   pos ref     alt\n",
       "0   11   A     [C]\n",
       "1   29   C     [G]\n",
       "2   31   A  [C, G]\n",
       "3   48   C     [T]\n",
       "4   64   G     [C]"
      ]
     },
     "execution_count": 3,
     "metadata": {},
     "output_type": "execute_result"
    }
   ],
   "source": [
    "SNP_annotation_DF.head()"
   ]
  },
  {
   "cell_type": "code",
   "execution_count": 4,
   "metadata": {},
   "outputs": [
    {
     "data": {
      "text/plain": [
       "(146874, 3)"
      ]
     },
     "execution_count": 4,
     "metadata": {},
     "output_type": "execute_result"
    }
   ],
   "source": [
    "np.shape(SNP_annotation_DF)"
   ]
  },
  {
   "cell_type": "code",
   "execution_count": 14,
   "metadata": {},
   "outputs": [],
   "source": [
    "del genotype_arrays_per_isolate_list #clear variable from memory"
   ]
  },
  {
   "cell_type": "markdown",
   "metadata": {},
   "source": [
    "## [1] Drop SNP sites that correspond that (1) are located in Mobile Genetic Element (MGE) regions and/or (2) have low Empirical Base Recall (EBR) Scores "
   ]
  },
  {
   "cell_type": "markdown",
   "metadata": {},
   "source": [
    "### (Filter 1)  *FILTER* out SNPs with low EBR scores"
   ]
  },
  {
   "cell_type": "markdown",
   "metadata": {},
   "source": [
    "#### Load list of low EBR score Reference positions to Drop (IL mapping/variant calling: sites with empirical score < 0.80)"
   ]
  },
  {
   "cell_type": "code",
   "execution_count": 5,
   "metadata": {},
   "outputs": [],
   "source": [
    "with open('/n/data1/hms/dbmi/farhat/Roger/inhost_TB_dynamics_project/rolling_DB_scrape/Genotypes/H37Rv_sites_with_low_EBR_to_drop.pkl', 'rb') as f:\n",
    "    H37Rv_positions_to_drop = pickle.load(f)\n",
    "    \n",
    "#convert to set, faster to check\n",
    "H37Rv_positions_to_drop = set(H37Rv_positions_to_drop)"
   ]
  },
  {
   "cell_type": "markdown",
   "metadata": {},
   "source": [
    "#### Filter out sites with low EBR scores"
   ]
  },
  {
   "cell_type": "markdown",
   "metadata": {},
   "source": [
    "Drop unique SNPs from the __GENOTYPE MATRIX__ and __SNP ANNOTATION FILE__"
   ]
  },
  {
   "cell_type": "code",
   "execution_count": 6,
   "metadata": {},
   "outputs": [],
   "source": [
    "#construct boolean filter\n",
    "SNPs_to_keep_filter = []\n",
    "for H37Rv_pos_i in SNP_annotation_DF.pos:\n",
    "    \n",
    "    if H37Rv_pos_i not in H37Rv_positions_to_drop:\n",
    "        \n",
    "        SNPs_to_keep_filter.append(True)\n",
    "        \n",
    "    elif H37Rv_pos_i in H37Rv_positions_to_drop:\n",
    "        \n",
    "        SNPs_to_keep_filter.append(False)"
   ]
  },
  {
   "cell_type": "code",
   "execution_count": 23,
   "metadata": {},
   "outputs": [],
   "source": [
    "#filter Genotypes Matrix\n",
    "genotypes_matrix = genotypes_matrix[SNPs_to_keep_filter , :]\n",
    "\n",
    "#filter SNP annotation file\n",
    "SNP_annotation_DF = SNP_annotation_DF[SNPs_to_keep_filter]\n",
    "SNP_annotation_DF.reset_index(drop = True , inplace = True) #re-index new filtered SNP annotation DF (so new index matches indexing of genotypes matrix rows)"
   ]
  },
  {
   "cell_type": "code",
   "execution_count": 8,
   "metadata": {},
   "outputs": [
    {
     "data": {
      "text/plain": [
       "2348"
      ]
     },
     "execution_count": 8,
     "metadata": {},
     "output_type": "execute_result"
    }
   ],
   "source": [
    "len(SNPs_to_keep_filter) - sum(SNPs_to_keep_filter) #number of sites dropped by this filter"
   ]
  },
  {
   "cell_type": "code",
   "execution_count": 25,
   "metadata": {},
   "outputs": [
    {
     "data": {
      "text/plain": [
       "(144526, 33873)"
      ]
     },
     "execution_count": 25,
     "metadata": {},
     "output_type": "execute_result"
    }
   ],
   "source": [
    "np.shape(genotypes_matrix)"
   ]
  },
  {
   "cell_type": "code",
   "execution_count": 9,
   "metadata": {},
   "outputs": [
    {
     "data": {
      "text/html": [
       "<div>\n",
       "<style>\n",
       "    .dataframe thead tr:only-child th {\n",
       "        text-align: right;\n",
       "    }\n",
       "\n",
       "    .dataframe thead th {\n",
       "        text-align: left;\n",
       "    }\n",
       "\n",
       "    .dataframe tbody tr th {\n",
       "        vertical-align: top;\n",
       "    }\n",
       "</style>\n",
       "<table border=\"1\" class=\"dataframe\">\n",
       "  <thead>\n",
       "    <tr style=\"text-align: right;\">\n",
       "      <th></th>\n",
       "      <th>pos</th>\n",
       "      <th>ref</th>\n",
       "      <th>alt</th>\n",
       "    </tr>\n",
       "  </thead>\n",
       "  <tbody>\n",
       "    <tr>\n",
       "      <th>0</th>\n",
       "      <td>11</td>\n",
       "      <td>A</td>\n",
       "      <td>[C]</td>\n",
       "    </tr>\n",
       "    <tr>\n",
       "      <th>1</th>\n",
       "      <td>29</td>\n",
       "      <td>C</td>\n",
       "      <td>[G]</td>\n",
       "    </tr>\n",
       "    <tr>\n",
       "      <th>2</th>\n",
       "      <td>31</td>\n",
       "      <td>A</td>\n",
       "      <td>[C, G]</td>\n",
       "    </tr>\n",
       "    <tr>\n",
       "      <th>3</th>\n",
       "      <td>48</td>\n",
       "      <td>C</td>\n",
       "      <td>[T]</td>\n",
       "    </tr>\n",
       "    <tr>\n",
       "      <th>4</th>\n",
       "      <td>64</td>\n",
       "      <td>G</td>\n",
       "      <td>[C]</td>\n",
       "    </tr>\n",
       "  </tbody>\n",
       "</table>\n",
       "</div>"
      ],
      "text/plain": [
       "   pos ref     alt\n",
       "0   11   A     [C]\n",
       "1   29   C     [G]\n",
       "2   31   A  [C, G]\n",
       "3   48   C     [T]\n",
       "4   64   G     [C]"
      ]
     },
     "execution_count": 9,
     "metadata": {},
     "output_type": "execute_result"
    }
   ],
   "source": [
    "SNP_annotation_DF.head()"
   ]
  },
  {
   "cell_type": "code",
   "execution_count": 10,
   "metadata": {
    "scrolled": true
   },
   "outputs": [
    {
     "data": {
      "text/plain": [
       "(144526, 3)"
      ]
     },
     "execution_count": 10,
     "metadata": {},
     "output_type": "execute_result"
    }
   ],
   "source": [
    "np.shape(SNP_annotation_DF) #Annotation for Rows of Genotypes Matrix"
   ]
  },
  {
   "cell_type": "markdown",
   "metadata": {},
   "source": [
    "### (Filter 2) *FILTER* out SNPs in MGE regions"
   ]
  },
  {
   "cell_type": "markdown",
   "metadata": {},
   "source": [
    "#### Collect list of MGE Reference Positions to Drop"
   ]
  },
  {
   "cell_type": "code",
   "execution_count": 15,
   "metadata": {},
   "outputs": [],
   "source": [
    "#csv files with category for each gene\n",
    "gene_categories_df = pd.read_csv('/n/data1/hms/dbmi/farhat/Roger/inhost_TB_dynamics_project/CSV_files/gene_categories/gene_categories.csv')"
   ]
  },
  {
   "cell_type": "code",
   "execution_count": 16,
   "metadata": {},
   "outputs": [
    {
     "data": {
      "text/html": [
       "<div>\n",
       "<style>\n",
       "    .dataframe thead tr:only-child th {\n",
       "        text-align: right;\n",
       "    }\n",
       "\n",
       "    .dataframe thead th {\n",
       "        text-align: left;\n",
       "    }\n",
       "\n",
       "    .dataframe tbody tr th {\n",
       "        vertical-align: top;\n",
       "    }\n",
       "</style>\n",
       "<table border=\"1\" class=\"dataframe\">\n",
       "  <thead>\n",
       "    <tr style=\"text-align: right;\">\n",
       "      <th></th>\n",
       "      <th>name</th>\n",
       "      <th>gene_id</th>\n",
       "      <th>Gene_Category</th>\n",
       "    </tr>\n",
       "  </thead>\n",
       "  <tbody>\n",
       "    <tr>\n",
       "      <th>0</th>\n",
       "      <td>Rv0001</td>\n",
       "      <td>Rv0001</td>\n",
       "      <td>Essential</td>\n",
       "    </tr>\n",
       "    <tr>\n",
       "      <th>1</th>\n",
       "      <td>Rv0002</td>\n",
       "      <td>Rv0002</td>\n",
       "      <td>Non-Essential</td>\n",
       "    </tr>\n",
       "    <tr>\n",
       "      <th>2</th>\n",
       "      <td>Rv0003</td>\n",
       "      <td>Rv0003</td>\n",
       "      <td>Non-Essential</td>\n",
       "    </tr>\n",
       "    <tr>\n",
       "      <th>3</th>\n",
       "      <td>Rv0004</td>\n",
       "      <td>Rv0004</td>\n",
       "      <td>Non-Essential</td>\n",
       "    </tr>\n",
       "    <tr>\n",
       "      <th>4</th>\n",
       "      <td>Rv0005</td>\n",
       "      <td>Rv0005</td>\n",
       "      <td>Antibiotic Resistance</td>\n",
       "    </tr>\n",
       "  </tbody>\n",
       "</table>\n",
       "</div>"
      ],
      "text/plain": [
       "     name gene_id          Gene_Category\n",
       "0  Rv0001  Rv0001              Essential\n",
       "1  Rv0002  Rv0002          Non-Essential\n",
       "2  Rv0003  Rv0003          Non-Essential\n",
       "3  Rv0004  Rv0004          Non-Essential\n",
       "4  Rv0005  Rv0005  Antibiotic Resistance"
      ]
     },
     "execution_count": 16,
     "metadata": {},
     "output_type": "execute_result"
    }
   ],
   "source": [
    "gene_categories_df.head()"
   ]
  },
  {
   "cell_type": "code",
   "execution_count": 17,
   "metadata": {},
   "outputs": [],
   "source": [
    "#reference genome annotation\n",
    "reference_genome_annotation = pd.read_csv('/n/data1/hms/dbmi/farhat/Roger/inhost_TB_dynamics_project/H37Rv/h37rv_genome_summary.txt', '\\t').set_index('name')"
   ]
  },
  {
   "cell_type": "markdown",
   "metadata": {},
   "source": [
    "Collect positions for **MGEs**"
   ]
  },
  {
   "cell_type": "code",
   "execution_count": 18,
   "metadata": {},
   "outputs": [],
   "source": [
    "H37Rv_positions_MGE_genes = []\n",
    "\n",
    "for gene_id in gene_categories_df[gene_categories_df.Gene_Category == 'Mobile Genetic Element'].gene_id:\n",
    "    \n",
    "    #get reference positions tht corresond to each gene\n",
    "    gene_id_info = reference_genome_annotation.loc[gene_id, :]\n",
    "    gene_id = gene_id_info.name\n",
    "\n",
    "    chrom_start = gene_id_info.chromStart\n",
    "    chrom_end = gene_id_info.chromEnd\n",
    "\n",
    "    #find the position of the first base relative to H37Rv in 5' -> 3'\n",
    "    H37Rv_start = min(chrom_start , chrom_end)\n",
    "    H37Rv_end = max(chrom_start , chrom_end)\n",
    "    \n",
    "    #store all corresponding H37Rv Reference Positions to gene_id in list of reference positions to scan\n",
    "    H37Rv_positions_MGE_genes.append([H37Rv_start+1 , H37Rv_end+1])"
   ]
  },
  {
   "cell_type": "code",
   "execution_count": 19,
   "metadata": {},
   "outputs": [
    {
     "data": {
      "text/plain": [
       "108"
      ]
     },
     "execution_count": 19,
     "metadata": {},
     "output_type": "execute_result"
    }
   ],
   "source": [
    "len(H37Rv_positions_MGE_genes)"
   ]
  },
  {
   "cell_type": "markdown",
   "metadata": {},
   "source": [
    "#### FILTER out sites in MGE regions"
   ]
  },
  {
   "cell_type": "code",
   "execution_count": 20,
   "metadata": {},
   "outputs": [],
   "source": [
    "#construct boolean filter\n",
    "SNPs_to_keep_filter = []\n",
    "for H37Rv_pos_i in SNP_annotation_DF.pos:\n",
    "\n",
    "    bad_pos_i = False\n",
    "\n",
    "    for problem_region in H37Rv_positions_MGE_genes:\n",
    "\n",
    "        if (H37Rv_pos_i > problem_region[0]) and (H37Rv_pos_i < problem_region[1]):\n",
    "            bad_pos_i = True\n",
    "            break\n",
    "\n",
    "    if bad_pos_i == False:\n",
    "        SNPs_to_keep_filter.append(True)\n",
    "    else:\n",
    "        SNPs_to_keep_filter.append(False)"
   ]
  },
  {
   "cell_type": "code",
   "execution_count": 34,
   "metadata": {},
   "outputs": [],
   "source": [
    "#filter Genotypes Matrix\n",
    "genotypes_matrix = genotypes_matrix[SNPs_to_keep_filter , :]\n",
    "\n",
    "#filter SNP annotation file\n",
    "SNP_annotation_DF = SNP_annotation_DF[SNPs_to_keep_filter]\n",
    "SNP_annotation_DF.reset_index(drop = True , inplace = True) #re-index new filtered SNP annotation DF (so new index matches indexing of genotypes matrix rows)"
   ]
  },
  {
   "cell_type": "code",
   "execution_count": 35,
   "metadata": {},
   "outputs": [
    {
     "data": {
      "text/plain": [
       "1509"
      ]
     },
     "execution_count": 35,
     "metadata": {},
     "output_type": "execute_result"
    }
   ],
   "source": [
    "len(SNPs_to_keep_filter) - sum(SNPs_to_keep_filter) #number of sites dropped by this filter"
   ]
  },
  {
   "cell_type": "code",
   "execution_count": 36,
   "metadata": {},
   "outputs": [
    {
     "data": {
      "text/plain": [
       "(143017, 33873)"
      ]
     },
     "execution_count": 36,
     "metadata": {},
     "output_type": "execute_result"
    }
   ],
   "source": [
    "np.shape(genotypes_matrix)"
   ]
  },
  {
   "cell_type": "code",
   "execution_count": 37,
   "metadata": {},
   "outputs": [
    {
     "data": {
      "text/html": [
       "<div>\n",
       "<style>\n",
       "    .dataframe thead tr:only-child th {\n",
       "        text-align: right;\n",
       "    }\n",
       "\n",
       "    .dataframe thead th {\n",
       "        text-align: left;\n",
       "    }\n",
       "\n",
       "    .dataframe tbody tr th {\n",
       "        vertical-align: top;\n",
       "    }\n",
       "</style>\n",
       "<table border=\"1\" class=\"dataframe\">\n",
       "  <thead>\n",
       "    <tr style=\"text-align: right;\">\n",
       "      <th></th>\n",
       "      <th>pos</th>\n",
       "      <th>ref</th>\n",
       "      <th>alt</th>\n",
       "    </tr>\n",
       "  </thead>\n",
       "  <tbody>\n",
       "    <tr>\n",
       "      <th>0</th>\n",
       "      <td>11</td>\n",
       "      <td>A</td>\n",
       "      <td>[C]</td>\n",
       "    </tr>\n",
       "    <tr>\n",
       "      <th>1</th>\n",
       "      <td>29</td>\n",
       "      <td>C</td>\n",
       "      <td>[G]</td>\n",
       "    </tr>\n",
       "    <tr>\n",
       "      <th>2</th>\n",
       "      <td>31</td>\n",
       "      <td>A</td>\n",
       "      <td>[C, G]</td>\n",
       "    </tr>\n",
       "    <tr>\n",
       "      <th>3</th>\n",
       "      <td>48</td>\n",
       "      <td>C</td>\n",
       "      <td>[T]</td>\n",
       "    </tr>\n",
       "    <tr>\n",
       "      <th>4</th>\n",
       "      <td>64</td>\n",
       "      <td>G</td>\n",
       "      <td>[C]</td>\n",
       "    </tr>\n",
       "  </tbody>\n",
       "</table>\n",
       "</div>"
      ],
      "text/plain": [
       "   pos ref     alt\n",
       "0   11   A     [C]\n",
       "1   29   C     [G]\n",
       "2   31   A  [C, G]\n",
       "3   48   C     [T]\n",
       "4   64   G     [C]"
      ]
     },
     "execution_count": 37,
     "metadata": {},
     "output_type": "execute_result"
    }
   ],
   "source": [
    "SNP_annotation_DF.head()"
   ]
  },
  {
   "cell_type": "code",
   "execution_count": 38,
   "metadata": {},
   "outputs": [
    {
     "data": {
      "text/plain": [
       "(143017, 3)"
      ]
     },
     "execution_count": 38,
     "metadata": {},
     "output_type": "execute_result"
    }
   ],
   "source": [
    "np.shape(SNP_annotation_DF) #Annotation for Rows of Genotypes Matrix"
   ]
  },
  {
   "cell_type": "markdown",
   "metadata": {},
   "source": [
    "### (Filter 3) *FILTER* out SNPs that are missing in $> 25\\%$ of isolates"
   ]
  },
  {
   "cell_type": "markdown",
   "metadata": {},
   "source": [
    "#### Investigate the Number of Missing Calls for each Unique SNP"
   ]
  },
  {
   "cell_type": "code",
   "execution_count": 58,
   "metadata": {},
   "outputs": [],
   "source": [
    "plt.style.use('ggplot')\n",
    "plt.rcParams['lines.linewidth']=3\n",
    "plt.rcParams['axes.facecolor']='1.0'\n",
    "plt.rcParams['xtick.color']='black'\n",
    "plt.rcParams['axes.grid']=True\n",
    "plt.rcParams['axes.edgecolor']='black'\n",
    "plt.rcParams['grid.color']= '1.0'\n",
    "plt.rcParams.update({'font.size': 12})"
   ]
  },
  {
   "cell_type": "markdown",
   "metadata": {},
   "source": [
    "Look for SNPs with an abundance of missing values, drop SNPs that have missing values $> 25\\%$ of the isolates"
   ]
  },
  {
   "cell_type": "code",
   "execution_count": 59,
   "metadata": {},
   "outputs": [],
   "source": [
    "missing_values = genotypes_matrix == 9\n",
    "missing_values_per_SNP = missing_values.sum(axis = 1) #will range from 0 - 33,873"
   ]
  },
  {
   "cell_type": "code",
   "execution_count": 60,
   "metadata": {},
   "outputs": [],
   "source": [
    "#impose a threshold for maximum number of missing values per SNP (across all isolates)\n",
    "max_proportion_missing = 0.25\n",
    "number_of_isolates = float(np.shape(genotypes_matrix)[1])\n",
    "\n",
    "max_number_values_missing_per_SNP = np.floor( max_proportion_missing * number_of_isolates )"
   ]
  },
  {
   "cell_type": "code",
   "execution_count": 61,
   "metadata": {},
   "outputs": [
    {
     "name": "stdout",
     "output_type": "stream",
     "text": [
      "8468.0\n"
     ]
    }
   ],
   "source": [
    "print max_number_values_missing_per_SNP #that we're going to allow"
   ]
  },
  {
   "cell_type": "code",
   "execution_count": 64,
   "metadata": {},
   "outputs": [
    {
     "data": {
      "image/png": "[encoded data removed]",
      "text/plain": [
       "<Figure size 468x378 with 1 Axes>"
      ]
     },
     "metadata": {},
     "output_type": "display_data"
    }
   ],
   "source": [
    "fig , ax = plt.subplots()\n",
    "\n",
    "n , bins , patches = plt.hist( missing_values_per_SNP / number_of_isolates , bins = 50 , color = 'k' , rwidth = 1.0 , edgecolor='white', linewidth=1.0)\n",
    "plt.hist( missing_values_per_SNP[missing_values_per_SNP > max_number_values_missing_per_SNP] / number_of_isolates , bins = bins , color = 'red' , rwidth = 1.0 , edgecolor='white', linewidth=1.0)\n",
    "\n",
    "#plt.title('Mean Coverage across sequenced isolates in rollingDB', fontweight = 'bold' , fontsize = 12, color = 'k')\n",
    "plt.xlabel('Proportion of Isolates with Missing Values', fontweight = 'bold' , fontsize = 12, color = 'k')\n",
    "plt.ylabel('Number of Unique SNPs', fontweight = 'bold' , fontsize = 12, color = 'k')\n",
    "\n",
    "ax.spines['right'].set_visible(False)\n",
    "ax.spines['top'].set_visible(False)\n",
    "\n",
    "ax.tick_params(labelcolor = 'k')\n",
    "ax.set_yscale(\"log\", nonposy='clip')\n",
    "\n",
    "fig = plt.gcf()\n",
    "fig.set_size_inches(6.5, 5.25)\n",
    "fig.tight_layout()\n",
    "\n",
    "plt.tick_params(axis='y', which='major', labelsize=12 , labelcolor = 'k')\n",
    "plt.tick_params(axis='x', which='major', labelsize=12 , labelcolor = 'k')\n",
    "\n",
    "#file_name = '/home/rv76/Farhat_Lab/Figures/Final_5/Scraping_rollingDB/Mean_Coverage_Distribution_across_all_isolates.pdf'\n",
    "#plt.savefig(file_name, bbox_inches='tight', dpi = 300 , transparent = True)\n",
    "\n",
    "plt.show()"
   ]
  },
  {
   "cell_type": "code",
   "execution_count": 65,
   "metadata": {},
   "outputs": [
    {
     "name": "stdout",
     "output_type": "stream",
     "text": [
      "Number of Isolates = 33873.0\n"
     ]
    }
   ],
   "source": [
    "print 'Number of Isolates = ' + str( number_of_isolates )"
   ]
  },
  {
   "cell_type": "markdown",
   "metadata": {},
   "source": [
    "Range and Average Number of Missing Values per SNP"
   ]
  },
  {
   "cell_type": "code",
   "execution_count": 66,
   "metadata": {},
   "outputs": [
    {
     "data": {
      "text/plain": [
       "166"
      ]
     },
     "execution_count": 66,
     "metadata": {},
     "output_type": "execute_result"
    }
   ],
   "source": [
    "np.min(missing_values_per_SNP)"
   ]
  },
  {
   "cell_type": "code",
   "execution_count": 67,
   "metadata": {},
   "outputs": [
    {
     "data": {
      "text/plain": [
       "1681.338931735388"
      ]
     },
     "execution_count": 67,
     "metadata": {},
     "output_type": "execute_result"
    }
   ],
   "source": [
    "np.mean(missing_values_per_SNP)"
   ]
  },
  {
   "cell_type": "code",
   "execution_count": 68,
   "metadata": {},
   "outputs": [
    {
     "data": {
      "text/plain": [
       "33805"
      ]
     },
     "execution_count": 68,
     "metadata": {},
     "output_type": "execute_result"
    }
   ],
   "source": [
    "np.max(missing_values_per_SNP) "
   ]
  },
  {
   "cell_type": "code",
   "execution_count": 69,
   "metadata": {},
   "outputs": [
    {
     "name": "stdout",
     "output_type": "stream",
     "text": [
      "SNP with most missing values is missing from 99.7992501402% of isolates\n"
     ]
    }
   ],
   "source": [
    "print 'SNP with most missing values is missing from ' + str( float(np.max(missing_values_per_SNP) ) / number_of_isolates * 100) + '% of isolates' "
   ]
  },
  {
   "cell_type": "markdown",
   "metadata": {},
   "source": [
    "Drop SNPs that are flagged as 'missing values' in more than 25% of isolates in rollingDB"
   ]
  },
  {
   "cell_type": "code",
   "execution_count": 70,
   "metadata": {},
   "outputs": [
    {
     "name": "stdout",
     "output_type": "stream",
     "text": [
      "3220\n"
     ]
    }
   ],
   "source": [
    "print sum( missing_values_per_SNP > max_number_values_missing_per_SNP )"
   ]
  },
  {
   "cell_type": "markdown",
   "metadata": {},
   "source": [
    "Percentage of SNPs with many missing values that we're going to drop from analysis"
   ]
  },
  {
   "cell_type": "code",
   "execution_count": 71,
   "metadata": {},
   "outputs": [
    {
     "name": "stdout",
     "output_type": "stream",
     "text": [
      "2.251480593216191\n"
     ]
    }
   ],
   "source": [
    "number_of_unique_SNPs = float(np.shape(genotypes_matrix)[0])\n",
    "print 100.0 * ( sum( missing_values_per_SNP > max_number_values_missing_per_SNP ) / number_of_unique_SNPs )"
   ]
  },
  {
   "cell_type": "markdown",
   "metadata": {},
   "source": [
    "#### FILTER out sites with missing calls in $> 25\\%$ of isolates"
   ]
  },
  {
   "cell_type": "markdown",
   "metadata": {},
   "source": [
    "Drop unique SNPs with a high abundance of missing values"
   ]
  },
  {
   "cell_type": "code",
   "execution_count": 72,
   "metadata": {
    "scrolled": true
   },
   "outputs": [
    {
     "data": {
      "text/plain": [
       "(143017, 33873)"
      ]
     },
     "execution_count": 72,
     "metadata": {},
     "output_type": "execute_result"
    }
   ],
   "source": [
    "np.shape( genotypes_matrix )"
   ]
  },
  {
   "cell_type": "markdown",
   "metadata": {},
   "source": [
    "Drop unique SNPs from the __GENOTYPE MATRIX__"
   ]
  },
  {
   "cell_type": "code",
   "execution_count": 73,
   "metadata": {
    "scrolled": true
   },
   "outputs": [
    {
     "data": {
      "text/plain": [
       "143017"
      ]
     },
     "execution_count": 73,
     "metadata": {},
     "output_type": "execute_result"
    }
   ],
   "source": [
    "len( missing_values_per_SNP <= max_number_values_missing_per_SNP )"
   ]
  },
  {
   "cell_type": "code",
   "execution_count": 74,
   "metadata": {},
   "outputs": [],
   "source": [
    "SNPs_to_keep_filter = missing_values_per_SNP <= max_number_values_missing_per_SNP"
   ]
  },
  {
   "cell_type": "code",
   "execution_count": 75,
   "metadata": {},
   "outputs": [
    {
     "data": {
      "text/plain": [
       "139797"
      ]
     },
     "execution_count": 75,
     "metadata": {},
     "output_type": "execute_result"
    }
   ],
   "source": [
    "sum(SNPs_to_keep_filter)"
   ]
  },
  {
   "cell_type": "code",
   "execution_count": 76,
   "metadata": {},
   "outputs": [],
   "source": [
    "genotypes_matrix = genotypes_matrix[SNPs_to_keep_filter , :]"
   ]
  },
  {
   "cell_type": "code",
   "execution_count": 77,
   "metadata": {},
   "outputs": [
    {
     "data": {
      "text/plain": [
       "(139797, 33873)"
      ]
     },
     "execution_count": 77,
     "metadata": {},
     "output_type": "execute_result"
    }
   ],
   "source": [
    "np.shape(genotypes_matrix) #Genotype Matrix"
   ]
  },
  {
   "cell_type": "markdown",
   "metadata": {},
   "source": [
    "Drop unique SNPs with a high abundance of missing values from the __SNP ANNOTATION FILE__"
   ]
  },
  {
   "cell_type": "code",
   "execution_count": 78,
   "metadata": {},
   "outputs": [],
   "source": [
    "SNP_annotation_DF = SNP_annotation_DF[SNPs_to_keep_filter]\n",
    "\n",
    "#re-index new filtered SNP annotation DF (so new index matches indexing of genotypes matrix rows)\n",
    "SNP_annotation_DF.reset_index(drop = True , inplace = True)"
   ]
  },
  {
   "cell_type": "code",
   "execution_count": 79,
   "metadata": {},
   "outputs": [
    {
     "data": {
      "text/html": [
       "<div>\n",
       "<style>\n",
       "    .dataframe thead tr:only-child th {\n",
       "        text-align: right;\n",
       "    }\n",
       "\n",
       "    .dataframe thead th {\n",
       "        text-align: left;\n",
       "    }\n",
       "\n",
       "    .dataframe tbody tr th {\n",
       "        vertical-align: top;\n",
       "    }\n",
       "</style>\n",
       "<table border=\"1\" class=\"dataframe\">\n",
       "  <thead>\n",
       "    <tr style=\"text-align: right;\">\n",
       "      <th></th>\n",
       "      <th>pos</th>\n",
       "      <th>ref</th>\n",
       "      <th>alt</th>\n",
       "    </tr>\n",
       "  </thead>\n",
       "  <tbody>\n",
       "    <tr>\n",
       "      <th>0</th>\n",
       "      <td>29</td>\n",
       "      <td>C</td>\n",
       "      <td>[G]</td>\n",
       "    </tr>\n",
       "    <tr>\n",
       "      <th>1</th>\n",
       "      <td>31</td>\n",
       "      <td>A</td>\n",
       "      <td>[C, G]</td>\n",
       "    </tr>\n",
       "    <tr>\n",
       "      <th>2</th>\n",
       "      <td>48</td>\n",
       "      <td>C</td>\n",
       "      <td>[T]</td>\n",
       "    </tr>\n",
       "    <tr>\n",
       "      <th>3</th>\n",
       "      <td>64</td>\n",
       "      <td>G</td>\n",
       "      <td>[C]</td>\n",
       "    </tr>\n",
       "    <tr>\n",
       "      <th>4</th>\n",
       "      <td>71</td>\n",
       "      <td>C</td>\n",
       "      <td>[T]</td>\n",
       "    </tr>\n",
       "  </tbody>\n",
       "</table>\n",
       "</div>"
      ],
      "text/plain": [
       "   pos ref     alt\n",
       "0   29   C     [G]\n",
       "1   31   A  [C, G]\n",
       "2   48   C     [T]\n",
       "3   64   G     [C]\n",
       "4   71   C     [T]"
      ]
     },
     "execution_count": 79,
     "metadata": {},
     "output_type": "execute_result"
    }
   ],
   "source": [
    "SNP_annotation_DF.head()"
   ]
  },
  {
   "cell_type": "code",
   "execution_count": 80,
   "metadata": {},
   "outputs": [
    {
     "data": {
      "text/plain": [
       "(139797, 3)"
      ]
     },
     "execution_count": 80,
     "metadata": {},
     "output_type": "execute_result"
    }
   ],
   "source": [
    "np.shape(SNP_annotation_DF) #Annotation for Rows of Genotypes Matrix"
   ]
  },
  {
   "cell_type": "markdown",
   "metadata": {},
   "source": [
    "## [9.2] Drop low-quality isolates"
   ]
  },
  {
   "cell_type": "markdown",
   "metadata": {},
   "source": [
    "### (Filter 4) *FILTER* out isolates that have missing base calls $> 25\\%$ of SNP sites"
   ]
  },
  {
   "cell_type": "markdown",
   "metadata": {},
   "source": [
    "#### Investigate the Number of Missing Calls for each Sequenced Isolate"
   ]
  },
  {
   "cell_type": "markdown",
   "metadata": {},
   "source": [
    "Look for isolates with an abundance of missing values, drop isolates that have missing values > 25% of SNP calls"
   ]
  },
  {
   "cell_type": "code",
   "execution_count": 99,
   "metadata": {},
   "outputs": [],
   "source": [
    "missing_values = genotypes_matrix == 9\n",
    "missing_values_per_isolate = missing_values.sum(axis = 0) #will range from 0 - 139,797"
   ]
  },
  {
   "cell_type": "code",
   "execution_count": 100,
   "metadata": {},
   "outputs": [],
   "source": [
    "#impose a threshold for maximum number of missing values per isolate (across all SNPs)\n",
    "max_proportion_missing = 0.25\n",
    "number_of_SNPs = float(np.shape(genotypes_matrix)[0])\n",
    "\n",
    "max_number_values_missing_per_isolate = np.floor( max_proportion_missing * number_of_SNPs )"
   ]
  },
  {
   "cell_type": "code",
   "execution_count": 101,
   "metadata": {},
   "outputs": [
    {
     "name": "stdout",
     "output_type": "stream",
     "text": [
      "34949.0\n"
     ]
    }
   ],
   "source": [
    "print max_number_values_missing_per_isolate #that we're going to allow"
   ]
  },
  {
   "cell_type": "code",
   "execution_count": 102,
   "metadata": {},
   "outputs": [
    {
     "data": {
      "image/png": "[encoded data removed]",
      "text/plain": [
       "<Figure size 540x378 with 1 Axes>"
      ]
     },
     "metadata": {},
     "output_type": "display_data"
    }
   ],
   "source": [
    "fig , ax = plt.subplots()\n",
    "\n",
    "n , bins , patches = plt.hist( missing_values_per_isolate / number_of_SNPs , bins = 50 , color = 'k' , rwidth = 1.0 , edgecolor='white', linewidth=1.0)\n",
    "plt.hist( missing_values_per_isolate[missing_values_per_isolate > max_number_values_missing_per_isolate] / number_of_SNPs , bins = bins , color = 'red' , rwidth = 1.0 , edgecolor='white', linewidth=1.0)\n",
    "\n",
    "\n",
    "#plt.title('Mean Coverage across sequenced isolates in rollingDB', fontweight = 'bold' , fontsize = 12, color = 'k')\n",
    "plt.xlabel('Proportion of SNPs with Missing Values', fontweight = 'bold' , fontsize = 12, color = 'k')\n",
    "plt.ylabel('Number of Isolates', fontweight = 'bold' , fontsize = 12, color = 'k')\n",
    "\n",
    "ax.spines['right'].set_visible(False)\n",
    "ax.spines['top'].set_visible(False)\n",
    "\n",
    "ax.tick_params(labelcolor = 'k')\n",
    "ax.set_yscale(\"log\", nonposy='clip')\n",
    "\n",
    "fig = plt.gcf()\n",
    "fig.set_size_inches(7.5, 5.25)\n",
    "fig.tight_layout()\n",
    "\n",
    "plt.tick_params(axis='y', which='major', labelsize=12 , labelcolor = 'k')\n",
    "plt.tick_params(axis='x', which='major', labelsize=12 , labelcolor = 'k')\n",
    "\n",
    "#file_name = '/home/rv76/Farhat_Lab/Figures/Final_5/Scraping_rollingDB/Mean_Coverage_Distribution_across_all_isolates.pdf'\n",
    "#plt.savefig(file_name, bbox_inches='tight', dpi = 300 , transparent = True)\n",
    "\n",
    "plt.show()"
   ]
  },
  {
   "cell_type": "code",
   "execution_count": 103,
   "metadata": {},
   "outputs": [
    {
     "name": "stdout",
     "output_type": "stream",
     "text": [
      "Number of unique SNPs = 139797.0\n"
     ]
    }
   ],
   "source": [
    "print 'Number of unique SNPs = ' + str( number_of_SNPs )"
   ]
  },
  {
   "cell_type": "markdown",
   "metadata": {},
   "source": [
    "Range and Average Number of Missing Values per unique SNP"
   ]
  },
  {
   "cell_type": "code",
   "execution_count": 104,
   "metadata": {},
   "outputs": [
    {
     "data": {
      "text/plain": [
       "54"
      ]
     },
     "execution_count": 104,
     "metadata": {},
     "output_type": "execute_result"
    }
   ],
   "source": [
    "np.min(missing_values_per_isolate)"
   ]
  },
  {
   "cell_type": "code",
   "execution_count": 105,
   "metadata": {},
   "outputs": [
    {
     "data": {
      "text/plain": [
       "5819.3169781241695"
      ]
     },
     "execution_count": 105,
     "metadata": {},
     "output_type": "execute_result"
    }
   ],
   "source": [
    "np.mean(missing_values_per_isolate)"
   ]
  },
  {
   "cell_type": "code",
   "execution_count": 106,
   "metadata": {},
   "outputs": [
    {
     "data": {
      "text/plain": [
       "139797"
      ]
     },
     "execution_count": 106,
     "metadata": {},
     "output_type": "execute_result"
    }
   ],
   "source": [
    "np.max(missing_values_per_isolate) "
   ]
  },
  {
   "cell_type": "code",
   "execution_count": 107,
   "metadata": {},
   "outputs": [
    {
     "name": "stdout",
     "output_type": "stream",
     "text": [
      "Isolate with most missing values has 100.0% missing values\n"
     ]
    }
   ],
   "source": [
    "print 'Isolate with most missing values has ' + str( float(np.max(missing_values_per_isolate) ) / number_of_SNPs * 100) + '% missing values' "
   ]
  },
  {
   "cell_type": "markdown",
   "metadata": {},
   "source": [
    "Drop isolates that are flagged as 'missing values' in more than 25% of isolates in rollingDB"
   ]
  },
  {
   "cell_type": "code",
   "execution_count": 108,
   "metadata": {},
   "outputs": [
    {
     "name": "stdout",
     "output_type": "stream",
     "text": [
      "1518\n"
     ]
    }
   ],
   "source": [
    "print sum( missing_values_per_isolate > max_number_values_missing_per_isolate )"
   ]
  },
  {
   "cell_type": "markdown",
   "metadata": {},
   "source": [
    "Percentage of isolates with many missing values that we're going to drop from analysis"
   ]
  },
  {
   "cell_type": "code",
   "execution_count": 109,
   "metadata": {},
   "outputs": [
    {
     "name": "stdout",
     "output_type": "stream",
     "text": [
      "4.481445398990346\n"
     ]
    }
   ],
   "source": [
    "number_of_unique_isolates = float(np.shape(genotypes_matrix)[1])\n",
    "print 100.0 * ( sum( missing_values_per_isolate > max_number_values_missing_per_isolate ) / number_of_unique_isolates )"
   ]
  },
  {
   "cell_type": "markdown",
   "metadata": {},
   "source": [
    "#### FILTER out low-quality isolates with $> 25\\%$ missing SNP calls"
   ]
  },
  {
   "cell_type": "markdown",
   "metadata": {},
   "source": [
    "Drop unique isolates with a high abundance of missing values"
   ]
  },
  {
   "cell_type": "code",
   "execution_count": 110,
   "metadata": {
    "scrolled": true
   },
   "outputs": [
    {
     "data": {
      "text/plain": [
       "(139797, 33873)"
      ]
     },
     "execution_count": 110,
     "metadata": {},
     "output_type": "execute_result"
    }
   ],
   "source": [
    "np.shape( genotypes_matrix )"
   ]
  },
  {
   "cell_type": "markdown",
   "metadata": {},
   "source": [
    "Drop isolates from the __GENOTYPE MATRIX__"
   ]
  },
  {
   "cell_type": "code",
   "execution_count": 111,
   "metadata": {},
   "outputs": [
    {
     "data": {
      "text/plain": [
       "33873"
      ]
     },
     "execution_count": 111,
     "metadata": {},
     "output_type": "execute_result"
    }
   ],
   "source": [
    "len( missing_values_per_isolate <= max_number_values_missing_per_isolate )"
   ]
  },
  {
   "cell_type": "code",
   "execution_count": 112,
   "metadata": {},
   "outputs": [],
   "source": [
    "isolates_to_keep_filter = missing_values_per_isolate <= max_number_values_missing_per_isolate"
   ]
  },
  {
   "cell_type": "code",
   "execution_count": 113,
   "metadata": {},
   "outputs": [
    {
     "data": {
      "text/plain": [
       "32355"
      ]
     },
     "execution_count": 113,
     "metadata": {},
     "output_type": "execute_result"
    }
   ],
   "source": [
    "sum(isolates_to_keep_filter)"
   ]
  },
  {
   "cell_type": "code",
   "execution_count": 114,
   "metadata": {},
   "outputs": [],
   "source": [
    "genotypes_matrix = genotypes_matrix[: , isolates_to_keep_filter]"
   ]
  },
  {
   "cell_type": "code",
   "execution_count": 115,
   "metadata": {},
   "outputs": [
    {
     "data": {
      "text/plain": [
       "(139797, 32355)"
      ]
     },
     "execution_count": 115,
     "metadata": {},
     "output_type": "execute_result"
    }
   ],
   "source": [
    "np.shape(genotypes_matrix) #Genotype Matrix"
   ]
  },
  {
   "cell_type": "markdown",
   "metadata": {},
   "source": [
    "Drop isolates with a high abundance of missing values from __ISOLATE ANNOTATION FILE__"
   ]
  },
  {
   "cell_type": "code",
   "execution_count": 116,
   "metadata": {},
   "outputs": [],
   "source": [
    "isolate_annotation_series = pd.read_pickle('/n/data1/hms/dbmi/farhat/Roger/inhost_TB_dynamics_project/rolling_DB_scrape/Genotypes/genotypes_isolate_annotation.pkl')"
   ]
  },
  {
   "cell_type": "code",
   "execution_count": 117,
   "metadata": {},
   "outputs": [
    {
     "data": {
      "text/plain": [
       "0    SAMEA3558733\n",
       "1    SAMN05575260\n",
       "2    SAMN03648641\n",
       "3    SAMN03647419\n",
       "4    SAMEA3671418\n",
       "dtype: object"
      ]
     },
     "execution_count": 117,
     "metadata": {},
     "output_type": "execute_result"
    }
   ],
   "source": [
    "isolate_annotation_series.head()"
   ]
  },
  {
   "cell_type": "code",
   "execution_count": 118,
   "metadata": {},
   "outputs": [
    {
     "data": {
      "text/plain": [
       "(33873,)"
      ]
     },
     "execution_count": 118,
     "metadata": {},
     "output_type": "execute_result"
    }
   ],
   "source": [
    "np.shape(isolate_annotation_series) #Annotation for Columns of Genotypes Matrix"
   ]
  },
  {
   "cell_type": "code",
   "execution_count": 119,
   "metadata": {},
   "outputs": [],
   "source": [
    "isolate_annotation_series = isolate_annotation_series[isolates_to_keep_filter]\n",
    "\n",
    "#re-index new filtered isolate annotation series (so new index matches indexing of genotypes matrix columns)\n",
    "isolate_annotation_series.reset_index(drop = True , inplace = True)"
   ]
  },
  {
   "cell_type": "code",
   "execution_count": 120,
   "metadata": {},
   "outputs": [
    {
     "data": {
      "text/plain": [
       "0    SAMEA3558733\n",
       "1    SAMN03648641\n",
       "2    SAMN03647419\n",
       "3    SAMEA3671418\n",
       "4    SAMN07659096\n",
       "dtype: object"
      ]
     },
     "execution_count": 120,
     "metadata": {},
     "output_type": "execute_result"
    }
   ],
   "source": [
    "isolate_annotation_series.head()"
   ]
  },
  {
   "cell_type": "code",
   "execution_count": 121,
   "metadata": {},
   "outputs": [
    {
     "data": {
      "text/plain": [
       "(32355,)"
      ]
     },
     "execution_count": 121,
     "metadata": {},
     "output_type": "execute_result"
    }
   ],
   "source": [
    "np.shape(isolate_annotation_series) #Annotation for Columns of Genotypes Matrix"
   ]
  },
  {
   "cell_type": "markdown",
   "metadata": {},
   "source": [
    "#### Save annotation files and genotypes matrix"
   ]
  },
  {
   "cell_type": "code",
   "execution_count": 122,
   "metadata": {},
   "outputs": [],
   "source": [
    "#save isolate annotation file (columns of Genotype Matrix)\n",
    "isolate_annotation_series.to_pickle('/n/data1/hms/dbmi/farhat/Roger/inhost_TB_dynamics_project/rolling_DB_scrape/Genotypes_Filtered/genotypes_isolate_annotation.pkl')\n",
    "\n",
    "#save SNP annotation file (rows of Genotype Matrix)\n",
    "SNP_annotation_DF.to_pickle('/n/data1/hms/dbmi/farhat/Roger/inhost_TB_dynamics_project/rolling_DB_scrape/Genotypes_Filtered/genotypes_SNP_annotation.pkl')\n",
    "\n",
    "#save Genotypes Matrix\n",
    "np.save('/n/data1/hms/dbmi/farhat/Roger/inhost_TB_dynamics_project/rolling_DB_scrape/Genotypes_Filtered/genotypes_matrix' , genotypes_matrix , allow_pickle = True)"
   ]
  },
  {
   "cell_type": "markdown",
   "metadata": {},
   "source": [
    "####################################################################################################################################################################################"
   ]
  },
  {
   "cell_type": "markdown",
   "metadata": {},
   "source": [
    "## [9] Annotate SNPs w/ H37Rv Locus Info"
   ]
  },
  {
   "cell_type": "markdown",
   "metadata": {},
   "source": [
    "####################################################################################################################################################################################"
   ]
  },
  {
   "cell_type": "markdown",
   "metadata": {
    "collapsed": true
   },
   "source": [
    "#### Retrieve information for H37Rv Reference Genome"
   ]
  },
  {
   "cell_type": "code",
   "execution_count": 3,
   "metadata": {},
   "outputs": [
    {
     "name": "stderr",
     "output_type": "stream",
     "text": [
      "/home/rv76/anaconda2/lib/python2.7/site-packages/ipykernel_launcher.py:18: DeprecationWarning: \n",
      ".ix is deprecated. Please use\n",
      ".loc for label based indexing or\n",
      ".iloc for positional indexing\n",
      "\n",
      "See the documentation here:\n",
      "http://pandas.pydata.org/pandas-docs/stable/indexing.html#ix-indexer-is-deprecated\n"
     ]
    }
   ],
   "source": [
    "####################################################################################################################################################################################\n",
    "#load reference genome and reference annotation\n",
    "reference_genome = '/home/rv76/Farhat_Lab/Reference_Seqs/H37Rv/h37rv.fasta'\n",
    "for reference_genome in SeqIO.parse(reference_genome, \"fasta\"):\n",
    "    reference_genome.seq.alphabet = IUPAC.unambiguous_dna\n",
    "\n",
    "reference_genome_annotation = pd.read_csv('/n/data1/hms/dbmi/farhat/Roger/inhost_TB_dynamics_project/H37Rv/h37rv_genome_summary.txt', '\\t').set_index('name')\n",
    "\n",
    "####### Make a dictionary of all H37Rv reference positions and corresponding genes #######\n",
    "ReferencePosition_Gene_mapping = {} #keys: H37Rv Reference Positions , values: gene_ids (may be multiple genes for some Reference Positions)\n",
    "\n",
    "#store a list corresponding to every Reference Position (to store all genes that map to the Reference Position)\n",
    "for H37Rv_RefPos in range(0 , len(reference_genome.seq) + 1):\n",
    "    ReferencePosition_Gene_mapping[H37Rv_RefPos] = []\n",
    "\n",
    "for gene_id_index in range(0 , len(reference_genome_annotation.index)):\n",
    "\n",
    "    gene_id_info = reference_genome_annotation.ix[gene_id_index , :]\n",
    "    gene_id = gene_id_info.name\n",
    "\n",
    "    chrom_start = gene_id_info.chromStart\n",
    "    chrom_end = gene_id_info.chromEnd\n",
    "\n",
    "    #find the position of the first base relative to H37Rv in 5' -> 3'\n",
    "    H37Rv_start = min(chrom_start , chrom_end)\n",
    "    H37Rv_end = max(chrom_start , chrom_end)\n",
    "\n",
    "    #store all corresponding H37Rv Reference Positions to gene_id in dictionary\n",
    "    for H37Rv_RefPos in range(H37Rv_start+1 , H37Rv_end+1):\n",
    "\n",
    "        ReferencePosition_Gene_mapping[H37Rv_RefPos].append(gene_id) #append gene_id to list already in dict\n",
    "####################################################################################################################################################################################"
   ]
  },
  {
   "cell_type": "markdown",
   "metadata": {},
   "source": [
    "#### Annotate SNPs"
   ]
  },
  {
   "cell_type": "markdown",
   "metadata": {},
   "source": [
    "To annotate SNPs, we get gene_ids that the SNPs 'land in' and the gene-relative coordinate."
   ]
  },
  {
   "cell_type": "code",
   "execution_count": 4,
   "metadata": {},
   "outputs": [
    {
     "data": {
      "text/html": [
       "<div>\n",
       "<style>\n",
       "    .dataframe thead tr:only-child th {\n",
       "        text-align: right;\n",
       "    }\n",
       "\n",
       "    .dataframe thead th {\n",
       "        text-align: left;\n",
       "    }\n",
       "\n",
       "    .dataframe tbody tr th {\n",
       "        vertical-align: top;\n",
       "    }\n",
       "</style>\n",
       "<table border=\"1\" class=\"dataframe\">\n",
       "  <thead>\n",
       "    <tr style=\"text-align: right;\">\n",
       "      <th></th>\n",
       "      <th>pos</th>\n",
       "      <th>ref</th>\n",
       "      <th>alt</th>\n",
       "    </tr>\n",
       "  </thead>\n",
       "  <tbody>\n",
       "    <tr>\n",
       "      <th>0</th>\n",
       "      <td>29</td>\n",
       "      <td>C</td>\n",
       "      <td>[G]</td>\n",
       "    </tr>\n",
       "    <tr>\n",
       "      <th>1</th>\n",
       "      <td>31</td>\n",
       "      <td>A</td>\n",
       "      <td>[C, G]</td>\n",
       "    </tr>\n",
       "    <tr>\n",
       "      <th>2</th>\n",
       "      <td>48</td>\n",
       "      <td>C</td>\n",
       "      <td>[T]</td>\n",
       "    </tr>\n",
       "    <tr>\n",
       "      <th>3</th>\n",
       "      <td>64</td>\n",
       "      <td>G</td>\n",
       "      <td>[C]</td>\n",
       "    </tr>\n",
       "    <tr>\n",
       "      <th>4</th>\n",
       "      <td>71</td>\n",
       "      <td>C</td>\n",
       "      <td>[T]</td>\n",
       "    </tr>\n",
       "  </tbody>\n",
       "</table>\n",
       "</div>"
      ],
      "text/plain": [
       "   pos ref     alt\n",
       "0   29   C     [G]\n",
       "1   31   A  [C, G]\n",
       "2   48   C     [T]\n",
       "3   64   G     [C]\n",
       "4   71   C     [T]"
      ]
     },
     "execution_count": 4,
     "metadata": {},
     "output_type": "execute_result"
    }
   ],
   "source": [
    "#load SNP annotation file (rows of Genotype Matrix)\n",
    "SNP_annotation_DF = pd.read_pickle('/n/data1/hms/dbmi/farhat/Roger/inhost_TB_dynamics_project/rolling_DB_scrape/Genotypes_Filtered/genotypes_SNP_annotation.pkl')\n",
    "\n",
    "SNP_annotation_DF.head()"
   ]
  },
  {
   "cell_type": "code",
   "execution_count": 5,
   "metadata": {},
   "outputs": [
    {
     "data": {
      "text/plain": [
       "(139797, 3)"
      ]
     },
     "execution_count": 5,
     "metadata": {},
     "output_type": "execute_result"
    }
   ],
   "source": [
    "np.shape(SNP_annotation_DF)"
   ]
  },
  {
   "cell_type": "markdown",
   "metadata": {},
   "source": [
    "#### Gene Categories"
   ]
  },
  {
   "cell_type": "code",
   "execution_count": 6,
   "metadata": {},
   "outputs": [],
   "source": [
    "#get Gene Categories\n",
    "gene_categories = pd.read_csv('/n/data1/hms/dbmi/farhat/Roger/inhost_TB_dynamics_project/CSV_files/gene_categories/gene_categories.csv').set_index('name')\n",
    "\n",
    "#create dictionary, keys: H37Rv locus, values: gene category\n",
    "gene_categories_map = dict( zip( list(gene_categories.gene_id) , list(gene_categories.Gene_Category) ) ) "
   ]
  },
  {
   "cell_type": "markdown",
   "metadata": {},
   "source": [
    "#### Gene Names"
   ]
  },
  {
   "cell_type": "markdown",
   "metadata": {},
   "source": [
    "Parse through Mycobrowser (tuberculist) to collect gene names"
   ]
  },
  {
   "cell_type": "code",
   "execution_count": 7,
   "metadata": {},
   "outputs": [],
   "source": [
    "mycobrowser_table = pd.read_csv('/n/data1/hms/dbmi/farhat/Roger/inhost_TB_dynamics_project/H37Rv/Mycobrowser_Release3/Mycobacterium_tuberculosis_H37Rv_txt_v3.txt' , sep = '\\t')\n",
    "\n",
    "#retreive columns for locus tag & gene name\n",
    "mycobrowser_table = mycobrowser_table.loc[: , ['Locus' , 'Name']]\n",
    "\n",
    "#create dictionary, keys: H37Rv loucs, values: gene category\n",
    "gene_names_map = dict( zip( list(mycobrowser_table.Locus) , list(mycobrowser_table.Name) ) ) "
   ]
  },
  {
   "cell_type": "markdown",
   "metadata": {},
   "source": [
    "#### Iterate through each SNP to annotate"
   ]
  },
  {
   "cell_type": "markdown",
   "metadata": {},
   "source": [
    "Some SNPs are present in more than 1 gene, have to account for this"
   ]
  },
  {
   "cell_type": "code",
   "execution_count": 8,
   "metadata": {},
   "outputs": [
    {
     "name": "stdout",
     "output_type": "stream",
     "text": [
      "0.0\n",
      "0.200004291938\n",
      "0.400008583875\n",
      "0.600012875813\n",
      "0.80001716775\n"
     ]
    }
   ],
   "source": [
    "#create dictionaries for each columsn of information\n",
    "locus_tag_dict = {} #H37Rv id\n",
    "genomic_coord_dict = {} #coordinate on gene, 5' -> 3'\n",
    "gene_categ_dict = {} #gene Category\n",
    "gene_name_dict = {} #gene Name\n",
    "\n",
    "for SNP_index in SNP_annotation_DF.index:\n",
    "\n",
    "    #reference position, ref allele and alt allele for SNP\n",
    "    SNP_info = SNP_annotation_DF.loc[SNP_index , :]\n",
    "\n",
    "    #find the gene that SNP occurs on\n",
    "    ref_seq_position = SNP_info.pos\n",
    "\n",
    "    #check list corresponding to H37Rv coordinate to see if there are any genes associated with RefPosition\n",
    "    if len(ReferencePosition_Gene_mapping[ref_seq_position]) > 0:\n",
    "        \n",
    "        #create lists to store annotation information for SNP and associated gene(s)\n",
    "        gene_intergenic_id_list = []\n",
    "        gene_relative_coord_list = []\n",
    "        gene_categ_list = []\n",
    "        gene_name_list = []\n",
    "\n",
    "        #iterate through all genes that ReferencePosition is mapped to (i.e. SNP might correspond to 2 genes)\n",
    "        for gene_intergenic_id in ReferencePosition_Gene_mapping[ref_seq_position]:\n",
    "\n",
    "            #find genomic coordinate of SNP relative to gene (subtract 1 since reference seq starts counting at 1)\n",
    "            gene_relative_coord = (ref_seq_position - 1) - min( reference_genome_annotation.loc[gene_intergenic_id , 'chromStart'] , reference_genome_annotation.loc[gene_intergenic_id , 'chromEnd'] )\n",
    "\n",
    "            gene_intergenic_id_list.append( gene_intergenic_id )\n",
    "            gene_relative_coord_list.append( gene_relative_coord )\n",
    "            \n",
    "            #use gene id to get category and names from mappings\n",
    "            if gene_intergenic_id in gene_categories_map.keys():\n",
    "                gene_categ_list.append( gene_categories_map[gene_intergenic_id] )\n",
    "            else:\n",
    "                gene_categ_list.append( 'None' )\n",
    "                \n",
    "            if gene_intergenic_id in gene_names_map.keys():\n",
    "                gene_name_list.append( gene_names_map[gene_intergenic_id] ) \n",
    "            else:\n",
    "                gene_name_list.append( 'None' )\n",
    "\n",
    "        #store all information for SNP in relevant dictionaries\n",
    "        locus_tag_dict[SNP_index] = gene_intergenic_id_list\n",
    "        genomic_coord_dict[SNP_index] = gene_relative_coord_list\n",
    "        gene_categ_dict[SNP_index] = gene_categ_list\n",
    "        gene_name_dict[SNP_index] = gene_name_list\n",
    "            \n",
    "    #H37Rv RefSeq position was not found in dictionary so Reference position must be intergenic    \n",
    "    elif len(ReferencePosition_Gene_mapping[ref_seq_position]) == 0:\n",
    "\n",
    "        #store all information for SNP in relevant dictionaries\n",
    "        locus_tag_dict[SNP_index] = ['intergenic']\n",
    "        genomic_coord_dict[SNP_index] = [np.nan]\n",
    "        gene_categ_dict[SNP_index] = ['None']\n",
    "        gene_name_dict[SNP_index] = ['None']\n",
    "\n",
    "    #keep track of progress of loop\n",
    "    num_SNPs = float( np.shape(SNP_annotation_DF)[0] )\n",
    "    if SNP_index % np.ceil(0.20 * num_SNPs) == 0:\n",
    "        print float(SNP_index) / num_SNPs"
   ]
  },
  {
   "cell_type": "markdown",
   "metadata": {},
   "source": [
    "#### Update SNP annotation DF"
   ]
  },
  {
   "cell_type": "code",
   "execution_count": 9,
   "metadata": {},
   "outputs": [],
   "source": [
    "#append columns for info from annotation\n",
    "SNP_annotation_DF['gene_id'] = pd.Series(locus_tag_dict)\n",
    "SNP_annotation_DF['gene_pos'] = pd.Series(genomic_coord_dict)\n",
    "SNP_annotation_DF['gene_category'] = pd.Series(gene_categ_dict)\n",
    "SNP_annotation_DF['gene_name'] = pd.Series(gene_name_dict)"
   ]
  },
  {
   "cell_type": "code",
   "execution_count": 10,
   "metadata": {},
   "outputs": [
    {
     "data": {
      "text/plain": [
       "(139797, 7)"
      ]
     },
     "execution_count": 10,
     "metadata": {},
     "output_type": "execute_result"
    }
   ],
   "source": [
    "np.shape( SNP_annotation_DF )"
   ]
  },
  {
   "cell_type": "code",
   "execution_count": 11,
   "metadata": {
    "scrolled": false
   },
   "outputs": [
    {
     "data": {
      "text/html": [
       "<div>\n",
       "<style>\n",
       "    .dataframe thead tr:only-child th {\n",
       "        text-align: right;\n",
       "    }\n",
       "\n",
       "    .dataframe thead th {\n",
       "        text-align: left;\n",
       "    }\n",
       "\n",
       "    .dataframe tbody tr th {\n",
       "        vertical-align: top;\n",
       "    }\n",
       "</style>\n",
       "<table border=\"1\" class=\"dataframe\">\n",
       "  <thead>\n",
       "    <tr style=\"text-align: right;\">\n",
       "      <th></th>\n",
       "      <th>pos</th>\n",
       "      <th>ref</th>\n",
       "      <th>alt</th>\n",
       "      <th>gene_id</th>\n",
       "      <th>gene_pos</th>\n",
       "      <th>gene_category</th>\n",
       "      <th>gene_name</th>\n",
       "    </tr>\n",
       "  </thead>\n",
       "  <tbody>\n",
       "    <tr>\n",
       "      <th>0</th>\n",
       "      <td>29</td>\n",
       "      <td>C</td>\n",
       "      <td>[G]</td>\n",
       "      <td>[Rv0001]</td>\n",
       "      <td>[28]</td>\n",
       "      <td>[Essential]</td>\n",
       "      <td>[dnaA]</td>\n",
       "    </tr>\n",
       "    <tr>\n",
       "      <th>1</th>\n",
       "      <td>31</td>\n",
       "      <td>A</td>\n",
       "      <td>[C, G]</td>\n",
       "      <td>[Rv0001]</td>\n",
       "      <td>[30]</td>\n",
       "      <td>[Essential]</td>\n",
       "      <td>[dnaA]</td>\n",
       "    </tr>\n",
       "    <tr>\n",
       "      <th>2</th>\n",
       "      <td>48</td>\n",
       "      <td>C</td>\n",
       "      <td>[T]</td>\n",
       "      <td>[Rv0001]</td>\n",
       "      <td>[47]</td>\n",
       "      <td>[Essential]</td>\n",
       "      <td>[dnaA]</td>\n",
       "    </tr>\n",
       "    <tr>\n",
       "      <th>3</th>\n",
       "      <td>64</td>\n",
       "      <td>G</td>\n",
       "      <td>[C]</td>\n",
       "      <td>[Rv0001]</td>\n",
       "      <td>[63]</td>\n",
       "      <td>[Essential]</td>\n",
       "      <td>[dnaA]</td>\n",
       "    </tr>\n",
       "    <tr>\n",
       "      <th>4</th>\n",
       "      <td>71</td>\n",
       "      <td>C</td>\n",
       "      <td>[T]</td>\n",
       "      <td>[Rv0001]</td>\n",
       "      <td>[70]</td>\n",
       "      <td>[Essential]</td>\n",
       "      <td>[dnaA]</td>\n",
       "    </tr>\n",
       "  </tbody>\n",
       "</table>\n",
       "</div>"
      ],
      "text/plain": [
       "   pos ref     alt   gene_id gene_pos gene_category gene_name\n",
       "0   29   C     [G]  [Rv0001]     [28]   [Essential]    [dnaA]\n",
       "1   31   A  [C, G]  [Rv0001]     [30]   [Essential]    [dnaA]\n",
       "2   48   C     [T]  [Rv0001]     [47]   [Essential]    [dnaA]\n",
       "3   64   G     [C]  [Rv0001]     [63]   [Essential]    [dnaA]\n",
       "4   71   C     [T]  [Rv0001]     [70]   [Essential]    [dnaA]"
      ]
     },
     "execution_count": 11,
     "metadata": {},
     "output_type": "execute_result"
    }
   ],
   "source": [
    "SNP_annotation_DF.head()"
   ]
  },
  {
   "cell_type": "code",
   "execution_count": 12,
   "metadata": {},
   "outputs": [
    {
     "data": {
      "text/html": [
       "<div>\n",
       "<style>\n",
       "    .dataframe thead tr:only-child th {\n",
       "        text-align: right;\n",
       "    }\n",
       "\n",
       "    .dataframe thead th {\n",
       "        text-align: left;\n",
       "    }\n",
       "\n",
       "    .dataframe tbody tr th {\n",
       "        vertical-align: top;\n",
       "    }\n",
       "</style>\n",
       "<table border=\"1\" class=\"dataframe\">\n",
       "  <thead>\n",
       "    <tr style=\"text-align: right;\">\n",
       "      <th></th>\n",
       "      <th>pos</th>\n",
       "      <th>ref</th>\n",
       "      <th>alt</th>\n",
       "      <th>gene_id</th>\n",
       "      <th>gene_pos</th>\n",
       "      <th>gene_category</th>\n",
       "      <th>gene_name</th>\n",
       "    </tr>\n",
       "  </thead>\n",
       "  <tbody>\n",
       "    <tr>\n",
       "      <th>139792</th>\n",
       "      <td>4411459</td>\n",
       "      <td>C</td>\n",
       "      <td>[T, G]</td>\n",
       "      <td>[intergenic]</td>\n",
       "      <td>[nan]</td>\n",
       "      <td>[None]</td>\n",
       "      <td>[None]</td>\n",
       "    </tr>\n",
       "    <tr>\n",
       "      <th>139793</th>\n",
       "      <td>4411467</td>\n",
       "      <td>C</td>\n",
       "      <td>[T]</td>\n",
       "      <td>[intergenic]</td>\n",
       "      <td>[nan]</td>\n",
       "      <td>[None]</td>\n",
       "      <td>[None]</td>\n",
       "    </tr>\n",
       "    <tr>\n",
       "      <th>139794</th>\n",
       "      <td>4411475</td>\n",
       "      <td>G</td>\n",
       "      <td>[A]</td>\n",
       "      <td>[intergenic]</td>\n",
       "      <td>[nan]</td>\n",
       "      <td>[None]</td>\n",
       "      <td>[None]</td>\n",
       "    </tr>\n",
       "    <tr>\n",
       "      <th>139795</th>\n",
       "      <td>4411485</td>\n",
       "      <td>G</td>\n",
       "      <td>[A, C]</td>\n",
       "      <td>[intergenic]</td>\n",
       "      <td>[nan]</td>\n",
       "      <td>[None]</td>\n",
       "      <td>[None]</td>\n",
       "    </tr>\n",
       "    <tr>\n",
       "      <th>139796</th>\n",
       "      <td>4411501</td>\n",
       "      <td>C</td>\n",
       "      <td>[T]</td>\n",
       "      <td>[intergenic]</td>\n",
       "      <td>[nan]</td>\n",
       "      <td>[None]</td>\n",
       "      <td>[None]</td>\n",
       "    </tr>\n",
       "  </tbody>\n",
       "</table>\n",
       "</div>"
      ],
      "text/plain": [
       "            pos ref     alt       gene_id gene_pos gene_category gene_name\n",
       "139792  4411459   C  [T, G]  [intergenic]    [nan]        [None]    [None]\n",
       "139793  4411467   C     [T]  [intergenic]    [nan]        [None]    [None]\n",
       "139794  4411475   G     [A]  [intergenic]    [nan]        [None]    [None]\n",
       "139795  4411485   G  [A, C]  [intergenic]    [nan]        [None]    [None]\n",
       "139796  4411501   C     [T]  [intergenic]    [nan]        [None]    [None]"
      ]
     },
     "execution_count": 12,
     "metadata": {},
     "output_type": "execute_result"
    }
   ],
   "source": [
    "SNP_annotation_DF.tail()"
   ]
  },
  {
   "cell_type": "code",
   "execution_count": 13,
   "metadata": {},
   "outputs": [],
   "source": [
    "#update SNP annotation file (rows of Genotype Matrix) with extra SNP information\n",
    "SNP_annotation_DF.to_pickle('/n/data1/hms/dbmi/farhat/Roger/inhost_TB_dynamics_project/rolling_DB_scrape/Genotypes_Filtered/genotypes_SNP_annotation_with_gene_info.pkl')"
   ]
  },
  {
   "cell_type": "markdown",
   "metadata": {
    "collapsed": true
   },
   "source": [
    "How to investigate SNPs that appeared on more than 1 gene"
   ]
  },
  {
   "cell_type": "code",
   "execution_count": 14,
   "metadata": {},
   "outputs": [
    {
     "data": {
      "text/html": [
       "<div>\n",
       "<style>\n",
       "    .dataframe thead tr:only-child th {\n",
       "        text-align: right;\n",
       "    }\n",
       "\n",
       "    .dataframe thead th {\n",
       "        text-align: left;\n",
       "    }\n",
       "\n",
       "    .dataframe tbody tr th {\n",
       "        vertical-align: top;\n",
       "    }\n",
       "</style>\n",
       "<table border=\"1\" class=\"dataframe\">\n",
       "  <thead>\n",
       "    <tr style=\"text-align: right;\">\n",
       "      <th></th>\n",
       "      <th>pos</th>\n",
       "      <th>ref</th>\n",
       "      <th>alt</th>\n",
       "      <th>gene_id</th>\n",
       "      <th>gene_pos</th>\n",
       "      <th>gene_category</th>\n",
       "      <th>gene_name</th>\n",
       "    </tr>\n",
       "  </thead>\n",
       "  <tbody>\n",
       "    <tr>\n",
       "      <th>3337</th>\n",
       "      <td>60400</td>\n",
       "      <td>C</td>\n",
       "      <td>[T]</td>\n",
       "      <td>[Rv0057, Rv0058]</td>\n",
       "      <td>[504, 4]</td>\n",
       "      <td>[Non-Essential, Essential]</td>\n",
       "      <td>[Rv0057, dnaB]</td>\n",
       "    </tr>\n",
       "    <tr>\n",
       "      <th>3338</th>\n",
       "      <td>60414</td>\n",
       "      <td>C</td>\n",
       "      <td>[T]</td>\n",
       "      <td>[Rv0057, Rv0058]</td>\n",
       "      <td>[518, 18]</td>\n",
       "      <td>[Non-Essential, Essential]</td>\n",
       "      <td>[Rv0057, dnaB]</td>\n",
       "    </tr>\n",
       "    <tr>\n",
       "      <th>4089</th>\n",
       "      <td>77620</td>\n",
       "      <td>C</td>\n",
       "      <td>[G]</td>\n",
       "      <td>[Rv0069c, Rv0070c]</td>\n",
       "      <td>[1383, 1]</td>\n",
       "      <td>[Non-Essential, Non-Essential]</td>\n",
       "      <td>[sdaA, glyA2]</td>\n",
       "    </tr>\n",
       "    <tr>\n",
       "      <th>4751</th>\n",
       "      <td>95414</td>\n",
       "      <td>G</td>\n",
       "      <td>[A, C]</td>\n",
       "      <td>[Rv0086, Rv0087]</td>\n",
       "      <td>[1463, 0]</td>\n",
       "      <td>[Essential, Non-Essential]</td>\n",
       "      <td>[hycQ, hycE]</td>\n",
       "    </tr>\n",
       "    <tr>\n",
       "      <th>4752</th>\n",
       "      <td>95415</td>\n",
       "      <td>T</td>\n",
       "      <td>[C]</td>\n",
       "      <td>[Rv0086, Rv0087]</td>\n",
       "      <td>[1464, 1]</td>\n",
       "      <td>[Essential, Non-Essential]</td>\n",
       "      <td>[hycQ, hycE]</td>\n",
       "    </tr>\n",
       "  </tbody>\n",
       "</table>\n",
       "</div>"
      ],
      "text/plain": [
       "        pos ref     alt             gene_id   gene_pos  \\\n",
       "3337  60400   C     [T]    [Rv0057, Rv0058]   [504, 4]   \n",
       "3338  60414   C     [T]    [Rv0057, Rv0058]  [518, 18]   \n",
       "4089  77620   C     [G]  [Rv0069c, Rv0070c]  [1383, 1]   \n",
       "4751  95414   G  [A, C]    [Rv0086, Rv0087]  [1463, 0]   \n",
       "4752  95415   T     [C]    [Rv0086, Rv0087]  [1464, 1]   \n",
       "\n",
       "                       gene_category       gene_name  \n",
       "3337      [Non-Essential, Essential]  [Rv0057, dnaB]  \n",
       "3338      [Non-Essential, Essential]  [Rv0057, dnaB]  \n",
       "4089  [Non-Essential, Non-Essential]   [sdaA, glyA2]  \n",
       "4751      [Essential, Non-Essential]    [hycQ, hycE]  \n",
       "4752      [Essential, Non-Essential]    [hycQ, hycE]  "
      ]
     },
     "execution_count": 14,
     "metadata": {},
     "output_type": "execute_result"
    }
   ],
   "source": [
    "SNP_annotation_DF[ SNP_annotation_DF.gene_name.apply(len) > 1 ].head()"
   ]
  },
  {
   "cell_type": "markdown",
   "metadata": {},
   "source": [
    "How to investigate SNPs that appeared within a particular gene"
   ]
  },
  {
   "cell_type": "code",
   "execution_count": 15,
   "metadata": {},
   "outputs": [
    {
     "data": {
      "text/html": [
       "<div>\n",
       "<style>\n",
       "    .dataframe thead tr:only-child th {\n",
       "        text-align: right;\n",
       "    }\n",
       "\n",
       "    .dataframe thead th {\n",
       "        text-align: left;\n",
       "    }\n",
       "\n",
       "    .dataframe tbody tr th {\n",
       "        vertical-align: top;\n",
       "    }\n",
       "</style>\n",
       "<table border=\"1\" class=\"dataframe\">\n",
       "  <thead>\n",
       "    <tr style=\"text-align: right;\">\n",
       "      <th></th>\n",
       "      <th>pos</th>\n",
       "      <th>ref</th>\n",
       "      <th>alt</th>\n",
       "      <th>gene_id</th>\n",
       "      <th>gene_pos</th>\n",
       "      <th>gene_category</th>\n",
       "      <th>gene_name</th>\n",
       "    </tr>\n",
       "  </thead>\n",
       "  <tbody>\n",
       "    <tr>\n",
       "      <th>27629</th>\n",
       "      <td>759814</td>\n",
       "      <td>A</td>\n",
       "      <td>[G]</td>\n",
       "      <td>[Rv0667]</td>\n",
       "      <td>[7]</td>\n",
       "      <td>[Antibiotic Resistance]</td>\n",
       "      <td>[rpoB]</td>\n",
       "    </tr>\n",
       "    <tr>\n",
       "      <th>27630</th>\n",
       "      <td>759818</td>\n",
       "      <td>C</td>\n",
       "      <td>[T]</td>\n",
       "      <td>[Rv0667]</td>\n",
       "      <td>[11]</td>\n",
       "      <td>[Antibiotic Resistance]</td>\n",
       "      <td>[rpoB]</td>\n",
       "    </tr>\n",
       "    <tr>\n",
       "      <th>27631</th>\n",
       "      <td>759841</td>\n",
       "      <td>G</td>\n",
       "      <td>[C]</td>\n",
       "      <td>[Rv0667]</td>\n",
       "      <td>[34]</td>\n",
       "      <td>[Antibiotic Resistance]</td>\n",
       "      <td>[rpoB]</td>\n",
       "    </tr>\n",
       "    <tr>\n",
       "      <th>27632</th>\n",
       "      <td>759852</td>\n",
       "      <td>A</td>\n",
       "      <td>[T]</td>\n",
       "      <td>[Rv0667]</td>\n",
       "      <td>[45]</td>\n",
       "      <td>[Antibiotic Resistance]</td>\n",
       "      <td>[rpoB]</td>\n",
       "    </tr>\n",
       "    <tr>\n",
       "      <th>27633</th>\n",
       "      <td>759862</td>\n",
       "      <td>A</td>\n",
       "      <td>[G]</td>\n",
       "      <td>[Rv0667]</td>\n",
       "      <td>[55]</td>\n",
       "      <td>[Antibiotic Resistance]</td>\n",
       "      <td>[rpoB]</td>\n",
       "    </tr>\n",
       "  </tbody>\n",
       "</table>\n",
       "</div>"
      ],
      "text/plain": [
       "          pos ref  alt   gene_id gene_pos            gene_category gene_name\n",
       "27629  759814   A  [G]  [Rv0667]      [7]  [Antibiotic Resistance]    [rpoB]\n",
       "27630  759818   C  [T]  [Rv0667]     [11]  [Antibiotic Resistance]    [rpoB]\n",
       "27631  759841   G  [C]  [Rv0667]     [34]  [Antibiotic Resistance]    [rpoB]\n",
       "27632  759852   A  [T]  [Rv0667]     [45]  [Antibiotic Resistance]    [rpoB]\n",
       "27633  759862   A  [G]  [Rv0667]     [55]  [Antibiotic Resistance]    [rpoB]"
      ]
     },
     "execution_count": 15,
     "metadata": {},
     "output_type": "execute_result"
    }
   ],
   "source": [
    "SNP_annotation_DF[['Rv0667' in gene_list for gene_list in SNP_annotation_DF.gene_id]].head()"
   ]
  },
  {
   "cell_type": "code",
   "execution_count": null,
   "metadata": {
    "collapsed": true
   },
   "outputs": [],
   "source": []
  }
 ],
 "metadata": {
  "kernelspec": {
   "display_name": "Python 2",
   "language": "python",
   "name": "python2"
  },
  "language_info": {
   "codemirror_mode": {
    "name": "ipython",
    "version": 2
   },
   "file_extension": ".py",
   "mimetype": "text/x-python",
   "name": "python",
   "nbconvert_exporter": "python",
   "pygments_lexer": "ipython2",
   "version": "2.7.16"
  }
 },
 "nbformat": 4,
 "nbformat_minor": 2
}
