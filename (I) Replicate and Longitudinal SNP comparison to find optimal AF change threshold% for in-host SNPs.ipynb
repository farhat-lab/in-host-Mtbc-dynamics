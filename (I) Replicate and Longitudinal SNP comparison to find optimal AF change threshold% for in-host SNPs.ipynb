{
 "cells": [
  {
   "cell_type": "markdown",
   "metadata": {},
   "source": [
    "#### This notebook was created to find the optimal $\\Delta AF$ threshold for SNPs between paired samples using the *Replicate* Samples to approximate the noise in allele frequency calculations between samples."
   ]
  },
  {
   "cell_type": "code",
   "execution_count": 1,
   "metadata": {},
   "outputs": [
    {
     "data": {
      "text/html": [
       "<style>.container { width:100% !important; }</style>"
      ],
      "text/plain": [
       "<IPython.core.display.HTML object>"
      ]
     },
     "metadata": {},
     "output_type": "display_data"
    }
   ],
   "source": [
    "from IPython.core.display import display, HTML\n",
    "display(HTML(\"<style>.container { width:100% !important; }</style>\"))"
   ]
  },
  {
   "cell_type": "code",
   "execution_count": 2,
   "metadata": {},
   "outputs": [],
   "source": [
    "import vcf\n",
    "\n",
    "%matplotlib inline\n",
    "import os\n",
    "import pandas as pd\n",
    "import numpy as np\n",
    "import matplotlib.pyplot as plt\n",
    "import matplotlib as mpl\n",
    "import matplotlib.ticker as ticker\n",
    "from pylab import plot, show, savefig, xlim, figure, hold, ylim, legend, boxplot, setp, axes\n",
    "from itertools import compress\n",
    "from pylab import MaxNLocator\n",
    "import seaborn as sns; sns.set()\n",
    "from matplotlib.colors import LogNorm\n",
    "from matplotlib import gridspec\n",
    "import ast\n",
    "import itertools\n",
    "import seaborn as sns\n",
    "from sklearn.preprocessing import StandardScaler\n",
    "\n",
    "import fastcluster\n",
    "from sklearn import cluster, datasets\n",
    "import scipy.cluster.hierarchy as hier\n",
    "from sklearn.cluster import KMeans\n",
    "import time\n",
    "import sys\n",
    "\n",
    "import Bio\n",
    "from Bio.Alphabet import IUPAC\n",
    "from Bio.Blast.Applications import NcbiblastnCommandline\n",
    "from Bio.Blast import NCBIXML\n",
    "from Bio.Seq import Seq\n",
    "from Bio.SeqRecord import SeqRecord\n",
    "from Bio.SeqFeature import SeqFeature, FeatureLocation\n",
    "from Bio import pairwise2\n",
    "from Bio import SeqIO\n",
    "from Bio.Graphics import GenomeDiagram\n",
    "from Bio.SeqUtils import GC\n",
    "\n",
    "from Bio.Align.Applications import MuscleCommandline\n",
    "from StringIO import StringIO\n",
    "from Bio import AlignIO\n",
    "from Bio.Align import AlignInfo\n",
    "from Bio.Seq import MutableSeq\n",
    "import itertools\n",
    "\n",
    "import networkx as nx\n",
    "import scipy\n",
    "from collections import Counter\n",
    "from itertools import compress\n",
    "\n",
    "#for exporting to Adobe Illustrator\n",
    "mpl.rcParams['pdf.fonttype'] = 42\n",
    "mpl.rcParams['ps.fonttype'] = 42\n",
    "\n",
    "import warnings\n",
    "warnings.filterwarnings(\"ignore\", module=\"matplotlib\")"
   ]
  },
  {
   "cell_type": "code",
   "execution_count": 3,
   "metadata": {},
   "outputs": [],
   "source": [
    "plt.style.use('ggplot')\n",
    "plt.rcParams['lines.linewidth']=2\n",
    "plt.rcParams['axes.facecolor']='1.0'\n",
    "plt.rcParams['xtick.color']='black'\n",
    "plt.rcParams['axes.grid']=True\n",
    "plt.rcParams['axes.edgecolor']='black'\n",
    "plt.rcParams['grid.color']= '1.0'\n",
    "plt.rcParams.update({'font.size': 12})"
   ]
  },
  {
   "cell_type": "markdown",
   "metadata": {},
   "source": [
    "### Import sample annotation for filtered Replicate & Longitudinal pairs"
   ]
  },
  {
   "cell_type": "code",
   "execution_count": 4,
   "metadata": {},
   "outputs": [],
   "source": [
    "replicate_sample_annotation = pd.read_csv('/n/data1/hms/dbmi/farhat/Roger/inhost_TB_dynamics_project/CSV_files/sample_annotation_files/Replicate_fastq_path_names_and_JankyPipe_tags_filtered_final.csv' , sep = ',')\n",
    "longitudinal_sample_annotation = pd.read_csv('/n/data1/hms/dbmi/farhat/Roger/inhost_TB_dynamics_project/CSV_files/sample_annotation_files/Longitudinal_fastq_path_names_and_JankyPipe_tags_filtered_final.csv' , sep = ',')"
   ]
  },
  {
   "cell_type": "code",
   "execution_count": 5,
   "metadata": {},
   "outputs": [
    {
     "data": {
      "text/html": [
       "<div>\n",
       "<style>\n",
       "    .dataframe thead tr:only-child th {\n",
       "        text-align: right;\n",
       "    }\n",
       "\n",
       "    .dataframe thead th {\n",
       "        text-align: left;\n",
       "    }\n",
       "\n",
       "    .dataframe tbody tr th {\n",
       "        vertical-align: top;\n",
       "    }\n",
       "</style>\n",
       "<table border=\"1\" class=\"dataframe\">\n",
       "  <thead>\n",
       "    <tr style=\"text-align: right;\">\n",
       "      <th></th>\n",
       "      <th>patient_id</th>\n",
       "      <th>fastq_files</th>\n",
       "      <th>population</th>\n",
       "      <th>run_ID</th>\n",
       "      <th>sample_ID</th>\n",
       "      <th>sample_order</th>\n",
       "      <th>tag</th>\n",
       "      <th>isolate_type</th>\n",
       "    </tr>\n",
       "  </thead>\n",
       "  <tbody>\n",
       "    <tr>\n",
       "      <th>0</th>\n",
       "      <td>replicate_pair_18</td>\n",
       "      <td>/n/data1/hms/dbmi/farhat/cetr_strains/good_wgs...</td>\n",
       "      <td>CP_REP</td>\n",
       "      <td>MMYK00000000</td>\n",
       "      <td>Peru4938</td>\n",
       "      <td>0</td>\n",
       "      <td>Peru4938</td>\n",
       "      <td>replicate</td>\n",
       "    </tr>\n",
       "    <tr>\n",
       "      <th>1</th>\n",
       "      <td>replicate_pair_18</td>\n",
       "      <td>/n/data1/hms/dbmi/farhat/fastq_db/pools/01-R07...</td>\n",
       "      <td>CP_REP</td>\n",
       "      <td>NaN</td>\n",
       "      <td>01-R0774</td>\n",
       "      <td>0</td>\n",
       "      <td>01-R0774</td>\n",
       "      <td>replicate</td>\n",
       "    </tr>\n",
       "  </tbody>\n",
       "</table>\n",
       "</div>"
      ],
      "text/plain": [
       "          patient_id                                        fastq_files  \\\n",
       "0  replicate_pair_18  /n/data1/hms/dbmi/farhat/cetr_strains/good_wgs...   \n",
       "1  replicate_pair_18  /n/data1/hms/dbmi/farhat/fastq_db/pools/01-R07...   \n",
       "\n",
       "  population        run_ID sample_ID  sample_order       tag isolate_type  \n",
       "0     CP_REP  MMYK00000000  Peru4938             0  Peru4938    replicate  \n",
       "1     CP_REP           NaN  01-R0774             0  01-R0774    replicate  "
      ]
     },
     "execution_count": 5,
     "metadata": {},
     "output_type": "execute_result"
    }
   ],
   "source": [
    "replicate_sample_annotation.head(n=2)"
   ]
  },
  {
   "cell_type": "code",
   "execution_count": 6,
   "metadata": {},
   "outputs": [
    {
     "data": {
      "text/html": [
       "<div>\n",
       "<style>\n",
       "    .dataframe thead tr:only-child th {\n",
       "        text-align: right;\n",
       "    }\n",
       "\n",
       "    .dataframe thead th {\n",
       "        text-align: left;\n",
       "    }\n",
       "\n",
       "    .dataframe tbody tr th {\n",
       "        vertical-align: top;\n",
       "    }\n",
       "</style>\n",
       "<table border=\"1\" class=\"dataframe\">\n",
       "  <thead>\n",
       "    <tr style=\"text-align: right;\">\n",
       "      <th></th>\n",
       "      <th>patient_id</th>\n",
       "      <th>fastq_files</th>\n",
       "      <th>population</th>\n",
       "      <th>run_ID</th>\n",
       "      <th>sample_ID</th>\n",
       "      <th>sample_order</th>\n",
       "      <th>tag</th>\n",
       "      <th>isolate_type</th>\n",
       "    </tr>\n",
       "  </thead>\n",
       "  <tbody>\n",
       "    <tr>\n",
       "      <th>0</th>\n",
       "      <td>P000183</td>\n",
       "      <td>/n/data1/hms/dbmi/farhat/fastq_db/walker/ERR03...</td>\n",
       "      <td>WALKER</td>\n",
       "      <td>ERR039337</td>\n",
       "      <td>NaN</td>\n",
       "      <td>1</td>\n",
       "      <td>ERR039337</td>\n",
       "      <td>longitudinal</td>\n",
       "    </tr>\n",
       "    <tr>\n",
       "      <th>1</th>\n",
       "      <td>P000183</td>\n",
       "      <td>/n/data1/hms/dbmi/farhat/fastq_db/walker/ERR03...</td>\n",
       "      <td>WALKER</td>\n",
       "      <td>ERR039338</td>\n",
       "      <td>NaN</td>\n",
       "      <td>2</td>\n",
       "      <td>ERR039338</td>\n",
       "      <td>longitudinal</td>\n",
       "    </tr>\n",
       "  </tbody>\n",
       "</table>\n",
       "</div>"
      ],
      "text/plain": [
       "  patient_id                                        fastq_files population  \\\n",
       "0    P000183  /n/data1/hms/dbmi/farhat/fastq_db/walker/ERR03...     WALKER   \n",
       "1    P000183  /n/data1/hms/dbmi/farhat/fastq_db/walker/ERR03...     WALKER   \n",
       "\n",
       "      run_ID sample_ID  sample_order        tag  isolate_type  \n",
       "0  ERR039337       NaN             1  ERR039337  longitudinal  \n",
       "1  ERR039338       NaN             2  ERR039338  longitudinal  "
      ]
     },
     "execution_count": 6,
     "metadata": {},
     "output_type": "execute_result"
    }
   ],
   "source": [
    "longitudinal_sample_annotation.head(n=2)"
   ]
  },
  {
   "cell_type": "markdown",
   "metadata": {
    "collapsed": true
   },
   "source": [
    "#### Import SNPs (with $\\Delta AF > 25 \\% $) for Replicate Sample and Longitudinal Sample Pairs"
   ]
  },
  {
   "cell_type": "code",
   "execution_count": 7,
   "metadata": {},
   "outputs": [],
   "source": [
    "replicate_pair_SNPs = pd.read_pickle('/n/data1/hms/dbmi/farhat/Roger/inhost_TB_dynamics_project/pickled_files/variant_calling/replicate_SNPs/SNPs_between_isolates_delta_25.pkl')\n",
    "longitudinal_pair_SNPs = pd.read_pickle('/n/data1/hms/dbmi/farhat/Roger/inhost_TB_dynamics_project/pickled_files/variant_calling/longitudinal_SNPs/SNPs_between_isolates_delta_25.pkl')"
   ]
  },
  {
   "cell_type": "code",
   "execution_count": 8,
   "metadata": {},
   "outputs": [
    {
     "data": {
      "text/html": [
       "<div>\n",
       "<style>\n",
       "    .dataframe thead tr:only-child th {\n",
       "        text-align: right;\n",
       "    }\n",
       "\n",
       "    .dataframe thead th {\n",
       "        text-align: left;\n",
       "    }\n",
       "\n",
       "    .dataframe tbody tr th {\n",
       "        vertical-align: top;\n",
       "    }\n",
       "</style>\n",
       "<table border=\"1\" class=\"dataframe\">\n",
       "  <thead>\n",
       "    <tr style=\"text-align: right;\">\n",
       "      <th></th>\n",
       "      <th>population</th>\n",
       "      <th>patient_id</th>\n",
       "      <th>ref_position</th>\n",
       "      <th>ref_allele</th>\n",
       "      <th>alt_allele</th>\n",
       "      <th>gene_id</th>\n",
       "      <th>genomic_coord</th>\n",
       "      <th>gene_category</th>\n",
       "      <th>gene_symbol</th>\n",
       "      <th>alt_AF_diff</th>\n",
       "      <th>SNP_type</th>\n",
       "      <th>AA_change</th>\n",
       "    </tr>\n",
       "  </thead>\n",
       "  <tbody>\n",
       "    <tr>\n",
       "      <th>0</th>\n",
       "      <td>CP_REP</td>\n",
       "      <td>replicate_pair_68</td>\n",
       "      <td>1096600</td>\n",
       "      <td>A</td>\n",
       "      <td>G</td>\n",
       "      <td>Rv0980c_Rv0981</td>\n",
       "      <td>None</td>\n",
       "      <td>None</td>\n",
       "      <td>None</td>\n",
       "      <td>0.27</td>\n",
       "      <td>I</td>\n",
       "      <td>None</td>\n",
       "    </tr>\n",
       "    <tr>\n",
       "      <th>1</th>\n",
       "      <td>CP_REP</td>\n",
       "      <td>replicate_pair_68</td>\n",
       "      <td>2334234</td>\n",
       "      <td>C</td>\n",
       "      <td>A</td>\n",
       "      <td>Rv2077c</td>\n",
       "      <td>61</td>\n",
       "      <td>Non-Essential</td>\n",
       "      <td>NaN</td>\n",
       "      <td>0.72</td>\n",
       "      <td>N</td>\n",
       "      <td>G21C</td>\n",
       "    </tr>\n",
       "    <tr>\n",
       "      <th>2</th>\n",
       "      <td>CP_REP</td>\n",
       "      <td>replicate_pair_68</td>\n",
       "      <td>2372550</td>\n",
       "      <td>G</td>\n",
       "      <td>C</td>\n",
       "      <td>Rv2112c</td>\n",
       "      <td>20</td>\n",
       "      <td>Non-Essential</td>\n",
       "      <td>NaN</td>\n",
       "      <td>0.27</td>\n",
       "      <td>N</td>\n",
       "      <td>P7R</td>\n",
       "    </tr>\n",
       "    <tr>\n",
       "      <th>3</th>\n",
       "      <td>CP_REP</td>\n",
       "      <td>replicate_pair_68</td>\n",
       "      <td>3244804</td>\n",
       "      <td>T</td>\n",
       "      <td>G</td>\n",
       "      <td>Rv2930</td>\n",
       "      <td>1108</td>\n",
       "      <td>Non-Essential</td>\n",
       "      <td>fadD26</td>\n",
       "      <td>0.66</td>\n",
       "      <td>N</td>\n",
       "      <td>S370A</td>\n",
       "    </tr>\n",
       "    <tr>\n",
       "      <th>4</th>\n",
       "      <td>CP_REP</td>\n",
       "      <td>replicate_pair_68</td>\n",
       "      <td>3736179</td>\n",
       "      <td>G</td>\n",
       "      <td>A</td>\n",
       "      <td>Rv3343c</td>\n",
       "      <td>757</td>\n",
       "      <td>PE/PPE</td>\n",
       "      <td>PPE54</td>\n",
       "      <td>0.69</td>\n",
       "      <td>S</td>\n",
       "      <td>L253L</td>\n",
       "    </tr>\n",
       "  </tbody>\n",
       "</table>\n",
       "</div>"
      ],
      "text/plain": [
       "  population         patient_id  ref_position ref_allele alt_allele  \\\n",
       "0     CP_REP  replicate_pair_68       1096600          A          G   \n",
       "1     CP_REP  replicate_pair_68       2334234          C          A   \n",
       "2     CP_REP  replicate_pair_68       2372550          G          C   \n",
       "3     CP_REP  replicate_pair_68       3244804          T          G   \n",
       "4     CP_REP  replicate_pair_68       3736179          G          A   \n",
       "\n",
       "          gene_id genomic_coord  gene_category gene_symbol  alt_AF_diff  \\\n",
       "0  Rv0980c_Rv0981          None           None        None         0.27   \n",
       "1         Rv2077c            61  Non-Essential         NaN         0.72   \n",
       "2         Rv2112c            20  Non-Essential         NaN         0.27   \n",
       "3          Rv2930          1108  Non-Essential      fadD26         0.66   \n",
       "4         Rv3343c           757         PE/PPE       PPE54         0.69   \n",
       "\n",
       "  SNP_type AA_change  \n",
       "0        I      None  \n",
       "1        N      G21C  \n",
       "2        N       P7R  \n",
       "3        N     S370A  \n",
       "4        S     L253L  "
      ]
     },
     "execution_count": 8,
     "metadata": {},
     "output_type": "execute_result"
    }
   ],
   "source": [
    "replicate_pair_SNPs.head()"
   ]
  },
  {
   "cell_type": "code",
   "execution_count": 9,
   "metadata": {},
   "outputs": [
    {
     "data": {
      "text/html": [
       "<div>\n",
       "<style>\n",
       "    .dataframe thead tr:only-child th {\n",
       "        text-align: right;\n",
       "    }\n",
       "\n",
       "    .dataframe thead th {\n",
       "        text-align: left;\n",
       "    }\n",
       "\n",
       "    .dataframe tbody tr th {\n",
       "        vertical-align: top;\n",
       "    }\n",
       "</style>\n",
       "<table border=\"1\" class=\"dataframe\">\n",
       "  <thead>\n",
       "    <tr style=\"text-align: right;\">\n",
       "      <th></th>\n",
       "      <th>population</th>\n",
       "      <th>patient_id</th>\n",
       "      <th>ref_position</th>\n",
       "      <th>ref_allele</th>\n",
       "      <th>alt_allele</th>\n",
       "      <th>gene_id</th>\n",
       "      <th>genomic_coord</th>\n",
       "      <th>gene_category</th>\n",
       "      <th>gene_symbol</th>\n",
       "      <th>alt_AF_diff</th>\n",
       "      <th>SNP_type</th>\n",
       "      <th>AA_change</th>\n",
       "    </tr>\n",
       "  </thead>\n",
       "  <tbody>\n",
       "    <tr>\n",
       "      <th>0</th>\n",
       "      <td>CASALI</td>\n",
       "      <td>P251</td>\n",
       "      <td>761139</td>\n",
       "      <td>C</td>\n",
       "      <td>G</td>\n",
       "      <td>Rv0667</td>\n",
       "      <td>1333</td>\n",
       "      <td>Antibiotic Resistance</td>\n",
       "      <td>rpoB</td>\n",
       "      <td>1.00</td>\n",
       "      <td>N</td>\n",
       "      <td>H445D</td>\n",
       "    </tr>\n",
       "    <tr>\n",
       "      <th>1</th>\n",
       "      <td>CASALI</td>\n",
       "      <td>P251</td>\n",
       "      <td>861378</td>\n",
       "      <td>T</td>\n",
       "      <td>G</td>\n",
       "      <td>Rv0768</td>\n",
       "      <td>467</td>\n",
       "      <td>Non-Essential</td>\n",
       "      <td>aldA</td>\n",
       "      <td>1.00</td>\n",
       "      <td>N</td>\n",
       "      <td>I156S</td>\n",
       "    </tr>\n",
       "    <tr>\n",
       "      <th>2</th>\n",
       "      <td>CASALI</td>\n",
       "      <td>P251</td>\n",
       "      <td>4402310</td>\n",
       "      <td>A</td>\n",
       "      <td>G</td>\n",
       "      <td>Rv3913</td>\n",
       "      <td>583</td>\n",
       "      <td>Essential</td>\n",
       "      <td>trxB2</td>\n",
       "      <td>0.48</td>\n",
       "      <td>N</td>\n",
       "      <td>I195V</td>\n",
       "    </tr>\n",
       "    <tr>\n",
       "      <th>3</th>\n",
       "      <td>CETR</td>\n",
       "      <td>2968</td>\n",
       "      <td>656329</td>\n",
       "      <td>A</td>\n",
       "      <td>C</td>\n",
       "      <td>Rv0565c</td>\n",
       "      <td>1142</td>\n",
       "      <td>Non-Essential</td>\n",
       "      <td>NaN</td>\n",
       "      <td>0.50</td>\n",
       "      <td>N</td>\n",
       "      <td>V381G</td>\n",
       "    </tr>\n",
       "    <tr>\n",
       "      <th>4</th>\n",
       "      <td>CETR</td>\n",
       "      <td>2968</td>\n",
       "      <td>656956</td>\n",
       "      <td>C</td>\n",
       "      <td>T</td>\n",
       "      <td>Rv0565c</td>\n",
       "      <td>515</td>\n",
       "      <td>Non-Essential</td>\n",
       "      <td>NaN</td>\n",
       "      <td>0.34</td>\n",
       "      <td>N</td>\n",
       "      <td>W172*</td>\n",
       "    </tr>\n",
       "  </tbody>\n",
       "</table>\n",
       "</div>"
      ],
      "text/plain": [
       "  population patient_id  ref_position ref_allele alt_allele  gene_id  \\\n",
       "0     CASALI       P251        761139          C          G   Rv0667   \n",
       "1     CASALI       P251        861378          T          G   Rv0768   \n",
       "2     CASALI       P251       4402310          A          G   Rv3913   \n",
       "3       CETR       2968        656329          A          C  Rv0565c   \n",
       "4       CETR       2968        656956          C          T  Rv0565c   \n",
       "\n",
       "  genomic_coord          gene_category gene_symbol  alt_AF_diff SNP_type  \\\n",
       "0          1333  Antibiotic Resistance        rpoB         1.00        N   \n",
       "1           467          Non-Essential        aldA         1.00        N   \n",
       "2           583              Essential       trxB2         0.48        N   \n",
       "3          1142          Non-Essential         NaN         0.50        N   \n",
       "4           515          Non-Essential         NaN         0.34        N   \n",
       "\n",
       "  AA_change  \n",
       "0     H445D  \n",
       "1     I156S  \n",
       "2     I195V  \n",
       "3     V381G  \n",
       "4     W172*  "
      ]
     },
     "execution_count": 9,
     "metadata": {},
     "output_type": "execute_result"
    }
   ],
   "source": [
    "longitudinal_pair_SNPs.head()"
   ]
  },
  {
   "cell_type": "code",
   "execution_count": 10,
   "metadata": {},
   "outputs": [
    {
     "data": {
      "text/plain": [
       "62"
      ]
     },
     "execution_count": 10,
     "metadata": {},
     "output_type": "execute_result"
    }
   ],
   "source": [
    "len( set(replicate_sample_annotation.patient_id) )"
   ]
  },
  {
   "cell_type": "markdown",
   "metadata": {},
   "source": [
    "### Drop any glpK mutants that occur between any replicate pairs and longitudinal pairs"
   ]
  },
  {
   "cell_type": "markdown",
   "metadata": {},
   "source": [
    "#### glpK mutants present in replicate pairs"
   ]
  },
  {
   "cell_type": "code",
   "execution_count": 11,
   "metadata": {},
   "outputs": [
    {
     "data": {
      "text/plain": [
       "(93, 12)"
      ]
     },
     "execution_count": 11,
     "metadata": {},
     "output_type": "execute_result"
    }
   ],
   "source": [
    "np.shape(replicate_pair_SNPs)"
   ]
  },
  {
   "cell_type": "code",
   "execution_count": 12,
   "metadata": {},
   "outputs": [
    {
     "data": {
      "text/html": [
       "<div>\n",
       "<style>\n",
       "    .dataframe thead tr:only-child th {\n",
       "        text-align: right;\n",
       "    }\n",
       "\n",
       "    .dataframe thead th {\n",
       "        text-align: left;\n",
       "    }\n",
       "\n",
       "    .dataframe tbody tr th {\n",
       "        vertical-align: top;\n",
       "    }\n",
       "</style>\n",
       "<table border=\"1\" class=\"dataframe\">\n",
       "  <thead>\n",
       "    <tr style=\"text-align: right;\">\n",
       "      <th></th>\n",
       "      <th>population</th>\n",
       "      <th>patient_id</th>\n",
       "      <th>ref_position</th>\n",
       "      <th>ref_allele</th>\n",
       "      <th>alt_allele</th>\n",
       "      <th>gene_id</th>\n",
       "      <th>genomic_coord</th>\n",
       "      <th>gene_category</th>\n",
       "      <th>gene_symbol</th>\n",
       "      <th>alt_AF_diff</th>\n",
       "      <th>SNP_type</th>\n",
       "      <th>AA_change</th>\n",
       "    </tr>\n",
       "  </thead>\n",
       "  <tbody>\n",
       "    <tr>\n",
       "      <th>5</th>\n",
       "      <td>CP_REP</td>\n",
       "      <td>replicate_pair_68</td>\n",
       "      <td>4138398</td>\n",
       "      <td>G</td>\n",
       "      <td>A</td>\n",
       "      <td>Rv3696c</td>\n",
       "      <td>1358</td>\n",
       "      <td>Non-Essential</td>\n",
       "      <td>glpK</td>\n",
       "      <td>0.81</td>\n",
       "      <td>N</td>\n",
       "      <td>A453V</td>\n",
       "    </tr>\n",
       "    <tr>\n",
       "      <th>11</th>\n",
       "      <td>CP_REP</td>\n",
       "      <td>replicate_pair_11</td>\n",
       "      <td>4139083</td>\n",
       "      <td>G</td>\n",
       "      <td>A</td>\n",
       "      <td>Rv3696c</td>\n",
       "      <td>673</td>\n",
       "      <td>Non-Essential</td>\n",
       "      <td>glpK</td>\n",
       "      <td>0.38</td>\n",
       "      <td>N</td>\n",
       "      <td>R225W</td>\n",
       "    </tr>\n",
       "    <tr>\n",
       "      <th>17</th>\n",
       "      <td>CP_REP</td>\n",
       "      <td>replicate_pair_32</td>\n",
       "      <td>4138326</td>\n",
       "      <td>A</td>\n",
       "      <td>G</td>\n",
       "      <td>Rv3696c</td>\n",
       "      <td>1430</td>\n",
       "      <td>Non-Essential</td>\n",
       "      <td>glpK</td>\n",
       "      <td>0.47</td>\n",
       "      <td>N</td>\n",
       "      <td>L477P</td>\n",
       "    </tr>\n",
       "    <tr>\n",
       "      <th>21</th>\n",
       "      <td>TR_REP</td>\n",
       "      <td>P12_3</td>\n",
       "      <td>4138995</td>\n",
       "      <td>G</td>\n",
       "      <td>A</td>\n",
       "      <td>Rv3696c</td>\n",
       "      <td>761</td>\n",
       "      <td>Non-Essential</td>\n",
       "      <td>glpK</td>\n",
       "      <td>0.29</td>\n",
       "      <td>N</td>\n",
       "      <td>P254L</td>\n",
       "    </tr>\n",
       "    <tr>\n",
       "      <th>22</th>\n",
       "      <td>TR_REP</td>\n",
       "      <td>P12_2</td>\n",
       "      <td>4138995</td>\n",
       "      <td>G</td>\n",
       "      <td>A</td>\n",
       "      <td>Rv3696c</td>\n",
       "      <td>761</td>\n",
       "      <td>Non-Essential</td>\n",
       "      <td>glpK</td>\n",
       "      <td>0.29</td>\n",
       "      <td>N</td>\n",
       "      <td>P254L</td>\n",
       "    </tr>\n",
       "    <tr>\n",
       "      <th>86</th>\n",
       "      <td>CP_REP</td>\n",
       "      <td>replicate_pair_30</td>\n",
       "      <td>4139424</td>\n",
       "      <td>G</td>\n",
       "      <td>A</td>\n",
       "      <td>Rv3696c</td>\n",
       "      <td>332</td>\n",
       "      <td>Non-Essential</td>\n",
       "      <td>glpK</td>\n",
       "      <td>0.28</td>\n",
       "      <td>N</td>\n",
       "      <td>A111V</td>\n",
       "    </tr>\n",
       "  </tbody>\n",
       "</table>\n",
       "</div>"
      ],
      "text/plain": [
       "   population         patient_id  ref_position ref_allele alt_allele  gene_id  \\\n",
       "5      CP_REP  replicate_pair_68       4138398          G          A  Rv3696c   \n",
       "11     CP_REP  replicate_pair_11       4139083          G          A  Rv3696c   \n",
       "17     CP_REP  replicate_pair_32       4138326          A          G  Rv3696c   \n",
       "21     TR_REP              P12_3       4138995          G          A  Rv3696c   \n",
       "22     TR_REP              P12_2       4138995          G          A  Rv3696c   \n",
       "86     CP_REP  replicate_pair_30       4139424          G          A  Rv3696c   \n",
       "\n",
       "   genomic_coord  gene_category gene_symbol  alt_AF_diff SNP_type AA_change  \n",
       "5           1358  Non-Essential        glpK         0.81        N     A453V  \n",
       "11           673  Non-Essential        glpK         0.38        N     R225W  \n",
       "17          1430  Non-Essential        glpK         0.47        N     L477P  \n",
       "21           761  Non-Essential        glpK         0.29        N     P254L  \n",
       "22           761  Non-Essential        glpK         0.29        N     P254L  \n",
       "86           332  Non-Essential        glpK         0.28        N     A111V  "
      ]
     },
     "execution_count": 12,
     "metadata": {},
     "output_type": "execute_result"
    }
   ],
   "source": [
    "replicate_pair_SNPs[replicate_pair_SNPs.gene_symbol == 'glpK']"
   ]
  },
  {
   "cell_type": "code",
   "execution_count": 13,
   "metadata": {},
   "outputs": [
    {
     "data": {
      "text/plain": [
       "62.0"
      ]
     },
     "execution_count": 13,
     "metadata": {},
     "output_type": "execute_result"
    }
   ],
   "source": [
    "float( len(set(replicate_sample_annotation.patient_id)) )"
   ]
  },
  {
   "cell_type": "markdown",
   "metadata": {},
   "source": [
    "#### There were 5 *glpK* mutants (the 2 mutants from the Trauner et. al. dataset count as one since there were 3 isolates compared pair-wise) that were found among 62 replicate pairs"
   ]
  },
  {
   "cell_type": "markdown",
   "metadata": {},
   "source": [
    "Drop *glpK* mutants from the rest of the analysis"
   ]
  },
  {
   "cell_type": "code",
   "execution_count": 14,
   "metadata": {},
   "outputs": [],
   "source": [
    "replicate_pair_SNPs = replicate_pair_SNPs[replicate_pair_SNPs.gene_symbol != 'glpK']"
   ]
  },
  {
   "cell_type": "code",
   "execution_count": 15,
   "metadata": {
    "scrolled": true
   },
   "outputs": [
    {
     "data": {
      "text/plain": [
       "(87, 12)"
      ]
     },
     "execution_count": 15,
     "metadata": {},
     "output_type": "execute_result"
    }
   ],
   "source": [
    "np.shape(replicate_pair_SNPs)"
   ]
  },
  {
   "cell_type": "markdown",
   "metadata": {},
   "source": [
    "#### glpK mutants present in longitudinal pairs"
   ]
  },
  {
   "cell_type": "code",
   "execution_count": 16,
   "metadata": {},
   "outputs": [
    {
     "data": {
      "text/plain": [
       "(1599, 12)"
      ]
     },
     "execution_count": 16,
     "metadata": {},
     "output_type": "execute_result"
    }
   ],
   "source": [
    "np.shape(longitudinal_pair_SNPs)"
   ]
  },
  {
   "cell_type": "code",
   "execution_count": 17,
   "metadata": {},
   "outputs": [
    {
     "data": {
      "text/html": [
       "<div>\n",
       "<style>\n",
       "    .dataframe thead tr:only-child th {\n",
       "        text-align: right;\n",
       "    }\n",
       "\n",
       "    .dataframe thead th {\n",
       "        text-align: left;\n",
       "    }\n",
       "\n",
       "    .dataframe tbody tr th {\n",
       "        vertical-align: top;\n",
       "    }\n",
       "</style>\n",
       "<table border=\"1\" class=\"dataframe\">\n",
       "  <thead>\n",
       "    <tr style=\"text-align: right;\">\n",
       "      <th></th>\n",
       "      <th>population</th>\n",
       "      <th>patient_id</th>\n",
       "      <th>ref_position</th>\n",
       "      <th>ref_allele</th>\n",
       "      <th>alt_allele</th>\n",
       "      <th>gene_id</th>\n",
       "      <th>genomic_coord</th>\n",
       "      <th>gene_category</th>\n",
       "      <th>gene_symbol</th>\n",
       "      <th>alt_AF_diff</th>\n",
       "      <th>SNP_type</th>\n",
       "      <th>AA_change</th>\n",
       "    </tr>\n",
       "  </thead>\n",
       "  <tbody>\n",
       "    <tr>\n",
       "      <th>124</th>\n",
       "      <td>CETR</td>\n",
       "      <td>2321</td>\n",
       "      <td>4138645</td>\n",
       "      <td>G</td>\n",
       "      <td>A</td>\n",
       "      <td>Rv3696c</td>\n",
       "      <td>1111</td>\n",
       "      <td>Non-Essential</td>\n",
       "      <td>glpK</td>\n",
       "      <td>0.93</td>\n",
       "      <td>N</td>\n",
       "      <td>P371S</td>\n",
       "    </tr>\n",
       "    <tr>\n",
       "      <th>1148</th>\n",
       "      <td>CETR</td>\n",
       "      <td>2026</td>\n",
       "      <td>4138398</td>\n",
       "      <td>G</td>\n",
       "      <td>A</td>\n",
       "      <td>Rv3696c</td>\n",
       "      <td>1358</td>\n",
       "      <td>Non-Essential</td>\n",
       "      <td>glpK</td>\n",
       "      <td>0.79</td>\n",
       "      <td>N</td>\n",
       "      <td>A453V</td>\n",
       "    </tr>\n",
       "    <tr>\n",
       "      <th>1511</th>\n",
       "      <td>CETR</td>\n",
       "      <td>1972</td>\n",
       "      <td>4138599</td>\n",
       "      <td>C</td>\n",
       "      <td>A</td>\n",
       "      <td>Rv3696c</td>\n",
       "      <td>1157</td>\n",
       "      <td>Non-Essential</td>\n",
       "      <td>glpK</td>\n",
       "      <td>0.43</td>\n",
       "      <td>N</td>\n",
       "      <td>R386L</td>\n",
       "    </tr>\n",
       "    <tr>\n",
       "      <th>1512</th>\n",
       "      <td>CETR</td>\n",
       "      <td>1972</td>\n",
       "      <td>4138945</td>\n",
       "      <td>A</td>\n",
       "      <td>G</td>\n",
       "      <td>Rv3696c</td>\n",
       "      <td>811</td>\n",
       "      <td>Non-Essential</td>\n",
       "      <td>glpK</td>\n",
       "      <td>0.41</td>\n",
       "      <td>N</td>\n",
       "      <td>C271R</td>\n",
       "    </tr>\n",
       "  </tbody>\n",
       "</table>\n",
       "</div>"
      ],
      "text/plain": [
       "     population patient_id  ref_position ref_allele alt_allele  gene_id  \\\n",
       "124        CETR       2321       4138645          G          A  Rv3696c   \n",
       "1148       CETR       2026       4138398          G          A  Rv3696c   \n",
       "1511       CETR       1972       4138599          C          A  Rv3696c   \n",
       "1512       CETR       1972       4138945          A          G  Rv3696c   \n",
       "\n",
       "     genomic_coord  gene_category gene_symbol  alt_AF_diff SNP_type AA_change  \n",
       "124           1111  Non-Essential        glpK         0.93        N     P371S  \n",
       "1148          1358  Non-Essential        glpK         0.79        N     A453V  \n",
       "1511          1157  Non-Essential        glpK         0.43        N     R386L  \n",
       "1512           811  Non-Essential        glpK         0.41        N     C271R  "
      ]
     },
     "execution_count": 17,
     "metadata": {},
     "output_type": "execute_result"
    }
   ],
   "source": [
    "longitudinal_pair_SNPs[longitudinal_pair_SNPs.gene_symbol == 'glpK']"
   ]
  },
  {
   "cell_type": "code",
   "execution_count": 18,
   "metadata": {},
   "outputs": [
    {
     "data": {
      "text/plain": [
       "200.0"
      ]
     },
     "execution_count": 18,
     "metadata": {},
     "output_type": "execute_result"
    }
   ],
   "source": [
    "float( len(set(longitudinal_sample_annotation.patient_id)) )"
   ]
  },
  {
   "cell_type": "markdown",
   "metadata": {},
   "source": [
    "#### There were 4 *glpK* mutants that were found among 200 longitudinal pairs"
   ]
  },
  {
   "cell_type": "markdown",
   "metadata": {},
   "source": [
    "Drop *glpK* mutants from the rest of the analysis"
   ]
  },
  {
   "cell_type": "code",
   "execution_count": 19,
   "metadata": {},
   "outputs": [],
   "source": [
    "longitudinal_pair_SNPs = longitudinal_pair_SNPs[longitudinal_pair_SNPs.gene_symbol != 'glpK']"
   ]
  },
  {
   "cell_type": "code",
   "execution_count": 20,
   "metadata": {},
   "outputs": [
    {
     "data": {
      "text/plain": [
       "(1595, 12)"
      ]
     },
     "execution_count": 20,
     "metadata": {},
     "output_type": "execute_result"
    }
   ],
   "source": [
    "np.shape(longitudinal_pair_SNPs)"
   ]
  },
  {
   "cell_type": "markdown",
   "metadata": {},
   "source": [
    "### Split SNPs up into different types of replicate pairs"
   ]
  },
  {
   "cell_type": "markdown",
   "metadata": {},
   "source": [
    "SNPs between CETR-POOLS replicate pairs"
   ]
  },
  {
   "cell_type": "code",
   "execution_count": 21,
   "metadata": {},
   "outputs": [],
   "source": [
    "cetr_pools_replicates = replicate_pair_SNPs[replicate_pair_SNPs.population == 'CP_REP']"
   ]
  },
  {
   "cell_type": "code",
   "execution_count": 22,
   "metadata": {},
   "outputs": [
    {
     "data": {
      "text/plain": [
       "(87, 12)"
      ]
     },
     "execution_count": 22,
     "metadata": {},
     "output_type": "execute_result"
    }
   ],
   "source": [
    "np.shape(cetr_pools_replicates)"
   ]
  },
  {
   "cell_type": "markdown",
   "metadata": {},
   "source": [
    "SNPs between Re-Sequenced (due to low coverage) replicate pairs"
   ]
  },
  {
   "cell_type": "code",
   "execution_count": 23,
   "metadata": {},
   "outputs": [],
   "source": [
    "low_cov_reseq_replicates = replicate_pair_SNPs[replicate_pair_SNPs.population == 'LC_REP']"
   ]
  },
  {
   "cell_type": "code",
   "execution_count": 24,
   "metadata": {},
   "outputs": [
    {
     "data": {
      "text/plain": [
       "(0, 12)"
      ]
     },
     "execution_count": 24,
     "metadata": {},
     "output_type": "execute_result"
    }
   ],
   "source": [
    "np.shape(low_cov_reseq_replicates)"
   ]
  },
  {
   "cell_type": "markdown",
   "metadata": {},
   "source": [
    "SNPs between Trauner Patient 12 sputum sample replicate pairs"
   ]
  },
  {
   "cell_type": "code",
   "execution_count": 25,
   "metadata": {},
   "outputs": [],
   "source": [
    "trauner_P12_replicates = replicate_pair_SNPs[replicate_pair_SNPs.population == 'TR_REP']"
   ]
  },
  {
   "cell_type": "code",
   "execution_count": 26,
   "metadata": {},
   "outputs": [
    {
     "data": {
      "text/plain": [
       "(0, 12)"
      ]
     },
     "execution_count": 26,
     "metadata": {},
     "output_type": "execute_result"
    }
   ],
   "source": [
    "np.shape(trauner_P12_replicates)"
   ]
  },
  {
   "cell_type": "markdown",
   "metadata": {},
   "source": [
    "### Replicate Sample Pairs"
   ]
  },
  {
   "cell_type": "code",
   "execution_count": 27,
   "metadata": {},
   "outputs": [
    {
     "data": {
      "image/png": "[encoded data removed]",
      "text/plain": [
       "<Figure size 720x396 with 1 Axes>"
      ]
     },
     "metadata": {},
     "output_type": "display_data"
    }
   ],
   "source": [
    "fig , ax = plt.subplots()\n",
    "\n",
    "bins = np.arange( np.min(replicate_pair_SNPs.alt_AF_diff) , np.max(replicate_pair_SNPs.alt_AF_diff) + 0.01 , 0.01)\n",
    "n , bins , patches = plt.hist(replicate_pair_SNPs.alt_AF_diff , bins = bins , color = 'k' , rwidth = 1.0 , edgecolor='white', linewidth=1.25)\n",
    "\n",
    "plt.title('All Filtered Replicate Pairs', fontweight = 'bold' , fontsize = 12, color = 'k')\n",
    "plt.xlabel('$\\Delta$ AF', fontweight = 'bold' , fontsize = 12, color = 'k')\n",
    "plt.ylabel('Number of SNPs', fontweight = 'bold' , fontsize = 12, color = 'k')\n",
    "\n",
    "ax.spines['right'].set_visible(False)\n",
    "ax.spines['top'].set_visible(False)\n",
    "\n",
    "ax.tick_params(labelcolor = 'k')\n",
    "\n",
    "fig = plt.gcf()\n",
    "fig.set_size_inches(10.0, 5.5)\n",
    "fig.tight_layout()\n",
    "\n",
    "plt.tick_params(axis='y', which='major', labelsize=12 , labelcolor = 'k')\n",
    "plt.tick_params(axis='x', which='major', labelsize=12 , labelcolor = 'k')\n",
    "\n",
    "ax.set_xlim(0.24 , 1.01)\n",
    "\n",
    "file_name = '/n/data1/hms/dbmi/farhat/Roger/inhost_TB_dynamics_project/figures/replicate_vs_longitudinal_analysis/distribution_of_delta_AFs_for_all_replicate_SNPs.pdf'\n",
    "plt.savefig(file_name, bbox_inches='tight', dpi = 300 , transparent = True)\n",
    "\n",
    "plt.show()"
   ]
  },
  {
   "cell_type": "markdown",
   "metadata": {},
   "source": [
    "### Longitudinal Pairs"
   ]
  },
  {
   "cell_type": "code",
   "execution_count": 28,
   "metadata": {},
   "outputs": [
    {
     "data": {
      "image/png": "[encoded data removed]",
      "text/plain": [
       "<Figure size 720x396 with 1 Axes>"
      ]
     },
     "metadata": {},
     "output_type": "display_data"
    }
   ],
   "source": [
    "fig , ax = plt.subplots()\n",
    "\n",
    "bins = np.arange( np.min(longitudinal_pair_SNPs.alt_AF_diff) , np.max(longitudinal_pair_SNPs.alt_AF_diff) + 0.01 , 0.01)\n",
    "n , bins , patches = plt.hist(longitudinal_pair_SNPs.alt_AF_diff , bins = bins , color = 'k' , rwidth = 1.0 , edgecolor='white', linewidth=1.25)\n",
    "\n",
    "plt.title('All Filtered Longitudinal Pairs', fontweight = 'bold' , fontsize = 12, color = 'k')\n",
    "plt.xlabel('$\\Delta$ AF', fontweight = 'bold' , fontsize = 12, color = 'k')\n",
    "plt.ylabel('Number of SNPs', fontweight = 'bold' , fontsize = 12, color = 'k')\n",
    "\n",
    "ax.spines['right'].set_visible(False)\n",
    "ax.spines['top'].set_visible(False)\n",
    "\n",
    "ax.tick_params(labelcolor = 'k')\n",
    "\n",
    "fig = plt.gcf()\n",
    "fig.set_size_inches(10.0, 5.5)\n",
    "fig.tight_layout()\n",
    "\n",
    "plt.tick_params(axis='y', which='major', labelsize=12 , labelcolor = 'k')\n",
    "plt.tick_params(axis='x', which='major', labelsize=12 , labelcolor = 'k')\n",
    "\n",
    "ax.set_xlim(0.24 , 1.01)\n",
    "\n",
    "file_name = '/n/data1/hms/dbmi/farhat/Roger/inhost_TB_dynamics_project/figures/replicate_vs_longitudinal_analysis/distribution_of_delta_AFs_for_all_longitudinal_SNPs.pdf'\n",
    "plt.savefig(file_name, bbox_inches='tight', dpi = 300 , transparent = True)\n",
    "\n",
    "plt.show()"
   ]
  },
  {
   "cell_type": "markdown",
   "metadata": {},
   "source": [
    "### Probe into the SNPs from the different types of replicates"
   ]
  },
  {
   "cell_type": "markdown",
   "metadata": {},
   "source": [
    "Low Coverage Samples that were Re-Sequenced"
   ]
  },
  {
   "cell_type": "code",
   "execution_count": 29,
   "metadata": {},
   "outputs": [
    {
     "name": "stdout",
     "output_type": "stream",
     "text": [
      "Number of Replicate Pairs = 0\n"
     ]
    }
   ],
   "source": [
    "print 'Number of Replicate Pairs = ' + str( len(set(low_cov_reseq_replicates.patient_id)) )"
   ]
  },
  {
   "cell_type": "code",
   "execution_count": 30,
   "metadata": {
    "scrolled": false
   },
   "outputs": [
    {
     "data": {
      "text/plain": [
       "Series([], dtype: float64)"
      ]
     },
     "execution_count": 30,
     "metadata": {},
     "output_type": "execute_result"
    }
   ],
   "source": [
    "pd.Series( Counter( list( replicate_pair_SNPs[replicate_pair_SNPs.population == 'LC_REP'].patient_id) ) ).sort_values(ascending = False)"
   ]
  },
  {
   "cell_type": "markdown",
   "metadata": {},
   "source": [
    "#### CETR - POOLS replicate pairs"
   ]
  },
  {
   "cell_type": "code",
   "execution_count": 31,
   "metadata": {},
   "outputs": [
    {
     "name": "stdout",
     "output_type": "stream",
     "text": [
      "Number of Replicate Pairs = 34\n"
     ]
    }
   ],
   "source": [
    "print 'Number of Replicate Pairs = ' + str( len(set(cetr_pools_replicates.patient_id)) )"
   ]
  },
  {
   "cell_type": "code",
   "execution_count": 32,
   "metadata": {},
   "outputs": [
    {
     "data": {
      "image/png": "[encoded data removed]",
      "text/plain": [
       "<Figure size 720x396 with 1 Axes>"
      ]
     },
     "metadata": {},
     "output_type": "display_data"
    }
   ],
   "source": [
    "fig , ax = plt.subplots()\n",
    "\n",
    "n , bins , patches = plt.hist(replicate_pair_SNPs[replicate_pair_SNPs.population == 'CP_REP'].alt_AF_diff , bins = 58 , color = 'k' , rwidth = 1.0 , edgecolor='white', linewidth=0.5)\n",
    "\n",
    "plt.title('CETR-POOLS Replicate Pairs', fontweight = 'bold' , fontsize = 12, color = 'k')\n",
    "plt.xlabel('$\\Delta$ AF', fontweight = 'bold' , fontsize = 12, color = 'k')\n",
    "plt.ylabel('Number of SNPs', fontweight = 'bold' , fontsize = 12, color = 'k')\n",
    "\n",
    "ax.spines['right'].set_visible(False)\n",
    "ax.spines['top'].set_visible(False)\n",
    "\n",
    "ax.tick_params(labelcolor = 'k')\n",
    "#ax.set_yscale(\"log\", nonposy='clip')\n",
    "\n",
    "fig = plt.gcf()\n",
    "fig.set_size_inches(10.0, 5.5)\n",
    "fig.tight_layout()\n",
    "\n",
    "plt.show()"
   ]
  },
  {
   "cell_type": "code",
   "execution_count": 33,
   "metadata": {},
   "outputs": [
    {
     "data": {
      "text/plain": [
       "replicate_pair_0     18\n",
       "replicate_pair_27    12\n",
       "replicate_pair_68     5\n",
       "replicate_pair_11     4\n",
       "replicate_pair_10     3\n",
       "replicate_pair_12     3\n",
       "replicate_pair_61     3\n",
       "replicate_pair_59     3\n",
       "replicate_pair_29     2\n",
       "replicate_pair_13     2\n",
       "replicate_pair_14     2\n",
       "replicate_pair_16     2\n",
       "replicate_pair_18     2\n",
       "replicate_pair_2      2\n",
       "replicate_pair_24     2\n",
       "replicate_pair_4      2\n",
       "replicate_pair_71     2\n",
       "replicate_pair_50     2\n",
       "replicate_pair_40     1\n",
       "replicate_pair_15     1\n",
       "dtype: int64"
      ]
     },
     "execution_count": 33,
     "metadata": {},
     "output_type": "execute_result"
    }
   ],
   "source": [
    "pd.Series( Counter( list( replicate_pair_SNPs[replicate_pair_SNPs.population == 'CP_REP'].patient_id) ) ).sort_values(ascending = False).head(n=20)"
   ]
  },
  {
   "cell_type": "code",
   "execution_count": 34,
   "metadata": {},
   "outputs": [
    {
     "data": {
      "image/png": "[encoded data removed]",
      "text/plain": [
       "<Figure size 720x396 with 1 Axes>"
      ]
     },
     "metadata": {},
     "output_type": "display_data"
    }
   ],
   "source": [
    "#Allele Frequence Changes for SNPs from low-coverage replicate pairs\n",
    "SNP_AF_deltas = replicate_pair_SNPs[replicate_pair_SNPs.population == 'CP_REP'].alt_AF_diff.values\n",
    "\n",
    "#create array of different Allele Frequency change thresholds\n",
    "AF_delta_thresholds = np.arange(0.25 , 1.0 , 0.01)\n",
    "\n",
    "#store the number of SNPs that pass the threshold\n",
    "SNPs_passed_threshold = []\n",
    "\n",
    "for delta_thershold in AF_delta_thresholds:\n",
    "    \n",
    "    SNPs_passed_threshold.append( float( sum(SNP_AF_deltas >= delta_thershold) ) )\n",
    "    \n",
    "#plot threshold vs. number of SNPs that pass threshold\n",
    "fig , ax = plt.subplots()\n",
    "\n",
    "plt.plot( AF_delta_thresholds , SNPs_passed_threshold , color = 'black' , linewidth=2.0 )\n",
    "\n",
    "plt.title('CETR-POOLS Replicate Pairs', fontweight = 'bold' , fontsize = 12, color = 'k')\n",
    "plt.xlabel('$\\Delta$ AF Threshold', fontweight = 'bold' , fontsize = 12, color = 'k')\n",
    "plt.ylabel('Number of SNPs', fontweight = 'bold' , fontsize = 12, color = 'k')\n",
    "\n",
    "ax.spines['right'].set_visible(False)\n",
    "ax.spines['top'].set_visible(False)\n",
    "\n",
    "ax.tick_params(labelcolor = 'k')\n",
    "plt.tick_params(axis='y', which='major', labelsize=12 , labelcolor = 'k')\n",
    "plt.tick_params(axis='x', which='major', labelsize=12 , labelcolor = 'k')\n",
    "\n",
    "fig = plt.gcf()\n",
    "fig.set_size_inches(10.0, 5.5)\n",
    "fig.tight_layout()\n",
    "\n",
    "plt.show()"
   ]
  },
  {
   "cell_type": "code",
   "execution_count": 35,
   "metadata": {},
   "outputs": [
    {
     "data": {
      "text/html": [
       "<div>\n",
       "<style>\n",
       "    .dataframe thead tr:only-child th {\n",
       "        text-align: right;\n",
       "    }\n",
       "\n",
       "    .dataframe thead th {\n",
       "        text-align: left;\n",
       "    }\n",
       "\n",
       "    .dataframe tbody tr th {\n",
       "        vertical-align: top;\n",
       "    }\n",
       "</style>\n",
       "<table border=\"1\" class=\"dataframe\">\n",
       "  <thead>\n",
       "    <tr style=\"text-align: right;\">\n",
       "      <th></th>\n",
       "      <th>population</th>\n",
       "      <th>patient_id</th>\n",
       "      <th>ref_position</th>\n",
       "      <th>ref_allele</th>\n",
       "      <th>alt_allele</th>\n",
       "      <th>gene_id</th>\n",
       "      <th>genomic_coord</th>\n",
       "      <th>gene_category</th>\n",
       "      <th>gene_symbol</th>\n",
       "      <th>alt_AF_diff</th>\n",
       "      <th>SNP_type</th>\n",
       "      <th>AA_change</th>\n",
       "    </tr>\n",
       "  </thead>\n",
       "  <tbody>\n",
       "    <tr>\n",
       "      <th>1</th>\n",
       "      <td>CP_REP</td>\n",
       "      <td>replicate_pair_68</td>\n",
       "      <td>2334234</td>\n",
       "      <td>C</td>\n",
       "      <td>A</td>\n",
       "      <td>Rv2077c</td>\n",
       "      <td>61</td>\n",
       "      <td>Non-Essential</td>\n",
       "      <td>NaN</td>\n",
       "      <td>0.72</td>\n",
       "      <td>N</td>\n",
       "      <td>G21C</td>\n",
       "    </tr>\n",
       "    <tr>\n",
       "      <th>90</th>\n",
       "      <td>CP_REP</td>\n",
       "      <td>replicate_pair_24</td>\n",
       "      <td>2396877</td>\n",
       "      <td>A</td>\n",
       "      <td>G</td>\n",
       "      <td>Rv2136c_Rv2137c</td>\n",
       "      <td>None</td>\n",
       "      <td>None</td>\n",
       "      <td>None</td>\n",
       "      <td>0.70</td>\n",
       "      <td>I</td>\n",
       "      <td>None</td>\n",
       "    </tr>\n",
       "    <tr>\n",
       "      <th>14</th>\n",
       "      <td>CP_REP</td>\n",
       "      <td>replicate_pair_13</td>\n",
       "      <td>3820446</td>\n",
       "      <td>G</td>\n",
       "      <td>C</td>\n",
       "      <td>Rv3401_Rv3402c</td>\n",
       "      <td>None</td>\n",
       "      <td>None</td>\n",
       "      <td>None</td>\n",
       "      <td>0.70</td>\n",
       "      <td>I</td>\n",
       "      <td>None</td>\n",
       "    </tr>\n",
       "    <tr>\n",
       "      <th>15</th>\n",
       "      <td>CP_REP</td>\n",
       "      <td>replicate_pair_13</td>\n",
       "      <td>3820449</td>\n",
       "      <td>T</td>\n",
       "      <td>G</td>\n",
       "      <td>Rv3401_Rv3402c</td>\n",
       "      <td>None</td>\n",
       "      <td>None</td>\n",
       "      <td>None</td>\n",
       "      <td>0.69</td>\n",
       "      <td>I</td>\n",
       "      <td>None</td>\n",
       "    </tr>\n",
       "    <tr>\n",
       "      <th>4</th>\n",
       "      <td>CP_REP</td>\n",
       "      <td>replicate_pair_68</td>\n",
       "      <td>3736179</td>\n",
       "      <td>G</td>\n",
       "      <td>A</td>\n",
       "      <td>Rv3343c</td>\n",
       "      <td>757</td>\n",
       "      <td>PE/PPE</td>\n",
       "      <td>PPE54</td>\n",
       "      <td>0.69</td>\n",
       "      <td>S</td>\n",
       "      <td>L253L</td>\n",
       "    </tr>\n",
       "    <tr>\n",
       "      <th>13</th>\n",
       "      <td>CP_REP</td>\n",
       "      <td>replicate_pair_11</td>\n",
       "      <td>4316195</td>\n",
       "      <td>G</td>\n",
       "      <td>C</td>\n",
       "      <td>Rv3843c</td>\n",
       "      <td>402</td>\n",
       "      <td>Non-Essential</td>\n",
       "      <td>NaN</td>\n",
       "      <td>0.66</td>\n",
       "      <td>N</td>\n",
       "      <td>F134L</td>\n",
       "    </tr>\n",
       "    <tr>\n",
       "      <th>3</th>\n",
       "      <td>CP_REP</td>\n",
       "      <td>replicate_pair_68</td>\n",
       "      <td>3244804</td>\n",
       "      <td>T</td>\n",
       "      <td>G</td>\n",
       "      <td>Rv2930</td>\n",
       "      <td>1108</td>\n",
       "      <td>Non-Essential</td>\n",
       "      <td>fadD26</td>\n",
       "      <td>0.66</td>\n",
       "      <td>N</td>\n",
       "      <td>S370A</td>\n",
       "    </tr>\n",
       "    <tr>\n",
       "      <th>64</th>\n",
       "      <td>CP_REP</td>\n",
       "      <td>replicate_pair_12</td>\n",
       "      <td>3819146</td>\n",
       "      <td>C</td>\n",
       "      <td>A</td>\n",
       "      <td>Rv3401</td>\n",
       "      <td>1105</td>\n",
       "      <td>Non-Essential</td>\n",
       "      <td>NaN</td>\n",
       "      <td>0.63</td>\n",
       "      <td>N</td>\n",
       "      <td>P369T</td>\n",
       "    </tr>\n",
       "    <tr>\n",
       "      <th>56</th>\n",
       "      <td>CP_REP</td>\n",
       "      <td>replicate_pair_4</td>\n",
       "      <td>761004</td>\n",
       "      <td>A</td>\n",
       "      <td>G</td>\n",
       "      <td>Rv0667</td>\n",
       "      <td>1198</td>\n",
       "      <td>Antibiotic Resistance</td>\n",
       "      <td>rpoB</td>\n",
       "      <td>0.62</td>\n",
       "      <td>N</td>\n",
       "      <td>T400A</td>\n",
       "    </tr>\n",
       "    <tr>\n",
       "      <th>62</th>\n",
       "      <td>CP_REP</td>\n",
       "      <td>replicate_pair_12</td>\n",
       "      <td>292334</td>\n",
       "      <td>C</td>\n",
       "      <td>T</td>\n",
       "      <td>Rv0243</td>\n",
       "      <td>164</td>\n",
       "      <td>Non-Essential</td>\n",
       "      <td>fadA2</td>\n",
       "      <td>0.59</td>\n",
       "      <td>N</td>\n",
       "      <td>A55V</td>\n",
       "    </tr>\n",
       "    <tr>\n",
       "      <th>63</th>\n",
       "      <td>CP_REP</td>\n",
       "      <td>replicate_pair_12</td>\n",
       "      <td>1034894</td>\n",
       "      <td>G</td>\n",
       "      <td>T</td>\n",
       "      <td>Rv0927c_Rv0928</td>\n",
       "      <td>None</td>\n",
       "      <td>None</td>\n",
       "      <td>None</td>\n",
       "      <td>0.58</td>\n",
       "      <td>I</td>\n",
       "      <td>None</td>\n",
       "    </tr>\n",
       "    <tr>\n",
       "      <th>10</th>\n",
       "      <td>CP_REP</td>\n",
       "      <td>replicate_pair_11</td>\n",
       "      <td>994196</td>\n",
       "      <td>G</td>\n",
       "      <td>A</td>\n",
       "      <td>Rv0892</td>\n",
       "      <td>344</td>\n",
       "      <td>Non-Essential</td>\n",
       "      <td>NaN</td>\n",
       "      <td>0.51</td>\n",
       "      <td>N</td>\n",
       "      <td>W115*</td>\n",
       "    </tr>\n",
       "    <tr>\n",
       "      <th>9</th>\n",
       "      <td>CP_REP</td>\n",
       "      <td>replicate_pair_11</td>\n",
       "      <td>101351</td>\n",
       "      <td>G</td>\n",
       "      <td>A</td>\n",
       "      <td>Rv0092</td>\n",
       "      <td>769</td>\n",
       "      <td>Non-Essential</td>\n",
       "      <td>ctpA</td>\n",
       "      <td>0.49</td>\n",
       "      <td>N</td>\n",
       "      <td>V257I</td>\n",
       "    </tr>\n",
       "    <tr>\n",
       "      <th>24</th>\n",
       "      <td>CP_REP</td>\n",
       "      <td>replicate_pair_50</td>\n",
       "      <td>1096600</td>\n",
       "      <td>A</td>\n",
       "      <td>G</td>\n",
       "      <td>Rv0980c_Rv0981</td>\n",
       "      <td>None</td>\n",
       "      <td>None</td>\n",
       "      <td>None</td>\n",
       "      <td>0.47</td>\n",
       "      <td>I</td>\n",
       "      <td>None</td>\n",
       "    </tr>\n",
       "    <tr>\n",
       "      <th>77</th>\n",
       "      <td>CP_REP</td>\n",
       "      <td>replicate_pair_27</td>\n",
       "      <td>2288821</td>\n",
       "      <td>G</td>\n",
       "      <td>A</td>\n",
       "      <td>Rv2043c</td>\n",
       "      <td>421</td>\n",
       "      <td>Antibiotic Resistance</td>\n",
       "      <td>pncA</td>\n",
       "      <td>0.46</td>\n",
       "      <td>N</td>\n",
       "      <td>Q141*</td>\n",
       "    </tr>\n",
       "    <tr>\n",
       "      <th>68</th>\n",
       "      <td>CP_REP</td>\n",
       "      <td>replicate_pair_47</td>\n",
       "      <td>1472159</td>\n",
       "      <td>A</td>\n",
       "      <td>C</td>\n",
       "      <td>Rvnr01</td>\n",
       "      <td>314</td>\n",
       "      <td>None</td>\n",
       "      <td>rrs</td>\n",
       "      <td>0.44</td>\n",
       "      <td>N</td>\n",
       "      <td>H105P</td>\n",
       "    </tr>\n",
       "    <tr>\n",
       "      <th>73</th>\n",
       "      <td>CP_REP</td>\n",
       "      <td>replicate_pair_27</td>\n",
       "      <td>6738</td>\n",
       "      <td>C</td>\n",
       "      <td>A</td>\n",
       "      <td>Rv0005</td>\n",
       "      <td>1499</td>\n",
       "      <td>Antibiotic Resistance</td>\n",
       "      <td>gyrB</td>\n",
       "      <td>0.44</td>\n",
       "      <td>N</td>\n",
       "      <td>T500N</td>\n",
       "    </tr>\n",
       "    <tr>\n",
       "      <th>74</th>\n",
       "      <td>CP_REP</td>\n",
       "      <td>replicate_pair_27</td>\n",
       "      <td>637214</td>\n",
       "      <td>C</td>\n",
       "      <td>T</td>\n",
       "      <td>Rv0545c</td>\n",
       "      <td>250</td>\n",
       "      <td>Non-Essential</td>\n",
       "      <td>pitA</td>\n",
       "      <td>0.44</td>\n",
       "      <td>N</td>\n",
       "      <td>A84T</td>\n",
       "    </tr>\n",
       "    <tr>\n",
       "      <th>79</th>\n",
       "      <td>CP_REP</td>\n",
       "      <td>replicate_pair_27</td>\n",
       "      <td>3091654</td>\n",
       "      <td>T</td>\n",
       "      <td>G</td>\n",
       "      <td>Rv2783c</td>\n",
       "      <td>944</td>\n",
       "      <td>Non-Essential</td>\n",
       "      <td>gpsI</td>\n",
       "      <td>0.43</td>\n",
       "      <td>N</td>\n",
       "      <td>D315A</td>\n",
       "    </tr>\n",
       "    <tr>\n",
       "      <th>76</th>\n",
       "      <td>CP_REP</td>\n",
       "      <td>replicate_pair_27</td>\n",
       "      <td>851976</td>\n",
       "      <td>C</td>\n",
       "      <td>T</td>\n",
       "      <td>Rv0757</td>\n",
       "      <td>369</td>\n",
       "      <td>Non-Essential</td>\n",
       "      <td>phoP</td>\n",
       "      <td>0.42</td>\n",
       "      <td>S</td>\n",
       "      <td>F123F</td>\n",
       "    </tr>\n",
       "  </tbody>\n",
       "</table>\n",
       "</div>"
      ],
      "text/plain": [
       "   population         patient_id  ref_position ref_allele alt_allele  \\\n",
       "1      CP_REP  replicate_pair_68       2334234          C          A   \n",
       "90     CP_REP  replicate_pair_24       2396877          A          G   \n",
       "14     CP_REP  replicate_pair_13       3820446          G          C   \n",
       "15     CP_REP  replicate_pair_13       3820449          T          G   \n",
       "4      CP_REP  replicate_pair_68       3736179          G          A   \n",
       "13     CP_REP  replicate_pair_11       4316195          G          C   \n",
       "3      CP_REP  replicate_pair_68       3244804          T          G   \n",
       "64     CP_REP  replicate_pair_12       3819146          C          A   \n",
       "56     CP_REP   replicate_pair_4        761004          A          G   \n",
       "62     CP_REP  replicate_pair_12        292334          C          T   \n",
       "63     CP_REP  replicate_pair_12       1034894          G          T   \n",
       "10     CP_REP  replicate_pair_11        994196          G          A   \n",
       "9      CP_REP  replicate_pair_11        101351          G          A   \n",
       "24     CP_REP  replicate_pair_50       1096600          A          G   \n",
       "77     CP_REP  replicate_pair_27       2288821          G          A   \n",
       "68     CP_REP  replicate_pair_47       1472159          A          C   \n",
       "73     CP_REP  replicate_pair_27          6738          C          A   \n",
       "74     CP_REP  replicate_pair_27        637214          C          T   \n",
       "79     CP_REP  replicate_pair_27       3091654          T          G   \n",
       "76     CP_REP  replicate_pair_27        851976          C          T   \n",
       "\n",
       "            gene_id genomic_coord          gene_category gene_symbol  \\\n",
       "1           Rv2077c            61          Non-Essential         NaN   \n",
       "90  Rv2136c_Rv2137c          None                   None        None   \n",
       "14   Rv3401_Rv3402c          None                   None        None   \n",
       "15   Rv3401_Rv3402c          None                   None        None   \n",
       "4           Rv3343c           757                 PE/PPE       PPE54   \n",
       "13          Rv3843c           402          Non-Essential         NaN   \n",
       "3            Rv2930          1108          Non-Essential      fadD26   \n",
       "64           Rv3401          1105          Non-Essential         NaN   \n",
       "56           Rv0667          1198  Antibiotic Resistance        rpoB   \n",
       "62           Rv0243           164          Non-Essential       fadA2   \n",
       "63   Rv0927c_Rv0928          None                   None        None   \n",
       "10           Rv0892           344          Non-Essential         NaN   \n",
       "9            Rv0092           769          Non-Essential        ctpA   \n",
       "24   Rv0980c_Rv0981          None                   None        None   \n",
       "77          Rv2043c           421  Antibiotic Resistance        pncA   \n",
       "68           Rvnr01           314                   None         rrs   \n",
       "73           Rv0005          1499  Antibiotic Resistance        gyrB   \n",
       "74          Rv0545c           250          Non-Essential        pitA   \n",
       "79          Rv2783c           944          Non-Essential        gpsI   \n",
       "76           Rv0757           369          Non-Essential        phoP   \n",
       "\n",
       "    alt_AF_diff SNP_type AA_change  \n",
       "1          0.72        N      G21C  \n",
       "90         0.70        I      None  \n",
       "14         0.70        I      None  \n",
       "15         0.69        I      None  \n",
       "4          0.69        S     L253L  \n",
       "13         0.66        N     F134L  \n",
       "3          0.66        N     S370A  \n",
       "64         0.63        N     P369T  \n",
       "56         0.62        N     T400A  \n",
       "62         0.59        N      A55V  \n",
       "63         0.58        I      None  \n",
       "10         0.51        N     W115*  \n",
       "9          0.49        N     V257I  \n",
       "24         0.47        I      None  \n",
       "77         0.46        N     Q141*  \n",
       "68         0.44        N     H105P  \n",
       "73         0.44        N     T500N  \n",
       "74         0.44        N      A84T  \n",
       "79         0.43        N     D315A  \n",
       "76         0.42        S     F123F  "
      ]
     },
     "execution_count": 35,
     "metadata": {},
     "output_type": "execute_result"
    }
   ],
   "source": [
    "cetr_pools_replicates.sort_values(by='alt_AF_diff' , ascending = False).head(n=20)"
   ]
  },
  {
   "cell_type": "markdown",
   "metadata": {},
   "source": [
    "### Trauner Patient-12 replicate pairs"
   ]
  },
  {
   "cell_type": "code",
   "execution_count": 36,
   "metadata": {},
   "outputs": [
    {
     "name": "stdout",
     "output_type": "stream",
     "text": [
      "Number of Replicate Pairs = 0\n"
     ]
    }
   ],
   "source": [
    "print 'Number of Replicate Pairs = ' + str( len(set(trauner_P12_replicates.patient_id)) )"
   ]
  },
  {
   "cell_type": "code",
   "execution_count": 37,
   "metadata": {},
   "outputs": [
    {
     "data": {
      "text/plain": [
       "Series([], dtype: float64)"
      ]
     },
     "execution_count": 37,
     "metadata": {},
     "output_type": "execute_result"
    }
   ],
   "source": [
    "pd.Series( Counter( list( replicate_pair_SNPs[replicate_pair_SNPs.population == 'TRAUNER'].patient_id) ) ).sort_values(ascending = False)"
   ]
  },
  {
   "cell_type": "markdown",
   "metadata": {},
   "source": [
    "## Compare Avg Number of SNPs per Replicate Pair and Longitudinal Pair"
   ]
  },
  {
   "cell_type": "markdown",
   "metadata": {},
   "source": [
    "#### Allele Frequence Changes for SNPs from replicate pairs"
   ]
  },
  {
   "cell_type": "code",
   "execution_count": 38,
   "metadata": {},
   "outputs": [],
   "source": [
    "SNP_AF_deltas = replicate_pair_SNPs.alt_AF_diff.values\n",
    "\n",
    "#create array of different Allele Frequency change thresholds\n",
    "AF_delta_thresholds = np.arange(0.25 , 1.00 , 0.01)\n",
    "AF_delta_thresholds = [round(threshold,2) for threshold in AF_delta_thresholds]\n",
    "\n",
    "#store the number of SNPs that pass the threshold\n",
    "SNPs_passed_threshold = []\n",
    "\n",
    "for delta_thershold in AF_delta_thresholds:\n",
    "    \n",
    "    SNPs_passed_threshold.append( float( sum(SNP_AF_deltas >= delta_thershold) ) )\n",
    "\n",
    "num_replicate_pairs = float( len(set(replicate_sample_annotation.patient_id)) )\n",
    "avg_SNPs_passed_threshold_replicate = np.array( SNPs_passed_threshold ) / num_replicate_pairs"
   ]
  },
  {
   "cell_type": "markdown",
   "metadata": {},
   "source": [
    "#### Allele Frequence Changes for SNPs from longitudinal pairs"
   ]
  },
  {
   "cell_type": "code",
   "execution_count": 39,
   "metadata": {},
   "outputs": [],
   "source": [
    "SNP_AF_deltas = longitudinal_pair_SNPs.alt_AF_diff.values\n",
    "\n",
    "#create array of different Allele Frequency change thresholds\n",
    "AF_delta_thresholds = np.arange(0.25 , 1.00 , 0.01)\n",
    "AF_delta_thresholds = [round(threshold,2) for threshold in AF_delta_thresholds]\n",
    "\n",
    "#store the number of SNPs that pass the threshold\n",
    "SNPs_passed_threshold = []\n",
    "\n",
    "for delta_thershold in AF_delta_thresholds:\n",
    "    \n",
    "    SNPs_passed_threshold.append( float( sum(SNP_AF_deltas >= delta_thershold) ) )\n",
    "\n",
    "num_longitudinal_pairs = float( len(set(longitudinal_sample_annotation.patient_id)) )\n",
    "avg_SNPs_passed_threshold_longitudinal = np.array( SNPs_passed_threshold ) / num_longitudinal_pairs"
   ]
  },
  {
   "cell_type": "markdown",
   "metadata": {},
   "source": [
    "Set $\\Delta AF$ threshold ($\\Delta AF_T$) where SNPs from replicate pairs represent $\\approx 5 \\%$ of SNPs between pooled replicate and longitudinal isolate pairs, weighted by the number of pairs in each group, find $\\Delta AF_T$ such that"
   ]
  },
  {
   "cell_type": "markdown",
   "metadata": {},
   "source": [
    "$$\\frac{ [(\\text{Number of Replicate SNPs} \\ge \\Delta AF_T) / (\\text{Number of Replicate Pairs})]}{[(\\text{Number of Replicate SNPs} \\ge \\Delta AF_T) / (\\text{Number of Replicate Pairs})] + [(\\text{Number of Longitudinal SNPs} \\ge \\Delta AF_T) / (\\text{Number of Longitudinal Pairs})]} = \\frac{[\\text{Avg Number of SNPs per Replicate Pair}]}{[\\text{Avg Number of SNPs per Replicate Pair}] + [\\text{Avg Number of SNPs per Longitudinal Pair}]} \\approx 5\\% $$"
   ]
  },
  {
   "cell_type": "code",
   "execution_count": 40,
   "metadata": {},
   "outputs": [
    {
     "data": {
      "image/png": "[encoded data removed]",
      "text/plain": [
       "<Figure size 720x396 with 2 Axes>"
      ]
     },
     "metadata": {},
     "output_type": "display_data"
    }
   ],
   "source": [
    "#plot threshold vs. number of SNPs that pass threshold\n",
    "################################################################################################################################################\n",
    "fig , ax1 = plt.subplots()\n",
    "\n",
    "ax1.plot( AF_delta_thresholds , avg_SNPs_passed_threshold_replicate , color = 'xkcd:bright red' , linewidth=2.5 , label = 'Replicate')\n",
    "ax1.plot( AF_delta_thresholds , avg_SNPs_passed_threshold_longitudinal , color = 'xkcd:grass green' , linewidth=2.5 , label = 'Longitudinal' )\n",
    "\n",
    "ax1.set_xlabel('$\\Delta$ AF Threshold', fontweight = 'bold' , fontsize = 12, color = 'k')\n",
    "ax1.set_ylabel('Average Number of SNPs per Pair', fontweight = 'bold' , fontsize = 12, color = 'k')\n",
    "\n",
    "ax1.spines['right'].set_visible(False)\n",
    "ax1.spines['top'].set_visible(False)\n",
    "\n",
    "ax1.tick_params(labelcolor = 'k')\n",
    "ax1.tick_params(axis='x', which='major', labelsize=12 , labelcolor = 'k')\n",
    "ax1.tick_params(axis='y', which='major', labelsize=12 , labelcolor = 'k')\n",
    "\n",
    "ax1.set_xlim(0.24 , 1.0)\n",
    "ax1.legend(loc='right')\n",
    "################################################################################################################################################\n",
    "\n",
    "#second super imposed plot, graph the ratio of average number of longitudinal SNPs / avg number of replicate SNPs\n",
    "################################################################################################################################################\n",
    "ax2 = ax1.twinx()\n",
    "\n",
    "#for each threshold, divide the avg number of SNPs from replicate isolates OVER the avg number of SNPs from replicate isolates + the avg number of SNPs from longitudinal isolates\n",
    "weighted_proportion_SNPs_from_replicates = avg_SNPs_passed_threshold_replicate / (avg_SNPs_passed_threshold_replicate + avg_SNPs_passed_threshold_longitudinal)\n",
    "ax2.plot( AF_delta_thresholds , weighted_proportion_SNPs_from_replicates , color = 'xkcd:bright blue' , linewidth=2.5 , label = 'Weighted Proportion of Replicate SNPs')\n",
    "\n",
    "#convert weighted proportion SNPs from replicates to percentages & round to the nearest whole number\n",
    "weighted_percentage_replicate_SNPs_rounded = np.array( [int(np.round(float(x) , 0)) for x in 100*weighted_proportion_SNPs_from_replicates] )\n",
    "\n",
    "#find the delta & proportion at which weighted proportion of replicate SNPs is about 5% of weighted SNPs from replicate + longitudinal pairs\n",
    "delta_AF_threshold = list(compress(AF_delta_thresholds, list( weighted_percentage_replicate_SNPs_rounded <= 5 )))[0]\n",
    "weighted_proportion_SNPs_from_replicates_at_threshold = list(compress(weighted_proportion_SNPs_from_replicates, list( weighted_percentage_replicate_SNPs_rounded <= 5 )))[0]\n",
    "\n",
    "ax2.plot([delta_AF_threshold , delta_AF_threshold] , [0 , weighted_proportion_SNPs_from_replicates_at_threshold] , color = 'k' , linewidth = 1.5 , linestyle = '--' , alpha = 0.5)\n",
    "ax2.plot([delta_AF_threshold , 1.0] , [weighted_proportion_SNPs_from_replicates_at_threshold , weighted_proportion_SNPs_from_replicates_at_threshold] , color = 'k' , linewidth = 1.5 , linestyle = '--', alpha = 0.5)\n",
    "\n",
    "\n",
    "ax2.spines['top'].set_visible(False)\n",
    "plt.rcParams[\"axes.grid\"] = False\n",
    "\n",
    "ax2.tick_params(labelcolor = 'k')\n",
    "ax2.tick_params(axis='x', which='major', labelsize=12 , labelcolor = 'k')\n",
    "ax2.tick_params(axis='y', which='major', labelsize=12 , labelcolor = 'k')\n",
    "\n",
    "ax2.legend(loc='upper right')\n",
    "################################################################################################################################################\n",
    "\n",
    "fig = plt.gcf()\n",
    "fig.set_size_inches(10.0, 5.5)\n",
    "fig.tight_layout()\n",
    "\n",
    "file_name = '/n/data1/hms/dbmi/farhat/Roger/inhost_TB_dynamics_project/figures/replicate_vs_longitudinal_analysis/avg_num_SNPs_vs_delta_AF_threshold.pdf'\n",
    "plt.savefig(file_name, bbox_inches='tight', dpi = 300 , transparent = True)\n",
    "plt.show()"
   ]
  },
  {
   "cell_type": "code",
   "execution_count": 41,
   "metadata": {
    "scrolled": true
   },
   "outputs": [
    {
     "name": "stdout",
     "output_type": "stream",
     "text": [
      "0.7\n"
     ]
    }
   ],
   "source": [
    "print delta_AF_threshold"
   ]
  },
  {
   "cell_type": "code",
   "execution_count": 42,
   "metadata": {},
   "outputs": [
    {
     "name": "stdout",
     "output_type": "stream",
     "text": [
      "0.05268703898840885\n"
     ]
    }
   ],
   "source": [
    "print weighted_proportion_SNPs_from_replicates_at_threshold #there are over 20x as many avg SNPs per longitudinal pair than there are avg SNPs per replicate pair"
   ]
  },
  {
   "cell_type": "markdown",
   "metadata": {},
   "source": [
    "Number of Replicate Pairs"
   ]
  },
  {
   "cell_type": "code",
   "execution_count": 43,
   "metadata": {},
   "outputs": [
    {
     "name": "stdout",
     "output_type": "stream",
     "text": [
      "62.0\n"
     ]
    }
   ],
   "source": [
    "num_replicate_pairs = float( len(set(replicate_sample_annotation.patient_id)) )\n",
    "print num_replicate_pairs"
   ]
  },
  {
   "cell_type": "markdown",
   "metadata": {},
   "source": [
    "Number of SNPs between Replicate Pairs with $\\Delta AF \\ge 70\\%$  "
   ]
  },
  {
   "cell_type": "code",
   "execution_count": 44,
   "metadata": {},
   "outputs": [
    {
     "name": "stdout",
     "output_type": "stream",
     "text": [
      "3\n"
     ]
    }
   ],
   "source": [
    "num_replicate_SNPs_above_threshold = sum( replicate_pair_SNPs.alt_AF_diff.values >= 0.70 )\n",
    "print num_replicate_SNPs_above_threshold"
   ]
  },
  {
   "cell_type": "markdown",
   "metadata": {},
   "source": [
    "Number of Longitudinal Pairs"
   ]
  },
  {
   "cell_type": "code",
   "execution_count": 45,
   "metadata": {},
   "outputs": [
    {
     "name": "stdout",
     "output_type": "stream",
     "text": [
      "200.0\n"
     ]
    }
   ],
   "source": [
    "num_longitudinal_pairs = float( len(set(longitudinal_sample_annotation.patient_id)) )\n",
    "print num_longitudinal_pairs"
   ]
  },
  {
   "cell_type": "markdown",
   "metadata": {},
   "source": [
    "Number of SNPs between Longitudinal Pairs with $\\Delta AF \\ge 70\\%$  "
   ]
  },
  {
   "cell_type": "code",
   "execution_count": 46,
   "metadata": {},
   "outputs": [
    {
     "name": "stdout",
     "output_type": "stream",
     "text": [
      "174\n"
     ]
    }
   ],
   "source": [
    "num_longitudinal_SNPs_above_threshold = sum( longitudinal_pair_SNPs.alt_AF_diff.values >= 0.70 )\n",
    "print num_longitudinal_SNPs_above_threshold"
   ]
  },
  {
   "cell_type": "markdown",
   "metadata": {},
   "source": [
    "Sanity check that this $\\Delta AF \\ge 70\\%$ results in $\\approx 5\\%$ SNPs from Replicate Pairs "
   ]
  },
  {
   "cell_type": "code",
   "execution_count": 47,
   "metadata": {},
   "outputs": [
    {
     "data": {
      "text/plain": [
       "5.268703898840886"
      ]
     },
     "execution_count": 47,
     "metadata": {},
     "output_type": "execute_result"
    }
   ],
   "source": [
    "( (float(num_replicate_SNPs_above_threshold) / num_replicate_pairs) /  ( (float(num_replicate_SNPs_above_threshold) / num_replicate_pairs) + (float(num_longitudinal_SNPs_above_threshold) / num_longitudinal_pairs) ) ) * 100"
   ]
  },
  {
   "cell_type": "markdown",
   "metadata": {},
   "source": [
    "Take a look at some of the longitudinal SNPs passing this threshold"
   ]
  },
  {
   "cell_type": "code",
   "execution_count": 48,
   "metadata": {
    "scrolled": false
   },
   "outputs": [
    {
     "data": {
      "text/html": [
       "<div>\n",
       "<style>\n",
       "    .dataframe thead tr:only-child th {\n",
       "        text-align: right;\n",
       "    }\n",
       "\n",
       "    .dataframe thead th {\n",
       "        text-align: left;\n",
       "    }\n",
       "\n",
       "    .dataframe tbody tr th {\n",
       "        vertical-align: top;\n",
       "    }\n",
       "</style>\n",
       "<table border=\"1\" class=\"dataframe\">\n",
       "  <thead>\n",
       "    <tr style=\"text-align: right;\">\n",
       "      <th></th>\n",
       "      <th>population</th>\n",
       "      <th>patient_id</th>\n",
       "      <th>ref_position</th>\n",
       "      <th>ref_allele</th>\n",
       "      <th>alt_allele</th>\n",
       "      <th>gene_id</th>\n",
       "      <th>genomic_coord</th>\n",
       "      <th>gene_category</th>\n",
       "      <th>gene_symbol</th>\n",
       "      <th>alt_AF_diff</th>\n",
       "      <th>SNP_type</th>\n",
       "      <th>AA_change</th>\n",
       "    </tr>\n",
       "  </thead>\n",
       "  <tbody>\n",
       "    <tr>\n",
       "      <th>852</th>\n",
       "      <td>WALKER</td>\n",
       "      <td>P000226</td>\n",
       "      <td>2154695</td>\n",
       "      <td>C</td>\n",
       "      <td>A</td>\n",
       "      <td>Rv1908c</td>\n",
       "      <td>1417</td>\n",
       "      <td>Antibiotic Resistance</td>\n",
       "      <td>katG</td>\n",
       "      <td>0.70</td>\n",
       "      <td>N</td>\n",
       "      <td>V473F</td>\n",
       "    </tr>\n",
       "    <tr>\n",
       "      <th>850</th>\n",
       "      <td>WALKER</td>\n",
       "      <td>P000226</td>\n",
       "      <td>1247263</td>\n",
       "      <td>G</td>\n",
       "      <td>T</td>\n",
       "      <td>Rv1124</td>\n",
       "      <td>137</td>\n",
       "      <td>Non-Essential</td>\n",
       "      <td>ephC</td>\n",
       "      <td>0.71</td>\n",
       "      <td>N</td>\n",
       "      <td>C46F</td>\n",
       "    </tr>\n",
       "    <tr>\n",
       "      <th>1080</th>\n",
       "      <td>CETR</td>\n",
       "      <td>3451</td>\n",
       "      <td>9582</td>\n",
       "      <td>A</td>\n",
       "      <td>G</td>\n",
       "      <td>Rv0006</td>\n",
       "      <td>2281</td>\n",
       "      <td>Antibiotic Resistance</td>\n",
       "      <td>gyrA</td>\n",
       "      <td>0.71</td>\n",
       "      <td>N</td>\n",
       "      <td>R761G</td>\n",
       "    </tr>\n",
       "    <tr>\n",
       "      <th>1138</th>\n",
       "      <td>WITNEY</td>\n",
       "      <td>16</td>\n",
       "      <td>4326401</td>\n",
       "      <td>C</td>\n",
       "      <td>G</td>\n",
       "      <td>Rv3854c</td>\n",
       "      <td>1073</td>\n",
       "      <td>Antibiotic Resistance</td>\n",
       "      <td>ethA</td>\n",
       "      <td>0.72</td>\n",
       "      <td>N</td>\n",
       "      <td>G358A</td>\n",
       "    </tr>\n",
       "    <tr>\n",
       "      <th>1432</th>\n",
       "      <td>GUERRA</td>\n",
       "      <td>KPS_17</td>\n",
       "      <td>3220190</td>\n",
       "      <td>G</td>\n",
       "      <td>A</td>\n",
       "      <td>Rv2913c</td>\n",
       "      <td>1509</td>\n",
       "      <td>Non-Essential</td>\n",
       "      <td>NaN</td>\n",
       "      <td>0.72</td>\n",
       "      <td>S</td>\n",
       "      <td>R503R</td>\n",
       "    </tr>\n",
       "    <tr>\n",
       "      <th>1082</th>\n",
       "      <td>CETR</td>\n",
       "      <td>3451</td>\n",
       "      <td>2288697</td>\n",
       "      <td>A</td>\n",
       "      <td>C</td>\n",
       "      <td>Rv2043c</td>\n",
       "      <td>545</td>\n",
       "      <td>Antibiotic Resistance</td>\n",
       "      <td>pncA</td>\n",
       "      <td>0.72</td>\n",
       "      <td>N</td>\n",
       "      <td>L182W</td>\n",
       "    </tr>\n",
       "    <tr>\n",
       "      <th>938</th>\n",
       "      <td>GUERRA</td>\n",
       "      <td>KPS_24</td>\n",
       "      <td>851701</td>\n",
       "      <td>A</td>\n",
       "      <td>G</td>\n",
       "      <td>Rv0757</td>\n",
       "      <td>94</td>\n",
       "      <td>Non-Essential</td>\n",
       "      <td>phoP</td>\n",
       "      <td>0.72</td>\n",
       "      <td>N</td>\n",
       "      <td>I32V</td>\n",
       "    </tr>\n",
       "    <tr>\n",
       "      <th>820</th>\n",
       "      <td>TRAUNER</td>\n",
       "      <td>P11</td>\n",
       "      <td>1767490</td>\n",
       "      <td>G</td>\n",
       "      <td>C</td>\n",
       "      <td>Rv1563c</td>\n",
       "      <td>1943</td>\n",
       "      <td>Non-Essential</td>\n",
       "      <td>treY</td>\n",
       "      <td>0.73</td>\n",
       "      <td>N</td>\n",
       "      <td>T648S</td>\n",
       "    </tr>\n",
       "    <tr>\n",
       "      <th>1081</th>\n",
       "      <td>CETR</td>\n",
       "      <td>3451</td>\n",
       "      <td>2062292</td>\n",
       "      <td>G</td>\n",
       "      <td>T</td>\n",
       "      <td>Rv1818c</td>\n",
       "      <td>383</td>\n",
       "      <td>PE/PPE</td>\n",
       "      <td>PE_PGRS33</td>\n",
       "      <td>0.73</td>\n",
       "      <td>N</td>\n",
       "      <td>T128N</td>\n",
       "    </tr>\n",
       "    <tr>\n",
       "      <th>1084</th>\n",
       "      <td>CETR</td>\n",
       "      <td>3451</td>\n",
       "      <td>3301183</td>\n",
       "      <td>C</td>\n",
       "      <td>A</td>\n",
       "      <td>Rv2950c</td>\n",
       "      <td>1273</td>\n",
       "      <td>Non-Essential</td>\n",
       "      <td>fadD29</td>\n",
       "      <td>0.73</td>\n",
       "      <td>N</td>\n",
       "      <td>V425F</td>\n",
       "    </tr>\n",
       "    <tr>\n",
       "      <th>1472</th>\n",
       "      <td>CASALI</td>\n",
       "      <td>P305</td>\n",
       "      <td>812422</td>\n",
       "      <td>C</td>\n",
       "      <td>T</td>\n",
       "      <td>Rv0716</td>\n",
       "      <td>364</td>\n",
       "      <td>Essential</td>\n",
       "      <td>rplE</td>\n",
       "      <td>0.74</td>\n",
       "      <td>N</td>\n",
       "      <td>R122C</td>\n",
       "    </tr>\n",
       "    <tr>\n",
       "      <th>730</th>\n",
       "      <td>GUERRA</td>\n",
       "      <td>KPS_48</td>\n",
       "      <td>969152</td>\n",
       "      <td>C</td>\n",
       "      <td>T</td>\n",
       "      <td>Rv0872c</td>\n",
       "      <td>1093</td>\n",
       "      <td>PE/PPE</td>\n",
       "      <td>PE_PGRS15</td>\n",
       "      <td>0.75</td>\n",
       "      <td>N</td>\n",
       "      <td>E365K</td>\n",
       "    </tr>\n",
       "    <tr>\n",
       "      <th>1238</th>\n",
       "      <td>CETR</td>\n",
       "      <td>2511</td>\n",
       "      <td>561359</td>\n",
       "      <td>A</td>\n",
       "      <td>C</td>\n",
       "      <td>Rv0470c</td>\n",
       "      <td>353</td>\n",
       "      <td>Antigen</td>\n",
       "      <td>pcaA</td>\n",
       "      <td>0.75</td>\n",
       "      <td>N</td>\n",
       "      <td>V118G</td>\n",
       "    </tr>\n",
       "    <tr>\n",
       "      <th>906</th>\n",
       "      <td>WITNEY</td>\n",
       "      <td>30</td>\n",
       "      <td>3688276</td>\n",
       "      <td>G</td>\n",
       "      <td>A</td>\n",
       "      <td>Rv3302c</td>\n",
       "      <td>1167</td>\n",
       "      <td>Non-Essential</td>\n",
       "      <td>glpD2</td>\n",
       "      <td>0.76</td>\n",
       "      <td>S</td>\n",
       "      <td>T389T</td>\n",
       "    </tr>\n",
       "    <tr>\n",
       "      <th>1083</th>\n",
       "      <td>CETR</td>\n",
       "      <td>3451</td>\n",
       "      <td>2288878</td>\n",
       "      <td>G</td>\n",
       "      <td>A</td>\n",
       "      <td>Rv2043c</td>\n",
       "      <td>364</td>\n",
       "      <td>Antibiotic Resistance</td>\n",
       "      <td>pncA</td>\n",
       "      <td>0.77</td>\n",
       "      <td>N</td>\n",
       "      <td>Q122*</td>\n",
       "    </tr>\n",
       "    <tr>\n",
       "      <th>1412</th>\n",
       "      <td>GUERRA</td>\n",
       "      <td>KPS_17</td>\n",
       "      <td>1273552</td>\n",
       "      <td>G</td>\n",
       "      <td>A</td>\n",
       "      <td>Rv1146</td>\n",
       "      <td>198</td>\n",
       "      <td>Non-Essential</td>\n",
       "      <td>mmpL13b</td>\n",
       "      <td>0.79</td>\n",
       "      <td>S</td>\n",
       "      <td>L66L</td>\n",
       "    </tr>\n",
       "    <tr>\n",
       "      <th>1007</th>\n",
       "      <td>CASALI</td>\n",
       "      <td>P377</td>\n",
       "      <td>104962</td>\n",
       "      <td>G</td>\n",
       "      <td>A</td>\n",
       "      <td>Rv0095c</td>\n",
       "      <td>254</td>\n",
       "      <td>Non-Essential</td>\n",
       "      <td>NaN</td>\n",
       "      <td>0.80</td>\n",
       "      <td>N</td>\n",
       "      <td>A85V</td>\n",
       "    </tr>\n",
       "    <tr>\n",
       "      <th>853</th>\n",
       "      <td>WALKER</td>\n",
       "      <td>P000226</td>\n",
       "      <td>2322095</td>\n",
       "      <td>C</td>\n",
       "      <td>T</td>\n",
       "      <td>Rv2064</td>\n",
       "      <td>645</td>\n",
       "      <td>Non-Essential</td>\n",
       "      <td>cobG</td>\n",
       "      <td>0.80</td>\n",
       "      <td>S</td>\n",
       "      <td>S215S</td>\n",
       "    </tr>\n",
       "    <tr>\n",
       "      <th>865</th>\n",
       "      <td>GUERRA</td>\n",
       "      <td>KPS_79</td>\n",
       "      <td>886005</td>\n",
       "      <td>C</td>\n",
       "      <td>G</td>\n",
       "      <td>Rv0792c</td>\n",
       "      <td>642</td>\n",
       "      <td>Non-Essential</td>\n",
       "      <td>NaN</td>\n",
       "      <td>0.80</td>\n",
       "      <td>S</td>\n",
       "      <td>V214V</td>\n",
       "    </tr>\n",
       "    <tr>\n",
       "      <th>24</th>\n",
       "      <td>BRYANT</td>\n",
       "      <td>4146V</td>\n",
       "      <td>3547988</td>\n",
       "      <td>T</td>\n",
       "      <td>G</td>\n",
       "      <td>Rv3179</td>\n",
       "      <td>371</td>\n",
       "      <td>Non-Essential</td>\n",
       "      <td>NaN</td>\n",
       "      <td>0.81</td>\n",
       "      <td>N</td>\n",
       "      <td>L124R</td>\n",
       "    </tr>\n",
       "  </tbody>\n",
       "</table>\n",
       "</div>"
      ],
      "text/plain": [
       "     population patient_id  ref_position ref_allele alt_allele  gene_id  \\\n",
       "852      WALKER    P000226       2154695          C          A  Rv1908c   \n",
       "850      WALKER    P000226       1247263          G          T   Rv1124   \n",
       "1080       CETR       3451          9582          A          G   Rv0006   \n",
       "1138     WITNEY         16       4326401          C          G  Rv3854c   \n",
       "1432     GUERRA     KPS_17       3220190          G          A  Rv2913c   \n",
       "1082       CETR       3451       2288697          A          C  Rv2043c   \n",
       "938      GUERRA     KPS_24        851701          A          G   Rv0757   \n",
       "820     TRAUNER        P11       1767490          G          C  Rv1563c   \n",
       "1081       CETR       3451       2062292          G          T  Rv1818c   \n",
       "1084       CETR       3451       3301183          C          A  Rv2950c   \n",
       "1472     CASALI       P305        812422          C          T   Rv0716   \n",
       "730      GUERRA     KPS_48        969152          C          T  Rv0872c   \n",
       "1238       CETR       2511        561359          A          C  Rv0470c   \n",
       "906      WITNEY         30       3688276          G          A  Rv3302c   \n",
       "1083       CETR       3451       2288878          G          A  Rv2043c   \n",
       "1412     GUERRA     KPS_17       1273552          G          A   Rv1146   \n",
       "1007     CASALI       P377        104962          G          A  Rv0095c   \n",
       "853      WALKER    P000226       2322095          C          T   Rv2064   \n",
       "865      GUERRA     KPS_79        886005          C          G  Rv0792c   \n",
       "24       BRYANT      4146V       3547988          T          G   Rv3179   \n",
       "\n",
       "     genomic_coord          gene_category gene_symbol  alt_AF_diff SNP_type  \\\n",
       "852           1417  Antibiotic Resistance        katG         0.70        N   \n",
       "850            137          Non-Essential        ephC         0.71        N   \n",
       "1080          2281  Antibiotic Resistance        gyrA         0.71        N   \n",
       "1138          1073  Antibiotic Resistance        ethA         0.72        N   \n",
       "1432          1509          Non-Essential         NaN         0.72        S   \n",
       "1082           545  Antibiotic Resistance        pncA         0.72        N   \n",
       "938             94          Non-Essential        phoP         0.72        N   \n",
       "820           1943          Non-Essential        treY         0.73        N   \n",
       "1081           383                 PE/PPE   PE_PGRS33         0.73        N   \n",
       "1084          1273          Non-Essential      fadD29         0.73        N   \n",
       "1472           364              Essential        rplE         0.74        N   \n",
       "730           1093                 PE/PPE   PE_PGRS15         0.75        N   \n",
       "1238           353                Antigen        pcaA         0.75        N   \n",
       "906           1167          Non-Essential       glpD2         0.76        S   \n",
       "1083           364  Antibiotic Resistance        pncA         0.77        N   \n",
       "1412           198          Non-Essential     mmpL13b         0.79        S   \n",
       "1007           254          Non-Essential         NaN         0.80        N   \n",
       "853            645          Non-Essential        cobG         0.80        S   \n",
       "865            642          Non-Essential         NaN         0.80        S   \n",
       "24             371          Non-Essential         NaN         0.81        N   \n",
       "\n",
       "     AA_change  \n",
       "852      V473F  \n",
       "850       C46F  \n",
       "1080     R761G  \n",
       "1138     G358A  \n",
       "1432     R503R  \n",
       "1082     L182W  \n",
       "938       I32V  \n",
       "820      T648S  \n",
       "1081     T128N  \n",
       "1084     V425F  \n",
       "1472     R122C  \n",
       "730      E365K  \n",
       "1238     V118G  \n",
       "906      T389T  \n",
       "1083     Q122*  \n",
       "1412      L66L  \n",
       "1007      A85V  \n",
       "853      S215S  \n",
       "865      V214V  \n",
       "24       L124R  "
      ]
     },
     "execution_count": 48,
     "metadata": {},
     "output_type": "execute_result"
    }
   ],
   "source": [
    "longitudinal_pair_SNPs[longitudinal_pair_SNPs.alt_AF_diff >= 0.70].sort_values(by = 'alt_AF_diff').head(n=20)"
   ]
  }
 ],
 "metadata": {
  "kernelspec": {
   "display_name": "Python 2",
   "language": "python",
   "name": "python2"
  },
  "language_info": {
   "codemirror_mode": {
    "name": "ipython",
    "version": 2
   },
   "file_extension": ".py",
   "mimetype": "text/x-python",
   "name": "python",
   "nbconvert_exporter": "python",
   "pygments_lexer": "ipython2",
   "version": "2.7.16"
  }
 },
 "nbformat": 4,
 "nbformat_minor": 2
}
