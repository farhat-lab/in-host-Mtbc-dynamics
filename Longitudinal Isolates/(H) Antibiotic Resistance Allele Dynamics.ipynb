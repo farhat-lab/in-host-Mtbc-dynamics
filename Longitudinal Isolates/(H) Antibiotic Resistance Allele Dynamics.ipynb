{
 "cells": [
  {
   "cell_type": "code",
   "execution_count": 1,
   "metadata": {},
   "outputs": [
    {
     "data": {
      "text/html": [
       "<style>.container { width:100% !important; }</style>"
      ],
      "text/plain": [
       "<IPython.core.display.HTML object>"
      ]
     },
     "metadata": {},
     "output_type": "display_data"
    }
   ],
   "source": [
    "from IPython.core.display import display, HTML\n",
    "display(HTML(\"<style>.container { width:100% !important; }</style>\"))"
   ]
  },
  {
   "cell_type": "code",
   "execution_count": 2,
   "metadata": {},
   "outputs": [],
   "source": [
    "import vcf\n",
    "\n",
    "%matplotlib inline\n",
    "import os\n",
    "import pandas as pd\n",
    "import numpy as np\n",
    "import matplotlib.pyplot as plt\n",
    "import matplotlib as mpl\n",
    "import matplotlib.ticker as ticker\n",
    "\n",
    "from pylab import plot, show, savefig, xlim, figure, hold, ylim, legend, boxplot, setp, axes\n",
    "from itertools import compress\n",
    "from pylab import MaxNLocator\n",
    "import seaborn as sns; sns.set()\n",
    "from matplotlib.colors import LogNorm\n",
    "from matplotlib import gridspec\n",
    "import ast\n",
    "import itertools\n",
    "import seaborn as sns\n",
    "from sklearn.preprocessing import StandardScaler\n",
    "\n",
    "import fastcluster\n",
    "from sklearn import cluster, datasets\n",
    "import scipy.cluster.hierarchy as hier\n",
    "from sklearn.cluster import KMeans\n",
    "import time\n",
    "import sys\n",
    "import math\n",
    "\n",
    "import Bio\n",
    "from Bio.Alphabet import IUPAC\n",
    "from Bio.Blast.Applications import NcbiblastnCommandline\n",
    "from Bio.Blast import NCBIXML\n",
    "from Bio.Seq import Seq\n",
    "from Bio.SeqRecord import SeqRecord\n",
    "from Bio.SeqFeature import SeqFeature, FeatureLocation\n",
    "from Bio import pairwise2\n",
    "from Bio import SeqIO\n",
    "from Bio.Graphics import GenomeDiagram\n",
    "from Bio.SeqUtils import GC\n",
    "\n",
    "from Bio.Align.Applications import MuscleCommandline\n",
    "from StringIO import StringIO\n",
    "from Bio import AlignIO\n",
    "from Bio.Align import AlignInfo\n",
    "from Bio.Seq import MutableSeq\n",
    "import itertools\n",
    "\n",
    "import networkx as nx\n",
    "import scipy\n",
    "\n",
    "import datetime as dt\n",
    "import statsmodels.api as sm\n",
    "import scipy.stats as stats\n",
    "import decimal\n",
    "\n",
    "#for exporting to Adobe Illustrator\n",
    "mpl.rcParams['pdf.fonttype'] = 42\n",
    "mpl.rcParams['ps.fonttype'] = 42"
   ]
  },
  {
   "cell_type": "markdown",
   "metadata": {
    "collapsed": true
   },
   "source": [
    "#### Import Sample Annotation file for filtered *longitudinal* isolates pairs"
   ]
  },
  {
   "cell_type": "code",
   "execution_count": 3,
   "metadata": {},
   "outputs": [],
   "source": [
    "sample_annotation = pd.read_csv('/n/data1/hms/dbmi/farhat/Roger/inhost_TB_dynamics_project/CSV_files/sample_annotation_files/Longitudinal_fastq_path_names_and_JankyPipe_tags_filtered_final.csv' , sep  = ',').set_index('patient_id')"
   ]
  },
  {
   "cell_type": "code",
   "execution_count": 4,
   "metadata": {},
   "outputs": [
    {
     "data": {
      "text/html": [
       "<div>\n",
       "<style>\n",
       "    .dataframe thead tr:only-child th {\n",
       "        text-align: right;\n",
       "    }\n",
       "\n",
       "    .dataframe thead th {\n",
       "        text-align: left;\n",
       "    }\n",
       "\n",
       "    .dataframe tbody tr th {\n",
       "        vertical-align: top;\n",
       "    }\n",
       "</style>\n",
       "<table border=\"1\" class=\"dataframe\">\n",
       "  <thead>\n",
       "    <tr style=\"text-align: right;\">\n",
       "      <th></th>\n",
       "      <th>fastq_files</th>\n",
       "      <th>population</th>\n",
       "      <th>run_ID</th>\n",
       "      <th>sample_ID</th>\n",
       "      <th>sample_order</th>\n",
       "      <th>tag</th>\n",
       "      <th>isolate_type</th>\n",
       "    </tr>\n",
       "    <tr>\n",
       "      <th>patient_id</th>\n",
       "      <th></th>\n",
       "      <th></th>\n",
       "      <th></th>\n",
       "      <th></th>\n",
       "      <th></th>\n",
       "      <th></th>\n",
       "      <th></th>\n",
       "    </tr>\n",
       "  </thead>\n",
       "  <tbody>\n",
       "    <tr>\n",
       "      <th>P000183</th>\n",
       "      <td>/n/data1/hms/dbmi/farhat/fastq_db/walker/ERR03...</td>\n",
       "      <td>WALKER</td>\n",
       "      <td>ERR039337</td>\n",
       "      <td>NaN</td>\n",
       "      <td>1</td>\n",
       "      <td>ERR039337</td>\n",
       "      <td>longitudinal</td>\n",
       "    </tr>\n",
       "    <tr>\n",
       "      <th>P000183</th>\n",
       "      <td>/n/data1/hms/dbmi/farhat/fastq_db/walker/ERR03...</td>\n",
       "      <td>WALKER</td>\n",
       "      <td>ERR039338</td>\n",
       "      <td>NaN</td>\n",
       "      <td>2</td>\n",
       "      <td>ERR039338</td>\n",
       "      <td>longitudinal</td>\n",
       "    </tr>\n",
       "    <tr>\n",
       "      <th>1960</th>\n",
       "      <td>/n/data1/hms/dbmi/farhat/cetr_strains/good_wgs...</td>\n",
       "      <td>CETR</td>\n",
       "      <td>MMJA00000000</td>\n",
       "      <td>Peru5115</td>\n",
       "      <td>1</td>\n",
       "      <td>Peru5115</td>\n",
       "      <td>longitudinal</td>\n",
       "    </tr>\n",
       "    <tr>\n",
       "      <th>1960</th>\n",
       "      <td>/n/data1/hms/dbmi/farhat/cetr_strains/good_wgs...</td>\n",
       "      <td>CETR</td>\n",
       "      <td>MMPC00000000</td>\n",
       "      <td>Peru4668</td>\n",
       "      <td>2</td>\n",
       "      <td>Peru4668</td>\n",
       "      <td>longitudinal</td>\n",
       "    </tr>\n",
       "    <tr>\n",
       "      <th>2491</th>\n",
       "      <td>/n/data1/hms/dbmi/farhat/cetr_strains/good_wgs...</td>\n",
       "      <td>CETR</td>\n",
       "      <td>MMZT00000000</td>\n",
       "      <td>Peru4903</td>\n",
       "      <td>1</td>\n",
       "      <td>Peru4903</td>\n",
       "      <td>longitudinal</td>\n",
       "    </tr>\n",
       "  </tbody>\n",
       "</table>\n",
       "</div>"
      ],
      "text/plain": [
       "                                                  fastq_files population  \\\n",
       "patient_id                                                                 \n",
       "P000183     /n/data1/hms/dbmi/farhat/fastq_db/walker/ERR03...     WALKER   \n",
       "P000183     /n/data1/hms/dbmi/farhat/fastq_db/walker/ERR03...     WALKER   \n",
       "1960        /n/data1/hms/dbmi/farhat/cetr_strains/good_wgs...       CETR   \n",
       "1960        /n/data1/hms/dbmi/farhat/cetr_strains/good_wgs...       CETR   \n",
       "2491        /n/data1/hms/dbmi/farhat/cetr_strains/good_wgs...       CETR   \n",
       "\n",
       "                  run_ID sample_ID  sample_order        tag  isolate_type  \n",
       "patient_id                                                                 \n",
       "P000183        ERR039337       NaN             1  ERR039337  longitudinal  \n",
       "P000183        ERR039338       NaN             2  ERR039338  longitudinal  \n",
       "1960        MMJA00000000  Peru5115             1   Peru5115  longitudinal  \n",
       "1960        MMPC00000000  Peru4668             2   Peru4668  longitudinal  \n",
       "2491        MMZT00000000  Peru4903             1   Peru4903  longitudinal  "
      ]
     },
     "execution_count": 4,
     "metadata": {},
     "output_type": "execute_result"
    }
   ],
   "source": [
    "sample_annotation.head()"
   ]
  },
  {
   "cell_type": "markdown",
   "metadata": {},
   "source": [
    "#################################################################################################################################################################################################################################"
   ]
  },
  {
   "cell_type": "markdown",
   "metadata": {},
   "source": [
    "## [1] Collect all AR nSNPs with $\\Delta AF \\ge 5\\%$ (in genes & intergenic regions associated with antibiotic resistance)"
   ]
  },
  {
   "cell_type": "markdown",
   "metadata": {},
   "source": [
    "#################################################################################################################################################################################################################################"
   ]
  },
  {
   "cell_type": "markdown",
   "metadata": {
    "collapsed": true
   },
   "source": [
    "#### Load in filtered Base Calls from longitudinal Base Call analysis (pairs of Base Calls that are different subjects, filtered for low coverage have a difference in Alternate Allele Frequency $\\ge 5\\%$)"
   ]
  },
  {
   "cell_type": "markdown",
   "metadata": {
    "collapsed": true
   },
   "source": [
    "The DataFrame below will consist of two rows per in-host SNP, corresponding to the 1st and 2nd alternate allele frequencies."
   ]
  },
  {
   "cell_type": "code",
   "execution_count": 87,
   "metadata": {},
   "outputs": [],
   "source": [
    "within_host_Base_Call_variants_all_patients = pd.read_pickle('/n/data1/hms/dbmi/farhat/Roger/inhost_TB_dynamics_project/pickled_files/variant_calling/longitudinal_SNPs/longitudinal_SNP_variants_05_delta_in_alt_AF.pkl')"
   ]
  },
  {
   "cell_type": "code",
   "execution_count": 88,
   "metadata": {},
   "outputs": [
    {
     "data": {
      "text/html": [
       "<div>\n",
       "<style>\n",
       "    .dataframe thead tr:only-child th {\n",
       "        text-align: right;\n",
       "    }\n",
       "\n",
       "    .dataframe thead th {\n",
       "        text-align: left;\n",
       "    }\n",
       "\n",
       "    .dataframe tbody tr th {\n",
       "        vertical-align: top;\n",
       "    }\n",
       "</style>\n",
       "<table border=\"1\" class=\"dataframe\">\n",
       "  <thead>\n",
       "    <tr style=\"text-align: right;\">\n",
       "      <th></th>\n",
       "      <th>ref_base</th>\n",
       "      <th>alt_base</th>\n",
       "      <th>ref_position</th>\n",
       "      <th>quality</th>\n",
       "      <th>SNP_type</th>\n",
       "      <th>PASS_filter</th>\n",
       "      <th>INFO</th>\n",
       "      <th>alt_AF</th>\n",
       "      <th>depth</th>\n",
       "      <th>tag</th>\n",
       "      <th>population</th>\n",
       "      <th>patient_id</th>\n",
       "      <th>gene_id</th>\n",
       "      <th>gene_coord</th>\n",
       "      <th>gene_category</th>\n",
       "      <th>gene_symbol</th>\n",
       "      <th>SNP_ftype</th>\n",
       "      <th>AA_change</th>\n",
       "    </tr>\n",
       "  </thead>\n",
       "  <tbody>\n",
       "    <tr>\n",
       "      <th>0</th>\n",
       "      <td>G</td>\n",
       "      <td>T</td>\n",
       "      <td>55540</td>\n",
       "      <td>10521</td>\n",
       "      <td>Ref_PASS</td>\n",
       "      <td>[]</td>\n",
       "      <td>{u'QP': [0, 0, 95, 5], u'AC': [0], u'BC': [0, ...</td>\n",
       "      <td>0.05</td>\n",
       "      <td>350</td>\n",
       "      <td>Peru5118</td>\n",
       "      <td>CETR</td>\n",
       "      <td>2049</td>\n",
       "      <td>Rv0050</td>\n",
       "      <td>1878</td>\n",
       "      <td>Non-Essential</td>\n",
       "      <td>ponA1</td>\n",
       "      <td>S</td>\n",
       "      <td>P626P</td>\n",
       "    </tr>\n",
       "    <tr>\n",
       "      <th>1</th>\n",
       "      <td>G</td>\n",
       "      <td>T</td>\n",
       "      <td>55540</td>\n",
       "      <td>2494</td>\n",
       "      <td>Ref_PASS</td>\n",
       "      <td>[]</td>\n",
       "      <td>{u'QP': [0, 0, 88, 12], u'AC': [0], u'BC': [0,...</td>\n",
       "      <td>0.12</td>\n",
       "      <td>129</td>\n",
       "      <td>Peru4678</td>\n",
       "      <td>CETR</td>\n",
       "      <td>2049</td>\n",
       "      <td>Rv0050</td>\n",
       "      <td>1878</td>\n",
       "      <td>Non-Essential</td>\n",
       "      <td>ponA1</td>\n",
       "      <td>S</td>\n",
       "      <td>P626P</td>\n",
       "    </tr>\n",
       "    <tr>\n",
       "      <th>2</th>\n",
       "      <td>G</td>\n",
       "      <td>C</td>\n",
       "      <td>333556</td>\n",
       "      <td>4775</td>\n",
       "      <td>Ref_PASS</td>\n",
       "      <td>[]</td>\n",
       "      <td>{u'QP': [0, 6, 94, 0], u'AC': [0], u'BC': [0, ...</td>\n",
       "      <td>0.06</td>\n",
       "      <td>169</td>\n",
       "      <td>Peru4678</td>\n",
       "      <td>CETR</td>\n",
       "      <td>2049</td>\n",
       "      <td>Rv0278c</td>\n",
       "      <td>2755</td>\n",
       "      <td>PE/PPE</td>\n",
       "      <td>PE_PGRS3</td>\n",
       "      <td>N</td>\n",
       "      <td>R919G</td>\n",
       "    </tr>\n",
       "    <tr>\n",
       "      <th>3</th>\n",
       "      <td>G</td>\n",
       "      <td>C</td>\n",
       "      <td>333556</td>\n",
       "      <td>7928</td>\n",
       "      <td>Ref_PASS</td>\n",
       "      <td>[]</td>\n",
       "      <td>{u'QP': [0, 11, 89, 0], u'AC': [0], u'BC': [1,...</td>\n",
       "      <td>0.11</td>\n",
       "      <td>359</td>\n",
       "      <td>Peru5118</td>\n",
       "      <td>CETR</td>\n",
       "      <td>2049</td>\n",
       "      <td>Rv0278c</td>\n",
       "      <td>2755</td>\n",
       "      <td>PE/PPE</td>\n",
       "      <td>PE_PGRS3</td>\n",
       "      <td>N</td>\n",
       "      <td>R919G</td>\n",
       "    </tr>\n",
       "    <tr>\n",
       "      <th>4</th>\n",
       "      <td>G</td>\n",
       "      <td>C</td>\n",
       "      <td>333562</td>\n",
       "      <td>4570</td>\n",
       "      <td>Ref_PASS</td>\n",
       "      <td>[]</td>\n",
       "      <td>{u'QP': [0, 7, 93, 0], u'AC': [0], u'BC': [0, ...</td>\n",
       "      <td>0.07</td>\n",
       "      <td>172</td>\n",
       "      <td>Peru4678</td>\n",
       "      <td>CETR</td>\n",
       "      <td>2049</td>\n",
       "      <td>Rv0278c</td>\n",
       "      <td>2749</td>\n",
       "      <td>PE/PPE</td>\n",
       "      <td>PE_PGRS3</td>\n",
       "      <td>N</td>\n",
       "      <td>R917G</td>\n",
       "    </tr>\n",
       "    <tr>\n",
       "      <th>5</th>\n",
       "      <td>G</td>\n",
       "      <td>C</td>\n",
       "      <td>333562</td>\n",
       "      <td>7115</td>\n",
       "      <td>Ref_PASS</td>\n",
       "      <td>[]</td>\n",
       "      <td>{u'QP': [0, 13, 87, 0], u'AC': [0], u'BC': [0,...</td>\n",
       "      <td>0.13</td>\n",
       "      <td>375</td>\n",
       "      <td>Peru5118</td>\n",
       "      <td>CETR</td>\n",
       "      <td>2049</td>\n",
       "      <td>Rv0278c</td>\n",
       "      <td>2749</td>\n",
       "      <td>PE/PPE</td>\n",
       "      <td>PE_PGRS3</td>\n",
       "      <td>N</td>\n",
       "      <td>R917G</td>\n",
       "    </tr>\n",
       "    <tr>\n",
       "      <th>6</th>\n",
       "      <td>G</td>\n",
       "      <td>C</td>\n",
       "      <td>333569</td>\n",
       "      <td>4363</td>\n",
       "      <td>Ref_PASS</td>\n",
       "      <td>[]</td>\n",
       "      <td>{u'QP': [0, 7, 93, 0], u'AC': [0], u'BC': [0, ...</td>\n",
       "      <td>0.07</td>\n",
       "      <td>171</td>\n",
       "      <td>Peru4678</td>\n",
       "      <td>CETR</td>\n",
       "      <td>2049</td>\n",
       "      <td>Rv0278c</td>\n",
       "      <td>2742</td>\n",
       "      <td>PE/PPE</td>\n",
       "      <td>PE_PGRS3</td>\n",
       "      <td>S</td>\n",
       "      <td>G914G</td>\n",
       "    </tr>\n",
       "    <tr>\n",
       "      <th>7</th>\n",
       "      <td>G</td>\n",
       "      <td>C</td>\n",
       "      <td>333569</td>\n",
       "      <td>6637</td>\n",
       "      <td>Ref_PASS</td>\n",
       "      <td>[]</td>\n",
       "      <td>{u'QP': [0, 13, 87, 0], u'AC': [0], u'BC': [0,...</td>\n",
       "      <td>0.13</td>\n",
       "      <td>374</td>\n",
       "      <td>Peru5118</td>\n",
       "      <td>CETR</td>\n",
       "      <td>2049</td>\n",
       "      <td>Rv0278c</td>\n",
       "      <td>2742</td>\n",
       "      <td>PE/PPE</td>\n",
       "      <td>PE_PGRS3</td>\n",
       "      <td>S</td>\n",
       "      <td>G914G</td>\n",
       "    </tr>\n",
       "    <tr>\n",
       "      <th>8</th>\n",
       "      <td>C</td>\n",
       "      <td>G</td>\n",
       "      <td>333571</td>\n",
       "      <td>6489</td>\n",
       "      <td>Ref_PASS</td>\n",
       "      <td>[]</td>\n",
       "      <td>{u'QP': [0, 86, 14, 0], u'AC': [0], u'BC': [1,...</td>\n",
       "      <td>0.14</td>\n",
       "      <td>379</td>\n",
       "      <td>Peru5118</td>\n",
       "      <td>CETR</td>\n",
       "      <td>2049</td>\n",
       "      <td>Rv0278c</td>\n",
       "      <td>2740</td>\n",
       "      <td>PE/PPE</td>\n",
       "      <td>PE_PGRS3</td>\n",
       "      <td>N</td>\n",
       "      <td>G914R</td>\n",
       "    </tr>\n",
       "    <tr>\n",
       "      <th>9</th>\n",
       "      <td>C</td>\n",
       "      <td>G</td>\n",
       "      <td>333571</td>\n",
       "      <td>4288</td>\n",
       "      <td>Ref_PASS</td>\n",
       "      <td>[]</td>\n",
       "      <td>{u'QP': [0, 92, 8, 0], u'AC': [0], u'BC': [0, ...</td>\n",
       "      <td>0.08</td>\n",
       "      <td>174</td>\n",
       "      <td>Peru4678</td>\n",
       "      <td>CETR</td>\n",
       "      <td>2049</td>\n",
       "      <td>Rv0278c</td>\n",
       "      <td>2740</td>\n",
       "      <td>PE/PPE</td>\n",
       "      <td>PE_PGRS3</td>\n",
       "      <td>N</td>\n",
       "      <td>G914R</td>\n",
       "    </tr>\n",
       "  </tbody>\n",
       "</table>\n",
       "</div>"
      ],
      "text/plain": [
       "  ref_base alt_base  ref_position  quality  SNP_type PASS_filter  \\\n",
       "0        G        T         55540    10521  Ref_PASS          []   \n",
       "1        G        T         55540     2494  Ref_PASS          []   \n",
       "2        G        C        333556     4775  Ref_PASS          []   \n",
       "3        G        C        333556     7928  Ref_PASS          []   \n",
       "4        G        C        333562     4570  Ref_PASS          []   \n",
       "5        G        C        333562     7115  Ref_PASS          []   \n",
       "6        G        C        333569     4363  Ref_PASS          []   \n",
       "7        G        C        333569     6637  Ref_PASS          []   \n",
       "8        C        G        333571     6489  Ref_PASS          []   \n",
       "9        C        G        333571     4288  Ref_PASS          []   \n",
       "\n",
       "                                                INFO  alt_AF  depth       tag  \\\n",
       "0  {u'QP': [0, 0, 95, 5], u'AC': [0], u'BC': [0, ...    0.05    350  Peru5118   \n",
       "1  {u'QP': [0, 0, 88, 12], u'AC': [0], u'BC': [0,...    0.12    129  Peru4678   \n",
       "2  {u'QP': [0, 6, 94, 0], u'AC': [0], u'BC': [0, ...    0.06    169  Peru4678   \n",
       "3  {u'QP': [0, 11, 89, 0], u'AC': [0], u'BC': [1,...    0.11    359  Peru5118   \n",
       "4  {u'QP': [0, 7, 93, 0], u'AC': [0], u'BC': [0, ...    0.07    172  Peru4678   \n",
       "5  {u'QP': [0, 13, 87, 0], u'AC': [0], u'BC': [0,...    0.13    375  Peru5118   \n",
       "6  {u'QP': [0, 7, 93, 0], u'AC': [0], u'BC': [0, ...    0.07    171  Peru4678   \n",
       "7  {u'QP': [0, 13, 87, 0], u'AC': [0], u'BC': [0,...    0.13    374  Peru5118   \n",
       "8  {u'QP': [0, 86, 14, 0], u'AC': [0], u'BC': [1,...    0.14    379  Peru5118   \n",
       "9  {u'QP': [0, 92, 8, 0], u'AC': [0], u'BC': [0, ...    0.08    174  Peru4678   \n",
       "\n",
       "  population patient_id  gene_id gene_coord  gene_category gene_symbol  \\\n",
       "0       CETR       2049   Rv0050       1878  Non-Essential       ponA1   \n",
       "1       CETR       2049   Rv0050       1878  Non-Essential       ponA1   \n",
       "2       CETR       2049  Rv0278c       2755         PE/PPE    PE_PGRS3   \n",
       "3       CETR       2049  Rv0278c       2755         PE/PPE    PE_PGRS3   \n",
       "4       CETR       2049  Rv0278c       2749         PE/PPE    PE_PGRS3   \n",
       "5       CETR       2049  Rv0278c       2749         PE/PPE    PE_PGRS3   \n",
       "6       CETR       2049  Rv0278c       2742         PE/PPE    PE_PGRS3   \n",
       "7       CETR       2049  Rv0278c       2742         PE/PPE    PE_PGRS3   \n",
       "8       CETR       2049  Rv0278c       2740         PE/PPE    PE_PGRS3   \n",
       "9       CETR       2049  Rv0278c       2740         PE/PPE    PE_PGRS3   \n",
       "\n",
       "  SNP_ftype AA_change  \n",
       "0         S     P626P  \n",
       "1         S     P626P  \n",
       "2         N     R919G  \n",
       "3         N     R919G  \n",
       "4         N     R917G  \n",
       "5         N     R917G  \n",
       "6         S     G914G  \n",
       "7         S     G914G  \n",
       "8         N     G914R  \n",
       "9         N     G914R  "
      ]
     },
     "execution_count": 88,
     "metadata": {},
     "output_type": "execute_result"
    }
   ],
   "source": [
    "within_host_Base_Call_variants_all_patients.head(n=10)"
   ]
  },
  {
   "cell_type": "code",
   "execution_count": 89,
   "metadata": {},
   "outputs": [
    {
     "data": {
      "text/plain": [
       "(1301546, 18)"
      ]
     },
     "execution_count": 89,
     "metadata": {},
     "output_type": "execute_result"
    }
   ],
   "source": [
    "np.shape(within_host_Base_Call_variants_all_patients)"
   ]
  },
  {
   "cell_type": "markdown",
   "metadata": {},
   "source": [
    "### *Filter 1*: Filter out paired Base Calls if (minor allele has less than 5 reads supporting it) and ($\\Delta AF$ < 20%)"
   ]
  },
  {
   "cell_type": "code",
   "execution_count": 90,
   "metadata": {},
   "outputs": [],
   "source": [
    "#list that stores the DataFrame indices of all SNPs that don't pass Delta AF threshold\n",
    "BaseCalls_to_Drop = []\n",
    "\n",
    "#dictionary for ordering of bases in Base Counts field\n",
    "base_order_dict = {'A':0 , 'C':1 , 'G':2 , 'T':3}\n",
    "\n",
    "delta_AF_threshold = 0.20\n",
    "\n",
    "#for each pair of Base Calls,\n",
    "for Base_Call_A_index , Base_Call_B_index in zip( range(0 , np.shape(within_host_Base_Call_variants_all_patients)[0] , 2) , range(1 , np.shape(within_host_Base_Call_variants_all_patients)[0] , 2) ):\n",
    "    \n",
    "    ############################################################################################################################################\n",
    "    #get relevant info for the Base Calls corresponding to both isolates\n",
    "    Base_Call_isolate_A_data = within_host_Base_Call_variants_all_patients.loc[Base_Call_A_index , :]\n",
    "    Base_Call_isolate_B_data = within_host_Base_Call_variants_all_patients.loc[Base_Call_B_index , :]\n",
    "        \n",
    "    #pull BC 'field' (base count in pileups at for each isolates in the pair)\n",
    "    Base_Call_isolate_A_base_counts = Base_Call_isolate_A_data['INFO']['BC']\n",
    "    Base_Call_isolate_B_base_counts = Base_Call_isolate_B_data['INFO']['BC']\n",
    "    \n",
    "    #pull QP 'field' (quality-percentage in pileups supporting each base; for each isolate in the pair)\n",
    "    Base_Call_isolate_A_QP = Base_Call_isolate_A_data['INFO']['QP']\n",
    "    Base_Call_isolate_B_QP = Base_Call_isolate_B_data['INFO']['QP']\n",
    "    \n",
    "    #get reference and alternate alleles for both isolates\n",
    "    \n",
    "    #reference alleles\n",
    "    isolate_A_ref_allele = Base_Call_isolate_A_data['ref_base']\n",
    "    isolate_B_ref_allele = Base_Call_isolate_B_data['ref_base']\n",
    "    \n",
    "    #alternate alleles (if there are any)\n",
    "    isolate_A_alt_allele = Base_Call_isolate_A_data['alt_base']\n",
    "    isolate_B_alt_allele = Base_Call_isolate_B_data['alt_base']\n",
    "    \n",
    "    #get the RAW NUMBER OF READS supporting each allele (ref alleles for isolates A & B and possibly alt alleles for isolates A & B)\n",
    "    \n",
    "    #reference allele counts\n",
    "    isolate_A_ref_allele_read_counts = Base_Call_isolate_A_base_counts[base_order_dict[isolate_A_ref_allele]]\n",
    "    isolate_B_ref_allele_read_counts = Base_Call_isolate_B_base_counts[base_order_dict[isolate_B_ref_allele]]\n",
    "    \n",
    "    #alternate allele counts\n",
    "    if isolate_A_alt_allele != 'Z':\n",
    "        isolate_A_alt_allele_read_counts = Base_Call_isolate_A_base_counts[base_order_dict[isolate_A_alt_allele]]\n",
    "    elif isolate_A_alt_allele == 'Z':\n",
    "        isolate_A_alt_allele_read_counts = 0\n",
    "\n",
    "    if isolate_B_alt_allele != 'Z':\n",
    "        isolate_B_alt_allele_read_counts = Base_Call_isolate_B_base_counts[base_order_dict[isolate_B_alt_allele]]\n",
    "    elif isolate_B_alt_allele == 'Z':\n",
    "        isolate_B_alt_allele_read_counts = 0\n",
    "        \n",
    "    #get the WEIGHTED PERCENTAGE OF READS supporting each allele (ref alleles for isolates A & B and possibly alt alleles for isolates A & B)\n",
    "    \n",
    "    #reference allele weighted %\n",
    "    isolate_A_ref_allele_QP = Base_Call_isolate_A_QP[base_order_dict[isolate_A_ref_allele]]\n",
    "    isolate_B_ref_allele_QP = Base_Call_isolate_B_QP[base_order_dict[isolate_B_ref_allele]]\n",
    "    \n",
    "    #alternate allele weighted %\n",
    "    if isolate_A_alt_allele != 'Z':\n",
    "        isolate_A_alt_allele_QP = Base_Call_isolate_A_QP[base_order_dict[isolate_A_alt_allele]]\n",
    "    elif isolate_A_alt_allele == 'Z':\n",
    "        isolate_A_alt_allele_QP = 0\n",
    "\n",
    "    if isolate_B_alt_allele != 'Z':\n",
    "        isolate_B_alt_allele_QP = Base_Call_isolate_B_QP[base_order_dict[isolate_B_alt_allele]]\n",
    "    elif isolate_B_alt_allele == 'Z':\n",
    "        isolate_B_alt_allele_QP = 0\n",
    "    ############################################################################################################################################\n",
    "    \n",
    "    #pull Alterante AF for the base calls corresponding to each isolates in a serial pair\n",
    "    Base_Call_isolate_A_alt_AF = within_host_Base_Call_variants_all_patients.loc[Base_Call_A_index , 'alt_AF']\n",
    "    Base_Call_isolate_B_alt_AF = within_host_Base_Call_variants_all_patients.loc[Base_Call_B_index , 'alt_AF'] \n",
    "    \n",
    "    #calculate the difference of the Alternate Allele Frequencies of both serial isolates\n",
    "    delta_AF = abs(Base_Call_isolate_B_alt_AF - Base_Call_isolate_A_alt_AF)\n",
    "    \n",
    "    ############################################################################################################################################\n",
    "    \n",
    "    #make sure at least 5 reads supports each allele if the call is mixed (that is some reads support the reference and some support the alternate)\n",
    "    ## if one allele has 0 reads supporting it, whether its the reference or alternate, the other allele should have at least 25 reads supporting it (min depth)\n",
    "    #print str(isolate_A_ref_allele_QP) + ' ' + str(isolate_A_ref_allele_read_counts) + ' ' + str(isolate_A_alt_allele_QP) + ' ' + str(isolate_A_alt_allele_read_counts)\n",
    "    \n",
    "    #if either allele has QP > 0, then it should have at least 5 reads supporting that percentage\n",
    "    #if reads support allele for at least 1%, then there should be at least 5 reads supporting that allele\n",
    "    if ( ( (isolate_A_ref_allele_QP > 0) and (isolate_A_ref_allele_read_counts < 5) ) or ( (isolate_A_alt_allele_QP > 0) and (isolate_A_alt_allele_read_counts < 5) ) ) and (delta_AF < delta_AF_threshold):\n",
    "        \n",
    "        \n",
    "        #minor allele in mixed call had less than 5 reads supporting, drop base calls corresponding to BOTH isolates\n",
    "        BaseCalls_to_Drop.append(Base_Call_A_index)\n",
    "        BaseCalls_to_Drop.append(Base_Call_B_index)\n",
    "            \n",
    "    elif ( ( (isolate_B_ref_allele_QP > 0) and (isolate_B_ref_allele_read_counts < 5) ) or ( (isolate_B_alt_allele_QP > 0) and (isolate_B_alt_allele_read_counts < 5) ) ) and (delta_AF < delta_AF_threshold):\n",
    "        \n",
    "        #minor allele in mixed call had less than 5 reads supporting, drop base calls corresponding to BOTH isolates\n",
    "        BaseCalls_to_Drop.append(Base_Call_A_index)\n",
    "        BaseCalls_to_Drop.append(Base_Call_B_index)\n",
    "        \n",
    "within_host_Base_Call_variants_all_patients.drop(labels = BaseCalls_to_Drop , axis = 0 , inplace = True)\n",
    "\n",
    "#reset index\n",
    "within_host_Base_Call_variants_all_patients.reset_index(drop = True, inplace = True)"
   ]
  },
  {
   "cell_type": "code",
   "execution_count": 91,
   "metadata": {
    "scrolled": true
   },
   "outputs": [
    {
     "data": {
      "text/plain": [
       "(516328, 18)"
      ]
     },
     "execution_count": 91,
     "metadata": {},
     "output_type": "execute_result"
    }
   ],
   "source": [
    "np.shape(within_host_Base_Call_variants_all_patients)"
   ]
  },
  {
   "cell_type": "code",
   "execution_count": 92,
   "metadata": {},
   "outputs": [
    {
     "data": {
      "text/html": [
       "<div>\n",
       "<style>\n",
       "    .dataframe thead tr:only-child th {\n",
       "        text-align: right;\n",
       "    }\n",
       "\n",
       "    .dataframe thead th {\n",
       "        text-align: left;\n",
       "    }\n",
       "\n",
       "    .dataframe tbody tr th {\n",
       "        vertical-align: top;\n",
       "    }\n",
       "</style>\n",
       "<table border=\"1\" class=\"dataframe\">\n",
       "  <thead>\n",
       "    <tr style=\"text-align: right;\">\n",
       "      <th></th>\n",
       "      <th>ref_base</th>\n",
       "      <th>alt_base</th>\n",
       "      <th>ref_position</th>\n",
       "      <th>quality</th>\n",
       "      <th>SNP_type</th>\n",
       "      <th>PASS_filter</th>\n",
       "      <th>INFO</th>\n",
       "      <th>alt_AF</th>\n",
       "      <th>depth</th>\n",
       "      <th>tag</th>\n",
       "      <th>population</th>\n",
       "      <th>patient_id</th>\n",
       "      <th>gene_id</th>\n",
       "      <th>gene_coord</th>\n",
       "      <th>gene_category</th>\n",
       "      <th>gene_symbol</th>\n",
       "      <th>SNP_ftype</th>\n",
       "      <th>AA_change</th>\n",
       "    </tr>\n",
       "  </thead>\n",
       "  <tbody>\n",
       "    <tr>\n",
       "      <th>0</th>\n",
       "      <td>G</td>\n",
       "      <td>T</td>\n",
       "      <td>55540</td>\n",
       "      <td>10521</td>\n",
       "      <td>Ref_PASS</td>\n",
       "      <td>[]</td>\n",
       "      <td>{u'QP': [0, 0, 95, 5], u'AC': [0], u'BC': [0, ...</td>\n",
       "      <td>0.05</td>\n",
       "      <td>350</td>\n",
       "      <td>Peru5118</td>\n",
       "      <td>CETR</td>\n",
       "      <td>2049</td>\n",
       "      <td>Rv0050</td>\n",
       "      <td>1878</td>\n",
       "      <td>Non-Essential</td>\n",
       "      <td>ponA1</td>\n",
       "      <td>S</td>\n",
       "      <td>P626P</td>\n",
       "    </tr>\n",
       "    <tr>\n",
       "      <th>1</th>\n",
       "      <td>G</td>\n",
       "      <td>T</td>\n",
       "      <td>55540</td>\n",
       "      <td>2494</td>\n",
       "      <td>Ref_PASS</td>\n",
       "      <td>[]</td>\n",
       "      <td>{u'QP': [0, 0, 88, 12], u'AC': [0], u'BC': [0,...</td>\n",
       "      <td>0.12</td>\n",
       "      <td>129</td>\n",
       "      <td>Peru4678</td>\n",
       "      <td>CETR</td>\n",
       "      <td>2049</td>\n",
       "      <td>Rv0050</td>\n",
       "      <td>1878</td>\n",
       "      <td>Non-Essential</td>\n",
       "      <td>ponA1</td>\n",
       "      <td>S</td>\n",
       "      <td>P626P</td>\n",
       "    </tr>\n",
       "    <tr>\n",
       "      <th>2</th>\n",
       "      <td>G</td>\n",
       "      <td>C</td>\n",
       "      <td>333556</td>\n",
       "      <td>4775</td>\n",
       "      <td>Ref_PASS</td>\n",
       "      <td>[]</td>\n",
       "      <td>{u'QP': [0, 6, 94, 0], u'AC': [0], u'BC': [0, ...</td>\n",
       "      <td>0.06</td>\n",
       "      <td>169</td>\n",
       "      <td>Peru4678</td>\n",
       "      <td>CETR</td>\n",
       "      <td>2049</td>\n",
       "      <td>Rv0278c</td>\n",
       "      <td>2755</td>\n",
       "      <td>PE/PPE</td>\n",
       "      <td>PE_PGRS3</td>\n",
       "      <td>N</td>\n",
       "      <td>R919G</td>\n",
       "    </tr>\n",
       "    <tr>\n",
       "      <th>3</th>\n",
       "      <td>G</td>\n",
       "      <td>C</td>\n",
       "      <td>333556</td>\n",
       "      <td>7928</td>\n",
       "      <td>Ref_PASS</td>\n",
       "      <td>[]</td>\n",
       "      <td>{u'QP': [0, 11, 89, 0], u'AC': [0], u'BC': [1,...</td>\n",
       "      <td>0.11</td>\n",
       "      <td>359</td>\n",
       "      <td>Peru5118</td>\n",
       "      <td>CETR</td>\n",
       "      <td>2049</td>\n",
       "      <td>Rv0278c</td>\n",
       "      <td>2755</td>\n",
       "      <td>PE/PPE</td>\n",
       "      <td>PE_PGRS3</td>\n",
       "      <td>N</td>\n",
       "      <td>R919G</td>\n",
       "    </tr>\n",
       "    <tr>\n",
       "      <th>4</th>\n",
       "      <td>G</td>\n",
       "      <td>C</td>\n",
       "      <td>333562</td>\n",
       "      <td>4570</td>\n",
       "      <td>Ref_PASS</td>\n",
       "      <td>[]</td>\n",
       "      <td>{u'QP': [0, 7, 93, 0], u'AC': [0], u'BC': [0, ...</td>\n",
       "      <td>0.07</td>\n",
       "      <td>172</td>\n",
       "      <td>Peru4678</td>\n",
       "      <td>CETR</td>\n",
       "      <td>2049</td>\n",
       "      <td>Rv0278c</td>\n",
       "      <td>2749</td>\n",
       "      <td>PE/PPE</td>\n",
       "      <td>PE_PGRS3</td>\n",
       "      <td>N</td>\n",
       "      <td>R917G</td>\n",
       "    </tr>\n",
       "  </tbody>\n",
       "</table>\n",
       "</div>"
      ],
      "text/plain": [
       "  ref_base alt_base  ref_position  quality  SNP_type PASS_filter  \\\n",
       "0        G        T         55540    10521  Ref_PASS          []   \n",
       "1        G        T         55540     2494  Ref_PASS          []   \n",
       "2        G        C        333556     4775  Ref_PASS          []   \n",
       "3        G        C        333556     7928  Ref_PASS          []   \n",
       "4        G        C        333562     4570  Ref_PASS          []   \n",
       "\n",
       "                                                INFO  alt_AF  depth       tag  \\\n",
       "0  {u'QP': [0, 0, 95, 5], u'AC': [0], u'BC': [0, ...    0.05    350  Peru5118   \n",
       "1  {u'QP': [0, 0, 88, 12], u'AC': [0], u'BC': [0,...    0.12    129  Peru4678   \n",
       "2  {u'QP': [0, 6, 94, 0], u'AC': [0], u'BC': [0, ...    0.06    169  Peru4678   \n",
       "3  {u'QP': [0, 11, 89, 0], u'AC': [0], u'BC': [1,...    0.11    359  Peru5118   \n",
       "4  {u'QP': [0, 7, 93, 0], u'AC': [0], u'BC': [0, ...    0.07    172  Peru4678   \n",
       "\n",
       "  population patient_id  gene_id gene_coord  gene_category gene_symbol  \\\n",
       "0       CETR       2049   Rv0050       1878  Non-Essential       ponA1   \n",
       "1       CETR       2049   Rv0050       1878  Non-Essential       ponA1   \n",
       "2       CETR       2049  Rv0278c       2755         PE/PPE    PE_PGRS3   \n",
       "3       CETR       2049  Rv0278c       2755         PE/PPE    PE_PGRS3   \n",
       "4       CETR       2049  Rv0278c       2749         PE/PPE    PE_PGRS3   \n",
       "\n",
       "  SNP_ftype AA_change  \n",
       "0         S     P626P  \n",
       "1         S     P626P  \n",
       "2         N     R919G  \n",
       "3         N     R919G  \n",
       "4         N     R917G  "
      ]
     },
     "execution_count": 92,
     "metadata": {},
     "output_type": "execute_result"
    }
   ],
   "source": [
    "within_host_Base_Call_variants_all_patients.head()"
   ]
  },
  {
   "cell_type": "markdown",
   "metadata": {},
   "source": [
    "### *Filter 2*: Drop Synonymous SNPs (drops sSNPs, retains nSNPs & iSNPs)"
   ]
  },
  {
   "cell_type": "code",
   "execution_count": 93,
   "metadata": {},
   "outputs": [],
   "source": [
    "#list that stores the DataFrame indices of all SNPs that don't pass Delta AF threshold\n",
    "BaseCalls_to_Drop = []\n",
    "\n",
    "#for each pair of Base Calls, store (alternate Allele Frequency of isolate_1) and (alternate Allele Frequency of isolate_2 - alternate Allele Frequency of isolate_1)\n",
    "for Base_Call_A_index , Base_Call_B_index in zip( range(0 , np.shape(within_host_Base_Call_variants_all_patients)[0] , 2) , range(1 , np.shape(within_host_Base_Call_variants_all_patients)[0] , 2) ):\n",
    "        \n",
    "    #pull SNP type\n",
    "    Base_Call_isolate_A_SNP_type = within_host_Base_Call_variants_all_patients.loc[Base_Call_A_index , 'SNP_ftype']\n",
    "    Base_Call_isolate_B_SNP_type = within_host_Base_Call_variants_all_patients.loc[Base_Call_B_index , 'SNP_ftype'] \n",
    "    \n",
    "    #put SNP types (for both Base Calls) in a list\n",
    "    SNP_type_list = [Base_Call_isolate_A_SNP_type , Base_Call_isolate_B_SNP_type]\n",
    "    \n",
    "    #if Synonymous SNP, then drop\n",
    "    if 'S' in SNP_type_list:\n",
    "        \n",
    "        BaseCalls_to_Drop.append(Base_Call_A_index)\n",
    "        BaseCalls_to_Drop.append(Base_Call_B_index)\n",
    "\n",
    "within_host_Base_Call_variants_all_patients.drop(labels = BaseCalls_to_Drop , axis = 0 , inplace = True)\n",
    "\n",
    "#reset index\n",
    "within_host_Base_Call_variants_all_patients.reset_index(drop = True, inplace = True)"
   ]
  },
  {
   "cell_type": "code",
   "execution_count": 94,
   "metadata": {},
   "outputs": [
    {
     "data": {
      "text/html": [
       "<div>\n",
       "<style>\n",
       "    .dataframe thead tr:only-child th {\n",
       "        text-align: right;\n",
       "    }\n",
       "\n",
       "    .dataframe thead th {\n",
       "        text-align: left;\n",
       "    }\n",
       "\n",
       "    .dataframe tbody tr th {\n",
       "        vertical-align: top;\n",
       "    }\n",
       "</style>\n",
       "<table border=\"1\" class=\"dataframe\">\n",
       "  <thead>\n",
       "    <tr style=\"text-align: right;\">\n",
       "      <th></th>\n",
       "      <th>ref_base</th>\n",
       "      <th>alt_base</th>\n",
       "      <th>ref_position</th>\n",
       "      <th>quality</th>\n",
       "      <th>SNP_type</th>\n",
       "      <th>PASS_filter</th>\n",
       "      <th>INFO</th>\n",
       "      <th>alt_AF</th>\n",
       "      <th>depth</th>\n",
       "      <th>tag</th>\n",
       "      <th>population</th>\n",
       "      <th>patient_id</th>\n",
       "      <th>gene_id</th>\n",
       "      <th>gene_coord</th>\n",
       "      <th>gene_category</th>\n",
       "      <th>gene_symbol</th>\n",
       "      <th>SNP_ftype</th>\n",
       "      <th>AA_change</th>\n",
       "    </tr>\n",
       "  </thead>\n",
       "  <tbody>\n",
       "    <tr>\n",
       "      <th>0</th>\n",
       "      <td>G</td>\n",
       "      <td>C</td>\n",
       "      <td>333556</td>\n",
       "      <td>4775</td>\n",
       "      <td>Ref_PASS</td>\n",
       "      <td>[]</td>\n",
       "      <td>{u'QP': [0, 6, 94, 0], u'AC': [0], u'BC': [0, ...</td>\n",
       "      <td>0.06</td>\n",
       "      <td>169</td>\n",
       "      <td>Peru4678</td>\n",
       "      <td>CETR</td>\n",
       "      <td>2049</td>\n",
       "      <td>Rv0278c</td>\n",
       "      <td>2755</td>\n",
       "      <td>PE/PPE</td>\n",
       "      <td>PE_PGRS3</td>\n",
       "      <td>N</td>\n",
       "      <td>R919G</td>\n",
       "    </tr>\n",
       "    <tr>\n",
       "      <th>1</th>\n",
       "      <td>G</td>\n",
       "      <td>C</td>\n",
       "      <td>333556</td>\n",
       "      <td>7928</td>\n",
       "      <td>Ref_PASS</td>\n",
       "      <td>[]</td>\n",
       "      <td>{u'QP': [0, 11, 89, 0], u'AC': [0], u'BC': [1,...</td>\n",
       "      <td>0.11</td>\n",
       "      <td>359</td>\n",
       "      <td>Peru5118</td>\n",
       "      <td>CETR</td>\n",
       "      <td>2049</td>\n",
       "      <td>Rv0278c</td>\n",
       "      <td>2755</td>\n",
       "      <td>PE/PPE</td>\n",
       "      <td>PE_PGRS3</td>\n",
       "      <td>N</td>\n",
       "      <td>R919G</td>\n",
       "    </tr>\n",
       "    <tr>\n",
       "      <th>2</th>\n",
       "      <td>G</td>\n",
       "      <td>C</td>\n",
       "      <td>333562</td>\n",
       "      <td>4570</td>\n",
       "      <td>Ref_PASS</td>\n",
       "      <td>[]</td>\n",
       "      <td>{u'QP': [0, 7, 93, 0], u'AC': [0], u'BC': [0, ...</td>\n",
       "      <td>0.07</td>\n",
       "      <td>172</td>\n",
       "      <td>Peru4678</td>\n",
       "      <td>CETR</td>\n",
       "      <td>2049</td>\n",
       "      <td>Rv0278c</td>\n",
       "      <td>2749</td>\n",
       "      <td>PE/PPE</td>\n",
       "      <td>PE_PGRS3</td>\n",
       "      <td>N</td>\n",
       "      <td>R917G</td>\n",
       "    </tr>\n",
       "    <tr>\n",
       "      <th>3</th>\n",
       "      <td>G</td>\n",
       "      <td>C</td>\n",
       "      <td>333562</td>\n",
       "      <td>7115</td>\n",
       "      <td>Ref_PASS</td>\n",
       "      <td>[]</td>\n",
       "      <td>{u'QP': [0, 13, 87, 0], u'AC': [0], u'BC': [0,...</td>\n",
       "      <td>0.13</td>\n",
       "      <td>375</td>\n",
       "      <td>Peru5118</td>\n",
       "      <td>CETR</td>\n",
       "      <td>2049</td>\n",
       "      <td>Rv0278c</td>\n",
       "      <td>2749</td>\n",
       "      <td>PE/PPE</td>\n",
       "      <td>PE_PGRS3</td>\n",
       "      <td>N</td>\n",
       "      <td>R917G</td>\n",
       "    </tr>\n",
       "    <tr>\n",
       "      <th>4</th>\n",
       "      <td>C</td>\n",
       "      <td>G</td>\n",
       "      <td>333571</td>\n",
       "      <td>6489</td>\n",
       "      <td>Ref_PASS</td>\n",
       "      <td>[]</td>\n",
       "      <td>{u'QP': [0, 86, 14, 0], u'AC': [0], u'BC': [1,...</td>\n",
       "      <td>0.14</td>\n",
       "      <td>379</td>\n",
       "      <td>Peru5118</td>\n",
       "      <td>CETR</td>\n",
       "      <td>2049</td>\n",
       "      <td>Rv0278c</td>\n",
       "      <td>2740</td>\n",
       "      <td>PE/PPE</td>\n",
       "      <td>PE_PGRS3</td>\n",
       "      <td>N</td>\n",
       "      <td>G914R</td>\n",
       "    </tr>\n",
       "    <tr>\n",
       "      <th>5</th>\n",
       "      <td>C</td>\n",
       "      <td>G</td>\n",
       "      <td>333571</td>\n",
       "      <td>4288</td>\n",
       "      <td>Ref_PASS</td>\n",
       "      <td>[]</td>\n",
       "      <td>{u'QP': [0, 92, 8, 0], u'AC': [0], u'BC': [0, ...</td>\n",
       "      <td>0.08</td>\n",
       "      <td>174</td>\n",
       "      <td>Peru4678</td>\n",
       "      <td>CETR</td>\n",
       "      <td>2049</td>\n",
       "      <td>Rv0278c</td>\n",
       "      <td>2740</td>\n",
       "      <td>PE/PPE</td>\n",
       "      <td>PE_PGRS3</td>\n",
       "      <td>N</td>\n",
       "      <td>G914R</td>\n",
       "    </tr>\n",
       "    <tr>\n",
       "      <th>6</th>\n",
       "      <td>G</td>\n",
       "      <td>C</td>\n",
       "      <td>333580</td>\n",
       "      <td>3447</td>\n",
       "      <td>Ref_PASS</td>\n",
       "      <td>[]</td>\n",
       "      <td>{u'QP': [0, 12, 88, 0], u'AC': [0], u'BC': [0,...</td>\n",
       "      <td>0.12</td>\n",
       "      <td>183</td>\n",
       "      <td>Peru4678</td>\n",
       "      <td>CETR</td>\n",
       "      <td>2049</td>\n",
       "      <td>Rv0278c</td>\n",
       "      <td>2731</td>\n",
       "      <td>PE/PPE</td>\n",
       "      <td>PE_PGRS3</td>\n",
       "      <td>N</td>\n",
       "      <td>Q911E</td>\n",
       "    </tr>\n",
       "    <tr>\n",
       "      <th>7</th>\n",
       "      <td>G</td>\n",
       "      <td>C</td>\n",
       "      <td>333580</td>\n",
       "      <td>4071</td>\n",
       "      <td>Ref_PASS</td>\n",
       "      <td>[]</td>\n",
       "      <td>{u'QP': [0, 19, 81, 0], u'AC': [0], u'BC': [0,...</td>\n",
       "      <td>0.19</td>\n",
       "      <td>412</td>\n",
       "      <td>Peru5118</td>\n",
       "      <td>CETR</td>\n",
       "      <td>2049</td>\n",
       "      <td>Rv0278c</td>\n",
       "      <td>2731</td>\n",
       "      <td>PE/PPE</td>\n",
       "      <td>PE_PGRS3</td>\n",
       "      <td>N</td>\n",
       "      <td>Q911E</td>\n",
       "    </tr>\n",
       "    <tr>\n",
       "      <th>8</th>\n",
       "      <td>T</td>\n",
       "      <td>G</td>\n",
       "      <td>455781</td>\n",
       "      <td>2010</td>\n",
       "      <td>Ref_PASS</td>\n",
       "      <td>[]</td>\n",
       "      <td>{u'QP': [0, 0, 10, 90], u'AC': [0], u'BC': [0,...</td>\n",
       "      <td>0.10</td>\n",
       "      <td>104</td>\n",
       "      <td>Peru4678</td>\n",
       "      <td>CETR</td>\n",
       "      <td>2049</td>\n",
       "      <td>Rv0378</td>\n",
       "      <td>145</td>\n",
       "      <td>Non-Essential</td>\n",
       "      <td>NaN</td>\n",
       "      <td>N</td>\n",
       "      <td>S49A</td>\n",
       "    </tr>\n",
       "    <tr>\n",
       "      <th>9</th>\n",
       "      <td>T</td>\n",
       "      <td>G</td>\n",
       "      <td>455781</td>\n",
       "      <td>8350</td>\n",
       "      <td>Ref_PASS</td>\n",
       "      <td>[]</td>\n",
       "      <td>{u'QP': [0, 0, 4, 96], u'AC': [0], u'BC': [2, ...</td>\n",
       "      <td>0.04</td>\n",
       "      <td>307</td>\n",
       "      <td>Peru5118</td>\n",
       "      <td>CETR</td>\n",
       "      <td>2049</td>\n",
       "      <td>Rv0378</td>\n",
       "      <td>145</td>\n",
       "      <td>Non-Essential</td>\n",
       "      <td>NaN</td>\n",
       "      <td>N</td>\n",
       "      <td>S49A</td>\n",
       "    </tr>\n",
       "  </tbody>\n",
       "</table>\n",
       "</div>"
      ],
      "text/plain": [
       "  ref_base alt_base  ref_position  quality  SNP_type PASS_filter  \\\n",
       "0        G        C        333556     4775  Ref_PASS          []   \n",
       "1        G        C        333556     7928  Ref_PASS          []   \n",
       "2        G        C        333562     4570  Ref_PASS          []   \n",
       "3        G        C        333562     7115  Ref_PASS          []   \n",
       "4        C        G        333571     6489  Ref_PASS          []   \n",
       "5        C        G        333571     4288  Ref_PASS          []   \n",
       "6        G        C        333580     3447  Ref_PASS          []   \n",
       "7        G        C        333580     4071  Ref_PASS          []   \n",
       "8        T        G        455781     2010  Ref_PASS          []   \n",
       "9        T        G        455781     8350  Ref_PASS          []   \n",
       "\n",
       "                                                INFO  alt_AF  depth       tag  \\\n",
       "0  {u'QP': [0, 6, 94, 0], u'AC': [0], u'BC': [0, ...    0.06    169  Peru4678   \n",
       "1  {u'QP': [0, 11, 89, 0], u'AC': [0], u'BC': [1,...    0.11    359  Peru5118   \n",
       "2  {u'QP': [0, 7, 93, 0], u'AC': [0], u'BC': [0, ...    0.07    172  Peru4678   \n",
       "3  {u'QP': [0, 13, 87, 0], u'AC': [0], u'BC': [0,...    0.13    375  Peru5118   \n",
       "4  {u'QP': [0, 86, 14, 0], u'AC': [0], u'BC': [1,...    0.14    379  Peru5118   \n",
       "5  {u'QP': [0, 92, 8, 0], u'AC': [0], u'BC': [0, ...    0.08    174  Peru4678   \n",
       "6  {u'QP': [0, 12, 88, 0], u'AC': [0], u'BC': [0,...    0.12    183  Peru4678   \n",
       "7  {u'QP': [0, 19, 81, 0], u'AC': [0], u'BC': [0,...    0.19    412  Peru5118   \n",
       "8  {u'QP': [0, 0, 10, 90], u'AC': [0], u'BC': [0,...    0.10    104  Peru4678   \n",
       "9  {u'QP': [0, 0, 4, 96], u'AC': [0], u'BC': [2, ...    0.04    307  Peru5118   \n",
       "\n",
       "  population patient_id  gene_id gene_coord  gene_category gene_symbol  \\\n",
       "0       CETR       2049  Rv0278c       2755         PE/PPE    PE_PGRS3   \n",
       "1       CETR       2049  Rv0278c       2755         PE/PPE    PE_PGRS3   \n",
       "2       CETR       2049  Rv0278c       2749         PE/PPE    PE_PGRS3   \n",
       "3       CETR       2049  Rv0278c       2749         PE/PPE    PE_PGRS3   \n",
       "4       CETR       2049  Rv0278c       2740         PE/PPE    PE_PGRS3   \n",
       "5       CETR       2049  Rv0278c       2740         PE/PPE    PE_PGRS3   \n",
       "6       CETR       2049  Rv0278c       2731         PE/PPE    PE_PGRS3   \n",
       "7       CETR       2049  Rv0278c       2731         PE/PPE    PE_PGRS3   \n",
       "8       CETR       2049   Rv0378        145  Non-Essential         NaN   \n",
       "9       CETR       2049   Rv0378        145  Non-Essential         NaN   \n",
       "\n",
       "  SNP_ftype AA_change  \n",
       "0         N     R919G  \n",
       "1         N     R919G  \n",
       "2         N     R917G  \n",
       "3         N     R917G  \n",
       "4         N     G914R  \n",
       "5         N     G914R  \n",
       "6         N     Q911E  \n",
       "7         N     Q911E  \n",
       "8         N      S49A  \n",
       "9         N      S49A  "
      ]
     },
     "execution_count": 94,
     "metadata": {},
     "output_type": "execute_result"
    }
   ],
   "source": [
    "within_host_Base_Call_variants_all_patients.head(n=10)"
   ]
  },
  {
   "cell_type": "code",
   "execution_count": 95,
   "metadata": {},
   "outputs": [
    {
     "data": {
      "text/plain": [
       "(396458, 18)"
      ]
     },
     "execution_count": 95,
     "metadata": {},
     "output_type": "execute_result"
    }
   ],
   "source": [
    "np.shape(within_host_Base_Call_variants_all_patients)"
   ]
  },
  {
   "cell_type": "markdown",
   "metadata": {},
   "source": [
    "### *Filter 3*: Subset to loci known to be associated with resistance to antibiotics"
   ]
  },
  {
   "cell_type": "markdown",
   "metadata": {},
   "source": [
    "#### Loci associated with Antibiotic Resistance (N = 28 genes) + (N = 6 intergenic regions) + (N = 1 rRNA)"
   ]
  },
  {
   "cell_type": "code",
   "execution_count": 96,
   "metadata": {},
   "outputs": [],
   "source": [
    "gene_categories = pd.read_csv('/n/data1/hms/dbmi/farhat/Roger/inhost_TB_dynamics_project/CSV_files/gene_categories/gene_categories.csv').set_index('name')\n",
    "antibiotic_resistance_genes = gene_categories[gene_categories.Gene_Category == 'Antibiotic Resistance']\n",
    "antibiotic_resistance_genes = list(antibiotic_resistance_genes.gene_id)"
   ]
  },
  {
   "cell_type": "code",
   "execution_count": 97,
   "metadata": {},
   "outputs": [],
   "source": [
    "reference_genome_annotation = pd.read_csv('/n/data1/hms/dbmi/farhat/Roger/inhost_TB_dynamics_project/H37Rv/h37rv_genome_summary.txt', '\\t').set_index('name')\n",
    "#list that holds all reference positions corresponding to SNPs we will scan for\n",
    "H37Rv_positions_of_interest = []\n",
    "\n",
    "genic_regions_of_interest = pd.DataFrame(columns = ['H37Rv_start' , 'H37Rv_end' , 'type' , 'gene_after' , 'gene_before' , 'symbol' , 'description'])\n",
    "\n",
    "gene_i = 0\n",
    "for gene_id in antibiotic_resistance_genes:\n",
    "    \n",
    "    #get reference positions tht corresond to each gene\n",
    "    gene_id_info = reference_genome_annotation.loc[gene_id, :]\n",
    "    gene_id = gene_id_info.name\n",
    "\n",
    "    chrom_start = gene_id_info.chromStart\n",
    "    chrom_end = gene_id_info.chromEnd\n",
    "\n",
    "    #find the position of the first base relative to H37Rv in 5' -> 3'\n",
    "    H37Rv_start = min(chrom_start , chrom_end)\n",
    "    H37Rv_end = max(chrom_start , chrom_end)\n",
    "    \n",
    "    #store relevant gene info in DataFrame\n",
    "    genic_regions_of_interest.loc[gene_i , :] = [H37Rv_start , H37Rv_end , 'gene' , gene_id , gene_id , gene_id_info.symbol , gene_id_info.description]\n",
    "    gene_i += 1\n",
    "    \n",
    "    #store all corresponding H37Rv Reference Positions to gene_id in list of reference positions to scan\n",
    "    H37Rv_positions_of_interest = H37Rv_positions_of_interest + range(H37Rv_start+1 , H37Rv_end+1)\n",
    "    \n",
    "#get rid of redundant positions & sort\n",
    "H37Rv_positions_of_interest = list(set(H37Rv_positions_of_interest))\n",
    "H37Rv_positions_of_interest = list(np.sort(np.array(H37Rv_positions_of_interest)))"
   ]
  },
  {
   "cell_type": "code",
   "execution_count": 98,
   "metadata": {},
   "outputs": [
    {
     "data": {
      "text/plain": [
       "44350"
      ]
     },
     "execution_count": 98,
     "metadata": {},
     "output_type": "execute_result"
    }
   ],
   "source": [
    "len( H37Rv_positions_of_interest )"
   ]
  },
  {
   "cell_type": "code",
   "execution_count": 99,
   "metadata": {},
   "outputs": [
    {
     "data": {
      "text/html": [
       "<div>\n",
       "<style>\n",
       "    .dataframe thead tr:only-child th {\n",
       "        text-align: right;\n",
       "    }\n",
       "\n",
       "    .dataframe thead th {\n",
       "        text-align: left;\n",
       "    }\n",
       "\n",
       "    .dataframe tbody tr th {\n",
       "        vertical-align: top;\n",
       "    }\n",
       "</style>\n",
       "<table border=\"1\" class=\"dataframe\">\n",
       "  <thead>\n",
       "    <tr style=\"text-align: right;\">\n",
       "      <th></th>\n",
       "      <th>H37Rv_start</th>\n",
       "      <th>H37Rv_end</th>\n",
       "      <th>type</th>\n",
       "      <th>gene_after</th>\n",
       "      <th>gene_before</th>\n",
       "      <th>symbol</th>\n",
       "      <th>description</th>\n",
       "    </tr>\n",
       "  </thead>\n",
       "  <tbody>\n",
       "    <tr>\n",
       "      <th>0</th>\n",
       "      <td>5239</td>\n",
       "      <td>7267</td>\n",
       "      <td>gene</td>\n",
       "      <td>Rv0005</td>\n",
       "      <td>Rv0005</td>\n",
       "      <td>gyrB</td>\n",
       "      <td>DNA gyrase subunit B</td>\n",
       "    </tr>\n",
       "    <tr>\n",
       "      <th>1</th>\n",
       "      <td>7301</td>\n",
       "      <td>9818</td>\n",
       "      <td>gene</td>\n",
       "      <td>Rv0006</td>\n",
       "      <td>Rv0006</td>\n",
       "      <td>gyrA</td>\n",
       "      <td>DNA gyrase subunit A</td>\n",
       "    </tr>\n",
       "    <tr>\n",
       "      <th>2</th>\n",
       "      <td>409361</td>\n",
       "      <td>410801</td>\n",
       "      <td>gene</td>\n",
       "      <td>Rv0341</td>\n",
       "      <td>Rv0341</td>\n",
       "      <td>iniB</td>\n",
       "      <td>isoniazid inductible gene protein</td>\n",
       "    </tr>\n",
       "    <tr>\n",
       "      <th>3</th>\n",
       "      <td>410837</td>\n",
       "      <td>412760</td>\n",
       "      <td>gene</td>\n",
       "      <td>Rv0342</td>\n",
       "      <td>Rv0342</td>\n",
       "      <td>iniA</td>\n",
       "      <td>isoniazid inductible gene protein</td>\n",
       "    </tr>\n",
       "    <tr>\n",
       "      <th>4</th>\n",
       "      <td>412756</td>\n",
       "      <td>414238</td>\n",
       "      <td>gene</td>\n",
       "      <td>Rv0343</td>\n",
       "      <td>Rv0343</td>\n",
       "      <td>iniC</td>\n",
       "      <td>isoniazid inductible gene protein</td>\n",
       "    </tr>\n",
       "  </tbody>\n",
       "</table>\n",
       "</div>"
      ],
      "text/plain": [
       "  H37Rv_start H37Rv_end  type gene_after gene_before symbol  \\\n",
       "0        5239      7267  gene     Rv0005      Rv0005   gyrB   \n",
       "1        7301      9818  gene     Rv0006      Rv0006   gyrA   \n",
       "2      409361    410801  gene     Rv0341      Rv0341   iniB   \n",
       "3      410837    412760  gene     Rv0342      Rv0342   iniA   \n",
       "4      412756    414238  gene     Rv0343      Rv0343   iniC   \n",
       "\n",
       "                         description  \n",
       "0               DNA gyrase subunit B  \n",
       "1               DNA gyrase subunit A  \n",
       "2  isoniazid inductible gene protein  \n",
       "3  isoniazid inductible gene protein  \n",
       "4  isoniazid inductible gene protein  "
      ]
     },
     "execution_count": 99,
     "metadata": {},
     "output_type": "execute_result"
    }
   ],
   "source": [
    "genic_regions_of_interest.head()"
   ]
  },
  {
   "cell_type": "markdown",
   "metadata": {},
   "source": [
    "#### Intergenic Regions associated with Antibiotic Resistance"
   ]
  },
  {
   "cell_type": "code",
   "execution_count": 100,
   "metadata": {},
   "outputs": [],
   "source": [
    "#create DataFrame to store coordinates taken from tuberculist\n",
    "intergenic_regions_of_interest = pd.DataFrame(columns = ['H37Rv_start' , 'H37Rv_end' , 'type' , 'gene_after' , 'gene_before' , 'symbol' , 'description'])\n",
    "\n",
    "intergenic_regions_of_interest.loc[0 , :] = [1673299 , 1673439 , 'promoter' , 'fabG1' , 'Rv1482c' , np.nan , 'promoter_fabG1-inhA'] #promoter for inhA\n",
    "intergenic_regions_of_interest.loc[1 , :] = [2713784 , 2714123 , 'intergenic' , 'eis' , 'Rv2415c' , np.nan , np.nan]\n",
    "intergenic_regions_of_interest.loc[2 , :] = [2726087 , 2726192 , 'promoter' , 'ahpC' , 'oxyR\\'' , np.nan , 'promoter_ahpC']\n",
    "intergenic_regions_of_interest.loc[3 , :] = [2289241 , 2289281 , 'promoter' , 'Rv2044c' , 'pncA' , np.nan , 'promoter_pncA'] #promoter for pncA\n",
    "intergenic_regions_of_interest.loc[4 , :] = [4243147 , 4243232 , 'promoter' , 'embA' , 'embC' , np.nan , 'promoter_embA-embB']\n",
    "intergenic_regions_of_interest.loc[5 , :] = [3067945 , 3068188 , 'intergenic' , 'hsdS.1' , 'thyX' , np.nan , np.nan]\n",
    "intergenic_regions_of_interest.loc[6 , :] = [2715332 , 2715471 , 'promoter' , 'Rv2417c' , 'eis' , np.nan , 'promoter_eis'] #promoter for eis\n",
    "\n",
    "#add rrs coordinates as well\n",
    "intergenic_regions_of_interest.loc[7 , :] = [1471845 , 1473382 , 'rRNA' , 'rrl' , 'mcr3' , np.nan , 'ribosomal_RNA_16S'] #rRNA"
   ]
  },
  {
   "cell_type": "code",
   "execution_count": 101,
   "metadata": {},
   "outputs": [
    {
     "data": {
      "text/html": [
       "<div>\n",
       "<style>\n",
       "    .dataframe thead tr:only-child th {\n",
       "        text-align: right;\n",
       "    }\n",
       "\n",
       "    .dataframe thead th {\n",
       "        text-align: left;\n",
       "    }\n",
       "\n",
       "    .dataframe tbody tr th {\n",
       "        vertical-align: top;\n",
       "    }\n",
       "</style>\n",
       "<table border=\"1\" class=\"dataframe\">\n",
       "  <thead>\n",
       "    <tr style=\"text-align: right;\">\n",
       "      <th></th>\n",
       "      <th>H37Rv_start</th>\n",
       "      <th>H37Rv_end</th>\n",
       "      <th>type</th>\n",
       "      <th>gene_after</th>\n",
       "      <th>gene_before</th>\n",
       "      <th>symbol</th>\n",
       "      <th>description</th>\n",
       "    </tr>\n",
       "  </thead>\n",
       "  <tbody>\n",
       "    <tr>\n",
       "      <th>0</th>\n",
       "      <td>1673299</td>\n",
       "      <td>1673439</td>\n",
       "      <td>promoter</td>\n",
       "      <td>fabG1</td>\n",
       "      <td>Rv1482c</td>\n",
       "      <td>NaN</td>\n",
       "      <td>promoter_fabG1-inhA</td>\n",
       "    </tr>\n",
       "    <tr>\n",
       "      <th>1</th>\n",
       "      <td>2713784</td>\n",
       "      <td>2714123</td>\n",
       "      <td>intergenic</td>\n",
       "      <td>eis</td>\n",
       "      <td>Rv2415c</td>\n",
       "      <td>NaN</td>\n",
       "      <td>NaN</td>\n",
       "    </tr>\n",
       "    <tr>\n",
       "      <th>2</th>\n",
       "      <td>2726087</td>\n",
       "      <td>2726192</td>\n",
       "      <td>promoter</td>\n",
       "      <td>ahpC</td>\n",
       "      <td>oxyR'</td>\n",
       "      <td>NaN</td>\n",
       "      <td>promoter_ahpC</td>\n",
       "    </tr>\n",
       "    <tr>\n",
       "      <th>3</th>\n",
       "      <td>2289241</td>\n",
       "      <td>2289281</td>\n",
       "      <td>promoter</td>\n",
       "      <td>Rv2044c</td>\n",
       "      <td>pncA</td>\n",
       "      <td>NaN</td>\n",
       "      <td>promoter_pncA</td>\n",
       "    </tr>\n",
       "    <tr>\n",
       "      <th>4</th>\n",
       "      <td>4243147</td>\n",
       "      <td>4243232</td>\n",
       "      <td>promoter</td>\n",
       "      <td>embA</td>\n",
       "      <td>embC</td>\n",
       "      <td>NaN</td>\n",
       "      <td>promoter_embA-embB</td>\n",
       "    </tr>\n",
       "    <tr>\n",
       "      <th>5</th>\n",
       "      <td>3067945</td>\n",
       "      <td>3068188</td>\n",
       "      <td>intergenic</td>\n",
       "      <td>hsdS.1</td>\n",
       "      <td>thyX</td>\n",
       "      <td>NaN</td>\n",
       "      <td>NaN</td>\n",
       "    </tr>\n",
       "    <tr>\n",
       "      <th>6</th>\n",
       "      <td>2715332</td>\n",
       "      <td>2715471</td>\n",
       "      <td>promoter</td>\n",
       "      <td>Rv2417c</td>\n",
       "      <td>eis</td>\n",
       "      <td>NaN</td>\n",
       "      <td>promoter_eis</td>\n",
       "    </tr>\n",
       "    <tr>\n",
       "      <th>7</th>\n",
       "      <td>1471845</td>\n",
       "      <td>1473382</td>\n",
       "      <td>rRNA</td>\n",
       "      <td>rrl</td>\n",
       "      <td>mcr3</td>\n",
       "      <td>NaN</td>\n",
       "      <td>ribosomal_RNA_16S</td>\n",
       "    </tr>\n",
       "  </tbody>\n",
       "</table>\n",
       "</div>"
      ],
      "text/plain": [
       "  H37Rv_start H37Rv_end        type gene_after gene_before symbol  \\\n",
       "0     1673299   1673439    promoter      fabG1     Rv1482c    NaN   \n",
       "1     2713784   2714123  intergenic        eis     Rv2415c    NaN   \n",
       "2     2726087   2726192    promoter       ahpC       oxyR'    NaN   \n",
       "3     2289241   2289281    promoter    Rv2044c        pncA    NaN   \n",
       "4     4243147   4243232    promoter       embA        embC    NaN   \n",
       "5     3067945   3068188  intergenic     hsdS.1        thyX    NaN   \n",
       "6     2715332   2715471    promoter    Rv2417c         eis    NaN   \n",
       "7     1471845   1473382        rRNA        rrl        mcr3    NaN   \n",
       "\n",
       "           description  \n",
       "0  promoter_fabG1-inhA  \n",
       "1                  NaN  \n",
       "2        promoter_ahpC  \n",
       "3        promoter_pncA  \n",
       "4   promoter_embA-embB  \n",
       "5                  NaN  \n",
       "6         promoter_eis  \n",
       "7    ribosomal_RNA_16S  "
      ]
     },
     "execution_count": 101,
     "metadata": {},
     "output_type": "execute_result"
    }
   ],
   "source": [
    "intergenic_regions_of_interest"
   ]
  },
  {
   "cell_type": "code",
   "execution_count": 102,
   "metadata": {},
   "outputs": [],
   "source": [
    "for intergenic_region_i in list(intergenic_regions_of_interest.index):\n",
    "    \n",
    "    #get reference positions tht corresond to each intergenic region\n",
    "    intergenic_region_info = intergenic_regions_of_interest.loc[intergenic_region_i, :]\n",
    "\n",
    "    #find the position of the first base relative to H37Rv in 5' -> 3'\n",
    "    H37Rv_start = intergenic_region_info.H37Rv_start\n",
    "    H37Rv_end = intergenic_region_info.H37Rv_end\n",
    "    \n",
    "    #store all corresponding H37Rv Reference Positions to gene_id in list of reference positions to scan\n",
    "    H37Rv_positions_of_interest = H37Rv_positions_of_interest + range(H37Rv_start+1 , H37Rv_end+1)\n",
    "    \n",
    "#get rid of redundant positions & sort\n",
    "H37Rv_positions_of_interest = list(set(H37Rv_positions_of_interest))\n",
    "H37Rv_positions_of_interest = list(np.sort(np.array(H37Rv_positions_of_interest)))"
   ]
  },
  {
   "cell_type": "code",
   "execution_count": 103,
   "metadata": {},
   "outputs": [
    {
     "data": {
      "text/plain": [
       "46978"
      ]
     },
     "execution_count": 103,
     "metadata": {},
     "output_type": "execute_result"
    }
   ],
   "source": [
    "len( H37Rv_positions_of_interest ) "
   ]
  },
  {
   "cell_type": "markdown",
   "metadata": {},
   "source": [
    "#### output CSV file of regions that we will search for mutations within"
   ]
  },
  {
   "cell_type": "code",
   "execution_count": 104,
   "metadata": {},
   "outputs": [],
   "source": [
    "H37Rv_regions_of_interest = genic_regions_of_interest.append(intergenic_regions_of_interest)\n",
    "H37Rv_regions_of_interest.reset_index(inplace = True , drop = True)"
   ]
  },
  {
   "cell_type": "code",
   "execution_count": 105,
   "metadata": {},
   "outputs": [
    {
     "data": {
      "text/html": [
       "<div>\n",
       "<style>\n",
       "    .dataframe thead tr:only-child th {\n",
       "        text-align: right;\n",
       "    }\n",
       "\n",
       "    .dataframe thead th {\n",
       "        text-align: left;\n",
       "    }\n",
       "\n",
       "    .dataframe tbody tr th {\n",
       "        vertical-align: top;\n",
       "    }\n",
       "</style>\n",
       "<table border=\"1\" class=\"dataframe\">\n",
       "  <thead>\n",
       "    <tr style=\"text-align: right;\">\n",
       "      <th></th>\n",
       "      <th>H37Rv_start</th>\n",
       "      <th>H37Rv_end</th>\n",
       "      <th>type</th>\n",
       "      <th>gene_after</th>\n",
       "      <th>gene_before</th>\n",
       "      <th>symbol</th>\n",
       "      <th>description</th>\n",
       "    </tr>\n",
       "  </thead>\n",
       "  <tbody>\n",
       "    <tr>\n",
       "      <th>0</th>\n",
       "      <td>5239</td>\n",
       "      <td>7267</td>\n",
       "      <td>gene</td>\n",
       "      <td>Rv0005</td>\n",
       "      <td>Rv0005</td>\n",
       "      <td>gyrB</td>\n",
       "      <td>DNA gyrase subunit B</td>\n",
       "    </tr>\n",
       "    <tr>\n",
       "      <th>1</th>\n",
       "      <td>7301</td>\n",
       "      <td>9818</td>\n",
       "      <td>gene</td>\n",
       "      <td>Rv0006</td>\n",
       "      <td>Rv0006</td>\n",
       "      <td>gyrA</td>\n",
       "      <td>DNA gyrase subunit A</td>\n",
       "    </tr>\n",
       "    <tr>\n",
       "      <th>2</th>\n",
       "      <td>409361</td>\n",
       "      <td>410801</td>\n",
       "      <td>gene</td>\n",
       "      <td>Rv0341</td>\n",
       "      <td>Rv0341</td>\n",
       "      <td>iniB</td>\n",
       "      <td>isoniazid inductible gene protein</td>\n",
       "    </tr>\n",
       "    <tr>\n",
       "      <th>3</th>\n",
       "      <td>410837</td>\n",
       "      <td>412760</td>\n",
       "      <td>gene</td>\n",
       "      <td>Rv0342</td>\n",
       "      <td>Rv0342</td>\n",
       "      <td>iniA</td>\n",
       "      <td>isoniazid inductible gene protein</td>\n",
       "    </tr>\n",
       "    <tr>\n",
       "      <th>4</th>\n",
       "      <td>412756</td>\n",
       "      <td>414238</td>\n",
       "      <td>gene</td>\n",
       "      <td>Rv0343</td>\n",
       "      <td>Rv0343</td>\n",
       "      <td>iniC</td>\n",
       "      <td>isoniazid inductible gene protein</td>\n",
       "    </tr>\n",
       "  </tbody>\n",
       "</table>\n",
       "</div>"
      ],
      "text/plain": [
       "  H37Rv_start H37Rv_end  type gene_after gene_before symbol  \\\n",
       "0        5239      7267  gene     Rv0005      Rv0005   gyrB   \n",
       "1        7301      9818  gene     Rv0006      Rv0006   gyrA   \n",
       "2      409361    410801  gene     Rv0341      Rv0341   iniB   \n",
       "3      410837    412760  gene     Rv0342      Rv0342   iniA   \n",
       "4      412756    414238  gene     Rv0343      Rv0343   iniC   \n",
       "\n",
       "                         description  \n",
       "0               DNA gyrase subunit B  \n",
       "1               DNA gyrase subunit A  \n",
       "2  isoniazid inductible gene protein  \n",
       "3  isoniazid inductible gene protein  \n",
       "4  isoniazid inductible gene protein  "
      ]
     },
     "execution_count": 105,
     "metadata": {},
     "output_type": "execute_result"
    }
   ],
   "source": [
    "H37Rv_regions_of_interest.head()"
   ]
  },
  {
   "cell_type": "code",
   "execution_count": 106,
   "metadata": {},
   "outputs": [
    {
     "data": {
      "text/html": [
       "<div>\n",
       "<style>\n",
       "    .dataframe thead tr:only-child th {\n",
       "        text-align: right;\n",
       "    }\n",
       "\n",
       "    .dataframe thead th {\n",
       "        text-align: left;\n",
       "    }\n",
       "\n",
       "    .dataframe tbody tr th {\n",
       "        vertical-align: top;\n",
       "    }\n",
       "</style>\n",
       "<table border=\"1\" class=\"dataframe\">\n",
       "  <thead>\n",
       "    <tr style=\"text-align: right;\">\n",
       "      <th></th>\n",
       "      <th>H37Rv_start</th>\n",
       "      <th>H37Rv_end</th>\n",
       "      <th>type</th>\n",
       "      <th>gene_after</th>\n",
       "      <th>gene_before</th>\n",
       "      <th>symbol</th>\n",
       "      <th>description</th>\n",
       "    </tr>\n",
       "  </thead>\n",
       "  <tbody>\n",
       "    <tr>\n",
       "      <th>31</th>\n",
       "      <td>2289241</td>\n",
       "      <td>2289281</td>\n",
       "      <td>promoter</td>\n",
       "      <td>Rv2044c</td>\n",
       "      <td>pncA</td>\n",
       "      <td>NaN</td>\n",
       "      <td>promoter_pncA</td>\n",
       "    </tr>\n",
       "    <tr>\n",
       "      <th>32</th>\n",
       "      <td>4243147</td>\n",
       "      <td>4243232</td>\n",
       "      <td>promoter</td>\n",
       "      <td>embA</td>\n",
       "      <td>embC</td>\n",
       "      <td>NaN</td>\n",
       "      <td>promoter_embA-embB</td>\n",
       "    </tr>\n",
       "    <tr>\n",
       "      <th>33</th>\n",
       "      <td>3067945</td>\n",
       "      <td>3068188</td>\n",
       "      <td>intergenic</td>\n",
       "      <td>hsdS.1</td>\n",
       "      <td>thyX</td>\n",
       "      <td>NaN</td>\n",
       "      <td>NaN</td>\n",
       "    </tr>\n",
       "    <tr>\n",
       "      <th>34</th>\n",
       "      <td>2715332</td>\n",
       "      <td>2715471</td>\n",
       "      <td>promoter</td>\n",
       "      <td>Rv2417c</td>\n",
       "      <td>eis</td>\n",
       "      <td>NaN</td>\n",
       "      <td>promoter_eis</td>\n",
       "    </tr>\n",
       "    <tr>\n",
       "      <th>35</th>\n",
       "      <td>1471845</td>\n",
       "      <td>1473382</td>\n",
       "      <td>rRNA</td>\n",
       "      <td>rrl</td>\n",
       "      <td>mcr3</td>\n",
       "      <td>NaN</td>\n",
       "      <td>ribosomal_RNA_16S</td>\n",
       "    </tr>\n",
       "  </tbody>\n",
       "</table>\n",
       "</div>"
      ],
      "text/plain": [
       "   H37Rv_start H37Rv_end        type gene_after gene_before symbol  \\\n",
       "31     2289241   2289281    promoter    Rv2044c        pncA    NaN   \n",
       "32     4243147   4243232    promoter       embA        embC    NaN   \n",
       "33     3067945   3068188  intergenic     hsdS.1        thyX    NaN   \n",
       "34     2715332   2715471    promoter    Rv2417c         eis    NaN   \n",
       "35     1471845   1473382        rRNA        rrl        mcr3    NaN   \n",
       "\n",
       "           description  \n",
       "31       promoter_pncA  \n",
       "32  promoter_embA-embB  \n",
       "33                 NaN  \n",
       "34        promoter_eis  \n",
       "35   ribosomal_RNA_16S  "
      ]
     },
     "execution_count": 106,
     "metadata": {},
     "output_type": "execute_result"
    }
   ],
   "source": [
    "H37Rv_regions_of_interest.tail()"
   ]
  },
  {
   "cell_type": "code",
   "execution_count": 107,
   "metadata": {},
   "outputs": [
    {
     "data": {
      "text/html": [
       "<div>\n",
       "<style>\n",
       "    .dataframe thead tr:only-child th {\n",
       "        text-align: right;\n",
       "    }\n",
       "\n",
       "    .dataframe thead th {\n",
       "        text-align: left;\n",
       "    }\n",
       "\n",
       "    .dataframe tbody tr th {\n",
       "        vertical-align: top;\n",
       "    }\n",
       "</style>\n",
       "<table border=\"1\" class=\"dataframe\">\n",
       "  <thead>\n",
       "    <tr style=\"text-align: right;\">\n",
       "      <th></th>\n",
       "      <th>H37Rv_start</th>\n",
       "      <th>H37Rv_end</th>\n",
       "      <th>type</th>\n",
       "      <th>gene_after</th>\n",
       "      <th>gene_before</th>\n",
       "      <th>symbol</th>\n",
       "      <th>description</th>\n",
       "    </tr>\n",
       "  </thead>\n",
       "  <tbody>\n",
       "    <tr>\n",
       "      <th>0</th>\n",
       "      <td>5239</td>\n",
       "      <td>7267</td>\n",
       "      <td>gene</td>\n",
       "      <td>Rv0005</td>\n",
       "      <td>Rv0005</td>\n",
       "      <td>gyrB</td>\n",
       "      <td>DNA gyrase subunit B</td>\n",
       "    </tr>\n",
       "    <tr>\n",
       "      <th>1</th>\n",
       "      <td>7301</td>\n",
       "      <td>9818</td>\n",
       "      <td>gene</td>\n",
       "      <td>Rv0006</td>\n",
       "      <td>Rv0006</td>\n",
       "      <td>gyrA</td>\n",
       "      <td>DNA gyrase subunit A</td>\n",
       "    </tr>\n",
       "    <tr>\n",
       "      <th>2</th>\n",
       "      <td>409361</td>\n",
       "      <td>410801</td>\n",
       "      <td>gene</td>\n",
       "      <td>Rv0341</td>\n",
       "      <td>Rv0341</td>\n",
       "      <td>iniB</td>\n",
       "      <td>isoniazid inductible gene protein</td>\n",
       "    </tr>\n",
       "    <tr>\n",
       "      <th>3</th>\n",
       "      <td>410837</td>\n",
       "      <td>412760</td>\n",
       "      <td>gene</td>\n",
       "      <td>Rv0342</td>\n",
       "      <td>Rv0342</td>\n",
       "      <td>iniA</td>\n",
       "      <td>isoniazid inductible gene protein</td>\n",
       "    </tr>\n",
       "    <tr>\n",
       "      <th>4</th>\n",
       "      <td>412756</td>\n",
       "      <td>414238</td>\n",
       "      <td>gene</td>\n",
       "      <td>Rv0343</td>\n",
       "      <td>Rv0343</td>\n",
       "      <td>iniC</td>\n",
       "      <td>isoniazid inductible gene protein</td>\n",
       "    </tr>\n",
       "    <tr>\n",
       "      <th>5</th>\n",
       "      <td>759806</td>\n",
       "      <td>763325</td>\n",
       "      <td>gene</td>\n",
       "      <td>Rv0667</td>\n",
       "      <td>Rv0667</td>\n",
       "      <td>rpoB</td>\n",
       "      <td>DNA-directed RNA polymerase beta chain</td>\n",
       "    </tr>\n",
       "    <tr>\n",
       "      <th>6</th>\n",
       "      <td>763369</td>\n",
       "      <td>767320</td>\n",
       "      <td>gene</td>\n",
       "      <td>Rv0668</td>\n",
       "      <td>Rv0668</td>\n",
       "      <td>rpoC</td>\n",
       "      <td>DNA-directed RNA polymerase beta chain</td>\n",
       "    </tr>\n",
       "    <tr>\n",
       "      <th>7</th>\n",
       "      <td>781559</td>\n",
       "      <td>781934</td>\n",
       "      <td>gene</td>\n",
       "      <td>Rv0682</td>\n",
       "      <td>Rv0682</td>\n",
       "      <td>rpsL</td>\n",
       "      <td>30S ribosomal protein S12</td>\n",
       "    </tr>\n",
       "    <tr>\n",
       "      <th>8</th>\n",
       "      <td>1351190</td>\n",
       "      <td>1352147</td>\n",
       "      <td>gene</td>\n",
       "      <td>Rv1207</td>\n",
       "      <td>Rv1207</td>\n",
       "      <td>folP2</td>\n",
       "      <td>dihydropteroate synthase 2</td>\n",
       "    </tr>\n",
       "    <tr>\n",
       "      <th>9</th>\n",
       "      <td>1674201</td>\n",
       "      <td>1675011</td>\n",
       "      <td>gene</td>\n",
       "      <td>Rv1484</td>\n",
       "      <td>Rv1484</td>\n",
       "      <td>inhA</td>\n",
       "      <td>NADH-dependent enoyl-[acyl-carrier-protein] re...</td>\n",
       "    </tr>\n",
       "    <tr>\n",
       "      <th>10</th>\n",
       "      <td>1833541</td>\n",
       "      <td>1834987</td>\n",
       "      <td>gene</td>\n",
       "      <td>Rv1630</td>\n",
       "      <td>Rv1630</td>\n",
       "      <td>rpsA</td>\n",
       "      <td>30S ribosomal protein S1</td>\n",
       "    </tr>\n",
       "    <tr>\n",
       "      <th>11</th>\n",
       "      <td>1917939</td>\n",
       "      <td>1918746</td>\n",
       "      <td>gene</td>\n",
       "      <td>Rv1694</td>\n",
       "      <td>Rv1694</td>\n",
       "      <td>tlyA</td>\n",
       "      <td>cytotoxin|haemolysin</td>\n",
       "    </tr>\n",
       "    <tr>\n",
       "      <th>12</th>\n",
       "      <td>2153888</td>\n",
       "      <td>2156111</td>\n",
       "      <td>gene</td>\n",
       "      <td>Rv1908c</td>\n",
       "      <td>Rv1908c</td>\n",
       "      <td>katG</td>\n",
       "      <td>catalase-peroxidase-peroxynitritase T</td>\n",
       "    </tr>\n",
       "    <tr>\n",
       "      <th>13</th>\n",
       "      <td>2288680</td>\n",
       "      <td>2289241</td>\n",
       "      <td>gene</td>\n",
       "      <td>Rv2043c</td>\n",
       "      <td>Rv2043c</td>\n",
       "      <td>pncA</td>\n",
       "      <td>pyrazinamidase/nicotinamidas</td>\n",
       "    </tr>\n",
       "    <tr>\n",
       "      <th>14</th>\n",
       "      <td>2518114</td>\n",
       "      <td>2519365</td>\n",
       "      <td>gene</td>\n",
       "      <td>Rv2245</td>\n",
       "      <td>Rv2245</td>\n",
       "      <td>kasA</td>\n",
       "      <td>3-oxoacyl-[acyl-carrier protein] synthase 1</td>\n",
       "    </tr>\n",
       "    <tr>\n",
       "      <th>15</th>\n",
       "      <td>2726192</td>\n",
       "      <td>2726780</td>\n",
       "      <td>gene</td>\n",
       "      <td>Rv2428</td>\n",
       "      <td>Rv2428</td>\n",
       "      <td>ahpC</td>\n",
       "      <td>alkyl hydroperoxide reductase C protein</td>\n",
       "    </tr>\n",
       "    <tr>\n",
       "      <th>16</th>\n",
       "      <td>2746134</td>\n",
       "      <td>2747598</td>\n",
       "      <td>gene</td>\n",
       "      <td>Rv2447c</td>\n",
       "      <td>Rv2447c</td>\n",
       "      <td>folC</td>\n",
       "      <td>folylpolyglutamate synthase protein</td>\n",
       "    </tr>\n",
       "    <tr>\n",
       "      <th>17</th>\n",
       "      <td>3067192</td>\n",
       "      <td>3067945</td>\n",
       "      <td>gene</td>\n",
       "      <td>Rv2754c</td>\n",
       "      <td>Rv2754c</td>\n",
       "      <td>thyX</td>\n",
       "      <td>thymidylate synthase</td>\n",
       "    </tr>\n",
       "    <tr>\n",
       "      <th>18</th>\n",
       "      <td>3073129</td>\n",
       "      <td>3073609</td>\n",
       "      <td>gene</td>\n",
       "      <td>Rv2763c</td>\n",
       "      <td>Rv2763c</td>\n",
       "      <td>dfrA</td>\n",
       "      <td>dihydrofolate reductase</td>\n",
       "    </tr>\n",
       "    <tr>\n",
       "      <th>19</th>\n",
       "      <td>3073679</td>\n",
       "      <td>3074471</td>\n",
       "      <td>gene</td>\n",
       "      <td>Rv2764c</td>\n",
       "      <td>Rv2764c</td>\n",
       "      <td>thyA</td>\n",
       "      <td>thymidylate synthase</td>\n",
       "    </tr>\n",
       "    <tr>\n",
       "      <th>20</th>\n",
       "      <td>3840193</td>\n",
       "      <td>3841420</td>\n",
       "      <td>gene</td>\n",
       "      <td>Rv3423c</td>\n",
       "      <td>Rv3423c</td>\n",
       "      <td>alr</td>\n",
       "      <td>alanine racemase</td>\n",
       "    </tr>\n",
       "    <tr>\n",
       "      <th>21</th>\n",
       "      <td>4049137</td>\n",
       "      <td>4049980</td>\n",
       "      <td>gene</td>\n",
       "      <td>Rv3608c</td>\n",
       "      <td>Rv3608c</td>\n",
       "      <td>folP1</td>\n",
       "      <td>dihydropteroate synthase 1 folp</td>\n",
       "    </tr>\n",
       "    <tr>\n",
       "      <th>22</th>\n",
       "      <td>4239862</td>\n",
       "      <td>4243147</td>\n",
       "      <td>gene</td>\n",
       "      <td>Rv3793</td>\n",
       "      <td>Rv3793</td>\n",
       "      <td>embC</td>\n",
       "      <td>membrane indolylacetylinositol arabinosyltrans...</td>\n",
       "    </tr>\n",
       "    <tr>\n",
       "      <th>23</th>\n",
       "      <td>4243232</td>\n",
       "      <td>4246517</td>\n",
       "      <td>gene</td>\n",
       "      <td>Rv3794</td>\n",
       "      <td>Rv3794</td>\n",
       "      <td>embA</td>\n",
       "      <td>membrane indolylacetylinositol arabinosyltrans...</td>\n",
       "    </tr>\n",
       "    <tr>\n",
       "      <th>24</th>\n",
       "      <td>4246513</td>\n",
       "      <td>4249810</td>\n",
       "      <td>gene</td>\n",
       "      <td>Rv3795</td>\n",
       "      <td>Rv3795</td>\n",
       "      <td>embB</td>\n",
       "      <td>membrane indolylacetylinositol arabinosyltrans...</td>\n",
       "    </tr>\n",
       "    <tr>\n",
       "      <th>25</th>\n",
       "      <td>4268924</td>\n",
       "      <td>4269833</td>\n",
       "      <td>gene</td>\n",
       "      <td>Rv3806c</td>\n",
       "      <td>Rv3806c</td>\n",
       "      <td>NaN</td>\n",
       "      <td>conserved membrane protein</td>\n",
       "    </tr>\n",
       "    <tr>\n",
       "      <th>26</th>\n",
       "      <td>4326003</td>\n",
       "      <td>4327473</td>\n",
       "      <td>gene</td>\n",
       "      <td>Rv3854c</td>\n",
       "      <td>Rv3854c</td>\n",
       "      <td>ethA</td>\n",
       "      <td>monooxygenase</td>\n",
       "    </tr>\n",
       "    <tr>\n",
       "      <th>27</th>\n",
       "      <td>4407527</td>\n",
       "      <td>4408202</td>\n",
       "      <td>gene</td>\n",
       "      <td>Rv3919c</td>\n",
       "      <td>Rv3919c</td>\n",
       "      <td>gid</td>\n",
       "      <td>glucose-inhibited division protein B</td>\n",
       "    </tr>\n",
       "    <tr>\n",
       "      <th>28</th>\n",
       "      <td>1673299</td>\n",
       "      <td>1673439</td>\n",
       "      <td>promoter</td>\n",
       "      <td>fabG1</td>\n",
       "      <td>Rv1482c</td>\n",
       "      <td>NaN</td>\n",
       "      <td>promoter_fabG1-inhA</td>\n",
       "    </tr>\n",
       "    <tr>\n",
       "      <th>29</th>\n",
       "      <td>2713784</td>\n",
       "      <td>2714123</td>\n",
       "      <td>intergenic</td>\n",
       "      <td>eis</td>\n",
       "      <td>Rv2415c</td>\n",
       "      <td>NaN</td>\n",
       "      <td>NaN</td>\n",
       "    </tr>\n",
       "    <tr>\n",
       "      <th>30</th>\n",
       "      <td>2726087</td>\n",
       "      <td>2726192</td>\n",
       "      <td>promoter</td>\n",
       "      <td>ahpC</td>\n",
       "      <td>oxyR'</td>\n",
       "      <td>NaN</td>\n",
       "      <td>promoter_ahpC</td>\n",
       "    </tr>\n",
       "    <tr>\n",
       "      <th>31</th>\n",
       "      <td>2289241</td>\n",
       "      <td>2289281</td>\n",
       "      <td>promoter</td>\n",
       "      <td>Rv2044c</td>\n",
       "      <td>pncA</td>\n",
       "      <td>NaN</td>\n",
       "      <td>promoter_pncA</td>\n",
       "    </tr>\n",
       "    <tr>\n",
       "      <th>32</th>\n",
       "      <td>4243147</td>\n",
       "      <td>4243232</td>\n",
       "      <td>promoter</td>\n",
       "      <td>embA</td>\n",
       "      <td>embC</td>\n",
       "      <td>NaN</td>\n",
       "      <td>promoter_embA-embB</td>\n",
       "    </tr>\n",
       "    <tr>\n",
       "      <th>33</th>\n",
       "      <td>3067945</td>\n",
       "      <td>3068188</td>\n",
       "      <td>intergenic</td>\n",
       "      <td>hsdS.1</td>\n",
       "      <td>thyX</td>\n",
       "      <td>NaN</td>\n",
       "      <td>NaN</td>\n",
       "    </tr>\n",
       "    <tr>\n",
       "      <th>34</th>\n",
       "      <td>2715332</td>\n",
       "      <td>2715471</td>\n",
       "      <td>promoter</td>\n",
       "      <td>Rv2417c</td>\n",
       "      <td>eis</td>\n",
       "      <td>NaN</td>\n",
       "      <td>promoter_eis</td>\n",
       "    </tr>\n",
       "    <tr>\n",
       "      <th>35</th>\n",
       "      <td>1471845</td>\n",
       "      <td>1473382</td>\n",
       "      <td>rRNA</td>\n",
       "      <td>rrl</td>\n",
       "      <td>mcr3</td>\n",
       "      <td>NaN</td>\n",
       "      <td>ribosomal_RNA_16S</td>\n",
       "    </tr>\n",
       "  </tbody>\n",
       "</table>\n",
       "</div>"
      ],
      "text/plain": [
       "   H37Rv_start H37Rv_end        type gene_after gene_before symbol  \\\n",
       "0         5239      7267        gene     Rv0005      Rv0005   gyrB   \n",
       "1         7301      9818        gene     Rv0006      Rv0006   gyrA   \n",
       "2       409361    410801        gene     Rv0341      Rv0341   iniB   \n",
       "3       410837    412760        gene     Rv0342      Rv0342   iniA   \n",
       "4       412756    414238        gene     Rv0343      Rv0343   iniC   \n",
       "5       759806    763325        gene     Rv0667      Rv0667   rpoB   \n",
       "6       763369    767320        gene     Rv0668      Rv0668   rpoC   \n",
       "7       781559    781934        gene     Rv0682      Rv0682   rpsL   \n",
       "8      1351190   1352147        gene     Rv1207      Rv1207  folP2   \n",
       "9      1674201   1675011        gene     Rv1484      Rv1484   inhA   \n",
       "10     1833541   1834987        gene     Rv1630      Rv1630   rpsA   \n",
       "11     1917939   1918746        gene     Rv1694      Rv1694   tlyA   \n",
       "12     2153888   2156111        gene    Rv1908c     Rv1908c   katG   \n",
       "13     2288680   2289241        gene    Rv2043c     Rv2043c   pncA   \n",
       "14     2518114   2519365        gene     Rv2245      Rv2245   kasA   \n",
       "15     2726192   2726780        gene     Rv2428      Rv2428   ahpC   \n",
       "16     2746134   2747598        gene    Rv2447c     Rv2447c   folC   \n",
       "17     3067192   3067945        gene    Rv2754c     Rv2754c   thyX   \n",
       "18     3073129   3073609        gene    Rv2763c     Rv2763c   dfrA   \n",
       "19     3073679   3074471        gene    Rv2764c     Rv2764c   thyA   \n",
       "20     3840193   3841420        gene    Rv3423c     Rv3423c    alr   \n",
       "21     4049137   4049980        gene    Rv3608c     Rv3608c  folP1   \n",
       "22     4239862   4243147        gene     Rv3793      Rv3793   embC   \n",
       "23     4243232   4246517        gene     Rv3794      Rv3794   embA   \n",
       "24     4246513   4249810        gene     Rv3795      Rv3795   embB   \n",
       "25     4268924   4269833        gene    Rv3806c     Rv3806c    NaN   \n",
       "26     4326003   4327473        gene    Rv3854c     Rv3854c   ethA   \n",
       "27     4407527   4408202        gene    Rv3919c     Rv3919c    gid   \n",
       "28     1673299   1673439    promoter      fabG1     Rv1482c    NaN   \n",
       "29     2713784   2714123  intergenic        eis     Rv2415c    NaN   \n",
       "30     2726087   2726192    promoter       ahpC       oxyR'    NaN   \n",
       "31     2289241   2289281    promoter    Rv2044c        pncA    NaN   \n",
       "32     4243147   4243232    promoter       embA        embC    NaN   \n",
       "33     3067945   3068188  intergenic     hsdS.1        thyX    NaN   \n",
       "34     2715332   2715471    promoter    Rv2417c         eis    NaN   \n",
       "35     1471845   1473382        rRNA        rrl        mcr3    NaN   \n",
       "\n",
       "                                          description  \n",
       "0                                DNA gyrase subunit B  \n",
       "1                                DNA gyrase subunit A  \n",
       "2                   isoniazid inductible gene protein  \n",
       "3                   isoniazid inductible gene protein  \n",
       "4                   isoniazid inductible gene protein  \n",
       "5              DNA-directed RNA polymerase beta chain  \n",
       "6              DNA-directed RNA polymerase beta chain  \n",
       "7                           30S ribosomal protein S12  \n",
       "8                          dihydropteroate synthase 2  \n",
       "9   NADH-dependent enoyl-[acyl-carrier-protein] re...  \n",
       "10                           30S ribosomal protein S1  \n",
       "11                               cytotoxin|haemolysin  \n",
       "12              catalase-peroxidase-peroxynitritase T  \n",
       "13                       pyrazinamidase/nicotinamidas  \n",
       "14        3-oxoacyl-[acyl-carrier protein] synthase 1  \n",
       "15            alkyl hydroperoxide reductase C protein  \n",
       "16                folylpolyglutamate synthase protein  \n",
       "17                               thymidylate synthase  \n",
       "18                            dihydrofolate reductase  \n",
       "19                               thymidylate synthase  \n",
       "20                                   alanine racemase  \n",
       "21                    dihydropteroate synthase 1 folp  \n",
       "22  membrane indolylacetylinositol arabinosyltrans...  \n",
       "23  membrane indolylacetylinositol arabinosyltrans...  \n",
       "24  membrane indolylacetylinositol arabinosyltrans...  \n",
       "25                         conserved membrane protein  \n",
       "26                                      monooxygenase  \n",
       "27               glucose-inhibited division protein B  \n",
       "28                                promoter_fabG1-inhA  \n",
       "29                                                NaN  \n",
       "30                                      promoter_ahpC  \n",
       "31                                      promoter_pncA  \n",
       "32                                 promoter_embA-embB  \n",
       "33                                                NaN  \n",
       "34                                       promoter_eis  \n",
       "35                                  ribosomal_RNA_16S  "
      ]
     },
     "execution_count": 107,
     "metadata": {},
     "output_type": "execute_result"
    }
   ],
   "source": [
    "H37Rv_regions_of_interest"
   ]
  },
  {
   "cell_type": "code",
   "execution_count": 108,
   "metadata": {},
   "outputs": [],
   "source": [
    "H37Rv_regions_of_interest.to_csv('/n/data1/hms/dbmi/farhat/Roger/inhost_TB_dynamics_project/CSV_files/gene_categories/H37Rv_AR_regions_of_interest.csv' , sep = ',')"
   ]
  },
  {
   "cell_type": "markdown",
   "metadata": {},
   "source": [
    "### *Filter* out Base Calls that do not occur in our H37Rv positions of interest"
   ]
  },
  {
   "cell_type": "code",
   "execution_count": 109,
   "metadata": {},
   "outputs": [],
   "source": [
    "#convert list of H37Rv positions to check SNPs for into a set which is much faster to lookup than a list\n",
    "H37Rv_positions_of_interest = set(H37Rv_positions_of_interest)\n",
    "\n",
    "#list that stores the DataFrame indices of all SNPs that don't pass Delta AF threshold\n",
    "BaseCalls_to_Drop = []\n",
    "\n",
    "#for each pair of Base Calls, store (alternate Allele Frequency of isolate_1) and (alternate Allele Frequency of isolate_2 - alternate Allele Frequency of isolate_1)\n",
    "for Base_Call_A_index , Base_Call_B_index in zip( range(0 , np.shape(within_host_Base_Call_variants_all_patients)[0] , 2) , range(1 , np.shape(within_host_Base_Call_variants_all_patients)[0] , 2) ):\n",
    "        \n",
    "    #pull reference positions (only need the H37Rv ref position for 1 of the pair of base calls)\n",
    "    Base_Call_H37Rv_Ref_Pos = within_host_Base_Call_variants_all_patients.loc[Base_Call_A_index , 'ref_position']\n",
    "    \n",
    "    #if Reference Position is not associated with Antibiotic Resistance, then drop\n",
    "    if Base_Call_H37Rv_Ref_Pos not in H37Rv_positions_of_interest:\n",
    "        \n",
    "        BaseCalls_to_Drop.append(Base_Call_A_index)\n",
    "        BaseCalls_to_Drop.append(Base_Call_B_index)\n",
    "\n",
    "within_host_Base_Call_variants_all_patients.drop(labels = BaseCalls_to_Drop , axis = 0 , inplace = True)\n",
    "\n",
    "#reset index\n",
    "within_host_Base_Call_variants_all_patients.reset_index(drop = True, inplace = True)"
   ]
  },
  {
   "cell_type": "code",
   "execution_count": 110,
   "metadata": {},
   "outputs": [
    {
     "data": {
      "text/html": [
       "<div>\n",
       "<style>\n",
       "    .dataframe thead tr:only-child th {\n",
       "        text-align: right;\n",
       "    }\n",
       "\n",
       "    .dataframe thead th {\n",
       "        text-align: left;\n",
       "    }\n",
       "\n",
       "    .dataframe tbody tr th {\n",
       "        vertical-align: top;\n",
       "    }\n",
       "</style>\n",
       "<table border=\"1\" class=\"dataframe\">\n",
       "  <thead>\n",
       "    <tr style=\"text-align: right;\">\n",
       "      <th></th>\n",
       "      <th>ref_base</th>\n",
       "      <th>alt_base</th>\n",
       "      <th>ref_position</th>\n",
       "      <th>quality</th>\n",
       "      <th>SNP_type</th>\n",
       "      <th>PASS_filter</th>\n",
       "      <th>INFO</th>\n",
       "      <th>alt_AF</th>\n",
       "      <th>depth</th>\n",
       "      <th>tag</th>\n",
       "      <th>population</th>\n",
       "      <th>patient_id</th>\n",
       "      <th>gene_id</th>\n",
       "      <th>gene_coord</th>\n",
       "      <th>gene_category</th>\n",
       "      <th>gene_symbol</th>\n",
       "      <th>SNP_ftype</th>\n",
       "      <th>AA_change</th>\n",
       "    </tr>\n",
       "  </thead>\n",
       "  <tbody>\n",
       "    <tr>\n",
       "      <th>0</th>\n",
       "      <td>T</td>\n",
       "      <td>G</td>\n",
       "      <td>2726338</td>\n",
       "      <td>867</td>\n",
       "      <td>Ref_PASS</td>\n",
       "      <td>[]</td>\n",
       "      <td>{u'QP': [0, 0, 12, 87], u'AC': [0], u'BC': [0,...</td>\n",
       "      <td>0.12</td>\n",
       "      <td>62</td>\n",
       "      <td>ERR108174</td>\n",
       "      <td>BRYANT</td>\n",
       "      <td>4024R</td>\n",
       "      <td>Rv2428</td>\n",
       "      <td>146</td>\n",
       "      <td>Antibiotic Resistance</td>\n",
       "      <td>ahpC</td>\n",
       "      <td>N</td>\n",
       "      <td>V49G</td>\n",
       "    </tr>\n",
       "    <tr>\n",
       "      <th>1</th>\n",
       "      <td>T</td>\n",
       "      <td>G</td>\n",
       "      <td>2726338</td>\n",
       "      <td>182</td>\n",
       "      <td>Ref_PASS</td>\n",
       "      <td>[]</td>\n",
       "      <td>{u'QP': [0, 0, 22, 77], u'AC': [0], u'BC': [0,...</td>\n",
       "      <td>0.22</td>\n",
       "      <td>73</td>\n",
       "      <td>ERR108173</td>\n",
       "      <td>BRYANT</td>\n",
       "      <td>4024R</td>\n",
       "      <td>Rv2428</td>\n",
       "      <td>146</td>\n",
       "      <td>Antibiotic Resistance</td>\n",
       "      <td>ahpC</td>\n",
       "      <td>N</td>\n",
       "      <td>V49G</td>\n",
       "    </tr>\n",
       "    <tr>\n",
       "      <th>2</th>\n",
       "      <td>T</td>\n",
       "      <td>G</td>\n",
       "      <td>2726341</td>\n",
       "      <td>234</td>\n",
       "      <td>Ref_PASS</td>\n",
       "      <td>[]</td>\n",
       "      <td>{u'QP': [0, 0, 22, 78], u'AC': [0], u'BC': [0,...</td>\n",
       "      <td>0.22</td>\n",
       "      <td>73</td>\n",
       "      <td>ERR108173</td>\n",
       "      <td>BRYANT</td>\n",
       "      <td>4024R</td>\n",
       "      <td>Rv2428</td>\n",
       "      <td>149</td>\n",
       "      <td>Antibiotic Resistance</td>\n",
       "      <td>ahpC</td>\n",
       "      <td>N</td>\n",
       "      <td>V50G</td>\n",
       "    </tr>\n",
       "    <tr>\n",
       "      <th>3</th>\n",
       "      <td>T</td>\n",
       "      <td>G</td>\n",
       "      <td>2726341</td>\n",
       "      <td>931</td>\n",
       "      <td>Ref_PASS</td>\n",
       "      <td>[]</td>\n",
       "      <td>{u'QP': [0, 0, 11, 89], u'AC': [0], u'BC': [0,...</td>\n",
       "      <td>0.11</td>\n",
       "      <td>59</td>\n",
       "      <td>ERR108174</td>\n",
       "      <td>BRYANT</td>\n",
       "      <td>4024R</td>\n",
       "      <td>Rv2428</td>\n",
       "      <td>149</td>\n",
       "      <td>Antibiotic Resistance</td>\n",
       "      <td>ahpC</td>\n",
       "      <td>N</td>\n",
       "      <td>V50G</td>\n",
       "    </tr>\n",
       "    <tr>\n",
       "      <th>4</th>\n",
       "      <td>A</td>\n",
       "      <td>C</td>\n",
       "      <td>4049577</td>\n",
       "      <td>772</td>\n",
       "      <td>Ref_PASS</td>\n",
       "      <td>[]</td>\n",
       "      <td>{u'QP': [88, 12, 0, 0], u'AC': [0], u'BC': [39...</td>\n",
       "      <td>0.12</td>\n",
       "      <td>52</td>\n",
       "      <td>ERR108173</td>\n",
       "      <td>BRYANT</td>\n",
       "      <td>4024R</td>\n",
       "      <td>Rv3608c</td>\n",
       "      <td>404</td>\n",
       "      <td>Antibiotic Resistance</td>\n",
       "      <td>folP1</td>\n",
       "      <td>N</td>\n",
       "      <td>V135G</td>\n",
       "    </tr>\n",
       "    <tr>\n",
       "      <th>5</th>\n",
       "      <td>A</td>\n",
       "      <td>C</td>\n",
       "      <td>4049577</td>\n",
       "      <td>200</td>\n",
       "      <td>Ref_PASS</td>\n",
       "      <td>[]</td>\n",
       "      <td>{u'QP': [78, 22, 0, 0], u'AC': [0], u'BC': [35...</td>\n",
       "      <td>0.22</td>\n",
       "      <td>54</td>\n",
       "      <td>ERR108174</td>\n",
       "      <td>BRYANT</td>\n",
       "      <td>4024R</td>\n",
       "      <td>Rv3608c</td>\n",
       "      <td>404</td>\n",
       "      <td>Antibiotic Resistance</td>\n",
       "      <td>folP1</td>\n",
       "      <td>N</td>\n",
       "      <td>V135G</td>\n",
       "    </tr>\n",
       "    <tr>\n",
       "      <th>6</th>\n",
       "      <td>C</td>\n",
       "      <td>Z</td>\n",
       "      <td>761139</td>\n",
       "      <td>3140</td>\n",
       "      <td>Ref_PASS</td>\n",
       "      <td>[]</td>\n",
       "      <td>{u'QP': [0, 100, 0, 0], u'AC': [0], u'BC': [0,...</td>\n",
       "      <td>0.00</td>\n",
       "      <td>89</td>\n",
       "      <td>ERR369703</td>\n",
       "      <td>CASALI</td>\n",
       "      <td>P251</td>\n",
       "      <td>Rv0667</td>\n",
       "      <td>1333</td>\n",
       "      <td>Antibiotic Resistance</td>\n",
       "      <td>rpoB</td>\n",
       "      <td>None</td>\n",
       "      <td>None</td>\n",
       "    </tr>\n",
       "    <tr>\n",
       "      <th>7</th>\n",
       "      <td>C</td>\n",
       "      <td>G</td>\n",
       "      <td>761139</td>\n",
       "      <td>1266</td>\n",
       "      <td>Alt_PASS</td>\n",
       "      <td>[]</td>\n",
       "      <td>{u'QP': [0, 0, 100, 0], u'AC': [2], u'BC': [0,...</td>\n",
       "      <td>1.00</td>\n",
       "      <td>36</td>\n",
       "      <td>ERR600658</td>\n",
       "      <td>CASALI</td>\n",
       "      <td>P251</td>\n",
       "      <td>Rv0667</td>\n",
       "      <td>1333</td>\n",
       "      <td>Antibiotic Resistance</td>\n",
       "      <td>rpoB</td>\n",
       "      <td>N</td>\n",
       "      <td>H445D</td>\n",
       "    </tr>\n",
       "    <tr>\n",
       "      <th>8</th>\n",
       "      <td>C</td>\n",
       "      <td>Z</td>\n",
       "      <td>763490</td>\n",
       "      <td>12993</td>\n",
       "      <td>Ref_PASS</td>\n",
       "      <td>[]</td>\n",
       "      <td>{u'QP': [0, 100, 0, 0], u'AC': [0], u'BC': [0,...</td>\n",
       "      <td>0.00</td>\n",
       "      <td>343</td>\n",
       "      <td>Peru5140</td>\n",
       "      <td>CETR</td>\n",
       "      <td>2968</td>\n",
       "      <td>Rv0668</td>\n",
       "      <td>121</td>\n",
       "      <td>Antibiotic Resistance</td>\n",
       "      <td>rpoC</td>\n",
       "      <td>None</td>\n",
       "      <td>None</td>\n",
       "    </tr>\n",
       "    <tr>\n",
       "      <th>9</th>\n",
       "      <td>C</td>\n",
       "      <td>T</td>\n",
       "      <td>763490</td>\n",
       "      <td>4827</td>\n",
       "      <td>Amb</td>\n",
       "      <td>[Amb]</td>\n",
       "      <td>{u'QP': [0, 60, 0, 39], u'AC': [1], u'BC': [0,...</td>\n",
       "      <td>0.39</td>\n",
       "      <td>215</td>\n",
       "      <td>Peru5139</td>\n",
       "      <td>CETR</td>\n",
       "      <td>2968</td>\n",
       "      <td>Rv0668</td>\n",
       "      <td>121</td>\n",
       "      <td>Antibiotic Resistance</td>\n",
       "      <td>rpoC</td>\n",
       "      <td>N</td>\n",
       "      <td>P41S</td>\n",
       "    </tr>\n",
       "  </tbody>\n",
       "</table>\n",
       "</div>"
      ],
      "text/plain": [
       "  ref_base alt_base  ref_position  quality  SNP_type PASS_filter  \\\n",
       "0        T        G       2726338      867  Ref_PASS          []   \n",
       "1        T        G       2726338      182  Ref_PASS          []   \n",
       "2        T        G       2726341      234  Ref_PASS          []   \n",
       "3        T        G       2726341      931  Ref_PASS          []   \n",
       "4        A        C       4049577      772  Ref_PASS          []   \n",
       "5        A        C       4049577      200  Ref_PASS          []   \n",
       "6        C        Z        761139     3140  Ref_PASS          []   \n",
       "7        C        G        761139     1266  Alt_PASS          []   \n",
       "8        C        Z        763490    12993  Ref_PASS          []   \n",
       "9        C        T        763490     4827       Amb       [Amb]   \n",
       "\n",
       "                                                INFO  alt_AF  depth  \\\n",
       "0  {u'QP': [0, 0, 12, 87], u'AC': [0], u'BC': [0,...    0.12     62   \n",
       "1  {u'QP': [0, 0, 22, 77], u'AC': [0], u'BC': [0,...    0.22     73   \n",
       "2  {u'QP': [0, 0, 22, 78], u'AC': [0], u'BC': [0,...    0.22     73   \n",
       "3  {u'QP': [0, 0, 11, 89], u'AC': [0], u'BC': [0,...    0.11     59   \n",
       "4  {u'QP': [88, 12, 0, 0], u'AC': [0], u'BC': [39...    0.12     52   \n",
       "5  {u'QP': [78, 22, 0, 0], u'AC': [0], u'BC': [35...    0.22     54   \n",
       "6  {u'QP': [0, 100, 0, 0], u'AC': [0], u'BC': [0,...    0.00     89   \n",
       "7  {u'QP': [0, 0, 100, 0], u'AC': [2], u'BC': [0,...    1.00     36   \n",
       "8  {u'QP': [0, 100, 0, 0], u'AC': [0], u'BC': [0,...    0.00    343   \n",
       "9  {u'QP': [0, 60, 0, 39], u'AC': [1], u'BC': [0,...    0.39    215   \n",
       "\n",
       "         tag population patient_id  gene_id gene_coord          gene_category  \\\n",
       "0  ERR108174     BRYANT      4024R   Rv2428        146  Antibiotic Resistance   \n",
       "1  ERR108173     BRYANT      4024R   Rv2428        146  Antibiotic Resistance   \n",
       "2  ERR108173     BRYANT      4024R   Rv2428        149  Antibiotic Resistance   \n",
       "3  ERR108174     BRYANT      4024R   Rv2428        149  Antibiotic Resistance   \n",
       "4  ERR108173     BRYANT      4024R  Rv3608c        404  Antibiotic Resistance   \n",
       "5  ERR108174     BRYANT      4024R  Rv3608c        404  Antibiotic Resistance   \n",
       "6  ERR369703     CASALI       P251   Rv0667       1333  Antibiotic Resistance   \n",
       "7  ERR600658     CASALI       P251   Rv0667       1333  Antibiotic Resistance   \n",
       "8   Peru5140       CETR       2968   Rv0668        121  Antibiotic Resistance   \n",
       "9   Peru5139       CETR       2968   Rv0668        121  Antibiotic Resistance   \n",
       "\n",
       "  gene_symbol SNP_ftype AA_change  \n",
       "0        ahpC         N      V49G  \n",
       "1        ahpC         N      V49G  \n",
       "2        ahpC         N      V50G  \n",
       "3        ahpC         N      V50G  \n",
       "4       folP1         N     V135G  \n",
       "5       folP1         N     V135G  \n",
       "6        rpoB      None      None  \n",
       "7        rpoB         N     H445D  \n",
       "8        rpoC      None      None  \n",
       "9        rpoC         N      P41S  "
      ]
     },
     "execution_count": 110,
     "metadata": {},
     "output_type": "execute_result"
    }
   ],
   "source": [
    "within_host_Base_Call_variants_all_patients.head(n=10)"
   ]
  },
  {
   "cell_type": "code",
   "execution_count": 111,
   "metadata": {},
   "outputs": [
    {
     "data": {
      "text/plain": [
       "(3878, 18)"
      ]
     },
     "execution_count": 111,
     "metadata": {},
     "output_type": "execute_result"
    }
   ],
   "source": [
    "np.shape(within_host_Base_Call_variants_all_patients) "
   ]
  },
  {
   "cell_type": "markdown",
   "metadata": {},
   "source": [
    "output Filtered DataFrame (containing only Ref Positions that we care about) for downstream analysis"
   ]
  },
  {
   "cell_type": "code",
   "execution_count": 112,
   "metadata": {},
   "outputs": [],
   "source": [
    "within_host_Base_Call_variants_all_patients.to_pickle('/n/data1/hms/dbmi/farhat/Roger/inhost_TB_dynamics_project/pickled_files/variant_calling/longitudinal_SNPs/longitudinal_SNP_variants_05_delta_in_alt_AF_antibiotic_resistance.pkl')"
   ]
  },
  {
   "cell_type": "markdown",
   "metadata": {},
   "source": [
    "ouput Filtered DataFrame as CSV for publication"
   ]
  },
  {
   "cell_type": "code",
   "execution_count": 82,
   "metadata": {},
   "outputs": [],
   "source": [
    "within_host_Base_Call_variants_all_patients.to_csv('/n/data1/hms/dbmi/farhat/Roger/inhost_TB_dynamics_project/CSV_files/variant_calling/longitudinal_SNPs/longitudinal_SNP_variants_05_delta_in_alt_AF_antibiotic_resistance.csv')"
   ]
  },
  {
   "cell_type": "markdown",
   "metadata": {},
   "source": [
    "#################################################################################################################################################################################################################################"
   ]
  },
  {
   "cell_type": "markdown",
   "metadata": {},
   "source": [
    "## [2] Analyze Antibiotic Resistance Associated SNPs"
   ]
  },
  {
   "cell_type": "markdown",
   "metadata": {},
   "source": [
    "#################################################################################################################################################################################################################################"
   ]
  },
  {
   "cell_type": "markdown",
   "metadata": {},
   "source": [
    "Load in DataFrame of filtered variants (from above)"
   ]
  },
  {
   "cell_type": "code",
   "execution_count": 5,
   "metadata": {},
   "outputs": [],
   "source": [
    "within_host_Base_Call_variants_all_patients = pd.read_pickle('/n/data1/hms/dbmi/farhat/Roger/inhost_TB_dynamics_project/pickled_files/variant_calling/longitudinal_SNPs/longitudinal_SNP_variants_05_delta_in_alt_AF_antibiotic_resistance.pkl')"
   ]
  },
  {
   "cell_type": "markdown",
   "metadata": {},
   "source": [
    "### Re-format: DataFrame to contain 1 row per SNP"
   ]
  },
  {
   "cell_type": "code",
   "execution_count": 6,
   "metadata": {},
   "outputs": [],
   "source": [
    "all_SNPs_within_patients = pd.DataFrame()\n",
    "\n",
    "#common information to both Base Calls (can just look at isolate A)\n",
    "population = {}\n",
    "patient_id = {}\n",
    "ref_position = {}\n",
    "genomic_coord = {}\n",
    "ref_allele = {}\n",
    "alt_allele = {}\n",
    "gene_id  = {}\n",
    "Gene_Category = {}\n",
    "symbol = {}\n",
    "\n",
    "#look at info for both Base Calls\n",
    "alt_AF_diff = {}\n",
    "SNP_type = {}\n",
    "AA_change = {}\n",
    "\n",
    "SNP_index = 0\n",
    "#iterate through indices for isolate A (store common information for patient isolate A & B came from and Base Call), calculate different in Alternate Allele Frequencies, store Syn or NSyn info\n",
    "for even_index in range(0 , np.shape(within_host_Base_Call_variants_all_patients)[0] , 2):\n",
    "    \n",
    "    #Base Call info for isolate A\n",
    "    Base_Call_info_isolate_A = within_host_Base_Call_variants_all_patients.loc[even_index , :]\n",
    "    #Base Call info for isolate B\n",
    "    Base_Call_info_isolate_B = within_host_Base_Call_variants_all_patients.loc[even_index+1 , :]\n",
    "    \n",
    "    population[SNP_index] = Base_Call_info_isolate_A.population\n",
    "    patient_id[SNP_index] = Base_Call_info_isolate_A.patient_id\n",
    "    ref_position[SNP_index] = Base_Call_info_isolate_A.ref_position\n",
    "    genomic_coord[SNP_index] = Base_Call_info_isolate_A.gene_coord\n",
    "    ref_allele[SNP_index] = Base_Call_info_isolate_A.ref_base\n",
    "    gene_id[SNP_index] = Base_Call_info_isolate_A.gene_id\n",
    "    Gene_Category[SNP_index] = Base_Call_info_isolate_A.gene_category\n",
    "    symbol[SNP_index] = Base_Call_info_isolate_A.gene_symbol\n",
    "    \n",
    "    #look for alternate allele between both base calls, ignore dummy 'Z' holder\n",
    "    for alt_base_i in list( set([Base_Call_info_isolate_A.alt_base , Base_Call_info_isolate_B.alt_base]) ):\n",
    "        \n",
    "        if alt_base_i != 'Z':\n",
    "            alt_allele[SNP_index] = alt_base_i\n",
    "            break\n",
    "\n",
    "    #get difference in Alternate Allele Frequencies\n",
    "    alt_AF_diff[SNP_index] = abs(Base_Call_info_isolate_A.alt_AF - Base_Call_info_isolate_B.alt_AF)\n",
    "    \n",
    "    #get type of SNP \n",
    "    if 'I' in Base_Call_info_isolate_A.SNP_ftype + '_' + Base_Call_info_isolate_B.SNP_ftype:\n",
    "        SNP_type[SNP_index] = 'I'\n",
    "    elif 'N' in Base_Call_info_isolate_A.SNP_ftype + '_' + Base_Call_info_isolate_B.SNP_ftype:\n",
    "        SNP_type[SNP_index] = 'N'\n",
    "        \n",
    "    #get AA change\n",
    "    AA_change_calls = [Base_Call_info_isolate_A.AA_change , Base_Call_info_isolate_B.AA_change]\n",
    "    try:\n",
    "        AA_change_calls.remove('None')\n",
    "    except ValueError:\n",
    "        pass\n",
    "    AA_change[SNP_index] = AA_change_calls[0]\n",
    "    \n",
    "    SNP_index += 1\n",
    "    \n",
    "#convert dictionaries into series\n",
    "population = pd.Series(population)\n",
    "patient_id = pd.Series(patient_id)\n",
    "ref_position = pd.Series(ref_position)\n",
    "genomic_coord = pd.Series(genomic_coord)\n",
    "ref_allele = pd.Series(ref_allele)\n",
    "alt_allele = pd.Series(alt_allele)\n",
    "gene_id = pd.Series(gene_id)\n",
    "Gene_Category = pd.Series(Gene_Category)\n",
    "symbol = pd.Series(symbol)\n",
    "alt_AF_diff = pd.Series(alt_AF_diff)\n",
    "SNP_type = pd.Series(SNP_type)\n",
    "AA_change = pd.Series(AA_change)\n",
    "        \n",
    "#create DataFrame\n",
    "all_SNPs_within_patients['population'] = population\n",
    "all_SNPs_within_patients['patient_id'] = patient_id\n",
    "all_SNPs_within_patients['ref_position'] = ref_position \n",
    "all_SNPs_within_patients['genomic_coord'] = genomic_coord\n",
    "all_SNPs_within_patients['ref_allele'] = ref_allele\n",
    "all_SNPs_within_patients['alt_allele'] = alt_allele\n",
    "all_SNPs_within_patients['gene_id'] = gene_id\n",
    "all_SNPs_within_patients['Gene_Category'] = Gene_Category\n",
    "all_SNPs_within_patients['symbol'] = symbol\n",
    "all_SNPs_within_patients['alt_AF_difference'] = alt_AF_diff\n",
    "all_SNPs_within_patients['SNP_type'] = SNP_type\n",
    "all_SNPs_within_patients['AA_change'] = AA_change"
   ]
  },
  {
   "cell_type": "code",
   "execution_count": 7,
   "metadata": {},
   "outputs": [
    {
     "data": {
      "text/html": [
       "<div>\n",
       "<style>\n",
       "    .dataframe thead tr:only-child th {\n",
       "        text-align: right;\n",
       "    }\n",
       "\n",
       "    .dataframe thead th {\n",
       "        text-align: left;\n",
       "    }\n",
       "\n",
       "    .dataframe tbody tr th {\n",
       "        vertical-align: top;\n",
       "    }\n",
       "</style>\n",
       "<table border=\"1\" class=\"dataframe\">\n",
       "  <thead>\n",
       "    <tr style=\"text-align: right;\">\n",
       "      <th></th>\n",
       "      <th>population</th>\n",
       "      <th>patient_id</th>\n",
       "      <th>ref_position</th>\n",
       "      <th>genomic_coord</th>\n",
       "      <th>ref_allele</th>\n",
       "      <th>alt_allele</th>\n",
       "      <th>gene_id</th>\n",
       "      <th>Gene_Category</th>\n",
       "      <th>symbol</th>\n",
       "      <th>alt_AF_difference</th>\n",
       "      <th>SNP_type</th>\n",
       "      <th>AA_change</th>\n",
       "    </tr>\n",
       "  </thead>\n",
       "  <tbody>\n",
       "    <tr>\n",
       "      <th>0</th>\n",
       "      <td>BRYANT</td>\n",
       "      <td>4024R</td>\n",
       "      <td>2726338</td>\n",
       "      <td>146</td>\n",
       "      <td>T</td>\n",
       "      <td>G</td>\n",
       "      <td>Rv2428</td>\n",
       "      <td>Antibiotic Resistance</td>\n",
       "      <td>ahpC</td>\n",
       "      <td>0.10</td>\n",
       "      <td>N</td>\n",
       "      <td>V49G</td>\n",
       "    </tr>\n",
       "    <tr>\n",
       "      <th>1</th>\n",
       "      <td>BRYANT</td>\n",
       "      <td>4024R</td>\n",
       "      <td>2726341</td>\n",
       "      <td>149</td>\n",
       "      <td>T</td>\n",
       "      <td>G</td>\n",
       "      <td>Rv2428</td>\n",
       "      <td>Antibiotic Resistance</td>\n",
       "      <td>ahpC</td>\n",
       "      <td>0.11</td>\n",
       "      <td>N</td>\n",
       "      <td>V50G</td>\n",
       "    </tr>\n",
       "    <tr>\n",
       "      <th>2</th>\n",
       "      <td>BRYANT</td>\n",
       "      <td>4024R</td>\n",
       "      <td>4049577</td>\n",
       "      <td>404</td>\n",
       "      <td>A</td>\n",
       "      <td>C</td>\n",
       "      <td>Rv3608c</td>\n",
       "      <td>Antibiotic Resistance</td>\n",
       "      <td>folP1</td>\n",
       "      <td>0.10</td>\n",
       "      <td>N</td>\n",
       "      <td>V135G</td>\n",
       "    </tr>\n",
       "    <tr>\n",
       "      <th>3</th>\n",
       "      <td>CASALI</td>\n",
       "      <td>P251</td>\n",
       "      <td>761139</td>\n",
       "      <td>1333</td>\n",
       "      <td>C</td>\n",
       "      <td>G</td>\n",
       "      <td>Rv0667</td>\n",
       "      <td>Antibiotic Resistance</td>\n",
       "      <td>rpoB</td>\n",
       "      <td>1.00</td>\n",
       "      <td>N</td>\n",
       "      <td>H445D</td>\n",
       "    </tr>\n",
       "    <tr>\n",
       "      <th>4</th>\n",
       "      <td>CETR</td>\n",
       "      <td>2968</td>\n",
       "      <td>763490</td>\n",
       "      <td>121</td>\n",
       "      <td>C</td>\n",
       "      <td>T</td>\n",
       "      <td>Rv0668</td>\n",
       "      <td>Antibiotic Resistance</td>\n",
       "      <td>rpoC</td>\n",
       "      <td>0.39</td>\n",
       "      <td>N</td>\n",
       "      <td>P41S</td>\n",
       "    </tr>\n",
       "    <tr>\n",
       "      <th>5</th>\n",
       "      <td>CETR</td>\n",
       "      <td>2968</td>\n",
       "      <td>2289042</td>\n",
       "      <td>200</td>\n",
       "      <td>G</td>\n",
       "      <td>T</td>\n",
       "      <td>Rv2043c</td>\n",
       "      <td>Antibiotic Resistance</td>\n",
       "      <td>pncA</td>\n",
       "      <td>0.38</td>\n",
       "      <td>N</td>\n",
       "      <td>S67*</td>\n",
       "    </tr>\n",
       "  </tbody>\n",
       "</table>\n",
       "</div>"
      ],
      "text/plain": [
       "  population patient_id  ref_position genomic_coord ref_allele alt_allele  \\\n",
       "0     BRYANT      4024R       2726338           146          T          G   \n",
       "1     BRYANT      4024R       2726341           149          T          G   \n",
       "2     BRYANT      4024R       4049577           404          A          C   \n",
       "3     CASALI       P251        761139          1333          C          G   \n",
       "4       CETR       2968        763490           121          C          T   \n",
       "5       CETR       2968       2289042           200          G          T   \n",
       "\n",
       "   gene_id          Gene_Category symbol  alt_AF_difference SNP_type AA_change  \n",
       "0   Rv2428  Antibiotic Resistance   ahpC               0.10        N      V49G  \n",
       "1   Rv2428  Antibiotic Resistance   ahpC               0.11        N      V50G  \n",
       "2  Rv3608c  Antibiotic Resistance  folP1               0.10        N     V135G  \n",
       "3   Rv0667  Antibiotic Resistance   rpoB               1.00        N     H445D  \n",
       "4   Rv0668  Antibiotic Resistance   rpoC               0.39        N      P41S  \n",
       "5  Rv2043c  Antibiotic Resistance   pncA               0.38        N      S67*  "
      ]
     },
     "execution_count": 7,
     "metadata": {},
     "output_type": "execute_result"
    }
   ],
   "source": [
    "all_SNPs_within_patients.head(n=6)"
   ]
  },
  {
   "cell_type": "code",
   "execution_count": 8,
   "metadata": {},
   "outputs": [
    {
     "data": {
      "text/plain": [
       "(1939, 12)"
      ]
     },
     "execution_count": 8,
     "metadata": {},
     "output_type": "execute_result"
    }
   ],
   "source": [
    "np.shape(all_SNPs_within_patients)"
   ]
  },
  {
   "cell_type": "markdown",
   "metadata": {},
   "source": [
    "Store as a CSV file"
   ]
  },
  {
   "cell_type": "code",
   "execution_count": 9,
   "metadata": {},
   "outputs": [],
   "source": [
    "all_SNPs_within_patients.to_csv('/n/data1/hms/dbmi/farhat/Roger/inhost_TB_dynamics_project/CSV_files/variant_calling/longitudinal_SNPs/SNPs_between_isolates_delta_05_antibiotic_resistance.csv' , sep = ',')"
   ]
  },
  {
   "cell_type": "markdown",
   "metadata": {},
   "source": [
    "### Re-format: Starting Alternate Allele Frequency vs. Ending Alternate Allele Frequency"
   ]
  },
  {
   "cell_type": "code",
   "execution_count": 10,
   "metadata": {},
   "outputs": [],
   "source": [
    "within_host_Base_Call_variants_all_patients_sample_order = pd.merge( within_host_Base_Call_variants_all_patients , sample_annotation.loc[: , ['sample_order' , 'tag']] , how = 'left' , on = 'tag')"
   ]
  },
  {
   "cell_type": "code",
   "execution_count": 11,
   "metadata": {},
   "outputs": [
    {
     "data": {
      "text/html": [
       "<div>\n",
       "<style>\n",
       "    .dataframe thead tr:only-child th {\n",
       "        text-align: right;\n",
       "    }\n",
       "\n",
       "    .dataframe thead th {\n",
       "        text-align: left;\n",
       "    }\n",
       "\n",
       "    .dataframe tbody tr th {\n",
       "        vertical-align: top;\n",
       "    }\n",
       "</style>\n",
       "<table border=\"1\" class=\"dataframe\">\n",
       "  <thead>\n",
       "    <tr style=\"text-align: right;\">\n",
       "      <th></th>\n",
       "      <th>ref_base</th>\n",
       "      <th>alt_base</th>\n",
       "      <th>ref_position</th>\n",
       "      <th>quality</th>\n",
       "      <th>SNP_type</th>\n",
       "      <th>PASS_filter</th>\n",
       "      <th>INFO</th>\n",
       "      <th>alt_AF</th>\n",
       "      <th>depth</th>\n",
       "      <th>tag</th>\n",
       "      <th>population</th>\n",
       "      <th>patient_id</th>\n",
       "      <th>gene_id</th>\n",
       "      <th>gene_coord</th>\n",
       "      <th>gene_category</th>\n",
       "      <th>gene_symbol</th>\n",
       "      <th>SNP_ftype</th>\n",
       "      <th>AA_change</th>\n",
       "      <th>sample_order</th>\n",
       "    </tr>\n",
       "  </thead>\n",
       "  <tbody>\n",
       "    <tr>\n",
       "      <th>0</th>\n",
       "      <td>T</td>\n",
       "      <td>G</td>\n",
       "      <td>2726338</td>\n",
       "      <td>867</td>\n",
       "      <td>Ref_PASS</td>\n",
       "      <td>[]</td>\n",
       "      <td>{u'QP': [0, 0, 12, 87], u'AC': [0], u'AF': [0....</td>\n",
       "      <td>0.12</td>\n",
       "      <td>62</td>\n",
       "      <td>ERR108174</td>\n",
       "      <td>BRYANT</td>\n",
       "      <td>4024R</td>\n",
       "      <td>Rv2428</td>\n",
       "      <td>146</td>\n",
       "      <td>Antibiotic Resistance</td>\n",
       "      <td>ahpC</td>\n",
       "      <td>N</td>\n",
       "      <td>V49G</td>\n",
       "      <td>2</td>\n",
       "    </tr>\n",
       "    <tr>\n",
       "      <th>1</th>\n",
       "      <td>T</td>\n",
       "      <td>G</td>\n",
       "      <td>2726338</td>\n",
       "      <td>182</td>\n",
       "      <td>Ref_PASS</td>\n",
       "      <td>[]</td>\n",
       "      <td>{u'QP': [0, 0, 22, 77], u'AC': [0], u'AF': [0....</td>\n",
       "      <td>0.22</td>\n",
       "      <td>73</td>\n",
       "      <td>ERR108173</td>\n",
       "      <td>BRYANT</td>\n",
       "      <td>4024R</td>\n",
       "      <td>Rv2428</td>\n",
       "      <td>146</td>\n",
       "      <td>Antibiotic Resistance</td>\n",
       "      <td>ahpC</td>\n",
       "      <td>N</td>\n",
       "      <td>V49G</td>\n",
       "      <td>1</td>\n",
       "    </tr>\n",
       "    <tr>\n",
       "      <th>2</th>\n",
       "      <td>T</td>\n",
       "      <td>G</td>\n",
       "      <td>2726341</td>\n",
       "      <td>234</td>\n",
       "      <td>Ref_PASS</td>\n",
       "      <td>[]</td>\n",
       "      <td>{u'QP': [0, 0, 22, 78], u'AC': [0], u'AF': [0....</td>\n",
       "      <td>0.22</td>\n",
       "      <td>73</td>\n",
       "      <td>ERR108173</td>\n",
       "      <td>BRYANT</td>\n",
       "      <td>4024R</td>\n",
       "      <td>Rv2428</td>\n",
       "      <td>149</td>\n",
       "      <td>Antibiotic Resistance</td>\n",
       "      <td>ahpC</td>\n",
       "      <td>N</td>\n",
       "      <td>V50G</td>\n",
       "      <td>1</td>\n",
       "    </tr>\n",
       "    <tr>\n",
       "      <th>3</th>\n",
       "      <td>T</td>\n",
       "      <td>G</td>\n",
       "      <td>2726341</td>\n",
       "      <td>931</td>\n",
       "      <td>Ref_PASS</td>\n",
       "      <td>[]</td>\n",
       "      <td>{u'QP': [0, 0, 11, 89], u'AC': [0], u'AF': [0....</td>\n",
       "      <td>0.11</td>\n",
       "      <td>59</td>\n",
       "      <td>ERR108174</td>\n",
       "      <td>BRYANT</td>\n",
       "      <td>4024R</td>\n",
       "      <td>Rv2428</td>\n",
       "      <td>149</td>\n",
       "      <td>Antibiotic Resistance</td>\n",
       "      <td>ahpC</td>\n",
       "      <td>N</td>\n",
       "      <td>V50G</td>\n",
       "      <td>2</td>\n",
       "    </tr>\n",
       "    <tr>\n",
       "      <th>4</th>\n",
       "      <td>A</td>\n",
       "      <td>C</td>\n",
       "      <td>4049577</td>\n",
       "      <td>772</td>\n",
       "      <td>Ref_PASS</td>\n",
       "      <td>[]</td>\n",
       "      <td>{u'QP': [88, 12, 0, 0], u'AC': [0], u'AF': [0....</td>\n",
       "      <td>0.12</td>\n",
       "      <td>52</td>\n",
       "      <td>ERR108173</td>\n",
       "      <td>BRYANT</td>\n",
       "      <td>4024R</td>\n",
       "      <td>Rv3608c</td>\n",
       "      <td>404</td>\n",
       "      <td>Antibiotic Resistance</td>\n",
       "      <td>folP1</td>\n",
       "      <td>N</td>\n",
       "      <td>V135G</td>\n",
       "      <td>1</td>\n",
       "    </tr>\n",
       "  </tbody>\n",
       "</table>\n",
       "</div>"
      ],
      "text/plain": [
       "  ref_base alt_base  ref_position  quality  SNP_type PASS_filter  \\\n",
       "0        T        G       2726338      867  Ref_PASS          []   \n",
       "1        T        G       2726338      182  Ref_PASS          []   \n",
       "2        T        G       2726341      234  Ref_PASS          []   \n",
       "3        T        G       2726341      931  Ref_PASS          []   \n",
       "4        A        C       4049577      772  Ref_PASS          []   \n",
       "\n",
       "                                                INFO  alt_AF  depth  \\\n",
       "0  {u'QP': [0, 0, 12, 87], u'AC': [0], u'AF': [0....    0.12     62   \n",
       "1  {u'QP': [0, 0, 22, 77], u'AC': [0], u'AF': [0....    0.22     73   \n",
       "2  {u'QP': [0, 0, 22, 78], u'AC': [0], u'AF': [0....    0.22     73   \n",
       "3  {u'QP': [0, 0, 11, 89], u'AC': [0], u'AF': [0....    0.11     59   \n",
       "4  {u'QP': [88, 12, 0, 0], u'AC': [0], u'AF': [0....    0.12     52   \n",
       "\n",
       "         tag population patient_id  gene_id gene_coord          gene_category  \\\n",
       "0  ERR108174     BRYANT      4024R   Rv2428        146  Antibiotic Resistance   \n",
       "1  ERR108173     BRYANT      4024R   Rv2428        146  Antibiotic Resistance   \n",
       "2  ERR108173     BRYANT      4024R   Rv2428        149  Antibiotic Resistance   \n",
       "3  ERR108174     BRYANT      4024R   Rv2428        149  Antibiotic Resistance   \n",
       "4  ERR108173     BRYANT      4024R  Rv3608c        404  Antibiotic Resistance   \n",
       "\n",
       "  gene_symbol SNP_ftype AA_change  sample_order  \n",
       "0        ahpC         N      V49G             2  \n",
       "1        ahpC         N      V49G             1  \n",
       "2        ahpC         N      V50G             1  \n",
       "3        ahpC         N      V50G             2  \n",
       "4       folP1         N     V135G             1  "
      ]
     },
     "execution_count": 11,
     "metadata": {},
     "output_type": "execute_result"
    }
   ],
   "source": [
    "within_host_Base_Call_variants_all_patients_sample_order.head()"
   ]
  },
  {
   "cell_type": "code",
   "execution_count": 12,
   "metadata": {},
   "outputs": [
    {
     "data": {
      "text/plain": [
       "(3878, 19)"
      ]
     },
     "execution_count": 12,
     "metadata": {},
     "output_type": "execute_result"
    }
   ],
   "source": [
    "np.shape(within_host_Base_Call_variants_all_patients_sample_order)"
   ]
  },
  {
   "cell_type": "code",
   "execution_count": 13,
   "metadata": {},
   "outputs": [],
   "source": [
    "beginning_alternate_AF = []\n",
    "ending_alternate_AF = []\n",
    "change_in_alternate_AF = []\n",
    "Gene_Category = []\n",
    "Gene_IDs = []\n",
    "SNP_types = []\n",
    "\n",
    "#for each pair of Base Calls, store (alternate Allele Frequency of isolate_1) and (alternate Allele Frequency of isolate_2 - alternate Allele Frequency of isolate_1)\n",
    "for Base_Call_A_index , Base_Call_B_index in zip( range(0 , np.shape(within_host_Base_Call_variants_all_patients_sample_order)[0] , 2) , range(1 , np.shape(within_host_Base_Call_variants_all_patients_sample_order)[0] , 2) ):\n",
    "    \n",
    "    #find the Base Call index that corresponds to the earlier isolate\n",
    "    if within_host_Base_Call_variants_all_patients_sample_order.loc[Base_Call_A_index , 'sample_order'] == 1:\n",
    "        \n",
    "        Base_Call_isolate_1 = within_host_Base_Call_variants_all_patients_sample_order.loc[Base_Call_A_index , :]\n",
    "        Base_Call_isolate_2 = within_host_Base_Call_variants_all_patients_sample_order.loc[Base_Call_B_index , :] \n",
    "            \n",
    "    elif within_host_Base_Call_variants_all_patients_sample_order.loc[Base_Call_B_index , 'sample_order'] == 1:\n",
    "        \n",
    "        Base_Call_isolate_1 = within_host_Base_Call_variants_all_patients_sample_order.loc[Base_Call_B_index , :]\n",
    "        Base_Call_isolate_2 = within_host_Base_Call_variants_all_patients_sample_order.loc[Base_Call_A_index , :] \n",
    "        \n",
    "    #store the Alterante Allele Frequency of the first serial isolate\n",
    "    beginning_alternate_AF.append(Base_Call_isolate_1.alt_AF)\n",
    "    \n",
    "    #stotre the Alternate Allele Frequency of the second serial isolate\n",
    "    ending_alternate_AF.append(Base_Call_isolate_2.alt_AF)\n",
    "    \n",
    "    #store the difference of the Alternate Allele Frequencies of both serial isolates\n",
    "    change_in_alternate_AF.append( abs(Base_Call_isolate_2.alt_AF - Base_Call_isolate_1.alt_AF) )\n",
    "    \n",
    "    #store the functional impact of mutation\n",
    "    SNP_type_for_isolates = [Base_Call_isolate_1.SNP_ftype , Base_Call_isolate_2.SNP_ftype]\n",
    "    if 'N' in SNP_type_for_isolates:\n",
    "        SNP_types.append('N')\n",
    "    elif 'I' in SNP_type_for_isolates:\n",
    "        SNP_types.append('I')\n",
    "    \n",
    "    #store Gene Category & gene_id of the gene that Reference Position is located on\n",
    "    Gene_Category.append(Base_Call_isolate_1.gene_category)\n",
    "    Gene_IDs.append(Base_Call_isolate_1.gene_id)\n",
    "    \n",
    "#create DataFrame with all Information\n",
    "change_in_AF_DF = pd.DataFrame()\n",
    "change_in_AF_DF['beginning_alt_AF'] = beginning_alternate_AF\n",
    "change_in_AF_DF['ending_alt_AF'] = ending_alternate_AF\n",
    "change_in_AF_DF['change_alt_AF'] = change_in_alternate_AF\n",
    "change_in_AF_DF['Gene_Category'] = Gene_Category\n",
    "change_in_AF_DF['gene_id'] = Gene_IDs\n",
    "change_in_AF_DF['SNP_type'] = SNP_types"
   ]
  },
  {
   "cell_type": "code",
   "execution_count": 14,
   "metadata": {},
   "outputs": [
    {
     "data": {
      "text/html": [
       "<div>\n",
       "<style>\n",
       "    .dataframe thead tr:only-child th {\n",
       "        text-align: right;\n",
       "    }\n",
       "\n",
       "    .dataframe thead th {\n",
       "        text-align: left;\n",
       "    }\n",
       "\n",
       "    .dataframe tbody tr th {\n",
       "        vertical-align: top;\n",
       "    }\n",
       "</style>\n",
       "<table border=\"1\" class=\"dataframe\">\n",
       "  <thead>\n",
       "    <tr style=\"text-align: right;\">\n",
       "      <th></th>\n",
       "      <th>beginning_alt_AF</th>\n",
       "      <th>ending_alt_AF</th>\n",
       "      <th>change_alt_AF</th>\n",
       "      <th>Gene_Category</th>\n",
       "      <th>gene_id</th>\n",
       "      <th>SNP_type</th>\n",
       "    </tr>\n",
       "  </thead>\n",
       "  <tbody>\n",
       "    <tr>\n",
       "      <th>0</th>\n",
       "      <td>0.22</td>\n",
       "      <td>0.12</td>\n",
       "      <td>0.10</td>\n",
       "      <td>Antibiotic Resistance</td>\n",
       "      <td>Rv2428</td>\n",
       "      <td>N</td>\n",
       "    </tr>\n",
       "    <tr>\n",
       "      <th>1</th>\n",
       "      <td>0.22</td>\n",
       "      <td>0.11</td>\n",
       "      <td>0.11</td>\n",
       "      <td>Antibiotic Resistance</td>\n",
       "      <td>Rv2428</td>\n",
       "      <td>N</td>\n",
       "    </tr>\n",
       "    <tr>\n",
       "      <th>2</th>\n",
       "      <td>0.12</td>\n",
       "      <td>0.22</td>\n",
       "      <td>0.10</td>\n",
       "      <td>Antibiotic Resistance</td>\n",
       "      <td>Rv3608c</td>\n",
       "      <td>N</td>\n",
       "    </tr>\n",
       "    <tr>\n",
       "      <th>3</th>\n",
       "      <td>0.00</td>\n",
       "      <td>1.00</td>\n",
       "      <td>1.00</td>\n",
       "      <td>Antibiotic Resistance</td>\n",
       "      <td>Rv0667</td>\n",
       "      <td>N</td>\n",
       "    </tr>\n",
       "    <tr>\n",
       "      <th>4</th>\n",
       "      <td>0.39</td>\n",
       "      <td>0.00</td>\n",
       "      <td>0.39</td>\n",
       "      <td>Antibiotic Resistance</td>\n",
       "      <td>Rv0668</td>\n",
       "      <td>N</td>\n",
       "    </tr>\n",
       "  </tbody>\n",
       "</table>\n",
       "</div>"
      ],
      "text/plain": [
       "   beginning_alt_AF  ending_alt_AF  change_alt_AF          Gene_Category  \\\n",
       "0              0.22           0.12           0.10  Antibiotic Resistance   \n",
       "1              0.22           0.11           0.11  Antibiotic Resistance   \n",
       "2              0.12           0.22           0.10  Antibiotic Resistance   \n",
       "3              0.00           1.00           1.00  Antibiotic Resistance   \n",
       "4              0.39           0.00           0.39  Antibiotic Resistance   \n",
       "\n",
       "   gene_id SNP_type  \n",
       "0   Rv2428        N  \n",
       "1   Rv2428        N  \n",
       "2  Rv3608c        N  \n",
       "3   Rv0667        N  \n",
       "4   Rv0668        N  "
      ]
     },
     "execution_count": 14,
     "metadata": {},
     "output_type": "execute_result"
    }
   ],
   "source": [
    "change_in_AF_DF.head()"
   ]
  },
  {
   "cell_type": "code",
   "execution_count": 15,
   "metadata": {},
   "outputs": [
    {
     "data": {
      "text/plain": [
       "(1939, 6)"
      ]
     },
     "execution_count": 15,
     "metadata": {},
     "output_type": "execute_result"
    }
   ],
   "source": [
    "np.shape(change_in_AF_DF)"
   ]
  },
  {
   "cell_type": "markdown",
   "metadata": {},
   "source": [
    "#### nSNPs in genes associated with Antibiotic Resistance"
   ]
  },
  {
   "cell_type": "code",
   "execution_count": 16,
   "metadata": {},
   "outputs": [
    {
     "data": {
      "text/plain": [
       "(1774, 6)"
      ]
     },
     "execution_count": 16,
     "metadata": {},
     "output_type": "execute_result"
    }
   ],
   "source": [
    "np.shape( change_in_AF_DF[change_in_AF_DF.Gene_Category == 'Antibiotic Resistance'] )"
   ]
  },
  {
   "cell_type": "markdown",
   "metadata": {},
   "source": [
    "#### SNPs in rrs"
   ]
  },
  {
   "cell_type": "code",
   "execution_count": 17,
   "metadata": {},
   "outputs": [
    {
     "data": {
      "text/plain": [
       "(74, 6)"
      ]
     },
     "execution_count": 17,
     "metadata": {},
     "output_type": "execute_result"
    }
   ],
   "source": [
    "np.shape( change_in_AF_DF[change_in_AF_DF.gene_id == 'Rvnr01'] )"
   ]
  },
  {
   "cell_type": "markdown",
   "metadata": {},
   "source": [
    "#### SNPs in intergenic regions"
   ]
  },
  {
   "cell_type": "code",
   "execution_count": 18,
   "metadata": {},
   "outputs": [
    {
     "data": {
      "text/plain": [
       "(91, 6)"
      ]
     },
     "execution_count": 18,
     "metadata": {},
     "output_type": "execute_result"
    }
   ],
   "source": [
    "np.shape( change_in_AF_DF[change_in_AF_DF.SNP_type == 'I'] )"
   ]
  },
  {
   "cell_type": "markdown",
   "metadata": {},
   "source": [
    "#################################################################################################################################################################################################################################"
   ]
  },
  {
   "cell_type": "markdown",
   "metadata": {},
   "source": [
    "## [3] Analysis 1"
   ]
  },
  {
   "cell_type": "markdown",
   "metadata": {},
   "source": [
    "#################################################################################################################################################################################################################################"
   ]
  },
  {
   "cell_type": "markdown",
   "metadata": {},
   "source": [
    "#### Full DF of AR SNPs with: $\\Delta AF \\ge 5 \\%$ , across all 200 subjects, and in an AR-loci"
   ]
  },
  {
   "cell_type": "code",
   "execution_count": 19,
   "metadata": {},
   "outputs": [
    {
     "data": {
      "text/html": [
       "<div>\n",
       "<style>\n",
       "    .dataframe thead tr:only-child th {\n",
       "        text-align: right;\n",
       "    }\n",
       "\n",
       "    .dataframe thead th {\n",
       "        text-align: left;\n",
       "    }\n",
       "\n",
       "    .dataframe tbody tr th {\n",
       "        vertical-align: top;\n",
       "    }\n",
       "</style>\n",
       "<table border=\"1\" class=\"dataframe\">\n",
       "  <thead>\n",
       "    <tr style=\"text-align: right;\">\n",
       "      <th></th>\n",
       "      <th>ref_base</th>\n",
       "      <th>alt_base</th>\n",
       "      <th>ref_position</th>\n",
       "      <th>quality</th>\n",
       "      <th>SNP_type</th>\n",
       "      <th>PASS_filter</th>\n",
       "      <th>INFO</th>\n",
       "      <th>alt_AF</th>\n",
       "      <th>depth</th>\n",
       "      <th>tag</th>\n",
       "      <th>population</th>\n",
       "      <th>patient_id</th>\n",
       "      <th>gene_id</th>\n",
       "      <th>gene_coord</th>\n",
       "      <th>gene_category</th>\n",
       "      <th>gene_symbol</th>\n",
       "      <th>SNP_ftype</th>\n",
       "      <th>AA_change</th>\n",
       "      <th>sample_order</th>\n",
       "    </tr>\n",
       "  </thead>\n",
       "  <tbody>\n",
       "    <tr>\n",
       "      <th>0</th>\n",
       "      <td>T</td>\n",
       "      <td>G</td>\n",
       "      <td>2726338</td>\n",
       "      <td>867</td>\n",
       "      <td>Ref_PASS</td>\n",
       "      <td>[]</td>\n",
       "      <td>{u'QP': [0, 0, 12, 87], u'AC': [0], u'AF': [0....</td>\n",
       "      <td>0.12</td>\n",
       "      <td>62</td>\n",
       "      <td>ERR108174</td>\n",
       "      <td>BRYANT</td>\n",
       "      <td>4024R</td>\n",
       "      <td>Rv2428</td>\n",
       "      <td>146</td>\n",
       "      <td>Antibiotic Resistance</td>\n",
       "      <td>ahpC</td>\n",
       "      <td>N</td>\n",
       "      <td>V49G</td>\n",
       "      <td>2</td>\n",
       "    </tr>\n",
       "    <tr>\n",
       "      <th>1</th>\n",
       "      <td>T</td>\n",
       "      <td>G</td>\n",
       "      <td>2726338</td>\n",
       "      <td>182</td>\n",
       "      <td>Ref_PASS</td>\n",
       "      <td>[]</td>\n",
       "      <td>{u'QP': [0, 0, 22, 77], u'AC': [0], u'AF': [0....</td>\n",
       "      <td>0.22</td>\n",
       "      <td>73</td>\n",
       "      <td>ERR108173</td>\n",
       "      <td>BRYANT</td>\n",
       "      <td>4024R</td>\n",
       "      <td>Rv2428</td>\n",
       "      <td>146</td>\n",
       "      <td>Antibiotic Resistance</td>\n",
       "      <td>ahpC</td>\n",
       "      <td>N</td>\n",
       "      <td>V49G</td>\n",
       "      <td>1</td>\n",
       "    </tr>\n",
       "    <tr>\n",
       "      <th>2</th>\n",
       "      <td>T</td>\n",
       "      <td>G</td>\n",
       "      <td>2726341</td>\n",
       "      <td>234</td>\n",
       "      <td>Ref_PASS</td>\n",
       "      <td>[]</td>\n",
       "      <td>{u'QP': [0, 0, 22, 78], u'AC': [0], u'AF': [0....</td>\n",
       "      <td>0.22</td>\n",
       "      <td>73</td>\n",
       "      <td>ERR108173</td>\n",
       "      <td>BRYANT</td>\n",
       "      <td>4024R</td>\n",
       "      <td>Rv2428</td>\n",
       "      <td>149</td>\n",
       "      <td>Antibiotic Resistance</td>\n",
       "      <td>ahpC</td>\n",
       "      <td>N</td>\n",
       "      <td>V50G</td>\n",
       "      <td>1</td>\n",
       "    </tr>\n",
       "    <tr>\n",
       "      <th>3</th>\n",
       "      <td>T</td>\n",
       "      <td>G</td>\n",
       "      <td>2726341</td>\n",
       "      <td>931</td>\n",
       "      <td>Ref_PASS</td>\n",
       "      <td>[]</td>\n",
       "      <td>{u'QP': [0, 0, 11, 89], u'AC': [0], u'AF': [0....</td>\n",
       "      <td>0.11</td>\n",
       "      <td>59</td>\n",
       "      <td>ERR108174</td>\n",
       "      <td>BRYANT</td>\n",
       "      <td>4024R</td>\n",
       "      <td>Rv2428</td>\n",
       "      <td>149</td>\n",
       "      <td>Antibiotic Resistance</td>\n",
       "      <td>ahpC</td>\n",
       "      <td>N</td>\n",
       "      <td>V50G</td>\n",
       "      <td>2</td>\n",
       "    </tr>\n",
       "    <tr>\n",
       "      <th>4</th>\n",
       "      <td>A</td>\n",
       "      <td>C</td>\n",
       "      <td>4049577</td>\n",
       "      <td>772</td>\n",
       "      <td>Ref_PASS</td>\n",
       "      <td>[]</td>\n",
       "      <td>{u'QP': [88, 12, 0, 0], u'AC': [0], u'AF': [0....</td>\n",
       "      <td>0.12</td>\n",
       "      <td>52</td>\n",
       "      <td>ERR108173</td>\n",
       "      <td>BRYANT</td>\n",
       "      <td>4024R</td>\n",
       "      <td>Rv3608c</td>\n",
       "      <td>404</td>\n",
       "      <td>Antibiotic Resistance</td>\n",
       "      <td>folP1</td>\n",
       "      <td>N</td>\n",
       "      <td>V135G</td>\n",
       "      <td>1</td>\n",
       "    </tr>\n",
       "  </tbody>\n",
       "</table>\n",
       "</div>"
      ],
      "text/plain": [
       "  ref_base alt_base  ref_position  quality  SNP_type PASS_filter  \\\n",
       "0        T        G       2726338      867  Ref_PASS          []   \n",
       "1        T        G       2726338      182  Ref_PASS          []   \n",
       "2        T        G       2726341      234  Ref_PASS          []   \n",
       "3        T        G       2726341      931  Ref_PASS          []   \n",
       "4        A        C       4049577      772  Ref_PASS          []   \n",
       "\n",
       "                                                INFO  alt_AF  depth  \\\n",
       "0  {u'QP': [0, 0, 12, 87], u'AC': [0], u'AF': [0....    0.12     62   \n",
       "1  {u'QP': [0, 0, 22, 77], u'AC': [0], u'AF': [0....    0.22     73   \n",
       "2  {u'QP': [0, 0, 22, 78], u'AC': [0], u'AF': [0....    0.22     73   \n",
       "3  {u'QP': [0, 0, 11, 89], u'AC': [0], u'AF': [0....    0.11     59   \n",
       "4  {u'QP': [88, 12, 0, 0], u'AC': [0], u'AF': [0....    0.12     52   \n",
       "\n",
       "         tag population patient_id  gene_id gene_coord          gene_category  \\\n",
       "0  ERR108174     BRYANT      4024R   Rv2428        146  Antibiotic Resistance   \n",
       "1  ERR108173     BRYANT      4024R   Rv2428        146  Antibiotic Resistance   \n",
       "2  ERR108173     BRYANT      4024R   Rv2428        149  Antibiotic Resistance   \n",
       "3  ERR108174     BRYANT      4024R   Rv2428        149  Antibiotic Resistance   \n",
       "4  ERR108173     BRYANT      4024R  Rv3608c        404  Antibiotic Resistance   \n",
       "\n",
       "  gene_symbol SNP_ftype AA_change  sample_order  \n",
       "0        ahpC         N      V49G             2  \n",
       "1        ahpC         N      V49G             1  \n",
       "2        ahpC         N      V50G             1  \n",
       "3        ahpC         N      V50G             2  \n",
       "4       folP1         N     V135G             1  "
      ]
     },
     "execution_count": 19,
     "metadata": {},
     "output_type": "execute_result"
    }
   ],
   "source": [
    "within_host_Base_Call_variants_all_patients_sample_order.head()"
   ]
  },
  {
   "cell_type": "code",
   "execution_count": 20,
   "metadata": {},
   "outputs": [
    {
     "data": {
      "text/plain": [
       "(3878, 19)"
      ]
     },
     "execution_count": 20,
     "metadata": {},
     "output_type": "execute_result"
    }
   ],
   "source": [
    "np.shape(within_host_Base_Call_variants_all_patients_sample_order)"
   ]
  },
  {
   "cell_type": "markdown",
   "metadata": {},
   "source": [
    "#### Collect the alternate AF's for isolate 1 and isolate 2 for each SNP"
   ]
  },
  {
   "cell_type": "code",
   "execution_count": 21,
   "metadata": {},
   "outputs": [],
   "source": [
    "alt_AF_1_array = []\n",
    "alt_AF_2_array = []\n",
    "\n",
    "#for each pair of Base Calls, store (alternate Allele Frequency of isolate_1) and (alternate Allele Frequency of isolate_2 - alternate Allele Frequency of isolate_1)\n",
    "for Base_Call_A_index , Base_Call_B_index in zip( range(0 , np.shape(within_host_Base_Call_variants_all_patients_sample_order)[0] , 2) , range(1 , np.shape(within_host_Base_Call_variants_all_patients_sample_order)[0] , 2) ):\n",
    "    \n",
    "    #pull alternate AFs\n",
    "    if within_host_Base_Call_variants_all_patients_sample_order.loc[Base_Call_A_index , 'sample_order'] == 1:\n",
    "        \n",
    "        alt_AF_1 = within_host_Base_Call_variants_all_patients_sample_order.loc[Base_Call_A_index , 'alt_AF']\n",
    "        alt_AF_2 = within_host_Base_Call_variants_all_patients_sample_order.loc[Base_Call_B_index , 'alt_AF']\n",
    "        \n",
    "    elif within_host_Base_Call_variants_all_patients_sample_order.loc[Base_Call_A_index , 'sample_order'] == 2:\n",
    "        \n",
    "        alt_AF_2 = within_host_Base_Call_variants_all_patients_sample_order.loc[Base_Call_A_index , 'alt_AF']\n",
    "        alt_AF_1 = within_host_Base_Call_variants_all_patients_sample_order.loc[Base_Call_B_index , 'alt_AF']\n",
    "    \n",
    "    alt_AF_1_array.append(alt_AF_1)\n",
    "    alt_AF_2_array.append(alt_AF_2)\n",
    "    \n",
    "alt_AF_1_array = np.array(alt_AF_1_array)\n",
    "alt_AF_2_array = np.array(alt_AF_2_array)"
   ]
  },
  {
   "cell_type": "code",
   "execution_count": 22,
   "metadata": {},
   "outputs": [],
   "source": [
    "plt.style.use('ggplot')\n",
    "plt.rcParams['lines.linewidth']=0\n",
    "plt.rcParams['axes.facecolor']='1.0'\n",
    "plt.rcParams['xtick.color']='black'\n",
    "plt.rcParams['axes.grid']=False\n",
    "plt.rcParams['axes.edgecolor']='black'\n",
    "plt.rcParams['grid.color']= '1.0'\n",
    "plt.rcParams.update({'font.size': 14})"
   ]
  },
  {
   "cell_type": "code",
   "execution_count": 23,
   "metadata": {},
   "outputs": [],
   "source": [
    "#store the values in a dependent and independent vector \n",
    "Y = alt_AF_2_array\n",
    "X = alt_AF_1_array\n",
    "X = sm.add_constant(X)\n",
    "\n",
    "#run the OLS with statsmodels\n",
    "model = sm.OLS(Y , X)\n",
    "results = model.fit()\n",
    "\n",
    "#store the fitted parameters from the regression\n",
    "constant_from_OLS = results.params[0]\n",
    "coeff_from_OLS = results.params[1]\n",
    "\n",
    "#create a vector for the line using the output parameters from the OLS regression\n",
    "X_values_line_best_fit = np.arange( min(alt_AF_1_array) , max(alt_AF_1_array) , 0.01)\n",
    "Y_values_line_best_fit = coeff_from_OLS * X_values_line_best_fit + constant_from_OLS"
   ]
  },
  {
   "cell_type": "code",
   "execution_count": 24,
   "metadata": {},
   "outputs": [
    {
     "data": {
      "text/html": [
       "<table class=\"simpletable\">\n",
       "<caption>OLS Regression Results</caption>\n",
       "<tr>\n",
       "  <th>Dep. Variable:</th>            <td>y</td>        <th>  R-squared:         </th> <td>   0.221</td> \n",
       "</tr>\n",
       "<tr>\n",
       "  <th>Model:</th>                   <td>OLS</td>       <th>  Adj. R-squared:    </th> <td>   0.220</td> \n",
       "</tr>\n",
       "<tr>\n",
       "  <th>Method:</th>             <td>Least Squares</td>  <th>  F-statistic:       </th> <td>   548.9</td> \n",
       "</tr>\n",
       "<tr>\n",
       "  <th>Date:</th>             <td>Mon, 14 Dec 2020</td> <th>  Prob (F-statistic):</th> <td>4.45e-107</td>\n",
       "</tr>\n",
       "<tr>\n",
       "  <th>Time:</th>                 <td>12:37:34</td>     <th>  Log-Likelihood:    </th> <td>  910.14</td> \n",
       "</tr>\n",
       "<tr>\n",
       "  <th>No. Observations:</th>      <td>  1939</td>      <th>  AIC:               </th> <td>  -1816.</td> \n",
       "</tr>\n",
       "<tr>\n",
       "  <th>Df Residuals:</th>          <td>  1937</td>      <th>  BIC:               </th> <td>  -1805.</td> \n",
       "</tr>\n",
       "<tr>\n",
       "  <th>Df Model:</th>              <td>     1</td>      <th>                     </th>     <td> </td>    \n",
       "</tr>\n",
       "<tr>\n",
       "  <th>Covariance Type:</th>      <td>nonrobust</td>    <th>                     </th>     <td> </td>    \n",
       "</tr>\n",
       "</table>\n",
       "<table class=\"simpletable\">\n",
       "<tr>\n",
       "    <td></td>       <th>coef</th>     <th>std err</th>      <th>t</th>      <th>P>|t|</th>  <th>[0.025</th>    <th>0.975]</th>  \n",
       "</tr>\n",
       "<tr>\n",
       "  <th>const</th> <td>    0.0266</td> <td>    0.004</td> <td>    6.368</td> <td> 0.000</td> <td>    0.018</td> <td>    0.035</td>\n",
       "</tr>\n",
       "<tr>\n",
       "  <th>x1</th>    <td>    0.7100</td> <td>    0.030</td> <td>   23.428</td> <td> 0.000</td> <td>    0.651</td> <td>    0.769</td>\n",
       "</tr>\n",
       "</table>\n",
       "<table class=\"simpletable\">\n",
       "<tr>\n",
       "  <th>Omnibus:</th>       <td>1658.453</td> <th>  Durbin-Watson:     </th> <td>   1.568</td> \n",
       "</tr>\n",
       "<tr>\n",
       "  <th>Prob(Omnibus):</th>  <td> 0.000</td>  <th>  Jarque-Bera (JB):  </th> <td>43903.065</td>\n",
       "</tr>\n",
       "<tr>\n",
       "  <th>Skew:</th>           <td> 4.013</td>  <th>  Prob(JB):          </th> <td>    0.00</td> \n",
       "</tr>\n",
       "<tr>\n",
       "  <th>Kurtosis:</th>       <td>24.886</td>  <th>  Cond. No.          </th> <td>    8.87</td> \n",
       "</tr>\n",
       "</table><br/><br/>Warnings:<br/>[1] Standard Errors assume that the covariance matrix of the errors is correctly specified."
      ],
      "text/plain": [
       "<class 'statsmodels.iolib.summary.Summary'>\n",
       "\"\"\"\n",
       "                            OLS Regression Results                            \n",
       "==============================================================================\n",
       "Dep. Variable:                      y   R-squared:                       0.221\n",
       "Model:                            OLS   Adj. R-squared:                  0.220\n",
       "Method:                 Least Squares   F-statistic:                     548.9\n",
       "Date:                Mon, 14 Dec 2020   Prob (F-statistic):          4.45e-107\n",
       "Time:                        12:37:34   Log-Likelihood:                 910.14\n",
       "No. Observations:                1939   AIC:                            -1816.\n",
       "Df Residuals:                    1937   BIC:                            -1805.\n",
       "Df Model:                           1                                         \n",
       "Covariance Type:            nonrobust                                         \n",
       "==============================================================================\n",
       "                 coef    std err          t      P>|t|      [0.025      0.975]\n",
       "------------------------------------------------------------------------------\n",
       "const          0.0266      0.004      6.368      0.000       0.018       0.035\n",
       "x1             0.7100      0.030     23.428      0.000       0.651       0.769\n",
       "==============================================================================\n",
       "Omnibus:                     1658.453   Durbin-Watson:                   1.568\n",
       "Prob(Omnibus):                  0.000   Jarque-Bera (JB):            43903.065\n",
       "Skew:                           4.013   Prob(JB):                         0.00\n",
       "Kurtosis:                      24.886   Cond. No.                         8.87\n",
       "==============================================================================\n",
       "\n",
       "Warnings:\n",
       "[1] Standard Errors assume that the covariance matrix of the errors is correctly specified.\n",
       "\"\"\""
      ]
     },
     "execution_count": 24,
     "metadata": {},
     "output_type": "execute_result"
    }
   ],
   "source": [
    "results.summary()"
   ]
  },
  {
   "cell_type": "code",
   "execution_count": 25,
   "metadata": {},
   "outputs": [
    {
     "data": {
      "image/png": "[encoded data removed]",
      "text/plain": [
       "<Figure size 504x504 with 1 Axes>"
      ]
     },
     "metadata": {},
     "output_type": "display_data"
    }
   ],
   "source": [
    "fig , ax = plt.subplots()\n",
    "epsilon = 0.02\n",
    "\n",
    "plt.scatter( alt_AF_1_array , alt_AF_2_array  , color = '0.0' , edgecolor = 'white' , linewidth = 1.5 , alpha = 0.5 , s = 35)\n",
    "\n",
    "#plot Line of Best Fit from OLS regression\n",
    "#plt.plot(X_values_line_best_fit , Y_values_line_best_fit , color = 'xkcd:bright red' , linestyle = '-' , linewidth = 1.5 , zorder=0 , alpha = 1.0)\n",
    "#plt.plot(X_values_line_best_fit , X_values_line_best_fit , color = 'k' , linestyle = '--' , linewidth = 1.0 , zorder=0 , alpha = 1.0)\n",
    "\n",
    "ax.spines['right'].set_visible(False)\n",
    "ax.spines['top'].set_visible(False)\n",
    "\n",
    "ax.tick_params(labelcolor = 'k')\n",
    "\n",
    "plt.ylabel('Alternate Allele Frequency at Timepoint 2' , fontweight = 'bold', fontsize = 11 , color = 'k')\n",
    "plt.xlabel('Alternate Allele Frequency at Timepoint 1' , fontweight = 'bold', fontsize = 11 , color = 'k')\n",
    "\n",
    "plt.title( 'Trajectories of 1939 SNPs in AR-associated Regions with $\\Delta AF >= 5 \\%$\\nacross all Subjects' , fontsize = 11 , color = 'k')\n",
    "\n",
    "plt.xlim(0.0-epsilon , np.max(alt_AF_1_array)+epsilon)\n",
    "plt.ylim(0.0-epsilon , np.max(alt_AF_2_array)+epsilon+0.02)\n",
    "\n",
    "fig = plt.gcf()\n",
    "fig.set_size_inches(7.0, 7.0)\n",
    "fig.tight_layout()\n",
    "\n",
    "file_name = '/n/data1/hms/dbmi/farhat/Roger/inhost_TB_dynamics_project/figures/antibiotic_resistance_analysis/alt1_vs_alt2_for_AR_SNPs_all_subjects.pdf'\n",
    "plt.savefig(file_name, bbox_inches='tight', dpi = 300 , transparent = True)\n",
    "\n",
    "plt.show()"
   ]
  },
  {
   "cell_type": "markdown",
   "metadata": {},
   "source": [
    "#### Heatmap version of plot above"
   ]
  },
  {
   "cell_type": "code",
   "execution_count": 26,
   "metadata": {},
   "outputs": [],
   "source": [
    "plt.style.use('ggplot')\n",
    "plt.rcParams['lines.linewidth']=0\n",
    "plt.rcParams['axes.facecolor']='1.0'\n",
    "plt.rcParams['xtick.color']='black'\n",
    "plt.rcParams['axes.grid']=False\n",
    "plt.rcParams['axes.edgecolor']='black'\n",
    "plt.rcParams['grid.color']= '1.0'\n",
    "plt.rcParams.update({'font.size': 14})"
   ]
  },
  {
   "cell_type": "code",
   "execution_count": 26,
   "metadata": {},
   "outputs": [],
   "source": [
    "#define colormap\n",
    "def truncate_colormap(cmap, minval=0.0, maxval=1.0, n=100):\n",
    "    new_cmap = mpl.colors.LinearSegmentedColormap.from_list('trunc({n},{a:.2f},{b:.2f})'.format(n=cmap.name, a=minval, b=maxval), cmap(np.linspace(minval, maxval, n)))\n",
    "    return new_cmap\n",
    "\n",
    "def heatmap_AF1_vs_AF2(X , Y , color_map , file_name):\n",
    "    #############  create AF_1 vs AF_2 scatter plot  #############\n",
    "    fig = plt.figure(figsize=(7, 7.7), dpi=100)\n",
    "    from matplotlib import gridspec\n",
    "    gs = gridspec.GridSpec(2, 1,\n",
    "                           width_ratios = [1],\n",
    "                           height_ratios = [50,1.5],\n",
    "                           wspace=0.00,\n",
    "                           hspace=0.19)\n",
    "\n",
    "\n",
    "\n",
    "    cmap = plt.get_cmap(color_map)\n",
    "    trunc_cmap = truncate_colormap(cmap, 0.07, 1.0)\n",
    "\n",
    "    #HEATMAP\n",
    "    axmatrix = fig.add_subplot(gs[0])\n",
    "\n",
    "    # turn off the frame\n",
    "    axmatrix.set_frame_on(False)\n",
    "\n",
    "\n",
    "    X = X + 0.0001 #add psuedo-count to push into bin next-over (to the right)\n",
    "    Y = Y + 0.0001 #add psuedo-count to push into bin next-over (to the right)\n",
    "\n",
    "    heatmap_array , xedges , yedges = np.histogram2d(X , Y , bins = 101)\n",
    "    norm = mpl.colors.PowerNorm(gamma=1./5.3)\n",
    "    heatmap = plt.pcolor(heatmap_array.T , cmap = trunc_cmap , norm = norm , edgecolors = '1.0', linewidth = 0.35)\n",
    "\n",
    "    #X-TICKS\n",
    "    #------------------------------------------------------------------------------------------------------------------------\n",
    "    axmatrix.set_xticks(np.arange(0 , 101 , 10) + 0.5, minor=False)\n",
    "    axmatrix.set_xticklabels( [str(float(decimal.Decimal(str(tick_i)))) for tick_i in np.arange(0.0 , 1.01 , 0.10) ] , rotation='horizontal', fontsize = 7)\n",
    "    axmatrix.tick_params(labelsize=8 , pad = 1.5 , axis = 'x')\n",
    "\n",
    "    #Y-TICKS\n",
    "    #------------------------------------------------------------------------------------------------------------------------\n",
    "    axmatrix.set_yticks(np.arange(0 , 101 , 10) + 0.5, minor=False)\n",
    "    axmatrix.set_yticklabels( [str(float(decimal.Decimal(str(tick_i)))) for tick_i in np.arange(0.0 , 1.01 , 0.10) ] , rotation='horizontal', fontsize = 7)\n",
    "    axmatrix.tick_params(labelsize=8 , pad = 1.5 , axis = 'y')\n",
    "\n",
    "    #COLORBAR\n",
    "    #------------------------------------------------------------------------------------------------------------------------\n",
    "    color_bar_ax = fig.add_subplot(gs[1])\n",
    "    cb = plt.colorbar( heatmap , cax = color_bar_ax , orientation = 'horizontal' , ticks = [0] + list( np.ceil( np.logspace( math.log(1 , 5) , math.log(int(np.max( heatmap_array )) , 5)  , num = 9 , base = 5)).astype(int) ) + [int(np.max( heatmap_array ))] ) \n",
    "    cb.outline.set_linewidth(0.0)\n",
    "    color_bar_ax.tick_params(labelsize=7 , pad = 3)\n",
    "    \n",
    "    plt.tick_params(\n",
    "    axis='x',          # changes apply to the x-axis\n",
    "    which='both',      # both major and minor ticks are affected\n",
    "    bottom=False,      # ticks along the bottom edge are off\n",
    "    top=False,         # ticks along the top edge are off\n",
    "    labelbottom=True) # labels along the bottom edge are off\n",
    "    #------------------------------------------------------------------------------------------------------------------------\n",
    "\n",
    "    axmatrix.set_ylabel('Alternate Allele Frequency at Timepoint 2' , color = 'k' , fontsize = 10)\n",
    "    axmatrix.set_xlabel('Alternate Allele Frequency at Timepoint 1' , color = 'k' , fontsize = 10)\n",
    "    axmatrix.set_title( 'Trajectories of 1939 SNPs in AR-associated Regions with $\\Delta AF >= 5 \\%$\\nacross all Subjects' , fontsize = 10 , color = 'k')\n",
    "\n",
    "    axmatrix.tick_params(labelcolor = 'k')\n",
    "    \n",
    "    #output for Adobe Illustrator\n",
    "    plt.savefig(file_name, bbox_inches='tight', dpi = 300 , transparent = True)\n",
    "    \n",
    "    plt.show()\n",
    "\n",
    "    ##################################################################"
   ]
  },
  {
   "cell_type": "code",
   "execution_count": 27,
   "metadata": {},
   "outputs": [
    {
     "data": {
      "image/png": "[encoded data removed]",
      "text/plain": [
       "<Figure size 700x770 with 2 Axes>"
      ]
     },
     "metadata": {},
     "output_type": "display_data"
    }
   ],
   "source": [
    "#color within-host Base Calls w/ a difference in Alternate Allele Frequencies >= 1% in Green (SNPs that we ARE taking into account)\n",
    "X = alt_AF_1_array\n",
    "Y = alt_AF_2_array\n",
    "color_map = 'gist_gray_r'\n",
    "file_name = file_name = '/n/data1/hms/dbmi/farhat/Roger/inhost_TB_dynamics_project/figures/antibiotic_resistance_analysis/alt1_vs_alt2_for_AR_SNPs_failure_relapse_subjects_heatmap.pdf'\n",
    "heatmap_AF1_vs_AF2(X , Y , color_map , file_name)"
   ]
  },
  {
   "cell_type": "code",
   "execution_count": 27,
   "metadata": {},
   "outputs": [
    {
     "data": {
      "text/plain": [
       "1939"
      ]
     },
     "execution_count": 27,
     "metadata": {},
     "output_type": "execute_result"
    }
   ],
   "source": [
    "len(alt_AF_1_array)"
   ]
  },
  {
   "cell_type": "code",
   "execution_count": 28,
   "metadata": {},
   "outputs": [
    {
     "data": {
      "text/plain": [
       "1939"
      ]
     },
     "execution_count": 28,
     "metadata": {},
     "output_type": "execute_result"
    }
   ],
   "source": [
    "len(alt_AF_2_array)"
   ]
  },
  {
   "cell_type": "markdown",
   "metadata": {},
   "source": [
    "#### Calculate TPR & FPR (using an AR fixation threshold of 75%)"
   ]
  },
  {
   "cell_type": "code",
   "execution_count": 29,
   "metadata": {},
   "outputs": [],
   "source": [
    "AF_fixation_threshold = 0.75\n",
    "\n",
    "###########\n",
    "#DISCARD SNPs if AF1 >= AF_fixation_threshold and AF2 >= AF_fixation_threshold\n",
    "###########\n",
    "SNPs_fixed_both_timepoints = [ (AF1 >= AF_fixation_threshold) and (AF2 >= AF_fixation_threshold) for AF1 , AF2 in zip( alt_AF_1_array , alt_AF_2_array ) ]\n",
    "SNPs_not_fixed_both_timespoints = np.array( [not fixed_both_timepoints for fixed_both_timepoints in SNPs_fixed_both_timepoints] )\n",
    "\n",
    "alt_AF_1_array = alt_AF_1_array[SNPs_not_fixed_both_timespoints]\n",
    "\n",
    "alt_AF_2_array = alt_AF_2_array[SNPs_not_fixed_both_timespoints]\n",
    "###########"
   ]
  },
  {
   "cell_type": "code",
   "execution_count": 30,
   "metadata": {},
   "outputs": [
    {
     "data": {
      "text/plain": [
       "1919"
      ]
     },
     "execution_count": 30,
     "metadata": {},
     "output_type": "execute_result"
    }
   ],
   "source": [
    "len(alt_AF_1_array)"
   ]
  },
  {
   "cell_type": "code",
   "execution_count": 31,
   "metadata": {},
   "outputs": [
    {
     "data": {
      "text/plain": [
       "1919"
      ]
     },
     "execution_count": 31,
     "metadata": {},
     "output_type": "execute_result"
    }
   ],
   "source": [
    "len(alt_AF_2_array)"
   ]
  },
  {
   "cell_type": "markdown",
   "metadata": {},
   "source": [
    "#### How many of the 1,919 nSNPs had \n",
    "\n",
    "1. $AF_1 = 0\\%$ and $AF_2 > 75\\%$\n",
    "\n",
    "2. $AF_1 \\ge 1\\%$ and $AF_2 > 75\\%$\n",
    "\n",
    "these would be the SNPs undetectable in the first timepoint that swept and fixed"
   ]
  },
  {
   "cell_type": "code",
   "execution_count": 32,
   "metadata": {},
   "outputs": [
    {
     "data": {
      "text/plain": [
       "25"
      ]
     },
     "execution_count": 32,
     "metadata": {},
     "output_type": "execute_result"
    }
   ],
   "source": [
    "np.sum((alt_AF_1_array == 0) & (alt_AF_2_array > 0.75))"
   ]
  },
  {
   "cell_type": "code",
   "execution_count": 33,
   "metadata": {},
   "outputs": [
    {
     "data": {
      "text/plain": [
       "12"
      ]
     },
     "execution_count": 33,
     "metadata": {},
     "output_type": "execute_result"
    }
   ],
   "source": [
    "np.sum((alt_AF_1_array >= 0.01) & (alt_AF_2_array > 0.75))"
   ]
  },
  {
   "cell_type": "code",
   "execution_count": 34,
   "metadata": {},
   "outputs": [],
   "source": [
    "#take arrays for AF1 , AF2 and join into 1 array\n",
    "alt_AF_array = np.vstack((alt_AF_1_array , alt_AF_2_array))\n",
    "alt_AF_array = alt_AF_array.T\n",
    "\n",
    "#rates of True Positives for every alt_AF1 classfier\n",
    "TP_dict = {}\n",
    "\n",
    "#rates of False Positives for every alt_AF1 classfier\n",
    "FP_dict = {}\n",
    "\n",
    "num_SNPs = float(len(alt_AF_1_array))\n",
    "\n",
    "for alt_AF in np.arange(0.0 , 1.01 , 0.01):\n",
    "    \n",
    "    #boolean for SNPs with alt AF1 >= alt_AF varying classifier\n",
    "    SNPs_classified_as_fixed_bool = alt_AF_array[: , 0] >= alt_AF\n",
    "\n",
    "    #boolean for SNPs with alt AF2 >= fixation threshold\n",
    "    SNPs_actually_fixed_bool = alt_AF_array[: , 1] >= AF_fixation_threshold\n",
    "\n",
    "    #True Positives: SNPs classified as going to fix (alt AF1 >= varying freq) and actually fixed ( alt AF2 >= fixation threshold )\n",
    "    TP_bool = [(classified_fixed) and (fixed) for classified_fixed , fixed in zip(SNPs_classified_as_fixed_bool , SNPs_actually_fixed_bool)]\n",
    "\n",
    "    #False Positives: SNPs classfifed as going to fix (alt AF1 >= varying freq) and NOT fixed (alt AF2 < fixation threshold)\n",
    "    FP_bool = [(classified_fixed) and (not fixed) for classified_fixed , fixed in zip(SNPs_classified_as_fixed_bool , SNPs_actually_fixed_bool)]\n",
    "    \n",
    "    #True Negatives: SNPs not classified as going to fix (alt AF1 < varying freq) and NOT fixed (alt AF2 < fixation threshold)\n",
    "    TN_bool = [(not classified_fixed) and (not fixed) for classified_fixed , fixed in zip(SNPs_classified_as_fixed_bool , SNPs_actually_fixed_bool)]\n",
    "    \n",
    "    #False Negatives : SNPs not classified as going to fix (alt AF1 < varying freq) and actually fixed ( alt AF2 >= fixation threshold )\n",
    "    FN_bool = [(not classified_fixed) and (fixed) for classified_fixed , fixed in zip(SNPs_classified_as_fixed_bool , SNPs_actually_fixed_bool)]\n",
    "\n",
    "    #calculate True & False positive rates\n",
    "    TP_rate = float(sum(TP_bool)) / float(sum(TP_bool) + sum(FN_bool))\n",
    "    FP_rate = float(sum(FP_bool)) / float(sum(FP_bool) + sum(TN_bool))\n",
    "    \n",
    "    TP_dict[alt_AF] = TP_rate\n",
    "    FP_dict[alt_AF] = FP_rate\n",
    "\n",
    "#convert dicts -> series\n",
    "TP_rates = pd.Series(TP_dict)\n",
    "FP_rates = pd.Series(FP_dict)"
   ]
  },
  {
   "cell_type": "code",
   "execution_count": 35,
   "metadata": {},
   "outputs": [],
   "source": [
    "plt.style.use('ggplot')\n",
    "plt.rcParams['lines.linewidth']=0\n",
    "plt.rcParams['axes.facecolor']='1.0'\n",
    "plt.rcParams['xtick.color']='black'\n",
    "plt.rcParams['axes.grid']=False\n",
    "plt.rcParams['axes.edgecolor']='black'\n",
    "plt.rcParams['grid.color']= '1.0'\n",
    "plt.rcParams.update({'font.size': 14})"
   ]
  },
  {
   "cell_type": "code",
   "execution_count": 36,
   "metadata": {},
   "outputs": [
    {
     "data": {
      "image/png": "[encoded data removed]",
      "text/plain": [
       "<Figure size 504x504 with 1 Axes>"
      ]
     },
     "metadata": {},
     "output_type": "display_data"
    }
   ],
   "source": [
    "fig , ax = plt.subplots()\n",
    "epsilon = 0.02\n",
    "\n",
    "#use this to change size of points as AF1 classifier increases\n",
    "AF1_classifying_thresholds = np.arange(0.0 , 1.01 , 0.01)\n",
    "\n",
    "plt.scatter( AF1_classifying_thresholds , TP_rates , color = '1.0' , marker = 'o' , edgecolor = 'blue' , linewidth = 1.25 , alpha = 0.80 , s = 50)\n",
    "plt.scatter( AF1_classifying_thresholds , FP_rates , color = '1.0' , marker = 'o' , edgecolor = 'red' , linewidth = 1.25 , alpha = 0.80 , s = 50)\n",
    "plt.scatter( 0.19 , TP_rates[0.19] , color = 'blue' , marker = 'o')\n",
    "plt.scatter( 0.19 , FP_rates[0.19] , color = 'red' , marker = 'o')\n",
    "\n",
    "plt.plot([0.0 , 1.0] , [0.05 , 0.05] , c = '0.5', linestyle = '-' , linewidth = 1.25)\n",
    "\n",
    "ax.spines['right'].set_visible(False)\n",
    "ax.spines['top'].set_visible(False)\n",
    "\n",
    "ax.tick_params(labelcolor = 'k')\n",
    "\n",
    "plt.ylabel('True Positive Rate (blue) \\ False Positive Rate (red)' , fontweight = 'bold', fontsize = 11 , color = 'k')\n",
    "plt.xlabel('AF1 Threshold' , fontweight = 'bold', fontsize = 11 , color = 'k')\n",
    "\n",
    "plt.title( 'TPR/FPR analysis of 1919 SNPs in AR-associated Regions with\\n$\\Delta AF >= 5 \\%$ across all Subjects', fontsize = 11 , color = 'k')\n",
    "\n",
    "plt.xlim(0.0 - epsilon , 1.0 + epsilon)\n",
    "plt.ylim(0.0 - epsilon , 1.0 + epsilon)\n",
    "\n",
    "fig = plt.gcf()\n",
    "fig.set_size_inches(7.0, 7.0)\n",
    "fig.tight_layout()\n",
    "\n",
    "file_name = '/n/data1/hms/dbmi/farhat/Roger/inhost_TB_dynamics_project/figures/antibiotic_resistance_analysis/TPR_FPR_vs_AF1_threshold_for_AR_SNPs_all_subjects_fixation_thresh_75.pdf'\n",
    "plt.savefig(file_name, bbox_inches='tight', dpi = 300 , transparent = True)\n",
    "\n",
    "plt.show()"
   ]
  },
  {
   "cell_type": "code",
   "execution_count": 37,
   "metadata": {},
   "outputs": [
    {
     "data": {
      "text/plain": [
       "0.19    0.042508\n",
       "0.20    0.037194\n",
       "0.21    0.032412\n",
       "0.22    0.025505\n",
       "0.23    0.019660\n",
       "dtype: float64"
      ]
     },
     "execution_count": 37,
     "metadata": {},
     "output_type": "execute_result"
    }
   ],
   "source": [
    "FP_rates[FP_rates <= 0.05].head()"
   ]
  },
  {
   "cell_type": "markdown",
   "metadata": {},
   "source": [
    "Sensitivity"
   ]
  },
  {
   "cell_type": "code",
   "execution_count": 38,
   "metadata": {},
   "outputs": [
    {
     "data": {
      "text/plain": [
       "0.2702702702702703"
      ]
     },
     "execution_count": 38,
     "metadata": {},
     "output_type": "execute_result"
    }
   ],
   "source": [
    "TP_rates[0.19]"
   ]
  },
  {
   "cell_type": "markdown",
   "metadata": {},
   "source": [
    "Specificity"
   ]
  },
  {
   "cell_type": "code",
   "execution_count": 39,
   "metadata": {
    "scrolled": true
   },
   "outputs": [
    {
     "data": {
      "text/plain": [
       "0.9574920297555791"
      ]
     },
     "execution_count": 39,
     "metadata": {},
     "output_type": "execute_result"
    }
   ],
   "source": [
    "1 - FP_rates[0.19]"
   ]
  },
  {
   "cell_type": "code",
   "execution_count": 40,
   "metadata": {
    "scrolled": true
   },
   "outputs": [
    {
     "name": "stdout",
     "output_type": "stream",
     "text": [
      "10\n"
     ]
    }
   ],
   "source": [
    "TP = sum( [ (AF1 >= 0.19) and (AF2 >= AF_fixation_threshold) for AF1 , AF2 in zip( list(alt_AF_array[: , 0]) , list(alt_AF_array[: , 1]) ) ] )\n",
    "print TP"
   ]
  },
  {
   "cell_type": "code",
   "execution_count": 41,
   "metadata": {},
   "outputs": [
    {
     "name": "stdout",
     "output_type": "stream",
     "text": [
      "80\n"
     ]
    }
   ],
   "source": [
    "FP = sum( [ (AF1 >= 0.19) and (AF2 < AF_fixation_threshold) for AF1 , AF2 in zip( list(alt_AF_array[: , 0]) , list(alt_AF_array[: , 1]) ) ] )\n",
    "print FP"
   ]
  },
  {
   "cell_type": "code",
   "execution_count": 42,
   "metadata": {},
   "outputs": [
    {
     "name": "stdout",
     "output_type": "stream",
     "text": [
      "1802\n"
     ]
    }
   ],
   "source": [
    "TN = sum( [ (AF1 < 0.19) and (AF2 < AF_fixation_threshold) for AF1 , AF2 in zip( list(alt_AF_array[: , 0]) , list(alt_AF_array[: , 1]) ) ] )\n",
    "print TN"
   ]
  },
  {
   "cell_type": "code",
   "execution_count": 43,
   "metadata": {},
   "outputs": [
    {
     "name": "stdout",
     "output_type": "stream",
     "text": [
      "27\n"
     ]
    }
   ],
   "source": [
    "FN = sum( [ (AF1 < 0.19) and (AF2 >= AF_fixation_threshold) for AF1 , AF2 in zip( list(alt_AF_array[: , 0]) , list(alt_AF_array[: , 1]) ) ] )\n",
    "print FN"
   ]
  },
  {
   "cell_type": "code",
   "execution_count": 44,
   "metadata": {},
   "outputs": [
    {
     "name": "stdout",
     "output_type": "stream",
     "text": [
      "0.27027027027\n"
     ]
    }
   ],
   "source": [
    "Sensitivity = float(TP) / (float(TP) + float(FN))\n",
    "print Sensitivity"
   ]
  },
  {
   "cell_type": "code",
   "execution_count": 45,
   "metadata": {},
   "outputs": [
    {
     "name": "stdout",
     "output_type": "stream",
     "text": [
      "0.957492029756\n"
     ]
    }
   ],
   "source": [
    "Specificity = 1 - (float(FP) / (float(FP) + float(TN)))\n",
    "print Specificity"
   ]
  },
  {
   "cell_type": "markdown",
   "metadata": {},
   "source": [
    "Get the number of isolates that had $19\\% \\le \\text{AF}_1 <75\\%$ and $\\text{AF}_2 \\ge 75\\%$"
   ]
  },
  {
   "cell_type": "code",
   "execution_count": 46,
   "metadata": {},
   "outputs": [],
   "source": [
    "bool_filter = np.array( [ (AF1 >= 0.19) and (AF2 >= AF_fixation_threshold) for AF1 , AF2 in zip( list(alt_AF_array[: , 0]) , list(alt_AF_array[: , 1]) ) ] )"
   ]
  },
  {
   "cell_type": "code",
   "execution_count": 47,
   "metadata": {},
   "outputs": [
    {
     "data": {
      "text/plain": [
       "array([0.62, 0.67, 0.65, 0.74, 0.42, 0.61, 0.38, 0.41, 0.58, 0.57])"
      ]
     },
     "execution_count": 47,
     "metadata": {},
     "output_type": "execute_result"
    }
   ],
   "source": [
    "alt_AF_array[: , 0][bool_filter]"
   ]
  },
  {
   "cell_type": "code",
   "execution_count": 48,
   "metadata": {},
   "outputs": [
    {
     "data": {
      "text/plain": [
       "array([1.  , 0.99, 1.  , 1.  , 0.79, 1.  , 0.96, 1.  , 1.  , 1.  ])"
      ]
     },
     "execution_count": 48,
     "metadata": {},
     "output_type": "execute_result"
    }
   ],
   "source": [
    "alt_AF_array[: , 1][bool_filter]"
   ]
  },
  {
   "cell_type": "code",
   "execution_count": 49,
   "metadata": {
    "scrolled": true
   },
   "outputs": [
    {
     "name": "stdout",
     "output_type": "stream",
     "text": [
      "0.409\n"
     ]
    }
   ],
   "source": [
    "print np.mean( alt_AF_array[: , 1][bool_filter] - alt_AF_array[: , 0][bool_filter] )"
   ]
  },
  {
   "cell_type": "markdown",
   "metadata": {},
   "source": [
    "#### Breakdown of SNPs that fixed"
   ]
  },
  {
   "cell_type": "markdown",
   "metadata": {},
   "source": [
    "$\\text{AF}_1 \\ge 19\\%$ and $\\text{AF}_2 \\ge 75\\%$"
   ]
  },
  {
   "cell_type": "code",
   "execution_count": 56,
   "metadata": {},
   "outputs": [
    {
     "data": {
      "text/plain": [
       "10"
      ]
     },
     "execution_count": 56,
     "metadata": {},
     "output_type": "execute_result"
    }
   ],
   "source": [
    "sum( [ (AF1 >= 0.19) and (AF2 >= AF_fixation_threshold) for AF1 , AF2 in zip( list(alt_AF_array[: , 0]) , list(alt_AF_array[: , 1]) ) ] ) #TP"
   ]
  },
  {
   "cell_type": "markdown",
   "metadata": {},
   "source": [
    "$0\\% < \\text{AF}_1 < 19\\%$ and $\\text{AF}_2 \\ge 75\\%$"
   ]
  },
  {
   "cell_type": "code",
   "execution_count": 57,
   "metadata": {},
   "outputs": [
    {
     "data": {
      "text/plain": [
       "2"
      ]
     },
     "execution_count": 57,
     "metadata": {},
     "output_type": "execute_result"
    }
   ],
   "source": [
    "sum( [ (0 < AF1 < 0.19) and (AF2 >= AF_fixation_threshold) for AF1 , AF2 in zip( list(alt_AF_array[: , 0]) , list(alt_AF_array[: , 1]) ) ] ) #FN"
   ]
  },
  {
   "cell_type": "markdown",
   "metadata": {},
   "source": [
    "$\\text{AF}_1 = 0\\%$ and $\\text{AF}_2 \\ge 75\\%$"
   ]
  },
  {
   "cell_type": "code",
   "execution_count": 58,
   "metadata": {},
   "outputs": [
    {
     "data": {
      "text/plain": [
       "25"
      ]
     },
     "execution_count": 58,
     "metadata": {},
     "output_type": "execute_result"
    }
   ],
   "source": [
    "sum( [ (AF1 == 0) and (AF2 >= AF_fixation_threshold) for AF1 , AF2 in zip( list(alt_AF_array[: , 0]) , list(alt_AF_array[: , 1]) ) ] ) #FN"
   ]
  },
  {
   "cell_type": "markdown",
   "metadata": {},
   "source": [
    "#### Breakdown of SNPs that didn't fix"
   ]
  },
  {
   "cell_type": "markdown",
   "metadata": {},
   "source": [
    "$\\text{AF}_1 \\ge 19\\%$ and $\\text{AF}_2 < 75\\%$"
   ]
  },
  {
   "cell_type": "code",
   "execution_count": 59,
   "metadata": {},
   "outputs": [
    {
     "data": {
      "text/plain": [
       "80"
      ]
     },
     "execution_count": 59,
     "metadata": {},
     "output_type": "execute_result"
    }
   ],
   "source": [
    "sum( [ (AF1 >= 0.19) and (AF2 < AF_fixation_threshold) for AF1 , AF2 in zip( list(alt_AF_array[: , 0]) , list(alt_AF_array[: , 1]) ) ] )"
   ]
  },
  {
   "cell_type": "markdown",
   "metadata": {},
   "source": [
    "$0\\% < \\text{AF}_1 < 19\\%$ and $\\text{AF}_2 < 75\\%$"
   ]
  },
  {
   "cell_type": "code",
   "execution_count": 60,
   "metadata": {},
   "outputs": [
    {
     "data": {
      "text/plain": [
       "1342"
      ]
     },
     "execution_count": 60,
     "metadata": {},
     "output_type": "execute_result"
    }
   ],
   "source": [
    "sum( [ (0 < AF1 < 0.19) and (AF2 < AF_fixation_threshold) for AF1 , AF2 in zip( list(alt_AF_array[: , 0]) , list(alt_AF_array[: , 1]) ) ] )"
   ]
  },
  {
   "cell_type": "markdown",
   "metadata": {},
   "source": [
    "$\\text{AF}_1 = 0\\%$ and $\\text{AF}_2 < 75\\%$"
   ]
  },
  {
   "cell_type": "code",
   "execution_count": 61,
   "metadata": {},
   "outputs": [
    {
     "data": {
      "text/plain": [
       "460"
      ]
     },
     "execution_count": 61,
     "metadata": {},
     "output_type": "execute_result"
    }
   ],
   "source": [
    "sum( [ (AF1 == 0) and (AF2 < AF_fixation_threshold) for AF1 , AF2 in zip( list(alt_AF_array[: , 0]) , list(alt_AF_array[: , 1]) ) ] )"
   ]
  },
  {
   "cell_type": "markdown",
   "metadata": {
    "collapsed": true
   },
   "source": [
    "#### In how many isolate/subjects did the above SNPs appear within?"
   ]
  },
  {
   "cell_type": "code",
   "execution_count": 50,
   "metadata": {},
   "outputs": [
    {
     "data": {
      "text/plain": [
       "(3878, 19)"
      ]
     },
     "execution_count": 50,
     "metadata": {},
     "output_type": "execute_result"
    }
   ],
   "source": [
    "np.shape(within_host_Base_Call_variants_all_patients_sample_order)"
   ]
  },
  {
   "cell_type": "code",
   "execution_count": 51,
   "metadata": {},
   "outputs": [
    {
     "data": {
      "text/html": [
       "<div>\n",
       "<style>\n",
       "    .dataframe thead tr:only-child th {\n",
       "        text-align: right;\n",
       "    }\n",
       "\n",
       "    .dataframe thead th {\n",
       "        text-align: left;\n",
       "    }\n",
       "\n",
       "    .dataframe tbody tr th {\n",
       "        vertical-align: top;\n",
       "    }\n",
       "</style>\n",
       "<table border=\"1\" class=\"dataframe\">\n",
       "  <thead>\n",
       "    <tr style=\"text-align: right;\">\n",
       "      <th></th>\n",
       "      <th>ref_base</th>\n",
       "      <th>alt_base</th>\n",
       "      <th>ref_position</th>\n",
       "      <th>quality</th>\n",
       "      <th>SNP_type</th>\n",
       "      <th>PASS_filter</th>\n",
       "      <th>INFO</th>\n",
       "      <th>alt_AF</th>\n",
       "      <th>depth</th>\n",
       "      <th>tag</th>\n",
       "      <th>population</th>\n",
       "      <th>patient_id</th>\n",
       "      <th>gene_id</th>\n",
       "      <th>gene_coord</th>\n",
       "      <th>gene_category</th>\n",
       "      <th>gene_symbol</th>\n",
       "      <th>SNP_ftype</th>\n",
       "      <th>AA_change</th>\n",
       "      <th>sample_order</th>\n",
       "    </tr>\n",
       "  </thead>\n",
       "  <tbody>\n",
       "    <tr>\n",
       "      <th>0</th>\n",
       "      <td>T</td>\n",
       "      <td>G</td>\n",
       "      <td>2726338</td>\n",
       "      <td>867</td>\n",
       "      <td>Ref_PASS</td>\n",
       "      <td>[]</td>\n",
       "      <td>{u'QP': [0, 0, 12, 87], u'AC': [0], u'AF': [0....</td>\n",
       "      <td>0.12</td>\n",
       "      <td>62</td>\n",
       "      <td>ERR108174</td>\n",
       "      <td>BRYANT</td>\n",
       "      <td>4024R</td>\n",
       "      <td>Rv2428</td>\n",
       "      <td>146</td>\n",
       "      <td>Antibiotic Resistance</td>\n",
       "      <td>ahpC</td>\n",
       "      <td>N</td>\n",
       "      <td>V49G</td>\n",
       "      <td>2</td>\n",
       "    </tr>\n",
       "    <tr>\n",
       "      <th>1</th>\n",
       "      <td>T</td>\n",
       "      <td>G</td>\n",
       "      <td>2726338</td>\n",
       "      <td>182</td>\n",
       "      <td>Ref_PASS</td>\n",
       "      <td>[]</td>\n",
       "      <td>{u'QP': [0, 0, 22, 77], u'AC': [0], u'AF': [0....</td>\n",
       "      <td>0.22</td>\n",
       "      <td>73</td>\n",
       "      <td>ERR108173</td>\n",
       "      <td>BRYANT</td>\n",
       "      <td>4024R</td>\n",
       "      <td>Rv2428</td>\n",
       "      <td>146</td>\n",
       "      <td>Antibiotic Resistance</td>\n",
       "      <td>ahpC</td>\n",
       "      <td>N</td>\n",
       "      <td>V49G</td>\n",
       "      <td>1</td>\n",
       "    </tr>\n",
       "  </tbody>\n",
       "</table>\n",
       "</div>"
      ],
      "text/plain": [
       "  ref_base alt_base  ref_position  quality  SNP_type PASS_filter  \\\n",
       "0        T        G       2726338      867  Ref_PASS          []   \n",
       "1        T        G       2726338      182  Ref_PASS          []   \n",
       "\n",
       "                                                INFO  alt_AF  depth  \\\n",
       "0  {u'QP': [0, 0, 12, 87], u'AC': [0], u'AF': [0....    0.12     62   \n",
       "1  {u'QP': [0, 0, 22, 77], u'AC': [0], u'AF': [0....    0.22     73   \n",
       "\n",
       "         tag population patient_id gene_id gene_coord          gene_category  \\\n",
       "0  ERR108174     BRYANT      4024R  Rv2428        146  Antibiotic Resistance   \n",
       "1  ERR108173     BRYANT      4024R  Rv2428        146  Antibiotic Resistance   \n",
       "\n",
       "  gene_symbol SNP_ftype AA_change  sample_order  \n",
       "0        ahpC         N      V49G             2  \n",
       "1        ahpC         N      V49G             1  "
      ]
     },
     "execution_count": 51,
     "metadata": {},
     "output_type": "execute_result"
    }
   ],
   "source": [
    "within_host_Base_Call_variants_all_patients_sample_order.head(n=2)"
   ]
  },
  {
   "cell_type": "code",
   "execution_count": 52,
   "metadata": {},
   "outputs": [],
   "source": [
    "Base_Call_indices_to_keep = []\n",
    "\n",
    "#for each pair of Base Calls, store (alternate Allele Frequency of isolate_1) and (alternate Allele Frequency of isolate_2 - alternate Allele Frequency of isolate_1)\n",
    "for Base_Call_A_index , Base_Call_B_index in zip( range(0 , np.shape(within_host_Base_Call_variants_all_patients_sample_order)[0] , 2) , range(1 , np.shape(within_host_Base_Call_variants_all_patients_sample_order)[0] , 2) ):\n",
    "    \n",
    "    #pull alternate AFs\n",
    "    if within_host_Base_Call_variants_all_patients_sample_order.loc[Base_Call_A_index , 'sample_order'] == 1:\n",
    "        \n",
    "        alt_AF_1 = within_host_Base_Call_variants_all_patients_sample_order.loc[Base_Call_A_index , 'alt_AF']\n",
    "        alt_AF_2 = within_host_Base_Call_variants_all_patients_sample_order.loc[Base_Call_B_index , 'alt_AF']\n",
    "        \n",
    "        if not( (alt_AF_1 >= AF_fixation_threshold) and (alt_AF_2 >= AF_fixation_threshold) ):\n",
    "        \n",
    "            if (alt_AF_1 >= 0.19) and (alt_AF_2 >= AF_fixation_threshold):\n",
    "                Base_Call_indices_to_keep.append(Base_Call_A_index)\n",
    "                Base_Call_indices_to_keep.append(Base_Call_B_index)\n",
    "        \n",
    "    elif within_host_Base_Call_variants_all_patients_sample_order.loc[Base_Call_A_index , 'sample_order'] == 2:\n",
    "        \n",
    "        alt_AF_2 = within_host_Base_Call_variants_all_patients_sample_order.loc[Base_Call_A_index , 'alt_AF']\n",
    "        alt_AF_1 = within_host_Base_Call_variants_all_patients_sample_order.loc[Base_Call_B_index , 'alt_AF']\n",
    "        \n",
    "        if not( (alt_AF_1 >= AF_fixation_threshold) and (alt_AF_2 >= AF_fixation_threshold) ):\n",
    "        \n",
    "            if (alt_AF_1 >= 0.19) and (alt_AF_2 >= AF_fixation_threshold):\n",
    "                Base_Call_indices_to_keep.append(Base_Call_A_index)\n",
    "                Base_Call_indices_to_keep.append(Base_Call_B_index)"
   ]
  },
  {
   "cell_type": "code",
   "execution_count": 53,
   "metadata": {},
   "outputs": [
    {
     "name": "stdout",
     "output_type": "stream",
     "text": [
      "10.0\n"
     ]
    }
   ],
   "source": [
    "print(float(len(Base_Call_indices_to_keep)) / 2) #number of mutations that fit criteria"
   ]
  },
  {
   "cell_type": "code",
   "execution_count": 54,
   "metadata": {
    "scrolled": false
   },
   "outputs": [
    {
     "data": {
      "text/html": [
       "<div>\n",
       "<style>\n",
       "    .dataframe thead tr:only-child th {\n",
       "        text-align: right;\n",
       "    }\n",
       "\n",
       "    .dataframe thead th {\n",
       "        text-align: left;\n",
       "    }\n",
       "\n",
       "    .dataframe tbody tr th {\n",
       "        vertical-align: top;\n",
       "    }\n",
       "</style>\n",
       "<table border=\"1\" class=\"dataframe\">\n",
       "  <thead>\n",
       "    <tr style=\"text-align: right;\">\n",
       "      <th></th>\n",
       "      <th>ref_base</th>\n",
       "      <th>alt_base</th>\n",
       "      <th>ref_position</th>\n",
       "      <th>quality</th>\n",
       "      <th>SNP_type</th>\n",
       "      <th>PASS_filter</th>\n",
       "      <th>INFO</th>\n",
       "      <th>alt_AF</th>\n",
       "      <th>depth</th>\n",
       "      <th>tag</th>\n",
       "      <th>population</th>\n",
       "      <th>patient_id</th>\n",
       "      <th>gene_id</th>\n",
       "      <th>gene_coord</th>\n",
       "      <th>gene_category</th>\n",
       "      <th>gene_symbol</th>\n",
       "      <th>SNP_ftype</th>\n",
       "      <th>AA_change</th>\n",
       "      <th>sample_order</th>\n",
       "    </tr>\n",
       "  </thead>\n",
       "  <tbody>\n",
       "    <tr>\n",
       "      <th>10</th>\n",
       "      <td>G</td>\n",
       "      <td>T</td>\n",
       "      <td>2289042</td>\n",
       "      <td>4905</td>\n",
       "      <td>Amb</td>\n",
       "      <td>[Amb]</td>\n",
       "      <td>{u'QP': [0, 0, 38, 62], u'AC': [1], u'AF': [0....</td>\n",
       "      <td>0.62</td>\n",
       "      <td>249</td>\n",
       "      <td>Peru5139</td>\n",
       "      <td>CETR</td>\n",
       "      <td>2968</td>\n",
       "      <td>Rv2043c</td>\n",
       "      <td>200</td>\n",
       "      <td>Antibiotic Resistance</td>\n",
       "      <td>pncA</td>\n",
       "      <td>N</td>\n",
       "      <td>S67*</td>\n",
       "      <td>1</td>\n",
       "    </tr>\n",
       "    <tr>\n",
       "      <th>11</th>\n",
       "      <td>G</td>\n",
       "      <td>T</td>\n",
       "      <td>2289042</td>\n",
       "      <td>14023</td>\n",
       "      <td>Alt_PASS</td>\n",
       "      <td>[]</td>\n",
       "      <td>{u'QP': [0, 0, 0, 99], u'AC': [2], u'AF': [1.0...</td>\n",
       "      <td>1.00</td>\n",
       "      <td>371</td>\n",
       "      <td>Peru5140</td>\n",
       "      <td>CETR</td>\n",
       "      <td>2968</td>\n",
       "      <td>Rv2043c</td>\n",
       "      <td>200</td>\n",
       "      <td>Antibiotic Resistance</td>\n",
       "      <td>pncA</td>\n",
       "      <td>N</td>\n",
       "      <td>S67*</td>\n",
       "      <td>2</td>\n",
       "    </tr>\n",
       "    <tr>\n",
       "      <th>20</th>\n",
       "      <td>A</td>\n",
       "      <td>C</td>\n",
       "      <td>4407967</td>\n",
       "      <td>2309</td>\n",
       "      <td>Amb</td>\n",
       "      <td>[Amb]</td>\n",
       "      <td>{u'QP': [33, 67, 0, 0], u'AC': [1], u'AF': [0....</td>\n",
       "      <td>0.67</td>\n",
       "      <td>194</td>\n",
       "      <td>Peru5139</td>\n",
       "      <td>CETR</td>\n",
       "      <td>2968</td>\n",
       "      <td>Rv3919c</td>\n",
       "      <td>236</td>\n",
       "      <td>Antibiotic Resistance</td>\n",
       "      <td>gid</td>\n",
       "      <td>N</td>\n",
       "      <td>L79W</td>\n",
       "      <td>1</td>\n",
       "    </tr>\n",
       "    <tr>\n",
       "      <th>21</th>\n",
       "      <td>A</td>\n",
       "      <td>C</td>\n",
       "      <td>4407967</td>\n",
       "      <td>14346</td>\n",
       "      <td>Alt_PASS</td>\n",
       "      <td>[]</td>\n",
       "      <td>{u'QP': [1, 99, 0, 0], u'AC': [2], u'AF': [0.9...</td>\n",
       "      <td>0.99</td>\n",
       "      <td>379</td>\n",
       "      <td>Peru5140</td>\n",
       "      <td>CETR</td>\n",
       "      <td>2968</td>\n",
       "      <td>Rv3919c</td>\n",
       "      <td>236</td>\n",
       "      <td>Antibiotic Resistance</td>\n",
       "      <td>gid</td>\n",
       "      <td>N</td>\n",
       "      <td>L79W</td>\n",
       "      <td>2</td>\n",
       "    </tr>\n",
       "    <tr>\n",
       "      <th>1030</th>\n",
       "      <td>A</td>\n",
       "      <td>C</td>\n",
       "      <td>7582</td>\n",
       "      <td>16742</td>\n",
       "      <td>Alt_PASS</td>\n",
       "      <td>[]</td>\n",
       "      <td>{u'QP': [0, 100, 0, 0], u'AC': [2], u'AF': [1....</td>\n",
       "      <td>1.00</td>\n",
       "      <td>426</td>\n",
       "      <td>Peru5132</td>\n",
       "      <td>CETR</td>\n",
       "      <td>2556</td>\n",
       "      <td>Rv0006</td>\n",
       "      <td>281</td>\n",
       "      <td>Antibiotic Resistance</td>\n",
       "      <td>gyrA</td>\n",
       "      <td>N</td>\n",
       "      <td>D94A</td>\n",
       "      <td>2</td>\n",
       "    </tr>\n",
       "    <tr>\n",
       "      <th>1031</th>\n",
       "      <td>A</td>\n",
       "      <td>C</td>\n",
       "      <td>7582</td>\n",
       "      <td>1391</td>\n",
       "      <td>Amb</td>\n",
       "      <td>[Amb]</td>\n",
       "      <td>{u'QP': [35, 65, 0, 0], u'AC': [1], u'AF': [0....</td>\n",
       "      <td>0.65</td>\n",
       "      <td>93</td>\n",
       "      <td>Peru4722</td>\n",
       "      <td>CETR</td>\n",
       "      <td>2556</td>\n",
       "      <td>Rv0006</td>\n",
       "      <td>281</td>\n",
       "      <td>Antibiotic Resistance</td>\n",
       "      <td>gyrA</td>\n",
       "      <td>N</td>\n",
       "      <td>D94A</td>\n",
       "      <td>1</td>\n",
       "    </tr>\n",
       "    <tr>\n",
       "      <th>1040</th>\n",
       "      <td>A</td>\n",
       "      <td>C</td>\n",
       "      <td>4326771</td>\n",
       "      <td>103</td>\n",
       "      <td>Amb</td>\n",
       "      <td>[Amb]</td>\n",
       "      <td>{u'QP': [26, 74, 0, 0], u'AC': [1], u'AF': [0....</td>\n",
       "      <td>0.74</td>\n",
       "      <td>102</td>\n",
       "      <td>Peru4722</td>\n",
       "      <td>CETR</td>\n",
       "      <td>2556</td>\n",
       "      <td>Rv3854c</td>\n",
       "      <td>703</td>\n",
       "      <td>Antibiotic Resistance</td>\n",
       "      <td>ethA</td>\n",
       "      <td>N</td>\n",
       "      <td>Y235D</td>\n",
       "      <td>1</td>\n",
       "    </tr>\n",
       "    <tr>\n",
       "      <th>1041</th>\n",
       "      <td>A</td>\n",
       "      <td>C</td>\n",
       "      <td>4326771</td>\n",
       "      <td>17723</td>\n",
       "      <td>Alt_PASS</td>\n",
       "      <td>[]</td>\n",
       "      <td>{u'QP': [0, 100, 0, 0], u'AC': [2], u'AF': [1....</td>\n",
       "      <td>1.00</td>\n",
       "      <td>460</td>\n",
       "      <td>Peru5132</td>\n",
       "      <td>CETR</td>\n",
       "      <td>2556</td>\n",
       "      <td>Rv3854c</td>\n",
       "      <td>703</td>\n",
       "      <td>Antibiotic Resistance</td>\n",
       "      <td>ethA</td>\n",
       "      <td>N</td>\n",
       "      <td>Y235D</td>\n",
       "      <td>2</td>\n",
       "    </tr>\n",
       "    <tr>\n",
       "      <th>1048</th>\n",
       "      <td>A</td>\n",
       "      <td>G</td>\n",
       "      <td>7582</td>\n",
       "      <td>756</td>\n",
       "      <td>Amb</td>\n",
       "      <td>[Amb]</td>\n",
       "      <td>{u'QP': [58, 0, 42, 0], u'AC': [1], u'AF': [0....</td>\n",
       "      <td>0.42</td>\n",
       "      <td>31</td>\n",
       "      <td>Peru4690</td>\n",
       "      <td>CETR</td>\n",
       "      <td>2319</td>\n",
       "      <td>Rv0006</td>\n",
       "      <td>281</td>\n",
       "      <td>Antibiotic Resistance</td>\n",
       "      <td>gyrA</td>\n",
       "      <td>N</td>\n",
       "      <td>D94G</td>\n",
       "      <td>1</td>\n",
       "    </tr>\n",
       "    <tr>\n",
       "      <th>1049</th>\n",
       "      <td>A</td>\n",
       "      <td>G</td>\n",
       "      <td>7582</td>\n",
       "      <td>861</td>\n",
       "      <td>Alt_PASS</td>\n",
       "      <td>[]</td>\n",
       "      <td>{u'QP': [21, 0, 79, 0], u'AC': [2], u'AF': [0....</td>\n",
       "      <td>0.79</td>\n",
       "      <td>128</td>\n",
       "      <td>Peru5120</td>\n",
       "      <td>CETR</td>\n",
       "      <td>2319</td>\n",
       "      <td>Rv0006</td>\n",
       "      <td>281</td>\n",
       "      <td>Antibiotic Resistance</td>\n",
       "      <td>gyrA</td>\n",
       "      <td>N</td>\n",
       "      <td>D94G</td>\n",
       "      <td>2</td>\n",
       "    </tr>\n",
       "    <tr>\n",
       "      <th>1056</th>\n",
       "      <td>C</td>\n",
       "      <td>T</td>\n",
       "      <td>4327350</td>\n",
       "      <td>3358</td>\n",
       "      <td>Alt_PASS</td>\n",
       "      <td>[]</td>\n",
       "      <td>{u'QP': [0, 0, 0, 100], u'AC': [2], u'AF': [1....</td>\n",
       "      <td>1.00</td>\n",
       "      <td>86</td>\n",
       "      <td>Peru5127</td>\n",
       "      <td>CETR</td>\n",
       "      <td>2491</td>\n",
       "      <td>Rv3854c</td>\n",
       "      <td>124</td>\n",
       "      <td>Antibiotic Resistance</td>\n",
       "      <td>ethA</td>\n",
       "      <td>N</td>\n",
       "      <td>G42S</td>\n",
       "      <td>2</td>\n",
       "    </tr>\n",
       "    <tr>\n",
       "      <th>1057</th>\n",
       "      <td>C</td>\n",
       "      <td>T</td>\n",
       "      <td>4327350</td>\n",
       "      <td>2937</td>\n",
       "      <td>Amb</td>\n",
       "      <td>[Amb]</td>\n",
       "      <td>{u'QP': [0, 39, 0, 61], u'AC': [1], u'AF': [0....</td>\n",
       "      <td>0.61</td>\n",
       "      <td>144</td>\n",
       "      <td>Peru4903</td>\n",
       "      <td>CETR</td>\n",
       "      <td>2491</td>\n",
       "      <td>Rv3854c</td>\n",
       "      <td>124</td>\n",
       "      <td>Antibiotic Resistance</td>\n",
       "      <td>ethA</td>\n",
       "      <td>N</td>\n",
       "      <td>G42S</td>\n",
       "      <td>1</td>\n",
       "    </tr>\n",
       "    <tr>\n",
       "      <th>1928</th>\n",
       "      <td>C</td>\n",
       "      <td>T</td>\n",
       "      <td>7570</td>\n",
       "      <td>41249</td>\n",
       "      <td>Alt_PASS</td>\n",
       "      <td>[]</td>\n",
       "      <td>{u'QP': [0, 4, 0, 96], u'AC': [2], u'AF': [0.9...</td>\n",
       "      <td>0.96</td>\n",
       "      <td>1442</td>\n",
       "      <td>ERR1352344</td>\n",
       "      <td>TRAUNER</td>\n",
       "      <td>P10</td>\n",
       "      <td>Rv0006</td>\n",
       "      <td>269</td>\n",
       "      <td>Antibiotic Resistance</td>\n",
       "      <td>gyrA</td>\n",
       "      <td>N</td>\n",
       "      <td>A90V</td>\n",
       "      <td>2</td>\n",
       "    </tr>\n",
       "    <tr>\n",
       "      <th>1929</th>\n",
       "      <td>C</td>\n",
       "      <td>T</td>\n",
       "      <td>7570</td>\n",
       "      <td>19759</td>\n",
       "      <td>Amb</td>\n",
       "      <td>[Amb]</td>\n",
       "      <td>{u'QP': [0, 62, 0, 38], u'AC': [1], u'AF': [0....</td>\n",
       "      <td>0.38</td>\n",
       "      <td>1084</td>\n",
       "      <td>ERR1352341</td>\n",
       "      <td>TRAUNER</td>\n",
       "      <td>P10</td>\n",
       "      <td>Rv0006</td>\n",
       "      <td>269</td>\n",
       "      <td>Antibiotic Resistance</td>\n",
       "      <td>gyrA</td>\n",
       "      <td>N</td>\n",
       "      <td>A90V</td>\n",
       "      <td>1</td>\n",
       "    </tr>\n",
       "    <tr>\n",
       "      <th>2286</th>\n",
       "      <td>C</td>\n",
       "      <td>T</td>\n",
       "      <td>7570</td>\n",
       "      <td>874</td>\n",
       "      <td>Amb</td>\n",
       "      <td>[Amb]</td>\n",
       "      <td>{u'QP': [0, 59, 0, 41], u'AC': [1], u'AF': [0....</td>\n",
       "      <td>0.41</td>\n",
       "      <td>36</td>\n",
       "      <td>Peru5112</td>\n",
       "      <td>CETR</td>\n",
       "      <td>1846</td>\n",
       "      <td>Rv0006</td>\n",
       "      <td>269</td>\n",
       "      <td>Antibiotic Resistance</td>\n",
       "      <td>gyrA</td>\n",
       "      <td>N</td>\n",
       "      <td>A90V</td>\n",
       "      <td>1</td>\n",
       "    </tr>\n",
       "    <tr>\n",
       "      <th>2287</th>\n",
       "      <td>C</td>\n",
       "      <td>T</td>\n",
       "      <td>7570</td>\n",
       "      <td>4052</td>\n",
       "      <td>Alt_PASS</td>\n",
       "      <td>[]</td>\n",
       "      <td>{u'QP': [0, 0, 0, 100], u'AC': [2], u'AF': [1....</td>\n",
       "      <td>1.00</td>\n",
       "      <td>104</td>\n",
       "      <td>Peru4322</td>\n",
       "      <td>CETR</td>\n",
       "      <td>1846</td>\n",
       "      <td>Rv0006</td>\n",
       "      <td>269</td>\n",
       "      <td>Antibiotic Resistance</td>\n",
       "      <td>gyrA</td>\n",
       "      <td>N</td>\n",
       "      <td>A90V</td>\n",
       "      <td>2</td>\n",
       "    </tr>\n",
       "    <tr>\n",
       "      <th>3586</th>\n",
       "      <td>A</td>\n",
       "      <td>G</td>\n",
       "      <td>2747471</td>\n",
       "      <td>1149</td>\n",
       "      <td>Amb</td>\n",
       "      <td>[Amb]</td>\n",
       "      <td>{u'QP': [42, 0, 58, 0], u'AC': [1], u'AF': [0....</td>\n",
       "      <td>0.58</td>\n",
       "      <td>52</td>\n",
       "      <td>SRR3742658</td>\n",
       "      <td>XU</td>\n",
       "      <td>D</td>\n",
       "      <td>Rv2447c</td>\n",
       "      <td>128</td>\n",
       "      <td>Antibiotic Resistance</td>\n",
       "      <td>folC</td>\n",
       "      <td>N</td>\n",
       "      <td>I43T</td>\n",
       "      <td>1</td>\n",
       "    </tr>\n",
       "    <tr>\n",
       "      <th>3587</th>\n",
       "      <td>A</td>\n",
       "      <td>G</td>\n",
       "      <td>2747471</td>\n",
       "      <td>1356</td>\n",
       "      <td>Alt_PASS</td>\n",
       "      <td>[]</td>\n",
       "      <td>{u'QP': [0, 0, 100, 0], u'AC': [2], u'AF': [1....</td>\n",
       "      <td>1.00</td>\n",
       "      <td>53</td>\n",
       "      <td>SRR3742662</td>\n",
       "      <td>XU</td>\n",
       "      <td>D</td>\n",
       "      <td>Rv2447c</td>\n",
       "      <td>128</td>\n",
       "      <td>Antibiotic Resistance</td>\n",
       "      <td>folC</td>\n",
       "      <td>N</td>\n",
       "      <td>I43T</td>\n",
       "      <td>2</td>\n",
       "    </tr>\n",
       "    <tr>\n",
       "      <th>3588</th>\n",
       "      <td>T</td>\n",
       "      <td>C</td>\n",
       "      <td>2747472</td>\n",
       "      <td>1203</td>\n",
       "      <td>Amb</td>\n",
       "      <td>[Amb]</td>\n",
       "      <td>{u'QP': [0, 57, 0, 43], u'AC': [1], u'AF': [0....</td>\n",
       "      <td>0.57</td>\n",
       "      <td>53</td>\n",
       "      <td>SRR3742658</td>\n",
       "      <td>XU</td>\n",
       "      <td>D</td>\n",
       "      <td>Rv2447c</td>\n",
       "      <td>127</td>\n",
       "      <td>Antibiotic Resistance</td>\n",
       "      <td>folC</td>\n",
       "      <td>N</td>\n",
       "      <td>I43V</td>\n",
       "      <td>1</td>\n",
       "    </tr>\n",
       "    <tr>\n",
       "      <th>3589</th>\n",
       "      <td>T</td>\n",
       "      <td>C</td>\n",
       "      <td>2747472</td>\n",
       "      <td>1422</td>\n",
       "      <td>Alt_PASS</td>\n",
       "      <td>[]</td>\n",
       "      <td>{u'QP': [0, 100, 0, 0], u'AC': [2], u'AF': [1....</td>\n",
       "      <td>1.00</td>\n",
       "      <td>54</td>\n",
       "      <td>SRR3742662</td>\n",
       "      <td>XU</td>\n",
       "      <td>D</td>\n",
       "      <td>Rv2447c</td>\n",
       "      <td>127</td>\n",
       "      <td>Antibiotic Resistance</td>\n",
       "      <td>folC</td>\n",
       "      <td>N</td>\n",
       "      <td>I43V</td>\n",
       "      <td>2</td>\n",
       "    </tr>\n",
       "  </tbody>\n",
       "</table>\n",
       "</div>"
      ],
      "text/plain": [
       "     ref_base alt_base  ref_position  quality  SNP_type PASS_filter  \\\n",
       "10          G        T       2289042     4905       Amb       [Amb]   \n",
       "11          G        T       2289042    14023  Alt_PASS          []   \n",
       "20          A        C       4407967     2309       Amb       [Amb]   \n",
       "21          A        C       4407967    14346  Alt_PASS          []   \n",
       "1030        A        C          7582    16742  Alt_PASS          []   \n",
       "1031        A        C          7582     1391       Amb       [Amb]   \n",
       "1040        A        C       4326771      103       Amb       [Amb]   \n",
       "1041        A        C       4326771    17723  Alt_PASS          []   \n",
       "1048        A        G          7582      756       Amb       [Amb]   \n",
       "1049        A        G          7582      861  Alt_PASS          []   \n",
       "1056        C        T       4327350     3358  Alt_PASS          []   \n",
       "1057        C        T       4327350     2937       Amb       [Amb]   \n",
       "1928        C        T          7570    41249  Alt_PASS          []   \n",
       "1929        C        T          7570    19759       Amb       [Amb]   \n",
       "2286        C        T          7570      874       Amb       [Amb]   \n",
       "2287        C        T          7570     4052  Alt_PASS          []   \n",
       "3586        A        G       2747471     1149       Amb       [Amb]   \n",
       "3587        A        G       2747471     1356  Alt_PASS          []   \n",
       "3588        T        C       2747472     1203       Amb       [Amb]   \n",
       "3589        T        C       2747472     1422  Alt_PASS          []   \n",
       "\n",
       "                                                   INFO  alt_AF  depth  \\\n",
       "10    {u'QP': [0, 0, 38, 62], u'AC': [1], u'AF': [0....    0.62    249   \n",
       "11    {u'QP': [0, 0, 0, 99], u'AC': [2], u'AF': [1.0...    1.00    371   \n",
       "20    {u'QP': [33, 67, 0, 0], u'AC': [1], u'AF': [0....    0.67    194   \n",
       "21    {u'QP': [1, 99, 0, 0], u'AC': [2], u'AF': [0.9...    0.99    379   \n",
       "1030  {u'QP': [0, 100, 0, 0], u'AC': [2], u'AF': [1....    1.00    426   \n",
       "1031  {u'QP': [35, 65, 0, 0], u'AC': [1], u'AF': [0....    0.65     93   \n",
       "1040  {u'QP': [26, 74, 0, 0], u'AC': [1], u'AF': [0....    0.74    102   \n",
       "1041  {u'QP': [0, 100, 0, 0], u'AC': [2], u'AF': [1....    1.00    460   \n",
       "1048  {u'QP': [58, 0, 42, 0], u'AC': [1], u'AF': [0....    0.42     31   \n",
       "1049  {u'QP': [21, 0, 79, 0], u'AC': [2], u'AF': [0....    0.79    128   \n",
       "1056  {u'QP': [0, 0, 0, 100], u'AC': [2], u'AF': [1....    1.00     86   \n",
       "1057  {u'QP': [0, 39, 0, 61], u'AC': [1], u'AF': [0....    0.61    144   \n",
       "1928  {u'QP': [0, 4, 0, 96], u'AC': [2], u'AF': [0.9...    0.96   1442   \n",
       "1929  {u'QP': [0, 62, 0, 38], u'AC': [1], u'AF': [0....    0.38   1084   \n",
       "2286  {u'QP': [0, 59, 0, 41], u'AC': [1], u'AF': [0....    0.41     36   \n",
       "2287  {u'QP': [0, 0, 0, 100], u'AC': [2], u'AF': [1....    1.00    104   \n",
       "3586  {u'QP': [42, 0, 58, 0], u'AC': [1], u'AF': [0....    0.58     52   \n",
       "3587  {u'QP': [0, 0, 100, 0], u'AC': [2], u'AF': [1....    1.00     53   \n",
       "3588  {u'QP': [0, 57, 0, 43], u'AC': [1], u'AF': [0....    0.57     53   \n",
       "3589  {u'QP': [0, 100, 0, 0], u'AC': [2], u'AF': [1....    1.00     54   \n",
       "\n",
       "             tag population patient_id  gene_id gene_coord  \\\n",
       "10      Peru5139       CETR       2968  Rv2043c        200   \n",
       "11      Peru5140       CETR       2968  Rv2043c        200   \n",
       "20      Peru5139       CETR       2968  Rv3919c        236   \n",
       "21      Peru5140       CETR       2968  Rv3919c        236   \n",
       "1030    Peru5132       CETR       2556   Rv0006        281   \n",
       "1031    Peru4722       CETR       2556   Rv0006        281   \n",
       "1040    Peru4722       CETR       2556  Rv3854c        703   \n",
       "1041    Peru5132       CETR       2556  Rv3854c        703   \n",
       "1048    Peru4690       CETR       2319   Rv0006        281   \n",
       "1049    Peru5120       CETR       2319   Rv0006        281   \n",
       "1056    Peru5127       CETR       2491  Rv3854c        124   \n",
       "1057    Peru4903       CETR       2491  Rv3854c        124   \n",
       "1928  ERR1352344    TRAUNER        P10   Rv0006        269   \n",
       "1929  ERR1352341    TRAUNER        P10   Rv0006        269   \n",
       "2286    Peru5112       CETR       1846   Rv0006        269   \n",
       "2287    Peru4322       CETR       1846   Rv0006        269   \n",
       "3586  SRR3742658         XU          D  Rv2447c        128   \n",
       "3587  SRR3742662         XU          D  Rv2447c        128   \n",
       "3588  SRR3742658         XU          D  Rv2447c        127   \n",
       "3589  SRR3742662         XU          D  Rv2447c        127   \n",
       "\n",
       "              gene_category gene_symbol SNP_ftype AA_change  sample_order  \n",
       "10    Antibiotic Resistance        pncA         N      S67*             1  \n",
       "11    Antibiotic Resistance        pncA         N      S67*             2  \n",
       "20    Antibiotic Resistance         gid         N      L79W             1  \n",
       "21    Antibiotic Resistance         gid         N      L79W             2  \n",
       "1030  Antibiotic Resistance        gyrA         N      D94A             2  \n",
       "1031  Antibiotic Resistance        gyrA         N      D94A             1  \n",
       "1040  Antibiotic Resistance        ethA         N     Y235D             1  \n",
       "1041  Antibiotic Resistance        ethA         N     Y235D             2  \n",
       "1048  Antibiotic Resistance        gyrA         N      D94G             1  \n",
       "1049  Antibiotic Resistance        gyrA         N      D94G             2  \n",
       "1056  Antibiotic Resistance        ethA         N      G42S             2  \n",
       "1057  Antibiotic Resistance        ethA         N      G42S             1  \n",
       "1928  Antibiotic Resistance        gyrA         N      A90V             2  \n",
       "1929  Antibiotic Resistance        gyrA         N      A90V             1  \n",
       "2286  Antibiotic Resistance        gyrA         N      A90V             1  \n",
       "2287  Antibiotic Resistance        gyrA         N      A90V             2  \n",
       "3586  Antibiotic Resistance        folC         N      I43T             1  \n",
       "3587  Antibiotic Resistance        folC         N      I43T             2  \n",
       "3588  Antibiotic Resistance        folC         N      I43V             1  \n",
       "3589  Antibiotic Resistance        folC         N      I43V             2  "
      ]
     },
     "execution_count": 54,
     "metadata": {},
     "output_type": "execute_result"
    }
   ],
   "source": [
    "within_host_Base_Call_variants_all_patients_sample_order.loc[Base_Call_indices_to_keep , :]"
   ]
  },
  {
   "cell_type": "markdown",
   "metadata": {},
   "source": [
    "#################################################################################################################################################################################################################################"
   ]
  },
  {
   "cell_type": "markdown",
   "metadata": {},
   "source": [
    "## [4] Analysis 2 - Logistic Regression"
   ]
  },
  {
   "cell_type": "markdown",
   "metadata": {},
   "source": [
    "#################################################################################################################################################################################################################################"
   ]
  },
  {
   "cell_type": "markdown",
   "metadata": {
    "collapsed": true
   },
   "source": [
    "#### Subset to 'fixed' AR SNPs with $\\Delta AF >= 40\\%$"
   ]
  },
  {
   "cell_type": "code",
   "execution_count": 55,
   "metadata": {
    "scrolled": false
   },
   "outputs": [],
   "source": [
    "all_SNPs_within_patients_AR_fSNPs = all_SNPs_within_patients[all_SNPs_within_patients.alt_AF_difference >= 0.40]"
   ]
  },
  {
   "cell_type": "code",
   "execution_count": 56,
   "metadata": {},
   "outputs": [
    {
     "data": {
      "text/plain": [
       "(41, 12)"
      ]
     },
     "execution_count": 56,
     "metadata": {},
     "output_type": "execute_result"
    }
   ],
   "source": [
    "np.shape(all_SNPs_within_patients_AR_fSNPs)"
   ]
  },
  {
   "cell_type": "code",
   "execution_count": 57,
   "metadata": {},
   "outputs": [
    {
     "data": {
      "text/html": [
       "<div>\n",
       "<style>\n",
       "    .dataframe thead tr:only-child th {\n",
       "        text-align: right;\n",
       "    }\n",
       "\n",
       "    .dataframe thead th {\n",
       "        text-align: left;\n",
       "    }\n",
       "\n",
       "    .dataframe tbody tr th {\n",
       "        vertical-align: top;\n",
       "    }\n",
       "</style>\n",
       "<table border=\"1\" class=\"dataframe\">\n",
       "  <thead>\n",
       "    <tr style=\"text-align: right;\">\n",
       "      <th></th>\n",
       "      <th>population</th>\n",
       "      <th>patient_id</th>\n",
       "      <th>ref_position</th>\n",
       "      <th>genomic_coord</th>\n",
       "      <th>ref_allele</th>\n",
       "      <th>alt_allele</th>\n",
       "      <th>gene_id</th>\n",
       "      <th>Gene_Category</th>\n",
       "      <th>symbol</th>\n",
       "      <th>alt_AF_difference</th>\n",
       "      <th>SNP_type</th>\n",
       "      <th>AA_change</th>\n",
       "    </tr>\n",
       "  </thead>\n",
       "  <tbody>\n",
       "    <tr>\n",
       "      <th>3</th>\n",
       "      <td>CASALI</td>\n",
       "      <td>P251</td>\n",
       "      <td>761139</td>\n",
       "      <td>1333</td>\n",
       "      <td>C</td>\n",
       "      <td>G</td>\n",
       "      <td>Rv0667</td>\n",
       "      <td>Antibiotic Resistance</td>\n",
       "      <td>rpoB</td>\n",
       "      <td>1.00</td>\n",
       "      <td>N</td>\n",
       "      <td>H445D</td>\n",
       "    </tr>\n",
       "    <tr>\n",
       "      <th>7</th>\n",
       "      <td>CETR</td>\n",
       "      <td>2968</td>\n",
       "      <td>4269313</td>\n",
       "      <td>521</td>\n",
       "      <td>T</td>\n",
       "      <td>G</td>\n",
       "      <td>Rv3806c</td>\n",
       "      <td>Antibiotic Resistance</td>\n",
       "      <td>NaN</td>\n",
       "      <td>0.45</td>\n",
       "      <td>N</td>\n",
       "      <td>K174T</td>\n",
       "    </tr>\n",
       "    <tr>\n",
       "      <th>155</th>\n",
       "      <td>CETR</td>\n",
       "      <td>I0000024-5</td>\n",
       "      <td>6742</td>\n",
       "      <td>1503</td>\n",
       "      <td>A</td>\n",
       "      <td>C</td>\n",
       "      <td>Rv0005</td>\n",
       "      <td>Antibiotic Resistance</td>\n",
       "      <td>gyrB</td>\n",
       "      <td>0.99</td>\n",
       "      <td>N</td>\n",
       "      <td>E501D</td>\n",
       "    </tr>\n",
       "    <tr>\n",
       "      <th>359</th>\n",
       "      <td>GUERRA</td>\n",
       "      <td>KPS_37</td>\n",
       "      <td>2154154</td>\n",
       "      <td>1958</td>\n",
       "      <td>A</td>\n",
       "      <td>T</td>\n",
       "      <td>Rv1908c</td>\n",
       "      <td>Antibiotic Resistance</td>\n",
       "      <td>katG</td>\n",
       "      <td>1.00</td>\n",
       "      <td>N</td>\n",
       "      <td>L653Q</td>\n",
       "    </tr>\n",
       "    <tr>\n",
       "      <th>374</th>\n",
       "      <td>CETR</td>\n",
       "      <td>1700</td>\n",
       "      <td>2154973</td>\n",
       "      <td>1139</td>\n",
       "      <td>G</td>\n",
       "      <td>A</td>\n",
       "      <td>Rv1908c</td>\n",
       "      <td>Antibiotic Resistance</td>\n",
       "      <td>katG</td>\n",
       "      <td>0.51</td>\n",
       "      <td>N</td>\n",
       "      <td>T380I</td>\n",
       "    </tr>\n",
       "  </tbody>\n",
       "</table>\n",
       "</div>"
      ],
      "text/plain": [
       "    population  patient_id  ref_position genomic_coord ref_allele alt_allele  \\\n",
       "3       CASALI        P251        761139          1333          C          G   \n",
       "7         CETR        2968       4269313           521          T          G   \n",
       "155       CETR  I0000024-5          6742          1503          A          C   \n",
       "359     GUERRA      KPS_37       2154154          1958          A          T   \n",
       "374       CETR        1700       2154973          1139          G          A   \n",
       "\n",
       "     gene_id          Gene_Category symbol  alt_AF_difference SNP_type  \\\n",
       "3     Rv0667  Antibiotic Resistance   rpoB               1.00        N   \n",
       "7    Rv3806c  Antibiotic Resistance    NaN               0.45        N   \n",
       "155   Rv0005  Antibiotic Resistance   gyrB               0.99        N   \n",
       "359  Rv1908c  Antibiotic Resistance   katG               1.00        N   \n",
       "374  Rv1908c  Antibiotic Resistance   katG               0.51        N   \n",
       "\n",
       "    AA_change  \n",
       "3       H445D  \n",
       "7       K174T  \n",
       "155     E501D  \n",
       "359     L653Q  \n",
       "374     T380I  "
      ]
     },
     "execution_count": 57,
     "metadata": {},
     "output_type": "execute_result"
    }
   ],
   "source": [
    "all_SNPs_within_patients_AR_fSNPs.head()"
   ]
  },
  {
   "cell_type": "markdown",
   "metadata": {},
   "source": [
    "#### Get timing between isolate collection for each subject"
   ]
  },
  {
   "cell_type": "code",
   "execution_count": 58,
   "metadata": {},
   "outputs": [],
   "source": [
    "time_between_serial_isolate_collection = pd.read_csv('/n/data1/hms/dbmi/farhat/Roger/inhost_TB_dynamics_project/CSV_files/sample_annotation_files/Longitudinal_sample_annotation_for_temporal_analysis_with_dates.csv').set_index('population')"
   ]
  },
  {
   "cell_type": "code",
   "execution_count": 59,
   "metadata": {},
   "outputs": [
    {
     "data": {
      "text/html": [
       "<div>\n",
       "<style>\n",
       "    .dataframe thead tr:only-child th {\n",
       "        text-align: right;\n",
       "    }\n",
       "\n",
       "    .dataframe thead th {\n",
       "        text-align: left;\n",
       "    }\n",
       "\n",
       "    .dataframe tbody tr th {\n",
       "        vertical-align: top;\n",
       "    }\n",
       "</style>\n",
       "<table border=\"1\" class=\"dataframe\">\n",
       "  <thead>\n",
       "    <tr style=\"text-align: right;\">\n",
       "      <th></th>\n",
       "      <th>Unnamed: 0</th>\n",
       "      <th>run_ID</th>\n",
       "      <th>sample_ID</th>\n",
       "      <th>sample_order</th>\n",
       "      <th>tag</th>\n",
       "      <th>isolate_type</th>\n",
       "      <th>patient_id</th>\n",
       "      <th>date_information</th>\n",
       "      <th>tube_label (cetr)</th>\n",
       "      <th>tag.1</th>\n",
       "    </tr>\n",
       "    <tr>\n",
       "      <th>population</th>\n",
       "      <th></th>\n",
       "      <th></th>\n",
       "      <th></th>\n",
       "      <th></th>\n",
       "      <th></th>\n",
       "      <th></th>\n",
       "      <th></th>\n",
       "      <th></th>\n",
       "      <th></th>\n",
       "      <th></th>\n",
       "    </tr>\n",
       "  </thead>\n",
       "  <tbody>\n",
       "    <tr>\n",
       "      <th>BRYANT</th>\n",
       "      <td>0</td>\n",
       "      <td>ERR108130</td>\n",
       "      <td>400044</td>\n",
       "      <td>1</td>\n",
       "      <td>ERR108130</td>\n",
       "      <td>longitudinal</td>\n",
       "      <td>2020E</td>\n",
       "      <td>0</td>\n",
       "      <td>NaN</td>\n",
       "      <td>NaN</td>\n",
       "    </tr>\n",
       "    <tr>\n",
       "      <th>BRYANT</th>\n",
       "      <td>1</td>\n",
       "      <td>ERR108129</td>\n",
       "      <td>401206</td>\n",
       "      <td>2</td>\n",
       "      <td>ERR108129</td>\n",
       "      <td>longitudinal</td>\n",
       "      <td>2020E</td>\n",
       "      <td>36</td>\n",
       "      <td>NaN</td>\n",
       "      <td>NaN</td>\n",
       "    </tr>\n",
       "    <tr>\n",
       "      <th>BRYANT</th>\n",
       "      <td>2</td>\n",
       "      <td>ERR108131</td>\n",
       "      <td>400673</td>\n",
       "      <td>1</td>\n",
       "      <td>ERR108131</td>\n",
       "      <td>longitudinal</td>\n",
       "      <td>2027W</td>\n",
       "      <td>0</td>\n",
       "      <td>NaN</td>\n",
       "      <td>NaN</td>\n",
       "    </tr>\n",
       "    <tr>\n",
       "      <th>BRYANT</th>\n",
       "      <td>3</td>\n",
       "      <td>ERR108132</td>\n",
       "      <td>402568</td>\n",
       "      <td>2</td>\n",
       "      <td>ERR108132</td>\n",
       "      <td>longitudinal</td>\n",
       "      <td>2027W</td>\n",
       "      <td>48</td>\n",
       "      <td>NaN</td>\n",
       "      <td>NaN</td>\n",
       "    </tr>\n",
       "    <tr>\n",
       "      <th>BRYANT</th>\n",
       "      <td>4</td>\n",
       "      <td>ERR108133</td>\n",
       "      <td>400711</td>\n",
       "      <td>1</td>\n",
       "      <td>ERR108133</td>\n",
       "      <td>longitudinal</td>\n",
       "      <td>2028K</td>\n",
       "      <td>0</td>\n",
       "      <td>NaN</td>\n",
       "      <td>NaN</td>\n",
       "    </tr>\n",
       "  </tbody>\n",
       "</table>\n",
       "</div>"
      ],
      "text/plain": [
       "            Unnamed: 0     run_ID sample_ID  sample_order        tag  \\\n",
       "population                                                             \n",
       "BRYANT               0  ERR108130    400044             1  ERR108130   \n",
       "BRYANT               1  ERR108129    401206             2  ERR108129   \n",
       "BRYANT               2  ERR108131    400673             1  ERR108131   \n",
       "BRYANT               3  ERR108132    402568             2  ERR108132   \n",
       "BRYANT               4  ERR108133    400711             1  ERR108133   \n",
       "\n",
       "            isolate_type patient_id date_information tube_label (cetr)  tag.1  \n",
       "population                                                                     \n",
       "BRYANT      longitudinal      2020E                0               NaN    NaN  \n",
       "BRYANT      longitudinal      2020E               36               NaN    NaN  \n",
       "BRYANT      longitudinal      2027W                0               NaN    NaN  \n",
       "BRYANT      longitudinal      2027W               48               NaN    NaN  \n",
       "BRYANT      longitudinal      2028K                0               NaN    NaN  "
      ]
     },
     "execution_count": 59,
     "metadata": {},
     "output_type": "execute_result"
    }
   ],
   "source": [
    "time_between_serial_isolate_collection.head()"
   ]
  },
  {
   "cell_type": "code",
   "execution_count": 60,
   "metadata": {},
   "outputs": [
    {
     "data": {
      "text/plain": [
       "(400, 10)"
      ]
     },
     "execution_count": 60,
     "metadata": {},
     "output_type": "execute_result"
    }
   ],
   "source": [
    "np.shape(time_between_serial_isolate_collection)"
   ]
  },
  {
   "cell_type": "markdown",
   "metadata": {},
   "source": [
    "#### Retain only patients that for which we have date Information for both samples"
   ]
  },
  {
   "cell_type": "code",
   "execution_count": 61,
   "metadata": {},
   "outputs": [],
   "source": [
    "#get dates for each sample in pair\n",
    "dates_for_first_sample = list( time_between_serial_isolate_collection.iloc[range(0 , np.shape(time_between_serial_isolate_collection)[0] , 2) , 7] )\n",
    "dates_for_second_sample = list( time_between_serial_isolate_collection.iloc[range(1 , np.shape(time_between_serial_isolate_collection)[0] , 2) , 7] )\n",
    "\n",
    "#get a boolean to check that there are dates for both samples\n",
    "dates_for_both_samples = [ ( (isinstance(date_1, basestring)) and (isinstance(date_2, basestring)) ) for date_1 , date_2 in zip(dates_for_first_sample , dates_for_second_sample) ]\n",
    "\n",
    "#get list of patients to include that have dates for sample retreival for both samples\n",
    "patients_to_keep = list( time_between_serial_isolate_collection[time_between_serial_isolate_collection.sample_order == 1][dates_for_both_samples].patient_id )\n",
    "\n",
    "#filter out patients with 1 or 2 missing dates\n",
    "time_between_serial_isolate_collection_filter = [patient in patients_to_keep for patient in list(time_between_serial_isolate_collection.patient_id)]\n",
    "time_between_serial_isolate_dropped_filter = [not dates_both_isolates for dates_both_isolates in time_between_serial_isolate_collection_filter]\n",
    "\n",
    "time_between_serial_isolate_collection_dropped = time_between_serial_isolate_collection[time_between_serial_isolate_dropped_filter]\n",
    "time_between_serial_isolate_collection = time_between_serial_isolate_collection[time_between_serial_isolate_collection_filter]"
   ]
  },
  {
   "cell_type": "code",
   "execution_count": 62,
   "metadata": {},
   "outputs": [
    {
     "data": {
      "text/plain": [
       "(396, 10)"
      ]
     },
     "execution_count": 62,
     "metadata": {},
     "output_type": "execute_result"
    }
   ],
   "source": [
    "np.shape(time_between_serial_isolate_collection)"
   ]
  },
  {
   "cell_type": "code",
   "execution_count": 63,
   "metadata": {},
   "outputs": [
    {
     "data": {
      "text/plain": [
       "(4, 10)"
      ]
     },
     "execution_count": 63,
     "metadata": {},
     "output_type": "execute_result"
    }
   ],
   "source": [
    "np.shape(time_between_serial_isolate_collection_dropped )"
   ]
  },
  {
   "cell_type": "markdown",
   "metadata": {},
   "source": [
    "#### Dropped 2 patients from Witney et. al. dataset that didn't have date information both both isolates - WITNEY:27 & WITNEY:28"
   ]
  },
  {
   "cell_type": "code",
   "execution_count": 64,
   "metadata": {},
   "outputs": [
    {
     "data": {
      "text/html": [
       "<div>\n",
       "<style>\n",
       "    .dataframe thead tr:only-child th {\n",
       "        text-align: right;\n",
       "    }\n",
       "\n",
       "    .dataframe thead th {\n",
       "        text-align: left;\n",
       "    }\n",
       "\n",
       "    .dataframe tbody tr th {\n",
       "        vertical-align: top;\n",
       "    }\n",
       "</style>\n",
       "<table border=\"1\" class=\"dataframe\">\n",
       "  <thead>\n",
       "    <tr style=\"text-align: right;\">\n",
       "      <th></th>\n",
       "      <th>Unnamed: 0</th>\n",
       "      <th>run_ID</th>\n",
       "      <th>sample_ID</th>\n",
       "      <th>sample_order</th>\n",
       "      <th>tag</th>\n",
       "      <th>isolate_type</th>\n",
       "      <th>patient_id</th>\n",
       "      <th>date_information</th>\n",
       "      <th>tube_label (cetr)</th>\n",
       "      <th>tag.1</th>\n",
       "    </tr>\n",
       "    <tr>\n",
       "      <th>population</th>\n",
       "      <th></th>\n",
       "      <th></th>\n",
       "      <th></th>\n",
       "      <th></th>\n",
       "      <th></th>\n",
       "      <th></th>\n",
       "      <th></th>\n",
       "      <th></th>\n",
       "      <th></th>\n",
       "      <th></th>\n",
       "    </tr>\n",
       "  </thead>\n",
       "  <tbody>\n",
       "    <tr>\n",
       "      <th>WITNEY</th>\n",
       "      <td>380</td>\n",
       "      <td>ERR1750925</td>\n",
       "      <td>SAMEA23779168</td>\n",
       "      <td>1</td>\n",
       "      <td>ERR1750925</td>\n",
       "      <td>longitudinal</td>\n",
       "      <td>27</td>\n",
       "      <td>NaN</td>\n",
       "      <td>NaN</td>\n",
       "      <td>NaN</td>\n",
       "    </tr>\n",
       "    <tr>\n",
       "      <th>WITNEY</th>\n",
       "      <td>381</td>\n",
       "      <td>ERR1750926</td>\n",
       "      <td>SAMEA23779918</td>\n",
       "      <td>2</td>\n",
       "      <td>ERR1750926</td>\n",
       "      <td>longitudinal</td>\n",
       "      <td>27</td>\n",
       "      <td>1/25/11</td>\n",
       "      <td>NaN</td>\n",
       "      <td>NaN</td>\n",
       "    </tr>\n",
       "    <tr>\n",
       "      <th>WITNEY</th>\n",
       "      <td>382</td>\n",
       "      <td>ERR1750927</td>\n",
       "      <td>SAMEA23780668</td>\n",
       "      <td>1</td>\n",
       "      <td>ERR1750927</td>\n",
       "      <td>longitudinal</td>\n",
       "      <td>28</td>\n",
       "      <td>NaN</td>\n",
       "      <td>NaN</td>\n",
       "      <td>NaN</td>\n",
       "    </tr>\n",
       "    <tr>\n",
       "      <th>WITNEY</th>\n",
       "      <td>383</td>\n",
       "      <td>ERR1750928</td>\n",
       "      <td>SAMEA23781418</td>\n",
       "      <td>2</td>\n",
       "      <td>ERR1750928</td>\n",
       "      <td>longitudinal</td>\n",
       "      <td>28</td>\n",
       "      <td>8/3/11</td>\n",
       "      <td>NaN</td>\n",
       "      <td>NaN</td>\n",
       "    </tr>\n",
       "  </tbody>\n",
       "</table>\n",
       "</div>"
      ],
      "text/plain": [
       "            Unnamed: 0      run_ID      sample_ID  sample_order         tag  \\\n",
       "population                                                                    \n",
       "WITNEY             380  ERR1750925  SAMEA23779168             1  ERR1750925   \n",
       "WITNEY             381  ERR1750926  SAMEA23779918             2  ERR1750926   \n",
       "WITNEY             382  ERR1750927  SAMEA23780668             1  ERR1750927   \n",
       "WITNEY             383  ERR1750928  SAMEA23781418             2  ERR1750928   \n",
       "\n",
       "            isolate_type patient_id date_information tube_label (cetr)  tag.1  \n",
       "population                                                                     \n",
       "WITNEY      longitudinal         27              NaN               NaN    NaN  \n",
       "WITNEY      longitudinal         27          1/25/11               NaN    NaN  \n",
       "WITNEY      longitudinal         28              NaN               NaN    NaN  \n",
       "WITNEY      longitudinal         28           8/3/11               NaN    NaN  "
      ]
     },
     "execution_count": 64,
     "metadata": {},
     "output_type": "execute_result"
    }
   ],
   "source": [
    "time_between_serial_isolate_collection_dropped "
   ]
  },
  {
   "cell_type": "markdown",
   "metadata": {},
   "source": [
    "#### Drop samples that have the same date as collection date for both isolates"
   ]
  },
  {
   "cell_type": "code",
   "execution_count": 65,
   "metadata": {},
   "outputs": [],
   "source": [
    "#get dates for each sample in pair\n",
    "dates_for_first_sample = list( time_between_serial_isolate_collection.iloc[range(0 , np.shape(time_between_serial_isolate_collection)[0] , 2) , 7] )\n",
    "dates_for_second_sample = list( time_between_serial_isolate_collection.iloc[range(1 , np.shape(time_between_serial_isolate_collection)[0] , 2) , 7] )\n",
    "\n",
    "#check to make sure that the dates of collection differ between both samples\n",
    "dates_differ_for_both_samples = [date_1 != date_2 for date_1 , date_2 in zip(dates_for_first_sample , dates_for_second_sample) ]\n",
    "\n",
    "#get list of patients to include that have dates for sample retreival for both samples\n",
    "patients_to_keep = list( time_between_serial_isolate_collection[time_between_serial_isolate_collection.sample_order == 1][dates_differ_for_both_samples].patient_id )\n",
    "\n",
    "#filter out patients with 1 or 2 missing dates\n",
    "time_between_serial_isolate_collection_filter = [patient in patients_to_keep for patient in list(time_between_serial_isolate_collection.patient_id)]\n",
    "time_between_serial_isolate_dropped_filter = [not dates_both_isolates for dates_both_isolates in time_between_serial_isolate_collection_filter]\n",
    "\n",
    "time_between_serial_isolate_collection_dropped = time_between_serial_isolate_collection[time_between_serial_isolate_dropped_filter]\n",
    "time_between_serial_isolate_collection = time_between_serial_isolate_collection[time_between_serial_isolate_collection_filter]"
   ]
  },
  {
   "cell_type": "code",
   "execution_count": 66,
   "metadata": {},
   "outputs": [
    {
     "data": {
      "text/plain": [
       "(390, 10)"
      ]
     },
     "execution_count": 66,
     "metadata": {},
     "output_type": "execute_result"
    }
   ],
   "source": [
    "np.shape(time_between_serial_isolate_collection)"
   ]
  },
  {
   "cell_type": "code",
   "execution_count": 67,
   "metadata": {},
   "outputs": [
    {
     "data": {
      "text/plain": [
       "(6, 10)"
      ]
     },
     "execution_count": 67,
     "metadata": {},
     "output_type": "execute_result"
    }
   ],
   "source": [
    "np.shape(time_between_serial_isolate_collection_dropped )"
   ]
  },
  {
   "cell_type": "markdown",
   "metadata": {},
   "source": [
    "#### Dropped 3 patients from Walker et. al. dataset that had same date information both both isolates - WALKER:P000059, WALKER:P000259 & WALKER:P000267"
   ]
  },
  {
   "cell_type": "code",
   "execution_count": 68,
   "metadata": {},
   "outputs": [
    {
     "data": {
      "text/html": [
       "<div>\n",
       "<style>\n",
       "    .dataframe thead tr:only-child th {\n",
       "        text-align: right;\n",
       "    }\n",
       "\n",
       "    .dataframe thead th {\n",
       "        text-align: left;\n",
       "    }\n",
       "\n",
       "    .dataframe tbody tr th {\n",
       "        vertical-align: top;\n",
       "    }\n",
       "</style>\n",
       "<table border=\"1\" class=\"dataframe\">\n",
       "  <thead>\n",
       "    <tr style=\"text-align: right;\">\n",
       "      <th></th>\n",
       "      <th>Unnamed: 0</th>\n",
       "      <th>run_ID</th>\n",
       "      <th>sample_ID</th>\n",
       "      <th>sample_order</th>\n",
       "      <th>tag</th>\n",
       "      <th>isolate_type</th>\n",
       "      <th>patient_id</th>\n",
       "      <th>date_information</th>\n",
       "      <th>tube_label (cetr)</th>\n",
       "      <th>tag.1</th>\n",
       "    </tr>\n",
       "    <tr>\n",
       "      <th>population</th>\n",
       "      <th></th>\n",
       "      <th></th>\n",
       "      <th></th>\n",
       "      <th></th>\n",
       "      <th></th>\n",
       "      <th></th>\n",
       "      <th></th>\n",
       "      <th></th>\n",
       "      <th></th>\n",
       "      <th></th>\n",
       "    </tr>\n",
       "  </thead>\n",
       "  <tbody>\n",
       "    <tr>\n",
       "      <th>WALKER</th>\n",
       "      <td>310</td>\n",
       "      <td>ERR046918</td>\n",
       "      <td>NaN</td>\n",
       "      <td>1</td>\n",
       "      <td>ERR046918</td>\n",
       "      <td>longitudinal</td>\n",
       "      <td>P000059</td>\n",
       "      <td>2007</td>\n",
       "      <td>NaN</td>\n",
       "      <td>NaN</td>\n",
       "    </tr>\n",
       "    <tr>\n",
       "      <th>WALKER</th>\n",
       "      <td>311</td>\n",
       "      <td>ERR046933</td>\n",
       "      <td>NaN</td>\n",
       "      <td>2</td>\n",
       "      <td>ERR046933</td>\n",
       "      <td>longitudinal</td>\n",
       "      <td>P000059</td>\n",
       "      <td>2007</td>\n",
       "      <td>NaN</td>\n",
       "      <td>NaN</td>\n",
       "    </tr>\n",
       "    <tr>\n",
       "      <th>WALKER</th>\n",
       "      <td>342</td>\n",
       "      <td>ERR047010</td>\n",
       "      <td>NaN</td>\n",
       "      <td>1</td>\n",
       "      <td>ERR047010</td>\n",
       "      <td>longitudinal</td>\n",
       "      <td>P000259</td>\n",
       "      <td>2008</td>\n",
       "      <td>NaN</td>\n",
       "      <td>NaN</td>\n",
       "    </tr>\n",
       "    <tr>\n",
       "      <th>WALKER</th>\n",
       "      <td>343</td>\n",
       "      <td>ERR047012</td>\n",
       "      <td>NaN</td>\n",
       "      <td>2</td>\n",
       "      <td>ERR047012</td>\n",
       "      <td>longitudinal</td>\n",
       "      <td>P000259</td>\n",
       "      <td>2008</td>\n",
       "      <td>NaN</td>\n",
       "      <td>NaN</td>\n",
       "    </tr>\n",
       "    <tr>\n",
       "      <th>WALKER</th>\n",
       "      <td>346</td>\n",
       "      <td>ERR047007</td>\n",
       "      <td>NaN</td>\n",
       "      <td>1</td>\n",
       "      <td>ERR047007</td>\n",
       "      <td>longitudinal</td>\n",
       "      <td>P000267</td>\n",
       "      <td>2007</td>\n",
       "      <td>NaN</td>\n",
       "      <td>NaN</td>\n",
       "    </tr>\n",
       "    <tr>\n",
       "      <th>WALKER</th>\n",
       "      <td>347</td>\n",
       "      <td>ERR072030</td>\n",
       "      <td>NaN</td>\n",
       "      <td>2</td>\n",
       "      <td>ERR072030</td>\n",
       "      <td>longitudinal</td>\n",
       "      <td>P000267</td>\n",
       "      <td>2007</td>\n",
       "      <td>NaN</td>\n",
       "      <td>NaN</td>\n",
       "    </tr>\n",
       "  </tbody>\n",
       "</table>\n",
       "</div>"
      ],
      "text/plain": [
       "            Unnamed: 0     run_ID sample_ID  sample_order        tag  \\\n",
       "population                                                             \n",
       "WALKER             310  ERR046918       NaN             1  ERR046918   \n",
       "WALKER             311  ERR046933       NaN             2  ERR046933   \n",
       "WALKER             342  ERR047010       NaN             1  ERR047010   \n",
       "WALKER             343  ERR047012       NaN             2  ERR047012   \n",
       "WALKER             346  ERR047007       NaN             1  ERR047007   \n",
       "WALKER             347  ERR072030       NaN             2  ERR072030   \n",
       "\n",
       "            isolate_type patient_id date_information tube_label (cetr)  tag.1  \n",
       "population                                                                     \n",
       "WALKER      longitudinal    P000059             2007               NaN    NaN  \n",
       "WALKER      longitudinal    P000059             2007               NaN    NaN  \n",
       "WALKER      longitudinal    P000259             2008               NaN    NaN  \n",
       "WALKER      longitudinal    P000259             2008               NaN    NaN  \n",
       "WALKER      longitudinal    P000267             2007               NaN    NaN  \n",
       "WALKER      longitudinal    P000267             2007               NaN    NaN  "
      ]
     },
     "execution_count": 68,
     "metadata": {},
     "output_type": "execute_result"
    }
   ],
   "source": [
    "time_between_serial_isolate_collection_dropped "
   ]
  },
  {
   "cell_type": "code",
   "execution_count": 69,
   "metadata": {},
   "outputs": [
    {
     "name": "stdout",
     "output_type": "stream",
     "text": [
      "195\n"
     ]
    }
   ],
   "source": [
    "num_patients = np.shape(time_between_serial_isolate_collection)[0] / 2\n",
    "print num_patients"
   ]
  },
  {
   "cell_type": "markdown",
   "metadata": {},
   "source": [
    "#### Get Pairwise distances for AR fSNPs for all subjects"
   ]
  },
  {
   "cell_type": "code",
   "execution_count": 70,
   "metadata": {},
   "outputs": [],
   "source": [
    "pairwise_variant_distances = pd.DataFrame(index = patients_to_keep , columns = ['population' , 'pairwise_AR_fSNP_distance' , 'time_between_collection'])\n",
    "\n",
    "for patient_id in patients_to_keep:\n",
    "    \n",
    "    population = sample_annotation.loc[patient_id , 'population'].values[0]\n",
    "    \n",
    "    #pairwise distance between isolates\n",
    "    SNP_distance = np.sum(all_SNPs_within_patients_AR_fSNPs.patient_id == patient_id)\n",
    "    \n",
    "    #append info to dataframe\n",
    "    pairwise_variant_distances.loc[patient_id , 'population'] = population\n",
    "    pairwise_variant_distances.loc[patient_id , 'pairwise_AR_fSNP_distance'] = SNP_distance"
   ]
  },
  {
   "cell_type": "code",
   "execution_count": 71,
   "metadata": {},
   "outputs": [
    {
     "data": {
      "text/html": [
       "<div>\n",
       "<style>\n",
       "    .dataframe thead tr:only-child th {\n",
       "        text-align: right;\n",
       "    }\n",
       "\n",
       "    .dataframe thead th {\n",
       "        text-align: left;\n",
       "    }\n",
       "\n",
       "    .dataframe tbody tr th {\n",
       "        vertical-align: top;\n",
       "    }\n",
       "</style>\n",
       "<table border=\"1\" class=\"dataframe\">\n",
       "  <thead>\n",
       "    <tr style=\"text-align: right;\">\n",
       "      <th></th>\n",
       "      <th>population</th>\n",
       "      <th>pairwise_AR_fSNP_distance</th>\n",
       "      <th>time_between_collection</th>\n",
       "    </tr>\n",
       "  </thead>\n",
       "  <tbody>\n",
       "    <tr>\n",
       "      <th>2020E</th>\n",
       "      <td>BRYANT</td>\n",
       "      <td>0</td>\n",
       "      <td>NaN</td>\n",
       "    </tr>\n",
       "    <tr>\n",
       "      <th>2027W</th>\n",
       "      <td>BRYANT</td>\n",
       "      <td>0</td>\n",
       "      <td>NaN</td>\n",
       "    </tr>\n",
       "    <tr>\n",
       "      <th>2028K</th>\n",
       "      <td>BRYANT</td>\n",
       "      <td>0</td>\n",
       "      <td>NaN</td>\n",
       "    </tr>\n",
       "    <tr>\n",
       "      <th>2041Q</th>\n",
       "      <td>BRYANT</td>\n",
       "      <td>0</td>\n",
       "      <td>NaN</td>\n",
       "    </tr>\n",
       "    <tr>\n",
       "      <th>2043R</th>\n",
       "      <td>BRYANT</td>\n",
       "      <td>0</td>\n",
       "      <td>NaN</td>\n",
       "    </tr>\n",
       "  </tbody>\n",
       "</table>\n",
       "</div>"
      ],
      "text/plain": [
       "      population pairwise_AR_fSNP_distance time_between_collection\n",
       "2020E     BRYANT                         0                     NaN\n",
       "2027W     BRYANT                         0                     NaN\n",
       "2028K     BRYANT                         0                     NaN\n",
       "2041Q     BRYANT                         0                     NaN\n",
       "2043R     BRYANT                         0                     NaN"
      ]
     },
     "execution_count": 71,
     "metadata": {},
     "output_type": "execute_result"
    }
   ],
   "source": [
    "pairwise_variant_distances.head()"
   ]
  },
  {
   "cell_type": "code",
   "execution_count": 72,
   "metadata": {},
   "outputs": [
    {
     "data": {
      "text/plain": [
       "(195, 3)"
      ]
     },
     "execution_count": 72,
     "metadata": {},
     "output_type": "execute_result"
    }
   ],
   "source": [
    "np.shape(pairwise_variant_distances)"
   ]
  },
  {
   "cell_type": "markdown",
   "metadata": {},
   "source": [
    "#### Find distance between all pairs of times"
   ]
  },
  {
   "cell_type": "code",
   "execution_count": 73,
   "metadata": {},
   "outputs": [],
   "source": [
    "for patient_id in pairwise_variant_distances.index:\n",
    "    \n",
    "    population = pairwise_variant_distances.loc[patient_id , 'population']\n",
    "    patient_id = patient_id\n",
    "    \n",
    "    if population == 'BRYANT':\n",
    "        \n",
    "        bryant_pair = time_between_serial_isolate_collection[time_between_serial_isolate_collection.patient_id == patient_id]\n",
    "        \n",
    "        first_date = bryant_pair[bryant_pair.sample_order == 1].date_information.values[0]\n",
    "        second_date = bryant_pair[bryant_pair.sample_order == 2].date_information.values[0]\n",
    "\n",
    "        num_days_between = (int(second_date) - int(first_date))*7 #dates are in # of weeks apart\n",
    "    \n",
    "    if population == 'CASALI':\n",
    "        \n",
    "        casali_pair = time_between_serial_isolate_collection[time_between_serial_isolate_collection.patient_id == patient_id]\n",
    "\n",
    "        first_date = casali_pair[casali_pair.sample_order == 1].date_information.values[0]\n",
    "        day = first_date.split('/')[0]\n",
    "        month = first_date.split('/')[1]\n",
    "        year = '20' + first_date.split('/')[2]\n",
    "        first_date = pd.to_datetime(pd.DataFrame({'year':[year] , 'month':[month] , 'day':[day]}))\n",
    "\n",
    "        second_date = casali_pair[casali_pair.sample_order == 2].date_information.values[0]\n",
    "        day = second_date.split('/')[0]\n",
    "        month = second_date.split('/')[1]\n",
    "        year = '20' + second_date.split('/')[2]\n",
    "        second_date = pd.to_datetime(pd.DataFrame({'year':[year] , 'month':[month] , 'day':[day]}))\n",
    "\n",
    "        num_days_between = (second_date - first_date).dt.days[0]\n",
    "        \n",
    "    elif (population == 'CETR') or (population == 'GUERRA') or (population == 'WITNEY') or (population == 'XU'):\n",
    "        \n",
    "        serial_pair = time_between_serial_isolate_collection[time_between_serial_isolate_collection.patient_id == patient_id]\n",
    "\n",
    "        first_date = serial_pair[serial_pair.sample_order == 1].date_information.values[0]\n",
    "        day = first_date.split('/')[1]\n",
    "        month = first_date.split('/')[0]\n",
    "        if int(first_date.split('/')[2]) in range(50,100): #some dates in 1990's others in 2000's\n",
    "            year = '19' + first_date.split('/')[2]\n",
    "        else:\n",
    "            year = '20' + first_date.split('/')[2]\n",
    "\n",
    "        first_date = pd.to_datetime(pd.DataFrame({'year':[year] , 'month':[month] , 'day':[day]}))\n",
    "\n",
    "\n",
    "        second_date = serial_pair[serial_pair.sample_order == 2].date_information.values[0]\n",
    "        day = second_date.split('/')[1]\n",
    "        month = second_date.split('/')[0]\n",
    "        if int(second_date.split('/')[2]) in range(50,100):\n",
    "            year = '19' + second_date.split('/')[2]\n",
    "        else:\n",
    "            year = '20' + second_date.split('/')[2]\n",
    "\n",
    "        second_date = pd.to_datetime(pd.DataFrame({'year':[year] , 'month':[month] , 'day':[day]}))\n",
    "\n",
    "        num_days_between = (second_date - first_date).dt.days[0]\n",
    "        \n",
    "    elif (population == 'TRAUNER') or (population == 'BRYANT'):\n",
    "        \n",
    "        serial_pair = time_between_serial_isolate_collection[time_between_serial_isolate_collection.patient_id == patient_id]\n",
    "\n",
    "        first_date = serial_pair[serial_pair.sample_order == 1].date_information.values[0]\n",
    "        second_date = serial_pair[serial_pair.sample_order == 2].date_information.values[0]\n",
    "\n",
    "        num_days_between = (int(second_date) - int(first_date))*7 #dates are in # of weeks apart\n",
    "        \n",
    "    elif population == 'WALKER':\n",
    "        \n",
    "        walker_pair = time_between_serial_isolate_collection[time_between_serial_isolate_collection.patient_id == patient_id]\n",
    "\n",
    "        first_date = walker_pair[walker_pair.sample_order == 1].date_information.values[0]\n",
    "        day = '1'\n",
    "        month = '1'\n",
    "        year = first_date\n",
    "        first_date = pd.to_datetime(pd.DataFrame({'year':[year] , 'month':[month] , 'day':[day]}))\n",
    "\n",
    "        second_date = walker_pair[walker_pair.sample_order == 2].date_information.values[0]\n",
    "        day = '1'\n",
    "        month = '1'\n",
    "        year = second_date\n",
    "        second_date = pd.to_datetime(pd.DataFrame({'year':[year] , 'month':[month] , 'day':[day]}))\n",
    "\n",
    "        num_days_between = (second_date - first_date).dt.days[0]\n",
    "        \n",
    "    #append distance between isolate collection\n",
    "    pairwise_variant_distances.loc[patient_id , 'time_between_collection'] = num_days_between"
   ]
  },
  {
   "cell_type": "code",
   "execution_count": 74,
   "metadata": {},
   "outputs": [
    {
     "data": {
      "text/html": [
       "<div>\n",
       "<style>\n",
       "    .dataframe thead tr:only-child th {\n",
       "        text-align: right;\n",
       "    }\n",
       "\n",
       "    .dataframe thead th {\n",
       "        text-align: left;\n",
       "    }\n",
       "\n",
       "    .dataframe tbody tr th {\n",
       "        vertical-align: top;\n",
       "    }\n",
       "</style>\n",
       "<table border=\"1\" class=\"dataframe\">\n",
       "  <thead>\n",
       "    <tr style=\"text-align: right;\">\n",
       "      <th></th>\n",
       "      <th>population</th>\n",
       "      <th>pairwise_AR_fSNP_distance</th>\n",
       "      <th>time_between_collection</th>\n",
       "    </tr>\n",
       "  </thead>\n",
       "  <tbody>\n",
       "    <tr>\n",
       "      <th>2020E</th>\n",
       "      <td>BRYANT</td>\n",
       "      <td>0</td>\n",
       "      <td>252</td>\n",
       "    </tr>\n",
       "    <tr>\n",
       "      <th>2027W</th>\n",
       "      <td>BRYANT</td>\n",
       "      <td>0</td>\n",
       "      <td>336</td>\n",
       "    </tr>\n",
       "    <tr>\n",
       "      <th>2028K</th>\n",
       "      <td>BRYANT</td>\n",
       "      <td>0</td>\n",
       "      <td>182</td>\n",
       "    </tr>\n",
       "    <tr>\n",
       "      <th>2041Q</th>\n",
       "      <td>BRYANT</td>\n",
       "      <td>0</td>\n",
       "      <td>182</td>\n",
       "    </tr>\n",
       "    <tr>\n",
       "      <th>2043R</th>\n",
       "      <td>BRYANT</td>\n",
       "      <td>0</td>\n",
       "      <td>252</td>\n",
       "    </tr>\n",
       "  </tbody>\n",
       "</table>\n",
       "</div>"
      ],
      "text/plain": [
       "      population pairwise_AR_fSNP_distance time_between_collection\n",
       "2020E     BRYANT                         0                     252\n",
       "2027W     BRYANT                         0                     336\n",
       "2028K     BRYANT                         0                     182\n",
       "2041Q     BRYANT                         0                     182\n",
       "2043R     BRYANT                         0                     252"
      ]
     },
     "execution_count": 74,
     "metadata": {},
     "output_type": "execute_result"
    }
   ],
   "source": [
    "pairwise_variant_distances.head()"
   ]
  },
  {
   "cell_type": "code",
   "execution_count": 75,
   "metadata": {},
   "outputs": [
    {
     "data": {
      "text/plain": [
       "(195, 3)"
      ]
     },
     "execution_count": 75,
     "metadata": {},
     "output_type": "execute_result"
    }
   ],
   "source": [
    "np.shape(pairwise_variant_distances) #195 subjects with date information for both isolates"
   ]
  },
  {
   "cell_type": "code",
   "execution_count": 76,
   "metadata": {},
   "outputs": [
    {
     "data": {
      "text/plain": [
       "38"
      ]
     },
     "execution_count": 76,
     "metadata": {},
     "output_type": "execute_result"
    }
   ],
   "source": [
    "pairwise_variant_distances.pairwise_AR_fSNP_distance.sum()"
   ]
  },
  {
   "cell_type": "markdown",
   "metadata": {},
   "source": [
    "#### convert time between isolate collection to months (30 days)"
   ]
  },
  {
   "cell_type": "code",
   "execution_count": 77,
   "metadata": {},
   "outputs": [],
   "source": [
    "pairwise_variant_distances.loc[: , 'time_between_collection'] = pairwise_variant_distances.time_between_collection.astype(float) / 30.0\n",
    "pairwise_variant_distances.loc[: , 'time_between_collection'] = [round(x, 2) for x in pairwise_variant_distances.time_between_collection] #round the nearest 2nd decimal place"
   ]
  },
  {
   "cell_type": "code",
   "execution_count": 78,
   "metadata": {},
   "outputs": [
    {
     "data": {
      "text/html": [
       "<div>\n",
       "<style>\n",
       "    .dataframe thead tr:only-child th {\n",
       "        text-align: right;\n",
       "    }\n",
       "\n",
       "    .dataframe thead th {\n",
       "        text-align: left;\n",
       "    }\n",
       "\n",
       "    .dataframe tbody tr th {\n",
       "        vertical-align: top;\n",
       "    }\n",
       "</style>\n",
       "<table border=\"1\" class=\"dataframe\">\n",
       "  <thead>\n",
       "    <tr style=\"text-align: right;\">\n",
       "      <th></th>\n",
       "      <th>population</th>\n",
       "      <th>pairwise_AR_fSNP_distance</th>\n",
       "      <th>time_between_collection</th>\n",
       "    </tr>\n",
       "  </thead>\n",
       "  <tbody>\n",
       "    <tr>\n",
       "      <th>2020E</th>\n",
       "      <td>BRYANT</td>\n",
       "      <td>0</td>\n",
       "      <td>8.40</td>\n",
       "    </tr>\n",
       "    <tr>\n",
       "      <th>2027W</th>\n",
       "      <td>BRYANT</td>\n",
       "      <td>0</td>\n",
       "      <td>11.20</td>\n",
       "    </tr>\n",
       "    <tr>\n",
       "      <th>2028K</th>\n",
       "      <td>BRYANT</td>\n",
       "      <td>0</td>\n",
       "      <td>6.07</td>\n",
       "    </tr>\n",
       "    <tr>\n",
       "      <th>2041Q</th>\n",
       "      <td>BRYANT</td>\n",
       "      <td>0</td>\n",
       "      <td>6.07</td>\n",
       "    </tr>\n",
       "    <tr>\n",
       "      <th>2043R</th>\n",
       "      <td>BRYANT</td>\n",
       "      <td>0</td>\n",
       "      <td>8.40</td>\n",
       "    </tr>\n",
       "  </tbody>\n",
       "</table>\n",
       "</div>"
      ],
      "text/plain": [
       "      population pairwise_AR_fSNP_distance  time_between_collection\n",
       "2020E     BRYANT                         0                     8.40\n",
       "2027W     BRYANT                         0                    11.20\n",
       "2028K     BRYANT                         0                     6.07\n",
       "2041Q     BRYANT                         0                     6.07\n",
       "2043R     BRYANT                         0                     8.40"
      ]
     },
     "execution_count": 78,
     "metadata": {},
     "output_type": "execute_result"
    }
   ],
   "source": [
    "pairwise_variant_distances.head()"
   ]
  },
  {
   "cell_type": "markdown",
   "metadata": {},
   "source": [
    "### Logistic Regression"
   ]
  },
  {
   "cell_type": "markdown",
   "metadata": {},
   "source": [
    "Define *Independent* and *Dependent* variables"
   ]
  },
  {
   "cell_type": "code",
   "execution_count": 79,
   "metadata": {},
   "outputs": [],
   "source": [
    "x = np.array(pairwise_variant_distances.time_between_collection).reshape(-1, 1)\n",
    "x = x.astype(float)\n",
    "x = sm.add_constant(x)\n",
    "\n",
    "y = np.array([int(i) for i in list(pairwise_variant_distances.pairwise_AR_fSNP_distance > 0)])\n",
    "y = y.astype(float)"
   ]
  },
  {
   "cell_type": "markdown",
   "metadata": {},
   "source": [
    "Create a Model and Train It"
   ]
  },
  {
   "cell_type": "code",
   "execution_count": 80,
   "metadata": {},
   "outputs": [
    {
     "name": "stdout",
     "output_type": "stream",
     "text": [
      "Optimization terminated successfully.\n",
      "         Current function value: 0.391535\n",
      "         Iterations 6\n"
     ]
    }
   ],
   "source": [
    "model = sm.Logit(y, x)\n",
    "\n",
    "result = model.fit(method='newton')"
   ]
  },
  {
   "cell_type": "code",
   "execution_count": 81,
   "metadata": {},
   "outputs": [
    {
     "data": {
      "text/html": [
       "<table class=\"simpletable\">\n",
       "<caption>Logit Regression Results</caption>\n",
       "<tr>\n",
       "  <th>Dep. Variable:</th>           <td>y</td>        <th>  No. Observations:  </th>  <td>   195</td> \n",
       "</tr>\n",
       "<tr>\n",
       "  <th>Model:</th>                 <td>Logit</td>      <th>  Df Residuals:      </th>  <td>   193</td> \n",
       "</tr>\n",
       "<tr>\n",
       "  <th>Method:</th>                 <td>MLE</td>       <th>  Df Model:          </th>  <td>     1</td> \n",
       "</tr>\n",
       "<tr>\n",
       "  <th>Date:</th>            <td>Fri, 11 Dec 2020</td> <th>  Pseudo R-squ.:     </th>  <td>0.02642</td>\n",
       "</tr>\n",
       "<tr>\n",
       "  <th>Time:</th>                <td>15:21:08</td>     <th>  Log-Likelihood:    </th> <td> -76.349</td>\n",
       "</tr>\n",
       "<tr>\n",
       "  <th>converged:</th>             <td>True</td>       <th>  LL-Null:           </th> <td> -78.421</td>\n",
       "</tr>\n",
       "<tr>\n",
       "  <th>Covariance Type:</th>     <td>nonrobust</td>    <th>  LLR p-value:       </th>  <td>0.04178</td>\n",
       "</tr>\n",
       "</table>\n",
       "<table class=\"simpletable\">\n",
       "<tr>\n",
       "    <td></td>       <th>coef</th>     <th>std err</th>      <th>z</th>      <th>P>|z|</th>  <th>[0.025</th>    <th>0.975]</th>  \n",
       "</tr>\n",
       "<tr>\n",
       "  <th>const</th> <td>   -2.1965</td> <td>    0.286</td> <td>   -7.680</td> <td> 0.000</td> <td>   -2.757</td> <td>   -1.636</td>\n",
       "</tr>\n",
       "<tr>\n",
       "  <th>x1</th>    <td>    0.0226</td> <td>    0.011</td> <td>    2.108</td> <td> 0.035</td> <td>    0.002</td> <td>    0.044</td>\n",
       "</tr>\n",
       "</table>"
      ],
      "text/plain": [
       "<class 'statsmodels.iolib.summary.Summary'>\n",
       "\"\"\"\n",
       "                           Logit Regression Results                           \n",
       "==============================================================================\n",
       "Dep. Variable:                      y   No. Observations:                  195\n",
       "Model:                          Logit   Df Residuals:                      193\n",
       "Method:                           MLE   Df Model:                            1\n",
       "Date:                Fri, 11 Dec 2020   Pseudo R-squ.:                 0.02642\n",
       "Time:                        15:21:08   Log-Likelihood:                -76.349\n",
       "converged:                       True   LL-Null:                       -78.421\n",
       "Covariance Type:            nonrobust   LLR p-value:                   0.04178\n",
       "==============================================================================\n",
       "                 coef    std err          z      P>|z|      [0.025      0.975]\n",
       "------------------------------------------------------------------------------\n",
       "const         -2.1965      0.286     -7.680      0.000      -2.757      -1.636\n",
       "x1             0.0226      0.011      2.108      0.035       0.002       0.044\n",
       "==============================================================================\n",
       "\"\"\""
      ]
     },
     "execution_count": 81,
     "metadata": {},
     "output_type": "execute_result"
    }
   ],
   "source": [
    "result.summary()"
   ]
  },
  {
   "cell_type": "code",
   "execution_count": 82,
   "metadata": {},
   "outputs": [
    {
     "data": {
      "text/plain": [
       "array([-2.19650369,  0.02263397])"
      ]
     },
     "execution_count": 82,
     "metadata": {},
     "output_type": "execute_result"
    }
   ],
   "source": [
    "result.params"
   ]
  },
  {
   "cell_type": "code",
   "execution_count": 83,
   "metadata": {},
   "outputs": [
    {
     "data": {
      "text/plain": [
       "array([1.58676915e-14, 3.50415023e-02])"
      ]
     },
     "execution_count": 83,
     "metadata": {},
     "output_type": "execute_result"
    }
   ],
   "source": [
    "result.pvalues"
   ]
  },
  {
   "cell_type": "code",
   "execution_count": 84,
   "metadata": {},
   "outputs": [
    {
     "data": {
      "text/plain": [
       "array([[-2.75703521e+00, -1.63597217e+00],\n",
       "       [ 1.58827542e-03,  4.36796560e-02]])"
      ]
     },
     "execution_count": 84,
     "metadata": {},
     "output_type": "execute_result"
    }
   ],
   "source": [
    "result.conf_int()"
   ]
  },
  {
   "cell_type": "code",
   "execution_count": 85,
   "metadata": {},
   "outputs": [],
   "source": [
    "coeff_x = result.params[1]\n",
    "coeff_x_95_CF = result.conf_int()[1,:]"
   ]
  },
  {
   "cell_type": "markdown",
   "metadata": {},
   "source": [
    "Calculate Odds Ratio"
   ]
  },
  {
   "cell_type": "code",
   "execution_count": 86,
   "metadata": {},
   "outputs": [
    {
     "name": "stdout",
     "output_type": "stream",
     "text": [
      "1.0228920574737548\n"
     ]
    }
   ],
   "source": [
    "OR_x = np.exp(coeff_x)\n",
    "print OR_x"
   ]
  },
  {
   "cell_type": "code",
   "execution_count": 87,
   "metadata": {},
   "outputs": [
    {
     "name": "stdout",
     "output_type": "stream",
     "text": [
      "[1.00158954 1.04464765]\n"
     ]
    }
   ],
   "source": [
    "OR_x_95_CF = np.exp(coeff_x_95_CF)\n",
    "print OR_x_95_CF"
   ]
  },
  {
   "cell_type": "markdown",
   "metadata": {},
   "source": [
    "Odds Ratio OR (95% CI) = 1.0229 (1.0016 , 1.0446)\n",
    "\n",
    "p-val = 0.035"
   ]
  },
  {
   "cell_type": "markdown",
   "metadata": {},
   "source": [
    "#################################################################################################################################################################################################################################"
   ]
  },
  {
   "cell_type": "markdown",
   "metadata": {},
   "source": [
    "## [5] Analysis 3 - Clonal Interference Patterns"
   ]
  },
  {
   "cell_type": "markdown",
   "metadata": {},
   "source": [
    "#################################################################################################################################################################################################################################"
   ]
  },
  {
   "cell_type": "code",
   "execution_count": 88,
   "metadata": {},
   "outputs": [
    {
     "data": {
      "text/html": [
       "<div>\n",
       "<style>\n",
       "    .dataframe thead tr:only-child th {\n",
       "        text-align: right;\n",
       "    }\n",
       "\n",
       "    .dataframe thead th {\n",
       "        text-align: left;\n",
       "    }\n",
       "\n",
       "    .dataframe tbody tr th {\n",
       "        vertical-align: top;\n",
       "    }\n",
       "</style>\n",
       "<table border=\"1\" class=\"dataframe\">\n",
       "  <thead>\n",
       "    <tr style=\"text-align: right;\">\n",
       "      <th></th>\n",
       "      <th>ref_base</th>\n",
       "      <th>alt_base</th>\n",
       "      <th>ref_position</th>\n",
       "      <th>quality</th>\n",
       "      <th>SNP_type</th>\n",
       "      <th>PASS_filter</th>\n",
       "      <th>INFO</th>\n",
       "      <th>alt_AF</th>\n",
       "      <th>depth</th>\n",
       "      <th>tag</th>\n",
       "      <th>population</th>\n",
       "      <th>patient_id</th>\n",
       "      <th>gene_id</th>\n",
       "      <th>gene_coord</th>\n",
       "      <th>gene_category</th>\n",
       "      <th>gene_symbol</th>\n",
       "      <th>SNP_ftype</th>\n",
       "      <th>AA_change</th>\n",
       "      <th>sample_order</th>\n",
       "    </tr>\n",
       "  </thead>\n",
       "  <tbody>\n",
       "    <tr>\n",
       "      <th>0</th>\n",
       "      <td>T</td>\n",
       "      <td>G</td>\n",
       "      <td>2726338</td>\n",
       "      <td>867</td>\n",
       "      <td>Ref_PASS</td>\n",
       "      <td>[]</td>\n",
       "      <td>{u'QP': [0, 0, 12, 87], u'AC': [0], u'AF': [0....</td>\n",
       "      <td>0.12</td>\n",
       "      <td>62</td>\n",
       "      <td>ERR108174</td>\n",
       "      <td>BRYANT</td>\n",
       "      <td>4024R</td>\n",
       "      <td>Rv2428</td>\n",
       "      <td>146</td>\n",
       "      <td>Antibiotic Resistance</td>\n",
       "      <td>ahpC</td>\n",
       "      <td>N</td>\n",
       "      <td>V49G</td>\n",
       "      <td>2</td>\n",
       "    </tr>\n",
       "    <tr>\n",
       "      <th>1</th>\n",
       "      <td>T</td>\n",
       "      <td>G</td>\n",
       "      <td>2726338</td>\n",
       "      <td>182</td>\n",
       "      <td>Ref_PASS</td>\n",
       "      <td>[]</td>\n",
       "      <td>{u'QP': [0, 0, 22, 77], u'AC': [0], u'AF': [0....</td>\n",
       "      <td>0.22</td>\n",
       "      <td>73</td>\n",
       "      <td>ERR108173</td>\n",
       "      <td>BRYANT</td>\n",
       "      <td>4024R</td>\n",
       "      <td>Rv2428</td>\n",
       "      <td>146</td>\n",
       "      <td>Antibiotic Resistance</td>\n",
       "      <td>ahpC</td>\n",
       "      <td>N</td>\n",
       "      <td>V49G</td>\n",
       "      <td>1</td>\n",
       "    </tr>\n",
       "    <tr>\n",
       "      <th>2</th>\n",
       "      <td>T</td>\n",
       "      <td>G</td>\n",
       "      <td>2726341</td>\n",
       "      <td>234</td>\n",
       "      <td>Ref_PASS</td>\n",
       "      <td>[]</td>\n",
       "      <td>{u'QP': [0, 0, 22, 78], u'AC': [0], u'AF': [0....</td>\n",
       "      <td>0.22</td>\n",
       "      <td>73</td>\n",
       "      <td>ERR108173</td>\n",
       "      <td>BRYANT</td>\n",
       "      <td>4024R</td>\n",
       "      <td>Rv2428</td>\n",
       "      <td>149</td>\n",
       "      <td>Antibiotic Resistance</td>\n",
       "      <td>ahpC</td>\n",
       "      <td>N</td>\n",
       "      <td>V50G</td>\n",
       "      <td>1</td>\n",
       "    </tr>\n",
       "    <tr>\n",
       "      <th>3</th>\n",
       "      <td>T</td>\n",
       "      <td>G</td>\n",
       "      <td>2726341</td>\n",
       "      <td>931</td>\n",
       "      <td>Ref_PASS</td>\n",
       "      <td>[]</td>\n",
       "      <td>{u'QP': [0, 0, 11, 89], u'AC': [0], u'AF': [0....</td>\n",
       "      <td>0.11</td>\n",
       "      <td>59</td>\n",
       "      <td>ERR108174</td>\n",
       "      <td>BRYANT</td>\n",
       "      <td>4024R</td>\n",
       "      <td>Rv2428</td>\n",
       "      <td>149</td>\n",
       "      <td>Antibiotic Resistance</td>\n",
       "      <td>ahpC</td>\n",
       "      <td>N</td>\n",
       "      <td>V50G</td>\n",
       "      <td>2</td>\n",
       "    </tr>\n",
       "    <tr>\n",
       "      <th>4</th>\n",
       "      <td>A</td>\n",
       "      <td>C</td>\n",
       "      <td>4049577</td>\n",
       "      <td>772</td>\n",
       "      <td>Ref_PASS</td>\n",
       "      <td>[]</td>\n",
       "      <td>{u'QP': [88, 12, 0, 0], u'AC': [0], u'AF': [0....</td>\n",
       "      <td>0.12</td>\n",
       "      <td>52</td>\n",
       "      <td>ERR108173</td>\n",
       "      <td>BRYANT</td>\n",
       "      <td>4024R</td>\n",
       "      <td>Rv3608c</td>\n",
       "      <td>404</td>\n",
       "      <td>Antibiotic Resistance</td>\n",
       "      <td>folP1</td>\n",
       "      <td>N</td>\n",
       "      <td>V135G</td>\n",
       "      <td>1</td>\n",
       "    </tr>\n",
       "  </tbody>\n",
       "</table>\n",
       "</div>"
      ],
      "text/plain": [
       "  ref_base alt_base  ref_position  quality  SNP_type PASS_filter  \\\n",
       "0        T        G       2726338      867  Ref_PASS          []   \n",
       "1        T        G       2726338      182  Ref_PASS          []   \n",
       "2        T        G       2726341      234  Ref_PASS          []   \n",
       "3        T        G       2726341      931  Ref_PASS          []   \n",
       "4        A        C       4049577      772  Ref_PASS          []   \n",
       "\n",
       "                                                INFO  alt_AF  depth  \\\n",
       "0  {u'QP': [0, 0, 12, 87], u'AC': [0], u'AF': [0....    0.12     62   \n",
       "1  {u'QP': [0, 0, 22, 77], u'AC': [0], u'AF': [0....    0.22     73   \n",
       "2  {u'QP': [0, 0, 22, 78], u'AC': [0], u'AF': [0....    0.22     73   \n",
       "3  {u'QP': [0, 0, 11, 89], u'AC': [0], u'AF': [0....    0.11     59   \n",
       "4  {u'QP': [88, 12, 0, 0], u'AC': [0], u'AF': [0....    0.12     52   \n",
       "\n",
       "         tag population patient_id  gene_id gene_coord          gene_category  \\\n",
       "0  ERR108174     BRYANT      4024R   Rv2428        146  Antibiotic Resistance   \n",
       "1  ERR108173     BRYANT      4024R   Rv2428        146  Antibiotic Resistance   \n",
       "2  ERR108173     BRYANT      4024R   Rv2428        149  Antibiotic Resistance   \n",
       "3  ERR108174     BRYANT      4024R   Rv2428        149  Antibiotic Resistance   \n",
       "4  ERR108173     BRYANT      4024R  Rv3608c        404  Antibiotic Resistance   \n",
       "\n",
       "  gene_symbol SNP_ftype AA_change  sample_order  \n",
       "0        ahpC         N      V49G             2  \n",
       "1        ahpC         N      V49G             1  \n",
       "2        ahpC         N      V50G             1  \n",
       "3        ahpC         N      V50G             2  \n",
       "4       folP1         N     V135G             1  "
      ]
     },
     "execution_count": 88,
     "metadata": {},
     "output_type": "execute_result"
    }
   ],
   "source": [
    "within_host_Base_Call_variants_all_patients_sample_order.head()"
   ]
  },
  {
   "cell_type": "code",
   "execution_count": 89,
   "metadata": {},
   "outputs": [
    {
     "data": {
      "text/plain": [
       "(3878, 19)"
      ]
     },
     "execution_count": 89,
     "metadata": {},
     "output_type": "execute_result"
    }
   ],
   "source": [
    "np.shape(within_host_Base_Call_variants_all_patients_sample_order)"
   ]
  },
  {
   "cell_type": "code",
   "execution_count": 90,
   "metadata": {},
   "outputs": [],
   "source": [
    "plt.style.use('ggplot')\n",
    "plt.rcParams['lines.linewidth']=0\n",
    "plt.rcParams['axes.facecolor']='1.0'\n",
    "plt.rcParams['xtick.color']='black'\n",
    "plt.rcParams['axes.grid']=False\n",
    "plt.rcParams['axes.edgecolor']='black'\n",
    "plt.rcParams['grid.color']= '1.0'\n",
    "plt.rcParams.update({'font.size': 14})"
   ]
  },
  {
   "cell_type": "code",
   "execution_count": 91,
   "metadata": {},
   "outputs": [
    {
     "data": {
      "image/png": "[encoded data removed]",
      "text/plain": [
       "<Figure size 720x396 with 1 Axes>"
      ]
     },
     "metadata": {},
     "output_type": "display_data"
    }
   ],
   "source": [
    "fig , ax = plt.subplots()\n",
    "\n",
    "n , bins , patches = plt.hist(list(within_host_Base_Call_variants_all_patients_sample_order.alt_AF) , rwidth = 1.0 , edgecolor='white', bins = 75 , linewidth = 1.5 , color = 'black')\n",
    "plt.plot([.4 , .4] , [0 , max(n)] , 'r--' , linewidth = 1.5)\n",
    "\n",
    "plt.xlabel('Alternate Allele Frequency', fontweight = 'bold' , fontsize = 12, color = 'black')\n",
    "plt.ylabel('Number of Base Calls\\n(N = ' + str(np.shape(within_host_Base_Call_variants_all_patients_sample_order)[0]) + ')', fontweight = 'bold' , fontsize = 12, color = 'black')\n",
    "\n",
    "ax.spines['right'].set_visible(False)\n",
    "ax.spines['top'].set_visible(False)\n",
    "\n",
    "ax.tick_params(labelcolor = 'k')\n",
    "ax.set_yscale(\"log\", nonposy='clip')\n",
    "ax.tick_params(direction='out', length=3, width=1.25, colors='k') #make tick marks darker\n",
    "\n",
    "ax.set_xlim(-0.01 , 1.01)\n",
    "\n",
    "fig = plt.gcf()\n",
    "fig.set_size_inches(10.0, 5.5)\n",
    "fig.tight_layout()\n",
    "\n",
    "file_name = '/n/data1/hms/dbmi/farhat/Roger/inhost_TB_dynamics_project/figures/antibiotic_resistance_analysis/clonal_interference_examples/alt_AF_distribution_all_AR_SNPs.pdf'\n",
    "plt.savefig(file_name, bbox_inches='tight', dpi = 300 , transparent = True)\n",
    "\n",
    "plt.show()"
   ]
  },
  {
   "cell_type": "code",
   "execution_count": 92,
   "metadata": {},
   "outputs": [
    {
     "data": {
      "text/html": [
       "<div>\n",
       "<style>\n",
       "    .dataframe thead tr:only-child th {\n",
       "        text-align: right;\n",
       "    }\n",
       "\n",
       "    .dataframe thead th {\n",
       "        text-align: left;\n",
       "    }\n",
       "\n",
       "    .dataframe tbody tr th {\n",
       "        vertical-align: top;\n",
       "    }\n",
       "</style>\n",
       "<table border=\"1\" class=\"dataframe\">\n",
       "  <thead>\n",
       "    <tr style=\"text-align: right;\">\n",
       "      <th></th>\n",
       "      <th>ref_base</th>\n",
       "      <th>alt_base</th>\n",
       "      <th>ref_position</th>\n",
       "      <th>quality</th>\n",
       "      <th>SNP_type</th>\n",
       "      <th>PASS_filter</th>\n",
       "      <th>INFO</th>\n",
       "      <th>alt_AF</th>\n",
       "      <th>depth</th>\n",
       "      <th>tag</th>\n",
       "      <th>population</th>\n",
       "      <th>patient_id</th>\n",
       "      <th>gene_id</th>\n",
       "      <th>gene_coord</th>\n",
       "      <th>gene_category</th>\n",
       "      <th>gene_symbol</th>\n",
       "      <th>SNP_ftype</th>\n",
       "      <th>AA_change</th>\n",
       "      <th>sample_order</th>\n",
       "    </tr>\n",
       "  </thead>\n",
       "  <tbody>\n",
       "    <tr>\n",
       "      <th>0</th>\n",
       "      <td>T</td>\n",
       "      <td>G</td>\n",
       "      <td>2726338</td>\n",
       "      <td>867</td>\n",
       "      <td>Ref_PASS</td>\n",
       "      <td>[]</td>\n",
       "      <td>{u'QP': [0, 0, 12, 87], u'AC': [0], u'AF': [0....</td>\n",
       "      <td>0.12</td>\n",
       "      <td>62</td>\n",
       "      <td>ERR108174</td>\n",
       "      <td>BRYANT</td>\n",
       "      <td>4024R</td>\n",
       "      <td>Rv2428</td>\n",
       "      <td>146</td>\n",
       "      <td>Antibiotic Resistance</td>\n",
       "      <td>ahpC</td>\n",
       "      <td>N</td>\n",
       "      <td>V49G</td>\n",
       "      <td>2</td>\n",
       "    </tr>\n",
       "    <tr>\n",
       "      <th>1</th>\n",
       "      <td>T</td>\n",
       "      <td>G</td>\n",
       "      <td>2726338</td>\n",
       "      <td>182</td>\n",
       "      <td>Ref_PASS</td>\n",
       "      <td>[]</td>\n",
       "      <td>{u'QP': [0, 0, 22, 77], u'AC': [0], u'AF': [0....</td>\n",
       "      <td>0.22</td>\n",
       "      <td>73</td>\n",
       "      <td>ERR108173</td>\n",
       "      <td>BRYANT</td>\n",
       "      <td>4024R</td>\n",
       "      <td>Rv2428</td>\n",
       "      <td>146</td>\n",
       "      <td>Antibiotic Resistance</td>\n",
       "      <td>ahpC</td>\n",
       "      <td>N</td>\n",
       "      <td>V49G</td>\n",
       "      <td>1</td>\n",
       "    </tr>\n",
       "    <tr>\n",
       "      <th>2</th>\n",
       "      <td>T</td>\n",
       "      <td>G</td>\n",
       "      <td>2726341</td>\n",
       "      <td>234</td>\n",
       "      <td>Ref_PASS</td>\n",
       "      <td>[]</td>\n",
       "      <td>{u'QP': [0, 0, 22, 78], u'AC': [0], u'AF': [0....</td>\n",
       "      <td>0.22</td>\n",
       "      <td>73</td>\n",
       "      <td>ERR108173</td>\n",
       "      <td>BRYANT</td>\n",
       "      <td>4024R</td>\n",
       "      <td>Rv2428</td>\n",
       "      <td>149</td>\n",
       "      <td>Antibiotic Resistance</td>\n",
       "      <td>ahpC</td>\n",
       "      <td>N</td>\n",
       "      <td>V50G</td>\n",
       "      <td>1</td>\n",
       "    </tr>\n",
       "    <tr>\n",
       "      <th>3</th>\n",
       "      <td>T</td>\n",
       "      <td>G</td>\n",
       "      <td>2726341</td>\n",
       "      <td>931</td>\n",
       "      <td>Ref_PASS</td>\n",
       "      <td>[]</td>\n",
       "      <td>{u'QP': [0, 0, 11, 89], u'AC': [0], u'AF': [0....</td>\n",
       "      <td>0.11</td>\n",
       "      <td>59</td>\n",
       "      <td>ERR108174</td>\n",
       "      <td>BRYANT</td>\n",
       "      <td>4024R</td>\n",
       "      <td>Rv2428</td>\n",
       "      <td>149</td>\n",
       "      <td>Antibiotic Resistance</td>\n",
       "      <td>ahpC</td>\n",
       "      <td>N</td>\n",
       "      <td>V50G</td>\n",
       "      <td>2</td>\n",
       "    </tr>\n",
       "    <tr>\n",
       "      <th>4</th>\n",
       "      <td>A</td>\n",
       "      <td>C</td>\n",
       "      <td>4049577</td>\n",
       "      <td>772</td>\n",
       "      <td>Ref_PASS</td>\n",
       "      <td>[]</td>\n",
       "      <td>{u'QP': [88, 12, 0, 0], u'AC': [0], u'AF': [0....</td>\n",
       "      <td>0.12</td>\n",
       "      <td>52</td>\n",
       "      <td>ERR108173</td>\n",
       "      <td>BRYANT</td>\n",
       "      <td>4024R</td>\n",
       "      <td>Rv3608c</td>\n",
       "      <td>404</td>\n",
       "      <td>Antibiotic Resistance</td>\n",
       "      <td>folP1</td>\n",
       "      <td>N</td>\n",
       "      <td>V135G</td>\n",
       "      <td>1</td>\n",
       "    </tr>\n",
       "  </tbody>\n",
       "</table>\n",
       "</div>"
      ],
      "text/plain": [
       "  ref_base alt_base  ref_position  quality  SNP_type PASS_filter  \\\n",
       "0        T        G       2726338      867  Ref_PASS          []   \n",
       "1        T        G       2726338      182  Ref_PASS          []   \n",
       "2        T        G       2726341      234  Ref_PASS          []   \n",
       "3        T        G       2726341      931  Ref_PASS          []   \n",
       "4        A        C       4049577      772  Ref_PASS          []   \n",
       "\n",
       "                                                INFO  alt_AF  depth  \\\n",
       "0  {u'QP': [0, 0, 12, 87], u'AC': [0], u'AF': [0....    0.12     62   \n",
       "1  {u'QP': [0, 0, 22, 77], u'AC': [0], u'AF': [0....    0.22     73   \n",
       "2  {u'QP': [0, 0, 22, 78], u'AC': [0], u'AF': [0....    0.22     73   \n",
       "3  {u'QP': [0, 0, 11, 89], u'AC': [0], u'AF': [0....    0.11     59   \n",
       "4  {u'QP': [88, 12, 0, 0], u'AC': [0], u'AF': [0....    0.12     52   \n",
       "\n",
       "         tag population patient_id  gene_id gene_coord          gene_category  \\\n",
       "0  ERR108174     BRYANT      4024R   Rv2428        146  Antibiotic Resistance   \n",
       "1  ERR108173     BRYANT      4024R   Rv2428        146  Antibiotic Resistance   \n",
       "2  ERR108173     BRYANT      4024R   Rv2428        149  Antibiotic Resistance   \n",
       "3  ERR108174     BRYANT      4024R   Rv2428        149  Antibiotic Resistance   \n",
       "4  ERR108173     BRYANT      4024R  Rv3608c        404  Antibiotic Resistance   \n",
       "\n",
       "  gene_symbol SNP_ftype AA_change  sample_order  \n",
       "0        ahpC         N      V49G             2  \n",
       "1        ahpC         N      V49G             1  \n",
       "2        ahpC         N      V50G             1  \n",
       "3        ahpC         N      V50G             2  \n",
       "4       folP1         N     V135G             1  "
      ]
     },
     "execution_count": 92,
     "metadata": {},
     "output_type": "execute_result"
    }
   ],
   "source": [
    "within_host_Base_Call_variants_all_patients_sample_order.head()"
   ]
  },
  {
   "cell_type": "markdown",
   "metadata": {},
   "source": [
    "#### List of subjects that have at least 1 SNP within-host"
   ]
  },
  {
   "cell_type": "code",
   "execution_count": 94,
   "metadata": {},
   "outputs": [],
   "source": [
    "subject_ids = list( set( list( within_host_Base_Call_variants_all_patients_sample_order.patient_id ) ) )"
   ]
  },
  {
   "cell_type": "code",
   "execution_count": 95,
   "metadata": {},
   "outputs": [],
   "source": [
    "clonal_interference_SNP_candidates = pd.DataFrame(columns = within_host_Base_Call_variants_all_patients_sample_order.columns)\n",
    "\n",
    "for subject_id in subject_ids:\n",
    "    \n",
    "    within_host_Base_Call_variants_for_patient = within_host_Base_Call_variants_all_patients_sample_order[within_host_Base_Call_variants_all_patients_sample_order.patient_id == subject_id]\n",
    "\n",
    "    for gene_id in list(set(list(within_host_Base_Call_variants_for_patient.gene_id))):\n",
    "\n",
    "        within_host_Base_Call_variants_for_patient_and_geneID = within_host_Base_Call_variants_for_patient[within_host_Base_Call_variants_for_patient.gene_id == gene_id]\n",
    "\n",
    "        #1st AFs\n",
    "        sample_1_AFs = []\n",
    "        #2nd AFs\n",
    "        sample_2_AFs = []\n",
    "\n",
    "        #for each pair of Base Calls, store (alternate Allele Frequency of isolate_1) and (alternate Allele Frequency of isolate_2 - alternate Allele Frequency of isolate_1)\n",
    "        for Base_Call_A_index , Base_Call_B_index in zip( list( within_host_Base_Call_variants_for_patient_and_geneID.iloc[ range(0 , np.shape(within_host_Base_Call_variants_for_patient_and_geneID)[0] , 2) ].index ) , list( within_host_Base_Call_variants_for_patient_and_geneID.iloc[ range(1 , np.shape(within_host_Base_Call_variants_for_patient_and_geneID)[0] , 2) ].index ) ):\n",
    "\n",
    "            #pull alternate AF & sample number for each isolate in pair\n",
    "            if  within_host_Base_Call_variants_for_patient_and_geneID.loc[Base_Call_A_index , 'sample_order'] == 1:\n",
    "\n",
    "                Base_Call_H37Rv_AF_1 = within_host_Base_Call_variants_for_patient_and_geneID.loc[Base_Call_A_index , 'alt_AF']\n",
    "                Base_Call_H37Rv_AF_2 = within_host_Base_Call_variants_for_patient_and_geneID.loc[Base_Call_B_index , 'alt_AF']\n",
    "\n",
    "            elif within_host_Base_Call_variants_for_patient_and_geneID.loc[Base_Call_A_index , 'sample_order'] == 2:\n",
    "\n",
    "                Base_Call_H37Rv_AF_2 = within_host_Base_Call_variants_for_patient_and_geneID.loc[Base_Call_A_index , 'alt_AF']\n",
    "                Base_Call_H37Rv_AF_1 = within_host_Base_Call_variants_for_patient_and_geneID.loc[Base_Call_B_index , 'alt_AF']\n",
    "\n",
    "            #store 1st & 2nd AFs in lists\n",
    "            sample_1_AFs.append(Base_Call_H37Rv_AF_1)\n",
    "            sample_2_AFs.append(Base_Call_H37Rv_AF_2)\n",
    "\n",
    "        #see if any AFs > 0.40\n",
    "        if sum(np.array(sample_1_AFs + sample_2_AFs) >= 0.40 ) > 0:\n",
    "            \n",
    "            #check to see if AFs for any SNPs within the same subject & gene 'move in' opposite directions\n",
    "            if ( sum( np.array( sample_1_AFs ) < np.array(sample_2_AFs) ) == len(sample_1_AFs) ) or ( sum( np.array( sample_1_AFs ) > np.array(sample_2_AFs) ) == len(sample_1_AFs) ):\n",
    "                pass\n",
    "            else:\n",
    "                clonal_interference_SNP_candidates = clonal_interference_SNP_candidates.append(within_host_Base_Call_variants_for_patient_and_geneID)\n",
    "                \n",
    "#reset index\n",
    "clonal_interference_SNP_candidates.reset_index(inplace = True , drop = True)"
   ]
  },
  {
   "cell_type": "markdown",
   "metadata": {},
   "source": [
    "#### Check for evidence of clonal interference in Intergenic regions"
   ]
  },
  {
   "cell_type": "code",
   "execution_count": 96,
   "metadata": {},
   "outputs": [
    {
     "data": {
      "text/html": [
       "<div>\n",
       "<style>\n",
       "    .dataframe thead tr:only-child th {\n",
       "        text-align: right;\n",
       "    }\n",
       "\n",
       "    .dataframe thead th {\n",
       "        text-align: left;\n",
       "    }\n",
       "\n",
       "    .dataframe tbody tr th {\n",
       "        vertical-align: top;\n",
       "    }\n",
       "</style>\n",
       "<table border=\"1\" class=\"dataframe\">\n",
       "  <thead>\n",
       "    <tr style=\"text-align: right;\">\n",
       "      <th></th>\n",
       "      <th>ref_base</th>\n",
       "      <th>alt_base</th>\n",
       "      <th>ref_position</th>\n",
       "      <th>quality</th>\n",
       "      <th>SNP_type</th>\n",
       "      <th>PASS_filter</th>\n",
       "      <th>INFO</th>\n",
       "      <th>alt_AF</th>\n",
       "      <th>depth</th>\n",
       "      <th>tag</th>\n",
       "      <th>population</th>\n",
       "      <th>patient_id</th>\n",
       "      <th>gene_id</th>\n",
       "      <th>gene_coord</th>\n",
       "      <th>gene_category</th>\n",
       "      <th>gene_symbol</th>\n",
       "      <th>SNP_ftype</th>\n",
       "      <th>AA_change</th>\n",
       "      <th>sample_order</th>\n",
       "    </tr>\n",
       "  </thead>\n",
       "  <tbody>\n",
       "  </tbody>\n",
       "</table>\n",
       "</div>"
      ],
      "text/plain": [
       "Empty DataFrame\n",
       "Columns: [ref_base, alt_base, ref_position, quality, SNP_type, PASS_filter, INFO, alt_AF, depth, tag, population, patient_id, gene_id, gene_coord, gene_category, gene_symbol, SNP_ftype, AA_change, sample_order]\n",
       "Index: []"
      ]
     },
     "execution_count": 96,
     "metadata": {},
     "output_type": "execute_result"
    }
   ],
   "source": [
    "clonal_interference_SNP_candidates[clonal_interference_SNP_candidates.SNP_ftype == 'I']"
   ]
  },
  {
   "cell_type": "markdown",
   "metadata": {},
   "source": [
    "No intergenic regions have SNPs that fit the criteria for clonal interference pattern"
   ]
  },
  {
   "cell_type": "code",
   "execution_count": 97,
   "metadata": {},
   "outputs": [
    {
     "data": {
      "text/html": [
       "<div>\n",
       "<style>\n",
       "    .dataframe thead tr:only-child th {\n",
       "        text-align: right;\n",
       "    }\n",
       "\n",
       "    .dataframe thead th {\n",
       "        text-align: left;\n",
       "    }\n",
       "\n",
       "    .dataframe tbody tr th {\n",
       "        vertical-align: top;\n",
       "    }\n",
       "</style>\n",
       "<table border=\"1\" class=\"dataframe\">\n",
       "  <thead>\n",
       "    <tr style=\"text-align: right;\">\n",
       "      <th></th>\n",
       "      <th>ref_base</th>\n",
       "      <th>alt_base</th>\n",
       "      <th>ref_position</th>\n",
       "      <th>quality</th>\n",
       "      <th>SNP_type</th>\n",
       "      <th>PASS_filter</th>\n",
       "      <th>INFO</th>\n",
       "      <th>alt_AF</th>\n",
       "      <th>depth</th>\n",
       "      <th>tag</th>\n",
       "      <th>population</th>\n",
       "      <th>patient_id</th>\n",
       "      <th>gene_id</th>\n",
       "      <th>gene_coord</th>\n",
       "      <th>gene_category</th>\n",
       "      <th>gene_symbol</th>\n",
       "      <th>SNP_ftype</th>\n",
       "      <th>AA_change</th>\n",
       "      <th>sample_order</th>\n",
       "    </tr>\n",
       "  </thead>\n",
       "  <tbody>\n",
       "    <tr>\n",
       "      <th>0</th>\n",
       "      <td>T</td>\n",
       "      <td>G</td>\n",
       "      <td>4247510</td>\n",
       "      <td>5791</td>\n",
       "      <td>Ref_PASS</td>\n",
       "      <td>[]</td>\n",
       "      <td>{u'QP': [0, 0, 9, 91], u'AC': [0], u'AF': [0.0...</td>\n",
       "      <td>0.09</td>\n",
       "      <td>327</td>\n",
       "      <td>ERR037522</td>\n",
       "      <td>GUERRA</td>\n",
       "      <td>KPS_5</td>\n",
       "      <td>Rv3795</td>\n",
       "      <td>997</td>\n",
       "      <td>Antibiotic Resistance</td>\n",
       "      <td>embB</td>\n",
       "      <td>N</td>\n",
       "      <td>Y333D</td>\n",
       "      <td>1</td>\n",
       "    </tr>\n",
       "    <tr>\n",
       "      <th>1</th>\n",
       "      <td>T</td>\n",
       "      <td>Z</td>\n",
       "      <td>4247510</td>\n",
       "      <td>1772</td>\n",
       "      <td>Ref_PASS</td>\n",
       "      <td>[]</td>\n",
       "      <td>{u'QP': [0, 0, 0, 100], u'AC': [0], u'AF': [0....</td>\n",
       "      <td>0.00</td>\n",
       "      <td>59</td>\n",
       "      <td>ERR212078</td>\n",
       "      <td>GUERRA</td>\n",
       "      <td>KPS_5</td>\n",
       "      <td>Rv3795</td>\n",
       "      <td>997</td>\n",
       "      <td>Antibiotic Resistance</td>\n",
       "      <td>embB</td>\n",
       "      <td>None</td>\n",
       "      <td>None</td>\n",
       "      <td>2</td>\n",
       "    </tr>\n",
       "    <tr>\n",
       "      <th>2</th>\n",
       "      <td>C</td>\n",
       "      <td>Z</td>\n",
       "      <td>4247603</td>\n",
       "      <td>1998</td>\n",
       "      <td>Ref_PASS</td>\n",
       "      <td>[]</td>\n",
       "      <td>{u'QP': [0, 100, 0, 0], u'AC': [0], u'AF': [0....</td>\n",
       "      <td>0.00</td>\n",
       "      <td>57</td>\n",
       "      <td>ERR212078</td>\n",
       "      <td>GUERRA</td>\n",
       "      <td>KPS_5</td>\n",
       "      <td>Rv3795</td>\n",
       "      <td>1090</td>\n",
       "      <td>Antibiotic Resistance</td>\n",
       "      <td>embB</td>\n",
       "      <td>None</td>\n",
       "      <td>None</td>\n",
       "      <td>2</td>\n",
       "    </tr>\n",
       "    <tr>\n",
       "      <th>3</th>\n",
       "      <td>C</td>\n",
       "      <td>G</td>\n",
       "      <td>4247603</td>\n",
       "      <td>4504</td>\n",
       "      <td>Ref_PASS</td>\n",
       "      <td>[]</td>\n",
       "      <td>{u'QP': [0, 94, 6, 0], u'AC': [0], u'AF': [0.0...</td>\n",
       "      <td>0.06</td>\n",
       "      <td>223</td>\n",
       "      <td>ERR037522</td>\n",
       "      <td>GUERRA</td>\n",
       "      <td>KPS_5</td>\n",
       "      <td>Rv3795</td>\n",
       "      <td>1090</td>\n",
       "      <td>Antibiotic Resistance</td>\n",
       "      <td>embB</td>\n",
       "      <td>N</td>\n",
       "      <td>L364V</td>\n",
       "      <td>1</td>\n",
       "    </tr>\n",
       "    <tr>\n",
       "      <th>4</th>\n",
       "      <td>T</td>\n",
       "      <td>G</td>\n",
       "      <td>4247619</td>\n",
       "      <td>3464</td>\n",
       "      <td>Ref_PASS</td>\n",
       "      <td>[]</td>\n",
       "      <td>{u'QP': [0, 0, 6, 94], u'AC': [0], u'AF': [0.0...</td>\n",
       "      <td>0.06</td>\n",
       "      <td>219</td>\n",
       "      <td>ERR037522</td>\n",
       "      <td>GUERRA</td>\n",
       "      <td>KPS_5</td>\n",
       "      <td>Rv3795</td>\n",
       "      <td>1106</td>\n",
       "      <td>Antibiotic Resistance</td>\n",
       "      <td>embB</td>\n",
       "      <td>N</td>\n",
       "      <td>V369G</td>\n",
       "      <td>1</td>\n",
       "    </tr>\n",
       "  </tbody>\n",
       "</table>\n",
       "</div>"
      ],
      "text/plain": [
       "  ref_base alt_base ref_position quality  SNP_type PASS_filter  \\\n",
       "0        T        G      4247510    5791  Ref_PASS          []   \n",
       "1        T        Z      4247510    1772  Ref_PASS          []   \n",
       "2        C        Z      4247603    1998  Ref_PASS          []   \n",
       "3        C        G      4247603    4504  Ref_PASS          []   \n",
       "4        T        G      4247619    3464  Ref_PASS          []   \n",
       "\n",
       "                                                INFO  alt_AF depth        tag  \\\n",
       "0  {u'QP': [0, 0, 9, 91], u'AC': [0], u'AF': [0.0...    0.09   327  ERR037522   \n",
       "1  {u'QP': [0, 0, 0, 100], u'AC': [0], u'AF': [0....    0.00    59  ERR212078   \n",
       "2  {u'QP': [0, 100, 0, 0], u'AC': [0], u'AF': [0....    0.00    57  ERR212078   \n",
       "3  {u'QP': [0, 94, 6, 0], u'AC': [0], u'AF': [0.0...    0.06   223  ERR037522   \n",
       "4  {u'QP': [0, 0, 6, 94], u'AC': [0], u'AF': [0.0...    0.06   219  ERR037522   \n",
       "\n",
       "  population patient_id gene_id gene_coord          gene_category gene_symbol  \\\n",
       "0     GUERRA      KPS_5  Rv3795        997  Antibiotic Resistance        embB   \n",
       "1     GUERRA      KPS_5  Rv3795        997  Antibiotic Resistance        embB   \n",
       "2     GUERRA      KPS_5  Rv3795       1090  Antibiotic Resistance        embB   \n",
       "3     GUERRA      KPS_5  Rv3795       1090  Antibiotic Resistance        embB   \n",
       "4     GUERRA      KPS_5  Rv3795       1106  Antibiotic Resistance        embB   \n",
       "\n",
       "  SNP_ftype AA_change sample_order  \n",
       "0         N     Y333D            1  \n",
       "1      None      None            2  \n",
       "2      None      None            2  \n",
       "3         N     L364V            1  \n",
       "4         N     V369G            1  "
      ]
     },
     "execution_count": 97,
     "metadata": {},
     "output_type": "execute_result"
    }
   ],
   "source": [
    "clonal_interference_SNP_candidates.head()"
   ]
  },
  {
   "cell_type": "code",
   "execution_count": 98,
   "metadata": {},
   "outputs": [
    {
     "data": {
      "text/plain": [
       "(70, 19)"
      ]
     },
     "execution_count": 98,
     "metadata": {},
     "output_type": "execute_result"
    }
   ],
   "source": [
    "np.shape(clonal_interference_SNP_candidates)"
   ]
  },
  {
   "cell_type": "markdown",
   "metadata": {},
   "source": [
    "Find all gene - subject pairs that show evidence of clonal interference"
   ]
  },
  {
   "cell_type": "code",
   "execution_count": 99,
   "metadata": {},
   "outputs": [],
   "source": [
    "gene_subject_combos = list( set( [gene_id + ':' + subject_id for gene_id,subject_id in zip( list(clonal_interference_SNP_candidates.gene_id) , list(clonal_interference_SNP_candidates.patient_id) ) ] ) )"
   ]
  },
  {
   "cell_type": "code",
   "execution_count": 100,
   "metadata": {
    "scrolled": false
   },
   "outputs": [
    {
     "name": "stdout",
     "output_type": "stream",
     "text": [
      "2556 : gyrA\n",
      "D94A    1.0\n",
      "A74S    0.0\n",
      "dtype: float64\n",
      "-----------------------\n"
     ]
    },
    {
     "data": {
      "image/png": "[encoded data removed]",
      "text/plain": [
       "<Figure size 216x468 with 1 Axes>"
      ]
     },
     "metadata": {},
     "output_type": "display_data"
    },
    {
     "name": "stdout",
     "output_type": "stream",
     "text": [
      "P000227 : embB\n",
      "M306I    1.00\n",
      "S738A    0.09\n",
      "dtype: float64\n",
      "-----------------------\n"
     ]
    },
    {
     "data": {
      "image/png": "[encoded data removed]",
      "text/plain": [
       "<Figure size 216x468 with 1 Axes>"
      ]
     },
     "metadata": {},
     "output_type": "display_data"
    },
    {
     "name": "stdout",
     "output_type": "stream",
     "text": [
      "P000227 : rpoB\n",
      "I491F    0.99\n",
      "L815V    0.03\n",
      "dtype: float64\n",
      "-----------------------\n"
     ]
    },
    {
     "data": {
      "image/png": "[encoded data removed]",
      "text/plain": [
       "<Figure size 216x468 with 1 Axes>"
      ]
     },
     "metadata": {},
     "output_type": "display_data"
    },
    {
     "name": "stdout",
     "output_type": "stream",
     "text": [
      "3451 : pncA\n",
      "L182W    0.72\n",
      "Q122*    0.23\n",
      "dtype: float64\n",
      "-----------------------\n"
     ]
    },
    {
     "data": {
      "image/png": "[encoded data removed]",
      "text/plain": [
       "<Figure size 216x468 with 1 Axes>"
      ]
     },
     "metadata": {},
     "output_type": "display_data"
    },
    {
     "name": "stdout",
     "output_type": "stream",
     "text": [
      "KPS_5 : embB\n",
      "G406S    1.0\n",
      "Y333D    0.0\n",
      "V717G    0.0\n",
      "V369G    0.0\n",
      "L364V    0.0\n",
      "dtype: float64\n",
      "-----------------------\n"
     ]
    },
    {
     "data": {
      "image/png": "[encoded data removed]",
      "text/plain": [
       "<Figure size 216x468 with 1 Axes>"
      ]
     },
     "metadata": {},
     "output_type": "display_data"
    },
    {
     "name": "stdout",
     "output_type": "stream",
     "text": [
      "2491 : ethA\n",
      "G42S    1.0\n",
      "Q73*    0.0\n",
      "dtype: float64\n",
      "-----------------------\n"
     ]
    },
    {
     "data": {
      "image/png": "[encoded data removed]",
      "text/plain": [
       "<Figure size 216x468 with 1 Axes>"
      ]
     },
     "metadata": {},
     "output_type": "display_data"
    },
    {
     "name": "stdout",
     "output_type": "stream",
     "text": [
      "D : gyrA\n",
      "D94N     1.0\n",
      "A90V     1.0\n",
      "Q551K    0.0\n",
      "dtype: float64\n",
      "-----------------------\n"
     ]
    },
    {
     "data": {
      "image/png": "[encoded data removed]",
      "text/plain": [
       "<Figure size 216x468 with 1 Axes>"
      ]
     },
     "metadata": {},
     "output_type": "display_data"
    },
    {
     "name": "stdout",
     "output_type": "stream",
     "text": [
      "2556 : ethA\n",
      "Y235D    1.0\n",
      "H281R    0.0\n",
      "dtype: float64\n",
      "-----------------------\n"
     ]
    },
    {
     "data": {
      "image/png": "[encoded data removed]",
      "text/plain": [
       "<Figure size 216x468 with 1 Axes>"
      ]
     },
     "metadata": {},
     "output_type": "display_data"
    },
    {
     "name": "stdout",
     "output_type": "stream",
     "text": [
      "1700 : katG\n",
      "S315G    0.53\n",
      "T380I    0.51\n",
      "Y678N    0.00\n",
      "T112I    0.00\n",
      "S383L    0.00\n",
      "R114C    0.00\n",
      "F594L    0.00\n",
      "A144V    0.00\n",
      "dtype: float64\n",
      "-----------------------\n"
     ]
    },
    {
     "data": {
      "image/png": "[encoded data removed]",
      "text/plain": [
       "<Figure size 216x468 with 1 Axes>"
      ]
     },
     "metadata": {},
     "output_type": "display_data"
    },
    {
     "name": "stdout",
     "output_type": "stream",
     "text": [
      "1719 : ethA\n",
      "R54L     0.49\n",
      "R421*    0.00\n",
      "dtype: float64\n",
      "-----------------------\n"
     ]
    },
    {
     "data": {
      "image/png": "[encoded data removed]",
      "text/plain": [
       "<Figure size 216x468 with 1 Axes>"
      ]
     },
     "metadata": {},
     "output_type": "display_data"
    },
    {
     "name": "stdout",
     "output_type": "stream",
     "text": [
      "KPS_24 : katG\n",
      "L159F    1.0\n",
      "V151G    0.0\n",
      "G99R     0.0\n",
      "E452K    0.0\n",
      "D440G    0.0\n",
      "dtype: float64\n",
      "-----------------------\n"
     ]
    },
    {
     "data": {
      "image/png": "[encoded data removed]",
      "text/plain": [
       "<Figure size 216x468 with 1 Axes>"
      ]
     },
     "metadata": {},
     "output_type": "display_data"
    }
   ],
   "source": [
    "for gene_subject in gene_subject_combos:\n",
    "    \n",
    "    gene_id = gene_subject.split(':')[0]\n",
    "    subject_id = gene_subject.split(':')[1]\n",
    "\n",
    "    clonal_interference_SNP_candidates_for_gene = clonal_interference_SNP_candidates[clonal_interference_SNP_candidates.gene_id == gene_id]\n",
    "    clonal_interference_SNP_candidates_for_gene_and_subject = clonal_interference_SNP_candidates_for_gene[clonal_interference_SNP_candidates_for_gene.patient_id == subject_id]\n",
    "    \n",
    "    #get AFs of first and second sample\n",
    "    AFs_sample_1 = list( clonal_interference_SNP_candidates_for_gene_and_subject[clonal_interference_SNP_candidates_for_gene_and_subject.sample_order == 1].alt_AF )\n",
    "    AFs_sample_2 = list( clonal_interference_SNP_candidates_for_gene_and_subject[clonal_interference_SNP_candidates_for_gene_and_subject.sample_order == 2].alt_AF )\n",
    "\n",
    "    #get time between samples\n",
    "    time_btwn_isolate_collection = pairwise_variant_distances.loc[subject_id , 'time_between_collection']\n",
    "    gene_symbol = list(clonal_interference_SNP_candidates_for_gene_and_subject.gene_symbol)[0]\n",
    "    \n",
    "    #get the AA change for each SNP\n",
    "    AA_change_list = []\n",
    "    for sample_1_i , sample_2_i in zip(np.arange(0 , np.shape(clonal_interference_SNP_candidates_for_gene_and_subject)[0] , 2) , np.arange(1 , np.shape(clonal_interference_SNP_candidates_for_gene_and_subject)[0] , 2)):\n",
    "\n",
    "        #get AA change\n",
    "        AA_change_calls = list(clonal_interference_SNP_candidates_for_gene_and_subject.iloc[[sample_1_i , sample_2_i]].AA_change)\n",
    "        try:\n",
    "            AA_change_calls.remove('None')\n",
    "        except ValueError:\n",
    "            pass\n",
    "        AA_change_list.append(AA_change_calls[0])\n",
    "        \n",
    "    #get a list of each AA change in decreasing order of AF at 2nd time point (SNP that swept is listed first)\n",
    "    AA_change_and_AF2 = pd.Series(dict(zip(AA_change_list , AFs_sample_2))).sort_values(ascending = False)\n",
    "    AA_change_ordered_by_AF2 = list(AA_change_and_AF2.index)\n",
    "    \n",
    "    #label for AA changes\n",
    "    AA_i = 0\n",
    "    AA_change_label = ''\n",
    "    for AA_change in AA_change_ordered_by_AF2:\n",
    "\n",
    "        if AA_i == 0:\n",
    "            AA_change_label = AA_change\n",
    "            AA_i += 1\n",
    "\n",
    "        else:\n",
    "            AA_change_label = AA_change_label + ', ' + AA_change\n",
    "            AA_i += 1\n",
    "            if AA_i % 3 == 0:\n",
    "                AA_change_label = AA_change_label + '\\n'\n",
    "                \n",
    "    print subject_id + ' : ' + gene_symbol\n",
    "    print AA_change_and_AF2\n",
    "    print '-----------------------'\n",
    "    \n",
    "    ####################################################################################################################################################################################\n",
    "\n",
    "    fig , ax = plt.subplots()\n",
    "\n",
    "    for SNP_i_AF1 , SNP_i_AF2 in zip(AFs_sample_1 , AFs_sample_2):\n",
    "\n",
    "        plt.scatter([0 , 1] , [SNP_i_AF1 , SNP_i_AF2] , linewidth = 2.25 , edgecolor = 'k' , color = '0.8' , s = 35 , alpha = 0.90)\n",
    "        plt.plot([0 , 1] , [SNP_i_AF1 , SNP_i_AF2] , linewidth = 0.5 , color = '0.0' , linestyle = '-')\n",
    "\n",
    "    ax.spines['right'].set_visible(False)\n",
    "    ax.spines['top'].set_visible(False)\n",
    "\n",
    "    ax.set_xticks([0 , 1]) #xtick positions\n",
    "    ax.set_xticklabels(['0' , str(time_btwn_isolate_collection)]) #xtick labels\n",
    "    \n",
    "    #set y limit to between 0 & 1\n",
    "    ax.set_ylim(-0.02, 1.02)\n",
    "    ax.set_yticks([0, 0.2, 0.4, 0.6, 0.8, 1.0]) #ytick positions\n",
    "    ax.set_yticklabels([0, 0.2, 0.4, 0.6, 0.8, 1.0])\n",
    "    \n",
    "    ax.tick_params(labelcolor = 'k')\n",
    "\n",
    "    plt.xlabel('Months Between Collection\\n' + AA_change_label, fontsize = 12 , color = 'k')\n",
    "    plt.ylabel('Alternate Allele Frequency' , fontweight = 'bold', fontsize = 12 , color = 'k')\n",
    "    plt.title(subject_id + ' : ' + gene_symbol, fontweight = 'bold' , fontsize = 14 , color = 'k')\n",
    "\n",
    "    fig = plt.gcf()\n",
    "    fig.set_size_inches(3.0, 6.5)\n",
    "    fig.tight_layout()\n",
    "\n",
    "    file_name = '/n/data1/hms/dbmi/farhat/Roger/inhost_TB_dynamics_project/figures/antibiotic_resistance_analysis/clonal_interference_examples/clonal_intererence_' + gene_subject + '.pdf'\n",
    "    plt.savefig(file_name, bbox_inches='tight', dpi = 300 , transparent = True)\n",
    "\n",
    "    plt.show()"
   ]
  },
  {
   "cell_type": "markdown",
   "metadata": {},
   "source": [
    "#################################################################################################################################################################################################################################"
   ]
  },
  {
   "cell_type": "markdown",
   "metadata": {},
   "source": [
    "## [6] Analysis 4 - Treatment Failure Subjects Analysis"
   ]
  },
  {
   "cell_type": "markdown",
   "metadata": {},
   "source": [
    "#################################################################################################################################################################################################################################"
   ]
  },
  {
   "cell_type": "markdown",
   "metadata": {},
   "source": [
    "### *Subset* to treatment failure group: $>60$ days / 2 months between isolate collection"
   ]
  },
  {
   "cell_type": "code",
   "execution_count": 93,
   "metadata": {},
   "outputs": [],
   "source": [
    "pairwise_variant_distances_treatment_failure = pairwise_variant_distances[pairwise_variant_distances.time_between_collection >= 1.7]"
   ]
  },
  {
   "cell_type": "code",
   "execution_count": 94,
   "metadata": {},
   "outputs": [
    {
     "data": {
      "text/plain": [
       "(178, 3)"
      ]
     },
     "execution_count": 94,
     "metadata": {},
     "output_type": "execute_result"
    }
   ],
   "source": [
    "np.shape(pairwise_variant_distances_treatment_failure)"
   ]
  },
  {
   "cell_type": "markdown",
   "metadata": {},
   "source": [
    "#### Find proportion of isolates that had an AR fSNP"
   ]
  },
  {
   "cell_type": "code",
   "execution_count": 95,
   "metadata": {},
   "outputs": [
    {
     "data": {
      "text/plain": [
       "27.0"
      ]
     },
     "execution_count": 95,
     "metadata": {},
     "output_type": "execute_result"
    }
   ],
   "source": [
    "float( np.shape(pairwise_variant_distances_treatment_failure[pairwise_variant_distances_treatment_failure.pairwise_AR_fSNP_distance > 0])[0] )"
   ]
  },
  {
   "cell_type": "code",
   "execution_count": 96,
   "metadata": {},
   "outputs": [
    {
     "data": {
      "text/plain": [
       "178.0"
      ]
     },
     "execution_count": 96,
     "metadata": {},
     "output_type": "execute_result"
    }
   ],
   "source": [
    "float(np.shape(pairwise_variant_distances_treatment_failure)[0])"
   ]
  },
  {
   "cell_type": "markdown",
   "metadata": {},
   "source": [
    "List of patient IDs that had at least 1 **AR fSNP**"
   ]
  },
  {
   "cell_type": "code",
   "execution_count": 124,
   "metadata": {},
   "outputs": [
    {
     "name": "stdout",
     "output_type": "stream",
     "text": [
      "['P052', 'P251', '1700', '1846', '1960', '1972', '2307', '2511', '2523', '2688', '2968', '3451', '3673', 'I0000024-5', 'KPS_24', 'KPS_37', 'KPS_5', 'KPS_82', 'P10', 'P000071', 'P000094', 'P000155', 'P000189', 'P000226', 'P000227', '16', 'D']\n"
     ]
    }
   ],
   "source": [
    "print(list(pairwise_variant_distances_treatment_failure[pairwise_variant_distances_treatment_failure.pairwise_AR_fSNP_distance > 0].index))"
   ]
  },
  {
   "cell_type": "markdown",
   "metadata": {},
   "source": [
    "proportion of subjects with $> 2$ months isolate collection that had an AR SNP sweep between samples"
   ]
  },
  {
   "cell_type": "code",
   "execution_count": 125,
   "metadata": {},
   "outputs": [
    {
     "data": {
      "text/plain": [
       "0.15168539325842698"
      ]
     },
     "execution_count": 125,
     "metadata": {},
     "output_type": "execute_result"
    }
   ],
   "source": [
    "float( np.shape( pairwise_variant_distances_treatment_failure[pairwise_variant_distances_treatment_failure.pairwise_AR_fSNP_distance > 0] )[0] ) / float(np.shape(pairwise_variant_distances_treatment_failure)[0])"
   ]
  },
  {
   "cell_type": "markdown",
   "metadata": {},
   "source": [
    "#### Get all positions that are associated with AR from Farhat et. al. 2016 (minimal set of 238 AR variants)"
   ]
  },
  {
   "cell_type": "code",
   "execution_count": 126,
   "metadata": {},
   "outputs": [],
   "source": [
    "filepath = '/n/data1/hms/dbmi/farhat/Roger/inhost_TB_dynamics_project/CSV_files/predictive_AR_mutations/Table_S17_238_DR_mutations.txt'\n",
    "\n",
    "AR_variants_DF = pd.DataFrame(columns = ['variant_type' , 'region_type' , 'ref_position'])\n",
    "with open(filepath) as fp:  \n",
    "   for cnt, line in enumerate(fp):\n",
    "       #print(\"Line {}: {}\".format(cnt, line))\n",
    "        AR_variants_DF.loc[cnt , :] = [line.split('_')[0] , line.split('_')[1] , int(line.split('_')[2])]\n",
    "        \n",
    "#sort values by Reference Position\n",
    "AR_variants_DF.sort_values(by = 'ref_position' , ascending = True , inplace = True)\n",
    "\n",
    "#drop duplicate reference positions\n",
    "duplicated_variants = list( AR_variants_DF[AR_variants_DF.duplicated(subset = 'ref_position' , keep = 'first')].index )\n",
    "AR_variants_DF.drop(duplicated_variants , axis = 0 , inplace = True)\n",
    "\n",
    "#drop any variant that isn't a SNP and re-index\n",
    "AR_variants_DF = AR_variants_DF[AR_variants_DF.variant_type == 'SNP']\n",
    "AR_variants_DF.reset_index(drop = True , inplace = True)"
   ]
  },
  {
   "cell_type": "code",
   "execution_count": 127,
   "metadata": {},
   "outputs": [
    {
     "data": {
      "text/plain": [
       "(178, 3)"
      ]
     },
     "execution_count": 127,
     "metadata": {},
     "output_type": "execute_result"
    }
   ],
   "source": [
    "np.shape(AR_variants_DF)"
   ]
  },
  {
   "cell_type": "code",
   "execution_count": 128,
   "metadata": {},
   "outputs": [
    {
     "data": {
      "text/html": [
       "<div>\n",
       "<style>\n",
       "    .dataframe thead tr:only-child th {\n",
       "        text-align: right;\n",
       "    }\n",
       "\n",
       "    .dataframe thead th {\n",
       "        text-align: left;\n",
       "    }\n",
       "\n",
       "    .dataframe tbody tr th {\n",
       "        vertical-align: top;\n",
       "    }\n",
       "</style>\n",
       "<table border=\"1\" class=\"dataframe\">\n",
       "  <thead>\n",
       "    <tr style=\"text-align: right;\">\n",
       "      <th></th>\n",
       "      <th>variant_type</th>\n",
       "      <th>region_type</th>\n",
       "      <th>ref_position</th>\n",
       "    </tr>\n",
       "  </thead>\n",
       "  <tbody>\n",
       "    <tr>\n",
       "      <th>0</th>\n",
       "      <td>SNP</td>\n",
       "      <td>CN</td>\n",
       "      <td>6735</td>\n",
       "    </tr>\n",
       "    <tr>\n",
       "      <th>1</th>\n",
       "      <td>SNP</td>\n",
       "      <td>CN</td>\n",
       "      <td>7563</td>\n",
       "    </tr>\n",
       "    <tr>\n",
       "      <th>2</th>\n",
       "      <td>SNP</td>\n",
       "      <td>CN</td>\n",
       "      <td>7566</td>\n",
       "    </tr>\n",
       "    <tr>\n",
       "      <th>3</th>\n",
       "      <td>SNP</td>\n",
       "      <td>CN</td>\n",
       "      <td>7570</td>\n",
       "    </tr>\n",
       "    <tr>\n",
       "      <th>4</th>\n",
       "      <td>SNP</td>\n",
       "      <td>CN</td>\n",
       "      <td>7572</td>\n",
       "    </tr>\n",
       "  </tbody>\n",
       "</table>\n",
       "</div>"
      ],
      "text/plain": [
       "  variant_type region_type ref_position\n",
       "0          SNP          CN         6735\n",
       "1          SNP          CN         7563\n",
       "2          SNP          CN         7566\n",
       "3          SNP          CN         7570\n",
       "4          SNP          CN         7572"
      ]
     },
     "execution_count": 128,
     "metadata": {},
     "output_type": "execute_result"
    }
   ],
   "source": [
    "AR_variants_DF.head()"
   ]
  },
  {
   "cell_type": "code",
   "execution_count": 129,
   "metadata": {},
   "outputs": [],
   "source": [
    "H37Rv_positions_of_interest = list( AR_variants_DF.ref_position ) "
   ]
  },
  {
   "cell_type": "markdown",
   "metadata": {},
   "source": [
    "#### Also load variants for *Rifampicin* and *Isoniazid* resistance from Farhat et. al. 2016"
   ]
  },
  {
   "cell_type": "markdown",
   "metadata": {},
   "source": [
    "SNPs associated with *RIF* resistance"
   ]
  },
  {
   "cell_type": "code",
   "execution_count": 130,
   "metadata": {},
   "outputs": [],
   "source": [
    "filepath = '/n/data1/hms/dbmi/farhat/Roger/inhost_TB_dynamics_project/CSV_files/predictive_AR_mutations/Table_S17_238_DR_mutations_RIF.txt'\n",
    "\n",
    "AR_RIF_variants_DF = pd.DataFrame(columns = ['variant_type' , 'region_type' , 'ref_position' , 'ref_allele' , 'alt_allele'])\n",
    "with open(filepath) as fp:  \n",
    "   for cnt, line in enumerate(fp):\n",
    "       #print(\"Line {}: {}\".format(cnt, line))\n",
    "        AR_RIF_variants_DF.loc[cnt , :] = [line.split('_')[0] , line.split('_')[1] , int(line.split('_')[2]) , line.split('_')[3][0] , line.split('_')[3][1]]\n",
    "        \n",
    "#sort values by Reference Position\n",
    "AR_RIF_variants_DF.sort_values(by = 'ref_position' , ascending = True , inplace = True)\n",
    "\n",
    "#drop any variant that isn't a SNP and re-index\n",
    "AR_RIF_variants_DF = AR_RIF_variants_DF[AR_RIF_variants_DF.variant_type == 'SNP']\n",
    "AR_RIF_variants_DF.reset_index(drop = True , inplace = True)"
   ]
  },
  {
   "cell_type": "code",
   "execution_count": 131,
   "metadata": {},
   "outputs": [
    {
     "data": {
      "text/html": [
       "<div>\n",
       "<style>\n",
       "    .dataframe thead tr:only-child th {\n",
       "        text-align: right;\n",
       "    }\n",
       "\n",
       "    .dataframe thead th {\n",
       "        text-align: left;\n",
       "    }\n",
       "\n",
       "    .dataframe tbody tr th {\n",
       "        vertical-align: top;\n",
       "    }\n",
       "</style>\n",
       "<table border=\"1\" class=\"dataframe\">\n",
       "  <thead>\n",
       "    <tr style=\"text-align: right;\">\n",
       "      <th></th>\n",
       "      <th>variant_type</th>\n",
       "      <th>region_type</th>\n",
       "      <th>ref_position</th>\n",
       "      <th>ref_allele</th>\n",
       "      <th>alt_allele</th>\n",
       "    </tr>\n",
       "  </thead>\n",
       "  <tbody>\n",
       "    <tr>\n",
       "      <th>0</th>\n",
       "      <td>SNP</td>\n",
       "      <td>CN</td>\n",
       "      <td>760314</td>\n",
       "      <td>G</td>\n",
       "      <td>T</td>\n",
       "    </tr>\n",
       "    <tr>\n",
       "      <th>1</th>\n",
       "      <td>SNP</td>\n",
       "      <td>CN</td>\n",
       "      <td>761095</td>\n",
       "      <td>T</td>\n",
       "      <td>C</td>\n",
       "    </tr>\n",
       "    <tr>\n",
       "      <th>2</th>\n",
       "      <td>SNP</td>\n",
       "      <td>CN</td>\n",
       "      <td>761102</td>\n",
       "      <td>A</td>\n",
       "      <td>C</td>\n",
       "    </tr>\n",
       "    <tr>\n",
       "      <th>3</th>\n",
       "      <td>SNP</td>\n",
       "      <td>CN</td>\n",
       "      <td>761109</td>\n",
       "      <td>G</td>\n",
       "      <td>T</td>\n",
       "    </tr>\n",
       "    <tr>\n",
       "      <th>4</th>\n",
       "      <td>SNP</td>\n",
       "      <td>CN</td>\n",
       "      <td>761110</td>\n",
       "      <td>A</td>\n",
       "      <td>T</td>\n",
       "    </tr>\n",
       "  </tbody>\n",
       "</table>\n",
       "</div>"
      ],
      "text/plain": [
       "  variant_type region_type ref_position ref_allele alt_allele\n",
       "0          SNP          CN       760314          G          T\n",
       "1          SNP          CN       761095          T          C\n",
       "2          SNP          CN       761102          A          C\n",
       "3          SNP          CN       761109          G          T\n",
       "4          SNP          CN       761110          A          T"
      ]
     },
     "execution_count": 131,
     "metadata": {},
     "output_type": "execute_result"
    }
   ],
   "source": [
    "AR_RIF_variants_DF.head()"
   ]
  },
  {
   "cell_type": "code",
   "execution_count": 132,
   "metadata": {},
   "outputs": [
    {
     "data": {
      "text/plain": [
       "(14, 5)"
      ]
     },
     "execution_count": 132,
     "metadata": {},
     "output_type": "execute_result"
    }
   ],
   "source": [
    "np.shape(AR_RIF_variants_DF)"
   ]
  },
  {
   "cell_type": "markdown",
   "metadata": {},
   "source": [
    "SNPs associated with *INH* resistance"
   ]
  },
  {
   "cell_type": "code",
   "execution_count": 133,
   "metadata": {},
   "outputs": [],
   "source": [
    "filepath = '/n/data1/hms/dbmi/farhat/Roger/inhost_TB_dynamics_project/CSV_files/predictive_AR_mutations/Table_S17_238_DR_mutations_INH.txt'\n",
    "\n",
    "AR_INH_variants_DF = pd.DataFrame(columns = ['variant_type' , 'region_type' , 'ref_position' , 'ref_allele' , 'alt_allele'])\n",
    "with open(filepath) as fp:  \n",
    "   for cnt, line in enumerate(fp):\n",
    "       #print(\"Line {}: {}\".format(cnt, line))\n",
    "        AR_INH_variants_DF.loc[cnt , :] = [line.split('_')[0] , line.split('_')[1] , int(line.split('_')[2]) , line.split('_')[3][0] , line.split('_')[3][1]]\n",
    "        \n",
    "#sort values by Reference Position\n",
    "AR_INH_variants_DF.sort_values(by = 'ref_position' , ascending = True , inplace = True)\n",
    "\n",
    "#drop any variant that isn't a SNP and re-index\n",
    "AR_INH_variants_DF = AR_INH_variants_DF[AR_INH_variants_DF.variant_type == 'SNP']\n",
    "AR_INH_variants_DF.reset_index(drop = True , inplace = True)"
   ]
  },
  {
   "cell_type": "code",
   "execution_count": 134,
   "metadata": {},
   "outputs": [
    {
     "data": {
      "text/html": [
       "<div>\n",
       "<style>\n",
       "    .dataframe thead tr:only-child th {\n",
       "        text-align: right;\n",
       "    }\n",
       "\n",
       "    .dataframe thead th {\n",
       "        text-align: left;\n",
       "    }\n",
       "\n",
       "    .dataframe tbody tr th {\n",
       "        vertical-align: top;\n",
       "    }\n",
       "</style>\n",
       "<table border=\"1\" class=\"dataframe\">\n",
       "  <thead>\n",
       "    <tr style=\"text-align: right;\">\n",
       "      <th></th>\n",
       "      <th>variant_type</th>\n",
       "      <th>region_type</th>\n",
       "      <th>ref_position</th>\n",
       "      <th>ref_allele</th>\n",
       "      <th>alt_allele</th>\n",
       "    </tr>\n",
       "  </thead>\n",
       "  <tbody>\n",
       "    <tr>\n",
       "      <th>0</th>\n",
       "      <td>SNP</td>\n",
       "      <td>CN</td>\n",
       "      <td>409569</td>\n",
       "      <td>G</td>\n",
       "      <td>A</td>\n",
       "    </tr>\n",
       "    <tr>\n",
       "      <th>1</th>\n",
       "      <td>SNP</td>\n",
       "      <td>P</td>\n",
       "      <td>1673423</td>\n",
       "      <td>G</td>\n",
       "      <td>T</td>\n",
       "    </tr>\n",
       "    <tr>\n",
       "      <th>2</th>\n",
       "      <td>SNP</td>\n",
       "      <td>P</td>\n",
       "      <td>1673425</td>\n",
       "      <td>C</td>\n",
       "      <td>T</td>\n",
       "    </tr>\n",
       "    <tr>\n",
       "      <th>3</th>\n",
       "      <td>SNP</td>\n",
       "      <td>P</td>\n",
       "      <td>1673432</td>\n",
       "      <td>T</td>\n",
       "      <td>C</td>\n",
       "    </tr>\n",
       "    <tr>\n",
       "      <th>4</th>\n",
       "      <td>SNP</td>\n",
       "      <td>P</td>\n",
       "      <td>1673432</td>\n",
       "      <td>T</td>\n",
       "      <td>G</td>\n",
       "    </tr>\n",
       "  </tbody>\n",
       "</table>\n",
       "</div>"
      ],
      "text/plain": [
       "  variant_type region_type ref_position ref_allele alt_allele\n",
       "0          SNP          CN       409569          G          A\n",
       "1          SNP           P      1673423          G          T\n",
       "2          SNP           P      1673425          C          T\n",
       "3          SNP           P      1673432          T          C\n",
       "4          SNP           P      1673432          T          G"
      ]
     },
     "execution_count": 134,
     "metadata": {},
     "output_type": "execute_result"
    }
   ],
   "source": [
    "AR_INH_variants_DF.head()"
   ]
  },
  {
   "cell_type": "code",
   "execution_count": 135,
   "metadata": {},
   "outputs": [
    {
     "data": {
      "text/plain": [
       "(18, 5)"
      ]
     },
     "execution_count": 135,
     "metadata": {},
     "output_type": "execute_result"
    }
   ],
   "source": [
    "np.shape(AR_INH_variants_DF)"
   ]
  },
  {
   "cell_type": "markdown",
   "metadata": {},
   "source": [
    "Create list of Rifampicin & Isonazid Resistance mutations from DataFrames"
   ]
  },
  {
   "cell_type": "code",
   "execution_count": 136,
   "metadata": {},
   "outputs": [],
   "source": [
    "#list of RIF mutations\n",
    "AR_RIF_variants = [str(ref_pos) + '_' + alt_allele for ref_pos, alt_allele in zip(AR_RIF_variants_DF.ref_position , AR_RIF_variants_DF.alt_allele)]\n",
    "\n",
    "#list of INH mutations\n",
    "AR_INH_variants = [str(ref_pos) + '_' + alt_allele for ref_pos, alt_allele in zip(AR_INH_variants_DF.ref_position , AR_INH_variants_DF.alt_allele)]"
   ]
  },
  {
   "cell_type": "markdown",
   "metadata": {},
   "source": [
    "### *Function* to Extract SNPs from VCF file"
   ]
  },
  {
   "cell_type": "code",
   "execution_count": 137,
   "metadata": {},
   "outputs": [],
   "source": [
    "def SNPs_from_VCF(VCF_file):\n",
    "\n",
    "    vcf_reader = vcf.Reader(open(VCF_file , 'r'))\n",
    "\n",
    "    #create dictionaries to store information for each call\n",
    "    ref_bases = {}\n",
    "    qry_bases = {}\n",
    "    ref_positions = {}\n",
    "    INFO_for_call = {}\n",
    "    \n",
    "    #indexer for dataframe containing SNPs\n",
    "    index = 0\n",
    "\n",
    "    #iterate through each Variant Call \n",
    "    for record in vcf_reader:\n",
    "\n",
    "        #check to see if the call is a PASS by Pilon\n",
    "        if record.FILTER == []:\n",
    "            \n",
    "            #check to see if SNP is located in a region associated with Antibiotic Resistance\n",
    "            if record.POS in H37Rv_positions_of_interest:\n",
    "\n",
    "                #check to see if variant is SNP; length of reference allele is 1, there is only 1 alternate allele, length of alternate allele is 1\n",
    "                if (len(record.REF) == 1) and (len(record.ALT) == 1) and (len(str( record.ALT[0] )) == 1):\n",
    "\n",
    "                        ##### Retrieve Relevant information for filtering quality of Base Call #####\n",
    "                        # Mean Base Quality @ locus\n",
    "                        BQ = record.INFO['BQ']\n",
    "                        # Mean Mapping Quality @ locus\n",
    "                        MQ = record.INFO['MQ']\n",
    "                        # Number of Reads w/ Deletion \n",
    "                        DC = record.INFO['DC']\n",
    "                        # Number of Reads w/ Insertion\n",
    "                        IC = record.INFO['IC']\n",
    "                        # Depth of Valid Reads in Pileup\n",
    "                        VD = record.INFO['DP']\n",
    "\n",
    "                        ### Filtering Criteria\n",
    "                        #---> Mean Base Quality > 20\n",
    "                        #---> Mean Mapping Quality > 30\n",
    "                        #---> No Reads Supporting Insertions\n",
    "                        #---> No Reads Supporting Deletions\n",
    "                        #---> Number of High Quality Reads >= 25\n",
    "                        if (BQ > 20) and (MQ > 30) and (DC == 0) and (IC == 0) and (VD >= 25): #SNP passed all filtering criteria!\n",
    "\n",
    "                            # Filtering Criteria for mutant allele frequency calculation (range: 0.75 - 1.0)\n",
    "                            ref_allele = str(record.REF)\n",
    "                            alt_allele = str(record.ALT[0])\n",
    "\n",
    "                            #After extensive filtering and categorization, store all of the pertinent information about the Base Call\n",
    "                            ref_bases[index] = ref_allele\n",
    "                            qry_bases[index] = alt_allele\n",
    "                            ref_positions[index] = record.POS\n",
    "                            INFO_for_call[index] = record.INFO\n",
    "\n",
    "                            index += 1\n",
    "                \n",
    "    #convert dictionaries to series\n",
    "    ref_bases = pd.Series(ref_bases)\n",
    "    qry_bases = pd.Series(qry_bases)\n",
    "    ref_positions = pd.Series(ref_positions)\n",
    "    INFO_for_call = pd.Series(INFO_for_call)\n",
    "\n",
    "    #create DataFrame to hold all base calls for a given sample\n",
    "    Variant_Call_DF = pd.DataFrame()\n",
    "    Variant_Call_DF['ref_base'] = ref_bases\n",
    "    Variant_Call_DF['alt_base'] = qry_bases\n",
    "    Variant_Call_DF['ref_position'] = ref_positions\n",
    "    Variant_Call_DF['INFO'] = INFO_for_call\n",
    "    \n",
    "    return Variant_Call_DF #DataFrame for base calls for a single isolate"
   ]
  },
  {
   "cell_type": "markdown",
   "metadata": {},
   "source": [
    "### *Functions* to Annotate SNPs"
   ]
  },
  {
   "cell_type": "markdown",
   "metadata": {},
   "source": [
    "#### Cell to annotate SNPs"
   ]
  },
  {
   "cell_type": "code",
   "execution_count": 138,
   "metadata": {},
   "outputs": [],
   "source": [
    "# Important Packages\n",
    "################################################################################################################################################################################################\n",
    "import os\n",
    "import pandas as pd\n",
    "import numpy as np\n",
    "import sys\n",
    "import pickle\n",
    "\n",
    "import Bio\n",
    "from Bio.Alphabet import IUPAC\n",
    "from Bio.Seq import Seq\n",
    "from Bio.SeqRecord import SeqRecord\n",
    "from Bio.SeqFeature import SeqFeature, FeatureLocation\n",
    "from Bio import SeqIO\n",
    "from StringIO import StringIO\n",
    "from Bio import AlignIO\n",
    "from Bio.Align import AlignInfo\n",
    "from Bio.Seq import MutableSeq\n",
    "################################################################################################################################################################################################\n",
    "\n",
    "\n",
    "# Relevant Information for H37Rv sequence SNP functional annotation\n",
    "################################################################################################################################################################################################\n",
    "####### Collect all DNA and Amino Acid sequences corresponding to genes on H37Rv #######\n",
    "#load reference genome and reference annotation\n",
    "reference_genome = '/n/data1/hms/dbmi/farhat/bin/work-horse/bin/h37rv.fasta'\n",
    "for reference_genome in SeqIO.parse(reference_genome, \"fasta\"):\n",
    "    reference_genome.seq.alphabet = IUPAC.unambiguous_dna\n",
    "\n",
    "reference_genome_annotation = pd.read_csv('/n/data1/hms/dbmi/farhat/Roger/inhost_TB_dynamics_project/H37Rv/h37rv_genome_summary.txt', '\\t').set_index('name')\n",
    "\n",
    "####### Function to translate coding DNA sequences ####### \n",
    "def translate(gene_id, sequence):\n",
    "\n",
    "    #find which strand the gene is located on and translate\n",
    "    strand = reference_genome_annotation.loc[gene_id, 'strand']\n",
    "    if strand == '+':\n",
    "        protein_sequence = sequence.translate(table=\"Bacterial\", cds=False)\n",
    "    elif strand == '-':\n",
    "        protein_sequence = sequence.reverse_complement().translate(table=\"Bacterial\", cds=False)\n",
    "\n",
    "    return protein_sequence\n",
    "\n",
    "####### Load in dictionaries for SNP annotation #######\n",
    "with open('/n/data1/hms/dbmi/farhat/Roger/inhost_TB_dynamics_project/pickled_files/dicts_for_SNP_annotation/H37Rv_gene_seq_records.pickle', 'rb') as handle:\n",
    "    ref_gene_sequences_records = pickle.load(handle)\n",
    "    \n",
    "with open('/n/data1/hms/dbmi/farhat/Roger/inhost_TB_dynamics_project/pickled_files/dicts_for_SNP_annotation/H37Rv_protein_seq_records.pickle', 'rb') as handle:\n",
    "    ref_protein_sequences_records = pickle.load(handle)\n",
    "    \n",
    "with open('/n/data1/hms/dbmi/farhat/Roger/inhost_TB_dynamics_project/pickled_files/dicts_for_SNP_annotation/H37Rv_coord_gene_mapping.pickle', 'rb') as handle:\n",
    "    ReferencePosition_Gene_mapping = pickle.load(handle)\n",
    "    \n",
    "####### get Gene Categories #######\n",
    "gene_categories = pd.read_csv('/n/data1/hms/dbmi/farhat/Roger/inhost_TB_dynamics_project/CSV_files/gene_categories/gene_categories.csv').set_index('name')\n",
    "gene_categories_dict = dict([gene_id , gene_category] for gene_id, gene_category in zip(list(gene_categories.gene_id) , list(gene_categories.Gene_Category)))\n",
    "\n",
    "####### get Gene Symbols #######\n",
    "gene_symbol_dict = dict([gene_id , gene_symbol] for gene_id, gene_symbol in zip(list(reference_genome_annotation.symbol.index) , list( reference_genome_annotation.symbol )))\n",
    "################################################################################################################################################################################################\n",
    "\n",
    "\n",
    "# Function to annotate Intergenic SNPs\n",
    "################################################################################################################################################################################################\n",
    "def find_flanking_genes_for_intergenic_region(intergenic_ref_pos): \n",
    "\n",
    "    #this function finds the genes flagging an intergenic region given a reference position\n",
    "\n",
    "    #find gene immediately in the 5' direction\n",
    "    for i in range(0 , 100000):\n",
    "\n",
    "        #move toward 5' direction\n",
    "        if ReferencePosition_Gene_mapping[intergenic_ref_pos - i] != []:\n",
    "\n",
    "            gene_to_left = ReferencePosition_Gene_mapping[intergenic_ref_pos - i][0]\n",
    "            break\n",
    "\n",
    "    #find gene immediately in the 3' direction       \n",
    "    for i in range(0 , 100000):\n",
    "\n",
    "        #move toward 3' direction\n",
    "        try:\n",
    "            if ReferencePosition_Gene_mapping[intergenic_ref_pos + i] != []:\n",
    "\n",
    "                gene_to_right = ReferencePosition_Gene_mapping[intergenic_ref_pos + i][0]\n",
    "                break\n",
    "        \n",
    "        #KeyError means we have hit the 'end' of the chromosome, the intergenic region at then end of H37Rv in 5' > 3' orientation \n",
    "        #since TB chromosome is circular the gene to the 'right' is Rv0001    \n",
    "        except KeyError:\n",
    "            \n",
    "            gene_to_right = 'Rv0001'\n",
    "            break\n",
    "    \n",
    "    return gene_to_left + '_' + gene_to_right\n",
    "################################################################################################################################################################################################\n",
    "\n",
    "\n",
    "# Function to determine whether SNPs are Synonymous or Non-Synonymous; Returns gene coordinate, codon position, AA changes, Gene Category & Symbol\n",
    "################################################################################################################################################################################################\n",
    "def SNP_annotate(ref_seq_position , alt_allele_i):\n",
    "    \n",
    "    '''\n",
    "    This function takes as input a reference position on H37Rv located within a \n",
    "    gene and an alternate allele and returns whether the base change \n",
    "    would correspond to a different Amino Acid sequence that results \n",
    "    from translating the DNA sequence into an AA sequence.\n",
    "    \n",
    "    '''\n",
    "    gene_intergenic_id_list = []\n",
    "    genomic_coord_list = []\n",
    "    gene_category_list = []\n",
    "    gene_symbol_list = []\n",
    "    Syn_NSyn_list = []\n",
    "    AA_change_list = []\n",
    "    \n",
    "    #get the Reference Allele from the complete H37Rv reference genome, indexing starts from 0\n",
    "    ref_allele_i = reference_genome.seq[int(ref_seq_position) - 1] \n",
    "    \n",
    "    #find the gene that SNP occurs on; check list corresponding to H37Rv coordinate to see if there are any genes associated with RefPosition\n",
    "    if len(ReferencePosition_Gene_mapping[ref_seq_position]) > 0:\n",
    "\n",
    "        #iterate through all genes that ReferencePosition is mapped to (i.e. SNP might correspond to 2 genes)\n",
    "        for gene_intergenic_id in ReferencePosition_Gene_mapping[ref_seq_position]:\n",
    "\n",
    "            #find genomic coordinate of SNP relative to gene (subtract 1 since reference seq starts counting at 1)\n",
    "            gene_relative_coord = (ref_seq_position - 1) - min( reference_genome_annotation.loc[gene_intergenic_id , 'chromStart'] , reference_genome_annotation.loc[gene_intergenic_id , 'chromEnd'] )\n",
    "            \n",
    "            #find the genomic coordinate (relative to the gene, in the 5' to 3' direction)\n",
    "            strand = reference_genome_annotation.loc[gene_intergenic_id, 'strand']\n",
    "            if strand == '+':\n",
    "                 genomic_5_to_3_coord = (ref_seq_position) - reference_genome_annotation.loc[gene_intergenic_id , 'chromStart']\n",
    "\n",
    "            elif strand == '-':\n",
    "                 genomic_5_to_3_coord = (reference_genome_annotation.loc[gene_intergenic_id , 'chromEnd']) - (ref_seq_position-1)\n",
    "                    \n",
    "            #find gene category (if one exists)\n",
    "            try:\n",
    "                gene_category_i = gene_categories_dict[gene_intergenic_id]\n",
    "            except KeyError:\n",
    "                gene_category_i = 'None'\n",
    "            \n",
    "            #find gene symbol (if one exists)\n",
    "            try:\n",
    "                gene_symbol_i = gene_symbol_dict[gene_intergenic_id]\n",
    "            except KeyError:\n",
    "                gene_symbol_i = 'None'\n",
    "            \n",
    "            #alternate allele is an actual base\n",
    "            if alt_allele_i in ['A','C','G','T']:\n",
    "\n",
    "                #translate into protein sequence with the SNP in place if not InDel or intergenic region\n",
    "                SNP_change = alt_allele_i\n",
    "\n",
    "                #ALTERNATE allele (is it Syn or NSyn?)\n",
    "                #get sequence from dictionary of sequences (and convert to mutable object)\n",
    "                test_gene_sequence = ref_gene_sequences_records[gene_intergenic_id].seq.tomutable()\n",
    "\n",
    "                #change reference gene sequence by the SNP in the query sequence\n",
    "                test_gene_sequence[int(gene_relative_coord)] = SNP_change\n",
    "\n",
    "                #convert back immutable object\n",
    "                test_gene_sequence = test_gene_sequence.toseq()\n",
    "\n",
    "                #translate sequence into amino acid seq\n",
    "                test_protein_sequence = translate(gene_intergenic_id , test_gene_sequence)\n",
    "\n",
    "                #store the H37Rv AA seq to compare against\n",
    "                H37Rv_AA_sequence = ref_protein_sequences_records[gene_intergenic_id].seq\n",
    "\n",
    "                #get the codon number where the SNP occurs within\n",
    "                ## take the genomic coordinate (relative to the gene, in the 5' to 3' direction), divide by 3, then take the ceiling of this number (will be fraction if SNP occurs in 1st or 2nd position on codon)\n",
    "                strand = reference_genome_annotation.loc[gene_intergenic_id, 'strand']\n",
    "                if strand == '+':\n",
    "                     genomic_5_to_3_coord = (ref_seq_position) - reference_genome_annotation.loc[gene_intergenic_id , 'chromStart']\n",
    "\n",
    "                elif strand == '-':\n",
    "                     genomic_5_to_3_coord = (reference_genome_annotation.loc[gene_intergenic_id , 'chromEnd']) - (ref_seq_position-1)\n",
    "\n",
    "                codon_coord = int(np.ceil( float( genomic_5_to_3_coord) / 3.0 ))\n",
    "\n",
    "                #compare to AA seq of original gene\n",
    "                if test_protein_sequence == H37Rv_AA_sequence:\n",
    "\n",
    "                    SNP_type = 'S'\n",
    "\n",
    "                    #get the AA before & after\n",
    "                    AA_change = H37Rv_AA_sequence[codon_coord-1] + str(codon_coord) + test_protein_sequence[codon_coord-1]\n",
    "\n",
    "                else:\n",
    "                    SNP_type = 'N'\n",
    "\n",
    "                    #get the AA before & after\n",
    "                    AA_change = H37Rv_AA_sequence[codon_coord-1] + str(codon_coord) + test_protein_sequence[codon_coord-1]\n",
    "                    \n",
    "            #alternate allele is a dummy (Base Call completely supports the Reference Allele)       \n",
    "            else:\n",
    "                \n",
    "                SNP_type = 'None'\n",
    "                AA_change = 'None'\n",
    "\n",
    "            #store relevant info in lists    \n",
    "            gene_intergenic_id_list.append(gene_intergenic_id)\n",
    "            genomic_coord_list.append(genomic_5_to_3_coord)\n",
    "            gene_category_list.append(gene_category_i)\n",
    "            gene_symbol_list.append(gene_symbol_i)\n",
    "            Syn_NSyn_list.append(SNP_type)\n",
    "            AA_change_list.append(AA_change)\n",
    "    \n",
    "    #if no gene in H37Rv corresponds to the Reference Position for SNP, then SNP must be intergenic\n",
    "    else:\n",
    "        \n",
    "        gene_intergenic_id = find_flanking_genes_for_intergenic_region(ref_seq_position)\n",
    "        genomic_5_to_3_coord = 'None'\n",
    "        gene_category_i = 'None'\n",
    "        gene_symbol_i = 'None'\n",
    "        SNP_type = 'I'\n",
    "        AA_change = 'None'\n",
    "        \n",
    "        #store relevant info in lists    \n",
    "        gene_intergenic_id_list.append(gene_intergenic_id)\n",
    "        genomic_coord_list.append(genomic_5_to_3_coord)\n",
    "        gene_category_list.append(gene_category_i)\n",
    "        gene_symbol_list.append(gene_symbol_i)\n",
    "        Syn_NSyn_list.append(SNP_type)\n",
    "        AA_change_list.append(AA_change)\n",
    "    \n",
    "    #if there is only a single gene associated with this SNP, just return the individual elememts\n",
    "    if len(gene_intergenic_id_list) == 1:\n",
    "        return [ref_allele_i , gene_intergenic_id , genomic_5_to_3_coord , gene_category_i , gene_symbol_i , SNP_type , AA_change]\n",
    "    \n",
    "    #else if there are two genes associated with this SNP, return elements for each SNP annotation in a list\n",
    "    elif len(gene_intergenic_id_list) > 1:\n",
    "        return [ref_allele_i , gene_intergenic_id_list , genomic_coord_list , gene_category_list , gene_symbol_list , Syn_NSyn_list , AA_change_list]\n",
    "################################################################################################################################################################################################"
   ]
  },
  {
   "cell_type": "markdown",
   "metadata": {},
   "source": [
    "### Get the isolate tags for the first isolate collected for each subject for group with $>60$ days / $2$ months between isolate collection"
   ]
  },
  {
   "cell_type": "code",
   "execution_count": 139,
   "metadata": {},
   "outputs": [],
   "source": [
    "patients_to_keep = list(pairwise_variant_distances_treatment_failure.index)"
   ]
  },
  {
   "cell_type": "code",
   "execution_count": 140,
   "metadata": {},
   "outputs": [
    {
     "data": {
      "text/plain": [
       "178"
      ]
     },
     "execution_count": 140,
     "metadata": {},
     "output_type": "execute_result"
    }
   ],
   "source": [
    "len( patients_to_keep )"
   ]
  },
  {
   "cell_type": "code",
   "execution_count": 141,
   "metadata": {},
   "outputs": [],
   "source": [
    "isolate_tags_for_first_sample = sample_annotation[sample_annotation.sample_order == 1].loc[patients_to_keep , :]"
   ]
  },
  {
   "cell_type": "code",
   "execution_count": 142,
   "metadata": {},
   "outputs": [
    {
     "data": {
      "text/plain": [
       "(178, 7)"
      ]
     },
     "execution_count": 142,
     "metadata": {},
     "output_type": "execute_result"
    }
   ],
   "source": [
    "np.shape(isolate_tags_for_first_sample)"
   ]
  },
  {
   "cell_type": "code",
   "execution_count": 143,
   "metadata": {},
   "outputs": [
    {
     "data": {
      "text/html": [
       "<div>\n",
       "<style>\n",
       "    .dataframe thead tr:only-child th {\n",
       "        text-align: right;\n",
       "    }\n",
       "\n",
       "    .dataframe thead th {\n",
       "        text-align: left;\n",
       "    }\n",
       "\n",
       "    .dataframe tbody tr th {\n",
       "        vertical-align: top;\n",
       "    }\n",
       "</style>\n",
       "<table border=\"1\" class=\"dataframe\">\n",
       "  <thead>\n",
       "    <tr style=\"text-align: right;\">\n",
       "      <th></th>\n",
       "      <th>fastq_files</th>\n",
       "      <th>population</th>\n",
       "      <th>run_ID</th>\n",
       "      <th>sample_ID</th>\n",
       "      <th>sample_order</th>\n",
       "      <th>tag</th>\n",
       "      <th>isolate_type</th>\n",
       "    </tr>\n",
       "    <tr>\n",
       "      <th>patient_id</th>\n",
       "      <th></th>\n",
       "      <th></th>\n",
       "      <th></th>\n",
       "      <th></th>\n",
       "      <th></th>\n",
       "      <th></th>\n",
       "      <th></th>\n",
       "    </tr>\n",
       "  </thead>\n",
       "  <tbody>\n",
       "    <tr>\n",
       "      <th>2020E</th>\n",
       "      <td>/n/data1/hms/dbmi/farhat/fastq_db/bryant/ERR10...</td>\n",
       "      <td>BRYANT</td>\n",
       "      <td>ERR108130</td>\n",
       "      <td>400044.0</td>\n",
       "      <td>1</td>\n",
       "      <td>ERR108130</td>\n",
       "      <td>longitudinal</td>\n",
       "    </tr>\n",
       "    <tr>\n",
       "      <th>2027W</th>\n",
       "      <td>/n/data1/hms/dbmi/farhat/fastq_db/bryant/ERR10...</td>\n",
       "      <td>BRYANT</td>\n",
       "      <td>ERR108131</td>\n",
       "      <td>400673.0</td>\n",
       "      <td>1</td>\n",
       "      <td>ERR108131</td>\n",
       "      <td>longitudinal</td>\n",
       "    </tr>\n",
       "    <tr>\n",
       "      <th>2028K</th>\n",
       "      <td>/n/data1/hms/dbmi/farhat/fastq_db/bryant/ERR10...</td>\n",
       "      <td>BRYANT</td>\n",
       "      <td>ERR108133</td>\n",
       "      <td>400711.0</td>\n",
       "      <td>1</td>\n",
       "      <td>ERR108133</td>\n",
       "      <td>longitudinal</td>\n",
       "    </tr>\n",
       "    <tr>\n",
       "      <th>2041Q</th>\n",
       "      <td>/n/data1/hms/dbmi/farhat/fastq_db/bryant/ERR10...</td>\n",
       "      <td>BRYANT</td>\n",
       "      <td>ERR108135</td>\n",
       "      <td>301347.0</td>\n",
       "      <td>1</td>\n",
       "      <td>ERR108135</td>\n",
       "      <td>longitudinal</td>\n",
       "    </tr>\n",
       "    <tr>\n",
       "      <th>2043R</th>\n",
       "      <td>/n/data1/hms/dbmi/farhat/fastq_db/bryant/ERR10...</td>\n",
       "      <td>BRYANT</td>\n",
       "      <td>ERR108137</td>\n",
       "      <td>400739.0</td>\n",
       "      <td>1</td>\n",
       "      <td>ERR108137</td>\n",
       "      <td>longitudinal</td>\n",
       "    </tr>\n",
       "  </tbody>\n",
       "</table>\n",
       "</div>"
      ],
      "text/plain": [
       "                                                  fastq_files population  \\\n",
       "patient_id                                                                 \n",
       "2020E       /n/data1/hms/dbmi/farhat/fastq_db/bryant/ERR10...     BRYANT   \n",
       "2027W       /n/data1/hms/dbmi/farhat/fastq_db/bryant/ERR10...     BRYANT   \n",
       "2028K       /n/data1/hms/dbmi/farhat/fastq_db/bryant/ERR10...     BRYANT   \n",
       "2041Q       /n/data1/hms/dbmi/farhat/fastq_db/bryant/ERR10...     BRYANT   \n",
       "2043R       /n/data1/hms/dbmi/farhat/fastq_db/bryant/ERR10...     BRYANT   \n",
       "\n",
       "               run_ID sample_ID  sample_order        tag  isolate_type  \n",
       "patient_id                                                              \n",
       "2020E       ERR108130  400044.0             1  ERR108130  longitudinal  \n",
       "2027W       ERR108131  400673.0             1  ERR108131  longitudinal  \n",
       "2028K       ERR108133  400711.0             1  ERR108133  longitudinal  \n",
       "2041Q       ERR108135  301347.0             1  ERR108135  longitudinal  \n",
       "2043R       ERR108137  400739.0             1  ERR108137  longitudinal  "
      ]
     },
     "execution_count": 143,
     "metadata": {},
     "output_type": "execute_result"
    }
   ],
   "source": [
    "isolate_tags_for_first_sample.head()"
   ]
  },
  {
   "cell_type": "markdown",
   "metadata": {},
   "source": [
    "### Iterate through Reduced VCF corresponding to the 1st sample from each subject and collect all AR SNPs if present"
   ]
  },
  {
   "cell_type": "code",
   "execution_count": 144,
   "metadata": {},
   "outputs": [
    {
     "name": "stdout",
     "output_type": "stream",
     "text": [
      "20\n",
      "40\n"
     ]
    },
    {
     "name": "stderr",
     "output_type": "stream",
     "text": [
      "/home/rv76/anaconda2/lib/python2.7/site-packages/Bio/Seq.py:2715: BiopythonWarning: Partial codon, len(sequence) not a multiple of three. Explicitly trim the sequence or add trailing N before translation. This may become an error in future.\n",
      "  BiopythonWarning)\n"
     ]
    },
    {
     "name": "stdout",
     "output_type": "stream",
     "text": [
      "60\n",
      "80\n",
      "100\n",
      "120\n",
      "140\n",
      "160\n"
     ]
    }
   ],
   "source": [
    "#create a dictionary to hold the AR SNPs detected in the first isolate for each subject\n",
    "AR_SNPs_1st_sample_dict = {}\n",
    "\n",
    "all_AR_SNPS_1st_sample_df = pd.DataFrame()\n",
    "\n",
    "isolate_i = 0\n",
    "for isolate_tag in list(isolate_tags_for_first_sample.tag):\n",
    "\n",
    "    #path to Reduced VCF file\n",
    "    Reduced_VCF_file = '/n/data1/hms/dbmi/farhat/Roger/inhost_TB_dynamics_project/JankyPipe/reduced_VCF_files_for_AR_SNP_detection_longitudinal_isolates/' + isolate_tag + '/' + isolate_tag + '_REDUCED.vcf'\n",
    "\n",
    "    #pull SNPs from VCF file\n",
    "    SNPs_from_isolate = SNPs_from_VCF(Reduced_VCF_file)\n",
    "    \n",
    "    ################################################################################\n",
    "    ### Annotate SNPs\n",
    "    ################################################################################\n",
    "\n",
    "    gene_id_list = []\n",
    "    gene_coord_list = []\n",
    "    gene_category_list = []\n",
    "    gene_symbol_list = []\n",
    "    SNP_ftype_list = []\n",
    "    AA_change_list = []\n",
    "\n",
    "    #Annotate Filtered Base Calls (make sure there is at least 1 SNP)\n",
    "    if np.shape(SNPs_from_isolate)[0] > 0:\n",
    "\n",
    "        for ref_position_i , alt_base_i in zip(list(SNPs_from_isolate.ref_position) , list(SNPs_from_isolate.alt_base)):\n",
    "\n",
    "            #annotate SNP\n",
    "            gene_id_i , gene_coord_i , gene_category_i , gene_symbol_i , SNP_ftype_i , AA_change_i = SNP_annotate(ref_position_i , alt_base_i)[1:]\n",
    "\n",
    "            gene_id_list.append(gene_id_i)\n",
    "            gene_coord_list.append(gene_coord_i)\n",
    "            gene_category_list.append(gene_category_i)\n",
    "            gene_symbol_list.append(gene_symbol_i)\n",
    "            SNP_ftype_list.append(SNP_ftype_i)\n",
    "            AA_change_list.append(AA_change_i)\n",
    "\n",
    "        #create columns to store SNP annotation info\n",
    "        SNPs_from_isolate['gene_id'] = gene_id_list\n",
    "        SNPs_from_isolate['gene_coord'] = gene_coord_list\n",
    "        SNPs_from_isolate['gene_category'] = gene_category_list\n",
    "        SNPs_from_isolate['gene_symbol'] = gene_symbol_list\n",
    "        SNPs_from_isolate['SNP_ftype'] = SNP_ftype_list\n",
    "        SNPs_from_isolate['AA_change'] = AA_change_list\n",
    "\n",
    "    #No predictive AR SNPs detected from this isolate (empty DataFrame)\n",
    "    else:\n",
    "\n",
    "        SNPs_from_isolate['gene_id'] = \"\"\n",
    "        SNPs_from_isolate['gene_coord'] = \"\"\n",
    "        SNPs_from_isolate['gene_category'] = \"\"\n",
    "        SNPs_from_isolate['gene_symbol'] = \"\"\n",
    "        SNPs_from_isolate['SNP_ftype'] = \"\"\n",
    "        SNPs_from_isolate['AA_change'] = \"\"\n",
    "        \n",
    "    #drop synonymous SNPs & re-index\n",
    "    SNPs_from_isolate = SNPs_from_isolate[SNPs_from_isolate.SNP_ftype != 'S']\n",
    "    SNPs_from_isolate.reset_index(inplace = True , drop = True)\n",
    "\n",
    "    #add column to patient_id & isolate tag\n",
    "    patient_id = sample_annotation[sample_annotation.tag == isolate_tag].index[0]\n",
    "    isolate_tag = sample_annotation[sample_annotation.tag == isolate_tag].tag[0]\n",
    "    \n",
    "    SNPs_from_isolate['patient_id'] = [patient_id]*np.shape(SNPs_from_isolate)[0]\n",
    "    SNPs_from_isolate['isolate_tag'] = [isolate_tag]*np.shape(SNPs_from_isolate)[0]\n",
    "    \n",
    "    #store AR SNPs in dict\n",
    "    AR_SNPs_1st_sample_dict[patient_id] = SNPs_from_isolate\n",
    "    \n",
    "    #create a DataFrame that stores all AR SNPs detected in the 1st sample of each serial pair\n",
    "    all_AR_SNPS_1st_sample_df = all_AR_SNPS_1st_sample_df.append(SNPs_from_isolate)\n",
    "    \n",
    "    isolate_i += 1\n",
    "    if isolate_i % 20 == 0:\n",
    "        print isolate_i\n",
    "        \n",
    "#reset index for DataFrame containing all AR SNPs in first clinical isoaltes for each serial pair\n",
    "all_AR_SNPS_1st_sample_df.reset_index(inplace = True , drop = True)"
   ]
  },
  {
   "cell_type": "code",
   "execution_count": 145,
   "metadata": {},
   "outputs": [
    {
     "data": {
      "text/html": [
       "<div>\n",
       "<style>\n",
       "    .dataframe thead tr:only-child th {\n",
       "        text-align: right;\n",
       "    }\n",
       "\n",
       "    .dataframe thead th {\n",
       "        text-align: left;\n",
       "    }\n",
       "\n",
       "    .dataframe tbody tr th {\n",
       "        vertical-align: top;\n",
       "    }\n",
       "</style>\n",
       "<table border=\"1\" class=\"dataframe\">\n",
       "  <thead>\n",
       "    <tr style=\"text-align: right;\">\n",
       "      <th></th>\n",
       "      <th>ref_base</th>\n",
       "      <th>alt_base</th>\n",
       "      <th>ref_position</th>\n",
       "      <th>INFO</th>\n",
       "      <th>gene_id</th>\n",
       "      <th>gene_coord</th>\n",
       "      <th>gene_category</th>\n",
       "      <th>gene_symbol</th>\n",
       "      <th>SNP_ftype</th>\n",
       "      <th>AA_change</th>\n",
       "      <th>patient_id</th>\n",
       "      <th>isolate_tag</th>\n",
       "    </tr>\n",
       "  </thead>\n",
       "  <tbody>\n",
       "    <tr>\n",
       "      <th>0</th>\n",
       "      <td>T</td>\n",
       "      <td>G</td>\n",
       "      <td>4407927.0</td>\n",
       "      <td>{u'QP': [0, 0, 100, 0], u'AC': [2], u'BC': [0,...</td>\n",
       "      <td>Rv3919c</td>\n",
       "      <td>276</td>\n",
       "      <td>Antibiotic Resistance</td>\n",
       "      <td>gid</td>\n",
       "      <td>N</td>\n",
       "      <td>E92D</td>\n",
       "      <td>2020E</td>\n",
       "      <td>ERR108130</td>\n",
       "    </tr>\n",
       "    <tr>\n",
       "      <th>1</th>\n",
       "      <td>T</td>\n",
       "      <td>G</td>\n",
       "      <td>4407927.0</td>\n",
       "      <td>{u'QP': [0, 0, 100, 0], u'AC': [2], u'BC': [0,...</td>\n",
       "      <td>Rv3919c</td>\n",
       "      <td>276</td>\n",
       "      <td>Antibiotic Resistance</td>\n",
       "      <td>gid</td>\n",
       "      <td>N</td>\n",
       "      <td>E92D</td>\n",
       "      <td>3058W</td>\n",
       "      <td>ERR108148</td>\n",
       "    </tr>\n",
       "    <tr>\n",
       "      <th>2</th>\n",
       "      <td>T</td>\n",
       "      <td>G</td>\n",
       "      <td>4407927.0</td>\n",
       "      <td>{u'QP': [0, 0, 100, 0], u'AC': [2], u'BC': [0,...</td>\n",
       "      <td>Rv3919c</td>\n",
       "      <td>276</td>\n",
       "      <td>Antibiotic Resistance</td>\n",
       "      <td>gid</td>\n",
       "      <td>N</td>\n",
       "      <td>E92D</td>\n",
       "      <td>3117W</td>\n",
       "      <td>ERR108155</td>\n",
       "    </tr>\n",
       "    <tr>\n",
       "      <th>3</th>\n",
       "      <td>T</td>\n",
       "      <td>G</td>\n",
       "      <td>4407927.0</td>\n",
       "      <td>{u'QP': [0, 0, 100, 0], u'AC': [2], u'BC': [0,...</td>\n",
       "      <td>Rv3919c</td>\n",
       "      <td>276</td>\n",
       "      <td>Antibiotic Resistance</td>\n",
       "      <td>gid</td>\n",
       "      <td>N</td>\n",
       "      <td>E92D</td>\n",
       "      <td>3142P</td>\n",
       "      <td>ERR108159</td>\n",
       "    </tr>\n",
       "    <tr>\n",
       "      <th>4</th>\n",
       "      <td>T</td>\n",
       "      <td>G</td>\n",
       "      <td>4407927.0</td>\n",
       "      <td>{u'QP': [0, 0, 100, 0], u'AC': [2], u'BC': [0,...</td>\n",
       "      <td>Rv3919c</td>\n",
       "      <td>276</td>\n",
       "      <td>Antibiotic Resistance</td>\n",
       "      <td>gid</td>\n",
       "      <td>N</td>\n",
       "      <td>E92D</td>\n",
       "      <td>3143B</td>\n",
       "      <td>ERR108161</td>\n",
       "    </tr>\n",
       "  </tbody>\n",
       "</table>\n",
       "</div>"
      ],
      "text/plain": [
       "  ref_base alt_base  ref_position  \\\n",
       "0        T        G     4407927.0   \n",
       "1        T        G     4407927.0   \n",
       "2        T        G     4407927.0   \n",
       "3        T        G     4407927.0   \n",
       "4        T        G     4407927.0   \n",
       "\n",
       "                                                INFO  gene_id gene_coord  \\\n",
       "0  {u'QP': [0, 0, 100, 0], u'AC': [2], u'BC': [0,...  Rv3919c        276   \n",
       "1  {u'QP': [0, 0, 100, 0], u'AC': [2], u'BC': [0,...  Rv3919c        276   \n",
       "2  {u'QP': [0, 0, 100, 0], u'AC': [2], u'BC': [0,...  Rv3919c        276   \n",
       "3  {u'QP': [0, 0, 100, 0], u'AC': [2], u'BC': [0,...  Rv3919c        276   \n",
       "4  {u'QP': [0, 0, 100, 0], u'AC': [2], u'BC': [0,...  Rv3919c        276   \n",
       "\n",
       "           gene_category gene_symbol SNP_ftype AA_change patient_id  \\\n",
       "0  Antibiotic Resistance         gid         N      E92D      2020E   \n",
       "1  Antibiotic Resistance         gid         N      E92D      3058W   \n",
       "2  Antibiotic Resistance         gid         N      E92D      3117W   \n",
       "3  Antibiotic Resistance         gid         N      E92D      3142P   \n",
       "4  Antibiotic Resistance         gid         N      E92D      3143B   \n",
       "\n",
       "  isolate_tag  \n",
       "0   ERR108130  \n",
       "1   ERR108148  \n",
       "2   ERR108155  \n",
       "3   ERR108159  \n",
       "4   ERR108161  "
      ]
     },
     "execution_count": 145,
     "metadata": {},
     "output_type": "execute_result"
    }
   ],
   "source": [
    "all_AR_SNPS_1st_sample_df.head()"
   ]
  },
  {
   "cell_type": "code",
   "execution_count": 146,
   "metadata": {},
   "outputs": [
    {
     "data": {
      "text/plain": [
       "(287, 12)"
      ]
     },
     "execution_count": 146,
     "metadata": {},
     "output_type": "execute_result"
    }
   ],
   "source": [
    "np.shape(all_AR_SNPS_1st_sample_df)"
   ]
  },
  {
   "cell_type": "code",
   "execution_count": 147,
   "metadata": {
    "scrolled": true
   },
   "outputs": [
    {
     "data": {
      "text/plain": [
       "0"
      ]
     },
     "execution_count": 147,
     "metadata": {},
     "output_type": "execute_result"
    }
   ],
   "source": [
    "sum( all_AR_SNPS_1st_sample_df.SNP_ftype == 'S' ) #check to make sure no Synonymous SNPs"
   ]
  },
  {
   "cell_type": "markdown",
   "metadata": {},
   "source": [
    "#### Filter out any *gid* E92D mutations since these are likely lineage markers"
   ]
  },
  {
   "cell_type": "code",
   "execution_count": 148,
   "metadata": {},
   "outputs": [],
   "source": [
    "non_gid_E92D_SNPs_filter = [not ((all_AR_SNPS_1st_sample_df.loc[SNP_i, :].AA_change == 'E92D') and (all_AR_SNPS_1st_sample_df.loc[SNP_i, :].gene_id == 'Rv3919c')) for SNP_i in all_AR_SNPS_1st_sample_df.index]\n",
    "all_AR_SNPS_1st_sample_df = all_AR_SNPS_1st_sample_df[non_gid_E92D_SNPs_filter]\n",
    "\n",
    "#reset index\n",
    "all_AR_SNPS_1st_sample_df.reset_index(inplace = True , drop = True)"
   ]
  },
  {
   "cell_type": "code",
   "execution_count": 149,
   "metadata": {},
   "outputs": [
    {
     "data": {
      "text/plain": [
       "(259, 12)"
      ]
     },
     "execution_count": 149,
     "metadata": {},
     "output_type": "execute_result"
    }
   ],
   "source": [
    "np.shape(all_AR_SNPS_1st_sample_df)"
   ]
  },
  {
   "cell_type": "markdown",
   "metadata": {},
   "source": [
    "Output as a CSV file"
   ]
  },
  {
   "cell_type": "code",
   "execution_count": 150,
   "metadata": {},
   "outputs": [],
   "source": [
    "all_AR_SNPS_1st_sample_df.to_csv('/n/data1/hms/dbmi/farhat/Roger/inhost_TB_dynamics_project/CSV_files/antibiotic_resistance_longitudinal_SNPs/AR_SNPs_1st_isolate_failure_relapse_subjects.csv', sep = ',')"
   ]
  },
  {
   "cell_type": "markdown",
   "metadata": {},
   "source": [
    "#### Count the number of AR SNPs in first collected isolate for each subject (with at least 1 AR SNP in first isolate collected)"
   ]
  },
  {
   "cell_type": "code",
   "execution_count": 151,
   "metadata": {},
   "outputs": [],
   "source": [
    "from collections import Counter\n",
    "AR_SNPs_in_1st_isolate_per_subject = pd.Series( Counter(list(all_AR_SNPS_1st_sample_df.patient_id)) )"
   ]
  },
  {
   "cell_type": "code",
   "execution_count": 152,
   "metadata": {},
   "outputs": [
    {
     "data": {
      "text/plain": [
       "73"
      ]
     },
     "execution_count": 152,
     "metadata": {},
     "output_type": "execute_result"
    }
   ],
   "source": [
    "len(AR_SNPs_in_1st_isolate_per_subject)"
   ]
  },
  {
   "cell_type": "code",
   "execution_count": 153,
   "metadata": {},
   "outputs": [
    {
     "data": {
      "text/plain": [
       "1672    7\n",
       "1673    7\n",
       "1700    4\n",
       "1719    4\n",
       "1827    4\n",
       "dtype: int64"
      ]
     },
     "execution_count": 153,
     "metadata": {},
     "output_type": "execute_result"
    }
   ],
   "source": [
    "AR_SNPs_in_1st_isolate_per_subject.head()"
   ]
  },
  {
   "cell_type": "markdown",
   "metadata": {},
   "source": [
    "#### Add in 'zero' count for subjects with no AR SNPs in first collected isolate"
   ]
  },
  {
   "cell_type": "code",
   "execution_count": 154,
   "metadata": {},
   "outputs": [],
   "source": [
    "for subject_id in patients_to_keep:\n",
    "    \n",
    "    if subject_id not in list(AR_SNPs_in_1st_isolate_per_subject.index):\n",
    "        \n",
    "        AR_SNPs_in_1st_isolate_per_subject[subject_id] = 0"
   ]
  },
  {
   "cell_type": "code",
   "execution_count": 155,
   "metadata": {},
   "outputs": [
    {
     "data": {
      "text/plain": [
       "178"
      ]
     },
     "execution_count": 155,
     "metadata": {},
     "output_type": "execute_result"
    }
   ],
   "source": [
    "len(AR_SNPs_in_1st_isolate_per_subject)"
   ]
  },
  {
   "cell_type": "code",
   "execution_count": 156,
   "metadata": {},
   "outputs": [
    {
     "data": {
      "text/plain": [
       "0"
      ]
     },
     "execution_count": 156,
     "metadata": {},
     "output_type": "execute_result"
    }
   ],
   "source": [
    "min(AR_SNPs_in_1st_isolate_per_subject)"
   ]
  },
  {
   "cell_type": "code",
   "execution_count": 157,
   "metadata": {},
   "outputs": [
    {
     "data": {
      "text/plain": [
       "8"
      ]
     },
     "execution_count": 157,
     "metadata": {},
     "output_type": "execute_result"
    }
   ],
   "source": [
    "max(AR_SNPs_in_1st_isolate_per_subject)"
   ]
  },
  {
   "cell_type": "code",
   "execution_count": 158,
   "metadata": {},
   "outputs": [
    {
     "data": {
      "image/png": "[encoded data removed]",
      "text/plain": [
       "<Figure size 720x396 with 1 Axes>"
      ]
     },
     "metadata": {},
     "output_type": "display_data"
    }
   ],
   "source": [
    "fig , ax = plt.subplots()\n",
    "\n",
    "n , bins , patches = plt.hist(AR_SNPs_in_1st_isolate_per_subject , rwidth = 1.0 , edgecolor='white', bins =  range(0 , max(AR_SNPs_in_1st_isolate_per_subject) + 2) , linewidth = 2.0 , color = 'k' , align = 'left')\n",
    "\n",
    "plt.ylabel('Number of Subjects', fontweight = 'bold' , fontsize = 12, color = 'k')\n",
    "plt.xlabel('Number of AR SNPs in 1st isolate', fontweight = 'bold' , fontsize = 12, color = 'k')\n",
    "\n",
    "ax.spines['right'].set_visible(False)\n",
    "ax.spines['top'].set_visible(False)\n",
    "\n",
    "ax.set_xticks(range(0 , max(AR_SNPs_in_1st_isolate_per_subject) + 1 , 1)) #xtick positions\n",
    "ax.set_xticklabels([str(x) for x in range(0 , max(AR_SNPs_in_1st_isolate_per_subject) + 1 , 1)]) #xtick labels\n",
    "\n",
    "ax.tick_params(labelcolor = 'k')\n",
    "ax.tick_params(direction='out', length=3, width=1.25, colors='k') #make tick marks darker\n",
    "\n",
    "ax.set_xlim(-0.6 , max(AR_SNPs_in_1st_isolate_per_subject) + 0.6)\n",
    "\n",
    "fig = plt.gcf()\n",
    "fig.set_size_inches(10.0, 5.5)\n",
    "fig.tight_layout()\n",
    "\n",
    "file_name = '/n/data1/hms/dbmi/farhat/Roger/inhost_TB_dynamics_project/figures/antibiotic_resistance_analysis/number_AR_SNPs_in_1st_isolate_failure_relapse_subjects.pdf'\n",
    "plt.savefig(file_name, bbox_inches='tight', dpi = 300 , transparent = True)\n",
    "\n",
    "plt.show()"
   ]
  },
  {
   "cell_type": "markdown",
   "metadata": {},
   "source": [
    "#### SNPs most represented in 1st collected isolate"
   ]
  },
  {
   "cell_type": "code",
   "execution_count": 159,
   "metadata": {},
   "outputs": [
    {
     "data": {
      "text/plain": [
       "2155168.0    37\n",
       "761155.0     31\n",
       "1673425.0    19\n",
       "2518919.0    15\n",
       "4247431.0    14\n",
       "4242182.0     8\n",
       "409569.0      7\n",
       "4407967.0     6\n",
       "7582.0        6\n",
       "761110.0      6\n",
       "4247429.0     6\n",
       "1674481.0     5\n",
       "4247730.0     5\n",
       "4247729.0     5\n",
       "781687.0      5\n",
       "781822.0      4\n",
       "4326116.0     4\n",
       "1472359.0     3\n",
       "1674263.0     3\n",
       "2289090.0     3\n",
       "dtype: int64"
      ]
     },
     "execution_count": 159,
     "metadata": {},
     "output_type": "execute_result"
    }
   ],
   "source": [
    "pd.Series( Counter( all_AR_SNPS_1st_sample_df.ref_position ) ).sort_values(ascending = False).head(n = 20)"
   ]
  },
  {
   "cell_type": "markdown",
   "metadata": {},
   "source": [
    "#### Find out how many subjects had MDR TB for the 1st collected isolate"
   ]
  },
  {
   "cell_type": "code",
   "execution_count": 160,
   "metadata": {},
   "outputs": [],
   "source": [
    "patients_with_MDR = []\n",
    "\n",
    "for patient_id in patients_to_keep:\n",
    "    \n",
    "    RIF_res = False\n",
    "    INH_res = False\n",
    "    \n",
    "    #subset to AR SNPs detected in 1st collected isolate\n",
    "    all_AR_SNPS_1st_sample_df_for_patient = all_AR_SNPS_1st_sample_df[all_AR_SNPS_1st_sample_df.patient_id == patient_id]\n",
    "    \n",
    "    #create list of Ref Positions + Alternate Allele\n",
    "    all_AR_SNPS_1st_sample_for_patient = [str(int(ref_pos)) + '_' + alt_allele for ref_pos, alt_allele in zip(all_AR_SNPS_1st_sample_df_for_patient.ref_position , all_AR_SNPS_1st_sample_df_for_patient.alt_base)]\n",
    "    \n",
    "    #check for SNP assoc. with RIF & INH resistance\n",
    "    for AR_SNP in all_AR_SNPS_1st_sample_for_patient:\n",
    "        \n",
    "        if AR_SNP in AR_RIF_variants:\n",
    "            \n",
    "            RIF_res = True\n",
    "            \n",
    "        elif AR_SNP in AR_INH_variants:\n",
    "            \n",
    "            INH_res = True\n",
    "            \n",
    "    #store patient in list of the patient has at least 1 RIF SNP and 1 INH SNP in 1st collected isolate\n",
    "    if ((RIF_res == True) and (INH_res == True)):\n",
    "        \n",
    "        patients_with_MDR.append(patient_id)"
   ]
  },
  {
   "cell_type": "code",
   "execution_count": 161,
   "metadata": {},
   "outputs": [
    {
     "name": "stdout",
     "output_type": "stream",
     "text": [
      "['P316', 'P367', '1672', '1673', '1700', '1719', '1827', '1846', '1948', '1960', '2026', '2307', '2319', '2436', '2491', '2523', '2556', '2688', '2918', '2968', '3451', '3673', 'I0000024-5', 'I0000068-2', 'I0000180-5', 'I0001112-7', 'I0001162-2', 'I0001560-7', 'I0002457-5', 'I0002615-8', 'I0002960-8', 'I0003165-3', 'I0003398-0', 'I0004013-4', 'I0004236-1', 'I0004746-9', 'I0005229-5', 'I0005235-2', 'I0005973-8', 'P08', 'P09', 'P10', 'P11', 'P000155', 'P000225', 'P000226', 'D']\n"
     ]
    }
   ],
   "source": [
    "print patients_with_MDR"
   ]
  },
  {
   "cell_type": "code",
   "execution_count": 162,
   "metadata": {},
   "outputs": [
    {
     "data": {
      "text/plain": [
       "47"
      ]
     },
     "execution_count": 162,
     "metadata": {},
     "output_type": "execute_result"
    }
   ],
   "source": [
    "len(patients_with_MDR)"
   ]
  },
  {
   "cell_type": "code",
   "execution_count": 163,
   "metadata": {},
   "outputs": [
    {
     "data": {
      "text/plain": [
       "178"
      ]
     },
     "execution_count": 163,
     "metadata": {},
     "output_type": "execute_result"
    }
   ],
   "source": [
    "len(patients_to_keep)"
   ]
  },
  {
   "cell_type": "code",
   "execution_count": 164,
   "metadata": {},
   "outputs": [
    {
     "name": "stdout",
     "output_type": "stream",
     "text": [
      "Proportion of Subjects with MDR TB = 0.26404494382\n"
     ]
    }
   ],
   "source": [
    "print 'Proportion of Subjects with MDR TB = ' + str(float(len(patients_with_MDR)) / float(len(patients_to_keep)))"
   ]
  },
  {
   "cell_type": "markdown",
   "metadata": {},
   "source": [
    "### Get the number of AR SNPs that cropped up between longitudinal isolates (with $AF \\ge 40\\%$) from subjects with treatment failure"
   ]
  },
  {
   "cell_type": "code",
   "execution_count": 165,
   "metadata": {},
   "outputs": [],
   "source": [
    "AR_SNPs_between_isolates_per_subject = pd.Series()\n",
    "for subject_id in list(AR_SNPs_in_1st_isolate_per_subject.index):\n",
    "    AR_SNPs_between_isolates_per_subject[subject_id] = np.sum(all_SNPs_within_patients_AR_fSNPs.patient_id == subject_id)"
   ]
  },
  {
   "cell_type": "code",
   "execution_count": 166,
   "metadata": {},
   "outputs": [
    {
     "data": {
      "text/plain": [
       "1672    0\n",
       "1673    0\n",
       "1700    2\n",
       "1719    0\n",
       "1827    0\n",
       "dtype: int64"
      ]
     },
     "execution_count": 166,
     "metadata": {},
     "output_type": "execute_result"
    }
   ],
   "source": [
    "AR_SNPs_between_isolates_per_subject.head()"
   ]
  },
  {
   "cell_type": "code",
   "execution_count": 167,
   "metadata": {},
   "outputs": [
    {
     "data": {
      "text/plain": [
       "178"
      ]
     },
     "execution_count": 167,
     "metadata": {},
     "output_type": "execute_result"
    }
   ],
   "source": [
    "len(AR_SNPs_between_isolates_per_subject)"
   ]
  },
  {
   "cell_type": "markdown",
   "metadata": {},
   "source": [
    "### Test for association between pre-existing AR & AR SNP acquisition in *failure* subjects"
   ]
  },
  {
   "cell_type": "markdown",
   "metadata": {},
   "source": [
    "#### Split subjects into 2 groups, subjects with no AR SNPs in 1st isolate (Group B1) & subjects with at least 1 AR SNP in 1st isolate (Group B2)"
   ]
  },
  {
   "cell_type": "code",
   "execution_count": 168,
   "metadata": {},
   "outputs": [],
   "source": [
    "group_B1_subjects = list( AR_SNPs_in_1st_isolate_per_subject[AR_SNPs_in_1st_isolate_per_subject == 0].index )\n",
    "group_B2_subjects = list( AR_SNPs_in_1st_isolate_per_subject[AR_SNPs_in_1st_isolate_per_subject > 0].index )"
   ]
  },
  {
   "cell_type": "code",
   "execution_count": 169,
   "metadata": {},
   "outputs": [
    {
     "data": {
      "text/plain": [
       "105"
      ]
     },
     "execution_count": 169,
     "metadata": {},
     "output_type": "execute_result"
    }
   ],
   "source": [
    "len(group_B1_subjects)"
   ]
  },
  {
   "cell_type": "code",
   "execution_count": 170,
   "metadata": {},
   "outputs": [
    {
     "data": {
      "text/plain": [
       "73"
      ]
     },
     "execution_count": 170,
     "metadata": {},
     "output_type": "execute_result"
    }
   ],
   "source": [
    "len(group_B2_subjects)"
   ]
  },
  {
   "cell_type": "markdown",
   "metadata": {},
   "source": [
    "#### Group B1"
   ]
  },
  {
   "cell_type": "markdown",
   "metadata": {},
   "source": [
    "Subjects with no AR SNPs in 1st collected longitudinal sample who also had no AR SNPs crop up between isolate collection"
   ]
  },
  {
   "cell_type": "code",
   "execution_count": 171,
   "metadata": {},
   "outputs": [
    {
     "data": {
      "text/plain": [
       "98"
      ]
     },
     "execution_count": 171,
     "metadata": {},
     "output_type": "execute_result"
    }
   ],
   "source": [
    "sum( AR_SNPs_between_isolates_per_subject[group_B1_subjects] == 0 )"
   ]
  },
  {
   "cell_type": "markdown",
   "metadata": {},
   "source": [
    "Subjects with no AR SNPs in 1st collected longitudinal sample who also had at least 1 AR SNP crop up between isolate collection"
   ]
  },
  {
   "cell_type": "code",
   "execution_count": 172,
   "metadata": {},
   "outputs": [
    {
     "data": {
      "text/plain": [
       "7"
      ]
     },
     "execution_count": 172,
     "metadata": {},
     "output_type": "execute_result"
    }
   ],
   "source": [
    "sum( AR_SNPs_between_isolates_per_subject[group_B1_subjects] > 0 )"
   ]
  },
  {
   "cell_type": "code",
   "execution_count": 173,
   "metadata": {},
   "outputs": [
    {
     "data": {
      "text/plain": [
       "0.06666666666666667"
      ]
     },
     "execution_count": 173,
     "metadata": {},
     "output_type": "execute_result"
    }
   ],
   "source": [
    "float(7) / float(105)"
   ]
  },
  {
   "cell_type": "markdown",
   "metadata": {},
   "source": [
    "#### Group B2"
   ]
  },
  {
   "cell_type": "markdown",
   "metadata": {},
   "source": [
    "Subjects who had at least 1st collected longitudinal sample who also had no AR SNPs crop up between isolate collection"
   ]
  },
  {
   "cell_type": "code",
   "execution_count": 174,
   "metadata": {},
   "outputs": [
    {
     "data": {
      "text/plain": [
       "53"
      ]
     },
     "execution_count": 174,
     "metadata": {},
     "output_type": "execute_result"
    }
   ],
   "source": [
    "sum( AR_SNPs_between_isolates_per_subject[group_B2_subjects] == 0 )"
   ]
  },
  {
   "cell_type": "markdown",
   "metadata": {},
   "source": [
    "Subjects who had at least 1st collected longitudinal sample who also had at least 1 AR SNP crop up between isolate collection"
   ]
  },
  {
   "cell_type": "code",
   "execution_count": 175,
   "metadata": {},
   "outputs": [
    {
     "data": {
      "text/plain": [
       "20"
      ]
     },
     "execution_count": 175,
     "metadata": {},
     "output_type": "execute_result"
    }
   ],
   "source": [
    "sum( AR_SNPs_between_isolates_per_subject[group_B2_subjects] > 0 )"
   ]
  },
  {
   "cell_type": "code",
   "execution_count": 176,
   "metadata": {},
   "outputs": [
    {
     "data": {
      "text/plain": [
       "0.273972602739726"
      ]
     },
     "execution_count": 176,
     "metadata": {},
     "output_type": "execute_result"
    }
   ],
   "source": [
    "float(20) / float(73)"
   ]
  },
  {
   "cell_type": "markdown",
   "metadata": {},
   "source": [
    "#### Fisher exact test to test independence"
   ]
  },
  {
   "cell_type": "code",
   "execution_count": 177,
   "metadata": {},
   "outputs": [],
   "source": [
    "AR_SNP_cont_table = np.array([[98,7] , [53,20]])"
   ]
  },
  {
   "cell_type": "code",
   "execution_count": 178,
   "metadata": {},
   "outputs": [
    {
     "data": {
      "text/plain": [
       "array([[98,  7],\n",
       "       [53, 20]])"
      ]
     },
     "execution_count": 178,
     "metadata": {},
     "output_type": "execute_result"
    }
   ],
   "source": [
    "AR_SNP_cont_table"
   ]
  },
  {
   "cell_type": "code",
   "execution_count": 179,
   "metadata": {},
   "outputs": [],
   "source": [
    "oddsratio, pvalue = stats.fisher_exact(AR_SNP_cont_table) #rows: (1) subjects with no AR SNPs in 1st isolate (2) subjects with at least 1 AR SNP in 1st isolate ; columns: (1) no AR SNPs between isolate collection (2) at least 1 AR SNP between isolate collection"
   ]
  },
  {
   "cell_type": "code",
   "execution_count": 180,
   "metadata": {},
   "outputs": [
    {
     "data": {
      "text/plain": [
       "5.283018867924528"
      ]
     },
     "execution_count": 180,
     "metadata": {},
     "output_type": "execute_result"
    }
   ],
   "source": [
    "oddsratio"
   ]
  },
  {
   "cell_type": "code",
   "execution_count": 181,
   "metadata": {},
   "outputs": [
    {
     "data": {
      "text/plain": [
       "0.00021986311590681707"
      ]
     },
     "execution_count": 181,
     "metadata": {},
     "output_type": "execute_result"
    }
   ],
   "source": [
    "pvalue"
   ]
  },
  {
   "cell_type": "markdown",
   "metadata": {},
   "source": [
    "### Further analysis on *B2* group that acquired an AR SNP between sample collection"
   ]
  },
  {
   "cell_type": "markdown",
   "metadata": {},
   "source": [
    "- $\\frac{27}{178} \\approx 15\\%$ treatment failure subjects had an AR fSNP between sampling \n",
    "\n",
    "- $\\frac{20}{27} \\approx 74\\%$ of cases of AR fSNP acquisition (e.g. *Resistance Amplification*) occurred in the **B2** group (isolates genotypically resistant at the outset).\n",
    "\n",
    "- Of the $\\frac{20}{27} \\approx 74\\%$ subjects, how many developed an AR fSNP that resulted in a resistance mutation to an **additional** drug, the acqusition of an AR fSNP that incurs resistance to a drug for which no resistance mutations were detected at the outset?"
   ]
  },
  {
   "cell_type": "markdown",
   "metadata": {},
   "source": [
    "Get the subject IDs for subjects that: \n",
    "1. Had sample collections time $\\ge 2$ months (classified as treatment failure)\n",
    "2. Were genotypically resistant at the outset ($\\ge 1$ pAR SNP detected in 1st isolate)\n",
    "3. Developed Resistance Amplification ($\\ge 1$ AR fSNP between sample collection)"
   ]
  },
  {
   "cell_type": "code",
   "execution_count": 182,
   "metadata": {},
   "outputs": [],
   "source": [
    "subjects_treatment_failure_AND_genotypically_resistant_outset_AND_AR_fSNP_acquisition = AR_SNPs_between_isolates_per_subject[group_B2_subjects][AR_SNPs_between_isolates_per_subject[group_B2_subjects] > 0]"
   ]
  },
  {
   "cell_type": "code",
   "execution_count": 183,
   "metadata": {},
   "outputs": [
    {
     "data": {
      "text/plain": [
       "20"
      ]
     },
     "execution_count": 183,
     "metadata": {},
     "output_type": "execute_result"
    }
   ],
   "source": [
    "len(subjects_treatment_failure_AND_genotypically_resistant_outset_AND_AR_fSNP_acquisition)"
   ]
  },
  {
   "cell_type": "markdown",
   "metadata": {},
   "source": [
    "Annotation for Antibiotic Resistance Loci"
   ]
  },
  {
   "cell_type": "code",
   "execution_count": 184,
   "metadata": {},
   "outputs": [],
   "source": [
    "H37Rv_regions_of_interest = pd.read_csv('/n/data1/hms/dbmi/farhat/Roger/inhost_TB_dynamics_project/CSV_files/gene_categories/H37Rv_AR_regions_of_interest.csv' , sep = ',').set_index('Unnamed: 0')\n",
    "H37Rv_regions_of_interest.index.rename('' , inplace = True)"
   ]
  },
  {
   "cell_type": "code",
   "execution_count": 185,
   "metadata": {},
   "outputs": [
    {
     "data": {
      "text/html": [
       "<div>\n",
       "<style>\n",
       "    .dataframe thead tr:only-child th {\n",
       "        text-align: right;\n",
       "    }\n",
       "\n",
       "    .dataframe thead th {\n",
       "        text-align: left;\n",
       "    }\n",
       "\n",
       "    .dataframe tbody tr th {\n",
       "        vertical-align: top;\n",
       "    }\n",
       "</style>\n",
       "<table border=\"1\" class=\"dataframe\">\n",
       "  <thead>\n",
       "    <tr style=\"text-align: right;\">\n",
       "      <th></th>\n",
       "      <th>H37Rv_start</th>\n",
       "      <th>H37Rv_end</th>\n",
       "      <th>type</th>\n",
       "      <th>gene_after</th>\n",
       "      <th>gene_before</th>\n",
       "      <th>symbol</th>\n",
       "      <th>description</th>\n",
       "    </tr>\n",
       "    <tr>\n",
       "      <th></th>\n",
       "      <th></th>\n",
       "      <th></th>\n",
       "      <th></th>\n",
       "      <th></th>\n",
       "      <th></th>\n",
       "      <th></th>\n",
       "      <th></th>\n",
       "    </tr>\n",
       "  </thead>\n",
       "  <tbody>\n",
       "    <tr>\n",
       "      <th>0</th>\n",
       "      <td>5239</td>\n",
       "      <td>7267</td>\n",
       "      <td>gene</td>\n",
       "      <td>Rv0005</td>\n",
       "      <td>Rv0005</td>\n",
       "      <td>gyrB</td>\n",
       "      <td>DNA gyrase subunit B</td>\n",
       "    </tr>\n",
       "    <tr>\n",
       "      <th>1</th>\n",
       "      <td>7301</td>\n",
       "      <td>9818</td>\n",
       "      <td>gene</td>\n",
       "      <td>Rv0006</td>\n",
       "      <td>Rv0006</td>\n",
       "      <td>gyrA</td>\n",
       "      <td>DNA gyrase subunit A</td>\n",
       "    </tr>\n",
       "    <tr>\n",
       "      <th>2</th>\n",
       "      <td>409361</td>\n",
       "      <td>410801</td>\n",
       "      <td>gene</td>\n",
       "      <td>Rv0341</td>\n",
       "      <td>Rv0341</td>\n",
       "      <td>iniB</td>\n",
       "      <td>isoniazid inductible gene protein</td>\n",
       "    </tr>\n",
       "    <tr>\n",
       "      <th>3</th>\n",
       "      <td>410837</td>\n",
       "      <td>412760</td>\n",
       "      <td>gene</td>\n",
       "      <td>Rv0342</td>\n",
       "      <td>Rv0342</td>\n",
       "      <td>iniA</td>\n",
       "      <td>isoniazid inductible gene protein</td>\n",
       "    </tr>\n",
       "    <tr>\n",
       "      <th>4</th>\n",
       "      <td>412756</td>\n",
       "      <td>414238</td>\n",
       "      <td>gene</td>\n",
       "      <td>Rv0343</td>\n",
       "      <td>Rv0343</td>\n",
       "      <td>iniC</td>\n",
       "      <td>isoniazid inductible gene protein</td>\n",
       "    </tr>\n",
       "  </tbody>\n",
       "</table>\n",
       "</div>"
      ],
      "text/plain": [
       "   H37Rv_start  H37Rv_end  type gene_after gene_before symbol  \\\n",
       "                                                                \n",
       "0         5239       7267  gene     Rv0005      Rv0005   gyrB   \n",
       "1         7301       9818  gene     Rv0006      Rv0006   gyrA   \n",
       "2       409361     410801  gene     Rv0341      Rv0341   iniB   \n",
       "3       410837     412760  gene     Rv0342      Rv0342   iniA   \n",
       "4       412756     414238  gene     Rv0343      Rv0343   iniC   \n",
       "\n",
       "                         description  \n",
       "                                      \n",
       "0               DNA gyrase subunit B  \n",
       "1               DNA gyrase subunit A  \n",
       "2  isoniazid inductible gene protein  \n",
       "3  isoniazid inductible gene protein  \n",
       "4  isoniazid inductible gene protein  "
      ]
     },
     "execution_count": 185,
     "metadata": {},
     "output_type": "execute_result"
    }
   ],
   "source": [
    "H37Rv_regions_of_interest.head()"
   ]
  },
  {
   "cell_type": "markdown",
   "metadata": {},
   "source": [
    "#### Collect all H37Rv locus tags with (AR SNPs at the outset) or (AR SNPs acquired between sampling) "
   ]
  },
  {
   "cell_type": "code",
   "execution_count": 186,
   "metadata": {},
   "outputs": [],
   "source": [
    "gene_locus_tag_list = []\n",
    "\n",
    "for subject_id in subjects_treatment_failure_AND_genotypically_resistant_outset_AND_AR_fSNP_acquisition.index:\n",
    "    \n",
    "    #collect genes with SNPs for this subject\n",
    "    genes_with_resistance_SNPs_outset_subject_i = list(set(all_AR_SNPS_1st_sample_df[all_AR_SNPS_1st_sample_df.patient_id == subject_id].gene_id)) #genes with SNPs at outset\n",
    "    genes_with_resistance_SNPs_acquired_subject_i = list(set(all_SNPs_within_patients_AR_fSNPs[all_SNPs_within_patients_AR_fSNPs.patient_id == subject_id].gene_id)) #genes with SNPs acquired between samples\n",
    "    \n",
    "    #get genes with AR SNPs at outset across subset of subjects\n",
    "    for gene_locus_tag in genes_with_resistance_SNPs_outset_subject_i:\n",
    "        gene_locus_tag_list.append(gene_locus_tag)\n",
    "    \n",
    "    #get genes with AR SNPs acquired across subset of subjects\n",
    "    for gene_locus_tag in genes_with_resistance_SNPs_acquired_subject_i:\n",
    "        gene_locus_tag_list.append(gene_locus_tag)\n",
    "        \n",
    "gene_locus_tag_list = list(set(gene_locus_tag_list))"
   ]
  },
  {
   "cell_type": "code",
   "execution_count": 187,
   "metadata": {},
   "outputs": [
    {
     "name": "stdout",
     "output_type": "stream",
     "text": [
      "['Rv0006', 'Rv0341', 'Rv0005', 'Rv3793_Rv3794', 'Rv0682', 'Rv3854c', 'Rv2043c', 'Rv3806c', 'Rv3795', 'Rv3794', 'Rv3793', 'Rv0668', 'Rv1694', 'Rv1908c', 'Rv1484', 'Rv2447c', 'Rv3919c', 'Rv2245', 'Rv0667', 'Rv1482c_Rv1483']\n"
     ]
    }
   ],
   "source": [
    "print gene_locus_tag_list"
   ]
  },
  {
   "cell_type": "markdown",
   "metadata": {},
   "source": [
    "Create a dictionary that contains the symbol for each locus tag"
   ]
  },
  {
   "cell_type": "code",
   "execution_count": 188,
   "metadata": {},
   "outputs": [],
   "source": [
    "gene_locus_tag_symbol_dict = {\n",
    "'Rv0006':'gyrA', \n",
    "'Rv0341':'iniB', \n",
    "'Rv0005':'gyrB', \n",
    "'Rv3793_Rv3794':'promoter_embA-embB', \n",
    "'Rv0682':'rpsL', \n",
    "'Rv3854c':'ethA', \n",
    "'Rv2043c':'pncA', \n",
    "'Rv3806c':'ubiA', \n",
    "'Rv3795':'embB', \n",
    "'Rv3794':'embA', \n",
    "'Rv3793':'embC', \n",
    "'Rv0668':'rpoC', \n",
    "'Rv1694':'tlyA', \n",
    "'Rv1908c':'katG', \n",
    "'Rv1484':'inhA', \n",
    "'Rv2447c':'folC', \n",
    "'Rv3919c':'gid', \n",
    "'Rv2245':'kasA', \n",
    "'Rv0667':'rpoB', \n",
    "'Rv1482c_Rv1483':'promoter_fabG1-inhA'\n",
    "}"
   ]
  },
  {
   "cell_type": "markdown",
   "metadata": {},
   "source": [
    "#### Collect all locus symbols with (AR SNPs at the outset) or (AR SNPs acquired between sampling) for each subject"
   ]
  },
  {
   "cell_type": "code",
   "execution_count": 189,
   "metadata": {},
   "outputs": [],
   "source": [
    "genes_with_resistance_SNPs_outset = []\n",
    "genes_with_resistance_SNPs_acquired = []\n",
    "\n",
    "for subject_id in subjects_treatment_failure_AND_genotypically_resistant_outset_AND_AR_fSNP_acquisition.index:\n",
    "    \n",
    "    #collect genes with SNPs for this subject\n",
    "    genes_with_resistance_SNPs_outset_subject_i = list(set(all_AR_SNPS_1st_sample_df[all_AR_SNPS_1st_sample_df.patient_id == subject_id].gene_id)) #genes with SNPs at outset\n",
    "    genes_with_resistance_SNPs_acquired_subject_i = list(set(all_SNPs_within_patients_AR_fSNPs[all_SNPs_within_patients_AR_fSNPs.patient_id == subject_id].gene_id)) #genes with SNPs acquired between samples\n",
    "    \n",
    "    #get symbols for genes\n",
    "    gene_symbols_with_resistance_SNPs_outset_subject_i = []\n",
    "    for gene_locus_tag in genes_with_resistance_SNPs_outset_subject_i:\n",
    "        \n",
    "        gene_symbols_with_resistance_SNPs_outset_subject_i.append(gene_locus_tag_symbol_dict[gene_locus_tag])\n",
    "            \n",
    "    gene_symbols_with_resistance_SNPs_acquired_subject_i = []\n",
    "    for gene_locus_tag in genes_with_resistance_SNPs_acquired_subject_i:\n",
    "        \n",
    "        gene_symbols_with_resistance_SNPs_acquired_subject_i.append(gene_locus_tag_symbol_dict[gene_locus_tag])\n",
    "    \n",
    "    #store gene symbols for genes with pre-existing AR SNPs & acquired AR SNPs     \n",
    "    genes_with_resistance_SNPs_outset.append(gene_symbols_with_resistance_SNPs_outset_subject_i)\n",
    "    genes_with_resistance_SNPs_acquired.append(gene_symbols_with_resistance_SNPs_acquired_subject_i)\n",
    "    \n",
    "#create DataFrame\n",
    "treatment_failure_AR_pSNP_fSNP_subjects_genes = pd.DataFrame(index = subjects_treatment_failure_AND_genotypically_resistant_outset_AND_AR_fSNP_acquisition.index)\n",
    "treatment_failure_AR_pSNP_fSNP_subjects_genes['genes with AR pSNPs'] = genes_with_resistance_SNPs_outset\n",
    "treatment_failure_AR_pSNP_fSNP_subjects_genes['genes with AR fSNPs'] = genes_with_resistance_SNPs_acquired"
   ]
  },
  {
   "cell_type": "code",
   "execution_count": 190,
   "metadata": {},
   "outputs": [
    {
     "data": {
      "text/html": [
       "<div>\n",
       "<style>\n",
       "    .dataframe thead tr:only-child th {\n",
       "        text-align: right;\n",
       "    }\n",
       "\n",
       "    .dataframe thead th {\n",
       "        text-align: left;\n",
       "    }\n",
       "\n",
       "    .dataframe tbody tr th {\n",
       "        vertical-align: top;\n",
       "    }\n",
       "</style>\n",
       "<table border=\"1\" class=\"dataframe\">\n",
       "  <thead>\n",
       "    <tr style=\"text-align: right;\">\n",
       "      <th></th>\n",
       "      <th>genes with AR pSNPs</th>\n",
       "      <th>genes with AR fSNPs</th>\n",
       "    </tr>\n",
       "  </thead>\n",
       "  <tbody>\n",
       "    <tr>\n",
       "      <th>1700</th>\n",
       "      <td>[embB, pncA, rpoB, inhA]</td>\n",
       "      <td>[katG]</td>\n",
       "    </tr>\n",
       "    <tr>\n",
       "      <th>1846</th>\n",
       "      <td>[pncA, embB, embA, embC, kasA, rpoB]</td>\n",
       "      <td>[gyrA]</td>\n",
       "    </tr>\n",
       "    <tr>\n",
       "      <th>1960</th>\n",
       "      <td>[iniB, katG, gid, rpoB, embB]</td>\n",
       "      <td>[gyrA]</td>\n",
       "    </tr>\n",
       "    <tr>\n",
       "      <th>1972</th>\n",
       "      <td>[pncA, embB, embC, katG, promoter_fabG1-inhA, ...</td>\n",
       "      <td>[gyrA, tlyA]</td>\n",
       "    </tr>\n",
       "    <tr>\n",
       "      <th>2307</th>\n",
       "      <td>[gyrA, katG, embB, rpoB, pncA]</td>\n",
       "      <td>[promoter_fabG1-inhA, ethA]</td>\n",
       "    </tr>\n",
       "    <tr>\n",
       "      <th>2511</th>\n",
       "      <td>[katG]</td>\n",
       "      <td>[rpoB]</td>\n",
       "    </tr>\n",
       "    <tr>\n",
       "      <th>2523</th>\n",
       "      <td>[ethA, pncA, embB, inhA, kasA, rpoB]</td>\n",
       "      <td>[gyrA]</td>\n",
       "    </tr>\n",
       "    <tr>\n",
       "      <th>2688</th>\n",
       "      <td>[pncA, embB, embC, inhA, gid, kasA, rpoB, prom...</td>\n",
       "      <td>[rpoC]</td>\n",
       "    </tr>\n",
       "    <tr>\n",
       "      <th>2968</th>\n",
       "      <td>[embB, rpoB]</td>\n",
       "      <td>[ubiA]</td>\n",
       "    </tr>\n",
       "    <tr>\n",
       "      <th>3451</th>\n",
       "      <td>[embB, pncA, rpoB, inhA]</td>\n",
       "      <td>[gyrA, pncA]</td>\n",
       "    </tr>\n",
       "    <tr>\n",
       "      <th>3673</th>\n",
       "      <td>[pncA, embC, inhA, gid, kasA, rpoB, promoter_f...</td>\n",
       "      <td>[embB]</td>\n",
       "    </tr>\n",
       "    <tr>\n",
       "      <th>D</th>\n",
       "      <td>[gyrA, embB, rpsL, pncA, katG, rpoB]</td>\n",
       "      <td>[folC]</td>\n",
       "    </tr>\n",
       "    <tr>\n",
       "      <th>I0000024-5</th>\n",
       "      <td>[pncA, embB, embA, embC, katG, kasA, rpoB]</td>\n",
       "      <td>[gyrB]</td>\n",
       "    </tr>\n",
       "    <tr>\n",
       "      <th>KPS_5</th>\n",
       "      <td>[katG]</td>\n",
       "      <td>[embB]</td>\n",
       "    </tr>\n",
       "    <tr>\n",
       "      <th>P000071</th>\n",
       "      <td>[rpoB]</td>\n",
       "      <td>[promoter_embA-embB, gid]</td>\n",
       "    </tr>\n",
       "    <tr>\n",
       "      <th>P000155</th>\n",
       "      <td>[katG, rpoB, embB]</td>\n",
       "      <td>[gyrA]</td>\n",
       "    </tr>\n",
       "    <tr>\n",
       "      <th>P000226</th>\n",
       "      <td>[gyrA, embB, rpoB]</td>\n",
       "      <td>[katG]</td>\n",
       "    </tr>\n",
       "    <tr>\n",
       "      <th>P052</th>\n",
       "      <td>[promoter_fabG1-inhA]</td>\n",
       "      <td>[rpoC, rpoB]</td>\n",
       "    </tr>\n",
       "    <tr>\n",
       "      <th>P10</th>\n",
       "      <td>[rpsL, embB, rpoB, promoter_fabG1-inhA]</td>\n",
       "      <td>[gyrA]</td>\n",
       "    </tr>\n",
       "    <tr>\n",
       "      <th>P251</th>\n",
       "      <td>[promoter_fabG1-inhA]</td>\n",
       "      <td>[rpoB]</td>\n",
       "    </tr>\n",
       "  </tbody>\n",
       "</table>\n",
       "</div>"
      ],
      "text/plain": [
       "                                          genes with AR pSNPs  \\\n",
       "1700                                 [embB, pncA, rpoB, inhA]   \n",
       "1846                     [pncA, embB, embA, embC, kasA, rpoB]   \n",
       "1960                            [iniB, katG, gid, rpoB, embB]   \n",
       "1972        [pncA, embB, embC, katG, promoter_fabG1-inhA, ...   \n",
       "2307                           [gyrA, katG, embB, rpoB, pncA]   \n",
       "2511                                                   [katG]   \n",
       "2523                     [ethA, pncA, embB, inhA, kasA, rpoB]   \n",
       "2688        [pncA, embB, embC, inhA, gid, kasA, rpoB, prom...   \n",
       "2968                                             [embB, rpoB]   \n",
       "3451                                 [embB, pncA, rpoB, inhA]   \n",
       "3673        [pncA, embC, inhA, gid, kasA, rpoB, promoter_f...   \n",
       "D                        [gyrA, embB, rpsL, pncA, katG, rpoB]   \n",
       "I0000024-5         [pncA, embB, embA, embC, katG, kasA, rpoB]   \n",
       "KPS_5                                                  [katG]   \n",
       "P000071                                                [rpoB]   \n",
       "P000155                                    [katG, rpoB, embB]   \n",
       "P000226                                    [gyrA, embB, rpoB]   \n",
       "P052                                    [promoter_fabG1-inhA]   \n",
       "P10                   [rpsL, embB, rpoB, promoter_fabG1-inhA]   \n",
       "P251                                    [promoter_fabG1-inhA]   \n",
       "\n",
       "                    genes with AR fSNPs  \n",
       "1700                             [katG]  \n",
       "1846                             [gyrA]  \n",
       "1960                             [gyrA]  \n",
       "1972                       [gyrA, tlyA]  \n",
       "2307        [promoter_fabG1-inhA, ethA]  \n",
       "2511                             [rpoB]  \n",
       "2523                             [gyrA]  \n",
       "2688                             [rpoC]  \n",
       "2968                             [ubiA]  \n",
       "3451                       [gyrA, pncA]  \n",
       "3673                             [embB]  \n",
       "D                                [folC]  \n",
       "I0000024-5                       [gyrB]  \n",
       "KPS_5                            [embB]  \n",
       "P000071       [promoter_embA-embB, gid]  \n",
       "P000155                          [gyrA]  \n",
       "P000226                          [katG]  \n",
       "P052                       [rpoC, rpoB]  \n",
       "P10                              [gyrA]  \n",
       "P251                             [rpoB]  "
      ]
     },
     "execution_count": 190,
     "metadata": {},
     "output_type": "execute_result"
    }
   ],
   "source": [
    "treatment_failure_AR_pSNP_fSNP_subjects_genes"
   ]
  },
  {
   "cell_type": "code",
   "execution_count": 191,
   "metadata": {},
   "outputs": [
    {
     "name": "stdout",
     "output_type": "stream",
     "text": [
      "1700\n",
      "['embB', 'pncA', 'rpoB', 'inhA']\n",
      "['katG']\n",
      "\n",
      "1846\n",
      "['pncA', 'embB', 'embA', 'embC', 'kasA', 'rpoB']\n",
      "['gyrA']\n",
      "\n",
      "1960\n",
      "['iniB', 'katG', 'gid', 'rpoB', 'embB']\n",
      "['gyrA']\n",
      "\n",
      "1972\n",
      "['pncA', 'embB', 'embC', 'katG', 'promoter_fabG1-inhA', 'kasA', 'rpoB']\n",
      "['gyrA', 'tlyA']\n",
      "\n",
      "2307\n",
      "['gyrA', 'katG', 'embB', 'rpoB', 'pncA']\n",
      "['promoter_fabG1-inhA', 'ethA']\n",
      "\n",
      "2511\n",
      "['katG']\n",
      "['rpoB']\n",
      "\n",
      "2523\n",
      "['ethA', 'pncA', 'embB', 'inhA', 'kasA', 'rpoB']\n",
      "['gyrA']\n",
      "\n",
      "2688\n",
      "['pncA', 'embB', 'embC', 'inhA', 'gid', 'kasA', 'rpoB', 'promoter_fabG1-inhA']\n",
      "['rpoC']\n",
      "\n",
      "2968\n",
      "['embB', 'rpoB']\n",
      "['ubiA']\n",
      "\n",
      "3451\n",
      "['embB', 'pncA', 'rpoB', 'inhA']\n",
      "['gyrA', 'pncA']\n",
      "\n",
      "3673\n",
      "['pncA', 'embC', 'inhA', 'gid', 'kasA', 'rpoB', 'promoter_fabG1-inhA']\n",
      "['embB']\n",
      "\n",
      "D\n",
      "['gyrA', 'embB', 'rpsL', 'pncA', 'katG', 'rpoB']\n",
      "['folC']\n",
      "\n",
      "I0000024-5\n",
      "['pncA', 'embB', 'embA', 'embC', 'katG', 'kasA', 'rpoB']\n",
      "['gyrB']\n",
      "\n",
      "KPS_5\n",
      "['katG']\n",
      "['embB']\n",
      "\n",
      "P000071\n",
      "['rpoB']\n",
      "['promoter_embA-embB', 'gid']\n",
      "\n",
      "P000155\n",
      "['katG', 'rpoB', 'embB']\n",
      "['gyrA']\n",
      "\n",
      "P000226\n",
      "['gyrA', 'embB', 'rpoB']\n",
      "['katG']\n",
      "\n",
      "P052\n",
      "['promoter_fabG1-inhA']\n",
      "['rpoC', 'rpoB']\n",
      "\n",
      "P10\n",
      "['rpsL', 'embB', 'rpoB', 'promoter_fabG1-inhA']\n",
      "['gyrA']\n",
      "\n",
      "P251\n",
      "['promoter_fabG1-inhA']\n",
      "['rpoB']\n",
      "\n"
     ]
    }
   ],
   "source": [
    "for subject_id in treatment_failure_AR_pSNP_fSNP_subjects_genes.index:\n",
    "    \n",
    "    print subject_id\n",
    "    print treatment_failure_AR_pSNP_fSNP_subjects_genes.loc[subject_id , 'genes with AR pSNPs']\n",
    "    print treatment_failure_AR_pSNP_fSNP_subjects_genes.loc[subject_id , 'genes with AR fSNPs']\n",
    "    print ''"
   ]
  },
  {
   "cell_type": "markdown",
   "metadata": {},
   "source": [
    "#### Subjects above that developed resistance to an *additional* antibiotic"
   ]
  },
  {
   "cell_type": "markdown",
   "metadata": {},
   "source": [
    "**1700** -\n",
    "- pAR SNPs in genes = embB, pncA, rpoB, inhA\n",
    "- AR fSNP in genes = katG\n",
    "\n",
    "**1846** +\n",
    "- pAR SNPs in genes = pncA, embB, embA, embC, kasA, rpoB\n",
    "- AR fSNP in genes = gyrA\n",
    "\n",
    "**1960** +\n",
    "- pAR SNPs in genes = iniB, katG, gid, rpoB, embB\n",
    "- AR fSNP in genes = gyrA\n",
    "\n",
    "**1972** +\n",
    "- pAR SNPs in genes = pncA, embB, embC, katG, promoter_fabG1-inhA, kasA, rpoB\n",
    "- AR fSNP in genes = gyrA, tlyA\n",
    "\n",
    "**2307** +\n",
    "- pAR SNPs in genes = gyrA, katG, embB, rpoB, pncA\n",
    "- AR fSNP in genes = promoter_fabG1-inhA, ethA\n",
    "\n",
    "**2511** +\n",
    "- pAR SNPs in genes = katG\n",
    "- AR fSNP in genes = rpoB\n",
    "\n",
    "**2523** +\n",
    "- pAR SNPs in genes = ethA, pncA, embB, inhA, kasA, rpoB\n",
    "- AR fSNP in genes = gyrA\n",
    "\n",
    "**2688** -\n",
    "- pAR SNPs in genes = pncA, embB, embC, inhA, gid, kasA, rpoB, promoter_fabG1-inhA\n",
    "- AR fSNP in genes = rpoC\n",
    "\n",
    "**2968** -\n",
    "- pAR SNPs in genes = embB, rpoB\n",
    "- AR fSNP in genes = ubiA\n",
    "\n",
    "**3451** +\n",
    "- pAR SNPs in genes = embB, pncA, rpoB, inhA\n",
    "- AR fSNP in genes = gyrA, pncA\n",
    "\n",
    "**3673** -\n",
    "- pAR SNPs in genes = pncA, embC, inhA, gid, kasA, rpoB, promoter_fabG1-inhA\n",
    "- AR fSNP in genes = embB\n",
    "\n",
    "**D** +\n",
    "- pAR SNPs in genes = gyrA, embB, rpsL, pncA, katG, rpoB\n",
    "- AR fSNP in genes = folC\n",
    "\n",
    "**I0000024-5** +\n",
    "- pAR SNPs in genes = pncA, embB, embA, embC, katG, kasA, rpoB\n",
    "- AR fSNP in genes = gyrB\n",
    "\n",
    "**KPS_5** +\n",
    "- pAR SNPs in genes = katG\n",
    "- AR fSNP in genes = embB\n",
    "\n",
    "**P000071** +\n",
    "- pAR SNPs in genes = rpoB\n",
    "- AR fSNP in genes = promoter_embA-embB, gid\n",
    "\n",
    "**P000155** +\n",
    "- pAR SNPs in genes = katG, rpoB, embB\n",
    "- AR fSNP in genes = gyrA\n",
    "\n",
    "**P000226** +\n",
    "- pAR SNPs in genes = gyrA, embB, rpoB\n",
    "- AR fSNP in genes = katG\n",
    "\n",
    "**P052** +\n",
    "- pAR SNPs in genes = promoter_fabG1-inhA\n",
    "- AR fSNP in genes = rpoC, rpoB\n",
    "\n",
    "**P10** +\n",
    "- pAR SNPs in genes = rpsL, embB, rpoB, promoter_fabG1-inhA\n",
    "- AR fSNP in genes = gyrA\n",
    "\n",
    "**P251** +\n",
    "- pAR SNPs in genes = promoter_fabG1-inhA\n",
    "- AR fSNP in genes = rpoB"
   ]
  },
  {
   "cell_type": "markdown",
   "metadata": {},
   "source": [
    "#### Of the $\\frac{27}{178} \\approx 15\\%$ of subjects that developed an AR fSNP between sampling, $\\frac{16}{27} \\approx 59\\%$ occurred among subjects that had at least 1pAR SNP and resulted in acquisition of an AR fSNP to an addtional antiobiotic (for which there were not AR mutations in the first isolate)."
   ]
  },
  {
   "cell_type": "markdown",
   "metadata": {},
   "source": [
    "### Test for association between pre-existing MDR & AR SNP acquisition in *failure* subjects"
   ]
  },
  {
   "cell_type": "markdown",
   "metadata": {},
   "source": [
    "#### Split subjects into 2 groups, subjects without MDR in 1st isolate (Group C1) & subjects with MDR in 1st isolate (Group C2)"
   ]
  },
  {
   "cell_type": "code",
   "execution_count": 192,
   "metadata": {},
   "outputs": [],
   "source": [
    "group_C1_subjects = set(patients_to_keep) - set(patients_with_MDR)\n",
    "group_C2_subjects = patients_with_MDR"
   ]
  },
  {
   "cell_type": "code",
   "execution_count": 193,
   "metadata": {},
   "outputs": [
    {
     "data": {
      "text/plain": [
       "131"
      ]
     },
     "execution_count": 193,
     "metadata": {},
     "output_type": "execute_result"
    }
   ],
   "source": [
    "len(group_C1_subjects)"
   ]
  },
  {
   "cell_type": "code",
   "execution_count": 194,
   "metadata": {},
   "outputs": [
    {
     "data": {
      "text/plain": [
       "47"
      ]
     },
     "execution_count": 194,
     "metadata": {},
     "output_type": "execute_result"
    }
   ],
   "source": [
    "len(group_C2_subjects)"
   ]
  },
  {
   "cell_type": "markdown",
   "metadata": {},
   "source": [
    "#### Group C1"
   ]
  },
  {
   "cell_type": "markdown",
   "metadata": {},
   "source": [
    "Subjects without MDR in 1st collected longitudinal sample who also had no AR SNPs crop up between isolate collection"
   ]
  },
  {
   "cell_type": "code",
   "execution_count": 195,
   "metadata": {},
   "outputs": [
    {
     "data": {
      "text/plain": [
       "118"
      ]
     },
     "execution_count": 195,
     "metadata": {},
     "output_type": "execute_result"
    }
   ],
   "source": [
    "sum( AR_SNPs_between_isolates_per_subject[group_C1_subjects] == 0 )"
   ]
  },
  {
   "cell_type": "markdown",
   "metadata": {},
   "source": [
    "Subjects without MDR in 1st collected longitudinal sample who also had at least 1 AR SNP crop up between isolate collection"
   ]
  },
  {
   "cell_type": "code",
   "execution_count": 196,
   "metadata": {},
   "outputs": [
    {
     "data": {
      "text/plain": [
       "13"
      ]
     },
     "execution_count": 196,
     "metadata": {},
     "output_type": "execute_result"
    }
   ],
   "source": [
    "sum( AR_SNPs_between_isolates_per_subject[group_C1_subjects] > 0 )"
   ]
  },
  {
   "cell_type": "code",
   "execution_count": 201,
   "metadata": {},
   "outputs": [
    {
     "data": {
      "text/plain": [
       "0.09923664122137404"
      ]
     },
     "execution_count": 201,
     "metadata": {},
     "output_type": "execute_result"
    }
   ],
   "source": [
    "float(13) / float(131)"
   ]
  },
  {
   "cell_type": "markdown",
   "metadata": {},
   "source": [
    "#### Group C2"
   ]
  },
  {
   "cell_type": "markdown",
   "metadata": {},
   "source": [
    "Subjects who had MDR in 1st collected longitudinal sample who also had no AR SNPs crop up between isolate collection"
   ]
  },
  {
   "cell_type": "code",
   "execution_count": 198,
   "metadata": {},
   "outputs": [
    {
     "data": {
      "text/plain": [
       "33"
      ]
     },
     "execution_count": 198,
     "metadata": {},
     "output_type": "execute_result"
    }
   ],
   "source": [
    "sum( AR_SNPs_between_isolates_per_subject[group_C2_subjects] == 0 )"
   ]
  },
  {
   "cell_type": "markdown",
   "metadata": {},
   "source": [
    "Subjects who had MDR in 1st collected longitudinal sample who also had at least 1 AR SNP crop up between isolate collection"
   ]
  },
  {
   "cell_type": "code",
   "execution_count": 199,
   "metadata": {},
   "outputs": [
    {
     "data": {
      "text/plain": [
       "14"
      ]
     },
     "execution_count": 199,
     "metadata": {},
     "output_type": "execute_result"
    }
   ],
   "source": [
    "sum( AR_SNPs_between_isolates_per_subject[group_C2_subjects] > 0 )"
   ]
  },
  {
   "cell_type": "code",
   "execution_count": 202,
   "metadata": {},
   "outputs": [
    {
     "data": {
      "text/plain": [
       "0.2978723404255319"
      ]
     },
     "execution_count": 202,
     "metadata": {},
     "output_type": "execute_result"
    }
   ],
   "source": [
    "float(14) / float(47)"
   ]
  },
  {
   "cell_type": "markdown",
   "metadata": {},
   "source": [
    "#### Fisher exact test to test independence"
   ]
  },
  {
   "cell_type": "code",
   "execution_count": 203,
   "metadata": {},
   "outputs": [],
   "source": [
    "AR_SNP_cont_table = np.array([[118,13] , [33,14]])"
   ]
  },
  {
   "cell_type": "code",
   "execution_count": 204,
   "metadata": {},
   "outputs": [
    {
     "data": {
      "text/plain": [
       "array([[118,  13],\n",
       "       [ 33,  14]])"
      ]
     },
     "execution_count": 204,
     "metadata": {},
     "output_type": "execute_result"
    }
   ],
   "source": [
    "AR_SNP_cont_table"
   ]
  },
  {
   "cell_type": "code",
   "execution_count": 205,
   "metadata": {},
   "outputs": [],
   "source": [
    "oddsratio, pvalue = stats.fisher_exact(AR_SNP_cont_table) #rows: (1) subjects without MDR in 1st isolate (2) subjects with MDR in 1st isolate ; columns: (1) no AR SNPs between isolate collection (2) at least 1 AR SNP between isolate collection"
   ]
  },
  {
   "cell_type": "code",
   "execution_count": 206,
   "metadata": {},
   "outputs": [
    {
     "data": {
      "text/plain": [
       "3.850815850815851"
      ]
     },
     "execution_count": 206,
     "metadata": {},
     "output_type": "execute_result"
    }
   ],
   "source": [
    "oddsratio"
   ]
  },
  {
   "cell_type": "code",
   "execution_count": 207,
   "metadata": {},
   "outputs": [
    {
     "data": {
      "text/plain": [
       "0.003429044117798598"
      ]
     },
     "execution_count": 207,
     "metadata": {},
     "output_type": "execute_result"
    }
   ],
   "source": [
    "pvalue"
   ]
  }
 ],
 "metadata": {
  "kernelspec": {
   "display_name": "Python 2",
   "language": "python",
   "name": "python2"
  },
  "language_info": {
   "codemirror_mode": {
    "name": "ipython",
    "version": 2
   },
   "file_extension": ".py",
   "mimetype": "text/x-python",
   "name": "python",
   "nbconvert_exporter": "python",
   "pygments_lexer": "ipython2",
   "version": "2.7.16"
  }
 },
 "nbformat": 4,
 "nbformat_minor": 2
}
