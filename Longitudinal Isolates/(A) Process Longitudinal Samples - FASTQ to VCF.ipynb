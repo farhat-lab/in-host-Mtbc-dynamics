{
 "cells": [
  {
   "cell_type": "markdown",
   "metadata": {},
   "source": [
    "#### This notebook was made to create (and submit jobs for) JankyPipe, a pipeline that takes fastq files as input of Mycobacterium tuberculosis isolates, aligns the reads to H37Rv and calls variants. The output is a VCF file, a lineage call and a Qualimap report. This notebook also submits a job that runs JankyPipe on all of the *Longitudinal* isolates in our study."
   ]
  },
  {
   "cell_type": "code",
   "execution_count": 2,
   "metadata": {},
   "outputs": [
    {
     "data": {
      "text/html": [
       "<style>.container { width:100% !important; }</style>"
      ],
      "text/plain": [
       "<IPython.core.display.HTML object>"
      ]
     },
     "metadata": {},
     "output_type": "display_data"
    }
   ],
   "source": [
    "from IPython.core.display import display, HTML\n",
    "display(HTML(\"<style>.container { width:100% !important; }</style>\"))\n",
    "%matplotlib inline"
   ]
  },
  {
   "cell_type": "code",
   "execution_count": 2,
   "metadata": {},
   "outputs": [],
   "source": [
    "import os\n",
    "import pandas as pd\n",
    "import numpy as np\n",
    "from slurmpy import Slurm\n",
    "import vcf\n",
    "import shutil"
   ]
  },
  {
   "cell_type": "markdown",
   "metadata": {},
   "source": [
    "### *Function* to launch JankyPipe as a Job"
   ]
  },
  {
   "cell_type": "code",
   "execution_count": 3,
   "metadata": {},
   "outputs": [],
   "source": [
    "def Launch_JankyPipe(fqf1 , fqf2 , tag , output_dir , scratch_dir , O2_SLURM_logs_dir):\n",
    "    \n",
    "    '''\n",
    "    This script launches a job to call variants for the input fastq files against H37Rv\n",
    "    using a number of packages. The important output (VCF, lineage info files, quality report)\n",
    "    is stored in the output directory while the intermediary files (SAMs, trimmed fastqs, BAM, etc)\n",
    "    are stored in a scratch directory.\n",
    "    '''\n",
    "    \n",
    "    #store all commands in a list\n",
    "    commands_list = []\n",
    "    \n",
    "    #change directory to scratch\n",
    "    commands_list.append( 'cd ' + scratch_dir )\n",
    "\n",
    "    ###################################\n",
    "    ### Load Necessary Modules ########\n",
    "    ###################################\n",
    "\n",
    "    #load perl\n",
    "    commands_list.append( 'module load perl/5.24.0' )\n",
    "\n",
    "    #load java\n",
    "    commands_list.append( 'module load java/jdk-1.8u112' )\n",
    "\n",
    "    #load BWA\n",
    "    commands_list.append( 'module load bwa/0.7.15' )\n",
    "\n",
    "    #load Samtools\n",
    "    commands_list.append( 'module load samtools/1.3.1' )\n",
    "\n",
    "    #load BCFtools\n",
    "    commands_list.append( 'module load bcftools/1.3.1' )\n",
    "\n",
    "    #load Picard\n",
    "    commands_list.append( 'module load picard/2.8.0' )\n",
    "\n",
    "    #Create Index files for Reference Genome\n",
    "    commands_list.append( 'mkdir RefGen' )\n",
    "\n",
    "    #copy reference genome over to RefGen folder\n",
    "    commands_list.append( 'cp /home/rv76/Farhat_Lab/Reference_Seqs/H37Rv/h37rv.fasta RefGen/TBRefGen.fasta' )\n",
    "\n",
    "    #change directory to RefGen folder\n",
    "    commands_list.append( 'cd RefGen' )\n",
    "\n",
    "    ###################################\n",
    "    ### Create Index Files for H37Rv ##\n",
    "    ###################################\n",
    "    commands_list.append( 'samtools faidx TBRefGen.fasta' )\n",
    "    commands_list.append( 'bwa index TBRefGen.fasta' )\n",
    "\n",
    "    RefGen = scratch_dir + '/RefGen/TBRefGen.fasta' #H37Rv reference\n",
    "\n",
    "    #go back to parent directory\n",
    "    commands_list.append( 'cd ..' )\n",
    "\n",
    "    ###################################\n",
    "    ### UnZip FastQ files #############\n",
    "    ###################################\n",
    "    fqf1_base_name = fqf1.split('/')[-1][0:-9]\n",
    "    fqf2_base_name = fqf2.split('/')[-1][0:-9]\n",
    "\n",
    "    #work with the unzipped files for the rest of the pipeline (after unzipping them)\n",
    "    fqf1_unzipped = scratch_dir + '/{}'.format(fqf1_base_name) + '.fastq'\n",
    "    fqf2_unzipped = scratch_dir + '/{}'.format(fqf2_base_name) + '.fastq'\n",
    "\n",
    "    commands_list.append( 'zcat {0} > {1}'.format(fqf1, fqf1_unzipped) )\n",
    "    commands_list.append( 'zcat {0} > {1}'.format(fqf2, fqf2_unzipped) )\n",
    "\n",
    "    #use the unzipped fastq files now\n",
    "    fqf1 = fqf1_unzipped\n",
    "    fqf2 = fqf2_unzipped\n",
    "\n",
    "    ####################################\n",
    "    ### PRINSEQ (trim reads) ##########\n",
    "    ###################################\n",
    "\n",
    "    #create directory for prinseq in output directory\n",
    "    commands_list.append( 'mkdir ' + output_dir + '/prinseq' )\n",
    "\n",
    "    commands_list.append( 'perl /n/data1/hms/dbmi/farhat/bin/prinseq-lite-0.20.4/prinseq-lite.pl -fastq {0} -fastq2 {1} -out_format 3 -out_good {2}/{3}-trimmed -out_bad null -log {4}/{3}-trimmed.log -min_qual_mean 20 -verbose'.format(fqf1, fqf2, scratch_dir, tag , output_dir+'/prinseq') )\n",
    "\n",
    "    #use newly trimmed fastq files now\n",
    "    fqf1 = scratch_dir + '/{}'.format(tag) + '-trimmed_1.fastq'\n",
    "    fqf2 = scratch_dir + '/{}'.format(tag) + '-trimmed_2.fastq'\n",
    "\n",
    "    ######################################\n",
    "    ### BWA (align reads to reference) ###\n",
    "    ######################################\n",
    "\n",
    "    #create SAM file\n",
    "    samfile = scratch_dir + '/{}.sam'.format(tag)\n",
    "\n",
    "    #run BWA\n",
    "    commands_list.append( 'bwa mem -M {3} {0} {1} > {2}'.format(fqf1 , fqf2 , samfile , RefGen) )\n",
    "\n",
    "    #####################################\n",
    "    ### PICARD (sort & convert to BAM) ##\n",
    "    #####################################\n",
    "\n",
    "    #create BAM file\n",
    "    bamfile = scratch_dir + '/{0}.sorted.bam'.format(tag)\n",
    "\n",
    "    commands_list.append( 'java -Xmx16G -jar /n/data1/hms/dbmi/farhat/bin/picard/picard/build/libs/picard.jar SortSam INPUT={0} OUTPUT={1} SORT_ORDER=coordinate'.format(samfile, bamfile) )\n",
    "\n",
    "    ####################################\n",
    "    ### PICARD (remove duplicates) ####\n",
    "    ###################################\n",
    "\n",
    "    #create BAM file with removed duplicates\n",
    "    drbamfile = bamfile.replace(\".bam\", \".duprem.bam\")\n",
    "\n",
    "    #remove duplicates from BAM file\n",
    "    commands_list.append( \"java -Xmx32G -jar /n/data1/hms/dbmi/farhat/bin/picard/picard/build/libs/picard.jar MarkDuplicates I={0} O={1} REMOVE_DUPLICATES=true M={2} ASSUME_SORT_ORDER=coordinate\".format(bamfile, drbamfile, drbamfile[:-4]+'.metrics') )\n",
    "\n",
    "    ####################################\n",
    "    ### SAMTOOLS (to index BAM file) ###\n",
    "    ####################################\n",
    "    \n",
    "    commands_list.append( \"samtools index {0}\".format(drbamfile) )\n",
    "    \n",
    "    ######################################\n",
    "    ### QUALIMAP (quality of BAM file) ###\n",
    "    ######################################\n",
    "    \n",
    "    #store quality report, pilon VCF & lineage call information all in Output directory\n",
    "    commands_list.append( 'cd ' + output_dir )\n",
    "    commands_list.append( 'mkdir QualiMap' ) #make a folder for pilon output in output directory\n",
    "    commands_list.append( 'unset DISPLAY' ) #unset JAVA virtual machine variable [http://qualimap.bioinfo.cipf.es/doc_html/faq.html]\n",
    "    commands_list.append( \"/n/data1/hms/dbmi/farhat/bin/qualimap_v2.2.1/qualimap bamqc -bam {0} --outdir {1} --outfile {2}.pdf --outformat PDF\".format(drbamfile, output_dir+'/QualiMap', tag+'_stats') )\n",
    "\n",
    "    ###################################\n",
    "    ### PILON (call variants) #########\n",
    "    ###################################\n",
    "    \n",
    "    #store quality report, pilon VCF & lineage call information all in Output directory\n",
    "    commands_list.append( 'mkdir pilon' ) #make a folder for pilon output in output directory\n",
    "    out_pilon_dir = output_dir + '/pilon/' #variable for pilon output path\n",
    "\n",
    "    commands_list.append( 'java -Xmx32G -jar /n/data1/hms/dbmi/farhat/bin/pilon/pilon-1.22.jar --genome {0} --bam {1} --output {2} --outdir {3} --variant'.format(RefGen, drbamfile, tag, out_pilon_dir) )\n",
    "\n",
    "    #####################################\n",
    "    ### Luca's LINEAGE CALLING script ###\n",
    "    #####################################\n",
    "\n",
    "    #create directory \n",
    "    commands_list.append( 'mkdir ' + scratch_dir + '/fast-lineage-caller/' )#make a folder for lineage call in output directory\n",
    "    commands_list.append( 'mkdir ' + output_dir + '/fast-lineage-caller/' )#make a folder for lineage call in scratch directory\n",
    "\n",
    "    #create VRT file\n",
    "    vrtfile = scratch_dir + '/fast-lineage-caller/{}.vrt'.format(tag)\n",
    "\n",
    "    commands_list.append( 'cd ' + scratch_dir + '/fast-lineage-caller' )#change directory to store output in scratch\n",
    "\n",
    "    #convert VCF to VRT\n",
    "    commands_list.append( 'vrtTools-vcf2vrt.py {0} {1} 1'.format(out_pilon_dir+tag+'.vcf', vrtfile) )\n",
    "\n",
    "    #call lineage with SNP database an VRT file\n",
    "    commands_list.append( 'cd ' + output_dir + '/fast-lineage-caller' )#change directory to store output in VCF output\n",
    "\n",
    "    commands_list.append( 'FastLineageCaller-assign2lineage.py /home/rv76/Bio_Pipelines/fast-lineage-caller-master/example/db_snps.tsv ' + vrtfile + ' &> ' + 'lineage_call.txt' )\n",
    "\n",
    "    ###############################################################################################################\n",
    "    ######################################## SUBMIT as a job to O2 ################################################\n",
    "    ###############################################################################################################\n",
    "    \n",
    "    #append all commands in a single string to be submitted as a job\n",
    "    JankyPipe_job = ''\n",
    "    for command_i in commands_list:\n",
    "        JankyPipe_job = JankyPipe_job + '\\n' + command_i\n",
    "    \n",
    "    #directory where you want output + error files\n",
    "    os.chdir(O2_SLURM_logs_dir)\n",
    "\n",
    "    job_name = tag\n",
    "\n",
    "    s = Slurm(job_name , {'partition':'short' , 'n':'1' , 't':'0-6:00:00' , 'mem-per-cpu':'36G' , 'mail-type':'FAIL' , 'mail-user':'roger_vargas@g.harvard.edu'})\n",
    "\n",
    "    #submits the job\n",
    "    job_id = s.run(JankyPipe_job)\n",
    "\n",
    "    print job_name  + ' : ' +  str(job_id)"
   ]
  },
  {
   "cell_type": "markdown",
   "metadata": {},
   "source": [
    "### Longitudinal Samples"
   ]
  },
  {
   "cell_type": "markdown",
   "metadata": {},
   "source": [
    "Pull all relevant sequenced isolate and corresponding FastQ file paths"
   ]
  },
  {
   "cell_type": "code",
   "execution_count": 4,
   "metadata": {},
   "outputs": [],
   "source": [
    "sample_annotation = pd.read_csv('/n/data1/hms/dbmi/farhat/Roger/inhost_TB_dynamics_project/CSV_files/sample_annotation_files/cetr_casali_walker_trauner_witney_xu_guerra_bryant_fastq_path_names.csv' , sep = ',').set_index('patient_id')"
   ]
  },
  {
   "cell_type": "code",
   "execution_count": 5,
   "metadata": {},
   "outputs": [
    {
     "data": {
      "text/html": [
       "<div>\n",
       "<style scoped>\n",
       "    .dataframe tbody tr th:only-of-type {\n",
       "        vertical-align: middle;\n",
       "    }\n",
       "\n",
       "    .dataframe tbody tr th {\n",
       "        vertical-align: top;\n",
       "    }\n",
       "\n",
       "    .dataframe thead th {\n",
       "        text-align: right;\n",
       "    }\n",
       "</style>\n",
       "<table border=\"1\" class=\"dataframe\">\n",
       "  <thead>\n",
       "    <tr style=\"text-align: right;\">\n",
       "      <th></th>\n",
       "      <th>fastq_files</th>\n",
       "      <th>population</th>\n",
       "      <th>run_ID</th>\n",
       "      <th>sample_ID</th>\n",
       "      <th>sample_order</th>\n",
       "    </tr>\n",
       "    <tr>\n",
       "      <th>patient_id</th>\n",
       "      <th></th>\n",
       "      <th></th>\n",
       "      <th></th>\n",
       "      <th></th>\n",
       "      <th></th>\n",
       "    </tr>\n",
       "  </thead>\n",
       "  <tbody>\n",
       "    <tr>\n",
       "      <th>I0005973-8</th>\n",
       "      <td>/n/data1/hms/dbmi/farhat/cetr_strains/good_wgs...</td>\n",
       "      <td>CETR</td>\n",
       "      <td>NaN</td>\n",
       "      <td>Peru3062</td>\n",
       "      <td>1</td>\n",
       "    </tr>\n",
       "    <tr>\n",
       "      <th>I0005973-8</th>\n",
       "      <td>/n/data1/hms/dbmi/farhat/cetr_strains/good_wgs...</td>\n",
       "      <td>CETR</td>\n",
       "      <td>NaN</td>\n",
       "      <td>Peru3315</td>\n",
       "      <td>2</td>\n",
       "    </tr>\n",
       "  </tbody>\n",
       "</table>\n",
       "</div>"
      ],
      "text/plain": [
       "                                                  fastq_files population  \\\n",
       "patient_id                                                                 \n",
       "I0005973-8  /n/data1/hms/dbmi/farhat/cetr_strains/good_wgs...       CETR   \n",
       "I0005973-8  /n/data1/hms/dbmi/farhat/cetr_strains/good_wgs...       CETR   \n",
       "\n",
       "           run_ID sample_ID  sample_order  \n",
       "patient_id                                 \n",
       "I0005973-8    NaN  Peru3062             1  \n",
       "I0005973-8    NaN  Peru3315             2  "
      ]
     },
     "execution_count": 5,
     "metadata": {},
     "output_type": "execute_result"
    }
   ],
   "source": [
    "sample_annotation.head(n=2)"
   ]
  },
  {
   "cell_type": "code",
   "execution_count": 6,
   "metadata": {
    "scrolled": true
   },
   "outputs": [
    {
     "data": {
      "text/plain": [
       "(614, 5)"
      ]
     },
     "execution_count": 6,
     "metadata": {},
     "output_type": "execute_result"
    }
   ],
   "source": [
    "np.shape(sample_annotation)"
   ]
  },
  {
   "cell_type": "markdown",
   "metadata": {},
   "source": [
    "### Create directories for each isolate and launch JankyPipe"
   ]
  },
  {
   "cell_type": "markdown",
   "metadata": {},
   "source": [
    "IMPORTANT PARENT DIRECTORIES \n",
    "\n",
    "-   /n/scratch2/rv76/inhost_TB_dynamics_project/JankyPipe/intermediary_files/\n",
    "\n",
    "    [to store intermediate files (unzipped fastq, trimmed fastq, SAM, sorted BAM, etc)]\n",
    "\n",
    "\n",
    "-   /n/data1/hms/dbmi/farhat/Roger/inhost_TB_dynamics_project/JankyPipe/output/\n",
    "\n",
    "    [to store final files (pilon VCF, lineage, QualiMap, trim logs)]\n",
    "\n",
    "\n",
    "-   /n/data1/hms/dbmi/farhat/Roger/inhost_TB_dynamics_project/JankyPipe/O2_SLURM_logs/\n",
    "\n",
    "    [to store submitted SLURM script, and SLURM error & verbose logs]"
   ]
  },
  {
   "cell_type": "code",
   "execution_count": null,
   "metadata": {
    "collapsed": true
   },
   "outputs": [],
   "source": [
    "for isolate_i in range(0 , np.shape(sample_annotation)[0]):\n",
    "    \n",
    "    isolate_fastq_paths = sample_annotation.iloc[isolate_i , 0]\n",
    "\n",
    "    #paths & names for fastq files\n",
    "    fqf1 = isolate_fastq_paths.split(';')[0]\n",
    "    fqf2 = isolate_fastq_paths.split(';')[1]\n",
    "\n",
    "    #get the tag ID for the fastq files (same as ID for fastq files)\n",
    "    tag = fqf1.split('/')[-1].split('_')[0]\n",
    "\n",
    "    #where pilon VCF and lineage information will be stored [LAB FOLDER]\n",
    "    output_dir = '/n/data1/hms/dbmi/farhat/Roger/inhost_TB_dynamics_project/JankyPipe/output/' + tag\n",
    "    if os.path.exists(output_dir):\n",
    "        shutil.rmtree(output_dir)\n",
    "        os.makedirs(output_dir)\n",
    "    elif not os.path.exists(output_dir):\n",
    "        os.makedirs(output_dir)\n",
    "        \n",
    "    #where everything else happens (trimming, aligning, etc.) [SCRATCH FOLDER]\n",
    "    scratch_dir = '/n/scratch2/rv76/inhost_TB_dynamics_project/JankyPipe/intermediary_files/' + tag\n",
    "    if os.path.exists(scratch_dir):\n",
    "        shutil.rmtree(scratch_dir)\n",
    "        os.makedirs(scratch_dir)\n",
    "    elif not os.path.exists(scratch_dir):\n",
    "        os.makedirs(scratch_dir)\n",
    "\n",
    "    #store O2 job log files [LAB FOLDER]\n",
    "    O2_SLURM_logs_dir = '/n/data1/hms/dbmi/farhat/Roger/inhost_TB_dynamics_project/JankyPipe/O2_SLURM_logs/' + tag\n",
    "\n",
    "    if os.path.exists(O2_SLURM_logs_dir):\n",
    "        shutil.rmtree(O2_SLURM_logs_dir)\n",
    "        os.makedirs(O2_SLURM_logs_dir)\n",
    "    elif not os.path.exists(O2_SLURM_logs_dir):\n",
    "        os.makedirs(O2_SLURM_logs_dir)\n",
    "\n",
    "    #Launch JankyPipe after making necessary directories!!!\n",
    "    Launch_JankyPipe(fqf1 , fqf2 , tag , output_dir , scratch_dir , O2_SLURM_logs_dir)"
   ]
  },
  {
   "cell_type": "markdown",
   "metadata": {},
   "source": [
    "#### save tags (corresponds to folder names)"
   ]
  },
  {
   "cell_type": "code",
   "execution_count": 7,
   "metadata": {
    "collapsed": true
   },
   "outputs": [],
   "source": [
    "#store tags to each sample\n",
    "tag_list = []\n",
    "\n",
    "for isolate_i in range(0 , np.shape(sample_annotation)[0]):\n",
    "    \n",
    "    isolate_fastq_paths = sample_annotation.iloc[isolate_i , 0]\n",
    "\n",
    "    #paths & names for fastq files\n",
    "    fqf1 = isolate_fastq_paths.split(';')[0]\n",
    "\n",
    "    #get the tag ID for the fastq files (same as ID for fastq files)\n",
    "    tag = fqf1.split('/')[-1].split('_')[0]\n",
    "\n",
    "    tag_list.append(tag)\n",
    "    \n",
    "sample_annotation['tag'] = tag_list \n",
    "\n",
    "#store as CSV\n",
    "sample_annotation.to_csv('/n/data1/hms/dbmi/farhat/Roger/inhost_TB_dynamics_project/CSV_files/sample_annotation_files/cetr_casali_walker_trauner_witney_xu_guerra_bryant_fastq_path_names_and_JankyPipe_tags.csv' , sep = ',')"
   ]
  },
  {
   "cell_type": "code",
   "execution_count": 8,
   "metadata": {},
   "outputs": [
    {
     "data": {
      "text/html": [
       "<div>\n",
       "<style scoped>\n",
       "    .dataframe tbody tr th:only-of-type {\n",
       "        vertical-align: middle;\n",
       "    }\n",
       "\n",
       "    .dataframe tbody tr th {\n",
       "        vertical-align: top;\n",
       "    }\n",
       "\n",
       "    .dataframe thead th {\n",
       "        text-align: right;\n",
       "    }\n",
       "</style>\n",
       "<table border=\"1\" class=\"dataframe\">\n",
       "  <thead>\n",
       "    <tr style=\"text-align: right;\">\n",
       "      <th></th>\n",
       "      <th>fastq_files</th>\n",
       "      <th>population</th>\n",
       "      <th>run_ID</th>\n",
       "      <th>sample_ID</th>\n",
       "      <th>sample_order</th>\n",
       "      <th>tag</th>\n",
       "    </tr>\n",
       "    <tr>\n",
       "      <th>patient_id</th>\n",
       "      <th></th>\n",
       "      <th></th>\n",
       "      <th></th>\n",
       "      <th></th>\n",
       "      <th></th>\n",
       "      <th></th>\n",
       "    </tr>\n",
       "  </thead>\n",
       "  <tbody>\n",
       "    <tr>\n",
       "      <th>I0005973-8</th>\n",
       "      <td>/n/data1/hms/dbmi/farhat/cetr_strains/good_wgs...</td>\n",
       "      <td>CETR</td>\n",
       "      <td>NaN</td>\n",
       "      <td>Peru3062</td>\n",
       "      <td>1</td>\n",
       "      <td>Peru3062</td>\n",
       "    </tr>\n",
       "    <tr>\n",
       "      <th>I0005973-8</th>\n",
       "      <td>/n/data1/hms/dbmi/farhat/cetr_strains/good_wgs...</td>\n",
       "      <td>CETR</td>\n",
       "      <td>NaN</td>\n",
       "      <td>Peru3315</td>\n",
       "      <td>2</td>\n",
       "      <td>Peru3315</td>\n",
       "    </tr>\n",
       "  </tbody>\n",
       "</table>\n",
       "</div>"
      ],
      "text/plain": [
       "                                                  fastq_files population  \\\n",
       "patient_id                                                                 \n",
       "I0005973-8  /n/data1/hms/dbmi/farhat/cetr_strains/good_wgs...       CETR   \n",
       "I0005973-8  /n/data1/hms/dbmi/farhat/cetr_strains/good_wgs...       CETR   \n",
       "\n",
       "           run_ID sample_ID  sample_order       tag  \n",
       "patient_id                                           \n",
       "I0005973-8    NaN  Peru3062             1  Peru3062  \n",
       "I0005973-8    NaN  Peru3315             2  Peru3315  "
      ]
     },
     "execution_count": 8,
     "metadata": {},
     "output_type": "execute_result"
    }
   ],
   "source": [
    "sample_annotation.head(n=2)"
   ]
  },
  {
   "cell_type": "markdown",
   "metadata": {},
   "source": [
    "### Determine if jobs ran successfully or not"
   ]
  },
  {
   "cell_type": "code",
   "execution_count": 9,
   "metadata": {},
   "outputs": [],
   "source": [
    "successful_run = []\n",
    "\n",
    "for isolate_i in range(0 , np.shape(sample_annotation)[0]):\n",
    "\n",
    "    #get the tag ID for the fastq files (same as ID for fastq files)\n",
    "    tag = sample_annotation.tag[isolate_i]\n",
    "\n",
    "    #where pilon VCF and lineage information will be stored [LAB FOLDER]\n",
    "    output_dir = '/n/data1/hms/dbmi/farhat/Roger/inhost_TB_dynamics_project/JankyPipe/output/' + tag\n",
    "    \n",
    "    #check to see 'Lineage Call' folder exists in the output directory (last thing that is run in JankyPipe)\n",
    "    if os.path.exists(output_dir + '/fast-lineage-caller/'):\n",
    "        \n",
    "        successful_run.append('yes')\n",
    "        \n",
    "    else:\n",
    "        \n",
    "        successful_run.append('no')\n",
    "        \n",
    "sample_annotation['successful_run'] = successful_run"
   ]
  },
  {
   "cell_type": "code",
   "execution_count": 10,
   "metadata": {
    "scrolled": false
   },
   "outputs": [
    {
     "data": {
      "text/html": [
       "<div>\n",
       "<style scoped>\n",
       "    .dataframe tbody tr th:only-of-type {\n",
       "        vertical-align: middle;\n",
       "    }\n",
       "\n",
       "    .dataframe tbody tr th {\n",
       "        vertical-align: top;\n",
       "    }\n",
       "\n",
       "    .dataframe thead th {\n",
       "        text-align: right;\n",
       "    }\n",
       "</style>\n",
       "<table border=\"1\" class=\"dataframe\">\n",
       "  <thead>\n",
       "    <tr style=\"text-align: right;\">\n",
       "      <th></th>\n",
       "      <th>fastq_files</th>\n",
       "      <th>population</th>\n",
       "      <th>run_ID</th>\n",
       "      <th>sample_ID</th>\n",
       "      <th>sample_order</th>\n",
       "      <th>tag</th>\n",
       "      <th>successful_run</th>\n",
       "    </tr>\n",
       "    <tr>\n",
       "      <th>patient_id</th>\n",
       "      <th></th>\n",
       "      <th></th>\n",
       "      <th></th>\n",
       "      <th></th>\n",
       "      <th></th>\n",
       "      <th></th>\n",
       "      <th></th>\n",
       "    </tr>\n",
       "  </thead>\n",
       "  <tbody>\n",
       "    <tr>\n",
       "      <th>KPS_1</th>\n",
       "      <td>/n/data1/hms/dbmi/farhat/fastq_db/guerra/ERR18...</td>\n",
       "      <td>GUERRA</td>\n",
       "      <td>ERR182021</td>\n",
       "      <td>NaN</td>\n",
       "      <td>1</td>\n",
       "      <td>ERR182021</td>\n",
       "      <td>no</td>\n",
       "    </tr>\n",
       "    <tr>\n",
       "      <th>KPS_1</th>\n",
       "      <td>/n/data1/hms/dbmi/farhat/fastq_db/guerra/ERR18...</td>\n",
       "      <td>GUERRA</td>\n",
       "      <td>ERR181711</td>\n",
       "      <td>NaN</td>\n",
       "      <td>2</td>\n",
       "      <td>ERR181711</td>\n",
       "      <td>no</td>\n",
       "    </tr>\n",
       "    <tr>\n",
       "      <th>KPS_2</th>\n",
       "      <td>/n/data1/hms/dbmi/farhat/fastq_db/guerra/ERR21...</td>\n",
       "      <td>GUERRA</td>\n",
       "      <td>ERR212067</td>\n",
       "      <td>NaN</td>\n",
       "      <td>1</td>\n",
       "      <td>ERR212067</td>\n",
       "      <td>no</td>\n",
       "    </tr>\n",
       "    <tr>\n",
       "      <th>KPS_2</th>\n",
       "      <td>/n/data1/hms/dbmi/farhat/fastq_db/guerra/ERR77...</td>\n",
       "      <td>GUERRA</td>\n",
       "      <td>ERR773785</td>\n",
       "      <td>NaN</td>\n",
       "      <td>2</td>\n",
       "      <td>ERR773785</td>\n",
       "      <td>no</td>\n",
       "    </tr>\n",
       "    <tr>\n",
       "      <th>KPS_3</th>\n",
       "      <td>/n/data1/hms/dbmi/farhat/fastq_db/guerra/ERR21...</td>\n",
       "      <td>GUERRA</td>\n",
       "      <td>ERR212061</td>\n",
       "      <td>NaN</td>\n",
       "      <td>1</td>\n",
       "      <td>ERR212061</td>\n",
       "      <td>no</td>\n",
       "    </tr>\n",
       "    <tr>\n",
       "      <th>KPS_3</th>\n",
       "      <td>/n/data1/hms/dbmi/farhat/fastq_db/guerra/ERR21...</td>\n",
       "      <td>GUERRA</td>\n",
       "      <td>ERR212068</td>\n",
       "      <td>NaN</td>\n",
       "      <td>2</td>\n",
       "      <td>ERR212068</td>\n",
       "      <td>no</td>\n",
       "    </tr>\n",
       "    <tr>\n",
       "      <th>KPS_4</th>\n",
       "      <td>/n/data1/hms/dbmi/farhat/fastq_db/guerra/ERR19...</td>\n",
       "      <td>GUERRA</td>\n",
       "      <td>ERR190350</td>\n",
       "      <td>NaN</td>\n",
       "      <td>1</td>\n",
       "      <td>ERR190350</td>\n",
       "      <td>no</td>\n",
       "    </tr>\n",
       "    <tr>\n",
       "      <th>KPS_4</th>\n",
       "      <td>/n/data1/hms/dbmi/farhat/fastq_db/guerra/ERR16...</td>\n",
       "      <td>GUERRA</td>\n",
       "      <td>ERR163987</td>\n",
       "      <td>NaN</td>\n",
       "      <td>2</td>\n",
       "      <td>ERR163987</td>\n",
       "      <td>no</td>\n",
       "    </tr>\n",
       "    <tr>\n",
       "      <th>KPS_5</th>\n",
       "      <td>/n/data1/hms/dbmi/farhat/fastq_db/guerra/ERR03...</td>\n",
       "      <td>GUERRA</td>\n",
       "      <td>ERR037522</td>\n",
       "      <td>NaN</td>\n",
       "      <td>1</td>\n",
       "      <td>ERR037522</td>\n",
       "      <td>no</td>\n",
       "    </tr>\n",
       "    <tr>\n",
       "      <th>KPS_5</th>\n",
       "      <td>/n/data1/hms/dbmi/farhat/fastq_db/guerra/ERR21...</td>\n",
       "      <td>GUERRA</td>\n",
       "      <td>ERR212078</td>\n",
       "      <td>NaN</td>\n",
       "      <td>2</td>\n",
       "      <td>ERR212078</td>\n",
       "      <td>no</td>\n",
       "    </tr>\n",
       "    <tr>\n",
       "      <th>KPS_6</th>\n",
       "      <td>/n/data1/hms/dbmi/farhat/fastq_db/guerra/ERR03...</td>\n",
       "      <td>GUERRA</td>\n",
       "      <td>ERR036217</td>\n",
       "      <td>NaN</td>\n",
       "      <td>1</td>\n",
       "      <td>ERR036217</td>\n",
       "      <td>no</td>\n",
       "    </tr>\n",
       "    <tr>\n",
       "      <th>KPS_6</th>\n",
       "      <td>/n/data1/hms/dbmi/farhat/fastq_db/guerra/ERR17...</td>\n",
       "      <td>GUERRA</td>\n",
       "      <td>ERR176580</td>\n",
       "      <td>NaN</td>\n",
       "      <td>2</td>\n",
       "      <td>ERR176580</td>\n",
       "      <td>no</td>\n",
       "    </tr>\n",
       "    <tr>\n",
       "      <th>KPS_7</th>\n",
       "      <td>/n/data1/hms/dbmi/farhat/fastq_db/guerra/ERR16...</td>\n",
       "      <td>GUERRA</td>\n",
       "      <td>ERR161165</td>\n",
       "      <td>NaN</td>\n",
       "      <td>1</td>\n",
       "      <td>ERR161165</td>\n",
       "      <td>no</td>\n",
       "    </tr>\n",
       "    <tr>\n",
       "      <th>KPS_7</th>\n",
       "      <td>/n/data1/hms/dbmi/farhat/fastq_db/guerra/ERR16...</td>\n",
       "      <td>GUERRA</td>\n",
       "      <td>ERR161075</td>\n",
       "      <td>NaN</td>\n",
       "      <td>2</td>\n",
       "      <td>ERR161075</td>\n",
       "      <td>no</td>\n",
       "    </tr>\n",
       "    <tr>\n",
       "      <th>KPS_8</th>\n",
       "      <td>/n/data1/hms/dbmi/farhat/fastq_db/guerra/ERR24...</td>\n",
       "      <td>GUERRA</td>\n",
       "      <td>ERR245837</td>\n",
       "      <td>NaN</td>\n",
       "      <td>1</td>\n",
       "      <td>ERR245837</td>\n",
       "      <td>no</td>\n",
       "    </tr>\n",
       "    <tr>\n",
       "      <th>KPS_8</th>\n",
       "      <td>/n/data1/hms/dbmi/farhat/fastq_db/guerra/ERR18...</td>\n",
       "      <td>GUERRA</td>\n",
       "      <td>ERR181941</td>\n",
       "      <td>NaN</td>\n",
       "      <td>2</td>\n",
       "      <td>ERR181941</td>\n",
       "      <td>no</td>\n",
       "    </tr>\n",
       "    <tr>\n",
       "      <th>KPS_9</th>\n",
       "      <td>/n/data1/hms/dbmi/farhat/fastq_db/guerra/ERR24...</td>\n",
       "      <td>GUERRA</td>\n",
       "      <td>ERR245836</td>\n",
       "      <td>NaN</td>\n",
       "      <td>1</td>\n",
       "      <td>ERR245836</td>\n",
       "      <td>no</td>\n",
       "    </tr>\n",
       "    <tr>\n",
       "      <th>KPS_9</th>\n",
       "      <td>/n/data1/hms/dbmi/farhat/fastq_db/guerra/ERR21...</td>\n",
       "      <td>GUERRA</td>\n",
       "      <td>ERR212054</td>\n",
       "      <td>NaN</td>\n",
       "      <td>2</td>\n",
       "      <td>ERR212054</td>\n",
       "      <td>no</td>\n",
       "    </tr>\n",
       "    <tr>\n",
       "      <th>KPS_10</th>\n",
       "      <td>/n/data1/hms/dbmi/farhat/fastq_db/guerra/ERR03...</td>\n",
       "      <td>GUERRA</td>\n",
       "      <td>ERR036189</td>\n",
       "      <td>NaN</td>\n",
       "      <td>1</td>\n",
       "      <td>ERR036189</td>\n",
       "      <td>no</td>\n",
       "    </tr>\n",
       "    <tr>\n",
       "      <th>KPS_10</th>\n",
       "      <td>/n/data1/hms/dbmi/farhat/fastq_db/guerra/ERR16...</td>\n",
       "      <td>GUERRA</td>\n",
       "      <td>ERR163985</td>\n",
       "      <td>NaN</td>\n",
       "      <td>2</td>\n",
       "      <td>ERR163985</td>\n",
       "      <td>no</td>\n",
       "    </tr>\n",
       "    <tr>\n",
       "      <th>KPS_11</th>\n",
       "      <td>/n/data1/hms/dbmi/farhat/fastq_db/guerra/ERR21...</td>\n",
       "      <td>GUERRA</td>\n",
       "      <td>ERR216977</td>\n",
       "      <td>NaN</td>\n",
       "      <td>1</td>\n",
       "      <td>ERR216977</td>\n",
       "      <td>no</td>\n",
       "    </tr>\n",
       "    <tr>\n",
       "      <th>KPS_11</th>\n",
       "      <td>/n/data1/hms/dbmi/farhat/fastq_db/guerra/ERR47...</td>\n",
       "      <td>GUERRA</td>\n",
       "      <td>ERR473347</td>\n",
       "      <td>NaN</td>\n",
       "      <td>2</td>\n",
       "      <td>ERR473347</td>\n",
       "      <td>no</td>\n",
       "    </tr>\n",
       "    <tr>\n",
       "      <th>KPS_12</th>\n",
       "      <td>/n/data1/hms/dbmi/farhat/fastq_db/guerra/ERR03...</td>\n",
       "      <td>GUERRA</td>\n",
       "      <td>ERR036219</td>\n",
       "      <td>NaN</td>\n",
       "      <td>1</td>\n",
       "      <td>ERR036219</td>\n",
       "      <td>no</td>\n",
       "    </tr>\n",
       "    <tr>\n",
       "      <th>KPS_12</th>\n",
       "      <td>/n/data1/hms/dbmi/farhat/fastq_db/guerra/ERR24...</td>\n",
       "      <td>GUERRA</td>\n",
       "      <td>ERR245847</td>\n",
       "      <td>NaN</td>\n",
       "      <td>2</td>\n",
       "      <td>ERR245847</td>\n",
       "      <td>no</td>\n",
       "    </tr>\n",
       "    <tr>\n",
       "      <th>KPS_13</th>\n",
       "      <td>/n/data1/hms/dbmi/farhat/fastq_db/guerra/ERR21...</td>\n",
       "      <td>GUERRA</td>\n",
       "      <td>ERR212075</td>\n",
       "      <td>NaN</td>\n",
       "      <td>1</td>\n",
       "      <td>ERR212075</td>\n",
       "      <td>no</td>\n",
       "    </tr>\n",
       "    <tr>\n",
       "      <th>KPS_13</th>\n",
       "      <td>/n/data1/hms/dbmi/farhat/fastq_db/guerra/ERR22...</td>\n",
       "      <td>GUERRA</td>\n",
       "      <td>ERR221577</td>\n",
       "      <td>NaN</td>\n",
       "      <td>2</td>\n",
       "      <td>ERR221577</td>\n",
       "      <td>no</td>\n",
       "    </tr>\n",
       "    <tr>\n",
       "      <th>KPS_14</th>\n",
       "      <td>/n/data1/hms/dbmi/farhat/fastq_db/guerra/ERR19...</td>\n",
       "      <td>GUERRA</td>\n",
       "      <td>ERR190357</td>\n",
       "      <td>NaN</td>\n",
       "      <td>1</td>\n",
       "      <td>ERR190357</td>\n",
       "      <td>no</td>\n",
       "    </tr>\n",
       "    <tr>\n",
       "      <th>KPS_14</th>\n",
       "      <td>/n/data1/hms/dbmi/farhat/fastq_db/guerra/ERR17...</td>\n",
       "      <td>GUERRA</td>\n",
       "      <td>ERR176704</td>\n",
       "      <td>NaN</td>\n",
       "      <td>2</td>\n",
       "      <td>ERR176704</td>\n",
       "      <td>no</td>\n",
       "    </tr>\n",
       "    <tr>\n",
       "      <th>KPS_15</th>\n",
       "      <td>/n/data1/hms/dbmi/farhat/fastq_db/guerra/ERR22...</td>\n",
       "      <td>GUERRA</td>\n",
       "      <td>ERR221552</td>\n",
       "      <td>NaN</td>\n",
       "      <td>1</td>\n",
       "      <td>ERR221552</td>\n",
       "      <td>no</td>\n",
       "    </tr>\n",
       "    <tr>\n",
       "      <th>KPS_15</th>\n",
       "      <td>/n/data1/hms/dbmi/farhat/fastq_db/guerra/ERR16...</td>\n",
       "      <td>GUERRA</td>\n",
       "      <td>ERR161092</td>\n",
       "      <td>NaN</td>\n",
       "      <td>2</td>\n",
       "      <td>ERR161092</td>\n",
       "      <td>no</td>\n",
       "    </tr>\n",
       "    <tr>\n",
       "      <th>...</th>\n",
       "      <td>...</td>\n",
       "      <td>...</td>\n",
       "      <td>...</td>\n",
       "      <td>...</td>\n",
       "      <td>...</td>\n",
       "      <td>...</td>\n",
       "      <td>...</td>\n",
       "    </tr>\n",
       "    <tr>\n",
       "      <th>2030R</th>\n",
       "      <td>/n/data1/hms/dbmi/farhat/fastq_db/bryant/ERR17...</td>\n",
       "      <td>BRYANT</td>\n",
       "      <td>ERR171134</td>\n",
       "      <td>200625.0</td>\n",
       "      <td>1</td>\n",
       "      <td>ERR171134</td>\n",
       "      <td>no</td>\n",
       "    </tr>\n",
       "    <tr>\n",
       "      <th>2030R</th>\n",
       "      <td>/n/data1/hms/dbmi/farhat/fastq_db/bryant/ERR17...</td>\n",
       "      <td>BRYANT</td>\n",
       "      <td>ERR171135</td>\n",
       "      <td>201035.0</td>\n",
       "      <td>2</td>\n",
       "      <td>ERR171135</td>\n",
       "      <td>no</td>\n",
       "    </tr>\n",
       "    <tr>\n",
       "      <th>4085U</th>\n",
       "      <td>/n/data1/hms/dbmi/farhat/fastq_db/bryant/ERR17...</td>\n",
       "      <td>BRYANT</td>\n",
       "      <td>ERR171136</td>\n",
       "      <td>200470.0</td>\n",
       "      <td>1</td>\n",
       "      <td>ERR171136</td>\n",
       "      <td>no</td>\n",
       "    </tr>\n",
       "    <tr>\n",
       "      <th>4085U</th>\n",
       "      <td>/n/data1/hms/dbmi/farhat/fastq_db/bryant/ERR17...</td>\n",
       "      <td>BRYANT</td>\n",
       "      <td>ERR171137</td>\n",
       "      <td>201113.0</td>\n",
       "      <td>2</td>\n",
       "      <td>ERR171137</td>\n",
       "      <td>no</td>\n",
       "    </tr>\n",
       "    <tr>\n",
       "      <th>4098U</th>\n",
       "      <td>/n/data1/hms/dbmi/farhat/fastq_db/bryant/ERR17...</td>\n",
       "      <td>BRYANT</td>\n",
       "      <td>ERR171138</td>\n",
       "      <td>200541.0</td>\n",
       "      <td>1</td>\n",
       "      <td>ERR171138</td>\n",
       "      <td>no</td>\n",
       "    </tr>\n",
       "    <tr>\n",
       "      <th>4098U</th>\n",
       "      <td>/n/data1/hms/dbmi/farhat/fastq_db/bryant/ERR17...</td>\n",
       "      <td>BRYANT</td>\n",
       "      <td>ERR171139</td>\n",
       "      <td>201314.0</td>\n",
       "      <td>2</td>\n",
       "      <td>ERR171139</td>\n",
       "      <td>no</td>\n",
       "    </tr>\n",
       "    <tr>\n",
       "      <th>4078X</th>\n",
       "      <td>/n/data1/hms/dbmi/farhat/fastq_db/bryant/ERR96...</td>\n",
       "      <td>BRYANT</td>\n",
       "      <td>ERR966619</td>\n",
       "      <td>200253.0</td>\n",
       "      <td>1</td>\n",
       "      <td>ERR966619</td>\n",
       "      <td>no</td>\n",
       "    </tr>\n",
       "    <tr>\n",
       "      <th>4078X</th>\n",
       "      <td>/n/data1/hms/dbmi/farhat/fastq_db/bryant/ERR17...</td>\n",
       "      <td>BRYANT</td>\n",
       "      <td>ERR171141</td>\n",
       "      <td>201366.0</td>\n",
       "      <td>2</td>\n",
       "      <td>ERR171141</td>\n",
       "      <td>no</td>\n",
       "    </tr>\n",
       "    <tr>\n",
       "      <th>4069Z</th>\n",
       "      <td>/n/data1/hms/dbmi/farhat/fastq_db/bryant/ERR17...</td>\n",
       "      <td>BRYANT</td>\n",
       "      <td>ERR171142</td>\n",
       "      <td>200127.0</td>\n",
       "      <td>1</td>\n",
       "      <td>ERR171142</td>\n",
       "      <td>no</td>\n",
       "    </tr>\n",
       "    <tr>\n",
       "      <th>4069Z</th>\n",
       "      <td>/n/data1/hms/dbmi/farhat/fastq_db/bryant/ERR17...</td>\n",
       "      <td>BRYANT</td>\n",
       "      <td>ERR171143</td>\n",
       "      <td>201457.0</td>\n",
       "      <td>2</td>\n",
       "      <td>ERR171143</td>\n",
       "      <td>no</td>\n",
       "    </tr>\n",
       "    <tr>\n",
       "      <th>3100U</th>\n",
       "      <td>/n/data1/hms/dbmi/farhat/fastq_db/bryant/ERR10...</td>\n",
       "      <td>BRYANT</td>\n",
       "      <td>ERR108152</td>\n",
       "      <td>300659.0</td>\n",
       "      <td>1</td>\n",
       "      <td>ERR108152</td>\n",
       "      <td>no</td>\n",
       "    </tr>\n",
       "    <tr>\n",
       "      <th>3100U</th>\n",
       "      <td>/n/data1/hms/dbmi/farhat/fastq_db/bryant/ERR10...</td>\n",
       "      <td>BRYANT</td>\n",
       "      <td>ERR108151</td>\n",
       "      <td>302642.0</td>\n",
       "      <td>2</td>\n",
       "      <td>ERR108151</td>\n",
       "      <td>no</td>\n",
       "    </tr>\n",
       "    <tr>\n",
       "      <th>2020E</th>\n",
       "      <td>/n/data1/hms/dbmi/farhat/fastq_db/bryant/ERR10...</td>\n",
       "      <td>BRYANT</td>\n",
       "      <td>ERR108130</td>\n",
       "      <td>400044.0</td>\n",
       "      <td>1</td>\n",
       "      <td>ERR108130</td>\n",
       "      <td>no</td>\n",
       "    </tr>\n",
       "    <tr>\n",
       "      <th>2020E</th>\n",
       "      <td>/n/data1/hms/dbmi/farhat/fastq_db/bryant/ERR10...</td>\n",
       "      <td>BRYANT</td>\n",
       "      <td>ERR108129</td>\n",
       "      <td>401206.0</td>\n",
       "      <td>2</td>\n",
       "      <td>ERR108129</td>\n",
       "      <td>no</td>\n",
       "    </tr>\n",
       "    <tr>\n",
       "      <th>3047X</th>\n",
       "      <td>/n/data1/hms/dbmi/farhat/fastq_db/bryant/ERR10...</td>\n",
       "      <td>BRYANT</td>\n",
       "      <td>ERR108146</td>\n",
       "      <td>400260.0</td>\n",
       "      <td>1</td>\n",
       "      <td>ERR108146</td>\n",
       "      <td>no</td>\n",
       "    </tr>\n",
       "    <tr>\n",
       "      <th>3047X</th>\n",
       "      <td>/n/data1/hms/dbmi/farhat/fastq_db/bryant/ERR10...</td>\n",
       "      <td>BRYANT</td>\n",
       "      <td>ERR108145</td>\n",
       "      <td>401212.0</td>\n",
       "      <td>2</td>\n",
       "      <td>ERR108145</td>\n",
       "      <td>no</td>\n",
       "    </tr>\n",
       "    <tr>\n",
       "      <th>3103J</th>\n",
       "      <td>/n/data1/hms/dbmi/farhat/fastq_db/bryant/ERR10...</td>\n",
       "      <td>BRYANT</td>\n",
       "      <td>ERR108154</td>\n",
       "      <td>400554.0</td>\n",
       "      <td>1</td>\n",
       "      <td>ERR108154</td>\n",
       "      <td>no</td>\n",
       "    </tr>\n",
       "    <tr>\n",
       "      <th>3103J</th>\n",
       "      <td>/n/data1/hms/dbmi/farhat/fastq_db/bryant/ERR10...</td>\n",
       "      <td>BRYANT</td>\n",
       "      <td>ERR108153</td>\n",
       "      <td>401594.0</td>\n",
       "      <td>2</td>\n",
       "      <td>ERR108153</td>\n",
       "      <td>no</td>\n",
       "    </tr>\n",
       "    <tr>\n",
       "      <th>3058W</th>\n",
       "      <td>/n/data1/hms/dbmi/farhat/fastq_db/bryant/ERR10...</td>\n",
       "      <td>BRYANT</td>\n",
       "      <td>ERR108148</td>\n",
       "      <td>400491.0</td>\n",
       "      <td>1</td>\n",
       "      <td>ERR108148</td>\n",
       "      <td>no</td>\n",
       "    </tr>\n",
       "    <tr>\n",
       "      <th>3058W</th>\n",
       "      <td>/n/data1/hms/dbmi/farhat/fastq_db/bryant/ERR10...</td>\n",
       "      <td>BRYANT</td>\n",
       "      <td>ERR108147</td>\n",
       "      <td>402206.0</td>\n",
       "      <td>2</td>\n",
       "      <td>ERR108147</td>\n",
       "      <td>no</td>\n",
       "    </tr>\n",
       "    <tr>\n",
       "      <th>1020A</th>\n",
       "      <td>/n/data1/hms/dbmi/farhat/fastq_db/bryant/ERR10...</td>\n",
       "      <td>BRYANT</td>\n",
       "      <td>ERR108126</td>\n",
       "      <td>400285.0</td>\n",
       "      <td>1</td>\n",
       "      <td>ERR108126</td>\n",
       "      <td>no</td>\n",
       "    </tr>\n",
       "    <tr>\n",
       "      <th>1020A</th>\n",
       "      <td>/n/data1/hms/dbmi/farhat/fastq_db/bryant/ERR10...</td>\n",
       "      <td>BRYANT</td>\n",
       "      <td>ERR108125</td>\n",
       "      <td>401416.0</td>\n",
       "      <td>2</td>\n",
       "      <td>ERR108125</td>\n",
       "      <td>no</td>\n",
       "    </tr>\n",
       "    <tr>\n",
       "      <th>4063W</th>\n",
       "      <td>/n/data1/hms/dbmi/farhat/fastq_db/bryant/ERR17...</td>\n",
       "      <td>BRYANT</td>\n",
       "      <td>ERR171144</td>\n",
       "      <td>200066.0</td>\n",
       "      <td>1</td>\n",
       "      <td>ERR171144</td>\n",
       "      <td>no</td>\n",
       "    </tr>\n",
       "    <tr>\n",
       "      <th>4063W</th>\n",
       "      <td>/n/data1/hms/dbmi/farhat/fastq_db/bryant/ERR17...</td>\n",
       "      <td>BRYANT</td>\n",
       "      <td>ERR171145</td>\n",
       "      <td>201127.0</td>\n",
       "      <td>2</td>\n",
       "      <td>ERR171145</td>\n",
       "      <td>no</td>\n",
       "    </tr>\n",
       "    <tr>\n",
       "      <th>1117N</th>\n",
       "      <td>/n/data1/hms/dbmi/farhat/fastq_db/bryant/ERR17...</td>\n",
       "      <td>BRYANT</td>\n",
       "      <td>ERR171154</td>\n",
       "      <td>1500283.0</td>\n",
       "      <td>2</td>\n",
       "      <td>ERR171154</td>\n",
       "      <td>no</td>\n",
       "    </tr>\n",
       "    <tr>\n",
       "      <th>1117N</th>\n",
       "      <td>/n/data1/hms/dbmi/farhat/fastq_db/bryant/ERR17...</td>\n",
       "      <td>BRYANT</td>\n",
       "      <td>ERR171155</td>\n",
       "      <td>1500034.0</td>\n",
       "      <td>1</td>\n",
       "      <td>ERR171155</td>\n",
       "      <td>no</td>\n",
       "    </tr>\n",
       "    <tr>\n",
       "      <th>3582J</th>\n",
       "      <td>/n/data1/hms/dbmi/farhat/fastq_db/bryant/ERR17...</td>\n",
       "      <td>BRYANT</td>\n",
       "      <td>ERR171156</td>\n",
       "      <td>1500435.0</td>\n",
       "      <td>2</td>\n",
       "      <td>ERR171156</td>\n",
       "      <td>no</td>\n",
       "    </tr>\n",
       "    <tr>\n",
       "      <th>3582J</th>\n",
       "      <td>/n/data1/hms/dbmi/farhat/fastq_db/bryant/ERR17...</td>\n",
       "      <td>BRYANT</td>\n",
       "      <td>ERR171157</td>\n",
       "      <td>1500108.0</td>\n",
       "      <td>1</td>\n",
       "      <td>ERR171157</td>\n",
       "      <td>no</td>\n",
       "    </tr>\n",
       "    <tr>\n",
       "      <th>3644X</th>\n",
       "      <td>/n/data1/hms/dbmi/farhat/fastq_db/bryant/ERR17...</td>\n",
       "      <td>BRYANT</td>\n",
       "      <td>ERR171158</td>\n",
       "      <td>1500524.0</td>\n",
       "      <td>2</td>\n",
       "      <td>ERR171158</td>\n",
       "      <td>no</td>\n",
       "    </tr>\n",
       "    <tr>\n",
       "      <th>3644X</th>\n",
       "      <td>/n/data1/hms/dbmi/farhat/fastq_db/bryant/ERR17...</td>\n",
       "      <td>BRYANT</td>\n",
       "      <td>ERR171159</td>\n",
       "      <td>1500176.0</td>\n",
       "      <td>1</td>\n",
       "      <td>ERR171159</td>\n",
       "      <td>no</td>\n",
       "    </tr>\n",
       "  </tbody>\n",
       "</table>\n",
       "<p>254 rows × 7 columns</p>\n",
       "</div>"
      ],
      "text/plain": [
       "                                                  fastq_files population  \\\n",
       "patient_id                                                                 \n",
       "KPS_1       /n/data1/hms/dbmi/farhat/fastq_db/guerra/ERR18...     GUERRA   \n",
       "KPS_1       /n/data1/hms/dbmi/farhat/fastq_db/guerra/ERR18...     GUERRA   \n",
       "KPS_2       /n/data1/hms/dbmi/farhat/fastq_db/guerra/ERR21...     GUERRA   \n",
       "KPS_2       /n/data1/hms/dbmi/farhat/fastq_db/guerra/ERR77...     GUERRA   \n",
       "KPS_3       /n/data1/hms/dbmi/farhat/fastq_db/guerra/ERR21...     GUERRA   \n",
       "KPS_3       /n/data1/hms/dbmi/farhat/fastq_db/guerra/ERR21...     GUERRA   \n",
       "KPS_4       /n/data1/hms/dbmi/farhat/fastq_db/guerra/ERR19...     GUERRA   \n",
       "KPS_4       /n/data1/hms/dbmi/farhat/fastq_db/guerra/ERR16...     GUERRA   \n",
       "KPS_5       /n/data1/hms/dbmi/farhat/fastq_db/guerra/ERR03...     GUERRA   \n",
       "KPS_5       /n/data1/hms/dbmi/farhat/fastq_db/guerra/ERR21...     GUERRA   \n",
       "KPS_6       /n/data1/hms/dbmi/farhat/fastq_db/guerra/ERR03...     GUERRA   \n",
       "KPS_6       /n/data1/hms/dbmi/farhat/fastq_db/guerra/ERR17...     GUERRA   \n",
       "KPS_7       /n/data1/hms/dbmi/farhat/fastq_db/guerra/ERR16...     GUERRA   \n",
       "KPS_7       /n/data1/hms/dbmi/farhat/fastq_db/guerra/ERR16...     GUERRA   \n",
       "KPS_8       /n/data1/hms/dbmi/farhat/fastq_db/guerra/ERR24...     GUERRA   \n",
       "KPS_8       /n/data1/hms/dbmi/farhat/fastq_db/guerra/ERR18...     GUERRA   \n",
       "KPS_9       /n/data1/hms/dbmi/farhat/fastq_db/guerra/ERR24...     GUERRA   \n",
       "KPS_9       /n/data1/hms/dbmi/farhat/fastq_db/guerra/ERR21...     GUERRA   \n",
       "KPS_10      /n/data1/hms/dbmi/farhat/fastq_db/guerra/ERR03...     GUERRA   \n",
       "KPS_10      /n/data1/hms/dbmi/farhat/fastq_db/guerra/ERR16...     GUERRA   \n",
       "KPS_11      /n/data1/hms/dbmi/farhat/fastq_db/guerra/ERR21...     GUERRA   \n",
       "KPS_11      /n/data1/hms/dbmi/farhat/fastq_db/guerra/ERR47...     GUERRA   \n",
       "KPS_12      /n/data1/hms/dbmi/farhat/fastq_db/guerra/ERR03...     GUERRA   \n",
       "KPS_12      /n/data1/hms/dbmi/farhat/fastq_db/guerra/ERR24...     GUERRA   \n",
       "KPS_13      /n/data1/hms/dbmi/farhat/fastq_db/guerra/ERR21...     GUERRA   \n",
       "KPS_13      /n/data1/hms/dbmi/farhat/fastq_db/guerra/ERR22...     GUERRA   \n",
       "KPS_14      /n/data1/hms/dbmi/farhat/fastq_db/guerra/ERR19...     GUERRA   \n",
       "KPS_14      /n/data1/hms/dbmi/farhat/fastq_db/guerra/ERR17...     GUERRA   \n",
       "KPS_15      /n/data1/hms/dbmi/farhat/fastq_db/guerra/ERR22...     GUERRA   \n",
       "KPS_15      /n/data1/hms/dbmi/farhat/fastq_db/guerra/ERR16...     GUERRA   \n",
       "...                                                       ...        ...   \n",
       "2030R       /n/data1/hms/dbmi/farhat/fastq_db/bryant/ERR17...     BRYANT   \n",
       "2030R       /n/data1/hms/dbmi/farhat/fastq_db/bryant/ERR17...     BRYANT   \n",
       "4085U       /n/data1/hms/dbmi/farhat/fastq_db/bryant/ERR17...     BRYANT   \n",
       "4085U       /n/data1/hms/dbmi/farhat/fastq_db/bryant/ERR17...     BRYANT   \n",
       "4098U       /n/data1/hms/dbmi/farhat/fastq_db/bryant/ERR17...     BRYANT   \n",
       "4098U       /n/data1/hms/dbmi/farhat/fastq_db/bryant/ERR17...     BRYANT   \n",
       "4078X       /n/data1/hms/dbmi/farhat/fastq_db/bryant/ERR96...     BRYANT   \n",
       "4078X       /n/data1/hms/dbmi/farhat/fastq_db/bryant/ERR17...     BRYANT   \n",
       "4069Z       /n/data1/hms/dbmi/farhat/fastq_db/bryant/ERR17...     BRYANT   \n",
       "4069Z       /n/data1/hms/dbmi/farhat/fastq_db/bryant/ERR17...     BRYANT   \n",
       "3100U       /n/data1/hms/dbmi/farhat/fastq_db/bryant/ERR10...     BRYANT   \n",
       "3100U       /n/data1/hms/dbmi/farhat/fastq_db/bryant/ERR10...     BRYANT   \n",
       "2020E       /n/data1/hms/dbmi/farhat/fastq_db/bryant/ERR10...     BRYANT   \n",
       "2020E       /n/data1/hms/dbmi/farhat/fastq_db/bryant/ERR10...     BRYANT   \n",
       "3047X       /n/data1/hms/dbmi/farhat/fastq_db/bryant/ERR10...     BRYANT   \n",
       "3047X       /n/data1/hms/dbmi/farhat/fastq_db/bryant/ERR10...     BRYANT   \n",
       "3103J       /n/data1/hms/dbmi/farhat/fastq_db/bryant/ERR10...     BRYANT   \n",
       "3103J       /n/data1/hms/dbmi/farhat/fastq_db/bryant/ERR10...     BRYANT   \n",
       "3058W       /n/data1/hms/dbmi/farhat/fastq_db/bryant/ERR10...     BRYANT   \n",
       "3058W       /n/data1/hms/dbmi/farhat/fastq_db/bryant/ERR10...     BRYANT   \n",
       "1020A       /n/data1/hms/dbmi/farhat/fastq_db/bryant/ERR10...     BRYANT   \n",
       "1020A       /n/data1/hms/dbmi/farhat/fastq_db/bryant/ERR10...     BRYANT   \n",
       "4063W       /n/data1/hms/dbmi/farhat/fastq_db/bryant/ERR17...     BRYANT   \n",
       "4063W       /n/data1/hms/dbmi/farhat/fastq_db/bryant/ERR17...     BRYANT   \n",
       "1117N       /n/data1/hms/dbmi/farhat/fastq_db/bryant/ERR17...     BRYANT   \n",
       "1117N       /n/data1/hms/dbmi/farhat/fastq_db/bryant/ERR17...     BRYANT   \n",
       "3582J       /n/data1/hms/dbmi/farhat/fastq_db/bryant/ERR17...     BRYANT   \n",
       "3582J       /n/data1/hms/dbmi/farhat/fastq_db/bryant/ERR17...     BRYANT   \n",
       "3644X       /n/data1/hms/dbmi/farhat/fastq_db/bryant/ERR17...     BRYANT   \n",
       "3644X       /n/data1/hms/dbmi/farhat/fastq_db/bryant/ERR17...     BRYANT   \n",
       "\n",
       "               run_ID  sample_ID  sample_order        tag successful_run  \n",
       "patient_id                                                                \n",
       "KPS_1       ERR182021        NaN             1  ERR182021             no  \n",
       "KPS_1       ERR181711        NaN             2  ERR181711             no  \n",
       "KPS_2       ERR212067        NaN             1  ERR212067             no  \n",
       "KPS_2       ERR773785        NaN             2  ERR773785             no  \n",
       "KPS_3       ERR212061        NaN             1  ERR212061             no  \n",
       "KPS_3       ERR212068        NaN             2  ERR212068             no  \n",
       "KPS_4       ERR190350        NaN             1  ERR190350             no  \n",
       "KPS_4       ERR163987        NaN             2  ERR163987             no  \n",
       "KPS_5       ERR037522        NaN             1  ERR037522             no  \n",
       "KPS_5       ERR212078        NaN             2  ERR212078             no  \n",
       "KPS_6       ERR036217        NaN             1  ERR036217             no  \n",
       "KPS_6       ERR176580        NaN             2  ERR176580             no  \n",
       "KPS_7       ERR161165        NaN             1  ERR161165             no  \n",
       "KPS_7       ERR161075        NaN             2  ERR161075             no  \n",
       "KPS_8       ERR245837        NaN             1  ERR245837             no  \n",
       "KPS_8       ERR181941        NaN             2  ERR181941             no  \n",
       "KPS_9       ERR245836        NaN             1  ERR245836             no  \n",
       "KPS_9       ERR212054        NaN             2  ERR212054             no  \n",
       "KPS_10      ERR036189        NaN             1  ERR036189             no  \n",
       "KPS_10      ERR163985        NaN             2  ERR163985             no  \n",
       "KPS_11      ERR216977        NaN             1  ERR216977             no  \n",
       "KPS_11      ERR473347        NaN             2  ERR473347             no  \n",
       "KPS_12      ERR036219        NaN             1  ERR036219             no  \n",
       "KPS_12      ERR245847        NaN             2  ERR245847             no  \n",
       "KPS_13      ERR212075        NaN             1  ERR212075             no  \n",
       "KPS_13      ERR221577        NaN             2  ERR221577             no  \n",
       "KPS_14      ERR190357        NaN             1  ERR190357             no  \n",
       "KPS_14      ERR176704        NaN             2  ERR176704             no  \n",
       "KPS_15      ERR221552        NaN             1  ERR221552             no  \n",
       "KPS_15      ERR161092        NaN             2  ERR161092             no  \n",
       "...               ...        ...           ...        ...            ...  \n",
       "2030R       ERR171134   200625.0             1  ERR171134             no  \n",
       "2030R       ERR171135   201035.0             2  ERR171135             no  \n",
       "4085U       ERR171136   200470.0             1  ERR171136             no  \n",
       "4085U       ERR171137   201113.0             2  ERR171137             no  \n",
       "4098U       ERR171138   200541.0             1  ERR171138             no  \n",
       "4098U       ERR171139   201314.0             2  ERR171139             no  \n",
       "4078X       ERR966619   200253.0             1  ERR966619             no  \n",
       "4078X       ERR171141   201366.0             2  ERR171141             no  \n",
       "4069Z       ERR171142   200127.0             1  ERR171142             no  \n",
       "4069Z       ERR171143   201457.0             2  ERR171143             no  \n",
       "3100U       ERR108152   300659.0             1  ERR108152             no  \n",
       "3100U       ERR108151   302642.0             2  ERR108151             no  \n",
       "2020E       ERR108130   400044.0             1  ERR108130             no  \n",
       "2020E       ERR108129   401206.0             2  ERR108129             no  \n",
       "3047X       ERR108146   400260.0             1  ERR108146             no  \n",
       "3047X       ERR108145   401212.0             2  ERR108145             no  \n",
       "3103J       ERR108154   400554.0             1  ERR108154             no  \n",
       "3103J       ERR108153   401594.0             2  ERR108153             no  \n",
       "3058W       ERR108148   400491.0             1  ERR108148             no  \n",
       "3058W       ERR108147   402206.0             2  ERR108147             no  \n",
       "1020A       ERR108126   400285.0             1  ERR108126             no  \n",
       "1020A       ERR108125   401416.0             2  ERR108125             no  \n",
       "4063W       ERR171144   200066.0             1  ERR171144             no  \n",
       "4063W       ERR171145   201127.0             2  ERR171145             no  \n",
       "1117N       ERR171154  1500283.0             2  ERR171154             no  \n",
       "1117N       ERR171155  1500034.0             1  ERR171155             no  \n",
       "3582J       ERR171156  1500435.0             2  ERR171156             no  \n",
       "3582J       ERR171157  1500108.0             1  ERR171157             no  \n",
       "3644X       ERR171158  1500524.0             2  ERR171158             no  \n",
       "3644X       ERR171159  1500176.0             1  ERR171159             no  \n",
       "\n",
       "[254 rows x 7 columns]"
      ]
     },
     "execution_count": 10,
     "metadata": {},
     "output_type": "execute_result"
    }
   ],
   "source": [
    "sample_annotation[sample_annotation.successful_run == 'no']"
   ]
  },
  {
   "cell_type": "markdown",
   "metadata": {},
   "source": [
    "### Re-Run isolates through pipeline that hit a run-timelimit"
   ]
  },
  {
   "cell_type": "code",
   "execution_count": 11,
   "metadata": {},
   "outputs": [
    {
     "name": "stderr",
     "output_type": "stream",
     "text": [
      "submitted: Submitted batch job 31784984\n",
      "submitted: Submitted batch job 31784986\n",
      "submitted: Submitted batch job 31784988\n",
      "submitted: Submitted batch job 31784990\n"
     ]
    },
    {
     "name": "stdout",
     "output_type": "stream",
     "text": [
      "ERR182021 : 31784984\n",
      "ERR181711 : 31784986\n",
      "ERR212067 : 31784988\n",
      "ERR773785 : 31784990\n"
     ]
    },
    {
     "name": "stderr",
     "output_type": "stream",
     "text": [
      "submitted: Submitted batch job 31784992\n",
      "submitted: Submitted batch job 31784994\n",
      "submitted: Submitted batch job 31784996\n",
      "submitted: Submitted batch job 31784998\n"
     ]
    },
    {
     "name": "stdout",
     "output_type": "stream",
     "text": [
      "ERR212061 : 31784992\n",
      "ERR212068 : 31784994\n",
      "ERR190350 : 31784996\n",
      "ERR163987 : 31784998\n"
     ]
    },
    {
     "name": "stderr",
     "output_type": "stream",
     "text": [
      "submitted: Submitted batch job 31785000\n"
     ]
    },
    {
     "name": "stdout",
     "output_type": "stream",
     "text": [
      "ERR037522 : 31785000\n"
     ]
    },
    {
     "name": "stderr",
     "output_type": "stream",
     "text": [
      "submitted: Submitted batch job 31785002\n",
      "submitted: Submitted batch job 31785004\n"
     ]
    },
    {
     "name": "stdout",
     "output_type": "stream",
     "text": [
      "ERR212078 : 31785002\n",
      "ERR036217 : 31785004\n"
     ]
    },
    {
     "name": "stderr",
     "output_type": "stream",
     "text": [
      "submitted: Submitted batch job 31785006\n"
     ]
    },
    {
     "name": "stdout",
     "output_type": "stream",
     "text": [
      "ERR176580 : 31785006\n"
     ]
    },
    {
     "name": "stderr",
     "output_type": "stream",
     "text": [
      "submitted: Submitted batch job 31785008\n"
     ]
    },
    {
     "name": "stdout",
     "output_type": "stream",
     "text": [
      "ERR161165 : 31785008\n"
     ]
    },
    {
     "name": "stderr",
     "output_type": "stream",
     "text": [
      "submitted: Submitted batch job 31785013\n"
     ]
    },
    {
     "name": "stdout",
     "output_type": "stream",
     "text": [
      "ERR161075 : 31785013\n"
     ]
    },
    {
     "name": "stderr",
     "output_type": "stream",
     "text": [
      "submitted: Submitted batch job 31785016\n"
     ]
    },
    {
     "name": "stdout",
     "output_type": "stream",
     "text": [
      "ERR245837 : 31785016\n"
     ]
    },
    {
     "name": "stderr",
     "output_type": "stream",
     "text": [
      "submitted: Submitted batch job 31785018\n"
     ]
    },
    {
     "name": "stdout",
     "output_type": "stream",
     "text": [
      "ERR181941 : 31785018\n"
     ]
    },
    {
     "name": "stderr",
     "output_type": "stream",
     "text": [
      "submitted: Submitted batch job 31785021\n",
      "submitted: Submitted batch job 31785023\n",
      "submitted: Submitted batch job 31785025\n",
      "submitted: Submitted batch job 31785027\n"
     ]
    },
    {
     "name": "stdout",
     "output_type": "stream",
     "text": [
      "ERR245836 : 31785021\n",
      "ERR212054 : 31785023\n",
      "ERR036189 : 31785025\n",
      "ERR163985 : 31785027\n"
     ]
    },
    {
     "name": "stderr",
     "output_type": "stream",
     "text": [
      "submitted: Submitted batch job 31785029\n",
      "submitted: Submitted batch job 31785031\n",
      "submitted: Submitted batch job 31785033\n",
      "submitted: Submitted batch job 31785035\n"
     ]
    },
    {
     "name": "stdout",
     "output_type": "stream",
     "text": [
      "ERR216977 : 31785029\n",
      "ERR473347 : 31785031\n",
      "ERR036219 : 31785033\n",
      "ERR245847 : 31785035\n"
     ]
    },
    {
     "name": "stderr",
     "output_type": "stream",
     "text": [
      "submitted: Submitted batch job 31785037\n",
      "submitted: Submitted batch job 31785039\n"
     ]
    },
    {
     "name": "stdout",
     "output_type": "stream",
     "text": [
      "ERR212075 : 31785037\n",
      "ERR221577 : 31785039\n"
     ]
    },
    {
     "name": "stderr",
     "output_type": "stream",
     "text": [
      "submitted: Submitted batch job 31785041\n",
      "submitted: Submitted batch job 31785043\n",
      "submitted: Submitted batch job 31785045\n",
      "submitted: Submitted batch job 31785047\n"
     ]
    },
    {
     "name": "stdout",
     "output_type": "stream",
     "text": [
      "ERR190357 : 31785041\n",
      "ERR176704 : 31785043\n",
      "ERR221552 : 31785045\n",
      "ERR161092 : 31785047\n"
     ]
    },
    {
     "name": "stderr",
     "output_type": "stream",
     "text": [
      "submitted: Submitted batch job 31785048\n",
      "submitted: Submitted batch job 31785050\n",
      "submitted: Submitted batch job 31785052\n",
      "submitted: Submitted batch job 31785054\n"
     ]
    },
    {
     "name": "stdout",
     "output_type": "stream",
     "text": [
      "ERR212065 : 31785048\n",
      "ERR212070 : 31785050\n",
      "ERR245671 : 31785052\n",
      "ERR181736 : 31785054\n"
     ]
    },
    {
     "name": "stderr",
     "output_type": "stream",
     "text": [
      "submitted: Submitted batch job 31785056\n",
      "submitted: Submitted batch job 31785058\n"
     ]
    },
    {
     "name": "stdout",
     "output_type": "stream",
     "text": [
      "ERR037517 : 31785056\n",
      "ERR181818 : 31785058\n"
     ]
    },
    {
     "name": "stderr",
     "output_type": "stream",
     "text": [
      "submitted: Submitted batch job 31785062\n",
      "submitted: Submitted batch job 31785064\n",
      "submitted: Submitted batch job 31785065\n",
      "submitted: Submitted batch job 31785067\n",
      "submitted:"
     ]
    },
    {
     "name": "stdout",
     "output_type": "stream",
     "text": [
      "ERR176552 : 31785062\n",
      "ERR212003 : 31785064\n",
      "ERR163986 : 31785065\n",
      "ERR182014 : 31785067\n"
     ]
    },
    {
     "name": "stderr",
     "output_type": "stream",
     "text": [
      " Submitted batch job 31785069\n",
      "submitted: Submitted batch job 31785071\n",
      "submitted: Submitted batch job 31785073\n",
      "submitted: Submitted batch job 31785075\n",
      "submitted: Submitted batch job 31785077\n"
     ]
    },
    {
     "name": "stdout",
     "output_type": "stream",
     "text": [
      "ERR181993 : 31785069\n",
      "ERR212062 : 31785071\n",
      "ERR163961 : 31785073\n",
      "ERR181751 : 31785075\n",
      "ERR212017 : 31785077\n"
     ]
    },
    {
     "name": "stderr",
     "output_type": "stream",
     "text": [
      "submitted: Submitted batch job 31785079\n",
      "submitted: Submitted batch job 31785081\n",
      "submitted: Submitted batch job 31785083\n"
     ]
    },
    {
     "name": "stdout",
     "output_type": "stream",
     "text": [
      "ERR245805 : 31785079\n",
      "ERR245678 : 31785081\n",
      "ERR216939 : 31785083\n"
     ]
    },
    {
     "name": "stderr",
     "output_type": "stream",
     "text": [
      "submitted: Submitted batch job 31785085\n",
      "submitted: Submitted batch job 31785087\n",
      "submitted: Submitted batch job 31785089\n",
      "submitted: Submitted batch job 31785091\n"
     ]
    },
    {
     "name": "stdout",
     "output_type": "stream",
     "text": [
      "ERR181935 : 31785085\n",
      "ERR245725 : 31785087\n",
      "ERR126604 : 31785089\n",
      "ERR212142 : 31785091\n"
     ]
    },
    {
     "name": "stderr",
     "output_type": "stream",
     "text": [
      "submitted: Submitted batch job 31785093\n",
      "submitted: Submitted batch job 31785095\n",
      "submitted: Submitted batch job 31785097\n",
      "submitted: Submitted batch job 31785099\n"
     ]
    },
    {
     "name": "stdout",
     "output_type": "stream",
     "text": [
      "ERR245676 : 31785093\n",
      "ERR181800 : 31785095\n",
      "ERR161063 : 31785097\n",
      "ERR181910 : 31785099\n"
     ]
    },
    {
     "name": "stderr",
     "output_type": "stream",
     "text": [
      "submitted: Submitted batch job 31785101\n",
      "submitted: Submitted batch job 31785103\n",
      "submitted: Submitted batch job 31785105\n",
      "submitted: Submitted batch job 31785107\n"
     ]
    },
    {
     "name": "stdout",
     "output_type": "stream",
     "text": [
      "ERR176461 : 31785101\n",
      "ERR163962 : 31785103\n",
      "ERR176598 : 31785105\n",
      "ERR126598 : 31785107\n"
     ]
    },
    {
     "name": "stderr",
     "output_type": "stream",
     "text": [
      "submitted: Submitted batch job 31785109\n",
      "submitted: Submitted batch job 31785111\n"
     ]
    },
    {
     "name": "stdout",
     "output_type": "stream",
     "text": [
      "ERR176735 : 31785109\n",
      "ERR773799 : 31785111\n"
     ]
    },
    {
     "name": "stderr",
     "output_type": "stream",
     "text": [
      "submitted: Submitted batch job 31785113\n",
      "submitted: Submitted batch job 31785114\n",
      "submitted: Submitted batch job 31785115\n",
      "submitted: Submitted batch job 31785116\n"
     ]
    },
    {
     "name": "stdout",
     "output_type": "stream",
     "text": [
      "ERR212098 : 31785113\n",
      "ERR163989 : 31785114\n",
      "ERR176530 : 31785115\n",
      "ERR323034 : 31785116\n"
     ]
    },
    {
     "name": "stderr",
     "output_type": "stream",
     "text": [
      "submitted: Submitted batch job 31785117\n",
      "submitted: Submitted batch job 31785118\n",
      "submitted: Submitted batch job 31785119\n",
      "submitted: Submitted batch job 31785120\n",
      "submitted: Submitted batch job 31785121\n"
     ]
    },
    {
     "name": "stdout",
     "output_type": "stream",
     "text": [
      "ERR212063 : 31785117\n",
      "ERR245729 : 31785118\n",
      "ERR036195 : 31785119\n",
      "ERR037482 : 31785120\n",
      "ERR176575 : 31785121\n"
     ]
    },
    {
     "name": "stderr",
     "output_type": "stream",
     "text": [
      "submitted: Submitted batch job 31785122\n",
      "submitted: Submitted batch job 31785123\n",
      "submitted: Submitted batch job 31785124\n",
      "submitted: Submitted batch job 31785125\n",
      "submitted: Submitted batch job 31785126\n"
     ]
    },
    {
     "name": "stdout",
     "output_type": "stream",
     "text": [
      "ERR176646 : 31785122\n",
      "ERR161197 : 31785123\n",
      "ERR221556 : 31785124\n",
      "ERR245652 : 31785125\n",
      "ERR182054 : 31785126\n"
     ]
    },
    {
     "name": "stderr",
     "output_type": "stream",
     "text": [
      "submitted: Submitted batch job 31785127\n",
      "submitted: Submitted batch job 31785128\n",
      "submitted: Submitted batch job 31785129\n",
      "submitted: Submitted batch job 31785130\n"
     ]
    },
    {
     "name": "stdout",
     "output_type": "stream",
     "text": [
      "ERR037467 : 31785127\n",
      "ERR473284 : 31785128\n",
      "ERR245804 : 31785129\n",
      "ERR181742 : 31785130\n"
     ]
    },
    {
     "name": "stderr",
     "output_type": "stream",
     "text": [
      "submitted: Submitted batch job 31785131\n",
      "submitted: Submitted batch job 31785132\n",
      "submitted: Submitted batch job 31785133\n"
     ]
    },
    {
     "name": "stdout",
     "output_type": "stream",
     "text": [
      "ERR176764 : 31785131\n",
      "ERR176535 : 31785132\n",
      "ERR036248 : 31785133\n"
     ]
    },
    {
     "name": "stderr",
     "output_type": "stream",
     "text": [
      "submitted: Submitted batch job 31785134\n",
      "submitted: Submitted batch job 31785135\n",
      "submitted: Submitted batch job 31785136\n",
      "submitted: Submitted batch job 31785137\n",
      "submitted: Submitted batch job 31785138\n"
     ]
    },
    {
     "name": "stdout",
     "output_type": "stream",
     "text": [
      "ERR221535 : 31785134\n",
      "ERR211990 : 31785135\n",
      "ERR181932 : 31785136\n",
      "ERR036191 : 31785137\n",
      "ERR176761 : 31785138\n"
     ]
    },
    {
     "name": "stderr",
     "output_type": "stream",
     "text": [
      "submitted: Submitted batch job 31785139\n",
      "submitted: Submitted batch job 31785140\n",
      "submitted: Submitted batch job 31785141\n",
      "submitted: Submitted batch job 31785142\n",
      "submitted: Submitted batch job 31785143\n"
     ]
    },
    {
     "name": "stdout",
     "output_type": "stream",
     "text": [
      "ERR212025 : 31785139\n",
      "ERR212053 : 31785140\n",
      "ERR176649 : 31785141\n",
      "ERR190334 : 31785142\n",
      "ERR736807 : 31785143\n"
     ]
    },
    {
     "name": "stderr",
     "output_type": "stream",
     "text": [
      "submitted: Submitted batch job 31785144\n",
      "submitted: Submitted batch job 31785145\n",
      "submitted: Submitted batch job 31785146\n",
      "submitted: Submitted batch job 31785147\n",
      "submitted: Submitted batch job 31785148\n"
     ]
    },
    {
     "name": "stdout",
     "output_type": "stream",
     "text": [
      "ERR736820 : 31785144\n",
      "ERR245667 : 31785145\n",
      "ERR161074 : 31785146\n",
      "ERR176731 : 31785147\n",
      "ERR176657 : 31785148\n"
     ]
    },
    {
     "name": "stderr",
     "output_type": "stream",
     "text": [
      "submitted: Submitted batch job 31785149\n",
      "submitted: Submitted batch job 31785150\n",
      "submitted: Submitted batch job 31785151\n"
     ]
    },
    {
     "name": "stdout",
     "output_type": "stream",
     "text": [
      "ERR181877 : 31785149\n",
      "ERR245654 : 31785150\n",
      "ERR176605 : 31785151\n"
     ]
    },
    {
     "name": "stderr",
     "output_type": "stream",
     "text": [
      "submitted: Submitted batch job 31785152\n",
      "submitted: Submitted batch job 31785153\n",
      "submitted: Submitted batch job 31785154\n",
      "submitted: Submitted batch job 31785155\n"
     ]
    },
    {
     "name": "stdout",
     "output_type": "stream",
     "text": [
      "ERR176513 : 31785152\n",
      "ERR037483 : 31785153\n",
      "ERR212030 : 31785154\n",
      "ERR221586 : 31785155\n"
     ]
    },
    {
     "name": "stderr",
     "output_type": "stream",
     "text": [
      "submitted: Submitted batch job 31785156\n",
      "submitted: Submitted batch job 31785157\n",
      "submitted: Submitted batch job 31785159\n",
      "submitted: Submitted batch job 31785160\n",
      "submitted: Submitted batch job 31785161\n"
     ]
    },
    {
     "name": "stdout",
     "output_type": "stream",
     "text": [
      "ERR221590 : 31785156\n",
      "ERR245796 : 31785157\n",
      "ERR181864 : 31785159\n",
      "ERR323044 : 31785160\n",
      "ERR181976 : 31785161\n"
     ]
    },
    {
     "name": "stderr",
     "output_type": "stream",
     "text": [
      "submitted: Submitted batch job 31785162\n",
      "submitted: Submitted batch job 31785163\n",
      "submitted: Submitted batch job 31785164\n",
      "submitted: Submitted batch job 31785165\n",
      "submitted: Submitted batch job 31785166\n"
     ]
    },
    {
     "name": "stdout",
     "output_type": "stream",
     "text": [
      "ERR245774 : 31785162\n",
      "ERR181868 : 31785163\n",
      "ERR245698 : 31785164\n",
      "ERR126602 : 31785165\n",
      "ERR182020 : 31785166\n"
     ]
    },
    {
     "name": "stderr",
     "output_type": "stream",
     "text": [
      "submitted: Submitted batch job 31785167\n",
      "submitted: Submitted batch job 31785168\n",
      "submitted: Submitted batch job 31785169\n"
     ]
    },
    {
     "name": "stdout",
     "output_type": "stream",
     "text": [
      "ERR181735 : 31785167\n",
      "ERR164014 : 31785168\n",
      "ERR473286 : 31785169\n"
     ]
    },
    {
     "name": "stderr",
     "output_type": "stream",
     "text": [
      "submitted: Submitted batch job 31785170\n",
      "submitted: Submitted batch job 31785171\n",
      "submitted: Submitted batch job 31785172\n",
      "submitted: Submitted batch job 31785173\n"
     ]
    },
    {
     "name": "stdout",
     "output_type": "stream",
     "text": [
      "ERR176585 : 31785170\n",
      "ERR190380 : 31785171\n",
      "ERR036233 : 31785172\n",
      "ERR176757 : 31785173\n"
     ]
    },
    {
     "name": "stderr",
     "output_type": "stream",
     "text": [
      "submitted: Submitted batch job 31785174\n",
      "submitted: Submitted batch job 31785175\n",
      "submitted: Submitted batch job 31785176\n",
      "submitted: Submitted batch job 31785177\n",
      "submitted: Submitted batch job 31785178\n"
     ]
    },
    {
     "name": "stdout",
     "output_type": "stream",
     "text": [
      "ERR245702 : 31785174\n",
      "ERR181854 : 31785175\n",
      "ERR176729 : 31785176\n",
      "ERR181857 : 31785177\n",
      "ERR176638 : 31785178\n"
     ]
    },
    {
     "name": "stderr",
     "output_type": "stream",
     "text": [
      "submitted: Submitted batch job 31785179\n",
      "submitted: Submitted batch job 31785180\n",
      "submitted: Submitted batch job 31785181\n",
      "submitted: Submitted batch job 31785182\n",
      "submitted: Submitted batch job 31785183\n"
     ]
    },
    {
     "name": "stdout",
     "output_type": "stream",
     "text": [
      "ERR181965 : 31785179\n",
      "ERR161198 : 31785180\n",
      "ERR161099 : 31785181\n",
      "ERR161106 : 31785182\n",
      "ERR181971 : 31785183\n"
     ]
    },
    {
     "name": "stderr",
     "output_type": "stream",
     "text": [
      "submitted: Submitted batch job 31785184\n",
      "submitted: Submitted batch job 31785185\n",
      "submitted: Submitted batch job 31785186\n"
     ]
    },
    {
     "name": "stdout",
     "output_type": "stream",
     "text": [
      "ERR181680 : 31785184\n",
      "ERR216962 : 31785185\n",
      "ERR176472 : 31785186\n"
     ]
    },
    {
     "name": "stderr",
     "output_type": "stream",
     "text": [
      "submitted: Submitted batch job 31785187\n",
      "submitted: Submitted batch job 31785188\n"
     ]
    },
    {
     "name": "stdout",
     "output_type": "stream",
     "text": [
      "ERR181875 : 31785187\n",
      "ERR181867 : 31785188\n"
     ]
    },
    {
     "name": "stderr",
     "output_type": "stream",
     "text": [
      "submitted: Submitted batch job 31785189\n",
      "submitted: Submitted batch job 31785190\n",
      "submitted: Submitted batch job 31785191\n",
      "submitted: Submitted batch job 31785192\n",
      "submitted:"
     ]
    },
    {
     "name": "stdout",
     "output_type": "stream",
     "text": [
      "ERR176717 : 31785189\n",
      "ERR176623 : 31785190\n",
      "ERR176794 : 31785191\n",
      "ERR176471 : 31785192\n"
     ]
    },
    {
     "name": "stderr",
     "output_type": "stream",
     "text": [
      " Submitted batch job 31785193\n",
      "submitted: Submitted batch job 31785194\n",
      "submitted: Submitted batch job 31785195\n",
      "submitted: Submitted batch job 31785196\n",
      "submitted: Submitted batch job 31785197\n",
      "submitted: Submitted batch job 31785198\n"
     ]
    },
    {
     "name": "stdout",
     "output_type": "stream",
     "text": [
      "ERR212007 : 31785193\n",
      "ERR176787 : 31785194\n",
      "ERR161155 : 31785195\n",
      "ERR212090 : 31785196\n",
      "ERR323049 : 31785197\n",
      "ERR181956 : 31785198\n"
     ]
    },
    {
     "name": "stderr",
     "output_type": "stream",
     "text": [
      "submitted: Submitted batch job 31785199\n",
      "submitted: Submitted batch job 31785200\n",
      "submitted: Submitted batch job 31785201\n",
      "submitted: Submitted batch job 31785202\n",
      "submitted: Submitted batch job 31785203\n"
     ]
    },
    {
     "name": "stdout",
     "output_type": "stream",
     "text": [
      "ERR161043 : 31785199\n",
      "ERR221543 : 31785200\n",
      "ERR161117 : 31785201\n",
      "ERR216899 : 31785202\n",
      "ERR181940 : 31785203\n"
     ]
    },
    {
     "name": "stderr",
     "output_type": "stream",
     "text": [
      "submitted: Submitted batch job 31785204\n",
      "submitted: Submitted batch job 31785205\n",
      "submitted: Submitted batch job 31785206\n",
      "submitted: Submitted batch job 31785207\n"
     ]
    },
    {
     "name": "stdout",
     "output_type": "stream",
     "text": [
      "ERR221551 : 31785204\n",
      "ERR182011 : 31785205\n",
      "ERR161069 : 31785206\n",
      "ERR126634 : 31785207\n"
     ]
    },
    {
     "name": "stderr",
     "output_type": "stream",
     "text": [
      "submitted: Submitted batch job 31785208\n",
      "submitted: Submitted batch job 31785209\n",
      "submitted: Submitted batch job 31785210\n",
      "submitted: Submitted batch job 31785211\n"
     ]
    },
    {
     "name": "stdout",
     "output_type": "stream",
     "text": [
      "ERR176457 : 31785208\n",
      "ERR181776 : 31785209\n",
      "ERR182056 : 31785210\n",
      "ERR124649 : 31785211\n"
     ]
    },
    {
     "name": "stderr",
     "output_type": "stream",
     "text": [
      "submitted: Submitted batch job 31785212\n",
      "submitted: Submitted batch job 31785213\n",
      "submitted: Submitted batch job 31785214\n",
      "submitted: Submitted batch job 31785215\n",
      "submitted: Submitted batch job 31785216\n"
     ]
    },
    {
     "name": "stdout",
     "output_type": "stream",
     "text": [
      "ERR182044 : 31785212\n",
      "ERR181715 : 31785213\n",
      "ERR181713 : 31785214\n",
      "ERR181852 : 31785215\n",
      "ERR181827 : 31785216\n"
     ]
    },
    {
     "name": "stderr",
     "output_type": "stream",
     "text": [
      "submitted: Submitted batch job 31785218\n",
      "submitted: Submitted batch job 31785219\n",
      "submitted: Submitted batch job 31785220\n",
      "submitted: Submitted batch job 31785221\n",
      "submitted: Submitted batch job 31785222\n"
     ]
    },
    {
     "name": "stdout",
     "output_type": "stream",
     "text": [
      "ERR212156 : 31785218\n",
      "ERR473307 : 31785219\n",
      "ERR736847 : 31785220\n",
      "ERR108127 : 31785221\n",
      "ERR108128 : 31785222\n"
     ]
    },
    {
     "name": "stderr",
     "output_type": "stream",
     "text": [
      "submitted: Submitted batch job 31785223\n",
      "submitted: Submitted batch job 31785224\n",
      "submitted: Submitted batch job 31785225\n"
     ]
    },
    {
     "name": "stdout",
     "output_type": "stream",
     "text": [
      "ERR108155 : 31785223\n",
      "ERR108156 : 31785224\n",
      "ERR108157 : 31785225\n"
     ]
    },
    {
     "name": "stderr",
     "output_type": "stream",
     "text": [
      "submitted: Submitted batch job 31785226\n",
      "submitted: Submitted batch job 31785227\n",
      "submitted: Submitted batch job 31785228\n",
      "submitted: Submitted batch job 31785229\n",
      "submitted: Submitted batch job 31785230\n"
     ]
    },
    {
     "name": "stdout",
     "output_type": "stream",
     "text": [
      "ERR108158 : 31785226\n",
      "ERR966620 : 31785227\n",
      "ERR108168 : 31785228\n",
      "ERR108171 : 31785229\n",
      "ERR108172 : 31785230\n"
     ]
    },
    {
     "name": "stderr",
     "output_type": "stream",
     "text": [
      "submitted: Submitted batch job 31785231\n",
      "submitted: Submitted batch job 31785232\n",
      "submitted: Submitted batch job 31785233\n",
      "submitted: Submitted batch job 31785234\n",
      "submitted: Submitted batch job 31785235\n"
     ]
    },
    {
     "name": "stdout",
     "output_type": "stream",
     "text": [
      "ERR108173 : 31785231\n",
      "ERR108174 : 31785232\n",
      "ERR108159 : 31785233\n",
      "ERR108160 : 31785234\n",
      "ERR108161 : 31785235\n"
     ]
    },
    {
     "name": "stderr",
     "output_type": "stream",
     "text": [
      "submitted: Submitted batch job 31785236\n",
      "submitted: Submitted batch job 31785237\n",
      "submitted: Submitted batch job 31785238\n",
      "submitted: Submitted batch job 31785239\n",
      "submitted: Submitted batch job 31785240\n"
     ]
    },
    {
     "name": "stdout",
     "output_type": "stream",
     "text": [
      "ERR108162 : 31785236\n",
      "ERR108143 : 31785237\n",
      "ERR108144 : 31785238\n",
      "ERR108175 : 31785239\n",
      "ERR108176 : 31785240\n"
     ]
    },
    {
     "name": "stderr",
     "output_type": "stream",
     "text": [
      "submitted: Submitted batch job 31785241\n",
      "submitted: Submitted batch job 31785242\n",
      "submitted: Submitted batch job 31785243\n"
     ]
    },
    {
     "name": "stdout",
     "output_type": "stream",
     "text": [
      "ERR108179 : 31785241\n",
      "ERR108180 : 31785242\n",
      "ERR108185 : 31785243\n"
     ]
    },
    {
     "name": "stderr",
     "output_type": "stream",
     "text": [
      "submitted: Submitted batch job 31785244\n",
      "submitted: Submitted batch job 31785245\n",
      "submitted: Submitted batch job 31785246\n",
      "submitted: Submitted batch job 31785247\n"
     ]
    },
    {
     "name": "stdout",
     "output_type": "stream",
     "text": [
      "ERR108186 : 31785244\n",
      "ERR108133 : 31785245\n",
      "ERR108134 : 31785246\n",
      "ERR966621 : 31785247\n"
     ]
    },
    {
     "name": "stderr",
     "output_type": "stream",
     "text": [
      "submitted: Submitted batch job 31785248\n",
      "submitted: Submitted batch job 31785249\n",
      "submitted: Submitted batch job 31785250\n",
      "submitted: Submitted batch job 31785251\n",
      "submitted: Submitted batch job 31785252\n"
     ]
    },
    {
     "name": "stdout",
     "output_type": "stream",
     "text": [
      "ERR108140 : 31785248\n",
      "ERR108164 : 31785249\n",
      "ERR108163 : 31785250\n",
      "ERR108177 : 31785251\n",
      "ERR108178 : 31785252\n"
     ]
    },
    {
     "name": "stderr",
     "output_type": "stream",
     "text": [
      "submitted: Submitted batch job 31785253\n",
      "submitted: Submitted batch job 31785254\n",
      "submitted: Submitted batch job 31785255\n",
      "submitted: Submitted batch job 31785256\n"
     ]
    },
    {
     "name": "stdout",
     "output_type": "stream",
     "text": [
      "ERR171166 : 31785253\n",
      "ERR171167 : 31785254\n",
      "ERR108149 : 31785255\n",
      "ERR108150 : 31785256\n"
     ]
    },
    {
     "name": "stderr",
     "output_type": "stream",
     "text": [
      "submitted: Submitted batch job 31785257\n",
      "submitted: Submitted batch job 31785258\n",
      "submitted: Submitted batch job 31785259\n",
      "submitted: Submitted batch job 31785260\n",
      "submitted: Submitted batch job 31785261\n"
     ]
    },
    {
     "name": "stdout",
     "output_type": "stream",
     "text": [
      "ERR108137 : 31785257\n",
      "ERR108138 : 31785258\n",
      "ERR108181 : 31785259\n",
      "ERR108182 : 31785260\n",
      "ERR171128 : 31785261\n"
     ]
    },
    {
     "name": "stderr",
     "output_type": "stream",
     "text": [
      "submitted: Submitted batch job 31785262\n",
      "submitted: Submitted batch job 31785263\n",
      "submitted: Submitted batch job 31785264\n",
      "submitted: Submitted batch job 31785265\n"
     ]
    },
    {
     "name": "stdout",
     "output_type": "stream",
     "text": [
      "ERR171129 : 31785262\n",
      "ERR171130 : 31785263\n",
      "ERR171131 : 31785264\n",
      "ERR171132 : 31785265\n"
     ]
    },
    {
     "name": "stderr",
     "output_type": "stream",
     "text": [
      "submitted: Submitted batch job 31785266\n",
      "submitted: Submitted batch job 31785267\n",
      "submitted: Submitted batch job 31785268\n",
      "submitted: Submitted batch job 31785269\n"
     ]
    },
    {
     "name": "stdout",
     "output_type": "stream",
     "text": [
      "ERR171133 : 31785266\n",
      "ERR108131 : 31785267\n",
      "ERR108132 : 31785268\n",
      "ERR108165 : 31785269\n"
     ]
    },
    {
     "name": "stderr",
     "output_type": "stream",
     "text": [
      "submitted: Submitted batch job 31785270\n",
      "submitted: Submitted batch job 31785271\n",
      "submitted: Submitted batch job 31785272\n",
      "submitted: Submitted batch job 31785273\n",
      "submitted: Submitted batch job 31785274\n"
     ]
    },
    {
     "name": "stdout",
     "output_type": "stream",
     "text": [
      "ERR108166 : 31785270\n",
      "ERR108183 : 31785271\n",
      "ERR108184 : 31785272\n",
      "ERR108135 : 31785273\n",
      "ERR108136 : 31785274\n"
     ]
    },
    {
     "name": "stderr",
     "output_type": "stream",
     "text": [
      "submitted: Submitted batch job 31785275\n",
      "submitted: Submitted batch job 31785276\n",
      "submitted: Submitted batch job 31785277\n",
      "submitted: Submitted batch job 31785278\n",
      "submitted: Submitted batch job 31785279\n"
     ]
    },
    {
     "name": "stdout",
     "output_type": "stream",
     "text": [
      "ERR108141 : 31785275\n",
      "ERR108142 : 31785276\n",
      "ERR171134 : 31785277\n",
      "ERR171135 : 31785278\n",
      "ERR171136 : 31785279\n"
     ]
    },
    {
     "name": "stderr",
     "output_type": "stream",
     "text": [
      "submitted: Submitted batch job 31785280\n",
      "submitted: Submitted batch job 31785282\n",
      "submitted: Submitted batch job 31785283\n"
     ]
    },
    {
     "name": "stdout",
     "output_type": "stream",
     "text": [
      "ERR171137 : 31785280\n",
      "ERR171138 : 31785282\n",
      "ERR171139 : 31785283\n"
     ]
    },
    {
     "name": "stderr",
     "output_type": "stream",
     "text": [
      "submitted: Submitted batch job 31785284\n",
      "submitted: Submitted batch job 31785285\n",
      "submitted: Submitted batch job 31785286\n",
      "submitted: Submitted batch job 31785287\n",
      "submitted: Submitted batch job 31785288\n"
     ]
    },
    {
     "name": "stdout",
     "output_type": "stream",
     "text": [
      "ERR966619 : 31785284\n",
      "ERR171141 : 31785285\n",
      "ERR171142 : 31785286\n",
      "ERR171143 : 31785287\n",
      "ERR108152 : 31785288\n"
     ]
    },
    {
     "name": "stderr",
     "output_type": "stream",
     "text": [
      "submitted: Submitted batch job 31785289\n",
      "submitted: Submitted batch job 31785290\n",
      "submitted: Submitted batch job 31785291\n",
      "submitted: Submitted batch job 31785292\n",
      "submitted: Submitted batch job 31785293\n"
     ]
    },
    {
     "name": "stdout",
     "output_type": "stream",
     "text": [
      "ERR108151 : 31785289\n",
      "ERR108130 : 31785290\n",
      "ERR108129 : 31785291\n",
      "ERR108146 : 31785292\n",
      "ERR108145 : 31785293\n"
     ]
    },
    {
     "name": "stderr",
     "output_type": "stream",
     "text": [
      "submitted: Submitted batch job 31785294\n",
      "submitted: Submitted batch job 31785295\n",
      "submitted: Submitted batch job 31785296\n",
      "submitted: Submitted batch job 31785297\n",
      "submitted: Submitted batch job 31785298\n"
     ]
    },
    {
     "name": "stdout",
     "output_type": "stream",
     "text": [
      "ERR108154 : 31785294\n",
      "ERR108153 : 31785295\n",
      "ERR108148 : 31785296\n",
      "ERR108147 : 31785297\n",
      "ERR108126 : 31785298\n"
     ]
    },
    {
     "name": "stderr",
     "output_type": "stream",
     "text": [
      "submitted: Submitted batch job 31785299\n",
      "submitted: Submitted batch job 31785300\n"
     ]
    },
    {
     "name": "stdout",
     "output_type": "stream",
     "text": [
      "ERR108125 : 31785299\n",
      "ERR171144 : 31785300\n"
     ]
    },
    {
     "name": "stderr",
     "output_type": "stream",
     "text": [
      "submitted: Submitted batch job 31785301\n",
      "submitted: Submitted batch job 31785302\n",
      "submitted: Submitted batch job 31785303\n",
      "submitted: Submitted batch job 31785304\n"
     ]
    },
    {
     "name": "stdout",
     "output_type": "stream",
     "text": [
      "ERR171145 : 31785301\n",
      "ERR171154 : 31785302\n",
      "ERR171155 : 31785303\n",
      "ERR171156 : 31785304\n",
      "ERR171157 : 31785305\n",
      "ERR171158 : 31785306\n",
      "ERR171159 : 31785307\n"
     ]
    },
    {
     "name": "stderr",
     "output_type": "stream",
     "text": [
      "submitted: Submitted batch job 31785305\n",
      "submitted: Submitted batch job 31785306\n",
      "submitted: Submitted batch job 31785307\n"
     ]
    }
   ],
   "source": [
    "#isolates that don't have a lineage-call directory didn't finish running through pipeline\n",
    "sample_annotation_ReRun = sample_annotation[sample_annotation.successful_run == 'no']\n",
    "\n",
    "#if path already exists, remove current contents, then recreate empty directory\n",
    "#if path doesn't exist, create new directory\n",
    "\n",
    "for isolate_i in range(0 , np.shape(sample_annotation_ReRun)[0]):\n",
    "    \n",
    "    isolate_fastq_paths = sample_annotation_ReRun.iloc[isolate_i , 0]\n",
    "\n",
    "    #paths & names for fastq files\n",
    "    fqf1 = isolate_fastq_paths.split(';')[0]\n",
    "    fqf2 = isolate_fastq_paths.split(';')[1]\n",
    "\n",
    "    #get the tag ID for the fastq files (same as ID for fastq files)\n",
    "    tag = fqf1.split('/')[-1].split('_')[0]\n",
    "\n",
    "    #where pilon VCF and lineage information will be stored [LAB FOLDER]\n",
    "    output_dir = '/n/data1/hms/dbmi/farhat/Roger/inhost_TB_dynamics_project/JankyPipe/output/' + tag\n",
    "    \n",
    "    if os.path.exists(output_dir):\n",
    "        shutil.rmtree(output_dir)\n",
    "        os.makedirs(output_dir)\n",
    "    elif not os.path.exists(output_dir):\n",
    "        os.makedirs(output_dir)\n",
    "        \n",
    "\n",
    "    #where everything else happens (trimming, aligning, etc.) [SCRATCH FOLDER]\n",
    "    scratch_dir = '/n/scratch2/rv76/inhost_TB_dynamics_project/JankyPipe/intermediary_files/' + tag\n",
    "    \n",
    "    if os.path.exists(scratch_dir):\n",
    "        shutil.rmtree(scratch_dir)\n",
    "        os.makedirs(scratch_dir)\n",
    "    elif not os.path.exists(scratch_dir):\n",
    "        os.makedirs(scratch_dir)\n",
    "\n",
    "        \n",
    "    #store O2 job log files [LAB FOLDER]\n",
    "    O2_SLURM_logs_dir = '/n/data1/hms/dbmi/farhat/Roger/inhost_TB_dynamics_project/JankyPipe/O2_SLURM_logs/' + tag\n",
    "    \n",
    "    if os.path.exists(O2_SLURM_logs_dir):\n",
    "        shutil.rmtree(O2_SLURM_logs_dir)\n",
    "        os.makedirs(O2_SLURM_logs_dir)\n",
    "    elif not os.path.exists(O2_SLURM_logs_dir):\n",
    "        os.makedirs(O2_SLURM_logs_dir)\n",
    "\n",
    "        \n",
    "    #Launch JankyPipe after making necessary directories!!!\n",
    "    Launch_JankyPipe(fqf1 , fqf2 , tag , output_dir , scratch_dir , O2_SLURM_logs_dir)"
   ]
  },
  {
   "cell_type": "markdown",
   "metadata": {},
   "source": [
    "## Scrape and Analyze Mean Coverage"
   ]
  },
  {
   "cell_type": "markdown",
   "metadata": {},
   "source": [
    "#### Import Sample Annotation file for filtered *longitudinal* isolates pairs"
   ]
  },
  {
   "cell_type": "code",
   "execution_count": 6,
   "metadata": {},
   "outputs": [],
   "source": [
    "sample_annotation = pd.read_csv('/n/data1/hms/dbmi/farhat/Roger/inhost_TB_dynamics_project/CSV_files/sample_annotation_files/Longitudinal_fastq_path_names_and_JankyPipe_tags_filtered_final.csv' , sep  = ',').set_index('patient_id')"
   ]
  },
  {
   "cell_type": "code",
   "execution_count": 7,
   "metadata": {},
   "outputs": [
    {
     "data": {
      "text/html": [
       "<div>\n",
       "<style>\n",
       "    .dataframe thead tr:only-child th {\n",
       "        text-align: right;\n",
       "    }\n",
       "\n",
       "    .dataframe thead th {\n",
       "        text-align: left;\n",
       "    }\n",
       "\n",
       "    .dataframe tbody tr th {\n",
       "        vertical-align: top;\n",
       "    }\n",
       "</style>\n",
       "<table border=\"1\" class=\"dataframe\">\n",
       "  <thead>\n",
       "    <tr style=\"text-align: right;\">\n",
       "      <th></th>\n",
       "      <th>fastq_files</th>\n",
       "      <th>population</th>\n",
       "      <th>run_ID</th>\n",
       "      <th>sample_ID</th>\n",
       "      <th>sample_order</th>\n",
       "      <th>tag</th>\n",
       "      <th>isolate_type</th>\n",
       "    </tr>\n",
       "    <tr>\n",
       "      <th>patient_id</th>\n",
       "      <th></th>\n",
       "      <th></th>\n",
       "      <th></th>\n",
       "      <th></th>\n",
       "      <th></th>\n",
       "      <th></th>\n",
       "      <th></th>\n",
       "    </tr>\n",
       "  </thead>\n",
       "  <tbody>\n",
       "    <tr>\n",
       "      <th>P000183</th>\n",
       "      <td>/n/data1/hms/dbmi/farhat/fastq_db/walker/ERR03...</td>\n",
       "      <td>WALKER</td>\n",
       "      <td>ERR039337</td>\n",
       "      <td>NaN</td>\n",
       "      <td>1</td>\n",
       "      <td>ERR039337</td>\n",
       "      <td>longitudinal</td>\n",
       "    </tr>\n",
       "    <tr>\n",
       "      <th>P000183</th>\n",
       "      <td>/n/data1/hms/dbmi/farhat/fastq_db/walker/ERR03...</td>\n",
       "      <td>WALKER</td>\n",
       "      <td>ERR039338</td>\n",
       "      <td>NaN</td>\n",
       "      <td>2</td>\n",
       "      <td>ERR039338</td>\n",
       "      <td>longitudinal</td>\n",
       "    </tr>\n",
       "    <tr>\n",
       "      <th>1960</th>\n",
       "      <td>/n/data1/hms/dbmi/farhat/cetr_strains/good_wgs...</td>\n",
       "      <td>CETR</td>\n",
       "      <td>MMJA00000000</td>\n",
       "      <td>Peru5115</td>\n",
       "      <td>1</td>\n",
       "      <td>Peru5115</td>\n",
       "      <td>longitudinal</td>\n",
       "    </tr>\n",
       "    <tr>\n",
       "      <th>1960</th>\n",
       "      <td>/n/data1/hms/dbmi/farhat/cetr_strains/good_wgs...</td>\n",
       "      <td>CETR</td>\n",
       "      <td>MMPC00000000</td>\n",
       "      <td>Peru4668</td>\n",
       "      <td>2</td>\n",
       "      <td>Peru4668</td>\n",
       "      <td>longitudinal</td>\n",
       "    </tr>\n",
       "    <tr>\n",
       "      <th>2491</th>\n",
       "      <td>/n/data1/hms/dbmi/farhat/cetr_strains/good_wgs...</td>\n",
       "      <td>CETR</td>\n",
       "      <td>MMZT00000000</td>\n",
       "      <td>Peru4903</td>\n",
       "      <td>1</td>\n",
       "      <td>Peru4903</td>\n",
       "      <td>longitudinal</td>\n",
       "    </tr>\n",
       "  </tbody>\n",
       "</table>\n",
       "</div>"
      ],
      "text/plain": [
       "                                                  fastq_files population  \\\n",
       "patient_id                                                                 \n",
       "P000183     /n/data1/hms/dbmi/farhat/fastq_db/walker/ERR03...     WALKER   \n",
       "P000183     /n/data1/hms/dbmi/farhat/fastq_db/walker/ERR03...     WALKER   \n",
       "1960        /n/data1/hms/dbmi/farhat/cetr_strains/good_wgs...       CETR   \n",
       "1960        /n/data1/hms/dbmi/farhat/cetr_strains/good_wgs...       CETR   \n",
       "2491        /n/data1/hms/dbmi/farhat/cetr_strains/good_wgs...       CETR   \n",
       "\n",
       "                  run_ID sample_ID  sample_order        tag  isolate_type  \n",
       "patient_id                                                                 \n",
       "P000183        ERR039337       NaN             1  ERR039337  longitudinal  \n",
       "P000183        ERR039338       NaN             2  ERR039338  longitudinal  \n",
       "1960        MMJA00000000  Peru5115             1   Peru5115  longitudinal  \n",
       "1960        MMPC00000000  Peru4668             2   Peru4668  longitudinal  \n",
       "2491        MMZT00000000  Peru4903             1   Peru4903  longitudinal  "
      ]
     },
     "execution_count": 7,
     "metadata": {},
     "output_type": "execute_result"
    }
   ],
   "source": [
    "sample_annotation.head()"
   ]
  },
  {
   "cell_type": "code",
   "execution_count": 8,
   "metadata": {},
   "outputs": [
    {
     "data": {
      "text/plain": [
       "(400, 7)"
      ]
     },
     "execution_count": 8,
     "metadata": {},
     "output_type": "execute_result"
    }
   ],
   "source": [
    "np.shape(sample_annotation)"
   ]
  },
  {
   "cell_type": "code",
   "execution_count": 14,
   "metadata": {},
   "outputs": [],
   "source": [
    "from itertools import compress\n",
    "import time\n",
    "import sys\n",
    "import pickle\n",
    "import matplotlib.pyplot as plt\n",
    "import matplotlib as mpl\n",
    "import matplotlib.ticker as ticker\n",
    "from pylab import plot, show, savefig, xlim, figure, hold, ylim, legend, boxplot, setp, axes\n",
    "from itertools import compress\n",
    "from pylab import MaxNLocator\n",
    "import seaborn as sns; sns.set()\n",
    "from matplotlib.colors import LogNorm\n",
    "from matplotlib import gridspec\n",
    "import ast\n",
    "import itertools\n",
    "import seaborn as sns\n",
    "from sklearn.preprocessing import StandardScaler"
   ]
  },
  {
   "cell_type": "code",
   "execution_count": 27,
   "metadata": {},
   "outputs": [
    {
     "name": "stdout",
     "output_type": "stream",
     "text": [
      "0.05\n",
      "0.1\n",
      "0.15\n",
      "0.2\n",
      "0.25\n",
      "0.3\n",
      "0.35\n",
      "0.4\n",
      "0.45\n",
      "0.5\n",
      "0.55\n",
      "0.6\n",
      "0.65\n",
      "0.7\n",
      "0.75\n",
      "0.8\n",
      "0.85\n",
      "0.9\n",
      "0.95\n"
     ]
    }
   ],
   "source": [
    "#genomic data directory\n",
    "rolling_DB_dir = '/n/data1/hms/dbmi/farhat/Roger/inhost_TB_dynamics_project/JankyPipe/output/'\n",
    "\n",
    "#get all folders (each folder corresponds to a different sequenced isolate)\n",
    "isolate_directories = list(sample_annotation.tag)\n",
    "\n",
    "#dictionary that stores the mean coverage for each isolate (that successfully ran through megapipe2.0) from QUALIMAP\n",
    "mean_coverage_dict = {} #key: isolate_ID , value: mean coverage\n",
    "\n",
    "#iterate through each sequenced isolate\n",
    "isolate_i = 0\n",
    "\n",
    "for isolate_ID in isolate_directories:\n",
    "\n",
    "    #directory that stores files for each sequenced isolate\n",
    "    directory_for_sequenced_isolate = rolling_DB_dir + isolate_ID\n",
    "\n",
    "    #check to see if megapipe successfully ran on sequenced isolate\n",
    "    try:\n",
    "        #existence of a PILON and QUALIMAP directories and corresponding VCF file [there's also an option for FAST-LINEAGE-CALLER]\n",
    "        if ( 'pilon' in os.listdir(directory_for_sequenced_isolate) ) and ( 'QualiMap' in os.listdir(directory_for_sequenced_isolate) ):\n",
    "            \n",
    "            #existence of a VCF and GENOME-QUALITY files in relevent directories [there's also an option for LINEAGE]\n",
    "            if ( 'vcf' in list( itertools.chain.from_iterable( [filename.split('.') for filename in os.listdir(directory_for_sequenced_isolate + '/pilon/')] ) ) ) and ( 'genome_results.txt' in os.listdir(directory_for_sequenced_isolate + '/QualiMap/') ):\n",
    "                \n",
    "                #we have a valid VCF and Quality-Map (and Lineage file?) file so megapipe ran successfully, let's keep the variant call information for this sequenced isolate and look for qualimap, lineage call data as well\n",
    "                \n",
    "                #QUALIMAP DATA\n",
    "                ########################################################################################################################\n",
    "                #look for qualimap output txt file that has mean coverage & mean read length\n",
    "                qualimap_BAM_file_stats = directory_for_sequenced_isolate + '/QualiMap/' + 'genome_results.txt'\n",
    "\n",
    "                #parse qualimap txt file and store the mean coverage for the BWA mapping (BAM file) & mean read length\n",
    "                with open(qualimap_BAM_file_stats ,'r') as f:\n",
    "\n",
    "                    #iterate through lines in text file\n",
    "                    for stat_per_line in f:\n",
    "\n",
    "                        #find the mean coverage for mapping\n",
    "                        if 'mean coverageData' in stat_per_line:\n",
    "                            \n",
    "                            mean_coverage = float( stat_per_line.split('=')[-1][:-2].replace(',' , '') )\n",
    "                            mean_coverage_dict[isolate_ID] = mean_coverage\n",
    "                            \n",
    "                            break #once we have mean coverage\n",
    "                ########################################################################################################################\n",
    "                \n",
    "                #keep track of progress   \n",
    "                isolate_i += 1\n",
    "                if isolate_i % np.ceil(0.05*len(isolate_directories)) == 0:\n",
    "                    print float(isolate_i) / float(len(isolate_directories))\n",
    "        \n",
    "    except OSError: #hit some file that is not another directory with genomic data \n",
    "        continue"
   ]
  },
  {
   "cell_type": "code",
   "execution_count": 28,
   "metadata": {},
   "outputs": [],
   "source": [
    "mean_coverage_DF = pd.DataFrame()\n",
    "\n",
    "mean_coverage_series = pd.Series(mean_coverage_dict)\n",
    "\n",
    "mean_coverage_DF['mean_coverage'] = mean_coverage_series\n",
    "mean_coverage_DF['isolate_ID'] = mean_coverage_DF.index"
   ]
  },
  {
   "cell_type": "code",
   "execution_count": 29,
   "metadata": {},
   "outputs": [
    {
     "data": {
      "text/html": [
       "<div>\n",
       "<style>\n",
       "    .dataframe thead tr:only-child th {\n",
       "        text-align: right;\n",
       "    }\n",
       "\n",
       "    .dataframe thead th {\n",
       "        text-align: left;\n",
       "    }\n",
       "\n",
       "    .dataframe tbody tr th {\n",
       "        vertical-align: top;\n",
       "    }\n",
       "</style>\n",
       "<table border=\"1\" class=\"dataframe\">\n",
       "  <thead>\n",
       "    <tr style=\"text-align: right;\">\n",
       "      <th></th>\n",
       "      <th>mean_coverage</th>\n",
       "      <th>isolate_ID</th>\n",
       "    </tr>\n",
       "  </thead>\n",
       "  <tbody>\n",
       "    <tr>\n",
       "      <th>ERR025846</th>\n",
       "      <td>144.2826</td>\n",
       "      <td>ERR025846</td>\n",
       "    </tr>\n",
       "    <tr>\n",
       "      <th>ERR025847</th>\n",
       "      <td>94.7828</td>\n",
       "      <td>ERR025847</td>\n",
       "    </tr>\n",
       "    <tr>\n",
       "      <th>ERR036189</th>\n",
       "      <td>281.9261</td>\n",
       "      <td>ERR036189</td>\n",
       "    </tr>\n",
       "    <tr>\n",
       "      <th>ERR036195</th>\n",
       "      <td>139.9493</td>\n",
       "      <td>ERR036195</td>\n",
       "    </tr>\n",
       "    <tr>\n",
       "      <th>ERR037467</th>\n",
       "      <td>244.1663</td>\n",
       "      <td>ERR037467</td>\n",
       "    </tr>\n",
       "  </tbody>\n",
       "</table>\n",
       "</div>"
      ],
      "text/plain": [
       "           mean_coverage isolate_ID\n",
       "ERR025846       144.2826  ERR025846\n",
       "ERR025847        94.7828  ERR025847\n",
       "ERR036189       281.9261  ERR036189\n",
       "ERR036195       139.9493  ERR036195\n",
       "ERR037467       244.1663  ERR037467"
      ]
     },
     "execution_count": 29,
     "metadata": {},
     "output_type": "execute_result"
    }
   ],
   "source": [
    "mean_coverage_DF.head()"
   ]
  },
  {
   "cell_type": "code",
   "execution_count": 30,
   "metadata": {},
   "outputs": [
    {
     "data": {
      "text/plain": [
       "(397, 2)"
      ]
     },
     "execution_count": 30,
     "metadata": {},
     "output_type": "execute_result"
    }
   ],
   "source": [
    "np.shape(mean_coverage_DF)"
   ]
  },
  {
   "cell_type": "markdown",
   "metadata": {},
   "source": [
    "Average Coverage across isolates"
   ]
  },
  {
   "cell_type": "code",
   "execution_count": 32,
   "metadata": {},
   "outputs": [
    {
     "data": {
      "text/plain": [
       "185.900731234257"
      ]
     },
     "execution_count": 32,
     "metadata": {},
     "output_type": "execute_result"
    }
   ],
   "source": [
    "mean_coverage_DF.mean_coverage.mean()"
   ]
  }
 ],
 "metadata": {
  "kernelspec": {
   "display_name": "Python 2",
   "language": "python",
   "name": "python2"
  },
  "language_info": {
   "codemirror_mode": {
    "name": "ipython",
    "version": 2
   },
   "file_extension": ".py",
   "mimetype": "text/x-python",
   "name": "python",
   "nbconvert_exporter": "python",
   "pygments_lexer": "ipython2",
   "version": "2.7.16"
  }
 },
 "nbformat": 4,
 "nbformat_minor": 2
}
