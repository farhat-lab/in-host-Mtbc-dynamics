{
 "cells": [
  {
   "cell_type": "code",
   "execution_count": 3,
   "metadata": {},
   "outputs": [
    {
     "data": {
      "text/html": [
       "<style>.container { width:100% !important; }</style>"
      ],
      "text/plain": [
       "<IPython.core.display.HTML object>"
      ]
     },
     "metadata": {},
     "output_type": "display_data"
    }
   ],
   "source": [
    "from IPython.core.display import display, HTML\n",
    "display(HTML(\"<style>.container { width:100% !important; }</style>\"))"
   ]
  },
  {
   "cell_type": "markdown",
   "metadata": {},
   "source": [
    "#### This notebook was created to analyze the timing between samples for three different categories of longitudinal samples (patients), those with: *mixed* infection (defined by F2 mixed measure), *re-infection* (defined by fSNP distance) and *persistent*/*clonal* infection"
   ]
  },
  {
   "cell_type": "code",
   "execution_count": 4,
   "metadata": {},
   "outputs": [],
   "source": [
    "import vcf\n",
    "\n",
    "%matplotlib inline\n",
    "import os\n",
    "import pandas as pd\n",
    "import numpy as np\n",
    "import matplotlib.pyplot as plt\n",
    "import matplotlib as mpl\n",
    "import matplotlib.ticker as ticker\n",
    "from pylab import plot, show, savefig, xlim, figure, hold, ylim, legend, boxplot, setp, axes\n",
    "from itertools import compress\n",
    "from pylab import MaxNLocator\n",
    "import seaborn as sns; sns.set()\n",
    "from matplotlib.colors import LogNorm\n",
    "from matplotlib import gridspec\n",
    "from matplotlib.gridspec import GridSpec\n",
    "import ast\n",
    "import itertools\n",
    "import seaborn as sns\n",
    "from sklearn.preprocessing import StandardScaler\n",
    "\n",
    "import fastcluster\n",
    "from sklearn import cluster, datasets\n",
    "import scipy.cluster.hierarchy as hier\n",
    "from sklearn.cluster import KMeans\n",
    "import time\n",
    "import sys\n",
    "\n",
    "import Bio\n",
    "from Bio.Alphabet import IUPAC\n",
    "from Bio.Blast.Applications import NcbiblastnCommandline\n",
    "from Bio.Blast import NCBIXML\n",
    "from Bio.Seq import Seq\n",
    "from Bio.SeqRecord import SeqRecord\n",
    "from Bio.SeqFeature import SeqFeature, FeatureLocation\n",
    "from Bio import pairwise2\n",
    "from Bio import SeqIO\n",
    "from Bio.Graphics import GenomeDiagram\n",
    "from Bio.SeqUtils import GC\n",
    "\n",
    "from Bio.Align.Applications import MuscleCommandline\n",
    "from StringIO import StringIO\n",
    "from Bio import AlignIO\n",
    "from Bio.Align import AlignInfo\n",
    "from Bio.Seq import MutableSeq\n",
    "import itertools\n",
    "\n",
    "import networkx as nx\n",
    "import scipy\n",
    "\n",
    "#for exporting to Adobe Illustrator\n",
    "mpl.rcParams['pdf.fonttype'] = 42\n",
    "mpl.rcParams['ps.fonttype'] = 42"
   ]
  },
  {
   "cell_type": "markdown",
   "metadata": {},
   "source": [
    "######################################################################################################################################################################################################################################################################"
   ]
  },
  {
   "cell_type": "markdown",
   "metadata": {},
   "source": [
    "## Sample Annotation for all (unfiltered) Longitudinal Isolate pairs"
   ]
  },
  {
   "cell_type": "markdown",
   "metadata": {},
   "source": [
    "######################################################################################################################################################################################################################################################################"
   ]
  },
  {
   "cell_type": "code",
   "execution_count": 5,
   "metadata": {},
   "outputs": [],
   "source": [
    "sample_annotation_longitudinal = pd.read_csv('/n/data1/hms/dbmi/farhat/Roger/inhost_TB_dynamics_project/CSV_files/sample_annotation_files/cetr_casali_walker_trauner_witney_xu_guerra_bryant_fastq_path_names_and_JankyPipe_tags.csv' , sep  = ',').set_index('patient_id')"
   ]
  },
  {
   "cell_type": "code",
   "execution_count": 6,
   "metadata": {},
   "outputs": [
    {
     "data": {
      "text/plain": [
       "(614, 7)"
      ]
     },
     "execution_count": 6,
     "metadata": {},
     "output_type": "execute_result"
    }
   ],
   "source": [
    "np.shape(sample_annotation_longitudinal)"
   ]
  },
  {
   "cell_type": "code",
   "execution_count": 7,
   "metadata": {},
   "outputs": [
    {
     "data": {
      "text/html": [
       "<div>\n",
       "<style>\n",
       "    .dataframe thead tr:only-child th {\n",
       "        text-align: right;\n",
       "    }\n",
       "\n",
       "    .dataframe thead th {\n",
       "        text-align: left;\n",
       "    }\n",
       "\n",
       "    .dataframe tbody tr th {\n",
       "        vertical-align: top;\n",
       "    }\n",
       "</style>\n",
       "<table border=\"1\" class=\"dataframe\">\n",
       "  <thead>\n",
       "    <tr style=\"text-align: right;\">\n",
       "      <th></th>\n",
       "      <th>Unnamed: 0</th>\n",
       "      <th>fastq_files</th>\n",
       "      <th>population</th>\n",
       "      <th>run_ID</th>\n",
       "      <th>sample_ID</th>\n",
       "      <th>sample_order</th>\n",
       "      <th>tag</th>\n",
       "    </tr>\n",
       "    <tr>\n",
       "      <th>patient_id</th>\n",
       "      <th></th>\n",
       "      <th></th>\n",
       "      <th></th>\n",
       "      <th></th>\n",
       "      <th></th>\n",
       "      <th></th>\n",
       "      <th></th>\n",
       "    </tr>\n",
       "  </thead>\n",
       "  <tbody>\n",
       "    <tr>\n",
       "      <th>I0005973-8</th>\n",
       "      <td>0</td>\n",
       "      <td>/n/data1/hms/dbmi/farhat/cetr_strains/good_wgs...</td>\n",
       "      <td>CETR</td>\n",
       "      <td>MQFF00000000</td>\n",
       "      <td>Peru3062</td>\n",
       "      <td>1</td>\n",
       "      <td>Peru3062</td>\n",
       "    </tr>\n",
       "    <tr>\n",
       "      <th>I0005973-8</th>\n",
       "      <td>1</td>\n",
       "      <td>/n/data1/hms/dbmi/farhat/cetr_strains/good_wgs...</td>\n",
       "      <td>CETR</td>\n",
       "      <td>MQKH00000000</td>\n",
       "      <td>Peru3315</td>\n",
       "      <td>2</td>\n",
       "      <td>Peru3315</td>\n",
       "    </tr>\n",
       "    <tr>\n",
       "      <th>I0005229-5</th>\n",
       "      <td>2</td>\n",
       "      <td>/n/data1/hms/dbmi/farhat/cetr_strains/good_wgs...</td>\n",
       "      <td>CETR</td>\n",
       "      <td>MQAO00000000</td>\n",
       "      <td>Peru2908</td>\n",
       "      <td>1</td>\n",
       "      <td>Peru2908</td>\n",
       "    </tr>\n",
       "    <tr>\n",
       "      <th>I0005229-5</th>\n",
       "      <td>3</td>\n",
       "      <td>/n/data1/hms/dbmi/farhat/cetr_strains/good_wgs...</td>\n",
       "      <td>CETR</td>\n",
       "      <td>MQKD00000000</td>\n",
       "      <td>Peru3278</td>\n",
       "      <td>2</td>\n",
       "      <td>Peru3278</td>\n",
       "    </tr>\n",
       "    <tr>\n",
       "      <th>I0005235-2</th>\n",
       "      <td>4</td>\n",
       "      <td>/n/data1/hms/dbmi/farhat/cetr_strains/good_wgs...</td>\n",
       "      <td>CETR</td>\n",
       "      <td>MQBA00000000</td>\n",
       "      <td>Peru2921</td>\n",
       "      <td>1</td>\n",
       "      <td>Peru2921</td>\n",
       "    </tr>\n",
       "  </tbody>\n",
       "</table>\n",
       "</div>"
      ],
      "text/plain": [
       "            Unnamed: 0                                        fastq_files  \\\n",
       "patient_id                                                                  \n",
       "I0005973-8           0  /n/data1/hms/dbmi/farhat/cetr_strains/good_wgs...   \n",
       "I0005973-8           1  /n/data1/hms/dbmi/farhat/cetr_strains/good_wgs...   \n",
       "I0005229-5           2  /n/data1/hms/dbmi/farhat/cetr_strains/good_wgs...   \n",
       "I0005229-5           3  /n/data1/hms/dbmi/farhat/cetr_strains/good_wgs...   \n",
       "I0005235-2           4  /n/data1/hms/dbmi/farhat/cetr_strains/good_wgs...   \n",
       "\n",
       "           population        run_ID sample_ID  sample_order       tag  \n",
       "patient_id                                                             \n",
       "I0005973-8       CETR  MQFF00000000  Peru3062             1  Peru3062  \n",
       "I0005973-8       CETR  MQKH00000000  Peru3315             2  Peru3315  \n",
       "I0005229-5       CETR  MQAO00000000  Peru2908             1  Peru2908  \n",
       "I0005229-5       CETR  MQKD00000000  Peru3278             2  Peru3278  \n",
       "I0005235-2       CETR  MQBA00000000  Peru2921             1  Peru2921  "
      ]
     },
     "execution_count": 7,
     "metadata": {},
     "output_type": "execute_result"
    }
   ],
   "source": [
    "sample_annotation_longitudinal.head()"
   ]
  },
  {
   "cell_type": "markdown",
   "metadata": {},
   "source": [
    "### F2 Mixed Measure contaminated samples"
   ]
  },
  {
   "cell_type": "code",
   "execution_count": 8,
   "metadata": {},
   "outputs": [],
   "source": [
    "patients_contaminated_by_F2 = ['3162L', 'I0004290-8', '2459', 'KPS_45', 'KPS_40', 'KPS_43', 'KPS_42', '3145', 'KPS_83', 'KPS_8', '2014W', '2', '1674', '1671', 'KPS_32', 'KPS_78', '1117N', '3641', '21', '1646', 'I0001485-7', 'I0002074-8', '3443', 'KPS_65', 'KPS_63', 'KPS_69', '1669', '1667', 'KPS_20', '4098U', 'KPS_25']"
   ]
  },
  {
   "cell_type": "code",
   "execution_count": 9,
   "metadata": {},
   "outputs": [
    {
     "data": {
      "text/plain": [
       "31"
      ]
     },
     "execution_count": 9,
     "metadata": {},
     "output_type": "execute_result"
    }
   ],
   "source": [
    "len(patients_contaminated_by_F2)"
   ]
  },
  {
   "cell_type": "code",
   "execution_count": 10,
   "metadata": {},
   "outputs": [],
   "source": [
    "sample_annotation_F2_contaminated = sample_annotation_longitudinal.loc[patients_contaminated_by_F2 , :]"
   ]
  },
  {
   "cell_type": "code",
   "execution_count": 11,
   "metadata": {},
   "outputs": [
    {
     "data": {
      "text/plain": [
       "(62, 7)"
      ]
     },
     "execution_count": 11,
     "metadata": {},
     "output_type": "execute_result"
    }
   ],
   "source": [
    "np.shape(sample_annotation_F2_contaminated)"
   ]
  },
  {
   "cell_type": "code",
   "execution_count": 12,
   "metadata": {},
   "outputs": [
    {
     "data": {
      "text/html": [
       "<div>\n",
       "<style>\n",
       "    .dataframe thead tr:only-child th {\n",
       "        text-align: right;\n",
       "    }\n",
       "\n",
       "    .dataframe thead th {\n",
       "        text-align: left;\n",
       "    }\n",
       "\n",
       "    .dataframe tbody tr th {\n",
       "        vertical-align: top;\n",
       "    }\n",
       "</style>\n",
       "<table border=\"1\" class=\"dataframe\">\n",
       "  <thead>\n",
       "    <tr style=\"text-align: right;\">\n",
       "      <th></th>\n",
       "      <th>Unnamed: 0</th>\n",
       "      <th>fastq_files</th>\n",
       "      <th>population</th>\n",
       "      <th>run_ID</th>\n",
       "      <th>sample_ID</th>\n",
       "      <th>sample_order</th>\n",
       "      <th>tag</th>\n",
       "    </tr>\n",
       "    <tr>\n",
       "      <th>patient_id</th>\n",
       "      <th></th>\n",
       "      <th></th>\n",
       "      <th></th>\n",
       "      <th></th>\n",
       "      <th></th>\n",
       "      <th></th>\n",
       "      <th></th>\n",
       "    </tr>\n",
       "  </thead>\n",
       "  <tbody>\n",
       "    <tr>\n",
       "      <th>3162L</th>\n",
       "      <td>560</td>\n",
       "      <td>/n/data1/hms/dbmi/farhat/fastq_db/bryant/ERR17...</td>\n",
       "      <td>BRYANT</td>\n",
       "      <td>ERR171166</td>\n",
       "      <td>401391.0</td>\n",
       "      <td>1</td>\n",
       "      <td>ERR171166</td>\n",
       "    </tr>\n",
       "    <tr>\n",
       "      <th>3162L</th>\n",
       "      <td>561</td>\n",
       "      <td>/n/data1/hms/dbmi/farhat/fastq_db/bryant/ERR17...</td>\n",
       "      <td>BRYANT</td>\n",
       "      <td>ERR171167</td>\n",
       "      <td>402713.0</td>\n",
       "      <td>2</td>\n",
       "      <td>ERR171167</td>\n",
       "    </tr>\n",
       "    <tr>\n",
       "      <th>I0004290-8</th>\n",
       "      <td>10</td>\n",
       "      <td>/n/data1/hms/dbmi/farhat/cetr_strains/good_wgs...</td>\n",
       "      <td>CETR</td>\n",
       "      <td>MQDN00000000</td>\n",
       "      <td>Peru3011</td>\n",
       "      <td>1</td>\n",
       "      <td>Peru3011</td>\n",
       "    </tr>\n",
       "    <tr>\n",
       "      <th>I0004290-8</th>\n",
       "      <td>11</td>\n",
       "      <td>/n/data1/hms/dbmi/farhat/cetr_strains/good_wgs...</td>\n",
       "      <td>CETR</td>\n",
       "      <td>MQIU00000000</td>\n",
       "      <td>Peru3365</td>\n",
       "      <td>2</td>\n",
       "      <td>Peru3365</td>\n",
       "    </tr>\n",
       "    <tr>\n",
       "      <th>2459</th>\n",
       "      <td>110</td>\n",
       "      <td>/n/data1/hms/dbmi/farhat/cetr_strains/good_wgs...</td>\n",
       "      <td>CETR</td>\n",
       "      <td>MMYC00000000</td>\n",
       "      <td>Peru4946</td>\n",
       "      <td>1</td>\n",
       "      <td>Peru4946</td>\n",
       "    </tr>\n",
       "  </tbody>\n",
       "</table>\n",
       "</div>"
      ],
      "text/plain": [
       "            Unnamed: 0                                        fastq_files  \\\n",
       "patient_id                                                                  \n",
       "3162L              560  /n/data1/hms/dbmi/farhat/fastq_db/bryant/ERR17...   \n",
       "3162L              561  /n/data1/hms/dbmi/farhat/fastq_db/bryant/ERR17...   \n",
       "I0004290-8          10  /n/data1/hms/dbmi/farhat/cetr_strains/good_wgs...   \n",
       "I0004290-8          11  /n/data1/hms/dbmi/farhat/cetr_strains/good_wgs...   \n",
       "2459               110  /n/data1/hms/dbmi/farhat/cetr_strains/good_wgs...   \n",
       "\n",
       "           population        run_ID sample_ID  sample_order        tag  \n",
       "patient_id                                                              \n",
       "3162L          BRYANT     ERR171166  401391.0             1  ERR171166  \n",
       "3162L          BRYANT     ERR171167  402713.0             2  ERR171167  \n",
       "I0004290-8       CETR  MQDN00000000  Peru3011             1   Peru3011  \n",
       "I0004290-8       CETR  MQIU00000000  Peru3365             2   Peru3365  \n",
       "2459             CETR  MMYC00000000  Peru4946             1   Peru4946  "
      ]
     },
     "execution_count": 12,
     "metadata": {},
     "output_type": "execute_result"
    }
   ],
   "source": [
    "sample_annotation_F2_contaminated.head()"
   ]
  },
  {
   "cell_type": "markdown",
   "metadata": {},
   "source": [
    "#### Export Sample Annotation to CSV for modifying by inclusion of times between isolate collection"
   ]
  },
  {
   "cell_type": "code",
   "execution_count": 13,
   "metadata": {},
   "outputs": [
    {
     "name": "stderr",
     "output_type": "stream",
     "text": [
      "/home/rv76/anaconda2/lib/python2.7/site-packages/ipykernel_launcher.py:1: SettingWithCopyWarning: \n",
      "A value is trying to be set on a copy of a slice from a DataFrame\n",
      "\n",
      "See the caveats in the documentation: http://pandas.pydata.org/pandas-docs/stable/indexing.html#indexing-view-versus-copy\n",
      "  \"\"\"Entry point for launching an IPython kernel.\n",
      "/home/rv76/anaconda2/lib/python2.7/site-packages/ipykernel_launcher.py:2: SettingWithCopyWarning: \n",
      "A value is trying to be set on a copy of a slice from a DataFrame.\n",
      "Try using .loc[row_indexer,col_indexer] = value instead\n",
      "\n",
      "See the caveats in the documentation: http://pandas.pydata.org/pandas-docs/stable/indexing.html#indexing-view-versus-copy\n",
      "  \n",
      "/home/rv76/anaconda2/lib/python2.7/site-packages/ipykernel_launcher.py:3: SettingWithCopyWarning: \n",
      "A value is trying to be set on a copy of a slice from a DataFrame\n",
      "\n",
      "See the caveats in the documentation: http://pandas.pydata.org/pandas-docs/stable/indexing.html#indexing-view-versus-copy\n",
      "  This is separate from the ipykernel package so we can avoid doing imports until\n"
     ]
    }
   ],
   "source": [
    "sample_annotation_F2_contaminated.drop(labels = ['fastq_files' , 'Unnamed: 0'] , axis = 1 , inplace = True)\n",
    "sample_annotation_F2_contaminated['patient_id'] = list(sample_annotation_F2_contaminated.index)\n",
    "sample_annotation_F2_contaminated.sort_values(by = ['population' , 'patient_id' , 'sample_order'] , inplace = True)\n",
    "sample_annotation_F2_contaminated.reset_index(inplace = True , drop = True)\n",
    "sample_annotation_F2_contaminated.to_csv('/n/data1/hms/dbmi/farhat/Roger/inhost_TB_dynamics_project/CSV_files/sample_annotation_files/contaminated_samples/F2_contaminated_longitudinal_sample_annotation.csv' , sep  = ',')"
   ]
  },
  {
   "cell_type": "code",
   "execution_count": 14,
   "metadata": {},
   "outputs": [
    {
     "data": {
      "text/html": [
       "<div>\n",
       "<style>\n",
       "    .dataframe thead tr:only-child th {\n",
       "        text-align: right;\n",
       "    }\n",
       "\n",
       "    .dataframe thead th {\n",
       "        text-align: left;\n",
       "    }\n",
       "\n",
       "    .dataframe tbody tr th {\n",
       "        vertical-align: top;\n",
       "    }\n",
       "</style>\n",
       "<table border=\"1\" class=\"dataframe\">\n",
       "  <thead>\n",
       "    <tr style=\"text-align: right;\">\n",
       "      <th></th>\n",
       "      <th>population</th>\n",
       "      <th>run_ID</th>\n",
       "      <th>sample_ID</th>\n",
       "      <th>sample_order</th>\n",
       "      <th>tag</th>\n",
       "      <th>patient_id</th>\n",
       "    </tr>\n",
       "  </thead>\n",
       "  <tbody>\n",
       "    <tr>\n",
       "      <th>0</th>\n",
       "      <td>BRYANT</td>\n",
       "      <td>ERR171155</td>\n",
       "      <td>1500034.0</td>\n",
       "      <td>1</td>\n",
       "      <td>ERR171155</td>\n",
       "      <td>1117N</td>\n",
       "    </tr>\n",
       "    <tr>\n",
       "      <th>1</th>\n",
       "      <td>BRYANT</td>\n",
       "      <td>ERR171154</td>\n",
       "      <td>1500283.0</td>\n",
       "      <td>2</td>\n",
       "      <td>ERR171154</td>\n",
       "      <td>1117N</td>\n",
       "    </tr>\n",
       "    <tr>\n",
       "      <th>2</th>\n",
       "      <td>BRYANT</td>\n",
       "      <td>ERR108127</td>\n",
       "      <td>300239.0</td>\n",
       "      <td>1</td>\n",
       "      <td>ERR108127</td>\n",
       "      <td>2014W</td>\n",
       "    </tr>\n",
       "    <tr>\n",
       "      <th>3</th>\n",
       "      <td>BRYANT</td>\n",
       "      <td>ERR108128</td>\n",
       "      <td>301725.0</td>\n",
       "      <td>2</td>\n",
       "      <td>ERR108128</td>\n",
       "      <td>2014W</td>\n",
       "    </tr>\n",
       "    <tr>\n",
       "      <th>4</th>\n",
       "      <td>BRYANT</td>\n",
       "      <td>ERR171166</td>\n",
       "      <td>401391.0</td>\n",
       "      <td>1</td>\n",
       "      <td>ERR171166</td>\n",
       "      <td>3162L</td>\n",
       "    </tr>\n",
       "  </tbody>\n",
       "</table>\n",
       "</div>"
      ],
      "text/plain": [
       "  population     run_ID  sample_ID  sample_order        tag patient_id\n",
       "0     BRYANT  ERR171155  1500034.0             1  ERR171155      1117N\n",
       "1     BRYANT  ERR171154  1500283.0             2  ERR171154      1117N\n",
       "2     BRYANT  ERR108127   300239.0             1  ERR108127      2014W\n",
       "3     BRYANT  ERR108128   301725.0             2  ERR108128      2014W\n",
       "4     BRYANT  ERR171166   401391.0             1  ERR171166      3162L"
      ]
     },
     "execution_count": 14,
     "metadata": {},
     "output_type": "execute_result"
    }
   ],
   "source": [
    "sample_annotation_F2_contaminated.head()"
   ]
  },
  {
   "cell_type": "markdown",
   "metadata": {},
   "source": [
    "### fSNP Threshold  contaminated samples"
   ]
  },
  {
   "cell_type": "code",
   "execution_count": 15,
   "metadata": {},
   "outputs": [],
   "source": [
    "patients_contaminated_by_fSNP = ['2718', 'KPS_46', 'KPS_41', '3103J', '4085U', 'KPS_80', 'I0004304-7', '3439', 'KPS_11', '3430', 'KPS_2', '1941', 'KPS_56', '1682', 'I0000221-7', '4', '1678', 'KPS_36', 'KPS_30', 'KPS_31', '4078X', 'B', 'KPS_59', 'KPS_70', 'KPS_73', 'KPS_52', 'KPS_50', 'I0001031-9', '3725', 'KPS_18', '1620', '15', 'I0004240-3', 'I0004172-8', '2492', '1657', 'KPS_67', '3100U', 'KPS_29', 'KPS_64', '3018C', '2047T', 'I0003710-6', 'P000035']"
   ]
  },
  {
   "cell_type": "code",
   "execution_count": 16,
   "metadata": {},
   "outputs": [
    {
     "data": {
      "text/plain": [
       "44"
      ]
     },
     "execution_count": 16,
     "metadata": {},
     "output_type": "execute_result"
    }
   ],
   "source": [
    "len(patients_contaminated_by_fSNP)"
   ]
  },
  {
   "cell_type": "code",
   "execution_count": 17,
   "metadata": {},
   "outputs": [],
   "source": [
    "sample_annotation_fSNP_contaminated = sample_annotation_longitudinal.loc[patients_contaminated_by_fSNP , :]"
   ]
  },
  {
   "cell_type": "code",
   "execution_count": 18,
   "metadata": {},
   "outputs": [
    {
     "data": {
      "text/plain": [
       "(88, 7)"
      ]
     },
     "execution_count": 18,
     "metadata": {},
     "output_type": "execute_result"
    }
   ],
   "source": [
    "np.shape(sample_annotation_fSNP_contaminated)"
   ]
  },
  {
   "cell_type": "code",
   "execution_count": 19,
   "metadata": {},
   "outputs": [
    {
     "data": {
      "text/html": [
       "<div>\n",
       "<style>\n",
       "    .dataframe thead tr:only-child th {\n",
       "        text-align: right;\n",
       "    }\n",
       "\n",
       "    .dataframe thead th {\n",
       "        text-align: left;\n",
       "    }\n",
       "\n",
       "    .dataframe tbody tr th {\n",
       "        vertical-align: top;\n",
       "    }\n",
       "</style>\n",
       "<table border=\"1\" class=\"dataframe\">\n",
       "  <thead>\n",
       "    <tr style=\"text-align: right;\">\n",
       "      <th></th>\n",
       "      <th>Unnamed: 0</th>\n",
       "      <th>fastq_files</th>\n",
       "      <th>population</th>\n",
       "      <th>run_ID</th>\n",
       "      <th>sample_ID</th>\n",
       "      <th>sample_order</th>\n",
       "      <th>tag</th>\n",
       "    </tr>\n",
       "    <tr>\n",
       "      <th>patient_id</th>\n",
       "      <th></th>\n",
       "      <th></th>\n",
       "      <th></th>\n",
       "      <th></th>\n",
       "      <th></th>\n",
       "      <th></th>\n",
       "      <th></th>\n",
       "    </tr>\n",
       "  </thead>\n",
       "  <tbody>\n",
       "    <tr>\n",
       "      <th>2718</th>\n",
       "      <td>124</td>\n",
       "      <td>/n/data1/hms/dbmi/farhat/cetr_strains/good_wgs...</td>\n",
       "      <td>CETR</td>\n",
       "      <td>MRDO00000000</td>\n",
       "      <td>Peru5134</td>\n",
       "      <td>1</td>\n",
       "      <td>Peru5134</td>\n",
       "    </tr>\n",
       "    <tr>\n",
       "      <th>2718</th>\n",
       "      <td>125</td>\n",
       "      <td>/n/data1/hms/dbmi/farhat/cetr_strains/good_wgs...</td>\n",
       "      <td>CETR</td>\n",
       "      <td>MMGA00000000</td>\n",
       "      <td>Peru4741</td>\n",
       "      <td>2</td>\n",
       "      <td>Peru4741</td>\n",
       "    </tr>\n",
       "    <tr>\n",
       "      <th>KPS_46</th>\n",
       "      <td>450</td>\n",
       "      <td>/n/data1/hms/dbmi/farhat/fastq_db/guerra/ERR17...</td>\n",
       "      <td>GUERRA</td>\n",
       "      <td>ERR176649</td>\n",
       "      <td>NaN</td>\n",
       "      <td>1</td>\n",
       "      <td>ERR176649</td>\n",
       "    </tr>\n",
       "    <tr>\n",
       "      <th>KPS_46</th>\n",
       "      <td>451</td>\n",
       "      <td>/n/data1/hms/dbmi/farhat/fastq_db/guerra/ERR19...</td>\n",
       "      <td>GUERRA</td>\n",
       "      <td>ERR190334</td>\n",
       "      <td>NaN</td>\n",
       "      <td>2</td>\n",
       "      <td>ERR190334</td>\n",
       "    </tr>\n",
       "    <tr>\n",
       "      <th>KPS_41</th>\n",
       "      <td>440</td>\n",
       "      <td>/n/data1/hms/dbmi/farhat/fastq_db/guerra/ERR17...</td>\n",
       "      <td>GUERRA</td>\n",
       "      <td>ERR176764</td>\n",
       "      <td>NaN</td>\n",
       "      <td>1</td>\n",
       "      <td>ERR176764</td>\n",
       "    </tr>\n",
       "  </tbody>\n",
       "</table>\n",
       "</div>"
      ],
      "text/plain": [
       "            Unnamed: 0                                        fastq_files  \\\n",
       "patient_id                                                                  \n",
       "2718               124  /n/data1/hms/dbmi/farhat/cetr_strains/good_wgs...   \n",
       "2718               125  /n/data1/hms/dbmi/farhat/cetr_strains/good_wgs...   \n",
       "KPS_46             450  /n/data1/hms/dbmi/farhat/fastq_db/guerra/ERR17...   \n",
       "KPS_46             451  /n/data1/hms/dbmi/farhat/fastq_db/guerra/ERR19...   \n",
       "KPS_41             440  /n/data1/hms/dbmi/farhat/fastq_db/guerra/ERR17...   \n",
       "\n",
       "           population        run_ID sample_ID  sample_order        tag  \n",
       "patient_id                                                              \n",
       "2718             CETR  MRDO00000000  Peru5134             1   Peru5134  \n",
       "2718             CETR  MMGA00000000  Peru4741             2   Peru4741  \n",
       "KPS_46         GUERRA     ERR176649       NaN             1  ERR176649  \n",
       "KPS_46         GUERRA     ERR190334       NaN             2  ERR190334  \n",
       "KPS_41         GUERRA     ERR176764       NaN             1  ERR176764  "
      ]
     },
     "execution_count": 19,
     "metadata": {},
     "output_type": "execute_result"
    }
   ],
   "source": [
    "sample_annotation_fSNP_contaminated.head()"
   ]
  },
  {
   "cell_type": "markdown",
   "metadata": {},
   "source": [
    "#### Export Sample Annotation to CSV for modifying by inclusion of times between isolate collection"
   ]
  },
  {
   "cell_type": "code",
   "execution_count": 20,
   "metadata": {},
   "outputs": [
    {
     "name": "stderr",
     "output_type": "stream",
     "text": [
      "/home/rv76/anaconda2/lib/python2.7/site-packages/ipykernel_launcher.py:1: SettingWithCopyWarning: \n",
      "A value is trying to be set on a copy of a slice from a DataFrame\n",
      "\n",
      "See the caveats in the documentation: http://pandas.pydata.org/pandas-docs/stable/indexing.html#indexing-view-versus-copy\n",
      "  \"\"\"Entry point for launching an IPython kernel.\n",
      "/home/rv76/anaconda2/lib/python2.7/site-packages/ipykernel_launcher.py:2: SettingWithCopyWarning: \n",
      "A value is trying to be set on a copy of a slice from a DataFrame.\n",
      "Try using .loc[row_indexer,col_indexer] = value instead\n",
      "\n",
      "See the caveats in the documentation: http://pandas.pydata.org/pandas-docs/stable/indexing.html#indexing-view-versus-copy\n",
      "  \n",
      "/home/rv76/anaconda2/lib/python2.7/site-packages/ipykernel_launcher.py:3: SettingWithCopyWarning: \n",
      "A value is trying to be set on a copy of a slice from a DataFrame\n",
      "\n",
      "See the caveats in the documentation: http://pandas.pydata.org/pandas-docs/stable/indexing.html#indexing-view-versus-copy\n",
      "  This is separate from the ipykernel package so we can avoid doing imports until\n"
     ]
    }
   ],
   "source": [
    "sample_annotation_fSNP_contaminated.drop(labels = ['fastq_files' , 'Unnamed: 0'] , axis = 1 , inplace = True)\n",
    "sample_annotation_fSNP_contaminated['patient_id'] = list(sample_annotation_fSNP_contaminated.index)\n",
    "sample_annotation_fSNP_contaminated.sort_values(by = ['population' , 'patient_id' , 'sample_order'] , inplace = True)\n",
    "sample_annotation_fSNP_contaminated.reset_index(inplace = True , drop = True)\n",
    "sample_annotation_fSNP_contaminated.to_csv('/n/data1/hms/dbmi/farhat/Roger/inhost_TB_dynamics_project/CSV_files/sample_annotation_files/contaminated_samples/fSNP_contaminated_longitudinal_sample_annotation.csv' , sep  = ',')"
   ]
  },
  {
   "cell_type": "code",
   "execution_count": 21,
   "metadata": {},
   "outputs": [
    {
     "data": {
      "text/html": [
       "<div>\n",
       "<style>\n",
       "    .dataframe thead tr:only-child th {\n",
       "        text-align: right;\n",
       "    }\n",
       "\n",
       "    .dataframe thead th {\n",
       "        text-align: left;\n",
       "    }\n",
       "\n",
       "    .dataframe tbody tr th {\n",
       "        vertical-align: top;\n",
       "    }\n",
       "</style>\n",
       "<table border=\"1\" class=\"dataframe\">\n",
       "  <thead>\n",
       "    <tr style=\"text-align: right;\">\n",
       "      <th></th>\n",
       "      <th>population</th>\n",
       "      <th>run_ID</th>\n",
       "      <th>sample_ID</th>\n",
       "      <th>sample_order</th>\n",
       "      <th>tag</th>\n",
       "      <th>patient_id</th>\n",
       "    </tr>\n",
       "  </thead>\n",
       "  <tbody>\n",
       "    <tr>\n",
       "      <th>0</th>\n",
       "      <td>BRYANT</td>\n",
       "      <td>ERR966621</td>\n",
       "      <td>401063.0</td>\n",
       "      <td>1</td>\n",
       "      <td>ERR966621</td>\n",
       "      <td>2047T</td>\n",
       "    </tr>\n",
       "    <tr>\n",
       "      <th>1</th>\n",
       "      <td>BRYANT</td>\n",
       "      <td>ERR108140</td>\n",
       "      <td>402106.0</td>\n",
       "      <td>2</td>\n",
       "      <td>ERR108140</td>\n",
       "      <td>2047T</td>\n",
       "    </tr>\n",
       "    <tr>\n",
       "      <th>2</th>\n",
       "      <td>BRYANT</td>\n",
       "      <td>ERR108143</td>\n",
       "      <td>300191.0</td>\n",
       "      <td>1</td>\n",
       "      <td>ERR108143</td>\n",
       "      <td>3018C</td>\n",
       "    </tr>\n",
       "    <tr>\n",
       "      <th>3</th>\n",
       "      <td>BRYANT</td>\n",
       "      <td>ERR108144</td>\n",
       "      <td>302235.0</td>\n",
       "      <td>2</td>\n",
       "      <td>ERR108144</td>\n",
       "      <td>3018C</td>\n",
       "    </tr>\n",
       "    <tr>\n",
       "      <th>4</th>\n",
       "      <td>BRYANT</td>\n",
       "      <td>ERR108152</td>\n",
       "      <td>300659.0</td>\n",
       "      <td>1</td>\n",
       "      <td>ERR108152</td>\n",
       "      <td>3100U</td>\n",
       "    </tr>\n",
       "  </tbody>\n",
       "</table>\n",
       "</div>"
      ],
      "text/plain": [
       "  population     run_ID sample_ID  sample_order        tag patient_id\n",
       "0     BRYANT  ERR966621  401063.0             1  ERR966621      2047T\n",
       "1     BRYANT  ERR108140  402106.0             2  ERR108140      2047T\n",
       "2     BRYANT  ERR108143  300191.0             1  ERR108143      3018C\n",
       "3     BRYANT  ERR108144  302235.0             2  ERR108144      3018C\n",
       "4     BRYANT  ERR108152  300659.0             1  ERR108152      3100U"
      ]
     },
     "execution_count": 21,
     "metadata": {},
     "output_type": "execute_result"
    }
   ],
   "source": [
    "sample_annotation_fSNP_contaminated.head()"
   ]
  },
  {
   "cell_type": "markdown",
   "metadata": {},
   "source": [
    "######################################################################################################################################################################################################################################################################"
   ]
  },
  {
   "cell_type": "markdown",
   "metadata": {},
   "source": [
    "## Import Annotation Files with Dates and get *time between isolate collection* for different groups of subjects"
   ]
  },
  {
   "cell_type": "markdown",
   "metadata": {},
   "source": [
    "######################################################################################################################################################################################################################################################################"
   ]
  },
  {
   "cell_type": "markdown",
   "metadata": {},
   "source": [
    "### A: F2 Mixed Measure (*mixed*)"
   ]
  },
  {
   "cell_type": "code",
   "execution_count": 22,
   "metadata": {},
   "outputs": [],
   "source": [
    "time_between_serial_isolate_collection = pd.read_csv('/n/data1/hms/dbmi/farhat/Roger/inhost_TB_dynamics_project/CSV_files/sample_annotation_files/contaminated_samples/F2_contaminated_longitudinal_sample_annotation_with_collection_times.csv').set_index('population')"
   ]
  },
  {
   "cell_type": "code",
   "execution_count": 23,
   "metadata": {
    "scrolled": false
   },
   "outputs": [
    {
     "data": {
      "text/html": [
       "<div>\n",
       "<style>\n",
       "    .dataframe thead tr:only-child th {\n",
       "        text-align: right;\n",
       "    }\n",
       "\n",
       "    .dataframe thead th {\n",
       "        text-align: left;\n",
       "    }\n",
       "\n",
       "    .dataframe tbody tr th {\n",
       "        vertical-align: top;\n",
       "    }\n",
       "</style>\n",
       "<table border=\"1\" class=\"dataframe\">\n",
       "  <thead>\n",
       "    <tr style=\"text-align: right;\">\n",
       "      <th></th>\n",
       "      <th>run_ID</th>\n",
       "      <th>sample_ID</th>\n",
       "      <th>sample_order</th>\n",
       "      <th>tag</th>\n",
       "      <th>patient_id</th>\n",
       "      <th>date_information</th>\n",
       "      <th>tube_label (cetr)</th>\n",
       "    </tr>\n",
       "    <tr>\n",
       "      <th>population</th>\n",
       "      <th></th>\n",
       "      <th></th>\n",
       "      <th></th>\n",
       "      <th></th>\n",
       "      <th></th>\n",
       "      <th></th>\n",
       "      <th></th>\n",
       "    </tr>\n",
       "  </thead>\n",
       "  <tbody>\n",
       "    <tr>\n",
       "      <th>BRYANT</th>\n",
       "      <td>ERR171155</td>\n",
       "      <td>1500034</td>\n",
       "      <td>1</td>\n",
       "      <td>ERR171155</td>\n",
       "      <td>1117N</td>\n",
       "      <td>0</td>\n",
       "      <td>NaN</td>\n",
       "    </tr>\n",
       "    <tr>\n",
       "      <th>BRYANT</th>\n",
       "      <td>ERR171154</td>\n",
       "      <td>1500283</td>\n",
       "      <td>2</td>\n",
       "      <td>ERR171154</td>\n",
       "      <td>1117N</td>\n",
       "      <td>17</td>\n",
       "      <td>NaN</td>\n",
       "    </tr>\n",
       "    <tr>\n",
       "      <th>BRYANT</th>\n",
       "      <td>ERR108127</td>\n",
       "      <td>300239</td>\n",
       "      <td>1</td>\n",
       "      <td>ERR108127</td>\n",
       "      <td>2014W</td>\n",
       "      <td>0</td>\n",
       "      <td>NaN</td>\n",
       "    </tr>\n",
       "    <tr>\n",
       "      <th>BRYANT</th>\n",
       "      <td>ERR108128</td>\n",
       "      <td>301725</td>\n",
       "      <td>2</td>\n",
       "      <td>ERR108128</td>\n",
       "      <td>2014W</td>\n",
       "      <td>36</td>\n",
       "      <td>NaN</td>\n",
       "    </tr>\n",
       "    <tr>\n",
       "      <th>BRYANT</th>\n",
       "      <td>ERR171166</td>\n",
       "      <td>401391</td>\n",
       "      <td>1</td>\n",
       "      <td>ERR171166</td>\n",
       "      <td>3162L</td>\n",
       "      <td>0</td>\n",
       "      <td>NaN</td>\n",
       "    </tr>\n",
       "  </tbody>\n",
       "</table>\n",
       "</div>"
      ],
      "text/plain": [
       "               run_ID sample_ID  sample_order        tag patient_id  \\\n",
       "population                                                            \n",
       "BRYANT      ERR171155   1500034             1  ERR171155      1117N   \n",
       "BRYANT      ERR171154   1500283             2  ERR171154      1117N   \n",
       "BRYANT      ERR108127    300239             1  ERR108127      2014W   \n",
       "BRYANT      ERR108128    301725             2  ERR108128      2014W   \n",
       "BRYANT      ERR171166    401391             1  ERR171166      3162L   \n",
       "\n",
       "           date_information tube_label (cetr)  \n",
       "population                                     \n",
       "BRYANT                    0               NaN  \n",
       "BRYANT                   17               NaN  \n",
       "BRYANT                    0               NaN  \n",
       "BRYANT                   36               NaN  \n",
       "BRYANT                    0               NaN  "
      ]
     },
     "execution_count": 23,
     "metadata": {},
     "output_type": "execute_result"
    }
   ],
   "source": [
    "time_between_serial_isolate_collection.head()"
   ]
  },
  {
   "cell_type": "code",
   "execution_count": 24,
   "metadata": {},
   "outputs": [
    {
     "data": {
      "text/plain": [
       "(62, 7)"
      ]
     },
     "execution_count": 24,
     "metadata": {},
     "output_type": "execute_result"
    }
   ],
   "source": [
    "np.shape(time_between_serial_isolate_collection)"
   ]
  },
  {
   "cell_type": "markdown",
   "metadata": {},
   "source": [
    "#### Retain only patients that for which we have date Information for both samples"
   ]
  },
  {
   "cell_type": "code",
   "execution_count": 25,
   "metadata": {},
   "outputs": [],
   "source": [
    "#get dates for each sample in pair\n",
    "dates_for_first_sample = list( time_between_serial_isolate_collection.iloc[range(0 , np.shape(time_between_serial_isolate_collection)[0] , 2) , 5] )\n",
    "dates_for_second_sample = list( time_between_serial_isolate_collection.iloc[range(1 , np.shape(time_between_serial_isolate_collection)[0] , 2) , 5] )\n",
    "\n",
    "#get a boolean to check that there are dates for both samples\n",
    "dates_for_both_samples = [ ( (isinstance(date_1, basestring)) and (isinstance(date_2, basestring)) ) for date_1 , date_2 in zip(dates_for_first_sample , dates_for_second_sample) ]\n",
    "\n",
    "#get list of patients to include that have dates for sample retreival for both samples\n",
    "patients_to_keep = list( time_between_serial_isolate_collection[time_between_serial_isolate_collection.sample_order == 1][dates_for_both_samples].patient_id )\n",
    "\n",
    "#filter out patients with 1 or 2 missing dates\n",
    "time_between_serial_isolate_collection_filter = [patient in patients_to_keep for patient in list(time_between_serial_isolate_collection.patient_id)]\n",
    "time_between_serial_isolate_dropped_filter = [not dates_both_isolates for dates_both_isolates in time_between_serial_isolate_collection_filter]\n",
    "\n",
    "time_between_serial_isolate_collection_dropped = time_between_serial_isolate_collection[time_between_serial_isolate_dropped_filter]\n",
    "time_between_serial_isolate_collection = time_between_serial_isolate_collection[time_between_serial_isolate_collection_filter]"
   ]
  },
  {
   "cell_type": "code",
   "execution_count": 26,
   "metadata": {},
   "outputs": [
    {
     "data": {
      "text/plain": [
       "(62, 7)"
      ]
     },
     "execution_count": 26,
     "metadata": {},
     "output_type": "execute_result"
    }
   ],
   "source": [
    "np.shape(time_between_serial_isolate_collection)"
   ]
  },
  {
   "cell_type": "code",
   "execution_count": 27,
   "metadata": {
    "scrolled": true
   },
   "outputs": [
    {
     "data": {
      "text/plain": [
       "(0, 7)"
      ]
     },
     "execution_count": 27,
     "metadata": {},
     "output_type": "execute_result"
    }
   ],
   "source": [
    "np.shape(time_between_serial_isolate_collection_dropped)"
   ]
  },
  {
   "cell_type": "markdown",
   "metadata": {},
   "source": [
    "#### Retain only patients that have different dates of collection for both samples"
   ]
  },
  {
   "cell_type": "code",
   "execution_count": 28,
   "metadata": {},
   "outputs": [],
   "source": [
    "#get dates for each sample in pair\n",
    "dates_for_first_sample = list( time_between_serial_isolate_collection.iloc[range(0 , np.shape(time_between_serial_isolate_collection)[0] , 2) , 5] )\n",
    "dates_for_second_sample = list( time_between_serial_isolate_collection.iloc[range(1 , np.shape(time_between_serial_isolate_collection)[0] , 2) , 5] )\n",
    "\n",
    "#get a boolean to check that there are dates for both samples\n",
    "dates_different_for_both_samples = [ ( date_1 != date_2 ) for date_1 , date_2 in zip(dates_for_first_sample , dates_for_second_sample) ]\n",
    "\n",
    "#get list of patients to include that have dates for sample retreival for both samples\n",
    "patients_to_keep = list( time_between_serial_isolate_collection[time_between_serial_isolate_collection.sample_order == 1][dates_different_for_both_samples].patient_id )\n",
    "\n",
    "#filter out patients with 1 or 2 missing dates\n",
    "time_between_serial_isolate_collection_filter = [patient in patients_to_keep for patient in list(time_between_serial_isolate_collection.patient_id)]\n",
    "time_between_serial_isolate_dropped_filter = [not dates_both_isolates for dates_both_isolates in time_between_serial_isolate_collection_filter]\n",
    "\n",
    "time_between_serial_isolate_collection_dropped = time_between_serial_isolate_collection[time_between_serial_isolate_dropped_filter]\n",
    "time_between_serial_isolate_collection = time_between_serial_isolate_collection[time_between_serial_isolate_collection_filter]"
   ]
  },
  {
   "cell_type": "code",
   "execution_count": 29,
   "metadata": {},
   "outputs": [
    {
     "data": {
      "text/plain": [
       "(62, 7)"
      ]
     },
     "execution_count": 29,
     "metadata": {},
     "output_type": "execute_result"
    }
   ],
   "source": [
    "np.shape(time_between_serial_isolate_collection)"
   ]
  },
  {
   "cell_type": "code",
   "execution_count": 30,
   "metadata": {},
   "outputs": [
    {
     "data": {
      "text/plain": [
       "(0, 7)"
      ]
     },
     "execution_count": 30,
     "metadata": {},
     "output_type": "execute_result"
    }
   ],
   "source": [
    "np.shape(time_between_serial_isolate_collection_dropped )"
   ]
  },
  {
   "cell_type": "code",
   "execution_count": 31,
   "metadata": {},
   "outputs": [
    {
     "data": {
      "text/html": [
       "<div>\n",
       "<style>\n",
       "    .dataframe thead tr:only-child th {\n",
       "        text-align: right;\n",
       "    }\n",
       "\n",
       "    .dataframe thead th {\n",
       "        text-align: left;\n",
       "    }\n",
       "\n",
       "    .dataframe tbody tr th {\n",
       "        vertical-align: top;\n",
       "    }\n",
       "</style>\n",
       "<table border=\"1\" class=\"dataframe\">\n",
       "  <thead>\n",
       "    <tr style=\"text-align: right;\">\n",
       "      <th></th>\n",
       "      <th>run_ID</th>\n",
       "      <th>sample_ID</th>\n",
       "      <th>sample_order</th>\n",
       "      <th>tag</th>\n",
       "      <th>patient_id</th>\n",
       "      <th>date_information</th>\n",
       "      <th>tube_label (cetr)</th>\n",
       "    </tr>\n",
       "    <tr>\n",
       "      <th>population</th>\n",
       "      <th></th>\n",
       "      <th></th>\n",
       "      <th></th>\n",
       "      <th></th>\n",
       "      <th></th>\n",
       "      <th></th>\n",
       "      <th></th>\n",
       "    </tr>\n",
       "  </thead>\n",
       "  <tbody>\n",
       "  </tbody>\n",
       "</table>\n",
       "</div>"
      ],
      "text/plain": [
       "Empty DataFrame\n",
       "Columns: [run_ID, sample_ID, sample_order, tag, patient_id, date_information, tube_label (cetr)]\n",
       "Index: []"
      ]
     },
     "execution_count": 31,
     "metadata": {},
     "output_type": "execute_result"
    }
   ],
   "source": [
    "time_between_serial_isolate_collection_dropped "
   ]
  },
  {
   "cell_type": "markdown",
   "metadata": {},
   "source": [
    "#### Find distance between all pairs of times"
   ]
  },
  {
   "cell_type": "code",
   "execution_count": 32,
   "metadata": {},
   "outputs": [],
   "source": [
    "pairwise_isolate_time = pd.DataFrame(index = patients_to_keep , columns = ['population' , 'time_between_collection'])\n",
    "\n",
    "for patient_id in patients_to_keep:\n",
    "    \n",
    "    population = time_between_serial_isolate_collection[time_between_serial_isolate_collection.patient_id == patient_id].index[0]\n",
    "    \n",
    "    #append info to dataframe\n",
    "    pairwise_isolate_time.loc[patient_id , 'population'] = population"
   ]
  },
  {
   "cell_type": "code",
   "execution_count": 33,
   "metadata": {},
   "outputs": [
    {
     "data": {
      "text/html": [
       "<div>\n",
       "<style>\n",
       "    .dataframe thead tr:only-child th {\n",
       "        text-align: right;\n",
       "    }\n",
       "\n",
       "    .dataframe thead th {\n",
       "        text-align: left;\n",
       "    }\n",
       "\n",
       "    .dataframe tbody tr th {\n",
       "        vertical-align: top;\n",
       "    }\n",
       "</style>\n",
       "<table border=\"1\" class=\"dataframe\">\n",
       "  <thead>\n",
       "    <tr style=\"text-align: right;\">\n",
       "      <th></th>\n",
       "      <th>population</th>\n",
       "      <th>time_between_collection</th>\n",
       "    </tr>\n",
       "  </thead>\n",
       "  <tbody>\n",
       "    <tr>\n",
       "      <th>1117N</th>\n",
       "      <td>BRYANT</td>\n",
       "      <td>NaN</td>\n",
       "    </tr>\n",
       "    <tr>\n",
       "      <th>2014W</th>\n",
       "      <td>BRYANT</td>\n",
       "      <td>NaN</td>\n",
       "    </tr>\n",
       "    <tr>\n",
       "      <th>3162L</th>\n",
       "      <td>BRYANT</td>\n",
       "      <td>NaN</td>\n",
       "    </tr>\n",
       "    <tr>\n",
       "      <th>4098U</th>\n",
       "      <td>BRYANT</td>\n",
       "      <td>NaN</td>\n",
       "    </tr>\n",
       "    <tr>\n",
       "      <th>1646</th>\n",
       "      <td>CETR</td>\n",
       "      <td>NaN</td>\n",
       "    </tr>\n",
       "  </tbody>\n",
       "</table>\n",
       "</div>"
      ],
      "text/plain": [
       "      population time_between_collection\n",
       "1117N     BRYANT                     NaN\n",
       "2014W     BRYANT                     NaN\n",
       "3162L     BRYANT                     NaN\n",
       "4098U     BRYANT                     NaN\n",
       "1646        CETR                     NaN"
      ]
     },
     "execution_count": 33,
     "metadata": {},
     "output_type": "execute_result"
    }
   ],
   "source": [
    "pairwise_isolate_time.head()"
   ]
  },
  {
   "cell_type": "code",
   "execution_count": 34,
   "metadata": {},
   "outputs": [],
   "source": [
    "for patient_id in pairwise_isolate_time.index:\n",
    "    \n",
    "    population = pairwise_isolate_time.loc[patient_id , 'population']\n",
    "    patient_id = patient_id\n",
    "    \n",
    "    if population == 'BRYANT':\n",
    "        \n",
    "        bryant_pair = time_between_serial_isolate_collection[time_between_serial_isolate_collection.patient_id == patient_id]\n",
    "        \n",
    "        first_date = bryant_pair[bryant_pair.sample_order == 1].date_information.values[0]\n",
    "        second_date = bryant_pair[bryant_pair.sample_order == 2].date_information.values[0]\n",
    "\n",
    "        num_days_between = (int(second_date) - int(first_date))*7 #dates are in # of weeks apart\n",
    "    \n",
    "    if population == 'CASALI':\n",
    "        \n",
    "        casali_pair = time_between_serial_isolate_collection[time_between_serial_isolate_collection.patient_id == patient_id]\n",
    "\n",
    "        first_date = casali_pair[casali_pair.sample_order == 1].date_information.values[0]\n",
    "        day = first_date.split('/')[0]\n",
    "        month = first_date.split('/')[1]\n",
    "        year = '20' + first_date.split('/')[2]\n",
    "        first_date = pd.to_datetime(pd.DataFrame({'year':[year] , 'month':[month] , 'day':[day]}))\n",
    "\n",
    "        second_date = casali_pair[casali_pair.sample_order == 2].date_information.values[0]\n",
    "        day = second_date.split('/')[0]\n",
    "        month = second_date.split('/')[1]\n",
    "        year = '20' + second_date.split('/')[2]\n",
    "        second_date = pd.to_datetime(pd.DataFrame({'year':[year] , 'month':[month] , 'day':[day]}))\n",
    "\n",
    "        num_days_between = (second_date - first_date).dt.days[0]\n",
    "        \n",
    "    elif (population == 'CETR') or (population == 'GUERRA') or (population == 'WITNEY') or (population == 'XU'):\n",
    "        \n",
    "        serial_pair = time_between_serial_isolate_collection[time_between_serial_isolate_collection.patient_id == patient_id]\n",
    "\n",
    "        first_date = serial_pair[serial_pair.sample_order == 1].date_information.values[0]\n",
    "        day = first_date.split('/')[1]\n",
    "        month = first_date.split('/')[0]\n",
    "        if int(first_date.split('/')[2]) in range(50,100): #some dates in 1990's others in 2000's\n",
    "            year = '19' + first_date.split('/')[2]\n",
    "        else:\n",
    "            year = '20' + first_date.split('/')[2]\n",
    "\n",
    "        first_date = pd.to_datetime(pd.DataFrame({'year':[year] , 'month':[month] , 'day':[day]}))\n",
    "\n",
    "\n",
    "        second_date = serial_pair[serial_pair.sample_order == 2].date_information.values[0]\n",
    "        day = second_date.split('/')[1]\n",
    "        month = second_date.split('/')[0]\n",
    "        if int(second_date.split('/')[2]) in range(50,100):\n",
    "            year = '19' + second_date.split('/')[2]\n",
    "        else:\n",
    "            year = '20' + second_date.split('/')[2]\n",
    "\n",
    "        second_date = pd.to_datetime(pd.DataFrame({'year':[year] , 'month':[month] , 'day':[day]}))\n",
    "\n",
    "        num_days_between = (second_date - first_date).dt.days[0]\n",
    "        \n",
    "    elif (population == 'TRAUNER') or (population == 'BRYANT'):\n",
    "        \n",
    "        serial_pair = time_between_serial_isolate_collection[time_between_serial_isolate_collection.patient_id == patient_id]\n",
    "\n",
    "        first_date = serial_pair[serial_pair.sample_order == 1].date_information.values[0]\n",
    "        second_date = serial_pair[serial_pair.sample_order == 2].date_information.values[0]\n",
    "\n",
    "        num_days_between = (int(second_date) - int(first_date))*7 #dates are in # of weeks apart\n",
    "        \n",
    "    elif population == 'WALKER':\n",
    "        \n",
    "        walker_pair = time_between_serial_isolate_collection[time_between_serial_isolate_collection.patient_id == patient_id]\n",
    "\n",
    "        first_date = walker_pair[walker_pair.sample_order == 1].date_information.values[0]\n",
    "        day = '1'\n",
    "        month = '1'\n",
    "        year = first_date\n",
    "        first_date = pd.to_datetime(pd.DataFrame({'year':[year] , 'month':[month] , 'day':[day]}))\n",
    "\n",
    "        second_date = walker_pair[walker_pair.sample_order == 2].date_information.values[0]\n",
    "        day = '1'\n",
    "        month = '1'\n",
    "        year = second_date\n",
    "        second_date = pd.to_datetime(pd.DataFrame({'year':[year] , 'month':[month] , 'day':[day]}))\n",
    "\n",
    "        num_days_between = (second_date - first_date).dt.days[0]\n",
    "        \n",
    "    #append distance between isolate collection\n",
    "    pairwise_isolate_time.loc[patient_id , 'time_between_collection'] = num_days_between"
   ]
  },
  {
   "cell_type": "code",
   "execution_count": 35,
   "metadata": {},
   "outputs": [
    {
     "data": {
      "text/html": [
       "<div>\n",
       "<style>\n",
       "    .dataframe thead tr:only-child th {\n",
       "        text-align: right;\n",
       "    }\n",
       "\n",
       "    .dataframe thead th {\n",
       "        text-align: left;\n",
       "    }\n",
       "\n",
       "    .dataframe tbody tr th {\n",
       "        vertical-align: top;\n",
       "    }\n",
       "</style>\n",
       "<table border=\"1\" class=\"dataframe\">\n",
       "  <thead>\n",
       "    <tr style=\"text-align: right;\">\n",
       "      <th></th>\n",
       "      <th>population</th>\n",
       "      <th>time_between_collection</th>\n",
       "    </tr>\n",
       "  </thead>\n",
       "  <tbody>\n",
       "    <tr>\n",
       "      <th>1117N</th>\n",
       "      <td>BRYANT</td>\n",
       "      <td>119</td>\n",
       "    </tr>\n",
       "    <tr>\n",
       "      <th>2014W</th>\n",
       "      <td>BRYANT</td>\n",
       "      <td>252</td>\n",
       "    </tr>\n",
       "    <tr>\n",
       "      <th>3162L</th>\n",
       "      <td>BRYANT</td>\n",
       "      <td>252</td>\n",
       "    </tr>\n",
       "    <tr>\n",
       "      <th>4098U</th>\n",
       "      <td>BRYANT</td>\n",
       "      <td>336</td>\n",
       "    </tr>\n",
       "    <tr>\n",
       "      <th>1646</th>\n",
       "      <td>CETR</td>\n",
       "      <td>374</td>\n",
       "    </tr>\n",
       "  </tbody>\n",
       "</table>\n",
       "</div>"
      ],
      "text/plain": [
       "      population time_between_collection\n",
       "1117N     BRYANT                     119\n",
       "2014W     BRYANT                     252\n",
       "3162L     BRYANT                     252\n",
       "4098U     BRYANT                     336\n",
       "1646        CETR                     374"
      ]
     },
     "execution_count": 35,
     "metadata": {},
     "output_type": "execute_result"
    }
   ],
   "source": [
    "pairwise_isolate_time.head()"
   ]
  },
  {
   "cell_type": "code",
   "execution_count": 36,
   "metadata": {},
   "outputs": [
    {
     "data": {
      "text/plain": [
       "647.1935483870968"
      ]
     },
     "execution_count": 36,
     "metadata": {},
     "output_type": "execute_result"
    }
   ],
   "source": [
    "np.mean( pairwise_isolate_time.time_between_collection )"
   ]
  },
  {
   "cell_type": "code",
   "execution_count": 37,
   "metadata": {},
   "outputs": [],
   "source": [
    "F2_contaminated_pairwise_isolate_times = pairwise_isolate_time.time_between_collection"
   ]
  },
  {
   "cell_type": "markdown",
   "metadata": {},
   "source": [
    "### B: fSNP Measure  (*re-infection*)"
   ]
  },
  {
   "cell_type": "code",
   "execution_count": 38,
   "metadata": {},
   "outputs": [],
   "source": [
    "time_between_serial_isolate_collection = pd.read_csv('/n/data1/hms/dbmi/farhat/Roger/inhost_TB_dynamics_project/CSV_files/sample_annotation_files/contaminated_samples/fSNP_contaminated_longitudinal_sample_annotation_with_collection_times.csv').set_index('population')"
   ]
  },
  {
   "cell_type": "code",
   "execution_count": 39,
   "metadata": {
    "scrolled": false
   },
   "outputs": [
    {
     "data": {
      "text/html": [
       "<div>\n",
       "<style>\n",
       "    .dataframe thead tr:only-child th {\n",
       "        text-align: right;\n",
       "    }\n",
       "\n",
       "    .dataframe thead th {\n",
       "        text-align: left;\n",
       "    }\n",
       "\n",
       "    .dataframe tbody tr th {\n",
       "        vertical-align: top;\n",
       "    }\n",
       "</style>\n",
       "<table border=\"1\" class=\"dataframe\">\n",
       "  <thead>\n",
       "    <tr style=\"text-align: right;\">\n",
       "      <th></th>\n",
       "      <th>run_ID</th>\n",
       "      <th>sample_ID</th>\n",
       "      <th>sample_order</th>\n",
       "      <th>tag</th>\n",
       "      <th>patient_id</th>\n",
       "      <th>date_information</th>\n",
       "      <th>tube_label (cetr)</th>\n",
       "    </tr>\n",
       "    <tr>\n",
       "      <th>population</th>\n",
       "      <th></th>\n",
       "      <th></th>\n",
       "      <th></th>\n",
       "      <th></th>\n",
       "      <th></th>\n",
       "      <th></th>\n",
       "      <th></th>\n",
       "    </tr>\n",
       "  </thead>\n",
       "  <tbody>\n",
       "    <tr>\n",
       "      <th>BRYANT</th>\n",
       "      <td>ERR966621</td>\n",
       "      <td>401063</td>\n",
       "      <td>1</td>\n",
       "      <td>ERR966621</td>\n",
       "      <td>2047T</td>\n",
       "      <td>0</td>\n",
       "      <td>NaN</td>\n",
       "    </tr>\n",
       "    <tr>\n",
       "      <th>BRYANT</th>\n",
       "      <td>ERR108140</td>\n",
       "      <td>402106</td>\n",
       "      <td>2</td>\n",
       "      <td>ERR108140</td>\n",
       "      <td>2047T</td>\n",
       "      <td>26</td>\n",
       "      <td>NaN</td>\n",
       "    </tr>\n",
       "    <tr>\n",
       "      <th>BRYANT</th>\n",
       "      <td>ERR108143</td>\n",
       "      <td>300191</td>\n",
       "      <td>1</td>\n",
       "      <td>ERR108143</td>\n",
       "      <td>3018C</td>\n",
       "      <td>0</td>\n",
       "      <td>NaN</td>\n",
       "    </tr>\n",
       "    <tr>\n",
       "      <th>BRYANT</th>\n",
       "      <td>ERR108144</td>\n",
       "      <td>302235</td>\n",
       "      <td>2</td>\n",
       "      <td>ERR108144</td>\n",
       "      <td>3018C</td>\n",
       "      <td>48</td>\n",
       "      <td>NaN</td>\n",
       "    </tr>\n",
       "    <tr>\n",
       "      <th>BRYANT</th>\n",
       "      <td>ERR108152</td>\n",
       "      <td>300659</td>\n",
       "      <td>1</td>\n",
       "      <td>ERR108152</td>\n",
       "      <td>3100U</td>\n",
       "      <td>0</td>\n",
       "      <td>NaN</td>\n",
       "    </tr>\n",
       "  </tbody>\n",
       "</table>\n",
       "</div>"
      ],
      "text/plain": [
       "               run_ID sample_ID  sample_order        tag patient_id  \\\n",
       "population                                                            \n",
       "BRYANT      ERR966621    401063             1  ERR966621      2047T   \n",
       "BRYANT      ERR108140    402106             2  ERR108140      2047T   \n",
       "BRYANT      ERR108143    300191             1  ERR108143      3018C   \n",
       "BRYANT      ERR108144    302235             2  ERR108144      3018C   \n",
       "BRYANT      ERR108152    300659             1  ERR108152      3100U   \n",
       "\n",
       "           date_information tube_label (cetr)  \n",
       "population                                     \n",
       "BRYANT                    0               NaN  \n",
       "BRYANT                   26               NaN  \n",
       "BRYANT                    0               NaN  \n",
       "BRYANT                   48               NaN  \n",
       "BRYANT                    0               NaN  "
      ]
     },
     "execution_count": 39,
     "metadata": {},
     "output_type": "execute_result"
    }
   ],
   "source": [
    "time_between_serial_isolate_collection.head()"
   ]
  },
  {
   "cell_type": "code",
   "execution_count": 40,
   "metadata": {},
   "outputs": [
    {
     "data": {
      "text/plain": [
       "(88, 7)"
      ]
     },
     "execution_count": 40,
     "metadata": {},
     "output_type": "execute_result"
    }
   ],
   "source": [
    "np.shape(time_between_serial_isolate_collection)"
   ]
  },
  {
   "cell_type": "markdown",
   "metadata": {},
   "source": [
    "#### Retain only patients that for which we have date Information for both samples"
   ]
  },
  {
   "cell_type": "code",
   "execution_count": 41,
   "metadata": {},
   "outputs": [],
   "source": [
    "#get dates for each sample in pair\n",
    "dates_for_first_sample = list( time_between_serial_isolate_collection.iloc[range(0 , np.shape(time_between_serial_isolate_collection)[0] , 2) , 5] )\n",
    "dates_for_second_sample = list( time_between_serial_isolate_collection.iloc[range(1 , np.shape(time_between_serial_isolate_collection)[0] , 2) , 5] )\n",
    "\n",
    "#get a boolean to check that there are dates for both samples\n",
    "dates_for_both_samples = [ ( (isinstance(date_1, basestring)) and (isinstance(date_2, basestring)) ) for date_1 , date_2 in zip(dates_for_first_sample , dates_for_second_sample) ]\n",
    "\n",
    "#get list of patients to include that have dates for sample retreival for both samples\n",
    "patients_to_keep = list( time_between_serial_isolate_collection[time_between_serial_isolate_collection.sample_order == 1][dates_for_both_samples].patient_id )\n",
    "\n",
    "#filter out patients with 1 or 2 missing dates\n",
    "time_between_serial_isolate_collection_filter = [patient in patients_to_keep for patient in list(time_between_serial_isolate_collection.patient_id)]\n",
    "time_between_serial_isolate_dropped_filter = [not dates_both_isolates for dates_both_isolates in time_between_serial_isolate_collection_filter]\n",
    "\n",
    "time_between_serial_isolate_collection_dropped = time_between_serial_isolate_collection[time_between_serial_isolate_dropped_filter]\n",
    "time_between_serial_isolate_collection = time_between_serial_isolate_collection[time_between_serial_isolate_collection_filter]"
   ]
  },
  {
   "cell_type": "code",
   "execution_count": 42,
   "metadata": {},
   "outputs": [
    {
     "data": {
      "text/plain": [
       "(86, 7)"
      ]
     },
     "execution_count": 42,
     "metadata": {},
     "output_type": "execute_result"
    }
   ],
   "source": [
    "np.shape(time_between_serial_isolate_collection)"
   ]
  },
  {
   "cell_type": "code",
   "execution_count": 43,
   "metadata": {
    "scrolled": true
   },
   "outputs": [
    {
     "data": {
      "text/plain": [
       "(2, 7)"
      ]
     },
     "execution_count": 43,
     "metadata": {},
     "output_type": "execute_result"
    }
   ],
   "source": [
    "np.shape(time_between_serial_isolate_collection_dropped )"
   ]
  },
  {
   "cell_type": "code",
   "execution_count": 44,
   "metadata": {},
   "outputs": [
    {
     "data": {
      "text/html": [
       "<div>\n",
       "<style>\n",
       "    .dataframe thead tr:only-child th {\n",
       "        text-align: right;\n",
       "    }\n",
       "\n",
       "    .dataframe thead th {\n",
       "        text-align: left;\n",
       "    }\n",
       "\n",
       "    .dataframe tbody tr th {\n",
       "        vertical-align: top;\n",
       "    }\n",
       "</style>\n",
       "<table border=\"1\" class=\"dataframe\">\n",
       "  <thead>\n",
       "    <tr style=\"text-align: right;\">\n",
       "      <th></th>\n",
       "      <th>run_ID</th>\n",
       "      <th>sample_ID</th>\n",
       "      <th>sample_order</th>\n",
       "      <th>tag</th>\n",
       "      <th>patient_id</th>\n",
       "      <th>date_information</th>\n",
       "      <th>tube_label (cetr)</th>\n",
       "    </tr>\n",
       "    <tr>\n",
       "      <th>population</th>\n",
       "      <th></th>\n",
       "      <th></th>\n",
       "      <th></th>\n",
       "      <th></th>\n",
       "      <th></th>\n",
       "      <th></th>\n",
       "      <th></th>\n",
       "    </tr>\n",
       "  </thead>\n",
       "  <tbody>\n",
       "    <tr>\n",
       "      <th>BRYANT</th>\n",
       "      <td>ERR171136</td>\n",
       "      <td>200470</td>\n",
       "      <td>1</td>\n",
       "      <td>ERR171136</td>\n",
       "      <td>4085U</td>\n",
       "      <td>0</td>\n",
       "      <td>NaN</td>\n",
       "    </tr>\n",
       "    <tr>\n",
       "      <th>BRYANT</th>\n",
       "      <td>ERR171137</td>\n",
       "      <td>201113</td>\n",
       "      <td>2</td>\n",
       "      <td>ERR171137</td>\n",
       "      <td>4085U</td>\n",
       "      <td>NaN</td>\n",
       "      <td>NaN</td>\n",
       "    </tr>\n",
       "  </tbody>\n",
       "</table>\n",
       "</div>"
      ],
      "text/plain": [
       "               run_ID sample_ID  sample_order        tag patient_id  \\\n",
       "population                                                            \n",
       "BRYANT      ERR171136    200470             1  ERR171136      4085U   \n",
       "BRYANT      ERR171137    201113             2  ERR171137      4085U   \n",
       "\n",
       "           date_information tube_label (cetr)  \n",
       "population                                     \n",
       "BRYANT                    0               NaN  \n",
       "BRYANT                  NaN               NaN  "
      ]
     },
     "execution_count": 44,
     "metadata": {},
     "output_type": "execute_result"
    }
   ],
   "source": [
    "time_between_serial_isolate_collection_dropped "
   ]
  },
  {
   "cell_type": "markdown",
   "metadata": {},
   "source": [
    "Dropped 1 patient from Bryant et. al. dataset that didn't have date information both both isolates "
   ]
  },
  {
   "cell_type": "markdown",
   "metadata": {},
   "source": [
    "#### Retain only patients that have different dates of collection for both samples"
   ]
  },
  {
   "cell_type": "code",
   "execution_count": 45,
   "metadata": {},
   "outputs": [],
   "source": [
    "#get dates for each sample in pair\n",
    "dates_for_first_sample = list( time_between_serial_isolate_collection.iloc[range(0 , np.shape(time_between_serial_isolate_collection)[0] , 2) , 5] )\n",
    "dates_for_second_sample = list( time_between_serial_isolate_collection.iloc[range(1 , np.shape(time_between_serial_isolate_collection)[0] , 2) , 5] )\n",
    "\n",
    "#get a boolean to check that there are dates for both samples\n",
    "dates_different_for_both_samples = [ ( date_1 != date_2 ) for date_1 , date_2 in zip(dates_for_first_sample , dates_for_second_sample) ]\n",
    "\n",
    "#get list of patients to include that have dates for sample retreival for both samples\n",
    "patients_to_keep = list( time_between_serial_isolate_collection[time_between_serial_isolate_collection.sample_order == 1][dates_different_for_both_samples].patient_id )\n",
    "\n",
    "#filter out patients with 1 or 2 missing dates\n",
    "time_between_serial_isolate_collection_filter = [patient in patients_to_keep for patient in list(time_between_serial_isolate_collection.patient_id)]\n",
    "time_between_serial_isolate_dropped_filter = [not dates_both_isolates for dates_both_isolates in time_between_serial_isolate_collection_filter]\n",
    "\n",
    "time_between_serial_isolate_collection_dropped = time_between_serial_isolate_collection[time_between_serial_isolate_dropped_filter]\n",
    "time_between_serial_isolate_collection = time_between_serial_isolate_collection[time_between_serial_isolate_collection_filter]"
   ]
  },
  {
   "cell_type": "code",
   "execution_count": 46,
   "metadata": {},
   "outputs": [
    {
     "data": {
      "text/plain": [
       "(86, 7)"
      ]
     },
     "execution_count": 46,
     "metadata": {},
     "output_type": "execute_result"
    }
   ],
   "source": [
    "np.shape(time_between_serial_isolate_collection)"
   ]
  },
  {
   "cell_type": "code",
   "execution_count": 47,
   "metadata": {},
   "outputs": [
    {
     "data": {
      "text/plain": [
       "(0, 7)"
      ]
     },
     "execution_count": 47,
     "metadata": {},
     "output_type": "execute_result"
    }
   ],
   "source": [
    "np.shape(time_between_serial_isolate_collection_dropped )"
   ]
  },
  {
   "cell_type": "code",
   "execution_count": 48,
   "metadata": {},
   "outputs": [
    {
     "data": {
      "text/html": [
       "<div>\n",
       "<style>\n",
       "    .dataframe thead tr:only-child th {\n",
       "        text-align: right;\n",
       "    }\n",
       "\n",
       "    .dataframe thead th {\n",
       "        text-align: left;\n",
       "    }\n",
       "\n",
       "    .dataframe tbody tr th {\n",
       "        vertical-align: top;\n",
       "    }\n",
       "</style>\n",
       "<table border=\"1\" class=\"dataframe\">\n",
       "  <thead>\n",
       "    <tr style=\"text-align: right;\">\n",
       "      <th></th>\n",
       "      <th>run_ID</th>\n",
       "      <th>sample_ID</th>\n",
       "      <th>sample_order</th>\n",
       "      <th>tag</th>\n",
       "      <th>patient_id</th>\n",
       "      <th>date_information</th>\n",
       "      <th>tube_label (cetr)</th>\n",
       "    </tr>\n",
       "    <tr>\n",
       "      <th>population</th>\n",
       "      <th></th>\n",
       "      <th></th>\n",
       "      <th></th>\n",
       "      <th></th>\n",
       "      <th></th>\n",
       "      <th></th>\n",
       "      <th></th>\n",
       "    </tr>\n",
       "  </thead>\n",
       "  <tbody>\n",
       "  </tbody>\n",
       "</table>\n",
       "</div>"
      ],
      "text/plain": [
       "Empty DataFrame\n",
       "Columns: [run_ID, sample_ID, sample_order, tag, patient_id, date_information, tube_label (cetr)]\n",
       "Index: []"
      ]
     },
     "execution_count": 48,
     "metadata": {},
     "output_type": "execute_result"
    }
   ],
   "source": [
    "time_between_serial_isolate_collection_dropped "
   ]
  },
  {
   "cell_type": "markdown",
   "metadata": {},
   "source": [
    "#### Find distance between all pairs of times"
   ]
  },
  {
   "cell_type": "code",
   "execution_count": 49,
   "metadata": {},
   "outputs": [],
   "source": [
    "pairwise_isolate_time = pd.DataFrame(index = patients_to_keep , columns = ['population' , 'time_between_collection'])\n",
    "\n",
    "for patient_id in patients_to_keep:\n",
    "    \n",
    "    population = time_between_serial_isolate_collection[time_between_serial_isolate_collection.patient_id == patient_id].index[0]\n",
    "    \n",
    "    #append info to dataframe\n",
    "    pairwise_isolate_time.loc[patient_id , 'population'] = population"
   ]
  },
  {
   "cell_type": "code",
   "execution_count": 50,
   "metadata": {},
   "outputs": [
    {
     "data": {
      "text/html": [
       "<div>\n",
       "<style>\n",
       "    .dataframe thead tr:only-child th {\n",
       "        text-align: right;\n",
       "    }\n",
       "\n",
       "    .dataframe thead th {\n",
       "        text-align: left;\n",
       "    }\n",
       "\n",
       "    .dataframe tbody tr th {\n",
       "        vertical-align: top;\n",
       "    }\n",
       "</style>\n",
       "<table border=\"1\" class=\"dataframe\">\n",
       "  <thead>\n",
       "    <tr style=\"text-align: right;\">\n",
       "      <th></th>\n",
       "      <th>population</th>\n",
       "      <th>time_between_collection</th>\n",
       "    </tr>\n",
       "  </thead>\n",
       "  <tbody>\n",
       "    <tr>\n",
       "      <th>2047T</th>\n",
       "      <td>BRYANT</td>\n",
       "      <td>NaN</td>\n",
       "    </tr>\n",
       "    <tr>\n",
       "      <th>3018C</th>\n",
       "      <td>BRYANT</td>\n",
       "      <td>NaN</td>\n",
       "    </tr>\n",
       "    <tr>\n",
       "      <th>3100U</th>\n",
       "      <td>BRYANT</td>\n",
       "      <td>NaN</td>\n",
       "    </tr>\n",
       "    <tr>\n",
       "      <th>3103J</th>\n",
       "      <td>BRYANT</td>\n",
       "      <td>NaN</td>\n",
       "    </tr>\n",
       "    <tr>\n",
       "      <th>4078X</th>\n",
       "      <td>BRYANT</td>\n",
       "      <td>NaN</td>\n",
       "    </tr>\n",
       "  </tbody>\n",
       "</table>\n",
       "</div>"
      ],
      "text/plain": [
       "      population time_between_collection\n",
       "2047T     BRYANT                     NaN\n",
       "3018C     BRYANT                     NaN\n",
       "3100U     BRYANT                     NaN\n",
       "3103J     BRYANT                     NaN\n",
       "4078X     BRYANT                     NaN"
      ]
     },
     "execution_count": 50,
     "metadata": {},
     "output_type": "execute_result"
    }
   ],
   "source": [
    "pairwise_isolate_time.head()"
   ]
  },
  {
   "cell_type": "code",
   "execution_count": 51,
   "metadata": {},
   "outputs": [],
   "source": [
    "for patient_id in pairwise_isolate_time.index:\n",
    "    \n",
    "    population = pairwise_isolate_time.loc[patient_id , 'population']\n",
    "    patient_id = patient_id\n",
    "    \n",
    "    if population == 'BRYANT':\n",
    "        \n",
    "        bryant_pair = time_between_serial_isolate_collection[time_between_serial_isolate_collection.patient_id == patient_id]\n",
    "        \n",
    "        first_date = bryant_pair[bryant_pair.sample_order == 1].date_information.values[0]\n",
    "        second_date = bryant_pair[bryant_pair.sample_order == 2].date_information.values[0]\n",
    "\n",
    "        num_days_between = (int(second_date) - int(first_date))*7 #dates are in # of weeks apart\n",
    "    \n",
    "    if population == 'CASALI':\n",
    "        \n",
    "        casali_pair = time_between_serial_isolate_collection[time_between_serial_isolate_collection.patient_id == patient_id]\n",
    "\n",
    "        first_date = casali_pair[casali_pair.sample_order == 1].date_information.values[0]\n",
    "        day = first_date.split('/')[0]\n",
    "        month = first_date.split('/')[1]\n",
    "        year = '20' + first_date.split('/')[2]\n",
    "        first_date = pd.to_datetime(pd.DataFrame({'year':[year] , 'month':[month] , 'day':[day]}))\n",
    "\n",
    "        second_date = casali_pair[casali_pair.sample_order == 2].date_information.values[0]\n",
    "        day = second_date.split('/')[0]\n",
    "        month = second_date.split('/')[1]\n",
    "        year = '20' + second_date.split('/')[2]\n",
    "        second_date = pd.to_datetime(pd.DataFrame({'year':[year] , 'month':[month] , 'day':[day]}))\n",
    "\n",
    "        num_days_between = (second_date - first_date).dt.days[0]\n",
    "        \n",
    "    elif (population == 'CETR') or (population == 'GUERRA') or (population == 'WITNEY') or (population == 'XU'):\n",
    "        \n",
    "        serial_pair = time_between_serial_isolate_collection[time_between_serial_isolate_collection.patient_id == patient_id]\n",
    "\n",
    "        first_date = serial_pair[serial_pair.sample_order == 1].date_information.values[0]\n",
    "        day = first_date.split('/')[1]\n",
    "        month = first_date.split('/')[0]\n",
    "        if int(first_date.split('/')[2]) in range(50,100): #some dates in 1990's others in 2000's\n",
    "            year = '19' + first_date.split('/')[2]\n",
    "        else:\n",
    "            year = '20' + first_date.split('/')[2]\n",
    "\n",
    "        first_date = pd.to_datetime(pd.DataFrame({'year':[year] , 'month':[month] , 'day':[day]}))\n",
    "\n",
    "\n",
    "        second_date = serial_pair[serial_pair.sample_order == 2].date_information.values[0]\n",
    "        day = second_date.split('/')[1]\n",
    "        month = second_date.split('/')[0]\n",
    "        if int(second_date.split('/')[2]) in range(50,100):\n",
    "            year = '19' + second_date.split('/')[2]\n",
    "        else:\n",
    "            year = '20' + second_date.split('/')[2]\n",
    "\n",
    "        second_date = pd.to_datetime(pd.DataFrame({'year':[year] , 'month':[month] , 'day':[day]}))\n",
    "\n",
    "        num_days_between = (second_date - first_date).dt.days[0]\n",
    "        \n",
    "    elif (population == 'TRAUNER') or (population == 'BRYANT'):\n",
    "        \n",
    "        serial_pair = time_between_serial_isolate_collection[time_between_serial_isolate_collection.patient_id == patient_id]\n",
    "\n",
    "        first_date = serial_pair[serial_pair.sample_order == 1].date_information.values[0]\n",
    "        second_date = serial_pair[serial_pair.sample_order == 2].date_information.values[0]\n",
    "\n",
    "        num_days_between = (int(second_date) - int(first_date))*7 #dates are in # of weeks apart\n",
    "        \n",
    "    elif population == 'WALKER':\n",
    "        \n",
    "        walker_pair = time_between_serial_isolate_collection[time_between_serial_isolate_collection.patient_id == patient_id]\n",
    "\n",
    "        first_date = walker_pair[walker_pair.sample_order == 1].date_information.values[0]\n",
    "        day = '1'\n",
    "        month = '1'\n",
    "        year = first_date\n",
    "        first_date = pd.to_datetime(pd.DataFrame({'year':[year] , 'month':[month] , 'day':[day]}))\n",
    "\n",
    "        second_date = walker_pair[walker_pair.sample_order == 2].date_information.values[0]\n",
    "        day = '1'\n",
    "        month = '1'\n",
    "        year = second_date\n",
    "        second_date = pd.to_datetime(pd.DataFrame({'year':[year] , 'month':[month] , 'day':[day]}))\n",
    "\n",
    "        num_days_between = (second_date - first_date).dt.days[0]\n",
    "        \n",
    "    #append distance between isolate collection\n",
    "    pairwise_isolate_time.loc[patient_id , 'time_between_collection'] = num_days_between"
   ]
  },
  {
   "cell_type": "code",
   "execution_count": 52,
   "metadata": {},
   "outputs": [
    {
     "data": {
      "text/html": [
       "<div>\n",
       "<style>\n",
       "    .dataframe thead tr:only-child th {\n",
       "        text-align: right;\n",
       "    }\n",
       "\n",
       "    .dataframe thead th {\n",
       "        text-align: left;\n",
       "    }\n",
       "\n",
       "    .dataframe tbody tr th {\n",
       "        vertical-align: top;\n",
       "    }\n",
       "</style>\n",
       "<table border=\"1\" class=\"dataframe\">\n",
       "  <thead>\n",
       "    <tr style=\"text-align: right;\">\n",
       "      <th></th>\n",
       "      <th>population</th>\n",
       "      <th>time_between_collection</th>\n",
       "    </tr>\n",
       "  </thead>\n",
       "  <tbody>\n",
       "    <tr>\n",
       "      <th>2047T</th>\n",
       "      <td>BRYANT</td>\n",
       "      <td>182</td>\n",
       "    </tr>\n",
       "    <tr>\n",
       "      <th>3018C</th>\n",
       "      <td>BRYANT</td>\n",
       "      <td>336</td>\n",
       "    </tr>\n",
       "    <tr>\n",
       "      <th>3100U</th>\n",
       "      <td>BRYANT</td>\n",
       "      <td>420</td>\n",
       "    </tr>\n",
       "    <tr>\n",
       "      <th>3103J</th>\n",
       "      <td>BRYANT</td>\n",
       "      <td>182</td>\n",
       "    </tr>\n",
       "    <tr>\n",
       "      <th>4078X</th>\n",
       "      <td>BRYANT</td>\n",
       "      <td>420</td>\n",
       "    </tr>\n",
       "  </tbody>\n",
       "</table>\n",
       "</div>"
      ],
      "text/plain": [
       "      population time_between_collection\n",
       "2047T     BRYANT                     182\n",
       "3018C     BRYANT                     336\n",
       "3100U     BRYANT                     420\n",
       "3103J     BRYANT                     182\n",
       "4078X     BRYANT                     420"
      ]
     },
     "execution_count": 52,
     "metadata": {},
     "output_type": "execute_result"
    }
   ],
   "source": [
    "pairwise_isolate_time.head()"
   ]
  },
  {
   "cell_type": "code",
   "execution_count": 53,
   "metadata": {},
   "outputs": [],
   "source": [
    "fSNP_contaminated_pairwise_isolate_times = pairwise_isolate_time.time_between_collection"
   ]
  },
  {
   "cell_type": "markdown",
   "metadata": {},
   "source": [
    "### C: filtered longitudinal isolate pairs  (*persistent*)"
   ]
  },
  {
   "cell_type": "code",
   "execution_count": 54,
   "metadata": {},
   "outputs": [],
   "source": [
    "time_between_serial_isolate_collection = pd.read_csv('/n/data1/hms/dbmi/farhat/Roger/inhost_TB_dynamics_project/CSV_files/sample_annotation_files/Longitudinal_sample_annotation_for_temporal_analysis_with_dates.csv').set_index('population')"
   ]
  },
  {
   "cell_type": "code",
   "execution_count": 55,
   "metadata": {
    "scrolled": false
   },
   "outputs": [
    {
     "data": {
      "text/html": [
       "<div>\n",
       "<style>\n",
       "    .dataframe thead tr:only-child th {\n",
       "        text-align: right;\n",
       "    }\n",
       "\n",
       "    .dataframe thead th {\n",
       "        text-align: left;\n",
       "    }\n",
       "\n",
       "    .dataframe tbody tr th {\n",
       "        vertical-align: top;\n",
       "    }\n",
       "</style>\n",
       "<table border=\"1\" class=\"dataframe\">\n",
       "  <thead>\n",
       "    <tr style=\"text-align: right;\">\n",
       "      <th></th>\n",
       "      <th>Unnamed: 0</th>\n",
       "      <th>run_ID</th>\n",
       "      <th>sample_ID</th>\n",
       "      <th>sample_order</th>\n",
       "      <th>tag</th>\n",
       "      <th>isolate_type</th>\n",
       "      <th>patient_id</th>\n",
       "      <th>date_information</th>\n",
       "      <th>tube_label (cetr)</th>\n",
       "      <th>tag.1</th>\n",
       "    </tr>\n",
       "    <tr>\n",
       "      <th>population</th>\n",
       "      <th></th>\n",
       "      <th></th>\n",
       "      <th></th>\n",
       "      <th></th>\n",
       "      <th></th>\n",
       "      <th></th>\n",
       "      <th></th>\n",
       "      <th></th>\n",
       "      <th></th>\n",
       "      <th></th>\n",
       "    </tr>\n",
       "  </thead>\n",
       "  <tbody>\n",
       "    <tr>\n",
       "      <th>BRYANT</th>\n",
       "      <td>0</td>\n",
       "      <td>ERR108130</td>\n",
       "      <td>400044</td>\n",
       "      <td>1</td>\n",
       "      <td>ERR108130</td>\n",
       "      <td>longitudinal</td>\n",
       "      <td>2020E</td>\n",
       "      <td>0</td>\n",
       "      <td>NaN</td>\n",
       "      <td>NaN</td>\n",
       "    </tr>\n",
       "    <tr>\n",
       "      <th>BRYANT</th>\n",
       "      <td>1</td>\n",
       "      <td>ERR108129</td>\n",
       "      <td>401206</td>\n",
       "      <td>2</td>\n",
       "      <td>ERR108129</td>\n",
       "      <td>longitudinal</td>\n",
       "      <td>2020E</td>\n",
       "      <td>36</td>\n",
       "      <td>NaN</td>\n",
       "      <td>NaN</td>\n",
       "    </tr>\n",
       "    <tr>\n",
       "      <th>BRYANT</th>\n",
       "      <td>2</td>\n",
       "      <td>ERR108131</td>\n",
       "      <td>400673</td>\n",
       "      <td>1</td>\n",
       "      <td>ERR108131</td>\n",
       "      <td>longitudinal</td>\n",
       "      <td>2027W</td>\n",
       "      <td>0</td>\n",
       "      <td>NaN</td>\n",
       "      <td>NaN</td>\n",
       "    </tr>\n",
       "    <tr>\n",
       "      <th>BRYANT</th>\n",
       "      <td>3</td>\n",
       "      <td>ERR108132</td>\n",
       "      <td>402568</td>\n",
       "      <td>2</td>\n",
       "      <td>ERR108132</td>\n",
       "      <td>longitudinal</td>\n",
       "      <td>2027W</td>\n",
       "      <td>48</td>\n",
       "      <td>NaN</td>\n",
       "      <td>NaN</td>\n",
       "    </tr>\n",
       "    <tr>\n",
       "      <th>BRYANT</th>\n",
       "      <td>4</td>\n",
       "      <td>ERR108133</td>\n",
       "      <td>400711</td>\n",
       "      <td>1</td>\n",
       "      <td>ERR108133</td>\n",
       "      <td>longitudinal</td>\n",
       "      <td>2028K</td>\n",
       "      <td>0</td>\n",
       "      <td>NaN</td>\n",
       "      <td>NaN</td>\n",
       "    </tr>\n",
       "  </tbody>\n",
       "</table>\n",
       "</div>"
      ],
      "text/plain": [
       "            Unnamed: 0     run_ID sample_ID  sample_order        tag  \\\n",
       "population                                                             \n",
       "BRYANT               0  ERR108130    400044             1  ERR108130   \n",
       "BRYANT               1  ERR108129    401206             2  ERR108129   \n",
       "BRYANT               2  ERR108131    400673             1  ERR108131   \n",
       "BRYANT               3  ERR108132    402568             2  ERR108132   \n",
       "BRYANT               4  ERR108133    400711             1  ERR108133   \n",
       "\n",
       "            isolate_type patient_id date_information tube_label (cetr)  tag.1  \n",
       "population                                                                     \n",
       "BRYANT      longitudinal      2020E                0               NaN    NaN  \n",
       "BRYANT      longitudinal      2020E               36               NaN    NaN  \n",
       "BRYANT      longitudinal      2027W                0               NaN    NaN  \n",
       "BRYANT      longitudinal      2027W               48               NaN    NaN  \n",
       "BRYANT      longitudinal      2028K                0               NaN    NaN  "
      ]
     },
     "execution_count": 55,
     "metadata": {},
     "output_type": "execute_result"
    }
   ],
   "source": [
    "time_between_serial_isolate_collection.head()"
   ]
  },
  {
   "cell_type": "code",
   "execution_count": 56,
   "metadata": {},
   "outputs": [
    {
     "data": {
      "text/plain": [
       "(400, 10)"
      ]
     },
     "execution_count": 56,
     "metadata": {},
     "output_type": "execute_result"
    }
   ],
   "source": [
    "np.shape(time_between_serial_isolate_collection)"
   ]
  },
  {
   "cell_type": "markdown",
   "metadata": {},
   "source": [
    "#### Retain only patients that for which we have date Information for both samples"
   ]
  },
  {
   "cell_type": "code",
   "execution_count": 57,
   "metadata": {},
   "outputs": [],
   "source": [
    "#get dates for each sample in pair\n",
    "dates_for_first_sample = list( time_between_serial_isolate_collection.iloc[range(0 , np.shape(time_between_serial_isolate_collection)[0] , 2) , 7] )\n",
    "dates_for_second_sample = list( time_between_serial_isolate_collection.iloc[range(1 , np.shape(time_between_serial_isolate_collection)[0] , 2) , 7] )\n",
    "\n",
    "#get a boolean to check that there are dates for both samples\n",
    "dates_for_both_samples = [ ( (isinstance(date_1, basestring)) and (isinstance(date_2, basestring)) ) for date_1 , date_2 in zip(dates_for_first_sample , dates_for_second_sample) ]\n",
    "\n",
    "#get list of patients to include that have dates for sample retreival for both samples\n",
    "patients_to_keep = list( time_between_serial_isolate_collection[time_between_serial_isolate_collection.sample_order == 1][dates_for_both_samples].patient_id )\n",
    "\n",
    "#filter out patients with 1 or 2 missing dates\n",
    "time_between_serial_isolate_collection_filter = [patient in patients_to_keep for patient in list(time_between_serial_isolate_collection.patient_id)]\n",
    "time_between_serial_isolate_dropped_filter = [not dates_both_isolates for dates_both_isolates in time_between_serial_isolate_collection_filter]\n",
    "\n",
    "time_between_serial_isolate_collection_dropped = time_between_serial_isolate_collection[time_between_serial_isolate_dropped_filter]\n",
    "time_between_serial_isolate_collection = time_between_serial_isolate_collection[time_between_serial_isolate_collection_filter]"
   ]
  },
  {
   "cell_type": "code",
   "execution_count": 58,
   "metadata": {},
   "outputs": [
    {
     "data": {
      "text/plain": [
       "(396, 10)"
      ]
     },
     "execution_count": 58,
     "metadata": {},
     "output_type": "execute_result"
    }
   ],
   "source": [
    "np.shape(time_between_serial_isolate_collection)"
   ]
  },
  {
   "cell_type": "code",
   "execution_count": 59,
   "metadata": {
    "scrolled": true
   },
   "outputs": [
    {
     "data": {
      "text/plain": [
       "(4, 10)"
      ]
     },
     "execution_count": 59,
     "metadata": {},
     "output_type": "execute_result"
    }
   ],
   "source": [
    "np.shape(time_between_serial_isolate_collection_dropped )"
   ]
  },
  {
   "cell_type": "code",
   "execution_count": 60,
   "metadata": {},
   "outputs": [
    {
     "data": {
      "text/html": [
       "<div>\n",
       "<style>\n",
       "    .dataframe thead tr:only-child th {\n",
       "        text-align: right;\n",
       "    }\n",
       "\n",
       "    .dataframe thead th {\n",
       "        text-align: left;\n",
       "    }\n",
       "\n",
       "    .dataframe tbody tr th {\n",
       "        vertical-align: top;\n",
       "    }\n",
       "</style>\n",
       "<table border=\"1\" class=\"dataframe\">\n",
       "  <thead>\n",
       "    <tr style=\"text-align: right;\">\n",
       "      <th></th>\n",
       "      <th>Unnamed: 0</th>\n",
       "      <th>run_ID</th>\n",
       "      <th>sample_ID</th>\n",
       "      <th>sample_order</th>\n",
       "      <th>tag</th>\n",
       "      <th>isolate_type</th>\n",
       "      <th>patient_id</th>\n",
       "      <th>date_information</th>\n",
       "      <th>tube_label (cetr)</th>\n",
       "      <th>tag.1</th>\n",
       "    </tr>\n",
       "    <tr>\n",
       "      <th>population</th>\n",
       "      <th></th>\n",
       "      <th></th>\n",
       "      <th></th>\n",
       "      <th></th>\n",
       "      <th></th>\n",
       "      <th></th>\n",
       "      <th></th>\n",
       "      <th></th>\n",
       "      <th></th>\n",
       "      <th></th>\n",
       "    </tr>\n",
       "  </thead>\n",
       "  <tbody>\n",
       "    <tr>\n",
       "      <th>WITNEY</th>\n",
       "      <td>380</td>\n",
       "      <td>ERR1750925</td>\n",
       "      <td>SAMEA23779168</td>\n",
       "      <td>1</td>\n",
       "      <td>ERR1750925</td>\n",
       "      <td>longitudinal</td>\n",
       "      <td>27</td>\n",
       "      <td>NaN</td>\n",
       "      <td>NaN</td>\n",
       "      <td>NaN</td>\n",
       "    </tr>\n",
       "    <tr>\n",
       "      <th>WITNEY</th>\n",
       "      <td>381</td>\n",
       "      <td>ERR1750926</td>\n",
       "      <td>SAMEA23779918</td>\n",
       "      <td>2</td>\n",
       "      <td>ERR1750926</td>\n",
       "      <td>longitudinal</td>\n",
       "      <td>27</td>\n",
       "      <td>1/25/11</td>\n",
       "      <td>NaN</td>\n",
       "      <td>NaN</td>\n",
       "    </tr>\n",
       "    <tr>\n",
       "      <th>WITNEY</th>\n",
       "      <td>382</td>\n",
       "      <td>ERR1750927</td>\n",
       "      <td>SAMEA23780668</td>\n",
       "      <td>1</td>\n",
       "      <td>ERR1750927</td>\n",
       "      <td>longitudinal</td>\n",
       "      <td>28</td>\n",
       "      <td>NaN</td>\n",
       "      <td>NaN</td>\n",
       "      <td>NaN</td>\n",
       "    </tr>\n",
       "    <tr>\n",
       "      <th>WITNEY</th>\n",
       "      <td>383</td>\n",
       "      <td>ERR1750928</td>\n",
       "      <td>SAMEA23781418</td>\n",
       "      <td>2</td>\n",
       "      <td>ERR1750928</td>\n",
       "      <td>longitudinal</td>\n",
       "      <td>28</td>\n",
       "      <td>8/3/11</td>\n",
       "      <td>NaN</td>\n",
       "      <td>NaN</td>\n",
       "    </tr>\n",
       "  </tbody>\n",
       "</table>\n",
       "</div>"
      ],
      "text/plain": [
       "            Unnamed: 0      run_ID      sample_ID  sample_order         tag  \\\n",
       "population                                                                    \n",
       "WITNEY             380  ERR1750925  SAMEA23779168             1  ERR1750925   \n",
       "WITNEY             381  ERR1750926  SAMEA23779918             2  ERR1750926   \n",
       "WITNEY             382  ERR1750927  SAMEA23780668             1  ERR1750927   \n",
       "WITNEY             383  ERR1750928  SAMEA23781418             2  ERR1750928   \n",
       "\n",
       "            isolate_type patient_id date_information tube_label (cetr)  tag.1  \n",
       "population                                                                     \n",
       "WITNEY      longitudinal         27              NaN               NaN    NaN  \n",
       "WITNEY      longitudinal         27          1/25/11               NaN    NaN  \n",
       "WITNEY      longitudinal         28              NaN               NaN    NaN  \n",
       "WITNEY      longitudinal         28           8/3/11               NaN    NaN  "
      ]
     },
     "execution_count": 60,
     "metadata": {},
     "output_type": "execute_result"
    }
   ],
   "source": [
    "time_between_serial_isolate_collection_dropped "
   ]
  },
  {
   "cell_type": "markdown",
   "metadata": {},
   "source": [
    "#### Retain only patients that have different dates of collection for both samples"
   ]
  },
  {
   "cell_type": "code",
   "execution_count": 61,
   "metadata": {},
   "outputs": [],
   "source": [
    "#get dates for each sample in pair\n",
    "dates_for_first_sample = list( time_between_serial_isolate_collection.iloc[range(0 , np.shape(time_between_serial_isolate_collection)[0] , 2) , 7] )\n",
    "dates_for_second_sample = list( time_between_serial_isolate_collection.iloc[range(1 , np.shape(time_between_serial_isolate_collection)[0] , 2) , 7] )\n",
    "\n",
    "#get a boolean to check that there are dates for both samples\n",
    "dates_different_for_both_samples = [ ( date_1 != date_2 ) for date_1 , date_2 in zip(dates_for_first_sample , dates_for_second_sample) ]\n",
    "\n",
    "#get list of patients to include that have dates for sample retreival for both samples\n",
    "patients_to_keep = list( time_between_serial_isolate_collection[time_between_serial_isolate_collection.sample_order == 1][dates_different_for_both_samples].patient_id )\n",
    "\n",
    "#filter out patients with 1 or 2 missing dates\n",
    "time_between_serial_isolate_collection_filter = [patient in patients_to_keep for patient in list(time_between_serial_isolate_collection.patient_id)]\n",
    "time_between_serial_isolate_dropped_filter = [not dates_both_isolates for dates_both_isolates in time_between_serial_isolate_collection_filter]\n",
    "\n",
    "time_between_serial_isolate_collection_dropped = time_between_serial_isolate_collection[time_between_serial_isolate_dropped_filter]\n",
    "time_between_serial_isolate_collection = time_between_serial_isolate_collection[time_between_serial_isolate_collection_filter]"
   ]
  },
  {
   "cell_type": "code",
   "execution_count": 62,
   "metadata": {},
   "outputs": [
    {
     "data": {
      "text/plain": [
       "(390, 10)"
      ]
     },
     "execution_count": 62,
     "metadata": {},
     "output_type": "execute_result"
    }
   ],
   "source": [
    "np.shape(time_between_serial_isolate_collection)"
   ]
  },
  {
   "cell_type": "code",
   "execution_count": 63,
   "metadata": {},
   "outputs": [
    {
     "data": {
      "text/plain": [
       "(6, 10)"
      ]
     },
     "execution_count": 63,
     "metadata": {},
     "output_type": "execute_result"
    }
   ],
   "source": [
    "np.shape(time_between_serial_isolate_collection_dropped )"
   ]
  },
  {
   "cell_type": "code",
   "execution_count": 64,
   "metadata": {},
   "outputs": [
    {
     "data": {
      "text/html": [
       "<div>\n",
       "<style>\n",
       "    .dataframe thead tr:only-child th {\n",
       "        text-align: right;\n",
       "    }\n",
       "\n",
       "    .dataframe thead th {\n",
       "        text-align: left;\n",
       "    }\n",
       "\n",
       "    .dataframe tbody tr th {\n",
       "        vertical-align: top;\n",
       "    }\n",
       "</style>\n",
       "<table border=\"1\" class=\"dataframe\">\n",
       "  <thead>\n",
       "    <tr style=\"text-align: right;\">\n",
       "      <th></th>\n",
       "      <th>Unnamed: 0</th>\n",
       "      <th>run_ID</th>\n",
       "      <th>sample_ID</th>\n",
       "      <th>sample_order</th>\n",
       "      <th>tag</th>\n",
       "      <th>isolate_type</th>\n",
       "      <th>patient_id</th>\n",
       "      <th>date_information</th>\n",
       "      <th>tube_label (cetr)</th>\n",
       "      <th>tag.1</th>\n",
       "    </tr>\n",
       "    <tr>\n",
       "      <th>population</th>\n",
       "      <th></th>\n",
       "      <th></th>\n",
       "      <th></th>\n",
       "      <th></th>\n",
       "      <th></th>\n",
       "      <th></th>\n",
       "      <th></th>\n",
       "      <th></th>\n",
       "      <th></th>\n",
       "      <th></th>\n",
       "    </tr>\n",
       "  </thead>\n",
       "  <tbody>\n",
       "    <tr>\n",
       "      <th>WALKER</th>\n",
       "      <td>310</td>\n",
       "      <td>ERR046918</td>\n",
       "      <td>NaN</td>\n",
       "      <td>1</td>\n",
       "      <td>ERR046918</td>\n",
       "      <td>longitudinal</td>\n",
       "      <td>P000059</td>\n",
       "      <td>2007</td>\n",
       "      <td>NaN</td>\n",
       "      <td>NaN</td>\n",
       "    </tr>\n",
       "    <tr>\n",
       "      <th>WALKER</th>\n",
       "      <td>311</td>\n",
       "      <td>ERR046933</td>\n",
       "      <td>NaN</td>\n",
       "      <td>2</td>\n",
       "      <td>ERR046933</td>\n",
       "      <td>longitudinal</td>\n",
       "      <td>P000059</td>\n",
       "      <td>2007</td>\n",
       "      <td>NaN</td>\n",
       "      <td>NaN</td>\n",
       "    </tr>\n",
       "    <tr>\n",
       "      <th>WALKER</th>\n",
       "      <td>342</td>\n",
       "      <td>ERR047010</td>\n",
       "      <td>NaN</td>\n",
       "      <td>1</td>\n",
       "      <td>ERR047010</td>\n",
       "      <td>longitudinal</td>\n",
       "      <td>P000259</td>\n",
       "      <td>2008</td>\n",
       "      <td>NaN</td>\n",
       "      <td>NaN</td>\n",
       "    </tr>\n",
       "    <tr>\n",
       "      <th>WALKER</th>\n",
       "      <td>343</td>\n",
       "      <td>ERR047012</td>\n",
       "      <td>NaN</td>\n",
       "      <td>2</td>\n",
       "      <td>ERR047012</td>\n",
       "      <td>longitudinal</td>\n",
       "      <td>P000259</td>\n",
       "      <td>2008</td>\n",
       "      <td>NaN</td>\n",
       "      <td>NaN</td>\n",
       "    </tr>\n",
       "    <tr>\n",
       "      <th>WALKER</th>\n",
       "      <td>346</td>\n",
       "      <td>ERR047007</td>\n",
       "      <td>NaN</td>\n",
       "      <td>1</td>\n",
       "      <td>ERR047007</td>\n",
       "      <td>longitudinal</td>\n",
       "      <td>P000267</td>\n",
       "      <td>2007</td>\n",
       "      <td>NaN</td>\n",
       "      <td>NaN</td>\n",
       "    </tr>\n",
       "    <tr>\n",
       "      <th>WALKER</th>\n",
       "      <td>347</td>\n",
       "      <td>ERR072030</td>\n",
       "      <td>NaN</td>\n",
       "      <td>2</td>\n",
       "      <td>ERR072030</td>\n",
       "      <td>longitudinal</td>\n",
       "      <td>P000267</td>\n",
       "      <td>2007</td>\n",
       "      <td>NaN</td>\n",
       "      <td>NaN</td>\n",
       "    </tr>\n",
       "  </tbody>\n",
       "</table>\n",
       "</div>"
      ],
      "text/plain": [
       "            Unnamed: 0     run_ID sample_ID  sample_order        tag  \\\n",
       "population                                                             \n",
       "WALKER             310  ERR046918       NaN             1  ERR046918   \n",
       "WALKER             311  ERR046933       NaN             2  ERR046933   \n",
       "WALKER             342  ERR047010       NaN             1  ERR047010   \n",
       "WALKER             343  ERR047012       NaN             2  ERR047012   \n",
       "WALKER             346  ERR047007       NaN             1  ERR047007   \n",
       "WALKER             347  ERR072030       NaN             2  ERR072030   \n",
       "\n",
       "            isolate_type patient_id date_information tube_label (cetr)  tag.1  \n",
       "population                                                                     \n",
       "WALKER      longitudinal    P000059             2007               NaN    NaN  \n",
       "WALKER      longitudinal    P000059             2007               NaN    NaN  \n",
       "WALKER      longitudinal    P000259             2008               NaN    NaN  \n",
       "WALKER      longitudinal    P000259             2008               NaN    NaN  \n",
       "WALKER      longitudinal    P000267             2007               NaN    NaN  \n",
       "WALKER      longitudinal    P000267             2007               NaN    NaN  "
      ]
     },
     "execution_count": 64,
     "metadata": {},
     "output_type": "execute_result"
    }
   ],
   "source": [
    "time_between_serial_isolate_collection_dropped "
   ]
  },
  {
   "cell_type": "markdown",
   "metadata": {},
   "source": [
    "#### Find distance between all pairs of times"
   ]
  },
  {
   "cell_type": "code",
   "execution_count": 65,
   "metadata": {},
   "outputs": [],
   "source": [
    "pairwise_isolate_time = pd.DataFrame(index = patients_to_keep , columns = ['population' , 'time_between_collection'])\n",
    "\n",
    "for patient_id in patients_to_keep:\n",
    "    \n",
    "    population = time_between_serial_isolate_collection[time_between_serial_isolate_collection.patient_id == patient_id].index[0]\n",
    "    \n",
    "    #append info to dataframe\n",
    "    pairwise_isolate_time.loc[patient_id , 'population'] = population"
   ]
  },
  {
   "cell_type": "code",
   "execution_count": 66,
   "metadata": {},
   "outputs": [
    {
     "data": {
      "text/html": [
       "<div>\n",
       "<style>\n",
       "    .dataframe thead tr:only-child th {\n",
       "        text-align: right;\n",
       "    }\n",
       "\n",
       "    .dataframe thead th {\n",
       "        text-align: left;\n",
       "    }\n",
       "\n",
       "    .dataframe tbody tr th {\n",
       "        vertical-align: top;\n",
       "    }\n",
       "</style>\n",
       "<table border=\"1\" class=\"dataframe\">\n",
       "  <thead>\n",
       "    <tr style=\"text-align: right;\">\n",
       "      <th></th>\n",
       "      <th>population</th>\n",
       "      <th>time_between_collection</th>\n",
       "    </tr>\n",
       "  </thead>\n",
       "  <tbody>\n",
       "    <tr>\n",
       "      <th>2020E</th>\n",
       "      <td>BRYANT</td>\n",
       "      <td>NaN</td>\n",
       "    </tr>\n",
       "    <tr>\n",
       "      <th>2027W</th>\n",
       "      <td>BRYANT</td>\n",
       "      <td>NaN</td>\n",
       "    </tr>\n",
       "    <tr>\n",
       "      <th>2028K</th>\n",
       "      <td>BRYANT</td>\n",
       "      <td>NaN</td>\n",
       "    </tr>\n",
       "    <tr>\n",
       "      <th>2041Q</th>\n",
       "      <td>BRYANT</td>\n",
       "      <td>NaN</td>\n",
       "    </tr>\n",
       "    <tr>\n",
       "      <th>2043R</th>\n",
       "      <td>BRYANT</td>\n",
       "      <td>NaN</td>\n",
       "    </tr>\n",
       "  </tbody>\n",
       "</table>\n",
       "</div>"
      ],
      "text/plain": [
       "      population time_between_collection\n",
       "2020E     BRYANT                     NaN\n",
       "2027W     BRYANT                     NaN\n",
       "2028K     BRYANT                     NaN\n",
       "2041Q     BRYANT                     NaN\n",
       "2043R     BRYANT                     NaN"
      ]
     },
     "execution_count": 66,
     "metadata": {},
     "output_type": "execute_result"
    }
   ],
   "source": [
    "pairwise_isolate_time.head()"
   ]
  },
  {
   "cell_type": "code",
   "execution_count": 67,
   "metadata": {},
   "outputs": [],
   "source": [
    "for patient_id in pairwise_isolate_time.index:\n",
    "    \n",
    "    population = pairwise_isolate_time.loc[patient_id , 'population']\n",
    "    patient_id = patient_id\n",
    "    \n",
    "    if population == 'BRYANT':\n",
    "        \n",
    "        bryant_pair = time_between_serial_isolate_collection[time_between_serial_isolate_collection.patient_id == patient_id]\n",
    "        \n",
    "        first_date = bryant_pair[bryant_pair.sample_order == 1].date_information.values[0]\n",
    "        second_date = bryant_pair[bryant_pair.sample_order == 2].date_information.values[0]\n",
    "\n",
    "        num_days_between = (int(second_date) - int(first_date))*7 #dates are in # of weeks apart\n",
    "    \n",
    "    if population == 'CASALI':\n",
    "        \n",
    "        casali_pair = time_between_serial_isolate_collection[time_between_serial_isolate_collection.patient_id == patient_id]\n",
    "\n",
    "        first_date = casali_pair[casali_pair.sample_order == 1].date_information.values[0]\n",
    "        day = first_date.split('/')[0]\n",
    "        month = first_date.split('/')[1]\n",
    "        year = '20' + first_date.split('/')[2]\n",
    "        first_date = pd.to_datetime(pd.DataFrame({'year':[year] , 'month':[month] , 'day':[day]}))\n",
    "\n",
    "        second_date = casali_pair[casali_pair.sample_order == 2].date_information.values[0]\n",
    "        day = second_date.split('/')[0]\n",
    "        month = second_date.split('/')[1]\n",
    "        year = '20' + second_date.split('/')[2]\n",
    "        second_date = pd.to_datetime(pd.DataFrame({'year':[year] , 'month':[month] , 'day':[day]}))\n",
    "\n",
    "        num_days_between = (second_date - first_date).dt.days[0]\n",
    "        \n",
    "    elif (population == 'CETR') or (population == 'GUERRA') or (population == 'WITNEY') or (population == 'XU'):\n",
    "        \n",
    "        serial_pair = time_between_serial_isolate_collection[time_between_serial_isolate_collection.patient_id == patient_id]\n",
    "\n",
    "        first_date = serial_pair[serial_pair.sample_order == 1].date_information.values[0]\n",
    "        day = first_date.split('/')[1]\n",
    "        month = first_date.split('/')[0]\n",
    "        if int(first_date.split('/')[2]) in range(50,100): #some dates in 1990's others in 2000's\n",
    "            year = '19' + first_date.split('/')[2]\n",
    "        else:\n",
    "            year = '20' + first_date.split('/')[2]\n",
    "\n",
    "        first_date = pd.to_datetime(pd.DataFrame({'year':[year] , 'month':[month] , 'day':[day]}))\n",
    "\n",
    "\n",
    "        second_date = serial_pair[serial_pair.sample_order == 2].date_information.values[0]\n",
    "        day = second_date.split('/')[1]\n",
    "        month = second_date.split('/')[0]\n",
    "        if int(second_date.split('/')[2]) in range(50,100):\n",
    "            year = '19' + second_date.split('/')[2]\n",
    "        else:\n",
    "            year = '20' + second_date.split('/')[2]\n",
    "\n",
    "        second_date = pd.to_datetime(pd.DataFrame({'year':[year] , 'month':[month] , 'day':[day]}))\n",
    "\n",
    "        num_days_between = (second_date - first_date).dt.days[0]\n",
    "        \n",
    "    elif (population == 'TRAUNER') or (population == 'BRYANT'):\n",
    "        \n",
    "        serial_pair = time_between_serial_isolate_collection[time_between_serial_isolate_collection.patient_id == patient_id]\n",
    "\n",
    "        first_date = serial_pair[serial_pair.sample_order == 1].date_information.values[0]\n",
    "        second_date = serial_pair[serial_pair.sample_order == 2].date_information.values[0]\n",
    "\n",
    "        num_days_between = (int(second_date) - int(first_date))*7 #dates are in # of weeks apart\n",
    "        \n",
    "    elif population == 'WALKER':\n",
    "        \n",
    "        walker_pair = time_between_serial_isolate_collection[time_between_serial_isolate_collection.patient_id == patient_id]\n",
    "\n",
    "        first_date = walker_pair[walker_pair.sample_order == 1].date_information.values[0]\n",
    "        day = '1'\n",
    "        month = '1'\n",
    "        year = first_date\n",
    "        first_date = pd.to_datetime(pd.DataFrame({'year':[year] , 'month':[month] , 'day':[day]}))\n",
    "\n",
    "        second_date = walker_pair[walker_pair.sample_order == 2].date_information.values[0]\n",
    "        day = '1'\n",
    "        month = '1'\n",
    "        year = second_date\n",
    "        second_date = pd.to_datetime(pd.DataFrame({'year':[year] , 'month':[month] , 'day':[day]}))\n",
    "\n",
    "        num_days_between = (second_date - first_date).dt.days[0]\n",
    "        \n",
    "    #append distance between isolate collection\n",
    "    pairwise_isolate_time.loc[patient_id , 'time_between_collection'] = num_days_between"
   ]
  },
  {
   "cell_type": "code",
   "execution_count": 68,
   "metadata": {},
   "outputs": [
    {
     "data": {
      "text/html": [
       "<div>\n",
       "<style>\n",
       "    .dataframe thead tr:only-child th {\n",
       "        text-align: right;\n",
       "    }\n",
       "\n",
       "    .dataframe thead th {\n",
       "        text-align: left;\n",
       "    }\n",
       "\n",
       "    .dataframe tbody tr th {\n",
       "        vertical-align: top;\n",
       "    }\n",
       "</style>\n",
       "<table border=\"1\" class=\"dataframe\">\n",
       "  <thead>\n",
       "    <tr style=\"text-align: right;\">\n",
       "      <th></th>\n",
       "      <th>population</th>\n",
       "      <th>time_between_collection</th>\n",
       "    </tr>\n",
       "  </thead>\n",
       "  <tbody>\n",
       "    <tr>\n",
       "      <th>2020E</th>\n",
       "      <td>BRYANT</td>\n",
       "      <td>252</td>\n",
       "    </tr>\n",
       "    <tr>\n",
       "      <th>2027W</th>\n",
       "      <td>BRYANT</td>\n",
       "      <td>336</td>\n",
       "    </tr>\n",
       "    <tr>\n",
       "      <th>2028K</th>\n",
       "      <td>BRYANT</td>\n",
       "      <td>182</td>\n",
       "    </tr>\n",
       "    <tr>\n",
       "      <th>2041Q</th>\n",
       "      <td>BRYANT</td>\n",
       "      <td>182</td>\n",
       "    </tr>\n",
       "    <tr>\n",
       "      <th>2043R</th>\n",
       "      <td>BRYANT</td>\n",
       "      <td>252</td>\n",
       "    </tr>\n",
       "  </tbody>\n",
       "</table>\n",
       "</div>"
      ],
      "text/plain": [
       "      population time_between_collection\n",
       "2020E     BRYANT                     252\n",
       "2027W     BRYANT                     336\n",
       "2028K     BRYANT                     182\n",
       "2041Q     BRYANT                     182\n",
       "2043R     BRYANT                     252"
      ]
     },
     "execution_count": 68,
     "metadata": {},
     "output_type": "execute_result"
    }
   ],
   "source": [
    "pairwise_isolate_time.head()"
   ]
  },
  {
   "cell_type": "code",
   "execution_count": 69,
   "metadata": {},
   "outputs": [],
   "source": [
    "filtered_persistent_pairwise_isolate_times = pairwise_isolate_time.time_between_collection"
   ]
  },
  {
   "cell_type": "markdown",
   "metadata": {},
   "source": [
    "######################################################################################################################################################################################################################################################################"
   ]
  },
  {
   "cell_type": "markdown",
   "metadata": {},
   "source": [
    "## Compare F2 (mixed) samples and fSNP (re-infection) samples with filtered (persistent) samples"
   ]
  },
  {
   "cell_type": "markdown",
   "metadata": {},
   "source": [
    "######################################################################################################################################################################################################################################################################"
   ]
  },
  {
   "cell_type": "markdown",
   "metadata": {},
   "source": [
    "### Using 1.7 months as the *duration* threshold for treatment treshold"
   ]
  },
  {
   "cell_type": "code",
   "execution_count": 76,
   "metadata": {},
   "outputs": [],
   "source": [
    "F2_contaminated_pairwise_isolate_times_months = F2_contaminated_pairwise_isolate_times/30.0\n",
    "fSNP_contaminated_pairwise_isolate_times_months = fSNP_contaminated_pairwise_isolate_times/30.0\n",
    "filtered_persistent_pairwise_isolate_times_months = filtered_persistent_pairwise_isolate_times/30.0"
   ]
  },
  {
   "cell_type": "code",
   "execution_count": 80,
   "metadata": {},
   "outputs": [
    {
     "data": {
      "text/plain": [
       "(30,)"
      ]
     },
     "execution_count": 80,
     "metadata": {},
     "output_type": "execute_result"
    }
   ],
   "source": [
    "np.shape(F2_contaminated_pairwise_isolate_times_months[F2_contaminated_pairwise_isolate_times_months >= 1.7])"
   ]
  },
  {
   "cell_type": "code",
   "execution_count": 81,
   "metadata": {},
   "outputs": [
    {
     "data": {
      "text/plain": [
       "(39,)"
      ]
     },
     "execution_count": 81,
     "metadata": {},
     "output_type": "execute_result"
    }
   ],
   "source": [
    "np.shape(fSNP_contaminated_pairwise_isolate_times_months[fSNP_contaminated_pairwise_isolate_times_months >= 1.7])"
   ]
  },
  {
   "cell_type": "code",
   "execution_count": 82,
   "metadata": {},
   "outputs": [
    {
     "data": {
      "text/plain": [
       "(178,)"
      ]
     },
     "execution_count": 82,
     "metadata": {},
     "output_type": "execute_result"
    }
   ],
   "source": [
    "np.shape(filtered_persistent_pairwise_isolate_times_months[filtered_persistent_pairwise_isolate_times_months >= 1.7])"
   ]
  },
  {
   "cell_type": "markdown",
   "metadata": {},
   "source": [
    "### Mixed (F2 filter) isolate pairs"
   ]
  },
  {
   "cell_type": "code",
   "execution_count": 70,
   "metadata": {},
   "outputs": [
    {
     "data": {
      "text/plain": [
       "647.1935483870968"
      ]
     },
     "execution_count": 70,
     "metadata": {},
     "output_type": "execute_result"
    }
   ],
   "source": [
    "np.mean( F2_contaminated_pairwise_isolate_times )"
   ]
  },
  {
   "cell_type": "code",
   "execution_count": 71,
   "metadata": {},
   "outputs": [
    {
     "data": {
      "text/plain": [
       "336.0"
      ]
     },
     "execution_count": 71,
     "metadata": {},
     "output_type": "execute_result"
    }
   ],
   "source": [
    "np.median( F2_contaminated_pairwise_isolate_times )"
   ]
  },
  {
   "cell_type": "code",
   "execution_count": 72,
   "metadata": {},
   "outputs": [
    {
     "data": {
      "text/plain": [
       "3"
      ]
     },
     "execution_count": 72,
     "metadata": {},
     "output_type": "execute_result"
    }
   ],
   "source": [
    "len(F2_contaminated_pairwise_isolate_times[ F2_contaminated_pairwise_isolate_times < 60 ])"
   ]
  },
  {
   "cell_type": "code",
   "execution_count": 73,
   "metadata": {},
   "outputs": [
    {
     "data": {
      "text/plain": [
       "28"
      ]
     },
     "execution_count": 73,
     "metadata": {},
     "output_type": "execute_result"
    }
   ],
   "source": [
    "len(F2_contaminated_pairwise_isolate_times[ F2_contaminated_pairwise_isolate_times >= 60 ])"
   ]
  },
  {
   "cell_type": "markdown",
   "metadata": {},
   "source": [
    "### Re-infection (fSNP filter) isolate pairs"
   ]
  },
  {
   "cell_type": "code",
   "execution_count": 74,
   "metadata": {},
   "outputs": [
    {
     "data": {
      "text/plain": [
       "1019.1395348837209"
      ]
     },
     "execution_count": 74,
     "metadata": {},
     "output_type": "execute_result"
    }
   ],
   "source": [
    "np.mean( fSNP_contaminated_pairwise_isolate_times )"
   ]
  },
  {
   "cell_type": "code",
   "execution_count": 75,
   "metadata": {},
   "outputs": [
    {
     "data": {
      "text/plain": [
       "538"
      ]
     },
     "execution_count": 75,
     "metadata": {},
     "output_type": "execute_result"
    }
   ],
   "source": [
    "np.median( fSNP_contaminated_pairwise_isolate_times )"
   ]
  },
  {
   "cell_type": "code",
   "execution_count": 76,
   "metadata": {},
   "outputs": [
    {
     "data": {
      "text/plain": [
       "8"
      ]
     },
     "execution_count": 76,
     "metadata": {},
     "output_type": "execute_result"
    }
   ],
   "source": [
    "len(fSNP_contaminated_pairwise_isolate_times[ fSNP_contaminated_pairwise_isolate_times < 60 ])"
   ]
  },
  {
   "cell_type": "code",
   "execution_count": 77,
   "metadata": {},
   "outputs": [
    {
     "data": {
      "text/plain": [
       "35"
      ]
     },
     "execution_count": 77,
     "metadata": {},
     "output_type": "execute_result"
    }
   ],
   "source": [
    "len(fSNP_contaminated_pairwise_isolate_times[ fSNP_contaminated_pairwise_isolate_times >= 60 ])"
   ]
  },
  {
   "cell_type": "markdown",
   "metadata": {},
   "source": [
    "### Persistent (passed all filters) isolate pairs"
   ]
  },
  {
   "cell_type": "code",
   "execution_count": 78,
   "metadata": {},
   "outputs": [
    {
     "data": {
      "text/plain": [
       "427.20512820512823"
      ]
     },
     "execution_count": 78,
     "metadata": {},
     "output_type": "execute_result"
    }
   ],
   "source": [
    "np.mean( filtered_persistent_pairwise_isolate_times )"
   ]
  },
  {
   "cell_type": "code",
   "execution_count": 79,
   "metadata": {},
   "outputs": [
    {
     "data": {
      "text/plain": [
       "281"
      ]
     },
     "execution_count": 79,
     "metadata": {},
     "output_type": "execute_result"
    }
   ],
   "source": [
    "np.median( filtered_persistent_pairwise_isolate_times )"
   ]
  },
  {
   "cell_type": "code",
   "execution_count": 80,
   "metadata": {},
   "outputs": [
    {
     "data": {
      "text/plain": [
       "28"
      ]
     },
     "execution_count": 80,
     "metadata": {},
     "output_type": "execute_result"
    }
   ],
   "source": [
    "len(filtered_persistent_pairwise_isolate_times[ filtered_persistent_pairwise_isolate_times < 60 ])"
   ]
  },
  {
   "cell_type": "code",
   "execution_count": 81,
   "metadata": {},
   "outputs": [
    {
     "data": {
      "text/plain": [
       "167"
      ]
     },
     "execution_count": 81,
     "metadata": {},
     "output_type": "execute_result"
    }
   ],
   "source": [
    "len(filtered_persistent_pairwise_isolate_times[ filtered_persistent_pairwise_isolate_times >= 60 ])"
   ]
  },
  {
   "cell_type": "markdown",
   "metadata": {},
   "source": [
    "### Total Number of Isolate Pairs & Number of Isolate Pairs with collections times $\\ge$ 2 months/60 days"
   ]
  },
  {
   "cell_type": "code",
   "execution_count": 82,
   "metadata": {},
   "outputs": [
    {
     "data": {
      "text/plain": [
       "269"
      ]
     },
     "execution_count": 82,
     "metadata": {},
     "output_type": "execute_result"
    }
   ],
   "source": [
    "3 + 28 + 8 + 35 + 28 + 167 #total number of pairs"
   ]
  },
  {
   "cell_type": "code",
   "execution_count": 83,
   "metadata": {},
   "outputs": [
    {
     "data": {
      "text/plain": [
       "230"
      ]
     },
     "execution_count": 83,
     "metadata": {},
     "output_type": "execute_result"
    }
   ],
   "source": [
    "28 + 35 + 167 #total number of isolate pairs with collection times >= 2 months"
   ]
  },
  {
   "cell_type": "markdown",
   "metadata": {},
   "source": [
    "### Plot *time between isolate collection* for *mixed* group and *re-infection* group"
   ]
  },
  {
   "cell_type": "code",
   "execution_count": 64,
   "metadata": {},
   "outputs": [],
   "source": [
    "plt.style.use('ggplot')\n",
    "plt.rcParams['lines.linewidth']=0\n",
    "plt.rcParams['axes.facecolor']='1.0'\n",
    "plt.rcParams['xtick.color']='black'\n",
    "plt.rcParams['axes.grid']=False\n",
    "plt.rcParams['axes.edgecolor']='black'\n",
    "plt.rcParams['grid.color']= '1.0'\n",
    "plt.rcParams.update({'font.size': 14})"
   ]
  },
  {
   "cell_type": "code",
   "execution_count": 65,
   "metadata": {},
   "outputs": [],
   "source": [
    "from pylab import plot, show, savefig, xlim, figure, hold, ylim, legend, boxplot, setp, axes\n",
    "\n",
    "linewidth_for_box = 3.0\n",
    "\n",
    "# function for setting the colors of the box plots pairs\n",
    "def setBoxColors(bp , color):\n",
    "    setp(bp['boxes'][0], color=color , linewidth = linewidth_for_box)\n",
    "    setp(bp['caps'][0], color=color , linewidth = linewidth_for_box)\n",
    "    setp(bp['caps'][1], color=color , linewidth = linewidth_for_box)\n",
    "    setp(bp['whiskers'][0], color=color , linewidth = linewidth_for_box)\n",
    "    setp(bp['whiskers'][1], color=color , linewidth = linewidth_for_box)\n",
    "    setp(bp['fliers'][0], color=color , alpha = 0.65)\n",
    "    setp(bp['medians'][0], color=color , linewidth = 3.0)\n",
    "    bp['fliers'][0].set_markerfacecolor(color)\n",
    "    bp['fliers'][0].set_markeredgewidth(0.5)\n",
    "    bp['fliers'][0].set_markersize(6.0)\n",
    "    bp['fliers'][0].set_markeredgecolor('white')\n",
    "    \n",
    "def values_to_variant_types(values):\n",
    "    SNP_vals = values.alt_AF_diff\n",
    "    return [SNP_vals]\n",
    "\n",
    "def color_bar(bar , color):\n",
    "    bar.set_color(color)\n",
    "    bar.set_edgecolor('k')\n",
    "    bar.set_linewidth(1.0)"
   ]
  },
  {
   "cell_type": "code",
   "execution_count": 66,
   "metadata": {},
   "outputs": [
    {
     "name": "stderr",
     "output_type": "stream",
     "text": [
      "/home/rv76/anaconda2/lib/python2.7/site-packages/matplotlib/cbook/deprecation.py:107: MatplotlibDeprecationWarning: Passing one of 'on', 'true', 'off', 'false' as a boolean is deprecated; use an actual boolean (True/False) instead.\n",
      "  warnings.warn(message, mplDeprecation, stacklevel=1)\n"
     ]
    },
    {
     "data": {
      "image/png": "[encoded data removed]",
      "text/plain": [
       "<Figure size 306x432 with 1 Axes>"
      ]
     },
     "metadata": {},
     "output_type": "display_data"
    }
   ],
   "source": [
    "fig = plt.figure(1, figsize=(4.25, 6.0))\n",
    "ax1 = axes()\n",
    "\n",
    "box_width = 0.7\n",
    "ind = [1,2]\n",
    "\n",
    "### Example in case we want to show means later ###\n",
    "##Syn_values = SNP_variants_within_patients[SNP_variants_within_patients.SNP_type == 'S']\n",
    "##meanlineprops = dict(linestyle='--' , color = 'b' , linewidth = linewidth_for_box)\n",
    "##bp = ax1.boxplot(values_to_variant_types(Syn_values) , positions = [ind[0]], widths = box_width , meanprops = meanlineprops, meanline = True, showmeans = True)\n",
    "##setBoxColors(bp , 'b')\n",
    "\n",
    "#times between isolate collection for F2 contaminated samples\n",
    "bp = ax1.boxplot(F2_contaminated_pairwise_isolate_times.values.astype(float) , positions = [ind[0]], widths = box_width)\n",
    "setBoxColors(bp , 'blue')\n",
    "\n",
    "#times between isolate collection for fSNP contaminated samples\n",
    "bp = ax1.boxplot(fSNP_contaminated_pairwise_isolate_times.values.astype(float) , positions = [ind[1]], widths = box_width)\n",
    "setBoxColors(bp , 'black')\n",
    "\n",
    "max_time_btwn_collection = max(np.max(F2_contaminated_pairwise_isolate_times.values) , np.max(fSNP_contaminated_pairwise_isolate_times.values) )\n",
    "\n",
    "#y-labels\n",
    "ax1.set_ylim([-75 , max_time_btwn_collection + 75])\n",
    "ax1.set_yticks(range(0 , max_time_btwn_collection , 500))\n",
    "y_labels = range(0 , max_time_btwn_collection , 500)\n",
    "ax1.set_yticklabels(y_labels, rotation='horizontal', fontsize = 12)  \n",
    "ax1.tick_params(axis='y', which='major', labelsize=12, pad = 4)\n",
    "\n",
    "#x-labels\n",
    "ax1.set_xlim([0.5 , 2.5])\n",
    "ax1.set_xticks(ind)\n",
    "x_labels = ['F2 contam.\\n(n=' + str(len(F2_contaminated_pairwise_isolate_times)) + ')', 'fSNP contam.\\n(n=' + str(len(fSNP_contaminated_pairwise_isolate_times)) + ')']\n",
    "ax1.set_xticklabels(x_labels, rotation='horizontal', fontsize = 12)  \n",
    "\n",
    "ax1.spines['right'].set_visible(False)\n",
    "ax1.spines['top'].set_visible(False)\n",
    "\n",
    "#label y-axis\n",
    "fig.text(-0.013, 0.56, 'Number of Days between Isolate Collection',  ha='center', va='center', rotation=90, fontsize = 12 , color = 'k')\n",
    "\n",
    "plt.tick_params(\n",
    "    axis='x',          # changes apply to the x-axis\n",
    "    which='both',      # both major and minor ticks are affected\n",
    "    bottom='off',      # ticks along the bottom edge are off\n",
    "    top='off',         # ticks along the top edge are off\n",
    "    labelbottom='on') # labels along the bottom edge are off\n",
    "\n",
    "plt.tick_params(\n",
    "    axis='y',          # changes apply to the x-axis\n",
    "    which='both',      # both major and minor ticks are affected\n",
    "    left='off',      # ticks along the bottom edge are off\n",
    "    right='off',         # ticks along the top edge are off\n",
    "    labelleft='on') # labels along the bottom edge are off\n",
    "\n",
    "fig = plt.gcf()\n",
    "fig.tight_layout()\n",
    "\n",
    "#output for Adobe Illustrator\n",
    "#file_name = '/home/rv76/Farhat_Lab/Figures/Final_5/Sample_Summary/times_between_serial_isolate_collection_AR_SNPs_vs_no_AR_SNPs.pdf'\n",
    "#plt.savefig(file_name, bbox_inches='tight', dpi = 300 , transparent = True)\n",
    "\n",
    "plt.show()"
   ]
  },
  {
   "cell_type": "code",
   "execution_count": 67,
   "metadata": {},
   "outputs": [],
   "source": [
    "#compute Mann-Whitnes U test\n",
    "non_parametric_test_pval = scipy.stats.mannwhitneyu(F2_contaminated_pairwise_isolate_times.values , fSNP_contaminated_pairwise_isolate_times.values )[1]"
   ]
  },
  {
   "cell_type": "code",
   "execution_count": 68,
   "metadata": {},
   "outputs": [
    {
     "data": {
      "text/plain": [
       "0.21993464470036528"
      ]
     },
     "execution_count": 68,
     "metadata": {},
     "output_type": "execute_result"
    }
   ],
   "source": [
    "non_parametric_test_pval"
   ]
  }
 ],
 "metadata": {
  "kernelspec": {
   "display_name": "Python 2",
   "language": "python",
   "name": "python2"
  },
  "language_info": {
   "codemirror_mode": {
    "name": "ipython",
    "version": 2
   },
   "file_extension": ".py",
   "mimetype": "text/x-python",
   "name": "python",
   "nbconvert_exporter": "python",
   "pygments_lexer": "ipython2",
   "version": "2.7.16"
  }
 },
 "nbformat": 4,
 "nbformat_minor": 2
}
