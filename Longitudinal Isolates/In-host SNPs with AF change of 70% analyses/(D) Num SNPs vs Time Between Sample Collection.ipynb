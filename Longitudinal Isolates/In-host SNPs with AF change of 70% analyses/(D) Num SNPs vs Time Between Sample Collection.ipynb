{
 "cells": [
  {
   "cell_type": "markdown",
   "metadata": {},
   "source": [
    "#### This notebook gathers the relevant SNPs and compares the number of variants accumulated in each subject to the time between the collection of the longitudinal samples"
   ]
  },
  {
   "cell_type": "code",
   "execution_count": 1,
   "metadata": {},
   "outputs": [
    {
     "data": {
      "text/html": [
       "<style>.container { width:100% !important; }</style>"
      ],
      "text/plain": [
       "<IPython.core.display.HTML object>"
      ]
     },
     "metadata": {},
     "output_type": "display_data"
    }
   ],
   "source": [
    "from IPython.core.display import display, HTML\n",
    "display(HTML(\"<style>.container { width:100% !important; }</style>\"))"
   ]
  },
  {
   "cell_type": "code",
   "execution_count": 2,
   "metadata": {},
   "outputs": [],
   "source": [
    "import vcf\n",
    "\n",
    "%matplotlib inline\n",
    "import os\n",
    "import pandas as pd\n",
    "import numpy as np\n",
    "import matplotlib.pyplot as plt\n",
    "import matplotlib as mpl\n",
    "import matplotlib.ticker as ticker\n",
    "from itertools import compress\n",
    "from pylab import MaxNLocator\n",
    "import seaborn as sns; sns.set()\n",
    "from matplotlib.colors import LogNorm\n",
    "from matplotlib import gridspec\n",
    "import ast\n",
    "import itertools\n",
    "import seaborn as sns\n",
    "from sklearn.preprocessing import StandardScaler\n",
    "\n",
    "import fastcluster\n",
    "from sklearn import cluster, datasets\n",
    "import scipy.cluster.hierarchy as hier\n",
    "from sklearn.cluster import KMeans\n",
    "import time\n",
    "import sys\n",
    "\n",
    "import Bio\n",
    "from Bio.Alphabet import IUPAC\n",
    "from Bio.Blast.Applications import NcbiblastnCommandline\n",
    "from Bio.Blast import NCBIXML\n",
    "from Bio.Seq import Seq\n",
    "from Bio.SeqRecord import SeqRecord\n",
    "from Bio.SeqFeature import SeqFeature, FeatureLocation\n",
    "from Bio import pairwise2\n",
    "from Bio import SeqIO\n",
    "from Bio.Graphics import GenomeDiagram\n",
    "from Bio.SeqUtils import GC\n",
    "\n",
    "from Bio.Align.Applications import MuscleCommandline\n",
    "from StringIO import StringIO\n",
    "from Bio import AlignIO\n",
    "from Bio.Align import AlignInfo\n",
    "from Bio.Seq import MutableSeq\n",
    "import itertools\n",
    "\n",
    "import networkx as nx\n",
    "import scipy\n",
    "import datetime as dt\n",
    "import statsmodels.api as sm\n",
    "\n",
    "#for exporting to Adobe Illustrator\n",
    "mpl.rcParams['pdf.fonttype'] = 42\n",
    "mpl.rcParams['ps.fonttype'] = 42"
   ]
  },
  {
   "cell_type": "markdown",
   "metadata": {},
   "source": [
    "### Sample annotation for 200 filtered Subjects & corresponding isolates"
   ]
  },
  {
   "cell_type": "markdown",
   "metadata": {},
   "source": [
    "#### Import annotation files for all samples"
   ]
  },
  {
   "cell_type": "code",
   "execution_count": 3,
   "metadata": {},
   "outputs": [],
   "source": [
    "sample_annotation_df = pd.read_csv('/n/data1/hms/dbmi/farhat/Roger/inhost_TB_dynamics_project/CSV_files/sample_annotation_files/Longitudinal_sample_annotation_for_temporal_analysis.csv' , sep  = ',').set_index('patient_id')\n",
    "sample_annotation_df.drop(labels = ['Unnamed: 0','isolate_type'] , axis = 1 , inplace = True)"
   ]
  },
  {
   "cell_type": "code",
   "execution_count": 4,
   "metadata": {
    "scrolled": true
   },
   "outputs": [
    {
     "data": {
      "text/html": [
       "<div>\n",
       "<style>\n",
       "    .dataframe thead tr:only-child th {\n",
       "        text-align: right;\n",
       "    }\n",
       "\n",
       "    .dataframe thead th {\n",
       "        text-align: left;\n",
       "    }\n",
       "\n",
       "    .dataframe tbody tr th {\n",
       "        vertical-align: top;\n",
       "    }\n",
       "</style>\n",
       "<table border=\"1\" class=\"dataframe\">\n",
       "  <thead>\n",
       "    <tr style=\"text-align: right;\">\n",
       "      <th></th>\n",
       "      <th>population</th>\n",
       "      <th>run_ID</th>\n",
       "      <th>sample_ID</th>\n",
       "      <th>sample_order</th>\n",
       "      <th>tag</th>\n",
       "    </tr>\n",
       "    <tr>\n",
       "      <th>patient_id</th>\n",
       "      <th></th>\n",
       "      <th></th>\n",
       "      <th></th>\n",
       "      <th></th>\n",
       "      <th></th>\n",
       "    </tr>\n",
       "  </thead>\n",
       "  <tbody>\n",
       "    <tr>\n",
       "      <th>2020E</th>\n",
       "      <td>BRYANT</td>\n",
       "      <td>ERR108130</td>\n",
       "      <td>400044.0</td>\n",
       "      <td>1</td>\n",
       "      <td>ERR108130</td>\n",
       "    </tr>\n",
       "    <tr>\n",
       "      <th>2020E</th>\n",
       "      <td>BRYANT</td>\n",
       "      <td>ERR108129</td>\n",
       "      <td>401206.0</td>\n",
       "      <td>2</td>\n",
       "      <td>ERR108129</td>\n",
       "    </tr>\n",
       "    <tr>\n",
       "      <th>2027W</th>\n",
       "      <td>BRYANT</td>\n",
       "      <td>ERR108131</td>\n",
       "      <td>400673.0</td>\n",
       "      <td>1</td>\n",
       "      <td>ERR108131</td>\n",
       "    </tr>\n",
       "    <tr>\n",
       "      <th>2027W</th>\n",
       "      <td>BRYANT</td>\n",
       "      <td>ERR108132</td>\n",
       "      <td>402568.0</td>\n",
       "      <td>2</td>\n",
       "      <td>ERR108132</td>\n",
       "    </tr>\n",
       "    <tr>\n",
       "      <th>2028K</th>\n",
       "      <td>BRYANT</td>\n",
       "      <td>ERR108133</td>\n",
       "      <td>400711.0</td>\n",
       "      <td>1</td>\n",
       "      <td>ERR108133</td>\n",
       "    </tr>\n",
       "  </tbody>\n",
       "</table>\n",
       "</div>"
      ],
      "text/plain": [
       "           population     run_ID sample_ID  sample_order        tag\n",
       "patient_id                                                         \n",
       "2020E          BRYANT  ERR108130  400044.0             1  ERR108130\n",
       "2020E          BRYANT  ERR108129  401206.0             2  ERR108129\n",
       "2027W          BRYANT  ERR108131  400673.0             1  ERR108131\n",
       "2027W          BRYANT  ERR108132  402568.0             2  ERR108132\n",
       "2028K          BRYANT  ERR108133  400711.0             1  ERR108133"
      ]
     },
     "execution_count": 4,
     "metadata": {},
     "output_type": "execute_result"
    }
   ],
   "source": [
    "sample_annotation_df.head()"
   ]
  },
  {
   "cell_type": "code",
   "execution_count": 5,
   "metadata": {},
   "outputs": [
    {
     "data": {
      "text/plain": [
       "(400, 5)"
      ]
     },
     "execution_count": 5,
     "metadata": {},
     "output_type": "execute_result"
    }
   ],
   "source": [
    "np.shape(sample_annotation_df)"
   ]
  },
  {
   "cell_type": "markdown",
   "metadata": {},
   "source": [
    "### Get the time between when each pair of subjects was collected"
   ]
  },
  {
   "cell_type": "code",
   "execution_count": 6,
   "metadata": {},
   "outputs": [],
   "source": [
    "time_between_serial_isolate_collection = pd.read_csv('/n/data1/hms/dbmi/farhat/Roger/inhost_TB_dynamics_project/CSV_files/sample_annotation_files/Longitudinal_sample_annotation_for_temporal_analysis_with_dates.csv').set_index('population')\n",
    "time_between_serial_isolate_collection.drop(labels = ['Unnamed: 0'] , axis = 1 , inplace = True)"
   ]
  },
  {
   "cell_type": "code",
   "execution_count": 7,
   "metadata": {},
   "outputs": [
    {
     "data": {
      "text/html": [
       "<div>\n",
       "<style>\n",
       "    .dataframe thead tr:only-child th {\n",
       "        text-align: right;\n",
       "    }\n",
       "\n",
       "    .dataframe thead th {\n",
       "        text-align: left;\n",
       "    }\n",
       "\n",
       "    .dataframe tbody tr th {\n",
       "        vertical-align: top;\n",
       "    }\n",
       "</style>\n",
       "<table border=\"1\" class=\"dataframe\">\n",
       "  <thead>\n",
       "    <tr style=\"text-align: right;\">\n",
       "      <th></th>\n",
       "      <th>run_ID</th>\n",
       "      <th>sample_ID</th>\n",
       "      <th>sample_order</th>\n",
       "      <th>tag</th>\n",
       "      <th>isolate_type</th>\n",
       "      <th>patient_id</th>\n",
       "      <th>date_information</th>\n",
       "      <th>tube_label (cetr)</th>\n",
       "      <th>tag.1</th>\n",
       "    </tr>\n",
       "    <tr>\n",
       "      <th>population</th>\n",
       "      <th></th>\n",
       "      <th></th>\n",
       "      <th></th>\n",
       "      <th></th>\n",
       "      <th></th>\n",
       "      <th></th>\n",
       "      <th></th>\n",
       "      <th></th>\n",
       "      <th></th>\n",
       "    </tr>\n",
       "  </thead>\n",
       "  <tbody>\n",
       "    <tr>\n",
       "      <th>BRYANT</th>\n",
       "      <td>ERR108130</td>\n",
       "      <td>400044</td>\n",
       "      <td>1</td>\n",
       "      <td>ERR108130</td>\n",
       "      <td>longitudinal</td>\n",
       "      <td>2020E</td>\n",
       "      <td>0</td>\n",
       "      <td>NaN</td>\n",
       "      <td>NaN</td>\n",
       "    </tr>\n",
       "    <tr>\n",
       "      <th>BRYANT</th>\n",
       "      <td>ERR108129</td>\n",
       "      <td>401206</td>\n",
       "      <td>2</td>\n",
       "      <td>ERR108129</td>\n",
       "      <td>longitudinal</td>\n",
       "      <td>2020E</td>\n",
       "      <td>36</td>\n",
       "      <td>NaN</td>\n",
       "      <td>NaN</td>\n",
       "    </tr>\n",
       "    <tr>\n",
       "      <th>BRYANT</th>\n",
       "      <td>ERR108131</td>\n",
       "      <td>400673</td>\n",
       "      <td>1</td>\n",
       "      <td>ERR108131</td>\n",
       "      <td>longitudinal</td>\n",
       "      <td>2027W</td>\n",
       "      <td>0</td>\n",
       "      <td>NaN</td>\n",
       "      <td>NaN</td>\n",
       "    </tr>\n",
       "    <tr>\n",
       "      <th>BRYANT</th>\n",
       "      <td>ERR108132</td>\n",
       "      <td>402568</td>\n",
       "      <td>2</td>\n",
       "      <td>ERR108132</td>\n",
       "      <td>longitudinal</td>\n",
       "      <td>2027W</td>\n",
       "      <td>48</td>\n",
       "      <td>NaN</td>\n",
       "      <td>NaN</td>\n",
       "    </tr>\n",
       "    <tr>\n",
       "      <th>BRYANT</th>\n",
       "      <td>ERR108133</td>\n",
       "      <td>400711</td>\n",
       "      <td>1</td>\n",
       "      <td>ERR108133</td>\n",
       "      <td>longitudinal</td>\n",
       "      <td>2028K</td>\n",
       "      <td>0</td>\n",
       "      <td>NaN</td>\n",
       "      <td>NaN</td>\n",
       "    </tr>\n",
       "  </tbody>\n",
       "</table>\n",
       "</div>"
      ],
      "text/plain": [
       "               run_ID sample_ID  sample_order        tag  isolate_type  \\\n",
       "population                                                               \n",
       "BRYANT      ERR108130    400044             1  ERR108130  longitudinal   \n",
       "BRYANT      ERR108129    401206             2  ERR108129  longitudinal   \n",
       "BRYANT      ERR108131    400673             1  ERR108131  longitudinal   \n",
       "BRYANT      ERR108132    402568             2  ERR108132  longitudinal   \n",
       "BRYANT      ERR108133    400711             1  ERR108133  longitudinal   \n",
       "\n",
       "           patient_id date_information tube_label (cetr)  tag.1  \n",
       "population                                                       \n",
       "BRYANT          2020E                0               NaN    NaN  \n",
       "BRYANT          2020E               36               NaN    NaN  \n",
       "BRYANT          2027W                0               NaN    NaN  \n",
       "BRYANT          2027W               48               NaN    NaN  \n",
       "BRYANT          2028K                0               NaN    NaN  "
      ]
     },
     "execution_count": 7,
     "metadata": {},
     "output_type": "execute_result"
    }
   ],
   "source": [
    "time_between_serial_isolate_collection.head()"
   ]
  },
  {
   "cell_type": "code",
   "execution_count": 8,
   "metadata": {},
   "outputs": [
    {
     "data": {
      "text/plain": [
       "(400, 9)"
      ]
     },
     "execution_count": 8,
     "metadata": {},
     "output_type": "execute_result"
    }
   ],
   "source": [
    "np.shape(time_between_serial_isolate_collection)"
   ]
  },
  {
   "cell_type": "markdown",
   "metadata": {},
   "source": [
    "### *Filter* subjects based on isolate collection dates"
   ]
  },
  {
   "cell_type": "markdown",
   "metadata": {},
   "source": [
    "#### Retain only patients that for which we have date Information for both samples"
   ]
  },
  {
   "cell_type": "code",
   "execution_count": 9,
   "metadata": {},
   "outputs": [],
   "source": [
    "#get dates for each sample in pair\n",
    "dates_for_first_sample = list( time_between_serial_isolate_collection.iloc[range(0 , np.shape(time_between_serial_isolate_collection)[0] , 2) , 6] )\n",
    "dates_for_second_sample = list( time_between_serial_isolate_collection.iloc[range(1 , np.shape(time_between_serial_isolate_collection)[0] , 2) , 6] )\n",
    "\n",
    "#get a boolean to check that there are dates for both samples\n",
    "dates_for_both_samples = [ ( (isinstance(date_1, basestring)) and (isinstance(date_2, basestring)) ) for date_1 , date_2 in zip(dates_for_first_sample , dates_for_second_sample) ]\n",
    "\n",
    "#get list of patients to include that have dates for sample retreival for both samples\n",
    "patients_to_keep = list( time_between_serial_isolate_collection[time_between_serial_isolate_collection.sample_order == 1][dates_for_both_samples].patient_id )\n",
    "\n",
    "#filter out patients with 1 or 2 missing dates\n",
    "time_between_serial_isolate_collection_filter = [patient in patients_to_keep for patient in list(time_between_serial_isolate_collection.patient_id)]\n",
    "time_between_serial_isolate_dropped_filter = [not dates_both_isolates for dates_both_isolates in time_between_serial_isolate_collection_filter]\n",
    "\n",
    "time_between_serial_isolate_collection_dropped = time_between_serial_isolate_collection[time_between_serial_isolate_dropped_filter]\n",
    "time_between_serial_isolate_collection = time_between_serial_isolate_collection[time_between_serial_isolate_collection_filter]"
   ]
  },
  {
   "cell_type": "code",
   "execution_count": 10,
   "metadata": {},
   "outputs": [
    {
     "data": {
      "text/plain": [
       "(396, 9)"
      ]
     },
     "execution_count": 10,
     "metadata": {},
     "output_type": "execute_result"
    }
   ],
   "source": [
    "np.shape(time_between_serial_isolate_collection)"
   ]
  },
  {
   "cell_type": "code",
   "execution_count": 11,
   "metadata": {},
   "outputs": [
    {
     "data": {
      "text/plain": [
       "(4, 9)"
      ]
     },
     "execution_count": 11,
     "metadata": {},
     "output_type": "execute_result"
    }
   ],
   "source": [
    "np.shape(time_between_serial_isolate_collection_dropped )"
   ]
  },
  {
   "cell_type": "code",
   "execution_count": 12,
   "metadata": {},
   "outputs": [
    {
     "data": {
      "text/html": [
       "<div>\n",
       "<style>\n",
       "    .dataframe thead tr:only-child th {\n",
       "        text-align: right;\n",
       "    }\n",
       "\n",
       "    .dataframe thead th {\n",
       "        text-align: left;\n",
       "    }\n",
       "\n",
       "    .dataframe tbody tr th {\n",
       "        vertical-align: top;\n",
       "    }\n",
       "</style>\n",
       "<table border=\"1\" class=\"dataframe\">\n",
       "  <thead>\n",
       "    <tr style=\"text-align: right;\">\n",
       "      <th></th>\n",
       "      <th>run_ID</th>\n",
       "      <th>sample_ID</th>\n",
       "      <th>sample_order</th>\n",
       "      <th>tag</th>\n",
       "      <th>isolate_type</th>\n",
       "      <th>patient_id</th>\n",
       "      <th>date_information</th>\n",
       "      <th>tube_label (cetr)</th>\n",
       "      <th>tag.1</th>\n",
       "    </tr>\n",
       "    <tr>\n",
       "      <th>population</th>\n",
       "      <th></th>\n",
       "      <th></th>\n",
       "      <th></th>\n",
       "      <th></th>\n",
       "      <th></th>\n",
       "      <th></th>\n",
       "      <th></th>\n",
       "      <th></th>\n",
       "      <th></th>\n",
       "    </tr>\n",
       "  </thead>\n",
       "  <tbody>\n",
       "    <tr>\n",
       "      <th>WITNEY</th>\n",
       "      <td>ERR1750925</td>\n",
       "      <td>SAMEA23779168</td>\n",
       "      <td>1</td>\n",
       "      <td>ERR1750925</td>\n",
       "      <td>longitudinal</td>\n",
       "      <td>27</td>\n",
       "      <td>NaN</td>\n",
       "      <td>NaN</td>\n",
       "      <td>NaN</td>\n",
       "    </tr>\n",
       "    <tr>\n",
       "      <th>WITNEY</th>\n",
       "      <td>ERR1750926</td>\n",
       "      <td>SAMEA23779918</td>\n",
       "      <td>2</td>\n",
       "      <td>ERR1750926</td>\n",
       "      <td>longitudinal</td>\n",
       "      <td>27</td>\n",
       "      <td>1/25/11</td>\n",
       "      <td>NaN</td>\n",
       "      <td>NaN</td>\n",
       "    </tr>\n",
       "    <tr>\n",
       "      <th>WITNEY</th>\n",
       "      <td>ERR1750927</td>\n",
       "      <td>SAMEA23780668</td>\n",
       "      <td>1</td>\n",
       "      <td>ERR1750927</td>\n",
       "      <td>longitudinal</td>\n",
       "      <td>28</td>\n",
       "      <td>NaN</td>\n",
       "      <td>NaN</td>\n",
       "      <td>NaN</td>\n",
       "    </tr>\n",
       "    <tr>\n",
       "      <th>WITNEY</th>\n",
       "      <td>ERR1750928</td>\n",
       "      <td>SAMEA23781418</td>\n",
       "      <td>2</td>\n",
       "      <td>ERR1750928</td>\n",
       "      <td>longitudinal</td>\n",
       "      <td>28</td>\n",
       "      <td>8/3/11</td>\n",
       "      <td>NaN</td>\n",
       "      <td>NaN</td>\n",
       "    </tr>\n",
       "  </tbody>\n",
       "</table>\n",
       "</div>"
      ],
      "text/plain": [
       "                run_ID      sample_ID  sample_order         tag  isolate_type  \\\n",
       "population                                                                      \n",
       "WITNEY      ERR1750925  SAMEA23779168             1  ERR1750925  longitudinal   \n",
       "WITNEY      ERR1750926  SAMEA23779918             2  ERR1750926  longitudinal   \n",
       "WITNEY      ERR1750927  SAMEA23780668             1  ERR1750927  longitudinal   \n",
       "WITNEY      ERR1750928  SAMEA23781418             2  ERR1750928  longitudinal   \n",
       "\n",
       "           patient_id date_information tube_label (cetr)  tag.1  \n",
       "population                                                       \n",
       "WITNEY             27              NaN               NaN    NaN  \n",
       "WITNEY             27          1/25/11               NaN    NaN  \n",
       "WITNEY             28              NaN               NaN    NaN  \n",
       "WITNEY             28           8/3/11               NaN    NaN  "
      ]
     },
     "execution_count": 12,
     "metadata": {},
     "output_type": "execute_result"
    }
   ],
   "source": [
    "time_between_serial_isolate_collection_dropped "
   ]
  },
  {
   "cell_type": "markdown",
   "metadata": {},
   "source": [
    "#### Dropped 2 patients from Witney et. al. dataset that didn't have date information both both isolates - WITNEY:27 & WITNEY:28"
   ]
  },
  {
   "cell_type": "code",
   "execution_count": 13,
   "metadata": {
    "scrolled": false
   },
   "outputs": [],
   "source": [
    "patient_filter = []\n",
    "\n",
    "for row_i in range(0 , np.shape(time_between_serial_isolate_collection)[0]):\n",
    "    \n",
    "    if time_between_serial_isolate_collection.iloc[row_i , 5] in list(sample_annotation_df.index):\n",
    "        patient_filter.append(True)\n",
    "        \n",
    "    else:\n",
    "        patient_filter.append(False)\n",
    "    \n",
    "time_between_serial_isolate_collection = time_between_serial_isolate_collection[patient_filter]"
   ]
  },
  {
   "cell_type": "code",
   "execution_count": 14,
   "metadata": {},
   "outputs": [
    {
     "data": {
      "text/html": [
       "<div>\n",
       "<style>\n",
       "    .dataframe thead tr:only-child th {\n",
       "        text-align: right;\n",
       "    }\n",
       "\n",
       "    .dataframe thead th {\n",
       "        text-align: left;\n",
       "    }\n",
       "\n",
       "    .dataframe tbody tr th {\n",
       "        vertical-align: top;\n",
       "    }\n",
       "</style>\n",
       "<table border=\"1\" class=\"dataframe\">\n",
       "  <thead>\n",
       "    <tr style=\"text-align: right;\">\n",
       "      <th></th>\n",
       "      <th>run_ID</th>\n",
       "      <th>sample_ID</th>\n",
       "      <th>sample_order</th>\n",
       "      <th>tag</th>\n",
       "      <th>isolate_type</th>\n",
       "      <th>patient_id</th>\n",
       "      <th>date_information</th>\n",
       "      <th>tube_label (cetr)</th>\n",
       "      <th>tag.1</th>\n",
       "    </tr>\n",
       "    <tr>\n",
       "      <th>population</th>\n",
       "      <th></th>\n",
       "      <th></th>\n",
       "      <th></th>\n",
       "      <th></th>\n",
       "      <th></th>\n",
       "      <th></th>\n",
       "      <th></th>\n",
       "      <th></th>\n",
       "      <th></th>\n",
       "    </tr>\n",
       "  </thead>\n",
       "  <tbody>\n",
       "    <tr>\n",
       "      <th>WITNEY</th>\n",
       "      <td>ERR1750886</td>\n",
       "      <td>SAMEA23749918</td>\n",
       "      <td>2</td>\n",
       "      <td>ERR1750886</td>\n",
       "      <td>longitudinal</td>\n",
       "      <td>7</td>\n",
       "      <td>3/8/10</td>\n",
       "      <td>NaN</td>\n",
       "      <td>NaN</td>\n",
       "    </tr>\n",
       "    <tr>\n",
       "      <th>WITNEY</th>\n",
       "      <td>ERR1750887</td>\n",
       "      <td>SAMEA23750668</td>\n",
       "      <td>1</td>\n",
       "      <td>ERR1750887</td>\n",
       "      <td>longitudinal</td>\n",
       "      <td>8</td>\n",
       "      <td>10/2/09</td>\n",
       "      <td>NaN</td>\n",
       "      <td>NaN</td>\n",
       "    </tr>\n",
       "    <tr>\n",
       "      <th>WITNEY</th>\n",
       "      <td>ERR1750888</td>\n",
       "      <td>SAMEA23751418</td>\n",
       "      <td>2</td>\n",
       "      <td>ERR1750888</td>\n",
       "      <td>longitudinal</td>\n",
       "      <td>8</td>\n",
       "      <td>4/12/10</td>\n",
       "      <td>NaN</td>\n",
       "      <td>NaN</td>\n",
       "    </tr>\n",
       "    <tr>\n",
       "      <th>XU</th>\n",
       "      <td>SRR3742658</td>\n",
       "      <td>SAMN05328093</td>\n",
       "      <td>1</td>\n",
       "      <td>SRR3742658</td>\n",
       "      <td>longitudinal</td>\n",
       "      <td>D</td>\n",
       "      <td>11/9/10</td>\n",
       "      <td>NaN</td>\n",
       "      <td>NaN</td>\n",
       "    </tr>\n",
       "    <tr>\n",
       "      <th>XU</th>\n",
       "      <td>SRR3742662</td>\n",
       "      <td>SAMN05328097</td>\n",
       "      <td>2</td>\n",
       "      <td>SRR3742662</td>\n",
       "      <td>longitudinal</td>\n",
       "      <td>D</td>\n",
       "      <td>1/1/13</td>\n",
       "      <td>NaN</td>\n",
       "      <td>NaN</td>\n",
       "    </tr>\n",
       "  </tbody>\n",
       "</table>\n",
       "</div>"
      ],
      "text/plain": [
       "                run_ID      sample_ID  sample_order         tag  isolate_type  \\\n",
       "population                                                                      \n",
       "WITNEY      ERR1750886  SAMEA23749918             2  ERR1750886  longitudinal   \n",
       "WITNEY      ERR1750887  SAMEA23750668             1  ERR1750887  longitudinal   \n",
       "WITNEY      ERR1750888  SAMEA23751418             2  ERR1750888  longitudinal   \n",
       "XU          SRR3742658   SAMN05328093             1  SRR3742658  longitudinal   \n",
       "XU          SRR3742662   SAMN05328097             2  SRR3742662  longitudinal   \n",
       "\n",
       "           patient_id date_information tube_label (cetr)  tag.1  \n",
       "population                                                       \n",
       "WITNEY              7           3/8/10               NaN    NaN  \n",
       "WITNEY              8          10/2/09               NaN    NaN  \n",
       "WITNEY              8          4/12/10               NaN    NaN  \n",
       "XU                  D          11/9/10               NaN    NaN  \n",
       "XU                  D           1/1/13               NaN    NaN  "
      ]
     },
     "execution_count": 14,
     "metadata": {},
     "output_type": "execute_result"
    }
   ],
   "source": [
    "time_between_serial_isolate_collection.tail()"
   ]
  },
  {
   "cell_type": "markdown",
   "metadata": {},
   "source": [
    "#### Retain only patients that have different dates of collection for both samples"
   ]
  },
  {
   "cell_type": "code",
   "execution_count": 15,
   "metadata": {},
   "outputs": [],
   "source": [
    "#get dates for each sample in pair\n",
    "dates_for_first_sample = list( time_between_serial_isolate_collection.iloc[range(0 , np.shape(time_between_serial_isolate_collection)[0] , 2) , 6] )\n",
    "dates_for_second_sample = list( time_between_serial_isolate_collection.iloc[range(1 , np.shape(time_between_serial_isolate_collection)[0] , 2) , 6] )\n",
    "\n",
    "#get a boolean to check that there are dates for both samples\n",
    "dates_different_for_both_samples = [ ( date_1 != date_2 ) for date_1 , date_2 in zip(dates_for_first_sample , dates_for_second_sample) ]\n",
    "\n",
    "#get list of patients to include that have dates for sample retreival for both samples\n",
    "patients_to_keep = list( time_between_serial_isolate_collection[time_between_serial_isolate_collection.sample_order == 1][dates_different_for_both_samples].patient_id )\n",
    "\n",
    "#filter out patients with 1 or 2 missing dates\n",
    "time_between_serial_isolate_collection_filter = [patient in patients_to_keep for patient in list(time_between_serial_isolate_collection.patient_id)]\n",
    "time_between_serial_isolate_dropped_filter = [not dates_both_isolates for dates_both_isolates in time_between_serial_isolate_collection_filter]\n",
    "\n",
    "time_between_serial_isolate_collection_dropped = time_between_serial_isolate_collection[time_between_serial_isolate_dropped_filter]\n",
    "time_between_serial_isolate_collection = time_between_serial_isolate_collection[time_between_serial_isolate_collection_filter]"
   ]
  },
  {
   "cell_type": "code",
   "execution_count": 16,
   "metadata": {},
   "outputs": [
    {
     "data": {
      "text/plain": [
       "(390, 9)"
      ]
     },
     "execution_count": 16,
     "metadata": {},
     "output_type": "execute_result"
    }
   ],
   "source": [
    "np.shape(time_between_serial_isolate_collection)"
   ]
  },
  {
   "cell_type": "code",
   "execution_count": 17,
   "metadata": {},
   "outputs": [
    {
     "data": {
      "text/plain": [
       "(6, 9)"
      ]
     },
     "execution_count": 17,
     "metadata": {},
     "output_type": "execute_result"
    }
   ],
   "source": [
    "np.shape(time_between_serial_isolate_collection_dropped )"
   ]
  },
  {
   "cell_type": "code",
   "execution_count": 18,
   "metadata": {},
   "outputs": [
    {
     "data": {
      "text/html": [
       "<div>\n",
       "<style>\n",
       "    .dataframe thead tr:only-child th {\n",
       "        text-align: right;\n",
       "    }\n",
       "\n",
       "    .dataframe thead th {\n",
       "        text-align: left;\n",
       "    }\n",
       "\n",
       "    .dataframe tbody tr th {\n",
       "        vertical-align: top;\n",
       "    }\n",
       "</style>\n",
       "<table border=\"1\" class=\"dataframe\">\n",
       "  <thead>\n",
       "    <tr style=\"text-align: right;\">\n",
       "      <th></th>\n",
       "      <th>run_ID</th>\n",
       "      <th>sample_ID</th>\n",
       "      <th>sample_order</th>\n",
       "      <th>tag</th>\n",
       "      <th>isolate_type</th>\n",
       "      <th>patient_id</th>\n",
       "      <th>date_information</th>\n",
       "      <th>tube_label (cetr)</th>\n",
       "      <th>tag.1</th>\n",
       "    </tr>\n",
       "    <tr>\n",
       "      <th>population</th>\n",
       "      <th></th>\n",
       "      <th></th>\n",
       "      <th></th>\n",
       "      <th></th>\n",
       "      <th></th>\n",
       "      <th></th>\n",
       "      <th></th>\n",
       "      <th></th>\n",
       "      <th></th>\n",
       "    </tr>\n",
       "  </thead>\n",
       "  <tbody>\n",
       "    <tr>\n",
       "      <th>WALKER</th>\n",
       "      <td>ERR046918</td>\n",
       "      <td>NaN</td>\n",
       "      <td>1</td>\n",
       "      <td>ERR046918</td>\n",
       "      <td>longitudinal</td>\n",
       "      <td>P000059</td>\n",
       "      <td>2007</td>\n",
       "      <td>NaN</td>\n",
       "      <td>NaN</td>\n",
       "    </tr>\n",
       "    <tr>\n",
       "      <th>WALKER</th>\n",
       "      <td>ERR046933</td>\n",
       "      <td>NaN</td>\n",
       "      <td>2</td>\n",
       "      <td>ERR046933</td>\n",
       "      <td>longitudinal</td>\n",
       "      <td>P000059</td>\n",
       "      <td>2007</td>\n",
       "      <td>NaN</td>\n",
       "      <td>NaN</td>\n",
       "    </tr>\n",
       "    <tr>\n",
       "      <th>WALKER</th>\n",
       "      <td>ERR047010</td>\n",
       "      <td>NaN</td>\n",
       "      <td>1</td>\n",
       "      <td>ERR047010</td>\n",
       "      <td>longitudinal</td>\n",
       "      <td>P000259</td>\n",
       "      <td>2008</td>\n",
       "      <td>NaN</td>\n",
       "      <td>NaN</td>\n",
       "    </tr>\n",
       "    <tr>\n",
       "      <th>WALKER</th>\n",
       "      <td>ERR047012</td>\n",
       "      <td>NaN</td>\n",
       "      <td>2</td>\n",
       "      <td>ERR047012</td>\n",
       "      <td>longitudinal</td>\n",
       "      <td>P000259</td>\n",
       "      <td>2008</td>\n",
       "      <td>NaN</td>\n",
       "      <td>NaN</td>\n",
       "    </tr>\n",
       "    <tr>\n",
       "      <th>WALKER</th>\n",
       "      <td>ERR047007</td>\n",
       "      <td>NaN</td>\n",
       "      <td>1</td>\n",
       "      <td>ERR047007</td>\n",
       "      <td>longitudinal</td>\n",
       "      <td>P000267</td>\n",
       "      <td>2007</td>\n",
       "      <td>NaN</td>\n",
       "      <td>NaN</td>\n",
       "    </tr>\n",
       "    <tr>\n",
       "      <th>WALKER</th>\n",
       "      <td>ERR072030</td>\n",
       "      <td>NaN</td>\n",
       "      <td>2</td>\n",
       "      <td>ERR072030</td>\n",
       "      <td>longitudinal</td>\n",
       "      <td>P000267</td>\n",
       "      <td>2007</td>\n",
       "      <td>NaN</td>\n",
       "      <td>NaN</td>\n",
       "    </tr>\n",
       "  </tbody>\n",
       "</table>\n",
       "</div>"
      ],
      "text/plain": [
       "               run_ID sample_ID  sample_order        tag  isolate_type  \\\n",
       "population                                                               \n",
       "WALKER      ERR046918       NaN             1  ERR046918  longitudinal   \n",
       "WALKER      ERR046933       NaN             2  ERR046933  longitudinal   \n",
       "WALKER      ERR047010       NaN             1  ERR047010  longitudinal   \n",
       "WALKER      ERR047012       NaN             2  ERR047012  longitudinal   \n",
       "WALKER      ERR047007       NaN             1  ERR047007  longitudinal   \n",
       "WALKER      ERR072030       NaN             2  ERR072030  longitudinal   \n",
       "\n",
       "           patient_id date_information tube_label (cetr)  tag.1  \n",
       "population                                                       \n",
       "WALKER        P000059             2007               NaN    NaN  \n",
       "WALKER        P000059             2007               NaN    NaN  \n",
       "WALKER        P000259             2008               NaN    NaN  \n",
       "WALKER        P000259             2008               NaN    NaN  \n",
       "WALKER        P000267             2007               NaN    NaN  \n",
       "WALKER        P000267             2007               NaN    NaN  "
      ]
     },
     "execution_count": 18,
     "metadata": {},
     "output_type": "execute_result"
    }
   ],
   "source": [
    "time_between_serial_isolate_collection_dropped "
   ]
  },
  {
   "cell_type": "markdown",
   "metadata": {},
   "source": [
    "#### Dropped 3 patients from Walker et. al. dataset that had the same date information both both isolates - WALKER:P000059, WALKER:P000259 & WALKER:P000267"
   ]
  },
  {
   "cell_type": "code",
   "execution_count": 19,
   "metadata": {},
   "outputs": [],
   "source": [
    "patient_filter = []\n",
    "\n",
    "for row_i in range(0 , np.shape(time_between_serial_isolate_collection)[0]):\n",
    "    \n",
    "    if time_between_serial_isolate_collection.iloc[row_i , 5] in list(sample_annotation_df.index):\n",
    "        patient_filter.append(True)\n",
    "        \n",
    "    else:\n",
    "        patient_filter.append(False)\n",
    "    \n",
    "time_between_serial_isolate_collection = time_between_serial_isolate_collection[patient_filter]"
   ]
  },
  {
   "cell_type": "code",
   "execution_count": 20,
   "metadata": {},
   "outputs": [
    {
     "name": "stdout",
     "output_type": "stream",
     "text": [
      "Number of Patients = 195 with good isolate collection Date Information\n"
     ]
    }
   ],
   "source": [
    "print 'Number of Patients = ' + str( np.shape(time_between_serial_isolate_collection)[0]/2 ) + ' with good isolate collection Date Information'"
   ]
  },
  {
   "cell_type": "markdown",
   "metadata": {},
   "source": [
    "### Import SNPs from in-host SNP analysis"
   ]
  },
  {
   "cell_type": "code",
   "execution_count": 21,
   "metadata": {},
   "outputs": [],
   "source": [
    "SNPS_from_all_patients_DF = pd.read_pickle('/n/data1/hms/dbmi/farhat/Roger/inhost_TB_dynamics_project/pickled_files/variant_calling/longitudinal_SNPs/SNPs_between_isolates_delta_70.pkl')"
   ]
  },
  {
   "cell_type": "code",
   "execution_count": 22,
   "metadata": {},
   "outputs": [
    {
     "data": {
      "text/html": [
       "<div>\n",
       "<style>\n",
       "    .dataframe thead tr:only-child th {\n",
       "        text-align: right;\n",
       "    }\n",
       "\n",
       "    .dataframe thead th {\n",
       "        text-align: left;\n",
       "    }\n",
       "\n",
       "    .dataframe tbody tr th {\n",
       "        vertical-align: top;\n",
       "    }\n",
       "</style>\n",
       "<table border=\"1\" class=\"dataframe\">\n",
       "  <thead>\n",
       "    <tr style=\"text-align: right;\">\n",
       "      <th></th>\n",
       "      <th>population</th>\n",
       "      <th>patient_id</th>\n",
       "      <th>ref_position</th>\n",
       "      <th>ref_allele</th>\n",
       "      <th>alt_allele</th>\n",
       "      <th>gene_id</th>\n",
       "      <th>genomic_coord</th>\n",
       "      <th>gene_category</th>\n",
       "      <th>gene_symbol</th>\n",
       "      <th>alt_AF_diff</th>\n",
       "      <th>SNP_type</th>\n",
       "      <th>AA_change</th>\n",
       "    </tr>\n",
       "  </thead>\n",
       "  <tbody>\n",
       "    <tr>\n",
       "      <th>0</th>\n",
       "      <td>CASALI</td>\n",
       "      <td>P251</td>\n",
       "      <td>761139</td>\n",
       "      <td>C</td>\n",
       "      <td>G</td>\n",
       "      <td>Rv0667</td>\n",
       "      <td>1333</td>\n",
       "      <td>Antibiotic Resistance</td>\n",
       "      <td>rpoB</td>\n",
       "      <td>1.0</td>\n",
       "      <td>N</td>\n",
       "      <td>H445D</td>\n",
       "    </tr>\n",
       "    <tr>\n",
       "      <th>1</th>\n",
       "      <td>CASALI</td>\n",
       "      <td>P251</td>\n",
       "      <td>861378</td>\n",
       "      <td>T</td>\n",
       "      <td>G</td>\n",
       "      <td>Rv0768</td>\n",
       "      <td>467</td>\n",
       "      <td>Non-Essential</td>\n",
       "      <td>aldA</td>\n",
       "      <td>1.0</td>\n",
       "      <td>N</td>\n",
       "      <td>I156S</td>\n",
       "    </tr>\n",
       "    <tr>\n",
       "      <th>2</th>\n",
       "      <td>BRYANT</td>\n",
       "      <td>2020E</td>\n",
       "      <td>1253207</td>\n",
       "      <td>A</td>\n",
       "      <td>G</td>\n",
       "      <td>Rv1129c</td>\n",
       "      <td>1328</td>\n",
       "      <td>Non-Essential</td>\n",
       "      <td>NaN</td>\n",
       "      <td>1.0</td>\n",
       "      <td>N</td>\n",
       "      <td>I443T</td>\n",
       "    </tr>\n",
       "    <tr>\n",
       "      <th>3</th>\n",
       "      <td>BRYANT</td>\n",
       "      <td>2020E</td>\n",
       "      <td>2075138</td>\n",
       "      <td>T</td>\n",
       "      <td>A</td>\n",
       "      <td>Rv1830</td>\n",
       "      <td>298</td>\n",
       "      <td>Non-Essential</td>\n",
       "      <td>NaN</td>\n",
       "      <td>1.0</td>\n",
       "      <td>N</td>\n",
       "      <td>S100T</td>\n",
       "    </tr>\n",
       "    <tr>\n",
       "      <th>4</th>\n",
       "      <td>BRYANT</td>\n",
       "      <td>2020E</td>\n",
       "      <td>2694727</td>\n",
       "      <td>A</td>\n",
       "      <td>G</td>\n",
       "      <td>Rv2397c</td>\n",
       "      <td>238</td>\n",
       "      <td>Essential</td>\n",
       "      <td>cysA1</td>\n",
       "      <td>1.0</td>\n",
       "      <td>N</td>\n",
       "      <td>F80L</td>\n",
       "    </tr>\n",
       "  </tbody>\n",
       "</table>\n",
       "</div>"
      ],
      "text/plain": [
       "  population patient_id  ref_position ref_allele alt_allele  gene_id  \\\n",
       "0     CASALI       P251        761139          C          G   Rv0667   \n",
       "1     CASALI       P251        861378          T          G   Rv0768   \n",
       "2     BRYANT      2020E       1253207          A          G  Rv1129c   \n",
       "3     BRYANT      2020E       2075138          T          A   Rv1830   \n",
       "4     BRYANT      2020E       2694727          A          G  Rv2397c   \n",
       "\n",
       "  genomic_coord          gene_category gene_symbol  alt_AF_diff SNP_type  \\\n",
       "0          1333  Antibiotic Resistance        rpoB          1.0        N   \n",
       "1           467          Non-Essential        aldA          1.0        N   \n",
       "2          1328          Non-Essential         NaN          1.0        N   \n",
       "3           298          Non-Essential         NaN          1.0        N   \n",
       "4           238              Essential       cysA1          1.0        N   \n",
       "\n",
       "  AA_change  \n",
       "0     H445D  \n",
       "1     I156S  \n",
       "2     I443T  \n",
       "3     S100T  \n",
       "4      F80L  "
      ]
     },
     "execution_count": 22,
     "metadata": {},
     "output_type": "execute_result"
    }
   ],
   "source": [
    "SNPS_from_all_patients_DF.head()"
   ]
  },
  {
   "cell_type": "code",
   "execution_count": 23,
   "metadata": {},
   "outputs": [
    {
     "data": {
      "text/plain": [
       "(175, 12)"
      ]
     },
     "execution_count": 23,
     "metadata": {},
     "output_type": "execute_result"
    }
   ],
   "source": [
    "np.shape(SNPS_from_all_patients_DF)"
   ]
  },
  {
   "cell_type": "markdown",
   "metadata": {
    "collapsed": true
   },
   "source": [
    "### Get pairwise SNP distance for all longitudinal pairs"
   ]
  },
  {
   "cell_type": "code",
   "execution_count": 24,
   "metadata": {},
   "outputs": [],
   "source": [
    "pairwise_variant_distances = pd.DataFrame(index = patients_to_keep , columns = ['population' , 'pairwise_SNP_distance' , 'time_between_collection'])\n",
    "\n",
    "for patient_id in patients_to_keep:\n",
    "    \n",
    "    population = sample_annotation_df.loc[patient_id , 'population'].values[0]\n",
    "    \n",
    "    #pairwise distance between isolates; taking set ensures any SNPs in overlapping CDS regions will only be counted once\n",
    "    SNP_distance = len(set( SNPS_from_all_patients_DF[SNPS_from_all_patients_DF.patient_id == patient_id].ref_position )) \n",
    "    \n",
    "    #append info to dataframe\n",
    "    pairwise_variant_distances.loc[patient_id , 'population'] = population\n",
    "    pairwise_variant_distances.loc[patient_id , 'pairwise_SNP_distance'] = SNP_distance"
   ]
  },
  {
   "cell_type": "code",
   "execution_count": 25,
   "metadata": {
    "scrolled": false
   },
   "outputs": [
    {
     "data": {
      "text/html": [
       "<div>\n",
       "<style>\n",
       "    .dataframe thead tr:only-child th {\n",
       "        text-align: right;\n",
       "    }\n",
       "\n",
       "    .dataframe thead th {\n",
       "        text-align: left;\n",
       "    }\n",
       "\n",
       "    .dataframe tbody tr th {\n",
       "        vertical-align: top;\n",
       "    }\n",
       "</style>\n",
       "<table border=\"1\" class=\"dataframe\">\n",
       "  <thead>\n",
       "    <tr style=\"text-align: right;\">\n",
       "      <th></th>\n",
       "      <th>population</th>\n",
       "      <th>pairwise_SNP_distance</th>\n",
       "      <th>time_between_collection</th>\n",
       "    </tr>\n",
       "  </thead>\n",
       "  <tbody>\n",
       "    <tr>\n",
       "      <th>2020E</th>\n",
       "      <td>BRYANT</td>\n",
       "      <td>3</td>\n",
       "      <td>NaN</td>\n",
       "    </tr>\n",
       "    <tr>\n",
       "      <th>2027W</th>\n",
       "      <td>BRYANT</td>\n",
       "      <td>5</td>\n",
       "      <td>NaN</td>\n",
       "    </tr>\n",
       "    <tr>\n",
       "      <th>2028K</th>\n",
       "      <td>BRYANT</td>\n",
       "      <td>0</td>\n",
       "      <td>NaN</td>\n",
       "    </tr>\n",
       "    <tr>\n",
       "      <th>2041Q</th>\n",
       "      <td>BRYANT</td>\n",
       "      <td>0</td>\n",
       "      <td>NaN</td>\n",
       "    </tr>\n",
       "    <tr>\n",
       "      <th>2043R</th>\n",
       "      <td>BRYANT</td>\n",
       "      <td>0</td>\n",
       "      <td>NaN</td>\n",
       "    </tr>\n",
       "  </tbody>\n",
       "</table>\n",
       "</div>"
      ],
      "text/plain": [
       "      population pairwise_SNP_distance time_between_collection\n",
       "2020E     BRYANT                     3                     NaN\n",
       "2027W     BRYANT                     5                     NaN\n",
       "2028K     BRYANT                     0                     NaN\n",
       "2041Q     BRYANT                     0                     NaN\n",
       "2043R     BRYANT                     0                     NaN"
      ]
     },
     "execution_count": 25,
     "metadata": {},
     "output_type": "execute_result"
    }
   ],
   "source": [
    "pairwise_variant_distances.head()"
   ]
  },
  {
   "cell_type": "code",
   "execution_count": 26,
   "metadata": {
    "scrolled": false
   },
   "outputs": [
    {
     "data": {
      "text/plain": [
       "(195, 3)"
      ]
     },
     "execution_count": 26,
     "metadata": {},
     "output_type": "execute_result"
    }
   ],
   "source": [
    "np.shape(pairwise_variant_distances)"
   ]
  },
  {
   "cell_type": "markdown",
   "metadata": {},
   "source": [
    "### Find distance between all pairs of times"
   ]
  },
  {
   "cell_type": "code",
   "execution_count": 27,
   "metadata": {},
   "outputs": [],
   "source": [
    "for patient_id in pairwise_variant_distances.index:\n",
    "    \n",
    "    population = pairwise_variant_distances.loc[patient_id , 'population']\n",
    "    patient_id = patient_id\n",
    "    \n",
    "    if population == 'BRYANT':\n",
    "        \n",
    "        bryant_pair = time_between_serial_isolate_collection[time_between_serial_isolate_collection.patient_id == patient_id]\n",
    "        \n",
    "        first_date = bryant_pair[bryant_pair.sample_order == 1].date_information.values[0]\n",
    "        second_date = bryant_pair[bryant_pair.sample_order == 2].date_information.values[0]\n",
    "\n",
    "        num_days_between = (int(second_date) - int(first_date))*7 #dates are in # of weeks apart\n",
    "    \n",
    "    if population == 'CASALI':\n",
    "        \n",
    "        casali_pair = time_between_serial_isolate_collection[time_between_serial_isolate_collection.patient_id == patient_id]\n",
    "\n",
    "        first_date = casali_pair[casali_pair.sample_order == 1].date_information.values[0]\n",
    "        day = first_date.split('/')[0]\n",
    "        month = first_date.split('/')[1]\n",
    "        year = '20' + first_date.split('/')[2]\n",
    "        first_date = pd.to_datetime(pd.DataFrame({'year':[year] , 'month':[month] , 'day':[day]}))\n",
    "\n",
    "        second_date = casali_pair[casali_pair.sample_order == 2].date_information.values[0]\n",
    "        day = second_date.split('/')[0]\n",
    "        month = second_date.split('/')[1]\n",
    "        year = '20' + second_date.split('/')[2]\n",
    "        second_date = pd.to_datetime(pd.DataFrame({'year':[year] , 'month':[month] , 'day':[day]}))\n",
    "\n",
    "        num_days_between = (second_date - first_date).dt.days[0]\n",
    "        \n",
    "    elif (population == 'CETR') or (population == 'GUERRA') or (population == 'WITNEY') or (population == 'XU'):\n",
    "        \n",
    "        serial_pair = time_between_serial_isolate_collection[time_between_serial_isolate_collection.patient_id == patient_id]\n",
    "\n",
    "        first_date = serial_pair[serial_pair.sample_order == 1].date_information.values[0]\n",
    "        day = first_date.split('/')[1]\n",
    "        month = first_date.split('/')[0]\n",
    "        if int(first_date.split('/')[2]) in range(50,100): #some dates in 1990's others in 2000's\n",
    "            year = '19' + first_date.split('/')[2]\n",
    "        else:\n",
    "            year = '20' + first_date.split('/')[2]\n",
    "\n",
    "        first_date = pd.to_datetime(pd.DataFrame({'year':[year] , 'month':[month] , 'day':[day]}))\n",
    "\n",
    "\n",
    "        second_date = serial_pair[serial_pair.sample_order == 2].date_information.values[0]\n",
    "        day = second_date.split('/')[1]\n",
    "        month = second_date.split('/')[0]\n",
    "        if int(second_date.split('/')[2]) in range(50,100):\n",
    "            year = '19' + second_date.split('/')[2]\n",
    "        else:\n",
    "            year = '20' + second_date.split('/')[2]\n",
    "\n",
    "        second_date = pd.to_datetime(pd.DataFrame({'year':[year] , 'month':[month] , 'day':[day]}))\n",
    "\n",
    "        num_days_between = (second_date - first_date).dt.days[0]\n",
    "        \n",
    "    elif (population == 'TRAUNER') or (population == 'BRYANT'):\n",
    "        \n",
    "        serial_pair = time_between_serial_isolate_collection[time_between_serial_isolate_collection.patient_id == patient_id]\n",
    "\n",
    "        first_date = serial_pair[serial_pair.sample_order == 1].date_information.values[0]\n",
    "        second_date = serial_pair[serial_pair.sample_order == 2].date_information.values[0]\n",
    "\n",
    "        num_days_between = (int(second_date) - int(first_date))*7 #dates are in # of weeks apart\n",
    "        \n",
    "    elif population == 'WALKER':\n",
    "        \n",
    "        walker_pair = time_between_serial_isolate_collection[time_between_serial_isolate_collection.patient_id == patient_id]\n",
    "\n",
    "        first_date = walker_pair[walker_pair.sample_order == 1].date_information.values[0]\n",
    "        day = '1'\n",
    "        month = '1'\n",
    "        year = first_date\n",
    "        first_date = pd.to_datetime(pd.DataFrame({'year':[year] , 'month':[month] , 'day':[day]}))\n",
    "\n",
    "        second_date = walker_pair[walker_pair.sample_order == 2].date_information.values[0]\n",
    "        day = '1'\n",
    "        month = '1'\n",
    "        year = second_date\n",
    "        second_date = pd.to_datetime(pd.DataFrame({'year':[year] , 'month':[month] , 'day':[day]}))\n",
    "\n",
    "        num_days_between = (second_date - first_date).dt.days[0]\n",
    "        \n",
    "    #append distance between isolate collection\n",
    "    pairwise_variant_distances.loc[patient_id , 'time_between_collection'] = num_days_between"
   ]
  },
  {
   "cell_type": "code",
   "execution_count": 28,
   "metadata": {},
   "outputs": [
    {
     "data": {
      "text/html": [
       "<div>\n",
       "<style>\n",
       "    .dataframe thead tr:only-child th {\n",
       "        text-align: right;\n",
       "    }\n",
       "\n",
       "    .dataframe thead th {\n",
       "        text-align: left;\n",
       "    }\n",
       "\n",
       "    .dataframe tbody tr th {\n",
       "        vertical-align: top;\n",
       "    }\n",
       "</style>\n",
       "<table border=\"1\" class=\"dataframe\">\n",
       "  <thead>\n",
       "    <tr style=\"text-align: right;\">\n",
       "      <th></th>\n",
       "      <th>population</th>\n",
       "      <th>pairwise_SNP_distance</th>\n",
       "      <th>time_between_collection</th>\n",
       "    </tr>\n",
       "  </thead>\n",
       "  <tbody>\n",
       "    <tr>\n",
       "      <th>2020E</th>\n",
       "      <td>BRYANT</td>\n",
       "      <td>3</td>\n",
       "      <td>252</td>\n",
       "    </tr>\n",
       "    <tr>\n",
       "      <th>2027W</th>\n",
       "      <td>BRYANT</td>\n",
       "      <td>5</td>\n",
       "      <td>336</td>\n",
       "    </tr>\n",
       "    <tr>\n",
       "      <th>2028K</th>\n",
       "      <td>BRYANT</td>\n",
       "      <td>0</td>\n",
       "      <td>182</td>\n",
       "    </tr>\n",
       "    <tr>\n",
       "      <th>2041Q</th>\n",
       "      <td>BRYANT</td>\n",
       "      <td>0</td>\n",
       "      <td>182</td>\n",
       "    </tr>\n",
       "    <tr>\n",
       "      <th>2043R</th>\n",
       "      <td>BRYANT</td>\n",
       "      <td>0</td>\n",
       "      <td>252</td>\n",
       "    </tr>\n",
       "  </tbody>\n",
       "</table>\n",
       "</div>"
      ],
      "text/plain": [
       "      population pairwise_SNP_distance time_between_collection\n",
       "2020E     BRYANT                     3                     252\n",
       "2027W     BRYANT                     5                     336\n",
       "2028K     BRYANT                     0                     182\n",
       "2041Q     BRYANT                     0                     182\n",
       "2043R     BRYANT                     0                     252"
      ]
     },
     "execution_count": 28,
     "metadata": {},
     "output_type": "execute_result"
    }
   ],
   "source": [
    "pairwise_variant_distances.head()"
   ]
  },
  {
   "cell_type": "markdown",
   "metadata": {},
   "source": [
    "#### convert time between isolate collection to months (30 days)"
   ]
  },
  {
   "cell_type": "code",
   "execution_count": 29,
   "metadata": {},
   "outputs": [],
   "source": [
    "pairwise_variant_distances.loc[: , 'time_between_collection'] = pairwise_variant_distances.time_between_collection.astype(float) / 30.0\n",
    "pairwise_variant_distances.loc[: , 'time_between_collection'] = [round(x, 2) for x in pairwise_variant_distances.time_between_collection] #round the nearest 2nd decimal place"
   ]
  },
  {
   "cell_type": "code",
   "execution_count": 30,
   "metadata": {},
   "outputs": [
    {
     "data": {
      "text/html": [
       "<div>\n",
       "<style>\n",
       "    .dataframe thead tr:only-child th {\n",
       "        text-align: right;\n",
       "    }\n",
       "\n",
       "    .dataframe thead th {\n",
       "        text-align: left;\n",
       "    }\n",
       "\n",
       "    .dataframe tbody tr th {\n",
       "        vertical-align: top;\n",
       "    }\n",
       "</style>\n",
       "<table border=\"1\" class=\"dataframe\">\n",
       "  <thead>\n",
       "    <tr style=\"text-align: right;\">\n",
       "      <th></th>\n",
       "      <th>population</th>\n",
       "      <th>pairwise_SNP_distance</th>\n",
       "      <th>time_between_collection</th>\n",
       "    </tr>\n",
       "  </thead>\n",
       "  <tbody>\n",
       "    <tr>\n",
       "      <th>2020E</th>\n",
       "      <td>BRYANT</td>\n",
       "      <td>3</td>\n",
       "      <td>8.40</td>\n",
       "    </tr>\n",
       "    <tr>\n",
       "      <th>2027W</th>\n",
       "      <td>BRYANT</td>\n",
       "      <td>5</td>\n",
       "      <td>11.20</td>\n",
       "    </tr>\n",
       "    <tr>\n",
       "      <th>2028K</th>\n",
       "      <td>BRYANT</td>\n",
       "      <td>0</td>\n",
       "      <td>6.07</td>\n",
       "    </tr>\n",
       "    <tr>\n",
       "      <th>2041Q</th>\n",
       "      <td>BRYANT</td>\n",
       "      <td>0</td>\n",
       "      <td>6.07</td>\n",
       "    </tr>\n",
       "    <tr>\n",
       "      <th>2043R</th>\n",
       "      <td>BRYANT</td>\n",
       "      <td>0</td>\n",
       "      <td>8.40</td>\n",
       "    </tr>\n",
       "  </tbody>\n",
       "</table>\n",
       "</div>"
      ],
      "text/plain": [
       "      population pairwise_SNP_distance  time_between_collection\n",
       "2020E     BRYANT                     3                     8.40\n",
       "2027W     BRYANT                     5                    11.20\n",
       "2028K     BRYANT                     0                     6.07\n",
       "2041Q     BRYANT                     0                     6.07\n",
       "2043R     BRYANT                     0                     8.40"
      ]
     },
     "execution_count": 30,
     "metadata": {},
     "output_type": "execute_result"
    }
   ],
   "source": [
    "pairwise_variant_distances.head()"
   ]
  },
  {
   "cell_type": "markdown",
   "metadata": {},
   "source": [
    "### Run OLS Regression by Regressing (Number of SNPs between Longitudinal Isolates) on (Number of Days between Isolate Collection)"
   ]
  },
  {
   "cell_type": "code",
   "execution_count": 31,
   "metadata": {},
   "outputs": [],
   "source": [
    "#convert dataframe from integers to floats\n",
    "pairwise_variant_distances = pairwise_variant_distances.apply(pd.to_numeric, errors='ignore')\n",
    "\n",
    "#store the values in a dependent and independent vector \n",
    "Y = pairwise_variant_distances.pairwise_SNP_distance\n",
    "X = pairwise_variant_distances.time_between_collection\n",
    "X = sm.add_constant(X)\n",
    "\n",
    "#run the OLS with statsmodels\n",
    "model = sm.OLS(Y , X)\n",
    "results = model.fit()\n",
    "\n",
    "#store the fitted parameters from the regression\n",
    "constant_from_OLS = results.params[0]\n",
    "coeff_from_OLS = results.params[1]\n",
    "\n",
    "#create a vector for the line using the output parameters from the OLS regression\n",
    "X_values_line_best_fit = np.arange( min(pairwise_variant_distances.time_between_collection) , max(pairwise_variant_distances.time_between_collection) , 1)\n",
    "Y_values_line_best_fit = coeff_from_OLS * X_values_line_best_fit + constant_from_OLS"
   ]
  },
  {
   "cell_type": "code",
   "execution_count": 32,
   "metadata": {},
   "outputs": [
    {
     "data": {
      "text/html": [
       "<table class=\"simpletable\">\n",
       "<caption>OLS Regression Results</caption>\n",
       "<tr>\n",
       "  <th>Dep. Variable:</th>    <td>pairwise_SNP_distance</td> <th>  R-squared:         </th> <td>   0.217</td>\n",
       "</tr>\n",
       "<tr>\n",
       "  <th>Model:</th>                     <td>OLS</td>          <th>  Adj. R-squared:    </th> <td>   0.213</td>\n",
       "</tr>\n",
       "<tr>\n",
       "  <th>Method:</th>               <td>Least Squares</td>     <th>  F-statistic:       </th> <td>   53.40</td>\n",
       "</tr>\n",
       "<tr>\n",
       "  <th>Date:</th>               <td>Fri, 03 Apr 2020</td>    <th>  Prob (F-statistic):</th> <td>7.03e-12</td>\n",
       "</tr>\n",
       "<tr>\n",
       "  <th>Time:</th>                   <td>12:20:01</td>        <th>  Log-Likelihood:    </th> <td> -340.96</td>\n",
       "</tr>\n",
       "<tr>\n",
       "  <th>No. Observations:</th>        <td>   195</td>         <th>  AIC:               </th> <td>   685.9</td>\n",
       "</tr>\n",
       "<tr>\n",
       "  <th>Df Residuals:</th>            <td>   193</td>         <th>  BIC:               </th> <td>   692.5</td>\n",
       "</tr>\n",
       "<tr>\n",
       "  <th>Df Model:</th>                <td>     1</td>         <th>                     </th>     <td> </td>   \n",
       "</tr>\n",
       "<tr>\n",
       "  <th>Covariance Type:</th>        <td>nonrobust</td>       <th>                     </th>     <td> </td>   \n",
       "</tr>\n",
       "</table>\n",
       "<table class=\"simpletable\">\n",
       "<tr>\n",
       "             <td></td>                <th>coef</th>     <th>std err</th>      <th>t</th>      <th>P>|t|</th>  <th>[0.025</th>    <th>0.975]</th>  \n",
       "</tr>\n",
       "<tr>\n",
       "  <th>const</th>                   <td>    0.1964</td> <td>    0.135</td> <td>    1.452</td> <td> 0.148</td> <td>   -0.070</td> <td>    0.463</td>\n",
       "</tr>\n",
       "<tr>\n",
       "  <th>time_between_collection</th> <td>    0.0467</td> <td>    0.006</td> <td>    7.307</td> <td> 0.000</td> <td>    0.034</td> <td>    0.059</td>\n",
       "</tr>\n",
       "</table>\n",
       "<table class=\"simpletable\">\n",
       "<tr>\n",
       "  <th>Omnibus:</th>       <td>95.463</td> <th>  Durbin-Watson:     </th> <td>   1.826</td>\n",
       "</tr>\n",
       "<tr>\n",
       "  <th>Prob(Omnibus):</th> <td> 0.000</td> <th>  Jarque-Bera (JB):  </th> <td> 335.488</td>\n",
       "</tr>\n",
       "<tr>\n",
       "  <th>Skew:</th>          <td> 2.051</td> <th>  Prob(JB):          </th> <td>1.41e-73</td>\n",
       "</tr>\n",
       "<tr>\n",
       "  <th>Kurtosis:</th>      <td> 7.946</td> <th>  Cond. No.          </th> <td>    28.6</td>\n",
       "</tr>\n",
       "</table><br/><br/>Warnings:<br/>[1] Standard Errors assume that the covariance matrix of the errors is correctly specified."
      ],
      "text/plain": [
       "<class 'statsmodels.iolib.summary.Summary'>\n",
       "\"\"\"\n",
       "                              OLS Regression Results                             \n",
       "=================================================================================\n",
       "Dep. Variable:     pairwise_SNP_distance   R-squared:                       0.217\n",
       "Model:                               OLS   Adj. R-squared:                  0.213\n",
       "Method:                    Least Squares   F-statistic:                     53.40\n",
       "Date:                   Fri, 03 Apr 2020   Prob (F-statistic):           7.03e-12\n",
       "Time:                           12:20:01   Log-Likelihood:                -340.96\n",
       "No. Observations:                    195   AIC:                             685.9\n",
       "Df Residuals:                        193   BIC:                             692.5\n",
       "Df Model:                              1                                         \n",
       "Covariance Type:               nonrobust                                         \n",
       "===========================================================================================\n",
       "                              coef    std err          t      P>|t|      [0.025      0.975]\n",
       "-------------------------------------------------------------------------------------------\n",
       "const                       0.1964      0.135      1.452      0.148      -0.070       0.463\n",
       "time_between_collection     0.0467      0.006      7.307      0.000       0.034       0.059\n",
       "==============================================================================\n",
       "Omnibus:                       95.463   Durbin-Watson:                   1.826\n",
       "Prob(Omnibus):                  0.000   Jarque-Bera (JB):              335.488\n",
       "Skew:                           2.051   Prob(JB):                     1.41e-73\n",
       "Kurtosis:                       7.946   Cond. No.                         28.6\n",
       "==============================================================================\n",
       "\n",
       "Warnings:\n",
       "[1] Standard Errors assume that the covariance matrix of the errors is correctly specified.\n",
       "\"\"\""
      ]
     },
     "execution_count": 32,
     "metadata": {},
     "output_type": "execute_result"
    }
   ],
   "source": [
    "results.summary()"
   ]
  },
  {
   "cell_type": "markdown",
   "metadata": {},
   "source": [
    "coefficient of within-host SNPs regressed on Time between Isolate Collection"
   ]
  },
  {
   "cell_type": "code",
   "execution_count": 33,
   "metadata": {},
   "outputs": [
    {
     "data": {
      "text/plain": [
       "0.04670817472936776"
      ]
     },
     "execution_count": 33,
     "metadata": {},
     "output_type": "execute_result"
    }
   ],
   "source": [
    "results.params[1]"
   ]
  },
  {
   "cell_type": "code",
   "execution_count": 34,
   "metadata": {},
   "outputs": [
    {
     "data": {
      "text/plain": [
       "0.5604980967524131"
      ]
     },
     "execution_count": 34,
     "metadata": {},
     "output_type": "execute_result"
    }
   ],
   "source": [
    "results.params[1] * 12 #SNPs / year"
   ]
  },
  {
   "cell_type": "markdown",
   "metadata": {},
   "source": [
    "p-values for coefficient on time"
   ]
  },
  {
   "cell_type": "code",
   "execution_count": 35,
   "metadata": {},
   "outputs": [
    {
     "data": {
      "text/plain": [
       "7.0253130636636e-12"
      ]
     },
     "execution_count": 35,
     "metadata": {},
     "output_type": "execute_result"
    }
   ],
   "source": [
    "results.pvalues[1]"
   ]
  },
  {
   "cell_type": "markdown",
   "metadata": {},
   "source": [
    "168 / 175 SNPs represented since 6 SNPs belonged to a serial isolate pair for a subject that was dropped from analysis & another SNP was counted twice (since it appeard in an overlapping CDS region)"
   ]
  },
  {
   "cell_type": "code",
   "execution_count": 36,
   "metadata": {},
   "outputs": [
    {
     "data": {
      "text/plain": [
       "168"
      ]
     },
     "execution_count": 36,
     "metadata": {},
     "output_type": "execute_result"
    }
   ],
   "source": [
    "int( pairwise_variant_distances.pairwise_SNP_distance.sum() )"
   ]
  },
  {
   "cell_type": "markdown",
   "metadata": {},
   "source": [
    "### Plot (pairwise SNP distance) vs. (Time between Isolate Collection)"
   ]
  },
  {
   "cell_type": "code",
   "execution_count": 37,
   "metadata": {},
   "outputs": [],
   "source": [
    "plt.style.use('ggplot')\n",
    "plt.rcParams['lines.linewidth']=0\n",
    "plt.rcParams['axes.facecolor']='1.0'\n",
    "plt.rcParams['xtick.color']='black'\n",
    "plt.rcParams['axes.grid']=False\n",
    "plt.rcParams['axes.edgecolor']='black'\n",
    "plt.rcParams['grid.color']= '1.0'\n",
    "plt.rcParams.update({'font.size': 14})"
   ]
  },
  {
   "cell_type": "code",
   "execution_count": 42,
   "metadata": {},
   "outputs": [
    {
     "data": {
      "image/png": "[encoded data removed]",
      "text/plain": [
       "<Figure size 576x360 with 1 Axes>"
      ]
     },
     "metadata": {},
     "output_type": "display_data"
    }
   ],
   "source": [
    "fig , ax = plt.subplots()\n",
    "\n",
    "plt.scatter( pairwise_variant_distances.time_between_collection , pairwise_variant_distances.pairwise_SNP_distance , color = '0.0' , edgecolor = 'white' , linewidth = 1.5 , alpha = 0.65 , s = 55)\n",
    "\n",
    "#plot Line of Best Fit from OLS regression\n",
    "plt.plot(X_values_line_best_fit , Y_values_line_best_fit , color = '0.0' , linestyle = '-' , linewidth = 1.0 , zorder=0 , alpha = 1.0)\n",
    "\n",
    "ax.spines['right'].set_visible(False)\n",
    "ax.spines['top'].set_visible(False)\n",
    "\n",
    "#ax.set_yscale(\"log\", nonposy='clip')\n",
    "\n",
    "ax.tick_params(labelcolor = 'k')\n",
    "ax.set_ylim([min( pairwise_variant_distances.pairwise_SNP_distance ) - 1 , max( pairwise_variant_distances.pairwise_SNP_distance ) + 1])\n",
    "ax.set_xlim([min( pairwise_variant_distances.time_between_collection ) - 2 , max( pairwise_variant_distances.time_between_collection ) + 2])\n",
    "\n",
    "plt.ylabel('Number of SNPs between Longitudinal Isolates' , fontweight = 'bold', fontsize = 12 , color = 'k')\n",
    "plt.xlabel('Number of Months between Isolate Collection' , fontweight = 'bold', fontsize = 12 , color = 'k')\n",
    "\n",
    "#y-labels\n",
    "ax.set_ylim([-0.5 , 8.0])\n",
    "ax.set_yticks(np.arange(0 , 9 , 1))\n",
    "y_labels = np.arange(0 , 9 , 1)\n",
    "ax.set_yticklabels(y_labels, rotation='horizontal', fontsize = 12)  \n",
    "ax.tick_params(axis='y', which='major', labelsize=12, pad = 6)\n",
    "\n",
    "fig = plt.gcf()\n",
    "fig.set_size_inches(8.0, 5)\n",
    "fig.tight_layout()\n",
    "\n",
    "file_name = '/n/data1/hms/dbmi/farhat/Roger/inhost_TB_dynamics_project/figures/Sample_Summary/times_between_serial_isolate_collection.pdf'\n",
    "plt.savefig(file_name, bbox_inches='tight', dpi = 300 , transparent = True)\n",
    "\n",
    "plt.show()"
   ]
  },
  {
   "cell_type": "markdown",
   "metadata": {},
   "source": [
    "#### Store CSV file of SNPs (paired Base Calls with >= 70% delta in alternate Allele Frequency)"
   ]
  },
  {
   "cell_type": "code",
   "execution_count": 43,
   "metadata": {},
   "outputs": [],
   "source": [
    "pairwise_variant_distances.to_csv('/n/data1/hms/dbmi/farhat/Roger/inhost_TB_dynamics_project/CSV_files/variant_calling/longitudinal_SNPs/number_SNPs_vs_time_per_patient.csv')"
   ]
  }
 ],
 "metadata": {
  "kernelspec": {
   "display_name": "Python 2",
   "language": "python",
   "name": "python2"
  },
  "language_info": {
   "codemirror_mode": {
    "name": "ipython",
    "version": 2
   },
   "file_extension": ".py",
   "mimetype": "text/x-python",
   "name": "python",
   "nbconvert_exporter": "python",
   "pygments_lexer": "ipython2",
   "version": "2.7.16"
  }
 },
 "nbformat": 4,
 "nbformat_minor": 2
}
