{
 "cells": [
  {
   "cell_type": "code",
   "execution_count": 1,
   "metadata": {},
   "outputs": [
    {
     "data": {
      "text/html": [
       "<style>.container { width:100% !important; }</style>"
      ],
      "text/plain": [
       "<IPython.core.display.HTML object>"
      ]
     },
     "metadata": {},
     "output_type": "display_data"
    }
   ],
   "source": [
    "from IPython.core.display import display, HTML\n",
    "display(HTML(\"<style>.container { width:100% !important; }</style>\"))"
   ]
  },
  {
   "cell_type": "code",
   "execution_count": 2,
   "metadata": {},
   "outputs": [],
   "source": [
    "import vcf\n",
    "\n",
    "%matplotlib inline\n",
    "import os\n",
    "import pandas as pd\n",
    "import numpy as np\n",
    "import matplotlib.pyplot as plt\n",
    "import matplotlib as mpl\n",
    "import matplotlib.ticker as ticker\n",
    "from pylab import plot, show, savefig, xlim, figure, hold, ylim, legend, boxplot, setp, axes\n",
    "from itertools import compress\n",
    "from pylab import MaxNLocator\n",
    "import seaborn as sns; sns.set()\n",
    "from matplotlib.colors import LogNorm\n",
    "from matplotlib import gridspec\n",
    "import ast\n",
    "import itertools\n",
    "import seaborn as sns\n",
    "from sklearn.preprocessing import StandardScaler\n",
    "\n",
    "import fastcluster\n",
    "from sklearn import cluster, datasets\n",
    "import scipy.cluster.hierarchy as hier\n",
    "from sklearn.cluster import KMeans\n",
    "import time\n",
    "import sys\n",
    "\n",
    "import Bio\n",
    "from Bio.Alphabet import IUPAC\n",
    "from Bio.Blast.Applications import NcbiblastnCommandline\n",
    "from Bio.Blast import NCBIXML\n",
    "from Bio.Seq import Seq\n",
    "from Bio.SeqRecord import SeqRecord\n",
    "from Bio.SeqFeature import SeqFeature, FeatureLocation\n",
    "from Bio import pairwise2\n",
    "from Bio import SeqIO\n",
    "from Bio.Graphics import GenomeDiagram\n",
    "from Bio.SeqUtils import GC\n",
    "\n",
    "from Bio.Align.Applications import MuscleCommandline\n",
    "from StringIO import StringIO\n",
    "from Bio import AlignIO\n",
    "from Bio.Align import AlignInfo\n",
    "from Bio.Seq import MutableSeq\n",
    "import itertools\n",
    "import pickle\n",
    "\n",
    "import networkx as nx\n",
    "import scipy\n",
    "\n",
    "#for exporting to Adobe Illustrator\n",
    "mpl.rcParams['pdf.fonttype'] = 42\n",
    "mpl.rcParams['ps.fonttype'] = 42"
   ]
  },
  {
   "cell_type": "markdown",
   "metadata": {},
   "source": [
    "############################################################################################################################################################################################################################"
   ]
  },
  {
   "cell_type": "markdown",
   "metadata": {},
   "source": [
    "## [1] Create Script to call all SNPs in a sample with Alternate AF $\\ge 5 \\%$ and pickle for downstream analysis"
   ]
  },
  {
   "cell_type": "markdown",
   "metadata": {},
   "source": [
    "############################################################################################################################################################################################################################"
   ]
  },
  {
   "cell_type": "code",
   "execution_count": 3,
   "metadata": {},
   "outputs": [],
   "source": [
    "%matplotlib inline\n",
    "\n",
    "import vcf\n",
    "import os\n",
    "import pandas as pd\n",
    "import numpy as np\n",
    "from itertools import compress\n",
    "import ast\n",
    "import itertools\n",
    "import time\n",
    "import sys\n",
    "import pickle\n",
    "import shutil\n",
    "\n",
    "import Bio\n",
    "from Bio.Alphabet import IUPAC\n",
    "from Bio.Blast.Applications import NcbiblastnCommandline\n",
    "from Bio.Blast import NCBIXML\n",
    "from Bio.Seq import Seq\n",
    "from Bio.SeqRecord import SeqRecord\n",
    "from Bio.SeqFeature import SeqFeature, FeatureLocation\n",
    "from Bio import pairwise2\n",
    "from Bio import SeqIO\n",
    "from Bio.Graphics import GenomeDiagram\n",
    "from Bio.SeqUtils import GC\n",
    "from Bio.Align.Applications import MuscleCommandline\n",
    "from StringIO import StringIO\n",
    "from Bio import AlignIO\n",
    "from Bio.Align import AlignInfo\n",
    "from Bio.Seq import MutableSeq"
   ]
  },
  {
   "cell_type": "markdown",
   "metadata": {},
   "source": [
    "#### Import annotation files for all longitudinal samples"
   ]
  },
  {
   "cell_type": "code",
   "execution_count": 6,
   "metadata": {},
   "outputs": [],
   "source": [
    "#annotation file for all isolates and corresponding tags\n",
    "sample_annotation = pd.read_csv('/n/data1/hms/dbmi/farhat/Roger/inhost_TB_dynamics_project/CSV_files/sample_annotation_files/Longitudinal_fastq_path_names_and_JankyPipe_tags_filtered_final.csv' , sep = ',').set_index('patient_id')\n",
    "\n",
    "#each sub-directory has the pilon-outputed VCF file, lineage call and Qualimap report\n",
    "parent_output_dir = '/n/data1/hms/dbmi/farhat/Roger/inhost_TB_dynamics_project/JankyPipe/output/'"
   ]
  },
  {
   "cell_type": "code",
   "execution_count": 7,
   "metadata": {},
   "outputs": [
    {
     "data": {
      "text/html": [
       "<div>\n",
       "<style>\n",
       "    .dataframe thead tr:only-child th {\n",
       "        text-align: right;\n",
       "    }\n",
       "\n",
       "    .dataframe thead th {\n",
       "        text-align: left;\n",
       "    }\n",
       "\n",
       "    .dataframe tbody tr th {\n",
       "        vertical-align: top;\n",
       "    }\n",
       "</style>\n",
       "<table border=\"1\" class=\"dataframe\">\n",
       "  <thead>\n",
       "    <tr style=\"text-align: right;\">\n",
       "      <th></th>\n",
       "      <th>fastq_files</th>\n",
       "      <th>population</th>\n",
       "      <th>run_ID</th>\n",
       "      <th>sample_ID</th>\n",
       "      <th>sample_order</th>\n",
       "      <th>tag</th>\n",
       "      <th>isolate_type</th>\n",
       "    </tr>\n",
       "    <tr>\n",
       "      <th>patient_id</th>\n",
       "      <th></th>\n",
       "      <th></th>\n",
       "      <th></th>\n",
       "      <th></th>\n",
       "      <th></th>\n",
       "      <th></th>\n",
       "      <th></th>\n",
       "    </tr>\n",
       "  </thead>\n",
       "  <tbody>\n",
       "    <tr>\n",
       "      <th>P000183</th>\n",
       "      <td>/n/data1/hms/dbmi/farhat/fastq_db/walker/ERR03...</td>\n",
       "      <td>WALKER</td>\n",
       "      <td>ERR039337</td>\n",
       "      <td>NaN</td>\n",
       "      <td>1</td>\n",
       "      <td>ERR039337</td>\n",
       "      <td>serial</td>\n",
       "    </tr>\n",
       "    <tr>\n",
       "      <th>P000183</th>\n",
       "      <td>/n/data1/hms/dbmi/farhat/fastq_db/walker/ERR03...</td>\n",
       "      <td>WALKER</td>\n",
       "      <td>ERR039338</td>\n",
       "      <td>NaN</td>\n",
       "      <td>2</td>\n",
       "      <td>ERR039338</td>\n",
       "      <td>serial</td>\n",
       "    </tr>\n",
       "    <tr>\n",
       "      <th>1960</th>\n",
       "      <td>/n/data1/hms/dbmi/farhat/cetr_strains/good_wgs...</td>\n",
       "      <td>CETR</td>\n",
       "      <td>NaN</td>\n",
       "      <td>Peru5115</td>\n",
       "      <td>1</td>\n",
       "      <td>Peru5115</td>\n",
       "      <td>serial</td>\n",
       "    </tr>\n",
       "    <tr>\n",
       "      <th>1960</th>\n",
       "      <td>/n/data1/hms/dbmi/farhat/cetr_strains/good_wgs...</td>\n",
       "      <td>CETR</td>\n",
       "      <td>NaN</td>\n",
       "      <td>Peru4668</td>\n",
       "      <td>2</td>\n",
       "      <td>Peru4668</td>\n",
       "      <td>serial</td>\n",
       "    </tr>\n",
       "    <tr>\n",
       "      <th>2491</th>\n",
       "      <td>/n/data1/hms/dbmi/farhat/cetr_strains/good_wgs...</td>\n",
       "      <td>CETR</td>\n",
       "      <td>NaN</td>\n",
       "      <td>Peru4903</td>\n",
       "      <td>1</td>\n",
       "      <td>Peru4903</td>\n",
       "      <td>serial</td>\n",
       "    </tr>\n",
       "  </tbody>\n",
       "</table>\n",
       "</div>"
      ],
      "text/plain": [
       "                                                  fastq_files population  \\\n",
       "patient_id                                                                 \n",
       "P000183     /n/data1/hms/dbmi/farhat/fastq_db/walker/ERR03...     WALKER   \n",
       "P000183     /n/data1/hms/dbmi/farhat/fastq_db/walker/ERR03...     WALKER   \n",
       "1960        /n/data1/hms/dbmi/farhat/cetr_strains/good_wgs...       CETR   \n",
       "1960        /n/data1/hms/dbmi/farhat/cetr_strains/good_wgs...       CETR   \n",
       "2491        /n/data1/hms/dbmi/farhat/cetr_strains/good_wgs...       CETR   \n",
       "\n",
       "               run_ID sample_ID  sample_order        tag isolate_type  \n",
       "patient_id                                                             \n",
       "P000183     ERR039337       NaN             1  ERR039337       serial  \n",
       "P000183     ERR039338       NaN             2  ERR039338       serial  \n",
       "1960              NaN  Peru5115             1   Peru5115       serial  \n",
       "1960              NaN  Peru4668             2   Peru4668       serial  \n",
       "2491              NaN  Peru4903             1   Peru4903       serial  "
      ]
     },
     "execution_count": 7,
     "metadata": {},
     "output_type": "execute_result"
    }
   ],
   "source": [
    "sample_annotation.head()"
   ]
  },
  {
   "cell_type": "markdown",
   "metadata": {},
   "source": [
    "### *Functions* to extract Base Calls"
   ]
  },
  {
   "cell_type": "code",
   "execution_count": 2,
   "metadata": {},
   "outputs": [],
   "source": [
    "def Get_Base_Calls_from_VCF(tag , population , subject_id , timepoint_i):\n",
    "\n",
    "    '''\n",
    "    This function takes as input, the isolate tag, then extracts SINGLE base calls from\n",
    "    the VCF file generated by Pilon. The function returns a DataFrame for a single isolate\n",
    "    that contains [1] PASS calls that support the reference allele, [2] PASS calls that support\n",
    "    an alternate allele and [3] AMB calls that support both the reference and alternate alleles.\n",
    "    Note: Many base calls won't have an Alternate Allele.\n",
    "    '''\n",
    "\n",
    "    #directory where VCF file for sequenced isolated is stored & filename\n",
    "    VCF_file = parent_output_dir + tag + '/pilon/' + tag + '.vcf'\n",
    "\n",
    "    vcf_reader = vcf.Reader(open(VCF_file , 'r'))\n",
    "\n",
    "    #position-base dictionaries\n",
    "    base_order = {0:'A' , 1:'C' , 2:'G', 3:'T'} #order of output in Pilon\n",
    "    base_order_r = {'A':0 , 'C':1 , 'G':2 , 'T':3}\n",
    "\n",
    "    #create dictionaries to store information for each call\n",
    "    ref_bases = {}\n",
    "    qry_bases = {}\n",
    "    ref_positions = {}\n",
    "    quality_scores = {}\n",
    "    SNP_type = {}\n",
    "    PASS_filter = {}\n",
    "    INFO_for_call = {}\n",
    "    alt_allele_freq = {}\n",
    "    valid_depth = {}\n",
    "\n",
    "    #store the DEPTH of all base & variant calls (depth not stored for major structural variants)\n",
    "    coverage_for_all_base_and_small_indel_calls = []\n",
    "\n",
    "    #indexer for dataframe containing SNPs\n",
    "    index = 0\n",
    "\n",
    "    #iterate through each record from VCF file\n",
    "    for record in vcf_reader:\n",
    "\n",
    "        ######## store the DEPTH of all base & variant calls (depth not stored for major structural variants) ########\n",
    "        try:\n",
    "            coverage_for_all_base_and_small_indel_calls.append( record.INFO['DP'] )\n",
    "\n",
    "        except KeyError: #major structural variant with no depth value\n",
    "            pass \n",
    "\n",
    "        ######## Classify SNP-type according to Pilon Flags ########\n",
    "\n",
    "        ### Filtering Criteria\n",
    "        #---> Check that Filter is either PASS ([]) or AMBIGUOUS (['Amb']) , no 'DEL' or 'LOWCOV' flags from Pilon\n",
    "\n",
    "        ### Call supporting REFERENCE\n",
    "        #if there's no alternate allele and Filter is PASS; PASS call supporting Ref allele\n",
    "        if (len(record.ALT) == 1) and (record.ALT == [None]) and (record.FILTER == []):\n",
    "\n",
    "            alt_allele = 'Z' #no alternate allele supported by reads (might change through filtering process further down if small fraction of reads support an alternate)\n",
    "            ref_allele = record.REF #allele on H37Rv\n",
    "            SNP_type_for_Call = 'Ref_PASS'\n",
    "\n",
    "        ### Call supporting ALTERNATE \n",
    "        #if there's 1 alternate allele, and Filter is PASS; PASS call supporting Alt allele\n",
    "        elif (len(record.ALT) == 1) and (record.ALT != [None]) and (record.FILTER == []):\n",
    "\n",
    "            alt_allele = str( record.ALT[0] ) #alternate allele supported by reads\n",
    "            ref_allele = record.REF #allele on H37Rv\n",
    "            SNP_type_for_Call = 'Alt_PASS'\n",
    "\n",
    "        ### Call ambiguous between REFERNENCE and ALTERNATE\n",
    "        #if there's 1 alternate allele, and Filter is AMB; AMB call supporting supporting neither Alt nor Ref\n",
    "        elif (len(record.ALT) == 1) and (record.ALT != [None]) and (record.FILTER == ['Amb']):\n",
    "\n",
    "            alt_allele = str( record.ALT[0] ) #alternate allele supported by reads\n",
    "            ref_allele = record.REF #allele on H37Rv\n",
    "            SNP_type_for_Call = 'Amb'\n",
    "\n",
    "        ### Bad Quality Call, don't store information for this Base Call, move onto next\n",
    "        else:\n",
    "\n",
    "            continue\n",
    "\n",
    "        ### Filtering Criteria (for Reference Confirmation or SNP)\n",
    "        #---> Make sure that the length of all any alleles is 1 (No Variant or 1 Base) ; if variant, then variant is a SNP and not an INDEL\n",
    "        if (len(ref_allele) == 1) and (len(alt_allele) == 1):\n",
    "\n",
    "            ######## Retrieve Relevant information for filtering quality of Base Call ########\n",
    "\n",
    "            # Mean Base Quality @ locus\n",
    "            BQ = record.INFO['BQ']\n",
    "\n",
    "            # Mean Mapping Quality @ locus\n",
    "            MQ = record.INFO['MQ']\n",
    "\n",
    "            # Number of Reads w/ Deletion \n",
    "            DC = record.INFO['DC']\n",
    "\n",
    "            # Number of Reads w/ Insertion\n",
    "            IC = record.INFO['IC']  \n",
    "\n",
    "            ### Filtering Criteria\n",
    "            #---> Mean Base Quality > 20\n",
    "            #---> Mean Mapping Quality > 30\n",
    "            #---> No Reads Supporting Insertions\n",
    "            #---> No Reads Supporting Deletions\n",
    "            if (BQ > 20) and (MQ > 30) and (DC == 0) and (IC == 0):\n",
    "\n",
    "                # Quality-Percentage - Percentage of As, Cs, Gs, Ts weighted by Q & MQ at locus\n",
    "                QP = record.INFO['QP']\n",
    "\n",
    "                ### Filtering Criteria\n",
    "                #---> Make sure that Reads support at most 2 alleles (either confirm the Reference or provide evidence for an alternate allele)\n",
    "                #-----> If there are 2 alleles (make sure 1 of them is the Reference Allele)\n",
    "\n",
    "                if (sum(np.array(QP) == 0) == 3): #1 Allele supported by Reads (either Reference or an Alternate), store information for this Base Call (3 bases have NO reads supporting)\n",
    "\n",
    "                    #create a Boolean list for the Bases that have at least 1% of support from reads\n",
    "                    supported_bases_boolean = list( np.array( QP ) > 0 )\n",
    "\n",
    "                    #positions of Bases [A,C,G,T] with at least 1% of support from reads\n",
    "                    supported_bases_i = [i for i,x in enumerate(supported_bases_boolean) if x == True] #returns list of length \n",
    "                    supported_base = base_order[supported_bases_i[0]]\n",
    "\n",
    "                    #if the Reference Allele is supported\n",
    "                    if supported_base == ref_allele:\n",
    "                        alt_allele_frequency = 0.0 #no alternate allele\n",
    "\n",
    "                    #if an Alternate Allele is supported:\n",
    "                    if supported_base != ref_allele:\n",
    "                        alt_allele_frequency = 1.0 #alternate allele\n",
    "\n",
    "                elif (sum(np.array(QP) == 0) == 2): #2 Alleles supported, make sure 1 is the Reference & confirm the Alternate (2 bases have NO reads supporting)\n",
    "\n",
    "                    #position of the Reference Allele in [A,C,G,T]\n",
    "                    ref_allele_base_i = base_order_r[ref_allele] \n",
    "\n",
    "                    #create a Boolean list for the Bases that have at least 1% of support from reads\n",
    "                    supported_bases_boolean = list( np.array( QP ) > 0 )\n",
    "\n",
    "                    #positions of Bases [A,C,G,T] with at least 1% of support from reads\n",
    "                    supported_bases_i = [i for i,x in enumerate(supported_bases_boolean) if x == True] #returns list of length 2\n",
    "\n",
    "                    #check that Reference Allele is supported by at least 1% of the reads\n",
    "                    if ref_allele_base_i in supported_bases_i:\n",
    "\n",
    "                        #find the Alternate Allele that was supported by at least 1% of the reads\n",
    "                        for supported_base_i in supported_bases_i:\n",
    "\n",
    "                            if supported_base_i != ref_allele_base_i: #then must be alternate allele\n",
    "\n",
    "                                alt_allele = base_order[supported_base_i] #Alternate Allele\n",
    "                                alt_allele_frequency = float(QP[supported_base_i]) / 100.0 #weighted percentage of reads supporting Alternate Allele\n",
    "                                break\n",
    "                    \n",
    "                    #Reference Allele is NOT supported by at least 1% of the reads (2 alleles supported but neither is the reference), don't store information for this Base Call\n",
    "                    else:\n",
    "                        continue\n",
    "\n",
    "                #more than 2 alleles supported by reads, don't store information for this Base Call\n",
    "                else: \n",
    "                    continue\n",
    "                    \n",
    "                #only store this base call if AF >= 5%\n",
    "                if alt_allele_frequency >= 0.05:\n",
    "\n",
    "                    #After extensive filtering and categorization, store all of the pertinent information about the Base Call\n",
    "                    ref_bases[index] = ref_allele\n",
    "                    qry_bases[index] = alt_allele\n",
    "                    ref_positions[index] = record.POS\n",
    "                    PASS_filter[index] = record.FILTER\n",
    "                    quality_scores[index] = record.QUAL\n",
    "                    SNP_type[index] = SNP_type_for_Call\n",
    "                    INFO_for_call[index] = record.INFO\n",
    "                    alt_allele_freq[index] = alt_allele_frequency\n",
    "                    valid_depth[index] = record.INFO['DP']\n",
    "\n",
    "                    index += 1\n",
    "\n",
    "    #convert dictionaries to series\n",
    "    ref_bases = pd.Series(ref_bases)\n",
    "    qry_bases = pd.Series(qry_bases)\n",
    "    ref_positions = pd.Series(ref_positions)\n",
    "    quality_scores = pd.Series(quality_scores)\n",
    "    SNP_type = pd.Series(SNP_type)\n",
    "    PASS_filter = pd.Series(PASS_filter)\n",
    "    INFO_for_call = pd.Series(INFO_for_call)\n",
    "    alt_allele_freq = pd.Series(alt_allele_freq)\n",
    "    valid_depth = pd.Series(valid_depth)\n",
    "    tag_series = pd.Series([tag]*len(ref_bases.index) , index = ref_bases.index) #psuedo-series to store the tag id of the isolate\n",
    "\n",
    "    #create DataFrame to hold all base calls for a given sample\n",
    "    Variant_Call_DF = pd.DataFrame()\n",
    "    Variant_Call_DF['ref_base'] = ref_bases\n",
    "    Variant_Call_DF['alt_base'] = qry_bases\n",
    "    Variant_Call_DF['ref_position'] = ref_positions\n",
    "    Variant_Call_DF['quality'] = quality_scores\n",
    "    Variant_Call_DF['SNP_type'] = SNP_type\n",
    "    Variant_Call_DF['PASS_filter'] = PASS_filter\n",
    "    Variant_Call_DF['INFO'] = INFO_for_call\n",
    "    Variant_Call_DF['alt_AF'] = alt_allele_freq\n",
    "    Variant_Call_DF['depth'] = valid_depth\n",
    "    Variant_Call_DF['tag'] = tag_series\n",
    "\n",
    "    ### Filtering Criteria (high coverage)\n",
    "    #---> Filter out Base Calls with total # of reads aligning above the 99th percentile of covered positions in sample\n",
    "    ninety_ninth_percentile_coverage = np.percentile( np.array( coverage_for_all_base_and_small_indel_calls ) , 99 )\n",
    "    Variant_Call_DF = Variant_Call_DF[Variant_Call_DF.depth < ninety_ninth_percentile_coverage] #keep base calls that dont have unusually high coverage\n",
    "\n",
    "    #reset index after dropping base calls with unusually high coverage\n",
    "    Variant_Call_DF.reset_index(inplace = True , drop = True)\n",
    "    \n",
    "    ### Filtering Criteria (low coverage)\n",
    "    #---> Filter out Base Calls with less than 25 reads covering Reference Position\n",
    "    Variant_Call_DF = Variant_Call_DF[Variant_Call_DF.depth >= 25] #drop Base Calls with low coverage\n",
    "    \n",
    "    #reset index after dropping base calls with really low coverage\n",
    "    Variant_Call_DF.reset_index(inplace = True , drop = True)\n",
    "    \n",
    "    #append psuedo-columns to note population & subject id\n",
    "    population_series = pd.Series( [population] * np.shape(Variant_Call_DF)[0] , index = Variant_Call_DF.index )\n",
    "    subject_id_series = pd.Series( [subject_id] * np.shape(Variant_Call_DF)[0] , index = Variant_Call_DF.index )\n",
    "\n",
    "    Variant_Call_DF['population'] = population_series\n",
    "    Variant_Call_DF['patient_id'] = subject_id_series\n",
    "    \n",
    "    #save single base call variants as a pickle\n",
    "    Variant_Call_DF.to_pickle('/n/data1/hms/dbmi/farhat/Roger/inhost_TB_dynamics_project/pickled_files/variant_calling/longitudinal_SNPs/in_host_base_calls_above_5_AF/basecalls_timepoint_' + timepoint_i + '/' + tag + '_base_calls.pkl')"
   ]
  },
  {
   "cell_type": "markdown",
   "metadata": {},
   "source": [
    "#### Call function above by specidying sample"
   ]
  },
  {
   "cell_type": "code",
   "execution_count": null,
   "metadata": {},
   "outputs": [],
   "source": [
    "Get_Base_Calls_from_VCF(tag , population , subject_id , timepoint_i)"
   ]
  },
  {
   "cell_type": "markdown",
   "metadata": {},
   "source": [
    "############################################################################################################################################################################################################################"
   ]
  },
  {
   "cell_type": "markdown",
   "metadata": {},
   "source": [
    "## [2] Submit Jobs to call SNPs in each sample for longitudinal pairs"
   ]
  },
  {
   "cell_type": "markdown",
   "metadata": {},
   "source": [
    "############################################################################################################################################################################################################################"
   ]
  },
  {
   "cell_type": "code",
   "execution_count": 7,
   "metadata": {},
   "outputs": [],
   "source": [
    "import os\n",
    "import pandas as pd\n",
    "from slurmpy import Slurm\n",
    "import numpy as np"
   ]
  },
  {
   "cell_type": "markdown",
   "metadata": {},
   "source": [
    "#### Import annotation file for all patients"
   ]
  },
  {
   "cell_type": "code",
   "execution_count": 8,
   "metadata": {},
   "outputs": [],
   "source": [
    "#annotation file for all isolates and corresponding tags\n",
    "sample_annotation = pd.read_csv('/n/data1/hms/dbmi/farhat/Roger/inhost_TB_dynamics_project/CSV_files/sample_annotation_files/Longitudinal_fastq_path_names_and_JankyPipe_tags_filtered_final.csv' , sep = ',').set_index('patient_id')"
   ]
  },
  {
   "cell_type": "code",
   "execution_count": 9,
   "metadata": {},
   "outputs": [
    {
     "data": {
      "text/html": [
       "<div>\n",
       "<style>\n",
       "    .dataframe thead tr:only-child th {\n",
       "        text-align: right;\n",
       "    }\n",
       "\n",
       "    .dataframe thead th {\n",
       "        text-align: left;\n",
       "    }\n",
       "\n",
       "    .dataframe tbody tr th {\n",
       "        vertical-align: top;\n",
       "    }\n",
       "</style>\n",
       "<table border=\"1\" class=\"dataframe\">\n",
       "  <thead>\n",
       "    <tr style=\"text-align: right;\">\n",
       "      <th></th>\n",
       "      <th>fastq_files</th>\n",
       "      <th>population</th>\n",
       "      <th>run_ID</th>\n",
       "      <th>sample_ID</th>\n",
       "      <th>sample_order</th>\n",
       "      <th>tag</th>\n",
       "      <th>isolate_type</th>\n",
       "    </tr>\n",
       "    <tr>\n",
       "      <th>patient_id</th>\n",
       "      <th></th>\n",
       "      <th></th>\n",
       "      <th></th>\n",
       "      <th></th>\n",
       "      <th></th>\n",
       "      <th></th>\n",
       "      <th></th>\n",
       "    </tr>\n",
       "  </thead>\n",
       "  <tbody>\n",
       "    <tr>\n",
       "      <th>P000183</th>\n",
       "      <td>/n/data1/hms/dbmi/farhat/fastq_db/walker/ERR03...</td>\n",
       "      <td>WALKER</td>\n",
       "      <td>ERR039337</td>\n",
       "      <td>NaN</td>\n",
       "      <td>1</td>\n",
       "      <td>ERR039337</td>\n",
       "      <td>longitudinal</td>\n",
       "    </tr>\n",
       "    <tr>\n",
       "      <th>P000183</th>\n",
       "      <td>/n/data1/hms/dbmi/farhat/fastq_db/walker/ERR03...</td>\n",
       "      <td>WALKER</td>\n",
       "      <td>ERR039338</td>\n",
       "      <td>NaN</td>\n",
       "      <td>2</td>\n",
       "      <td>ERR039338</td>\n",
       "      <td>longitudinal</td>\n",
       "    </tr>\n",
       "    <tr>\n",
       "      <th>1960</th>\n",
       "      <td>/n/data1/hms/dbmi/farhat/cetr_strains/good_wgs...</td>\n",
       "      <td>CETR</td>\n",
       "      <td>MMJA00000000</td>\n",
       "      <td>Peru5115</td>\n",
       "      <td>1</td>\n",
       "      <td>Peru5115</td>\n",
       "      <td>longitudinal</td>\n",
       "    </tr>\n",
       "    <tr>\n",
       "      <th>1960</th>\n",
       "      <td>/n/data1/hms/dbmi/farhat/cetr_strains/good_wgs...</td>\n",
       "      <td>CETR</td>\n",
       "      <td>MMPC00000000</td>\n",
       "      <td>Peru4668</td>\n",
       "      <td>2</td>\n",
       "      <td>Peru4668</td>\n",
       "      <td>longitudinal</td>\n",
       "    </tr>\n",
       "    <tr>\n",
       "      <th>2491</th>\n",
       "      <td>/n/data1/hms/dbmi/farhat/cetr_strains/good_wgs...</td>\n",
       "      <td>CETR</td>\n",
       "      <td>MMZT00000000</td>\n",
       "      <td>Peru4903</td>\n",
       "      <td>1</td>\n",
       "      <td>Peru4903</td>\n",
       "      <td>longitudinal</td>\n",
       "    </tr>\n",
       "  </tbody>\n",
       "</table>\n",
       "</div>"
      ],
      "text/plain": [
       "                                                  fastq_files population  \\\n",
       "patient_id                                                                 \n",
       "P000183     /n/data1/hms/dbmi/farhat/fastq_db/walker/ERR03...     WALKER   \n",
       "P000183     /n/data1/hms/dbmi/farhat/fastq_db/walker/ERR03...     WALKER   \n",
       "1960        /n/data1/hms/dbmi/farhat/cetr_strains/good_wgs...       CETR   \n",
       "1960        /n/data1/hms/dbmi/farhat/cetr_strains/good_wgs...       CETR   \n",
       "2491        /n/data1/hms/dbmi/farhat/cetr_strains/good_wgs...       CETR   \n",
       "\n",
       "                  run_ID sample_ID  sample_order        tag  isolate_type  \n",
       "patient_id                                                                 \n",
       "P000183        ERR039337       NaN             1  ERR039337  longitudinal  \n",
       "P000183        ERR039338       NaN             2  ERR039338  longitudinal  \n",
       "1960        MMJA00000000  Peru5115             1   Peru5115  longitudinal  \n",
       "1960        MMPC00000000  Peru4668             2   Peru4668  longitudinal  \n",
       "2491        MMZT00000000  Peru4903             1   Peru4903  longitudinal  "
      ]
     },
     "execution_count": 9,
     "metadata": {},
     "output_type": "execute_result"
    }
   ],
   "source": [
    "sample_annotation.head()"
   ]
  },
  {
   "cell_type": "code",
   "execution_count": 10,
   "metadata": {},
   "outputs": [
    {
     "data": {
      "text/plain": [
       "(400, 7)"
      ]
     },
     "execution_count": 10,
     "metadata": {},
     "output_type": "execute_result"
    }
   ],
   "source": [
    "np.shape(sample_annotation) #200 subjects"
   ]
  },
  {
   "cell_type": "markdown",
   "metadata": {},
   "source": [
    "#### Import annotation for time between collection"
   ]
  },
  {
   "cell_type": "code",
   "execution_count": 11,
   "metadata": {},
   "outputs": [],
   "source": [
    "time_between_collection_longitudinal_pairs_df = pd.read_csv('/n/data1/hms/dbmi/farhat/Roger/inhost_TB_dynamics_project/CSV_files/variant_calling/longitudinal_SNPs/number_SNPs_vs_time_per_patient.csv')\n",
    "time_between_collection_longitudinal_pairs_df.set_index('Unnamed: 0' , inplace = True , drop = True) #sert index to longitudinal pair ID\n",
    "time_between_collection_longitudinal_pairs_df = time_between_collection_longitudinal_pairs_df.loc[: , ['population' , 'time_between_collection']] #drop pairwise SNP distance"
   ]
  },
  {
   "cell_type": "code",
   "execution_count": 12,
   "metadata": {},
   "outputs": [
    {
     "data": {
      "text/html": [
       "<div>\n",
       "<style>\n",
       "    .dataframe thead tr:only-child th {\n",
       "        text-align: right;\n",
       "    }\n",
       "\n",
       "    .dataframe thead th {\n",
       "        text-align: left;\n",
       "    }\n",
       "\n",
       "    .dataframe tbody tr th {\n",
       "        vertical-align: top;\n",
       "    }\n",
       "</style>\n",
       "<table border=\"1\" class=\"dataframe\">\n",
       "  <thead>\n",
       "    <tr style=\"text-align: right;\">\n",
       "      <th></th>\n",
       "      <th>population</th>\n",
       "      <th>time_between_collection</th>\n",
       "    </tr>\n",
       "    <tr>\n",
       "      <th>Unnamed: 0</th>\n",
       "      <th></th>\n",
       "      <th></th>\n",
       "    </tr>\n",
       "  </thead>\n",
       "  <tbody>\n",
       "    <tr>\n",
       "      <th>2020E</th>\n",
       "      <td>BRYANT</td>\n",
       "      <td>8.40</td>\n",
       "    </tr>\n",
       "    <tr>\n",
       "      <th>2027W</th>\n",
       "      <td>BRYANT</td>\n",
       "      <td>11.20</td>\n",
       "    </tr>\n",
       "    <tr>\n",
       "      <th>2028K</th>\n",
       "      <td>BRYANT</td>\n",
       "      <td>6.07</td>\n",
       "    </tr>\n",
       "    <tr>\n",
       "      <th>2041Q</th>\n",
       "      <td>BRYANT</td>\n",
       "      <td>6.07</td>\n",
       "    </tr>\n",
       "    <tr>\n",
       "      <th>2043R</th>\n",
       "      <td>BRYANT</td>\n",
       "      <td>8.40</td>\n",
       "    </tr>\n",
       "  </tbody>\n",
       "</table>\n",
       "</div>"
      ],
      "text/plain": [
       "           population  time_between_collection\n",
       "Unnamed: 0                                    \n",
       "2020E          BRYANT                     8.40\n",
       "2027W          BRYANT                    11.20\n",
       "2028K          BRYANT                     6.07\n",
       "2041Q          BRYANT                     6.07\n",
       "2043R          BRYANT                     8.40"
      ]
     },
     "execution_count": 12,
     "metadata": {},
     "output_type": "execute_result"
    }
   ],
   "source": [
    "time_between_collection_longitudinal_pairs_df.head()"
   ]
  },
  {
   "cell_type": "markdown",
   "metadata": {},
   "source": [
    "#### *Subset* patients to those that had date collection info"
   ]
  },
  {
   "cell_type": "code",
   "execution_count": 13,
   "metadata": {},
   "outputs": [],
   "source": [
    "sample_annotation_subject_with_dates_filter = np.array([patient_id in  time_between_collection_longitudinal_pairs_df.index for patient_id in sample_annotation.index])"
   ]
  },
  {
   "cell_type": "code",
   "execution_count": 14,
   "metadata": {},
   "outputs": [],
   "source": [
    "sample_annotation = sample_annotation[sample_annotation_subject_with_dates_filter]"
   ]
  },
  {
   "cell_type": "code",
   "execution_count": 15,
   "metadata": {},
   "outputs": [
    {
     "data": {
      "text/plain": [
       "(390, 7)"
      ]
     },
     "execution_count": 15,
     "metadata": {},
     "output_type": "execute_result"
    }
   ],
   "source": [
    "np.shape(sample_annotation) #195 subjects with complete date information"
   ]
  },
  {
   "cell_type": "markdown",
   "metadata": {},
   "source": [
    "### Submit a job for each sample to get the SNPs called in the VCF"
   ]
  },
  {
   "cell_type": "code",
   "execution_count": 62,
   "metadata": {},
   "outputs": [
    {
     "name": "stderr",
     "output_type": "stream",
     "text": [
      "submitted: Submitted batch job 64349498\n",
      "submitted: Submitted batch job 64349499\n",
      "submitted: Submitted batch job 64349500\n"
     ]
    },
    {
     "name": "stdout",
     "output_type": "stream",
     "text": [
      "0 : 64349498\n",
      "1 : 64349499\n",
      "2 : 64349500\n"
     ]
    },
    {
     "name": "stderr",
     "output_type": "stream",
     "text": [
      "submitted: Submitted batch job 64349501\n",
      "submitted: Submitted batch job 64349502\n",
      "submitted: Submitted batch job 64349503\n"
     ]
    },
    {
     "name": "stdout",
     "output_type": "stream",
     "text": [
      "3 : 64349501\n",
      "4 : 64349502\n",
      "5 : 64349503\n"
     ]
    },
    {
     "name": "stderr",
     "output_type": "stream",
     "text": [
      "submitted: Submitted batch job 64349504\n",
      "submitted: Submitted batch job 64349505\n",
      "submitted: Submitted batch job 64349506\n"
     ]
    },
    {
     "name": "stdout",
     "output_type": "stream",
     "text": [
      "6 : 64349504\n",
      "7 : 64349505\n",
      "8 : 64349506\n"
     ]
    },
    {
     "name": "stderr",
     "output_type": "stream",
     "text": [
      "submitted: Submitted batch job 64349507\n",
      "submitted: Submitted batch job 64349508\n",
      "submitted: Submitted batch job 64349509\n"
     ]
    },
    {
     "name": "stdout",
     "output_type": "stream",
     "text": [
      "9 : 64349507\n",
      "10 : 64349508\n",
      "11 : 64349509\n"
     ]
    },
    {
     "name": "stderr",
     "output_type": "stream",
     "text": [
      "submitted: Submitted batch job 64349510\n",
      "submitted: Submitted batch job 64349511\n",
      "submitted: Submitted batch job 64349512\n"
     ]
    },
    {
     "name": "stdout",
     "output_type": "stream",
     "text": [
      "12 : 64349510\n",
      "13 : 64349511\n",
      "14 : 64349512\n"
     ]
    },
    {
     "name": "stderr",
     "output_type": "stream",
     "text": [
      "submitted: Submitted batch job 64349513\n",
      "submitted: Submitted batch job 64349514\n",
      "submitted: Submitted batch job 64349515\n"
     ]
    },
    {
     "name": "stdout",
     "output_type": "stream",
     "text": [
      "15 : 64349513\n",
      "16 : 64349514\n",
      "17 : 64349515\n"
     ]
    },
    {
     "name": "stderr",
     "output_type": "stream",
     "text": [
      "submitted: Submitted batch job 64349516\n"
     ]
    },
    {
     "name": "stdout",
     "output_type": "stream",
     "text": [
      "18 : 64349516\n"
     ]
    },
    {
     "name": "stderr",
     "output_type": "stream",
     "text": [
      "submitted: Submitted batch job 64349517\n",
      "submitted: Submitted batch job 64349518\n",
      "submitted: Submitted batch job 64349519\n"
     ]
    },
    {
     "name": "stdout",
     "output_type": "stream",
     "text": [
      "19 : 64349517\n",
      "20 : 64349518\n",
      "21 : 64349519\n"
     ]
    },
    {
     "name": "stderr",
     "output_type": "stream",
     "text": [
      "submitted: Submitted batch job 64349520\n",
      "submitted: Submitted batch job 64349521\n"
     ]
    },
    {
     "name": "stdout",
     "output_type": "stream",
     "text": [
      "22 : 64349520\n",
      "23 : 64349521\n"
     ]
    },
    {
     "name": "stderr",
     "output_type": "stream",
     "text": [
      "submitted: Submitted batch job 64349522\n",
      "submitted: Submitted batch job 64349523\n",
      "submitted: Submitted batch job 64349524\n"
     ]
    },
    {
     "name": "stdout",
     "output_type": "stream",
     "text": [
      "24 : 64349522\n",
      "25 : 64349523\n",
      "26 : 64349524\n"
     ]
    },
    {
     "name": "stderr",
     "output_type": "stream",
     "text": [
      "submitted: Submitted batch job 64349525\n",
      "submitted: Submitted batch job 64349526\n",
      "submitted: Submitted batch job 64349527\n"
     ]
    },
    {
     "name": "stdout",
     "output_type": "stream",
     "text": [
      "27 : 64349525\n",
      "28 : 64349526\n",
      "29 : 64349527\n"
     ]
    },
    {
     "name": "stderr",
     "output_type": "stream",
     "text": [
      "submitted: Submitted batch job 64349528\n",
      "submitted: Submitted batch job 64349529\n",
      "submitted: Submitted batch job 64349530\n"
     ]
    },
    {
     "name": "stdout",
     "output_type": "stream",
     "text": [
      "30 : 64349528\n",
      "31 : 64349529\n",
      "32 : 64349530\n"
     ]
    },
    {
     "name": "stderr",
     "output_type": "stream",
     "text": [
      "submitted: Submitted batch job 64349531\n",
      "submitted: Submitted batch job 64349532\n"
     ]
    },
    {
     "name": "stdout",
     "output_type": "stream",
     "text": [
      "33 : 64349531\n",
      "34 : 64349532\n"
     ]
    },
    {
     "name": "stderr",
     "output_type": "stream",
     "text": [
      "submitted: Submitted batch job 64349533\n",
      "submitted: Submitted batch job 64349534\n",
      "submitted: Submitted batch job 64349535\n"
     ]
    },
    {
     "name": "stdout",
     "output_type": "stream",
     "text": [
      "35 : 64349533\n",
      "36 : 64349534\n",
      "37 : 64349535\n"
     ]
    },
    {
     "name": "stderr",
     "output_type": "stream",
     "text": [
      "submitted: Submitted batch job 64349536\n",
      "submitted: Submitted batch job 64349537\n",
      "submitted: Submitted batch job 64349538\n"
     ]
    },
    {
     "name": "stdout",
     "output_type": "stream",
     "text": [
      "38 : 64349536\n",
      "39 : 64349537\n",
      "40 : 64349538\n"
     ]
    },
    {
     "name": "stderr",
     "output_type": "stream",
     "text": [
      "submitted: Submitted batch job 64349539\n",
      "submitted: Submitted batch job 64349540\n",
      "submitted: Submitted batch job 64349541\n"
     ]
    },
    {
     "name": "stdout",
     "output_type": "stream",
     "text": [
      "41 : 64349539\n",
      "42 : 64349540\n",
      "43 : 64349541\n"
     ]
    },
    {
     "name": "stderr",
     "output_type": "stream",
     "text": [
      "submitted: Submitted batch job 64349542\n"
     ]
    },
    {
     "name": "stdout",
     "output_type": "stream",
     "text": [
      "44 : 64349542\n"
     ]
    },
    {
     "name": "stderr",
     "output_type": "stream",
     "text": [
      "submitted: Submitted batch job 64349543\n",
      "submitted: Submitted batch job 64349544\n",
      "submitted: Submitted batch job 64349545\n"
     ]
    },
    {
     "name": "stdout",
     "output_type": "stream",
     "text": [
      "45 : 64349543\n",
      "46 : 64349544\n",
      "47 : 64349545\n"
     ]
    },
    {
     "name": "stderr",
     "output_type": "stream",
     "text": [
      "submitted: Submitted batch job 64349546\n",
      "submitted: Submitted batch job 64349547\n",
      "submitted: Submitted batch job 64349548\n"
     ]
    },
    {
     "name": "stdout",
     "output_type": "stream",
     "text": [
      "48 : 64349546\n",
      "49 : 64349547\n",
      "50 : 64349548\n"
     ]
    },
    {
     "name": "stderr",
     "output_type": "stream",
     "text": [
      "submitted: Submitted batch job 64349549\n",
      "submitted: Submitted batch job 64349550\n"
     ]
    },
    {
     "name": "stdout",
     "output_type": "stream",
     "text": [
      "51 : 64349549\n",
      "52 : 64349550\n"
     ]
    },
    {
     "name": "stderr",
     "output_type": "stream",
     "text": [
      "submitted: Submitted batch job 64349551\n",
      "submitted: Submitted batch job 64349552\n",
      "submitted: Submitted batch job 64349553\n"
     ]
    },
    {
     "name": "stdout",
     "output_type": "stream",
     "text": [
      "53 : 64349551\n",
      "54 : 64349552\n",
      "55 : 64349553\n"
     ]
    },
    {
     "name": "stderr",
     "output_type": "stream",
     "text": [
      "submitted: Submitted batch job 64349554\n",
      "submitted: Submitted batch job 64349555\n",
      "submitted: Submitted batch job 64349556\n"
     ]
    },
    {
     "name": "stdout",
     "output_type": "stream",
     "text": [
      "56 : 64349554\n",
      "57 : 64349555\n",
      "58 : 64349556\n"
     ]
    },
    {
     "name": "stderr",
     "output_type": "stream",
     "text": [
      "submitted: Submitted batch job 64349557\n",
      "submitted: Submitted batch job 64349558\n"
     ]
    },
    {
     "name": "stdout",
     "output_type": "stream",
     "text": [
      "59 : 64349557\n",
      "60 : 64349558\n"
     ]
    },
    {
     "name": "stderr",
     "output_type": "stream",
     "text": [
      "submitted: Submitted batch job 64349559\n",
      "submitted: Submitted batch job 64349560\n",
      "submitted: Submitted batch job 64349561\n"
     ]
    },
    {
     "name": "stdout",
     "output_type": "stream",
     "text": [
      "61 : 64349559\n",
      "62 : 64349560\n",
      "63 : 64349561\n"
     ]
    },
    {
     "name": "stderr",
     "output_type": "stream",
     "text": [
      "submitted: Submitted batch job 64349562\n",
      "submitted: Submitted batch job 64349563\n",
      "submitted: Submitted batch job 64349564\n",
      "submitted: Submitted batch job 64349565\n"
     ]
    },
    {
     "name": "stdout",
     "output_type": "stream",
     "text": [
      "64 : 64349562\n",
      "65 : 64349563\n",
      "66 : 64349564\n",
      "67 : 64349565\n"
     ]
    },
    {
     "name": "stderr",
     "output_type": "stream",
     "text": [
      "submitted: Submitted batch job 64349566\n"
     ]
    },
    {
     "name": "stdout",
     "output_type": "stream",
     "text": [
      "68 : 64349566\n"
     ]
    },
    {
     "name": "stderr",
     "output_type": "stream",
     "text": [
      "submitted: Submitted batch job 64349567\n",
      "submitted: Submitted batch job 64349568\n",
      "submitted: Submitted batch job 64349569\n"
     ]
    },
    {
     "name": "stdout",
     "output_type": "stream",
     "text": [
      "69 : 64349567\n",
      "70 : 64349568\n",
      "71 : 64349569\n"
     ]
    },
    {
     "name": "stderr",
     "output_type": "stream",
     "text": [
      "submitted: Submitted batch job 64349570\n",
      "submitted: Submitted batch job 64349571\n",
      "submitted: Submitted batch job 64349572\n"
     ]
    },
    {
     "name": "stdout",
     "output_type": "stream",
     "text": [
      "72 : 64349570\n",
      "73 : 64349571\n",
      "74 : 64349572\n"
     ]
    },
    {
     "name": "stderr",
     "output_type": "stream",
     "text": [
      "submitted: Submitted batch job 64349573\n",
      "submitted: Submitted batch job 64349574\n",
      "submitted: Submitted batch job 64349575\n",
      "submitted: Submitted batch job 64349576\n"
     ]
    },
    {
     "name": "stdout",
     "output_type": "stream",
     "text": [
      "75 : 64349573\n",
      "76 : 64349574\n",
      "77 : 64349575\n",
      "78 : 64349576\n"
     ]
    },
    {
     "name": "stderr",
     "output_type": "stream",
     "text": [
      "submitted: Submitted batch job 64349577\n",
      "submitted: Submitted batch job 64349578\n"
     ]
    },
    {
     "name": "stdout",
     "output_type": "stream",
     "text": [
      "79 : 64349577\n",
      "80 : 64349578\n"
     ]
    },
    {
     "name": "stderr",
     "output_type": "stream",
     "text": [
      "submitted: Submitted batch job 64349579\n",
      "submitted: Submitted batch job 64349580\n",
      "submitted: Submitted batch job 64349581\n"
     ]
    },
    {
     "name": "stdout",
     "output_type": "stream",
     "text": [
      "81 : 64349579\n",
      "82 : 64349580\n",
      "83 : 64349581\n"
     ]
    },
    {
     "name": "stderr",
     "output_type": "stream",
     "text": [
      "submitted: Submitted batch job 64349582\n",
      "submitted: Submitted batch job 64349583\n",
      "submitted: Submitted batch job 64349584\n",
      "submitted: Submitted batch job 64349585\n"
     ]
    },
    {
     "name": "stdout",
     "output_type": "stream",
     "text": [
      "84 : 64349582\n",
      "85 : 64349583\n",
      "86 : 64349584\n",
      "87 : 64349585\n"
     ]
    },
    {
     "name": "stderr",
     "output_type": "stream",
     "text": [
      "submitted: Submitted batch job 64349586\n",
      "submitted: Submitted batch job 64349587\n",
      "submitted: Submitted batch job 64349588\n"
     ]
    },
    {
     "name": "stdout",
     "output_type": "stream",
     "text": [
      "88 : 64349586\n",
      "89 : 64349587\n",
      "90 : 64349588\n"
     ]
    },
    {
     "name": "stderr",
     "output_type": "stream",
     "text": [
      "submitted: Submitted batch job 64349589\n",
      "submitted: Submitted batch job 64349590\n"
     ]
    },
    {
     "name": "stdout",
     "output_type": "stream",
     "text": [
      "91 : 64349589\n",
      "92 : 64349590\n"
     ]
    },
    {
     "name": "stderr",
     "output_type": "stream",
     "text": [
      "submitted: Submitted batch job 64349591\n",
      "submitted: Submitted batch job 64349592\n",
      "submitted: Submitted batch job 64349593\n"
     ]
    },
    {
     "name": "stdout",
     "output_type": "stream",
     "text": [
      "93 : 64349591\n",
      "94 : 64349592\n",
      "95 : 64349593\n"
     ]
    },
    {
     "name": "stderr",
     "output_type": "stream",
     "text": [
      "submitted: Submitted batch job 64349594\n",
      "submitted: Submitted batch job 64349595\n"
     ]
    },
    {
     "name": "stdout",
     "output_type": "stream",
     "text": [
      "96 : 64349594\n",
      "97 : 64349595\n"
     ]
    },
    {
     "name": "stderr",
     "output_type": "stream",
     "text": [
      "submitted: Submitted batch job 64349596\n",
      "submitted: Submitted batch job 64349597\n",
      "submitted: Submitted batch job 64349598\n"
     ]
    },
    {
     "name": "stdout",
     "output_type": "stream",
     "text": [
      "98 : 64349596\n",
      "99 : 64349597\n",
      "100 : 64349598\n"
     ]
    },
    {
     "name": "stderr",
     "output_type": "stream",
     "text": [
      "submitted: Submitted batch job 64349599\n",
      "submitted: Submitted batch job 64349600\n"
     ]
    },
    {
     "name": "stdout",
     "output_type": "stream",
     "text": [
      "101 : 64349599\n",
      "102 : 64349600\n"
     ]
    },
    {
     "name": "stderr",
     "output_type": "stream",
     "text": [
      "submitted: Submitted batch job 64349601\n",
      "submitted: Submitted batch job 64349602\n",
      "submitted: Submitted batch job 64349603\n"
     ]
    },
    {
     "name": "stdout",
     "output_type": "stream",
     "text": [
      "103 : 64349601\n",
      "104 : 64349602\n",
      "105 : 64349603\n"
     ]
    },
    {
     "name": "stderr",
     "output_type": "stream",
     "text": [
      "submitted: Submitted batch job 64349604\n",
      "submitted: Submitted batch job 64349605\n",
      "submitted: Submitted batch job 64349606\n"
     ]
    },
    {
     "name": "stdout",
     "output_type": "stream",
     "text": [
      "106 : 64349604\n",
      "107 : 64349605\n",
      "108 : 64349606\n"
     ]
    },
    {
     "name": "stderr",
     "output_type": "stream",
     "text": [
      "submitted: Submitted batch job 64349607\n",
      "submitted: Submitted batch job 64349608\n"
     ]
    },
    {
     "name": "stdout",
     "output_type": "stream",
     "text": [
      "109 : 64349607\n",
      "110 : 64349608\n"
     ]
    },
    {
     "name": "stderr",
     "output_type": "stream",
     "text": [
      "submitted: Submitted batch job 64349609\n"
     ]
    },
    {
     "name": "stdout",
     "output_type": "stream",
     "text": [
      "111 : 64349609\n"
     ]
    },
    {
     "name": "stderr",
     "output_type": "stream",
     "text": [
      "submitted: Submitted batch job 64349610\n",
      "submitted: Submitted batch job 64349611\n",
      "submitted: Submitted batch job 64349612\n"
     ]
    },
    {
     "name": "stdout",
     "output_type": "stream",
     "text": [
      "112 : 64349610\n",
      "113 : 64349611\n",
      "114 : 64349612\n"
     ]
    },
    {
     "name": "stderr",
     "output_type": "stream",
     "text": [
      "submitted: Submitted batch job 64349613\n",
      "submitted: Submitted batch job 64349614\n",
      "submitted: Submitted batch job 64349615\n"
     ]
    },
    {
     "name": "stdout",
     "output_type": "stream",
     "text": [
      "115 : 64349613\n",
      "116 : 64349614\n",
      "117 : 64349615\n"
     ]
    },
    {
     "name": "stderr",
     "output_type": "stream",
     "text": [
      "submitted: Submitted batch job 64349616\n",
      "submitted: Submitted batch job 64349617\n"
     ]
    },
    {
     "name": "stdout",
     "output_type": "stream",
     "text": [
      "118 : 64349616\n",
      "119 : 64349617\n"
     ]
    },
    {
     "name": "stderr",
     "output_type": "stream",
     "text": [
      "submitted: Submitted batch job 64349618\n",
      "submitted: Submitted batch job 64349619\n",
      "submitted: Submitted batch job 64349620\n"
     ]
    },
    {
     "name": "stdout",
     "output_type": "stream",
     "text": [
      "120 : 64349618\n",
      "121 : 64349619\n",
      "122 : 64349620\n"
     ]
    },
    {
     "name": "stderr",
     "output_type": "stream",
     "text": [
      "submitted: Submitted batch job 64349621\n",
      "submitted: Submitted batch job 64349622\n"
     ]
    },
    {
     "name": "stdout",
     "output_type": "stream",
     "text": [
      "123 : 64349621\n",
      "124 : 64349622\n"
     ]
    },
    {
     "name": "stderr",
     "output_type": "stream",
     "text": [
      "submitted: Submitted batch job 64349623\n",
      "submitted: Submitted batch job 64349624\n",
      "submitted: Submitted batch job 64349625\n"
     ]
    },
    {
     "name": "stdout",
     "output_type": "stream",
     "text": [
      "125 : 64349623\n",
      "126 : 64349624\n",
      "127 : 64349625\n"
     ]
    },
    {
     "name": "stderr",
     "output_type": "stream",
     "text": [
      "submitted: Submitted batch job 64349626\n"
     ]
    },
    {
     "name": "stdout",
     "output_type": "stream",
     "text": [
      "128 : 64349626\n"
     ]
    },
    {
     "name": "stderr",
     "output_type": "stream",
     "text": [
      "submitted: Submitted batch job 64349627\n",
      "submitted: Submitted batch job 64349628\n",
      "submitted: Submitted batch job 64349629\n"
     ]
    },
    {
     "name": "stdout",
     "output_type": "stream",
     "text": [
      "129 : 64349627\n",
      "130 : 64349628\n",
      "131 : 64349629\n"
     ]
    },
    {
     "name": "stderr",
     "output_type": "stream",
     "text": [
      "submitted: Submitted batch job 64349630\n",
      "submitted: Submitted batch job 64349631\n",
      "submitted: Submitted batch job 64349632\n"
     ]
    },
    {
     "name": "stdout",
     "output_type": "stream",
     "text": [
      "132 : 64349630\n",
      "133 : 64349631\n",
      "134 : 64349632\n"
     ]
    },
    {
     "name": "stderr",
     "output_type": "stream",
     "text": [
      "submitted: Submitted batch job 64349633\n",
      "submitted: Submitted batch job 64349634\n",
      "submitted: Submitted batch job 64349635\n"
     ]
    },
    {
     "name": "stdout",
     "output_type": "stream",
     "text": [
      "135 : 64349633\n",
      "136 : 64349634\n",
      "137 : 64349635\n"
     ]
    },
    {
     "name": "stderr",
     "output_type": "stream",
     "text": [
      "submitted: Submitted batch job 64349636\n",
      "submitted: Submitted batch job 64349637\n"
     ]
    },
    {
     "name": "stdout",
     "output_type": "stream",
     "text": [
      "138 : 64349636\n",
      "139 : 64349637\n"
     ]
    },
    {
     "name": "stderr",
     "output_type": "stream",
     "text": [
      "submitted: Submitted batch job 64349638\n",
      "submitted: Submitted batch job 64349639\n",
      "submitted: Submitted batch job 64349640\n"
     ]
    },
    {
     "name": "stdout",
     "output_type": "stream",
     "text": [
      "140 : 64349638\n",
      "141 : 64349639\n",
      "142 : 64349640\n"
     ]
    },
    {
     "name": "stderr",
     "output_type": "stream",
     "text": [
      "submitted: Submitted batch job 64349641\n",
      "submitted: Submitted batch job 64349642\n",
      "submitted: Submitted batch job 64349643\n"
     ]
    },
    {
     "name": "stdout",
     "output_type": "stream",
     "text": [
      "143 : 64349641\n",
      "144 : 64349642\n",
      "145 : 64349643\n"
     ]
    },
    {
     "name": "stderr",
     "output_type": "stream",
     "text": [
      "submitted: Submitted batch job 64349644\n",
      "submitted: Submitted batch job 64349645\n",
      "submitted: Submitted batch job 64349646\n"
     ]
    },
    {
     "name": "stdout",
     "output_type": "stream",
     "text": [
      "146 : 64349644\n",
      "147 : 64349645\n",
      "148 : 64349646\n"
     ]
    },
    {
     "name": "stderr",
     "output_type": "stream",
     "text": [
      "submitted: Submitted batch job 64349647\n",
      "submitted: Submitted batch job 64349648\n"
     ]
    },
    {
     "name": "stdout",
     "output_type": "stream",
     "text": [
      "149 : 64349647\n",
      "150 : 64349648\n"
     ]
    },
    {
     "name": "stderr",
     "output_type": "stream",
     "text": [
      "submitted: Submitted batch job 64349649\n",
      "submitted: Submitted batch job 64349650\n",
      "submitted: Submitted batch job 64349651\n"
     ]
    },
    {
     "name": "stdout",
     "output_type": "stream",
     "text": [
      "151 : 64349649\n",
      "152 : 64349650\n",
      "153 : 64349651\n"
     ]
    },
    {
     "name": "stderr",
     "output_type": "stream",
     "text": [
      "submitted: Submitted batch job 64349652\n",
      "submitted: Submitted batch job 64349653\n",
      "submitted: Submitted batch job 64349654\n"
     ]
    },
    {
     "name": "stdout",
     "output_type": "stream",
     "text": [
      "154 : 64349652\n",
      "155 : 64349653\n",
      "156 : 64349654\n"
     ]
    },
    {
     "name": "stderr",
     "output_type": "stream",
     "text": [
      "submitted: Submitted batch job 64349655\n",
      "submitted: Submitted batch job 64349656\n"
     ]
    },
    {
     "name": "stdout",
     "output_type": "stream",
     "text": [
      "157 : 64349655\n",
      "158 : 64349656\n"
     ]
    },
    {
     "name": "stderr",
     "output_type": "stream",
     "text": [
      "submitted: Submitted batch job 64349657\n"
     ]
    },
    {
     "name": "stdout",
     "output_type": "stream",
     "text": [
      "159 : 64349657\n"
     ]
    },
    {
     "name": "stderr",
     "output_type": "stream",
     "text": [
      "submitted: Submitted batch job 64349658\n",
      "submitted: Submitted batch job 64349659\n",
      "submitted: Submitted batch job 64349660\n"
     ]
    },
    {
     "name": "stdout",
     "output_type": "stream",
     "text": [
      "160 : 64349658\n",
      "161 : 64349659\n",
      "162 : 64349660\n"
     ]
    },
    {
     "name": "stderr",
     "output_type": "stream",
     "text": [
      "submitted: Submitted batch job 64349661\n",
      "submitted: Submitted batch job 64349662\n",
      "submitted: Submitted batch job 64349663\n"
     ]
    },
    {
     "name": "stdout",
     "output_type": "stream",
     "text": [
      "163 : 64349661\n",
      "164 : 64349662\n",
      "165 : 64349663\n"
     ]
    },
    {
     "name": "stderr",
     "output_type": "stream",
     "text": [
      "submitted: Submitted batch job 64349664\n"
     ]
    },
    {
     "name": "stdout",
     "output_type": "stream",
     "text": [
      "166 : 64349664\n"
     ]
    },
    {
     "name": "stderr",
     "output_type": "stream",
     "text": [
      "submitted: Submitted batch job 64349665\n",
      "submitted: Submitted batch job 64349666\n",
      "submitted: Submitted batch job 64349667\n"
     ]
    },
    {
     "name": "stdout",
     "output_type": "stream",
     "text": [
      "167 : 64349665\n",
      "168 : 64349666\n",
      "169 : 64349667\n"
     ]
    },
    {
     "name": "stderr",
     "output_type": "stream",
     "text": [
      "submitted: Submitted batch job 64349668\n",
      "submitted: Submitted batch job 64349669\n",
      "submitted: Submitted batch job 64349670\n"
     ]
    },
    {
     "name": "stdout",
     "output_type": "stream",
     "text": [
      "170 : 64349668\n",
      "171 : 64349669\n",
      "172 : 64349670\n"
     ]
    },
    {
     "name": "stderr",
     "output_type": "stream",
     "text": [
      "submitted: Submitted batch job 64349671\n",
      "submitted: Submitted batch job 64349672\n",
      "submitted: Submitted batch job 64349673\n"
     ]
    },
    {
     "name": "stdout",
     "output_type": "stream",
     "text": [
      "173 : 64349671\n",
      "174 : 64349672\n",
      "175 : 64349673\n"
     ]
    },
    {
     "name": "stderr",
     "output_type": "stream",
     "text": [
      "submitted: Submitted batch job 64349674\n"
     ]
    },
    {
     "name": "stdout",
     "output_type": "stream",
     "text": [
      "176 : 64349674\n"
     ]
    },
    {
     "name": "stderr",
     "output_type": "stream",
     "text": [
      "submitted: Submitted batch job 64349675\n",
      "submitted: Submitted batch job 64349676\n",
      "submitted: Submitted batch job 64349677\n"
     ]
    },
    {
     "name": "stdout",
     "output_type": "stream",
     "text": [
      "177 : 64349675\n",
      "178 : 64349676\n",
      "179 : 64349677\n"
     ]
    },
    {
     "name": "stderr",
     "output_type": "stream",
     "text": [
      "submitted: Submitted batch job 64349678\n",
      "submitted: Submitted batch job 64349679\n",
      "submitted: Submitted batch job 64349680\n",
      "submitted: Submitted batch job 64349681\n"
     ]
    },
    {
     "name": "stdout",
     "output_type": "stream",
     "text": [
      "180 : 64349678\n",
      "181 : 64349679\n",
      "182 : 64349680\n",
      "183 : 64349681\n"
     ]
    },
    {
     "name": "stderr",
     "output_type": "stream",
     "text": [
      "submitted: Submitted batch job 64349682\n",
      "submitted: Submitted batch job 64349683\n",
      "submitted: Submitted batch job 64349685\n"
     ]
    },
    {
     "name": "stdout",
     "output_type": "stream",
     "text": [
      "184 : 64349682\n",
      "185 : 64349683\n",
      "186 : 64349685\n"
     ]
    },
    {
     "name": "stderr",
     "output_type": "stream",
     "text": [
      "submitted: Submitted batch job 64349686\n",
      "submitted: Submitted batch job 64349687\n"
     ]
    },
    {
     "name": "stdout",
     "output_type": "stream",
     "text": [
      "187 : 64349686\n",
      "188 : 64349687\n"
     ]
    },
    {
     "name": "stderr",
     "output_type": "stream",
     "text": [
      "submitted: Submitted batch job 64349688\n",
      "submitted: Submitted batch job 64349689\n",
      "submitted: Submitted batch job 64349690\n"
     ]
    },
    {
     "name": "stdout",
     "output_type": "stream",
     "text": [
      "189 : 64349688\n",
      "190 : 64349689\n",
      "191 : 64349690\n"
     ]
    },
    {
     "name": "stderr",
     "output_type": "stream",
     "text": [
      "submitted: Submitted batch job 64349691\n",
      "submitted: Submitted batch job 64349692\n",
      "submitted: Submitted batch job 64349693\n"
     ]
    },
    {
     "name": "stdout",
     "output_type": "stream",
     "text": [
      "192 : 64349691\n",
      "193 : 64349692\n",
      "194 : 64349693\n"
     ]
    },
    {
     "name": "stderr",
     "output_type": "stream",
     "text": [
      "submitted: Submitted batch job 64349694\n",
      "submitted: Submitted batch job 64349695\n",
      "submitted: Submitted batch job 64349696\n",
      "submitted: Submitted batch job 64349697\n"
     ]
    },
    {
     "name": "stdout",
     "output_type": "stream",
     "text": [
      "195 : 64349694\n",
      "196 : 64349695\n",
      "197 : 64349696\n",
      "198 : 64349697\n"
     ]
    },
    {
     "name": "stderr",
     "output_type": "stream",
     "text": [
      "submitted: Submitted batch job 64349698\n"
     ]
    },
    {
     "name": "stdout",
     "output_type": "stream",
     "text": [
      "199 : 64349698\n"
     ]
    },
    {
     "name": "stderr",
     "output_type": "stream",
     "text": [
      "submitted: Submitted batch job 64349699\n",
      "submitted: Submitted batch job 64349700\n",
      "submitted: Submitted batch job 64349701\n"
     ]
    },
    {
     "name": "stdout",
     "output_type": "stream",
     "text": [
      "200 : 64349699\n",
      "201 : 64349700\n",
      "202 : 64349701\n"
     ]
    },
    {
     "name": "stderr",
     "output_type": "stream",
     "text": [
      "submitted: Submitted batch job 64349702\n",
      "submitted: Submitted batch job 64349703\n",
      "submitted: Submitted batch job 64349704\n"
     ]
    },
    {
     "name": "stdout",
     "output_type": "stream",
     "text": [
      "203 : 64349702\n",
      "204 : 64349703\n",
      "205 : 64349704\n"
     ]
    },
    {
     "name": "stderr",
     "output_type": "stream",
     "text": [
      "submitted: Submitted batch job 64349705\n",
      "submitted: Submitted batch job 64349706\n"
     ]
    },
    {
     "name": "stdout",
     "output_type": "stream",
     "text": [
      "206 : 64349705\n",
      "207 : 64349706\n"
     ]
    },
    {
     "name": "stderr",
     "output_type": "stream",
     "text": [
      "submitted: Submitted batch job 64349707\n"
     ]
    },
    {
     "name": "stdout",
     "output_type": "stream",
     "text": [
      "208 : 64349707\n"
     ]
    },
    {
     "name": "stderr",
     "output_type": "stream",
     "text": [
      "submitted: Submitted batch job 64349709\n",
      "submitted: Submitted batch job 64349710\n"
     ]
    },
    {
     "name": "stdout",
     "output_type": "stream",
     "text": [
      "209 : 64349709\n",
      "210 : 64349710\n"
     ]
    },
    {
     "name": "stderr",
     "output_type": "stream",
     "text": [
      "submitted: Submitted batch job 64349711\n",
      "submitted: Submitted batch job 64349712\n"
     ]
    },
    {
     "name": "stdout",
     "output_type": "stream",
     "text": [
      "211 : 64349711\n",
      "212 : 64349712\n"
     ]
    },
    {
     "name": "stderr",
     "output_type": "stream",
     "text": [
      "submitted: Submitted batch job 64349713\n",
      "submitted: Submitted batch job 64349714\n",
      "submitted: Submitted batch job 64349715\n"
     ]
    },
    {
     "name": "stdout",
     "output_type": "stream",
     "text": [
      "213 : 64349713\n",
      "214 : 64349714\n",
      "215 : 64349715\n"
     ]
    },
    {
     "name": "stderr",
     "output_type": "stream",
     "text": [
      "submitted: Submitted batch job 64349716\n",
      "submitted: Submitted batch job 64349717\n",
      "submitted: Submitted batch job 64349718\n"
     ]
    },
    {
     "name": "stdout",
     "output_type": "stream",
     "text": [
      "216 : 64349716\n",
      "217 : 64349717\n",
      "218 : 64349718\n"
     ]
    },
    {
     "name": "stderr",
     "output_type": "stream",
     "text": [
      "submitted: Submitted batch job 64349719\n",
      "submitted: Submitted batch job 64349720\n",
      "submitted: Submitted batch job 64349721\n"
     ]
    },
    {
     "name": "stdout",
     "output_type": "stream",
     "text": [
      "219 : 64349719\n",
      "220 : 64349720\n",
      "221 : 64349721\n"
     ]
    },
    {
     "name": "stderr",
     "output_type": "stream",
     "text": [
      "submitted: Submitted batch job 64349722\n"
     ]
    },
    {
     "name": "stdout",
     "output_type": "stream",
     "text": [
      "222 : 64349722\n"
     ]
    },
    {
     "name": "stderr",
     "output_type": "stream",
     "text": [
      "submitted: Submitted batch job 64349723\n"
     ]
    },
    {
     "name": "stdout",
     "output_type": "stream",
     "text": [
      "223 : 64349723\n"
     ]
    },
    {
     "name": "stderr",
     "output_type": "stream",
     "text": [
      "submitted: Submitted batch job 64349724\n",
      "submitted: Submitted batch job 64349725\n",
      "submitted: Submitted batch job 64349726\n"
     ]
    },
    {
     "name": "stdout",
     "output_type": "stream",
     "text": [
      "224 : 64349724\n",
      "225 : 64349725\n",
      "226 : 64349726\n"
     ]
    },
    {
     "name": "stderr",
     "output_type": "stream",
     "text": [
      "submitted: Submitted batch job 64349727\n",
      "submitted: Submitted batch job 64349728\n"
     ]
    },
    {
     "name": "stdout",
     "output_type": "stream",
     "text": [
      "227 : 64349727\n",
      "228 : 64349728\n"
     ]
    },
    {
     "name": "stderr",
     "output_type": "stream",
     "text": [
      "submitted: Submitted batch job 64349729\n",
      "submitted: Submitted batch job 64349730\n",
      "submitted: Submitted batch job 64349731\n"
     ]
    },
    {
     "name": "stdout",
     "output_type": "stream",
     "text": [
      "229 : 64349729\n",
      "230 : 64349730\n",
      "231 : 64349731\n"
     ]
    },
    {
     "name": "stderr",
     "output_type": "stream",
     "text": [
      "submitted: Submitted batch job 64349732\n",
      "submitted: Submitted batch job 64349733\n"
     ]
    },
    {
     "name": "stdout",
     "output_type": "stream",
     "text": [
      "232 : 64349732\n",
      "233 : 64349733\n"
     ]
    },
    {
     "name": "stderr",
     "output_type": "stream",
     "text": [
      "submitted: Submitted batch job 64349734\n",
      "submitted: Submitted batch job 64349735\n",
      "submitted: Submitted batch job 64349736\n"
     ]
    },
    {
     "name": "stdout",
     "output_type": "stream",
     "text": [
      "234 : 64349734\n",
      "235 : 64349735\n",
      "236 : 64349736\n"
     ]
    },
    {
     "name": "stderr",
     "output_type": "stream",
     "text": [
      "submitted: Submitted batch job 64349737\n",
      "submitted: Submitted batch job 64349738\n"
     ]
    },
    {
     "name": "stdout",
     "output_type": "stream",
     "text": [
      "237 : 64349737\n",
      "238 : 64349738\n"
     ]
    },
    {
     "name": "stderr",
     "output_type": "stream",
     "text": [
      "submitted: Submitted batch job 64349739\n",
      "submitted: Submitted batch job 64349740\n",
      "submitted: Submitted batch job 64349741\n"
     ]
    },
    {
     "name": "stdout",
     "output_type": "stream",
     "text": [
      "239 : 64349739\n",
      "240 : 64349740\n",
      "241 : 64349741\n"
     ]
    },
    {
     "name": "stderr",
     "output_type": "stream",
     "text": [
      "submitted: Submitted batch job 64349742\n",
      "submitted: Submitted batch job 64349743\n",
      "submitted: Submitted batch job 64349744\n"
     ]
    },
    {
     "name": "stdout",
     "output_type": "stream",
     "text": [
      "242 : 64349742\n",
      "243 : 64349743\n",
      "244 : 64349744\n"
     ]
    },
    {
     "name": "stderr",
     "output_type": "stream",
     "text": [
      "submitted: Submitted batch job 64349745\n",
      "submitted: Submitted batch job 64349746\n",
      "submitted: Submitted batch job 64349747\n"
     ]
    },
    {
     "name": "stdout",
     "output_type": "stream",
     "text": [
      "245 : 64349745\n",
      "246 : 64349746\n",
      "247 : 64349747\n"
     ]
    },
    {
     "name": "stderr",
     "output_type": "stream",
     "text": [
      "submitted: Submitted batch job 64349748\n"
     ]
    },
    {
     "name": "stdout",
     "output_type": "stream",
     "text": [
      "248 : 64349748\n"
     ]
    },
    {
     "name": "stderr",
     "output_type": "stream",
     "text": [
      "submitted: Submitted batch job 64349749\n",
      "submitted: Submitted batch job 64349750\n",
      "submitted: Submitted batch job 64349751\n"
     ]
    },
    {
     "name": "stdout",
     "output_type": "stream",
     "text": [
      "249 : 64349749\n",
      "250 : 64349750\n",
      "251 : 64349751\n"
     ]
    },
    {
     "name": "stderr",
     "output_type": "stream",
     "text": [
      "submitted: Submitted batch job 64349752\n",
      "submitted: Submitted batch job 64349753\n",
      "submitted: Submitted batch job 64349754\n"
     ]
    },
    {
     "name": "stdout",
     "output_type": "stream",
     "text": [
      "252 : 64349752\n",
      "253 : 64349753\n",
      "254 : 64349754\n"
     ]
    },
    {
     "name": "stderr",
     "output_type": "stream",
     "text": [
      "submitted: Submitted batch job 64349755\n",
      "submitted: Submitted batch job 64349756\n"
     ]
    },
    {
     "name": "stdout",
     "output_type": "stream",
     "text": [
      "255 : 64349755\n",
      "256 : 64349756\n"
     ]
    },
    {
     "name": "stderr",
     "output_type": "stream",
     "text": [
      "submitted: Submitted batch job 64349757\n",
      "submitted: Submitted batch job 64349758\n",
      "submitted: Submitted batch job 64349759\n"
     ]
    },
    {
     "name": "stdout",
     "output_type": "stream",
     "text": [
      "257 : 64349757\n",
      "258 : 64349758\n",
      "259 : 64349759\n"
     ]
    },
    {
     "name": "stderr",
     "output_type": "stream",
     "text": [
      "submitted: Submitted batch job 64349760\n",
      "submitted: Submitted batch job 64349761\n",
      "submitted: Submitted batch job 64349762\n"
     ]
    },
    {
     "name": "stdout",
     "output_type": "stream",
     "text": [
      "260 : 64349760\n",
      "261 : 64349761\n",
      "262 : 64349762\n"
     ]
    },
    {
     "name": "stderr",
     "output_type": "stream",
     "text": [
      "submitted: Submitted batch job 64349763\n",
      "submitted: Submitted batch job 64349764\n"
     ]
    },
    {
     "name": "stdout",
     "output_type": "stream",
     "text": [
      "263 : 64349763\n",
      "264 : 64349764\n"
     ]
    },
    {
     "name": "stderr",
     "output_type": "stream",
     "text": [
      "submitted: Submitted batch job 64349765\n",
      "submitted: Submitted batch job 64349766\n",
      "submitted: Submitted batch job 64349767\n"
     ]
    },
    {
     "name": "stdout",
     "output_type": "stream",
     "text": [
      "265 : 64349765\n",
      "266 : 64349766\n",
      "267 : 64349767\n"
     ]
    },
    {
     "name": "stderr",
     "output_type": "stream",
     "text": [
      "submitted: Submitted batch job 64349768\n",
      "submitted: Submitted batch job 64349769\n",
      "submitted: Submitted batch job 64349770\n"
     ]
    },
    {
     "name": "stdout",
     "output_type": "stream",
     "text": [
      "268 : 64349768\n",
      "269 : 64349769\n",
      "270 : 64349770\n"
     ]
    },
    {
     "name": "stderr",
     "output_type": "stream",
     "text": [
      "submitted: Submitted batch job 64349771\n",
      "submitted: Submitted batch job 64349772\n",
      "submitted: Submitted batch job 64349773\n"
     ]
    },
    {
     "name": "stdout",
     "output_type": "stream",
     "text": [
      "271 : 64349771\n",
      "272 : 64349772\n",
      "273 : 64349773\n"
     ]
    },
    {
     "name": "stderr",
     "output_type": "stream",
     "text": [
      "submitted: Submitted batch job 64349774\n",
      "submitted: Submitted batch job 64349775\n",
      "submitted: Submitted batch job 64349776\n"
     ]
    },
    {
     "name": "stdout",
     "output_type": "stream",
     "text": [
      "274 : 64349774\n",
      "275 : 64349775\n",
      "276 : 64349776\n"
     ]
    },
    {
     "name": "stderr",
     "output_type": "stream",
     "text": [
      "submitted: Submitted batch job 64349777\n",
      "submitted: Submitted batch job 64349778\n"
     ]
    },
    {
     "name": "stdout",
     "output_type": "stream",
     "text": [
      "277 : 64349777\n",
      "278 : 64349778\n"
     ]
    },
    {
     "name": "stderr",
     "output_type": "stream",
     "text": [
      "submitted: Submitted batch job 64349779\n",
      "submitted: Submitted batch job 64349780\n",
      "submitted: Submitted batch job 64349781\n"
     ]
    },
    {
     "name": "stdout",
     "output_type": "stream",
     "text": [
      "279 : 64349779\n",
      "280 : 64349780\n",
      "281 : 64349781\n"
     ]
    },
    {
     "name": "stderr",
     "output_type": "stream",
     "text": [
      "submitted: Submitted batch job 64349782\n",
      "submitted: Submitted batch job 64349783\n",
      "submitted: Submitted batch job 64349784\n"
     ]
    },
    {
     "name": "stdout",
     "output_type": "stream",
     "text": [
      "282 : 64349782\n",
      "283 : 64349783\n",
      "284 : 64349784\n"
     ]
    },
    {
     "name": "stderr",
     "output_type": "stream",
     "text": [
      "submitted: Submitted batch job 64349785\n",
      "submitted: Submitted batch job 64349786\n",
      "submitted: Submitted batch job 64349787\n"
     ]
    },
    {
     "name": "stdout",
     "output_type": "stream",
     "text": [
      "285 : 64349785\n",
      "286 : 64349786\n",
      "287 : 64349787\n"
     ]
    },
    {
     "name": "stderr",
     "output_type": "stream",
     "text": [
      "submitted: Submitted batch job 64349788\n",
      "submitted: Submitted batch job 64349789\n",
      "submitted: Submitted batch job 64349790\n"
     ]
    },
    {
     "name": "stdout",
     "output_type": "stream",
     "text": [
      "288 : 64349788\n",
      "289 : 64349789\n",
      "290 : 64349790\n"
     ]
    },
    {
     "name": "stderr",
     "output_type": "stream",
     "text": [
      "submitted: Submitted batch job 64349791\n",
      "submitted: Submitted batch job 64349792\n",
      "submitted: Submitted batch job 64349793\n"
     ]
    },
    {
     "name": "stdout",
     "output_type": "stream",
     "text": [
      "291 : 64349791\n",
      "292 : 64349792\n",
      "293 : 64349793\n"
     ]
    },
    {
     "name": "stderr",
     "output_type": "stream",
     "text": [
      "submitted: Submitted batch job 64349794\n",
      "submitted: Submitted batch job 64349795\n"
     ]
    },
    {
     "name": "stdout",
     "output_type": "stream",
     "text": [
      "294 : 64349794\n",
      "295 : 64349795\n"
     ]
    },
    {
     "name": "stderr",
     "output_type": "stream",
     "text": [
      "submitted: Submitted batch job 64349796\n"
     ]
    },
    {
     "name": "stdout",
     "output_type": "stream",
     "text": [
      "296 : 64349796\n"
     ]
    },
    {
     "name": "stderr",
     "output_type": "stream",
     "text": [
      "submitted: Submitted batch job 64349797\n",
      "submitted: Submitted batch job 64349798\n",
      "submitted: Submitted batch job 64349799\n"
     ]
    },
    {
     "name": "stdout",
     "output_type": "stream",
     "text": [
      "297 : 64349797\n",
      "298 : 64349798\n",
      "299 : 64349799\n"
     ]
    },
    {
     "name": "stderr",
     "output_type": "stream",
     "text": [
      "submitted: Submitted batch job 64349800\n",
      "submitted: Submitted batch job 64349801\n",
      "submitted: Submitted batch job 64349802\n"
     ]
    },
    {
     "name": "stdout",
     "output_type": "stream",
     "text": [
      "300 : 64349800\n",
      "301 : 64349801\n",
      "302 : 64349802\n"
     ]
    },
    {
     "name": "stderr",
     "output_type": "stream",
     "text": [
      "submitted: Submitted batch job 64349803\n"
     ]
    },
    {
     "name": "stdout",
     "output_type": "stream",
     "text": [
      "303 : 64349803\n"
     ]
    },
    {
     "name": "stderr",
     "output_type": "stream",
     "text": [
      "submitted: Submitted batch job 64349804\n",
      "submitted: Submitted batch job 64349805\n",
      "submitted: Submitted batch job 64349806\n"
     ]
    },
    {
     "name": "stdout",
     "output_type": "stream",
     "text": [
      "304 : 64349804\n",
      "305 : 64349805\n",
      "306 : 64349806\n"
     ]
    },
    {
     "name": "stderr",
     "output_type": "stream",
     "text": [
      "submitted: Submitted batch job 64349807\n",
      "submitted: Submitted batch job 64349808\n",
      "submitted: Submitted batch job 64349809\n"
     ]
    },
    {
     "name": "stdout",
     "output_type": "stream",
     "text": [
      "307 : 64349807\n",
      "308 : 64349808\n",
      "309 : 64349809\n"
     ]
    },
    {
     "name": "stderr",
     "output_type": "stream",
     "text": [
      "submitted: Submitted batch job 64349810\n",
      "submitted: Submitted batch job 64349811\n",
      "submitted: Submitted batch job 64349812\n"
     ]
    },
    {
     "name": "stdout",
     "output_type": "stream",
     "text": [
      "310 : 64349810\n",
      "311 : 64349811\n",
      "312 : 64349812\n"
     ]
    },
    {
     "name": "stderr",
     "output_type": "stream",
     "text": [
      "submitted: Submitted batch job 64349813\n",
      "submitted: Submitted batch job 64349814\n",
      "submitted: Submitted batch job 64349815\n"
     ]
    },
    {
     "name": "stdout",
     "output_type": "stream",
     "text": [
      "313 : 64349813\n",
      "314 : 64349814\n",
      "315 : 64349815\n"
     ]
    },
    {
     "name": "stderr",
     "output_type": "stream",
     "text": [
      "submitted: Submitted batch job 64349816\n",
      "submitted: Submitted batch job 64349817\n",
      "submitted: Submitted batch job 64349818\n"
     ]
    },
    {
     "name": "stdout",
     "output_type": "stream",
     "text": [
      "316 : 64349816\n",
      "317 : 64349817\n",
      "318 : 64349818\n"
     ]
    },
    {
     "name": "stderr",
     "output_type": "stream",
     "text": [
      "submitted: Submitted batch job 64349819\n",
      "submitted: Submitted batch job 64349820\n",
      "submitted: Submitted batch job 64349821\n"
     ]
    },
    {
     "name": "stdout",
     "output_type": "stream",
     "text": [
      "319 : 64349819\n",
      "320 : 64349820\n",
      "321 : 64349821\n"
     ]
    },
    {
     "name": "stderr",
     "output_type": "stream",
     "text": [
      "submitted: Submitted batch job 64349822\n",
      "submitted: Submitted batch job 64349823\n"
     ]
    },
    {
     "name": "stdout",
     "output_type": "stream",
     "text": [
      "322 : 64349822\n",
      "323 : 64349823\n"
     ]
    },
    {
     "name": "stderr",
     "output_type": "stream",
     "text": [
      "submitted: Submitted batch job 64349824\n",
      "submitted: Submitted batch job 64349825\n",
      "submitted: Submitted batch job 64349826\n"
     ]
    },
    {
     "name": "stdout",
     "output_type": "stream",
     "text": [
      "324 : 64349824\n",
      "325 : 64349825\n",
      "326 : 64349826\n"
     ]
    },
    {
     "name": "stderr",
     "output_type": "stream",
     "text": [
      "submitted: Submitted batch job 64349827\n",
      "submitted: Submitted batch job 64349828\n",
      "submitted: Submitted batch job 64349829\n"
     ]
    },
    {
     "name": "stdout",
     "output_type": "stream",
     "text": [
      "327 : 64349827\n",
      "328 : 64349828\n",
      "329 : 64349829\n"
     ]
    },
    {
     "name": "stderr",
     "output_type": "stream",
     "text": [
      "submitted: Submitted batch job 64349830\n",
      "submitted: Submitted batch job 64349831\n",
      "submitted: Submitted batch job 64349832\n",
      "submitted: Submitted batch job 64349833\n"
     ]
    },
    {
     "name": "stdout",
     "output_type": "stream",
     "text": [
      "330 : 64349830\n",
      "331 : 64349831\n",
      "332 : 64349832\n",
      "333 : 64349833\n"
     ]
    },
    {
     "name": "stderr",
     "output_type": "stream",
     "text": [
      "submitted: Submitted batch job 64349834\n"
     ]
    },
    {
     "name": "stdout",
     "output_type": "stream",
     "text": [
      "334 : 64349834\n"
     ]
    },
    {
     "name": "stderr",
     "output_type": "stream",
     "text": [
      "submitted: Submitted batch job 64349835\n",
      "submitted: Submitted batch job 64349836\n",
      "submitted: Submitted batch job 64349837\n"
     ]
    },
    {
     "name": "stdout",
     "output_type": "stream",
     "text": [
      "335 : 64349835\n",
      "336 : 64349836\n",
      "337 : 64349837\n"
     ]
    },
    {
     "name": "stderr",
     "output_type": "stream",
     "text": [
      "submitted: Submitted batch job 64349838\n",
      "submitted: Submitted batch job 64349839\n",
      "submitted: Submitted batch job 64349840\n",
      "submitted: Submitted batch job 64349841\n"
     ]
    },
    {
     "name": "stdout",
     "output_type": "stream",
     "text": [
      "338 : 64349838\n",
      "339 : 64349839\n",
      "340 : 64349840\n",
      "341 : 64349841\n"
     ]
    },
    {
     "name": "stderr",
     "output_type": "stream",
     "text": [
      "submitted: Submitted batch job 64349842\n",
      "submitted: Submitted batch job 64349843\n"
     ]
    },
    {
     "name": "stdout",
     "output_type": "stream",
     "text": [
      "342 : 64349842\n",
      "343 : 64349843\n"
     ]
    },
    {
     "name": "stderr",
     "output_type": "stream",
     "text": [
      "submitted: Submitted batch job 64349844\n"
     ]
    },
    {
     "name": "stdout",
     "output_type": "stream",
     "text": [
      "344 : 64349844\n"
     ]
    },
    {
     "name": "stderr",
     "output_type": "stream",
     "text": [
      "submitted: Submitted batch job 64349845\n"
     ]
    },
    {
     "name": "stdout",
     "output_type": "stream",
     "text": [
      "345 : 64349845\n"
     ]
    },
    {
     "name": "stderr",
     "output_type": "stream",
     "text": [
      "submitted: Submitted batch job 64349846\n"
     ]
    },
    {
     "name": "stdout",
     "output_type": "stream",
     "text": [
      "346 : 64349846\n"
     ]
    },
    {
     "name": "stderr",
     "output_type": "stream",
     "text": [
      "submitted: Submitted batch job 64349847\n",
      "submitted: Submitted batch job 64349848\n",
      "submitted: Submitted batch job 64349849\n"
     ]
    },
    {
     "name": "stdout",
     "output_type": "stream",
     "text": [
      "347 : 64349847\n",
      "348 : 64349848\n",
      "349 : 64349849\n"
     ]
    },
    {
     "name": "stderr",
     "output_type": "stream",
     "text": [
      "submitted: Submitted batch job 64349850\n"
     ]
    },
    {
     "name": "stdout",
     "output_type": "stream",
     "text": [
      "350 : 64349850\n"
     ]
    },
    {
     "name": "stderr",
     "output_type": "stream",
     "text": [
      "submitted: Submitted batch job 64349851\n"
     ]
    },
    {
     "name": "stdout",
     "output_type": "stream",
     "text": [
      "351 : 64349851\n"
     ]
    },
    {
     "name": "stderr",
     "output_type": "stream",
     "text": [
      "submitted: Submitted batch job 64349852\n"
     ]
    },
    {
     "name": "stdout",
     "output_type": "stream",
     "text": [
      "352 : 64349852\n"
     ]
    },
    {
     "name": "stderr",
     "output_type": "stream",
     "text": [
      "submitted: Submitted batch job 64349853\n"
     ]
    },
    {
     "name": "stdout",
     "output_type": "stream",
     "text": [
      "353 : 64349853\n"
     ]
    },
    {
     "name": "stderr",
     "output_type": "stream",
     "text": [
      "submitted: Submitted batch job 64349855\n",
      "submitted: Submitted batch job 64349856\n"
     ]
    },
    {
     "name": "stdout",
     "output_type": "stream",
     "text": [
      "354 : 64349855\n",
      "355 : 64349856\n"
     ]
    },
    {
     "name": "stderr",
     "output_type": "stream",
     "text": [
      "submitted: Submitted batch job 64349857\n"
     ]
    },
    {
     "name": "stdout",
     "output_type": "stream",
     "text": [
      "356 : 64349857\n"
     ]
    },
    {
     "name": "stderr",
     "output_type": "stream",
     "text": [
      "submitted: Submitted batch job 64349860\n"
     ]
    },
    {
     "name": "stdout",
     "output_type": "stream",
     "text": [
      "357 : 64349860\n"
     ]
    },
    {
     "name": "stderr",
     "output_type": "stream",
     "text": [
      "submitted: Submitted batch job 64349861\n",
      "submitted: Submitted batch job 64349862\n"
     ]
    },
    {
     "name": "stdout",
     "output_type": "stream",
     "text": [
      "358 : 64349861\n",
      "359 : 64349862\n"
     ]
    },
    {
     "name": "stderr",
     "output_type": "stream",
     "text": [
      "submitted: Submitted batch job 64349863\n"
     ]
    },
    {
     "name": "stdout",
     "output_type": "stream",
     "text": [
      "360 : 64349863\n"
     ]
    },
    {
     "name": "stderr",
     "output_type": "stream",
     "text": [
      "submitted: Submitted batch job 64349864\n",
      "submitted: Submitted batch job 64349865\n",
      "submitted: Submitted batch job 64349866\n"
     ]
    },
    {
     "name": "stdout",
     "output_type": "stream",
     "text": [
      "361 : 64349864\n",
      "362 : 64349865\n",
      "363 : 64349866\n"
     ]
    },
    {
     "name": "stderr",
     "output_type": "stream",
     "text": [
      "submitted: Submitted batch job 64349867\n",
      "submitted: Submitted batch job 64349868\n"
     ]
    },
    {
     "name": "stdout",
     "output_type": "stream",
     "text": [
      "364 : 64349867\n",
      "365 : 64349868\n"
     ]
    },
    {
     "name": "stderr",
     "output_type": "stream",
     "text": [
      "submitted: Submitted batch job 64349869\n",
      "submitted: Submitted batch job 64349870\n",
      "submitted: Submitted batch job 64349871\n"
     ]
    },
    {
     "name": "stdout",
     "output_type": "stream",
     "text": [
      "366 : 64349869\n",
      "367 : 64349870\n",
      "368 : 64349871\n"
     ]
    },
    {
     "name": "stderr",
     "output_type": "stream",
     "text": [
      "submitted: Submitted batch job 64349872\n",
      "submitted: Submitted batch job 64349873\n"
     ]
    },
    {
     "name": "stdout",
     "output_type": "stream",
     "text": [
      "369 : 64349872\n",
      "370 : 64349873\n"
     ]
    },
    {
     "name": "stderr",
     "output_type": "stream",
     "text": [
      "submitted: Submitted batch job 64349874\n",
      "submitted: Submitted batch job 64349875\n",
      "submitted: Submitted batch job 64349876\n"
     ]
    },
    {
     "name": "stdout",
     "output_type": "stream",
     "text": [
      "371 : 64349874\n",
      "372 : 64349875\n",
      "373 : 64349876\n"
     ]
    },
    {
     "name": "stderr",
     "output_type": "stream",
     "text": [
      "submitted: Submitted batch job 64349877\n",
      "submitted: Submitted batch job 64349878\n",
      "submitted: Submitted batch job 64349879\n",
      "submitted: Submitted batch job 64349880\n"
     ]
    },
    {
     "name": "stdout",
     "output_type": "stream",
     "text": [
      "374 : 64349877\n",
      "375 : 64349878\n",
      "376 : 64349879\n",
      "377 : 64349880\n"
     ]
    },
    {
     "name": "stderr",
     "output_type": "stream",
     "text": [
      "submitted: Submitted batch job 64349881\n",
      "submitted: Submitted batch job 64349882\n",
      "submitted: Submitted batch job 64349883\n",
      "submitted: Submitted batch job 64349884\n"
     ]
    },
    {
     "name": "stdout",
     "output_type": "stream",
     "text": [
      "378 : 64349881\n",
      "379 : 64349882\n",
      "380 : 64349883\n",
      "381 : 64349884\n"
     ]
    },
    {
     "name": "stderr",
     "output_type": "stream",
     "text": [
      "submitted: Submitted batch job 64349885\n",
      "submitted: Submitted batch job 64349886\n"
     ]
    },
    {
     "name": "stdout",
     "output_type": "stream",
     "text": [
      "382 : 64349885\n",
      "383 : 64349886\n"
     ]
    },
    {
     "name": "stderr",
     "output_type": "stream",
     "text": [
      "submitted: Submitted batch job 64349887\n",
      "submitted: Submitted batch job 64349888\n",
      "submitted: Submitted batch job 64349889\n"
     ]
    },
    {
     "name": "stdout",
     "output_type": "stream",
     "text": [
      "384 : 64349887\n",
      "385 : 64349888\n",
      "386 : 64349889\n",
      "387 : 64349890\n",
      "388 : 64349891\n",
      "389 : 64349892\n"
     ]
    },
    {
     "name": "stderr",
     "output_type": "stream",
     "text": [
      "submitted: Submitted batch job 64349890\n",
      "submitted: Submitted batch job 64349891\n",
      "submitted: Submitted batch job 64349892\n"
     ]
    }
   ],
   "source": [
    "for sample_i in range(0 , np.shape(sample_annotation)[0]):\n",
    "    \n",
    "    sample_i_info = sample_annotation.iloc[sample_i , :]\n",
    "    \n",
    "    within_host_variants_job = 'python /n/data1/hms/dbmi/farhat/Roger/inhost_TB_dynamics_project/python_scripts/in_host_basecall_collection_AF_above_5.py ' + sample_i_info.tag + ' ' + sample_i_info.population + ' ' + sample_i_info.name + ' ' + str(sample_i_info.sample_order)\n",
    "\n",
    "    #directory where you want output + error files\n",
    "    os.chdir('/n/data1/hms/dbmi/farhat/Roger/inhost_TB_dynamics_project/pickled_files/variant_calling/longitudinal_SNPs/in_host_base_calls_above_5_AF/O2_SLURM_logs/')\n",
    "\n",
    "    job_name = str(sample_i)\n",
    "\n",
    "    s = Slurm(job_name , {'partition':'short' , 'n':'1' , 't':'0-02:00:00' , 'mem-per-cpu':'16G' , 'mail-type':'FAIL' , 'mail-user':'roger_vargas@g.harvard.edu'})\n",
    "\n",
    "    #submits the job\n",
    "    job_id = s.run(within_host_variants_job)\n",
    "\n",
    "    print job_name  + ' : ' +  str(job_id)"
   ]
  },
  {
   "cell_type": "markdown",
   "metadata": {},
   "source": [
    "############################################################################################################################################################################################################################"
   ]
  },
  {
   "cell_type": "markdown",
   "metadata": {},
   "source": [
    "## [3] Count the number of heterozygous SNPs for each sample"
   ]
  },
  {
   "cell_type": "markdown",
   "metadata": {},
   "source": [
    "############################################################################################################################################################################################################################"
   ]
  },
  {
   "cell_type": "markdown",
   "metadata": {},
   "source": [
    "#### Load sample annotation & annotation for the timepoints each sample was taken at"
   ]
  },
  {
   "cell_type": "code",
   "execution_count": 3,
   "metadata": {},
   "outputs": [],
   "source": [
    "#annotation file for all isolates and corresponding tags\n",
    "sample_annotation = pd.read_csv('/n/data1/hms/dbmi/farhat/Roger/inhost_TB_dynamics_project/CSV_files/sample_annotation_files/Longitudinal_fastq_path_names_and_JankyPipe_tags_filtered_final.csv' , sep = ',').set_index('patient_id')"
   ]
  },
  {
   "cell_type": "code",
   "execution_count": 4,
   "metadata": {},
   "outputs": [
    {
     "data": {
      "text/plain": [
       "(400, 7)"
      ]
     },
     "execution_count": 4,
     "metadata": {},
     "output_type": "execute_result"
    }
   ],
   "source": [
    "np.shape(sample_annotation) #200 subjects (2 sample each)"
   ]
  },
  {
   "cell_type": "markdown",
   "metadata": {},
   "source": [
    "#### Import annotation for time between collection"
   ]
  },
  {
   "cell_type": "code",
   "execution_count": 5,
   "metadata": {},
   "outputs": [],
   "source": [
    "time_between_collection_longitudinal_pairs_df = pd.read_csv('/n/data1/hms/dbmi/farhat/Roger/inhost_TB_dynamics_project/CSV_files/variant_calling/longitudinal_SNPs/number_SNPs_vs_time_per_patient.csv')\n",
    "time_between_collection_longitudinal_pairs_df.set_index('Unnamed: 0' , inplace = True , drop = True) #sert index to longitudinal pair ID\n",
    "time_between_collection_longitudinal_pairs_df = time_between_collection_longitudinal_pairs_df.loc[: , ['population' , 'time_between_collection']] #drop pairwise SNP distance"
   ]
  },
  {
   "cell_type": "code",
   "execution_count": 6,
   "metadata": {},
   "outputs": [
    {
     "data": {
      "text/html": [
       "<div>\n",
       "<style>\n",
       "    .dataframe thead tr:only-child th {\n",
       "        text-align: right;\n",
       "    }\n",
       "\n",
       "    .dataframe thead th {\n",
       "        text-align: left;\n",
       "    }\n",
       "\n",
       "    .dataframe tbody tr th {\n",
       "        vertical-align: top;\n",
       "    }\n",
       "</style>\n",
       "<table border=\"1\" class=\"dataframe\">\n",
       "  <thead>\n",
       "    <tr style=\"text-align: right;\">\n",
       "      <th></th>\n",
       "      <th>population</th>\n",
       "      <th>time_between_collection</th>\n",
       "    </tr>\n",
       "    <tr>\n",
       "      <th>Unnamed: 0</th>\n",
       "      <th></th>\n",
       "      <th></th>\n",
       "    </tr>\n",
       "  </thead>\n",
       "  <tbody>\n",
       "    <tr>\n",
       "      <th>2020E</th>\n",
       "      <td>BRYANT</td>\n",
       "      <td>8.40</td>\n",
       "    </tr>\n",
       "    <tr>\n",
       "      <th>2027W</th>\n",
       "      <td>BRYANT</td>\n",
       "      <td>11.20</td>\n",
       "    </tr>\n",
       "    <tr>\n",
       "      <th>2028K</th>\n",
       "      <td>BRYANT</td>\n",
       "      <td>6.07</td>\n",
       "    </tr>\n",
       "    <tr>\n",
       "      <th>2041Q</th>\n",
       "      <td>BRYANT</td>\n",
       "      <td>6.07</td>\n",
       "    </tr>\n",
       "    <tr>\n",
       "      <th>2043R</th>\n",
       "      <td>BRYANT</td>\n",
       "      <td>8.40</td>\n",
       "    </tr>\n",
       "  </tbody>\n",
       "</table>\n",
       "</div>"
      ],
      "text/plain": [
       "           population  time_between_collection\n",
       "Unnamed: 0                                    \n",
       "2020E          BRYANT                     8.40\n",
       "2027W          BRYANT                    11.20\n",
       "2028K          BRYANT                     6.07\n",
       "2041Q          BRYANT                     6.07\n",
       "2043R          BRYANT                     8.40"
      ]
     },
     "execution_count": 6,
     "metadata": {},
     "output_type": "execute_result"
    }
   ],
   "source": [
    "time_between_collection_longitudinal_pairs_df.head()"
   ]
  },
  {
   "cell_type": "markdown",
   "metadata": {},
   "source": [
    "#### Subset subjects to those that had date collection info"
   ]
  },
  {
   "cell_type": "code",
   "execution_count": 7,
   "metadata": {},
   "outputs": [],
   "source": [
    "sample_annotation_subject_with_dates_filter = np.array([patient_id in  time_between_collection_longitudinal_pairs_df.index for patient_id in sample_annotation.index])"
   ]
  },
  {
   "cell_type": "code",
   "execution_count": 8,
   "metadata": {},
   "outputs": [],
   "source": [
    "sample_annotation = sample_annotation[sample_annotation_subject_with_dates_filter]"
   ]
  },
  {
   "cell_type": "code",
   "execution_count": 9,
   "metadata": {},
   "outputs": [
    {
     "data": {
      "text/plain": [
       "(390, 7)"
      ]
     },
     "execution_count": 9,
     "metadata": {},
     "output_type": "execute_result"
    }
   ],
   "source": [
    "np.shape(sample_annotation) #195 subjects with complete date information"
   ]
  },
  {
   "cell_type": "code",
   "execution_count": 10,
   "metadata": {},
   "outputs": [
    {
     "data": {
      "text/html": [
       "<div>\n",
       "<style>\n",
       "    .dataframe thead tr:only-child th {\n",
       "        text-align: right;\n",
       "    }\n",
       "\n",
       "    .dataframe thead th {\n",
       "        text-align: left;\n",
       "    }\n",
       "\n",
       "    .dataframe tbody tr th {\n",
       "        vertical-align: top;\n",
       "    }\n",
       "</style>\n",
       "<table border=\"1\" class=\"dataframe\">\n",
       "  <thead>\n",
       "    <tr style=\"text-align: right;\">\n",
       "      <th></th>\n",
       "      <th>fastq_files</th>\n",
       "      <th>population</th>\n",
       "      <th>run_ID</th>\n",
       "      <th>sample_ID</th>\n",
       "      <th>sample_order</th>\n",
       "      <th>tag</th>\n",
       "      <th>isolate_type</th>\n",
       "    </tr>\n",
       "    <tr>\n",
       "      <th>patient_id</th>\n",
       "      <th></th>\n",
       "      <th></th>\n",
       "      <th></th>\n",
       "      <th></th>\n",
       "      <th></th>\n",
       "      <th></th>\n",
       "      <th></th>\n",
       "    </tr>\n",
       "  </thead>\n",
       "  <tbody>\n",
       "    <tr>\n",
       "      <th>P000183</th>\n",
       "      <td>/n/data1/hms/dbmi/farhat/fastq_db/walker/ERR03...</td>\n",
       "      <td>WALKER</td>\n",
       "      <td>ERR039337</td>\n",
       "      <td>NaN</td>\n",
       "      <td>1</td>\n",
       "      <td>ERR039337</td>\n",
       "      <td>longitudinal</td>\n",
       "    </tr>\n",
       "    <tr>\n",
       "      <th>P000183</th>\n",
       "      <td>/n/data1/hms/dbmi/farhat/fastq_db/walker/ERR03...</td>\n",
       "      <td>WALKER</td>\n",
       "      <td>ERR039338</td>\n",
       "      <td>NaN</td>\n",
       "      <td>2</td>\n",
       "      <td>ERR039338</td>\n",
       "      <td>longitudinal</td>\n",
       "    </tr>\n",
       "    <tr>\n",
       "      <th>1960</th>\n",
       "      <td>/n/data1/hms/dbmi/farhat/cetr_strains/good_wgs...</td>\n",
       "      <td>CETR</td>\n",
       "      <td>MMJA00000000</td>\n",
       "      <td>Peru5115</td>\n",
       "      <td>1</td>\n",
       "      <td>Peru5115</td>\n",
       "      <td>longitudinal</td>\n",
       "    </tr>\n",
       "    <tr>\n",
       "      <th>1960</th>\n",
       "      <td>/n/data1/hms/dbmi/farhat/cetr_strains/good_wgs...</td>\n",
       "      <td>CETR</td>\n",
       "      <td>MMPC00000000</td>\n",
       "      <td>Peru4668</td>\n",
       "      <td>2</td>\n",
       "      <td>Peru4668</td>\n",
       "      <td>longitudinal</td>\n",
       "    </tr>\n",
       "    <tr>\n",
       "      <th>2491</th>\n",
       "      <td>/n/data1/hms/dbmi/farhat/cetr_strains/good_wgs...</td>\n",
       "      <td>CETR</td>\n",
       "      <td>MMZT00000000</td>\n",
       "      <td>Peru4903</td>\n",
       "      <td>1</td>\n",
       "      <td>Peru4903</td>\n",
       "      <td>longitudinal</td>\n",
       "    </tr>\n",
       "  </tbody>\n",
       "</table>\n",
       "</div>"
      ],
      "text/plain": [
       "                                                  fastq_files population  \\\n",
       "patient_id                                                                 \n",
       "P000183     /n/data1/hms/dbmi/farhat/fastq_db/walker/ERR03...     WALKER   \n",
       "P000183     /n/data1/hms/dbmi/farhat/fastq_db/walker/ERR03...     WALKER   \n",
       "1960        /n/data1/hms/dbmi/farhat/cetr_strains/good_wgs...       CETR   \n",
       "1960        /n/data1/hms/dbmi/farhat/cetr_strains/good_wgs...       CETR   \n",
       "2491        /n/data1/hms/dbmi/farhat/cetr_strains/good_wgs...       CETR   \n",
       "\n",
       "                  run_ID sample_ID  sample_order        tag  isolate_type  \n",
       "patient_id                                                                 \n",
       "P000183        ERR039337       NaN             1  ERR039337  longitudinal  \n",
       "P000183        ERR039338       NaN             2  ERR039338  longitudinal  \n",
       "1960        MMJA00000000  Peru5115             1   Peru5115  longitudinal  \n",
       "1960        MMPC00000000  Peru4668             2   Peru4668  longitudinal  \n",
       "2491        MMZT00000000  Peru4903             1   Peru4903  longitudinal  "
      ]
     },
     "execution_count": 10,
     "metadata": {},
     "output_type": "execute_result"
    }
   ],
   "source": [
    "sample_annotation.head()"
   ]
  },
  {
   "cell_type": "markdown",
   "metadata": {},
   "source": [
    "### Collect list of Reference Positions to drop"
   ]
  },
  {
   "cell_type": "code",
   "execution_count": 11,
   "metadata": {},
   "outputs": [],
   "source": [
    "#csv files with category for each gene\n",
    "gene_categories_df = pd.read_csv('/n/data1/hms/dbmi/farhat/Roger/inhost_TB_dynamics_project/CSV_files/gene_categories/gene_categories.csv')"
   ]
  },
  {
   "cell_type": "code",
   "execution_count": 12,
   "metadata": {},
   "outputs": [
    {
     "data": {
      "text/html": [
       "<div>\n",
       "<style>\n",
       "    .dataframe thead tr:only-child th {\n",
       "        text-align: right;\n",
       "    }\n",
       "\n",
       "    .dataframe thead th {\n",
       "        text-align: left;\n",
       "    }\n",
       "\n",
       "    .dataframe tbody tr th {\n",
       "        vertical-align: top;\n",
       "    }\n",
       "</style>\n",
       "<table border=\"1\" class=\"dataframe\">\n",
       "  <thead>\n",
       "    <tr style=\"text-align: right;\">\n",
       "      <th></th>\n",
       "      <th>name</th>\n",
       "      <th>gene_id</th>\n",
       "      <th>Gene_Category</th>\n",
       "    </tr>\n",
       "  </thead>\n",
       "  <tbody>\n",
       "    <tr>\n",
       "      <th>0</th>\n",
       "      <td>Rv0001</td>\n",
       "      <td>Rv0001</td>\n",
       "      <td>Essential</td>\n",
       "    </tr>\n",
       "    <tr>\n",
       "      <th>1</th>\n",
       "      <td>Rv0002</td>\n",
       "      <td>Rv0002</td>\n",
       "      <td>Non-Essential</td>\n",
       "    </tr>\n",
       "    <tr>\n",
       "      <th>2</th>\n",
       "      <td>Rv0003</td>\n",
       "      <td>Rv0003</td>\n",
       "      <td>Non-Essential</td>\n",
       "    </tr>\n",
       "    <tr>\n",
       "      <th>3</th>\n",
       "      <td>Rv0004</td>\n",
       "      <td>Rv0004</td>\n",
       "      <td>Non-Essential</td>\n",
       "    </tr>\n",
       "    <tr>\n",
       "      <th>4</th>\n",
       "      <td>Rv0005</td>\n",
       "      <td>Rv0005</td>\n",
       "      <td>Antibiotic Resistance</td>\n",
       "    </tr>\n",
       "  </tbody>\n",
       "</table>\n",
       "</div>"
      ],
      "text/plain": [
       "     name gene_id          Gene_Category\n",
       "0  Rv0001  Rv0001              Essential\n",
       "1  Rv0002  Rv0002          Non-Essential\n",
       "2  Rv0003  Rv0003          Non-Essential\n",
       "3  Rv0004  Rv0004          Non-Essential\n",
       "4  Rv0005  Rv0005  Antibiotic Resistance"
      ]
     },
     "execution_count": 12,
     "metadata": {},
     "output_type": "execute_result"
    }
   ],
   "source": [
    "gene_categories_df.head()"
   ]
  },
  {
   "cell_type": "code",
   "execution_count": 13,
   "metadata": {},
   "outputs": [],
   "source": [
    "#reference genome annotation\n",
    "reference_genome_annotation = pd.read_csv('/n/data1/hms/dbmi/farhat/Roger/inhost_TB_dynamics_project/H37Rv/h37rv_genome_summary.txt', '\\t').set_index('name')"
   ]
  },
  {
   "cell_type": "markdown",
   "metadata": {},
   "source": [
    "#### Collect positions for *PE/PPE* genes"
   ]
  },
  {
   "cell_type": "code",
   "execution_count": 14,
   "metadata": {},
   "outputs": [],
   "source": [
    "H37Rv_positions_PE_PPE_genes = []\n",
    "\n",
    "for gene_id in gene_categories_df[gene_categories_df.Gene_Category == 'PE/PPE'].gene_id:\n",
    "    \n",
    "    #get reference positions tht corresond to each gene\n",
    "    gene_id_info = reference_genome_annotation.loc[gene_id, :]\n",
    "    gene_id = gene_id_info.name\n",
    "\n",
    "    chrom_start = gene_id_info.chromStart\n",
    "    chrom_end = gene_id_info.chromEnd\n",
    "\n",
    "    #find the position of the first base relative to H37Rv in 5' -> 3'\n",
    "    H37Rv_start = min(chrom_start , chrom_end)\n",
    "    H37Rv_end = max(chrom_start , chrom_end)\n",
    "    \n",
    "    #store all corresponding H37Rv Reference Positions to gene_id in list of reference positions to scan\n",
    "    H37Rv_positions_PE_PPE_genes.append([H37Rv_start+1 , H37Rv_end+1])"
   ]
  },
  {
   "cell_type": "code",
   "execution_count": 15,
   "metadata": {},
   "outputs": [
    {
     "data": {
      "text/plain": [
       "167"
      ]
     },
     "execution_count": 15,
     "metadata": {},
     "output_type": "execute_result"
    }
   ],
   "source": [
    "len(H37Rv_positions_PE_PPE_genes)"
   ]
  },
  {
   "cell_type": "markdown",
   "metadata": {},
   "source": [
    "#### Collect positions for *MGEs*"
   ]
  },
  {
   "cell_type": "code",
   "execution_count": 16,
   "metadata": {},
   "outputs": [],
   "source": [
    "H37Rv_positions_MGE_genes = []\n",
    "\n",
    "for gene_id in gene_categories_df[gene_categories_df.Gene_Category == 'Mobile Genetic Element'].gene_id:\n",
    "    \n",
    "    #get reference positions tht corresond to each gene\n",
    "    gene_id_info = reference_genome_annotation.loc[gene_id, :]\n",
    "    gene_id = gene_id_info.name\n",
    "\n",
    "    chrom_start = gene_id_info.chromStart\n",
    "    chrom_end = gene_id_info.chromEnd\n",
    "\n",
    "    #find the position of the first base relative to H37Rv in 5' -> 3'\n",
    "    H37Rv_start = min(chrom_start , chrom_end)\n",
    "    H37Rv_end = max(chrom_start , chrom_end)\n",
    "    \n",
    "    #store all corresponding H37Rv Reference Positions to gene_id in list of reference positions to scan\n",
    "    H37Rv_positions_MGE_genes.append([H37Rv_start+1 , H37Rv_end+1])"
   ]
  },
  {
   "cell_type": "code",
   "execution_count": 17,
   "metadata": {},
   "outputs": [
    {
     "data": {
      "text/plain": [
       "108"
      ]
     },
     "execution_count": 17,
     "metadata": {},
     "output_type": "execute_result"
    }
   ],
   "source": [
    "len(H37Rv_positions_MGE_genes)"
   ]
  },
  {
   "cell_type": "markdown",
   "metadata": {},
   "source": [
    "#### Load positions to exclude from analysis per EBR score across H37Rv (dropping sites with EBR score < 0.8)"
   ]
  },
  {
   "cell_type": "code",
   "execution_count": 18,
   "metadata": {},
   "outputs": [],
   "source": [
    "with open('/n/data1/hms/dbmi/farhat/Roger/inhost_TB_dynamics_project/pickled_files/variant_calling/H37Rv_sites_to_drop.pkl', 'rb') as f:\n",
    "    H37Rv_positions_low_EBR_to_drop = pickle.load(f)\n",
    "    \n",
    "#convert to a set (faster to query)\n",
    "H37Rv_positions_low_EBR_to_drop = set(H37Rv_positions_low_EBR_to_drop)"
   ]
  },
  {
   "cell_type": "code",
   "execution_count": 19,
   "metadata": {},
   "outputs": [
    {
     "data": {
      "text/plain": [
       "129215"
      ]
     },
     "execution_count": 19,
     "metadata": {},
     "output_type": "execute_result"
    }
   ],
   "source": [
    "len(H37Rv_positions_low_EBR_to_drop)"
   ]
  },
  {
   "cell_type": "markdown",
   "metadata": {},
   "source": [
    "### Total number of hSNPs in each sample (excluding MGE & PE/PPE regions and H37Rv positions with low EBR scores)"
   ]
  },
  {
   "cell_type": "markdown",
   "metadata": {},
   "source": [
    "Create empty dateframe to store SNP counts in"
   ]
  },
  {
   "cell_type": "code",
   "execution_count": 20,
   "metadata": {},
   "outputs": [],
   "source": [
    "SNP_counts_df = pd.DataFrame(index = list(set(sample_annotation.index)) , columns = ['time_btwn_collection' , 'count_1' , 'count_2'])\n",
    "\n",
    "time_between_collection = []\n",
    "#fill in Time between Collection\n",
    "for subject_i in SNP_counts_df.index:\n",
    "    \n",
    "      time_between_collection.append(time_between_collection_longitudinal_pairs_df.loc[subject_i , 'time_between_collection'])\n",
    "        \n",
    "SNP_counts_df.loc[: , 'time_btwn_collection'] = time_between_collection"
   ]
  },
  {
   "cell_type": "code",
   "execution_count": 21,
   "metadata": {},
   "outputs": [
    {
     "data": {
      "text/html": [
       "<div>\n",
       "<style>\n",
       "    .dataframe thead tr:only-child th {\n",
       "        text-align: right;\n",
       "    }\n",
       "\n",
       "    .dataframe thead th {\n",
       "        text-align: left;\n",
       "    }\n",
       "\n",
       "    .dataframe tbody tr th {\n",
       "        vertical-align: top;\n",
       "    }\n",
       "</style>\n",
       "<table border=\"1\" class=\"dataframe\">\n",
       "  <thead>\n",
       "    <tr style=\"text-align: right;\">\n",
       "      <th></th>\n",
       "      <th>time_btwn_collection</th>\n",
       "      <th>count_1</th>\n",
       "      <th>count_2</th>\n",
       "    </tr>\n",
       "  </thead>\n",
       "  <tbody>\n",
       "    <tr>\n",
       "      <th>2049</th>\n",
       "      <td>1.43</td>\n",
       "      <td>NaN</td>\n",
       "      <td>NaN</td>\n",
       "    </tr>\n",
       "    <tr>\n",
       "      <th>4024R</th>\n",
       "      <td>11.20</td>\n",
       "      <td>NaN</td>\n",
       "      <td>NaN</td>\n",
       "    </tr>\n",
       "    <tr>\n",
       "      <th>P251</th>\n",
       "      <td>16.27</td>\n",
       "      <td>NaN</td>\n",
       "      <td>NaN</td>\n",
       "    </tr>\n",
       "    <tr>\n",
       "      <th>2968</th>\n",
       "      <td>2.47</td>\n",
       "      <td>NaN</td>\n",
       "      <td>NaN</td>\n",
       "    </tr>\n",
       "    <tr>\n",
       "      <th>2020E</th>\n",
       "      <td>8.40</td>\n",
       "      <td>NaN</td>\n",
       "      <td>NaN</td>\n",
       "    </tr>\n",
       "  </tbody>\n",
       "</table>\n",
       "</div>"
      ],
      "text/plain": [
       "       time_btwn_collection count_1 count_2\n",
       "2049                   1.43     NaN     NaN\n",
       "4024R                 11.20     NaN     NaN\n",
       "P251                  16.27     NaN     NaN\n",
       "2968                   2.47     NaN     NaN\n",
       "2020E                  8.40     NaN     NaN"
      ]
     },
     "execution_count": 21,
     "metadata": {},
     "output_type": "execute_result"
    }
   ],
   "source": [
    "SNP_counts_df.head()"
   ]
  },
  {
   "cell_type": "markdown",
   "metadata": {},
   "source": [
    "### *Function* to count the number of hSNPs in each sample from picked file (excluding those in problematic regions, with Alt AF $< 25\\%$ and Alt AF $> 75\\%$ )"
   ]
  },
  {
   "cell_type": "code",
   "execution_count": 22,
   "metadata": {},
   "outputs": [],
   "source": [
    "def get_SNP_counts_for_sample(timepoint_i , tag):\n",
    "    \n",
    "    base_calls_sample_i_df = pd.read_pickle('/n/data1/hms/dbmi/farhat/Roger/inhost_TB_dynamics_project/pickled_files/variant_calling/longitudinal_SNPs/in_host_base_calls_above_5_AF/basecalls_timepoint_{0}/{1}_base_calls.pkl'.format(timepoint_i , tag))\n",
    "    \n",
    "    base_calls_good_region_filter = []\n",
    "\n",
    "    for base_call_i_pos in base_calls_sample_i_df.ref_position:\n",
    "\n",
    "        bad_SNP = False\n",
    "\n",
    "        #[MGE - PE/PPE filter]\n",
    "        #check to see if SNP is found within an MGE or PE/PPE region of the genome\n",
    "        for problem_region in H37Rv_positions_MGE_genes + H37Rv_positions_PE_PPE_genes:\n",
    "\n",
    "            if (base_call_i_pos > problem_region[0]) and (base_call_i_pos < problem_region[1]):\n",
    "                bad_SNP = True\n",
    "                break\n",
    "                \n",
    "        #[low EBR score filter]        \n",
    "        #if SNP not in MGE or PE/PPE region, check to see if SNP is located at a reference position with a low EBR score         \n",
    "        if bad_SNP == False:\n",
    "            if base_call_i_pos in H37Rv_positions_low_EBR_to_drop:\n",
    "                bad_SNP = True\n",
    "        \n",
    "        if bad_SNP == False:\n",
    "            base_calls_good_region_filter.append(True)\n",
    "        else:\n",
    "            base_calls_good_region_filter.append(False)\n",
    "\n",
    "    base_calls_sample_i_df = base_calls_sample_i_df[base_calls_good_region_filter] #filter out MGE & PE/PPE positions\n",
    "    \n",
    "    #original filtering of VCF files retained any SNPs detected with an 25% <= AF <= 0.75\n",
    "    base_calls_sample_i_df = base_calls_sample_i_df[base_calls_sample_i_df.alt_AF >= 0.25] #filter out SNPs that have an AF < 25%\n",
    "    base_calls_sample_i_df = base_calls_sample_i_df[base_calls_sample_i_df.alt_AF <= 0.75] #filter out SNPs that have an AF > 75%\n",
    "    \n",
    "    base_calls_sample_i_df.reset_index(inplace = True , drop = True)\n",
    "\n",
    "    SNP_count_for_sample_i = np.shape(base_calls_sample_i_df)[0]\n",
    "    \n",
    "    return SNP_count_for_sample_i"
   ]
  },
  {
   "cell_type": "code",
   "execution_count": 23,
   "metadata": {},
   "outputs": [],
   "source": [
    "for subject_i in SNP_counts_df.index:\n",
    "    \n",
    "    #get timepoint 1\n",
    "    sample_tag_1 = sample_annotation.loc[subject_i , :][sample_annotation.loc[subject_i , :].sample_order == 1].tag.values[0]\n",
    "    \n",
    "    #count SNPs in sample 1\n",
    "    SNP_counts_df.loc[subject_i , 'count_1'] = get_SNP_counts_for_sample('1' , sample_tag_1)\n",
    "    \n",
    "    #get timepoint 1\n",
    "    sample_tag_2 = sample_annotation.loc[subject_i , :][sample_annotation.loc[subject_i , :].sample_order == 2].tag.values[0]\n",
    "    \n",
    "    #count SNPs in sample 1\n",
    "    SNP_counts_df.loc[subject_i , 'count_2'] = get_SNP_counts_for_sample('2' , sample_tag_2)\n",
    "    \n",
    "#subtract count 2 from count 1\n",
    "SNP_counts_df.loc[: , 'count_2_minus_1'] = SNP_counts_df.loc[: , 'count_2'] - SNP_counts_df.loc[: , 'count_1']"
   ]
  },
  {
   "cell_type": "markdown",
   "metadata": {},
   "source": [
    "### Subset to samples that had collections times $\\ge 2$ months"
   ]
  },
  {
   "cell_type": "code",
   "execution_count": 32,
   "metadata": {},
   "outputs": [
    {
     "data": {
      "text/html": [
       "<div>\n",
       "<style>\n",
       "    .dataframe thead tr:only-child th {\n",
       "        text-align: right;\n",
       "    }\n",
       "\n",
       "    .dataframe thead th {\n",
       "        text-align: left;\n",
       "    }\n",
       "\n",
       "    .dataframe tbody tr th {\n",
       "        vertical-align: top;\n",
       "    }\n",
       "</style>\n",
       "<table border=\"1\" class=\"dataframe\">\n",
       "  <thead>\n",
       "    <tr style=\"text-align: right;\">\n",
       "      <th></th>\n",
       "      <th>time_btwn_collection</th>\n",
       "      <th>count_1</th>\n",
       "      <th>count_2</th>\n",
       "      <th>count_2_minus_1</th>\n",
       "    </tr>\n",
       "  </thead>\n",
       "  <tbody>\n",
       "    <tr>\n",
       "      <th>2049</th>\n",
       "      <td>1.43</td>\n",
       "      <td>11</td>\n",
       "      <td>11</td>\n",
       "      <td>0</td>\n",
       "    </tr>\n",
       "    <tr>\n",
       "      <th>4024R</th>\n",
       "      <td>11.20</td>\n",
       "      <td>17</td>\n",
       "      <td>10</td>\n",
       "      <td>-7</td>\n",
       "    </tr>\n",
       "    <tr>\n",
       "      <th>P251</th>\n",
       "      <td>16.27</td>\n",
       "      <td>20</td>\n",
       "      <td>8</td>\n",
       "      <td>-12</td>\n",
       "    </tr>\n",
       "    <tr>\n",
       "      <th>2968</th>\n",
       "      <td>2.47</td>\n",
       "      <td>19</td>\n",
       "      <td>2</td>\n",
       "      <td>-17</td>\n",
       "    </tr>\n",
       "    <tr>\n",
       "      <th>2020E</th>\n",
       "      <td>8.40</td>\n",
       "      <td>16</td>\n",
       "      <td>9</td>\n",
       "      <td>-7</td>\n",
       "    </tr>\n",
       "  </tbody>\n",
       "</table>\n",
       "</div>"
      ],
      "text/plain": [
       "       time_btwn_collection count_1 count_2 count_2_minus_1\n",
       "2049                   1.43      11      11               0\n",
       "4024R                 11.20      17      10              -7\n",
       "P251                  16.27      20       8             -12\n",
       "2968                   2.47      19       2             -17\n",
       "2020E                  8.40      16       9              -7"
      ]
     },
     "execution_count": 32,
     "metadata": {},
     "output_type": "execute_result"
    }
   ],
   "source": [
    "SNP_counts_df.head()"
   ]
  },
  {
   "cell_type": "code",
   "execution_count": 33,
   "metadata": {},
   "outputs": [],
   "source": [
    "SNP_counts_delayed_df = SNP_counts_df[SNP_counts_df.time_btwn_collection >= 1.7]"
   ]
  },
  {
   "cell_type": "code",
   "execution_count": 34,
   "metadata": {},
   "outputs": [
    {
     "data": {
      "text/plain": [
       "(178, 4)"
      ]
     },
     "execution_count": 34,
     "metadata": {},
     "output_type": "execute_result"
    }
   ],
   "source": [
    "np.shape(SNP_counts_delayed_df)"
   ]
  },
  {
   "cell_type": "code",
   "execution_count": 39,
   "metadata": {},
   "outputs": [],
   "source": [
    "plt.style.use('ggplot')\n",
    "plt.rcParams['lines.linewidth']=1.0\n",
    "plt.rcParams['axes.facecolor']='1.0'\n",
    "plt.rcParams['xtick.color']='black'\n",
    "plt.rcParams['axes.grid']=False\n",
    "plt.rcParams['axes.edgecolor']='black'\n",
    "plt.rcParams['grid.color']= '1.0'\n",
    "plt.rcParams.update({'font.size': 14})"
   ]
  },
  {
   "cell_type": "code",
   "execution_count": 40,
   "metadata": {},
   "outputs": [
    {
     "data": {
      "text/html": [
       "<div>\n",
       "<style>\n",
       "    .dataframe thead tr:only-child th {\n",
       "        text-align: right;\n",
       "    }\n",
       "\n",
       "    .dataframe thead th {\n",
       "        text-align: left;\n",
       "    }\n",
       "\n",
       "    .dataframe tbody tr th {\n",
       "        vertical-align: top;\n",
       "    }\n",
       "</style>\n",
       "<table border=\"1\" class=\"dataframe\">\n",
       "  <thead>\n",
       "    <tr style=\"text-align: right;\">\n",
       "      <th></th>\n",
       "      <th>time_btwn_collection</th>\n",
       "      <th>count_1</th>\n",
       "      <th>count_2</th>\n",
       "      <th>count_2_minus_1</th>\n",
       "    </tr>\n",
       "  </thead>\n",
       "  <tbody>\n",
       "    <tr>\n",
       "      <th>4024R</th>\n",
       "      <td>11.20</td>\n",
       "      <td>17</td>\n",
       "      <td>10</td>\n",
       "      <td>-7</td>\n",
       "    </tr>\n",
       "    <tr>\n",
       "      <th>P251</th>\n",
       "      <td>16.27</td>\n",
       "      <td>20</td>\n",
       "      <td>8</td>\n",
       "      <td>-12</td>\n",
       "    </tr>\n",
       "    <tr>\n",
       "      <th>2968</th>\n",
       "      <td>2.47</td>\n",
       "      <td>19</td>\n",
       "      <td>2</td>\n",
       "      <td>-17</td>\n",
       "    </tr>\n",
       "    <tr>\n",
       "      <th>2020E</th>\n",
       "      <td>8.40</td>\n",
       "      <td>16</td>\n",
       "      <td>9</td>\n",
       "      <td>-7</td>\n",
       "    </tr>\n",
       "    <tr>\n",
       "      <th>3061R</th>\n",
       "      <td>8.40</td>\n",
       "      <td>19</td>\n",
       "      <td>14</td>\n",
       "      <td>-5</td>\n",
       "    </tr>\n",
       "  </tbody>\n",
       "</table>\n",
       "</div>"
      ],
      "text/plain": [
       "       time_btwn_collection count_1 count_2 count_2_minus_1\n",
       "4024R                 11.20      17      10              -7\n",
       "P251                  16.27      20       8             -12\n",
       "2968                   2.47      19       2             -17\n",
       "2020E                  8.40      16       9              -7\n",
       "3061R                  8.40      19      14              -5"
      ]
     },
     "execution_count": 40,
     "metadata": {},
     "output_type": "execute_result"
    }
   ],
   "source": [
    "SNP_counts_delayed_df.head()"
   ]
  },
  {
   "cell_type": "code",
   "execution_count": 41,
   "metadata": {},
   "outputs": [
    {
     "data": {
      "text/plain": [
       "P000071    148\n",
       "KPS_57     105\n",
       "P000076    104\n",
       "P000320    103\n",
       "P000048    102\n",
       "Name: count_1, dtype: object"
      ]
     },
     "execution_count": 41,
     "metadata": {},
     "output_type": "execute_result"
    }
   ],
   "source": [
    "SNP_counts_delayed_df.count_1.sort_values(ascending = False).head()"
   ]
  },
  {
   "cell_type": "code",
   "execution_count": 42,
   "metadata": {},
   "outputs": [
    {
     "data": {
      "text/plain": [
       "P000263    127\n",
       "P000276    111\n",
       "P000156    107\n",
       "P000320    101\n",
       "P000272     92\n",
       "Name: count_2, dtype: object"
      ]
     },
     "execution_count": 42,
     "metadata": {},
     "output_type": "execute_result"
    }
   ],
   "source": [
    "SNP_counts_delayed_df.count_2.sort_values(ascending = False).head()"
   ]
  },
  {
   "cell_type": "markdown",
   "metadata": {},
   "source": [
    "#### List of patient IDs that had at least 1 *AR fSNP*"
   ]
  },
  {
   "cell_type": "code",
   "execution_count": 43,
   "metadata": {},
   "outputs": [],
   "source": [
    "patients_with_AR_fSNP = ['P052', 'P251', '1700', '1846', '1960', '1972', '2307', '2511', '2523', '2688', '2968', '3451', '3673', 'I0000024-5', 'KPS_24', 'KPS_37', 'KPS_5', 'KPS_82', 'P10', 'P000071', 'P000094', 'P000155', 'P000189', 'P000226', 'P000227', '16', 'D']"
   ]
  },
  {
   "cell_type": "markdown",
   "metadata": {},
   "source": [
    "#### List of patient IDs that had at least 1 *pathoadaptive in-host SNP* that showed convergence with global isolate pool (PPE18, PPE54, PPE60, Rv0095c, Rv1944c)"
   ]
  },
  {
   "cell_type": "code",
   "execution_count": 44,
   "metadata": {},
   "outputs": [],
   "source": [
    "SNPS_from_all_patients_DF = pd.read_pickle('/n/data1/hms/dbmi/farhat/Roger/inhost_TB_dynamics_project/pickled_files/variant_calling/longitudinal_SNPs/SNPs_between_isolates_delta_70.pkl')"
   ]
  },
  {
   "cell_type": "code",
   "execution_count": 45,
   "metadata": {},
   "outputs": [
    {
     "data": {
      "text/html": [
       "<div>\n",
       "<style>\n",
       "    .dataframe thead tr:only-child th {\n",
       "        text-align: right;\n",
       "    }\n",
       "\n",
       "    .dataframe thead th {\n",
       "        text-align: left;\n",
       "    }\n",
       "\n",
       "    .dataframe tbody tr th {\n",
       "        vertical-align: top;\n",
       "    }\n",
       "</style>\n",
       "<table border=\"1\" class=\"dataframe\">\n",
       "  <thead>\n",
       "    <tr style=\"text-align: right;\">\n",
       "      <th></th>\n",
       "      <th>population</th>\n",
       "      <th>patient_id</th>\n",
       "      <th>ref_position</th>\n",
       "      <th>ref_allele</th>\n",
       "      <th>alt_allele</th>\n",
       "      <th>gene_id</th>\n",
       "      <th>genomic_coord</th>\n",
       "      <th>gene_category</th>\n",
       "      <th>gene_symbol</th>\n",
       "      <th>alt_AF_diff</th>\n",
       "      <th>SNP_type</th>\n",
       "      <th>AA_change</th>\n",
       "    </tr>\n",
       "  </thead>\n",
       "  <tbody>\n",
       "    <tr>\n",
       "      <th>23</th>\n",
       "      <td>TRAUNER</td>\n",
       "      <td>P09</td>\n",
       "      <td>3730411</td>\n",
       "      <td>G</td>\n",
       "      <td>A</td>\n",
       "      <td>Rv3343c</td>\n",
       "      <td>6525</td>\n",
       "      <td>PE/PPE</td>\n",
       "      <td>PPE54</td>\n",
       "      <td>1.00</td>\n",
       "      <td>S</td>\n",
       "      <td>G2175G</td>\n",
       "    </tr>\n",
       "    <tr>\n",
       "      <th>94</th>\n",
       "      <td>CETR</td>\n",
       "      <td>3096</td>\n",
       "      <td>3895269</td>\n",
       "      <td>G</td>\n",
       "      <td>C</td>\n",
       "      <td>Rv3478</td>\n",
       "      <td>844</td>\n",
       "      <td>PE/PPE</td>\n",
       "      <td>PPE60</td>\n",
       "      <td>0.93</td>\n",
       "      <td>N</td>\n",
       "      <td>E282Q</td>\n",
       "    </tr>\n",
       "    <tr>\n",
       "      <th>95</th>\n",
       "      <td>CETR</td>\n",
       "      <td>3096</td>\n",
       "      <td>3895281</td>\n",
       "      <td>T</td>\n",
       "      <td>C</td>\n",
       "      <td>Rv3478</td>\n",
       "      <td>856</td>\n",
       "      <td>PE/PPE</td>\n",
       "      <td>PPE60</td>\n",
       "      <td>0.94</td>\n",
       "      <td>N</td>\n",
       "      <td>W286R</td>\n",
       "    </tr>\n",
       "    <tr>\n",
       "      <th>96</th>\n",
       "      <td>CETR</td>\n",
       "      <td>3096</td>\n",
       "      <td>3895282</td>\n",
       "      <td>G</td>\n",
       "      <td>A</td>\n",
       "      <td>Rv3478</td>\n",
       "      <td>857</td>\n",
       "      <td>PE/PPE</td>\n",
       "      <td>PPE60</td>\n",
       "      <td>0.94</td>\n",
       "      <td>N</td>\n",
       "      <td>W286*</td>\n",
       "    </tr>\n",
       "    <tr>\n",
       "      <th>107</th>\n",
       "      <td>CASALI</td>\n",
       "      <td>P377</td>\n",
       "      <td>104833</td>\n",
       "      <td>C</td>\n",
       "      <td>G</td>\n",
       "      <td>Rv0095c</td>\n",
       "      <td>383</td>\n",
       "      <td>Non-Essential</td>\n",
       "      <td>NaN</td>\n",
       "      <td>0.84</td>\n",
       "      <td>N</td>\n",
       "      <td>G128A</td>\n",
       "    </tr>\n",
       "    <tr>\n",
       "      <th>108</th>\n",
       "      <td>CASALI</td>\n",
       "      <td>P377</td>\n",
       "      <td>104838</td>\n",
       "      <td>T</td>\n",
       "      <td>G</td>\n",
       "      <td>Rv0095c</td>\n",
       "      <td>378</td>\n",
       "      <td>Non-Essential</td>\n",
       "      <td>NaN</td>\n",
       "      <td>0.84</td>\n",
       "      <td>N</td>\n",
       "      <td>E126D</td>\n",
       "    </tr>\n",
       "    <tr>\n",
       "      <th>109</th>\n",
       "      <td>CASALI</td>\n",
       "      <td>P377</td>\n",
       "      <td>104962</td>\n",
       "      <td>G</td>\n",
       "      <td>A</td>\n",
       "      <td>Rv0095c</td>\n",
       "      <td>254</td>\n",
       "      <td>Non-Essential</td>\n",
       "      <td>NaN</td>\n",
       "      <td>0.80</td>\n",
       "      <td>N</td>\n",
       "      <td>A85V</td>\n",
       "    </tr>\n",
       "    <tr>\n",
       "      <th>110</th>\n",
       "      <td>CASALI</td>\n",
       "      <td>P377</td>\n",
       "      <td>105060</td>\n",
       "      <td>G</td>\n",
       "      <td>A</td>\n",
       "      <td>Rv0095c</td>\n",
       "      <td>156</td>\n",
       "      <td>Non-Essential</td>\n",
       "      <td>NaN</td>\n",
       "      <td>0.86</td>\n",
       "      <td>S</td>\n",
       "      <td>D52D</td>\n",
       "    </tr>\n",
       "    <tr>\n",
       "      <th>111</th>\n",
       "      <td>CASALI</td>\n",
       "      <td>P377</td>\n",
       "      <td>105063</td>\n",
       "      <td>G</td>\n",
       "      <td>A</td>\n",
       "      <td>Rv0095c</td>\n",
       "      <td>153</td>\n",
       "      <td>Non-Essential</td>\n",
       "      <td>NaN</td>\n",
       "      <td>0.87</td>\n",
       "      <td>S</td>\n",
       "      <td>F51F</td>\n",
       "    </tr>\n",
       "    <tr>\n",
       "      <th>143</th>\n",
       "      <td>WALKER</td>\n",
       "      <td>P000183</td>\n",
       "      <td>1339741</td>\n",
       "      <td>C</td>\n",
       "      <td>G</td>\n",
       "      <td>Rv1196</td>\n",
       "      <td>393</td>\n",
       "      <td>PE/PPE</td>\n",
       "      <td>PPE18</td>\n",
       "      <td>0.97</td>\n",
       "      <td>S</td>\n",
       "      <td>T131T</td>\n",
       "    </tr>\n",
       "    <tr>\n",
       "      <th>162</th>\n",
       "      <td>GUERRA</td>\n",
       "      <td>KPS_15</td>\n",
       "      <td>2195923</td>\n",
       "      <td>A</td>\n",
       "      <td>C</td>\n",
       "      <td>Rv1944c</td>\n",
       "      <td>12</td>\n",
       "      <td>Non-Essential</td>\n",
       "      <td>NaN</td>\n",
       "      <td>0.99</td>\n",
       "      <td>N</td>\n",
       "      <td>D4E</td>\n",
       "    </tr>\n",
       "  </tbody>\n",
       "</table>\n",
       "</div>"
      ],
      "text/plain": [
       "    population patient_id  ref_position ref_allele alt_allele  gene_id  \\\n",
       "23     TRAUNER        P09       3730411          G          A  Rv3343c   \n",
       "94        CETR       3096       3895269          G          C   Rv3478   \n",
       "95        CETR       3096       3895281          T          C   Rv3478   \n",
       "96        CETR       3096       3895282          G          A   Rv3478   \n",
       "107     CASALI       P377        104833          C          G  Rv0095c   \n",
       "108     CASALI       P377        104838          T          G  Rv0095c   \n",
       "109     CASALI       P377        104962          G          A  Rv0095c   \n",
       "110     CASALI       P377        105060          G          A  Rv0095c   \n",
       "111     CASALI       P377        105063          G          A  Rv0095c   \n",
       "143     WALKER    P000183       1339741          C          G   Rv1196   \n",
       "162     GUERRA     KPS_15       2195923          A          C  Rv1944c   \n",
       "\n",
       "    genomic_coord  gene_category gene_symbol  alt_AF_diff SNP_type AA_change  \n",
       "23           6525         PE/PPE       PPE54         1.00        S    G2175G  \n",
       "94            844         PE/PPE       PPE60         0.93        N     E282Q  \n",
       "95            856         PE/PPE       PPE60         0.94        N     W286R  \n",
       "96            857         PE/PPE       PPE60         0.94        N     W286*  \n",
       "107           383  Non-Essential         NaN         0.84        N     G128A  \n",
       "108           378  Non-Essential         NaN         0.84        N     E126D  \n",
       "109           254  Non-Essential         NaN         0.80        N      A85V  \n",
       "110           156  Non-Essential         NaN         0.86        S      D52D  \n",
       "111           153  Non-Essential         NaN         0.87        S      F51F  \n",
       "143           393         PE/PPE       PPE18         0.97        S     T131T  \n",
       "162            12  Non-Essential         NaN         0.99        N       D4E  "
      ]
     },
     "execution_count": 45,
     "metadata": {},
     "output_type": "execute_result"
    }
   ],
   "source": [
    "SNPS_from_all_patients_DF[(SNPS_from_all_patients_DF.gene_symbol == 'PPE18') | (SNPS_from_all_patients_DF.gene_symbol == 'PPE54') | (SNPS_from_all_patients_DF.gene_symbol == 'PPE60') | (SNPS_from_all_patients_DF.gene_id == 'Rv0095c') | (SNPS_from_all_patients_DF.gene_id == 'Rv1944c')]"
   ]
  },
  {
   "cell_type": "code",
   "execution_count": 46,
   "metadata": {},
   "outputs": [],
   "source": [
    "patients_with_putative_host_adapt_fSNP = list(set(SNPS_from_all_patients_DF[(SNPS_from_all_patients_DF.gene_symbol == 'PPE18') | (SNPS_from_all_patients_DF.gene_symbol == 'PPE54') | (SNPS_from_all_patients_DF.gene_symbol == 'PPE60') | (SNPS_from_all_patients_DF.gene_id == 'Rv0095c') | (SNPS_from_all_patients_DF.gene_id == 'Rv1944c')].patient_id))"
   ]
  },
  {
   "cell_type": "code",
   "execution_count": 47,
   "metadata": {},
   "outputs": [
    {
     "data": {
      "text/plain": [
       "['P377', 'P09', '3096', 'P000183', 'KPS_15']"
      ]
     },
     "execution_count": 47,
     "metadata": {},
     "output_type": "execute_result"
    }
   ],
   "source": [
    "patients_with_putative_host_adapt_fSNP"
   ]
  },
  {
   "cell_type": "markdown",
   "metadata": {},
   "source": [
    "Check to make sure patients are in the set of 167 subjects that had collections times >= 2 months"
   ]
  },
  {
   "cell_type": "code",
   "execution_count": 48,
   "metadata": {},
   "outputs": [
    {
     "name": "stdout",
     "output_type": "stream",
     "text": [
      "P377\n",
      "P09\n",
      "3096\n",
      "P000183\n",
      "KPS_15\n"
     ]
    }
   ],
   "source": [
    "for patient_id in patients_with_putative_host_adapt_fSNP:\n",
    "    \n",
    "    if patient_id in SNP_counts_delayed_df.index:\n",
    "        print patient_id"
   ]
  },
  {
   "cell_type": "markdown",
   "metadata": {},
   "source": [
    "Check to see if there are any overlapping patients between those with at least 1 **AR fSNP** and those with at least 1 **pathoadaptive in-host SNP**"
   ]
  },
  {
   "cell_type": "code",
   "execution_count": 49,
   "metadata": {},
   "outputs": [
    {
     "data": {
      "text/plain": [
       "set()"
      ]
     },
     "execution_count": 49,
     "metadata": {},
     "output_type": "execute_result"
    }
   ],
   "source": [
    "set(patients_with_AR_fSNP).intersection(patients_with_putative_host_adapt_fSNP)"
   ]
  },
  {
   "cell_type": "markdown",
   "metadata": {},
   "source": [
    "Break up patients into **3 groups**\n",
    "- patients with at least 1 AR fSNP\n",
    "- patients with at least 1 putative in-host SNP (that showed convergence in public/global sample)\n",
    "- other patients"
   ]
  },
  {
   "cell_type": "code",
   "execution_count": 50,
   "metadata": {},
   "outputs": [],
   "source": [
    "other_patients = set(SNP_counts_delayed_df.index) - set(patients_with_AR_fSNP) - set(patients_with_putative_host_adapt_fSNP)"
   ]
  },
  {
   "cell_type": "code",
   "execution_count": 51,
   "metadata": {},
   "outputs": [
    {
     "data": {
      "text/plain": [
       "146"
      ]
     },
     "execution_count": 51,
     "metadata": {},
     "output_type": "execute_result"
    }
   ],
   "source": [
    "len(other_patients)"
   ]
  },
  {
   "cell_type": "code",
   "execution_count": 52,
   "metadata": {},
   "outputs": [
    {
     "data": {
      "text/plain": [
       "27"
      ]
     },
     "execution_count": 52,
     "metadata": {},
     "output_type": "execute_result"
    }
   ],
   "source": [
    "len(patients_with_AR_fSNP)"
   ]
  },
  {
   "cell_type": "code",
   "execution_count": 53,
   "metadata": {},
   "outputs": [
    {
     "data": {
      "text/plain": [
       "5"
      ]
     },
     "execution_count": 53,
     "metadata": {},
     "output_type": "execute_result"
    }
   ],
   "source": [
    "len(patients_with_putative_host_adapt_fSNP)"
   ]
  },
  {
   "cell_type": "code",
   "execution_count": 54,
   "metadata": {},
   "outputs": [
    {
     "data": {
      "image/png": "[encoded data removed]",
      "text/plain": [
       "<Figure size 576x432 with 1 Axes>"
      ]
     },
     "metadata": {},
     "output_type": "display_data"
    }
   ],
   "source": [
    "fig , ax = plt.subplots()\n",
    "\n",
    "ax.plot([-3 , 173] , [-3 , 173] , color = '0.5' , linewidth = 2.0 , linestyle = '--' , alpha = 0.7)\n",
    "ax.scatter( SNP_counts_delayed_df[[patient_id in other_patients for patient_id in SNP_counts_delayed_df.index]].count_1 , SNP_counts_delayed_df[[patient_id in other_patients for patient_id in SNP_counts_delayed_df.index]].count_2 , color = 'white' , edgecolor = 'black' , linewidth = 1.0 , alpha = 0.75 , s = 65)\n",
    "ax.scatter( SNP_counts_delayed_df[[patient_id in patients_with_AR_fSNP for patient_id in SNP_counts_delayed_df.index]].count_1 , SNP_counts_delayed_df[[patient_id in patients_with_AR_fSNP for patient_id in SNP_counts_delayed_df.index]].count_2 , color = 'red' , edgecolor = 'black' , linewidth = 1.0 , alpha = 0.75 , s = 65)\n",
    "ax.scatter( SNP_counts_delayed_df[[patient_id in patients_with_putative_host_adapt_fSNP for patient_id in SNP_counts_delayed_df.index]].count_1 , SNP_counts_delayed_df[[patient_id in patients_with_putative_host_adapt_fSNP for patient_id in SNP_counts_delayed_df.index]].count_2 , color = 'blue' , edgecolor = 'black' , linewidth = 1.0 , alpha = 0.75 , s = 65)\n",
    "\n",
    "ax.set_xlim([-4 , 150])\n",
    "ax.set_ylim([-4 , 150])\n",
    "\n",
    "ax.spines['right'].set_visible(False)\n",
    "ax.spines['top'].set_visible(False)\n",
    "ax.tick_params(labelcolor = 'k')\n",
    "\n",
    "ax.set_ylabel('Number hSNPs in Sample 2' , fontweight = 'bold', fontsize = 12 , color = 'k')\n",
    "ax.set_xlabel('Number hSNPs in Sample 1' , fontweight = 'bold', fontsize = 12 , color = 'k')\n",
    "ax.set_title('hSNP count between sampling in Subjects with Treatment Failure' , fontweight = 'bold', fontsize = 12 , color = 'k')\n",
    "\n",
    "\n",
    "fig = plt.gcf()\n",
    "fig.set_size_inches(8.0, 6.0)\n",
    "fig.tight_layout()\n",
    "\n",
    "file_name = '/n/data1/hms/dbmi/farhat/Roger/inhost_TB_dynamics_project/figures/longitudinal_SNP_analysis/SNPs_detected_I2_vs_SNPs_detected_I1.pdf'\n",
    "plt.savefig(file_name, bbox_inches='tight', dpi = 300 , transparent = True)\n",
    "\n",
    "plt.show()"
   ]
  },
  {
   "cell_type": "markdown",
   "metadata": {},
   "source": [
    "#### Median SNP count at Timepoint 1"
   ]
  },
  {
   "cell_type": "code",
   "execution_count": 55,
   "metadata": {
    "scrolled": true
   },
   "outputs": [
    {
     "data": {
      "text/plain": [
       "13.5"
      ]
     },
     "execution_count": 55,
     "metadata": {},
     "output_type": "execute_result"
    }
   ],
   "source": [
    "np.median(SNP_counts_delayed_df.count_1)"
   ]
  },
  {
   "cell_type": "markdown",
   "metadata": {},
   "source": [
    "#### Median SNP count at Timepoint 2"
   ]
  },
  {
   "cell_type": "code",
   "execution_count": 56,
   "metadata": {},
   "outputs": [
    {
     "data": {
      "text/plain": [
       "13.5"
      ]
     },
     "execution_count": 56,
     "metadata": {},
     "output_type": "execute_result"
    }
   ],
   "source": [
    "np.median(SNP_counts_delayed_df.count_2)"
   ]
  },
  {
   "cell_type": "markdown",
   "metadata": {},
   "source": [
    "#### Patients labeled in red & blue"
   ]
  },
  {
   "cell_type": "markdown",
   "metadata": {},
   "source": [
    "RED"
   ]
  },
  {
   "cell_type": "code",
   "execution_count": 60,
   "metadata": {},
   "outputs": [
    {
     "data": {
      "text/plain": [
       "15.0"
      ]
     },
     "execution_count": 60,
     "metadata": {},
     "output_type": "execute_result"
    }
   ],
   "source": [
    "np.median(SNP_counts_delayed_df[[patient_id in patients_with_AR_fSNP for patient_id in SNP_counts_delayed_df.index]].count_1)"
   ]
  },
  {
   "cell_type": "code",
   "execution_count": 61,
   "metadata": {},
   "outputs": [
    {
     "data": {
      "text/plain": [
       "11.0"
      ]
     },
     "execution_count": 61,
     "metadata": {},
     "output_type": "execute_result"
    }
   ],
   "source": [
    "np.median(SNP_counts_delayed_df[[patient_id in patients_with_AR_fSNP for patient_id in SNP_counts_delayed_df.index]].count_2)"
   ]
  },
  {
   "cell_type": "code",
   "execution_count": 57,
   "metadata": {},
   "outputs": [
    {
     "data": {
      "text/html": [
       "<div>\n",
       "<style>\n",
       "    .dataframe thead tr:only-child th {\n",
       "        text-align: right;\n",
       "    }\n",
       "\n",
       "    .dataframe thead th {\n",
       "        text-align: left;\n",
       "    }\n",
       "\n",
       "    .dataframe tbody tr th {\n",
       "        vertical-align: top;\n",
       "    }\n",
       "</style>\n",
       "<table border=\"1\" class=\"dataframe\">\n",
       "  <thead>\n",
       "    <tr style=\"text-align: right;\">\n",
       "      <th></th>\n",
       "      <th>time_btwn_collection</th>\n",
       "      <th>count_1</th>\n",
       "      <th>count_2</th>\n",
       "      <th>count_2_minus_1</th>\n",
       "    </tr>\n",
       "  </thead>\n",
       "  <tbody>\n",
       "    <tr>\n",
       "      <th>3451</th>\n",
       "      <td>5.73</td>\n",
       "      <td>0</td>\n",
       "      <td>3</td>\n",
       "      <td>3</td>\n",
       "    </tr>\n",
       "    <tr>\n",
       "      <th>2523</th>\n",
       "      <td>6.77</td>\n",
       "      <td>1</td>\n",
       "      <td>6</td>\n",
       "      <td>5</td>\n",
       "    </tr>\n",
       "    <tr>\n",
       "      <th>1960</th>\n",
       "      <td>16.70</td>\n",
       "      <td>2</td>\n",
       "      <td>1</td>\n",
       "      <td>-1</td>\n",
       "    </tr>\n",
       "    <tr>\n",
       "      <th>16</th>\n",
       "      <td>6.20</td>\n",
       "      <td>3</td>\n",
       "      <td>15</td>\n",
       "      <td>12</td>\n",
       "    </tr>\n",
       "    <tr>\n",
       "      <th>1700</th>\n",
       "      <td>27.47</td>\n",
       "      <td>3</td>\n",
       "      <td>11</td>\n",
       "      <td>8</td>\n",
       "    </tr>\n",
       "    <tr>\n",
       "      <th>3673</th>\n",
       "      <td>4.83</td>\n",
       "      <td>4</td>\n",
       "      <td>1</td>\n",
       "      <td>-3</td>\n",
       "    </tr>\n",
       "    <tr>\n",
       "      <th>P10</th>\n",
       "      <td>2.80</td>\n",
       "      <td>4</td>\n",
       "      <td>5</td>\n",
       "      <td>1</td>\n",
       "    </tr>\n",
       "    <tr>\n",
       "      <th>I0000024-5</th>\n",
       "      <td>12.17</td>\n",
       "      <td>6</td>\n",
       "      <td>6</td>\n",
       "      <td>0</td>\n",
       "    </tr>\n",
       "    <tr>\n",
       "      <th>2307</th>\n",
       "      <td>26.20</td>\n",
       "      <td>6</td>\n",
       "      <td>3</td>\n",
       "      <td>-3</td>\n",
       "    </tr>\n",
       "    <tr>\n",
       "      <th>2688</th>\n",
       "      <td>5.33</td>\n",
       "      <td>7</td>\n",
       "      <td>3</td>\n",
       "      <td>-4</td>\n",
       "    </tr>\n",
       "    <tr>\n",
       "      <th>1846</th>\n",
       "      <td>4.07</td>\n",
       "      <td>7</td>\n",
       "      <td>8</td>\n",
       "      <td>1</td>\n",
       "    </tr>\n",
       "    <tr>\n",
       "      <th>1972</th>\n",
       "      <td>24.17</td>\n",
       "      <td>7</td>\n",
       "      <td>10</td>\n",
       "      <td>3</td>\n",
       "    </tr>\n",
       "    <tr>\n",
       "      <th>D</th>\n",
       "      <td>26.13</td>\n",
       "      <td>8</td>\n",
       "      <td>2</td>\n",
       "      <td>-6</td>\n",
       "    </tr>\n",
       "    <tr>\n",
       "      <th>2511</th>\n",
       "      <td>14.67</td>\n",
       "      <td>15</td>\n",
       "      <td>11</td>\n",
       "      <td>-4</td>\n",
       "    </tr>\n",
       "    <tr>\n",
       "      <th>P000226</th>\n",
       "      <td>24.37</td>\n",
       "      <td>19</td>\n",
       "      <td>28</td>\n",
       "      <td>9</td>\n",
       "    </tr>\n",
       "    <tr>\n",
       "      <th>2968</th>\n",
       "      <td>2.47</td>\n",
       "      <td>19</td>\n",
       "      <td>2</td>\n",
       "      <td>-17</td>\n",
       "    </tr>\n",
       "    <tr>\n",
       "      <th>P251</th>\n",
       "      <td>16.27</td>\n",
       "      <td>20</td>\n",
       "      <td>8</td>\n",
       "      <td>-12</td>\n",
       "    </tr>\n",
       "    <tr>\n",
       "      <th>P000155</th>\n",
       "      <td>48.70</td>\n",
       "      <td>23</td>\n",
       "      <td>19</td>\n",
       "      <td>-4</td>\n",
       "    </tr>\n",
       "    <tr>\n",
       "      <th>KPS_82</th>\n",
       "      <td>20.07</td>\n",
       "      <td>24</td>\n",
       "      <td>26</td>\n",
       "      <td>2</td>\n",
       "    </tr>\n",
       "    <tr>\n",
       "      <th>P000189</th>\n",
       "      <td>12.17</td>\n",
       "      <td>25</td>\n",
       "      <td>26</td>\n",
       "      <td>1</td>\n",
       "    </tr>\n",
       "    <tr>\n",
       "      <th>P052</th>\n",
       "      <td>34.53</td>\n",
       "      <td>26</td>\n",
       "      <td>28</td>\n",
       "      <td>2</td>\n",
       "    </tr>\n",
       "    <tr>\n",
       "      <th>P000227</th>\n",
       "      <td>73.07</td>\n",
       "      <td>27</td>\n",
       "      <td>29</td>\n",
       "      <td>2</td>\n",
       "    </tr>\n",
       "    <tr>\n",
       "      <th>KPS_37</th>\n",
       "      <td>13.57</td>\n",
       "      <td>32</td>\n",
       "      <td>34</td>\n",
       "      <td>2</td>\n",
       "    </tr>\n",
       "    <tr>\n",
       "      <th>KPS_24</th>\n",
       "      <td>32.53</td>\n",
       "      <td>47</td>\n",
       "      <td>33</td>\n",
       "      <td>-14</td>\n",
       "    </tr>\n",
       "    <tr>\n",
       "      <th>KPS_5</th>\n",
       "      <td>9.37</td>\n",
       "      <td>48</td>\n",
       "      <td>42</td>\n",
       "      <td>-6</td>\n",
       "    </tr>\n",
       "    <tr>\n",
       "      <th>P000094</th>\n",
       "      <td>48.70</td>\n",
       "      <td>95</td>\n",
       "      <td>25</td>\n",
       "      <td>-70</td>\n",
       "    </tr>\n",
       "    <tr>\n",
       "      <th>P000071</th>\n",
       "      <td>36.53</td>\n",
       "      <td>148</td>\n",
       "      <td>31</td>\n",
       "      <td>-117</td>\n",
       "    </tr>\n",
       "  </tbody>\n",
       "</table>\n",
       "</div>"
      ],
      "text/plain": [
       "            time_btwn_collection count_1 count_2 count_2_minus_1\n",
       "3451                        5.73       0       3               3\n",
       "2523                        6.77       1       6               5\n",
       "1960                       16.70       2       1              -1\n",
       "16                          6.20       3      15              12\n",
       "1700                       27.47       3      11               8\n",
       "3673                        4.83       4       1              -3\n",
       "P10                         2.80       4       5               1\n",
       "I0000024-5                 12.17       6       6               0\n",
       "2307                       26.20       6       3              -3\n",
       "2688                        5.33       7       3              -4\n",
       "1846                        4.07       7       8               1\n",
       "1972                       24.17       7      10               3\n",
       "D                          26.13       8       2              -6\n",
       "2511                       14.67      15      11              -4\n",
       "P000226                    24.37      19      28               9\n",
       "2968                        2.47      19       2             -17\n",
       "P251                       16.27      20       8             -12\n",
       "P000155                    48.70      23      19              -4\n",
       "KPS_82                     20.07      24      26               2\n",
       "P000189                    12.17      25      26               1\n",
       "P052                       34.53      26      28               2\n",
       "P000227                    73.07      27      29               2\n",
       "KPS_37                     13.57      32      34               2\n",
       "KPS_24                     32.53      47      33             -14\n",
       "KPS_5                       9.37      48      42              -6\n",
       "P000094                    48.70      95      25             -70\n",
       "P000071                    36.53     148      31            -117"
      ]
     },
     "execution_count": 57,
     "metadata": {},
     "output_type": "execute_result"
    }
   ],
   "source": [
    "SNP_counts_delayed_df[[patient_id in patients_with_AR_fSNP for patient_id in SNP_counts_delayed_df.index]].sort_values(by='count_1')"
   ]
  },
  {
   "cell_type": "markdown",
   "metadata": {},
   "source": [
    "BLUE"
   ]
  },
  {
   "cell_type": "code",
   "execution_count": 62,
   "metadata": {},
   "outputs": [
    {
     "data": {
      "text/plain": [
       "19.0"
      ]
     },
     "execution_count": 62,
     "metadata": {},
     "output_type": "execute_result"
    }
   ],
   "source": [
    "np.median(SNP_counts_delayed_df[[patient_id in patients_with_putative_host_adapt_fSNP for patient_id in SNP_counts_delayed_df.index]].count_1)"
   ]
  },
  {
   "cell_type": "code",
   "execution_count": 63,
   "metadata": {},
   "outputs": [
    {
     "data": {
      "text/plain": [
       "6.0"
      ]
     },
     "execution_count": 63,
     "metadata": {},
     "output_type": "execute_result"
    }
   ],
   "source": [
    "np.median(SNP_counts_delayed_df[[patient_id in patients_with_putative_host_adapt_fSNP for patient_id in SNP_counts_delayed_df.index]].count_2)"
   ]
  },
  {
   "cell_type": "code",
   "execution_count": 58,
   "metadata": {},
   "outputs": [
    {
     "data": {
      "text/html": [
       "<div>\n",
       "<style>\n",
       "    .dataframe thead tr:only-child th {\n",
       "        text-align: right;\n",
       "    }\n",
       "\n",
       "    .dataframe thead th {\n",
       "        text-align: left;\n",
       "    }\n",
       "\n",
       "    .dataframe tbody tr th {\n",
       "        vertical-align: top;\n",
       "    }\n",
       "</style>\n",
       "<table border=\"1\" class=\"dataframe\">\n",
       "  <thead>\n",
       "    <tr style=\"text-align: right;\">\n",
       "      <th></th>\n",
       "      <th>time_btwn_collection</th>\n",
       "      <th>count_1</th>\n",
       "      <th>count_2</th>\n",
       "      <th>count_2_minus_1</th>\n",
       "    </tr>\n",
       "  </thead>\n",
       "  <tbody>\n",
       "    <tr>\n",
       "      <th>P09</th>\n",
       "      <td>5.60</td>\n",
       "      <td>3</td>\n",
       "      <td>2</td>\n",
       "      <td>-1</td>\n",
       "    </tr>\n",
       "    <tr>\n",
       "      <th>3096</th>\n",
       "      <td>12.93</td>\n",
       "      <td>3</td>\n",
       "      <td>1</td>\n",
       "      <td>-2</td>\n",
       "    </tr>\n",
       "    <tr>\n",
       "      <th>P377</th>\n",
       "      <td>2.93</td>\n",
       "      <td>19</td>\n",
       "      <td>6</td>\n",
       "      <td>-13</td>\n",
       "    </tr>\n",
       "    <tr>\n",
       "      <th>KPS_15</th>\n",
       "      <td>17.93</td>\n",
       "      <td>39</td>\n",
       "      <td>16</td>\n",
       "      <td>-23</td>\n",
       "    </tr>\n",
       "    <tr>\n",
       "      <th>P000183</th>\n",
       "      <td>24.37</td>\n",
       "      <td>68</td>\n",
       "      <td>62</td>\n",
       "      <td>-6</td>\n",
       "    </tr>\n",
       "  </tbody>\n",
       "</table>\n",
       "</div>"
      ],
      "text/plain": [
       "         time_btwn_collection count_1 count_2 count_2_minus_1\n",
       "P09                      5.60       3       2              -1\n",
       "3096                    12.93       3       1              -2\n",
       "P377                     2.93      19       6             -13\n",
       "KPS_15                  17.93      39      16             -23\n",
       "P000183                 24.37      68      62              -6"
      ]
     },
     "execution_count": 58,
     "metadata": {},
     "output_type": "execute_result"
    }
   ],
   "source": [
    "SNP_counts_delayed_df[[patient_id in patients_with_putative_host_adapt_fSNP for patient_id in SNP_counts_delayed_df.index]].sort_values(by='count_1')"
   ]
  },
  {
   "cell_type": "code",
   "execution_count": null,
   "metadata": {},
   "outputs": [],
   "source": []
  }
 ],
 "metadata": {
  "kernelspec": {
   "display_name": "Python 2",
   "language": "python",
   "name": "python2"
  },
  "language_info": {
   "codemirror_mode": {
    "name": "ipython",
    "version": 2
   },
   "file_extension": ".py",
   "mimetype": "text/x-python",
   "name": "python",
   "nbconvert_exporter": "python",
   "pygments_lexer": "ipython2",
   "version": "2.7.16"
  }
 },
 "nbformat": 4,
 "nbformat_minor": 2
}
