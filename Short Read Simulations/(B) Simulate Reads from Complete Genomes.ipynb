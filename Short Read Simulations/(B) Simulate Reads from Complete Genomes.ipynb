{
 "cells": [
  {
   "cell_type": "code",
   "execution_count": 1,
   "metadata": {},
   "outputs": [
    {
     "data": {
      "text/html": [
       "<style>.container { width:100% !important; }</style>"
      ],
      "text/plain": [
       "<IPython.core.display.HTML object>"
      ]
     },
     "metadata": {},
     "output_type": "display_data"
    }
   ],
   "source": [
    "from IPython.core.display import display, HTML\n",
    "display(HTML(\"<style>.container { width:100% !important; }</style>\"))\n",
    "%matplotlib inline"
   ]
  },
  {
   "cell_type": "markdown",
   "metadata": {},
   "source": [
    "#### This notebook collects all of the variant profiles for the longitudinal samples for use in simulating reads and *drops* those SNPs into the reference sequences used for simulating reads."
   ]
  },
  {
   "cell_type": "markdown",
   "metadata": {},
   "source": [
    "#######################################################################################################################################################################################################################################################################################"
   ]
  },
  {
   "cell_type": "markdown",
   "metadata": {},
   "source": [
    "## [1] Create the Script to drop alternate alleles (SNVs) into the (complete) Reference Genomes before simulating reads from these genomes"
   ]
  },
  {
   "cell_type": "markdown",
   "metadata": {},
   "source": [
    "#######################################################################################################################################################################################################################################################################################"
   ]
  },
  {
   "cell_type": "code",
   "execution_count": 2,
   "metadata": {},
   "outputs": [],
   "source": [
    "#Choose a specific reference genome, pull sequence & annotation; compare to H37Rv (indexed: 0 - 53)\n",
    "ref_genome_i = 5\n",
    "import sys"
   ]
  },
  {
   "cell_type": "code",
   "execution_count": 3,
   "metadata": {},
   "outputs": [],
   "source": [
    "#import necessary packages\n",
    "import vcf\n",
    "import os\n",
    "import pandas as pd\n",
    "import numpy as np\n",
    "\n",
    "from itertools import compress\n",
    "import ast\n",
    "import itertools\n",
    "import time\n",
    "\n",
    "import Bio\n",
    "from Bio.Alphabet import IUPAC\n",
    "from Bio.Blast.Applications import NcbiblastnCommandline\n",
    "from Bio.Blast import NCBIXML\n",
    "from Bio.Seq import Seq\n",
    "from Bio.SeqRecord import SeqRecord\n",
    "from Bio.SeqFeature import SeqFeature, FeatureLocation\n",
    "from Bio import pairwise2\n",
    "from Bio import SeqIO\n",
    "from Bio.Graphics import GenomeDiagram\n",
    "from Bio.SeqUtils import GC\n",
    "\n",
    "from Bio.Align.Applications import MuscleCommandline\n",
    "from StringIO import StringIO\n",
    "from Bio import AlignIO\n",
    "from Bio.Align import AlignInfo\n",
    "from Bio.Seq import MutableSeq\n",
    "from Bio import pairwise2\n",
    "from shutil import copy\n",
    "import subprocess\n",
    "import pickle\n",
    "import shutil"
   ]
  },
  {
   "cell_type": "code",
   "execution_count": 4,
   "metadata": {},
   "outputs": [],
   "source": [
    "##########################################################################################\n",
    "##########################################################################################\n",
    "\n",
    "'''\n",
    "This piece of code imports the SNPs (Base Changes) that we want to simulate. The SNPs are taken from \n",
    "the Longitudinal SNP analysis. Unique Filtered SNPs from significant genes are stored in a DataFrame after \n",
    "determining which genes have a significant amount of variation.\n",
    "'''\n",
    "\n",
    "SNPs_from_all_patients_DF = pd.read_pickle('/n/data1/hms/dbmi/farhat/Roger/inhost_TB_dynamics_project/pickled_files/variant_calling/longitudinal_SNPs/longitudinal_SNPs_to_simulate.pkl')\n",
    "\n",
    "##########################################################################################\n",
    "##########################################################################################"
   ]
  },
  {
   "cell_type": "code",
   "execution_count": 7,
   "metadata": {
    "scrolled": true
   },
   "outputs": [
    {
     "data": {
      "text/html": [
       "<div>\n",
       "<style>\n",
       "    .dataframe thead tr:only-child th {\n",
       "        text-align: right;\n",
       "    }\n",
       "\n",
       "    .dataframe thead th {\n",
       "        text-align: left;\n",
       "    }\n",
       "\n",
       "    .dataframe tbody tr th {\n",
       "        vertical-align: top;\n",
       "    }\n",
       "</style>\n",
       "<table border=\"1\" class=\"dataframe\">\n",
       "  <thead>\n",
       "    <tr style=\"text-align: right;\">\n",
       "      <th></th>\n",
       "      <th>ref_position</th>\n",
       "      <th>ref_allele</th>\n",
       "      <th>alt_allele</th>\n",
       "      <th>gene_id</th>\n",
       "      <th>genomic_coord</th>\n",
       "      <th>gene_category</th>\n",
       "      <th>gene_symbol</th>\n",
       "      <th>SNP_type</th>\n",
       "      <th>AA_change</th>\n",
       "    </tr>\n",
       "  </thead>\n",
       "  <tbody>\n",
       "    <tr>\n",
       "      <th>0</th>\n",
       "      <td>761139</td>\n",
       "      <td>C</td>\n",
       "      <td>G</td>\n",
       "      <td>Rv0667</td>\n",
       "      <td>1333</td>\n",
       "      <td>Antibiotic Resistance</td>\n",
       "      <td>rpoB</td>\n",
       "      <td>N</td>\n",
       "      <td>H445D</td>\n",
       "    </tr>\n",
       "    <tr>\n",
       "      <th>1</th>\n",
       "      <td>861378</td>\n",
       "      <td>T</td>\n",
       "      <td>G</td>\n",
       "      <td>Rv0768</td>\n",
       "      <td>467</td>\n",
       "      <td>Non-Essential</td>\n",
       "      <td>aldA</td>\n",
       "      <td>N</td>\n",
       "      <td>I156S</td>\n",
       "    </tr>\n",
       "    <tr>\n",
       "      <th>2</th>\n",
       "      <td>1253207</td>\n",
       "      <td>A</td>\n",
       "      <td>G</td>\n",
       "      <td>Rv1129c</td>\n",
       "      <td>1328</td>\n",
       "      <td>Non-Essential</td>\n",
       "      <td>NaN</td>\n",
       "      <td>N</td>\n",
       "      <td>I443T</td>\n",
       "    </tr>\n",
       "    <tr>\n",
       "      <th>3</th>\n",
       "      <td>2075138</td>\n",
       "      <td>T</td>\n",
       "      <td>A</td>\n",
       "      <td>Rv1830</td>\n",
       "      <td>298</td>\n",
       "      <td>Non-Essential</td>\n",
       "      <td>NaN</td>\n",
       "      <td>N</td>\n",
       "      <td>S100T</td>\n",
       "    </tr>\n",
       "    <tr>\n",
       "      <th>4</th>\n",
       "      <td>2694727</td>\n",
       "      <td>A</td>\n",
       "      <td>G</td>\n",
       "      <td>Rv2397c</td>\n",
       "      <td>238</td>\n",
       "      <td>Essential</td>\n",
       "      <td>cysA1</td>\n",
       "      <td>N</td>\n",
       "      <td>F80L</td>\n",
       "    </tr>\n",
       "  </tbody>\n",
       "</table>\n",
       "</div>"
      ],
      "text/plain": [
       "   ref_position ref_allele alt_allele  gene_id genomic_coord  \\\n",
       "0        761139          C          G   Rv0667          1333   \n",
       "1        861378          T          G   Rv0768           467   \n",
       "2       1253207          A          G  Rv1129c          1328   \n",
       "3       2075138          T          A   Rv1830           298   \n",
       "4       2694727          A          G  Rv2397c           238   \n",
       "\n",
       "           gene_category gene_symbol SNP_type AA_change  \n",
       "0  Antibiotic Resistance        rpoB        N     H445D  \n",
       "1          Non-Essential        aldA        N     I156S  \n",
       "2          Non-Essential         NaN        N     I443T  \n",
       "3          Non-Essential         NaN        N     S100T  \n",
       "4              Essential       cysA1        N      F80L  "
      ]
     },
     "execution_count": 7,
     "metadata": {},
     "output_type": "execute_result"
    }
   ],
   "source": [
    "SNPs_from_all_patients_DF.head()"
   ]
  },
  {
   "cell_type": "code",
   "execution_count": 68,
   "metadata": {},
   "outputs": [],
   "source": [
    "##########################################################################################\n",
    "##########################################################################################\n",
    "'''\n",
    "This piece of code constructs a mapping of the CDS regions of H37Rv to the CDS \n",
    "regions of the chosen reference sequence (ref_genome_i) using the \n",
    "feature annotation tables for both sequences.\n",
    "'''\n",
    "\n",
    "#annotation for reference sequences that we will use for our simulations\n",
    "ref_seqs_annot = pd.read_csv('/n/data1/hms/dbmi/farhat/Roger/inhost_TB_dynamics_project/simulated_reads/reference_sequences/strains_typed/Reference_Genomes_used_in_simulations.csv').set_index('Unnamed: 0')\n",
    "\n",
    "#############################################################################\n",
    "#PULL H37Rv sequence & annotation information\n",
    "\n",
    "#H37Rv GENOME SEQUENCE\n",
    "H37Rv_genome = '/n/data1/hms/dbmi/farhat/bin/work-horse/bin/h37rv.fasta'\n",
    "for H37Rv_seq in SeqIO.parse(H37Rv_genome, \"fasta\"):\n",
    "    H37Rv_seq.seq.alphabet = IUPAC.unambiguous_dna\n",
    "\n",
    "#H37Rv REFERENCE ANNOTATION\n",
    "H37Rv_annotation = pd.read_csv('/n/data1/hms/dbmi/farhat/Roger/inhost_TB_dynamics_project/H37Rv/h37rv_genome_summary.txt', '\\t').set_index('name')\n",
    "\n",
    "#filter out annotation for t-RNAs and other misc RNAs\n",
    "RNAs_filter = []\n",
    "for CDS_i in H37Rv_annotation.index:\n",
    "    if ('tRNA' in H37Rv_annotation.loc[CDS_i , 'description'].split(' ')) or ('Rvn' in CDS_i):\n",
    "        RNAs_filter.append(True)\n",
    "        \n",
    "    else:\n",
    "        RNAs_filter.append(False)\n",
    "\n",
    "non_RNAs_filter = [not RNA for RNA in RNAs_filter]\n",
    "\n",
    "H37Rv_annotation_no_RNA = H37Rv_annotation[non_RNAs_filter]\n",
    "\n",
    "#drop unneccessary columns\n",
    "H37Rv_annotation_no_RNA = H37Rv_annotation_no_RNA.loc[: , ['symbol' , 'length' , 'chromStart' , 'chromEnd' , 'strand' , 'description']]\n",
    "\n",
    "\n",
    "#STORE CORRESPONDING SEQUENCES FROM H37Rv IN GENOME ANNOTATION\n",
    "for gene_id in H37Rv_annotation_no_RNA.index:\n",
    "\n",
    "    start_site = min( (H37Rv_annotation_no_RNA.loc[gene_id , 'chromStart']) , H37Rv_annotation_no_RNA.loc[gene_id , 'chromEnd'] ) #starts counting from 1\n",
    "    end_site = max( (H37Rv_annotation_no_RNA.loc[gene_id , 'chromStart']) , H37Rv_annotation_no_RNA.loc[gene_id , 'chromEnd'] )\n",
    "\n",
    "    seq_i = H37Rv_seq.seq[start_site:end_site] \n",
    "\n",
    "    #store sequence\n",
    "    H37Rv_annotation_no_RNA.loc[gene_id , 'sequence'] = seq_i\n",
    "\n",
    "#############################################################################\n",
    "#PULL REFERENCE sequence & annotation information\n",
    "\n",
    "#specify specific reference sequence\n",
    "ref_genome_strain = list(ref_seqs_annot.Strain)[ref_genome_i]\n",
    "ref_genome_strain_annotation_filename = list(ref_seqs_annot.Feature_Table_filename)[ref_genome_i]\n",
    "\n",
    "#directory where the fasta files for the reference sequences are stored\n",
    "ref_seq_directory = '/n/data1/hms/dbmi/farhat/Roger/inhost_TB_dynamics_project/simulated_reads/reference_sequences/strains_typed/'\n",
    "#directory where annotation files are stored\n",
    "ref_strain_genome_annot_files_directory = '/n/data1/hms/dbmi/farhat/Roger/inhost_TB_dynamics_project/simulated_reads/reference_sequences/strains_typed/reference_sequence_annotation_tables/'\n",
    "\n",
    "#REFERENCE GENOME SEQUENCE\n",
    "#get full path for the fasta file corrresponding to the reference sequence\n",
    "ref_genome_fasta = ref_seq_directory + ref_genome_strain  + '.fasta'\n",
    "\n",
    "#parse the fasta file corresponding to the reference genome\n",
    "for reference_genome in SeqIO.parse(ref_genome_fasta, \"fasta\"):\n",
    "    reference_genome.seq.alphabet = IUPAC.unambiguous_dna\n",
    "\n",
    "#REFERENCE GENOME FEATURE TABLE\n",
    "ref_genome_annot = pd.read_csv(ref_strain_genome_annot_files_directory + ref_genome_strain_annotation_filename , compression = 'gzip' , header = 0 , sep = '\\t')\n",
    "\n",
    "#filter for rows that code for 'genes'\n",
    "ref_genome_annot = ref_genome_annot[ref_genome_annot.ix[: , 0] == 'gene']\n",
    "\n",
    "#filter for rows that are 'protein_coding' or 'pseudogene'\n",
    "protein_coding_or_pseudogene_filter = [protein_coding or pseudogene for protein_coding , pseudogene in zip(list(ref_genome_annot.ix[: , 1] == 'protein_coding') , list(ref_genome_annot.ix[: , 1] == 'pseudogene'))]\n",
    "ref_genome_annot = ref_genome_annot[protein_coding_or_pseudogene_filter]\n",
    "\n",
    "#filter out for buggy first rows that contain the start/end of the whole Reference Genome Sequence\n",
    "ref_genome_annot = ref_genome_annot[ (ref_genome_annot.end - ref_genome_annot.start) < 1000000 ]\n",
    "\n",
    "#drop unnecessary columns\n",
    "ref_genome_annot = ref_genome_annot.loc[: , [ 'start' , 'end' , 'strand' , 'symbol' , 'feature_interval_length']]\n",
    "\n",
    "ref_genome_annot.reset_index(inplace = True , drop = True)\n",
    "\n",
    "#STORE CORRESPONDING SEQUENCES FROM REFERENCE GENOME IN GENOME ANNOTATION\n",
    "for CDS_i in ref_genome_annot.index:\n",
    "\n",
    "    start_site = min( (ref_genome_annot.loc[CDS_i , 'start'] - 1) , ref_genome_annot.loc[CDS_i , 'end'] ) #starts counting from 1\n",
    "    end_site = max( (ref_genome_annot.loc[CDS_i , 'start'] - 1) , ref_genome_annot.loc[CDS_i , 'end'] )\n",
    "\n",
    "    seq_i = reference_genome.seq[start_site:end_site] \n",
    "\n",
    "    #store sequence\n",
    "    ref_genome_annot.loc[CDS_i , 'sequence'] = seq_i\n",
    "\n",
    "#############################################################################\n",
    "#COMPARE REFERENCE GENOME WITH H37RV & MAP RELEVANT CODING REGIONS FOR NOVEL GENES\n",
    "\n",
    "#define window size for CDS length comparison (has to be an even number)\n",
    "window_size = 10\n",
    "\n",
    "num_genes = len(H37Rv_annotation_no_RNA.index) #number of genes after excluding RNAs\n",
    "\n",
    "#WRAP AROUND CHROMOSOME FOR FIRST/LAST FEW GENES\n",
    "#in order to 'wrap around' chromosome, append last 5 genes to beginning of DF and first 5 genes to end of DF to create sliding window for all genes\n",
    "last_few_genes_annot = H37Rv_annotation_no_RNA.ix[num_genes - (window_size / 2) : , :] #last few genes\n",
    "first_few_genes_annot = H37Rv_annotation_no_RNA.ix[0 : (window_size / 2) , :] #first few genes\n",
    "H37Rv_annotation_no_RNA_fudged_for_circular_chrom = last_few_genes_annot.append(H37Rv_annotation_no_RNA.append(first_few_genes_annot))\n",
    "\n",
    "#H37Rv-ref_genome coding mapping\n",
    "#create dataframe to hold mapping\n",
    "H37Rv_RefGeome_gene_mapping = pd.DataFrame(columns = ['symbol' , 'H37Rv_start' , 'H37Rv_end' , 'RefGenome_start' , 'RefGenome_end' , 'strand' , 'Highest_window_score' , 'second_Highest_window_score' , 'window_index'])\n",
    "\n",
    "#only look for Significant Genes from within-host analysis & look for corresponding coding sequence in reference genome\n",
    "genes_with_real_SNPs = list( set( SNPs_from_all_patients_DF.gene_id ) )\n",
    "\n",
    "for gene_id in genes_with_real_SNPs: #skip first several rows & last several rows (which are redundant genes created for sliding windows) \n",
    "\n",
    "    #find index in H37Rv annotation dataframe\n",
    "    row_index = list(H37Rv_annotation_no_RNA_fudged_for_circular_chrom.ix[(window_size / 2) : - (window_size / 2)].index).index(gene_id) + 5\n",
    "\n",
    "    #take the 5 CDS regions before & after into account\n",
    "    H37Rv_annotation_no_RNA_neighborhood = H37Rv_annotation_no_RNA_fudged_for_circular_chrom.ix[ row_index - (window_size / 2) : row_index + ((window_size / 2) + 1) , :]\n",
    "    \n",
    "    #look at gene lengths of the 11 consective genes & look for similar gene length profile in reference genome\n",
    "    H37Rv_annotation_no_RNA_neighborhood_lengths = H37Rv_annotation_no_RNA_neighborhood.length\n",
    "\n",
    "    #compare the neighborhood of gene lengths with every set of consecutive 11 gene lengths in reference genome annotation\n",
    "    ## key: window_index , value: score of gene_length_window_match\n",
    "    gene_length_match_scores = {}\n",
    "\n",
    "    #create a sliding window of gene lengths to find the appropriate coding region on the reference genome for novel genes\n",
    "    first_window_index = window_size / 2\n",
    "    last_window_index = np.shape(ref_genome_annot)[0] - (window_size / 2)\n",
    "\n",
    "    for gene_lengths_window_i in range(first_window_index , last_window_index):\n",
    "\n",
    "        #take the 5 CDS regions before & after into account\n",
    "        ref_genome_annot_neighborhood = ref_genome_annot.ix[ gene_lengths_window_i - (window_size / 2) : gene_lengths_window_i + (window_size / 2) , :]\n",
    "\n",
    "        #look at gene lengths of the 11 consecutive genes & look for similar gene length profile in H37Rv\n",
    "        ref_genome_annot_neighborhood_lengths =  ref_genome_annot_neighborhood.feature_interval_length\n",
    "        \n",
    "        #compare window of gene lengths between reference genome and H37Rv\n",
    "        ##length_match_score = np.sum( np.array( ref_genome_annot_neighborhood_lengths ) == np.array( H37Rv_annotation_no_RNA_neighborhood_lengths ) ) #absolute match method\n",
    "        length_match_score = len( set(list(ref_genome_annot_neighborhood_lengths)).intersection(set(list(H37Rv_annotation_no_RNA_neighborhood_lengths))) ) #rough match method\n",
    "\n",
    "        #store window index and corresponding match score\n",
    "        gene_length_match_scores[gene_lengths_window_i] = length_match_score\n",
    "\n",
    "    #find the max match score and corresponding window index\n",
    "    gene_length_match_scores = pd.Series(gene_length_match_scores)\n",
    "    \n",
    "    gene_length_match_scores_genome_order = gene_length_match_scores\n",
    "    \n",
    "    gene_length_match_scores = gene_length_match_scores.sort_values(ascending = False)\n",
    "    \n",
    "    window_index_top_match_score = list(gene_length_match_scores)[0] #top score for sliding window alignments\n",
    "    \n",
    "    #store window indice(s) that have the top match score\n",
    "    window_indices_with_top_score = list(gene_length_match_scores[gene_length_match_scores == window_index_top_match_score].index)\n",
    "    \n",
    "    gene_alignment_scores_in_top_window = {} #key: sub-window indices , valus: score from pariwise alignment\n",
    "    \n",
    "    #iterate through all highest scoring windows (or neighborhoods)\n",
    "    for window_match_index in window_indices_with_top_score:\n",
    "        \n",
    "        #align gene_i to every CDS within the 'sliding window' of the highest window scoring CDS region(s)\n",
    "        first_chosen_window_index = window_match_index - (window_size / 2)\n",
    "        last_chosen_window_index = window_match_index + (window_size / 2)\n",
    "\n",
    "        for window_index in range(first_chosen_window_index , last_chosen_window_index + 1):\n",
    "\n",
    "            #find the gene sequence corresponding to window index\n",
    "            corresponding_gene_ref_genome = ref_genome_annot.loc[window_index , :]\n",
    "\n",
    "            #check to see if sequences are identical by aligning them\n",
    "            H37Rv_coding_seq = H37Rv_annotation_no_RNA.loc[gene_id , 'sequence']\n",
    "            ref_genome_coding_seq = corresponding_gene_ref_genome.sequence\n",
    "\n",
    "            #Identical characters are given 1 point, -1/2 point is deducted for each non-identical character, 2 points are deduced when opening a gap, 2 point is deducted for extending it\n",
    "            alignment_score = pairwise2.align.globalms(H37Rv_coding_seq, ref_genome_coding_seq , 2 , -1 , -2 , -2 , score_only = True)\n",
    "\n",
    "            #store in dictionary\n",
    "            gene_alignment_scores_in_top_window[window_index] = alignment_score\n",
    "            \n",
    "    #choose window index with highest alignment score as match (this time from genes within top/chosen window)\n",
    "    top_window_score_gene_alignments_results = pd.Series(gene_alignment_scores_in_top_window)\n",
    "    top_window_score_gene_alignments_results = top_window_score_gene_alignments_results.sort_values(ascending = False)\n",
    "    \n",
    "    window_match_index = list(top_window_score_gene_alignments_results.index)[0] #take the index corresponding to the top alignment score\n",
    "    window_match_score = list(top_window_score_gene_alignments_results)[0] #actual raw score from top alignment\n",
    "    \n",
    "    #store relevant information\n",
    "    corresponding_gene_ref_genome = ref_genome_annot.loc[window_match_index , :]\n",
    "    \n",
    "    H37Rv_gene_length = H37Rv_annotation_no_RNA.loc[gene_id , 'length']\n",
    "    RefGenome_gene_length = corresponding_gene_ref_genome.feature_interval_length\n",
    "    \n",
    "    #if window match score positive and gene lengths match, then likely a correct match also ensure 'found' gene has same length as gene in H37Rv\n",
    "    if (window_match_score > 0) and (H37Rv_gene_length == RefGenome_gene_length): \n",
    "\n",
    "        symbol = H37Rv_annotation_no_RNA.loc[gene_id , 'symbol']\n",
    "        strand = H37Rv_annotation_no_RNA.loc[gene_id , 'strand']\n",
    "        H37Rv_start = H37Rv_annotation_no_RNA.loc[gene_id , 'chromStart']\n",
    "        H37Rv_end = H37Rv_annotation_no_RNA.loc[gene_id , 'chromEnd']\n",
    "        RefGenome_start = corresponding_gene_ref_genome.start\n",
    "        RefGenome_end = corresponding_gene_ref_genome.end\n",
    "\n",
    "        Highest_window_score = list(gene_length_match_scores)[0]\n",
    "        second_Highest_window_score = list(gene_length_match_scores)[1]\n",
    "\n",
    "        #start counting from 0!\n",
    "        H37Rv_RefGeome_gene_mapping.loc[gene_id , :] = [symbol , H37Rv_start , H37Rv_end , RefGenome_start - 1 , RefGenome_end , strand , Highest_window_score , second_Highest_window_score , window_match_index]\n",
    "        \n",
    "    else: #if window match score negative, then likely no gene/CDS analogue was found\n",
    "        \n",
    "        H37Rv_RefGeome_gene_mapping.loc[gene_id , :] = [np.nan]*9\n",
    "    \n",
    "##########################################################################################\n",
    "##########################################################################################"
   ]
  },
  {
   "cell_type": "code",
   "execution_count": 72,
   "metadata": {},
   "outputs": [],
   "source": [
    "##########################################################################################\n",
    "##########################################################################################\n",
    "\n",
    "'''\n",
    "This piece of code uses the mapping of the CDS regions of H37Rv to the CDS \n",
    "regions of the chosen reference sequence (ref_genome_i) to find the relevant\n",
    "reference positions of the SNPs called against H37Rv from paired isolates.\n",
    "\n",
    "We drop any repeated SNPs (variants that have the same RefGenome position \n",
    "as another variant). Then introduce the variants into a copy of the Reference Sequence.\n",
    "\n",
    "This piece of code also stores the Feature Annotation Table , Altered Variants Record , \n",
    "Original Reference Sequence & Altered Reference Sequence in the same directory.\n",
    "'''\n",
    "\n",
    "#DROP SNPs for which NO corresponding CDS was found in the Reference Genome, we will only simulate SNPs in genes with good mappings!\n",
    "\n",
    "#reset index for all coding SNPs\n",
    "SNPs_from_all_patients_DF.reset_index(inplace = True , drop = True)\n",
    "\n",
    "#genes that we found corresponding CDS/genes for in RefGenome\n",
    "mapped_genes = list( H37Rv_RefGeome_gene_mapping.index[ [not badly_mapped for badly_mapped in H37Rv_RefGeome_gene_mapping.isnull().all(axis = 1) ] ] )\n",
    "\n",
    "SNP_has_mapped_region_in_RefGenome_filter = []\n",
    "\n",
    "for SNP_i in range(0 , np.shape(SNPs_from_all_patients_DF)[0]):\n",
    "    \n",
    "    #does the (H37Rv) gene that SNP was located on have a mapped region on Reference Genome?\n",
    "    if SNPs_from_all_patients_DF.loc[SNP_i , 'gene_id'] in mapped_genes:\n",
    "        SNP_has_mapped_region_in_RefGenome_filter.append(True)\n",
    "        \n",
    "    else:\n",
    "        SNP_has_mapped_region_in_RefGenome_filter.append(False)\n",
    "        \n",
    "SNPs_from_all_patients_DF = SNPs_from_all_patients_DF[SNP_has_mapped_region_in_RefGenome_filter]\n",
    "\n",
    "#reset index again (after possibly dropping some SNPs that couldn't be mapped to RefGenome)\n",
    "SNPs_from_all_patients_DF.reset_index(inplace = True , drop = True)\n",
    "\n",
    "#######################################################################################################################################\n",
    "# USE MAPPING FROM H37RV -> REFERENCE GENOME TO IDENTIFY SNP SITES ON REFERENCE GENOME\n",
    "\n",
    "#series for storing corresponding SNP genomic positions in reference genome\n",
    "RefGenome_SNP_location_series = pd.Series(index = SNPs_from_all_patients_DF.index)\n",
    "\n",
    "#find corresponding alt positions of all SNPs \n",
    "for SNP_i in range(0 , np.shape(SNPs_from_all_patients_DF)[0]):\n",
    "    \n",
    "    SNP_info = SNPs_from_all_patients_DF.loc[SNP_i , :]\n",
    "    \n",
    "    #find genomic sit for SNP on H37Rv and corresponding gene_id\n",
    "    H37Rv_SNP_location = SNP_info.ref_position\n",
    "    SNP_gene_id = SNP_info.gene_id\n",
    "    \n",
    "    #find the genome relative start sites for H37Rv & Reference Genome for GeneID\n",
    "    H37Rv_gene_start = H37Rv_RefGeome_gene_mapping.loc[SNP_gene_id , 'H37Rv_start']\n",
    "    RefGenome_gene_start = H37Rv_RefGeome_gene_mapping.loc[SNP_gene_id , 'RefGenome_start']\n",
    "    \n",
    "    #find 5' - 3' gene-wise coordinate for SNP on H37Rv [location on H37Rv genome - start position of gene]\n",
    "    ## ref_position (from Pilon) starts counting from 1 , H37Rv_start & H37Rv_end start couting from 0\n",
    "    genomic_coord = (H37Rv_SNP_location - 1) - (H37Rv_gene_start)\n",
    "    \n",
    "    #find relevant reference position for RefGenome [genomic_coord + start position of corresponding gene on RefGenome]\n",
    "    RefGenome_SNP_location = RefGenome_gene_start + genomic_coord\n",
    "    \n",
    "    RefGenome_SNP_location_series[SNP_i] = RefGenome_SNP_location\n",
    "    \n",
    "#append newly found alt positions for SNPs to DataFrame with rest of information\n",
    "SNPs_from_all_patients_DF.loc[: , 'RefGenome_position'] = list(RefGenome_SNP_location_series) \n",
    "\n",
    "#DROP repeated SNPs (two variants that have the same RefGenome position)\n",
    "SNP_RefGenome_duplicated_filter = SNPs_from_all_patients_DF.duplicated(subset = ['RefGenome_position'] ,  keep = 'first')\n",
    "SNP_RefGenome_duplicated_filter = [not duplicate_RefGenome_Position for duplicate_RefGenome_Position in SNP_RefGenome_duplicated_filter]\n",
    "\n",
    "SNPs_from_all_patients_DF = SNPs_from_all_patients_DF[SNP_RefGenome_duplicated_filter]\n",
    "\n",
    "#reset index again (after possibly dropping some SNPs that were already represented at the RefGenome Position)\n",
    "SNPs_from_all_patients_DF.reset_index(inplace = True , drop = True)\n",
    "\n",
    "#######################################################################################################################################\n",
    "#Drop Variants into the Sequence of the Reference Genome (keeping track of original base and alt allele being introduced)\n",
    "## SNPs will be called against given Reference Genome\n",
    "\n",
    "#copy reference sequnece (RefGenome)\n",
    "reference_genome_with_variants = reference_genome.seq.tomutable()\n",
    "\n",
    "#keep track of old (real) alleles and introduced alleles\n",
    "real_alleles = pd.Series(index = SNPs_from_all_patients_DF.index)\n",
    "introduced_alleles = pd.Series(index = SNPs_from_all_patients_DF.index)\n",
    "\n",
    "#store starting and ending RefGenome positions of CDS sequence that variant lands on\n",
    "RefGenome_CDS_start = pd.Series(index = SNPs_from_all_patients_DF.index)\n",
    "RefGenome_CDS_end = pd.Series(index = SNPs_from_all_patients_DF.index)\n",
    "\n",
    "#drop variants into reference genome\n",
    "for SNP_i in SNPs_from_all_patients_DF.index:\n",
    "    \n",
    "    SNP_i_info = SNPs_from_all_patients_DF.loc[SNP_i , :]\n",
    "    \n",
    "    SNP_alt_base = SNP_i_info.alt_allele #base that was different in at least 1 isolate-pair\n",
    "    SNP_H37Rv_base = SNP_i_info.ref_allele #base that was on H37Rv\n",
    "    SNP_RefGenome_position = int(SNP_i_info.RefGenome_position - 1.0) #for indexing purposes, start from 0\n",
    "    \n",
    "    gene_id = SNP_i_info.gene_id\n",
    "    RefGenome_CDS_start[SNP_i] = H37Rv_RefGeome_gene_mapping.loc[gene_id , 'RefGenome_start']\n",
    "    RefGenome_CDS_end[SNP_i] = H37Rv_RefGeome_gene_mapping.loc[gene_id , 'RefGenome_end']\n",
    "    \n",
    "    #drop SNP into reference genome\n",
    "    if reference_genome_with_variants[SNP_RefGenome_position] == SNP_H37Rv_base: #Reference Genome Base was the same as in H37Rv\n",
    "        \n",
    "        real_alleles[SNP_i] = reference_genome.seq[SNP_RefGenome_position]\n",
    "        reference_genome_with_variants[SNP_RefGenome_position] = SNP_alt_base #change Reference Genome Base to Alternate Allele\n",
    "        introduced_alleles[SNP_i] = SNP_alt_base\n",
    "        \n",
    "    elif reference_genome_with_variants[SNP_RefGenome_position] != SNP_H37Rv_base: #Reference Genome Base was different from H37Rv\n",
    "        \n",
    "        real_alleles[SNP_i] = reference_genome.seq[SNP_RefGenome_position]\n",
    "        reference_genome_with_variants[SNP_RefGenome_position] = SNP_H37Rv_base #change Reference Genome Base to H37Rv Base\n",
    "        introduced_alleles[SNP_i] = SNP_H37Rv_base\n",
    "        \n",
    "\n",
    "#TABLE WITH INTRODUCED VARIANTS\n",
    "#store records of new and introduced alleles to Reference Genome\n",
    "SNPs_from_all_patients_DF.loc[: , 'RefGenome_real_alleles'] = real_alleles\n",
    "SNPs_from_all_patients_DF.loc[: , 'RefGenome_introduced_alleles'] = introduced_alleles\n",
    "\n",
    "#store start/end sites for corresponding CDS sites on RefGenome\n",
    "SNPs_from_all_patients_DF.loc[: , 'RefGenome_CDS_start'] = RefGenome_CDS_start\n",
    "SNPs_from_all_patients_DF.loc[: , 'RefGenome_CDS_end'] = RefGenome_CDS_end\n",
    "\n",
    "#change column names\n",
    "##### SNPs_from_all_patients_DF.columns = ['H37Rv_alt_base' , 'H37Rv_ref_base' , 'H37Rv_position' , 'gene_id' , 'RefGenome_position' , 'RefGenome_real_alleles' , 'RefGenome_introduced_alleles']\n",
    "\n",
    "#FASTA WITH ALTERED REFERENCE GENOME\n",
    "#convert mutable seq back to normal sequence\n",
    "reference_genome_with_variants = reference_genome_with_variants.toseq()\n",
    "\n",
    "#store in SeqRecord with strain ID\n",
    "reference_genome_with_variants = SeqRecord(reference_genome_with_variants , id = ref_genome_strain)\n",
    "\n",
    "#######################################################################################################################################\n",
    "#STORE VARIOUS FILES IN DIRECTORY FOR REFERENCE GENOME\n",
    "reference_genome_directory = '/n/data1/hms/dbmi/farhat/Roger/inhost_TB_dynamics_project/simulated_reads/reference_sequence_info_and_calls_against_H37Rv/'\n",
    "reference_genome_ID = ref_genome_strain[:-8]\n",
    "\n",
    "#create directory for reference genome (remove then re-create if one already exists)\n",
    "if os.path.exists(reference_genome_directory + reference_genome_ID):\n",
    "    shutil.rmtree(reference_genome_directory + reference_genome_ID)\n",
    "    os.makedirs(reference_genome_directory + reference_genome_ID)\n",
    "elif not os.path.exists(reference_genome_directory + reference_genome_ID):\n",
    "    os.makedirs(reference_genome_directory + reference_genome_ID)\n",
    "    \n",
    "#copy over Reference Sequence fasta\n",
    "copy(ref_genome_fasta  , reference_genome_directory + reference_genome_ID)\n",
    "\n",
    "#copy over Reference Sequence Feature Annotation table\n",
    "copy(ref_strain_genome_annot_files_directory + ref_genome_strain_annotation_filename  , reference_genome_directory + reference_genome_ID)\n",
    "\n",
    "#store altered Reference Sequence w/ introduced variants\n",
    "#write the reference Sequences (with ids) to a FASTA file (this is used to BLAST against)\n",
    "os.chdir(reference_genome_directory + reference_genome_ID)\n",
    "SeqIO.write(reference_genome_with_variants, reference_genome_ID + \"_with_altered_variants.fasta\", \"fasta\")\n",
    "\n",
    "#store record of changes made to the Reference Sequence\n",
    "SNPs_from_all_patients_DF.to_csv(reference_genome_directory + reference_genome_ID + '/' + reference_genome_ID + '_altered_variants_record.csv')\n",
    "\n",
    "# CSV file above stores the SNPs that we will introduce into the Complete Reference Genomes for\n",
    "# genes that we have successfully mapped between a the given Reference Genome & H37Rv. Therefore, \n",
    "# the set of Gene IDs for which we will introduce SNPs in represents the set of Gene IDs that \n",
    "# had good mappings between this Reference Genome & H37Rv\n",
    "\n",
    "##########################################################################################\n",
    "##########################################################################################"
   ]
  },
  {
   "cell_type": "code",
   "execution_count": 74,
   "metadata": {},
   "outputs": [
    {
     "data": {
      "text/plain": [
       "0"
      ]
     },
     "execution_count": 74,
     "metadata": {},
     "output_type": "execute_result"
    }
   ],
   "source": [
    "##########################################################################################\n",
    "##########################################################################################\n",
    "\n",
    "'''\n",
    "This piece of code takes the altered Reference Genome and uses ART to \n",
    "generate reads off of the ALTERED Reference Genome. The simulation \n",
    "parameters for the 'Altered' Reference Genome are going to be similar to \n",
    "the parameters in our real sequencing data. This will simulate how \n",
    "accurate we're able to call the introduced SNPs into the Reference Genome \n",
    "given our pipeline and comparable sequencing quality.\n",
    "'''\n",
    "#directory where fastq file with altered reference sequence is located\n",
    "directory_with_files = reference_genome_directory + reference_genome_ID + '/'\n",
    "\n",
    "#directory/filename of reference sequence with variants\n",
    "RefGenome_with_variants = reference_genome_directory + reference_genome_ID + '/' + reference_genome_ID + \"_with_altered_variants.fasta\"\n",
    "\n",
    "#create directory to store fastq files\n",
    "if not os.path.exists(reference_genome_directory + reference_genome_ID + '/' + 'fastq_files_from_ART_for_ALT_RefGenome'):\n",
    "    os.makedirs(reference_genome_directory + reference_genome_ID + '/' + 'fastq_files_from_ART_for_ALT_RefGenome')\n",
    "\n",
    "#directory & prefix filename to store ART output\n",
    "fastq_directory = reference_genome_directory + reference_genome_ID + '/' + 'fastq_files_from_ART_for_ALT_RefGenome' + '/' + reference_genome_ID + '_ART_'\n",
    "\n",
    "#command to run ART\n",
    "ART = '/home/rv76/Bio_Pipelines/art_bin_MountRainier/art_illumina'\n",
    "\n",
    "#change directory to one with all of the files\n",
    "## parameters\n",
    "## -ss HS10 ; Illumina HiSeq 1000\n",
    "## -l 100 ; read length of 100\n",
    "## -f 80 ; mean coverage of 80x\n",
    "## -p ; paired end reads\n",
    "## -m 200; 200 bp mean size of DNA fragments for paired-end simulations\n",
    "## -s 25; 25 bp standard deviation of DNA fragment size for paired-end simulations\n",
    "\n",
    "art_command = ART + ' -ss HS10 -i ' + RefGenome_with_variants + ' -o ' + fastq_directory + ' -l 100 -f 80 -p -m 200 -s 25'\n",
    "\n",
    "#submit command to simulate reads\n",
    "subprocess.call(art_command , shell = True)\n",
    "\n",
    "#delete aln files from ART output (keep only fastqs)\n",
    "aln_file_1 = fastq_directory + '1.aln'\n",
    "aln_file_2 = fastq_directory + '2.aln'\n",
    "\n",
    "subprocess.call('rm -f ' + aln_file_1 , shell = True)\n",
    "subprocess.call('rm -f ' + aln_file_2 , shell = True)\n",
    "\n",
    "##########################################################################################\n",
    "##########################################################################################"
   ]
  },
  {
   "cell_type": "markdown",
   "metadata": {},
   "source": [
    "#######################################################################################################################################################################################################################################################################################"
   ]
  },
  {
   "cell_type": "markdown",
   "metadata": {},
   "source": [
    "## [2] Submit Jobs for each seperate Reference Genome"
   ]
  },
  {
   "cell_type": "markdown",
   "metadata": {},
   "source": [
    "#######################################################################################################################################################################################################################################################################################"
   ]
  },
  {
   "cell_type": "code",
   "execution_count": 2,
   "metadata": {},
   "outputs": [],
   "source": [
    "from slurmpy import Slurm\n",
    "import os\n",
    "import pandas as pd\n",
    "import numpy as np"
   ]
  },
  {
   "cell_type": "code",
   "execution_count": 3,
   "metadata": {},
   "outputs": [
    {
     "name": "stdout",
     "output_type": "stream",
     "text": [
      "There are 54 Reference Genomes that we will simulate SNPs in.\n"
     ]
    }
   ],
   "source": [
    "#retrieve table of Reference Genomes we will us in simulations\n",
    "ref_seqs_annot = pd.read_csv('/n/data1/hms/dbmi/farhat/Roger/inhost_TB_dynamics_project/simulated_reads/reference_sequences/strains_typed/Reference_Genomes_used_in_simulations.csv').set_index('Unnamed: 0')\n",
    "\n",
    "number_of_Reference_Genomes = np.shape(ref_seqs_annot)[0]\n",
    "\n",
    "print 'There are ' + str(number_of_Reference_Genomes) + ' Reference Genomes that we will simulate SNPs in.'"
   ]
  },
  {
   "cell_type": "code",
   "execution_count": 4,
   "metadata": {
    "scrolled": true
   },
   "outputs": [
    {
     "name": "stderr",
     "output_type": "stream",
     "text": [
      "submitted: Submitted batch job 2969039\n"
     ]
    },
    {
     "name": "stdout",
     "output_type": "stream",
     "text": [
      "RG_0 : 2969039\n"
     ]
    },
    {
     "name": "stderr",
     "output_type": "stream",
     "text": [
      "submitted: Submitted batch job 2969040\n"
     ]
    },
    {
     "name": "stdout",
     "output_type": "stream",
     "text": [
      "RG_1 : 2969040\n"
     ]
    },
    {
     "name": "stderr",
     "output_type": "stream",
     "text": [
      "submitted: Submitted batch job 2969044\n"
     ]
    },
    {
     "name": "stdout",
     "output_type": "stream",
     "text": [
      "RG_2 : 2969044\n"
     ]
    },
    {
     "name": "stderr",
     "output_type": "stream",
     "text": [
      "submitted: Submitted batch job 2969046\n",
      "submitted: Submitted batch job 2969047\n"
     ]
    },
    {
     "name": "stdout",
     "output_type": "stream",
     "text": [
      "RG_3 : 2969046\n",
      "RG_4 : 2969047\n"
     ]
    },
    {
     "name": "stderr",
     "output_type": "stream",
     "text": [
      "submitted: Submitted batch job 2969048\n",
      "submitted: Submitted batch job 2969049\n"
     ]
    },
    {
     "name": "stdout",
     "output_type": "stream",
     "text": [
      "RG_5 : 2969048\n",
      "RG_6 : 2969049\n"
     ]
    },
    {
     "name": "stderr",
     "output_type": "stream",
     "text": [
      "submitted: Submitted batch job 2969050\n"
     ]
    },
    {
     "name": "stdout",
     "output_type": "stream",
     "text": [
      "RG_7 : 2969050\n"
     ]
    },
    {
     "name": "stderr",
     "output_type": "stream",
     "text": [
      "submitted: Submitted batch job 2969051\n"
     ]
    },
    {
     "name": "stdout",
     "output_type": "stream",
     "text": [
      "RG_8 : 2969051\n"
     ]
    },
    {
     "name": "stderr",
     "output_type": "stream",
     "text": [
      "submitted: Submitted batch job 2969052\n"
     ]
    },
    {
     "name": "stdout",
     "output_type": "stream",
     "text": [
      "RG_9 : 2969052\n"
     ]
    },
    {
     "name": "stderr",
     "output_type": "stream",
     "text": [
      "submitted: Submitted batch job 2969053\n"
     ]
    },
    {
     "name": "stdout",
     "output_type": "stream",
     "text": [
      "RG_10 : 2969053\n"
     ]
    },
    {
     "name": "stderr",
     "output_type": "stream",
     "text": [
      "submitted: Submitted batch job 2969054\n",
      "submitted: Submitted batch job 2969055\n"
     ]
    },
    {
     "name": "stdout",
     "output_type": "stream",
     "text": [
      "RG_11 : 2969054\n",
      "RG_12 : 2969055\n"
     ]
    },
    {
     "name": "stderr",
     "output_type": "stream",
     "text": [
      "submitted: Submitted batch job 2969056\n",
      "submitted: Submitted batch job 2969057\n"
     ]
    },
    {
     "name": "stdout",
     "output_type": "stream",
     "text": [
      "RG_13 : 2969056\n",
      "RG_14 : 2969057\n"
     ]
    },
    {
     "name": "stderr",
     "output_type": "stream",
     "text": [
      "submitted: Submitted batch job 2969058\n",
      "submitted: Submitted batch job 2969059\n",
      "submitted: Submitted batch job 2969060\n",
      "submitted: Submitted batch job 2969061\n",
      "submitted: Submitted batch job 2969062\n"
     ]
    },
    {
     "name": "stdout",
     "output_type": "stream",
     "text": [
      "RG_15 : 2969058\n",
      "RG_16 : 2969059\n",
      "RG_17 : 2969060\n",
      "RG_18 : 2969061\n",
      "RG_19 : 2969062\n"
     ]
    },
    {
     "name": "stderr",
     "output_type": "stream",
     "text": [
      "submitted: Submitted batch job 2969063\n"
     ]
    },
    {
     "name": "stdout",
     "output_type": "stream",
     "text": [
      "RG_20 : 2969063\n"
     ]
    },
    {
     "name": "stderr",
     "output_type": "stream",
     "text": [
      "submitted: Submitted batch job 2969064\n"
     ]
    },
    {
     "name": "stdout",
     "output_type": "stream",
     "text": [
      "RG_21 : 2969064\n"
     ]
    },
    {
     "name": "stderr",
     "output_type": "stream",
     "text": [
      "submitted: Submitted batch job 2969065\n",
      "submitted: Submitted batch job 2969066\n"
     ]
    },
    {
     "name": "stdout",
     "output_type": "stream",
     "text": [
      "RG_22 : 2969065\n",
      "RG_23 : 2969066\n"
     ]
    },
    {
     "name": "stderr",
     "output_type": "stream",
     "text": [
      "submitted: Submitted batch job 2969067\n",
      "submitted: Submitted batch job 2969068\n",
      "submitted: Submitted batch job 2969069\n",
      "submitted: Submitted batch job 2969070\n",
      "submitted: Submitted batch job 2969071\n"
     ]
    },
    {
     "name": "stdout",
     "output_type": "stream",
     "text": [
      "RG_24 : 2969067\n",
      "RG_25 : 2969068\n",
      "RG_26 : 2969069\n",
      "RG_27 : 2969070\n",
      "RG_28 : 2969071\n"
     ]
    },
    {
     "name": "stderr",
     "output_type": "stream",
     "text": [
      "submitted: Submitted batch job 2969072\n",
      "submitted: Submitted batch job 2969073\n",
      "submitted: Submitted batch job 2969074\n",
      "submitted: Submitted batch job 2969075\n"
     ]
    },
    {
     "name": "stdout",
     "output_type": "stream",
     "text": [
      "RG_29 : 2969072\n",
      "RG_30 : 2969073\n",
      "RG_31 : 2969074\n",
      "RG_32 : 2969075\n"
     ]
    },
    {
     "name": "stderr",
     "output_type": "stream",
     "text": [
      "submitted: Submitted batch job 2969076\n",
      "submitted: Submitted batch job 2969077\n",
      "submitted: Submitted batch job 2969078\n",
      "submitted: Submitted batch job 2969079\n"
     ]
    },
    {
     "name": "stdout",
     "output_type": "stream",
     "text": [
      "RG_33 : 2969076\n",
      "RG_34 : 2969077\n",
      "RG_35 : 2969078\n",
      "RG_36 : 2969079\n"
     ]
    },
    {
     "name": "stderr",
     "output_type": "stream",
     "text": [
      "submitted: Submitted batch job 2969080\n"
     ]
    },
    {
     "name": "stdout",
     "output_type": "stream",
     "text": [
      "RG_37 : 2969080\n"
     ]
    },
    {
     "name": "stderr",
     "output_type": "stream",
     "text": [
      "submitted: Submitted batch job 2969081\n",
      "submitted: Submitted batch job 2969082\n",
      "submitted: Submitted batch job 2969083\n",
      "submitted: Submitted batch job 2969084\n",
      "submitted: Submitted batch job 2969085\n"
     ]
    },
    {
     "name": "stdout",
     "output_type": "stream",
     "text": [
      "RG_38 : 2969081\n",
      "RG_39 : 2969082\n",
      "RG_40 : 2969083\n",
      "RG_41 : 2969084\n",
      "RG_42 : 2969085\n"
     ]
    },
    {
     "name": "stderr",
     "output_type": "stream",
     "text": [
      "submitted: Submitted batch job 2969086\n"
     ]
    },
    {
     "name": "stdout",
     "output_type": "stream",
     "text": [
      "RG_43 : 2969086\n"
     ]
    },
    {
     "name": "stderr",
     "output_type": "stream",
     "text": [
      "submitted: Submitted batch job 2969087\n",
      "submitted: Submitted batch job 2969088\n",
      "submitted: Submitted batch job 2969089\n",
      "submitted: Submitted batch job 2969090\n"
     ]
    },
    {
     "name": "stdout",
     "output_type": "stream",
     "text": [
      "RG_44 : 2969087\n",
      "RG_45 : 2969088\n",
      "RG_46 : 2969089\n",
      "RG_47 : 2969090\n"
     ]
    },
    {
     "name": "stderr",
     "output_type": "stream",
     "text": [
      "submitted: Submitted batch job 2969091\n",
      "submitted: Submitted batch job 2969092\n",
      "submitted: Submitted batch job 2969093\n",
      "submitted: Submitted batch job 2969094\n",
      "submitted: Submitted batch job 2969095\n"
     ]
    },
    {
     "name": "stdout",
     "output_type": "stream",
     "text": [
      "RG_48 : 2969091\n",
      "RG_49 : 2969092\n",
      "RG_50 : 2969093\n",
      "RG_51 : 2969094\n",
      "RG_52 : 2969095\n",
      "RG_53 : 2969096\n"
     ]
    },
    {
     "name": "stderr",
     "output_type": "stream",
     "text": [
      "submitted: Submitted batch job 2969096\n"
     ]
    }
   ],
   "source": [
    "#Choose a specific reference genome, pull sequence & annotation; compare to H37Rv (indexed: 0 - 53)\n",
    "for ref_genome_i in range(0 , number_of_Reference_Genomes):\n",
    "\n",
    "    ref_genome_i = str(ref_genome_i)\n",
    "\n",
    "    #command to run script\n",
    "    run_script = \"python /n/data1/hms/dbmi/farhat/Roger/inhost_TB_dynamics_project/python_scripts/RefGenome_with_variants_reads_sim_against_H37Rv_rough_window_match.py \" + ref_genome_i\n",
    "\n",
    "    #submit job to O2\n",
    "    #directory where you want output + error files\n",
    "    os.chdir(\"/n/data1/hms/dbmi/farhat/Roger/inhost_TB_dynamics_project/simulated_reads/O2_jobs_output/RefGenome_ART_reads_simulations\")\n",
    "\n",
    "    #submit job to O2\n",
    "    job_name = 'RG_' + ref_genome_i\n",
    "\n",
    "    s = Slurm(job_name , {'partition':'short' , 'n':'1' , 't':'0-01:30:00' , 'mem-per-cpu':'16G' , 'mail-type':'FAIL' , 'mail-user':'roger_vargas@g.harvard.edu'})\n",
    "\n",
    "    #submits the job\n",
    "    job_id = s.run(run_script)\n",
    "\n",
    "    print job_name  + ' : ' +  str(job_id)"
   ]
  },
  {
   "cell_type": "code",
   "execution_count": null,
   "metadata": {
    "collapsed": true
   },
   "outputs": [],
   "source": []
  }
 ],
 "metadata": {
  "kernelspec": {
   "display_name": "Python 2",
   "language": "python",
   "name": "python2"
  },
  "language_info": {
   "codemirror_mode": {
    "name": "ipython",
    "version": 2
   },
   "file_extension": ".py",
   "mimetype": "text/x-python",
   "name": "python",
   "nbconvert_exporter": "python",
   "pygments_lexer": "ipython2",
   "version": "2.7.16"
  }
 },
 "nbformat": 4,
 "nbformat_minor": 2
}
