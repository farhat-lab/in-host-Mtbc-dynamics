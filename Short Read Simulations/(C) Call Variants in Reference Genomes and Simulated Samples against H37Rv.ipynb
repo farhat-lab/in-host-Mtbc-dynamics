{
 "cells": [
  {
   "cell_type": "markdown",
   "metadata": {},
   "source": [
    "#### This notebook runs a smallPipe script for all of the Reference Genomes that have corresponding FeatureCounts tables and have had variants introduced"
   ]
  },
  {
   "cell_type": "code",
   "execution_count": 1,
   "metadata": {},
   "outputs": [
    {
     "data": {
      "text/html": [
       "<style>.container { width:100% !important; }</style>"
      ],
      "text/plain": [
       "<IPython.core.display.HTML object>"
      ]
     },
     "metadata": {},
     "output_type": "display_data"
    }
   ],
   "source": [
    "from IPython.core.display import display, HTML\n",
    "display(HTML(\"<style>.container { width:100% !important; }</style>\"))\n",
    "%matplotlib inline"
   ]
  },
  {
   "cell_type": "code",
   "execution_count": 2,
   "metadata": {},
   "outputs": [],
   "source": [
    "import os\n",
    "import pandas as pd\n",
    "import numpy as np\n",
    "import subprocess\n",
    "import vcf\n",
    "import shutil\n",
    "from slurmpy import Slurm"
   ]
  },
  {
   "cell_type": "markdown",
   "metadata": {},
   "source": [
    "#### Get the number of Reference Genomes we want to run Small Pipe on"
   ]
  },
  {
   "cell_type": "code",
   "execution_count": 3,
   "metadata": {},
   "outputs": [],
   "source": [
    "#number of Reference Genome folders with simulated fastq files for both Unaltered and Altered Reference Genomes\n",
    "Number_of_Reference_Genomes = len( os.listdir('/n/data1/hms/dbmi/farhat/Roger/inhost_TB_dynamics_project/simulated_reads/reference_sequence_info_and_calls_against_H37Rv/') )"
   ]
  },
  {
   "cell_type": "markdown",
   "metadata": {},
   "source": [
    "### [1] UN-ALTERED RefGenome"
   ]
  },
  {
   "cell_type": "code",
   "execution_count": 4,
   "metadata": {
    "scrolled": false
   },
   "outputs": [],
   "source": [
    "def Launch_MUMmer_Unaltered_RefGenome(RefGenome_i):\n",
    "    \n",
    "    ###############################################################################################################\n",
    "    ###################################### Create Directories & Get File Paths ####################################\n",
    "    ###############################################################################################################\n",
    "\n",
    "    RefGenome_Directory = '/n/data1/hms/dbmi/farhat/Roger/inhost_TB_dynamics_project/simulated_reads/reference_sequence_info_and_calls_against_H37Rv/'\n",
    "    os.chdir(RefGenome_Directory)\n",
    "\n",
    "    #Good Reference Genomes (determined from from gene-length sliding window analyses)\n",
    "    RefGenome_folders = os.listdir(RefGenome_Directory)\n",
    "    RefGenome_folder = RefGenome_folders[RefGenome_i]\n",
    "\n",
    "    #SPECIFY REFERENCE GENOME\n",
    "    RefGenome_Directory_with_files = RefGenome_Directory + RefGenome_folder\n",
    "    \n",
    "    #paths & name for complete genome\n",
    "    RefGenome_fasta_file = RefGenome_Directory_with_files + '/' + RefGenome_folder + '_genomic.fasta'\n",
    "\n",
    "    #tag ID for use in naming files\n",
    "    tag = RefGenome_folder\n",
    "\n",
    "    #H37Rv Reference Genome Path\n",
    "    H37Rv_fasta_file = '/n/data1/hms/dbmi/farhat/bin/work-horse/bin/h37rv.fasta' #H37Rv reference\n",
    "\n",
    "    #create directory to store MUMmer output files\n",
    "    out_dir = RefGenome_Directory_with_files + '/' + 'MUMmer_output_RefGenome'\n",
    "\n",
    "    if os.path.exists(out_dir):\n",
    "        shutil.rmtree(out_dir)\n",
    "        os.makedirs(out_dir)\n",
    "    elif not os.path.exists(out_dir):\n",
    "        os.makedirs(out_dir)\n",
    "        \n",
    "    #create directory to store O2 SLURM logs\n",
    "    SLURM_log_dir = out_dir + '/' + 'O2_SLURM_logs'\n",
    "\n",
    "    if os.path.exists(SLURM_log_dir):\n",
    "        shutil.rmtree(SLURM_log_dir)\n",
    "        os.makedirs(SLURM_log_dir)\n",
    "    elif not os.path.exists(SLURM_log_dir):\n",
    "        os.makedirs(SLURM_log_dir)\n",
    "\n",
    "    ###############################################################################################################\n",
    "    ######################################## Construct job to submit to O2 ########################################\n",
    "    ###############################################################################################################\n",
    "\n",
    "    #store all commands in a list\n",
    "    commands_list = []\n",
    "\n",
    "    ###################################\n",
    "    ### Load Necessary Modules ########\n",
    "    ###################################\n",
    "\n",
    "    #load perl\n",
    "    commands_list.append( 'module load perl/5.24.0' )\n",
    "\n",
    "    ###################################\n",
    "    #### Run NUCMER & collect SNPs ####\n",
    "    ###################################\n",
    "    \n",
    "    #change working directory to output directory\n",
    "    commands_list.append( 'cd {}'.format(out_dir) )\n",
    "    \n",
    "    #run Nucmer\n",
    "    commands_list.append( 'nucmer -mum --prefix=H37Rv_{0} {1} {2}'.format(tag, H37Rv_fasta_file, RefGenome_fasta_file) )\n",
    "    \n",
    "    #attempt to determine 'correct' repeat copies in repeat regions, eliminates conflicting repeat copies\n",
    "    commands_list.append( 'delta-filter -r -q H37Rv_{0}.delta > H37Rv_{0}.filter'.format(tag) )\n",
    "    \n",
    "    #call SNPs, -C option assures only SNPs in uniquely aligned sequence will be reported (excludes SNPs in repeats)\n",
    "    commands_list.append( 'show-snps -Clr -T H37Rv_{0}.filter > H37Rv_{0}.snps'.format(tag) )\n",
    "\n",
    "\n",
    "    ###############################################################################################################\n",
    "    ######################################## SUBMIT the job to O2 #################################################\n",
    "    ###############################################################################################################\n",
    "\n",
    "    #append all commands in a single string to be submitted as a job\n",
    "    MUMmer_job = ''\n",
    "    for command_i in commands_list:\n",
    "\n",
    "        MUMmer_job = MUMmer_job + '\\n' + command_i\n",
    "    \n",
    "    \n",
    "    #directory where you want output + error files\n",
    "    os.chdir(SLURM_log_dir)\n",
    "\n",
    "    job_name = 'U_RG_' + str(RefGenome_i)\n",
    "\n",
    "    #submit MUMmer/nucmer job via SLURM\n",
    "    s = Slurm(job_name , {'partition':'short' , 'n':'1' , 't':'0-0:20:00' , 'mem-per-cpu':'8G' , 'mail-type':'FAIL' , 'mail-user':'roger_vargas@g.harvard.edu'})\n",
    "\n",
    "    #submits the job\n",
    "    job_id = s.run(MUMmer_job)\n",
    "\n",
    "    print job_name  + ' : ' +  str(job_id)"
   ]
  },
  {
   "cell_type": "code",
   "execution_count": 5,
   "metadata": {},
   "outputs": [
    {
     "name": "stderr",
     "output_type": "stream",
     "text": [
      "submitted: Submitted batch job 2971854\n"
     ]
    },
    {
     "name": "stdout",
     "output_type": "stream",
     "text": [
      "U_RG_0 : 2971854\n"
     ]
    },
    {
     "name": "stderr",
     "output_type": "stream",
     "text": [
      "submitted: Submitted batch job 2971855\n"
     ]
    },
    {
     "name": "stdout",
     "output_type": "stream",
     "text": [
      "U_RG_1 : 2971855\n"
     ]
    },
    {
     "name": "stderr",
     "output_type": "stream",
     "text": [
      "submitted: Submitted batch job 2971856\n",
      "submitted: Submitted batch job 2971857\n",
      "submitted: Submitted batch job 2971858\n"
     ]
    },
    {
     "name": "stdout",
     "output_type": "stream",
     "text": [
      "U_RG_2 : 2971856\n",
      "U_RG_3 : 2971857\n",
      "U_RG_4 : 2971858\n"
     ]
    },
    {
     "name": "stderr",
     "output_type": "stream",
     "text": [
      "submitted: Submitted batch job 2971859\n",
      "submitted: Submitted batch job 2971860\n",
      "submitted: Submitted batch job 2971861\n",
      "submitted: Submitted batch job 2971862\n"
     ]
    },
    {
     "name": "stdout",
     "output_type": "stream",
     "text": [
      "U_RG_5 : 2971859\n",
      "U_RG_6 : 2971860\n",
      "U_RG_7 : 2971861\n",
      "U_RG_8 : 2971862\n"
     ]
    },
    {
     "name": "stderr",
     "output_type": "stream",
     "text": [
      "submitted: Submitted batch job 2971863\n",
      "submitted: Submitted batch job 2971864\n",
      "submitted: Submitted batch job 2971865\n"
     ]
    },
    {
     "name": "stdout",
     "output_type": "stream",
     "text": [
      "U_RG_9 : 2971863\n",
      "U_RG_10 : 2971864\n",
      "U_RG_11 : 2971865\n"
     ]
    },
    {
     "name": "stderr",
     "output_type": "stream",
     "text": [
      "submitted: Submitted batch job 2971866\n"
     ]
    },
    {
     "name": "stdout",
     "output_type": "stream",
     "text": [
      "U_RG_12 : 2971866\n"
     ]
    },
    {
     "name": "stderr",
     "output_type": "stream",
     "text": [
      "submitted: Submitted batch job 2971867\n",
      "submitted: Submitted batch job 2971868\n",
      "submitted: Submitted batch job 2971869\n",
      "submitted: Submitted batch job 2971870\n"
     ]
    },
    {
     "name": "stdout",
     "output_type": "stream",
     "text": [
      "U_RG_13 : 2971867\n",
      "U_RG_14 : 2971868\n",
      "U_RG_15 : 2971869\n",
      "U_RG_16 : 2971870\n"
     ]
    },
    {
     "name": "stderr",
     "output_type": "stream",
     "text": [
      "submitted: Submitted batch job 2971871\n",
      "submitted: Submitted batch job 2971872\n",
      "submitted: Submitted batch job 2971873\n",
      "submitted: Submitted batch job 2971874\n"
     ]
    },
    {
     "name": "stdout",
     "output_type": "stream",
     "text": [
      "U_RG_17 : 2971871\n",
      "U_RG_18 : 2971872\n",
      "U_RG_19 : 2971873\n",
      "U_RG_20 : 2971874\n"
     ]
    },
    {
     "name": "stderr",
     "output_type": "stream",
     "text": [
      "submitted: Submitted batch job 2971875\n",
      "submitted: Submitted batch job 2971876\n"
     ]
    },
    {
     "name": "stdout",
     "output_type": "stream",
     "text": [
      "U_RG_21 : 2971875\n",
      "U_RG_22 : 2971876\n"
     ]
    },
    {
     "name": "stderr",
     "output_type": "stream",
     "text": [
      "submitted: Submitted batch job 2971877\n",
      "submitted: Submitted batch job 2971878\n",
      "submitted: Submitted batch job 2971879\n",
      "submitted: Submitted batch job 2971880\n"
     ]
    },
    {
     "name": "stdout",
     "output_type": "stream",
     "text": [
      "U_RG_23 : 2971877\n",
      "U_RG_24 : 2971878\n",
      "U_RG_25 : 2971879\n",
      "U_RG_26 : 2971880\n"
     ]
    },
    {
     "name": "stderr",
     "output_type": "stream",
     "text": [
      "submitted: Submitted batch job 2971881\n",
      "submitted: Submitted batch job 2971882\n",
      "submitted: Submitted batch job 2971883\n",
      "submitted: Submitted batch job 2971884\n"
     ]
    },
    {
     "name": "stdout",
     "output_type": "stream",
     "text": [
      "U_RG_27 : 2971881\n",
      "U_RG_28 : 2971882\n",
      "U_RG_29 : 2971883\n",
      "U_RG_30 : 2971884\n"
     ]
    },
    {
     "name": "stderr",
     "output_type": "stream",
     "text": [
      "submitted: Submitted batch job 2971885\n",
      "submitted: Submitted batch job 2971886\n",
      "submitted: Submitted batch job 2971887\n",
      "submitted: Submitted batch job 2971888\n"
     ]
    },
    {
     "name": "stdout",
     "output_type": "stream",
     "text": [
      "U_RG_31 : 2971885\n",
      "U_RG_32 : 2971886\n",
      "U_RG_33 : 2971887\n",
      "U_RG_34 : 2971888\n"
     ]
    },
    {
     "name": "stderr",
     "output_type": "stream",
     "text": [
      "submitted: Submitted batch job 2971889\n"
     ]
    },
    {
     "name": "stdout",
     "output_type": "stream",
     "text": [
      "U_RG_35 : 2971889\n"
     ]
    },
    {
     "name": "stderr",
     "output_type": "stream",
     "text": [
      "submitted: Submitted batch job 2971890\n"
     ]
    },
    {
     "name": "stdout",
     "output_type": "stream",
     "text": [
      "U_RG_36 : 2971890\n"
     ]
    },
    {
     "name": "stderr",
     "output_type": "stream",
     "text": [
      "submitted: Submitted batch job 2971891\n",
      "submitted: Submitted batch job 2971892\n",
      "submitted: Submitted batch job 2971893\n",
      "submitted: Submitted batch job 2971894\n"
     ]
    },
    {
     "name": "stdout",
     "output_type": "stream",
     "text": [
      "U_RG_37 : 2971891\n",
      "U_RG_38 : 2971892\n",
      "U_RG_39 : 2971893\n",
      "U_RG_40 : 2971894\n"
     ]
    },
    {
     "name": "stderr",
     "output_type": "stream",
     "text": [
      "submitted: Submitted batch job 2971895\n",
      "submitted: Submitted batch job 2971896\n"
     ]
    },
    {
     "name": "stdout",
     "output_type": "stream",
     "text": [
      "U_RG_41 : 2971895\n",
      "U_RG_42 : 2971896\n"
     ]
    },
    {
     "name": "stderr",
     "output_type": "stream",
     "text": [
      "submitted: Submitted batch job 2971897\n",
      "submitted: Submitted batch job 2971898\n",
      "submitted: Submitted batch job 2971899\n"
     ]
    },
    {
     "name": "stdout",
     "output_type": "stream",
     "text": [
      "U_RG_43 : 2971897\n",
      "U_RG_44 : 2971898\n",
      "U_RG_45 : 2971899\n"
     ]
    },
    {
     "name": "stderr",
     "output_type": "stream",
     "text": [
      "submitted: Submitted batch job 2971900\n",
      "submitted: Submitted batch job 2971901\n",
      "submitted: Submitted batch job 2971902\n",
      "submitted: Submitted batch job 2971903\n"
     ]
    },
    {
     "name": "stdout",
     "output_type": "stream",
     "text": [
      "U_RG_46 : 2971900\n",
      "U_RG_47 : 2971901\n",
      "U_RG_48 : 2971902\n",
      "U_RG_49 : 2971903\n",
      "U_RG_50 : 2971904\n",
      "U_RG_51 : 2971905\n",
      "U_RG_52 : 2971906\n",
      "U_RG_53 : 2971907\n"
     ]
    },
    {
     "name": "stderr",
     "output_type": "stream",
     "text": [
      "submitted: Submitted batch job 2971904\n",
      "submitted: Submitted batch job 2971905\n",
      "submitted: Submitted batch job 2971906\n",
      "submitted: Submitted batch job 2971907\n"
     ]
    }
   ],
   "source": [
    "#submit a job for each of the RefGenomes (that have a feature annotation file & a good H37Rv gene - RefGenome CDS mapping) ; 0-53\n",
    "for RefGenome_i in range(0 , Number_of_Reference_Genomes):\n",
    "    \n",
    "    Launch_MUMmer_Unaltered_RefGenome(RefGenome_i)"
   ]
  },
  {
   "cell_type": "markdown",
   "metadata": {
    "collapsed": true
   },
   "source": [
    "### [2] ALTERED RefGenome"
   ]
  },
  {
   "cell_type": "code",
   "execution_count": 6,
   "metadata": {},
   "outputs": [],
   "source": [
    "def Launch_SmallPipe_Altered_RefGenome(RefGenome_i):\n",
    "    \n",
    "    ###############################################################################################################\n",
    "    ###################################### Create Directories & Get File Paths ####################################\n",
    "    ###############################################################################################################\n",
    "\n",
    "    RefGenome_Directory = '/n/data1/hms/dbmi/farhat/Roger/inhost_TB_dynamics_project/simulated_reads/reference_sequence_info_and_calls_against_H37Rv/'\n",
    "    os.chdir(RefGenome_Directory)\n",
    "\n",
    "    #Good Reference Genomes (determined from from gene-length sliding window analyses)\n",
    "    RefGenome_folders = os.listdir(RefGenome_Directory)\n",
    "    RefGenome_folder = RefGenome_folders[RefGenome_i]\n",
    "\n",
    "    #SPECIFY REFERENCE GENOME\n",
    "    RefGenome_Directory_with_files = RefGenome_Directory + RefGenome_folder\n",
    "\n",
    "    #paths & names for simulated fastq files\n",
    "    fqf1 = RefGenome_Directory_with_files + '/' + 'fastq_files_from_ART_for_ALT_RefGenome/' + RefGenome_folder + '_ART_1.fq'\n",
    "    fqf2 = RefGenome_Directory_with_files + '/' + 'fastq_files_from_ART_for_ALT_RefGenome/' + RefGenome_folder + '_ART_2.fq'\n",
    "\n",
    "    #tag ID for use in naming files\n",
    "    tag = RefGenome_folder\n",
    "\n",
    "    #H37Rv Reference Genome Path\n",
    "    RefGen = RefGenome_Directory_with_files + '/RefGen/TBRefGen.fasta' #H37Rv reference\n",
    "\n",
    "    #create directory to store Reference Genome and corresponding Index Files\n",
    "    RefGen_dir = RefGenome_Directory_with_files + '/' + 'RefGen'\n",
    "\n",
    "    if os.path.exists(RefGen_dir):\n",
    "        shutil.rmtree(RefGen_dir)\n",
    "        os.makedirs(RefGen_dir)\n",
    "    elif not os.path.exists(RefGen_dir):\n",
    "        os.makedirs(RefGen_dir)\n",
    "\n",
    "    #create directory to store pilon VCF, prinseq & Qualimap logs\n",
    "    out_dir = RefGenome_Directory_with_files + '/' + 'SmPipe_output_ALT_RefGenome'\n",
    "\n",
    "    if os.path.exists(out_dir):\n",
    "        shutil.rmtree(out_dir)\n",
    "        os.makedirs(out_dir)\n",
    "    elif not os.path.exists(out_dir):\n",
    "        os.makedirs(out_dir)\n",
    "\n",
    "    #create directory to store intermediary files (trimmed fastq, SAM, sorted BAM, sorted BAM w/ duplicates removed)\n",
    "    temp_dir = RefGenome_Directory_with_files + '/' + 'temp_for_intermediary_steps'\n",
    "\n",
    "    if os.path.exists(temp_dir):\n",
    "        shutil.rmtree(temp_dir)\n",
    "        os.makedirs(temp_dir)\n",
    "    elif not os.path.exists(temp_dir):\n",
    "        os.makedirs(temp_dir)\n",
    "\n",
    "    #create directory to store O2 SLURM logs\n",
    "    SLURM_log_dir = out_dir + '/' + 'O2_SLURM_logs'\n",
    "\n",
    "    if os.path.exists(SLURM_log_dir):\n",
    "        shutil.rmtree(SLURM_log_dir)\n",
    "        os.makedirs(SLURM_log_dir)\n",
    "    elif not os.path.exists(SLURM_log_dir):\n",
    "        os.makedirs(SLURM_log_dir)\n",
    "\n",
    "    ###############################################################################################################\n",
    "    ######################################## Construct job to submit to O2 ########################################\n",
    "    ###############################################################################################################\n",
    "\n",
    "    #store all commands in a list\n",
    "    commands_list = []\n",
    "\n",
    "    #change directory to 1 with fastq files\n",
    "    commands_list.append( 'cd ' + RefGenome_Directory_with_files )\n",
    "\n",
    "    ###################################\n",
    "    ### Load Necessary Modules ########\n",
    "    ###################################\n",
    "\n",
    "    #load perl\n",
    "    commands_list.append( 'module load perl/5.24.0' )\n",
    "\n",
    "    #load java\n",
    "    commands_list.append( 'module load java/jdk-1.8u112' )\n",
    "\n",
    "    #load BWA\n",
    "    commands_list.append( 'module load bwa/0.7.15' )\n",
    "\n",
    "    #load Samtools\n",
    "    commands_list.append( 'module load samtools/1.3.1' )\n",
    "\n",
    "    #load BCFtools\n",
    "    commands_list.append( 'module load bcftools/1.3.1' )\n",
    "\n",
    "    #load Picard\n",
    "    commands_list.append( 'module load picard/2.8.0' )\n",
    "\n",
    "    #copy reference genome over to RefGen folder\n",
    "    commands_list.append( 'cp /n/data1/hms/dbmi/farhat/bin/work-horse/bin/h37rv.fasta RefGen/TBRefGen.fasta' )\n",
    "\n",
    "    #change directory to RefGen folder\n",
    "    commands_list.append( 'cd RefGen' )\n",
    "\n",
    "    ###################################\n",
    "    ### Create Index Files for H37Rv ##\n",
    "    ###################################\n",
    "    commands_list.append( 'samtools faidx TBRefGen.fasta' )\n",
    "    commands_list.append( 'bwa index TBRefGen.fasta' )\n",
    "\n",
    "    #Go back up a directory\n",
    "    commands_list.append( 'cd ..' )\n",
    "\n",
    "    ####################################\n",
    "    ### PRINSEQ (trim reads) ##########\n",
    "    ###################################\n",
    "\n",
    "    #create directory for prinseq in output directory\n",
    "    commands_list.append( 'mkdir ' + out_dir + '/prinseq' )\n",
    "\n",
    "    commands_list.append( 'perl /n/data1/hms/dbmi/farhat/bin/prinseq-lite-0.20.4/prinseq-lite.pl -fastq {0} -fastq2 {1} -out_format 3 -out_good {2}/{3}-trimmed -out_bad null -log {4}/{3}-trimmed.log -min_qual_mean 20 -verbose'.format(fqf1, fqf2, temp_dir, tag , out_dir+'/prinseq') )\n",
    "\n",
    "    #use newly trimmed fastq files now\n",
    "    fqf1 = temp_dir + '/{}'.format(tag) + '-trimmed_1.fastq'\n",
    "    fqf2 = temp_dir + '/{}'.format(tag) + '-trimmed_2.fastq'\n",
    "\n",
    "    ######################################\n",
    "    ### BWA (align reads to reference) ###\n",
    "    ######################################\n",
    "\n",
    "    #create SAM file\n",
    "    samfile = temp_dir + '/{}.sam'.format(tag)\n",
    "\n",
    "    #run BWA\n",
    "    commands_list.append( 'bwa mem -M {3} {0} {1} > {2}'.format(fqf1 , fqf2 , samfile , RefGen) )\n",
    "\n",
    "    #####################################\n",
    "    ### PICARD (sort & convert to BAM) ##\n",
    "    #####################################\n",
    "\n",
    "    #create BAM file\n",
    "    bamfile = temp_dir + '/{0}.sorted.bam'.format(tag)\n",
    "\n",
    "    commands_list.append( 'java -Xmx16G -jar /n/data1/hms/dbmi/farhat/bin/picard/picard/build/libs/picard.jar SortSam INPUT={0} OUTPUT={1} SORT_ORDER=coordinate'.format(samfile, bamfile) )\n",
    "\n",
    "    ####################################\n",
    "    ### PICARD (remove duplicates) ####\n",
    "    ###################################\n",
    "\n",
    "    #create BAM file with removed duplicates\n",
    "    drbamfile = bamfile.replace(\".bam\", \".duprem.bam\")\n",
    "\n",
    "    #remove duplicates from BAM file\n",
    "    commands_list.append( \"java -Xmx32G -jar /n/data1/hms/dbmi/farhat/bin/picard/picard/build/libs/picard.jar MarkDuplicates I={0} O={1} REMOVE_DUPLICATES=true M={2} ASSUME_SORT_ORDER=coordinate\".format(bamfile, drbamfile, drbamfile[:-4]+'.metrics') )\n",
    "\n",
    "    ####################################\n",
    "    ### SAMTOOLS (to index BAM file) ###\n",
    "    ####################################\n",
    "\n",
    "    commands_list.append( \"samtools index {0}\".format(drbamfile) )\n",
    "\n",
    "    ######################################\n",
    "    ### QUALIMAP (quality of BAM file) ###\n",
    "    ######################################\n",
    "\n",
    "    #store quality report, pilon VCF & lineage call information all in Output directory\n",
    "    commands_list.append( 'cd ' + out_dir )\n",
    "    commands_list.append( 'mkdir QualiMap' ) #make a folder for pilon output in output directory\n",
    "    commands_list.append( 'unset DISPLAY' ) #unset JAVA virtual machine variable [http://qualimap.bioinfo.cipf.es/doc_html/faq.html]\n",
    "    commands_list.append( \"/n/data1/hms/dbmi/farhat/bin/qualimap_v2.2.1/qualimap bamqc -bam {0} --outdir {1} --outfile {2}.pdf --outformat PDF\".format(drbamfile, out_dir+'/QualiMap', tag+'_stats') )\n",
    "\n",
    "    ###################################\n",
    "    ### PILON (call variants) #########\n",
    "    ###################################\n",
    "\n",
    "    #store quality report, pilon VCF & lineage call information all in Output directory\n",
    "    commands_list.append( 'mkdir pilon' ) #make a folder for pilon output in output directory\n",
    "    out_pilon_dir = out_dir + '/pilon/' #variable for pilon output path\n",
    "\n",
    "    commands_list.append( 'java -Xmx32G -jar /n/data1/hms/dbmi/farhat/bin/pilon/pilon-1.22.jar --genome {0} --bam {1} --output {2} --outdir {3} --variant'.format(RefGen, drbamfile, tag, out_pilon_dir) )\n",
    "\n",
    "    ###################################\n",
    "    ### DELETE UNNECESSSRY FILES ######\n",
    "    ###################################\n",
    "    \n",
    "    #delete directory containing following files\n",
    "    # trimmed fastq files\n",
    "    # fastq trimming log\n",
    "    # SAM file produced by running BWA on original or trimmed fastq\n",
    "    # sorted BAM file\n",
    "    # sorted BAM file with removed duplicates\n",
    "    # output text from picard after discarding duplicates\n",
    "    # index file corresponding to sorted BAM file with or without removed duplicates\n",
    "    commands_list.append( 'rm -rf {}'.format(temp_dir) )\n",
    "\n",
    "    #delete RefGen\n",
    "    commands_list.append( 'rm -rf {}'.format(RefGen_dir) )\n",
    "    \n",
    "    #delete fastq files simulate off of Altered Reference Genome\n",
    "    commands_list.append( 'rm -rf {}'.format(RefGenome_Directory_with_files + '/' + 'fastq_files_from_ART_for_ALT_RefGenome/') )\n",
    "\n",
    "    #delete PASS CALLS (supporting Reference) and AMBIGUOUS CALLS from VCF file that came from Pilon variant calling\n",
    "    commands_list.append( 'python /n/data1/hms/dbmi/farhat/Roger/inhost_TB_dynamics_project/python_scripts/reduce-pilon-vcf-size.py ' + out_dir + '/pilon/' + tag + '.vcf' )\n",
    "    \n",
    "\n",
    "    ###############################################################################################################\n",
    "    ######################################## SUBMIT the job to O2 #################################################\n",
    "    ###############################################################################################################\n",
    "\n",
    "    #append all commands in a single string to be submitted as a job\n",
    "    SmallPipe_job = ''\n",
    "    for command_i in commands_list:\n",
    "\n",
    "        SmallPipe_job = SmallPipe_job + '\\n' + command_i\n",
    "\n",
    "\n",
    "    #directory where you want output + error files\n",
    "    os.chdir(SLURM_log_dir)\n",
    "\n",
    "    job_name = 'A_RG_' + str(RefGenome_i)\n",
    "\n",
    "    #make sure to set run-time much shorter since we're only dealing with 80x coverage\n",
    "    s = Slurm(job_name , {'partition':'short' , 'n':'1' , 't':'0-3:00:00' , 'mem-per-cpu':'32G' , 'mail-type':'FAIL' , 'mail-user':'roger_vargas@g.harvard.edu'})\n",
    "\n",
    "    #submits the job\n",
    "    job_id = s.run(SmallPipe_job)\n",
    "\n",
    "    print job_name  + ' : ' +  str(job_id)"
   ]
  },
  {
   "cell_type": "code",
   "execution_count": 7,
   "metadata": {},
   "outputs": [
    {
     "name": "stderr",
     "output_type": "stream",
     "text": [
      "submitted: Submitted batch job 2971908\n"
     ]
    },
    {
     "name": "stdout",
     "output_type": "stream",
     "text": [
      "A_RG_0 : 2971908\n"
     ]
    },
    {
     "name": "stderr",
     "output_type": "stream",
     "text": [
      "submitted: Submitted batch job 2971909\n"
     ]
    },
    {
     "name": "stdout",
     "output_type": "stream",
     "text": [
      "A_RG_1 : 2971909\n"
     ]
    },
    {
     "name": "stderr",
     "output_type": "stream",
     "text": [
      "submitted: Submitted batch job 2971919\n"
     ]
    },
    {
     "name": "stdout",
     "output_type": "stream",
     "text": [
      "A_RG_2 : 2971919\n"
     ]
    },
    {
     "name": "stderr",
     "output_type": "stream",
     "text": [
      "submitted: Submitted batch job 2971920\n"
     ]
    },
    {
     "name": "stdout",
     "output_type": "stream",
     "text": [
      "A_RG_3 : 2971920\n"
     ]
    },
    {
     "name": "stderr",
     "output_type": "stream",
     "text": [
      "submitted: Submitted batch job 2971922\n"
     ]
    },
    {
     "name": "stdout",
     "output_type": "stream",
     "text": [
      "A_RG_4 : 2971922\n"
     ]
    },
    {
     "name": "stderr",
     "output_type": "stream",
     "text": [
      "submitted: Submitted batch job 2971928\n"
     ]
    },
    {
     "name": "stdout",
     "output_type": "stream",
     "text": [
      "A_RG_5 : 2971928\n"
     ]
    },
    {
     "name": "stderr",
     "output_type": "stream",
     "text": [
      "submitted: Submitted batch job 2971929\n"
     ]
    },
    {
     "name": "stdout",
     "output_type": "stream",
     "text": [
      "A_RG_6 : 2971929\n"
     ]
    },
    {
     "name": "stderr",
     "output_type": "stream",
     "text": [
      "submitted: Submitted batch job 2971930\n"
     ]
    },
    {
     "name": "stdout",
     "output_type": "stream",
     "text": [
      "A_RG_7 : 2971930\n"
     ]
    },
    {
     "name": "stderr",
     "output_type": "stream",
     "text": [
      "submitted: Submitted batch job 2971931\n"
     ]
    },
    {
     "name": "stdout",
     "output_type": "stream",
     "text": [
      "A_RG_8 : 2971931\n"
     ]
    },
    {
     "name": "stderr",
     "output_type": "stream",
     "text": [
      "submitted: Submitted batch job 2971932\n"
     ]
    },
    {
     "name": "stdout",
     "output_type": "stream",
     "text": [
      "A_RG_9 : 2971932\n"
     ]
    },
    {
     "name": "stderr",
     "output_type": "stream",
     "text": [
      "submitted: Submitted batch job 2971933\n",
      "submitted: Submitted batch job 2971934\n",
      "submitted: Submitted batch job 2971935\n"
     ]
    },
    {
     "name": "stdout",
     "output_type": "stream",
     "text": [
      "A_RG_10 : 2971933\n",
      "A_RG_11 : 2971934\n",
      "A_RG_12 : 2971935\n"
     ]
    },
    {
     "name": "stderr",
     "output_type": "stream",
     "text": [
      "submitted: Submitted batch job 2971936\n"
     ]
    },
    {
     "name": "stdout",
     "output_type": "stream",
     "text": [
      "A_RG_13 : 2971936\n"
     ]
    },
    {
     "name": "stderr",
     "output_type": "stream",
     "text": [
      "submitted: Submitted batch job 2971937\n"
     ]
    },
    {
     "name": "stdout",
     "output_type": "stream",
     "text": [
      "A_RG_14 : 2971937\n"
     ]
    },
    {
     "name": "stderr",
     "output_type": "stream",
     "text": [
      "submitted: Submitted batch job 2971938\n"
     ]
    },
    {
     "name": "stdout",
     "output_type": "stream",
     "text": [
      "A_RG_15 : 2971938\n"
     ]
    },
    {
     "name": "stderr",
     "output_type": "stream",
     "text": [
      "submitted: Submitted batch job 2971939\n"
     ]
    },
    {
     "name": "stdout",
     "output_type": "stream",
     "text": [
      "A_RG_16 : 2971939\n"
     ]
    },
    {
     "name": "stderr",
     "output_type": "stream",
     "text": [
      "submitted: Submitted batch job 2971940\n",
      "submitted: Submitted batch job 2971941\n",
      "submitted: Submitted batch job 2971942\n"
     ]
    },
    {
     "name": "stdout",
     "output_type": "stream",
     "text": [
      "A_RG_17 : 2971940\n",
      "A_RG_18 : 2971941\n",
      "A_RG_19 : 2971942\n"
     ]
    },
    {
     "name": "stderr",
     "output_type": "stream",
     "text": [
      "submitted: Submitted batch job 2971943\n"
     ]
    },
    {
     "name": "stdout",
     "output_type": "stream",
     "text": [
      "A_RG_20 : 2971943\n"
     ]
    },
    {
     "name": "stderr",
     "output_type": "stream",
     "text": [
      "submitted: Submitted batch job 2971944\n",
      "submitted: Submitted batch job 2971945\n",
      "submitted: Submitted batch job 2971946\n"
     ]
    },
    {
     "name": "stdout",
     "output_type": "stream",
     "text": [
      "A_RG_21 : 2971944\n",
      "A_RG_22 : 2971945\n",
      "A_RG_23 : 2971946\n"
     ]
    },
    {
     "name": "stderr",
     "output_type": "stream",
     "text": [
      "submitted: Submitted batch job 2971947\n"
     ]
    },
    {
     "name": "stdout",
     "output_type": "stream",
     "text": [
      "A_RG_24 : 2971947\n"
     ]
    },
    {
     "name": "stderr",
     "output_type": "stream",
     "text": [
      "submitted: Submitted batch job 2971948\n",
      "submitted: Submitted batch job 2971949\n"
     ]
    },
    {
     "name": "stdout",
     "output_type": "stream",
     "text": [
      "A_RG_25 : 2971948\n",
      "A_RG_26 : 2971949\n"
     ]
    },
    {
     "name": "stderr",
     "output_type": "stream",
     "text": [
      "submitted: Submitted batch job 2971950\n"
     ]
    },
    {
     "name": "stdout",
     "output_type": "stream",
     "text": [
      "A_RG_27 : 2971950\n"
     ]
    },
    {
     "name": "stderr",
     "output_type": "stream",
     "text": [
      "submitted: Submitted batch job 2971951\n"
     ]
    },
    {
     "name": "stdout",
     "output_type": "stream",
     "text": [
      "A_RG_28 : 2971951\n"
     ]
    },
    {
     "name": "stderr",
     "output_type": "stream",
     "text": [
      "submitted: Submitted batch job 2971952\n"
     ]
    },
    {
     "name": "stdout",
     "output_type": "stream",
     "text": [
      "A_RG_29 : 2971952\n"
     ]
    },
    {
     "name": "stderr",
     "output_type": "stream",
     "text": [
      "submitted: Submitted batch job 2971953\n"
     ]
    },
    {
     "name": "stdout",
     "output_type": "stream",
     "text": [
      "A_RG_30 : 2971953\n"
     ]
    },
    {
     "name": "stderr",
     "output_type": "stream",
     "text": [
      "submitted: Submitted batch job 2971954\n"
     ]
    },
    {
     "name": "stdout",
     "output_type": "stream",
     "text": [
      "A_RG_31 : 2971954\n"
     ]
    },
    {
     "name": "stderr",
     "output_type": "stream",
     "text": [
      "submitted: Submitted batch job 2971956\n",
      "submitted: Submitted batch job 2971957\n",
      "submitted: Submitted batch job 2971958\n"
     ]
    },
    {
     "name": "stdout",
     "output_type": "stream",
     "text": [
      "A_RG_32 : 2971956\n",
      "A_RG_33 : 2971957\n",
      "A_RG_34 : 2971958\n"
     ]
    },
    {
     "name": "stderr",
     "output_type": "stream",
     "text": [
      "submitted: Submitted batch job 2971959\n"
     ]
    },
    {
     "name": "stdout",
     "output_type": "stream",
     "text": [
      "A_RG_35 : 2971959\n"
     ]
    },
    {
     "name": "stderr",
     "output_type": "stream",
     "text": [
      "submitted: Submitted batch job 2971960\n"
     ]
    },
    {
     "name": "stdout",
     "output_type": "stream",
     "text": [
      "A_RG_36 : 2971960\n"
     ]
    },
    {
     "name": "stderr",
     "output_type": "stream",
     "text": [
      "submitted: Submitted batch job 2971961\n"
     ]
    },
    {
     "name": "stdout",
     "output_type": "stream",
     "text": [
      "A_RG_37 : 2971961\n"
     ]
    },
    {
     "name": "stderr",
     "output_type": "stream",
     "text": [
      "submitted: Submitted batch job 2971962\n"
     ]
    },
    {
     "name": "stdout",
     "output_type": "stream",
     "text": [
      "A_RG_38 : 2971962\n"
     ]
    },
    {
     "name": "stderr",
     "output_type": "stream",
     "text": [
      "submitted: Submitted batch job 2971963\n"
     ]
    },
    {
     "name": "stdout",
     "output_type": "stream",
     "text": [
      "A_RG_39 : 2971963\n"
     ]
    },
    {
     "name": "stderr",
     "output_type": "stream",
     "text": [
      "submitted: Submitted batch job 2971965\n",
      "submitted: Submitted batch job 2971966\n",
      "submitted: Submitted batch job 2971967\n"
     ]
    },
    {
     "name": "stdout",
     "output_type": "stream",
     "text": [
      "A_RG_40 : 2971965\n",
      "A_RG_41 : 2971966\n",
      "A_RG_42 : 2971967\n"
     ]
    },
    {
     "name": "stderr",
     "output_type": "stream",
     "text": [
      "submitted: Submitted batch job 2971968\n",
      "submitted: Submitted batch job 2971969\n",
      "submitted: Submitted batch job 2971970\n"
     ]
    },
    {
     "name": "stdout",
     "output_type": "stream",
     "text": [
      "A_RG_43 : 2971968\n",
      "A_RG_44 : 2971969\n",
      "A_RG_45 : 2971970\n"
     ]
    },
    {
     "name": "stderr",
     "output_type": "stream",
     "text": [
      "submitted: Submitted batch job 2971971\n",
      "submitted: Submitted batch job 2971972\n",
      "submitted: Submitted batch job 2971973\n"
     ]
    },
    {
     "name": "stdout",
     "output_type": "stream",
     "text": [
      "A_RG_46 : 2971971\n",
      "A_RG_47 : 2971972\n",
      "A_RG_48 : 2971973\n"
     ]
    },
    {
     "name": "stderr",
     "output_type": "stream",
     "text": [
      "submitted: Submitted batch job 2971974\n",
      "submitted: Submitted batch job 2971975\n"
     ]
    },
    {
     "name": "stdout",
     "output_type": "stream",
     "text": [
      "A_RG_49 : 2971974\n",
      "A_RG_50 : 2971975\n",
      "A_RG_51 : 2971976\n",
      "A_RG_52 : 2971977\n",
      "A_RG_53 : 2971978\n"
     ]
    },
    {
     "name": "stderr",
     "output_type": "stream",
     "text": [
      "submitted: Submitted batch job 2971976\n",
      "submitted: Submitted batch job 2971977\n",
      "submitted: Submitted batch job 2971978\n"
     ]
    }
   ],
   "source": [
    "#submit a job for each of the RefGenomes (that have a feature annotation file & a good H37Rv gene - RefGenome CDS mapping) ; 0-53\n",
    "for RefGenome_i in range(0 , Number_of_Reference_Genomes):\n",
    "    \n",
    "    Launch_SmallPipe_Altered_RefGenome(RefGenome_i)"
   ]
  },
  {
   "cell_type": "code",
   "execution_count": null,
   "metadata": {
    "collapsed": true
   },
   "outputs": [],
   "source": []
  }
 ],
 "metadata": {
  "kernelspec": {
   "display_name": "Python 2",
   "language": "python",
   "name": "python2"
  },
  "language_info": {
   "codemirror_mode": {
    "name": "ipython",
    "version": 2
   },
   "file_extension": ".py",
   "mimetype": "text/x-python",
   "name": "python",
   "nbconvert_exporter": "python",
   "pygments_lexer": "ipython2",
   "version": "2.7.16"
  }
 },
 "nbformat": 4,
 "nbformat_minor": 2
}
