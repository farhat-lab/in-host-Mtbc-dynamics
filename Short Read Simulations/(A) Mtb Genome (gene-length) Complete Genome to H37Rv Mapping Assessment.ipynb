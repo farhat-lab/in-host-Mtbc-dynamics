{
 "cells": [
  {
   "cell_type": "code",
   "execution_count": 1,
   "metadata": {},
   "outputs": [
    {
     "data": {
      "text/html": [
       "<style>.container { width:100% !important; }</style>"
      ],
      "text/plain": [
       "<IPython.core.display.HTML object>"
      ]
     },
     "metadata": {},
     "output_type": "display_data"
    }
   ],
   "source": [
    "from IPython.core.display import display, HTML\n",
    "display(HTML(\"<style>.container { width:100% !important; }</style>\"))\n",
    "%matplotlib inline"
   ]
  },
  {
   "cell_type": "markdown",
   "metadata": {},
   "source": [
    "#### This notebook is used to create the script (& submit the jobs for) mapping the CDS regions from each Reference Genome (downloaded from NCBI) against the CDS regions of H37Rv. The goal is to assess the quality of the mappings across genes on the entire genome to determine which Reference Genomes to use in our simulations."
   ]
  },
  {
   "cell_type": "markdown",
   "metadata": {},
   "source": [
    "################################################################################################################################################################################################################################################"
   ]
  },
  {
   "cell_type": "markdown",
   "metadata": {},
   "source": [
    "## [1] Create the Script to map the CDS regions from a given Reference Genome against the CDS regions of H37Rv "
   ]
  },
  {
   "cell_type": "markdown",
   "metadata": {},
   "source": [
    "################################################################################################################################################################################################################################################"
   ]
  },
  {
   "cell_type": "code",
   "execution_count": 2,
   "metadata": {
    "collapsed": true
   },
   "outputs": [],
   "source": [
    "#Choose a specific reference genome, pull sequence & annotation; compare to H37Rv (indexed: 0 - 59)\n",
    "ref_genome_i = 8 #H37Rv (fasta & annotation table) as downloaded from NCBI"
   ]
  },
  {
   "cell_type": "code",
   "execution_count": 3,
   "metadata": {},
   "outputs": [],
   "source": [
    "#import necessary packages\n",
    "import vcf\n",
    "import os\n",
    "import pandas as pd\n",
    "import numpy as np\n",
    "\n",
    "from itertools import compress\n",
    "import ast\n",
    "import itertools\n",
    "import time\n",
    "\n",
    "import Bio\n",
    "from Bio.Alphabet import IUPAC\n",
    "from Bio.Blast.Applications import NcbiblastnCommandline\n",
    "from Bio.Blast import NCBIXML\n",
    "from Bio.Seq import Seq\n",
    "from Bio.SeqRecord import SeqRecord\n",
    "from Bio.SeqFeature import SeqFeature, FeatureLocation\n",
    "from Bio import pairwise2\n",
    "from Bio import SeqIO\n",
    "from Bio.Graphics import GenomeDiagram\n",
    "from Bio.SeqUtils import GC\n",
    "\n",
    "from Bio.Align.Applications import MuscleCommandline\n",
    "from StringIO import StringIO\n",
    "from Bio import AlignIO\n",
    "from Bio.Align import AlignInfo\n",
    "from Bio.Seq import MutableSeq\n",
    "from Bio import pairwise2\n",
    "from shutil import copy\n",
    "import subprocess\n",
    "import pickle"
   ]
  },
  {
   "cell_type": "code",
   "execution_count": 4,
   "metadata": {},
   "outputs": [],
   "source": [
    "##########################################################################################\n",
    "##########################################################################################\n",
    "'''\n",
    "This piece of code constructs a mapping of the CDS regions of H37Rv to the CDS \n",
    "regions of the chosen reference sequence (ref_genome_i) using the \n",
    "feature annotation tables for both sequences.\n",
    "'''\n",
    "\n",
    "# check to see if the reference genomes have a corresponding feature annotation table\n",
    "\n",
    "#annotation for reference sequences\n",
    "ref_seqs_annot = pd.read_csv('/n/data1/hms/dbmi/farhat/Roger/inhost_TB_dynamics_project/simulated_reads/reference_sequences/strains_typed/final_table.tsv' ,  sep = '\\t')\n",
    "\n",
    "#directory where annotation files are stored\n",
    "ref_strain_genome_annot_files_directory = '/n/data1/hms/dbmi/farhat/Roger/inhost_TB_dynamics_project/simulated_reads/reference_sequences/strains_typed/reference_sequence_annotation_tables/'\n",
    "reference_strain_feature_counts_tables = os.listdir(ref_strain_genome_annot_files_directory)\n",
    "\n",
    "reference_genome_strain_has_feature_table = []\n",
    "reference_genome_strain_feature_table_names = []\n",
    "\n",
    "for reference_genome_strain in ref_seqs_annot.Strain:\n",
    "\n",
    "    #split the reference id to get back relevant info to find the filename\n",
    "    genbank , reference_id_1 , reference_id_2 , genomic_word = reference_genome_strain.split('_')\n",
    "    folder_1 = reference_id_1[0:3]\n",
    "    folder_2 = reference_id_1[3:6]\n",
    "    folder_3 = reference_id_1[6:9]\n",
    "    folder_4 = 'GCF_' + reference_id_1 + '_' + reference_id_2\n",
    "\n",
    "    reference_strain_annotation_filename = folder_4 + '_feature_table.txt.gz'\n",
    "\n",
    "    if reference_strain_annotation_filename in reference_strain_feature_counts_tables:\n",
    "        reference_genome_strain_has_feature_table.append('YES')\n",
    "        reference_genome_strain_feature_table_names.append(reference_strain_annotation_filename)\n",
    "\n",
    "    else:\n",
    "        reference_genome_strain_has_feature_table.append('NO')\n",
    "        reference_genome_strain_feature_table_names.append('No Table')\n",
    "\n",
    "ref_seqs_annot.loc[: , 'Has_Feature_Table'] = reference_genome_strain_has_feature_table\n",
    "ref_seqs_annot.loc[: , 'Feature_Table_filename'] = reference_genome_strain_feature_table_names\n",
    "\n",
    "#drop strains that don't have a corresponding feature table\n",
    "ref_seqs_annot = ref_seqs_annot[ref_seqs_annot.Has_Feature_Table == 'YES']\n",
    "ref_seqs_annot.reset_index(drop = True , inplace = True)\n",
    "\n",
    "#############################################################################\n",
    "\n",
    "#PULL H37Rv sequence & annotation information\n",
    "\n",
    "#H37Rv GENOME SEQUENCE\n",
    "H37Rv_genome = '/n/data1/hms/dbmi/farhat/Roger/inhost_TB_dynamics_project/H37Rv/h37rv.fasta'\n",
    "for H37Rv_seq in SeqIO.parse(H37Rv_genome, \"fasta\"):\n",
    "    H37Rv_seq.seq.alphabet = IUPAC.unambiguous_dna\n",
    "\n",
    "#H37Rv REFERENCE ANNOTATION\n",
    "H37Rv_annotation = pd.read_csv('/n/data1/hms/dbmi/farhat/Roger/inhost_TB_dynamics_project/H37Rv/h37rv_genome_summary.txt', '\\t').set_index('name')\n",
    "\n",
    "#filter out annotation for t-RNAs and other misc RNAs\n",
    "RNAs_filter = []\n",
    "for CDS_i in H37Rv_annotation.index:\n",
    "    if ('tRNA' in H37Rv_annotation.loc[CDS_i , 'description'].split(' ')) or ('Rvn' in CDS_i):\n",
    "        RNAs_filter.append(True)\n",
    "        \n",
    "    else:\n",
    "        RNAs_filter.append(False)\n",
    "\n",
    "non_RNAs_filter = [not RNA for RNA in RNAs_filter]\n",
    "\n",
    "H37Rv_annotation_no_RNA = H37Rv_annotation[non_RNAs_filter]\n",
    "\n",
    "#drop unneccessary columns\n",
    "H37Rv_annotation_no_RNA = H37Rv_annotation_no_RNA.loc[: , ['symbol' , 'length' , 'chromStart' , 'chromEnd' , 'strand' , 'description']]\n",
    "\n",
    "\n",
    "#STORE CORRESPONDING SEQUENCES FROM H37Rv IN GENOME ANNOTATION\n",
    "for gene_id in H37Rv_annotation_no_RNA.index:\n",
    "\n",
    "    start_site = min( (H37Rv_annotation_no_RNA.loc[gene_id , 'chromStart']) , H37Rv_annotation_no_RNA.loc[gene_id , 'chromEnd'] ) #starts counting from 1\n",
    "    end_site = max( (H37Rv_annotation_no_RNA.loc[gene_id , 'chromStart']) , H37Rv_annotation_no_RNA.loc[gene_id , 'chromEnd'] )\n",
    "\n",
    "    seq_i = H37Rv_seq.seq[start_site:end_site] \n",
    "\n",
    "    #store sequence\n",
    "    H37Rv_annotation_no_RNA.loc[gene_id , 'sequence'] = seq_i\n",
    "\n",
    "#############################################################################\n",
    "#PULL REFERENCE sequence & annotation information\n",
    "\n",
    "#specify specific reference sequence\n",
    "ref_genome_strain = list(ref_seqs_annot.Strain)[ref_genome_i]\n",
    "ref_genome_strain_annotation_filename = list(ref_seqs_annot.Feature_Table_filename)[ref_genome_i]\n",
    "\n",
    "#directory where the fasta files for the reference sequences are stored\n",
    "ref_seq_directory = '/n/data1/hms/dbmi/farhat/Roger/inhost_TB_dynamics_project/simulated_reads/reference_sequences/strains_typed/'\n",
    "#directory where annotation files are stored\n",
    "ref_strain_genome_annot_files_directory = '/n/data1/hms/dbmi/farhat/Roger/inhost_TB_dynamics_project/simulated_reads/reference_sequences/strains_typed/reference_sequence_annotation_tables/'\n",
    "\n",
    "#REFERENCE GENOME SEQUENCE\n",
    "#get full path for the fasta file corrresponding to the reference sequence\n",
    "ref_genome_fasta = ref_seq_directory + ref_genome_strain  + '.fasta'\n",
    "\n",
    "#parse the fasta file corresponding to the reference genome\n",
    "for reference_genome in SeqIO.parse(ref_genome_fasta, \"fasta\"):\n",
    "    reference_genome.seq.alphabet = IUPAC.unambiguous_dna\n",
    "\n",
    "#REFERENCE GENOME FEATURE TABLE\n",
    "ref_genome_annot = pd.read_csv(ref_strain_genome_annot_files_directory + ref_genome_strain_annotation_filename , compression = 'gzip' , header = 0 , sep = '\\t')\n",
    "\n",
    "#filter for rows that code for 'genes'\n",
    "ref_genome_annot = ref_genome_annot[ref_genome_annot.ix[: , 0] == 'gene']\n",
    "\n",
    "#filter for rows that are 'protein_coding' or 'pseudogene'\n",
    "protein_coding_or_pseudogene_filter = [protein_coding or pseudogene for protein_coding , pseudogene in zip(list(ref_genome_annot.ix[: , 1] == 'protein_coding') , list(ref_genome_annot.ix[: , 1] == 'pseudogene'))]\n",
    "ref_genome_annot = ref_genome_annot[protein_coding_or_pseudogene_filter]\n",
    "\n",
    "#filter out for buggy first rows that contain the start/end of the whole Reference Genome Sequence\n",
    "ref_genome_annot = ref_genome_annot[ (ref_genome_annot.end - ref_genome_annot.start) < 1000000 ]\n",
    "\n",
    "#drop unnecessary columns\n",
    "ref_genome_annot = ref_genome_annot.loc[: , [ 'start' , 'end' , 'strand' , 'symbol' , 'feature_interval_length']]\n",
    "\n",
    "ref_genome_annot.reset_index(inplace = True , drop = True)\n",
    "\n",
    "#STORE CORRESPONDING SEQUENCES FROM REFERENCE GENOME IN GENOME ANNOTATION\n",
    "for CDS_i in ref_genome_annot.index:\n",
    "\n",
    "    start_site = min( (ref_genome_annot.loc[CDS_i , 'start'] - 1) , ref_genome_annot.loc[CDS_i , 'end'] ) #starts counting from 1\n",
    "    end_site = max( (ref_genome_annot.loc[CDS_i , 'start'] - 1) , ref_genome_annot.loc[CDS_i , 'end'] )\n",
    "\n",
    "    seq_i = reference_genome.seq[start_site:end_site] \n",
    "\n",
    "    #store sequence\n",
    "    ref_genome_annot.loc[CDS_i , 'sequence'] = seq_i\n",
    "    \n",
    "#############################################################################\n",
    "#############################################################################"
   ]
  },
  {
   "cell_type": "code",
   "execution_count": 5,
   "metadata": {},
   "outputs": [],
   "source": [
    "#############################################################################\n",
    "#############################################################################\n",
    "'''\n",
    "This piece of code compares the given Reference Genome with H37Rv & attempts \n",
    "to map ALL Relevant Coding Regions between both Reference Genomes for ALL Genes.\n",
    "'''\n",
    "\n",
    "#define window size for CDS length comparison (has to be an even number)\n",
    "window_size = 10\n",
    "\n",
    "num_genes = len(H37Rv_annotation_no_RNA.index) #number of genes after excluding RNAs\n",
    "\n",
    "#WRAP AROUND CHROMOSOME FOR FIRST/LAST FEW GENES\n",
    "#in order to 'wrap around' chromosome, append last 5 genes to beginning of DF and first 5 genes to end of DF to create sliding window for all genes\n",
    "last_few_genes_annot = H37Rv_annotation_no_RNA.ix[num_genes - (window_size / 2) : , :] #last few genes\n",
    "first_few_genes_annot = H37Rv_annotation_no_RNA.ix[0 : (window_size / 2) , :] #first few genes\n",
    "H37Rv_annotation_no_RNA_fudged_for_circular_chrom = last_few_genes_annot.append(H37Rv_annotation_no_RNA.append(first_few_genes_annot))\n",
    "\n",
    "#H37Rv-ref_genome coding mapping\n",
    "#create dataframe to hold mapping\n",
    "H37Rv_RefGeome_gene_mapping = pd.DataFrame(columns = ['symbol' , 'H37Rv_start' , 'H37Rv_end' , 'RefGenome_start' , 'RefGenome_end' , 'strand' , 'Highest_window_score' , 'second_Highest_window_score' , 'window_index'])\n",
    "\n",
    "#look across all genes in H37Rv\n",
    "all_genes = (H37Rv_annotation_no_RNA_fudged_for_circular_chrom.index) \n",
    "\n",
    "for gene_id in all_genes[ (window_size / 2) : - (window_size / 2) ]: #skip first several rows & last several rows (which are redundant genes created for sliding windows) \n",
    "\n",
    "    #find index in H37Rv annotation dataframe\n",
    "    row_index = list(H37Rv_annotation_no_RNA_fudged_for_circular_chrom.ix[(window_size / 2) : - (window_size / 2)].index).index(gene_id) + 5\n",
    "\n",
    "    #take the 5 CDS regions before & after into account\n",
    "    H37Rv_annotation_no_RNA_neighborhood = H37Rv_annotation_no_RNA_fudged_for_circular_chrom.ix[ row_index - (window_size / 2) : row_index + ((window_size / 2) + 1) , :]\n",
    "    \n",
    "    #look at gene lengths of the 11 consective genes & look for similar gene length profile in reference genome\n",
    "    H37Rv_annotation_no_RNA_neighborhood_lengths = H37Rv_annotation_no_RNA_neighborhood.length\n",
    "\n",
    "    #compare the neighborhood of gene lengths with every set of consecutive 11 gene lengths in reference genome annotation\n",
    "    ## key: window_index , value: score of gene_length_window_match\n",
    "    gene_length_match_scores = {}\n",
    "\n",
    "    #create a sliding window of gene lengths to find the appropriate coding region on the reference genome for novel genes\n",
    "    first_window_index = window_size / 2\n",
    "    last_window_index = np.shape(ref_genome_annot)[0] - (window_size / 2)\n",
    "\n",
    "    for gene_lengths_window_i in range(first_window_index , last_window_index):\n",
    "\n",
    "        #take the 5 CDS regions before & after into account\n",
    "        ref_genome_annot_neighborhood = ref_genome_annot.ix[ gene_lengths_window_i - (window_size / 2) : gene_lengths_window_i + (window_size / 2) , :]\n",
    "\n",
    "        #look at gene lengths of the 11 consecutive genes & look for similar gene length profile in H37Rv\n",
    "        ref_genome_annot_neighborhood_lengths =  ref_genome_annot_neighborhood.feature_interval_length\n",
    "        \n",
    "        #compare window of gene lengths between reference genome and H37Rv\n",
    "        length_match_score = len( set(list(ref_genome_annot_neighborhood_lengths)).intersection(set(list(H37Rv_annotation_no_RNA_neighborhood_lengths))) ) #rough match method\n",
    "\n",
    "        #store window index and corresponding match score\n",
    "        gene_length_match_scores[gene_lengths_window_i] = length_match_score\n",
    "\n",
    "    #find the max match score and corresponding window index\n",
    "    gene_length_match_scores = pd.Series(gene_length_match_scores)\n",
    "    \n",
    "    gene_length_match_scores_genome_order = gene_length_match_scores\n",
    "    \n",
    "    gene_length_match_scores = gene_length_match_scores.sort_values(ascending = False)\n",
    "    \n",
    "    window_index_top_match_score = list(gene_length_match_scores)[0] #top score for sliding window alignments\n",
    "    \n",
    "    #store window indice(s) that have the top match score\n",
    "    window_indices_with_top_score = list(gene_length_match_scores[gene_length_match_scores == window_index_top_match_score].index)\n",
    "    \n",
    "    gene_alignment_scores_in_top_window = {} #key: sub-window indices , valus: score from pariwise alignment\n",
    "    \n",
    "    #iterate through all highest scoring windows (or neighborhoods)\n",
    "    for window_match_index in window_indices_with_top_score:\n",
    "        \n",
    "        #align gene_i to every CDS within the 'sliding window' of the highest window scoring CDS region(s)\n",
    "        first_chosen_window_index = window_match_index - (window_size / 2)\n",
    "        last_chosen_window_index = window_match_index + (window_size / 2)\n",
    "\n",
    "        for window_index in range(first_chosen_window_index , last_chosen_window_index + 1):\n",
    "\n",
    "            #find the gene sequence corresponding to window index\n",
    "            corresponding_gene_ref_genome = ref_genome_annot.loc[window_index , :]\n",
    "\n",
    "            #check to see if sequences are identical by aligning them\n",
    "            H37Rv_coding_seq = H37Rv_annotation_no_RNA.loc[gene_id , 'sequence']\n",
    "            ref_genome_coding_seq = corresponding_gene_ref_genome.sequence\n",
    "\n",
    "            #Identical characters are given 1 point, -1/2 point is deducted for each non-identical character, 2 points are deduced when opening a gap, 2 point is deducted for extending it\n",
    "            alignment_score = pairwise2.align.globalms(H37Rv_coding_seq, ref_genome_coding_seq , 2 , -1 , -2 , -2 , score_only = True)\n",
    "\n",
    "            #store in dictionary\n",
    "            gene_alignment_scores_in_top_window[window_index] = alignment_score\n",
    "            \n",
    "    #choose window index with highest alignment score as match (this time from genes within top/chosen window)\n",
    "    top_window_score_gene_alignments_results = pd.Series(gene_alignment_scores_in_top_window)\n",
    "    top_window_score_gene_alignments_results = top_window_score_gene_alignments_results.sort_values(ascending = False)\n",
    "    \n",
    "    window_match_index = list(top_window_score_gene_alignments_results.index)[0] #take the index corresponding to the top alignment score\n",
    "    window_match_score = list(top_window_score_gene_alignments_results)[0] #actual raw score from top alignment\n",
    "    \n",
    "    #store relevant information\n",
    "    corresponding_gene_ref_genome = ref_genome_annot.loc[window_match_index , :]\n",
    "    \n",
    "    H37Rv_gene_length = H37Rv_annotation_no_RNA.loc[gene_id , 'length']\n",
    "    RefGenome_gene_length = corresponding_gene_ref_genome.feature_interval_length\n",
    "    \n",
    "    #if window match score positive and gene lengths match, then likely a correct match also ensure 'found' gene has same length as gene in H37Rv\n",
    "    if (window_match_score > 0) and (H37Rv_gene_length == RefGenome_gene_length): \n",
    "\n",
    "        symbol = H37Rv_annotation_no_RNA.loc[gene_id , 'symbol']\n",
    "        strand = H37Rv_annotation_no_RNA.loc[gene_id , 'strand']\n",
    "        H37Rv_start = H37Rv_annotation_no_RNA.loc[gene_id , 'chromStart']\n",
    "        H37Rv_end = H37Rv_annotation_no_RNA.loc[gene_id , 'chromEnd']\n",
    "        RefGenome_start = corresponding_gene_ref_genome.start\n",
    "        RefGenome_end = corresponding_gene_ref_genome.end\n",
    "\n",
    "        Highest_window_score = list(gene_length_match_scores)[0]\n",
    "        second_Highest_window_score = list(gene_length_match_scores)[1]\n",
    "\n",
    "        #start counting from 0!\n",
    "        H37Rv_RefGeome_gene_mapping.loc[gene_id , :] = [symbol , H37Rv_start , H37Rv_end , RefGenome_start - 1 , RefGenome_end , strand , Highest_window_score , second_Highest_window_score , window_match_index]\n",
    "        \n",
    "    else: #if window match score negative, then likely no gene/CDS analogue was found\n",
    "        \n",
    "        H37Rv_RefGeome_gene_mapping.loc[gene_id , :] = [np.nan]*9\n",
    "    \n",
    "##########################################################################################\n",
    "##########################################################################################"
   ]
  },
  {
   "cell_type": "code",
   "execution_count": null,
   "metadata": {
    "collapsed": true
   },
   "outputs": [],
   "source": [
    "##########################################################################################\n",
    "##########################################################################################\n",
    "'''\n",
    "This piece of code stores all of the Mappings in a CSV file.\n",
    "'''\n",
    "\n",
    "#calculate the differences between the highest score and the second highest score\n",
    "H37Rv_RefGeome_gene_mapping['Score_Diff'] =  H37Rv_RefGeome_gene_mapping.Highest_window_score - H37Rv_RefGeome_gene_mapping.second_Highest_window_score\n",
    "\n",
    "#save output file\n",
    "directory_for_tables = '/n/data1/hms/dbmi/farhat/Roger/inhost_TB_dynamics_project/simulated_reads/reference_sequences/strains_typed/genome_plasticity_window_analysis_csv_files_10_gene_windows_rough_match/'\n",
    "H37Rv_RefGeome_gene_mapping.to_csv(directory_for_tables + ref_genome_strain + '_H37Rv_mapping_window_analysis.csv' , sep = ',')\n",
    "\n",
    "##########################################################################################\n",
    "##########################################################################################"
   ]
  },
  {
   "cell_type": "markdown",
   "metadata": {},
   "source": [
    "################################################################################################################################################################################################################################################"
   ]
  },
  {
   "cell_type": "markdown",
   "metadata": {},
   "source": [
    "## [2] Submit the above as a job for each seperate Reference Genome"
   ]
  },
  {
   "cell_type": "markdown",
   "metadata": {},
   "source": [
    "################################################################################################################################################################################################################################################"
   ]
  },
  {
   "cell_type": "code",
   "execution_count": 2,
   "metadata": {},
   "outputs": [],
   "source": [
    "from slurmpy import Slurm\n",
    "import os\n",
    "import pandas as pd\n",
    "import numpy as np"
   ]
  },
  {
   "cell_type": "code",
   "execution_count": 3,
   "metadata": {},
   "outputs": [
    {
     "name": "stderr",
     "output_type": "stream",
     "text": [
      "submitted: Submitted batch job 2968686\n",
      "submitted: Submitted batch job 2968688\n",
      "submitted: Submitted batch job 2968689\n"
     ]
    },
    {
     "name": "stdout",
     "output_type": "stream",
     "text": [
      "0 : 2968686\n",
      "1 : 2968688\n",
      "2 : 2968689\n"
     ]
    },
    {
     "name": "stderr",
     "output_type": "stream",
     "text": [
      "submitted: Submitted batch job 2968690\n"
     ]
    },
    {
     "name": "stdout",
     "output_type": "stream",
     "text": [
      "3 : 2968690\n"
     ]
    },
    {
     "name": "stderr",
     "output_type": "stream",
     "text": [
      "submitted: Submitted batch job 2968693\n"
     ]
    },
    {
     "name": "stdout",
     "output_type": "stream",
     "text": [
      "4 : 2968693\n"
     ]
    },
    {
     "name": "stderr",
     "output_type": "stream",
     "text": [
      "submitted: Submitted batch job 2968694\n"
     ]
    },
    {
     "name": "stdout",
     "output_type": "stream",
     "text": [
      "5 : 2968694\n"
     ]
    },
    {
     "name": "stderr",
     "output_type": "stream",
     "text": [
      "submitted: Submitted batch job 2968696\n",
      "submitted: Submitted batch job 2968697\n"
     ]
    },
    {
     "name": "stdout",
     "output_type": "stream",
     "text": [
      "6 : 2968696\n",
      "7 : 2968697\n"
     ]
    },
    {
     "name": "stderr",
     "output_type": "stream",
     "text": [
      "submitted: Submitted batch job 2968699\n"
     ]
    },
    {
     "name": "stdout",
     "output_type": "stream",
     "text": [
      "8 : 2968699\n"
     ]
    },
    {
     "name": "stderr",
     "output_type": "stream",
     "text": [
      "submitted: Submitted batch job 2968700\n",
      "submitted: Submitted batch job 2968701\n",
      "submitted: Submitted batch job 2968702\n",
      "submitted: Submitted batch job 2968703\n"
     ]
    },
    {
     "name": "stdout",
     "output_type": "stream",
     "text": [
      "9 : 2968700\n",
      "10 : 2968701\n",
      "11 : 2968702\n",
      "12 : 2968703\n"
     ]
    },
    {
     "name": "stderr",
     "output_type": "stream",
     "text": [
      "submitted: Submitted batch job 2968704\n"
     ]
    },
    {
     "name": "stdout",
     "output_type": "stream",
     "text": [
      "13 : 2968704\n"
     ]
    },
    {
     "name": "stderr",
     "output_type": "stream",
     "text": [
      "submitted: Submitted batch job 2968706\n"
     ]
    },
    {
     "name": "stdout",
     "output_type": "stream",
     "text": [
      "14 : 2968706\n"
     ]
    },
    {
     "name": "stderr",
     "output_type": "stream",
     "text": [
      "submitted: Submitted batch job 2968707\n"
     ]
    },
    {
     "name": "stdout",
     "output_type": "stream",
     "text": [
      "15 : 2968707\n"
     ]
    },
    {
     "name": "stderr",
     "output_type": "stream",
     "text": [
      "submitted: Submitted batch job 2968708\n",
      "submitted: Submitted batch job 2968710\n",
      "submitted: Submitted batch job 2968711\n"
     ]
    },
    {
     "name": "stdout",
     "output_type": "stream",
     "text": [
      "16 : 2968708\n",
      "17 : 2968710\n",
      "18 : 2968711\n"
     ]
    },
    {
     "name": "stderr",
     "output_type": "stream",
     "text": [
      "submitted: Submitted batch job 2968712\n"
     ]
    },
    {
     "name": "stdout",
     "output_type": "stream",
     "text": [
      "19 : 2968712\n"
     ]
    },
    {
     "name": "stderr",
     "output_type": "stream",
     "text": [
      "submitted: Submitted batch job 2968714\n"
     ]
    },
    {
     "name": "stdout",
     "output_type": "stream",
     "text": [
      "20 : 2968714\n"
     ]
    },
    {
     "name": "stderr",
     "output_type": "stream",
     "text": [
      "submitted: Submitted batch job 2968715\n"
     ]
    },
    {
     "name": "stdout",
     "output_type": "stream",
     "text": [
      "21 : 2968715\n"
     ]
    },
    {
     "name": "stderr",
     "output_type": "stream",
     "text": [
      "submitted: Submitted batch job 2968717\n",
      "submitted: Submitted batch job 2968718\n",
      "submitted: Submitted batch job 2968719\n",
      "submitted: Submitted batch job 2968720\n",
      "submitted: Submitted batch job 2968721\n"
     ]
    },
    {
     "name": "stdout",
     "output_type": "stream",
     "text": [
      "22 : 2968717\n",
      "23 : 2968718\n",
      "24 : 2968719\n",
      "25 : 2968720\n",
      "26 : 2968721\n"
     ]
    },
    {
     "name": "stderr",
     "output_type": "stream",
     "text": [
      "submitted: Submitted batch job 2968724\n",
      "submitted: Submitted batch job 2968725\n"
     ]
    },
    {
     "name": "stdout",
     "output_type": "stream",
     "text": [
      "27 : 2968724\n",
      "28 : 2968725\n"
     ]
    },
    {
     "name": "stderr",
     "output_type": "stream",
     "text": [
      "submitted: Submitted batch job 2968726\n",
      "submitted: Submitted batch job 2968727\n",
      "submitted: Submitted batch job 2968728\n",
      "submitted: Submitted batch job 2968729\n",
      "submitted: Submitted batch job 2968730\n"
     ]
    },
    {
     "name": "stdout",
     "output_type": "stream",
     "text": [
      "29 : 2968726\n",
      "30 : 2968727\n",
      "31 : 2968728\n",
      "32 : 2968729\n",
      "33 : 2968730\n"
     ]
    },
    {
     "name": "stderr",
     "output_type": "stream",
     "text": [
      "submitted: Submitted batch job 2968731\n",
      "submitted: Submitted batch job 2968733\n"
     ]
    },
    {
     "name": "stdout",
     "output_type": "stream",
     "text": [
      "34 : 2968731\n",
      "35 : 2968733\n"
     ]
    },
    {
     "name": "stderr",
     "output_type": "stream",
     "text": [
      "submitted: Submitted batch job 2968734\n",
      "submitted: Submitted batch job 2968735\n",
      "submitted: Submitted batch job 2968736\n",
      "submitted: Submitted batch job 2968737\n",
      "submitted: Submitted batch job 2968738\n"
     ]
    },
    {
     "name": "stdout",
     "output_type": "stream",
     "text": [
      "36 : 2968734\n",
      "37 : 2968735\n",
      "38 : 2968736\n",
      "39 : 2968737\n",
      "40 : 2968738\n"
     ]
    },
    {
     "name": "stderr",
     "output_type": "stream",
     "text": [
      "submitted: Submitted batch job 2968739\n",
      "submitted: Submitted batch job 2968740\n",
      "submitted: Submitted batch job 2968742\n",
      "submitted: Submitted batch job 2968743\n"
     ]
    },
    {
     "name": "stdout",
     "output_type": "stream",
     "text": [
      "41 : 2968739\n",
      "42 : 2968740\n",
      "43 : 2968742\n",
      "44 : 2968743\n"
     ]
    },
    {
     "name": "stderr",
     "output_type": "stream",
     "text": [
      "submitted: Submitted batch job 2968744\n",
      "submitted: Submitted batch job 2968745\n",
      "submitted: Submitted batch job 2968746\n",
      "submitted: Submitted batch job 2968747\n"
     ]
    },
    {
     "name": "stdout",
     "output_type": "stream",
     "text": [
      "45 : 2968744\n",
      "46 : 2968745\n",
      "47 : 2968746\n",
      "48 : 2968747\n"
     ]
    },
    {
     "name": "stderr",
     "output_type": "stream",
     "text": [
      "submitted: Submitted batch job 2968749\n",
      "submitted: Submitted batch job 2968750\n",
      "submitted: Submitted batch job 2968751\n",
      "submitted: Submitted batch job 2968752\n",
      "submitted: Submitted batch job 2968753\n"
     ]
    },
    {
     "name": "stdout",
     "output_type": "stream",
     "text": [
      "49 : 2968749\n",
      "50 : 2968750\n",
      "51 : 2968751\n",
      "52 : 2968752\n",
      "53 : 2968753\n"
     ]
    },
    {
     "name": "stderr",
     "output_type": "stream",
     "text": [
      "submitted: Submitted batch job 2968754\n",
      "submitted: Submitted batch job 2968755\n",
      "submitted: Submitted batch job 2968756\n",
      "submitted: Submitted batch job 2968757\n"
     ]
    },
    {
     "name": "stdout",
     "output_type": "stream",
     "text": [
      "54 : 2968754\n",
      "55 : 2968755\n",
      "56 : 2968756\n",
      "57 : 2968757\n"
     ]
    },
    {
     "name": "stderr",
     "output_type": "stream",
     "text": [
      "submitted: Submitted batch job 2968758\n"
     ]
    },
    {
     "name": "stdout",
     "output_type": "stream",
     "text": [
      "58 : 2968758\n",
      "59 : 2968760\n"
     ]
    },
    {
     "name": "stderr",
     "output_type": "stream",
     "text": [
      "submitted: Submitted batch job 2968760\n"
     ]
    }
   ],
   "source": [
    "#Choose a specific reference genome, pull sequence & annotation; compare to H37Rv (indexed: 0 - 59)\n",
    "for ref_genome_i in range(0 , 60):\n",
    "\n",
    "    ref_genome_i = str(ref_genome_i)\n",
    "\n",
    "    #command to run script\n",
    "    run_script = \"python /n/data1/hms/dbmi/farhat/Roger/inhost_TB_dynamics_project/python_scripts/Mtb_RefGenome_H37Rv_gene_mapping_and_window_analysis_rough_match.py \" + ref_genome_i\n",
    "\n",
    "    #submit job to O2\n",
    "    #directory where you want output + error files\n",
    "    os.chdir(\"/n/data1/hms/dbmi/farhat/Roger/inhost_TB_dynamics_project/simulated_reads/O2_jobs_output/Mtb_RefGenome_H37Rv_mapping_and_window_analysis\")\n",
    "\n",
    "    #submit job to O2\n",
    "    job_name = ref_genome_i\n",
    "\n",
    "    s = Slurm(job_name , {'partition':'short' , 'n':'1' , 't':'0-12:00:00' , 'mem-per-cpu':'8G' , 'mail-type':'FAIL' , 'mail-user':'roger_vargas@g.harvard.edu'})\n",
    "\n",
    "    #submits the job\n",
    "    job_id = s.run(run_script)\n",
    "\n",
    "    print job_name  + ' : ' +  str(job_id)"
   ]
  },
  {
   "cell_type": "markdown",
   "metadata": {},
   "source": [
    "################################################################################################################################################################################################################################################"
   ]
  },
  {
   "cell_type": "markdown",
   "metadata": {
    "collapsed": true
   },
   "source": [
    "## [3] Analyze the output (CSV files) from the jobs above"
   ]
  },
  {
   "cell_type": "markdown",
   "metadata": {},
   "source": [
    "################################################################################################################################################################################################################################################"
   ]
  },
  {
   "cell_type": "code",
   "execution_count": 4,
   "metadata": {},
   "outputs": [],
   "source": [
    "#import necessary packages\n",
    "import vcf\n",
    "import os\n",
    "import pandas as pd\n",
    "import numpy as np\n",
    "\n",
    "from itertools import compress\n",
    "import ast\n",
    "import itertools\n",
    "\n",
    "import time\n",
    "import sys\n",
    "\n",
    "import Bio\n",
    "from Bio.Alphabet import IUPAC\n",
    "from Bio.Blast.Applications import NcbiblastnCommandline\n",
    "from Bio.Blast import NCBIXML\n",
    "from Bio.Seq import Seq\n",
    "from Bio.SeqRecord import SeqRecord\n",
    "from Bio.SeqFeature import SeqFeature, FeatureLocation\n",
    "from Bio import pairwise2\n",
    "from Bio import SeqIO\n",
    "from Bio.Graphics import GenomeDiagram\n",
    "from Bio.SeqUtils import GC\n",
    "\n",
    "from Bio.Align.Applications import MuscleCommandline\n",
    "from StringIO import StringIO\n",
    "from Bio import AlignIO\n",
    "from Bio.Align import AlignInfo\n",
    "from Bio.Seq import MutableSeq\n",
    "from Bio import pairwise2\n",
    "from shutil import copy\n",
    "import subprocess\n",
    "\n",
    "import matplotlib.pyplot as plt\n",
    "import seaborn as sns\n",
    "import fastcluster\n",
    "from sklearn import cluster, datasets\n",
    "import scipy.cluster.hierarchy as hier\n",
    "import matplotlib as mpl\n",
    "\n",
    "#for exporting to Adobe Illustrator\n",
    "mpl.rcParams['pdf.fonttype'] = 42\n",
    "mpl.rcParams['ps.fonttype'] = 42"
   ]
  },
  {
   "cell_type": "markdown",
   "metadata": {},
   "source": [
    "### Retrieve a Table of the Reference Genomes that had Corresponding Feature Annotation Tables and were Mapped to H37Rv"
   ]
  },
  {
   "cell_type": "code",
   "execution_count": 5,
   "metadata": {},
   "outputs": [],
   "source": [
    "# check to see if the reference genomes have a corresponding feature annotation table\n",
    "\n",
    "#annotation for reference sequences\n",
    "ref_seqs_annot = pd.read_csv('/n/data1/hms/dbmi/farhat/Roger/inhost_TB_dynamics_project/simulated_reads/reference_sequences/strains_typed/final_table.tsv' ,  sep = '\\t')\n",
    "\n",
    "#directory where annotation files are stored\n",
    "ref_strain_genome_annot_files_directory = '/n/data1/hms/dbmi/farhat/Roger/inhost_TB_dynamics_project/simulated_reads/reference_sequences/strains_typed/reference_sequence_annotation_tables/'\n",
    "reference_strain_feature_counts_tables = os.listdir(ref_strain_genome_annot_files_directory)\n",
    "\n",
    "reference_genome_strain_has_feature_table = []\n",
    "reference_genome_strain_feature_table_names = []\n",
    "\n",
    "for reference_genome_strain in ref_seqs_annot.Strain:\n",
    "\n",
    "    #split the reference id to get back relevant info to find the filename\n",
    "    genbank , reference_id_1 , reference_id_2 , genomic_word = reference_genome_strain.split('_')\n",
    "    folder_1 = reference_id_1[0:3]\n",
    "    folder_2 = reference_id_1[3:6]\n",
    "    folder_3 = reference_id_1[6:9]\n",
    "    folder_4 = 'GCF_' + reference_id_1 + '_' + reference_id_2\n",
    "\n",
    "    reference_strain_annotation_filename = folder_4 + '_feature_table.txt.gz'\n",
    "\n",
    "    if reference_strain_annotation_filename in reference_strain_feature_counts_tables:\n",
    "        reference_genome_strain_has_feature_table.append('YES')\n",
    "        reference_genome_strain_feature_table_names.append(reference_strain_annotation_filename)\n",
    "\n",
    "    else:\n",
    "        reference_genome_strain_has_feature_table.append('NO')\n",
    "        reference_genome_strain_feature_table_names.append('No Table')\n",
    "\n",
    "ref_seqs_annot.loc[: , 'Has_Feature_Table'] = reference_genome_strain_has_feature_table\n",
    "ref_seqs_annot.loc[: , 'Feature_Table_filename'] = reference_genome_strain_feature_table_names\n",
    "\n",
    "#drop strains that don't have a corresponding feature table\n",
    "ref_seqs_annot = ref_seqs_annot[ref_seqs_annot.Has_Feature_Table == 'YES']\n",
    "ref_seqs_annot.reset_index(drop = True , inplace = True)"
   ]
  },
  {
   "cell_type": "code",
   "execution_count": 6,
   "metadata": {},
   "outputs": [
    {
     "data": {
      "text/html": [
       "<div>\n",
       "<style>\n",
       "    .dataframe thead tr:only-child th {\n",
       "        text-align: right;\n",
       "    }\n",
       "\n",
       "    .dataframe thead th {\n",
       "        text-align: left;\n",
       "    }\n",
       "\n",
       "    .dataframe tbody tr th {\n",
       "        vertical-align: top;\n",
       "    }\n",
       "</style>\n",
       "<table border=\"1\" class=\"dataframe\">\n",
       "  <thead>\n",
       "    <tr style=\"text-align: right;\">\n",
       "      <th></th>\n",
       "      <th>Strain</th>\n",
       "      <th>Decision</th>\n",
       "      <th>Evaluation</th>\n",
       "      <th>Strain name</th>\n",
       "      <th>Has_Feature_Table</th>\n",
       "      <th>Feature_Table_filename</th>\n",
       "    </tr>\n",
       "  </thead>\n",
       "  <tbody>\n",
       "    <tr>\n",
       "      <th>0</th>\n",
       "      <td>GCA_000008585.1_ASM858v1_genomic</td>\n",
       "      <td>lineage4,lineage4.1,lineage4.1.1,lineage4.1.1.3</td>\n",
       "      <td>4</td>\n",
       "      <td>CDC1551</td>\n",
       "      <td>YES</td>\n",
       "      <td>GCF_000008585.1_ASM858v1_feature_table.txt.gz</td>\n",
       "    </tr>\n",
       "    <tr>\n",
       "      <th>1</th>\n",
       "      <td>GCA_000016145.1_ASM1614v1_genomic</td>\n",
       "      <td>lineage4,lineage4.9</td>\n",
       "      <td>4</td>\n",
       "      <td>H37Ra</td>\n",
       "      <td>YES</td>\n",
       "      <td>GCF_000016145.1_ASM1614v1_feature_table.txt.gz</td>\n",
       "    </tr>\n",
       "    <tr>\n",
       "      <th>2</th>\n",
       "      <td>GCA_000016925.1_ASM1692v1_genomic</td>\n",
       "      <td>lineage4,lineage4.3,lineage4.3.2,lineage4.3.2.1</td>\n",
       "      <td>4</td>\n",
       "      <td>F11</td>\n",
       "      <td>YES</td>\n",
       "      <td>GCF_000016925.1_ASM1692v1_feature_table.txt.gz</td>\n",
       "    </tr>\n",
       "    <tr>\n",
       "      <th>3</th>\n",
       "      <td>GCA_000023625.1_ASM2362v1_genomic</td>\n",
       "      <td>lineage4,lineage4.3,lineage4.3.3</td>\n",
       "      <td>4</td>\n",
       "      <td>KZN 1435</td>\n",
       "      <td>YES</td>\n",
       "      <td>GCF_000023625.1_ASM2362v1_feature_table.txt.gz</td>\n",
       "    </tr>\n",
       "    <tr>\n",
       "      <th>4</th>\n",
       "      <td>GCA_000153685.2_ASM15368v2_genomic</td>\n",
       "      <td>lineage4,lineage4.1,lineage4.1.2,lineage4.1.2.1</td>\n",
       "      <td>4</td>\n",
       "      <td>str. Haarlem</td>\n",
       "      <td>YES</td>\n",
       "      <td>GCF_000153685.2_ASM15368v2_feature_table.txt.gz</td>\n",
       "    </tr>\n",
       "  </tbody>\n",
       "</table>\n",
       "</div>"
      ],
      "text/plain": [
       "                               Strain  \\\n",
       "0    GCA_000008585.1_ASM858v1_genomic   \n",
       "1   GCA_000016145.1_ASM1614v1_genomic   \n",
       "2   GCA_000016925.1_ASM1692v1_genomic   \n",
       "3   GCA_000023625.1_ASM2362v1_genomic   \n",
       "4  GCA_000153685.2_ASM15368v2_genomic   \n",
       "\n",
       "                                          Decision Evaluation   Strain name  \\\n",
       "0  lineage4,lineage4.1,lineage4.1.1,lineage4.1.1.3          4       CDC1551   \n",
       "1                              lineage4,lineage4.9          4         H37Ra   \n",
       "2  lineage4,lineage4.3,lineage4.3.2,lineage4.3.2.1          4           F11   \n",
       "3                 lineage4,lineage4.3,lineage4.3.3          4      KZN 1435   \n",
       "4  lineage4,lineage4.1,lineage4.1.2,lineage4.1.2.1          4  str. Haarlem   \n",
       "\n",
       "  Has_Feature_Table                           Feature_Table_filename  \n",
       "0               YES    GCF_000008585.1_ASM858v1_feature_table.txt.gz  \n",
       "1               YES   GCF_000016145.1_ASM1614v1_feature_table.txt.gz  \n",
       "2               YES   GCF_000016925.1_ASM1692v1_feature_table.txt.gz  \n",
       "3               YES   GCF_000023625.1_ASM2362v1_feature_table.txt.gz  \n",
       "4               YES  GCF_000153685.2_ASM15368v2_feature_table.txt.gz  "
      ]
     },
     "execution_count": 6,
     "metadata": {},
     "output_type": "execute_result"
    }
   ],
   "source": [
    "ref_seqs_annot.head()"
   ]
  },
  {
   "cell_type": "markdown",
   "metadata": {},
   "source": [
    "### Store the Mapping DF for each RefGenome"
   ]
  },
  {
   "cell_type": "code",
   "execution_count": 7,
   "metadata": {},
   "outputs": [],
   "source": [
    "#directory where CSV files are stored (1 for each RefGenome)\n",
    "directory_for_tables = '/n/data1/hms/dbmi/farhat/Roger/inhost_TB_dynamics_project/simulated_reads/reference_sequences/strains_typed/genome_plasticity_window_analysis_csv_files_10_gene_windows_rough_match/'\n",
    "os.chdir(directory_for_tables)\n",
    "\n",
    "#get list of all CSV file names\n",
    "RefGenome_map_filenames = os.listdir(directory_for_tables)"
   ]
  },
  {
   "cell_type": "code",
   "execution_count": 8,
   "metadata": {},
   "outputs": [],
   "source": [
    "RefGenome_Mappings_DF_dict = {}\n",
    "\n",
    "for RefGenome_Mapping in RefGenome_map_filenames:\n",
    "    \n",
    "    RefGenome_ID = RefGenome_Mapping.split('_genomic_')[0]\n",
    "    \n",
    "    RefGenome_Mapping_sliding_window_info = pd.read_csv(directory_for_tables + RefGenome_Mapping).set_index('Unnamed: 0')\n",
    "\n",
    "    RefGenome_Mappings_DF_dict[RefGenome_ID] = RefGenome_Mapping_sliding_window_info"
   ]
  },
  {
   "cell_type": "code",
   "execution_count": 9,
   "metadata": {},
   "outputs": [
    {
     "data": {
      "text/html": [
       "<div>\n",
       "<style>\n",
       "    .dataframe thead tr:only-child th {\n",
       "        text-align: right;\n",
       "    }\n",
       "\n",
       "    .dataframe thead th {\n",
       "        text-align: left;\n",
       "    }\n",
       "\n",
       "    .dataframe tbody tr th {\n",
       "        vertical-align: top;\n",
       "    }\n",
       "</style>\n",
       "<table border=\"1\" class=\"dataframe\">\n",
       "  <thead>\n",
       "    <tr style=\"text-align: right;\">\n",
       "      <th></th>\n",
       "      <th>symbol</th>\n",
       "      <th>H37Rv_start</th>\n",
       "      <th>H37Rv_end</th>\n",
       "      <th>RefGenome_start</th>\n",
       "      <th>RefGenome_end</th>\n",
       "      <th>strand</th>\n",
       "      <th>Highest_window_score</th>\n",
       "      <th>second_Highest_window_score</th>\n",
       "      <th>window_index</th>\n",
       "      <th>Score_Diff</th>\n",
       "    </tr>\n",
       "    <tr>\n",
       "      <th>Unnamed: 0</th>\n",
       "      <th></th>\n",
       "      <th></th>\n",
       "      <th></th>\n",
       "      <th></th>\n",
       "      <th></th>\n",
       "      <th></th>\n",
       "      <th></th>\n",
       "      <th></th>\n",
       "      <th></th>\n",
       "      <th></th>\n",
       "    </tr>\n",
       "  </thead>\n",
       "  <tbody>\n",
       "    <tr>\n",
       "      <th>Rv0001</th>\n",
       "      <td>dnaA</td>\n",
       "      <td>0.0</td>\n",
       "      <td>1524.0</td>\n",
       "      <td>0.0</td>\n",
       "      <td>1524.0</td>\n",
       "      <td>+</td>\n",
       "      <td>6.0</td>\n",
       "      <td>5.0</td>\n",
       "      <td>0.0</td>\n",
       "      <td>1.0</td>\n",
       "    </tr>\n",
       "    <tr>\n",
       "      <th>Rv0002</th>\n",
       "      <td>dnaN</td>\n",
       "      <td>2051.0</td>\n",
       "      <td>3260.0</td>\n",
       "      <td>2051.0</td>\n",
       "      <td>3260.0</td>\n",
       "      <td>+</td>\n",
       "      <td>7.0</td>\n",
       "      <td>6.0</td>\n",
       "      <td>1.0</td>\n",
       "      <td>1.0</td>\n",
       "    </tr>\n",
       "    <tr>\n",
       "      <th>Rv0003</th>\n",
       "      <td>recF</td>\n",
       "      <td>3279.0</td>\n",
       "      <td>4437.0</td>\n",
       "      <td>3279.0</td>\n",
       "      <td>4437.0</td>\n",
       "      <td>+</td>\n",
       "      <td>8.0</td>\n",
       "      <td>7.0</td>\n",
       "      <td>2.0</td>\n",
       "      <td>1.0</td>\n",
       "    </tr>\n",
       "    <tr>\n",
       "      <th>Rv0004</th>\n",
       "      <td>NaN</td>\n",
       "      <td>4433.0</td>\n",
       "      <td>4997.0</td>\n",
       "      <td>4433.0</td>\n",
       "      <td>4997.0</td>\n",
       "      <td>+</td>\n",
       "      <td>9.0</td>\n",
       "      <td>8.0</td>\n",
       "      <td>3.0</td>\n",
       "      <td>1.0</td>\n",
       "    </tr>\n",
       "    <tr>\n",
       "      <th>Rv0005</th>\n",
       "      <td>gyrB</td>\n",
       "      <td>5239.0</td>\n",
       "      <td>7267.0</td>\n",
       "      <td>5239.0</td>\n",
       "      <td>7267.0</td>\n",
       "      <td>+</td>\n",
       "      <td>10.0</td>\n",
       "      <td>9.0</td>\n",
       "      <td>4.0</td>\n",
       "      <td>1.0</td>\n",
       "    </tr>\n",
       "  </tbody>\n",
       "</table>\n",
       "</div>"
      ],
      "text/plain": [
       "           symbol  H37Rv_start  H37Rv_end  RefGenome_start  RefGenome_end  \\\n",
       "Unnamed: 0                                                                  \n",
       "Rv0001       dnaA          0.0     1524.0              0.0         1524.0   \n",
       "Rv0002       dnaN       2051.0     3260.0           2051.0         3260.0   \n",
       "Rv0003       recF       3279.0     4437.0           3279.0         4437.0   \n",
       "Rv0004        NaN       4433.0     4997.0           4433.0         4997.0   \n",
       "Rv0005       gyrB       5239.0     7267.0           5239.0         7267.0   \n",
       "\n",
       "           strand  Highest_window_score  second_Highest_window_score  \\\n",
       "Unnamed: 0                                                             \n",
       "Rv0001          +                   6.0                          5.0   \n",
       "Rv0002          +                   7.0                          6.0   \n",
       "Rv0003          +                   8.0                          7.0   \n",
       "Rv0004          +                   9.0                          8.0   \n",
       "Rv0005          +                  10.0                          9.0   \n",
       "\n",
       "            window_index  Score_Diff  \n",
       "Unnamed: 0                            \n",
       "Rv0001               0.0         1.0  \n",
       "Rv0002               1.0         1.0  \n",
       "Rv0003               2.0         1.0  \n",
       "Rv0004               3.0         1.0  \n",
       "Rv0005               4.0         1.0  "
      ]
     },
     "execution_count": 9,
     "metadata": {},
     "output_type": "execute_result"
    }
   ],
   "source": [
    "RefGenome_Mapping_sliding_window_info.head() #example of mapping for 1 of the Reference Genomes"
   ]
  },
  {
   "cell_type": "code",
   "execution_count": 10,
   "metadata": {},
   "outputs": [],
   "source": [
    "plt.style.use('ggplot')\n",
    "plt.rcParams['lines.linewidth']=3\n",
    "plt.rcParams['axes.facecolor']='white'\n",
    "plt.rcParams['xtick.color']='black'\n",
    "plt.rcParams['axes.grid']=True\n",
    "plt.rcParams['axes.edgecolor']='black'\n",
    "plt.rcParams['grid.color']= '0.85'"
   ]
  },
  {
   "cell_type": "markdown",
   "metadata": {},
   "source": [
    "### Calculate the abolute difference between the Starting Positions for all of the Mapped Genes between each Reference Genome and H37Rv to asses the well the genes mapped to eachother."
   ]
  },
  {
   "cell_type": "markdown",
   "metadata": {},
   "source": [
    "#### Given the clonality of TB, the genes that end up being mapped between a given Reference Genome and H37Rv should end up being in the same neighborhood with respect to both genomes. We look to see how 'far', on average, genes mapped from H37Rv to the Reference Genome to give us an indication if there were any problematic Reference Genomes that were full of bad mappings."
   ]
  },
  {
   "cell_type": "code",
   "execution_count": 11,
   "metadata": {},
   "outputs": [],
   "source": [
    "#create dictionary to store Average Absolute Difference in Gene Mapping Starting Positions\n",
    "ALL_RefGenome_Avg_StartPos_Diffs = {} #keys: Reference Genome , #values: absolute difference in starting values for gene mappings\n",
    "\n",
    "for RefGenome_ID in RefGenome_Mappings_DF_dict.keys():\n",
    "    \n",
    "    #for a specific Reference Genome, get the absolute difference for all of the gene-gene mappings between the Reference Genome & H37Rv\n",
    "    RefGenome_H37Rv_Mapping_StartPos_Diffs = abs( RefGenome_Mappings_DF_dict[RefGenome_ID].H37Rv_start.values - RefGenome_Mappings_DF_dict[RefGenome_ID].RefGenome_start.values )\n",
    "    \n",
    "    #store the average of these differences (ignoring Nan values which are placeholders for unnsuccessfully mapped genes)\n",
    "    ALL_RefGenome_Avg_StartPos_Diffs[RefGenome_ID] = np.nanmean( RefGenome_H37Rv_Mapping_StartPos_Diffs )\n",
    "\n",
    "ALL_RefGenome_Avg_StartPos_Diffs = pd.Series(ALL_RefGenome_Avg_StartPos_Diffs , name = 'RefGenome')  \n",
    "ALL_RefGenome_Avg_StartPos_Diffs.sort_values(ascending = True , inplace = True)\n",
    "\n",
    "#convert to DataFrame\n",
    "ALL_RefGenome_Avg_StartPos_Diffs_DF = pd.DataFrame()\n",
    "ALL_RefGenome_Avg_StartPos_Diffs_DF['avg_StartPos_diff'] = ALL_RefGenome_Avg_StartPos_Diffs\n",
    "ALL_RefGenome_Avg_StartPos_Diffs_DF['index_num'] = range(1 , len(ALL_RefGenome_Avg_StartPos_Diffs)+1 )"
   ]
  },
  {
   "cell_type": "code",
   "execution_count": 12,
   "metadata": {},
   "outputs": [
    {
     "data": {
      "text/html": [
       "<div>\n",
       "<style>\n",
       "    .dataframe thead tr:only-child th {\n",
       "        text-align: right;\n",
       "    }\n",
       "\n",
       "    .dataframe thead th {\n",
       "        text-align: left;\n",
       "    }\n",
       "\n",
       "    .dataframe tbody tr th {\n",
       "        vertical-align: top;\n",
       "    }\n",
       "</style>\n",
       "<table border=\"1\" class=\"dataframe\">\n",
       "  <thead>\n",
       "    <tr style=\"text-align: right;\">\n",
       "      <th></th>\n",
       "      <th>avg_StartPos_diff</th>\n",
       "      <th>index_num</th>\n",
       "    </tr>\n",
       "  </thead>\n",
       "  <tbody>\n",
       "    <tr>\n",
       "      <th>GCA_000195955.2_ASM19595v2</th>\n",
       "      <td>3.222193e+00</td>\n",
       "      <td>1</td>\n",
       "    </tr>\n",
       "    <tr>\n",
       "      <th>GCA_001922485.1_ASM192248v1</th>\n",
       "      <td>1.590713e+01</td>\n",
       "      <td>2</td>\n",
       "    </tr>\n",
       "    <tr>\n",
       "      <th>GCA_000738475.1_ASM73847v1</th>\n",
       "      <td>1.799506e+01</td>\n",
       "      <td>3</td>\n",
       "    </tr>\n",
       "    <tr>\n",
       "      <th>GCA_000738445.1_ASM73844v1</th>\n",
       "      <td>2.142289e+01</td>\n",
       "      <td>4</td>\n",
       "    </tr>\n",
       "    <tr>\n",
       "      <th>GCA_000277735.2_ASM27773v2</th>\n",
       "      <td>3.375160e+01</td>\n",
       "      <td>5</td>\n",
       "    </tr>\n",
       "    <tr>\n",
       "      <th>GCA_000364825.1_ASM36482v1</th>\n",
       "      <td>2.034171e+02</td>\n",
       "      <td>6</td>\n",
       "    </tr>\n",
       "    <tr>\n",
       "      <th>GCA_000827085.1_ASM82708v1</th>\n",
       "      <td>3.409074e+02</td>\n",
       "      <td>7</td>\n",
       "    </tr>\n",
       "    <tr>\n",
       "      <th>GCA_001545015.1_ASM154501v1</th>\n",
       "      <td>3.639588e+03</td>\n",
       "      <td>8</td>\n",
       "    </tr>\n",
       "    <tr>\n",
       "      <th>GCA_000400615.1_ASM40061v1</th>\n",
       "      <td>4.103268e+03</td>\n",
       "      <td>9</td>\n",
       "    </tr>\n",
       "    <tr>\n",
       "      <th>GCA_000786505.1_MT49-02</th>\n",
       "      <td>4.196670e+03</td>\n",
       "      <td>10</td>\n",
       "    </tr>\n",
       "    <tr>\n",
       "      <th>GCA_001702435.1_ASM170243v1</th>\n",
       "      <td>4.324937e+03</td>\n",
       "      <td>11</td>\n",
       "    </tr>\n",
       "    <tr>\n",
       "      <th>GCA_000224435.1_ASM22443v1</th>\n",
       "      <td>4.436756e+03</td>\n",
       "      <td>12</td>\n",
       "    </tr>\n",
       "    <tr>\n",
       "      <th>GCA_000828995.1_ASM82899v1</th>\n",
       "      <td>4.555685e+03</td>\n",
       "      <td>13</td>\n",
       "    </tr>\n",
       "    <tr>\n",
       "      <th>GCA_000756545.1_ASM75654v1</th>\n",
       "      <td>4.988120e+03</td>\n",
       "      <td>14</td>\n",
       "    </tr>\n",
       "    <tr>\n",
       "      <th>GCA_002116815.1_ASM211681v1</th>\n",
       "      <td>4.995460e+03</td>\n",
       "      <td>15</td>\n",
       "    </tr>\n",
       "    <tr>\n",
       "      <th>GCA_000572195.1_ASM57219v1</th>\n",
       "      <td>5.012973e+03</td>\n",
       "      <td>16</td>\n",
       "    </tr>\n",
       "    <tr>\n",
       "      <th>GCA_001544705.1_ASM154470v1</th>\n",
       "      <td>5.044254e+03</td>\n",
       "      <td>17</td>\n",
       "    </tr>\n",
       "    <tr>\n",
       "      <th>GCA_001275565.2_ASM127556v2</th>\n",
       "      <td>5.069076e+03</td>\n",
       "      <td>18</td>\n",
       "    </tr>\n",
       "    <tr>\n",
       "      <th>GCA_000831245.1_ASM83124v1</th>\n",
       "      <td>5.370744e+03</td>\n",
       "      <td>19</td>\n",
       "    </tr>\n",
       "    <tr>\n",
       "      <th>GCA_001544955.1_ASM154495v1</th>\n",
       "      <td>5.601121e+03</td>\n",
       "      <td>20</td>\n",
       "    </tr>\n",
       "    <tr>\n",
       "      <th>GCA_000572125.1_ASM57212v1</th>\n",
       "      <td>5.806339e+03</td>\n",
       "      <td>21</td>\n",
       "    </tr>\n",
       "    <tr>\n",
       "      <th>GCA_001708265.1_ASM170826v1</th>\n",
       "      <td>6.156259e+03</td>\n",
       "      <td>22</td>\n",
       "    </tr>\n",
       "    <tr>\n",
       "      <th>GCA_000954155.1_ASM95415v1</th>\n",
       "      <td>6.198484e+03</td>\n",
       "      <td>23</td>\n",
       "    </tr>\n",
       "    <tr>\n",
       "      <th>GCA_000016145.1_ASM1614v1</th>\n",
       "      <td>6.344706e+03</td>\n",
       "      <td>24</td>\n",
       "    </tr>\n",
       "    <tr>\n",
       "      <th>GCA_001544985.1_ASM154498v1</th>\n",
       "      <td>6.757254e+03</td>\n",
       "      <td>25</td>\n",
       "    </tr>\n",
       "    <tr>\n",
       "      <th>GCA_000008585.1_ASM858v1</th>\n",
       "      <td>6.877468e+03</td>\n",
       "      <td>26</td>\n",
       "    </tr>\n",
       "    <tr>\n",
       "      <th>GCA_002072775.2_ASM207277v2</th>\n",
       "      <td>7.413662e+03</td>\n",
       "      <td>27</td>\n",
       "    </tr>\n",
       "    <tr>\n",
       "      <th>GCA_002116795.1_ASM211679v1</th>\n",
       "      <td>7.439999e+03</td>\n",
       "      <td>28</td>\n",
       "    </tr>\n",
       "    <tr>\n",
       "      <th>GCA_000572175.1_ASM57217v1</th>\n",
       "      <td>7.470953e+03</td>\n",
       "      <td>29</td>\n",
       "    </tr>\n",
       "    <tr>\n",
       "      <th>GCA_001938725.1_ASM193872v1</th>\n",
       "      <td>7.683533e+03</td>\n",
       "      <td>30</td>\n",
       "    </tr>\n",
       "    <tr>\n",
       "      <th>GCA_000422125.1_ASM42212v1</th>\n",
       "      <td>7.788020e+03</td>\n",
       "      <td>31</td>\n",
       "    </tr>\n",
       "    <tr>\n",
       "      <th>GCA_000389945.1_ASM38994v1</th>\n",
       "      <td>8.164887e+03</td>\n",
       "      <td>32</td>\n",
       "    </tr>\n",
       "    <tr>\n",
       "      <th>GCA_000270365.1_ASM27036v1</th>\n",
       "      <td>8.203806e+03</td>\n",
       "      <td>33</td>\n",
       "    </tr>\n",
       "    <tr>\n",
       "      <th>GCA_000153685.2_ASM15368v2</th>\n",
       "      <td>8.291415e+03</td>\n",
       "      <td>34</td>\n",
       "    </tr>\n",
       "    <tr>\n",
       "      <th>GCA_000706665.1_ASM70666v1</th>\n",
       "      <td>8.373933e+03</td>\n",
       "      <td>35</td>\n",
       "    </tr>\n",
       "    <tr>\n",
       "      <th>GCA_000331445.1_ASM33144v1</th>\n",
       "      <td>8.462492e+03</td>\n",
       "      <td>36</td>\n",
       "    </tr>\n",
       "    <tr>\n",
       "      <th>GCA_000016925.1_ASM1692v1</th>\n",
       "      <td>8.588649e+03</td>\n",
       "      <td>37</td>\n",
       "    </tr>\n",
       "    <tr>\n",
       "      <th>GCA_002116855.1_ASM211685v1</th>\n",
       "      <td>8.608781e+03</td>\n",
       "      <td>38</td>\n",
       "    </tr>\n",
       "    <tr>\n",
       "      <th>GCA_002116755.1_ASM211675v1</th>\n",
       "      <td>9.198138e+03</td>\n",
       "      <td>39</td>\n",
       "    </tr>\n",
       "    <tr>\n",
       "      <th>GCA_001895865.1_ASM189586v1</th>\n",
       "      <td>9.795429e+03</td>\n",
       "      <td>40</td>\n",
       "    </tr>\n",
       "    <tr>\n",
       "      <th>GCA_001855255.1_ASM185525v1</th>\n",
       "      <td>1.043145e+04</td>\n",
       "      <td>41</td>\n",
       "    </tr>\n",
       "    <tr>\n",
       "      <th>GCA_000572155.1_ASM57215v1</th>\n",
       "      <td>1.057631e+04</td>\n",
       "      <td>42</td>\n",
       "    </tr>\n",
       "    <tr>\n",
       "      <th>GCA_000270345.1_ASM27034v1</th>\n",
       "      <td>1.117395e+04</td>\n",
       "      <td>43</td>\n",
       "    </tr>\n",
       "    <tr>\n",
       "      <th>GCA_001895765.1_ASM189576v1</th>\n",
       "      <td>1.150069e+04</td>\n",
       "      <td>44</td>\n",
       "    </tr>\n",
       "    <tr>\n",
       "      <th>GCA_001895845.1_ASM189584v1</th>\n",
       "      <td>1.223566e+04</td>\n",
       "      <td>45</td>\n",
       "    </tr>\n",
       "    <tr>\n",
       "      <th>GCA_001545055.1_ASM154505v1</th>\n",
       "      <td>1.234128e+04</td>\n",
       "      <td>46</td>\n",
       "    </tr>\n",
       "    <tr>\n",
       "      <th>GCA_000350205.1_ASM35020v1</th>\n",
       "      <td>1.307971e+04</td>\n",
       "      <td>47</td>\n",
       "    </tr>\n",
       "    <tr>\n",
       "      <th>GCA_001895805.1_ASM189580v1</th>\n",
       "      <td>1.342812e+04</td>\n",
       "      <td>48</td>\n",
       "    </tr>\n",
       "    <tr>\n",
       "      <th>GCA_000756525.1_ASM75652v1</th>\n",
       "      <td>1.408453e+04</td>\n",
       "      <td>49</td>\n",
       "    </tr>\n",
       "    <tr>\n",
       "      <th>GCA_001895785.1_ASM189578v1</th>\n",
       "      <td>1.575030e+04</td>\n",
       "      <td>50</td>\n",
       "    </tr>\n",
       "    <tr>\n",
       "      <th>GCA_002116775.1_ASM211677v1</th>\n",
       "      <td>1.579492e+04</td>\n",
       "      <td>51</td>\n",
       "    </tr>\n",
       "    <tr>\n",
       "      <th>GCA_001895825.1_ASM189582v1</th>\n",
       "      <td>1.598983e+04</td>\n",
       "      <td>52</td>\n",
       "    </tr>\n",
       "    <tr>\n",
       "      <th>GCA_000698475.1_ASM69847v1</th>\n",
       "      <td>1.637949e+04</td>\n",
       "      <td>53</td>\n",
       "    </tr>\n",
       "    <tr>\n",
       "      <th>GCA_002116835.1_ASM211683v1</th>\n",
       "      <td>2.718225e+04</td>\n",
       "      <td>54</td>\n",
       "    </tr>\n",
       "    <tr>\n",
       "      <th>GCA_000193185.2_ASM19318v2</th>\n",
       "      <td>4.700708e+05</td>\n",
       "      <td>55</td>\n",
       "    </tr>\n",
       "    <tr>\n",
       "      <th>GCA_000023625.1_ASM2362v1</th>\n",
       "      <td>5.520132e+05</td>\n",
       "      <td>56</td>\n",
       "    </tr>\n",
       "    <tr>\n",
       "      <th>GCA_000154605.2_ASM15460v2</th>\n",
       "      <td>5.550821e+05</td>\n",
       "      <td>57</td>\n",
       "    </tr>\n",
       "    <tr>\n",
       "      <th>GCA_000154585.2_ASM15458v2</th>\n",
       "      <td>5.552846e+05</td>\n",
       "      <td>58</td>\n",
       "    </tr>\n",
       "    <tr>\n",
       "      <th>GCA_001750865.1_ASM175086v1</th>\n",
       "      <td>1.413905e+06</td>\n",
       "      <td>59</td>\n",
       "    </tr>\n",
       "    <tr>\n",
       "      <th>GCA_001870145.1_ASM187014v1</th>\n",
       "      <td>1.427028e+06</td>\n",
       "      <td>60</td>\n",
       "    </tr>\n",
       "  </tbody>\n",
       "</table>\n",
       "</div>"
      ],
      "text/plain": [
       "                             avg_StartPos_diff  index_num\n",
       "GCA_000195955.2_ASM19595v2        3.222193e+00          1\n",
       "GCA_001922485.1_ASM192248v1       1.590713e+01          2\n",
       "GCA_000738475.1_ASM73847v1        1.799506e+01          3\n",
       "GCA_000738445.1_ASM73844v1        2.142289e+01          4\n",
       "GCA_000277735.2_ASM27773v2        3.375160e+01          5\n",
       "GCA_000364825.1_ASM36482v1        2.034171e+02          6\n",
       "GCA_000827085.1_ASM82708v1        3.409074e+02          7\n",
       "GCA_001545015.1_ASM154501v1       3.639588e+03          8\n",
       "GCA_000400615.1_ASM40061v1        4.103268e+03          9\n",
       "GCA_000786505.1_MT49-02           4.196670e+03         10\n",
       "GCA_001702435.1_ASM170243v1       4.324937e+03         11\n",
       "GCA_000224435.1_ASM22443v1        4.436756e+03         12\n",
       "GCA_000828995.1_ASM82899v1        4.555685e+03         13\n",
       "GCA_000756545.1_ASM75654v1        4.988120e+03         14\n",
       "GCA_002116815.1_ASM211681v1       4.995460e+03         15\n",
       "GCA_000572195.1_ASM57219v1        5.012973e+03         16\n",
       "GCA_001544705.1_ASM154470v1       5.044254e+03         17\n",
       "GCA_001275565.2_ASM127556v2       5.069076e+03         18\n",
       "GCA_000831245.1_ASM83124v1        5.370744e+03         19\n",
       "GCA_001544955.1_ASM154495v1       5.601121e+03         20\n",
       "GCA_000572125.1_ASM57212v1        5.806339e+03         21\n",
       "GCA_001708265.1_ASM170826v1       6.156259e+03         22\n",
       "GCA_000954155.1_ASM95415v1        6.198484e+03         23\n",
       "GCA_000016145.1_ASM1614v1         6.344706e+03         24\n",
       "GCA_001544985.1_ASM154498v1       6.757254e+03         25\n",
       "GCA_000008585.1_ASM858v1          6.877468e+03         26\n",
       "GCA_002072775.2_ASM207277v2       7.413662e+03         27\n",
       "GCA_002116795.1_ASM211679v1       7.439999e+03         28\n",
       "GCA_000572175.1_ASM57217v1        7.470953e+03         29\n",
       "GCA_001938725.1_ASM193872v1       7.683533e+03         30\n",
       "GCA_000422125.1_ASM42212v1        7.788020e+03         31\n",
       "GCA_000389945.1_ASM38994v1        8.164887e+03         32\n",
       "GCA_000270365.1_ASM27036v1        8.203806e+03         33\n",
       "GCA_000153685.2_ASM15368v2        8.291415e+03         34\n",
       "GCA_000706665.1_ASM70666v1        8.373933e+03         35\n",
       "GCA_000331445.1_ASM33144v1        8.462492e+03         36\n",
       "GCA_000016925.1_ASM1692v1         8.588649e+03         37\n",
       "GCA_002116855.1_ASM211685v1       8.608781e+03         38\n",
       "GCA_002116755.1_ASM211675v1       9.198138e+03         39\n",
       "GCA_001895865.1_ASM189586v1       9.795429e+03         40\n",
       "GCA_001855255.1_ASM185525v1       1.043145e+04         41\n",
       "GCA_000572155.1_ASM57215v1        1.057631e+04         42\n",
       "GCA_000270345.1_ASM27034v1        1.117395e+04         43\n",
       "GCA_001895765.1_ASM189576v1       1.150069e+04         44\n",
       "GCA_001895845.1_ASM189584v1       1.223566e+04         45\n",
       "GCA_001545055.1_ASM154505v1       1.234128e+04         46\n",
       "GCA_000350205.1_ASM35020v1        1.307971e+04         47\n",
       "GCA_001895805.1_ASM189580v1       1.342812e+04         48\n",
       "GCA_000756525.1_ASM75652v1        1.408453e+04         49\n",
       "GCA_001895785.1_ASM189578v1       1.575030e+04         50\n",
       "GCA_002116775.1_ASM211677v1       1.579492e+04         51\n",
       "GCA_001895825.1_ASM189582v1       1.598983e+04         52\n",
       "GCA_000698475.1_ASM69847v1        1.637949e+04         53\n",
       "GCA_002116835.1_ASM211683v1       2.718225e+04         54\n",
       "GCA_000193185.2_ASM19318v2        4.700708e+05         55\n",
       "GCA_000023625.1_ASM2362v1         5.520132e+05         56\n",
       "GCA_000154605.2_ASM15460v2        5.550821e+05         57\n",
       "GCA_000154585.2_ASM15458v2        5.552846e+05         58\n",
       "GCA_001750865.1_ASM175086v1       1.413905e+06         59\n",
       "GCA_001870145.1_ASM187014v1       1.427028e+06         60"
      ]
     },
     "execution_count": 12,
     "metadata": {},
     "output_type": "execute_result"
    }
   ],
   "source": [
    "ALL_RefGenome_Avg_StartPos_Diffs_DF.head(n=60)"
   ]
  },
  {
   "cell_type": "code",
   "execution_count": 13,
   "metadata": {},
   "outputs": [
    {
     "data": {
      "image/png": "[encoded data removed]",
      "text/plain": [
       "<Figure size 720x468 with 1 Axes>"
      ]
     },
     "metadata": {},
     "output_type": "display_data"
    }
   ],
   "source": [
    "fig , ax = plt.subplots()\n",
    "\n",
    "#plot good Reference Genomes\n",
    "plt.scatter( ALL_RefGenome_Avg_StartPos_Diffs_DF[ALL_RefGenome_Avg_StartPos_Diffs_DF.avg_StartPos_diff < 50000].index_num , ALL_RefGenome_Avg_StartPos_Diffs_DF[ALL_RefGenome_Avg_StartPos_Diffs_DF.avg_StartPos_diff < 50000].avg_StartPos_diff , color = 'green' , edgecolor = 'k' , linewidth = 1.0 , s = 70)\n",
    "\n",
    "#plot bad reference Genomes\n",
    "plt.scatter( ALL_RefGenome_Avg_StartPos_Diffs_DF[ALL_RefGenome_Avg_StartPos_Diffs_DF.avg_StartPos_diff >= 50000].index_num , ALL_RefGenome_Avg_StartPos_Diffs_DF[ALL_RefGenome_Avg_StartPos_Diffs_DF.avg_StartPos_diff >= 50000].avg_StartPos_diff , color = 'red' , edgecolor = 'k' , linewidth = 1.0 , s = 70)\n",
    "\n",
    "ax.yaxis.set_major_formatter(plt.ScalarFormatter())\n",
    "ax.ticklabel_format(style='sci' , axis = 'y' , scilimits=(0,0))\n",
    "ax.tick_params(axis='y', which='major', labelsize=12 , pad = 5)\n",
    "ax.tick_params(axis='x', which='major', labelsize=12 , pad = 5)\n",
    "\n",
    "ax.set_xlim([-1 , 62])\n",
    "\n",
    "plt.ylabel('avg[ abs(H37Rv startPos - RefGenome startPos) ] ' , color = 'k' , fontsize = 14)\n",
    "plt.xlabel('Reference Genome Index' , color = 'k' , fontsize = 14)\n",
    "ax.set_yscale(\"log\", nonposy='clip')\n",
    "\n",
    "fig = plt.gcf()\n",
    "fig.set_size_inches(10, 6.5)\n",
    "fig.tight_layout()\n",
    "\n",
    "file_name = '/n/data1/hms/dbmi/farhat/Roger/inhost_TB_dynamics_project/figures/SNP_recall_simulations/H37Rv_RefGenome_StartPos_diffs_mapping_quality.pdf'\n",
    "plt.savefig(file_name, bbox_inches='tight', dpi = 300 , transparent = True)\n",
    "\n",
    "plt.show()"
   ]
  },
  {
   "cell_type": "markdown",
   "metadata": {},
   "source": [
    "#### Drop Reference Genomes that mapped badly across the entire genome from use in simulations"
   ]
  },
  {
   "cell_type": "code",
   "execution_count": 14,
   "metadata": {},
   "outputs": [
    {
     "data": {
      "text/html": [
       "<div>\n",
       "<style>\n",
       "    .dataframe thead tr:only-child th {\n",
       "        text-align: right;\n",
       "    }\n",
       "\n",
       "    .dataframe thead th {\n",
       "        text-align: left;\n",
       "    }\n",
       "\n",
       "    .dataframe tbody tr th {\n",
       "        vertical-align: top;\n",
       "    }\n",
       "</style>\n",
       "<table border=\"1\" class=\"dataframe\">\n",
       "  <thead>\n",
       "    <tr style=\"text-align: right;\">\n",
       "      <th></th>\n",
       "      <th>Strain</th>\n",
       "      <th>Decision</th>\n",
       "      <th>Evaluation</th>\n",
       "      <th>Strain name</th>\n",
       "      <th>Has_Feature_Table</th>\n",
       "      <th>Feature_Table_filename</th>\n",
       "    </tr>\n",
       "  </thead>\n",
       "  <tbody>\n",
       "    <tr>\n",
       "      <th>0</th>\n",
       "      <td>GCA_000008585.1_ASM858v1_genomic</td>\n",
       "      <td>lineage4,lineage4.1,lineage4.1.1,lineage4.1.1.3</td>\n",
       "      <td>4</td>\n",
       "      <td>CDC1551</td>\n",
       "      <td>YES</td>\n",
       "      <td>GCF_000008585.1_ASM858v1_feature_table.txt.gz</td>\n",
       "    </tr>\n",
       "    <tr>\n",
       "      <th>1</th>\n",
       "      <td>GCA_000016145.1_ASM1614v1_genomic</td>\n",
       "      <td>lineage4,lineage4.9</td>\n",
       "      <td>4</td>\n",
       "      <td>H37Ra</td>\n",
       "      <td>YES</td>\n",
       "      <td>GCF_000016145.1_ASM1614v1_feature_table.txt.gz</td>\n",
       "    </tr>\n",
       "  </tbody>\n",
       "</table>\n",
       "</div>"
      ],
      "text/plain": [
       "                              Strain  \\\n",
       "0   GCA_000008585.1_ASM858v1_genomic   \n",
       "1  GCA_000016145.1_ASM1614v1_genomic   \n",
       "\n",
       "                                          Decision Evaluation Strain name  \\\n",
       "0  lineage4,lineage4.1,lineage4.1.1,lineage4.1.1.3          4     CDC1551   \n",
       "1                              lineage4,lineage4.9          4       H37Ra   \n",
       "\n",
       "  Has_Feature_Table                          Feature_Table_filename  \n",
       "0               YES   GCF_000008585.1_ASM858v1_feature_table.txt.gz  \n",
       "1               YES  GCF_000016145.1_ASM1614v1_feature_table.txt.gz  "
      ]
     },
     "execution_count": 14,
     "metadata": {},
     "output_type": "execute_result"
    }
   ],
   "source": [
    "ref_seqs_annot.head(n=2) #all Reference Genomes that have a Feature Table"
   ]
  },
  {
   "cell_type": "code",
   "execution_count": 15,
   "metadata": {
    "scrolled": true
   },
   "outputs": [
    {
     "data": {
      "text/plain": [
       "(60, 6)"
      ]
     },
     "execution_count": 15,
     "metadata": {},
     "output_type": "execute_result"
    }
   ],
   "source": [
    "np.shape(ref_seqs_annot)"
   ]
  },
  {
   "cell_type": "code",
   "execution_count": 16,
   "metadata": {},
   "outputs": [],
   "source": [
    "Bad_RefGenome_IDs = list( ALL_RefGenome_Avg_StartPos_Diffs_DF[ALL_RefGenome_Avg_StartPos_Diffs_DF.avg_StartPos_diff >= 50000].index )"
   ]
  },
  {
   "cell_type": "code",
   "execution_count": 17,
   "metadata": {},
   "outputs": [
    {
     "data": {
      "text/plain": [
       "['GCA_000193185.2_ASM19318v2',\n",
       " 'GCA_000023625.1_ASM2362v1',\n",
       " 'GCA_000154605.2_ASM15460v2',\n",
       " 'GCA_000154585.2_ASM15458v2',\n",
       " 'GCA_001750865.1_ASM175086v1',\n",
       " 'GCA_001870145.1_ASM187014v1']"
      ]
     },
     "execution_count": 17,
     "metadata": {},
     "output_type": "execute_result"
    }
   ],
   "source": [
    "Bad_RefGenome_IDs"
   ]
  },
  {
   "cell_type": "code",
   "execution_count": 18,
   "metadata": {},
   "outputs": [],
   "source": [
    "Ref_Genome_indices_to_Drop = [] #store the index of each Badly Mapped Reference Genome\n",
    "\n",
    "for RefGenome_i in ref_seqs_annot.index:\n",
    "    \n",
    "    if ref_seqs_annot.loc[RefGenome_i , 'Strain'].split('_genomic')[0] in Bad_RefGenome_IDs:\n",
    "        \n",
    "        Ref_Genome_indices_to_Drop.append(RefGenome_i)\n",
    "    \n",
    "#drop Bad Indices from Table\n",
    "ref_seqs_annot_for_sims = ref_seqs_annot.drop(Ref_Genome_indices_to_Drop , axis = 0)\n",
    "\n",
    "#reset index\n",
    "ref_seqs_annot_for_sims.reset_index(inplace = True , drop = True)\n",
    "\n",
    "#drop unneccessary column\n",
    "ref_seqs_annot_for_sims.drop('Has_Feature_Table' , axis = 1 , inplace = True)"
   ]
  },
  {
   "cell_type": "code",
   "execution_count": 19,
   "metadata": {},
   "outputs": [
    {
     "data": {
      "text/html": [
       "<div>\n",
       "<style>\n",
       "    .dataframe thead tr:only-child th {\n",
       "        text-align: right;\n",
       "    }\n",
       "\n",
       "    .dataframe thead th {\n",
       "        text-align: left;\n",
       "    }\n",
       "\n",
       "    .dataframe tbody tr th {\n",
       "        vertical-align: top;\n",
       "    }\n",
       "</style>\n",
       "<table border=\"1\" class=\"dataframe\">\n",
       "  <thead>\n",
       "    <tr style=\"text-align: right;\">\n",
       "      <th></th>\n",
       "      <th>Strain</th>\n",
       "      <th>Decision</th>\n",
       "      <th>Evaluation</th>\n",
       "      <th>Strain name</th>\n",
       "      <th>Feature_Table_filename</th>\n",
       "    </tr>\n",
       "  </thead>\n",
       "  <tbody>\n",
       "    <tr>\n",
       "      <th>0</th>\n",
       "      <td>GCA_000008585.1_ASM858v1_genomic</td>\n",
       "      <td>lineage4,lineage4.1,lineage4.1.1,lineage4.1.1.3</td>\n",
       "      <td>4</td>\n",
       "      <td>CDC1551</td>\n",
       "      <td>GCF_000008585.1_ASM858v1_feature_table.txt.gz</td>\n",
       "    </tr>\n",
       "    <tr>\n",
       "      <th>1</th>\n",
       "      <td>GCA_000016145.1_ASM1614v1_genomic</td>\n",
       "      <td>lineage4,lineage4.9</td>\n",
       "      <td>4</td>\n",
       "      <td>H37Ra</td>\n",
       "      <td>GCF_000016145.1_ASM1614v1_feature_table.txt.gz</td>\n",
       "    </tr>\n",
       "    <tr>\n",
       "      <th>2</th>\n",
       "      <td>GCA_000016925.1_ASM1692v1_genomic</td>\n",
       "      <td>lineage4,lineage4.3,lineage4.3.2,lineage4.3.2.1</td>\n",
       "      <td>4</td>\n",
       "      <td>F11</td>\n",
       "      <td>GCF_000016925.1_ASM1692v1_feature_table.txt.gz</td>\n",
       "    </tr>\n",
       "    <tr>\n",
       "      <th>3</th>\n",
       "      <td>GCA_000153685.2_ASM15368v2_genomic</td>\n",
       "      <td>lineage4,lineage4.1,lineage4.1.2,lineage4.1.2.1</td>\n",
       "      <td>4</td>\n",
       "      <td>str. Haarlem</td>\n",
       "      <td>GCF_000153685.2_ASM15368v2_feature_table.txt.gz</td>\n",
       "    </tr>\n",
       "    <tr>\n",
       "      <th>4</th>\n",
       "      <td>GCA_000195955.2_ASM19595v2_genomic</td>\n",
       "      <td>lineage4,lineage4.9</td>\n",
       "      <td>4</td>\n",
       "      <td>H37Rv complete genome</td>\n",
       "      <td>GCF_000195955.2_ASM19595v2_feature_table.txt.gz</td>\n",
       "    </tr>\n",
       "  </tbody>\n",
       "</table>\n",
       "</div>"
      ],
      "text/plain": [
       "                               Strain  \\\n",
       "0    GCA_000008585.1_ASM858v1_genomic   \n",
       "1   GCA_000016145.1_ASM1614v1_genomic   \n",
       "2   GCA_000016925.1_ASM1692v1_genomic   \n",
       "3  GCA_000153685.2_ASM15368v2_genomic   \n",
       "4  GCA_000195955.2_ASM19595v2_genomic   \n",
       "\n",
       "                                          Decision Evaluation  \\\n",
       "0  lineage4,lineage4.1,lineage4.1.1,lineage4.1.1.3          4   \n",
       "1                              lineage4,lineage4.9          4   \n",
       "2  lineage4,lineage4.3,lineage4.3.2,lineage4.3.2.1          4   \n",
       "3  lineage4,lineage4.1,lineage4.1.2,lineage4.1.2.1          4   \n",
       "4                              lineage4,lineage4.9          4   \n",
       "\n",
       "             Strain name                           Feature_Table_filename  \n",
       "0                CDC1551    GCF_000008585.1_ASM858v1_feature_table.txt.gz  \n",
       "1                  H37Ra   GCF_000016145.1_ASM1614v1_feature_table.txt.gz  \n",
       "2                    F11   GCF_000016925.1_ASM1692v1_feature_table.txt.gz  \n",
       "3           str. Haarlem  GCF_000153685.2_ASM15368v2_feature_table.txt.gz  \n",
       "4  H37Rv complete genome  GCF_000195955.2_ASM19595v2_feature_table.txt.gz  "
      ]
     },
     "execution_count": 19,
     "metadata": {},
     "output_type": "execute_result"
    }
   ],
   "source": [
    "ref_seqs_annot_for_sims.head()"
   ]
  },
  {
   "cell_type": "code",
   "execution_count": 20,
   "metadata": {},
   "outputs": [
    {
     "data": {
      "text/plain": [
       "(54, 5)"
      ]
     },
     "execution_count": 20,
     "metadata": {},
     "output_type": "execute_result"
    }
   ],
   "source": [
    "np.shape(ref_seqs_annot_for_sims)"
   ]
  },
  {
   "cell_type": "markdown",
   "metadata": {},
   "source": [
    "#### There are 54 Good Reference Genomes (we'll use these in our simulations)"
   ]
  },
  {
   "cell_type": "code",
   "execution_count": 21,
   "metadata": {},
   "outputs": [],
   "source": [
    "#save Reference Genomes Table (each Reference Genome has a feature annotation table & was mapped well against H37Rv)\n",
    "ref_seqs_annot_for_sims.to_csv('/n/data1/hms/dbmi/farhat/Roger/inhost_TB_dynamics_project/simulated_reads/reference_sequences/strains_typed/Reference_Genomes_used_in_simulations.csv')"
   ]
  },
  {
   "cell_type": "markdown",
   "metadata": {},
   "source": [
    "################################################################################################################################################################################################################################################"
   ]
  },
  {
   "cell_type": "markdown",
   "metadata": {
    "collapsed": true
   },
   "source": [
    "## [4] Package the Complete Genome > H37Rv Mappings for sharing"
   ]
  },
  {
   "cell_type": "markdown",
   "metadata": {},
   "source": [
    "################################################################################################################################################################################################################################################"
   ]
  },
  {
   "cell_type": "code",
   "execution_count": 22,
   "metadata": {},
   "outputs": [],
   "source": [
    "#import necessary packages\n",
    "import vcf\n",
    "import os\n",
    "import pandas as pd\n",
    "import numpy as np\n",
    "\n",
    "from itertools import compress\n",
    "import ast\n",
    "import itertools\n",
    "\n",
    "import time\n",
    "import sys\n",
    "\n",
    "import Bio\n",
    "from Bio.Alphabet import IUPAC\n",
    "from Bio.Blast.Applications import NcbiblastnCommandline\n",
    "from Bio.Blast import NCBIXML\n",
    "from Bio.Seq import Seq\n",
    "from Bio.SeqRecord import SeqRecord\n",
    "from Bio.SeqFeature import SeqFeature, FeatureLocation\n",
    "from Bio import pairwise2\n",
    "from Bio import SeqIO\n",
    "from Bio.Graphics import GenomeDiagram\n",
    "from Bio.SeqUtils import GC\n",
    "\n",
    "from Bio.Align.Applications import MuscleCommandline\n",
    "from StringIO import StringIO\n",
    "from Bio import AlignIO\n",
    "from Bio.Align import AlignInfo\n",
    "from Bio.Seq import MutableSeq\n",
    "from Bio import pairwise2\n",
    "from shutil import copy\n",
    "import subprocess\n",
    "\n",
    "import matplotlib.pyplot as plt\n",
    "import seaborn as sns\n",
    "import fastcluster\n",
    "from sklearn import cluster, datasets\n",
    "import scipy.cluster.hierarchy as hier\n",
    "import matplotlib as mpl\n",
    "\n",
    "#for exporting to Adobe Illustrator\n",
    "mpl.rcParams['pdf.fonttype'] = 42\n",
    "mpl.rcParams['ps.fonttype'] = 42"
   ]
  },
  {
   "cell_type": "markdown",
   "metadata": {},
   "source": [
    "#### Load list of genomes (that were well mapped) that we used in the simulations"
   ]
  },
  {
   "cell_type": "code",
   "execution_count": 23,
   "metadata": {},
   "outputs": [],
   "source": [
    "ref_seqs_annot_for_sims = pd.read_csv('/n/data1/hms/dbmi/farhat/Roger/inhost_TB_dynamics_project/simulated_reads/reference_sequences/strains_typed/Reference_Genomes_used_in_simulations.csv').set_index('Unnamed: 0')"
   ]
  },
  {
   "cell_type": "code",
   "execution_count": 24,
   "metadata": {},
   "outputs": [
    {
     "data": {
      "text/html": [
       "<div>\n",
       "<style>\n",
       "    .dataframe thead tr:only-child th {\n",
       "        text-align: right;\n",
       "    }\n",
       "\n",
       "    .dataframe thead th {\n",
       "        text-align: left;\n",
       "    }\n",
       "\n",
       "    .dataframe tbody tr th {\n",
       "        vertical-align: top;\n",
       "    }\n",
       "</style>\n",
       "<table border=\"1\" class=\"dataframe\">\n",
       "  <thead>\n",
       "    <tr style=\"text-align: right;\">\n",
       "      <th></th>\n",
       "      <th>Strain</th>\n",
       "      <th>Decision</th>\n",
       "      <th>Evaluation</th>\n",
       "      <th>Strain name</th>\n",
       "      <th>Feature_Table_filename</th>\n",
       "    </tr>\n",
       "    <tr>\n",
       "      <th>Unnamed: 0</th>\n",
       "      <th></th>\n",
       "      <th></th>\n",
       "      <th></th>\n",
       "      <th></th>\n",
       "      <th></th>\n",
       "    </tr>\n",
       "  </thead>\n",
       "  <tbody>\n",
       "    <tr>\n",
       "      <th>0</th>\n",
       "      <td>GCA_000008585.1_ASM858v1_genomic</td>\n",
       "      <td>lineage4,lineage4.1,lineage4.1.1,lineage4.1.1.3</td>\n",
       "      <td>4</td>\n",
       "      <td>CDC1551</td>\n",
       "      <td>GCF_000008585.1_ASM858v1_feature_table.txt.gz</td>\n",
       "    </tr>\n",
       "    <tr>\n",
       "      <th>1</th>\n",
       "      <td>GCA_000016145.1_ASM1614v1_genomic</td>\n",
       "      <td>lineage4,lineage4.9</td>\n",
       "      <td>4</td>\n",
       "      <td>H37Ra</td>\n",
       "      <td>GCF_000016145.1_ASM1614v1_feature_table.txt.gz</td>\n",
       "    </tr>\n",
       "    <tr>\n",
       "      <th>2</th>\n",
       "      <td>GCA_000016925.1_ASM1692v1_genomic</td>\n",
       "      <td>lineage4,lineage4.3,lineage4.3.2,lineage4.3.2.1</td>\n",
       "      <td>4</td>\n",
       "      <td>F11</td>\n",
       "      <td>GCF_000016925.1_ASM1692v1_feature_table.txt.gz</td>\n",
       "    </tr>\n",
       "    <tr>\n",
       "      <th>3</th>\n",
       "      <td>GCA_000153685.2_ASM15368v2_genomic</td>\n",
       "      <td>lineage4,lineage4.1,lineage4.1.2,lineage4.1.2.1</td>\n",
       "      <td>4</td>\n",
       "      <td>str. Haarlem</td>\n",
       "      <td>GCF_000153685.2_ASM15368v2_feature_table.txt.gz</td>\n",
       "    </tr>\n",
       "    <tr>\n",
       "      <th>4</th>\n",
       "      <td>GCA_000195955.2_ASM19595v2_genomic</td>\n",
       "      <td>lineage4,lineage4.9</td>\n",
       "      <td>4</td>\n",
       "      <td>H37Rv complete genome</td>\n",
       "      <td>GCF_000195955.2_ASM19595v2_feature_table.txt.gz</td>\n",
       "    </tr>\n",
       "  </tbody>\n",
       "</table>\n",
       "</div>"
      ],
      "text/plain": [
       "                                        Strain  \\\n",
       "Unnamed: 0                                       \n",
       "0             GCA_000008585.1_ASM858v1_genomic   \n",
       "1            GCA_000016145.1_ASM1614v1_genomic   \n",
       "2            GCA_000016925.1_ASM1692v1_genomic   \n",
       "3           GCA_000153685.2_ASM15368v2_genomic   \n",
       "4           GCA_000195955.2_ASM19595v2_genomic   \n",
       "\n",
       "                                                   Decision Evaluation  \\\n",
       "Unnamed: 0                                                               \n",
       "0           lineage4,lineage4.1,lineage4.1.1,lineage4.1.1.3          4   \n",
       "1                                       lineage4,lineage4.9          4   \n",
       "2           lineage4,lineage4.3,lineage4.3.2,lineage4.3.2.1          4   \n",
       "3           lineage4,lineage4.1,lineage4.1.2,lineage4.1.2.1          4   \n",
       "4                                       lineage4,lineage4.9          4   \n",
       "\n",
       "                      Strain name  \\\n",
       "Unnamed: 0                          \n",
       "0                         CDC1551   \n",
       "1                           H37Ra   \n",
       "2                             F11   \n",
       "3                    str. Haarlem   \n",
       "4           H37Rv complete genome   \n",
       "\n",
       "                                     Feature_Table_filename  \n",
       "Unnamed: 0                                                   \n",
       "0             GCF_000008585.1_ASM858v1_feature_table.txt.gz  \n",
       "1            GCF_000016145.1_ASM1614v1_feature_table.txt.gz  \n",
       "2            GCF_000016925.1_ASM1692v1_feature_table.txt.gz  \n",
       "3           GCF_000153685.2_ASM15368v2_feature_table.txt.gz  \n",
       "4           GCF_000195955.2_ASM19595v2_feature_table.txt.gz  "
      ]
     },
     "execution_count": 24,
     "metadata": {},
     "output_type": "execute_result"
    }
   ],
   "source": [
    "ref_seqs_annot_for_sims.head()"
   ]
  },
  {
   "cell_type": "code",
   "execution_count": 25,
   "metadata": {},
   "outputs": [
    {
     "data": {
      "text/plain": [
       "(54, 5)"
      ]
     },
     "execution_count": 25,
     "metadata": {},
     "output_type": "execute_result"
    }
   ],
   "source": [
    "np.shape(ref_seqs_annot_for_sims)"
   ]
  },
  {
   "cell_type": "code",
   "execution_count": 26,
   "metadata": {},
   "outputs": [],
   "source": [
    "for strain_i in ref_seqs_annot_for_sims.index:\n",
    "    \n",
    "    #load mappings from simulations\n",
    "    complete_genome_H37Rv_mapping_table_i = pd.read_csv('/n/data1/hms/dbmi/farhat/Roger/inhost_TB_dynamics_project/simulated_reads/reference_sequences/strains_typed/genome_plasticity_window_analysis_csv_files_10_gene_windows_rough_match/{0}_H37Rv_mapping_window_analysis.csv'.format(ref_seqs_annot_for_sims.loc[strain_i , 'Strain']))\n",
    "\n",
    "    #clean table by dropping unneccessary columns\n",
    "    complete_genome_H37Rv_mapping_table_i = complete_genome_H37Rv_mapping_table_i.loc[: , ['Unnamed: 0' , 'symbol' , 'H37Rv_start' , 'H37Rv_end' , 'RefGenome_start' , 'RefGenome_end' , 'strand']]\n",
    "\n",
    "    #rename columns\n",
    "    complete_genome_H37Rv_mapping_table_i.rename(columns={\"Unnamed: 0\": \"H37Rv Tag\" , \"RefGenome_start\": \"CompleteGenome_start\" , \"RefGenome_end\": \"CompleteGenome_end\"} , inplace = True)\n",
    "\n",
    "    #set index to H37Rv locus tag\n",
    "    complete_genome_H37Rv_mapping_table_i.set_index('H37Rv Tag' , inplace = True , drop = True)\n",
    "\n",
    "    #output to directory with cleaned tables\n",
    "    complete_genome_H37Rv_mapping_table_i.to_csv('/n/data1/hms/dbmi/farhat/Roger/inhost_TB_dynamics_project/simulated_reads/reference_sequences/strains_typed/genome_plasticity_window_analysis_csv_files_10_gene_windows_rough_match_cleaned_tables/{0}_H37Rv_mappings.csv'.format(ref_seqs_annot_for_sims.loc[strain_i , 'Strain']))"
   ]
  }
 ],
 "metadata": {
  "kernelspec": {
   "display_name": "Python 2",
   "language": "python",
   "name": "python2"
  },
  "language_info": {
   "codemirror_mode": {
    "name": "ipython",
    "version": 2
   },
   "file_extension": ".py",
   "mimetype": "text/x-python",
   "name": "python",
   "nbconvert_exporter": "python",
   "pygments_lexer": "ipython2",
   "version": "2.7.16"
  }
 },
 "nbformat": 4,
 "nbformat_minor": 2
}
