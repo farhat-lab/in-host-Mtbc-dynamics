{
 "cells": [
  {
   "cell_type": "code",
   "execution_count": 1,
   "metadata": {},
   "outputs": [
    {
     "data": {
      "text/html": [
       "<style>.container { width:100% !important; }</style>"
      ],
      "text/plain": [
       "<IPython.core.display.HTML object>"
      ]
     },
     "metadata": {},
     "output_type": "display_data"
    }
   ],
   "source": [
    "from IPython.core.display import display, HTML\n",
    "display(HTML(\"<style>.container { width:100% !important; }</style>\"))"
   ]
  },
  {
   "cell_type": "markdown",
   "metadata": {},
   "source": [
    "## This notebook takes a set of peptide sequences, blasts them against all of the peptide sequences (obtained from the H37Rv genome) and finds the relevant genomic coordinates for each peptide sequence."
   ]
  },
  {
   "cell_type": "code",
   "execution_count": 2,
   "metadata": {},
   "outputs": [],
   "source": [
    "import os\n",
    "import pandas as pd\n",
    "import numpy as np\n",
    "import matplotlib.pyplot as plt\n",
    "import matplotlib.ticker as ticker\n",
    "from itertools import compress\n",
    "from pylab import MaxNLocator\n",
    "import Bio\n",
    "from subprocess import call\n",
    "from Bio.Alphabet import IUPAC\n",
    "from Bio.Blast.Applications import NcbiblastpCommandline\n",
    "from Bio.Blast import NCBIXML\n",
    "from Bio.Seq import Seq\n",
    "from Bio.SeqRecord import SeqRecord\n",
    "from Bio.SeqFeature import SeqFeature, FeatureLocation\n",
    "from Bio import SeqIO\n",
    "from Bio.Graphics import GenomeDiagram\n",
    "import re\n",
    "\n",
    "import matplotlib as mpl\n",
    "#for exporting to Adobe Illustrator\n",
    "mpl.rcParams['pdf.fonttype'] = 42\n",
    "mpl.rcParams['ps.fonttype'] = 42"
   ]
  },
  {
   "cell_type": "markdown",
   "metadata": {},
   "source": [
    "Store the reference genome annotation to get lengths of genes."
   ]
  },
  {
   "cell_type": "code",
   "execution_count": 3,
   "metadata": {},
   "outputs": [],
   "source": [
    "os.chdir('/n/data1/hms/dbmi/farhat/bin/work-horse/bin')\n",
    "reference_genome_annotation = pd.read_csv('h37rv_genome_summary.txt', '\\t').set_index('name')"
   ]
  },
  {
   "cell_type": "markdown",
   "metadata": {},
   "source": [
    "Load reference genome and annotation files"
   ]
  },
  {
   "cell_type": "code",
   "execution_count": 4,
   "metadata": {},
   "outputs": [],
   "source": [
    "#load reference genome and annotation\n",
    "#change directory to where reference genome is located\n",
    "os.chdir('/n/data1/hms/dbmi/farhat/bin/work-horse/bin')\n",
    "\n",
    "#parse through H37Rv fasta file\n",
    "for reference_genome in SeqIO.parse(\"h37rv.fasta\", \"fasta\"):\n",
    "    reference_genome.seq.alphabet = IUPAC.unambiguous_dna\n",
    "    \n",
    "#keep only regions of the genome that correspond to all genes \n",
    "#by using genome coordinates in H37Rv annotation file\n",
    "\n",
    "#all genes contained within the H37Rv reference genome\n",
    "reference_genome_annotation = pd.read_csv('/n/data1/hms/dbmi/farhat/Roger/inhost_TB_dynamics_project/H37Rv/h37rv_genome_summary.txt', '\\t').set_index('name')"
   ]
  },
  {
   "cell_type": "markdown",
   "metadata": {},
   "source": [
    "## Get peptide sequences (downloaded from IEDB)"
   ]
  },
  {
   "cell_type": "markdown",
   "metadata": {},
   "source": [
    "## IEDB peptides"
   ]
  },
  {
   "cell_type": "code",
   "execution_count": 5,
   "metadata": {},
   "outputs": [],
   "source": [
    "iedb_peptide_seqs = pd.read_csv('/n/data1/hms/dbmi/farhat/Roger/inhost_TB_dynamics_project/CSV_files/epitope_peptide_sequences/epitope_table_export_05_23_2018_from_iedb.csv', sep = ',' , header = 1).set_index('Epitope IRI')"
   ]
  },
  {
   "cell_type": "code",
   "execution_count": 6,
   "metadata": {},
   "outputs": [
    {
     "data": {
      "text/html": [
       "<div>\n",
       "<style>\n",
       "    .dataframe thead tr:only-child th {\n",
       "        text-align: right;\n",
       "    }\n",
       "\n",
       "    .dataframe thead th {\n",
       "        text-align: left;\n",
       "    }\n",
       "\n",
       "    .dataframe tbody tr th {\n",
       "        vertical-align: top;\n",
       "    }\n",
       "</style>\n",
       "<table border=\"1\" class=\"dataframe\">\n",
       "  <thead>\n",
       "    <tr style=\"text-align: right;\">\n",
       "      <th></th>\n",
       "      <th>Object Type</th>\n",
       "      <th>Description</th>\n",
       "      <th>Epitope Modified Residue(s)</th>\n",
       "      <th>Epitope Modification(s)</th>\n",
       "      <th>Starting Position</th>\n",
       "      <th>Ending Position</th>\n",
       "      <th>Non-peptidic epitope IRI</th>\n",
       "      <th>Epitope Synonyms</th>\n",
       "      <th>Antigen Name</th>\n",
       "      <th>Antigen IRI</th>\n",
       "      <th>...</th>\n",
       "      <th>Non-peptidic object IRI</th>\n",
       "      <th>Synonyms</th>\n",
       "      <th>Antigen Name.1</th>\n",
       "      <th>Antigen IRI.1</th>\n",
       "      <th>Parent Protein.1</th>\n",
       "      <th>Parent Protein IRI.1</th>\n",
       "      <th>Organism Name.1</th>\n",
       "      <th>Organism IRI.1</th>\n",
       "      <th>Parent Organism.1</th>\n",
       "      <th>Parent Organism IRI.1</th>\n",
       "    </tr>\n",
       "    <tr>\n",
       "      <th>Epitope IRI</th>\n",
       "      <th></th>\n",
       "      <th></th>\n",
       "      <th></th>\n",
       "      <th></th>\n",
       "      <th></th>\n",
       "      <th></th>\n",
       "      <th></th>\n",
       "      <th></th>\n",
       "      <th></th>\n",
       "      <th></th>\n",
       "      <th></th>\n",
       "      <th></th>\n",
       "      <th></th>\n",
       "      <th></th>\n",
       "      <th></th>\n",
       "      <th></th>\n",
       "      <th></th>\n",
       "      <th></th>\n",
       "      <th></th>\n",
       "      <th></th>\n",
       "      <th></th>\n",
       "    </tr>\n",
       "  </thead>\n",
       "  <tbody>\n",
       "    <tr>\n",
       "      <th>http://www.iedb.org/epitope/19</th>\n",
       "      <td>Linear peptide</td>\n",
       "      <td>AAAAKLAGLVFPQPPAPIAV</td>\n",
       "      <td>NaN</td>\n",
       "      <td>NaN</td>\n",
       "      <td>14.0</td>\n",
       "      <td>33.0</td>\n",
       "      <td>NaN</td>\n",
       "      <td>NaN</td>\n",
       "      <td>CONSERVED HYPOTHETICAL ALANINE RICH PROTEIN</td>\n",
       "      <td>http://www.ncbi.nlm.nih.gov/protein/CAA17970.1</td>\n",
       "      <td>...</td>\n",
       "      <td>NaN</td>\n",
       "      <td>NaN</td>\n",
       "      <td>NaN</td>\n",
       "      <td>NaN</td>\n",
       "      <td>NaN</td>\n",
       "      <td>NaN</td>\n",
       "      <td>NaN</td>\n",
       "      <td>NaN</td>\n",
       "      <td>NaN</td>\n",
       "      <td>NaN</td>\n",
       "    </tr>\n",
       "    <tr>\n",
       "      <th>http://www.iedb.org/epitope/35</th>\n",
       "      <td>Linear peptide</td>\n",
       "      <td>AAAGFASKTPANQAISMIDG</td>\n",
       "      <td>NaN</td>\n",
       "      <td>NaN</td>\n",
       "      <td>284.0</td>\n",
       "      <td>303.0</td>\n",
       "      <td>NaN</td>\n",
       "      <td>NaN</td>\n",
       "      <td>Phosphate-binding protein pstS 1 precursor</td>\n",
       "      <td>http://www.ncbi.nlm.nih.gov/protein/P15712.1</td>\n",
       "      <td>...</td>\n",
       "      <td>NaN</td>\n",
       "      <td>NaN</td>\n",
       "      <td>NaN</td>\n",
       "      <td>NaN</td>\n",
       "      <td>NaN</td>\n",
       "      <td>NaN</td>\n",
       "      <td>NaN</td>\n",
       "      <td>NaN</td>\n",
       "      <td>NaN</td>\n",
       "      <td>NaN</td>\n",
       "    </tr>\n",
       "  </tbody>\n",
       "</table>\n",
       "<p>2 rows × 32 columns</p>\n",
       "</div>"
      ],
      "text/plain": [
       "                                   Object Type           Description  \\\n",
       "Epitope IRI                                                            \n",
       "http://www.iedb.org/epitope/19  Linear peptide  AAAAKLAGLVFPQPPAPIAV   \n",
       "http://www.iedb.org/epitope/35  Linear peptide  AAAGFASKTPANQAISMIDG   \n",
       "\n",
       "                               Epitope Modified Residue(s)  \\\n",
       "Epitope IRI                                                  \n",
       "http://www.iedb.org/epitope/19                         NaN   \n",
       "http://www.iedb.org/epitope/35                         NaN   \n",
       "\n",
       "                               Epitope Modification(s)  Starting Position  \\\n",
       "Epitope IRI                                                                 \n",
       "http://www.iedb.org/epitope/19                     NaN               14.0   \n",
       "http://www.iedb.org/epitope/35                     NaN              284.0   \n",
       "\n",
       "                                Ending Position  Non-peptidic epitope IRI  \\\n",
       "Epitope IRI                                                                 \n",
       "http://www.iedb.org/epitope/19             33.0                       NaN   \n",
       "http://www.iedb.org/epitope/35            303.0                       NaN   \n",
       "\n",
       "                                Epitope Synonyms  \\\n",
       "Epitope IRI                                        \n",
       "http://www.iedb.org/epitope/19               NaN   \n",
       "http://www.iedb.org/epitope/35               NaN   \n",
       "\n",
       "                                                               Antigen Name  \\\n",
       "Epitope IRI                                                                   \n",
       "http://www.iedb.org/epitope/19  CONSERVED HYPOTHETICAL ALANINE RICH PROTEIN   \n",
       "http://www.iedb.org/epitope/35   Phosphate-binding protein pstS 1 precursor   \n",
       "\n",
       "                                                                   Antigen IRI  \\\n",
       "Epitope IRI                                                                      \n",
       "http://www.iedb.org/epitope/19  http://www.ncbi.nlm.nih.gov/protein/CAA17970.1   \n",
       "http://www.iedb.org/epitope/35    http://www.ncbi.nlm.nih.gov/protein/P15712.1   \n",
       "\n",
       "                                        ...           Non-peptidic object IRI  \\\n",
       "Epitope IRI                             ...                                     \n",
       "http://www.iedb.org/epitope/19          ...                               NaN   \n",
       "http://www.iedb.org/epitope/35          ...                               NaN   \n",
       "\n",
       "                               Synonyms Antigen Name.1 Antigen IRI.1  \\\n",
       "Epitope IRI                                                            \n",
       "http://www.iedb.org/epitope/19      NaN            NaN           NaN   \n",
       "http://www.iedb.org/epitope/35      NaN            NaN           NaN   \n",
       "\n",
       "                               Parent Protein.1 Parent Protein IRI.1  \\\n",
       "Epitope IRI                                                            \n",
       "http://www.iedb.org/epitope/19              NaN                  NaN   \n",
       "http://www.iedb.org/epitope/35              NaN                  NaN   \n",
       "\n",
       "                               Organism Name.1  Organism IRI.1  \\\n",
       "Epitope IRI                                                      \n",
       "http://www.iedb.org/epitope/19             NaN             NaN   \n",
       "http://www.iedb.org/epitope/35             NaN             NaN   \n",
       "\n",
       "                                Parent Organism.1  Parent Organism IRI.1  \n",
       "Epitope IRI                                                               \n",
       "http://www.iedb.org/epitope/19                NaN                    NaN  \n",
       "http://www.iedb.org/epitope/35                NaN                    NaN  \n",
       "\n",
       "[2 rows x 32 columns]"
      ]
     },
     "execution_count": 6,
     "metadata": {},
     "output_type": "execute_result"
    }
   ],
   "source": [
    "iedb_peptide_seqs.head(n=2)"
   ]
  },
  {
   "cell_type": "markdown",
   "metadata": {},
   "source": [
    "#### Make a local database that has all of the complete protein sequences from the H37Rv reference genome."
   ]
  },
  {
   "cell_type": "code",
   "execution_count": 7,
   "metadata": {},
   "outputs": [
    {
     "name": "stderr",
     "output_type": "stream",
     "text": [
      "/home/rv76/anaconda2/lib/python2.7/site-packages/Bio/Seq.py:2715: BiopythonWarning: Partial codon, len(sequence) not a multiple of three. Explicitly trim the sequence or add trailing N before translation. This may become an error in future.\n",
      "  BiopythonWarning)\n"
     ]
    },
    {
     "data": {
      "text/plain": [
       "4049"
      ]
     },
     "execution_count": 7,
     "metadata": {},
     "output_type": "execute_result"
    }
   ],
   "source": [
    "complete_peptide_seq_records = []\n",
    "\n",
    "for gene in reference_genome_annotation.index:\n",
    "    \n",
    "    start_position = reference_genome_annotation.loc[gene, 'chromStart']\n",
    "    end_position = reference_genome_annotation.loc[gene, 'chromEnd']\n",
    "    strand = reference_genome_annotation.loc[gene, 'strand']\n",
    "    \n",
    "    gene_sequence = reference_genome.seq[start_position : end_position]\n",
    "    \n",
    "    #translate coding sequence into a peptide sequence\n",
    "    if strand == '+':\n",
    "        complete_peptide_sequence = gene_sequence.translate(table=\"Bacterial\", cds=False)\n",
    "    elif strand == '-':\n",
    "        complete_peptide_sequence = gene_sequence.reverse_complement().translate(table=\"Bacterial\", cds=False)\n",
    "        \n",
    "    #convert sequence corresponding to ref gene into a SeqRecord\n",
    "    complete_peptide_sequence = SeqRecord(complete_peptide_sequence, id=gene)\n",
    "    \n",
    "    #store the SeqRecord for the epitope peptide sequence\n",
    "    complete_peptide_seq_records.append(complete_peptide_sequence)\n",
    "    \n",
    "#make temporary database (of just single protein sequence) by saving as a fasta file\n",
    "complete_peptide_sequence_file_name = \"/n/data1/hms/dbmi/farhat/Roger/inhost_TB_dynamics_project/epitope_peptide_seq_db/complete_peptide_sequences_for_all_genes.fasta\"\n",
    "\n",
    "SeqIO.write(complete_peptide_seq_records, complete_peptide_sequence_file_name, \"fasta\")"
   ]
  },
  {
   "cell_type": "markdown",
   "metadata": {},
   "source": [
    "## Find the start & end peptide coordinates (using blastp)"
   ]
  },
  {
   "cell_type": "code",
   "execution_count": 8,
   "metadata": {},
   "outputs": [
    {
     "data": {
      "text/plain": [
       "2031"
      ]
     },
     "execution_count": 8,
     "metadata": {},
     "output_type": "execute_result"
    }
   ],
   "source": [
    "len(iedb_peptide_seqs.index) #number of peptide sequences from IEDB"
   ]
  },
  {
   "cell_type": "code",
   "execution_count": 10,
   "metadata": {},
   "outputs": [
    {
     "name": "stdout",
     "output_type": "stream",
     "text": [
      "100\n",
      "200\n",
      "300\n",
      "400\n",
      "500\n",
      "600\n",
      "700\n",
      "800\n",
      "900\n",
      "1000\n",
      "1100\n",
      "1200\n",
      "1300\n",
      "1400\n",
      "1500\n",
      "1600\n",
      "1700\n",
      "1800\n",
      "1900\n",
      "2000\n"
     ]
    }
   ],
   "source": [
    "Epitope_IRI_dict = {}\n",
    "Object_Type_dict = {}\n",
    "Description_dict = {}\n",
    "Starting_Position_dict = {}\n",
    "Ending_Position_dict = {}\n",
    "Antigen_Name_dict = {}\n",
    "Antigen_IRI_dict = {}\n",
    "Parent_Protein_dict = {}\n",
    "Parent_Protein_IRI_dict = {}\n",
    "Organism_Name_dict = {}\n",
    "Ogranism_IRI_dict = {}\n",
    "Eptiope_Comments_dict = {}\n",
    "\n",
    "Rv_Position_dict = {}\n",
    "H37Rv_Homolog_dict = {}\n",
    "BLAST_exp_value_dict = {}\n",
    "peptide_start_coord_from_BLAST_dict = {}\n",
    "peptide_end_coord_from_BLAST_dict = {}\n",
    "\n",
    "i = 1 #counter for time keeping\n",
    "\n",
    "epitope_alignment_i = 0 #indexer for creating dataframe\n",
    "for iedb_peptide_index in iedb_peptide_seqs.index:\n",
    "    \n",
    "    ############\n",
    "    i += 1\n",
    "    if i % 100 == 0:\n",
    "        print i\n",
    "    ############\n",
    "    \n",
    "    epitope_peptide_sequence = iedb_peptide_seqs.loc[iedb_peptide_index, 'Description']\n",
    "\n",
    "    #convert sequence corresponding to ref gene into a SeqRecord\n",
    "    epitope_peptide_sequence = SeqRecord(Seq(epitope_peptide_sequence, alphabet = IUPAC.protein), id=str(iedb_peptide_index) + '_epitope')\n",
    "\n",
    "    #make temporary database (of just single protein sequence) by saving as a fasta file\n",
    "    epitope_peptide_sequence_file_name = \"/n/data1/hms/dbmi/farhat/Roger/inhost_TB_dynamics_project/epitope_peptide_seq_db/temp_epitope_peptide_sequence.fasta\"\n",
    "    SeqIO.write(epitope_peptide_sequence, epitope_peptide_sequence_file_name, \"fasta\")\n",
    "\n",
    "    #name of blast output\n",
    "    protein_sequence_alignment_output = \"/n/data1/hms/dbmi/farhat/Roger/inhost_TB_dynamics_project/epitope_peptide_seq_db/temp_peptide_BLAST_output.xml\"\n",
    "\n",
    "    #BLAST epitope sequence against complete protein sequence for gene to find position\n",
    "    blastp_cline = NcbiblastpCommandline(query=epitope_peptide_sequence_file_name, subject=complete_peptide_sequence_file_name , evalue=0.01, outfmt=5, out=protein_sequence_alignment_output)\n",
    "    stdout, stderr = blastp_cline()\n",
    "\n",
    "    #parse and store BLAST output files\n",
    "    result_handle = open(protein_sequence_alignment_output)\n",
    "    blast_records = NCBIXML.parse(result_handle)\n",
    "    blast_records = list(blast_records)\n",
    "    \n",
    "    #check to see if any alignemnts from BLASTp passed threshold\n",
    "    ##epitope sequence had a 'hit' with respect to the complete protein coding sequences from H37Rv\n",
    "    if len(blast_records[0].alignments) > 0:\n",
    "\n",
    "        ############################################################################################################\n",
    "        \n",
    "        for blast_record in blast_records:              #each BLAST record corresponds to a gene sequence\n",
    "            for alignment in blast_record.alignments:   #each epitope sequence can align to multiple complete protein sequences\n",
    "                for hsp in alignment.hsps:              #take top hit\n",
    "                    subject_start = hsp.sbjct_start\n",
    "                    subject_end = hsp.sbjct_end\n",
    "                    gene_id = alignment.hit_id\n",
    "\n",
    "                    Rv_position_start = min(subject_start, subject_end)\n",
    "                    Rv_position_end = max(subject_start, subject_end)\n",
    "\n",
    "                    Rv_position = str(Rv_position_start) + '-' + str(Rv_position_end)\n",
    "\n",
    "                    #store Rv_position, gene_id, expected_value\n",
    "                    Epitope_IRI_dict[epitope_alignment_i] = iedb_peptide_index\n",
    "                    Object_Type_dict[epitope_alignment_i] = iedb_peptide_seqs.loc[iedb_peptide_index , 'Object Type']\n",
    "                    Description_dict[epitope_alignment_i] = iedb_peptide_seqs.loc[iedb_peptide_index , 'Description']\n",
    "                    Starting_Position_dict[epitope_alignment_i] = iedb_peptide_seqs.loc[iedb_peptide_index , 'Starting Position']\n",
    "                    Ending_Position_dict[epitope_alignment_i] = iedb_peptide_seqs.loc[iedb_peptide_index , 'Ending Position']\n",
    "                    Antigen_Name_dict[epitope_alignment_i] = iedb_peptide_seqs.loc[iedb_peptide_index , 'Antigen Name']\n",
    "                    Antigen_IRI_dict[epitope_alignment_i] = iedb_peptide_seqs.loc[iedb_peptide_index , 'Antigen IRI']\n",
    "                    Parent_Protein_dict[epitope_alignment_i] = iedb_peptide_seqs.loc[iedb_peptide_index , 'Parent Protein']\n",
    "                    Parent_Protein_IRI_dict[epitope_alignment_i] = iedb_peptide_seqs.loc[iedb_peptide_index , 'Parent Protein IRI']\n",
    "                    Organism_Name_dict[epitope_alignment_i] = iedb_peptide_seqs.loc[iedb_peptide_index , 'Organism Name']\n",
    "                    Ogranism_IRI_dict[epitope_alignment_i] = iedb_peptide_seqs.loc[iedb_peptide_index , 'Organism IRI']\n",
    "                    Eptiope_Comments_dict[epitope_alignment_i] = iedb_peptide_seqs.loc[iedb_peptide_index , 'Epitope Comments']\n",
    "    \n",
    "                    Rv_Position_dict[epitope_alignment_i] = Rv_position\n",
    "                    H37Rv_Homolog_dict[epitope_alignment_i] = gene_id\n",
    "                    BLAST_exp_value_dict[epitope_alignment_i] = hsp.expect\n",
    "                    peptide_start_coord_from_BLAST_dict[epitope_alignment_i] = Rv_position_start\n",
    "                    peptide_end_coord_from_BLAST_dict[epitope_alignment_i] = Rv_position_end\n",
    "                    \n",
    "                    epitope_alignment_i += 1\n",
    "                    \n",
    "        ############################################################################################################\n",
    "        \n",
    "    #no complete protein sequence aligned to epitope sequence\n",
    "    elif len(blast_records[0].alignments) == 0:\n",
    "        \n",
    "        #store Rv_position, gene_id, expected_value\n",
    "        Epitope_IRI_dict[epitope_alignment_i] = iedb_peptide_index\n",
    "        Object_Type_dict[epitope_alignment_i] = iedb_peptide_seqs.loc[iedb_peptide_index , 'Object Type']\n",
    "        Description_dict[epitope_alignment_i] = iedb_peptide_seqs.loc[iedb_peptide_index , 'Description']\n",
    "        Starting_Position_dict[epitope_alignment_i] = iedb_peptide_seqs.loc[iedb_peptide_index , 'Starting Position']\n",
    "        Ending_Position_dict[epitope_alignment_i] = iedb_peptide_seqs.loc[iedb_peptide_index , 'Ending Position']\n",
    "        Antigen_Name_dict[epitope_alignment_i] = iedb_peptide_seqs.loc[iedb_peptide_index , 'Antigen Name']\n",
    "        Antigen_IRI_dict[epitope_alignment_i] = iedb_peptide_seqs.loc[iedb_peptide_index , 'Antigen IRI']\n",
    "        Parent_Protein_dict[epitope_alignment_i] = iedb_peptide_seqs.loc[iedb_peptide_index , 'Parent Protein']\n",
    "        Parent_Protein_IRI_dict[epitope_alignment_i] = iedb_peptide_seqs.loc[iedb_peptide_index , 'Parent Protein IRI']\n",
    "        Organism_Name_dict[epitope_alignment_i] = iedb_peptide_seqs.loc[iedb_peptide_index , 'Organism Name']\n",
    "        Ogranism_IRI_dict[epitope_alignment_i] = iedb_peptide_seqs.loc[iedb_peptide_index , 'Organism IRI']\n",
    "        Eptiope_Comments_dict[epitope_alignment_i] = iedb_peptide_seqs.loc[iedb_peptide_index , 'Epitope Comments']        \n",
    "\n",
    "        Rv_Position_dict[epitope_alignment_i] = 'Unknown-Unknown'\n",
    "        H37Rv_Homolog_dict[epitope_alignment_i] = 'Unknown'\n",
    "        BLAST_exp_value_dict[epitope_alignment_i] = 'Bad Alignment'\n",
    "        peptide_start_coord_from_BLAST_dict[epitope_alignment_i] = 'Unknown'\n",
    "        peptide_end_coord_from_BLAST_dict[epitope_alignment_i] = 'Unknown'\n",
    "        \n",
    "        epitope_alignment_i += 1\n",
    "\n",
    "#construct dataframe from dictionaries\n",
    "iedb_peptide_seqs_aligned_to_H37Rv = pd.DataFrame()\n",
    "\n",
    "#convert dictionaries to series\n",
    "Epitope_IRI_series = pd.Series(Epitope_IRI_dict)\n",
    "Object_Type_series = pd.Series(Object_Type_dict)\n",
    "Description_series = pd.Series(Description_dict)\n",
    "Starting_Position_series = pd.Series(Starting_Position_dict)\n",
    "Ending_Position_series = pd.Series(Ending_Position_dict)\n",
    "Antigen_Name_series = pd.Series(Antigen_Name_dict)\n",
    "Antigen_IRI_series = pd.Series(Antigen_IRI_dict)\n",
    "Parent_Protein_series = pd.Series(Parent_Protein_dict)\n",
    "Parent_Protein_IRI_series = pd.Series(Parent_Protein_IRI_dict)\n",
    "Organism_Name_series = pd.Series(Organism_Name_dict)\n",
    "Ogranism_IRI_series = pd.Series(Ogranism_IRI_dict)\n",
    "Eptiope_Comments_series = pd.Series(Eptiope_Comments_dict)\n",
    "\n",
    "Rv_Position_series = pd.Series(Rv_Position_dict)\n",
    "H37Rv_Homolog_series = pd.Series(H37Rv_Homolog_dict)\n",
    "BLAST_exp_value_series = pd.Series(BLAST_exp_value_dict)\n",
    "peptide_start_coord_from_BLAST_series = pd.Series(peptide_start_coord_from_BLAST_dict)\n",
    "peptide_end_coord_from_BLAST_series = pd.Series(peptide_end_coord_from_BLAST_dict)\n",
    "\n",
    "iedb_peptide_seqs_aligned_to_H37Rv['Epitope IRI'] = Epitope_IRI_series\n",
    "iedb_peptide_seqs_aligned_to_H37Rv['Object Type'] = Object_Type_series\n",
    "iedb_peptide_seqs_aligned_to_H37Rv['Description'] = Description_series\n",
    "iedb_peptide_seqs_aligned_to_H37Rv['Starting Position'] = Starting_Position_series\n",
    "iedb_peptide_seqs_aligned_to_H37Rv['Ending Position'] = Ending_Position_series\n",
    "iedb_peptide_seqs_aligned_to_H37Rv['Antigen Name'] = Antigen_Name_series\n",
    "iedb_peptide_seqs_aligned_to_H37Rv['Antigen IRI'] = Antigen_IRI_series\n",
    "iedb_peptide_seqs_aligned_to_H37Rv['Parent Protein'] = Parent_Protein_series\n",
    "iedb_peptide_seqs_aligned_to_H37Rv['Parent_Protein IRI'] = Parent_Protein_IRI_series\n",
    "iedb_peptide_seqs_aligned_to_H37Rv['Organism Name'] = Organism_Name_series\n",
    "iedb_peptide_seqs_aligned_to_H37Rv['Organism IRI'] = Ogranism_IRI_series\n",
    "iedb_peptide_seqs_aligned_to_H37Rv['Epitope Comments'] = Eptiope_Comments_series\n",
    "iedb_peptide_seqs_aligned_to_H37Rv['Rv position #'] = Rv_Position_series\n",
    "iedb_peptide_seqs_aligned_to_H37Rv['H37Rv Homolog'] = H37Rv_Homolog_series\n",
    "iedb_peptide_seqs_aligned_to_H37Rv['BLAST exp value'] = BLAST_exp_value_series\n",
    "iedb_peptide_seqs_aligned_to_H37Rv['peptide start coord from BLAST'] = peptide_start_coord_from_BLAST_series\n",
    "iedb_peptide_seqs_aligned_to_H37Rv['peptide end coord from BLAST'] = peptide_end_coord_from_BLAST_series"
   ]
  },
  {
   "cell_type": "code",
   "execution_count": 11,
   "metadata": {},
   "outputs": [
    {
     "data": {
      "text/plain": [
       "(3698, 17)"
      ]
     },
     "execution_count": 11,
     "metadata": {},
     "output_type": "execute_result"
    }
   ],
   "source": [
    "np.shape(iedb_peptide_seqs_aligned_to_H37Rv)"
   ]
  },
  {
   "cell_type": "code",
   "execution_count": 12,
   "metadata": {},
   "outputs": [
    {
     "data": {
      "text/html": [
       "<div>\n",
       "<style>\n",
       "    .dataframe thead tr:only-child th {\n",
       "        text-align: right;\n",
       "    }\n",
       "\n",
       "    .dataframe thead th {\n",
       "        text-align: left;\n",
       "    }\n",
       "\n",
       "    .dataframe tbody tr th {\n",
       "        vertical-align: top;\n",
       "    }\n",
       "</style>\n",
       "<table border=\"1\" class=\"dataframe\">\n",
       "  <thead>\n",
       "    <tr style=\"text-align: right;\">\n",
       "      <th></th>\n",
       "      <th>Epitope IRI</th>\n",
       "      <th>Object Type</th>\n",
       "      <th>Description</th>\n",
       "      <th>Starting Position</th>\n",
       "      <th>Ending Position</th>\n",
       "      <th>Antigen Name</th>\n",
       "      <th>Antigen IRI</th>\n",
       "      <th>Parent Protein</th>\n",
       "      <th>Parent_Protein IRI</th>\n",
       "      <th>Organism Name</th>\n",
       "      <th>Organism IRI</th>\n",
       "      <th>Epitope Comments</th>\n",
       "      <th>Rv position #</th>\n",
       "      <th>H37Rv Homolog</th>\n",
       "      <th>BLAST exp value</th>\n",
       "      <th>peptide start coord from BLAST</th>\n",
       "      <th>peptide end coord from BLAST</th>\n",
       "    </tr>\n",
       "  </thead>\n",
       "  <tbody>\n",
       "    <tr>\n",
       "      <th>0</th>\n",
       "      <td>http://www.iedb.org/epitope/19</td>\n",
       "      <td>Linear peptide</td>\n",
       "      <td>AAAAKLAGLVFPQPPAPIAV</td>\n",
       "      <td>14.0</td>\n",
       "      <td>33.0</td>\n",
       "      <td>CONSERVED HYPOTHETICAL ALANINE RICH PROTEIN</td>\n",
       "      <td>http://www.ncbi.nlm.nih.gov/protein/CAA17970.1</td>\n",
       "      <td>ESX-1 secretion-associated protein EspJ</td>\n",
       "      <td>http://www.uniprot.org/uniprot/P9WJC3</td>\n",
       "      <td>Mycobacterium tuberculosis</td>\n",
       "      <td>http://purl.obolibrary.org/obo/NCBITaxon_1773</td>\n",
       "      <td>The source antigen of this peptide is called R...</td>\n",
       "      <td>14-33</td>\n",
       "      <td>Rv3878</td>\n",
       "      <td>3.51215e-07</td>\n",
       "      <td>14</td>\n",
       "      <td>33</td>\n",
       "    </tr>\n",
       "    <tr>\n",
       "      <th>1</th>\n",
       "      <td>http://www.iedb.org/epitope/35</td>\n",
       "      <td>Linear peptide</td>\n",
       "      <td>AAAGFASKTPANQAISMIDG</td>\n",
       "      <td>284.0</td>\n",
       "      <td>303.0</td>\n",
       "      <td>Phosphate-binding protein pstS 1 precursor</td>\n",
       "      <td>http://www.ncbi.nlm.nih.gov/protein/P15712.1</td>\n",
       "      <td>Phosphate-binding protein PstS 1</td>\n",
       "      <td>http://www.uniprot.org/uniprot/P9WGU1</td>\n",
       "      <td>Mycobacterium tuberculosis</td>\n",
       "      <td>http://purl.obolibrary.org/obo/NCBITaxon_1773</td>\n",
       "      <td>NaN</td>\n",
       "      <td>284-303</td>\n",
       "      <td>Rv0934</td>\n",
       "      <td>9.17075e-08</td>\n",
       "      <td>284</td>\n",
       "      <td>303</td>\n",
       "    </tr>\n",
       "    <tr>\n",
       "      <th>2</th>\n",
       "      <td>http://www.iedb.org/epitope/60</td>\n",
       "      <td>Linear peptide</td>\n",
       "      <td>AAASAIQGNVTSIHSL</td>\n",
       "      <td>13.0</td>\n",
       "      <td>28.0</td>\n",
       "      <td>6 kDa early secretory antigenic target</td>\n",
       "      <td>http://www.ncbi.nlm.nih.gov/protein/P0A564.2</td>\n",
       "      <td>6 kDa early secretory antigenic target</td>\n",
       "      <td>http://www.uniprot.org/uniprot/P9WNK7</td>\n",
       "      <td>Mycobacterium tuberculosis</td>\n",
       "      <td>http://purl.obolibrary.org/obo/NCBITaxon_1773</td>\n",
       "      <td>NaN</td>\n",
       "      <td>13-28</td>\n",
       "      <td>Rv3875</td>\n",
       "      <td>3.63977e-05</td>\n",
       "      <td>13</td>\n",
       "      <td>28</td>\n",
       "    </tr>\n",
       "    <tr>\n",
       "      <th>3</th>\n",
       "      <td>http://www.iedb.org/epitope/84</td>\n",
       "      <td>Linear peptide</td>\n",
       "      <td>AADELVGGPPVEASAAAL</td>\n",
       "      <td>14.0</td>\n",
       "      <td>31.0</td>\n",
       "      <td>POSSIBLE phiRv2 PROPHAGE PROTEIN</td>\n",
       "      <td>http://www.ncbi.nlm.nih.gov/protein/CAB02330.1</td>\n",
       "      <td>Antitoxin Rv2654c</td>\n",
       "      <td>http://www.uniprot.org/uniprot/P9WJ11</td>\n",
       "      <td>Mycobacterium tuberculosis</td>\n",
       "      <td>http://purl.obolibrary.org/obo/NCBITaxon_1773</td>\n",
       "      <td>The source antigen of this peptide is called R...</td>\n",
       "      <td>14-31</td>\n",
       "      <td>Rv2654c</td>\n",
       "      <td>5.2076e-06</td>\n",
       "      <td>14</td>\n",
       "      <td>31</td>\n",
       "    </tr>\n",
       "    <tr>\n",
       "      <th>4</th>\n",
       "      <td>http://www.iedb.org/epitope/93</td>\n",
       "      <td>Linear peptide</td>\n",
       "      <td>AADMWGPSSDPAWER</td>\n",
       "      <td>216.0</td>\n",
       "      <td>230.0</td>\n",
       "      <td>secreted antigen 85-B fbpB</td>\n",
       "      <td>http://www.ncbi.nlm.nih.gov/protein/CAL71910.1</td>\n",
       "      <td>Diacylglycerol acyltransferase/mycolyltransfer...</td>\n",
       "      <td>http://www.uniprot.org/uniprot/P0C2T2</td>\n",
       "      <td>Mycobacterium bovis BCG</td>\n",
       "      <td>http://purl.obolibrary.org/obo/NCBITaxon_33892</td>\n",
       "      <td>NaN</td>\n",
       "      <td>216-230</td>\n",
       "      <td>Rv1886c</td>\n",
       "      <td>8.14492e-06</td>\n",
       "      <td>216</td>\n",
       "      <td>230</td>\n",
       "    </tr>\n",
       "  </tbody>\n",
       "</table>\n",
       "</div>"
      ],
      "text/plain": [
       "                      Epitope IRI     Object Type           Description  \\\n",
       "0  http://www.iedb.org/epitope/19  Linear peptide  AAAAKLAGLVFPQPPAPIAV   \n",
       "1  http://www.iedb.org/epitope/35  Linear peptide  AAAGFASKTPANQAISMIDG   \n",
       "2  http://www.iedb.org/epitope/60  Linear peptide      AAASAIQGNVTSIHSL   \n",
       "3  http://www.iedb.org/epitope/84  Linear peptide    AADELVGGPPVEASAAAL   \n",
       "4  http://www.iedb.org/epitope/93  Linear peptide       AADMWGPSSDPAWER   \n",
       "\n",
       "   Starting Position  Ending Position  \\\n",
       "0               14.0             33.0   \n",
       "1              284.0            303.0   \n",
       "2               13.0             28.0   \n",
       "3               14.0             31.0   \n",
       "4              216.0            230.0   \n",
       "\n",
       "                                  Antigen Name  \\\n",
       "0  CONSERVED HYPOTHETICAL ALANINE RICH PROTEIN   \n",
       "1   Phosphate-binding protein pstS 1 precursor   \n",
       "2       6 kDa early secretory antigenic target   \n",
       "3             POSSIBLE phiRv2 PROPHAGE PROTEIN   \n",
       "4                   secreted antigen 85-B fbpB   \n",
       "\n",
       "                                      Antigen IRI  \\\n",
       "0  http://www.ncbi.nlm.nih.gov/protein/CAA17970.1   \n",
       "1    http://www.ncbi.nlm.nih.gov/protein/P15712.1   \n",
       "2    http://www.ncbi.nlm.nih.gov/protein/P0A564.2   \n",
       "3  http://www.ncbi.nlm.nih.gov/protein/CAB02330.1   \n",
       "4  http://www.ncbi.nlm.nih.gov/protein/CAL71910.1   \n",
       "\n",
       "                                      Parent Protein  \\\n",
       "0            ESX-1 secretion-associated protein EspJ   \n",
       "1                   Phosphate-binding protein PstS 1   \n",
       "2             6 kDa early secretory antigenic target   \n",
       "3                                  Antitoxin Rv2654c   \n",
       "4  Diacylglycerol acyltransferase/mycolyltransfer...   \n",
       "\n",
       "                      Parent_Protein IRI               Organism Name  \\\n",
       "0  http://www.uniprot.org/uniprot/P9WJC3  Mycobacterium tuberculosis   \n",
       "1  http://www.uniprot.org/uniprot/P9WGU1  Mycobacterium tuberculosis   \n",
       "2  http://www.uniprot.org/uniprot/P9WNK7  Mycobacterium tuberculosis   \n",
       "3  http://www.uniprot.org/uniprot/P9WJ11  Mycobacterium tuberculosis   \n",
       "4  http://www.uniprot.org/uniprot/P0C2T2     Mycobacterium bovis BCG   \n",
       "\n",
       "                                     Organism IRI  \\\n",
       "0   http://purl.obolibrary.org/obo/NCBITaxon_1773   \n",
       "1   http://purl.obolibrary.org/obo/NCBITaxon_1773   \n",
       "2   http://purl.obolibrary.org/obo/NCBITaxon_1773   \n",
       "3   http://purl.obolibrary.org/obo/NCBITaxon_1773   \n",
       "4  http://purl.obolibrary.org/obo/NCBITaxon_33892   \n",
       "\n",
       "                                    Epitope Comments Rv position #  \\\n",
       "0  The source antigen of this peptide is called R...         14-33   \n",
       "1                                                NaN       284-303   \n",
       "2                                                NaN         13-28   \n",
       "3  The source antigen of this peptide is called R...         14-31   \n",
       "4                                                NaN       216-230   \n",
       "\n",
       "  H37Rv Homolog BLAST exp value peptide start coord from BLAST  \\\n",
       "0        Rv3878     3.51215e-07                             14   \n",
       "1        Rv0934     9.17075e-08                            284   \n",
       "2        Rv3875     3.63977e-05                             13   \n",
       "3       Rv2654c      5.2076e-06                             14   \n",
       "4       Rv1886c     8.14492e-06                            216   \n",
       "\n",
       "  peptide end coord from BLAST  \n",
       "0                           33  \n",
       "1                          303  \n",
       "2                           28  \n",
       "3                           31  \n",
       "4                          230  "
      ]
     },
     "execution_count": 12,
     "metadata": {},
     "output_type": "execute_result"
    }
   ],
   "source": [
    "iedb_peptide_seqs_aligned_to_H37Rv.head()"
   ]
  },
  {
   "cell_type": "markdown",
   "metadata": {},
   "source": [
    "###### Get Number of UNIQUE epitopes that DID NOT align to any AA gene sequence from H37Rv"
   ]
  },
  {
   "cell_type": "code",
   "execution_count": 13,
   "metadata": {
    "scrolled": true
   },
   "outputs": [
    {
     "name": "stdout",
     "output_type": "stream",
     "text": [
      "422\n"
     ]
    }
   ],
   "source": [
    "Number_unique_epitopes_not_aligned = len( set( iedb_peptide_seqs_aligned_to_H37Rv[iedb_peptide_seqs_aligned_to_H37Rv.loc[: , 'BLAST exp value'] == 'Bad Alignment'].loc[: , 'Epitope IRI'] ) ) \n",
    "print Number_unique_epitopes_not_aligned"
   ]
  },
  {
   "cell_type": "markdown",
   "metadata": {},
   "source": [
    "#### FILTER and keep only epitopes where coordinates from IEDB match those from BLASTP against H37Rv"
   ]
  },
  {
   "cell_type": "code",
   "execution_count": 14,
   "metadata": {},
   "outputs": [],
   "source": [
    "#keep the epitopes in which we were able to assign accurate genomic coordinates in H37Rv (coordinates from IEDB matched our coordinates from BLASTP)\n",
    "accurately_aligned_epitope_indices = []\n",
    "\n",
    "for epitope_i in iedb_peptide_seqs_aligned_to_H37Rv.index:\n",
    "    \n",
    "    epitope_i_info = iedb_peptide_seqs_aligned_to_H37Rv.loc[epitope_i , :]\n",
    "    \n",
    "    #eptitope start/end coordinates from IEDB\n",
    "    try:\n",
    "        start_Rv_position_from_IEDB = int( epitope_i_info.loc['Starting Position'] )\n",
    "    except ValueError:\n",
    "        start_Rv_position_from_IEDB = 'IEDB_NULL'\n",
    "        \n",
    "    try:  \n",
    "        end_RV_position_from_IEDB = int( epitope_i_info.loc['Ending Position'] )\n",
    "    except ValueError:\n",
    "        end_RV_position_from_IEDB = 'IEDB_NULL'\n",
    "    \n",
    "    #eptitope start/end coordinates from BLASTP\n",
    "    try:\n",
    "        start_Rv_position_from_BLASTP = int( epitope_i_info.loc['peptide start coord from BLAST'] )\n",
    "    except ValueError:\n",
    "        start_Rv_position_from_IEDB = 'BLASTP_NULL'\n",
    "        \n",
    "    try:\n",
    "        end_Rv_positions_from_BLASTP = int( epitope_i_info.loc['peptide end coord from BLAST'] )\n",
    "    except ValueError:\n",
    "        start_Rv_position_from_IEDB = 'BLASTP_NULL'\n",
    "        \n",
    "    \n",
    "    #check to see if both start & end coordinate match, if so keep epitope!\n",
    "    if (start_Rv_position_from_IEDB == start_Rv_position_from_BLASTP) and (end_RV_position_from_IEDB == end_Rv_positions_from_BLASTP):\n",
    "        \n",
    "        accurately_aligned_epitope_indices.append(epitope_i)\n",
    "\n",
    "#SUBSET to accurate alignments\n",
    "iedb_peptide_seqs_aligned_to_H37Rv = iedb_peptide_seqs_aligned_to_H37Rv.loc[accurately_aligned_epitope_indices , :]\n",
    "\n",
    "#reset index\n",
    "iedb_peptide_seqs_aligned_to_H37Rv.reset_index(inplace = True, drop = True)"
   ]
  },
  {
   "cell_type": "code",
   "execution_count": 15,
   "metadata": {},
   "outputs": [
    {
     "data": {
      "text/plain": [
       "(1949, 17)"
      ]
     },
     "execution_count": 15,
     "metadata": {},
     "output_type": "execute_result"
    }
   ],
   "source": [
    "np.shape(iedb_peptide_seqs_aligned_to_H37Rv)"
   ]
  },
  {
   "cell_type": "code",
   "execution_count": 16,
   "metadata": {},
   "outputs": [
    {
     "data": {
      "text/html": [
       "<div>\n",
       "<style>\n",
       "    .dataframe thead tr:only-child th {\n",
       "        text-align: right;\n",
       "    }\n",
       "\n",
       "    .dataframe thead th {\n",
       "        text-align: left;\n",
       "    }\n",
       "\n",
       "    .dataframe tbody tr th {\n",
       "        vertical-align: top;\n",
       "    }\n",
       "</style>\n",
       "<table border=\"1\" class=\"dataframe\">\n",
       "  <thead>\n",
       "    <tr style=\"text-align: right;\">\n",
       "      <th></th>\n",
       "      <th>Epitope IRI</th>\n",
       "      <th>Object Type</th>\n",
       "      <th>Description</th>\n",
       "      <th>Starting Position</th>\n",
       "      <th>Ending Position</th>\n",
       "      <th>Antigen Name</th>\n",
       "      <th>Antigen IRI</th>\n",
       "      <th>Parent Protein</th>\n",
       "      <th>Parent_Protein IRI</th>\n",
       "      <th>Organism Name</th>\n",
       "      <th>Organism IRI</th>\n",
       "      <th>Epitope Comments</th>\n",
       "      <th>Rv position #</th>\n",
       "      <th>H37Rv Homolog</th>\n",
       "      <th>BLAST exp value</th>\n",
       "      <th>peptide start coord from BLAST</th>\n",
       "      <th>peptide end coord from BLAST</th>\n",
       "    </tr>\n",
       "  </thead>\n",
       "  <tbody>\n",
       "    <tr>\n",
       "      <th>0</th>\n",
       "      <td>http://www.iedb.org/epitope/19</td>\n",
       "      <td>Linear peptide</td>\n",
       "      <td>AAAAKLAGLVFPQPPAPIAV</td>\n",
       "      <td>14.0</td>\n",
       "      <td>33.0</td>\n",
       "      <td>CONSERVED HYPOTHETICAL ALANINE RICH PROTEIN</td>\n",
       "      <td>http://www.ncbi.nlm.nih.gov/protein/CAA17970.1</td>\n",
       "      <td>ESX-1 secretion-associated protein EspJ</td>\n",
       "      <td>http://www.uniprot.org/uniprot/P9WJC3</td>\n",
       "      <td>Mycobacterium tuberculosis</td>\n",
       "      <td>http://purl.obolibrary.org/obo/NCBITaxon_1773</td>\n",
       "      <td>The source antigen of this peptide is called R...</td>\n",
       "      <td>14-33</td>\n",
       "      <td>Rv3878</td>\n",
       "      <td>3.51215e-07</td>\n",
       "      <td>14</td>\n",
       "      <td>33</td>\n",
       "    </tr>\n",
       "    <tr>\n",
       "      <th>1</th>\n",
       "      <td>http://www.iedb.org/epitope/35</td>\n",
       "      <td>Linear peptide</td>\n",
       "      <td>AAAGFASKTPANQAISMIDG</td>\n",
       "      <td>284.0</td>\n",
       "      <td>303.0</td>\n",
       "      <td>Phosphate-binding protein pstS 1 precursor</td>\n",
       "      <td>http://www.ncbi.nlm.nih.gov/protein/P15712.1</td>\n",
       "      <td>Phosphate-binding protein PstS 1</td>\n",
       "      <td>http://www.uniprot.org/uniprot/P9WGU1</td>\n",
       "      <td>Mycobacterium tuberculosis</td>\n",
       "      <td>http://purl.obolibrary.org/obo/NCBITaxon_1773</td>\n",
       "      <td>NaN</td>\n",
       "      <td>284-303</td>\n",
       "      <td>Rv0934</td>\n",
       "      <td>9.17075e-08</td>\n",
       "      <td>284</td>\n",
       "      <td>303</td>\n",
       "    </tr>\n",
       "  </tbody>\n",
       "</table>\n",
       "</div>"
      ],
      "text/plain": [
       "                      Epitope IRI     Object Type           Description  \\\n",
       "0  http://www.iedb.org/epitope/19  Linear peptide  AAAAKLAGLVFPQPPAPIAV   \n",
       "1  http://www.iedb.org/epitope/35  Linear peptide  AAAGFASKTPANQAISMIDG   \n",
       "\n",
       "   Starting Position  Ending Position  \\\n",
       "0               14.0             33.0   \n",
       "1              284.0            303.0   \n",
       "\n",
       "                                  Antigen Name  \\\n",
       "0  CONSERVED HYPOTHETICAL ALANINE RICH PROTEIN   \n",
       "1   Phosphate-binding protein pstS 1 precursor   \n",
       "\n",
       "                                      Antigen IRI  \\\n",
       "0  http://www.ncbi.nlm.nih.gov/protein/CAA17970.1   \n",
       "1    http://www.ncbi.nlm.nih.gov/protein/P15712.1   \n",
       "\n",
       "                            Parent Protein  \\\n",
       "0  ESX-1 secretion-associated protein EspJ   \n",
       "1         Phosphate-binding protein PstS 1   \n",
       "\n",
       "                      Parent_Protein IRI               Organism Name  \\\n",
       "0  http://www.uniprot.org/uniprot/P9WJC3  Mycobacterium tuberculosis   \n",
       "1  http://www.uniprot.org/uniprot/P9WGU1  Mycobacterium tuberculosis   \n",
       "\n",
       "                                    Organism IRI  \\\n",
       "0  http://purl.obolibrary.org/obo/NCBITaxon_1773   \n",
       "1  http://purl.obolibrary.org/obo/NCBITaxon_1773   \n",
       "\n",
       "                                    Epitope Comments Rv position #  \\\n",
       "0  The source antigen of this peptide is called R...         14-33   \n",
       "1                                                NaN       284-303   \n",
       "\n",
       "  H37Rv Homolog BLAST exp value peptide start coord from BLAST  \\\n",
       "0        Rv3878     3.51215e-07                             14   \n",
       "1        Rv0934     9.17075e-08                            284   \n",
       "\n",
       "  peptide end coord from BLAST  \n",
       "0                           33  \n",
       "1                          303  "
      ]
     },
     "execution_count": 16,
     "metadata": {},
     "output_type": "execute_result"
    }
   ],
   "source": [
    "iedb_peptide_seqs_aligned_to_H37Rv.head(n=2)"
   ]
  },
  {
   "cell_type": "markdown",
   "metadata": {},
   "source": [
    "#### Get Number of UNIQUE epitopes that aligned to at least 1 AA gene sequence from H37Rv"
   ]
  },
  {
   "cell_type": "code",
   "execution_count": 17,
   "metadata": {},
   "outputs": [
    {
     "name": "stdout",
     "output_type": "stream",
     "text": [
      "1505\n"
     ]
    }
   ],
   "source": [
    "Number_unique_epitopes_aligned = len( set( iedb_peptide_seqs_aligned_to_H37Rv.loc[: , 'Epitope IRI'] ) )\n",
    "print Number_unique_epitopes_aligned"
   ]
  },
  {
   "cell_type": "markdown",
   "metadata": {},
   "source": [
    "#### FILTER out any epitopes associated with Mobile Genetic Elements"
   ]
  },
  {
   "cell_type": "code",
   "execution_count": 18,
   "metadata": {},
   "outputs": [
    {
     "data": {
      "text/plain": [
       "(1949, 17)"
      ]
     },
     "execution_count": 18,
     "metadata": {},
     "output_type": "execute_result"
    }
   ],
   "source": [
    "np.shape(iedb_peptide_seqs_aligned_to_H37Rv)"
   ]
  },
  {
   "cell_type": "code",
   "execution_count": 19,
   "metadata": {},
   "outputs": [],
   "source": [
    "#Get Categories from Comas et. al. 2010 (use to get essential, family-proteins & mobile genetic elements)\n",
    "gene_categories_from_comas_2010 = pd.read_csv( '/n/data1/hms/dbmi/farhat/Roger/inhost_TB_dynamics_project/CSV_files/gene_categories/gene_categories_from_comas_2010.csv' , sep = ',' , names = ['gene_category'])\n",
    "\n",
    "mobile_genetic_element_genes = []\n",
    "\n",
    "#iterate through gene categories from comas et. al. 2010\n",
    "for i in gene_categories_from_comas_2010.index:\n",
    "    \n",
    "    gene_category_list = gene_categories_from_comas_2010.loc[i].values[0].split(' ')\n",
    "    gene = gene_category_list[0]\n",
    "    \n",
    "    if ('transposase' in gene_category_list) or ('integrase' in gene_category_list) or ('phage' in gene_category_list) or ('prophage' in gene_category_list) or ('IS' in gene_category_list) or ('IS1533' in gene_category_list) or ('prophage' in gene_category_list) or ('phiRV1' in gene_category_list) or ('phiRv1' in gene_category_list) or ('phiRv2' in gene_category_list) or ('putative' in gene_category_list): \n",
    "        mobile_genetic_element_genes.append(gene)"
   ]
  },
  {
   "cell_type": "code",
   "execution_count": 20,
   "metadata": {},
   "outputs": [],
   "source": [
    "MGE_filter = [] #filter that stores boolean for whether epitope occurs on MGE or not\n",
    "\n",
    "for epitope_i in iedb_peptide_seqs_aligned_to_H37Rv.index:\n",
    "    \n",
    "    epitope_gene = str( iedb_peptide_seqs_aligned_to_H37Rv.loc[epitope_i , 'H37Rv Homolog'] )\n",
    "    \n",
    "    #check to see if gene epitope aligned to is a Mobile Genetic Element\n",
    "    if epitope_gene in mobile_genetic_element_genes:\n",
    "        \n",
    "        MGE_filter.append(False) #want to drop this epitope later\n",
    "        \n",
    "    else:\n",
    "        \n",
    "        MGE_filter.append(True) #want to keep this epitope later\n",
    "        \n",
    "iedb_peptide_seqs_aligned_to_H37Rv = iedb_peptide_seqs_aligned_to_H37Rv[MGE_filter]"
   ]
  },
  {
   "cell_type": "code",
   "execution_count": 21,
   "metadata": {},
   "outputs": [
    {
     "data": {
      "text/plain": [
       "(1875, 17)"
      ]
     },
     "execution_count": 21,
     "metadata": {},
     "output_type": "execute_result"
    }
   ],
   "source": [
    "np.shape(iedb_peptide_seqs_aligned_to_H37Rv)"
   ]
  },
  {
   "cell_type": "markdown",
   "metadata": {},
   "source": [
    "#### Rename DataFrame"
   ]
  },
  {
   "cell_type": "code",
   "execution_count": 22,
   "metadata": {},
   "outputs": [],
   "source": [
    "iedb_peptide_seqs = iedb_peptide_seqs_aligned_to_H37Rv.copy()"
   ]
  },
  {
   "cell_type": "markdown",
   "metadata": {},
   "source": [
    "Find the start & end genomic coordinates"
   ]
  },
  {
   "cell_type": "code",
   "execution_count": 23,
   "metadata": {},
   "outputs": [],
   "source": [
    "start_peptide_site = pd.Series(name='Genomic_start', index = iedb_peptide_seqs.index)\n",
    "end_peptide_site = pd.Series(name='Genomic_end', index = iedb_peptide_seqs.index)\n",
    "\n",
    "for i in iedb_peptide_seqs.index:\n",
    "    gene_id = iedb_peptide_seqs.loc[i, 'H37Rv Homolog']\n",
    "    \n",
    "    #get first & last peptide position\n",
    "    start_peptide_position = int(iedb_peptide_seqs.loc[i, 'Rv position #'].partition('-')[0])\n",
    "    end_peptide_position = int(iedb_peptide_seqs.loc[i, 'Rv position #'].partition('-')[2])\n",
    "    \n",
    "    #get strand information (+/-)\n",
    "    strand_type = reference_genome_annotation.loc[gene_id, 'strand']\n",
    "    gene_length = reference_genome_annotation.loc[gene_id, 'length']\n",
    "    \n",
    "    if strand_type == '+':\n",
    "        start = start_peptide_position * 3 - 3\n",
    "        end = end_peptide_position * 3\n",
    "        \n",
    "    elif strand_type == '-':\n",
    "        start = gene_length - start_peptide_position * 3 - 3\n",
    "        end = gene_length - end_peptide_position * 3\n",
    "        \n",
    "    start_peptide_site[i] = start\n",
    "    end_peptide_site[i] = end\n",
    "    \n",
    "iedb_peptide_seqs.loc[:, 'start_peptide_genomic_coord'] = start_peptide_site\n",
    "iedb_peptide_seqs.loc[:, 'end_peptide_genomic_coord'] = end_peptide_site"
   ]
  },
  {
   "cell_type": "code",
   "execution_count": 24,
   "metadata": {},
   "outputs": [],
   "source": [
    "#save as csv file\n",
    "iedb_peptide_seqs.to_csv('/n/data1/hms/dbmi/farhat/Roger/inhost_TB_dynamics_project/CSV_files/epitope_peptide_sequences/iedb_epitope_genomic_coordinates_before_filtering_05_23_18.csv', sep = ',')"
   ]
  },
  {
   "cell_type": "markdown",
   "metadata": {},
   "source": [
    "####################################################################################################################"
   ]
  },
  {
   "cell_type": "markdown",
   "metadata": {},
   "source": [
    "Filter out epitopes that don't have a very smalle BLAST exp value and/or whose 'Rv position #' obtained from blasting against the complete peptides of the H37Rv don't match the 'Starting Position' and 'Ending Position' provided from the iedb website."
   ]
  },
  {
   "cell_type": "markdown",
   "metadata": {},
   "source": [
    "Read in csv file that contains genomic coordinate information for all of the epitope peptide sequences (from iedb)"
   ]
  },
  {
   "cell_type": "code",
   "execution_count": 25,
   "metadata": {},
   "outputs": [],
   "source": [
    "iedb_peptide_seqs = pd.read_csv('/n/data1/hms/dbmi/farhat/Roger/inhost_TB_dynamics_project/CSV_files/epitope_peptide_sequences/iedb_epitope_genomic_coordinates_before_filtering_05_23_18.csv', sep = ',').set_index('Epitope IRI')"
   ]
  },
  {
   "cell_type": "code",
   "execution_count": 26,
   "metadata": {},
   "outputs": [
    {
     "data": {
      "text/html": [
       "<div>\n",
       "<style>\n",
       "    .dataframe thead tr:only-child th {\n",
       "        text-align: right;\n",
       "    }\n",
       "\n",
       "    .dataframe thead th {\n",
       "        text-align: left;\n",
       "    }\n",
       "\n",
       "    .dataframe tbody tr th {\n",
       "        vertical-align: top;\n",
       "    }\n",
       "</style>\n",
       "<table border=\"1\" class=\"dataframe\">\n",
       "  <thead>\n",
       "    <tr style=\"text-align: right;\">\n",
       "      <th></th>\n",
       "      <th>Unnamed: 0</th>\n",
       "      <th>Object Type</th>\n",
       "      <th>Description</th>\n",
       "      <th>Starting Position</th>\n",
       "      <th>Ending Position</th>\n",
       "      <th>Antigen Name</th>\n",
       "      <th>Antigen IRI</th>\n",
       "      <th>Parent Protein</th>\n",
       "      <th>Parent_Protein IRI</th>\n",
       "      <th>Organism Name</th>\n",
       "      <th>Organism IRI</th>\n",
       "      <th>Epitope Comments</th>\n",
       "      <th>Rv position #</th>\n",
       "      <th>H37Rv Homolog</th>\n",
       "      <th>BLAST exp value</th>\n",
       "      <th>peptide start coord from BLAST</th>\n",
       "      <th>peptide end coord from BLAST</th>\n",
       "      <th>start_peptide_genomic_coord</th>\n",
       "      <th>end_peptide_genomic_coord</th>\n",
       "    </tr>\n",
       "    <tr>\n",
       "      <th>Epitope IRI</th>\n",
       "      <th></th>\n",
       "      <th></th>\n",
       "      <th></th>\n",
       "      <th></th>\n",
       "      <th></th>\n",
       "      <th></th>\n",
       "      <th></th>\n",
       "      <th></th>\n",
       "      <th></th>\n",
       "      <th></th>\n",
       "      <th></th>\n",
       "      <th></th>\n",
       "      <th></th>\n",
       "      <th></th>\n",
       "      <th></th>\n",
       "      <th></th>\n",
       "      <th></th>\n",
       "      <th></th>\n",
       "      <th></th>\n",
       "    </tr>\n",
       "  </thead>\n",
       "  <tbody>\n",
       "    <tr>\n",
       "      <th>http://www.iedb.org/epitope/19</th>\n",
       "      <td>0</td>\n",
       "      <td>Linear peptide</td>\n",
       "      <td>AAAAKLAGLVFPQPPAPIAV</td>\n",
       "      <td>14.0</td>\n",
       "      <td>33.0</td>\n",
       "      <td>CONSERVED HYPOTHETICAL ALANINE RICH PROTEIN</td>\n",
       "      <td>http://www.ncbi.nlm.nih.gov/protein/CAA17970.1</td>\n",
       "      <td>ESX-1 secretion-associated protein EspJ</td>\n",
       "      <td>http://www.uniprot.org/uniprot/P9WJC3</td>\n",
       "      <td>Mycobacterium tuberculosis</td>\n",
       "      <td>http://purl.obolibrary.org/obo/NCBITaxon_1773</td>\n",
       "      <td>The source antigen of this peptide is called R...</td>\n",
       "      <td>14-33</td>\n",
       "      <td>Rv3878</td>\n",
       "      <td>3.512150e-07</td>\n",
       "      <td>14</td>\n",
       "      <td>33</td>\n",
       "      <td>39.0</td>\n",
       "      <td>99.0</td>\n",
       "    </tr>\n",
       "    <tr>\n",
       "      <th>http://www.iedb.org/epitope/35</th>\n",
       "      <td>1</td>\n",
       "      <td>Linear peptide</td>\n",
       "      <td>AAAGFASKTPANQAISMIDG</td>\n",
       "      <td>284.0</td>\n",
       "      <td>303.0</td>\n",
       "      <td>Phosphate-binding protein pstS 1 precursor</td>\n",
       "      <td>http://www.ncbi.nlm.nih.gov/protein/P15712.1</td>\n",
       "      <td>Phosphate-binding protein PstS 1</td>\n",
       "      <td>http://www.uniprot.org/uniprot/P9WGU1</td>\n",
       "      <td>Mycobacterium tuberculosis</td>\n",
       "      <td>http://purl.obolibrary.org/obo/NCBITaxon_1773</td>\n",
       "      <td>NaN</td>\n",
       "      <td>284-303</td>\n",
       "      <td>Rv0934</td>\n",
       "      <td>9.170750e-08</td>\n",
       "      <td>284</td>\n",
       "      <td>303</td>\n",
       "      <td>849.0</td>\n",
       "      <td>909.0</td>\n",
       "    </tr>\n",
       "  </tbody>\n",
       "</table>\n",
       "</div>"
      ],
      "text/plain": [
       "                                Unnamed: 0     Object Type  \\\n",
       "Epitope IRI                                                  \n",
       "http://www.iedb.org/epitope/19           0  Linear peptide   \n",
       "http://www.iedb.org/epitope/35           1  Linear peptide   \n",
       "\n",
       "                                         Description  Starting Position  \\\n",
       "Epitope IRI                                                               \n",
       "http://www.iedb.org/epitope/19  AAAAKLAGLVFPQPPAPIAV               14.0   \n",
       "http://www.iedb.org/epitope/35  AAAGFASKTPANQAISMIDG              284.0   \n",
       "\n",
       "                                Ending Position  \\\n",
       "Epitope IRI                                       \n",
       "http://www.iedb.org/epitope/19             33.0   \n",
       "http://www.iedb.org/epitope/35            303.0   \n",
       "\n",
       "                                                               Antigen Name  \\\n",
       "Epitope IRI                                                                   \n",
       "http://www.iedb.org/epitope/19  CONSERVED HYPOTHETICAL ALANINE RICH PROTEIN   \n",
       "http://www.iedb.org/epitope/35   Phosphate-binding protein pstS 1 precursor   \n",
       "\n",
       "                                                                   Antigen IRI  \\\n",
       "Epitope IRI                                                                      \n",
       "http://www.iedb.org/epitope/19  http://www.ncbi.nlm.nih.gov/protein/CAA17970.1   \n",
       "http://www.iedb.org/epitope/35    http://www.ncbi.nlm.nih.gov/protein/P15712.1   \n",
       "\n",
       "                                                         Parent Protein  \\\n",
       "Epitope IRI                                                               \n",
       "http://www.iedb.org/epitope/19  ESX-1 secretion-associated protein EspJ   \n",
       "http://www.iedb.org/epitope/35         Phosphate-binding protein PstS 1   \n",
       "\n",
       "                                                   Parent_Protein IRI  \\\n",
       "Epitope IRI                                                             \n",
       "http://www.iedb.org/epitope/19  http://www.uniprot.org/uniprot/P9WJC3   \n",
       "http://www.iedb.org/epitope/35  http://www.uniprot.org/uniprot/P9WGU1   \n",
       "\n",
       "                                             Organism Name  \\\n",
       "Epitope IRI                                                  \n",
       "http://www.iedb.org/epitope/19  Mycobacterium tuberculosis   \n",
       "http://www.iedb.org/epitope/35  Mycobacterium tuberculosis   \n",
       "\n",
       "                                                                 Organism IRI  \\\n",
       "Epitope IRI                                                                     \n",
       "http://www.iedb.org/epitope/19  http://purl.obolibrary.org/obo/NCBITaxon_1773   \n",
       "http://www.iedb.org/epitope/35  http://purl.obolibrary.org/obo/NCBITaxon_1773   \n",
       "\n",
       "                                                                 Epitope Comments  \\\n",
       "Epitope IRI                                                                         \n",
       "http://www.iedb.org/epitope/19  The source antigen of this peptide is called R...   \n",
       "http://www.iedb.org/epitope/35                                                NaN   \n",
       "\n",
       "                               Rv position # H37Rv Homolog  BLAST exp value  \\\n",
       "Epitope IRI                                                                   \n",
       "http://www.iedb.org/epitope/19         14-33        Rv3878     3.512150e-07   \n",
       "http://www.iedb.org/epitope/35       284-303        Rv0934     9.170750e-08   \n",
       "\n",
       "                                peptide start coord from BLAST  \\\n",
       "Epitope IRI                                                      \n",
       "http://www.iedb.org/epitope/19                              14   \n",
       "http://www.iedb.org/epitope/35                             284   \n",
       "\n",
       "                                peptide end coord from BLAST  \\\n",
       "Epitope IRI                                                    \n",
       "http://www.iedb.org/epitope/19                            33   \n",
       "http://www.iedb.org/epitope/35                           303   \n",
       "\n",
       "                                start_peptide_genomic_coord  \\\n",
       "Epitope IRI                                                   \n",
       "http://www.iedb.org/epitope/19                         39.0   \n",
       "http://www.iedb.org/epitope/35                        849.0   \n",
       "\n",
       "                                end_peptide_genomic_coord  \n",
       "Epitope IRI                                                \n",
       "http://www.iedb.org/epitope/19                       99.0  \n",
       "http://www.iedb.org/epitope/35                      909.0  "
      ]
     },
     "execution_count": 26,
     "metadata": {},
     "output_type": "execute_result"
    }
   ],
   "source": [
    "iedb_peptide_seqs.head(n=2)"
   ]
  },
  {
   "cell_type": "markdown",
   "metadata": {},
   "source": [
    "Drop epitopes where Starting Position , Ending Position doesn't line up with same positions from BLASTp\n",
    "\n",
    "(inconsistent BLASTp result despite getting a hit for the epitope peptide sequence, can't accurately find genomic coordinates)"
   ]
  },
  {
   "cell_type": "code",
   "execution_count": 27,
   "metadata": {},
   "outputs": [],
   "source": [
    "plt.style.use('ggplot')\n",
    "plt.rcParams['lines.linewidth']=3\n",
    "plt.rcParams['axes.facecolor']='1.0'\n",
    "plt.rcParams['xtick.color']='black'\n",
    "plt.rcParams['axes.grid']=True\n",
    "plt.rcParams['axes.edgecolor']='black'\n",
    "plt.rcParams['grid.color']= '1.0'\n",
    "plt.rcParams.update({'font.size': 14})"
   ]
  },
  {
   "cell_type": "code",
   "execution_count": 28,
   "metadata": {},
   "outputs": [
    {
     "data": {
      "image/png": "[encoded data removed]",
      "text/plain": [
       "<Figure size 576x360 with 1 Axes>"
      ]
     },
     "metadata": {},
     "output_type": "display_data"
    }
   ],
   "source": [
    "BLAST_p_vals = iedb_peptide_seqs.loc[: , 'BLAST exp value']\n",
    "number_of_hits = len(BLAST_p_vals)\n",
    "\n",
    "fig , ax = plt.subplots()\n",
    "plt.hist(BLAST_p_vals , bins = 40 , color = 'k' , rwidth = 0.7)\n",
    "\n",
    "plt.xlabel('BLAST e-Value', fontweight = 'bold' , fontsize = 13, color = 'k')\n",
    "plt.ylabel('Number of Epitope Hits\\n N = ' + str(number_of_hits), fontweight = 'bold' , fontsize = 13, color = 'k')\n",
    "\n",
    "ax.spines['right'].set_visible(False)\n",
    "ax.spines['top'].set_visible(False)\n",
    "\n",
    "fig = plt.gcf()\n",
    "fig.set_size_inches(8.0, 5)\n",
    "fig.tight_layout()\n",
    "\n",
    "file_name = '/n/data1/hms/dbmi/farhat/Roger/inhost_TB_dynamics_project/figures/IEDB_peptide_summary_figures/IEDB_peptides_BLAST_signif_values.pdf'\n",
    "plt.savefig(file_name, bbox_inches='tight', dpi = 150)\n",
    "\n",
    "plt.show()"
   ]
  },
  {
   "cell_type": "code",
   "execution_count": 29,
   "metadata": {},
   "outputs": [
    {
     "data": {
      "image/png": "[encoded data removed]",
      "text/plain": [
       "<Figure size 576x360 with 1 Axes>"
      ]
     },
     "metadata": {},
     "output_type": "display_data"
    }
   ],
   "source": [
    "BLAST_hit_peptide_lengths = iedb_peptide_seqs.loc[: , 'peptide end coord from BLAST'] - iedb_peptide_seqs.loc[: , 'peptide start coord from BLAST']\n",
    "\n",
    "fig , ax = plt.subplots()\n",
    "plt.hist(BLAST_hit_peptide_lengths , bins = 30 , color = 'k' , rwidth = 0.7)\n",
    "\n",
    "plt.xlabel('Peptide Lengths', fontweight = 'bold' , fontsize = 13, color = 'k')\n",
    "plt.ylabel('Number of Epitope Hits\\n N = ' + str(number_of_hits), fontweight = 'bold' , fontsize = 13, color = 'k')\n",
    "plt.xlim(0 , max(BLAST_hit_peptide_lengths) + 1)\n",
    "\n",
    "ax.spines['right'].set_visible(False)\n",
    "ax.spines['top'].set_visible(False)\n",
    "\n",
    "fig = plt.gcf()\n",
    "fig.set_size_inches(8.0, 5)\n",
    "fig.tight_layout()\n",
    "\n",
    "file_name = '/n/data1/hms/dbmi/farhat/Roger/inhost_TB_dynamics_project/figures/IEDB_peptide_summary_figures/IEDB_peptides_lengths.pdf'\n",
    "plt.savefig(file_name, bbox_inches='tight', dpi = 150)\n",
    "\n",
    "plt.show()"
   ]
  },
  {
   "cell_type": "code",
   "execution_count": 30,
   "metadata": {},
   "outputs": [],
   "source": [
    "peptide_position_filter = []\n",
    "for epitope_id in iedb_peptide_seqs.index:\n",
    "    \n",
    "    start_end_original = iedb_peptide_seqs.loc[epitope_id , ['Starting Position', 'Ending Position']]\n",
    "    start_end_BLASTp = iedb_peptide_seqs.loc[epitope_id , ['peptide start coord from BLAST', 'peptide end coord from BLAST']]\n",
    "    \n",
    "    difference_between_coordinates = np.sum( np.abs( np.array(start_end_original) - np.array(start_end_BLASTp) ) ) \n",
    "    \n",
    "    #no difference in peptide coordinates between IEDB and BLASTp results.\n",
    "    if difference_between_coordinates == 0.0:\n",
    "        peptide_position_filter.append(True)\n",
    "        \n",
    "    else:\n",
    "        #homolgous proteins may be present in other parts of the genome (other than originally identified by IEDB)\n",
    "        peptide_position_filter.append(True)\n",
    "        \n",
    "        #peptide_position_filter.append(False) #strict filter that attempts to match epitope sequences to the regions identified from IEDB\n",
    "        \n",
    "iedb_peptide_seqs_filtered = iedb_peptide_seqs[peptide_position_filter]"
   ]
  },
  {
   "cell_type": "code",
   "execution_count": 31,
   "metadata": {},
   "outputs": [
    {
     "data": {
      "text/plain": [
       "(1875, 19)"
      ]
     },
     "execution_count": 31,
     "metadata": {},
     "output_type": "execute_result"
    }
   ],
   "source": [
    "np.shape(iedb_peptide_seqs_filtered)"
   ]
  },
  {
   "cell_type": "markdown",
   "metadata": {},
   "source": [
    "Drop unnecessary columns and re-index."
   ]
  },
  {
   "cell_type": "code",
   "execution_count": 32,
   "metadata": {},
   "outputs": [],
   "source": [
    "#change column name\n",
    "iedb_peptide_seqs_filtered = iedb_peptide_seqs_filtered.rename(columns = {'Description' : 'Peptide'})\n",
    "\n",
    "iedb_peptide_seqs_filtered_clean = iedb_peptide_seqs_filtered.loc[:, ['Peptide','H37Rv Homolog','Rv position #','start_peptide_genomic_coord','end_peptide_genomic_coord']]\n",
    "\n",
    "#change index\n",
    "iedb_peptide_seqs_filtered_clean.reset_index(inplace = True, drop = True)"
   ]
  },
  {
   "cell_type": "code",
   "execution_count": 33,
   "metadata": {},
   "outputs": [
    {
     "data": {
      "text/plain": [
       "(1875, 5)"
      ]
     },
     "execution_count": 33,
     "metadata": {},
     "output_type": "execute_result"
    }
   ],
   "source": [
    "np.shape(iedb_peptide_seqs_filtered_clean)"
   ]
  },
  {
   "cell_type": "markdown",
   "metadata": {},
   "source": [
    "Number of Antigen Genes (only from most recent IEDB download)"
   ]
  },
  {
   "cell_type": "code",
   "execution_count": 34,
   "metadata": {},
   "outputs": [
    {
     "data": {
      "text/plain": [
       "348"
      ]
     },
     "execution_count": 34,
     "metadata": {},
     "output_type": "execute_result"
    }
   ],
   "source": [
    "antigen_genes = list(set(iedb_peptide_seqs_filtered_clean.loc[:, 'H37Rv Homolog']))\n",
    "len(antigen_genes)"
   ]
  },
  {
   "cell_type": "markdown",
   "metadata": {},
   "source": [
    "Save peptide sequences -> genomic coordinates as csv file\n",
    "\n",
    "[saves the cleaned up dataframe that contains all of the t-cell epitope peptide sequences (and the respective genomic coordinates) from iedb]"
   ]
  },
  {
   "cell_type": "markdown",
   "metadata": {},
   "source": [
    "## Final DataFrame"
   ]
  },
  {
   "cell_type": "code",
   "execution_count": 35,
   "metadata": {},
   "outputs": [
    {
     "data": {
      "text/html": [
       "<div>\n",
       "<style>\n",
       "    .dataframe thead tr:only-child th {\n",
       "        text-align: right;\n",
       "    }\n",
       "\n",
       "    .dataframe thead th {\n",
       "        text-align: left;\n",
       "    }\n",
       "\n",
       "    .dataframe tbody tr th {\n",
       "        vertical-align: top;\n",
       "    }\n",
       "</style>\n",
       "<table border=\"1\" class=\"dataframe\">\n",
       "  <thead>\n",
       "    <tr style=\"text-align: right;\">\n",
       "      <th></th>\n",
       "      <th>Peptide</th>\n",
       "      <th>H37Rv Homolog</th>\n",
       "      <th>Rv position #</th>\n",
       "      <th>start_peptide_genomic_coord</th>\n",
       "      <th>end_peptide_genomic_coord</th>\n",
       "    </tr>\n",
       "  </thead>\n",
       "  <tbody>\n",
       "    <tr>\n",
       "      <th>0</th>\n",
       "      <td>AAAAKLAGLVFPQPPAPIAV</td>\n",
       "      <td>Rv3878</td>\n",
       "      <td>14-33</td>\n",
       "      <td>39.0</td>\n",
       "      <td>99.0</td>\n",
       "    </tr>\n",
       "    <tr>\n",
       "      <th>1</th>\n",
       "      <td>AAAGFASKTPANQAISMIDG</td>\n",
       "      <td>Rv0934</td>\n",
       "      <td>284-303</td>\n",
       "      <td>849.0</td>\n",
       "      <td>909.0</td>\n",
       "    </tr>\n",
       "    <tr>\n",
       "      <th>2</th>\n",
       "      <td>AAASAIQGNVTSIHSL</td>\n",
       "      <td>Rv3875</td>\n",
       "      <td>13-28</td>\n",
       "      <td>36.0</td>\n",
       "      <td>84.0</td>\n",
       "    </tr>\n",
       "    <tr>\n",
       "      <th>3</th>\n",
       "      <td>AADMWGPSSDPAWER</td>\n",
       "      <td>Rv1886c</td>\n",
       "      <td>216-230</td>\n",
       "      <td>327.0</td>\n",
       "      <td>288.0</td>\n",
       "    </tr>\n",
       "    <tr>\n",
       "      <th>4</th>\n",
       "      <td>AAGGHNAVFNFPPNG</td>\n",
       "      <td>Rv1886c</td>\n",
       "      <td>286-300</td>\n",
       "      <td>117.0</td>\n",
       "      <td>78.0</td>\n",
       "    </tr>\n",
       "  </tbody>\n",
       "</table>\n",
       "</div>"
      ],
      "text/plain": [
       "                Peptide H37Rv Homolog Rv position #  \\\n",
       "0  AAAAKLAGLVFPQPPAPIAV        Rv3878         14-33   \n",
       "1  AAAGFASKTPANQAISMIDG        Rv0934       284-303   \n",
       "2      AAASAIQGNVTSIHSL        Rv3875         13-28   \n",
       "3       AADMWGPSSDPAWER       Rv1886c       216-230   \n",
       "4       AAGGHNAVFNFPPNG       Rv1886c       286-300   \n",
       "\n",
       "   start_peptide_genomic_coord  end_peptide_genomic_coord  \n",
       "0                         39.0                       99.0  \n",
       "1                        849.0                      909.0  \n",
       "2                         36.0                       84.0  \n",
       "3                        327.0                      288.0  \n",
       "4                        117.0                       78.0  "
      ]
     },
     "execution_count": 35,
     "metadata": {},
     "output_type": "execute_result"
    }
   ],
   "source": [
    "iedb_peptide_seqs_filtered_clean.head()"
   ]
  },
  {
   "cell_type": "code",
   "execution_count": 36,
   "metadata": {},
   "outputs": [
    {
     "data": {
      "text/html": [
       "<div>\n",
       "<style>\n",
       "    .dataframe thead tr:only-child th {\n",
       "        text-align: right;\n",
       "    }\n",
       "\n",
       "    .dataframe thead th {\n",
       "        text-align: left;\n",
       "    }\n",
       "\n",
       "    .dataframe tbody tr th {\n",
       "        vertical-align: top;\n",
       "    }\n",
       "</style>\n",
       "<table border=\"1\" class=\"dataframe\">\n",
       "  <thead>\n",
       "    <tr style=\"text-align: right;\">\n",
       "      <th></th>\n",
       "      <th>Peptide</th>\n",
       "      <th>H37Rv Homolog</th>\n",
       "      <th>Rv position #</th>\n",
       "      <th>start_peptide_genomic_coord</th>\n",
       "      <th>end_peptide_genomic_coord</th>\n",
       "    </tr>\n",
       "  </thead>\n",
       "  <tbody>\n",
       "    <tr>\n",
       "      <th>1870</th>\n",
       "      <td>TAGVDLAKSLRIAAK</td>\n",
       "      <td>Rv3615c</td>\n",
       "      <td>71-85</td>\n",
       "      <td>96.0</td>\n",
       "      <td>57.0</td>\n",
       "    </tr>\n",
       "    <tr>\n",
       "      <th>1871</th>\n",
       "      <td>TVQPERLGVLASHHD</td>\n",
       "      <td>Rv3615c</td>\n",
       "      <td>6-20</td>\n",
       "      <td>291.0</td>\n",
       "      <td>252.0</td>\n",
       "    </tr>\n",
       "    <tr>\n",
       "      <th>1872</th>\n",
       "      <td>TLLDVAQANLGEAAGTYV</td>\n",
       "      <td>Rv0287</td>\n",
       "      <td>67-84</td>\n",
       "      <td>198.0</td>\n",
       "      <td>252.0</td>\n",
       "    </tr>\n",
       "    <tr>\n",
       "      <th>1873</th>\n",
       "      <td>TLLDVAQANLGEAAGTYV</td>\n",
       "      <td>Rv3020c</td>\n",
       "      <td>67-84</td>\n",
       "      <td>90.0</td>\n",
       "      <td>42.0</td>\n",
       "    </tr>\n",
       "    <tr>\n",
       "      <th>1874</th>\n",
       "      <td>GKAGCQTYKWETFLTSE</td>\n",
       "      <td>Rv3804c</td>\n",
       "      <td>131-147</td>\n",
       "      <td>621.0</td>\n",
       "      <td>576.0</td>\n",
       "    </tr>\n",
       "  </tbody>\n",
       "</table>\n",
       "</div>"
      ],
      "text/plain": [
       "                 Peptide H37Rv Homolog Rv position #  \\\n",
       "1870     TAGVDLAKSLRIAAK       Rv3615c         71-85   \n",
       "1871     TVQPERLGVLASHHD       Rv3615c          6-20   \n",
       "1872  TLLDVAQANLGEAAGTYV        Rv0287         67-84   \n",
       "1873  TLLDVAQANLGEAAGTYV       Rv3020c         67-84   \n",
       "1874   GKAGCQTYKWETFLTSE       Rv3804c       131-147   \n",
       "\n",
       "      start_peptide_genomic_coord  end_peptide_genomic_coord  \n",
       "1870                         96.0                       57.0  \n",
       "1871                        291.0                      252.0  \n",
       "1872                        198.0                      252.0  \n",
       "1873                         90.0                       42.0  \n",
       "1874                        621.0                      576.0  "
      ]
     },
     "execution_count": 36,
     "metadata": {},
     "output_type": "execute_result"
    }
   ],
   "source": [
    "iedb_peptide_seqs_filtered_clean.tail()"
   ]
  },
  {
   "cell_type": "code",
   "execution_count": 37,
   "metadata": {},
   "outputs": [
    {
     "data": {
      "text/plain": [
       "(1875, 5)"
      ]
     },
     "execution_count": 37,
     "metadata": {},
     "output_type": "execute_result"
    }
   ],
   "source": [
    "np.shape(iedb_peptide_seqs_filtered_clean)"
   ]
  },
  {
   "cell_type": "markdown",
   "metadata": {},
   "source": [
    "### Export ALL peptide sequences as CSV file"
   ]
  },
  {
   "cell_type": "code",
   "execution_count": 38,
   "metadata": {},
   "outputs": [],
   "source": [
    "iedb_peptide_seqs_filtered_clean.to_csv('/n/data1/hms/dbmi/farhat/Roger/inhost_TB_dynamics_project/CSV_files/epitope_peptide_sequences/iedb_filtered_epitope_peptides_seqs_and_genomic_coords_05_23_18.csv' ,  sep = ',')"
   ]
  },
  {
   "cell_type": "markdown",
   "metadata": {},
   "source": [
    "Read data back in from CSV file"
   ]
  },
  {
   "cell_type": "code",
   "execution_count": 39,
   "metadata": {},
   "outputs": [],
   "source": [
    "epitope_peptide_seqs_genomic_coords = pd.read_csv('/n/data1/hms/dbmi/farhat/Roger/inhost_TB_dynamics_project/CSV_files/epitope_peptide_sequences/iedb_filtered_epitope_peptides_seqs_and_genomic_coords_05_23_18.csv' ,  sep = ',').set_index('Unnamed: 0')"
   ]
  },
  {
   "cell_type": "code",
   "execution_count": 40,
   "metadata": {},
   "outputs": [
    {
     "data": {
      "text/html": [
       "<div>\n",
       "<style>\n",
       "    .dataframe thead tr:only-child th {\n",
       "        text-align: right;\n",
       "    }\n",
       "\n",
       "    .dataframe thead th {\n",
       "        text-align: left;\n",
       "    }\n",
       "\n",
       "    .dataframe tbody tr th {\n",
       "        vertical-align: top;\n",
       "    }\n",
       "</style>\n",
       "<table border=\"1\" class=\"dataframe\">\n",
       "  <thead>\n",
       "    <tr style=\"text-align: right;\">\n",
       "      <th></th>\n",
       "      <th>Peptide</th>\n",
       "      <th>H37Rv Homolog</th>\n",
       "      <th>Rv position #</th>\n",
       "      <th>start_peptide_genomic_coord</th>\n",
       "      <th>end_peptide_genomic_coord</th>\n",
       "    </tr>\n",
       "    <tr>\n",
       "      <th>Unnamed: 0</th>\n",
       "      <th></th>\n",
       "      <th></th>\n",
       "      <th></th>\n",
       "      <th></th>\n",
       "      <th></th>\n",
       "    </tr>\n",
       "  </thead>\n",
       "  <tbody>\n",
       "    <tr>\n",
       "      <th>0</th>\n",
       "      <td>AAAAKLAGLVFPQPPAPIAV</td>\n",
       "      <td>Rv3878</td>\n",
       "      <td>14-33</td>\n",
       "      <td>39.0</td>\n",
       "      <td>99.0</td>\n",
       "    </tr>\n",
       "    <tr>\n",
       "      <th>1</th>\n",
       "      <td>AAAGFASKTPANQAISMIDG</td>\n",
       "      <td>Rv0934</td>\n",
       "      <td>284-303</td>\n",
       "      <td>849.0</td>\n",
       "      <td>909.0</td>\n",
       "    </tr>\n",
       "    <tr>\n",
       "      <th>2</th>\n",
       "      <td>AAASAIQGNVTSIHSL</td>\n",
       "      <td>Rv3875</td>\n",
       "      <td>13-28</td>\n",
       "      <td>36.0</td>\n",
       "      <td>84.0</td>\n",
       "    </tr>\n",
       "    <tr>\n",
       "      <th>3</th>\n",
       "      <td>AADMWGPSSDPAWER</td>\n",
       "      <td>Rv1886c</td>\n",
       "      <td>216-230</td>\n",
       "      <td>327.0</td>\n",
       "      <td>288.0</td>\n",
       "    </tr>\n",
       "    <tr>\n",
       "      <th>4</th>\n",
       "      <td>AAGGHNAVFNFPPNG</td>\n",
       "      <td>Rv1886c</td>\n",
       "      <td>286-300</td>\n",
       "      <td>117.0</td>\n",
       "      <td>78.0</td>\n",
       "    </tr>\n",
       "  </tbody>\n",
       "</table>\n",
       "</div>"
      ],
      "text/plain": [
       "                         Peptide H37Rv Homolog Rv position #  \\\n",
       "Unnamed: 0                                                     \n",
       "0           AAAAKLAGLVFPQPPAPIAV        Rv3878         14-33   \n",
       "1           AAAGFASKTPANQAISMIDG        Rv0934       284-303   \n",
       "2               AAASAIQGNVTSIHSL        Rv3875         13-28   \n",
       "3                AADMWGPSSDPAWER       Rv1886c       216-230   \n",
       "4                AAGGHNAVFNFPPNG       Rv1886c       286-300   \n",
       "\n",
       "            start_peptide_genomic_coord  end_peptide_genomic_coord  \n",
       "Unnamed: 0                                                          \n",
       "0                                  39.0                       99.0  \n",
       "1                                 849.0                      909.0  \n",
       "2                                  36.0                       84.0  \n",
       "3                                 327.0                      288.0  \n",
       "4                                 117.0                       78.0  "
      ]
     },
     "execution_count": 40,
     "metadata": {},
     "output_type": "execute_result"
    }
   ],
   "source": [
    "epitope_peptide_seqs_genomic_coords.head()"
   ]
  },
  {
   "cell_type": "code",
   "execution_count": null,
   "metadata": {
    "collapsed": true
   },
   "outputs": [],
   "source": []
  }
 ],
 "metadata": {
  "kernelspec": {
   "display_name": "Python 2",
   "language": "python",
   "name": "python2"
  },
  "language_info": {
   "codemirror_mode": {
    "name": "ipython",
    "version": 2
   },
   "file_extension": ".py",
   "mimetype": "text/x-python",
   "name": "python",
   "nbconvert_exporter": "python",
   "pygments_lexer": "ipython2",
   "version": "2.7.16"
  }
 },
 "nbformat": 4,
 "nbformat_minor": 2
}
