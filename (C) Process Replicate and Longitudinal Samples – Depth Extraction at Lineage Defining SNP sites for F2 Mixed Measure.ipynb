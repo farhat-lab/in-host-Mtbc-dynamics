{
 "cells": [
  {
   "cell_type": "markdown",
   "metadata": {},
   "source": [
    "#### This notebook tests & runs the pipeline for extracting the depths at lineage defining SNP sites for sequenced samples (which are then used to evaluate the minor allele frequency and determine if sample is *mixed* via F2 metric)"
   ]
  },
  {
   "cell_type": "code",
   "execution_count": 1,
   "metadata": {},
   "outputs": [
    {
     "data": {
      "text/html": [
       "<style>.container { width:100% !important; }</style>"
      ],
      "text/plain": [
       "<IPython.core.display.HTML object>"
      ]
     },
     "metadata": {},
     "output_type": "display_data"
    }
   ],
   "source": [
    "from IPython.core.display import display, HTML\n",
    "display(HTML(\"<style>.container { width:100% !important; }</style>\"))"
   ]
  },
  {
   "cell_type": "markdown",
   "metadata": {},
   "source": [
    "############################################################################################################################################################################################################################"
   ]
  },
  {
   "cell_type": "markdown",
   "metadata": {},
   "source": [
    "### Prepare script that extracts the depths at lineage defining SNP sites from VCF files"
   ]
  },
  {
   "cell_type": "markdown",
   "metadata": {},
   "source": [
    "############################################################################################################################################################################################################################"
   ]
  },
  {
   "cell_type": "markdown",
   "metadata": {},
   "source": [
    "#### Inputs for Script"
   ]
  },
  {
   "cell_type": "code",
   "execution_count": 6,
   "metadata": {
    "collapsed": true
   },
   "outputs": [],
   "source": [
    "parent_output_dir = sys.argv[1] #INPUT 1 - directory where VCF file for sequenced isolated is stored & filename (ex. '/n/data1/hms/dbmi/farhat/Roger/JankyPipe/output_REPLICATES/')\n",
    "tag = sys.argv[2] #INPUT 2 - sample isolate tag (ex. '02-R1447')"
   ]
  },
  {
   "cell_type": "markdown",
   "metadata": {},
   "source": [
    "#### Import Packages\n"
   ]
  },
  {
   "cell_type": "code",
   "execution_count": 7,
   "metadata": {
    "collapsed": true
   },
   "outputs": [],
   "source": [
    "import vcf\n",
    "import os\n",
    "import pandas as pd\n",
    "import numpy as np\n",
    "from itertools import compress\n",
    "import ast\n",
    "import itertools\n",
    "import time\n",
    "import sys\n",
    "import pickle\n",
    "import shutil\n",
    "\n",
    "import Bio\n",
    "from Bio.Alphabet import IUPAC\n",
    "from Bio.Blast.Applications import NcbiblastnCommandline\n",
    "from Bio.Blast import NCBIXML\n",
    "from Bio.Seq import Seq\n",
    "from Bio.SeqRecord import SeqRecord\n",
    "from Bio.SeqFeature import SeqFeature, FeatureLocation\n",
    "from Bio import pairwise2\n",
    "from Bio import SeqIO\n",
    "from Bio.Graphics import GenomeDiagram\n",
    "from Bio.SeqUtils import GC\n",
    "from Bio.Align.Applications import MuscleCommandline\n",
    "from StringIO import StringIO\n",
    "from Bio import AlignIO\n",
    "from Bio.Align import AlignInfo\n",
    "from Bio.Seq import MutableSeq"
   ]
  },
  {
   "cell_type": "markdown",
   "metadata": {},
   "source": [
    "#### Lineage Defining SNPs"
   ]
  },
  {
   "cell_type": "markdown",
   "metadata": {},
   "source": [
    "Import Lineage Defining SNP sets from **Coll et. al. 2014**"
   ]
  },
  {
   "cell_type": "code",
   "execution_count": 42,
   "metadata": {
    "collapsed": true
   },
   "outputs": [],
   "source": [
    "lineage_defining_SNPs = pd.read_csv('/home/rv76/Farhat_Lab/CSV_files/Coll2014_LinSpeSNPs_final.csv')"
   ]
  },
  {
   "cell_type": "code",
   "execution_count": 43,
   "metadata": {},
   "outputs": [
    {
     "data": {
      "text/html": [
       "<div>\n",
       "<table border=\"1\" class=\"dataframe\">\n",
       "  <thead>\n",
       "    <tr style=\"text-align: right;\">\n",
       "      <th></th>\n",
       "      <th>lineage</th>\n",
       "      <th>position</th>\n",
       "      <th>gene_coordinate</th>\n",
       "      <th>allele_change</th>\n",
       "      <th>codon_number</th>\n",
       "      <th>codon_change</th>\n",
       "      <th>amino_acid_change</th>\n",
       "      <th>locus_Id</th>\n",
       "      <th>gene_name</th>\n",
       "      <th>mutation_type</th>\n",
       "      <th>essential</th>\n",
       "      <th>diagnostic_snp</th>\n",
       "    </tr>\n",
       "  </thead>\n",
       "  <tbody>\n",
       "    <tr>\n",
       "      <th>0</th>\n",
       "      <td>lineage1</td>\n",
       "      <td>6112</td>\n",
       "      <td>873</td>\n",
       "      <td>G/C</td>\n",
       "      <td>291</td>\n",
       "      <td>ATG/ATC</td>\n",
       "      <td>M/I</td>\n",
       "      <td>Rv0005</td>\n",
       "      <td>gyrB</td>\n",
       "      <td>nonsyn</td>\n",
       "      <td>essential</td>\n",
       "      <td>no</td>\n",
       "    </tr>\n",
       "    <tr>\n",
       "      <th>1</th>\n",
       "      <td>lineage1</td>\n",
       "      <td>8452</td>\n",
       "      <td>1151</td>\n",
       "      <td>C/T</td>\n",
       "      <td>384</td>\n",
       "      <td>GCA/GTA</td>\n",
       "      <td>A/V</td>\n",
       "      <td>Rv0006</td>\n",
       "      <td>gyrA</td>\n",
       "      <td>nonsyn</td>\n",
       "      <td>nonessential</td>\n",
       "      <td>no</td>\n",
       "    </tr>\n",
       "    <tr>\n",
       "      <th>2</th>\n",
       "      <td>lineage1</td>\n",
       "      <td>13298</td>\n",
       "      <td>261</td>\n",
       "      <td>G/C</td>\n",
       "      <td>87</td>\n",
       "      <td>ATC/ATG</td>\n",
       "      <td>I/M</td>\n",
       "      <td>Rv0010c</td>\n",
       "      <td>0</td>\n",
       "      <td>nonsyn</td>\n",
       "      <td>nonessential</td>\n",
       "      <td>no</td>\n",
       "    </tr>\n",
       "    <tr>\n",
       "      <th>3</th>\n",
       "      <td>lineage1</td>\n",
       "      <td>22961</td>\n",
       "      <td>221</td>\n",
       "      <td>T/G</td>\n",
       "      <td>74</td>\n",
       "      <td>GAT/GCT</td>\n",
       "      <td>D/A</td>\n",
       "      <td>Rv0018c</td>\n",
       "      <td>pstP</td>\n",
       "      <td>nonsyn</td>\n",
       "      <td>nonessential</td>\n",
       "      <td>no</td>\n",
       "    </tr>\n",
       "    <tr>\n",
       "      <th>4</th>\n",
       "      <td>lineage1</td>\n",
       "      <td>26347</td>\n",
       "      <td>535</td>\n",
       "      <td>C/G</td>\n",
       "      <td>179</td>\n",
       "      <td>GAC/CAC</td>\n",
       "      <td>D/H</td>\n",
       "      <td>Rv0021c</td>\n",
       "      <td>0</td>\n",
       "      <td>nonsyn</td>\n",
       "      <td>nonessential</td>\n",
       "      <td>no</td>\n",
       "    </tr>\n",
       "  </tbody>\n",
       "</table>\n",
       "</div>"
      ],
      "text/plain": [
       "    lineage  position  gene_coordinate allele_change  codon_number  \\\n",
       "0  lineage1      6112              873           G/C           291   \n",
       "1  lineage1      8452             1151           C/T           384   \n",
       "2  lineage1     13298              261           G/C            87   \n",
       "3  lineage1     22961              221           T/G            74   \n",
       "4  lineage1     26347              535           C/G           179   \n",
       "\n",
       "  codon_change amino_acid_change locus_Id gene_name mutation_type  \\\n",
       "0      ATG/ATC               M/I   Rv0005      gyrB        nonsyn   \n",
       "1      GCA/GTA               A/V   Rv0006      gyrA        nonsyn   \n",
       "2      ATC/ATG               I/M  Rv0010c         0        nonsyn   \n",
       "3      GAT/GCT               D/A  Rv0018c      pstP        nonsyn   \n",
       "4      GAC/CAC               D/H  Rv0021c         0        nonsyn   \n",
       "\n",
       "      essential diagnostic_snp  \n",
       "0     essential             no  \n",
       "1  nonessential             no  \n",
       "2  nonessential             no  \n",
       "3  nonessential             no  \n",
       "4  nonessential             no  "
      ]
     },
     "execution_count": 43,
     "metadata": {},
     "output_type": "execute_result"
    }
   ],
   "source": [
    "lineage_defining_SNPs.head()"
   ]
  },
  {
   "cell_type": "code",
   "execution_count": 44,
   "metadata": {},
   "outputs": [
    {
     "data": {
      "text/plain": [
       "(6915, 12)"
      ]
     },
     "execution_count": 44,
     "metadata": {},
     "output_type": "execute_result"
    }
   ],
   "source": [
    "np.shape(lineage_defining_SNPs)"
   ]
  },
  {
   "cell_type": "code",
   "execution_count": 47,
   "metadata": {
    "collapsed": true
   },
   "outputs": [],
   "source": [
    "SNP_per_branch_count = pd.Series( Counter( list( lineage_defining_SNPs.lineage ) ) ).sort_values(ascending = True)"
   ]
  },
  {
   "cell_type": "code",
   "execution_count": 48,
   "metadata": {},
   "outputs": [
    {
     "data": {
      "text/plain": [
       "lineage3.1           1\n",
       "lineage1.2           5\n",
       "lineage4.7          11\n",
       "lineage3.1.2        14\n",
       "lineage4.6          16\n",
       "lineage4.1.2        17\n",
       "lineage4.3.4.2.1    18\n",
       "lineage3.1.2.1      24\n",
       "lineage2.2.1.1      25\n",
       "lineage4.8          25\n",
       "dtype: int64"
      ]
     },
     "execution_count": 48,
     "metadata": {},
     "output_type": "execute_result"
    }
   ],
   "source": [
    "SNP_per_branch_count.head(n=10)"
   ]
  },
  {
   "cell_type": "markdown",
   "metadata": {},
   "source": [
    "According to **Wyllie et. al. 2018**, drop SNP sets corresponding to branches with fewer than 20 SNPs (we are left with 57 branches , not 55 as reported in Wyllie et. al.)"
   ]
  },
  {
   "cell_type": "code",
   "execution_count": 49,
   "metadata": {
    "scrolled": false
   },
   "outputs": [],
   "source": [
    "excluded_branches = ['lineage1.2' , 'lineage3.1' , 'lineage3.1.2' , 'lineage4.1.2' , 'lineage4.3.4.2.1' , 'lineage4.6' , 'lineage4.7']\n",
    "\n",
    "#create a filter to filter out any SNP corresponding to the excluded lineages\n",
    "included_branch_filter = [lineage not in excluded_branches for lineage in lineage_defining_SNPs.lineage]\n",
    "lineage_defining_SNPs = lineage_defining_SNPs[included_branch_filter]\n",
    "lineage_defining_SNPs.reset_index(inplace = True)"
   ]
  },
  {
   "cell_type": "code",
   "execution_count": 50,
   "metadata": {},
   "outputs": [
    {
     "data": {
      "text/plain": [
       "(6833, 13)"
      ]
     },
     "execution_count": 50,
     "metadata": {},
     "output_type": "execute_result"
    }
   ],
   "source": [
    "np.shape(lineage_defining_SNPs)"
   ]
  },
  {
   "cell_type": "markdown",
   "metadata": {},
   "source": [
    "List of branches that we are analyzing"
   ]
  },
  {
   "cell_type": "code",
   "execution_count": 56,
   "metadata": {},
   "outputs": [
    {
     "data": {
      "text/plain": [
       "{'lineage1',\n",
       " 'lineage1.1',\n",
       " 'lineage1.1.1',\n",
       " 'lineage1.1.1.1',\n",
       " 'lineage1.1.2',\n",
       " 'lineage1.1.3',\n",
       " 'lineage1.2.1',\n",
       " 'lineage1.2.2',\n",
       " 'lineage2',\n",
       " 'lineage2.1',\n",
       " 'lineage2.2',\n",
       " 'lineage2.2.1',\n",
       " 'lineage2.2.1.1',\n",
       " 'lineage2.2.1.2',\n",
       " 'lineage2.2.2',\n",
       " 'lineage3',\n",
       " 'lineage3.1.1',\n",
       " 'lineage3.1.2.1',\n",
       " 'lineage3.1.2.2',\n",
       " 'lineage4',\n",
       " 'lineage4.1',\n",
       " 'lineage4.1.1',\n",
       " 'lineage4.1.1.1',\n",
       " 'lineage4.1.1.2',\n",
       " 'lineage4.1.1.3',\n",
       " 'lineage4.1.2.1',\n",
       " 'lineage4.2',\n",
       " 'lineage4.2.1',\n",
       " 'lineage4.2.2',\n",
       " 'lineage4.2.2.1',\n",
       " 'lineage4.3',\n",
       " 'lineage4.3.1',\n",
       " 'lineage4.3.2',\n",
       " 'lineage4.3.2.1',\n",
       " 'lineage4.3.3',\n",
       " 'lineage4.3.4',\n",
       " 'lineage4.3.4.1',\n",
       " 'lineage4.3.4.2',\n",
       " 'lineage4.4',\n",
       " 'lineage4.4.1',\n",
       " 'lineage4.4.1.1',\n",
       " 'lineage4.4.1.2',\n",
       " 'lineage4.4.2',\n",
       " 'lineage4.5',\n",
       " 'lineage4.6.1',\n",
       " 'lineage4.6.1.1',\n",
       " 'lineage4.6.1.2',\n",
       " 'lineage4.6.2',\n",
       " 'lineage4.6.2.1',\n",
       " 'lineage4.6.2.2',\n",
       " 'lineage4.8',\n",
       " 'lineage4.9',\n",
       " 'lineage5',\n",
       " 'lineage6',\n",
       " 'lineage7',\n",
       " 'lineageBOV',\n",
       " 'lineageBOV_AFRI'}"
      ]
     },
     "execution_count": 56,
     "metadata": {},
     "output_type": "execute_result"
    }
   ],
   "source": [
    "set( lineage_defining_SNPs.lineage )"
   ]
  },
  {
   "cell_type": "code",
   "execution_count": 13,
   "metadata": {},
   "outputs": [],
   "source": [
    "def check_call_is_SNP(ref_allele , alt_alleles):\n",
    "    \n",
    "    '''This function checks to see if Call is a SNP and not an InDel or Structural Variant'''\n",
    "    \n",
    "    #check that Reference Allele is 1 base\n",
    "    if len(ref_allele) == 1:\n",
    "        \n",
    "        #check to see if there is no alternate allele\n",
    "        if alt_alleles == [None]:\n",
    "            \n",
    "            good_SNP = True\n",
    "                \n",
    "        #if there is an alternate allele(s) check to see that they are all just 1 base\n",
    "        elif ( sum( [(len(alt_allele) == 1) for alt_allele in alt_alleles] ) == len(alt_alleles) ):\n",
    "            \n",
    "            good_SNP = True\n",
    "            \n",
    "        #at least 1 alternate allele was longer than 1 base\n",
    "        else:\n",
    "            \n",
    "            good_SNP = False\n",
    "    \n",
    "    #reference allele was longer than 1 base        \n",
    "    else:\n",
    "        good_SNP = False\n",
    "            \n",
    "    return good_SNP"
   ]
  },
  {
   "cell_type": "code",
   "execution_count": 28,
   "metadata": {},
   "outputs": [],
   "source": [
    "def get_lineage_defining_SNP_depths(tag , parent_output_dir):\n",
    "\n",
    "    '''\n",
    "    This function takes as input, the isolate tag, then extracts SINGLE base calls from\n",
    "    the VCF file generated by Pilon specified as a lineage defining SNP from Coll et. al. 2014. \n",
    "    The function returns a DataFrame for a single isolate that contains base calling information\n",
    "    for all of these SNP positions.\n",
    "    '''\n",
    "\n",
    "    #path to VCF file\n",
    "    VCF_file = parent_output_dir + tag + '/pilon/' + tag + '.vcf'\n",
    "\n",
    "    vcf_reader = vcf.Reader(open(VCF_file , 'r'))\n",
    "\n",
    "    #create dictionaries to store information for each call\n",
    "    lineage_dict = {}\n",
    "    position_dict = {}\n",
    "    depth_dict = {}\n",
    "    max_base_count_dict = {}\n",
    "\n",
    "    #indexer for dataframe containing lineage defining SNPs\n",
    "    index = 0\n",
    "\n",
    "    #iterate through each record from VCF file\n",
    "    for record in vcf_reader:\n",
    "\n",
    "        #check to see that the record does not correspond to a variant call that is a Structural Variant (SVTYPE)\n",
    "        if 'SVTYPE' not in record.INFO.keys():\n",
    "\n",
    "            #position of variant on the Reference Genome\n",
    "            reference_position = record.POS \n",
    "\n",
    "            #reference allele\n",
    "            ref_allele = record.REF\n",
    "\n",
    "            #alternate alleles (if there are any)\n",
    "            alt_alleles = record.ALT\n",
    "\n",
    "            #check to see if call is at a lineage defining site AND that call is a SNP\n",
    "            if ( reference_position in list( lineage_defining_SNPs.position ) ) and check_call_is_SNP(ref_allele , alt_alleles):\n",
    "\n",
    "                ######## Retrieve Relevant information for filtering quality of Base Call ########\n",
    "                # Mean Base Quality @ locus\n",
    "                BQ = record.INFO['BQ']\n",
    "\n",
    "                # Mean Mapping Quality @ locus\n",
    "                MQ = record.INFO['MQ']\n",
    "\n",
    "                # Number of Reads w/ Deletion \n",
    "                DC = record.INFO['DC']\n",
    "\n",
    "                # Number of Reads w/ Insertion\n",
    "                IC = record.INFO['IC']  \n",
    "                \n",
    "                # Depth of Valid Reads in Pileup\n",
    "                VD = record.INFO['DP']\n",
    "\n",
    "                ### Filtering Criteria\n",
    "                #---> Mean Base Quality > 20\n",
    "                #---> Mean Mapping Quality > 30\n",
    "                #---> No Reads Supporting Insertions\n",
    "                #---> No Reads Supporting Deletions\n",
    "                #---> Number of High Quality Reads >= 25\n",
    "                if (BQ > 20) and (MQ > 30) and (DC == 0) and (IC == 0) and (VD >= 25): #SNP passed filtering criteria!\n",
    "\n",
    "                    # Valid read depth; some reads may have been filtered\n",
    "                    total_depth = record.INFO['DP']\n",
    "\n",
    "                    #Count of As, Cs, Gs, Ts at locus\n",
    "                    base_counts = record.INFO['BC']\n",
    "\n",
    "                    #most common base - depth\n",
    "                    most_common_base_depth = np.max(base_counts)\n",
    "\n",
    "                    #lineage that is defined by SNP\n",
    "                    lineage_defined = list( lineage_defining_SNPs[lineage_defining_SNPs.position == reference_position].lineage )[0]\n",
    "\n",
    "                    #After filtering for high-quality lineage-defining calls, store all of the pertinent information about the Base Call\n",
    "                    lineage_dict[index] = lineage_defined\n",
    "                    position_dict[index] = reference_position\n",
    "                    depth_dict[index] = total_depth\n",
    "                    max_base_count_dict[index] = most_common_base_depth\n",
    "\n",
    "                    index += 1\n",
    "\n",
    "    #convert dictionaries to series\n",
    "    lineage = pd.Series(lineage_dict)\n",
    "    position = pd.Series(position_dict)\n",
    "    depth = pd.Series(depth_dict)\n",
    "    max_base_count = pd.Series(max_base_count_dict)\n",
    "\n",
    "    #create DataFrame to hold all lineage defining SNPs\n",
    "    lineage_SNP_depths_from_sample_DF = pd.DataFrame()\n",
    "    lineage_SNP_depths_from_sample_DF['lineage'] = lineage\n",
    "    lineage_SNP_depths_from_sample_DF['position'] = position\n",
    "    lineage_SNP_depths_from_sample_DF['depth'] = depth\n",
    "    lineage_SNP_depths_from_sample_DF['max_base_count'] = max_base_count\n",
    "\n",
    "    #calculate the minor depth for each SNP site\n",
    "    lineage_SNP_depths_from_sample_DF['minor_depth'] = lineage_SNP_depths_from_sample_DF['depth'] - lineage_SNP_depths_from_sample_DF['max_base_count']\n",
    "\n",
    "    return lineage_SNP_depths_from_sample_DF"
   ]
  },
  {
   "cell_type": "code",
   "execution_count": null,
   "metadata": {
    "collapsed": true
   },
   "outputs": [],
   "source": [
    "lineage_SNP_depths_from_sample_DF = get_lineage_defining_SNP_depths(tag , parent_output_dir)\n",
    "\n",
    "#pickle DataFrame that has total depth & minor depth for all lineage defining SNPs for this isolate\n",
    "lineage_SNP_depths_from_sample_DF.to_pickle(parent_output_dir + tag + '/' + tag + '_lineage_defining_SNP_depths.pkl')"
   ]
  },
  {
   "cell_type": "code",
   "execution_count": null,
   "metadata": {},
   "outputs": [],
   "source": [
    "lineage_SNP_depths_from_sample_DF.head()"
   ]
  },
  {
   "cell_type": "code",
   "execution_count": null,
   "metadata": {},
   "outputs": [],
   "source": [
    "np.shape(lineage_SNP_depths_from_sample_DF)"
   ]
  },
  {
   "cell_type": "markdown",
   "metadata": {},
   "source": [
    "############################################################################################################################################################################################################################"
   ]
  },
  {
   "cell_type": "markdown",
   "metadata": {},
   "source": [
    "### Submit Jobs - Longitudinal Samples"
   ]
  },
  {
   "cell_type": "markdown",
   "metadata": {},
   "source": [
    "############################################################################################################################################################################################################################"
   ]
  },
  {
   "cell_type": "code",
   "execution_count": 6,
   "metadata": {},
   "outputs": [],
   "source": [
    "import os\n",
    "import pandas as pd\n",
    "from slurmpy import Slurm\n",
    "import numpy as np"
   ]
  },
  {
   "cell_type": "markdown",
   "metadata": {},
   "source": [
    "#### Import sample annotation for Longitudinal Samples"
   ]
  },
  {
   "cell_type": "code",
   "execution_count": 7,
   "metadata": {},
   "outputs": [],
   "source": [
    "sample_annotation = pd.read_csv('/n/data1/hms/dbmi/farhat/Roger/inhost_TB_dynamics_project/CSV_files/sample_annotation_files/cetr_casali_walker_trauner_witney_xu_guerra_bryant_fastq_path_names_and_JankyPipe_tags.csv' , sep  = ',').set_index('patient_id')"
   ]
  },
  {
   "cell_type": "code",
   "execution_count": 8,
   "metadata": {},
   "outputs": [
    {
     "data": {
      "text/plain": [
       "(614, 7)"
      ]
     },
     "execution_count": 8,
     "metadata": {},
     "output_type": "execute_result"
    }
   ],
   "source": [
    "np.shape(sample_annotation)"
   ]
  },
  {
   "cell_type": "code",
   "execution_count": 9,
   "metadata": {},
   "outputs": [
    {
     "data": {
      "text/html": [
       "<div>\n",
       "<style>\n",
       "    .dataframe thead tr:only-child th {\n",
       "        text-align: right;\n",
       "    }\n",
       "\n",
       "    .dataframe thead th {\n",
       "        text-align: left;\n",
       "    }\n",
       "\n",
       "    .dataframe tbody tr th {\n",
       "        vertical-align: top;\n",
       "    }\n",
       "</style>\n",
       "<table border=\"1\" class=\"dataframe\">\n",
       "  <thead>\n",
       "    <tr style=\"text-align: right;\">\n",
       "      <th></th>\n",
       "      <th>Unnamed: 0</th>\n",
       "      <th>fastq_files</th>\n",
       "      <th>population</th>\n",
       "      <th>run_ID</th>\n",
       "      <th>sample_ID</th>\n",
       "      <th>sample_order</th>\n",
       "      <th>tag</th>\n",
       "    </tr>\n",
       "    <tr>\n",
       "      <th>patient_id</th>\n",
       "      <th></th>\n",
       "      <th></th>\n",
       "      <th></th>\n",
       "      <th></th>\n",
       "      <th></th>\n",
       "      <th></th>\n",
       "      <th></th>\n",
       "    </tr>\n",
       "  </thead>\n",
       "  <tbody>\n",
       "    <tr>\n",
       "      <th>I0005973-8</th>\n",
       "      <td>0</td>\n",
       "      <td>/n/data1/hms/dbmi/farhat/cetr_strains/good_wgs...</td>\n",
       "      <td>CETR</td>\n",
       "      <td>MQFF00000000</td>\n",
       "      <td>Peru3062</td>\n",
       "      <td>1</td>\n",
       "      <td>Peru3062</td>\n",
       "    </tr>\n",
       "    <tr>\n",
       "      <th>I0005973-8</th>\n",
       "      <td>1</td>\n",
       "      <td>/n/data1/hms/dbmi/farhat/cetr_strains/good_wgs...</td>\n",
       "      <td>CETR</td>\n",
       "      <td>MQKH00000000</td>\n",
       "      <td>Peru3315</td>\n",
       "      <td>2</td>\n",
       "      <td>Peru3315</td>\n",
       "    </tr>\n",
       "    <tr>\n",
       "      <th>I0005229-5</th>\n",
       "      <td>2</td>\n",
       "      <td>/n/data1/hms/dbmi/farhat/cetr_strains/good_wgs...</td>\n",
       "      <td>CETR</td>\n",
       "      <td>MQAO00000000</td>\n",
       "      <td>Peru2908</td>\n",
       "      <td>1</td>\n",
       "      <td>Peru2908</td>\n",
       "    </tr>\n",
       "    <tr>\n",
       "      <th>I0005229-5</th>\n",
       "      <td>3</td>\n",
       "      <td>/n/data1/hms/dbmi/farhat/cetr_strains/good_wgs...</td>\n",
       "      <td>CETR</td>\n",
       "      <td>MQKD00000000</td>\n",
       "      <td>Peru3278</td>\n",
       "      <td>2</td>\n",
       "      <td>Peru3278</td>\n",
       "    </tr>\n",
       "    <tr>\n",
       "      <th>I0005235-2</th>\n",
       "      <td>4</td>\n",
       "      <td>/n/data1/hms/dbmi/farhat/cetr_strains/good_wgs...</td>\n",
       "      <td>CETR</td>\n",
       "      <td>MQBA00000000</td>\n",
       "      <td>Peru2921</td>\n",
       "      <td>1</td>\n",
       "      <td>Peru2921</td>\n",
       "    </tr>\n",
       "  </tbody>\n",
       "</table>\n",
       "</div>"
      ],
      "text/plain": [
       "            Unnamed: 0                                        fastq_files  \\\n",
       "patient_id                                                                  \n",
       "I0005973-8           0  /n/data1/hms/dbmi/farhat/cetr_strains/good_wgs...   \n",
       "I0005973-8           1  /n/data1/hms/dbmi/farhat/cetr_strains/good_wgs...   \n",
       "I0005229-5           2  /n/data1/hms/dbmi/farhat/cetr_strains/good_wgs...   \n",
       "I0005229-5           3  /n/data1/hms/dbmi/farhat/cetr_strains/good_wgs...   \n",
       "I0005235-2           4  /n/data1/hms/dbmi/farhat/cetr_strains/good_wgs...   \n",
       "\n",
       "           population        run_ID sample_ID  sample_order       tag  \n",
       "patient_id                                                             \n",
       "I0005973-8       CETR  MQFF00000000  Peru3062             1  Peru3062  \n",
       "I0005973-8       CETR  MQKH00000000  Peru3315             2  Peru3315  \n",
       "I0005229-5       CETR  MQAO00000000  Peru2908             1  Peru2908  \n",
       "I0005229-5       CETR  MQKD00000000  Peru3278             2  Peru3278  \n",
       "I0005235-2       CETR  MQBA00000000  Peru2921             1  Peru2921  "
      ]
     },
     "execution_count": 9,
     "metadata": {},
     "output_type": "execute_result"
    }
   ],
   "source": [
    "sample_annotation.head()"
   ]
  },
  {
   "cell_type": "code",
   "execution_count": 10,
   "metadata": {},
   "outputs": [],
   "source": [
    "all_sample_tags = list( set( list(sample_annotation.tag) ) )\n",
    "\n",
    "#directory where VCF file for sequenced isolated is stored & filename\n",
    "parent_output_dir = '/n/data1/hms/dbmi/farhat/Roger/inhost_TB_dynamics_project/JankyPipe/output/'"
   ]
  },
  {
   "cell_type": "code",
   "execution_count": null,
   "metadata": {},
   "outputs": [],
   "source": [
    "for sample_tag in all_sample_tags:\n",
    "    \n",
    "    lineage_defining_SNPs_job = 'python /n/data1/hms/dbmi/farhat/Roger/inhost_TB_dynamics_project/python_scripts/lineage_defining_SNP_depths_collection.py ' + parent_output_dir + ' ' + sample_tag\n",
    "\n",
    "    #directory where you want output + error files\n",
    "    os.chdir('/n/data1/hms/dbmi/farhat/Roger/inhost_TB_dynamics_project/SLURM_logs/lineage_defining_SNP_depth_SLURM_logs/')\n",
    "\n",
    "    job_name = sample_tag\n",
    "\n",
    "    s = Slurm(job_name , {'partition':'short' , 'n':'1' , 't':'0-03:00:00' , 'mem-per-cpu':'24G' , 'mail-type':'FAIL' , 'mail-user':'roger_vargas@g.harvard.edu'})\n",
    "\n",
    "    #submits the job\n",
    "    job_id = s.run(lineage_defining_SNPs_job)\n",
    "\n",
    "    print job_name  + ' : ' +  str(lineage_defining_SNPs_job)"
   ]
  },
  {
   "cell_type": "markdown",
   "metadata": {},
   "source": [
    "############################################################################################################################################################################################################################"
   ]
  },
  {
   "cell_type": "markdown",
   "metadata": {},
   "source": [
    "### Submit Jobs - Replicate Samples"
   ]
  },
  {
   "cell_type": "markdown",
   "metadata": {},
   "source": [
    "############################################################################################################################################################################################################################"
   ]
  },
  {
   "cell_type": "code",
   "execution_count": 3,
   "metadata": {},
   "outputs": [],
   "source": [
    "import os\n",
    "import pandas as pd\n",
    "from slurmpy import Slurm\n",
    "import numpy as np"
   ]
  },
  {
   "cell_type": "markdown",
   "metadata": {},
   "source": [
    "#### Import sample annotation for Replicate Samples"
   ]
  },
  {
   "cell_type": "code",
   "execution_count": 4,
   "metadata": {},
   "outputs": [],
   "source": [
    "sample_annotation = pd.read_csv('/n/data1/hms/dbmi/farhat/Roger/inhost_TB_dynamics_project/CSV_files/sample_annotation_files/REPLICATE_fastq_path_names_and_JankyPipe_tags.csv' , sep  = ',').set_index('patient_id')\n",
    "\n",
    "#drop duplicate isolates (may have arisen from Trauner fudging of annotation file)\n",
    "drop_duplicate_isolate_filter = [not redundant for redundant in list( sample_annotation.duplicated('tag') ) ]\n",
    "sample_annotation = sample_annotation[drop_duplicate_isolate_filter]"
   ]
  },
  {
   "cell_type": "code",
   "execution_count": 5,
   "metadata": {},
   "outputs": [
    {
     "data": {
      "text/html": [
       "<div>\n",
       "<style>\n",
       "    .dataframe thead tr:only-child th {\n",
       "        text-align: right;\n",
       "    }\n",
       "\n",
       "    .dataframe thead th {\n",
       "        text-align: left;\n",
       "    }\n",
       "\n",
       "    .dataframe tbody tr th {\n",
       "        vertical-align: top;\n",
       "    }\n",
       "</style>\n",
       "<table border=\"1\" class=\"dataframe\">\n",
       "  <thead>\n",
       "    <tr style=\"text-align: right;\">\n",
       "      <th></th>\n",
       "      <th>Unnamed: 0</th>\n",
       "      <th>fastq_files</th>\n",
       "      <th>population</th>\n",
       "      <th>run_ID</th>\n",
       "      <th>sample_ID</th>\n",
       "      <th>sample_order</th>\n",
       "      <th>tag</th>\n",
       "      <th>successful_run</th>\n",
       "    </tr>\n",
       "    <tr>\n",
       "      <th>patient_id</th>\n",
       "      <th></th>\n",
       "      <th></th>\n",
       "      <th></th>\n",
       "      <th></th>\n",
       "      <th></th>\n",
       "      <th></th>\n",
       "      <th></th>\n",
       "      <th></th>\n",
       "    </tr>\n",
       "  </thead>\n",
       "  <tbody>\n",
       "    <tr>\n",
       "      <th>I0002918-6</th>\n",
       "      <td>0</td>\n",
       "      <td>/n/data1/hms/dbmi/farhat/cetr_strains/good_wgs...</td>\n",
       "      <td>LC_REP</td>\n",
       "      <td>NaN</td>\n",
       "      <td>Peru4092</td>\n",
       "      <td>0</td>\n",
       "      <td>Peru4092</td>\n",
       "      <td>yes</td>\n",
       "    </tr>\n",
       "    <tr>\n",
       "      <th>I0002918-6</th>\n",
       "      <td>1</td>\n",
       "      <td>/n/data1/hms/dbmi/farhat/cetr_strains/good_wgs...</td>\n",
       "      <td>LC_REP</td>\n",
       "      <td>MMMI00000000</td>\n",
       "      <td>Peru3380</td>\n",
       "      <td>0</td>\n",
       "      <td>Peru3380</td>\n",
       "      <td>yes</td>\n",
       "    </tr>\n",
       "    <tr>\n",
       "      <th>I0003710-6</th>\n",
       "      <td>2</td>\n",
       "      <td>/n/data1/hms/dbmi/farhat/cetr_strains/good_wgs...</td>\n",
       "      <td>LC_REP</td>\n",
       "      <td>NaN</td>\n",
       "      <td>Peru2905</td>\n",
       "      <td>0</td>\n",
       "      <td>Peru2905</td>\n",
       "      <td>yes</td>\n",
       "    </tr>\n",
       "    <tr>\n",
       "      <th>I0003710-6</th>\n",
       "      <td>3</td>\n",
       "      <td>/n/data1/hms/dbmi/farhat/cetr_strains/good_wgs...</td>\n",
       "      <td>LC_REP</td>\n",
       "      <td>MMBH00000000</td>\n",
       "      <td>Peru4104</td>\n",
       "      <td>0</td>\n",
       "      <td>Peru4104</td>\n",
       "      <td>yes</td>\n",
       "    </tr>\n",
       "    <tr>\n",
       "      <th>I0003922-7</th>\n",
       "      <td>4</td>\n",
       "      <td>/n/data1/hms/dbmi/farhat/cetr_strains/good_wgs...</td>\n",
       "      <td>LC_REP</td>\n",
       "      <td>NaN</td>\n",
       "      <td>Peru3016</td>\n",
       "      <td>0</td>\n",
       "      <td>Peru3016</td>\n",
       "      <td>yes</td>\n",
       "    </tr>\n",
       "  </tbody>\n",
       "</table>\n",
       "</div>"
      ],
      "text/plain": [
       "            Unnamed: 0                                        fastq_files  \\\n",
       "patient_id                                                                  \n",
       "I0002918-6           0  /n/data1/hms/dbmi/farhat/cetr_strains/good_wgs...   \n",
       "I0002918-6           1  /n/data1/hms/dbmi/farhat/cetr_strains/good_wgs...   \n",
       "I0003710-6           2  /n/data1/hms/dbmi/farhat/cetr_strains/good_wgs...   \n",
       "I0003710-6           3  /n/data1/hms/dbmi/farhat/cetr_strains/good_wgs...   \n",
       "I0003922-7           4  /n/data1/hms/dbmi/farhat/cetr_strains/good_wgs...   \n",
       "\n",
       "           population        run_ID sample_ID  sample_order       tag  \\\n",
       "patient_id                                                              \n",
       "I0002918-6     LC_REP           NaN  Peru4092             0  Peru4092   \n",
       "I0002918-6     LC_REP  MMMI00000000  Peru3380             0  Peru3380   \n",
       "I0003710-6     LC_REP           NaN  Peru2905             0  Peru2905   \n",
       "I0003710-6     LC_REP  MMBH00000000  Peru4104             0  Peru4104   \n",
       "I0003922-7     LC_REP           NaN  Peru3016             0  Peru3016   \n",
       "\n",
       "           successful_run  \n",
       "patient_id                 \n",
       "I0002918-6            yes  \n",
       "I0002918-6            yes  \n",
       "I0003710-6            yes  \n",
       "I0003710-6            yes  \n",
       "I0003922-7            yes  "
      ]
     },
     "execution_count": 5,
     "metadata": {},
     "output_type": "execute_result"
    }
   ],
   "source": [
    "sample_annotation.head()"
   ]
  },
  {
   "cell_type": "code",
   "execution_count": 4,
   "metadata": {
    "collapsed": true
   },
   "outputs": [],
   "source": [
    "all_sample_tags = list( set( list(sample_annotation.tag) ) )\n",
    "\n",
    "#directory where VCF file for sequenced isolated is stored & filename\n",
    "parent_output_dir = '/n/data1/hms/dbmi/farhat/Roger/inhost_TB_dynamics_project/JankyPipe/output_REPLICATES/'"
   ]
  },
  {
   "cell_type": "code",
   "execution_count": 5,
   "metadata": {},
   "outputs": [
    {
     "name": "stderr",
     "output_type": "stream",
     "text": [
      "submitted: Submitted batch job 32096028\n"
     ]
    },
    {
     "name": "stdout",
     "output_type": "stream",
     "text": [
      "Peru4948 : python /home/rv76/Farhat_Lab/Python_Scripts/Final_5/lineage_defining_SNP_depths_collection.py /n/data1/hms/dbmi/farhat/Roger/JankyPipe/output_REPLICATES/ Peru4948\n"
     ]
    },
    {
     "name": "stderr",
     "output_type": "stream",
     "text": [
      "submitted: Submitted batch job 32096029\n",
      "submitted: Submitted batch job 32096030\n",
      "submitted: Submitted batch job 32096031\n",
      "submitted: Submitted batch job 32096032\n",
      "submitted: Submitted batch job 32096033\n"
     ]
    },
    {
     "name": "stdout",
     "output_type": "stream",
     "text": [
      "Peru4679 : python /home/rv76/Farhat_Lab/Python_Scripts/Final_5/lineage_defining_SNP_depths_collection.py /n/data1/hms/dbmi/farhat/Roger/JankyPipe/output_REPLICATES/ Peru4679\n",
      "02-R0848 : python /home/rv76/Farhat_Lab/Python_Scripts/Final_5/lineage_defining_SNP_depths_collection.py /n/data1/hms/dbmi/farhat/Roger/JankyPipe/output_REPLICATES/ 02-R0848\n",
      "Peru4675 : python /home/rv76/Farhat_Lab/Python_Scripts/Final_5/lineage_defining_SNP_depths_collection.py /n/data1/hms/dbmi/farhat/Roger/JankyPipe/output_REPLICATES/ Peru4675\n",
      "Peru4671 : python /home/rv76/Farhat_Lab/Python_Scripts/Final_5/lineage_defining_SNP_depths_collection.py /n/data1/hms/dbmi/farhat/Roger/JankyPipe/output_REPLICATES/ Peru4671\n",
      "Peru4670 : python /home/rv76/Farhat_Lab/Python_Scripts/Final_5/lineage_defining_SNP_depths_collection.py /n/data1/hms/dbmi/farhat/Roger/JankyPipe/output_REPLICATES/ Peru4670\n"
     ]
    },
    {
     "name": "stderr",
     "output_type": "stream",
     "text": [
      "submitted: Submitted batch job 32096034\n",
      "submitted: Submitted batch job 32096035\n",
      "submitted: Submitted batch job 32096036\n",
      "submitted: Submitted batch job 32096037\n",
      "submitted: Submitted batch job 32096038\n"
     ]
    },
    {
     "name": "stdout",
     "output_type": "stream",
     "text": [
      "Peru4672 : python /home/rv76/Farhat_Lab/Python_Scripts/Final_5/lineage_defining_SNP_depths_collection.py /n/data1/hms/dbmi/farhat/Roger/JankyPipe/output_REPLICATES/ Peru4672\n",
      "Peru4963 : python /home/rv76/Farhat_Lab/Python_Scripts/Final_5/lineage_defining_SNP_depths_collection.py /n/data1/hms/dbmi/farhat/Roger/JankyPipe/output_REPLICATES/ Peru4963\n",
      "Peru4967 : python /home/rv76/Farhat_Lab/Python_Scripts/Final_5/lineage_defining_SNP_depths_collection.py /n/data1/hms/dbmi/farhat/Roger/JankyPipe/output_REPLICATES/ Peru4967\n",
      "99-R719 : python /home/rv76/Farhat_Lab/Python_Scripts/Final_5/lineage_defining_SNP_depths_collection.py /n/data1/hms/dbmi/farhat/Roger/JankyPipe/output_REPLICATES/ 99-R719\n",
      "02-R1641 : python /home/rv76/Farhat_Lab/Python_Scripts/Final_5/lineage_defining_SNP_depths_collection.py /n/data1/hms/dbmi/farhat/Roger/JankyPipe/output_REPLICATES/ 02-R1641\n"
     ]
    },
    {
     "name": "stderr",
     "output_type": "stream",
     "text": [
      "submitted: Submitted batch job 32096039\n",
      "submitted: Submitted batch job 32096040\n",
      "submitted: Submitted batch job 32096041\n"
     ]
    },
    {
     "name": "stdout",
     "output_type": "stream",
     "text": [
      "01-R0239 : python /home/rv76/Farhat_Lab/Python_Scripts/Final_5/lineage_defining_SNP_depths_collection.py /n/data1/hms/dbmi/farhat/Roger/JankyPipe/output_REPLICATES/ 01-R0239\n",
      "01-R0238 : python /home/rv76/Farhat_Lab/Python_Scripts/Final_5/lineage_defining_SNP_depths_collection.py /n/data1/hms/dbmi/farhat/Roger/JankyPipe/output_REPLICATES/ 01-R0238\n",
      "01-R1321 : python /home/rv76/Farhat_Lab/Python_Scripts/Final_5/lineage_defining_SNP_depths_collection.py /n/data1/hms/dbmi/farhat/Roger/JankyPipe/output_REPLICATES/ 01-R1321\n"
     ]
    },
    {
     "name": "stderr",
     "output_type": "stream",
     "text": [
      "submitted: Submitted batch job 32096042\n",
      "submitted: Submitted batch job 32096043\n"
     ]
    },
    {
     "name": "stdout",
     "output_type": "stream",
     "text": [
      "01-R0685 : python /home/rv76/Farhat_Lab/Python_Scripts/Final_5/lineage_defining_SNP_depths_collection.py /n/data1/hms/dbmi/farhat/Roger/JankyPipe/output_REPLICATES/ 01-R0685\n",
      "Peru4683 : python /home/rv76/Farhat_Lab/Python_Scripts/Final_5/lineage_defining_SNP_depths_collection.py /n/data1/hms/dbmi/farhat/Roger/JankyPipe/output_REPLICATES/ Peru4683\n"
     ]
    },
    {
     "name": "stderr",
     "output_type": "stream",
     "text": [
      "submitted: Submitted batch job 32096044\n",
      "submitted: Submitted batch job 32096045\n",
      "submitted: Submitted batch job 32096046\n",
      "submitted: Submitted batch job 32096047\n"
     ]
    },
    {
     "name": "stdout",
     "output_type": "stream",
     "text": [
      "Peru4110 : python /home/rv76/Farhat_Lab/Python_Scripts/Final_5/lineage_defining_SNP_depths_collection.py /n/data1/hms/dbmi/farhat/Roger/JankyPipe/output_REPLICATES/ Peru4110\n",
      "Peru4686 : python /home/rv76/Farhat_Lab/Python_Scripts/Final_5/lineage_defining_SNP_depths_collection.py /n/data1/hms/dbmi/farhat/Roger/JankyPipe/output_REPLICATES/ Peru4686\n",
      "Peru4688 : python /home/rv76/Farhat_Lab/Python_Scripts/Final_5/lineage_defining_SNP_depths_collection.py /n/data1/hms/dbmi/farhat/Roger/JankyPipe/output_REPLICATES/ Peru4688\n",
      "Peru4689 : python /home/rv76/Farhat_Lab/Python_Scripts/Final_5/lineage_defining_SNP_depths_collection.py /n/data1/hms/dbmi/farhat/Roger/JankyPipe/output_REPLICATES/ Peru4689\n"
     ]
    },
    {
     "name": "stderr",
     "output_type": "stream",
     "text": [
      "submitted: Submitted batch job 32096048\n",
      "submitted: Submitted batch job 32096049\n",
      "submitted: Submitted batch job 32096050\n",
      "submitted: Submitted batch job 32096051\n",
      "submitted: Submitted batch job 32096052\n"
     ]
    },
    {
     "name": "stdout",
     "output_type": "stream",
     "text": [
      "Peru4919 : python /home/rv76/Farhat_Lab/Python_Scripts/Final_5/lineage_defining_SNP_depths_collection.py /n/data1/hms/dbmi/farhat/Roger/JankyPipe/output_REPLICATES/ Peru4919\n",
      "Peru4914 : python /home/rv76/Farhat_Lab/Python_Scripts/Final_5/lineage_defining_SNP_depths_collection.py /n/data1/hms/dbmi/farhat/Roger/JankyPipe/output_REPLICATES/ Peru4914\n",
      "Peru4911 : python /home/rv76/Farhat_Lab/Python_Scripts/Final_5/lineage_defining_SNP_depths_collection.py /n/data1/hms/dbmi/farhat/Roger/JankyPipe/output_REPLICATES/ Peru4911\n",
      "01-R1505 : python /home/rv76/Farhat_Lab/Python_Scripts/Final_5/lineage_defining_SNP_depths_collection.py /n/data1/hms/dbmi/farhat/Roger/JankyPipe/output_REPLICATES/ 01-R1505\n",
      "Peru5074 : python /home/rv76/Farhat_Lab/Python_Scripts/Final_5/lineage_defining_SNP_depths_collection.py /n/data1/hms/dbmi/farhat/Roger/JankyPipe/output_REPLICATES/ Peru5074\n"
     ]
    },
    {
     "name": "stderr",
     "output_type": "stream",
     "text": [
      "submitted: Submitted batch job 32096053\n",
      "submitted: Submitted batch job 32096054\n",
      "submitted: Submitted batch job 32096055\n",
      "submitted: Submitted batch job 32096056\n",
      "submitted: Submitted batch job 32096057\n"
     ]
    },
    {
     "name": "stdout",
     "output_type": "stream",
     "text": [
      "Peru5146 : python /home/rv76/Farhat_Lab/Python_Scripts/Final_5/lineage_defining_SNP_depths_collection.py /n/data1/hms/dbmi/farhat/Roger/JankyPipe/output_REPLICATES/ Peru5146\n",
      "Peru4994 : python /home/rv76/Farhat_Lab/Python_Scripts/Final_5/lineage_defining_SNP_depths_collection.py /n/data1/hms/dbmi/farhat/Roger/JankyPipe/output_REPLICATES/ Peru4994\n",
      "03-R0319 : python /home/rv76/Farhat_Lab/Python_Scripts/Final_5/lineage_defining_SNP_depths_collection.py /n/data1/hms/dbmi/farhat/Roger/JankyPipe/output_REPLICATES/ 03-R0319\n",
      "Peru4574 : python /home/rv76/Farhat_Lab/Python_Scripts/Final_5/lineage_defining_SNP_depths_collection.py /n/data1/hms/dbmi/farhat/Roger/JankyPipe/output_REPLICATES/ Peru4574\n",
      "Peru4104 : python /home/rv76/Farhat_Lab/Python_Scripts/Final_5/lineage_defining_SNP_depths_collection.py /n/data1/hms/dbmi/farhat/Roger/JankyPipe/output_REPLICATES/ Peru4104\n"
     ]
    },
    {
     "name": "stderr",
     "output_type": "stream",
     "text": [
      "submitted: Submitted batch job 32096058\n"
     ]
    },
    {
     "name": "stdout",
     "output_type": "stream",
     "text": [
      "01-R0185 : python /home/rv76/Farhat_Lab/Python_Scripts/Final_5/lineage_defining_SNP_depths_collection.py /n/data1/hms/dbmi/farhat/Roger/JankyPipe/output_REPLICATES/ 01-R0185\n"
     ]
    },
    {
     "name": "stderr",
     "output_type": "stream",
     "text": [
      "submitted: Submitted batch job 32096059\n",
      "submitted: Submitted batch job 32096060\n",
      "submitted: Submitted batch job 32096061\n",
      "submitted: Submitted batch job 32096062\n",
      "submitted: Submitted batch job 32096063\n"
     ]
    },
    {
     "name": "stdout",
     "output_type": "stream",
     "text": [
      "Peru4694 : python /home/rv76/Farhat_Lab/Python_Scripts/Final_5/lineage_defining_SNP_depths_collection.py /n/data1/hms/dbmi/farhat/Roger/JankyPipe/output_REPLICATES/ Peru4694\n",
      "Peru4519 : python /home/rv76/Farhat_Lab/Python_Scripts/Final_5/lineage_defining_SNP_depths_collection.py /n/data1/hms/dbmi/farhat/Roger/JankyPipe/output_REPLICATES/ Peru4519\n",
      "Peru4698 : python /home/rv76/Farhat_Lab/Python_Scripts/Final_5/lineage_defining_SNP_depths_collection.py /n/data1/hms/dbmi/farhat/Roger/JankyPipe/output_REPLICATES/ Peru4698\n",
      "Peru5137 : python /home/rv76/Farhat_Lab/Python_Scripts/Final_5/lineage_defining_SNP_depths_collection.py /n/data1/hms/dbmi/farhat/Roger/JankyPipe/output_REPLICATES/ Peru5137\n",
      "Peru4908 : python /home/rv76/Farhat_Lab/Python_Scripts/Final_5/lineage_defining_SNP_depths_collection.py /n/data1/hms/dbmi/farhat/Roger/JankyPipe/output_REPLICATES/ Peru4908\n"
     ]
    },
    {
     "name": "stderr",
     "output_type": "stream",
     "text": [
      "submitted: Submitted batch job 32096064\n",
      "submitted: Submitted batch job 32096065\n",
      "submitted: Submitted batch job 32096066\n",
      "submitted: Submitted batch job 32096067\n"
     ]
    },
    {
     "name": "stdout",
     "output_type": "stream",
     "text": [
      "Peru4904 : python /home/rv76/Farhat_Lab/Python_Scripts/Final_5/lineage_defining_SNP_depths_collection.py /n/data1/hms/dbmi/farhat/Roger/JankyPipe/output_REPLICATES/ Peru4904\n",
      "99-R862 : python /home/rv76/Farhat_Lab/Python_Scripts/Final_5/lineage_defining_SNP_depths_collection.py /n/data1/hms/dbmi/farhat/Roger/JankyPipe/output_REPLICATES/ 99-R862\n",
      "00-R1405 : python /home/rv76/Farhat_Lab/Python_Scripts/Final_5/lineage_defining_SNP_depths_collection.py /n/data1/hms/dbmi/farhat/Roger/JankyPipe/output_REPLICATES/ 00-R1405\n",
      "02-R0948 : python /home/rv76/Farhat_Lab/Python_Scripts/Final_5/lineage_defining_SNP_depths_collection.py /n/data1/hms/dbmi/farhat/Roger/JankyPipe/output_REPLICATES/ 02-R0948\n"
     ]
    },
    {
     "name": "stderr",
     "output_type": "stream",
     "text": [
      "submitted: Submitted batch job 32096068\n"
     ]
    },
    {
     "name": "stdout",
     "output_type": "stream",
     "text": [
      "98-R660 : python /home/rv76/Farhat_Lab/Python_Scripts/Final_5/lineage_defining_SNP_depths_collection.py /n/data1/hms/dbmi/farhat/Roger/JankyPipe/output_REPLICATES/ 98-R660\n"
     ]
    },
    {
     "name": "stderr",
     "output_type": "stream",
     "text": [
      "submitted: Submitted batch job 32096069\n",
      "submitted: Submitted batch job 32096070\n",
      "submitted: Submitted batch job 32096071\n",
      "submitted: Submitted batch job 32096072\n",
      "submitted: Submitted batch job 32096073\n",
      "submitted: Submitted batch job 32096074\n"
     ]
    },
    {
     "name": "stdout",
     "output_type": "stream",
     "text": [
      "Peru5443 : python /home/rv76/Farhat_Lab/Python_Scripts/Final_5/lineage_defining_SNP_depths_collection.py /n/data1/hms/dbmi/farhat/Roger/JankyPipe/output_REPLICATES/ Peru5443\n",
      "02-R0417 : python /home/rv76/Farhat_Lab/Python_Scripts/Final_5/lineage_defining_SNP_depths_collection.py /n/data1/hms/dbmi/farhat/Roger/JankyPipe/output_REPLICATES/ 02-R0417\n",
      "03-R0061 : python /home/rv76/Farhat_Lab/Python_Scripts/Final_5/lineage_defining_SNP_depths_collection.py /n/data1/hms/dbmi/farhat/Roger/JankyPipe/output_REPLICATES/ 03-R0061\n",
      "Peru2905 : python /home/rv76/Farhat_Lab/Python_Scripts/Final_5/lineage_defining_SNP_depths_collection.py /n/data1/hms/dbmi/farhat/Roger/JankyPipe/output_REPLICATES/ Peru2905\n",
      "98-R454 : python /home/rv76/Farhat_Lab/Python_Scripts/Final_5/lineage_defining_SNP_depths_collection.py /n/data1/hms/dbmi/farhat/Roger/JankyPipe/output_REPLICATES/ 98-R454\n",
      "01-R1599 : python /home/rv76/Farhat_Lab/Python_Scripts/Final_5/lineage_defining_SNP_depths_collection.py /n/data1/hms/dbmi/farhat/Roger/JankyPipe/output_REPLICATES/ 01-R1599\n"
     ]
    },
    {
     "name": "stderr",
     "output_type": "stream",
     "text": [
      "submitted: Submitted batch job 32096075\n",
      "submitted: Submitted batch job 32096076\n",
      "submitted: Submitted batch job 32096077\n",
      "submitted: Submitted batch job 32096078\n",
      "submitted: Submitted batch job 32096079\n",
      "submitted: Submitted batch job 32096080\n"
     ]
    },
    {
     "name": "stdout",
     "output_type": "stream",
     "text": [
      "02-R0099 : python /home/rv76/Farhat_Lab/Python_Scripts/Final_5/lineage_defining_SNP_depths_collection.py /n/data1/hms/dbmi/farhat/Roger/JankyPipe/output_REPLICATES/ 02-R0099\n",
      "03-R0419 : python /home/rv76/Farhat_Lab/Python_Scripts/Final_5/lineage_defining_SNP_depths_collection.py /n/data1/hms/dbmi/farhat/Roger/JankyPipe/output_REPLICATES/ 03-R0419\n",
      "01-R0290 : python /home/rv76/Farhat_Lab/Python_Scripts/Final_5/lineage_defining_SNP_depths_collection.py /n/data1/hms/dbmi/farhat/Roger/JankyPipe/output_REPLICATES/ 01-R0290\n",
      "02-R1527 : python /home/rv76/Farhat_Lab/Python_Scripts/Final_5/lineage_defining_SNP_depths_collection.py /n/data1/hms/dbmi/farhat/Roger/JankyPipe/output_REPLICATES/ 02-R1527\n",
      "02-R0325 : python /home/rv76/Farhat_Lab/Python_Scripts/Final_5/lineage_defining_SNP_depths_collection.py /n/data1/hms/dbmi/farhat/Roger/JankyPipe/output_REPLICATES/ 02-R0325\n",
      "Peru5420 : python /home/rv76/Farhat_Lab/Python_Scripts/Final_5/lineage_defining_SNP_depths_collection.py /n/data1/hms/dbmi/farhat/Roger/JankyPipe/output_REPLICATES/ Peru5420\n"
     ]
    },
    {
     "name": "stderr",
     "output_type": "stream",
     "text": [
      "submitted: Submitted batch job 32096081\n",
      "submitted: Submitted batch job 32096082\n",
      "submitted: Submitted batch job 32096083\n",
      "submitted: Submitted batch job 32096084\n",
      "submitted: Submitted batch job 32096085\n"
     ]
    },
    {
     "name": "stdout",
     "output_type": "stream",
     "text": [
      "02-R1444 : python /home/rv76/Farhat_Lab/Python_Scripts/Final_5/lineage_defining_SNP_depths_collection.py /n/data1/hms/dbmi/farhat/Roger/JankyPipe/output_REPLICATES/ 02-R1444\n",
      "02-R1683 : python /home/rv76/Farhat_Lab/Python_Scripts/Final_5/lineage_defining_SNP_depths_collection.py /n/data1/hms/dbmi/farhat/Roger/JankyPipe/output_REPLICATES/ 02-R1683\n",
      "02-R0328 : python /home/rv76/Farhat_Lab/Python_Scripts/Final_5/lineage_defining_SNP_depths_collection.py /n/data1/hms/dbmi/farhat/Roger/JankyPipe/output_REPLICATES/ 02-R0328\n",
      "02-R1447 : python /home/rv76/Farhat_Lab/Python_Scripts/Final_5/lineage_defining_SNP_depths_collection.py /n/data1/hms/dbmi/farhat/Roger/JankyPipe/output_REPLICATES/ 02-R1447\n",
      "02-R0812 : python /home/rv76/Farhat_Lab/Python_Scripts/Final_5/lineage_defining_SNP_depths_collection.py /n/data1/hms/dbmi/farhat/Roger/JankyPipe/output_REPLICATES/ 02-R0812\n"
     ]
    },
    {
     "name": "stderr",
     "output_type": "stream",
     "text": [
      "submitted: Submitted batch job 32096086\n",
      "submitted: Submitted batch job 32096087\n",
      "submitted: Submitted batch job 32096088\n",
      "submitted: Submitted batch job 32096089\n",
      "submitted: Submitted batch job 32096090\n",
      "submitted: Submitted batch job 32096091\n"
     ]
    },
    {
     "name": "stdout",
     "output_type": "stream",
     "text": [
      "01-R0902 : python /home/rv76/Farhat_Lab/Python_Scripts/Final_5/lineage_defining_SNP_depths_collection.py /n/data1/hms/dbmi/farhat/Roger/JankyPipe/output_REPLICATES/ 01-R0902\n",
      "ERR1352352 : python /home/rv76/Farhat_Lab/Python_Scripts/Final_5/lineage_defining_SNP_depths_collection.py /n/data1/hms/dbmi/farhat/Roger/JankyPipe/output_REPLICATES/ ERR1352352\n",
      "01-R0904 : python /home/rv76/Farhat_Lab/Python_Scripts/Final_5/lineage_defining_SNP_depths_collection.py /n/data1/hms/dbmi/farhat/Roger/JankyPipe/output_REPLICATES/ 01-R0904\n",
      "ERR1352350 : python /home/rv76/Farhat_Lab/Python_Scripts/Final_5/lineage_defining_SNP_depths_collection.py /n/data1/hms/dbmi/farhat/Roger/JankyPipe/output_REPLICATES/ ERR1352350\n",
      "03-R0979 : python /home/rv76/Farhat_Lab/Python_Scripts/Final_5/lineage_defining_SNP_depths_collection.py /n/data1/hms/dbmi/farhat/Roger/JankyPipe/output_REPLICATES/ 03-R0979\n",
      "01-R0909 : python /home/rv76/Farhat_Lab/Python_Scripts/Final_5/lineage_defining_SNP_depths_collection.py /n/data1/hms/dbmi/farhat/Roger/JankyPipe/output_REPLICATES/ 01-R0909\n"
     ]
    },
    {
     "name": "stderr",
     "output_type": "stream",
     "text": [
      "submitted: Submitted batch job 32096092\n",
      "submitted: Submitted batch job 32096093\n",
      "submitted: Submitted batch job 32096094\n",
      "submitted: Submitted batch job 32096095\n",
      "submitted: Submitted batch job 32096096\n",
      "submitted: Submitted batch job 32096097\n"
     ]
    },
    {
     "name": "stdout",
     "output_type": "stream",
     "text": [
      "01-R0908 : python /home/rv76/Farhat_Lab/Python_Scripts/Final_5/lineage_defining_SNP_depths_collection.py /n/data1/hms/dbmi/farhat/Roger/JankyPipe/output_REPLICATES/ 01-R0908\n",
      "Peru4938 : python /home/rv76/Farhat_Lab/Python_Scripts/Final_5/lineage_defining_SNP_depths_collection.py /n/data1/hms/dbmi/farhat/Roger/JankyPipe/output_REPLICATES/ Peru4938\n",
      "Peru3380 : python /home/rv76/Farhat_Lab/Python_Scripts/Final_5/lineage_defining_SNP_depths_collection.py /n/data1/hms/dbmi/farhat/Roger/JankyPipe/output_REPLICATES/ Peru3380\n",
      "01-R0774 : python /home/rv76/Farhat_Lab/Python_Scripts/Final_5/lineage_defining_SNP_depths_collection.py /n/data1/hms/dbmi/farhat/Roger/JankyPipe/output_REPLICATES/ 01-R0774\n",
      "02-R1645 : python /home/rv76/Farhat_Lab/Python_Scripts/Final_5/lineage_defining_SNP_depths_collection.py /n/data1/hms/dbmi/farhat/Roger/JankyPipe/output_REPLICATES/ 02-R1645\n",
      "00-R0308 : python /home/rv76/Farhat_Lab/Python_Scripts/Final_5/lineage_defining_SNP_depths_collection.py /n/data1/hms/dbmi/farhat/Roger/JankyPipe/output_REPLICATES/ 00-R0308\n"
     ]
    },
    {
     "name": "stderr",
     "output_type": "stream",
     "text": [
      "submitted: Submitted batch job 32096098\n",
      "submitted: Submitted batch job 32096099\n",
      "submitted: Submitted batch job 32096100\n",
      "submitted: Submitted batch job 32096101\n",
      "submitted: Submitted batch job 32096102\n",
      "submitted: Submitted batch job 32096103\n",
      "submitted: Submitted batch job 32096104\n"
     ]
    },
    {
     "name": "stdout",
     "output_type": "stream",
     "text": [
      "Peru5112 : python /home/rv76/Farhat_Lab/Python_Scripts/Final_5/lineage_defining_SNP_depths_collection.py /n/data1/hms/dbmi/farhat/Roger/JankyPipe/output_REPLICATES/ Peru5112\n",
      "00-R0025 : python /home/rv76/Farhat_Lab/Python_Scripts/Final_5/lineage_defining_SNP_depths_collection.py /n/data1/hms/dbmi/farhat/Roger/JankyPipe/output_REPLICATES/ 00-R0025\n",
      "Peru5110 : python /home/rv76/Farhat_Lab/Python_Scripts/Final_5/lineage_defining_SNP_depths_collection.py /n/data1/hms/dbmi/farhat/Roger/JankyPipe/output_REPLICATES/ Peru5110\n",
      "Peru5117 : python /home/rv76/Farhat_Lab/Python_Scripts/Final_5/lineage_defining_SNP_depths_collection.py /n/data1/hms/dbmi/farhat/Roger/JankyPipe/output_REPLICATES/ Peru5117\n",
      "01-R0265 : python /home/rv76/Farhat_Lab/Python_Scripts/Final_5/lineage_defining_SNP_depths_collection.py /n/data1/hms/dbmi/farhat/Roger/JankyPipe/output_REPLICATES/ 01-R0265\n",
      "Peru5119 : python /home/rv76/Farhat_Lab/Python_Scripts/Final_5/lineage_defining_SNP_depths_collection.py /n/data1/hms/dbmi/farhat/Roger/JankyPipe/output_REPLICATES/ Peru5119\n",
      "99-10364 : python /home/rv76/Farhat_Lab/Python_Scripts/Final_5/lineage_defining_SNP_depths_collection.py /n/data1/hms/dbmi/farhat/Roger/JankyPipe/output_REPLICATES/ 99-10364\n"
     ]
    },
    {
     "name": "stderr",
     "output_type": "stream",
     "text": [
      "submitted: Submitted batch job 32096105\n",
      "submitted: Submitted batch job 32096106\n",
      "submitted: Submitted batch job 32096107\n"
     ]
    },
    {
     "name": "stdout",
     "output_type": "stream",
     "text": [
      "01-R0878 : python /home/rv76/Farhat_Lab/Python_Scripts/Final_5/lineage_defining_SNP_depths_collection.py /n/data1/hms/dbmi/farhat/Roger/JankyPipe/output_REPLICATES/ 01-R0878\n",
      "02-R0236 : python /home/rv76/Farhat_Lab/Python_Scripts/Final_5/lineage_defining_SNP_depths_collection.py /n/data1/hms/dbmi/farhat/Roger/JankyPipe/output_REPLICATES/ 02-R0236\n",
      "ERR1352351 : python /home/rv76/Farhat_Lab/Python_Scripts/Final_5/lineage_defining_SNP_depths_collection.py /n/data1/hms/dbmi/farhat/Roger/JankyPipe/output_REPLICATES/ ERR1352351\n"
     ]
    },
    {
     "name": "stderr",
     "output_type": "stream",
     "text": [
      "submitted: Submitted batch job 32096108\n",
      "submitted: Submitted batch job 32096109\n",
      "submitted: Submitted batch job 32096110\n",
      "submitted: Submitted batch job 32096111\n",
      "submitted: Submitted batch job 32096112\n",
      "submitted: Submitted batch job 32096113\n"
     ]
    },
    {
     "name": "stdout",
     "output_type": "stream",
     "text": [
      "02-R1945 : python /home/rv76/Farhat_Lab/Python_Scripts/Final_5/lineage_defining_SNP_depths_collection.py /n/data1/hms/dbmi/farhat/Roger/JankyPipe/output_REPLICATES/ 02-R1945\n",
      "Peru4690 : python /home/rv76/Farhat_Lab/Python_Scripts/Final_5/lineage_defining_SNP_depths_collection.py /n/data1/hms/dbmi/farhat/Roger/JankyPipe/output_REPLICATES/ Peru4690\n",
      "Peru4922 : python /home/rv76/Farhat_Lab/Python_Scripts/Final_5/lineage_defining_SNP_depths_collection.py /n/data1/hms/dbmi/farhat/Roger/JankyPipe/output_REPLICATES/ Peru4922\n",
      "02-R0861 : python /home/rv76/Farhat_Lab/Python_Scripts/Final_5/lineage_defining_SNP_depths_collection.py /n/data1/hms/dbmi/farhat/Roger/JankyPipe/output_REPLICATES/ 02-R0861\n",
      "Peru3016 : python /home/rv76/Farhat_Lab/Python_Scripts/Final_5/lineage_defining_SNP_depths_collection.py /n/data1/hms/dbmi/farhat/Roger/JankyPipe/output_REPLICATES/ Peru3016\n",
      "98-R790 : python /home/rv76/Farhat_Lab/Python_Scripts/Final_5/lineage_defining_SNP_depths_collection.py /n/data1/hms/dbmi/farhat/Roger/JankyPipe/output_REPLICATES/ 98-R790\n"
     ]
    },
    {
     "name": "stderr",
     "output_type": "stream",
     "text": [
      "submitted: Submitted batch job 32096114\n",
      "submitted: Submitted batch job 32096115\n",
      "submitted: Submitted batch job 32096116\n",
      "submitted: Submitted batch job 32096117\n",
      "submitted: Submitted batch job 32096118\n",
      "submitted: Submitted batch job 32096119\n"
     ]
    },
    {
     "name": "stdout",
     "output_type": "stream",
     "text": [
      "00-R1547 : python /home/rv76/Farhat_Lab/Python_Scripts/Final_5/lineage_defining_SNP_depths_collection.py /n/data1/hms/dbmi/farhat/Roger/JankyPipe/output_REPLICATES/ 00-R1547\n",
      "00-R1549 : python /home/rv76/Farhat_Lab/Python_Scripts/Final_5/lineage_defining_SNP_depths_collection.py /n/data1/hms/dbmi/farhat/Roger/JankyPipe/output_REPLICATES/ 00-R1549\n",
      "Peru5434 : python /home/rv76/Farhat_Lab/Python_Scripts/Final_5/lineage_defining_SNP_depths_collection.py /n/data1/hms/dbmi/farhat/Roger/JankyPipe/output_REPLICATES/ Peru5434\n",
      "01-R0272 : python /home/rv76/Farhat_Lab/Python_Scripts/Final_5/lineage_defining_SNP_depths_collection.py /n/data1/hms/dbmi/farhat/Roger/JankyPipe/output_REPLICATES/ 01-R0272\n",
      "Peru5124 : python /home/rv76/Farhat_Lab/Python_Scripts/Final_5/lineage_defining_SNP_depths_collection.py /n/data1/hms/dbmi/farhat/Roger/JankyPipe/output_REPLICATES/ Peru5124\n",
      "01-R0276 : python /home/rv76/Farhat_Lab/Python_Scripts/Final_5/lineage_defining_SNP_depths_collection.py /n/data1/hms/dbmi/farhat/Roger/JankyPipe/output_REPLICATES/ 01-R0276\n"
     ]
    },
    {
     "name": "stderr",
     "output_type": "stream",
     "text": [
      "submitted: Submitted batch job 32096120\n",
      "submitted: Submitted batch job 32096121\n",
      "submitted: Submitted batch job 32096122\n",
      "submitted: Submitted batch job 32096123\n",
      "submitted: Submitted batch job 32096124\n",
      "submitted: Submitted batch job 32096125\n"
     ]
    },
    {
     "name": "stdout",
     "output_type": "stream",
     "text": [
      "Peru5120 : python /home/rv76/Farhat_Lab/Python_Scripts/Final_5/lineage_defining_SNP_depths_collection.py /n/data1/hms/dbmi/farhat/Roger/JankyPipe/output_REPLICATES/ Peru5120\n",
      "Peru4133 : python /home/rv76/Farhat_Lab/Python_Scripts/Final_5/lineage_defining_SNP_depths_collection.py /n/data1/hms/dbmi/farhat/Roger/JankyPipe/output_REPLICATES/ Peru4133\n",
      "01-R0880 : python /home/rv76/Farhat_Lab/Python_Scripts/Final_5/lineage_defining_SNP_depths_collection.py /n/data1/hms/dbmi/farhat/Roger/JankyPipe/output_REPLICATES/ 01-R0880\n",
      "99-R995 : python /home/rv76/Farhat_Lab/Python_Scripts/Final_5/lineage_defining_SNP_depths_collection.py /n/data1/hms/dbmi/farhat/Roger/JankyPipe/output_REPLICATES/ 99-R995\n",
      "01-R1386 : python /home/rv76/Farhat_Lab/Python_Scripts/Final_5/lineage_defining_SNP_depths_collection.py /n/data1/hms/dbmi/farhat/Roger/JankyPipe/output_REPLICATES/ 01-R1386\n",
      "01-R1387 : python /home/rv76/Farhat_Lab/Python_Scripts/Final_5/lineage_defining_SNP_depths_collection.py /n/data1/hms/dbmi/farhat/Roger/JankyPipe/output_REPLICATES/ 01-R1387\n"
     ]
    },
    {
     "name": "stderr",
     "output_type": "stream",
     "text": [
      "submitted: Submitted batch job 32096126\n",
      "submitted: Submitted batch job 32096127\n",
      "submitted: Submitted batch job 32096128\n",
      "submitted: Submitted batch job 32096129\n",
      "submitted: Submitted batch job 32096130\n"
     ]
    },
    {
     "name": "stdout",
     "output_type": "stream",
     "text": [
      "03-R0915 : python /home/rv76/Farhat_Lab/Python_Scripts/Final_5/lineage_defining_SNP_depths_collection.py /n/data1/hms/dbmi/farhat/Roger/JankyPipe/output_REPLICATES/ 03-R0915\n",
      "Peru4722 : python /home/rv76/Farhat_Lab/Python_Scripts/Final_5/lineage_defining_SNP_depths_collection.py /n/data1/hms/dbmi/farhat/Roger/JankyPipe/output_REPLICATES/ Peru4722\n",
      "Peru4720 : python /home/rv76/Farhat_Lab/Python_Scripts/Final_5/lineage_defining_SNP_depths_collection.py /n/data1/hms/dbmi/farhat/Roger/JankyPipe/output_REPLICATES/ Peru4720\n",
      "Peru4726 : python /home/rv76/Farhat_Lab/Python_Scripts/Final_5/lineage_defining_SNP_depths_collection.py /n/data1/hms/dbmi/farhat/Roger/JankyPipe/output_REPLICATES/ Peru4726\n",
      "Peru4953 : python /home/rv76/Farhat_Lab/Python_Scripts/Final_5/lineage_defining_SNP_depths_collection.py /n/data1/hms/dbmi/farhat/Roger/JankyPipe/output_REPLICATES/ Peru4953\n"
     ]
    },
    {
     "name": "stderr",
     "output_type": "stream",
     "text": [
      "submitted: Submitted batch job 32096131\n",
      "submitted: Submitted batch job 32096132\n",
      "submitted: Submitted batch job 32096133\n",
      "submitted: Submitted batch job 32096134\n",
      "submitted: Submitted batch job 32096135\n",
      "submitted: Submitted batch job 32096136\n"
     ]
    },
    {
     "name": "stdout",
     "output_type": "stream",
     "text": [
      "Peru4957 : python /home/rv76/Farhat_Lab/Python_Scripts/Final_5/lineage_defining_SNP_depths_collection.py /n/data1/hms/dbmi/farhat/Roger/JankyPipe/output_REPLICATES/ Peru4957\n",
      "Peru5132 : python /home/rv76/Farhat_Lab/Python_Scripts/Final_5/lineage_defining_SNP_depths_collection.py /n/data1/hms/dbmi/farhat/Roger/JankyPipe/output_REPLICATES/ Peru5132\n",
      "Peru3324 : python /home/rv76/Farhat_Lab/Python_Scripts/Final_5/lineage_defining_SNP_depths_collection.py /n/data1/hms/dbmi/farhat/Roger/JankyPipe/output_REPLICATES/ Peru3324\n",
      "Peru5426 : python /home/rv76/Farhat_Lab/Python_Scripts/Final_5/lineage_defining_SNP_depths_collection.py /n/data1/hms/dbmi/farhat/Roger/JankyPipe/output_REPLICATES/ Peru5426\n",
      "Peru5037 : python /home/rv76/Farhat_Lab/Python_Scripts/Final_5/lineage_defining_SNP_depths_collection.py /n/data1/hms/dbmi/farhat/Roger/JankyPipe/output_REPLICATES/ Peru5037\n",
      "02-R1825 : python /home/rv76/Farhat_Lab/Python_Scripts/Final_5/lineage_defining_SNP_depths_collection.py /n/data1/hms/dbmi/farhat/Roger/JankyPipe/output_REPLICATES/ 02-R1825\n"
     ]
    },
    {
     "name": "stderr",
     "output_type": "stream",
     "text": [
      "submitted: Submitted batch job 32096137\n",
      "submitted: Submitted batch job 32096138\n",
      "submitted: Submitted batch job 32096139\n",
      "submitted: Submitted batch job 32096140\n",
      "submitted: Submitted batch job 32096141\n"
     ]
    },
    {
     "name": "stdout",
     "output_type": "stream",
     "text": [
      "01-R0897 : python /home/rv76/Farhat_Lab/Python_Scripts/Final_5/lineage_defining_SNP_depths_collection.py /n/data1/hms/dbmi/farhat/Roger/JankyPipe/output_REPLICATES/ 01-R0897\n",
      "01-R0899 : python /home/rv76/Farhat_Lab/Python_Scripts/Final_5/lineage_defining_SNP_depths_collection.py /n/data1/hms/dbmi/farhat/Roger/JankyPipe/output_REPLICATES/ 01-R0899\n",
      "02-R0191 : python /home/rv76/Farhat_Lab/Python_Scripts/Final_5/lineage_defining_SNP_depths_collection.py /n/data1/hms/dbmi/farhat/Roger/JankyPipe/output_REPLICATES/ 02-R0191\n",
      "Peru5090 : python /home/rv76/Farhat_Lab/Python_Scripts/Final_5/lineage_defining_SNP_depths_collection.py /n/data1/hms/dbmi/farhat/Roger/JankyPipe/output_REPLICATES/ Peru5090\n",
      "Peru4653 : python /home/rv76/Farhat_Lab/Python_Scripts/Final_5/lineage_defining_SNP_depths_collection.py /n/data1/hms/dbmi/farhat/Roger/JankyPipe/output_REPLICATES/ Peru4653\n"
     ]
    },
    {
     "name": "stderr",
     "output_type": "stream",
     "text": [
      "submitted: Submitted batch job 32096142\n",
      "submitted: Submitted batch job 32096143\n",
      "submitted: Submitted batch job 32096144\n",
      "submitted: Submitted batch job 32096145\n",
      "submitted: Submitted batch job 32096146\n",
      "submitted:"
     ]
    },
    {
     "name": "stdout",
     "output_type": "stream",
     "text": [
      "Peru4719 : python /home/rv76/Farhat_Lab/Python_Scripts/Final_5/lineage_defining_SNP_depths_collection.py /n/data1/hms/dbmi/farhat/Roger/JankyPipe/output_REPLICATES/ Peru4719\n",
      "Peru4716 : python /home/rv76/Farhat_Lab/Python_Scripts/Final_5/lineage_defining_SNP_depths_collection.py /n/data1/hms/dbmi/farhat/Roger/JankyPipe/output_REPLICATES/ Peru4716\n",
      "Peru4714 : python /home/rv76/Farhat_Lab/Python_Scripts/Final_5/lineage_defining_SNP_depths_collection.py /n/data1/hms/dbmi/farhat/Roger/JankyPipe/output_REPLICATES/ Peru4714\n",
      "00-R1562 : python /home/rv76/Farhat_Lab/Python_Scripts/Final_5/lineage_defining_SNP_depths_collection.py /n/data1/hms/dbmi/farhat/Roger/JankyPipe/output_REPLICATES/ 00-R1562\n",
      "01-R1559 : python /home/rv76/Farhat_Lab/Python_Scripts/Final_5/lineage_defining_SNP_depths_collection.py /n/data1/hms/dbmi/farhat/Roger/JankyPipe/output_REPLICATES/ 01-R1559\n"
     ]
    },
    {
     "name": "stderr",
     "output_type": "stream",
     "text": [
      " Submitted batch job 32096147\n",
      "submitted: Submitted batch job 32096148\n",
      "submitted: Submitted batch job 32096149\n",
      "submitted: Submitted batch job 32096150\n",
      "submitted: Submitted batch job 32096151\n",
      "submitted: Submitted batch job 32096152\n"
     ]
    },
    {
     "name": "stdout",
     "output_type": "stream",
     "text": [
      "Peru4659 : python /home/rv76/Farhat_Lab/Python_Scripts/Final_5/lineage_defining_SNP_depths_collection.py /n/data1/hms/dbmi/farhat/Roger/JankyPipe/output_REPLICATES/ Peru4659\n",
      "Peru4711 : python /home/rv76/Farhat_Lab/Python_Scripts/Final_5/lineage_defining_SNP_depths_collection.py /n/data1/hms/dbmi/farhat/Roger/JankyPipe/output_REPLICATES/ Peru4711\n",
      "01-R0153 : python /home/rv76/Farhat_Lab/Python_Scripts/Final_5/lineage_defining_SNP_depths_collection.py /n/data1/hms/dbmi/farhat/Roger/JankyPipe/output_REPLICATES/ 01-R0153\n",
      "Peru5418 : python /home/rv76/Farhat_Lab/Python_Scripts/Final_5/lineage_defining_SNP_depths_collection.py /n/data1/hms/dbmi/farhat/Roger/JankyPipe/output_REPLICATES/ Peru5418\n",
      "Peru4947 : python /home/rv76/Farhat_Lab/Python_Scripts/Final_5/lineage_defining_SNP_depths_collection.py /n/data1/hms/dbmi/farhat/Roger/JankyPipe/output_REPLICATES/ Peru4947\n",
      "99-R887 : python /home/rv76/Farhat_Lab/Python_Scripts/Final_5/lineage_defining_SNP_depths_collection.py /n/data1/hms/dbmi/farhat/Roger/JankyPipe/output_REPLICATES/ 99-R887\n"
     ]
    },
    {
     "name": "stderr",
     "output_type": "stream",
     "text": [
      "submitted: Submitted batch job 32096153\n",
      "submitted: Submitted batch job 32096154\n",
      "submitted: Submitted batch job 32096155\n"
     ]
    },
    {
     "name": "stdout",
     "output_type": "stream",
     "text": [
      "Peru5410 : python /home/rv76/Farhat_Lab/Python_Scripts/Final_5/lineage_defining_SNP_depths_collection.py /n/data1/hms/dbmi/farhat/Roger/JankyPipe/output_REPLICATES/ Peru5410\n",
      "Peru4092 : python /home/rv76/Farhat_Lab/Python_Scripts/Final_5/lineage_defining_SNP_depths_collection.py /n/data1/hms/dbmi/farhat/Roger/JankyPipe/output_REPLICATES/ Peru4092\n",
      "02-R1589 : python /home/rv76/Farhat_Lab/Python_Scripts/Final_5/lineage_defining_SNP_depths_collection.py /n/data1/hms/dbmi/farhat/Roger/JankyPipe/output_REPLICATES/ 02-R1589\n"
     ]
    },
    {
     "name": "stderr",
     "output_type": "stream",
     "text": [
      "submitted: Submitted batch job 32096156\n",
      "submitted: Submitted batch job 32096157\n",
      "submitted: Submitted batch job 32096158\n",
      "submitted: Submitted batch job 32096159\n",
      "submitted: Submitted batch job 32096160\n",
      "submitted: Submitted batch job 32096161\n"
     ]
    },
    {
     "name": "stdout",
     "output_type": "stream",
     "text": [
      "00-R1156 : python /home/rv76/Farhat_Lab/Python_Scripts/Final_5/lineage_defining_SNP_depths_collection.py /n/data1/hms/dbmi/farhat/Roger/JankyPipe/output_REPLICATES/ 00-R1156\n",
      "Peru5414 : python /home/rv76/Farhat_Lab/Python_Scripts/Final_5/lineage_defining_SNP_depths_collection.py /n/data1/hms/dbmi/farhat/Roger/JankyPipe/output_REPLICATES/ Peru5414\n",
      "Peru5143 : python /home/rv76/Farhat_Lab/Python_Scripts/Final_5/lineage_defining_SNP_depths_collection.py /n/data1/hms/dbmi/farhat/Roger/JankyPipe/output_REPLICATES/ Peru5143\n",
      "01-R1018 : python /home/rv76/Farhat_Lab/Python_Scripts/Final_5/lineage_defining_SNP_depths_collection.py /n/data1/hms/dbmi/farhat/Roger/JankyPipe/output_REPLICATES/ 01-R1018\n",
      "02-R1742 : python /home/rv76/Farhat_Lab/Python_Scripts/Final_5/lineage_defining_SNP_depths_collection.py /n/data1/hms/dbmi/farhat/Roger/JankyPipe/output_REPLICATES/ 02-R1742\n",
      "Peru4480 : python /home/rv76/Farhat_Lab/Python_Scripts/Final_5/lineage_defining_SNP_depths_collection.py /n/data1/hms/dbmi/farhat/Roger/JankyPipe/output_REPLICATES/ Peru4480\n"
     ]
    },
    {
     "name": "stderr",
     "output_type": "stream",
     "text": [
      "submitted: Submitted batch job 32096162\n",
      "submitted: Submitted batch job 32096163\n",
      "submitted: Submitted batch job 32096164\n",
      "submitted: Submitted batch job 32096165\n",
      "submitted: Submitted batch job 32096166\n",
      "submitted: Submitted batch job 32096167\n"
     ]
    },
    {
     "name": "stdout",
     "output_type": "stream",
     "text": [
      "Peru5442 : python /home/rv76/Farhat_Lab/Python_Scripts/Final_5/lineage_defining_SNP_depths_collection.py /n/data1/hms/dbmi/farhat/Roger/JankyPipe/output_REPLICATES/ Peru5442\n",
      "01-R1305 : python /home/rv76/Farhat_Lab/Python_Scripts/Final_5/lineage_defining_SNP_depths_collection.py /n/data1/hms/dbmi/farhat/Roger/JankyPipe/output_REPLICATES/ 01-R1305\n",
      "Peru5025 : python /home/rv76/Farhat_Lab/Python_Scripts/Final_5/lineage_defining_SNP_depths_collection.py /n/data1/hms/dbmi/farhat/Roger/JankyPipe/output_REPLICATES/ Peru5025\n",
      "01-R1309 : python /home/rv76/Farhat_Lab/Python_Scripts/Final_5/lineage_defining_SNP_depths_collection.py /n/data1/hms/dbmi/farhat/Roger/JankyPipe/output_REPLICATES/ 01-R1309\n",
      "Peru5029 : python /home/rv76/Farhat_Lab/Python_Scripts/Final_5/lineage_defining_SNP_depths_collection.py /n/data1/hms/dbmi/farhat/Roger/JankyPipe/output_REPLICATES/ Peru5029\n",
      "03-R0221 : python /home/rv76/Farhat_Lab/Python_Scripts/Final_5/lineage_defining_SNP_depths_collection.py /n/data1/hms/dbmi/farhat/Roger/JankyPipe/output_REPLICATES/ 03-R0221\n"
     ]
    },
    {
     "name": "stderr",
     "output_type": "stream",
     "text": [
      "submitted: Submitted batch job 32096168\n",
      "submitted: Submitted batch job 32096169\n",
      "submitted: Submitted batch job 32096170\n",
      "submitted: Submitted batch job 32096171\n",
      "submitted: Submitted batch job 32096172\n",
      "submitted: Submitted batch job 32096173\n"
     ]
    },
    {
     "name": "stdout",
     "output_type": "stream",
     "text": [
      "Peru4668 : python /home/rv76/Farhat_Lab/Python_Scripts/Final_5/lineage_defining_SNP_depths_collection.py /n/data1/hms/dbmi/farhat/Roger/JankyPipe/output_REPLICATES/ Peru4668\n",
      "03-R0324 : python /home/rv76/Farhat_Lab/Python_Scripts/Final_5/lineage_defining_SNP_depths_collection.py /n/data1/hms/dbmi/farhat/Roger/JankyPipe/output_REPLICATES/ 03-R0324\n",
      "Peru4662 : python /home/rv76/Farhat_Lab/Python_Scripts/Final_5/lineage_defining_SNP_depths_collection.py /n/data1/hms/dbmi/farhat/Roger/JankyPipe/output_REPLICATES/ Peru4662\n",
      "Peru5088 : python /home/rv76/Farhat_Lab/Python_Scripts/Final_5/lineage_defining_SNP_depths_collection.py /n/data1/hms/dbmi/farhat/Roger/JankyPipe/output_REPLICATES/ Peru5088\n",
      "Peru4664 : python /home/rv76/Farhat_Lab/Python_Scripts/Final_5/lineage_defining_SNP_depths_collection.py /n/data1/hms/dbmi/farhat/Roger/JankyPipe/output_REPLICATES/ Peru4664\n",
      "Peru4665 : python /home/rv76/Farhat_Lab/Python_Scripts/Final_5/lineage_defining_SNP_depths_collection.py /n/data1/hms/dbmi/farhat/Roger/JankyPipe/output_REPLICATES/ Peru4665\n"
     ]
    },
    {
     "name": "stderr",
     "output_type": "stream",
     "text": [
      "submitted: Submitted batch job 32096174\n",
      "submitted: Submitted batch job 32096175\n",
      "submitted: Submitted batch job 32096176\n",
      "submitted: Submitted batch job 32096177\n",
      "submitted: Submitted batch job 32096178\n"
     ]
    },
    {
     "name": "stdout",
     "output_type": "stream",
     "text": [
      "Peru4700 : python /home/rv76/Farhat_Lab/Python_Scripts/Final_5/lineage_defining_SNP_depths_collection.py /n/data1/hms/dbmi/farhat/Roger/JankyPipe/output_REPLICATES/ Peru4700\n",
      "Peru4703 : python /home/rv76/Farhat_Lab/Python_Scripts/Final_5/lineage_defining_SNP_depths_collection.py /n/data1/hms/dbmi/farhat/Roger/JankyPipe/output_REPLICATES/ Peru4703\n",
      "Peru4702 : python /home/rv76/Farhat_Lab/Python_Scripts/Final_5/lineage_defining_SNP_depths_collection.py /n/data1/hms/dbmi/farhat/Roger/JankyPipe/output_REPLICATES/ Peru4702\n",
      "01-R0737 : python /home/rv76/Farhat_Lab/Python_Scripts/Final_5/lineage_defining_SNP_depths_collection.py /n/data1/hms/dbmi/farhat/Roger/JankyPipe/output_REPLICATES/ 01-R0737\n",
      "Peru4707 : python /home/rv76/Farhat_Lab/Python_Scripts/Final_5/lineage_defining_SNP_depths_collection.py /n/data1/hms/dbmi/farhat/Roger/JankyPipe/output_REPLICATES/ Peru4707\n"
     ]
    },
    {
     "name": "stderr",
     "output_type": "stream",
     "text": [
      "submitted: Submitted batch job 32096179\n",
      "submitted: Submitted batch job 32096180\n",
      "submitted: Submitted batch job 32096181\n",
      "submitted: Submitted batch job 32096182\n",
      "submitted: Submitted batch job 32096183\n"
     ]
    },
    {
     "name": "stdout",
     "output_type": "stream",
     "text": [
      "Peru4706 : python /home/rv76/Farhat_Lab/Python_Scripts/Final_5/lineage_defining_SNP_depths_collection.py /n/data1/hms/dbmi/farhat/Roger/JankyPipe/output_REPLICATES/ Peru4706\n",
      "Peru4709 : python /home/rv76/Farhat_Lab/Python_Scripts/Final_5/lineage_defining_SNP_depths_collection.py /n/data1/hms/dbmi/farhat/Roger/JankyPipe/output_REPLICATES/ Peru4709\n",
      "Peru4977 : python /home/rv76/Farhat_Lab/Python_Scripts/Final_5/lineage_defining_SNP_depths_collection.py /n/data1/hms/dbmi/farhat/Roger/JankyPipe/output_REPLICATES/ Peru4977\n",
      "Peru4974 : python /home/rv76/Farhat_Lab/Python_Scripts/Final_5/lineage_defining_SNP_depths_collection.py /n/data1/hms/dbmi/farhat/Roger/JankyPipe/output_REPLICATES/ Peru4974\n",
      "Peru4972 : python /home/rv76/Farhat_Lab/Python_Scripts/Final_5/lineage_defining_SNP_depths_collection.py /n/data1/hms/dbmi/farhat/Roger/JankyPipe/output_REPLICATES/ Peru4972\n",
      "04-R0266 : python /home/rv76/Farhat_Lab/Python_Scripts/Final_5/lineage_defining_SNP_depths_collection.py /n/data1/hms/dbmi/farhat/Roger/JankyPipe/output_REPLICATES/ 04-R0266\n",
      "99-R545 : python /home/rv76/Farhat_Lab/Python_Scripts/Final_5/lineage_defining_SNP_depths_collection.py /n/data1/hms/dbmi/farhat/Roger/JankyPipe/output_REPLICATES/ 99-R545\n",
      "Peru3343 : python /home/rv76/Farhat_Lab/Python_Scripts/Final_5/lineage_defining_SNP_depths_collection.py /n/data1/hms/dbmi/farhat/Roger/JankyPipe/output_REPLICATES/ Peru3343\n",
      "02-R0119 : python /home/rv76/Farhat_Lab/Python_Scripts/Final_5/lineage_defining_SNP_depths_collection.py /n/data1/hms/dbmi/farhat/Roger/JankyPipe/output_REPLICATES/ 02-R0119\n",
      "01-R0420 : python /home/rv76/Farhat_Lab/Python_Scripts/Final_5/lineage_defining_SNP_depths_collection.py /n/data1/hms/dbmi/farhat/Roger/JankyPipe/output_REPLICATES/ 01-R0420\n"
     ]
    },
    {
     "name": "stderr",
     "output_type": "stream",
     "text": [
      "submitted: Submitted batch job 32096184\n",
      "submitted: Submitted batch job 32096185\n",
      "submitted: Submitted batch job 32096186\n",
      "submitted: Submitted batch job 32096187\n",
      "submitted: Submitted batch job 32096188\n"
     ]
    }
   ],
   "source": [
    "for sample_tag in all_sample_tags:\n",
    "    \n",
    "    lineage_defining_SNPs_job = 'python /n/data1/hms/dbmi/farhat/Roger/inhost_TB_dynamics_project/python_scripts/lineage_defining_SNP_depths_collection.py ' + parent_output_dir + ' ' + sample_tag\n",
    "\n",
    "    #directory where you want output + error files\n",
    "    os.chdir('/n/data1/hms/dbmi/farhat/Roger/inhost_TB_dynamics_project/SLURM_logs/lineage_defining_SNP_depth_SLURM_logs/')\n",
    "\n",
    "    job_name = sample_tag\n",
    "\n",
    "    s = Slurm(job_name , {'partition':'short' , 'n':'1' , 't':'0-03:00:00' , 'mem-per-cpu':'24G' , 'mail-type':'FAIL' , 'mail-user':'roger_vargas@g.harvard.edu'})\n",
    "\n",
    "    #submits the job\n",
    "    job_id = s.run(lineage_defining_SNPs_job)\n",
    "\n",
    "    print job_name  + ' : ' +  str(lineage_defining_SNPs_job)"
   ]
  }
 ],
 "metadata": {
  "kernelspec": {
   "display_name": "Python 2",
   "language": "python",
   "name": "python2"
  },
  "language_info": {
   "codemirror_mode": {
    "name": "ipython",
    "version": 2
   },
   "file_extension": ".py",
   "mimetype": "text/x-python",
   "name": "python",
   "nbconvert_exporter": "python",
   "pygments_lexer": "ipython2",
   "version": "2.7.16"
  }
 },
 "nbformat": 4,
 "nbformat_minor": 2
}
